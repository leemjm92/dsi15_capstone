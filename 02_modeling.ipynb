{
 "cells": [
  {
   "cell_type": "markdown",
   "metadata": {},
   "source": [
    "<img src=\"http://imgur.com/1ZcRyrc.png\" style=\"float: left; margin: 20px; height: 85px\">\n",
    "\n",
    "# Capstone Project \n",
    "\n",
    "# Steering Angle Prediction\n",
    "\n",
    "by: Lee Melvin DSI-15"
   ]
  },
  {
   "cell_type": "markdown",
   "metadata": {},
   "source": [
    "## Notebook 02: Modeling"
   ]
  },
  {
   "cell_type": "markdown",
   "metadata": {},
   "source": [
    "## Content"
   ]
  },
  {
   "cell_type": "markdown",
   "metadata": {},
   "source": [
    "- [Import libraries](#Import-libraries)\n",
    "- [Modeling summary](#Modeling-summary)\n",
    "- [Model 1](#Model-1)\n",
    "    - [Model 1 camera1](#Model-1-camera1)\n",
    "    - [Model 1 camera2](#Model-1-camera2)\n",
    "    - [Model 1 camera3](#Model-1-camera3)\n",
    "    - [Model 1 camera4](#Model-1-camera4)\n",
    "    - [Model 1 camera5](#Model-1-camera5)\n",
    "    - [Model 1 camera6](#Model-1-camera6)\n",
    "    - [Model 1 camera7](#Model-1-camera7)\n",
    "    - [Model 1 camera8](#Model-1-camera8)\n",
    "    - [Model 1 camera9](#Model-1-camera9)\n",
    "- [Model 2](#Model-2)\n",
    "    - [Model 2 camera8](#Model-2-camera8)\n",
    "    - [Model 2 camera1](#Model-2-camera1)\n",
    "    - [Model 2 camera9](#Model-2-camera9)\n",
    "    - [Model 2 camera2](#Model-2-camera2)\n",
    "    - [Model 2 camera3](#Model-2-camera3)\n",
    "    - [Model 2 camera4](#Model-2-camera4)\n",
    "    - [Model 2 camera5](#Model-2-camera5)\n",
    "    - [Model 2 camera6](#Model-2-camera6)\n",
    "    - [Model 2 camera7](#Model-2-camera7)\n",
    "- [Model 3](#Model-3)    \n",
    "    - [Model 3 camera8](#Model-3-camera8)\n",
    "    - [Model 3 camera1](#Model-3-camera1)\n",
    "    - [Model 3 camera9](#Model-3-camera9)\n",
    "    - [Model 3 camera2](#Model-3-camera2)\n",
    "    - [Model 3 camera3](#Model-3-camera3)\n",
    "    - [Model 3 camera4](#Model-3-camera4)\n",
    "    - [Model 3 camera5](#Model-3-camera5)\n",
    "    - [Model 3 camera6](#Model-3-camera6)\n",
    "    - [Model 3 camera7](#Model-3-camera7)"
   ]
  },
  {
   "cell_type": "markdown",
   "metadata": {},
   "source": [
    "## Import libraries"
   ]
  },
  {
   "cell_type": "code",
   "execution_count": 5,
   "metadata": {
    "colab": {},
    "colab_type": "code",
    "id": "c7bjQDUMQsld"
   },
   "outputs": [
    {
     "name": "stderr",
     "output_type": "stream",
     "text": [
      "Using TensorFlow backend.\n"
     ]
    }
   ],
   "source": [
    "import numpy as np\n",
    "import matplotlib.pyplot as plt\n",
    "import pandas as pd\n",
    "from numpy import load\n",
    "from numpy import asarray\n",
    "from numpy import savez_compressed\n",
    "\n",
    "from sklearn.model_selection import train_test_split\n",
    "from keras.models import Sequential\n",
    "from keras.layers import Dense, Dropout, Activation, Flatten\n",
    "from keras.layers import Conv2D, MaxPooling2D\n",
    "from keras.optimizers import Adam\n",
    "from keras.metrics import RootMeanSquaredError\n",
    "from keras.models import load_model\n",
    "from keras.callbacks import *\n",
    "\n",
    "%matplotlib inline"
   ]
  },
  {
   "cell_type": "markdown",
   "metadata": {},
   "source": [
    "## Modeling summary"
   ]
  },
  {
   "cell_type": "markdown",
   "metadata": {},
   "source": [
    "Due to the large dataset I'll be using Google Colab for training. 3 Models architecture were use, the first model was a combinational of using [Nvidia's research](https://developer.nvidia.com/blog/deep-learning-self-driving-cars/) and [comma.ai's research](https://github.com/commaai/research). The second model utilises the full architecture of [comma.ai's research](https://github.com/commaai/research). The last model was with a tweak activation layer from comma.ai's `ELU` to `ReLU`.\n",
    "\n",
    "The model will be trained with 9 different batches of datasets from `camera1` to `camera9`. I started experimenting with the dataset training order for model 2 and 3. They both utilise the following pattern:\n",
    "\n",
    "- 1st: `camera8`, `day` \n",
    "- 2nd: `camera1`, `day` \n",
    "- 3rd: `camera9`, `night` \n",
    "- 4th: `camera2`, `day`\n",
    "- 5th: `camera3`, `night` \n",
    "- 6th: `camera4`, `day` \n",
    "- 7th: `camera5`, `day` \n",
    "- 8th: `camera6`, `night` \n",
    "- 9th: `camera7`, `day`\n",
    "\n",
    "In hindsight it was foolish to do so as I shouldn't expected the model to have any preference for sequence of data being feed in as the weights will adjust accordingly when new data is fed in. Each individual dataset goes through the following steps:\n",
    "\n",
    "- `camera{number}_cleaned.npz` is loaded and goes through `camera_processing` function\n",
    "- `log{number}_cleaned.csv` is loaded and goes through `log_processing` function\n",
    "- Both the `camera` and `log` files are then goes through `train_split` function\n",
    "- Using the `train_load` function the `train_test_split` data is loaded\n",
    "- Model is instantiated and checkpoints are set\n",
    "- History of model is saved for analysis\n",
    "- The steps are then repeated for each individual batch of data\n",
    "- For model 2 and 3 only steps from `train_load` function onwards is used as the dataset has already been split and saved\n",
    "\n",
    "For subsequent models 2 and 3, I notice from model 1 that majority of the dataset `val_loss` starts to plateau around 30 epochs, hence, I take that as the measurement for subsequent models.\n",
    "\n",
    "- `Model 1` is trained with `100 epochs` per dataset\n",
    "- `Model 2` is trained with `30 epochs` per dataset\n",
    "- `Model 3` is trained with `30 epochs` per dataset"
   ]
  },
  {
   "cell_type": "markdown",
   "metadata": {},
   "source": [
    "## Model 1"
   ]
  },
  {
   "cell_type": "markdown",
   "metadata": {},
   "source": [
    "### Model 1 camera1"
   ]
  },
  {
   "cell_type": "code",
   "execution_count": null,
   "metadata": {
    "colab": {
     "base_uri": "https://localhost:8080/",
     "height": 122
    },
    "colab_type": "code",
    "executionInfo": {
     "elapsed": 23677,
     "status": "ok",
     "timestamp": 1596594230488,
     "user": {
      "displayName": "Tay Khim",
      "photoUrl": "",
      "userId": "00177423956135587504"
     },
     "user_tz": -480
    },
    "id": "hNJ5lbfWQiQN",
    "outputId": "4e2ddb11-c72c-43b2-9d3e-463e1cdb34ac",
    "scrolled": false
   },
   "outputs": [
    {
     "name": "stdout",
     "output_type": "stream",
     "text": [
      "Go to this URL in a browser: https://accounts.google.com/o/oauth2/auth?client_id=947318989803-6bn6qk8qdgf4n4g3pfee6491hc0brc4i.apps.googleusercontent.com&redirect_uri=urn%3aietf%3awg%3aoauth%3a2.0%3aoob&response_type=code&scope=email%20https%3a%2f%2fwww.googleapis.com%2fauth%2fdocs.test%20https%3a%2f%2fwww.googleapis.com%2fauth%2fdrive%20https%3a%2f%2fwww.googleapis.com%2fauth%2fdrive.photos.readonly%20https%3a%2f%2fwww.googleapis.com%2fauth%2fpeopleapi.readonly\n",
      "\n",
      "Enter your authorization code:\n",
      "··········\n",
      "Mounted at /content/drive\n"
     ]
    }
   ],
   "source": [
    "\"\"\"\n",
    "I'll be training using Google Colab, my compressed cleaned data set from notebook 01 are saved into Google drive. Using the \n",
    "2 lines of code below we are able to mount Google drive to Google Colab's Virtual Machine\n",
    "\n",
    "from google.colab import drive\n",
    "drive.mount('/content/drive')\n",
    "\n",
    "\"\"\""
   ]
  },
  {
   "cell_type": "code",
   "execution_count": 1,
   "metadata": {
    "colab": {},
    "colab_type": "code",
    "id": "UwFrdp3mFZOl"
   },
   "outputs": [],
   "source": [
    "def camera_processing(camera_file, file_name):\n",
    "\n",
    "    # camera file as .npz file \n",
    "    camera = camera_file.f.arr_0\n",
    "    # convert to float type to prevent error\n",
    "    camera = camera.astype('float32')\n",
    "    # regularise the pixel count\n",
    "    camera = camera/255    \n",
    "    # reshape the array to include 1 channel\n",
    "    camera = camera.reshape(camera.shape[0], camera.shape[1], camera.shape[2], 1)\n",
    "    # save the file into compressed .npz format again due to RAM management\n",
    "    savez_compressed(f'/content/drive/My Drive/datasets/{file_name}_train', camera)\n",
    "\n",
    "    return print('Done')"
   ]
  },
  {
   "cell_type": "code",
   "execution_count": 2,
   "metadata": {
    "colab": {},
    "colab_type": "code",
    "id": "_9XhT7WDHcjB"
   },
   "outputs": [],
   "source": [
    "def log_processing(log_file, file_name):\n",
    "    # convert steering angle from degree to radian\n",
    "    log_file['steering_avg_radian'] = log_file['steering_avg'] * np.pi / 180\n",
    "    # save the file to .csv again due to RAM management\n",
    "    log_file.to_csv(f'/content/drive/My Drive/datasets/{file_name}_train.csv')\n",
    "\n",
    "    return print('Done')"
   ]
  },
  {
   "cell_type": "code",
   "execution_count": 3,
   "metadata": {
    "colab": {},
    "colab_type": "code",
    "id": "5N38iUlPKRCt"
   },
   "outputs": [],
   "source": [
    "def train_split(camera_file_name, log_file_name):\n",
    "    # load camera file\n",
    "    X = load(f'/content/drive/My Drive/datasets/{camera_file_name}_train.npz')\n",
    "    X = X.f.arr_0\n",
    "    # load log file\n",
    "    log = pd.read_csv(f'/content/drive/My Drive/datasets/{log_file_name}_train.csv')\n",
    "    # true steering wheel value is converted to an array\n",
    "    y = log['steering_avg_radian']\n",
    "    y = y.to_numpy()\n",
    "    y = y.reshape(y.shape[0], 1)\n",
    "    # train test split\n",
    "    X_train, X_test, y_train, y_test = train_test_split(X, y, test_size=0.2, shuffle=True)\n",
    "    # save them into individual file of .npz format due to RAM management\n",
    "    savez_compressed(f'/content/drive/My Drive/datasets/{camera_file_name}_X_train', X_train)\n",
    "    savez_compressed(f'/content/drive/My Drive/datasets/{camera_file_name}_X_test', X_test)\n",
    "    savez_compressed(f'/content/drive/My Drive/datasets/{camera_file_name}_y_train', y_train)\n",
    "    savez_compressed(f'/content/drive/My Drive/datasets/{camera_file_name}_y_test', y_test)\n",
    "\n",
    "    return print('Done')"
   ]
  },
  {
   "cell_type": "code",
   "execution_count": 8,
   "metadata": {
    "colab": {},
    "colab_type": "code",
    "id": "lxdKm9TQS-Kz"
   },
   "outputs": [],
   "source": [
    "def train_load(camera_file_name):\n",
    "    # load the dataset from Google drive to the Virtual Machine Cloud Storage for RAM management\n",
    "    !cp -r \"/content/drive/My Drive/datasets/{camera_file_name}_X_train.npz\" ./X_train.npz\n",
    "    !cp -r \"/content/drive/My Drive/datasets/{camera_file_name}_X_test.npz\" ./X_test.npz\n",
    "    !cp -r \"/content/drive/My Drive/datasets/{camera_file_name}_y_train.npz\" ./y_train.npz\n",
    "    !cp -r \"/content/drive/My Drive/datasets/{camera_file_name}_y_test.npz\" ./y_test.npz\n",
    "    X_train = load('./X_train.npz')\n",
    "    X_train = X_train.f.arr_0\n",
    "    X_test = load('./X_test.npz')\n",
    "    X_test = X_test.f.arr_0\n",
    "    y_train = load('./y_train.npz')\n",
    "    y_train = y_train.f.arr_0\n",
    "    y_test = load('./y_test.npz')\n",
    "    y_test = y_test.f.arr_0\n",
    "\n",
    "    return X_train, X_test, y_train, y_test"
   ]
  },
  {
   "cell_type": "code",
   "execution_count": null,
   "metadata": {
    "colab": {},
    "colab_type": "code",
    "id": "9s3LCj6_27U4"
   },
   "outputs": [],
   "source": [
    "# load camera and log data\n",
    "camera1 = load('/content/drive/My Drive/datasets/camera1_cleaned.npz')\n",
    "log1 = pd.read_csv('/content/drive/My Drive/datasets/log1_cleaned.csv')"
   ]
  },
  {
   "cell_type": "code",
   "execution_count": null,
   "metadata": {
    "colab": {
     "base_uri": "https://localhost:8080/",
     "height": 34
    },
    "colab_type": "code",
    "executionInfo": {
     "elapsed": 41508,
     "status": "ok",
     "timestamp": 1596553162793,
     "user": {
      "displayName": "Tay Khim",
      "photoUrl": "",
      "userId": "00177423956135587504"
     },
     "user_tz": -480
    },
    "id": "Du-e6s796NLP",
    "outputId": "feaf0e6f-cbcc-407e-ffb2-f0aa274653b0"
   },
   "outputs": [
    {
     "name": "stdout",
     "output_type": "stream",
     "text": [
      "Done\n"
     ]
    }
   ],
   "source": [
    "# goes through processing function\n",
    "camera_processing(camera1, 'camera1')"
   ]
  },
  {
   "cell_type": "code",
   "execution_count": null,
   "metadata": {
    "colab": {
     "base_uri": "https://localhost:8080/",
     "height": 34
    },
    "colab_type": "code",
    "executionInfo": {
     "elapsed": 974,
     "status": "ok",
     "timestamp": 1596551749941,
     "user": {
      "displayName": "Tay Khim",
      "photoUrl": "",
      "userId": "00177423956135587504"
     },
     "user_tz": -480
    },
    "id": "GGt1rZCf5jlY",
    "outputId": "5e5b5ea4-c3d3-48b1-d9a8-eaf8f6196403"
   },
   "outputs": [
    {
     "name": "stdout",
     "output_type": "stream",
     "text": [
      "Done\n"
     ]
    }
   ],
   "source": [
    "# goes through processing function\n",
    "log_processing(log1, 'log1')"
   ]
  },
  {
   "cell_type": "code",
   "execution_count": null,
   "metadata": {
    "colab": {
     "base_uri": "https://localhost:8080/",
     "height": 34
    },
    "colab_type": "code",
    "executionInfo": {
     "elapsed": 43926,
     "status": "ok",
     "timestamp": 1596553206749,
     "user": {
      "displayName": "Tay Khim",
      "photoUrl": "",
      "userId": "00177423956135587504"
     },
     "user_tz": -480
    },
    "id": "Uv2fmI93-uMr",
    "outputId": "bba8f6d9-5f26-46e8-ce7a-5583f1d03259"
   },
   "outputs": [
    {
     "name": "stdout",
     "output_type": "stream",
     "text": [
      "Done\n"
     ]
    }
   ],
   "source": [
    "# train_test_split camera2 data\n",
    "train_split('camera1', 'log1')"
   ]
  },
  {
   "cell_type": "code",
   "execution_count": null,
   "metadata": {
    "colab": {},
    "colab_type": "code",
    "id": "WAUy7zNGTln4"
   },
   "outputs": [],
   "source": [
    "# load the data for camera2\n",
    "X_train, X_test, y_train, y_test = train_load('camera1')"
   ]
  },
  {
   "cell_type": "code",
   "execution_count": 9,
   "metadata": {
    "colab": {
     "base_uri": "https://localhost:8080/",
     "height": 34
    },
    "colab_type": "code",
    "id": "wHIpb0obTvZy",
    "outputId": "50474b58-1e67-4cc9-ade5-ea527ae5fd5f"
   },
   "outputs": [
    {
     "data": {
      "text/plain": [
       "((41003, 80, 160, 1), (10251, 80, 160, 1), (41003, 1), (10251, 1))"
      ]
     },
     "execution_count": 9,
     "metadata": {
      "tags": []
     },
     "output_type": "execute_result"
    }
   ],
   "source": [
    "X_train.shape, X_test.shape, y_train.shape, y_test.shape"
   ]
  },
  {
   "cell_type": "code",
   "execution_count": 6,
   "metadata": {
    "colab": {},
    "colab_type": "code",
    "id": "MlchIFJ1m4o5"
   },
   "outputs": [],
   "source": [
    "model = Sequential()\n",
    "\n",
    "model.add(Conv2D(16, (3, 3), input_shape=(80, 160, 1), activation='relu'))\n",
    "model.add(MaxPooling2D(pool_size=(2, 2)))\n",
    "model.add(Dropout(0.25))\n",
    "\n",
    "model.add(Conv2D(32, (3, 3), activation='relu'))\n",
    "model.add(MaxPooling2D(pool_size=(2, 2)))\n",
    "model.add(Dropout(0.25))\n",
    "\n",
    "model.add(Conv2D(64, (3, 3), activation='relu'))\n",
    "model.add(MaxPooling2D(pool_size=(2, 2)))\n",
    "model.add(Dropout(0.25))\n",
    "\n",
    "model.add(Flatten())\n",
    "model.add(Dense(300, activation='relu'))\n",
    "model.add(Dropout(.5))\n",
    "\n",
    "model.add(Dense(100, activation='relu'))\n",
    "model.add(Dropout(.25))\n",
    "\n",
    "model.add(Dense(20, activation='relu'))\n",
    "model.add(Dense(1))\n",
    "\n",
    "model.compile(loss='mse', optimizer=Adam(lr=1e-04), metrics=[RootMeanSquaredError()])"
   ]
  },
  {
   "cell_type": "code",
   "execution_count": 7,
   "metadata": {
    "colab": {},
    "colab_type": "code",
    "id": "4dbzmB-A0iFy"
   },
   "outputs": [],
   "source": [
    "from keras.callbacks import *\n",
    "filepath = \"/content/drive/My Drive/epochs/model_1_camera1.{epoch:04d}-{val_loss:.4f}.h5\"\n",
    "checkpoint = ModelCheckpoint(filepath, monitor='val_loss', verbose=1, save_best_only=True, mode='min')\n",
    "callbacks_list = [checkpoint]"
   ]
  },
  {
   "cell_type": "code",
   "execution_count": null,
   "metadata": {
    "colab": {
     "base_uri": "https://localhost:8080/",
     "height": 1000
    },
    "colab_type": "code",
    "collapsed": true,
    "executionInfo": {
     "elapsed": 776188,
     "status": "ok",
     "timestamp": 1596527519516,
     "user": {
      "displayName": "Tay Khim",
      "photoUrl": "",
      "userId": "00177423956135587504"
     },
     "user_tz": -480
    },
    "id": "ISQFP4d4s058",
    "outputId": "ebb71447-9e22-486b-cb1c-9c28c19e1062"
   },
   "outputs": [
    {
     "name": "stdout",
     "output_type": "stream",
     "text": [
      "Epoch 1/100\n",
      "637/641 [============================>.] - ETA: 0s - loss: 0.2557 - root_mean_squared_error: 0.5057\n",
      "Epoch 00001: val_loss improved from inf to 0.23474, saving model to /content/drive/My Drive/epochs/model_1_camera1_lr:0.0001.0001-0.2347.h5\n",
      "641/641 [==============================] - 9s 13ms/step - loss: 0.2548 - root_mean_squared_error: 0.5047 - val_loss: 0.2347 - val_root_mean_squared_error: 0.4845\n",
      "Epoch 2/100\n",
      "640/641 [============================>.] - ETA: 0s - loss: 0.2531 - root_mean_squared_error: 0.5031\n",
      "Epoch 00002: val_loss did not improve from 0.23474\n",
      "641/641 [==============================] - 8s 12ms/step - loss: 0.2529 - root_mean_squared_error: 0.5029 - val_loss: 0.2347 - val_root_mean_squared_error: 0.4845\n",
      "Epoch 3/100\n",
      "636/641 [============================>.] - ETA: 0s - loss: 0.2505 - root_mean_squared_error: 0.5005\n",
      "Epoch 00003: val_loss did not improve from 0.23474\n",
      "641/641 [==============================] - 8s 12ms/step - loss: 0.2529 - root_mean_squared_error: 0.5029 - val_loss: 0.2348 - val_root_mean_squared_error: 0.4845\n",
      "Epoch 4/100\n",
      "637/641 [============================>.] - ETA: 0s - loss: 0.2536 - root_mean_squared_error: 0.5036\n",
      "Epoch 00004: val_loss did not improve from 0.23474\n",
      "641/641 [==============================] - 8s 12ms/step - loss: 0.2528 - root_mean_squared_error: 0.5028 - val_loss: 0.2347 - val_root_mean_squared_error: 0.4845\n",
      "Epoch 5/100\n",
      "639/641 [============================>.] - ETA: 0s - loss: 0.2524 - root_mean_squared_error: 0.5024\n",
      "Epoch 00005: val_loss improved from 0.23474 to 0.23471, saving model to /content/drive/My Drive/epochs/model_1_camera1_lr:0.0001.0005-0.2347.h5\n",
      "641/641 [==============================] - 8s 12ms/step - loss: 0.2528 - root_mean_squared_error: 0.5028 - val_loss: 0.2347 - val_root_mean_squared_error: 0.4845\n",
      "Epoch 6/100\n",
      "640/641 [============================>.] - ETA: 0s - loss: 0.2528 - root_mean_squared_error: 0.5028\n",
      "Epoch 00006: val_loss improved from 0.23471 to 0.23468, saving model to /content/drive/My Drive/epochs/model_1_camera1_lr:0.0001.0006-0.2347.h5\n",
      "641/641 [==============================] - 8s 12ms/step - loss: 0.2526 - root_mean_squared_error: 0.5026 - val_loss: 0.2347 - val_root_mean_squared_error: 0.4844\n",
      "Epoch 7/100\n",
      "638/641 [============================>.] - ETA: 0s - loss: 0.2516 - root_mean_squared_error: 0.5016\n",
      "Epoch 00007: val_loss improved from 0.23468 to 0.23409, saving model to /content/drive/My Drive/epochs/model_1_camera1_lr:0.0001.0007-0.2341.h5\n",
      "641/641 [==============================] - 8s 12ms/step - loss: 0.2518 - root_mean_squared_error: 0.5018 - val_loss: 0.2341 - val_root_mean_squared_error: 0.4838\n",
      "Epoch 8/100\n",
      "641/641 [==============================] - ETA: 0s - loss: 0.2504 - root_mean_squared_error: 0.5004\n",
      "Epoch 00008: val_loss improved from 0.23409 to 0.23267, saving model to /content/drive/My Drive/epochs/model_1_camera1_lr:0.0001.0008-0.2327.h5\n",
      "641/641 [==============================] - 8s 12ms/step - loss: 0.2504 - root_mean_squared_error: 0.5004 - val_loss: 0.2327 - val_root_mean_squared_error: 0.4824\n",
      "Epoch 9/100\n",
      "640/641 [============================>.] - ETA: 0s - loss: 0.2454 - root_mean_squared_error: 0.4954\n",
      "Epoch 00009: val_loss improved from 0.23267 to 0.22157, saving model to /content/drive/My Drive/epochs/model_1_camera1_lr:0.0001.0009-0.2216.h5\n",
      "641/641 [==============================] - 8s 12ms/step - loss: 0.2452 - root_mean_squared_error: 0.4951 - val_loss: 0.2216 - val_root_mean_squared_error: 0.4707\n",
      "Epoch 10/100\n",
      "639/641 [============================>.] - ETA: 0s - loss: 0.2307 - root_mean_squared_error: 0.4803\n",
      "Epoch 00010: val_loss improved from 0.22157 to 0.20416, saving model to /content/drive/My Drive/epochs/model_1_camera1_lr:0.0001.0010-0.2042.h5\n",
      "641/641 [==============================] - 8s 12ms/step - loss: 0.2302 - root_mean_squared_error: 0.4798 - val_loss: 0.2042 - val_root_mean_squared_error: 0.4518\n",
      "Epoch 11/100\n",
      "636/641 [============================>.] - ETA: 0s - loss: 0.2148 - root_mean_squared_error: 0.4635\n",
      "Epoch 00011: val_loss improved from 0.20416 to 0.18700, saving model to /content/drive/My Drive/epochs/model_1_camera1_lr:0.0001.0011-0.1870.h5\n",
      "641/641 [==============================] - 8s 12ms/step - loss: 0.2147 - root_mean_squared_error: 0.4634 - val_loss: 0.1870 - val_root_mean_squared_error: 0.4324\n",
      "Epoch 12/100\n",
      "640/641 [============================>.] - ETA: 0s - loss: 0.1939 - root_mean_squared_error: 0.4404\n",
      "Epoch 00012: val_loss improved from 0.18700 to 0.17739, saving model to /content/drive/My Drive/epochs/model_1_camera1_lr:0.0001.0012-0.1774.h5\n",
      "641/641 [==============================] - 8s 12ms/step - loss: 0.1939 - root_mean_squared_error: 0.4403 - val_loss: 0.1774 - val_root_mean_squared_error: 0.4212\n",
      "Epoch 13/100\n",
      "641/641 [==============================] - ETA: 0s - loss: 0.1851 - root_mean_squared_error: 0.4302\n",
      "Epoch 00013: val_loss improved from 0.17739 to 0.17037, saving model to /content/drive/My Drive/epochs/model_1_camera1_lr:0.0001.0013-0.1704.h5\n",
      "641/641 [==============================] - 8s 12ms/step - loss: 0.1851 - root_mean_squared_error: 0.4302 - val_loss: 0.1704 - val_root_mean_squared_error: 0.4128\n",
      "Epoch 14/100\n",
      "638/641 [============================>.] - ETA: 0s - loss: 0.1747 - root_mean_squared_error: 0.4180\n",
      "Epoch 00014: val_loss improved from 0.17037 to 0.15766, saving model to /content/drive/My Drive/epochs/model_1_camera1_lr:0.0001.0014-0.1577.h5\n",
      "641/641 [==============================] - 8s 12ms/step - loss: 0.1745 - root_mean_squared_error: 0.4177 - val_loss: 0.1577 - val_root_mean_squared_error: 0.3971\n",
      "Epoch 15/100\n",
      "638/641 [============================>.] - ETA: 0s - loss: 0.1619 - root_mean_squared_error: 0.4024\n",
      "Epoch 00015: val_loss improved from 0.15766 to 0.15265, saving model to /content/drive/My Drive/epochs/model_1_camera1_lr:0.0001.0015-0.1527.h5\n",
      "641/641 [==============================] - 8s 13ms/step - loss: 0.1623 - root_mean_squared_error: 0.4029 - val_loss: 0.1527 - val_root_mean_squared_error: 0.3907\n",
      "Epoch 16/100\n",
      "639/641 [============================>.] - ETA: 0s - loss: 0.1521 - root_mean_squared_error: 0.3900\n",
      "Epoch 00016: val_loss improved from 0.15265 to 0.14152, saving model to /content/drive/My Drive/epochs/model_1_camera1_lr:0.0001.0016-0.1415.h5\n",
      "641/641 [==============================] - 8s 12ms/step - loss: 0.1519 - root_mean_squared_error: 0.3898 - val_loss: 0.1415 - val_root_mean_squared_error: 0.3762\n",
      "Epoch 17/100\n",
      "637/641 [============================>.] - ETA: 0s - loss: 0.1425 - root_mean_squared_error: 0.3775\n",
      "Epoch 00017: val_loss improved from 0.14152 to 0.13354, saving model to /content/drive/My Drive/epochs/model_1_camera1_lr:0.0001.0017-0.1335.h5\n",
      "641/641 [==============================] - 8s 13ms/step - loss: 0.1419 - root_mean_squared_error: 0.3767 - val_loss: 0.1335 - val_root_mean_squared_error: 0.3654\n",
      "Epoch 18/100\n",
      "637/641 [============================>.] - ETA: 0s - loss: 0.1365 - root_mean_squared_error: 0.3695\n",
      "Epoch 00018: val_loss improved from 0.13354 to 0.12435, saving model to /content/drive/My Drive/epochs/model_1_camera1_lr:0.0001.0018-0.1243.h5\n",
      "641/641 [==============================] - 8s 13ms/step - loss: 0.1362 - root_mean_squared_error: 0.3691 - val_loss: 0.1243 - val_root_mean_squared_error: 0.3526\n",
      "Epoch 19/100\n",
      "639/641 [============================>.] - ETA: 0s - loss: 0.1246 - root_mean_squared_error: 0.3530\n",
      "Epoch 00019: val_loss improved from 0.12435 to 0.11462, saving model to /content/drive/My Drive/epochs/model_1_camera1_lr:0.0001.0019-0.1146.h5\n",
      "641/641 [==============================] - 8s 12ms/step - loss: 0.1244 - root_mean_squared_error: 0.3527 - val_loss: 0.1146 - val_root_mean_squared_error: 0.3386\n",
      "Epoch 20/100\n",
      "638/641 [============================>.] - ETA: 0s - loss: 0.1228 - root_mean_squared_error: 0.3504\n",
      "Epoch 00020: val_loss improved from 0.11462 to 0.10926, saving model to /content/drive/My Drive/epochs/model_1_camera1_lr:0.0001.0020-0.1093.h5\n",
      "641/641 [==============================] - 8s 12ms/step - loss: 0.1224 - root_mean_squared_error: 0.3498 - val_loss: 0.1093 - val_root_mean_squared_error: 0.3305\n",
      "Epoch 21/100\n",
      "638/641 [============================>.] - ETA: 0s - loss: 0.1091 - root_mean_squared_error: 0.3303\n",
      "Epoch 00021: val_loss improved from 0.10926 to 0.10532, saving model to /content/drive/My Drive/epochs/model_1_camera1_lr:0.0001.0021-0.1053.h5\n",
      "641/641 [==============================] - 8s 12ms/step - loss: 0.1089 - root_mean_squared_error: 0.3300 - val_loss: 0.1053 - val_root_mean_squared_error: 0.3245\n",
      "Epoch 22/100\n",
      "639/641 [============================>.] - ETA: 0s - loss: 0.1071 - root_mean_squared_error: 0.3272\n",
      "Epoch 00022: val_loss improved from 0.10532 to 0.10483, saving model to /content/drive/My Drive/epochs/model_1_camera1_lr:0.0001.0022-0.1048.h5\n",
      "641/641 [==============================] - 8s 12ms/step - loss: 0.1073 - root_mean_squared_error: 0.3276 - val_loss: 0.1048 - val_root_mean_squared_error: 0.3238\n",
      "Epoch 23/100\n",
      "639/641 [============================>.] - ETA: 0s - loss: 0.0982 - root_mean_squared_error: 0.3134\n",
      "Epoch 00023: val_loss did not improve from 0.10483\n",
      "641/641 [==============================] - 8s 12ms/step - loss: 0.0981 - root_mean_squared_error: 0.3133 - val_loss: 0.1128 - val_root_mean_squared_error: 0.3359\n",
      "Epoch 24/100\n",
      "638/641 [============================>.] - ETA: 0s - loss: 0.0928 - root_mean_squared_error: 0.3046\n",
      "Epoch 00024: val_loss improved from 0.10483 to 0.09814, saving model to /content/drive/My Drive/epochs/model_1_camera1_lr:0.0001.0024-0.0981.h5\n",
      "641/641 [==============================] - 8s 12ms/step - loss: 0.0928 - root_mean_squared_error: 0.3046 - val_loss: 0.0981 - val_root_mean_squared_error: 0.3133\n",
      "Epoch 25/100\n",
      "640/641 [============================>.] - ETA: 0s - loss: 0.0960 - root_mean_squared_error: 0.3098\n",
      "Epoch 00025: val_loss improved from 0.09814 to 0.09731, saving model to /content/drive/My Drive/epochs/model_1_camera1_lr:0.0001.0025-0.0973.h5\n",
      "641/641 [==============================] - 8s 12ms/step - loss: 0.0959 - root_mean_squared_error: 0.3097 - val_loss: 0.0973 - val_root_mean_squared_error: 0.3119\n",
      "Epoch 26/100\n",
      "640/641 [============================>.] - ETA: 0s - loss: 0.0899 - root_mean_squared_error: 0.2998\n",
      "Epoch 00026: val_loss improved from 0.09731 to 0.08995, saving model to /content/drive/My Drive/epochs/model_1_camera1_lr:0.0001.0026-0.0899.h5\n",
      "641/641 [==============================] - 8s 12ms/step - loss: 0.0898 - root_mean_squared_error: 0.2997 - val_loss: 0.0899 - val_root_mean_squared_error: 0.2999\n",
      "Epoch 27/100\n",
      "640/641 [============================>.] - ETA: 0s - loss: 0.0840 - root_mean_squared_error: 0.2898\n",
      "Epoch 00027: val_loss did not improve from 0.08995\n",
      "641/641 [==============================] - 8s 12ms/step - loss: 0.0843 - root_mean_squared_error: 0.2903 - val_loss: 0.0910 - val_root_mean_squared_error: 0.3016\n",
      "Epoch 28/100\n",
      "636/641 [============================>.] - ETA: 0s - loss: 0.0845 - root_mean_squared_error: 0.2907\n",
      "Epoch 00028: val_loss improved from 0.08995 to 0.07935, saving model to /content/drive/My Drive/epochs/model_1_camera1_lr:0.0001.0028-0.0794.h5\n",
      "641/641 [==============================] - 8s 12ms/step - loss: 0.0845 - root_mean_squared_error: 0.2907 - val_loss: 0.0794 - val_root_mean_squared_error: 0.2817\n",
      "Epoch 29/100\n",
      "638/641 [============================>.] - ETA: 0s - loss: 0.0809 - root_mean_squared_error: 0.2845\n",
      "Epoch 00029: val_loss did not improve from 0.07935\n",
      "641/641 [==============================] - 8s 12ms/step - loss: 0.0809 - root_mean_squared_error: 0.2844 - val_loss: 0.0886 - val_root_mean_squared_error: 0.2977\n",
      "Epoch 30/100\n",
      "639/641 [============================>.] - ETA: 0s - loss: 0.0772 - root_mean_squared_error: 0.2779\n",
      "Epoch 00030: val_loss did not improve from 0.07935\n",
      "641/641 [==============================] - 8s 12ms/step - loss: 0.0774 - root_mean_squared_error: 0.2781 - val_loss: 0.0810 - val_root_mean_squared_error: 0.2847\n",
      "Epoch 31/100\n",
      "641/641 [==============================] - ETA: 0s - loss: 0.0754 - root_mean_squared_error: 0.2746\n",
      "Epoch 00031: val_loss improved from 0.07935 to 0.07370, saving model to /content/drive/My Drive/epochs/model_1_camera1_lr:0.0001.0031-0.0737.h5\n",
      "641/641 [==============================] - 8s 12ms/step - loss: 0.0754 - root_mean_squared_error: 0.2746 - val_loss: 0.0737 - val_root_mean_squared_error: 0.2715\n",
      "Epoch 32/100\n",
      "639/641 [============================>.] - ETA: 0s - loss: 0.0749 - root_mean_squared_error: 0.2737\n",
      "Epoch 00032: val_loss did not improve from 0.07370\n",
      "641/641 [==============================] - 8s 12ms/step - loss: 0.0748 - root_mean_squared_error: 0.2735 - val_loss: 0.0888 - val_root_mean_squared_error: 0.2980\n",
      "Epoch 33/100\n",
      "640/641 [============================>.] - ETA: 0s - loss: 0.0692 - root_mean_squared_error: 0.2631\n",
      "Epoch 00033: val_loss did not improve from 0.07370\n",
      "641/641 [==============================] - 8s 12ms/step - loss: 0.0692 - root_mean_squared_error: 0.2631 - val_loss: 0.0746 - val_root_mean_squared_error: 0.2730\n",
      "Epoch 34/100\n",
      "639/641 [============================>.] - ETA: 0s - loss: 0.0700 - root_mean_squared_error: 0.2646\n",
      "Epoch 00034: val_loss did not improve from 0.07370\n",
      "641/641 [==============================] - 8s 12ms/step - loss: 0.0699 - root_mean_squared_error: 0.2643 - val_loss: 0.0749 - val_root_mean_squared_error: 0.2736\n",
      "Epoch 35/100\n",
      "637/641 [============================>.] - ETA: 0s - loss: 0.0670 - root_mean_squared_error: 0.2588\n",
      "Epoch 00035: val_loss improved from 0.07370 to 0.06660, saving model to /content/drive/My Drive/epochs/model_1_camera1_lr:0.0001.0035-0.0666.h5\n",
      "641/641 [==============================] - 8s 12ms/step - loss: 0.0676 - root_mean_squared_error: 0.2601 - val_loss: 0.0666 - val_root_mean_squared_error: 0.2581\n",
      "Epoch 36/100\n",
      "638/641 [============================>.] - ETA: 0s - loss: 0.0691 - root_mean_squared_error: 0.2628\n",
      "Epoch 00036: val_loss did not improve from 0.06660\n",
      "641/641 [==============================] - 8s 12ms/step - loss: 0.0690 - root_mean_squared_error: 0.2628 - val_loss: 0.0733 - val_root_mean_squared_error: 0.2708\n",
      "Epoch 37/100\n",
      "640/641 [============================>.] - ETA: 0s - loss: 0.0639 - root_mean_squared_error: 0.2528\n",
      "Epoch 00037: val_loss did not improve from 0.06660\n",
      "641/641 [==============================] - 8s 12ms/step - loss: 0.0639 - root_mean_squared_error: 0.2527 - val_loss: 0.0716 - val_root_mean_squared_error: 0.2676\n",
      "Epoch 38/100\n",
      "638/641 [============================>.] - ETA: 0s - loss: 0.0639 - root_mean_squared_error: 0.2527\n",
      "Epoch 00038: val_loss did not improve from 0.06660\n",
      "641/641 [==============================] - 8s 12ms/step - loss: 0.0638 - root_mean_squared_error: 0.2525 - val_loss: 0.0719 - val_root_mean_squared_error: 0.2681\n",
      "Epoch 39/100\n",
      "640/641 [============================>.] - ETA: 0s - loss: 0.0654 - root_mean_squared_error: 0.2557\n",
      "Epoch 00039: val_loss did not improve from 0.06660\n",
      "641/641 [==============================] - 8s 12ms/step - loss: 0.0653 - root_mean_squared_error: 0.2556 - val_loss: 0.0762 - val_root_mean_squared_error: 0.2761\n",
      "Epoch 40/100\n",
      "639/641 [============================>.] - ETA: 0s - loss: 0.0635 - root_mean_squared_error: 0.2519\n",
      "Epoch 00040: val_loss did not improve from 0.06660\n",
      "641/641 [==============================] - 8s 12ms/step - loss: 0.0634 - root_mean_squared_error: 0.2518 - val_loss: 0.0667 - val_root_mean_squared_error: 0.2583\n",
      "Epoch 41/100\n",
      "640/641 [============================>.] - ETA: 0s - loss: 0.0569 - root_mean_squared_error: 0.2385\n",
      "Epoch 00041: val_loss improved from 0.06660 to 0.06556, saving model to /content/drive/My Drive/epochs/model_1_camera1_lr:0.0001.0041-0.0656.h5\n",
      "641/641 [==============================] - 8s 12ms/step - loss: 0.0568 - root_mean_squared_error: 0.2384 - val_loss: 0.0656 - val_root_mean_squared_error: 0.2560\n",
      "Epoch 42/100\n",
      "640/641 [============================>.] - ETA: 0s - loss: 0.0578 - root_mean_squared_error: 0.2405\n",
      "Epoch 00042: val_loss did not improve from 0.06556\n",
      "641/641 [==============================] - 8s 12ms/step - loss: 0.0578 - root_mean_squared_error: 0.2404 - val_loss: 0.0688 - val_root_mean_squared_error: 0.2623\n",
      "Epoch 43/100\n",
      "638/641 [============================>.] - ETA: 0s - loss: 0.0561 - root_mean_squared_error: 0.2369\n",
      "Epoch 00043: val_loss did not improve from 0.06556\n",
      "641/641 [==============================] - 8s 12ms/step - loss: 0.0560 - root_mean_squared_error: 0.2366 - val_loss: 0.0728 - val_root_mean_squared_error: 0.2699\n",
      "Epoch 44/100\n",
      "640/641 [============================>.] - ETA: 0s - loss: 0.0580 - root_mean_squared_error: 0.2408\n",
      "Epoch 00044: val_loss improved from 0.06556 to 0.06468, saving model to /content/drive/My Drive/epochs/model_1_camera1_lr:0.0001.0044-0.0647.h5\n",
      "641/641 [==============================] - 8s 12ms/step - loss: 0.0580 - root_mean_squared_error: 0.2408 - val_loss: 0.0647 - val_root_mean_squared_error: 0.2543\n",
      "Epoch 45/100\n",
      "638/641 [============================>.] - ETA: 0s - loss: 0.0551 - root_mean_squared_error: 0.2348\n",
      "Epoch 00045: val_loss did not improve from 0.06468\n",
      "641/641 [==============================] - 8s 12ms/step - loss: 0.0553 - root_mean_squared_error: 0.2351 - val_loss: 0.0697 - val_root_mean_squared_error: 0.2641\n",
      "Epoch 46/100\n",
      "638/641 [============================>.] - ETA: 0s - loss: 0.0596 - root_mean_squared_error: 0.2442\n",
      "Epoch 00046: val_loss did not improve from 0.06468\n",
      "641/641 [==============================] - 8s 12ms/step - loss: 0.0598 - root_mean_squared_error: 0.2445 - val_loss: 0.0798 - val_root_mean_squared_error: 0.2825\n",
      "Epoch 47/100\n",
      "640/641 [============================>.] - ETA: 0s - loss: 0.0564 - root_mean_squared_error: 0.2375\n",
      "Epoch 00047: val_loss did not improve from 0.06468\n",
      "641/641 [==============================] - 8s 12ms/step - loss: 0.0565 - root_mean_squared_error: 0.2377 - val_loss: 0.0650 - val_root_mean_squared_error: 0.2550\n",
      "Epoch 48/100\n",
      "640/641 [============================>.] - ETA: 0s - loss: 0.0505 - root_mean_squared_error: 0.2247\n",
      "Epoch 00048: val_loss did not improve from 0.06468\n",
      "641/641 [==============================] - 8s 12ms/step - loss: 0.0506 - root_mean_squared_error: 0.2249 - val_loss: 0.0749 - val_root_mean_squared_error: 0.2736\n",
      "Epoch 49/100\n",
      "640/641 [============================>.] - ETA: 0s - loss: 0.0540 - root_mean_squared_error: 0.2323\n",
      "Epoch 00049: val_loss improved from 0.06468 to 0.06420, saving model to /content/drive/My Drive/epochs/model_1_camera1_lr:0.0001.0049-0.0642.h5\n",
      "641/641 [==============================] - 8s 12ms/step - loss: 0.0540 - root_mean_squared_error: 0.2323 - val_loss: 0.0642 - val_root_mean_squared_error: 0.2534\n",
      "Epoch 50/100\n",
      "637/641 [============================>.] - ETA: 0s - loss: 0.0538 - root_mean_squared_error: 0.2320\n",
      "Epoch 00050: val_loss improved from 0.06420 to 0.06117, saving model to /content/drive/My Drive/epochs/model_1_camera1_lr:0.0001.0050-0.0612.h5\n",
      "641/641 [==============================] - 8s 12ms/step - loss: 0.0539 - root_mean_squared_error: 0.2322 - val_loss: 0.0612 - val_root_mean_squared_error: 0.2473\n",
      "Epoch 51/100\n",
      "639/641 [============================>.] - ETA: 0s - loss: 0.0547 - root_mean_squared_error: 0.2338\n",
      "Epoch 00051: val_loss improved from 0.06117 to 0.06054, saving model to /content/drive/My Drive/epochs/model_1_camera1_lr:0.0001.0051-0.0605.h5\n",
      "641/641 [==============================] - 8s 12ms/step - loss: 0.0550 - root_mean_squared_error: 0.2345 - val_loss: 0.0605 - val_root_mean_squared_error: 0.2461\n",
      "Epoch 52/100\n",
      "639/641 [============================>.] - ETA: 0s - loss: 0.0524 - root_mean_squared_error: 0.2289\n",
      "Epoch 00052: val_loss did not improve from 0.06054\n",
      "641/641 [==============================] - 8s 12ms/step - loss: 0.0524 - root_mean_squared_error: 0.2290 - val_loss: 0.0666 - val_root_mean_squared_error: 0.2580\n",
      "Epoch 53/100\n",
      "640/641 [============================>.] - ETA: 0s - loss: 0.0497 - root_mean_squared_error: 0.2230\n",
      "Epoch 00053: val_loss improved from 0.06054 to 0.06053, saving model to /content/drive/My Drive/epochs/model_1_camera1_lr:0.0001.0053-0.0605.h5\n",
      "641/641 [==============================] - 8s 12ms/step - loss: 0.0497 - root_mean_squared_error: 0.2230 - val_loss: 0.0605 - val_root_mean_squared_error: 0.2460\n",
      "Epoch 54/100\n",
      "637/641 [============================>.] - ETA: 0s - loss: 0.0497 - root_mean_squared_error: 0.2230\n",
      "Epoch 00054: val_loss did not improve from 0.06053\n",
      "641/641 [==============================] - 8s 12ms/step - loss: 0.0497 - root_mean_squared_error: 0.2229 - val_loss: 0.0654 - val_root_mean_squared_error: 0.2558\n",
      "Epoch 55/100\n",
      "638/641 [============================>.] - ETA: 0s - loss: 0.0518 - root_mean_squared_error: 0.2276\n",
      "Epoch 00055: val_loss did not improve from 0.06053\n",
      "641/641 [==============================] - 8s 12ms/step - loss: 0.0520 - root_mean_squared_error: 0.2280 - val_loss: 0.0657 - val_root_mean_squared_error: 0.2564\n",
      "Epoch 56/100\n",
      "639/641 [============================>.] - ETA: 0s - loss: 0.0477 - root_mean_squared_error: 0.2184\n",
      "Epoch 00056: val_loss improved from 0.06053 to 0.05946, saving model to /content/drive/My Drive/epochs/model_1_camera1_lr:0.0001.0056-0.0595.h5\n",
      "641/641 [==============================] - 8s 12ms/step - loss: 0.0478 - root_mean_squared_error: 0.2186 - val_loss: 0.0595 - val_root_mean_squared_error: 0.2439\n",
      "Epoch 57/100\n",
      "638/641 [============================>.] - ETA: 0s - loss: 0.0482 - root_mean_squared_error: 0.2196\n",
      "Epoch 00057: val_loss did not improve from 0.05946\n",
      "641/641 [==============================] - 8s 12ms/step - loss: 0.0481 - root_mean_squared_error: 0.2193 - val_loss: 0.0632 - val_root_mean_squared_error: 0.2514\n",
      "Epoch 58/100\n",
      "638/641 [============================>.] - ETA: 0s - loss: 0.0457 - root_mean_squared_error: 0.2138\n",
      "Epoch 00058: val_loss improved from 0.05946 to 0.05750, saving model to /content/drive/My Drive/epochs/model_1_camera1_lr:0.0001.0058-0.0575.h5\n",
      "641/641 [==============================] - 8s 12ms/step - loss: 0.0456 - root_mean_squared_error: 0.2136 - val_loss: 0.0575 - val_root_mean_squared_error: 0.2398\n",
      "Epoch 59/100\n",
      "640/641 [============================>.] - ETA: 0s - loss: 0.0516 - root_mean_squared_error: 0.2271\n",
      "Epoch 00059: val_loss did not improve from 0.05750\n",
      "641/641 [==============================] - 8s 12ms/step - loss: 0.0516 - root_mean_squared_error: 0.2271 - val_loss: 0.0650 - val_root_mean_squared_error: 0.2550\n",
      "Epoch 60/100\n",
      "641/641 [==============================] - ETA: 0s - loss: 0.0482 - root_mean_squared_error: 0.2196\n",
      "Epoch 00060: val_loss improved from 0.05750 to 0.05612, saving model to /content/drive/My Drive/epochs/model_1_camera1_lr:0.0001.0060-0.0561.h5\n",
      "641/641 [==============================] - 8s 12ms/step - loss: 0.0482 - root_mean_squared_error: 0.2196 - val_loss: 0.0561 - val_root_mean_squared_error: 0.2369\n",
      "Epoch 61/100\n",
      "641/641 [==============================] - ETA: 0s - loss: 0.0450 - root_mean_squared_error: 0.2121\n",
      "Epoch 00061: val_loss did not improve from 0.05612\n",
      "641/641 [==============================] - 8s 12ms/step - loss: 0.0450 - root_mean_squared_error: 0.2121 - val_loss: 0.0615 - val_root_mean_squared_error: 0.2480\n",
      "Epoch 62/100\n",
      "641/641 [==============================] - ETA: 0s - loss: 0.0423 - root_mean_squared_error: 0.2056\n",
      "Epoch 00062: val_loss did not improve from 0.05612\n",
      "641/641 [==============================] - 8s 12ms/step - loss: 0.0423 - root_mean_squared_error: 0.2056 - val_loss: 0.0644 - val_root_mean_squared_error: 0.2538\n",
      "Epoch 63/100\n",
      "640/641 [============================>.] - ETA: 0s - loss: 0.0454 - root_mean_squared_error: 0.2132\n",
      "Epoch 00063: val_loss did not improve from 0.05612\n",
      "641/641 [==============================] - 8s 12ms/step - loss: 0.0454 - root_mean_squared_error: 0.2131 - val_loss: 0.0601 - val_root_mean_squared_error: 0.2452\n",
      "Epoch 64/100\n",
      "640/641 [============================>.] - ETA: 0s - loss: 0.0446 - root_mean_squared_error: 0.2112\n",
      "Epoch 00064: val_loss improved from 0.05612 to 0.05331, saving model to /content/drive/My Drive/epochs/model_1_camera1_lr:0.0001.0064-0.0533.h5\n",
      "641/641 [==============================] - 8s 12ms/step - loss: 0.0446 - root_mean_squared_error: 0.2111 - val_loss: 0.0533 - val_root_mean_squared_error: 0.2309\n",
      "Epoch 65/100\n",
      "640/641 [============================>.] - ETA: 0s - loss: 0.0434 - root_mean_squared_error: 0.2084\n",
      "Epoch 00065: val_loss did not improve from 0.05331\n",
      "641/641 [==============================] - 8s 12ms/step - loss: 0.0434 - root_mean_squared_error: 0.2083 - val_loss: 0.0687 - val_root_mean_squared_error: 0.2621\n",
      "Epoch 66/100\n",
      "640/641 [============================>.] - ETA: 0s - loss: 0.0423 - root_mean_squared_error: 0.2057\n",
      "Epoch 00066: val_loss did not improve from 0.05331\n",
      "641/641 [==============================] - 8s 12ms/step - loss: 0.0423 - root_mean_squared_error: 0.2056 - val_loss: 0.0579 - val_root_mean_squared_error: 0.2407\n",
      "Epoch 67/100\n",
      "640/641 [============================>.] - ETA: 0s - loss: 0.0413 - root_mean_squared_error: 0.2033\n",
      "Epoch 00067: val_loss did not improve from 0.05331\n",
      "641/641 [==============================] - 8s 12ms/step - loss: 0.0413 - root_mean_squared_error: 0.2033 - val_loss: 0.0553 - val_root_mean_squared_error: 0.2352\n",
      "Epoch 68/100\n",
      "638/641 [============================>.] - ETA: 0s - loss: 0.0417 - root_mean_squared_error: 0.2042\n",
      "Epoch 00068: val_loss did not improve from 0.05331\n",
      "641/641 [==============================] - 8s 12ms/step - loss: 0.0417 - root_mean_squared_error: 0.2042 - val_loss: 0.0548 - val_root_mean_squared_error: 0.2340\n",
      "Epoch 69/100\n",
      "641/641 [==============================] - ETA: 0s - loss: 0.0442 - root_mean_squared_error: 0.2102\n",
      "Epoch 00069: val_loss did not improve from 0.05331\n",
      "641/641 [==============================] - 8s 12ms/step - loss: 0.0442 - root_mean_squared_error: 0.2102 - val_loss: 0.0640 - val_root_mean_squared_error: 0.2529\n",
      "Epoch 70/100\n",
      "641/641 [==============================] - ETA: 0s - loss: 0.0432 - root_mean_squared_error: 0.2077\n",
      "Epoch 00070: val_loss did not improve from 0.05331\n",
      "641/641 [==============================] - 8s 12ms/step - loss: 0.0432 - root_mean_squared_error: 0.2077 - val_loss: 0.0573 - val_root_mean_squared_error: 0.2393\n",
      "Epoch 71/100\n",
      "636/641 [============================>.] - ETA: 0s - loss: 0.0401 - root_mean_squared_error: 0.2003\n",
      "Epoch 00071: val_loss did not improve from 0.05331\n",
      "641/641 [==============================] - 8s 12ms/step - loss: 0.0409 - root_mean_squared_error: 0.2022 - val_loss: 0.0612 - val_root_mean_squared_error: 0.2474\n",
      "Epoch 72/100\n",
      "636/641 [============================>.] - ETA: 0s - loss: 0.0401 - root_mean_squared_error: 0.2004\n",
      "Epoch 00072: val_loss did not improve from 0.05331\n",
      "641/641 [==============================] - 8s 12ms/step - loss: 0.0403 - root_mean_squared_error: 0.2007 - val_loss: 0.0539 - val_root_mean_squared_error: 0.2322\n",
      "Epoch 73/100\n",
      "641/641 [==============================] - ETA: 0s - loss: 0.0400 - root_mean_squared_error: 0.2000\n",
      "Epoch 00073: val_loss did not improve from 0.05331\n",
      "641/641 [==============================] - 8s 12ms/step - loss: 0.0400 - root_mean_squared_error: 0.2000 - val_loss: 0.0571 - val_root_mean_squared_error: 0.2389\n",
      "Epoch 74/100\n",
      "640/641 [============================>.] - ETA: 0s - loss: 0.0402 - root_mean_squared_error: 0.2005\n",
      "Epoch 00074: val_loss did not improve from 0.05331\n",
      "641/641 [==============================] - 8s 12ms/step - loss: 0.0402 - root_mean_squared_error: 0.2005 - val_loss: 0.0660 - val_root_mean_squared_error: 0.2569\n",
      "Epoch 75/100\n",
      "639/641 [============================>.] - ETA: 0s - loss: 0.0398 - root_mean_squared_error: 0.1995\n",
      "Epoch 00075: val_loss did not improve from 0.05331\n",
      "641/641 [==============================] - 8s 12ms/step - loss: 0.0397 - root_mean_squared_error: 0.1993 - val_loss: 0.0579 - val_root_mean_squared_error: 0.2405\n",
      "Epoch 76/100\n",
      "641/641 [==============================] - ETA: 0s - loss: 0.0387 - root_mean_squared_error: 0.1966\n",
      "Epoch 00076: val_loss did not improve from 0.05331\n",
      "641/641 [==============================] - 8s 12ms/step - loss: 0.0387 - root_mean_squared_error: 0.1966 - val_loss: 0.0593 - val_root_mean_squared_error: 0.2435\n",
      "Epoch 77/100\n",
      "636/641 [============================>.] - ETA: 0s - loss: 0.0350 - root_mean_squared_error: 0.1871\n",
      "Epoch 00077: val_loss did not improve from 0.05331\n",
      "641/641 [==============================] - 8s 12ms/step - loss: 0.0350 - root_mean_squared_error: 0.1870 - val_loss: 0.0540 - val_root_mean_squared_error: 0.2323\n",
      "Epoch 78/100\n",
      "639/641 [============================>.] - ETA: 0s - loss: 0.0385 - root_mean_squared_error: 0.1963\n",
      "Epoch 00078: val_loss did not improve from 0.05331\n",
      "641/641 [==============================] - 8s 12ms/step - loss: 0.0384 - root_mean_squared_error: 0.1961 - val_loss: 0.0568 - val_root_mean_squared_error: 0.2383\n",
      "Epoch 79/100\n",
      "638/641 [============================>.] - ETA: 0s - loss: 0.0431 - root_mean_squared_error: 0.2076\n",
      "Epoch 00079: val_loss did not improve from 0.05331\n",
      "641/641 [==============================] - 8s 12ms/step - loss: 0.0431 - root_mean_squared_error: 0.2075 - val_loss: 0.0575 - val_root_mean_squared_error: 0.2399\n",
      "Epoch 80/100\n",
      "640/641 [============================>.] - ETA: 0s - loss: 0.0400 - root_mean_squared_error: 0.1999\n",
      "Epoch 00080: val_loss did not improve from 0.05331\n",
      "641/641 [==============================] - 8s 12ms/step - loss: 0.0399 - root_mean_squared_error: 0.1999 - val_loss: 0.0551 - val_root_mean_squared_error: 0.2346\n",
      "Epoch 81/100\n",
      "641/641 [==============================] - ETA: 0s - loss: 0.0386 - root_mean_squared_error: 0.1964\n",
      "Epoch 00081: val_loss did not improve from 0.05331\n",
      "641/641 [==============================] - 8s 12ms/step - loss: 0.0386 - root_mean_squared_error: 0.1964 - val_loss: 0.0581 - val_root_mean_squared_error: 0.2410\n",
      "Epoch 82/100\n",
      "641/641 [==============================] - ETA: 0s - loss: 0.0377 - root_mean_squared_error: 0.1940\n",
      "Epoch 00082: val_loss did not improve from 0.05331\n",
      "641/641 [==============================] - 8s 12ms/step - loss: 0.0377 - root_mean_squared_error: 0.1940 - val_loss: 0.0563 - val_root_mean_squared_error: 0.2374\n",
      "Epoch 83/100\n",
      "641/641 [==============================] - ETA: 0s - loss: 0.0354 - root_mean_squared_error: 0.1881\n",
      "Epoch 00083: val_loss did not improve from 0.05331\n",
      "641/641 [==============================] - 8s 12ms/step - loss: 0.0354 - root_mean_squared_error: 0.1881 - val_loss: 0.0560 - val_root_mean_squared_error: 0.2367\n",
      "Epoch 84/100\n",
      "637/641 [============================>.] - ETA: 0s - loss: 0.0391 - root_mean_squared_error: 0.1977\n",
      "Epoch 00084: val_loss improved from 0.05331 to 0.05100, saving model to /content/drive/My Drive/epochs/model_1_camera1_lr:0.0001.0084-0.0510.h5\n",
      "641/641 [==============================] - 8s 12ms/step - loss: 0.0405 - root_mean_squared_error: 0.2011 - val_loss: 0.0510 - val_root_mean_squared_error: 0.2258\n",
      "Epoch 85/100\n",
      "640/641 [============================>.] - ETA: 0s - loss: 0.0371 - root_mean_squared_error: 0.1927\n",
      "Epoch 00085: val_loss did not improve from 0.05100\n",
      "641/641 [==============================] - 8s 12ms/step - loss: 0.0371 - root_mean_squared_error: 0.1926 - val_loss: 0.0533 - val_root_mean_squared_error: 0.2309\n",
      "Epoch 86/100\n",
      "637/641 [============================>.] - ETA: 0s - loss: 0.0381 - root_mean_squared_error: 0.1953\n",
      "Epoch 00086: val_loss did not improve from 0.05100\n",
      "641/641 [==============================] - 8s 12ms/step - loss: 0.0381 - root_mean_squared_error: 0.1952 - val_loss: 0.0514 - val_root_mean_squared_error: 0.2267\n",
      "Epoch 87/100\n",
      "641/641 [==============================] - ETA: 0s - loss: 0.0359 - root_mean_squared_error: 0.1893\n",
      "Epoch 00087: val_loss did not improve from 0.05100\n",
      "641/641 [==============================] - 8s 12ms/step - loss: 0.0359 - root_mean_squared_error: 0.1893 - val_loss: 0.0599 - val_root_mean_squared_error: 0.2447\n",
      "Epoch 88/100\n",
      "640/641 [============================>.] - ETA: 0s - loss: 0.0350 - root_mean_squared_error: 0.1870\n",
      "Epoch 00088: val_loss did not improve from 0.05100\n",
      "641/641 [==============================] - 8s 12ms/step - loss: 0.0349 - root_mean_squared_error: 0.1869 - val_loss: 0.0551 - val_root_mean_squared_error: 0.2347\n",
      "Epoch 89/100\n",
      "639/641 [============================>.] - ETA: 0s - loss: 0.0358 - root_mean_squared_error: 0.1893\n",
      "Epoch 00089: val_loss did not improve from 0.05100\n",
      "641/641 [==============================] - 8s 12ms/step - loss: 0.0358 - root_mean_squared_error: 0.1892 - val_loss: 0.0579 - val_root_mean_squared_error: 0.2407\n",
      "Epoch 90/100\n",
      "641/641 [==============================] - ETA: 0s - loss: 0.0333 - root_mean_squared_error: 0.1825\n",
      "Epoch 00090: val_loss did not improve from 0.05100\n",
      "641/641 [==============================] - 8s 12ms/step - loss: 0.0333 - root_mean_squared_error: 0.1825 - val_loss: 0.0565 - val_root_mean_squared_error: 0.2378\n",
      "Epoch 91/100\n",
      "636/641 [============================>.] - ETA: 0s - loss: 0.0378 - root_mean_squared_error: 0.1946\n",
      "Epoch 00091: val_loss did not improve from 0.05100\n",
      "641/641 [==============================] - 7s 12ms/step - loss: 0.0377 - root_mean_squared_error: 0.1941 - val_loss: 0.0560 - val_root_mean_squared_error: 0.2366\n",
      "Epoch 92/100\n",
      "637/641 [============================>.] - ETA: 0s - loss: 0.0347 - root_mean_squared_error: 0.1862\n",
      "Epoch 00092: val_loss did not improve from 0.05100\n",
      "641/641 [==============================] - 8s 12ms/step - loss: 0.0346 - root_mean_squared_error: 0.1859 - val_loss: 0.0552 - val_root_mean_squared_error: 0.2348\n",
      "Epoch 93/100\n",
      "640/641 [============================>.] - ETA: 0s - loss: 0.0326 - root_mean_squared_error: 0.1805\n",
      "Epoch 00093: val_loss did not improve from 0.05100\n",
      "641/641 [==============================] - 8s 12ms/step - loss: 0.0326 - root_mean_squared_error: 0.1805 - val_loss: 0.0619 - val_root_mean_squared_error: 0.2488\n",
      "Epoch 94/100\n",
      "637/641 [============================>.] - ETA: 0s - loss: 0.0364 - root_mean_squared_error: 0.1907\n",
      "Epoch 00094: val_loss did not improve from 0.05100\n",
      "641/641 [==============================] - 8s 12ms/step - loss: 0.0362 - root_mean_squared_error: 0.1904 - val_loss: 0.0516 - val_root_mean_squared_error: 0.2271\n",
      "Epoch 95/100\n",
      "640/641 [============================>.] - ETA: 0s - loss: 0.0337 - root_mean_squared_error: 0.1837\n",
      "Epoch 00095: val_loss improved from 0.05100 to 0.04950, saving model to /content/drive/My Drive/epochs/model_1_camera1_lr:0.0001.0095-0.0495.h5\n",
      "641/641 [==============================] - 8s 12ms/step - loss: 0.0338 - root_mean_squared_error: 0.1837 - val_loss: 0.0495 - val_root_mean_squared_error: 0.2225\n",
      "Epoch 96/100\n",
      "641/641 [==============================] - ETA: 0s - loss: 0.0318 - root_mean_squared_error: 0.1783\n",
      "Epoch 00096: val_loss did not improve from 0.04950\n",
      "641/641 [==============================] - 8s 12ms/step - loss: 0.0318 - root_mean_squared_error: 0.1783 - val_loss: 0.0533 - val_root_mean_squared_error: 0.2309\n",
      "Epoch 97/100\n",
      "641/641 [==============================] - ETA: 0s - loss: 0.0369 - root_mean_squared_error: 0.1920\n",
      "Epoch 00097: val_loss did not improve from 0.04950\n",
      "641/641 [==============================] - 8s 12ms/step - loss: 0.0369 - root_mean_squared_error: 0.1920 - val_loss: 0.0505 - val_root_mean_squared_error: 0.2248\n",
      "Epoch 98/100\n",
      "638/641 [============================>.] - ETA: 0s - loss: 0.0364 - root_mean_squared_error: 0.1907\n",
      "Epoch 00098: val_loss did not improve from 0.04950\n",
      "641/641 [==============================] - 8s 12ms/step - loss: 0.0363 - root_mean_squared_error: 0.1906 - val_loss: 0.0567 - val_root_mean_squared_error: 0.2382\n",
      "Epoch 99/100\n",
      "639/641 [============================>.] - ETA: 0s - loss: 0.0317 - root_mean_squared_error: 0.1781\n",
      "Epoch 00099: val_loss did not improve from 0.04950\n",
      "641/641 [==============================] - 8s 12ms/step - loss: 0.0317 - root_mean_squared_error: 0.1781 - val_loss: 0.0544 - val_root_mean_squared_error: 0.2332\n",
      "Epoch 100/100\n",
      "641/641 [==============================] - ETA: 0s - loss: 0.0331 - root_mean_squared_error: 0.1818\n",
      "Epoch 00100: val_loss did not improve from 0.04950\n",
      "641/641 [==============================] - 8s 12ms/step - loss: 0.0331 - root_mean_squared_error: 0.1818 - val_loss: 0.0560 - val_root_mean_squared_error: 0.2367\n"
     ]
    }
   ],
   "source": [
    "history = model.fit(X_train,\n",
    "                    y_train,\n",
    "                    batch_size=64,\n",
    "                    validation_data=(X_test, y_test),\n",
    "                    epochs=100,\n",
    "                    verbose=1,\n",
    "                    callbacks=callbacks_list)"
   ]
  },
  {
   "cell_type": "code",
   "execution_count": 10,
   "metadata": {},
   "outputs": [],
   "source": [
    "def model_history(model_name):\n",
    "    # convert the history to pandas dataframe for analysis later\n",
    "    model = pd.DataFrame({'loss': history.history['loss'],\n",
    "                        'root_mean_squared_error': history.history['root_mean_squared_error'],\n",
    "                        'val_loss': history.history['val_loss'],\n",
    "                        'val_root_mean_squared_error': history.history['val_root_mean_squared_error']},\n",
    "                        columns = ['loss', 'root_mean_squared_error', 'val_loss', 'val_root_mean_squared_error'])\n",
    "\n",
    "    model.to_csv(f'/content/drive/My Drive/datasets/{model_name}.csv', index=False)\n",
    "    return model"
   ]
  },
  {
   "cell_type": "code",
   "execution_count": null,
   "metadata": {},
   "outputs": [],
   "source": [
    "model_1_camera1 = model_history('model_1_camera1')"
   ]
  },
  {
   "cell_type": "markdown",
   "metadata": {},
   "source": [
    "### Model 1 camera2"
   ]
  },
  {
   "cell_type": "code",
   "execution_count": null,
   "metadata": {
    "colab": {},
    "colab_type": "code",
    "id": "2r7kHHOCR1co"
   },
   "outputs": [],
   "source": [
    "# load model 1 from camera1\n",
    "model = load_model('/content/drive/My Drive/epochs/model_1_camera1.0095-0.0495.h5')"
   ]
  },
  {
   "cell_type": "code",
   "execution_count": null,
   "metadata": {
    "colab": {},
    "colab_type": "code",
    "id": "9s3LCj6_27U4"
   },
   "outputs": [],
   "source": [
    "# load camera and log data\n",
    "camera2 = load('/content/drive/My Drive/datasets/camera2_cleaned.npz')\n",
    "log2 = pd.read_csv('/content/drive/My Drive/datasets/log2_cleaned.csv')"
   ]
  },
  {
   "cell_type": "code",
   "execution_count": null,
   "metadata": {
    "colab": {
     "base_uri": "https://localhost:8080/",
     "height": 34
    },
    "colab_type": "code",
    "executionInfo": {
     "elapsed": 41508,
     "status": "ok",
     "timestamp": 1596553162793,
     "user": {
      "displayName": "Tay Khim",
      "photoUrl": "",
      "userId": "00177423956135587504"
     },
     "user_tz": -480
    },
    "id": "Du-e6s796NLP",
    "outputId": "feaf0e6f-cbcc-407e-ffb2-f0aa274653b0"
   },
   "outputs": [
    {
     "name": "stdout",
     "output_type": "stream",
     "text": [
      "Done\n"
     ]
    }
   ],
   "source": [
    "# goes through processing function\n",
    "camera_processing(camera2, 'camera2')"
   ]
  },
  {
   "cell_type": "code",
   "execution_count": null,
   "metadata": {
    "colab": {
     "base_uri": "https://localhost:8080/",
     "height": 34
    },
    "colab_type": "code",
    "executionInfo": {
     "elapsed": 974,
     "status": "ok",
     "timestamp": 1596551749941,
     "user": {
      "displayName": "Tay Khim",
      "photoUrl": "",
      "userId": "00177423956135587504"
     },
     "user_tz": -480
    },
    "id": "GGt1rZCf5jlY",
    "outputId": "5e5b5ea4-c3d3-48b1-d9a8-eaf8f6196403"
   },
   "outputs": [
    {
     "name": "stdout",
     "output_type": "stream",
     "text": [
      "Done\n"
     ]
    }
   ],
   "source": [
    "# goes through processing function\n",
    "log_processing(log2, 'log2')"
   ]
  },
  {
   "cell_type": "code",
   "execution_count": null,
   "metadata": {
    "colab": {
     "base_uri": "https://localhost:8080/",
     "height": 34
    },
    "colab_type": "code",
    "executionInfo": {
     "elapsed": 43926,
     "status": "ok",
     "timestamp": 1596553206749,
     "user": {
      "displayName": "Tay Khim",
      "photoUrl": "",
      "userId": "00177423956135587504"
     },
     "user_tz": -480
    },
    "id": "Uv2fmI93-uMr",
    "outputId": "bba8f6d9-5f26-46e8-ce7a-5583f1d03259"
   },
   "outputs": [
    {
     "name": "stdout",
     "output_type": "stream",
     "text": [
      "Done\n"
     ]
    }
   ],
   "source": [
    "# train_test_split camera2 data\n",
    "train_split('camera2', 'log2')"
   ]
  },
  {
   "cell_type": "code",
   "execution_count": null,
   "metadata": {
    "colab": {},
    "colab_type": "code",
    "id": "WAUy7zNGTln4"
   },
   "outputs": [],
   "source": [
    "# load the data for camera2\n",
    "X_train, X_test, y_train, y_test = train_load('camera2')"
   ]
  },
  {
   "cell_type": "code",
   "execution_count": null,
   "metadata": {
    "colab": {
     "base_uri": "https://localhost:8080/",
     "height": 34
    },
    "colab_type": "code",
    "executionInfo": {
     "elapsed": 34393,
     "status": "ok",
     "timestamp": 1596555890076,
     "user": {
      "displayName": "Tay Khim",
      "photoUrl": "",
      "userId": "00177423956135587504"
     },
     "user_tz": -480
    },
    "id": "wHIpb0obTvZy",
    "outputId": "ddbb1426-69c8-4bd1-a092-28c9d30783c8"
   },
   "outputs": [
    {
     "data": {
      "text/plain": [
       "((44958, 80, 160, 1), (11240, 80, 160, 1), (44958, 1), (11240, 1))"
      ]
     },
     "execution_count": 19,
     "metadata": {
      "tags": []
     },
     "output_type": "execute_result"
    }
   ],
   "source": [
    "X_train.shape, X_test.shape, y_train.shape, y_test.shape"
   ]
  },
  {
   "cell_type": "code",
   "execution_count": null,
   "metadata": {
    "colab": {},
    "colab_type": "code",
    "id": "YorsRxR6SkL2"
   },
   "outputs": [],
   "source": [
    "# set checkpoints\n",
    "filepath = \"/content/drive/My Drive/epochs/model_1_camera2.{epoch:04d}-{val_loss:.4f}.h5\"\n",
    "checkpoint = ModelCheckpoint(filepath, monitor='val_loss', verbose=1, save_best_only=True, mode='min')\n",
    "callbacks_list = [checkpoint]"
   ]
  },
  {
   "cell_type": "code",
   "execution_count": null,
   "metadata": {
    "colab": {
     "base_uri": "https://localhost:8080/",
     "height": 1000
    },
    "colab_type": "code",
    "collapsed": true,
    "executionInfo": {
     "elapsed": 888046,
     "status": "ok",
     "timestamp": 1596556743760,
     "user": {
      "displayName": "Tay Khim",
      "photoUrl": "",
      "userId": "00177423956135587504"
     },
     "user_tz": -480
    },
    "id": "wc2lXnpYSsYh",
    "outputId": "c318a2c4-4437-479c-c9e6-864679bed157"
   },
   "outputs": [
    {
     "name": "stdout",
     "output_type": "stream",
     "text": [
      "Epoch 1/100\n",
      "703/703 [==============================] - ETA: 0s - loss: 0.0453 - root_mean_squared_error: 0.2128\n",
      "Epoch 00001: val_loss improved from inf to 0.03440, saving model to /content/drive/My Drive/epochs/model_1_camera2.0001-0.0344.h5\n",
      "703/703 [==============================] - 9s 12ms/step - loss: 0.0453 - root_mean_squared_error: 0.2128 - val_loss: 0.0344 - val_root_mean_squared_error: 0.1855\n",
      "Epoch 2/100\n",
      "700/703 [============================>.] - ETA: 0s - loss: 0.0373 - root_mean_squared_error: 0.1932\n",
      "Epoch 00002: val_loss improved from 0.03440 to 0.03242, saving model to /content/drive/My Drive/epochs/model_1_camera2.0002-0.0324.h5\n",
      "703/703 [==============================] - 8s 12ms/step - loss: 0.0372 - root_mean_squared_error: 0.1929 - val_loss: 0.0324 - val_root_mean_squared_error: 0.1801\n",
      "Epoch 3/100\n",
      "703/703 [==============================] - ETA: 0s - loss: 0.0343 - root_mean_squared_error: 0.1853\n",
      "Epoch 00003: val_loss improved from 0.03242 to 0.02947, saving model to /content/drive/My Drive/epochs/model_1_camera2.0003-0.0295.h5\n",
      "703/703 [==============================] - 9s 12ms/step - loss: 0.0343 - root_mean_squared_error: 0.1853 - val_loss: 0.0295 - val_root_mean_squared_error: 0.1717\n",
      "Epoch 4/100\n",
      "701/703 [============================>.] - ETA: 0s - loss: 0.0323 - root_mean_squared_error: 0.1797\n",
      "Epoch 00004: val_loss improved from 0.02947 to 0.02590, saving model to /content/drive/My Drive/epochs/model_1_camera2.0004-0.0259.h5\n",
      "703/703 [==============================] - 8s 12ms/step - loss: 0.0323 - root_mean_squared_error: 0.1797 - val_loss: 0.0259 - val_root_mean_squared_error: 0.1609\n",
      "Epoch 5/100\n",
      "700/703 [============================>.] - ETA: 0s - loss: 0.0281 - root_mean_squared_error: 0.1676\n",
      "Epoch 00005: val_loss improved from 0.02590 to 0.02492, saving model to /content/drive/My Drive/epochs/model_1_camera2.0005-0.0249.h5\n",
      "703/703 [==============================] - 9s 12ms/step - loss: 0.0281 - root_mean_squared_error: 0.1678 - val_loss: 0.0249 - val_root_mean_squared_error: 0.1579\n",
      "Epoch 6/100\n",
      "699/703 [============================>.] - ETA: 0s - loss: 0.0237 - root_mean_squared_error: 0.1540\n",
      "Epoch 00006: val_loss improved from 0.02492 to 0.01978, saving model to /content/drive/My Drive/epochs/model_1_camera2.0006-0.0198.h5\n",
      "703/703 [==============================] - 8s 12ms/step - loss: 0.0238 - root_mean_squared_error: 0.1543 - val_loss: 0.0198 - val_root_mean_squared_error: 0.1407\n",
      "Epoch 7/100\n",
      "699/703 [============================>.] - ETA: 0s - loss: 0.0224 - root_mean_squared_error: 0.1495\n",
      "Epoch 00007: val_loss did not improve from 0.01978\n",
      "703/703 [==============================] - 8s 12ms/step - loss: 0.0224 - root_mean_squared_error: 0.1495 - val_loss: 0.0213 - val_root_mean_squared_error: 0.1458\n",
      "Epoch 8/100\n",
      "700/703 [============================>.] - ETA: 0s - loss: 0.0217 - root_mean_squared_error: 0.1473\n",
      "Epoch 00008: val_loss improved from 0.01978 to 0.01668, saving model to /content/drive/My Drive/epochs/model_1_camera2.0008-0.0167.h5\n",
      "703/703 [==============================] - 8s 12ms/step - loss: 0.0217 - root_mean_squared_error: 0.1473 - val_loss: 0.0167 - val_root_mean_squared_error: 0.1291\n",
      "Epoch 9/100\n",
      "702/703 [============================>.] - ETA: 0s - loss: 0.0203 - root_mean_squared_error: 0.1425\n",
      "Epoch 00009: val_loss improved from 0.01668 to 0.01663, saving model to /content/drive/My Drive/epochs/model_1_camera2.0009-0.0166.h5\n",
      "703/703 [==============================] - 8s 12ms/step - loss: 0.0203 - root_mean_squared_error: 0.1425 - val_loss: 0.0166 - val_root_mean_squared_error: 0.1289\n",
      "Epoch 10/100\n",
      "703/703 [==============================] - ETA: 0s - loss: 0.0189 - root_mean_squared_error: 0.1377\n",
      "Epoch 00010: val_loss did not improve from 0.01663\n",
      "703/703 [==============================] - 8s 12ms/step - loss: 0.0189 - root_mean_squared_error: 0.1377 - val_loss: 0.0183 - val_root_mean_squared_error: 0.1354\n",
      "Epoch 11/100\n",
      "701/703 [============================>.] - ETA: 0s - loss: 0.0179 - root_mean_squared_error: 0.1338\n",
      "Epoch 00011: val_loss improved from 0.01663 to 0.01428, saving model to /content/drive/My Drive/epochs/model_1_camera2.0011-0.0143.h5\n",
      "703/703 [==============================] - 8s 12ms/step - loss: 0.0180 - root_mean_squared_error: 0.1340 - val_loss: 0.0143 - val_root_mean_squared_error: 0.1195\n",
      "Epoch 12/100\n",
      "700/703 [============================>.] - ETA: 0s - loss: 0.0169 - root_mean_squared_error: 0.1302\n",
      "Epoch 00012: val_loss did not improve from 0.01428\n",
      "703/703 [==============================] - 8s 12ms/step - loss: 0.0169 - root_mean_squared_error: 0.1301 - val_loss: 0.0153 - val_root_mean_squared_error: 0.1237\n",
      "Epoch 13/100\n",
      "702/703 [============================>.] - ETA: 0s - loss: 0.0167 - root_mean_squared_error: 0.1291\n",
      "Epoch 00013: val_loss improved from 0.01428 to 0.01313, saving model to /content/drive/My Drive/epochs/model_1_camera2.0013-0.0131.h5\n",
      "703/703 [==============================] - 8s 12ms/step - loss: 0.0167 - root_mean_squared_error: 0.1291 - val_loss: 0.0131 - val_root_mean_squared_error: 0.1146\n",
      "Epoch 14/100\n",
      "701/703 [============================>.] - ETA: 0s - loss: 0.0161 - root_mean_squared_error: 0.1267\n",
      "Epoch 00014: val_loss did not improve from 0.01313\n",
      "703/703 [==============================] - 8s 12ms/step - loss: 0.0160 - root_mean_squared_error: 0.1267 - val_loss: 0.0162 - val_root_mean_squared_error: 0.1272\n",
      "Epoch 15/100\n",
      "701/703 [============================>.] - ETA: 0s - loss: 0.0166 - root_mean_squared_error: 0.1290\n",
      "Epoch 00015: val_loss did not improve from 0.01313\n",
      "703/703 [==============================] - 8s 12ms/step - loss: 0.0166 - root_mean_squared_error: 0.1289 - val_loss: 0.0133 - val_root_mean_squared_error: 0.1153\n",
      "Epoch 16/100\n",
      "701/703 [============================>.] - ETA: 0s - loss: 0.0149 - root_mean_squared_error: 0.1219\n",
      "Epoch 00016: val_loss did not improve from 0.01313\n",
      "703/703 [==============================] - 8s 12ms/step - loss: 0.0148 - root_mean_squared_error: 0.1218 - val_loss: 0.0139 - val_root_mean_squared_error: 0.1179\n",
      "Epoch 17/100\n",
      "701/703 [============================>.] - ETA: 0s - loss: 0.0144 - root_mean_squared_error: 0.1199\n",
      "Epoch 00017: val_loss improved from 0.01313 to 0.01201, saving model to /content/drive/My Drive/epochs/model_1_camera2.0017-0.0120.h5\n",
      "703/703 [==============================] - 9s 12ms/step - loss: 0.0144 - root_mean_squared_error: 0.1198 - val_loss: 0.0120 - val_root_mean_squared_error: 0.1096\n",
      "Epoch 18/100\n",
      "701/703 [============================>.] - ETA: 0s - loss: 0.0145 - root_mean_squared_error: 0.1205\n",
      "Epoch 00018: val_loss improved from 0.01201 to 0.01176, saving model to /content/drive/My Drive/epochs/model_1_camera2.0018-0.0118.h5\n",
      "703/703 [==============================] - 9s 12ms/step - loss: 0.0145 - root_mean_squared_error: 0.1204 - val_loss: 0.0118 - val_root_mean_squared_error: 0.1084\n",
      "Epoch 19/100\n",
      "699/703 [============================>.] - ETA: 0s - loss: 0.0135 - root_mean_squared_error: 0.1160\n",
      "Epoch 00019: val_loss did not improve from 0.01176\n",
      "703/703 [==============================] - 8s 12ms/step - loss: 0.0135 - root_mean_squared_error: 0.1160 - val_loss: 0.0118 - val_root_mean_squared_error: 0.1085\n",
      "Epoch 20/100\n",
      "700/703 [============================>.] - ETA: 0s - loss: 0.0138 - root_mean_squared_error: 0.1173\n",
      "Epoch 00020: val_loss improved from 0.01176 to 0.01145, saving model to /content/drive/My Drive/epochs/model_1_camera2.0020-0.0114.h5\n",
      "703/703 [==============================] - 9s 12ms/step - loss: 0.0138 - root_mean_squared_error: 0.1173 - val_loss: 0.0114 - val_root_mean_squared_error: 0.1070\n",
      "Epoch 21/100\n",
      "703/703 [==============================] - ETA: 0s - loss: 0.0133 - root_mean_squared_error: 0.1152\n",
      "Epoch 00021: val_loss improved from 0.01145 to 0.01076, saving model to /content/drive/My Drive/epochs/model_1_camera2.0021-0.0108.h5\n",
      "703/703 [==============================] - 9s 12ms/step - loss: 0.0133 - root_mean_squared_error: 0.1152 - val_loss: 0.0108 - val_root_mean_squared_error: 0.1037\n",
      "Epoch 22/100\n",
      "700/703 [============================>.] - ETA: 0s - loss: 0.0130 - root_mean_squared_error: 0.1141\n",
      "Epoch 00022: val_loss did not improve from 0.01076\n",
      "703/703 [==============================] - 8s 12ms/step - loss: 0.0130 - root_mean_squared_error: 0.1141 - val_loss: 0.0123 - val_root_mean_squared_error: 0.1110\n",
      "Epoch 23/100\n",
      "700/703 [============================>.] - ETA: 0s - loss: 0.0123 - root_mean_squared_error: 0.1109\n",
      "Epoch 00023: val_loss did not improve from 0.01076\n",
      "703/703 [==============================] - 8s 12ms/step - loss: 0.0123 - root_mean_squared_error: 0.1108 - val_loss: 0.0111 - val_root_mean_squared_error: 0.1053\n",
      "Epoch 24/100\n",
      "701/703 [============================>.] - ETA: 0s - loss: 0.0110 - root_mean_squared_error: 0.1047\n",
      "Epoch 00024: val_loss did not improve from 0.01076\n",
      "703/703 [==============================] - 8s 12ms/step - loss: 0.0110 - root_mean_squared_error: 0.1047 - val_loss: 0.0126 - val_root_mean_squared_error: 0.1123\n",
      "Epoch 25/100\n",
      "701/703 [============================>.] - ETA: 0s - loss: 0.0119 - root_mean_squared_error: 0.1091\n",
      "Epoch 00025: val_loss did not improve from 0.01076\n",
      "703/703 [==============================] - 8s 12ms/step - loss: 0.0119 - root_mean_squared_error: 0.1090 - val_loss: 0.0112 - val_root_mean_squared_error: 0.1058\n",
      "Epoch 26/100\n",
      "700/703 [============================>.] - ETA: 0s - loss: 0.0118 - root_mean_squared_error: 0.1086\n",
      "Epoch 00026: val_loss improved from 0.01076 to 0.01038, saving model to /content/drive/My Drive/epochs/model_1_camera2.0026-0.0104.h5\n",
      "703/703 [==============================] - 8s 12ms/step - loss: 0.0118 - root_mean_squared_error: 0.1087 - val_loss: 0.0104 - val_root_mean_squared_error: 0.1019\n",
      "Epoch 27/100\n",
      "698/703 [============================>.] - ETA: 0s - loss: 0.0114 - root_mean_squared_error: 0.1068\n",
      "Epoch 00027: val_loss did not improve from 0.01038\n",
      "703/703 [==============================] - 8s 12ms/step - loss: 0.0114 - root_mean_squared_error: 0.1068 - val_loss: 0.0108 - val_root_mean_squared_error: 0.1037\n",
      "Epoch 28/100\n",
      "703/703 [==============================] - ETA: 0s - loss: 0.0112 - root_mean_squared_error: 0.1056\n",
      "Epoch 00028: val_loss did not improve from 0.01038\n",
      "703/703 [==============================] - 8s 12ms/step - loss: 0.0112 - root_mean_squared_error: 0.1056 - val_loss: 0.0116 - val_root_mean_squared_error: 0.1079\n",
      "Epoch 29/100\n",
      "702/703 [============================>.] - ETA: 0s - loss: 0.0112 - root_mean_squared_error: 0.1056\n",
      "Epoch 00029: val_loss improved from 0.01038 to 0.01029, saving model to /content/drive/My Drive/epochs/model_1_camera2.0029-0.0103.h5\n",
      "703/703 [==============================] - 8s 12ms/step - loss: 0.0111 - root_mean_squared_error: 0.1056 - val_loss: 0.0103 - val_root_mean_squared_error: 0.1014\n",
      "Epoch 30/100\n",
      "698/703 [============================>.] - ETA: 0s - loss: 0.0119 - root_mean_squared_error: 0.1091\n",
      "Epoch 00030: val_loss improved from 0.01029 to 0.01010, saving model to /content/drive/My Drive/epochs/model_1_camera2.0030-0.0101.h5\n",
      "703/703 [==============================] - 8s 12ms/step - loss: 0.0119 - root_mean_squared_error: 0.1092 - val_loss: 0.0101 - val_root_mean_squared_error: 0.1005\n",
      "Epoch 31/100\n",
      "700/703 [============================>.] - ETA: 0s - loss: 0.0099 - root_mean_squared_error: 0.0996\n",
      "Epoch 00031: val_loss did not improve from 0.01010\n",
      "703/703 [==============================] - 8s 12ms/step - loss: 0.0099 - root_mean_squared_error: 0.0996 - val_loss: 0.0109 - val_root_mean_squared_error: 0.1042\n",
      "Epoch 32/100\n",
      "699/703 [============================>.] - ETA: 0s - loss: 0.0112 - root_mean_squared_error: 0.1058\n",
      "Epoch 00032: val_loss did not improve from 0.01010\n",
      "703/703 [==============================] - 8s 12ms/step - loss: 0.0112 - root_mean_squared_error: 0.1057 - val_loss: 0.0112 - val_root_mean_squared_error: 0.1059\n",
      "Epoch 33/100\n",
      "701/703 [============================>.] - ETA: 0s - loss: 0.0101 - root_mean_squared_error: 0.1005\n",
      "Epoch 00033: val_loss did not improve from 0.01010\n",
      "703/703 [==============================] - 9s 12ms/step - loss: 0.0102 - root_mean_squared_error: 0.1008 - val_loss: 0.0101 - val_root_mean_squared_error: 0.1006\n",
      "Epoch 34/100\n",
      "699/703 [============================>.] - ETA: 0s - loss: 0.0107 - root_mean_squared_error: 0.1036\n",
      "Epoch 00034: val_loss did not improve from 0.01010\n",
      "703/703 [==============================] - 8s 12ms/step - loss: 0.0107 - root_mean_squared_error: 0.1035 - val_loss: 0.0103 - val_root_mean_squared_error: 0.1016\n",
      "Epoch 35/100\n",
      "701/703 [============================>.] - ETA: 0s - loss: 0.0103 - root_mean_squared_error: 0.1014\n",
      "Epoch 00035: val_loss did not improve from 0.01010\n",
      "703/703 [==============================] - 8s 12ms/step - loss: 0.0103 - root_mean_squared_error: 0.1017 - val_loss: 0.0102 - val_root_mean_squared_error: 0.1011\n",
      "Epoch 36/100\n",
      "702/703 [============================>.] - ETA: 0s - loss: 0.0098 - root_mean_squared_error: 0.0989\n",
      "Epoch 00036: val_loss did not improve from 0.01010\n",
      "703/703 [==============================] - 8s 12ms/step - loss: 0.0098 - root_mean_squared_error: 0.0989 - val_loss: 0.0108 - val_root_mean_squared_error: 0.1041\n",
      "Epoch 37/100\n",
      "702/703 [============================>.] - ETA: 0s - loss: 0.0103 - root_mean_squared_error: 0.1016\n",
      "Epoch 00037: val_loss did not improve from 0.01010\n",
      "703/703 [==============================] - 8s 12ms/step - loss: 0.0103 - root_mean_squared_error: 0.1015 - val_loss: 0.0113 - val_root_mean_squared_error: 0.1062\n",
      "Epoch 38/100\n",
      "701/703 [============================>.] - ETA: 0s - loss: 0.0091 - root_mean_squared_error: 0.0955\n",
      "Epoch 00038: val_loss did not improve from 0.01010\n",
      "703/703 [==============================] - 8s 12ms/step - loss: 0.0091 - root_mean_squared_error: 0.0955 - val_loss: 0.0119 - val_root_mean_squared_error: 0.1089\n",
      "Epoch 39/100\n",
      "700/703 [============================>.] - ETA: 0s - loss: 0.0091 - root_mean_squared_error: 0.0956\n",
      "Epoch 00039: val_loss improved from 0.01010 to 0.00932, saving model to /content/drive/My Drive/epochs/model_1_camera2.0039-0.0093.h5\n",
      "703/703 [==============================] - 8s 12ms/step - loss: 0.0092 - root_mean_squared_error: 0.0957 - val_loss: 0.0093 - val_root_mean_squared_error: 0.0966\n",
      "Epoch 40/100\n",
      "701/703 [============================>.] - ETA: 0s - loss: 0.0087 - root_mean_squared_error: 0.0935\n",
      "Epoch 00040: val_loss improved from 0.00932 to 0.00904, saving model to /content/drive/My Drive/epochs/model_1_camera2.0040-0.0090.h5\n",
      "703/703 [==============================] - 8s 12ms/step - loss: 0.0087 - root_mean_squared_error: 0.0935 - val_loss: 0.0090 - val_root_mean_squared_error: 0.0951\n",
      "Epoch 41/100\n",
      "702/703 [============================>.] - ETA: 0s - loss: 0.0094 - root_mean_squared_error: 0.0968\n",
      "Epoch 00041: val_loss did not improve from 0.00904\n",
      "703/703 [==============================] - 8s 12ms/step - loss: 0.0094 - root_mean_squared_error: 0.0968 - val_loss: 0.0096 - val_root_mean_squared_error: 0.0981\n",
      "Epoch 42/100\n",
      "699/703 [============================>.] - ETA: 0s - loss: 0.0088 - root_mean_squared_error: 0.0940\n",
      "Epoch 00042: val_loss did not improve from 0.00904\n",
      "703/703 [==============================] - 8s 12ms/step - loss: 0.0089 - root_mean_squared_error: 0.0942 - val_loss: 0.0098 - val_root_mean_squared_error: 0.0990\n",
      "Epoch 43/100\n",
      "698/703 [============================>.] - ETA: 0s - loss: 0.0084 - root_mean_squared_error: 0.0915\n",
      "Epoch 00043: val_loss improved from 0.00904 to 0.00864, saving model to /content/drive/My Drive/epochs/model_1_camera2.0043-0.0086.h5\n",
      "703/703 [==============================] - 8s 12ms/step - loss: 0.0083 - root_mean_squared_error: 0.0914 - val_loss: 0.0086 - val_root_mean_squared_error: 0.0929\n",
      "Epoch 44/100\n",
      "702/703 [============================>.] - ETA: 0s - loss: 0.0084 - root_mean_squared_error: 0.0915\n",
      "Epoch 00044: val_loss did not improve from 0.00864\n",
      "703/703 [==============================] - 8s 12ms/step - loss: 0.0084 - root_mean_squared_error: 0.0914 - val_loss: 0.0095 - val_root_mean_squared_error: 0.0975\n",
      "Epoch 45/100\n",
      "702/703 [============================>.] - ETA: 0s - loss: 0.0093 - root_mean_squared_error: 0.0965\n",
      "Epoch 00045: val_loss did not improve from 0.00864\n",
      "703/703 [==============================] - 8s 12ms/step - loss: 0.0093 - root_mean_squared_error: 0.0965 - val_loss: 0.0098 - val_root_mean_squared_error: 0.0990\n",
      "Epoch 46/100\n",
      "698/703 [============================>.] - ETA: 0s - loss: 0.0083 - root_mean_squared_error: 0.0910\n",
      "Epoch 00046: val_loss did not improve from 0.00864\n",
      "703/703 [==============================] - 8s 12ms/step - loss: 0.0083 - root_mean_squared_error: 0.0910 - val_loss: 0.0100 - val_root_mean_squared_error: 0.0998\n",
      "Epoch 47/100\n",
      "700/703 [============================>.] - ETA: 0s - loss: 0.0082 - root_mean_squared_error: 0.0907\n",
      "Epoch 00047: val_loss did not improve from 0.00864\n",
      "703/703 [==============================] - 8s 12ms/step - loss: 0.0082 - root_mean_squared_error: 0.0906 - val_loss: 0.0099 - val_root_mean_squared_error: 0.0994\n",
      "Epoch 48/100\n",
      "698/703 [============================>.] - ETA: 0s - loss: 0.0083 - root_mean_squared_error: 0.0909\n",
      "Epoch 00048: val_loss did not improve from 0.00864\n",
      "703/703 [==============================] - 8s 12ms/step - loss: 0.0082 - root_mean_squared_error: 0.0908 - val_loss: 0.0100 - val_root_mean_squared_error: 0.0999\n",
      "Epoch 49/100\n",
      "699/703 [============================>.] - ETA: 0s - loss: 0.0078 - root_mean_squared_error: 0.0884\n",
      "Epoch 00049: val_loss did not improve from 0.00864\n",
      "703/703 [==============================] - 8s 12ms/step - loss: 0.0078 - root_mean_squared_error: 0.0885 - val_loss: 0.0087 - val_root_mean_squared_error: 0.0931\n",
      "Epoch 50/100\n",
      "699/703 [============================>.] - ETA: 0s - loss: 0.0080 - root_mean_squared_error: 0.0896\n",
      "Epoch 00050: val_loss did not improve from 0.00864\n",
      "703/703 [==============================] - 9s 12ms/step - loss: 0.0080 - root_mean_squared_error: 0.0895 - val_loss: 0.0109 - val_root_mean_squared_error: 0.1045\n",
      "Epoch 51/100\n",
      "703/703 [==============================] - ETA: 0s - loss: 0.0077 - root_mean_squared_error: 0.0875\n",
      "Epoch 00051: val_loss did not improve from 0.00864\n",
      "703/703 [==============================] - 9s 12ms/step - loss: 0.0077 - root_mean_squared_error: 0.0875 - val_loss: 0.0093 - val_root_mean_squared_error: 0.0962\n",
      "Epoch 52/100\n",
      "703/703 [==============================] - ETA: 0s - loss: 0.0079 - root_mean_squared_error: 0.0889\n",
      "Epoch 00052: val_loss did not improve from 0.00864\n",
      "703/703 [==============================] - 9s 12ms/step - loss: 0.0079 - root_mean_squared_error: 0.0889 - val_loss: 0.0098 - val_root_mean_squared_error: 0.0991\n",
      "Epoch 53/100\n",
      "701/703 [============================>.] - ETA: 0s - loss: 0.0077 - root_mean_squared_error: 0.0878\n",
      "Epoch 00053: val_loss did not improve from 0.00864\n",
      "703/703 [==============================] - 9s 12ms/step - loss: 0.0077 - root_mean_squared_error: 0.0877 - val_loss: 0.0087 - val_root_mean_squared_error: 0.0934\n",
      "Epoch 54/100\n",
      "703/703 [==============================] - ETA: 0s - loss: 0.0084 - root_mean_squared_error: 0.0918\n",
      "Epoch 00054: val_loss did not improve from 0.00864\n",
      "703/703 [==============================] - 9s 12ms/step - loss: 0.0084 - root_mean_squared_error: 0.0918 - val_loss: 0.0096 - val_root_mean_squared_error: 0.0981\n",
      "Epoch 55/100\n",
      "700/703 [============================>.] - ETA: 0s - loss: 0.0079 - root_mean_squared_error: 0.0887\n",
      "Epoch 00055: val_loss did not improve from 0.00864\n",
      "703/703 [==============================] - 9s 12ms/step - loss: 0.0079 - root_mean_squared_error: 0.0889 - val_loss: 0.0087 - val_root_mean_squared_error: 0.0934\n",
      "Epoch 56/100\n",
      "699/703 [============================>.] - ETA: 0s - loss: 0.0075 - root_mean_squared_error: 0.0867\n",
      "Epoch 00056: val_loss did not improve from 0.00864\n",
      "703/703 [==============================] - 9s 12ms/step - loss: 0.0075 - root_mean_squared_error: 0.0866 - val_loss: 0.0094 - val_root_mean_squared_error: 0.0969\n",
      "Epoch 57/100\n",
      "701/703 [============================>.] - ETA: 0s - loss: 0.0073 - root_mean_squared_error: 0.0852\n",
      "Epoch 00057: val_loss did not improve from 0.00864\n",
      "703/703 [==============================] - 9s 13ms/step - loss: 0.0073 - root_mean_squared_error: 0.0852 - val_loss: 0.0092 - val_root_mean_squared_error: 0.0960\n",
      "Epoch 58/100\n",
      "698/703 [============================>.] - ETA: 0s - loss: 0.0075 - root_mean_squared_error: 0.0864\n",
      "Epoch 00058: val_loss did not improve from 0.00864\n",
      "703/703 [==============================] - 9s 12ms/step - loss: 0.0076 - root_mean_squared_error: 0.0869 - val_loss: 0.0101 - val_root_mean_squared_error: 0.1003\n",
      "Epoch 59/100\n",
      "702/703 [============================>.] - ETA: 0s - loss: 0.0076 - root_mean_squared_error: 0.0870\n",
      "Epoch 00059: val_loss did not improve from 0.00864\n",
      "703/703 [==============================] - 9s 12ms/step - loss: 0.0076 - root_mean_squared_error: 0.0870 - val_loss: 0.0096 - val_root_mean_squared_error: 0.0981\n",
      "Epoch 60/100\n",
      "700/703 [============================>.] - ETA: 0s - loss: 0.0071 - root_mean_squared_error: 0.0845\n",
      "Epoch 00060: val_loss did not improve from 0.00864\n",
      "703/703 [==============================] - 9s 12ms/step - loss: 0.0071 - root_mean_squared_error: 0.0845 - val_loss: 0.0094 - val_root_mean_squared_error: 0.0970\n",
      "Epoch 61/100\n",
      "701/703 [============================>.] - ETA: 0s - loss: 0.0078 - root_mean_squared_error: 0.0884\n",
      "Epoch 00061: val_loss did not improve from 0.00864\n",
      "703/703 [==============================] - 9s 12ms/step - loss: 0.0078 - root_mean_squared_error: 0.0883 - val_loss: 0.0101 - val_root_mean_squared_error: 0.1006\n",
      "Epoch 62/100\n",
      "702/703 [============================>.] - ETA: 0s - loss: 0.0070 - root_mean_squared_error: 0.0834\n",
      "Epoch 00062: val_loss did not improve from 0.00864\n",
      "703/703 [==============================] - 9s 12ms/step - loss: 0.0070 - root_mean_squared_error: 0.0838 - val_loss: 0.0097 - val_root_mean_squared_error: 0.0987\n",
      "Epoch 63/100\n",
      "698/703 [============================>.] - ETA: 0s - loss: 0.0069 - root_mean_squared_error: 0.0832\n",
      "Epoch 00063: val_loss did not improve from 0.00864\n",
      "703/703 [==============================] - 9s 12ms/step - loss: 0.0069 - root_mean_squared_error: 0.0833 - val_loss: 0.0098 - val_root_mean_squared_error: 0.0988\n",
      "Epoch 64/100\n",
      "699/703 [============================>.] - ETA: 0s - loss: 0.0071 - root_mean_squared_error: 0.0843\n",
      "Epoch 00064: val_loss did not improve from 0.00864\n",
      "703/703 [==============================] - 8s 12ms/step - loss: 0.0071 - root_mean_squared_error: 0.0843 - val_loss: 0.0093 - val_root_mean_squared_error: 0.0963\n",
      "Epoch 65/100\n",
      "700/703 [============================>.] - ETA: 0s - loss: 0.0074 - root_mean_squared_error: 0.0860\n",
      "Epoch 00065: val_loss did not improve from 0.00864\n",
      "703/703 [==============================] - 9s 12ms/step - loss: 0.0074 - root_mean_squared_error: 0.0859 - val_loss: 0.0106 - val_root_mean_squared_error: 0.1030\n",
      "Epoch 66/100\n",
      "698/703 [============================>.] - ETA: 0s - loss: 0.0074 - root_mean_squared_error: 0.0858\n",
      "Epoch 00066: val_loss did not improve from 0.00864\n",
      "703/703 [==============================] - 9s 12ms/step - loss: 0.0074 - root_mean_squared_error: 0.0859 - val_loss: 0.0097 - val_root_mean_squared_error: 0.0983\n",
      "Epoch 67/100\n",
      "702/703 [============================>.] - ETA: 0s - loss: 0.0074 - root_mean_squared_error: 0.0861\n",
      "Epoch 00067: val_loss did not improve from 0.00864\n",
      "703/703 [==============================] - 9s 12ms/step - loss: 0.0074 - root_mean_squared_error: 0.0861 - val_loss: 0.0097 - val_root_mean_squared_error: 0.0983\n",
      "Epoch 68/100\n",
      "699/703 [============================>.] - ETA: 0s - loss: 0.0063 - root_mean_squared_error: 0.0796\n",
      "Epoch 00068: val_loss did not improve from 0.00864\n",
      "703/703 [==============================] - 9s 12ms/step - loss: 0.0063 - root_mean_squared_error: 0.0796 - val_loss: 0.0090 - val_root_mean_squared_error: 0.0951\n",
      "Epoch 69/100\n",
      "703/703 [==============================] - ETA: 0s - loss: 0.0067 - root_mean_squared_error: 0.0817\n",
      "Epoch 00069: val_loss did not improve from 0.00864\n",
      "703/703 [==============================] - 9s 12ms/step - loss: 0.0067 - root_mean_squared_error: 0.0817 - val_loss: 0.0089 - val_root_mean_squared_error: 0.0943\n",
      "Epoch 70/100\n",
      "703/703 [==============================] - ETA: 0s - loss: 0.0065 - root_mean_squared_error: 0.0805\n",
      "Epoch 00070: val_loss did not improve from 0.00864\n",
      "703/703 [==============================] - 9s 13ms/step - loss: 0.0065 - root_mean_squared_error: 0.0805 - val_loss: 0.0092 - val_root_mean_squared_error: 0.0961\n",
      "Epoch 71/100\n",
      "699/703 [============================>.] - ETA: 0s - loss: 0.0069 - root_mean_squared_error: 0.0829\n",
      "Epoch 00071: val_loss did not improve from 0.00864\n",
      "703/703 [==============================] - 9s 12ms/step - loss: 0.0069 - root_mean_squared_error: 0.0829 - val_loss: 0.0089 - val_root_mean_squared_error: 0.0946\n",
      "Epoch 72/100\n",
      "701/703 [============================>.] - ETA: 0s - loss: 0.0069 - root_mean_squared_error: 0.0834\n",
      "Epoch 00072: val_loss improved from 0.00864 to 0.00839, saving model to /content/drive/My Drive/epochs/model_1_camera2.0072-0.0084.h5\n",
      "703/703 [==============================] - 9s 12ms/step - loss: 0.0069 - root_mean_squared_error: 0.0833 - val_loss: 0.0084 - val_root_mean_squared_error: 0.0916\n",
      "Epoch 73/100\n",
      "699/703 [============================>.] - ETA: 0s - loss: 0.0068 - root_mean_squared_error: 0.0826\n",
      "Epoch 00073: val_loss did not improve from 0.00839\n",
      "703/703 [==============================] - 9s 12ms/step - loss: 0.0068 - root_mean_squared_error: 0.0826 - val_loss: 0.0099 - val_root_mean_squared_error: 0.0993\n",
      "Epoch 74/100\n",
      "703/703 [==============================] - ETA: 0s - loss: 0.0064 - root_mean_squared_error: 0.0801\n",
      "Epoch 00074: val_loss did not improve from 0.00839\n",
      "703/703 [==============================] - 9s 12ms/step - loss: 0.0064 - root_mean_squared_error: 0.0801 - val_loss: 0.0088 - val_root_mean_squared_error: 0.0937\n",
      "Epoch 75/100\n",
      "699/703 [============================>.] - ETA: 0s - loss: 0.0063 - root_mean_squared_error: 0.0794\n",
      "Epoch 00075: val_loss improved from 0.00839 to 0.00806, saving model to /content/drive/My Drive/epochs/model_1_camera2.0075-0.0081.h5\n",
      "703/703 [==============================] - 9s 12ms/step - loss: 0.0063 - root_mean_squared_error: 0.0793 - val_loss: 0.0081 - val_root_mean_squared_error: 0.0898\n",
      "Epoch 76/100\n",
      "700/703 [============================>.] - ETA: 0s - loss: 0.0062 - root_mean_squared_error: 0.0788\n",
      "Epoch 00076: val_loss did not improve from 0.00806\n",
      "703/703 [==============================] - 9s 12ms/step - loss: 0.0062 - root_mean_squared_error: 0.0787 - val_loss: 0.0090 - val_root_mean_squared_error: 0.0946\n",
      "Epoch 77/100\n",
      "699/703 [============================>.] - ETA: 0s - loss: 0.0066 - root_mean_squared_error: 0.0812\n",
      "Epoch 00077: val_loss did not improve from 0.00806\n",
      "703/703 [==============================] - 9s 12ms/step - loss: 0.0066 - root_mean_squared_error: 0.0812 - val_loss: 0.0103 - val_root_mean_squared_error: 0.1015\n",
      "Epoch 78/100\n",
      "700/703 [============================>.] - ETA: 0s - loss: 0.0064 - root_mean_squared_error: 0.0803\n",
      "Epoch 00078: val_loss did not improve from 0.00806\n",
      "703/703 [==============================] - 9s 12ms/step - loss: 0.0064 - root_mean_squared_error: 0.0802 - val_loss: 0.0088 - val_root_mean_squared_error: 0.0936\n",
      "Epoch 79/100\n",
      "699/703 [============================>.] - ETA: 0s - loss: 0.0064 - root_mean_squared_error: 0.0800\n",
      "Epoch 00079: val_loss did not improve from 0.00806\n",
      "703/703 [==============================] - 9s 12ms/step - loss: 0.0064 - root_mean_squared_error: 0.0799 - val_loss: 0.0082 - val_root_mean_squared_error: 0.0904\n",
      "Epoch 80/100\n",
      "703/703 [==============================] - ETA: 0s - loss: 0.0062 - root_mean_squared_error: 0.0787\n",
      "Epoch 00080: val_loss did not improve from 0.00806\n",
      "703/703 [==============================] - 9s 12ms/step - loss: 0.0062 - root_mean_squared_error: 0.0787 - val_loss: 0.0084 - val_root_mean_squared_error: 0.0917\n",
      "Epoch 81/100\n",
      "699/703 [============================>.] - ETA: 0s - loss: 0.0063 - root_mean_squared_error: 0.0794\n",
      "Epoch 00081: val_loss improved from 0.00806 to 0.00767, saving model to /content/drive/My Drive/epochs/model_1_camera2.0081-0.0077.h5\n",
      "703/703 [==============================] - 9s 12ms/step - loss: 0.0063 - root_mean_squared_error: 0.0794 - val_loss: 0.0077 - val_root_mean_squared_error: 0.0876\n",
      "Epoch 82/100\n",
      "699/703 [============================>.] - ETA: 0s - loss: 0.0060 - root_mean_squared_error: 0.0772\n",
      "Epoch 00082: val_loss improved from 0.00767 to 0.00735, saving model to /content/drive/My Drive/epochs/model_1_camera2.0082-0.0074.h5\n",
      "703/703 [==============================] - 9s 12ms/step - loss: 0.0059 - root_mean_squared_error: 0.0771 - val_loss: 0.0074 - val_root_mean_squared_error: 0.0857\n",
      "Epoch 83/100\n",
      "702/703 [============================>.] - ETA: 0s - loss: 0.0066 - root_mean_squared_error: 0.0813\n",
      "Epoch 00083: val_loss did not improve from 0.00735\n",
      "703/703 [==============================] - 9s 12ms/step - loss: 0.0066 - root_mean_squared_error: 0.0813 - val_loss: 0.0090 - val_root_mean_squared_error: 0.0949\n",
      "Epoch 84/100\n",
      "701/703 [============================>.] - ETA: 0s - loss: 0.0060 - root_mean_squared_error: 0.0777\n",
      "Epoch 00084: val_loss did not improve from 0.00735\n",
      "703/703 [==============================] - 9s 12ms/step - loss: 0.0060 - root_mean_squared_error: 0.0777 - val_loss: 0.0083 - val_root_mean_squared_error: 0.0912\n",
      "Epoch 85/100\n",
      "701/703 [============================>.] - ETA: 0s - loss: 0.0064 - root_mean_squared_error: 0.0800\n",
      "Epoch 00085: val_loss did not improve from 0.00735\n",
      "703/703 [==============================] - 9s 12ms/step - loss: 0.0064 - root_mean_squared_error: 0.0799 - val_loss: 0.0087 - val_root_mean_squared_error: 0.0933\n",
      "Epoch 86/100\n",
      "700/703 [============================>.] - ETA: 0s - loss: 0.0060 - root_mean_squared_error: 0.0777\n",
      "Epoch 00086: val_loss did not improve from 0.00735\n",
      "703/703 [==============================] - 9s 12ms/step - loss: 0.0060 - root_mean_squared_error: 0.0776 - val_loss: 0.0085 - val_root_mean_squared_error: 0.0919\n",
      "Epoch 87/100\n",
      "701/703 [============================>.] - ETA: 0s - loss: 0.0062 - root_mean_squared_error: 0.0784\n",
      "Epoch 00087: val_loss did not improve from 0.00735\n",
      "703/703 [==============================] - 9s 12ms/step - loss: 0.0062 - root_mean_squared_error: 0.0785 - val_loss: 0.0084 - val_root_mean_squared_error: 0.0915\n",
      "Epoch 88/100\n",
      "700/703 [============================>.] - ETA: 0s - loss: 0.0059 - root_mean_squared_error: 0.0767\n",
      "Epoch 00088: val_loss did not improve from 0.00735\n",
      "703/703 [==============================] - 9s 12ms/step - loss: 0.0059 - root_mean_squared_error: 0.0767 - val_loss: 0.0075 - val_root_mean_squared_error: 0.0866\n",
      "Epoch 89/100\n",
      "703/703 [==============================] - ETA: 0s - loss: 0.0062 - root_mean_squared_error: 0.0786\n",
      "Epoch 00089: val_loss did not improve from 0.00735\n",
      "703/703 [==============================] - 9s 12ms/step - loss: 0.0062 - root_mean_squared_error: 0.0786 - val_loss: 0.0088 - val_root_mean_squared_error: 0.0938\n",
      "Epoch 90/100\n",
      "699/703 [============================>.] - ETA: 0s - loss: 0.0058 - root_mean_squared_error: 0.0761\n",
      "Epoch 00090: val_loss did not improve from 0.00735\n",
      "703/703 [==============================] - 9s 12ms/step - loss: 0.0058 - root_mean_squared_error: 0.0760 - val_loss: 0.0081 - val_root_mean_squared_error: 0.0898\n",
      "Epoch 91/100\n",
      "700/703 [============================>.] - ETA: 0s - loss: 0.0058 - root_mean_squared_error: 0.0760\n",
      "Epoch 00091: val_loss did not improve from 0.00735\n",
      "703/703 [==============================] - 9s 12ms/step - loss: 0.0058 - root_mean_squared_error: 0.0759 - val_loss: 0.0094 - val_root_mean_squared_error: 0.0972\n",
      "Epoch 92/100\n",
      "701/703 [============================>.] - ETA: 0s - loss: 0.0056 - root_mean_squared_error: 0.0749\n",
      "Epoch 00092: val_loss did not improve from 0.00735\n",
      "703/703 [==============================] - 9s 12ms/step - loss: 0.0056 - root_mean_squared_error: 0.0748 - val_loss: 0.0100 - val_root_mean_squared_error: 0.1001\n",
      "Epoch 93/100\n",
      "698/703 [============================>.] - ETA: 0s - loss: 0.0055 - root_mean_squared_error: 0.0742\n",
      "Epoch 00093: val_loss did not improve from 0.00735\n",
      "703/703 [==============================] - 9s 12ms/step - loss: 0.0055 - root_mean_squared_error: 0.0742 - val_loss: 0.0086 - val_root_mean_squared_error: 0.0925\n",
      "Epoch 94/100\n",
      "700/703 [============================>.] - ETA: 0s - loss: 0.0062 - root_mean_squared_error: 0.0787\n",
      "Epoch 00094: val_loss did not improve from 0.00735\n",
      "703/703 [==============================] - 9s 12ms/step - loss: 0.0062 - root_mean_squared_error: 0.0786 - val_loss: 0.0084 - val_root_mean_squared_error: 0.0916\n",
      "Epoch 95/100\n",
      "700/703 [============================>.] - ETA: 0s - loss: 0.0060 - root_mean_squared_error: 0.0777\n",
      "Epoch 00095: val_loss did not improve from 0.00735\n",
      "703/703 [==============================] - 9s 12ms/step - loss: 0.0061 - root_mean_squared_error: 0.0779 - val_loss: 0.0081 - val_root_mean_squared_error: 0.0898\n",
      "Epoch 96/100\n",
      "702/703 [============================>.] - ETA: 0s - loss: 0.0054 - root_mean_squared_error: 0.0737\n",
      "Epoch 00096: val_loss did not improve from 0.00735\n",
      "703/703 [==============================] - 9s 12ms/step - loss: 0.0054 - root_mean_squared_error: 0.0737 - val_loss: 0.0091 - val_root_mean_squared_error: 0.0953\n",
      "Epoch 97/100\n",
      "701/703 [============================>.] - ETA: 0s - loss: 0.0055 - root_mean_squared_error: 0.0745\n",
      "Epoch 00097: val_loss did not improve from 0.00735\n",
      "703/703 [==============================] - 9s 12ms/step - loss: 0.0055 - root_mean_squared_error: 0.0744 - val_loss: 0.0079 - val_root_mean_squared_error: 0.0888\n",
      "Epoch 98/100\n",
      "699/703 [============================>.] - ETA: 0s - loss: 0.0058 - root_mean_squared_error: 0.0762\n",
      "Epoch 00098: val_loss did not improve from 0.00735\n",
      "703/703 [==============================] - 9s 12ms/step - loss: 0.0058 - root_mean_squared_error: 0.0762 - val_loss: 0.0091 - val_root_mean_squared_error: 0.0953\n",
      "Epoch 99/100\n",
      "699/703 [============================>.] - ETA: 0s - loss: 0.0055 - root_mean_squared_error: 0.0740\n",
      "Epoch 00099: val_loss did not improve from 0.00735\n",
      "703/703 [==============================] - 9s 12ms/step - loss: 0.0055 - root_mean_squared_error: 0.0739 - val_loss: 0.0083 - val_root_mean_squared_error: 0.0913\n",
      "Epoch 100/100\n",
      "699/703 [============================>.] - ETA: 0s - loss: 0.0055 - root_mean_squared_error: 0.0739\n",
      "Epoch 00100: val_loss did not improve from 0.00735\n",
      "703/703 [==============================] - 9s 12ms/step - loss: 0.0055 - root_mean_squared_error: 0.0739 - val_loss: 0.0086 - val_root_mean_squared_error: 0.0925\n"
     ]
    }
   ],
   "source": [
    "history = model.fit(X_train,\n",
    "                    y_train,\n",
    "                    batch_size=64,\n",
    "                    validation_data=(X_test, y_test),\n",
    "                    epochs=100,\n",
    "                    verbose=1,\n",
    "                    callbacks=callbacks_list)"
   ]
  },
  {
   "cell_type": "code",
   "execution_count": null,
   "metadata": {
    "colab": {},
    "colab_type": "code",
    "id": "5iOc0O-5k-zo"
   },
   "outputs": [],
   "source": [
    "# save model history for analysis later\n",
    "model_1_camera2 = model_history('model_1_camera2')"
   ]
  },
  {
   "cell_type": "markdown",
   "metadata": {},
   "source": [
    "### Model 1 camera3"
   ]
  },
  {
   "cell_type": "code",
   "execution_count": null,
   "metadata": {
    "colab": {},
    "colab_type": "code",
    "id": "kRkXNI167Ptt"
   },
   "outputs": [],
   "source": [
    "model = load_model('/content/drive/My Drive/epochs/model_1_camera2.0082-0.0074.h5')"
   ]
  },
  {
   "cell_type": "code",
   "execution_count": null,
   "metadata": {
    "colab": {},
    "colab_type": "code",
    "id": "9s3LCj6_27U4"
   },
   "outputs": [],
   "source": [
    "camera3 = load('/content/drive/My Drive/datasets/camera3_cleaned.npz')\n",
    "log3 = pd.read_csv('/content/drive/My Drive/datasets/log3_cleaned.csv')"
   ]
  },
  {
   "cell_type": "code",
   "execution_count": null,
   "metadata": {
    "colab": {
     "base_uri": "https://localhost:8080/",
     "height": 34
    },
    "colab_type": "code",
    "executionInfo": {
     "elapsed": 41508,
     "status": "ok",
     "timestamp": 1596553162793,
     "user": {
      "displayName": "Tay Khim",
      "photoUrl": "",
      "userId": "00177423956135587504"
     },
     "user_tz": -480
    },
    "id": "Du-e6s796NLP",
    "outputId": "feaf0e6f-cbcc-407e-ffb2-f0aa274653b0"
   },
   "outputs": [
    {
     "name": "stdout",
     "output_type": "stream",
     "text": [
      "Done\n"
     ]
    }
   ],
   "source": [
    "camera_processing(camera3, 'camera3')"
   ]
  },
  {
   "cell_type": "code",
   "execution_count": null,
   "metadata": {
    "colab": {
     "base_uri": "https://localhost:8080/",
     "height": 34
    },
    "colab_type": "code",
    "executionInfo": {
     "elapsed": 974,
     "status": "ok",
     "timestamp": 1596551749941,
     "user": {
      "displayName": "Tay Khim",
      "photoUrl": "",
      "userId": "00177423956135587504"
     },
     "user_tz": -480
    },
    "id": "GGt1rZCf5jlY",
    "outputId": "5e5b5ea4-c3d3-48b1-d9a8-eaf8f6196403",
    "scrolled": true
   },
   "outputs": [
    {
     "name": "stdout",
     "output_type": "stream",
     "text": [
      "Done\n"
     ]
    }
   ],
   "source": [
    "log_processing(log3, 'log3')"
   ]
  },
  {
   "cell_type": "code",
   "execution_count": null,
   "metadata": {
    "colab": {
     "base_uri": "https://localhost:8080/",
     "height": 34
    },
    "colab_type": "code",
    "executionInfo": {
     "elapsed": 43926,
     "status": "ok",
     "timestamp": 1596553206749,
     "user": {
      "displayName": "Tay Khim",
      "photoUrl": "",
      "userId": "00177423956135587504"
     },
     "user_tz": -480
    },
    "id": "Uv2fmI93-uMr",
    "outputId": "bba8f6d9-5f26-46e8-ce7a-5583f1d03259"
   },
   "outputs": [
    {
     "name": "stdout",
     "output_type": "stream",
     "text": [
      "Done\n"
     ]
    }
   ],
   "source": [
    "train_split('camera3', 'log3')"
   ]
  },
  {
   "cell_type": "code",
   "execution_count": null,
   "metadata": {
    "colab": {},
    "colab_type": "code",
    "id": "CFd6a5Qv7Ptz"
   },
   "outputs": [],
   "source": [
    "X_train, X_test, y_train, y_test = train_load('camera3')"
   ]
  },
  {
   "cell_type": "code",
   "execution_count": null,
   "metadata": {
    "colab": {
     "base_uri": "https://localhost:8080/",
     "height": 34
    },
    "colab_type": "code",
    "executionInfo": {
     "elapsed": 12644,
     "status": "ok",
     "timestamp": 1596557295183,
     "user": {
      "displayName": "Tay Khim",
      "photoUrl": "",
      "userId": "00177423956135587504"
     },
     "user_tz": -480
    },
    "id": "Gy1665sS7Pt1",
    "outputId": "67fdf69e-a883-4562-9398-64ef3bab4634"
   },
   "outputs": [
    {
     "data": {
      "text/plain": [
       "((13548, 80, 160, 1), (3388, 80, 160, 1), (13548, 1), (3388, 1))"
      ]
     },
     "execution_count": 35,
     "metadata": {
      "tags": []
     },
     "output_type": "execute_result"
    }
   ],
   "source": [
    "X_train.shape, X_test.shape, y_train.shape, y_test.shape"
   ]
  },
  {
   "cell_type": "code",
   "execution_count": null,
   "metadata": {
    "colab": {},
    "colab_type": "code",
    "id": "HJCLmEfH7Pt3"
   },
   "outputs": [],
   "source": [
    "filepath = \"/content/drive/My Drive/epochs/model_1_camera3.{epoch:04d}-{val_loss:.4f}.h5\"\n",
    "checkpoint = ModelCheckpoint(filepath, monitor='val_loss', verbose=1, save_best_only=True, mode='min')\n",
    "callbacks_list = [checkpoint]"
   ]
  },
  {
   "cell_type": "code",
   "execution_count": null,
   "metadata": {
    "colab": {
     "base_uri": "https://localhost:8080/",
     "height": 1000
    },
    "colab_type": "code",
    "collapsed": true,
    "executionInfo": {
     "elapsed": 258825,
     "status": "ok",
     "timestamp": 1596557556366,
     "user": {
      "displayName": "Tay Khim",
      "photoUrl": "",
      "userId": "00177423956135587504"
     },
     "user_tz": -480
    },
    "id": "ckKW_gGx7Pt5",
    "outputId": "9edee87c-c345-4ca0-a186-23744a0a38a3"
   },
   "outputs": [
    {
     "name": "stdout",
     "output_type": "stream",
     "text": [
      "Epoch 1/100\n",
      "212/212 [==============================] - ETA: 0s - loss: 0.0749 - root_mean_squared_error: 0.2737\n",
      "Epoch 00001: val_loss improved from inf to 0.05533, saving model to /content/drive/My Drive/epochs/model_1_camera3.0001-0.0553.h5\n",
      "212/212 [==============================] - 3s 13ms/step - loss: 0.0749 - root_mean_squared_error: 0.2737 - val_loss: 0.0553 - val_root_mean_squared_error: 0.2352\n",
      "Epoch 2/100\n",
      "211/212 [============================>.] - ETA: 0s - loss: 0.0718 - root_mean_squared_error: 0.2679\n",
      "Epoch 00002: val_loss did not improve from 0.05533\n",
      "212/212 [==============================] - 2s 12ms/step - loss: 0.0716 - root_mean_squared_error: 0.2676 - val_loss: 0.0558 - val_root_mean_squared_error: 0.2362\n",
      "Epoch 3/100\n",
      "210/212 [============================>.] - ETA: 0s - loss: 0.0691 - root_mean_squared_error: 0.2628\n",
      "Epoch 00003: val_loss did not improve from 0.05533\n",
      "212/212 [==============================] - 2s 12ms/step - loss: 0.0688 - root_mean_squared_error: 0.2622 - val_loss: 0.0556 - val_root_mean_squared_error: 0.2358\n",
      "Epoch 4/100\n",
      "209/212 [============================>.] - ETA: 0s - loss: 0.0673 - root_mean_squared_error: 0.2594\n",
      "Epoch 00004: val_loss improved from 0.05533 to 0.05473, saving model to /content/drive/My Drive/epochs/model_1_camera3.0004-0.0547.h5\n",
      "212/212 [==============================] - 3s 12ms/step - loss: 0.0668 - root_mean_squared_error: 0.2584 - val_loss: 0.0547 - val_root_mean_squared_error: 0.2339\n",
      "Epoch 5/100\n",
      "208/212 [============================>.] - ETA: 0s - loss: 0.0613 - root_mean_squared_error: 0.2475\n",
      "Epoch 00005: val_loss improved from 0.05473 to 0.05171, saving model to /content/drive/My Drive/epochs/model_1_camera3.0005-0.0517.h5\n",
      "212/212 [==============================] - 3s 12ms/step - loss: 0.0613 - root_mean_squared_error: 0.2475 - val_loss: 0.0517 - val_root_mean_squared_error: 0.2274\n",
      "Epoch 6/100\n",
      "211/212 [============================>.] - ETA: 0s - loss: 0.0555 - root_mean_squared_error: 0.2356\n",
      "Epoch 00006: val_loss improved from 0.05171 to 0.04724, saving model to /content/drive/My Drive/epochs/model_1_camera3.0006-0.0472.h5\n",
      "212/212 [==============================] - 3s 13ms/step - loss: 0.0556 - root_mean_squared_error: 0.2357 - val_loss: 0.0472 - val_root_mean_squared_error: 0.2173\n",
      "Epoch 7/100\n",
      "211/212 [============================>.] - ETA: 0s - loss: 0.0510 - root_mean_squared_error: 0.2259\n",
      "Epoch 00007: val_loss improved from 0.04724 to 0.04503, saving model to /content/drive/My Drive/epochs/model_1_camera3.0007-0.0450.h5\n",
      "212/212 [==============================] - 3s 13ms/step - loss: 0.0512 - root_mean_squared_error: 0.2263 - val_loss: 0.0450 - val_root_mean_squared_error: 0.2122\n",
      "Epoch 8/100\n",
      "210/212 [============================>.] - ETA: 0s - loss: 0.0473 - root_mean_squared_error: 0.2176\n",
      "Epoch 00008: val_loss improved from 0.04503 to 0.04484, saving model to /content/drive/My Drive/epochs/model_1_camera3.0008-0.0448.h5\n",
      "212/212 [==============================] - 3s 12ms/step - loss: 0.0473 - root_mean_squared_error: 0.2174 - val_loss: 0.0448 - val_root_mean_squared_error: 0.2118\n",
      "Epoch 9/100\n",
      "211/212 [============================>.] - ETA: 0s - loss: 0.0448 - root_mean_squared_error: 0.2117\n",
      "Epoch 00009: val_loss improved from 0.04484 to 0.04201, saving model to /content/drive/My Drive/epochs/model_1_camera3.0009-0.0420.h5\n",
      "212/212 [==============================] - 3s 13ms/step - loss: 0.0448 - root_mean_squared_error: 0.2118 - val_loss: 0.0420 - val_root_mean_squared_error: 0.2050\n",
      "Epoch 10/100\n",
      "208/212 [============================>.] - ETA: 0s - loss: 0.0440 - root_mean_squared_error: 0.2099\n",
      "Epoch 00010: val_loss improved from 0.04201 to 0.04064, saving model to /content/drive/My Drive/epochs/model_1_camera3.0010-0.0406.h5\n",
      "212/212 [==============================] - 3s 13ms/step - loss: 0.0439 - root_mean_squared_error: 0.2096 - val_loss: 0.0406 - val_root_mean_squared_error: 0.2016\n",
      "Epoch 11/100\n",
      "211/212 [============================>.] - ETA: 0s - loss: 0.0428 - root_mean_squared_error: 0.2069\n",
      "Epoch 00011: val_loss improved from 0.04064 to 0.03922, saving model to /content/drive/My Drive/epochs/model_1_camera3.0011-0.0392.h5\n",
      "212/212 [==============================] - 3s 12ms/step - loss: 0.0427 - root_mean_squared_error: 0.2067 - val_loss: 0.0392 - val_root_mean_squared_error: 0.1981\n",
      "Epoch 12/100\n",
      "207/212 [============================>.] - ETA: 0s - loss: 0.0395 - root_mean_squared_error: 0.1988\n",
      "Epoch 00012: val_loss improved from 0.03922 to 0.03862, saving model to /content/drive/My Drive/epochs/model_1_camera3.0012-0.0386.h5\n",
      "212/212 [==============================] - 3s 12ms/step - loss: 0.0394 - root_mean_squared_error: 0.1986 - val_loss: 0.0386 - val_root_mean_squared_error: 0.1965\n",
      "Epoch 13/100\n",
      "210/212 [============================>.] - ETA: 0s - loss: 0.0363 - root_mean_squared_error: 0.1906\n",
      "Epoch 00013: val_loss improved from 0.03862 to 0.03655, saving model to /content/drive/My Drive/epochs/model_1_camera3.0013-0.0366.h5\n",
      "212/212 [==============================] - 3s 13ms/step - loss: 0.0363 - root_mean_squared_error: 0.1905 - val_loss: 0.0366 - val_root_mean_squared_error: 0.1912\n",
      "Epoch 14/100\n",
      "210/212 [============================>.] - ETA: 0s - loss: 0.0352 - root_mean_squared_error: 0.1875\n",
      "Epoch 00014: val_loss improved from 0.03655 to 0.03457, saving model to /content/drive/My Drive/epochs/model_1_camera3.0014-0.0346.h5\n",
      "212/212 [==============================] - 3s 13ms/step - loss: 0.0350 - root_mean_squared_error: 0.1870 - val_loss: 0.0346 - val_root_mean_squared_error: 0.1859\n",
      "Epoch 15/100\n",
      "211/212 [============================>.] - ETA: 0s - loss: 0.0329 - root_mean_squared_error: 0.1814\n",
      "Epoch 00015: val_loss improved from 0.03457 to 0.03329, saving model to /content/drive/My Drive/epochs/model_1_camera3.0015-0.0333.h5\n",
      "212/212 [==============================] - 3s 12ms/step - loss: 0.0328 - root_mean_squared_error: 0.1812 - val_loss: 0.0333 - val_root_mean_squared_error: 0.1825\n",
      "Epoch 16/100\n",
      "212/212 [==============================] - ETA: 0s - loss: 0.0357 - root_mean_squared_error: 0.1891\n",
      "Epoch 00016: val_loss did not improve from 0.03329\n",
      "212/212 [==============================] - 2s 12ms/step - loss: 0.0357 - root_mean_squared_error: 0.1891 - val_loss: 0.0337 - val_root_mean_squared_error: 0.1836\n",
      "Epoch 17/100\n",
      "212/212 [==============================] - ETA: 0s - loss: 0.0337 - root_mean_squared_error: 0.1836\n",
      "Epoch 00017: val_loss improved from 0.03329 to 0.03134, saving model to /content/drive/My Drive/epochs/model_1_camera3.0017-0.0313.h5\n",
      "212/212 [==============================] - 3s 13ms/step - loss: 0.0337 - root_mean_squared_error: 0.1836 - val_loss: 0.0313 - val_root_mean_squared_error: 0.1770\n",
      "Epoch 18/100\n",
      "212/212 [==============================] - ETA: 0s - loss: 0.0303 - root_mean_squared_error: 0.1741\n",
      "Epoch 00018: val_loss improved from 0.03134 to 0.03110, saving model to /content/drive/My Drive/epochs/model_1_camera3.0018-0.0311.h5\n",
      "212/212 [==============================] - 3s 12ms/step - loss: 0.0303 - root_mean_squared_error: 0.1741 - val_loss: 0.0311 - val_root_mean_squared_error: 0.1763\n",
      "Epoch 19/100\n",
      "212/212 [==============================] - ETA: 0s - loss: 0.0306 - root_mean_squared_error: 0.1749\n",
      "Epoch 00019: val_loss improved from 0.03110 to 0.02987, saving model to /content/drive/My Drive/epochs/model_1_camera3.0019-0.0299.h5\n",
      "212/212 [==============================] - 3s 13ms/step - loss: 0.0306 - root_mean_squared_error: 0.1749 - val_loss: 0.0299 - val_root_mean_squared_error: 0.1728\n",
      "Epoch 20/100\n",
      "208/212 [============================>.] - ETA: 0s - loss: 0.0301 - root_mean_squared_error: 0.1735\n",
      "Epoch 00020: val_loss did not improve from 0.02987\n",
      "212/212 [==============================] - 2s 12ms/step - loss: 0.0300 - root_mean_squared_error: 0.1732 - val_loss: 0.0321 - val_root_mean_squared_error: 0.1792\n",
      "Epoch 21/100\n",
      "209/212 [============================>.] - ETA: 0s - loss: 0.0279 - root_mean_squared_error: 0.1670\n",
      "Epoch 00021: val_loss did not improve from 0.02987\n",
      "212/212 [==============================] - 3s 12ms/step - loss: 0.0279 - root_mean_squared_error: 0.1672 - val_loss: 0.0307 - val_root_mean_squared_error: 0.1751\n",
      "Epoch 22/100\n",
      "210/212 [============================>.] - ETA: 0s - loss: 0.0284 - root_mean_squared_error: 0.1686\n",
      "Epoch 00022: val_loss improved from 0.02987 to 0.02826, saving model to /content/drive/My Drive/epochs/model_1_camera3.0022-0.0283.h5\n",
      "212/212 [==============================] - 3s 13ms/step - loss: 0.0284 - root_mean_squared_error: 0.1686 - val_loss: 0.0283 - val_root_mean_squared_error: 0.1681\n",
      "Epoch 23/100\n",
      "208/212 [============================>.] - ETA: 0s - loss: 0.0284 - root_mean_squared_error: 0.1686\n",
      "Epoch 00023: val_loss improved from 0.02826 to 0.02641, saving model to /content/drive/My Drive/epochs/model_1_camera3.0023-0.0264.h5\n",
      "212/212 [==============================] - 3s 13ms/step - loss: 0.0286 - root_mean_squared_error: 0.1692 - val_loss: 0.0264 - val_root_mean_squared_error: 0.1625\n",
      "Epoch 24/100\n",
      "207/212 [============================>.] - ETA: 0s - loss: 0.0275 - root_mean_squared_error: 0.1658\n",
      "Epoch 00024: val_loss did not improve from 0.02641\n",
      "212/212 [==============================] - 2s 12ms/step - loss: 0.0275 - root_mean_squared_error: 0.1659 - val_loss: 0.0269 - val_root_mean_squared_error: 0.1642\n",
      "Epoch 25/100\n",
      "211/212 [============================>.] - ETA: 0s - loss: 0.0292 - root_mean_squared_error: 0.1708\n",
      "Epoch 00025: val_loss improved from 0.02641 to 0.02592, saving model to /content/drive/My Drive/epochs/model_1_camera3.0025-0.0259.h5\n",
      "212/212 [==============================] - 3s 12ms/step - loss: 0.0291 - root_mean_squared_error: 0.1706 - val_loss: 0.0259 - val_root_mean_squared_error: 0.1610\n",
      "Epoch 26/100\n",
      "212/212 [==============================] - ETA: 0s - loss: 0.0247 - root_mean_squared_error: 0.1571\n",
      "Epoch 00026: val_loss improved from 0.02592 to 0.02557, saving model to /content/drive/My Drive/epochs/model_1_camera3.0026-0.0256.h5\n",
      "212/212 [==============================] - 3s 13ms/step - loss: 0.0247 - root_mean_squared_error: 0.1571 - val_loss: 0.0256 - val_root_mean_squared_error: 0.1599\n",
      "Epoch 27/100\n",
      "209/212 [============================>.] - ETA: 0s - loss: 0.0274 - root_mean_squared_error: 0.1655\n",
      "Epoch 00027: val_loss improved from 0.02557 to 0.02332, saving model to /content/drive/My Drive/epochs/model_1_camera3.0027-0.0233.h5\n",
      "212/212 [==============================] - 3s 13ms/step - loss: 0.0274 - root_mean_squared_error: 0.1654 - val_loss: 0.0233 - val_root_mean_squared_error: 0.1527\n",
      "Epoch 28/100\n",
      "211/212 [============================>.] - ETA: 0s - loss: 0.0265 - root_mean_squared_error: 0.1626\n",
      "Epoch 00028: val_loss did not improve from 0.02332\n",
      "212/212 [==============================] - 3s 12ms/step - loss: 0.0264 - root_mean_squared_error: 0.1624 - val_loss: 0.0235 - val_root_mean_squared_error: 0.1532\n",
      "Epoch 29/100\n",
      "211/212 [============================>.] - ETA: 0s - loss: 0.0255 - root_mean_squared_error: 0.1597\n",
      "Epoch 00029: val_loss did not improve from 0.02332\n",
      "212/212 [==============================] - 3s 12ms/step - loss: 0.0255 - root_mean_squared_error: 0.1598 - val_loss: 0.0240 - val_root_mean_squared_error: 0.1549\n",
      "Epoch 30/100\n",
      "211/212 [============================>.] - ETA: 0s - loss: 0.0234 - root_mean_squared_error: 0.1529\n",
      "Epoch 00030: val_loss improved from 0.02332 to 0.02153, saving model to /content/drive/My Drive/epochs/model_1_camera3.0030-0.0215.h5\n",
      "212/212 [==============================] - 3s 13ms/step - loss: 0.0233 - root_mean_squared_error: 0.1528 - val_loss: 0.0215 - val_root_mean_squared_error: 0.1467\n",
      "Epoch 31/100\n",
      "212/212 [==============================] - ETA: 0s - loss: 0.0234 - root_mean_squared_error: 0.1530\n",
      "Epoch 00031: val_loss did not improve from 0.02153\n",
      "212/212 [==============================] - 2s 12ms/step - loss: 0.0234 - root_mean_squared_error: 0.1530 - val_loss: 0.0224 - val_root_mean_squared_error: 0.1496\n",
      "Epoch 32/100\n",
      "211/212 [============================>.] - ETA: 0s - loss: 0.0226 - root_mean_squared_error: 0.1503\n",
      "Epoch 00032: val_loss did not improve from 0.02153\n",
      "212/212 [==============================] - 2s 12ms/step - loss: 0.0226 - root_mean_squared_error: 0.1503 - val_loss: 0.0241 - val_root_mean_squared_error: 0.1553\n",
      "Epoch 33/100\n",
      "211/212 [============================>.] - ETA: 0s - loss: 0.0225 - root_mean_squared_error: 0.1501\n",
      "Epoch 00033: val_loss did not improve from 0.02153\n",
      "212/212 [==============================] - 2s 12ms/step - loss: 0.0225 - root_mean_squared_error: 0.1500 - val_loss: 0.0216 - val_root_mean_squared_error: 0.1471\n",
      "Epoch 34/100\n",
      "212/212 [==============================] - ETA: 0s - loss: 0.0205 - root_mean_squared_error: 0.1431\n",
      "Epoch 00034: val_loss did not improve from 0.02153\n",
      "212/212 [==============================] - 3s 12ms/step - loss: 0.0205 - root_mean_squared_error: 0.1431 - val_loss: 0.0218 - val_root_mean_squared_error: 0.1477\n",
      "Epoch 35/100\n",
      "212/212 [==============================] - ETA: 0s - loss: 0.0252 - root_mean_squared_error: 0.1588\n",
      "Epoch 00035: val_loss improved from 0.02153 to 0.02145, saving model to /content/drive/My Drive/epochs/model_1_camera3.0035-0.0214.h5\n",
      "212/212 [==============================] - 3s 12ms/step - loss: 0.0252 - root_mean_squared_error: 0.1588 - val_loss: 0.0214 - val_root_mean_squared_error: 0.1464\n",
      "Epoch 36/100\n",
      "210/212 [============================>.] - ETA: 0s - loss: 0.0213 - root_mean_squared_error: 0.1461\n",
      "Epoch 00036: val_loss improved from 0.02145 to 0.01958, saving model to /content/drive/My Drive/epochs/model_1_camera3.0036-0.0196.h5\n",
      "212/212 [==============================] - 3s 13ms/step - loss: 0.0212 - root_mean_squared_error: 0.1457 - val_loss: 0.0196 - val_root_mean_squared_error: 0.1399\n",
      "Epoch 37/100\n",
      "207/212 [============================>.] - ETA: 0s - loss: 0.0232 - root_mean_squared_error: 0.1525\n",
      "Epoch 00037: val_loss improved from 0.01958 to 0.01831, saving model to /content/drive/My Drive/epochs/model_1_camera3.0037-0.0183.h5\n",
      "212/212 [==============================] - 3s 13ms/step - loss: 0.0230 - root_mean_squared_error: 0.1518 - val_loss: 0.0183 - val_root_mean_squared_error: 0.1353\n",
      "Epoch 38/100\n",
      "208/212 [============================>.] - ETA: 0s - loss: 0.0215 - root_mean_squared_error: 0.1467\n",
      "Epoch 00038: val_loss did not improve from 0.01831\n",
      "212/212 [==============================] - 3s 12ms/step - loss: 0.0214 - root_mean_squared_error: 0.1464 - val_loss: 0.0201 - val_root_mean_squared_error: 0.1416\n",
      "Epoch 39/100\n",
      "212/212 [==============================] - ETA: 0s - loss: 0.0249 - root_mean_squared_error: 0.1579\n",
      "Epoch 00039: val_loss did not improve from 0.01831\n",
      "212/212 [==============================] - 3s 12ms/step - loss: 0.0249 - root_mean_squared_error: 0.1579 - val_loss: 0.0217 - val_root_mean_squared_error: 0.1473\n",
      "Epoch 40/100\n",
      "208/212 [============================>.] - ETA: 0s - loss: 0.0204 - root_mean_squared_error: 0.1427\n",
      "Epoch 00040: val_loss did not improve from 0.01831\n",
      "212/212 [==============================] - 2s 12ms/step - loss: 0.0202 - root_mean_squared_error: 0.1420 - val_loss: 0.0194 - val_root_mean_squared_error: 0.1393\n",
      "Epoch 41/100\n",
      "211/212 [============================>.] - ETA: 0s - loss: 0.0205 - root_mean_squared_error: 0.1432\n",
      "Epoch 00041: val_loss did not improve from 0.01831\n",
      "212/212 [==============================] - 3s 12ms/step - loss: 0.0205 - root_mean_squared_error: 0.1432 - val_loss: 0.0202 - val_root_mean_squared_error: 0.1421\n",
      "Epoch 42/100\n",
      "209/212 [============================>.] - ETA: 0s - loss: 0.0212 - root_mean_squared_error: 0.1457\n",
      "Epoch 00042: val_loss did not improve from 0.01831\n",
      "212/212 [==============================] - 3s 12ms/step - loss: 0.0214 - root_mean_squared_error: 0.1464 - val_loss: 0.0184 - val_root_mean_squared_error: 0.1358\n",
      "Epoch 43/100\n",
      "211/212 [============================>.] - ETA: 0s - loss: 0.0210 - root_mean_squared_error: 0.1449\n",
      "Epoch 00043: val_loss did not improve from 0.01831\n",
      "212/212 [==============================] - 3s 12ms/step - loss: 0.0210 - root_mean_squared_error: 0.1448 - val_loss: 0.0183 - val_root_mean_squared_error: 0.1354\n",
      "Epoch 44/100\n",
      "211/212 [============================>.] - ETA: 0s - loss: 0.0193 - root_mean_squared_error: 0.1389\n",
      "Epoch 00044: val_loss improved from 0.01831 to 0.01761, saving model to /content/drive/My Drive/epochs/model_1_camera3.0044-0.0176.h5\n",
      "212/212 [==============================] - 3s 13ms/step - loss: 0.0192 - root_mean_squared_error: 0.1387 - val_loss: 0.0176 - val_root_mean_squared_error: 0.1327\n",
      "Epoch 45/100\n",
      "212/212 [==============================] - ETA: 0s - loss: 0.0205 - root_mean_squared_error: 0.1431\n",
      "Epoch 00045: val_loss did not improve from 0.01761\n",
      "212/212 [==============================] - 3s 12ms/step - loss: 0.0205 - root_mean_squared_error: 0.1431 - val_loss: 0.0186 - val_root_mean_squared_error: 0.1364\n",
      "Epoch 46/100\n",
      "211/212 [============================>.] - ETA: 0s - loss: 0.0191 - root_mean_squared_error: 0.1380\n",
      "Epoch 00046: val_loss improved from 0.01761 to 0.01708, saving model to /content/drive/My Drive/epochs/model_1_camera3.0046-0.0171.h5\n",
      "212/212 [==============================] - 3s 13ms/step - loss: 0.0190 - root_mean_squared_error: 0.1379 - val_loss: 0.0171 - val_root_mean_squared_error: 0.1307\n",
      "Epoch 47/100\n",
      "210/212 [============================>.] - ETA: 0s - loss: 0.0202 - root_mean_squared_error: 0.1421\n",
      "Epoch 00047: val_loss did not improve from 0.01708\n",
      "212/212 [==============================] - 3s 12ms/step - loss: 0.0203 - root_mean_squared_error: 0.1425 - val_loss: 0.0180 - val_root_mean_squared_error: 0.1343\n",
      "Epoch 48/100\n",
      "212/212 [==============================] - ETA: 0s - loss: 0.0198 - root_mean_squared_error: 0.1406\n",
      "Epoch 00048: val_loss improved from 0.01708 to 0.01642, saving model to /content/drive/My Drive/epochs/model_1_camera3.0048-0.0164.h5\n",
      "212/212 [==============================] - 3s 13ms/step - loss: 0.0198 - root_mean_squared_error: 0.1406 - val_loss: 0.0164 - val_root_mean_squared_error: 0.1282\n",
      "Epoch 49/100\n",
      "208/212 [============================>.] - ETA: 0s - loss: 0.0178 - root_mean_squared_error: 0.1334\n",
      "Epoch 00049: val_loss did not improve from 0.01642\n",
      "212/212 [==============================] - 3s 12ms/step - loss: 0.0177 - root_mean_squared_error: 0.1330 - val_loss: 0.0182 - val_root_mean_squared_error: 0.1348\n",
      "Epoch 50/100\n",
      "208/212 [============================>.] - ETA: 0s - loss: 0.0184 - root_mean_squared_error: 0.1355\n",
      "Epoch 00050: val_loss improved from 0.01642 to 0.01626, saving model to /content/drive/My Drive/epochs/model_1_camera3.0050-0.0163.h5\n",
      "212/212 [==============================] - 3s 12ms/step - loss: 0.0189 - root_mean_squared_error: 0.1375 - val_loss: 0.0163 - val_root_mean_squared_error: 0.1275\n",
      "Epoch 51/100\n",
      "211/212 [============================>.] - ETA: 0s - loss: 0.0184 - root_mean_squared_error: 0.1356\n",
      "Epoch 00051: val_loss did not improve from 0.01626\n",
      "212/212 [==============================] - 3s 12ms/step - loss: 0.0184 - root_mean_squared_error: 0.1355 - val_loss: 0.0171 - val_root_mean_squared_error: 0.1307\n",
      "Epoch 52/100\n",
      "211/212 [============================>.] - ETA: 0s - loss: 0.0203 - root_mean_squared_error: 0.1423\n",
      "Epoch 00052: val_loss did not improve from 0.01626\n",
      "212/212 [==============================] - 3s 12ms/step - loss: 0.0202 - root_mean_squared_error: 0.1422 - val_loss: 0.0172 - val_root_mean_squared_error: 0.1310\n",
      "Epoch 53/100\n",
      "208/212 [============================>.] - ETA: 0s - loss: 0.0167 - root_mean_squared_error: 0.1291\n",
      "Epoch 00053: val_loss did not improve from 0.01626\n",
      "212/212 [==============================] - 3s 12ms/step - loss: 0.0166 - root_mean_squared_error: 0.1287 - val_loss: 0.0165 - val_root_mean_squared_error: 0.1285\n",
      "Epoch 54/100\n",
      "212/212 [==============================] - ETA: 0s - loss: 0.0198 - root_mean_squared_error: 0.1408\n",
      "Epoch 00054: val_loss did not improve from 0.01626\n",
      "212/212 [==============================] - 2s 12ms/step - loss: 0.0198 - root_mean_squared_error: 0.1408 - val_loss: 0.0169 - val_root_mean_squared_error: 0.1300\n",
      "Epoch 55/100\n",
      "209/212 [============================>.] - ETA: 0s - loss: 0.0173 - root_mean_squared_error: 0.1314\n",
      "Epoch 00055: val_loss did not improve from 0.01626\n",
      "212/212 [==============================] - 2s 12ms/step - loss: 0.0174 - root_mean_squared_error: 0.1317 - val_loss: 0.0176 - val_root_mean_squared_error: 0.1328\n",
      "Epoch 56/100\n",
      "211/212 [============================>.] - ETA: 0s - loss: 0.0179 - root_mean_squared_error: 0.1338\n",
      "Epoch 00056: val_loss did not improve from 0.01626\n",
      "212/212 [==============================] - 2s 12ms/step - loss: 0.0179 - root_mean_squared_error: 0.1337 - val_loss: 0.0176 - val_root_mean_squared_error: 0.1325\n",
      "Epoch 57/100\n",
      "212/212 [==============================] - ETA: 0s - loss: 0.0214 - root_mean_squared_error: 0.1463\n",
      "Epoch 00057: val_loss did not improve from 0.01626\n",
      "212/212 [==============================] - 2s 12ms/step - loss: 0.0214 - root_mean_squared_error: 0.1463 - val_loss: 0.0163 - val_root_mean_squared_error: 0.1278\n",
      "Epoch 58/100\n",
      "211/212 [============================>.] - ETA: 0s - loss: 0.0176 - root_mean_squared_error: 0.1327\n",
      "Epoch 00058: val_loss did not improve from 0.01626\n",
      "212/212 [==============================] - 2s 12ms/step - loss: 0.0176 - root_mean_squared_error: 0.1327 - val_loss: 0.0170 - val_root_mean_squared_error: 0.1302\n",
      "Epoch 59/100\n",
      "207/212 [============================>.] - ETA: 0s - loss: 0.0169 - root_mean_squared_error: 0.1300\n",
      "Epoch 00059: val_loss did not improve from 0.01626\n",
      "212/212 [==============================] - 2s 12ms/step - loss: 0.0167 - root_mean_squared_error: 0.1292 - val_loss: 0.0173 - val_root_mean_squared_error: 0.1314\n",
      "Epoch 60/100\n",
      "207/212 [============================>.] - ETA: 0s - loss: 0.0157 - root_mean_squared_error: 0.1253\n",
      "Epoch 00060: val_loss did not improve from 0.01626\n",
      "212/212 [==============================] - 2s 12ms/step - loss: 0.0156 - root_mean_squared_error: 0.1247 - val_loss: 0.0179 - val_root_mean_squared_error: 0.1337\n",
      "Epoch 61/100\n",
      "211/212 [============================>.] - ETA: 0s - loss: 0.0179 - root_mean_squared_error: 0.1336\n",
      "Epoch 00061: val_loss did not improve from 0.01626\n",
      "212/212 [==============================] - 2s 12ms/step - loss: 0.0178 - root_mean_squared_error: 0.1335 - val_loss: 0.0168 - val_root_mean_squared_error: 0.1295\n",
      "Epoch 62/100\n",
      "211/212 [============================>.] - ETA: 0s - loss: 0.0182 - root_mean_squared_error: 0.1350\n",
      "Epoch 00062: val_loss improved from 0.01626 to 0.01615, saving model to /content/drive/My Drive/epochs/model_1_camera3.0062-0.0162.h5\n",
      "212/212 [==============================] - 3s 12ms/step - loss: 0.0182 - root_mean_squared_error: 0.1349 - val_loss: 0.0162 - val_root_mean_squared_error: 0.1271\n",
      "Epoch 63/100\n",
      "212/212 [==============================] - ETA: 0s - loss: 0.0162 - root_mean_squared_error: 0.1273\n",
      "Epoch 00063: val_loss improved from 0.01615 to 0.01604, saving model to /content/drive/My Drive/epochs/model_1_camera3.0063-0.0160.h5\n",
      "212/212 [==============================] - 3s 12ms/step - loss: 0.0162 - root_mean_squared_error: 0.1273 - val_loss: 0.0160 - val_root_mean_squared_error: 0.1266\n",
      "Epoch 64/100\n",
      "210/212 [============================>.] - ETA: 0s - loss: 0.0162 - root_mean_squared_error: 0.1272\n",
      "Epoch 00064: val_loss improved from 0.01604 to 0.01588, saving model to /content/drive/My Drive/epochs/model_1_camera3.0064-0.0159.h5\n",
      "212/212 [==============================] - 3s 14ms/step - loss: 0.0168 - root_mean_squared_error: 0.1296 - val_loss: 0.0159 - val_root_mean_squared_error: 0.1260\n",
      "Epoch 65/100\n",
      "212/212 [==============================] - ETA: 0s - loss: 0.0167 - root_mean_squared_error: 0.1293\n",
      "Epoch 00065: val_loss did not improve from 0.01588\n",
      "212/212 [==============================] - 2s 12ms/step - loss: 0.0167 - root_mean_squared_error: 0.1293 - val_loss: 0.0160 - val_root_mean_squared_error: 0.1264\n",
      "Epoch 66/100\n",
      "209/212 [============================>.] - ETA: 0s - loss: 0.0167 - root_mean_squared_error: 0.1293\n",
      "Epoch 00066: val_loss did not improve from 0.01588\n",
      "212/212 [==============================] - 3s 12ms/step - loss: 0.0168 - root_mean_squared_error: 0.1295 - val_loss: 0.0165 - val_root_mean_squared_error: 0.1283\n",
      "Epoch 67/100\n",
      "210/212 [============================>.] - ETA: 0s - loss: 0.0153 - root_mean_squared_error: 0.1237\n",
      "Epoch 00067: val_loss did not improve from 0.01588\n",
      "212/212 [==============================] - 3s 12ms/step - loss: 0.0152 - root_mean_squared_error: 0.1234 - val_loss: 0.0162 - val_root_mean_squared_error: 0.1273\n",
      "Epoch 68/100\n",
      "211/212 [============================>.] - ETA: 0s - loss: 0.0170 - root_mean_squared_error: 0.1303\n",
      "Epoch 00068: val_loss did not improve from 0.01588\n",
      "212/212 [==============================] - 3s 12ms/step - loss: 0.0170 - root_mean_squared_error: 0.1304 - val_loss: 0.0167 - val_root_mean_squared_error: 0.1293\n",
      "Epoch 69/100\n",
      "208/212 [============================>.] - ETA: 0s - loss: 0.0154 - root_mean_squared_error: 0.1240\n",
      "Epoch 00069: val_loss improved from 0.01588 to 0.01559, saving model to /content/drive/My Drive/epochs/model_1_camera3.0069-0.0156.h5\n",
      "212/212 [==============================] - 3s 12ms/step - loss: 0.0153 - root_mean_squared_error: 0.1235 - val_loss: 0.0156 - val_root_mean_squared_error: 0.1249\n",
      "Epoch 70/100\n",
      "211/212 [============================>.] - ETA: 0s - loss: 0.0169 - root_mean_squared_error: 0.1302\n",
      "Epoch 00070: val_loss did not improve from 0.01559\n",
      "212/212 [==============================] - 2s 12ms/step - loss: 0.0169 - root_mean_squared_error: 0.1300 - val_loss: 0.0166 - val_root_mean_squared_error: 0.1287\n",
      "Epoch 71/100\n",
      "212/212 [==============================] - ETA: 0s - loss: 0.0160 - root_mean_squared_error: 0.1265\n",
      "Epoch 00071: val_loss did not improve from 0.01559\n",
      "212/212 [==============================] - 2s 12ms/step - loss: 0.0160 - root_mean_squared_error: 0.1265 - val_loss: 0.0161 - val_root_mean_squared_error: 0.1269\n",
      "Epoch 72/100\n",
      "210/212 [============================>.] - ETA: 0s - loss: 0.0174 - root_mean_squared_error: 0.1320\n",
      "Epoch 00072: val_loss did not improve from 0.01559\n",
      "212/212 [==============================] - 2s 12ms/step - loss: 0.0174 - root_mean_squared_error: 0.1318 - val_loss: 0.0157 - val_root_mean_squared_error: 0.1254\n",
      "Epoch 73/100\n",
      "211/212 [============================>.] - ETA: 0s - loss: 0.0168 - root_mean_squared_error: 0.1294\n",
      "Epoch 00073: val_loss improved from 0.01559 to 0.01513, saving model to /content/drive/My Drive/epochs/model_1_camera3.0073-0.0151.h5\n",
      "212/212 [==============================] - 3s 13ms/step - loss: 0.0167 - root_mean_squared_error: 0.1294 - val_loss: 0.0151 - val_root_mean_squared_error: 0.1230\n",
      "Epoch 74/100\n",
      "210/212 [============================>.] - ETA: 0s - loss: 0.0150 - root_mean_squared_error: 0.1225\n",
      "Epoch 00074: val_loss improved from 0.01513 to 0.01510, saving model to /content/drive/My Drive/epochs/model_1_camera3.0074-0.0151.h5\n",
      "212/212 [==============================] - 3s 12ms/step - loss: 0.0150 - root_mean_squared_error: 0.1226 - val_loss: 0.0151 - val_root_mean_squared_error: 0.1229\n",
      "Epoch 75/100\n",
      "211/212 [============================>.] - ETA: 0s - loss: 0.0146 - root_mean_squared_error: 0.1209\n",
      "Epoch 00075: val_loss did not improve from 0.01510\n",
      "212/212 [==============================] - 3s 12ms/step - loss: 0.0146 - root_mean_squared_error: 0.1208 - val_loss: 0.0159 - val_root_mean_squared_error: 0.1261\n",
      "Epoch 76/100\n",
      "211/212 [============================>.] - ETA: 0s - loss: 0.0164 - root_mean_squared_error: 0.1280\n",
      "Epoch 00076: val_loss did not improve from 0.01510\n",
      "212/212 [==============================] - 2s 12ms/step - loss: 0.0164 - root_mean_squared_error: 0.1279 - val_loss: 0.0162 - val_root_mean_squared_error: 0.1273\n",
      "Epoch 77/100\n",
      "210/212 [============================>.] - ETA: 0s - loss: 0.0143 - root_mean_squared_error: 0.1195\n",
      "Epoch 00077: val_loss did not improve from 0.01510\n",
      "212/212 [==============================] - 3s 12ms/step - loss: 0.0143 - root_mean_squared_error: 0.1195 - val_loss: 0.0156 - val_root_mean_squared_error: 0.1249\n",
      "Epoch 78/100\n",
      "211/212 [============================>.] - ETA: 0s - loss: 0.0150 - root_mean_squared_error: 0.1224\n",
      "Epoch 00078: val_loss did not improve from 0.01510\n",
      "212/212 [==============================] - 3s 12ms/step - loss: 0.0150 - root_mean_squared_error: 0.1223 - val_loss: 0.0157 - val_root_mean_squared_error: 0.1254\n",
      "Epoch 79/100\n",
      "211/212 [============================>.] - ETA: 0s - loss: 0.0165 - root_mean_squared_error: 0.1284\n",
      "Epoch 00079: val_loss did not improve from 0.01510\n",
      "212/212 [==============================] - 2s 12ms/step - loss: 0.0165 - root_mean_squared_error: 0.1283 - val_loss: 0.0160 - val_root_mean_squared_error: 0.1265\n",
      "Epoch 80/100\n",
      "212/212 [==============================] - ETA: 0s - loss: 0.0161 - root_mean_squared_error: 0.1268\n",
      "Epoch 00080: val_loss improved from 0.01510 to 0.01480, saving model to /content/drive/My Drive/epochs/model_1_camera3.0080-0.0148.h5\n",
      "212/212 [==============================] - 3s 12ms/step - loss: 0.0161 - root_mean_squared_error: 0.1268 - val_loss: 0.0148 - val_root_mean_squared_error: 0.1216\n",
      "Epoch 81/100\n",
      "208/212 [============================>.] - ETA: 0s - loss: 0.0142 - root_mean_squared_error: 0.1193\n",
      "Epoch 00081: val_loss improved from 0.01480 to 0.01470, saving model to /content/drive/My Drive/epochs/model_1_camera3.0081-0.0147.h5\n",
      "212/212 [==============================] - 3s 12ms/step - loss: 0.0142 - root_mean_squared_error: 0.1192 - val_loss: 0.0147 - val_root_mean_squared_error: 0.1213\n",
      "Epoch 82/100\n",
      "211/212 [============================>.] - ETA: 0s - loss: 0.0136 - root_mean_squared_error: 0.1166\n",
      "Epoch 00082: val_loss did not improve from 0.01470\n",
      "212/212 [==============================] - 3s 12ms/step - loss: 0.0136 - root_mean_squared_error: 0.1165 - val_loss: 0.0162 - val_root_mean_squared_error: 0.1275\n",
      "Epoch 83/100\n",
      "212/212 [==============================] - ETA: 0s - loss: 0.0162 - root_mean_squared_error: 0.1272\n",
      "Epoch 00083: val_loss did not improve from 0.01470\n",
      "212/212 [==============================] - 2s 12ms/step - loss: 0.0162 - root_mean_squared_error: 0.1272 - val_loss: 0.0153 - val_root_mean_squared_error: 0.1235\n",
      "Epoch 84/100\n",
      "210/212 [============================>.] - ETA: 0s - loss: 0.0154 - root_mean_squared_error: 0.1241\n",
      "Epoch 00084: val_loss did not improve from 0.01470\n",
      "212/212 [==============================] - 3s 12ms/step - loss: 0.0154 - root_mean_squared_error: 0.1243 - val_loss: 0.0152 - val_root_mean_squared_error: 0.1233\n",
      "Epoch 85/100\n",
      "211/212 [============================>.] - ETA: 0s - loss: 0.0152 - root_mean_squared_error: 0.1233\n",
      "Epoch 00085: val_loss improved from 0.01470 to 0.01456, saving model to /content/drive/My Drive/epochs/model_1_camera3.0085-0.0146.h5\n",
      "212/212 [==============================] - 3s 13ms/step - loss: 0.0152 - root_mean_squared_error: 0.1231 - val_loss: 0.0146 - val_root_mean_squared_error: 0.1207\n",
      "Epoch 86/100\n",
      "210/212 [============================>.] - ETA: 0s - loss: 0.0185 - root_mean_squared_error: 0.1359\n",
      "Epoch 00086: val_loss did not improve from 0.01456\n",
      "212/212 [==============================] - 2s 12ms/step - loss: 0.0184 - root_mean_squared_error: 0.1355 - val_loss: 0.0156 - val_root_mean_squared_error: 0.1250\n",
      "Epoch 87/100\n",
      "208/212 [============================>.] - ETA: 0s - loss: 0.0142 - root_mean_squared_error: 0.1193\n",
      "Epoch 00087: val_loss did not improve from 0.01456\n",
      "212/212 [==============================] - 2s 12ms/step - loss: 0.0146 - root_mean_squared_error: 0.1209 - val_loss: 0.0151 - val_root_mean_squared_error: 0.1228\n",
      "Epoch 88/100\n",
      "210/212 [============================>.] - ETA: 0s - loss: 0.0140 - root_mean_squared_error: 0.1183\n",
      "Epoch 00088: val_loss did not improve from 0.01456\n",
      "212/212 [==============================] - 2s 12ms/step - loss: 0.0142 - root_mean_squared_error: 0.1190 - val_loss: 0.0150 - val_root_mean_squared_error: 0.1224\n",
      "Epoch 89/100\n",
      "207/212 [============================>.] - ETA: 0s - loss: 0.0159 - root_mean_squared_error: 0.1262\n",
      "Epoch 00089: val_loss did not improve from 0.01456\n",
      "212/212 [==============================] - 3s 12ms/step - loss: 0.0157 - root_mean_squared_error: 0.1254 - val_loss: 0.0146 - val_root_mean_squared_error: 0.1208\n",
      "Epoch 90/100\n",
      "211/212 [============================>.] - ETA: 0s - loss: 0.0142 - root_mean_squared_error: 0.1192\n",
      "Epoch 00090: val_loss did not improve from 0.01456\n",
      "212/212 [==============================] - 2s 12ms/step - loss: 0.0142 - root_mean_squared_error: 0.1191 - val_loss: 0.0156 - val_root_mean_squared_error: 0.1248\n",
      "Epoch 91/100\n",
      "212/212 [==============================] - ETA: 0s - loss: 0.0155 - root_mean_squared_error: 0.1245\n",
      "Epoch 00091: val_loss did not improve from 0.01456\n",
      "212/212 [==============================] - 2s 12ms/step - loss: 0.0155 - root_mean_squared_error: 0.1245 - val_loss: 0.0157 - val_root_mean_squared_error: 0.1253\n",
      "Epoch 92/100\n",
      "211/212 [============================>.] - ETA: 0s - loss: 0.0149 - root_mean_squared_error: 0.1220\n",
      "Epoch 00092: val_loss did not improve from 0.01456\n",
      "212/212 [==============================] - 2s 12ms/step - loss: 0.0149 - root_mean_squared_error: 0.1219 - val_loss: 0.0164 - val_root_mean_squared_error: 0.1279\n",
      "Epoch 93/100\n",
      "208/212 [============================>.] - ETA: 0s - loss: 0.0135 - root_mean_squared_error: 0.1163\n",
      "Epoch 00093: val_loss did not improve from 0.01456\n",
      "212/212 [==============================] - 2s 12ms/step - loss: 0.0137 - root_mean_squared_error: 0.1172 - val_loss: 0.0150 - val_root_mean_squared_error: 0.1224\n",
      "Epoch 94/100\n",
      "212/212 [==============================] - ETA: 0s - loss: 0.0135 - root_mean_squared_error: 0.1162\n",
      "Epoch 00094: val_loss did not improve from 0.01456\n",
      "212/212 [==============================] - 2s 12ms/step - loss: 0.0135 - root_mean_squared_error: 0.1162 - val_loss: 0.0151 - val_root_mean_squared_error: 0.1229\n",
      "Epoch 95/100\n",
      "209/212 [============================>.] - ETA: 0s - loss: 0.0146 - root_mean_squared_error: 0.1208\n",
      "Epoch 00095: val_loss did not improve from 0.01456\n",
      "212/212 [==============================] - 2s 12ms/step - loss: 0.0146 - root_mean_squared_error: 0.1208 - val_loss: 0.0149 - val_root_mean_squared_error: 0.1222\n",
      "Epoch 96/100\n",
      "210/212 [============================>.] - ETA: 0s - loss: 0.0141 - root_mean_squared_error: 0.1185\n",
      "Epoch 00096: val_loss did not improve from 0.01456\n",
      "212/212 [==============================] - 2s 12ms/step - loss: 0.0140 - root_mean_squared_error: 0.1183 - val_loss: 0.0146 - val_root_mean_squared_error: 0.1209\n",
      "Epoch 97/100\n",
      "211/212 [============================>.] - ETA: 0s - loss: 0.0134 - root_mean_squared_error: 0.1159\n",
      "Epoch 00097: val_loss improved from 0.01456 to 0.01412, saving model to /content/drive/My Drive/epochs/model_1_camera3.0097-0.0141.h5\n",
      "212/212 [==============================] - 3s 12ms/step - loss: 0.0134 - root_mean_squared_error: 0.1158 - val_loss: 0.0141 - val_root_mean_squared_error: 0.1188\n",
      "Epoch 98/100\n",
      "208/212 [============================>.] - ETA: 0s - loss: 0.0138 - root_mean_squared_error: 0.1177\n",
      "Epoch 00098: val_loss did not improve from 0.01412\n",
      "212/212 [==============================] - 2s 12ms/step - loss: 0.0138 - root_mean_squared_error: 0.1173 - val_loss: 0.0147 - val_root_mean_squared_error: 0.1211\n",
      "Epoch 99/100\n",
      "208/212 [============================>.] - ETA: 0s - loss: 0.0143 - root_mean_squared_error: 0.1194\n",
      "Epoch 00099: val_loss did not improve from 0.01412\n",
      "212/212 [==============================] - 2s 12ms/step - loss: 0.0142 - root_mean_squared_error: 0.1190 - val_loss: 0.0156 - val_root_mean_squared_error: 0.1250\n",
      "Epoch 100/100\n",
      "211/212 [============================>.] - ETA: 0s - loss: 0.0140 - root_mean_squared_error: 0.1183\n",
      "Epoch 00100: val_loss did not improve from 0.01412\n",
      "212/212 [==============================] - 2s 12ms/step - loss: 0.0140 - root_mean_squared_error: 0.1181 - val_loss: 0.0150 - val_root_mean_squared_error: 0.1226\n"
     ]
    }
   ],
   "source": [
    "history = model.fit(X_train,\n",
    "                    y_train,\n",
    "                    batch_size=64,\n",
    "                    validation_data=(X_test, y_test),\n",
    "                    epochs=100,\n",
    "                    verbose=1,\n",
    "                    callbacks=callbacks_list)"
   ]
  },
  {
   "cell_type": "code",
   "execution_count": null,
   "metadata": {
    "colab": {},
    "colab_type": "code",
    "id": "zZ-WqIvi7PuC"
   },
   "outputs": [],
   "source": [
    "model_1_camera3 = model_history('model_1_camera3')"
   ]
  },
  {
   "cell_type": "markdown",
   "metadata": {
    "colab": {},
    "colab_type": "code",
    "id": "V7y9oc85A2d-"
   },
   "source": [
    "### Model 1 camera4"
   ]
  },
  {
   "cell_type": "code",
   "execution_count": null,
   "metadata": {
    "colab": {},
    "colab_type": "code",
    "id": "VYOg06dUA3nb"
   },
   "outputs": [],
   "source": [
    "model = load_model('/content/drive/My Drive/epochs/model_1_camera3.0097-0.0141.h5')"
   ]
  },
  {
   "cell_type": "code",
   "execution_count": null,
   "metadata": {
    "colab": {},
    "colab_type": "code",
    "id": "hrtv4_fiA3nJ"
   },
   "outputs": [],
   "source": [
    "camera4 = load('/content/drive/My Drive/datasets/camera4_cleaned.npz')\n",
    "log4 = pd.read_csv('/content/drive/My Drive/datasets/log4_cleaned.csv')"
   ]
  },
  {
   "cell_type": "code",
   "execution_count": null,
   "metadata": {
    "colab": {
     "base_uri": "https://localhost:8080/",
     "height": 34
    },
    "colab_type": "code",
    "executionInfo": {
     "elapsed": 157674,
     "status": "ok",
     "timestamp": 1596553986515,
     "user": {
      "displayName": "Tay Khim",
      "photoUrl": "",
      "userId": "00177423956135587504"
     },
     "user_tz": -480
    },
    "id": "R2YurvfOA3nL",
    "outputId": "70ad09a7-741b-41c0-d017-11baad89b4bc"
   },
   "outputs": [
    {
     "name": "stdout",
     "output_type": "stream",
     "text": [
      "Done\n"
     ]
    }
   ],
   "source": [
    "camera_processing(camera4, 'camera4')"
   ]
  },
  {
   "cell_type": "code",
   "execution_count": null,
   "metadata": {
    "colab": {
     "base_uri": "https://localhost:8080/",
     "height": 34
    },
    "colab_type": "code",
    "executionInfo": {
     "elapsed": 1398,
     "status": "ok",
     "timestamp": 1596554011334,
     "user": {
      "displayName": "Tay Khim",
      "photoUrl": "",
      "userId": "00177423956135587504"
     },
     "user_tz": -480
    },
    "id": "BgylVnBIA3nO",
    "outputId": "4150ff38-26ff-4921-d094-aebe09ba42cf"
   },
   "outputs": [
    {
     "name": "stdout",
     "output_type": "stream",
     "text": [
      "Done\n"
     ]
    }
   ],
   "source": [
    "log_processing(log4, 'log4')"
   ]
  },
  {
   "cell_type": "code",
   "execution_count": null,
   "metadata": {
    "colab": {
     "base_uri": "https://localhost:8080/",
     "height": 34
    },
    "colab_type": "code",
    "executionInfo": {
     "elapsed": 153414,
     "status": "ok",
     "timestamp": 1596554169006,
     "user": {
      "displayName": "Tay Khim",
      "photoUrl": "",
      "userId": "00177423956135587504"
     },
     "user_tz": -480
    },
    "id": "30dxH1E5A3nT",
    "outputId": "c4861f55-7cb7-4363-ad18-428babf3a1a5"
   },
   "outputs": [
    {
     "name": "stdout",
     "output_type": "stream",
     "text": [
      "Done\n"
     ]
    }
   ],
   "source": [
    "train_split('camera4', 'log4')"
   ]
  },
  {
   "cell_type": "code",
   "execution_count": null,
   "metadata": {
    "colab": {},
    "colab_type": "code",
    "id": "Q-twQqN7A3ng"
   },
   "outputs": [],
   "source": [
    "X_train, X_test, y_train, y_test = train_load('camera4')"
   ]
  },
  {
   "cell_type": "code",
   "execution_count": null,
   "metadata": {
    "colab": {
     "base_uri": "https://localhost:8080/",
     "height": 34
    },
    "colab_type": "code",
    "executionInfo": {
     "elapsed": 31315,
     "status": "ok",
     "timestamp": 1596557767084,
     "user": {
      "displayName": "Tay Khim",
      "photoUrl": "",
      "userId": "00177423956135587504"
     },
     "user_tz": -480
    },
    "id": "q-4dBlG_A3ni",
    "outputId": "34ca6ae3-fa14-4aad-cfb4-8c14df78f6a0"
   },
   "outputs": [
    {
     "data": {
      "text/plain": [
       "((42696, 80, 160, 1), (10675, 80, 160, 1), (42696, 1), (10675, 1))"
      ]
     },
     "execution_count": 45,
     "metadata": {
      "tags": []
     },
     "output_type": "execute_result"
    }
   ],
   "source": [
    "X_train.shape, X_test.shape, y_train.shape, y_test.shape"
   ]
  },
  {
   "cell_type": "code",
   "execution_count": null,
   "metadata": {
    "colab": {},
    "colab_type": "code",
    "id": "HShkmE5dA3nk"
   },
   "outputs": [],
   "source": [
    "filepath = \"/content/drive/My Drive/epochs/model_1_camera4.{epoch:04d}-{val_loss:.4f}.h5\"\n",
    "checkpoint = ModelCheckpoint(filepath, monitor='val_loss', verbose=1, save_best_only=True, mode='min')\n",
    "callbacks_list = [checkpoint]"
   ]
  },
  {
   "cell_type": "code",
   "execution_count": null,
   "metadata": {
    "colab": {
     "base_uri": "https://localhost:8080/",
     "height": 1000
    },
    "colab_type": "code",
    "collapsed": true,
    "executionInfo": {
     "elapsed": 789533,
     "status": "ok",
     "timestamp": 1596558776257,
     "user": {
      "displayName": "Tay Khim",
      "photoUrl": "",
      "userId": "00177423956135587504"
     },
     "user_tz": -480
    },
    "id": "oboAqGvaA3nm",
    "outputId": "bee8c642-29e8-4d83-a2f6-9d0fe71d63ff"
   },
   "outputs": [
    {
     "name": "stdout",
     "output_type": "stream",
     "text": [
      "Epoch 1/100\n",
      "668/668 [==============================] - ETA: 0s - loss: 0.1216 - root_mean_squared_error: 0.3487\n",
      "Epoch 00001: val_loss improved from inf to 0.13938, saving model to /content/drive/My Drive/epochs/model_1_camera4.0001-0.1394.h5\n",
      "668/668 [==============================] - 8s 12ms/step - loss: 0.1216 - root_mean_squared_error: 0.3487 - val_loss: 0.1394 - val_root_mean_squared_error: 0.3733\n",
      "Epoch 2/100\n",
      "667/668 [============================>.] - ETA: 0s - loss: 0.1187 - root_mean_squared_error: 0.3446\n",
      "Epoch 00002: val_loss improved from 0.13938 to 0.13356, saving model to /content/drive/My Drive/epochs/model_1_camera4.0002-0.1336.h5\n",
      "668/668 [==============================] - 8s 12ms/step - loss: 0.1187 - root_mean_squared_error: 0.3446 - val_loss: 0.1336 - val_root_mean_squared_error: 0.3655\n",
      "Epoch 3/100\n",
      "664/668 [============================>.] - ETA: 0s - loss: 0.1135 - root_mean_squared_error: 0.3370\n",
      "Epoch 00003: val_loss improved from 0.13356 to 0.12702, saving model to /content/drive/My Drive/epochs/model_1_camera4.0003-0.1270.h5\n",
      "668/668 [==============================] - 8s 12ms/step - loss: 0.1135 - root_mean_squared_error: 0.3369 - val_loss: 0.1270 - val_root_mean_squared_error: 0.3564\n",
      "Epoch 4/100\n",
      "666/668 [============================>.] - ETA: 0s - loss: 0.1068 - root_mean_squared_error: 0.3268\n",
      "Epoch 00004: val_loss improved from 0.12702 to 0.11480, saving model to /content/drive/My Drive/epochs/model_1_camera4.0004-0.1148.h5\n",
      "668/668 [==============================] - 8s 12ms/step - loss: 0.1066 - root_mean_squared_error: 0.3266 - val_loss: 0.1148 - val_root_mean_squared_error: 0.3388\n",
      "Epoch 5/100\n",
      "663/668 [============================>.] - ETA: 0s - loss: 0.0998 - root_mean_squared_error: 0.3160\n",
      "Epoch 00005: val_loss improved from 0.11480 to 0.10889, saving model to /content/drive/My Drive/epochs/model_1_camera4.0005-0.1089.h5\n",
      "668/668 [==============================] - 8s 12ms/step - loss: 0.0996 - root_mean_squared_error: 0.3156 - val_loss: 0.1089 - val_root_mean_squared_error: 0.3300\n",
      "Epoch 6/100\n",
      "666/668 [============================>.] - ETA: 0s - loss: 0.0906 - root_mean_squared_error: 0.3010\n",
      "Epoch 00006: val_loss improved from 0.10889 to 0.10020, saving model to /content/drive/My Drive/epochs/model_1_camera4.0006-0.1002.h5\n",
      "668/668 [==============================] - 8s 12ms/step - loss: 0.0906 - root_mean_squared_error: 0.3010 - val_loss: 0.1002 - val_root_mean_squared_error: 0.3165\n",
      "Epoch 7/100\n",
      "665/668 [============================>.] - ETA: 0s - loss: 0.0869 - root_mean_squared_error: 0.2948\n",
      "Epoch 00007: val_loss improved from 0.10020 to 0.09828, saving model to /content/drive/My Drive/epochs/model_1_camera4.0007-0.0983.h5\n",
      "668/668 [==============================] - 8s 12ms/step - loss: 0.0869 - root_mean_squared_error: 0.2948 - val_loss: 0.0983 - val_root_mean_squared_error: 0.3135\n",
      "Epoch 8/100\n",
      "665/668 [============================>.] - ETA: 0s - loss: 0.0817 - root_mean_squared_error: 0.2858\n",
      "Epoch 00008: val_loss improved from 0.09828 to 0.09387, saving model to /content/drive/My Drive/epochs/model_1_camera4.0008-0.0939.h5\n",
      "668/668 [==============================] - 8s 12ms/step - loss: 0.0816 - root_mean_squared_error: 0.2857 - val_loss: 0.0939 - val_root_mean_squared_error: 0.3064\n",
      "Epoch 9/100\n",
      "666/668 [============================>.] - ETA: 0s - loss: 0.0773 - root_mean_squared_error: 0.2780\n",
      "Epoch 00009: val_loss improved from 0.09387 to 0.09079, saving model to /content/drive/My Drive/epochs/model_1_camera4.0009-0.0908.h5\n",
      "668/668 [==============================] - 8s 12ms/step - loss: 0.0772 - root_mean_squared_error: 0.2778 - val_loss: 0.0908 - val_root_mean_squared_error: 0.3013\n",
      "Epoch 10/100\n",
      "664/668 [============================>.] - ETA: 0s - loss: 0.0758 - root_mean_squared_error: 0.2753\n",
      "Epoch 00010: val_loss improved from 0.09079 to 0.08758, saving model to /content/drive/My Drive/epochs/model_1_camera4.0010-0.0876.h5\n",
      "668/668 [==============================] - 8s 12ms/step - loss: 0.0756 - root_mean_squared_error: 0.2749 - val_loss: 0.0876 - val_root_mean_squared_error: 0.2959\n",
      "Epoch 11/100\n",
      "667/668 [============================>.] - ETA: 0s - loss: 0.0684 - root_mean_squared_error: 0.2614\n",
      "Epoch 00011: val_loss improved from 0.08758 to 0.08257, saving model to /content/drive/My Drive/epochs/model_1_camera4.0011-0.0826.h5\n",
      "668/668 [==============================] - 8s 12ms/step - loss: 0.0683 - root_mean_squared_error: 0.2614 - val_loss: 0.0826 - val_root_mean_squared_error: 0.2874\n",
      "Epoch 12/100\n",
      "663/668 [============================>.] - ETA: 0s - loss: 0.0624 - root_mean_squared_error: 0.2499\n",
      "Epoch 00012: val_loss improved from 0.08257 to 0.07866, saving model to /content/drive/My Drive/epochs/model_1_camera4.0012-0.0787.h5\n",
      "668/668 [==============================] - 8s 12ms/step - loss: 0.0621 - root_mean_squared_error: 0.2492 - val_loss: 0.0787 - val_root_mean_squared_error: 0.2805\n",
      "Epoch 13/100\n",
      "666/668 [============================>.] - ETA: 0s - loss: 0.0629 - root_mean_squared_error: 0.2509\n",
      "Epoch 00013: val_loss did not improve from 0.07866\n",
      "668/668 [==============================] - 8s 12ms/step - loss: 0.0629 - root_mean_squared_error: 0.2509 - val_loss: 0.0802 - val_root_mean_squared_error: 0.2831\n",
      "Epoch 14/100\n",
      "666/668 [============================>.] - ETA: 0s - loss: 0.0572 - root_mean_squared_error: 0.2391\n",
      "Epoch 00014: val_loss improved from 0.07866 to 0.07151, saving model to /content/drive/My Drive/epochs/model_1_camera4.0014-0.0715.h5\n",
      "668/668 [==============================] - 8s 12ms/step - loss: 0.0572 - root_mean_squared_error: 0.2392 - val_loss: 0.0715 - val_root_mean_squared_error: 0.2674\n",
      "Epoch 15/100\n",
      "664/668 [============================>.] - ETA: 0s - loss: 0.0544 - root_mean_squared_error: 0.2333\n",
      "Epoch 00015: val_loss improved from 0.07151 to 0.06753, saving model to /content/drive/My Drive/epochs/model_1_camera4.0015-0.0675.h5\n",
      "668/668 [==============================] - 8s 12ms/step - loss: 0.0543 - root_mean_squared_error: 0.2329 - val_loss: 0.0675 - val_root_mean_squared_error: 0.2599\n",
      "Epoch 16/100\n",
      "663/668 [============================>.] - ETA: 0s - loss: 0.0532 - root_mean_squared_error: 0.2307\n",
      "Epoch 00016: val_loss did not improve from 0.06753\n",
      "668/668 [==============================] - 8s 12ms/step - loss: 0.0530 - root_mean_squared_error: 0.2302 - val_loss: 0.0703 - val_root_mean_squared_error: 0.2651\n",
      "Epoch 17/100\n",
      "665/668 [============================>.] - ETA: 0s - loss: 0.0517 - root_mean_squared_error: 0.2273\n",
      "Epoch 00017: val_loss improved from 0.06753 to 0.06385, saving model to /content/drive/My Drive/epochs/model_1_camera4.0017-0.0638.h5\n",
      "668/668 [==============================] - 8s 12ms/step - loss: 0.0515 - root_mean_squared_error: 0.2270 - val_loss: 0.0638 - val_root_mean_squared_error: 0.2527\n",
      "Epoch 18/100\n",
      "665/668 [============================>.] - ETA: 0s - loss: 0.0495 - root_mean_squared_error: 0.2225\n",
      "Epoch 00018: val_loss improved from 0.06385 to 0.06314, saving model to /content/drive/My Drive/epochs/model_1_camera4.0018-0.0631.h5\n",
      "668/668 [==============================] - 8s 12ms/step - loss: 0.0496 - root_mean_squared_error: 0.2228 - val_loss: 0.0631 - val_root_mean_squared_error: 0.2513\n",
      "Epoch 19/100\n",
      "663/668 [============================>.] - ETA: 0s - loss: 0.0481 - root_mean_squared_error: 0.2193\n",
      "Epoch 00019: val_loss improved from 0.06314 to 0.06190, saving model to /content/drive/My Drive/epochs/model_1_camera4.0019-0.0619.h5\n",
      "668/668 [==============================] - 8s 12ms/step - loss: 0.0481 - root_mean_squared_error: 0.2192 - val_loss: 0.0619 - val_root_mean_squared_error: 0.2488\n",
      "Epoch 20/100\n",
      "667/668 [============================>.] - ETA: 0s - loss: 0.0466 - root_mean_squared_error: 0.2159\n",
      "Epoch 00020: val_loss improved from 0.06190 to 0.06148, saving model to /content/drive/My Drive/epochs/model_1_camera4.0020-0.0615.h5\n",
      "668/668 [==============================] - 8s 12ms/step - loss: 0.0466 - root_mean_squared_error: 0.2159 - val_loss: 0.0615 - val_root_mean_squared_error: 0.2479\n",
      "Epoch 21/100\n",
      "664/668 [============================>.] - ETA: 0s - loss: 0.0444 - root_mean_squared_error: 0.2108\n",
      "Epoch 00021: val_loss did not improve from 0.06148\n",
      "668/668 [==============================] - 8s 12ms/step - loss: 0.0443 - root_mean_squared_error: 0.2105 - val_loss: 0.0649 - val_root_mean_squared_error: 0.2548\n",
      "Epoch 22/100\n",
      "667/668 [============================>.] - ETA: 0s - loss: 0.0447 - root_mean_squared_error: 0.2113\n",
      "Epoch 00022: val_loss improved from 0.06148 to 0.05935, saving model to /content/drive/My Drive/epochs/model_1_camera4.0022-0.0593.h5\n",
      "668/668 [==============================] - 8s 12ms/step - loss: 0.0446 - root_mean_squared_error: 0.2113 - val_loss: 0.0593 - val_root_mean_squared_error: 0.2436\n",
      "Epoch 23/100\n",
      "666/668 [============================>.] - ETA: 0s - loss: 0.0431 - root_mean_squared_error: 0.2075\n",
      "Epoch 00023: val_loss improved from 0.05935 to 0.05684, saving model to /content/drive/My Drive/epochs/model_1_camera4.0023-0.0568.h5\n",
      "668/668 [==============================] - 8s 12ms/step - loss: 0.0430 - root_mean_squared_error: 0.2074 - val_loss: 0.0568 - val_root_mean_squared_error: 0.2384\n",
      "Epoch 24/100\n",
      "664/668 [============================>.] - ETA: 0s - loss: 0.0436 - root_mean_squared_error: 0.2088\n",
      "Epoch 00024: val_loss did not improve from 0.05684\n",
      "668/668 [==============================] - 8s 12ms/step - loss: 0.0437 - root_mean_squared_error: 0.2090 - val_loss: 0.0594 - val_root_mean_squared_error: 0.2437\n",
      "Epoch 25/100\n",
      "666/668 [============================>.] - ETA: 0s - loss: 0.0434 - root_mean_squared_error: 0.2084\n",
      "Epoch 00025: val_loss did not improve from 0.05684\n",
      "668/668 [==============================] - 8s 12ms/step - loss: 0.0434 - root_mean_squared_error: 0.2083 - val_loss: 0.0604 - val_root_mean_squared_error: 0.2458\n",
      "Epoch 26/100\n",
      "666/668 [============================>.] - ETA: 0s - loss: 0.0377 - root_mean_squared_error: 0.1942\n",
      "Epoch 00026: val_loss did not improve from 0.05684\n",
      "668/668 [==============================] - 8s 12ms/step - loss: 0.0377 - root_mean_squared_error: 0.1941 - val_loss: 0.0572 - val_root_mean_squared_error: 0.2391\n",
      "Epoch 27/100\n",
      "664/668 [============================>.] - ETA: 0s - loss: 0.0405 - root_mean_squared_error: 0.2013\n",
      "Epoch 00027: val_loss did not improve from 0.05684\n",
      "668/668 [==============================] - 8s 12ms/step - loss: 0.0406 - root_mean_squared_error: 0.2014 - val_loss: 0.0570 - val_root_mean_squared_error: 0.2387\n",
      "Epoch 28/100\n",
      "666/668 [============================>.] - ETA: 0s - loss: 0.0417 - root_mean_squared_error: 0.2042\n",
      "Epoch 00028: val_loss improved from 0.05684 to 0.05622, saving model to /content/drive/My Drive/epochs/model_1_camera4.0028-0.0562.h5\n",
      "668/668 [==============================] - 8s 12ms/step - loss: 0.0422 - root_mean_squared_error: 0.2053 - val_loss: 0.0562 - val_root_mean_squared_error: 0.2371\n",
      "Epoch 29/100\n",
      "663/668 [============================>.] - ETA: 0s - loss: 0.0381 - root_mean_squared_error: 0.1953\n",
      "Epoch 00029: val_loss did not improve from 0.05622\n",
      "668/668 [==============================] - 8s 12ms/step - loss: 0.0383 - root_mean_squared_error: 0.1956 - val_loss: 0.0576 - val_root_mean_squared_error: 0.2400\n",
      "Epoch 30/100\n",
      "666/668 [============================>.] - ETA: 0s - loss: 0.0361 - root_mean_squared_error: 0.1901\n",
      "Epoch 00030: val_loss improved from 0.05622 to 0.05417, saving model to /content/drive/My Drive/epochs/model_1_camera4.0030-0.0542.h5\n",
      "668/668 [==============================] - 8s 12ms/step - loss: 0.0362 - root_mean_squared_error: 0.1904 - val_loss: 0.0542 - val_root_mean_squared_error: 0.2327\n",
      "Epoch 31/100\n",
      "667/668 [============================>.] - ETA: 0s - loss: 0.0366 - root_mean_squared_error: 0.1913\n",
      "Epoch 00031: val_loss improved from 0.05417 to 0.05404, saving model to /content/drive/My Drive/epochs/model_1_camera4.0031-0.0540.h5\n",
      "668/668 [==============================] - 8s 12ms/step - loss: 0.0366 - root_mean_squared_error: 0.1913 - val_loss: 0.0540 - val_root_mean_squared_error: 0.2325\n",
      "Epoch 32/100\n",
      "664/668 [============================>.] - ETA: 0s - loss: 0.0354 - root_mean_squared_error: 0.1882\n",
      "Epoch 00032: val_loss improved from 0.05404 to 0.05084, saving model to /content/drive/My Drive/epochs/model_1_camera4.0032-0.0508.h5\n",
      "668/668 [==============================] - 8s 12ms/step - loss: 0.0354 - root_mean_squared_error: 0.1883 - val_loss: 0.0508 - val_root_mean_squared_error: 0.2255\n",
      "Epoch 33/100\n",
      "667/668 [============================>.] - ETA: 0s - loss: 0.0351 - root_mean_squared_error: 0.1874\n",
      "Epoch 00033: val_loss improved from 0.05084 to 0.05060, saving model to /content/drive/My Drive/epochs/model_1_camera4.0033-0.0506.h5\n",
      "668/668 [==============================] - 8s 12ms/step - loss: 0.0351 - root_mean_squared_error: 0.1874 - val_loss: 0.0506 - val_root_mean_squared_error: 0.2249\n",
      "Epoch 34/100\n",
      "667/668 [============================>.] - ETA: 0s - loss: 0.0381 - root_mean_squared_error: 0.1952\n",
      "Epoch 00034: val_loss did not improve from 0.05060\n",
      "668/668 [==============================] - 8s 12ms/step - loss: 0.0381 - root_mean_squared_error: 0.1951 - val_loss: 0.0521 - val_root_mean_squared_error: 0.2282\n",
      "Epoch 35/100\n",
      "667/668 [============================>.] - ETA: 0s - loss: 0.0350 - root_mean_squared_error: 0.1870\n",
      "Epoch 00035: val_loss improved from 0.05060 to 0.05045, saving model to /content/drive/My Drive/epochs/model_1_camera4.0035-0.0504.h5\n",
      "668/668 [==============================] - 8s 12ms/step - loss: 0.0350 - root_mean_squared_error: 0.1870 - val_loss: 0.0504 - val_root_mean_squared_error: 0.2246\n",
      "Epoch 36/100\n",
      "667/668 [============================>.] - ETA: 0s - loss: 0.0350 - root_mean_squared_error: 0.1870\n",
      "Epoch 00036: val_loss improved from 0.05045 to 0.04959, saving model to /content/drive/My Drive/epochs/model_1_camera4.0036-0.0496.h5\n",
      "668/668 [==============================] - 8s 12ms/step - loss: 0.0350 - root_mean_squared_error: 0.1870 - val_loss: 0.0496 - val_root_mean_squared_error: 0.2227\n",
      "Epoch 37/100\n",
      "667/668 [============================>.] - ETA: 0s - loss: 0.0315 - root_mean_squared_error: 0.1775\n",
      "Epoch 00037: val_loss did not improve from 0.04959\n",
      "668/668 [==============================] - 8s 12ms/step - loss: 0.0315 - root_mean_squared_error: 0.1775 - val_loss: 0.0521 - val_root_mean_squared_error: 0.2283\n",
      "Epoch 38/100\n",
      "667/668 [============================>.] - ETA: 0s - loss: 0.0371 - root_mean_squared_error: 0.1927\n",
      "Epoch 00038: val_loss improved from 0.04959 to 0.04467, saving model to /content/drive/My Drive/epochs/model_1_camera4.0038-0.0447.h5\n",
      "668/668 [==============================] - 8s 12ms/step - loss: 0.0371 - root_mean_squared_error: 0.1927 - val_loss: 0.0447 - val_root_mean_squared_error: 0.2113\n",
      "Epoch 39/100\n",
      "664/668 [============================>.] - ETA: 0s - loss: 0.0318 - root_mean_squared_error: 0.1784\n",
      "Epoch 00039: val_loss did not improve from 0.04467\n",
      "668/668 [==============================] - 8s 12ms/step - loss: 0.0318 - root_mean_squared_error: 0.1784 - val_loss: 0.0455 - val_root_mean_squared_error: 0.2133\n",
      "Epoch 40/100\n",
      "663/668 [============================>.] - ETA: 0s - loss: 0.0308 - root_mean_squared_error: 0.1754\n",
      "Epoch 00040: val_loss improved from 0.04467 to 0.04396, saving model to /content/drive/My Drive/epochs/model_1_camera4.0040-0.0440.h5\n",
      "668/668 [==============================] - 8s 12ms/step - loss: 0.0310 - root_mean_squared_error: 0.1762 - val_loss: 0.0440 - val_root_mean_squared_error: 0.2097\n",
      "Epoch 41/100\n",
      "664/668 [============================>.] - ETA: 0s - loss: 0.0285 - root_mean_squared_error: 0.1688\n",
      "Epoch 00041: val_loss did not improve from 0.04396\n",
      "668/668 [==============================] - 8s 12ms/step - loss: 0.0285 - root_mean_squared_error: 0.1688 - val_loss: 0.0480 - val_root_mean_squared_error: 0.2191\n",
      "Epoch 42/100\n",
      "664/668 [============================>.] - ETA: 0s - loss: 0.0291 - root_mean_squared_error: 0.1705\n",
      "Epoch 00042: val_loss did not improve from 0.04396\n",
      "668/668 [==============================] - 8s 12ms/step - loss: 0.0293 - root_mean_squared_error: 0.1710 - val_loss: 0.0490 - val_root_mean_squared_error: 0.2213\n",
      "Epoch 43/100\n",
      "665/668 [============================>.] - ETA: 0s - loss: 0.0314 - root_mean_squared_error: 0.1773\n",
      "Epoch 00043: val_loss improved from 0.04396 to 0.04316, saving model to /content/drive/My Drive/epochs/model_1_camera4.0043-0.0432.h5\n",
      "668/668 [==============================] - 8s 12ms/step - loss: 0.0314 - root_mean_squared_error: 0.1772 - val_loss: 0.0432 - val_root_mean_squared_error: 0.2078\n",
      "Epoch 44/100\n",
      "667/668 [============================>.] - ETA: 0s - loss: 0.0307 - root_mean_squared_error: 0.1752\n",
      "Epoch 00044: val_loss did not improve from 0.04316\n",
      "668/668 [==============================] - 8s 12ms/step - loss: 0.0307 - root_mean_squared_error: 0.1752 - val_loss: 0.0503 - val_root_mean_squared_error: 0.2242\n",
      "Epoch 45/100\n",
      "664/668 [============================>.] - ETA: 0s - loss: 0.0290 - root_mean_squared_error: 0.1703\n",
      "Epoch 00045: val_loss did not improve from 0.04316\n",
      "668/668 [==============================] - 8s 12ms/step - loss: 0.0290 - root_mean_squared_error: 0.1703 - val_loss: 0.0434 - val_root_mean_squared_error: 0.2082\n",
      "Epoch 46/100\n",
      "666/668 [============================>.] - ETA: 0s - loss: 0.0305 - root_mean_squared_error: 0.1746\n",
      "Epoch 00046: val_loss did not improve from 0.04316\n",
      "668/668 [==============================] - 8s 12ms/step - loss: 0.0305 - root_mean_squared_error: 0.1746 - val_loss: 0.0460 - val_root_mean_squared_error: 0.2144\n",
      "Epoch 47/100\n",
      "666/668 [============================>.] - ETA: 0s - loss: 0.0293 - root_mean_squared_error: 0.1712\n",
      "Epoch 00047: val_loss did not improve from 0.04316\n",
      "668/668 [==============================] - 8s 12ms/step - loss: 0.0294 - root_mean_squared_error: 0.1713 - val_loss: 0.0481 - val_root_mean_squared_error: 0.2193\n",
      "Epoch 48/100\n",
      "664/668 [============================>.] - ETA: 0s - loss: 0.0274 - root_mean_squared_error: 0.1654\n",
      "Epoch 00048: val_loss improved from 0.04316 to 0.04208, saving model to /content/drive/My Drive/epochs/model_1_camera4.0048-0.0421.h5\n",
      "668/668 [==============================] - 8s 12ms/step - loss: 0.0273 - root_mean_squared_error: 0.1652 - val_loss: 0.0421 - val_root_mean_squared_error: 0.2051\n",
      "Epoch 49/100\n",
      "664/668 [============================>.] - ETA: 0s - loss: 0.0270 - root_mean_squared_error: 0.1644\n",
      "Epoch 00049: val_loss did not improve from 0.04208\n",
      "668/668 [==============================] - 8s 12ms/step - loss: 0.0270 - root_mean_squared_error: 0.1642 - val_loss: 0.0451 - val_root_mean_squared_error: 0.2124\n",
      "Epoch 50/100\n",
      "663/668 [============================>.] - ETA: 0s - loss: 0.0267 - root_mean_squared_error: 0.1633\n",
      "Epoch 00050: val_loss did not improve from 0.04208\n",
      "668/668 [==============================] - 8s 12ms/step - loss: 0.0268 - root_mean_squared_error: 0.1638 - val_loss: 0.0457 - val_root_mean_squared_error: 0.2137\n",
      "Epoch 51/100\n",
      "664/668 [============================>.] - ETA: 0s - loss: 0.0277 - root_mean_squared_error: 0.1665\n",
      "Epoch 00051: val_loss did not improve from 0.04208\n",
      "668/668 [==============================] - 8s 12ms/step - loss: 0.0276 - root_mean_squared_error: 0.1662 - val_loss: 0.0469 - val_root_mean_squared_error: 0.2165\n",
      "Epoch 52/100\n",
      "663/668 [============================>.] - ETA: 0s - loss: 0.0272 - root_mean_squared_error: 0.1651\n",
      "Epoch 00052: val_loss did not improve from 0.04208\n",
      "668/668 [==============================] - 8s 12ms/step - loss: 0.0273 - root_mean_squared_error: 0.1653 - val_loss: 0.0461 - val_root_mean_squared_error: 0.2148\n",
      "Epoch 53/100\n",
      "663/668 [============================>.] - ETA: 0s - loss: 0.0255 - root_mean_squared_error: 0.1596\n",
      "Epoch 00053: val_loss did not improve from 0.04208\n",
      "668/668 [==============================] - 8s 12ms/step - loss: 0.0254 - root_mean_squared_error: 0.1595 - val_loss: 0.0434 - val_root_mean_squared_error: 0.2083\n",
      "Epoch 54/100\n",
      "666/668 [============================>.] - ETA: 0s - loss: 0.0269 - root_mean_squared_error: 0.1639\n",
      "Epoch 00054: val_loss did not improve from 0.04208\n",
      "668/668 [==============================] - 8s 12ms/step - loss: 0.0268 - root_mean_squared_error: 0.1638 - val_loss: 0.0506 - val_root_mean_squared_error: 0.2249\n",
      "Epoch 55/100\n",
      "665/668 [============================>.] - ETA: 0s - loss: 0.0276 - root_mean_squared_error: 0.1662\n",
      "Epoch 00055: val_loss did not improve from 0.04208\n",
      "668/668 [==============================] - 8s 12ms/step - loss: 0.0276 - root_mean_squared_error: 0.1661 - val_loss: 0.0453 - val_root_mean_squared_error: 0.2129\n",
      "Epoch 56/100\n",
      "666/668 [============================>.] - ETA: 0s - loss: 0.0258 - root_mean_squared_error: 0.1605\n",
      "Epoch 00056: val_loss did not improve from 0.04208\n",
      "668/668 [==============================] - 8s 12ms/step - loss: 0.0257 - root_mean_squared_error: 0.1605 - val_loss: 0.0436 - val_root_mean_squared_error: 0.2088\n",
      "Epoch 57/100\n",
      "665/668 [============================>.] - ETA: 0s - loss: 0.0266 - root_mean_squared_error: 0.1630\n",
      "Epoch 00057: val_loss did not improve from 0.04208\n",
      "668/668 [==============================] - 8s 12ms/step - loss: 0.0267 - root_mean_squared_error: 0.1635 - val_loss: 0.0463 - val_root_mean_squared_error: 0.2152\n",
      "Epoch 58/100\n",
      "667/668 [============================>.] - ETA: 0s - loss: 0.0265 - root_mean_squared_error: 0.1627\n",
      "Epoch 00058: val_loss did not improve from 0.04208\n",
      "668/668 [==============================] - 8s 12ms/step - loss: 0.0265 - root_mean_squared_error: 0.1627 - val_loss: 0.0442 - val_root_mean_squared_error: 0.2101\n",
      "Epoch 59/100\n",
      "664/668 [============================>.] - ETA: 0s - loss: 0.0260 - root_mean_squared_error: 0.1612\n",
      "Epoch 00059: val_loss did not improve from 0.04208\n",
      "668/668 [==============================] - 8s 12ms/step - loss: 0.0259 - root_mean_squared_error: 0.1611 - val_loss: 0.0462 - val_root_mean_squared_error: 0.2150\n",
      "Epoch 60/100\n",
      "665/668 [============================>.] - ETA: 0s - loss: 0.0280 - root_mean_squared_error: 0.1673\n",
      "Epoch 00060: val_loss did not improve from 0.04208\n",
      "668/668 [==============================] - 8s 12ms/step - loss: 0.0280 - root_mean_squared_error: 0.1672 - val_loss: 0.0455 - val_root_mean_squared_error: 0.2134\n",
      "Epoch 61/100\n",
      "664/668 [============================>.] - ETA: 0s - loss: 0.0252 - root_mean_squared_error: 0.1588\n",
      "Epoch 00061: val_loss did not improve from 0.04208\n",
      "668/668 [==============================] - 8s 12ms/step - loss: 0.0252 - root_mean_squared_error: 0.1586 - val_loss: 0.0444 - val_root_mean_squared_error: 0.2107\n",
      "Epoch 62/100\n",
      "666/668 [============================>.] - ETA: 0s - loss: 0.0267 - root_mean_squared_error: 0.1635\n",
      "Epoch 00062: val_loss did not improve from 0.04208\n",
      "668/668 [==============================] - 8s 12ms/step - loss: 0.0267 - root_mean_squared_error: 0.1634 - val_loss: 0.0435 - val_root_mean_squared_error: 0.2085\n",
      "Epoch 63/100\n",
      "668/668 [==============================] - ETA: 0s - loss: 0.0238 - root_mean_squared_error: 0.1541\n",
      "Epoch 00063: val_loss did not improve from 0.04208\n",
      "668/668 [==============================] - 8s 12ms/step - loss: 0.0238 - root_mean_squared_error: 0.1541 - val_loss: 0.0422 - val_root_mean_squared_error: 0.2055\n",
      "Epoch 64/100\n",
      "664/668 [============================>.] - ETA: 0s - loss: 0.0245 - root_mean_squared_error: 0.1564\n",
      "Epoch 00064: val_loss did not improve from 0.04208\n",
      "668/668 [==============================] - 8s 12ms/step - loss: 0.0246 - root_mean_squared_error: 0.1567 - val_loss: 0.0431 - val_root_mean_squared_error: 0.2076\n",
      "Epoch 65/100\n",
      "663/668 [============================>.] - ETA: 0s - loss: 0.0244 - root_mean_squared_error: 0.1563\n",
      "Epoch 00065: val_loss did not improve from 0.04208\n",
      "668/668 [==============================] - 8s 12ms/step - loss: 0.0251 - root_mean_squared_error: 0.1586 - val_loss: 0.0442 - val_root_mean_squared_error: 0.2102\n",
      "Epoch 66/100\n",
      "666/668 [============================>.] - ETA: 0s - loss: 0.0252 - root_mean_squared_error: 0.1588\n",
      "Epoch 00066: val_loss did not improve from 0.04208\n",
      "668/668 [==============================] - 8s 12ms/step - loss: 0.0252 - root_mean_squared_error: 0.1588 - val_loss: 0.0440 - val_root_mean_squared_error: 0.2098\n",
      "Epoch 67/100\n",
      "666/668 [============================>.] - ETA: 0s - loss: 0.0263 - root_mean_squared_error: 0.1621\n",
      "Epoch 00067: val_loss did not improve from 0.04208\n",
      "668/668 [==============================] - 8s 12ms/step - loss: 0.0262 - root_mean_squared_error: 0.1620 - val_loss: 0.0432 - val_root_mean_squared_error: 0.2078\n",
      "Epoch 68/100\n",
      "666/668 [============================>.] - ETA: 0s - loss: 0.0228 - root_mean_squared_error: 0.1509\n",
      "Epoch 00068: val_loss improved from 0.04208 to 0.04084, saving model to /content/drive/My Drive/epochs/model_1_camera4.0068-0.0408.h5\n",
      "668/668 [==============================] - 8s 12ms/step - loss: 0.0228 - root_mean_squared_error: 0.1508 - val_loss: 0.0408 - val_root_mean_squared_error: 0.2021\n",
      "Epoch 69/100\n",
      "665/668 [============================>.] - ETA: 0s - loss: 0.0242 - root_mean_squared_error: 0.1555\n",
      "Epoch 00069: val_loss did not improve from 0.04084\n",
      "668/668 [==============================] - 8s 12ms/step - loss: 0.0242 - root_mean_squared_error: 0.1555 - val_loss: 0.0435 - val_root_mean_squared_error: 0.2085\n",
      "Epoch 70/100\n",
      "667/668 [============================>.] - ETA: 0s - loss: 0.0248 - root_mean_squared_error: 0.1574\n",
      "Epoch 00070: val_loss did not improve from 0.04084\n",
      "668/668 [==============================] - 8s 12ms/step - loss: 0.0248 - root_mean_squared_error: 0.1574 - val_loss: 0.0458 - val_root_mean_squared_error: 0.2139\n",
      "Epoch 71/100\n",
      "663/668 [============================>.] - ETA: 0s - loss: 0.0238 - root_mean_squared_error: 0.1543\n",
      "Epoch 00071: val_loss did not improve from 0.04084\n",
      "668/668 [==============================] - 8s 12ms/step - loss: 0.0239 - root_mean_squared_error: 0.1546 - val_loss: 0.0466 - val_root_mean_squared_error: 0.2158\n",
      "Epoch 72/100\n",
      "666/668 [============================>.] - ETA: 0s - loss: 0.0245 - root_mean_squared_error: 0.1566\n",
      "Epoch 00072: val_loss did not improve from 0.04084\n",
      "668/668 [==============================] - 8s 12ms/step - loss: 0.0245 - root_mean_squared_error: 0.1565 - val_loss: 0.0452 - val_root_mean_squared_error: 0.2126\n",
      "Epoch 73/100\n",
      "665/668 [============================>.] - ETA: 0s - loss: 0.0233 - root_mean_squared_error: 0.1526\n",
      "Epoch 00073: val_loss did not improve from 0.04084\n",
      "668/668 [==============================] - 8s 12ms/step - loss: 0.0233 - root_mean_squared_error: 0.1525 - val_loss: 0.0443 - val_root_mean_squared_error: 0.2104\n",
      "Epoch 74/100\n",
      "666/668 [============================>.] - ETA: 0s - loss: 0.0245 - root_mean_squared_error: 0.1566\n",
      "Epoch 00074: val_loss did not improve from 0.04084\n",
      "668/668 [==============================] - 8s 12ms/step - loss: 0.0245 - root_mean_squared_error: 0.1566 - val_loss: 0.0443 - val_root_mean_squared_error: 0.2105\n",
      "Epoch 75/100\n",
      "663/668 [============================>.] - ETA: 0s - loss: 0.0281 - root_mean_squared_error: 0.1676\n",
      "Epoch 00075: val_loss did not improve from 0.04084\n",
      "668/668 [==============================] - 8s 12ms/step - loss: 0.0281 - root_mean_squared_error: 0.1675 - val_loss: 0.0442 - val_root_mean_squared_error: 0.2101\n",
      "Epoch 76/100\n",
      "667/668 [============================>.] - ETA: 0s - loss: 0.0256 - root_mean_squared_error: 0.1600\n",
      "Epoch 00076: val_loss did not improve from 0.04084\n",
      "668/668 [==============================] - 8s 12ms/step - loss: 0.0256 - root_mean_squared_error: 0.1600 - val_loss: 0.0416 - val_root_mean_squared_error: 0.2039\n",
      "Epoch 77/100\n",
      "667/668 [============================>.] - ETA: 0s - loss: 0.0239 - root_mean_squared_error: 0.1547\n",
      "Epoch 00077: val_loss did not improve from 0.04084\n",
      "668/668 [==============================] - 8s 12ms/step - loss: 0.0239 - root_mean_squared_error: 0.1547 - val_loss: 0.0415 - val_root_mean_squared_error: 0.2038\n",
      "Epoch 78/100\n",
      "663/668 [============================>.] - ETA: 0s - loss: 0.0246 - root_mean_squared_error: 0.1567\n",
      "Epoch 00078: val_loss did not improve from 0.04084\n",
      "668/668 [==============================] - 8s 12ms/step - loss: 0.0246 - root_mean_squared_error: 0.1569 - val_loss: 0.0416 - val_root_mean_squared_error: 0.2039\n",
      "Epoch 79/100\n",
      "667/668 [============================>.] - ETA: 0s - loss: 0.0221 - root_mean_squared_error: 0.1487\n",
      "Epoch 00079: val_loss improved from 0.04084 to 0.03848, saving model to /content/drive/My Drive/epochs/model_1_camera4.0079-0.0385.h5\n",
      "668/668 [==============================] - 8s 12ms/step - loss: 0.0221 - root_mean_squared_error: 0.1487 - val_loss: 0.0385 - val_root_mean_squared_error: 0.1962\n",
      "Epoch 80/100\n",
      "667/668 [============================>.] - ETA: 0s - loss: 0.0222 - root_mean_squared_error: 0.1490\n",
      "Epoch 00080: val_loss did not improve from 0.03848\n",
      "668/668 [==============================] - 8s 12ms/step - loss: 0.0222 - root_mean_squared_error: 0.1490 - val_loss: 0.0408 - val_root_mean_squared_error: 0.2021\n",
      "Epoch 81/100\n",
      "665/668 [============================>.] - ETA: 0s - loss: 0.0222 - root_mean_squared_error: 0.1491\n",
      "Epoch 00081: val_loss did not improve from 0.03848\n",
      "668/668 [==============================] - 8s 12ms/step - loss: 0.0224 - root_mean_squared_error: 0.1496 - val_loss: 0.0414 - val_root_mean_squared_error: 0.2036\n",
      "Epoch 82/100\n",
      "665/668 [============================>.] - ETA: 0s - loss: 0.0222 - root_mean_squared_error: 0.1490\n",
      "Epoch 00082: val_loss did not improve from 0.03848\n",
      "668/668 [==============================] - 8s 12ms/step - loss: 0.0222 - root_mean_squared_error: 0.1489 - val_loss: 0.0403 - val_root_mean_squared_error: 0.2008\n",
      "Epoch 83/100\n",
      "666/668 [============================>.] - ETA: 0s - loss: 0.0218 - root_mean_squared_error: 0.1475\n",
      "Epoch 00083: val_loss did not improve from 0.03848\n",
      "668/668 [==============================] - 8s 12ms/step - loss: 0.0218 - root_mean_squared_error: 0.1475 - val_loss: 0.0409 - val_root_mean_squared_error: 0.2022\n",
      "Epoch 84/100\n",
      "663/668 [============================>.] - ETA: 0s - loss: 0.0229 - root_mean_squared_error: 0.1513\n",
      "Epoch 00084: val_loss did not improve from 0.03848\n",
      "668/668 [==============================] - 8s 12ms/step - loss: 0.0232 - root_mean_squared_error: 0.1523 - val_loss: 0.0471 - val_root_mean_squared_error: 0.2171\n",
      "Epoch 85/100\n",
      "664/668 [============================>.] - ETA: 0s - loss: 0.0226 - root_mean_squared_error: 0.1504\n",
      "Epoch 00085: val_loss did not improve from 0.03848\n",
      "668/668 [==============================] - 8s 12ms/step - loss: 0.0227 - root_mean_squared_error: 0.1506 - val_loss: 0.0408 - val_root_mean_squared_error: 0.2019\n",
      "Epoch 86/100\n",
      "668/668 [==============================] - ETA: 0s - loss: 0.0217 - root_mean_squared_error: 0.1475\n",
      "Epoch 00086: val_loss did not improve from 0.03848\n",
      "668/668 [==============================] - 8s 12ms/step - loss: 0.0217 - root_mean_squared_error: 0.1475 - val_loss: 0.0419 - val_root_mean_squared_error: 0.2047\n",
      "Epoch 87/100\n",
      "663/668 [============================>.] - ETA: 0s - loss: 0.0276 - root_mean_squared_error: 0.1661\n",
      "Epoch 00087: val_loss did not improve from 0.03848\n",
      "668/668 [==============================] - 8s 12ms/step - loss: 0.0275 - root_mean_squared_error: 0.1657 - val_loss: 0.0412 - val_root_mean_squared_error: 0.2029\n",
      "Epoch 88/100\n",
      "663/668 [============================>.] - ETA: 0s - loss: 0.0231 - root_mean_squared_error: 0.1520\n",
      "Epoch 00088: val_loss did not improve from 0.03848\n",
      "668/668 [==============================] - 8s 12ms/step - loss: 0.0230 - root_mean_squared_error: 0.1518 - val_loss: 0.0436 - val_root_mean_squared_error: 0.2088\n",
      "Epoch 89/100\n",
      "663/668 [============================>.] - ETA: 0s - loss: 0.0224 - root_mean_squared_error: 0.1496\n",
      "Epoch 00089: val_loss did not improve from 0.03848\n",
      "668/668 [==============================] - 8s 12ms/step - loss: 0.0223 - root_mean_squared_error: 0.1494 - val_loss: 0.0411 - val_root_mean_squared_error: 0.2028\n",
      "Epoch 90/100\n",
      "665/668 [============================>.] - ETA: 0s - loss: 0.0208 - root_mean_squared_error: 0.1442\n",
      "Epoch 00090: val_loss did not improve from 0.03848\n",
      "668/668 [==============================] - 8s 12ms/step - loss: 0.0207 - root_mean_squared_error: 0.1440 - val_loss: 0.0387 - val_root_mean_squared_error: 0.1966\n",
      "Epoch 91/100\n",
      "666/668 [============================>.] - ETA: 0s - loss: 0.0226 - root_mean_squared_error: 0.1504\n",
      "Epoch 00091: val_loss did not improve from 0.03848\n",
      "668/668 [==============================] - 8s 12ms/step - loss: 0.0226 - root_mean_squared_error: 0.1503 - val_loss: 0.0423 - val_root_mean_squared_error: 0.2056\n",
      "Epoch 92/100\n",
      "664/668 [============================>.] - ETA: 0s - loss: 0.0232 - root_mean_squared_error: 0.1522\n",
      "Epoch 00092: val_loss did not improve from 0.03848\n",
      "668/668 [==============================] - 8s 12ms/step - loss: 0.0231 - root_mean_squared_error: 0.1520 - val_loss: 0.0454 - val_root_mean_squared_error: 0.2132\n",
      "Epoch 93/100\n",
      "664/668 [============================>.] - ETA: 0s - loss: 0.0206 - root_mean_squared_error: 0.1437\n",
      "Epoch 00093: val_loss did not improve from 0.03848\n",
      "668/668 [==============================] - 8s 12ms/step - loss: 0.0206 - root_mean_squared_error: 0.1437 - val_loss: 0.0404 - val_root_mean_squared_error: 0.2011\n",
      "Epoch 94/100\n",
      "665/668 [============================>.] - ETA: 0s - loss: 0.0206 - root_mean_squared_error: 0.1435\n",
      "Epoch 00094: val_loss did not improve from 0.03848\n",
      "668/668 [==============================] - 8s 12ms/step - loss: 0.0210 - root_mean_squared_error: 0.1449 - val_loss: 0.0432 - val_root_mean_squared_error: 0.2079\n",
      "Epoch 95/100\n",
      "665/668 [============================>.] - ETA: 0s - loss: 0.0197 - root_mean_squared_error: 0.1402\n",
      "Epoch 00095: val_loss did not improve from 0.03848\n",
      "668/668 [==============================] - 8s 12ms/step - loss: 0.0197 - root_mean_squared_error: 0.1402 - val_loss: 0.0415 - val_root_mean_squared_error: 0.2038\n",
      "Epoch 96/100\n",
      "666/668 [============================>.] - ETA: 0s - loss: 0.0195 - root_mean_squared_error: 0.1397\n",
      "Epoch 00096: val_loss did not improve from 0.03848\n",
      "668/668 [==============================] - 8s 12ms/step - loss: 0.0195 - root_mean_squared_error: 0.1397 - val_loss: 0.0392 - val_root_mean_squared_error: 0.1980\n",
      "Epoch 97/100\n",
      "664/668 [============================>.] - ETA: 0s - loss: 0.0214 - root_mean_squared_error: 0.1463\n",
      "Epoch 00097: val_loss improved from 0.03848 to 0.03680, saving model to /content/drive/My Drive/epochs/model_1_camera4.0097-0.0368.h5\n",
      "668/668 [==============================] - 8s 12ms/step - loss: 0.0214 - root_mean_squared_error: 0.1464 - val_loss: 0.0368 - val_root_mean_squared_error: 0.1918\n",
      "Epoch 98/100\n",
      "666/668 [============================>.] - ETA: 0s - loss: 0.0225 - root_mean_squared_error: 0.1500\n",
      "Epoch 00098: val_loss did not improve from 0.03680\n",
      "668/668 [==============================] - 8s 12ms/step - loss: 0.0225 - root_mean_squared_error: 0.1501 - val_loss: 0.0392 - val_root_mean_squared_error: 0.1979\n",
      "Epoch 99/100\n",
      "665/668 [============================>.] - ETA: 0s - loss: 0.0195 - root_mean_squared_error: 0.1397\n",
      "Epoch 00099: val_loss did not improve from 0.03680\n",
      "668/668 [==============================] - 8s 12ms/step - loss: 0.0195 - root_mean_squared_error: 0.1396 - val_loss: 0.0403 - val_root_mean_squared_error: 0.2008\n",
      "Epoch 100/100\n",
      "665/668 [============================>.] - ETA: 0s - loss: 0.0212 - root_mean_squared_error: 0.1455\n",
      "Epoch 00100: val_loss did not improve from 0.03680\n",
      "668/668 [==============================] - 8s 12ms/step - loss: 0.0212 - root_mean_squared_error: 0.1455 - val_loss: 0.0426 - val_root_mean_squared_error: 0.2065\n"
     ]
    }
   ],
   "source": [
    "history = model.fit(X_train,\n",
    "                    y_train,\n",
    "                    batch_size=64,\n",
    "                    validation_data=(X_test, y_test),\n",
    "                    epochs=100,\n",
    "                    verbose=1,\n",
    "                    callbacks=callbacks_list)"
   ]
  },
  {
   "cell_type": "code",
   "execution_count": null,
   "metadata": {
    "colab": {},
    "colab_type": "code",
    "id": "wWJmlbOyA3nv"
   },
   "outputs": [],
   "source": [
    "model_1_camera4 = model_history('model_1_camera4')"
   ]
  },
  {
   "cell_type": "markdown",
   "metadata": {
    "colab": {},
    "colab_type": "code",
    "id": "808koWUvA3KU"
   },
   "source": [
    "### Model 1 camera5"
   ]
  },
  {
   "cell_type": "code",
   "execution_count": null,
   "metadata": {
    "colab": {},
    "colab_type": "code",
    "id": "Y6rNHjAQUtje"
   },
   "outputs": [],
   "source": [
    "model = load_model('/content/drive/My Drive/epochs/model_1_camera4.0097-0.0368.h5')"
   ]
  },
  {
   "cell_type": "code",
   "execution_count": null,
   "metadata": {
    "colab": {},
    "colab_type": "code",
    "id": "P0q1QlmxUtjT"
   },
   "outputs": [],
   "source": [
    "camera5 = load('/content/drive/My Drive/datasets/camera5_cleaned.npz')\n",
    "log5 = pd.read_csv('/content/drive/My Drive/datasets/log5_cleaned.csv')"
   ]
  },
  {
   "cell_type": "code",
   "execution_count": null,
   "metadata": {
    "colab": {
     "base_uri": "https://localhost:8080/",
     "height": 34
    },
    "colab_type": "code",
    "executionInfo": {
     "elapsed": 69425,
     "status": "ok",
     "timestamp": 1596558958486,
     "user": {
      "displayName": "Tay Khim",
      "photoUrl": "",
      "userId": "00177423956135587504"
     },
     "user_tz": -480
    },
    "id": "hEN75WiVUtjW",
    "outputId": "55f443c3-c76b-4d1d-a00c-293d6c829dcb"
   },
   "outputs": [
    {
     "name": "stdout",
     "output_type": "stream",
     "text": [
      "Done\n"
     ]
    }
   ],
   "source": [
    "camera_processing(camera5, 'camera5')"
   ]
  },
  {
   "cell_type": "code",
   "execution_count": null,
   "metadata": {
    "colab": {
     "base_uri": "https://localhost:8080/",
     "height": 34
    },
    "colab_type": "code",
    "executionInfo": {
     "elapsed": 1514,
     "status": "ok",
     "timestamp": 1596558960025,
     "user": {
      "displayName": "Tay Khim",
      "photoUrl": "",
      "userId": "00177423956135587504"
     },
     "user_tz": -480
    },
    "id": "d2PLyRaXUtjY",
    "outputId": "680dbec0-220e-4587-b3b4-3cf09f310dfe"
   },
   "outputs": [
    {
     "name": "stdout",
     "output_type": "stream",
     "text": [
      "Done\n"
     ]
    }
   ],
   "source": [
    "log_processing(log5, 'log5')"
   ]
  },
  {
   "cell_type": "code",
   "execution_count": null,
   "metadata": {
    "colab": {
     "base_uri": "https://localhost:8080/",
     "height": 34
    },
    "colab_type": "code",
    "executionInfo": {
     "elapsed": 71555,
     "status": "ok",
     "timestamp": 1596559030090,
     "user": {
      "displayName": "Tay Khim",
      "photoUrl": "",
      "userId": "00177423956135587504"
     },
     "user_tz": -480
    },
    "id": "KE0wAytpUtjb",
    "outputId": "768a412e-fce9-49cc-b0bc-edcacfdb7b7f"
   },
   "outputs": [
    {
     "name": "stdout",
     "output_type": "stream",
     "text": [
      "Done\n"
     ]
    }
   ],
   "source": [
    "train_split('camera5', 'log5')"
   ]
  },
  {
   "cell_type": "code",
   "execution_count": null,
   "metadata": {
    "colab": {},
    "colab_type": "code",
    "id": "GXuvoYxRUtji"
   },
   "outputs": [],
   "source": [
    "X_train, X_test, y_train, y_test = train_load('camera5')"
   ]
  },
  {
   "cell_type": "code",
   "execution_count": null,
   "metadata": {
    "colab": {
     "base_uri": "https://localhost:8080/",
     "height": 34
    },
    "colab_type": "code",
    "executionInfo": {
     "elapsed": 14229,
     "status": "ok",
     "timestamp": 1596559124334,
     "user": {
      "displayName": "Tay Khim",
      "photoUrl": "",
      "userId": "00177423956135587504"
     },
     "user_tz": -480
    },
    "id": "BJEe6ETeUtjn",
    "outputId": "1f4f8bcc-c91e-4d61-c01e-98c6faa18d6a"
   },
   "outputs": [
    {
     "data": {
      "text/plain": [
       "((18456, 80, 160, 1), (4614, 80, 160, 1), (18456, 1), (4614, 1))"
      ]
     },
     "execution_count": 61,
     "metadata": {
      "tags": []
     },
     "output_type": "execute_result"
    }
   ],
   "source": [
    "X_train.shape, X_test.shape, y_train.shape, y_test.shape"
   ]
  },
  {
   "cell_type": "code",
   "execution_count": null,
   "metadata": {
    "colab": {},
    "colab_type": "code",
    "id": "5hWiNzmzUtjo"
   },
   "outputs": [],
   "source": [
    "filepath = \"/content/drive/My Drive/epochs/model_1_camera5.{epoch:04d}-{val_loss:.4f}.h5\"\n",
    "checkpoint = ModelCheckpoint(filepath, monitor='val_loss', verbose=1, save_best_only=True, mode='min')\n",
    "callbacks_list = [checkpoint]"
   ]
  },
  {
   "cell_type": "code",
   "execution_count": null,
   "metadata": {
    "colab": {
     "base_uri": "https://localhost:8080/",
     "height": 1000
    },
    "colab_type": "code",
    "collapsed": true,
    "executionInfo": {
     "elapsed": 352712,
     "status": "ok",
     "timestamp": 1596559706631,
     "user": {
      "displayName": "Tay Khim",
      "photoUrl": "",
      "userId": "00177423956135587504"
     },
     "user_tz": -480
    },
    "id": "viLQh1eRUtjq",
    "outputId": "a3f3cccf-0c6d-43db-a0d7-a44824a7da54"
   },
   "outputs": [
    {
     "name": "stdout",
     "output_type": "stream",
     "text": [
      "Epoch 1/100\n",
      "289/289 [==============================] - ETA: 0s - loss: 0.1126 - root_mean_squared_error: 0.3356\n",
      "Epoch 00001: val_loss improved from inf to 0.14375, saving model to /content/drive/My Drive/epochs/model_1_camera5.0001-0.1438.h5\n",
      "289/289 [==============================] - 4s 13ms/step - loss: 0.1126 - root_mean_squared_error: 0.3356 - val_loss: 0.1438 - val_root_mean_squared_error: 0.3791\n",
      "Epoch 2/100\n",
      "286/289 [============================>.] - ETA: 0s - loss: 0.1030 - root_mean_squared_error: 0.3209\n",
      "Epoch 00002: val_loss improved from 0.14375 to 0.14211, saving model to /content/drive/My Drive/epochs/model_1_camera5.0002-0.1421.h5\n",
      "289/289 [==============================] - 4s 13ms/step - loss: 0.1023 - root_mean_squared_error: 0.3198 - val_loss: 0.1421 - val_root_mean_squared_error: 0.3770\n",
      "Epoch 3/100\n",
      "286/289 [============================>.] - ETA: 0s - loss: 0.1005 - root_mean_squared_error: 0.3170\n",
      "Epoch 00003: val_loss improved from 0.14211 to 0.14115, saving model to /content/drive/My Drive/epochs/model_1_camera5.0003-0.1411.h5\n",
      "289/289 [==============================] - 4s 12ms/step - loss: 0.1009 - root_mean_squared_error: 0.3176 - val_loss: 0.1411 - val_root_mean_squared_error: 0.3757\n",
      "Epoch 4/100\n",
      "285/289 [============================>.] - ETA: 0s - loss: 0.0956 - root_mean_squared_error: 0.3092\n",
      "Epoch 00004: val_loss improved from 0.14115 to 0.13635, saving model to /content/drive/My Drive/epochs/model_1_camera5.0004-0.1364.h5\n",
      "289/289 [==============================] - 4s 13ms/step - loss: 0.0949 - root_mean_squared_error: 0.3080 - val_loss: 0.1364 - val_root_mean_squared_error: 0.3693\n",
      "Epoch 5/100\n",
      "286/289 [============================>.] - ETA: 0s - loss: 0.0871 - root_mean_squared_error: 0.2952\n",
      "Epoch 00005: val_loss improved from 0.13635 to 0.12772, saving model to /content/drive/My Drive/epochs/model_1_camera5.0005-0.1277.h5\n",
      "289/289 [==============================] - 4s 13ms/step - loss: 0.0889 - root_mean_squared_error: 0.2982 - val_loss: 0.1277 - val_root_mean_squared_error: 0.3574\n",
      "Epoch 6/100\n",
      "286/289 [============================>.] - ETA: 0s - loss: 0.0827 - root_mean_squared_error: 0.2875\n",
      "Epoch 00006: val_loss improved from 0.12772 to 0.12158, saving model to /content/drive/My Drive/epochs/model_1_camera5.0006-0.1216.h5\n",
      "289/289 [==============================] - 4s 12ms/step - loss: 0.0822 - root_mean_squared_error: 0.2867 - val_loss: 0.1216 - val_root_mean_squared_error: 0.3487\n",
      "Epoch 7/100\n",
      "287/289 [============================>.] - ETA: 0s - loss: 0.0779 - root_mean_squared_error: 0.2791\n",
      "Epoch 00007: val_loss improved from 0.12158 to 0.11462, saving model to /content/drive/My Drive/epochs/model_1_camera5.0007-0.1146.h5\n",
      "289/289 [==============================] - 4s 13ms/step - loss: 0.0779 - root_mean_squared_error: 0.2790 - val_loss: 0.1146 - val_root_mean_squared_error: 0.3386\n",
      "Epoch 8/100\n",
      "286/289 [============================>.] - ETA: 0s - loss: 0.0810 - root_mean_squared_error: 0.2846\n",
      "Epoch 00008: val_loss improved from 0.11462 to 0.11113, saving model to /content/drive/My Drive/epochs/model_1_camera5.0008-0.1111.h5\n",
      "289/289 [==============================] - 4s 12ms/step - loss: 0.0808 - root_mean_squared_error: 0.2843 - val_loss: 0.1111 - val_root_mean_squared_error: 0.3334\n",
      "Epoch 9/100\n",
      "286/289 [============================>.] - ETA: 0s - loss: 0.0715 - root_mean_squared_error: 0.2674\n",
      "Epoch 00009: val_loss improved from 0.11113 to 0.10390, saving model to /content/drive/My Drive/epochs/model_1_camera5.0009-0.1039.h5\n",
      "289/289 [==============================] - 4s 13ms/step - loss: 0.0724 - root_mean_squared_error: 0.2691 - val_loss: 0.1039 - val_root_mean_squared_error: 0.3223\n",
      "Epoch 10/100\n",
      "286/289 [============================>.] - ETA: 0s - loss: 0.0720 - root_mean_squared_error: 0.2683\n",
      "Epoch 00010: val_loss did not improve from 0.10390\n",
      "289/289 [==============================] - 3s 12ms/step - loss: 0.0715 - root_mean_squared_error: 0.2675 - val_loss: 0.1075 - val_root_mean_squared_error: 0.3278\n",
      "Epoch 11/100\n",
      "288/289 [============================>.] - ETA: 0s - loss: 0.0694 - root_mean_squared_error: 0.2634\n",
      "Epoch 00011: val_loss did not improve from 0.10390\n",
      "289/289 [==============================] - 3s 12ms/step - loss: 0.0693 - root_mean_squared_error: 0.2632 - val_loss: 0.1042 - val_root_mean_squared_error: 0.3228\n",
      "Epoch 12/100\n",
      "285/289 [============================>.] - ETA: 0s - loss: 0.0690 - root_mean_squared_error: 0.2627\n",
      "Epoch 00012: val_loss improved from 0.10390 to 0.09839, saving model to /content/drive/My Drive/epochs/model_1_camera5.0012-0.0984.h5\n",
      "289/289 [==============================] - 4s 12ms/step - loss: 0.0687 - root_mean_squared_error: 0.2622 - val_loss: 0.0984 - val_root_mean_squared_error: 0.3137\n",
      "Epoch 13/100\n",
      "286/289 [============================>.] - ETA: 0s - loss: 0.0672 - root_mean_squared_error: 0.2592\n",
      "Epoch 00013: val_loss did not improve from 0.09839\n",
      "289/289 [==============================] - 3s 12ms/step - loss: 0.0670 - root_mean_squared_error: 0.2589 - val_loss: 0.0994 - val_root_mean_squared_error: 0.3153\n",
      "Epoch 14/100\n",
      "285/289 [============================>.] - ETA: 0s - loss: 0.0590 - root_mean_squared_error: 0.2429\n",
      "Epoch 00014: val_loss improved from 0.09839 to 0.09767, saving model to /content/drive/My Drive/epochs/model_1_camera5.0014-0.0977.h5\n",
      "289/289 [==============================] - 4s 13ms/step - loss: 0.0603 - root_mean_squared_error: 0.2456 - val_loss: 0.0977 - val_root_mean_squared_error: 0.3125\n",
      "Epoch 15/100\n",
      "288/289 [============================>.] - ETA: 0s - loss: 0.0657 - root_mean_squared_error: 0.2564\n",
      "Epoch 00015: val_loss improved from 0.09767 to 0.09617, saving model to /content/drive/My Drive/epochs/model_1_camera5.0015-0.0962.h5\n",
      "289/289 [==============================] - 4s 13ms/step - loss: 0.0657 - root_mean_squared_error: 0.2563 - val_loss: 0.0962 - val_root_mean_squared_error: 0.3101\n",
      "Epoch 16/100\n",
      "286/289 [============================>.] - ETA: 0s - loss: 0.0606 - root_mean_squared_error: 0.2462\n",
      "Epoch 00016: val_loss improved from 0.09617 to 0.09363, saving model to /content/drive/My Drive/epochs/model_1_camera5.0016-0.0936.h5\n",
      "289/289 [==============================] - 4s 12ms/step - loss: 0.0602 - root_mean_squared_error: 0.2454 - val_loss: 0.0936 - val_root_mean_squared_error: 0.3060\n",
      "Epoch 17/100\n",
      "286/289 [============================>.] - ETA: 0s - loss: 0.0614 - root_mean_squared_error: 0.2479\n",
      "Epoch 00017: val_loss improved from 0.09363 to 0.09307, saving model to /content/drive/My Drive/epochs/model_1_camera5.0017-0.0931.h5\n",
      "289/289 [==============================] - 4s 13ms/step - loss: 0.0612 - root_mean_squared_error: 0.2474 - val_loss: 0.0931 - val_root_mean_squared_error: 0.3051\n",
      "Epoch 18/100\n",
      "285/289 [============================>.] - ETA: 0s - loss: 0.0595 - root_mean_squared_error: 0.2439\n",
      "Epoch 00018: val_loss improved from 0.09307 to 0.09167, saving model to /content/drive/My Drive/epochs/model_1_camera5.0018-0.0917.h5\n",
      "289/289 [==============================] - 4s 12ms/step - loss: 0.0593 - root_mean_squared_error: 0.2434 - val_loss: 0.0917 - val_root_mean_squared_error: 0.3028\n",
      "Epoch 19/100\n",
      "288/289 [============================>.] - ETA: 0s - loss: 0.0581 - root_mean_squared_error: 0.2410\n",
      "Epoch 00019: val_loss improved from 0.09167 to 0.08889, saving model to /content/drive/My Drive/epochs/model_1_camera5.0019-0.0889.h5\n",
      "289/289 [==============================] - 4s 13ms/step - loss: 0.0580 - root_mean_squared_error: 0.2408 - val_loss: 0.0889 - val_root_mean_squared_error: 0.2981\n",
      "Epoch 20/100\n",
      "286/289 [============================>.] - ETA: 0s - loss: 0.0575 - root_mean_squared_error: 0.2399\n",
      "Epoch 00020: val_loss did not improve from 0.08889\n",
      "289/289 [==============================] - 3s 12ms/step - loss: 0.0606 - root_mean_squared_error: 0.2461 - val_loss: 0.0921 - val_root_mean_squared_error: 0.3035\n",
      "Epoch 21/100\n",
      "286/289 [============================>.] - ETA: 0s - loss: 0.0593 - root_mean_squared_error: 0.2435\n",
      "Epoch 00021: val_loss did not improve from 0.08889\n",
      "289/289 [==============================] - 3s 12ms/step - loss: 0.0590 - root_mean_squared_error: 0.2430 - val_loss: 0.0900 - val_root_mean_squared_error: 0.2999\n",
      "Epoch 22/100\n",
      "285/289 [============================>.] - ETA: 0s - loss: 0.0529 - root_mean_squared_error: 0.2300\n",
      "Epoch 00022: val_loss improved from 0.08889 to 0.08722, saving model to /content/drive/My Drive/epochs/model_1_camera5.0022-0.0872.h5\n",
      "289/289 [==============================] - 4s 12ms/step - loss: 0.0567 - root_mean_squared_error: 0.2382 - val_loss: 0.0872 - val_root_mean_squared_error: 0.2953\n",
      "Epoch 23/100\n",
      "287/289 [============================>.] - ETA: 0s - loss: 0.0537 - root_mean_squared_error: 0.2317\n",
      "Epoch 00023: val_loss improved from 0.08722 to 0.08424, saving model to /content/drive/My Drive/epochs/model_1_camera5.0023-0.0842.h5\n",
      "289/289 [==============================] - 4s 12ms/step - loss: 0.0536 - root_mean_squared_error: 0.2314 - val_loss: 0.0842 - val_root_mean_squared_error: 0.2902\n",
      "Epoch 24/100\n",
      "285/289 [============================>.] - ETA: 0s - loss: 0.0575 - root_mean_squared_error: 0.2398\n",
      "Epoch 00024: val_loss improved from 0.08424 to 0.08216, saving model to /content/drive/My Drive/epochs/model_1_camera5.0024-0.0822.h5\n",
      "289/289 [==============================] - 4s 12ms/step - loss: 0.0574 - root_mean_squared_error: 0.2397 - val_loss: 0.0822 - val_root_mean_squared_error: 0.2866\n",
      "Epoch 25/100\n",
      "285/289 [============================>.] - ETA: 0s - loss: 0.0512 - root_mean_squared_error: 0.2262\n",
      "Epoch 00025: val_loss improved from 0.08216 to 0.08105, saving model to /content/drive/My Drive/epochs/model_1_camera5.0025-0.0811.h5\n",
      "289/289 [==============================] - 4s 13ms/step - loss: 0.0512 - root_mean_squared_error: 0.2263 - val_loss: 0.0811 - val_root_mean_squared_error: 0.2847\n",
      "Epoch 26/100\n",
      "285/289 [============================>.] - ETA: 0s - loss: 0.0460 - root_mean_squared_error: 0.2146\n",
      "Epoch 00026: val_loss did not improve from 0.08105\n",
      "289/289 [==============================] - 3s 12ms/step - loss: 0.0463 - root_mean_squared_error: 0.2153 - val_loss: 0.0847 - val_root_mean_squared_error: 0.2911\n",
      "Epoch 27/100\n",
      "288/289 [============================>.] - ETA: 0s - loss: 0.0550 - root_mean_squared_error: 0.2346\n",
      "Epoch 00027: val_loss did not improve from 0.08105\n",
      "289/289 [==============================] - 3s 12ms/step - loss: 0.0550 - root_mean_squared_error: 0.2345 - val_loss: 0.0832 - val_root_mean_squared_error: 0.2884\n",
      "Epoch 28/100\n",
      "286/289 [============================>.] - ETA: 0s - loss: 0.0535 - root_mean_squared_error: 0.2313\n",
      "Epoch 00028: val_loss improved from 0.08105 to 0.08056, saving model to /content/drive/My Drive/epochs/model_1_camera5.0028-0.0806.h5\n",
      "289/289 [==============================] - 4s 12ms/step - loss: 0.0533 - root_mean_squared_error: 0.2308 - val_loss: 0.0806 - val_root_mean_squared_error: 0.2838\n",
      "Epoch 29/100\n",
      "286/289 [============================>.] - ETA: 0s - loss: 0.0502 - root_mean_squared_error: 0.2240\n",
      "Epoch 00029: val_loss did not improve from 0.08056\n",
      "289/289 [==============================] - 3s 12ms/step - loss: 0.0501 - root_mean_squared_error: 0.2237 - val_loss: 0.0816 - val_root_mean_squared_error: 0.2856\n",
      "Epoch 30/100\n",
      "288/289 [============================>.] - ETA: 0s - loss: 0.0455 - root_mean_squared_error: 0.2132\n",
      "Epoch 00030: val_loss improved from 0.08056 to 0.07769, saving model to /content/drive/My Drive/epochs/model_1_camera5.0030-0.0777.h5\n",
      "289/289 [==============================] - 4s 13ms/step - loss: 0.0454 - root_mean_squared_error: 0.2131 - val_loss: 0.0777 - val_root_mean_squared_error: 0.2787\n",
      "Epoch 31/100\n",
      "289/289 [==============================] - ETA: 0s - loss: 0.0452 - root_mean_squared_error: 0.2126\n",
      "Epoch 00031: val_loss did not improve from 0.07769\n",
      "289/289 [==============================] - 3s 12ms/step - loss: 0.0452 - root_mean_squared_error: 0.2126 - val_loss: 0.0799 - val_root_mean_squared_error: 0.2827\n",
      "Epoch 32/100\n",
      "286/289 [============================>.] - ETA: 0s - loss: 0.0464 - root_mean_squared_error: 0.2154\n",
      "Epoch 00032: val_loss did not improve from 0.07769\n",
      "289/289 [==============================] - 3s 12ms/step - loss: 0.0462 - root_mean_squared_error: 0.2149 - val_loss: 0.0777 - val_root_mean_squared_error: 0.2788\n",
      "Epoch 33/100\n",
      "287/289 [============================>.] - ETA: 0s - loss: 0.0500 - root_mean_squared_error: 0.2237\n",
      "Epoch 00033: val_loss improved from 0.07769 to 0.07557, saving model to /content/drive/My Drive/epochs/model_1_camera5.0033-0.0756.h5\n",
      "289/289 [==============================] - 4s 12ms/step - loss: 0.0499 - root_mean_squared_error: 0.2234 - val_loss: 0.0756 - val_root_mean_squared_error: 0.2749\n",
      "Epoch 34/100\n",
      "286/289 [============================>.] - ETA: 0s - loss: 0.0447 - root_mean_squared_error: 0.2114\n",
      "Epoch 00034: val_loss improved from 0.07557 to 0.07422, saving model to /content/drive/My Drive/epochs/model_1_camera5.0034-0.0742.h5\n",
      "289/289 [==============================] - 4s 12ms/step - loss: 0.0473 - root_mean_squared_error: 0.2176 - val_loss: 0.0742 - val_root_mean_squared_error: 0.2724\n",
      "Epoch 35/100\n",
      "288/289 [============================>.] - ETA: 0s - loss: 0.0421 - root_mean_squared_error: 0.2051\n",
      "Epoch 00035: val_loss did not improve from 0.07422\n",
      "289/289 [==============================] - 3s 12ms/step - loss: 0.0420 - root_mean_squared_error: 0.2050 - val_loss: 0.0745 - val_root_mean_squared_error: 0.2729\n",
      "Epoch 36/100\n",
      "288/289 [============================>.] - ETA: 0s - loss: 0.0454 - root_mean_squared_error: 0.2130\n",
      "Epoch 00036: val_loss improved from 0.07422 to 0.06985, saving model to /content/drive/My Drive/epochs/model_1_camera5.0036-0.0698.h5\n",
      "289/289 [==============================] - 4s 13ms/step - loss: 0.0454 - root_mean_squared_error: 0.2130 - val_loss: 0.0698 - val_root_mean_squared_error: 0.2643\n",
      "Epoch 37/100\n",
      "286/289 [============================>.] - ETA: 0s - loss: 0.0448 - root_mean_squared_error: 0.2115\n",
      "Epoch 00037: val_loss did not improve from 0.06985\n",
      "289/289 [==============================] - 3s 12ms/step - loss: 0.0446 - root_mean_squared_error: 0.2111 - val_loss: 0.0711 - val_root_mean_squared_error: 0.2666\n",
      "Epoch 38/100\n",
      "284/289 [============================>.] - ETA: 0s - loss: 0.0412 - root_mean_squared_error: 0.2029\n",
      "Epoch 00038: val_loss improved from 0.06985 to 0.06711, saving model to /content/drive/My Drive/epochs/model_1_camera5.0038-0.0671.h5\n",
      "289/289 [==============================] - 4s 12ms/step - loss: 0.0408 - root_mean_squared_error: 0.2020 - val_loss: 0.0671 - val_root_mean_squared_error: 0.2591\n",
      "Epoch 39/100\n",
      "287/289 [============================>.] - ETA: 0s - loss: 0.0373 - root_mean_squared_error: 0.1932\n",
      "Epoch 00039: val_loss did not improve from 0.06711\n",
      "289/289 [==============================] - 3s 12ms/step - loss: 0.0372 - root_mean_squared_error: 0.1929 - val_loss: 0.0685 - val_root_mean_squared_error: 0.2618\n",
      "Epoch 40/100\n",
      "288/289 [============================>.] - ETA: 0s - loss: 0.0412 - root_mean_squared_error: 0.2029\n",
      "Epoch 00040: val_loss did not improve from 0.06711\n",
      "289/289 [==============================] - 3s 12ms/step - loss: 0.0412 - root_mean_squared_error: 0.2029 - val_loss: 0.0683 - val_root_mean_squared_error: 0.2614\n",
      "Epoch 41/100\n",
      "286/289 [============================>.] - ETA: 0s - loss: 0.0434 - root_mean_squared_error: 0.2083\n",
      "Epoch 00041: val_loss did not improve from 0.06711\n",
      "289/289 [==============================] - 3s 12ms/step - loss: 0.0432 - root_mean_squared_error: 0.2079 - val_loss: 0.0695 - val_root_mean_squared_error: 0.2636\n",
      "Epoch 42/100\n",
      "286/289 [============================>.] - ETA: 0s - loss: 0.0389 - root_mean_squared_error: 0.1973\n",
      "Epoch 00042: val_loss improved from 0.06711 to 0.06672, saving model to /content/drive/My Drive/epochs/model_1_camera5.0042-0.0667.h5\n",
      "289/289 [==============================] - 4s 12ms/step - loss: 0.0392 - root_mean_squared_error: 0.1981 - val_loss: 0.0667 - val_root_mean_squared_error: 0.2583\n",
      "Epoch 43/100\n",
      "286/289 [============================>.] - ETA: 0s - loss: 0.0367 - root_mean_squared_error: 0.1915\n",
      "Epoch 00043: val_loss improved from 0.06672 to 0.06327, saving model to /content/drive/My Drive/epochs/model_1_camera5.0043-0.0633.h5\n",
      "289/289 [==============================] - 4s 12ms/step - loss: 0.0371 - root_mean_squared_error: 0.1926 - val_loss: 0.0633 - val_root_mean_squared_error: 0.2515\n",
      "Epoch 44/100\n",
      "284/289 [============================>.] - ETA: 0s - loss: 0.0391 - root_mean_squared_error: 0.1979\n",
      "Epoch 00044: val_loss improved from 0.06327 to 0.06276, saving model to /content/drive/My Drive/epochs/model_1_camera5.0044-0.0628.h5\n",
      "289/289 [==============================] - 4s 13ms/step - loss: 0.0389 - root_mean_squared_error: 0.1974 - val_loss: 0.0628 - val_root_mean_squared_error: 0.2505\n",
      "Epoch 45/100\n",
      "287/289 [============================>.] - ETA: 0s - loss: 0.0393 - root_mean_squared_error: 0.1982\n",
      "Epoch 00045: val_loss did not improve from 0.06276\n",
      "289/289 [==============================] - 3s 12ms/step - loss: 0.0393 - root_mean_squared_error: 0.1981 - val_loss: 0.0644 - val_root_mean_squared_error: 0.2537\n",
      "Epoch 46/100\n",
      "285/289 [============================>.] - ETA: 0s - loss: 0.0343 - root_mean_squared_error: 0.1852\n",
      "Epoch 00046: val_loss improved from 0.06276 to 0.05901, saving model to /content/drive/My Drive/epochs/model_1_camera5.0046-0.0590.h5\n",
      "289/289 [==============================] - 4s 12ms/step - loss: 0.0343 - root_mean_squared_error: 0.1852 - val_loss: 0.0590 - val_root_mean_squared_error: 0.2429\n",
      "Epoch 47/100\n",
      "285/289 [============================>.] - ETA: 0s - loss: 0.0351 - root_mean_squared_error: 0.1873\n",
      "Epoch 00047: val_loss did not improve from 0.05901\n",
      "289/289 [==============================] - 3s 12ms/step - loss: 0.0350 - root_mean_squared_error: 0.1871 - val_loss: 0.0602 - val_root_mean_squared_error: 0.2453\n",
      "Epoch 48/100\n",
      "288/289 [============================>.] - ETA: 0s - loss: 0.0409 - root_mean_squared_error: 0.2023\n",
      "Epoch 00048: val_loss did not improve from 0.05901\n",
      "289/289 [==============================] - 4s 12ms/step - loss: 0.0409 - root_mean_squared_error: 0.2021 - val_loss: 0.0600 - val_root_mean_squared_error: 0.2450\n",
      "Epoch 49/100\n",
      "286/289 [============================>.] - ETA: 0s - loss: 0.0358 - root_mean_squared_error: 0.1893\n",
      "Epoch 00049: val_loss did not improve from 0.05901\n",
      "289/289 [==============================] - 3s 12ms/step - loss: 0.0356 - root_mean_squared_error: 0.1887 - val_loss: 0.0636 - val_root_mean_squared_error: 0.2521\n",
      "Epoch 50/100\n",
      "285/289 [============================>.] - ETA: 0s - loss: 0.0341 - root_mean_squared_error: 0.1846\n",
      "Epoch 00050: val_loss did not improve from 0.05901\n",
      "289/289 [==============================] - 3s 12ms/step - loss: 0.0341 - root_mean_squared_error: 0.1847 - val_loss: 0.0598 - val_root_mean_squared_error: 0.2445\n",
      "Epoch 51/100\n",
      "286/289 [============================>.] - ETA: 0s - loss: 0.0337 - root_mean_squared_error: 0.1836\n",
      "Epoch 00051: val_loss did not improve from 0.05901\n",
      "289/289 [==============================] - 3s 12ms/step - loss: 0.0335 - root_mean_squared_error: 0.1831 - val_loss: 0.0622 - val_root_mean_squared_error: 0.2495\n",
      "Epoch 52/100\n",
      "286/289 [============================>.] - ETA: 0s - loss: 0.0290 - root_mean_squared_error: 0.1702\n",
      "Epoch 00052: val_loss improved from 0.05901 to 0.05629, saving model to /content/drive/My Drive/epochs/model_1_camera5.0052-0.0563.h5\n",
      "289/289 [==============================] - 4s 12ms/step - loss: 0.0289 - root_mean_squared_error: 0.1699 - val_loss: 0.0563 - val_root_mean_squared_error: 0.2373\n",
      "Epoch 53/100\n",
      "286/289 [============================>.] - ETA: 0s - loss: 0.0320 - root_mean_squared_error: 0.1789\n",
      "Epoch 00053: val_loss did not improve from 0.05629\n",
      "289/289 [==============================] - 3s 12ms/step - loss: 0.0323 - root_mean_squared_error: 0.1797 - val_loss: 0.0612 - val_root_mean_squared_error: 0.2474\n",
      "Epoch 54/100\n",
      "286/289 [============================>.] - ETA: 0s - loss: 0.0318 - root_mean_squared_error: 0.1783\n",
      "Epoch 00054: val_loss did not improve from 0.05629\n",
      "289/289 [==============================] - 3s 12ms/step - loss: 0.0318 - root_mean_squared_error: 0.1783 - val_loss: 0.0606 - val_root_mean_squared_error: 0.2462\n",
      "Epoch 55/100\n",
      "285/289 [============================>.] - ETA: 0s - loss: 0.0303 - root_mean_squared_error: 0.1741\n",
      "Epoch 00055: val_loss did not improve from 0.05629\n",
      "289/289 [==============================] - 3s 12ms/step - loss: 0.0307 - root_mean_squared_error: 0.1753 - val_loss: 0.0596 - val_root_mean_squared_error: 0.2441\n",
      "Epoch 56/100\n",
      "285/289 [============================>.] - ETA: 0s - loss: 0.0302 - root_mean_squared_error: 0.1739\n",
      "Epoch 00056: val_loss did not improve from 0.05629\n",
      "289/289 [==============================] - 3s 12ms/step - loss: 0.0302 - root_mean_squared_error: 0.1737 - val_loss: 0.0607 - val_root_mean_squared_error: 0.2464\n",
      "Epoch 57/100\n",
      "286/289 [============================>.] - ETA: 0s - loss: 0.0302 - root_mean_squared_error: 0.1738\n",
      "Epoch 00057: val_loss did not improve from 0.05629\n",
      "289/289 [==============================] - 3s 12ms/step - loss: 0.0304 - root_mean_squared_error: 0.1743 - val_loss: 0.0616 - val_root_mean_squared_error: 0.2482\n",
      "Epoch 58/100\n",
      "287/289 [============================>.] - ETA: 0s - loss: 0.0322 - root_mean_squared_error: 0.1795\n",
      "Epoch 00058: val_loss did not improve from 0.05629\n",
      "289/289 [==============================] - 3s 12ms/step - loss: 0.0322 - root_mean_squared_error: 0.1793 - val_loss: 0.0575 - val_root_mean_squared_error: 0.2397\n",
      "Epoch 59/100\n",
      "286/289 [============================>.] - ETA: 0s - loss: 0.0348 - root_mean_squared_error: 0.1866\n",
      "Epoch 00059: val_loss did not improve from 0.05629\n",
      "289/289 [==============================] - 3s 12ms/step - loss: 0.0348 - root_mean_squared_error: 0.1866 - val_loss: 0.0566 - val_root_mean_squared_error: 0.2378\n",
      "Epoch 60/100\n",
      "286/289 [============================>.] - ETA: 0s - loss: 0.0329 - root_mean_squared_error: 0.1813\n",
      "Epoch 00060: val_loss improved from 0.05629 to 0.05591, saving model to /content/drive/My Drive/epochs/model_1_camera5.0060-0.0559.h5\n",
      "289/289 [==============================] - 4s 12ms/step - loss: 0.0329 - root_mean_squared_error: 0.1813 - val_loss: 0.0559 - val_root_mean_squared_error: 0.2365\n",
      "Epoch 61/100\n",
      "284/289 [============================>.] - ETA: 0s - loss: 0.0344 - root_mean_squared_error: 0.1854\n",
      "Epoch 00061: val_loss did not improve from 0.05591\n",
      "289/289 [==============================] - 3s 12ms/step - loss: 0.0344 - root_mean_squared_error: 0.1855 - val_loss: 0.0570 - val_root_mean_squared_error: 0.2388\n",
      "Epoch 62/100\n",
      "286/289 [============================>.] - ETA: 0s - loss: 0.0282 - root_mean_squared_error: 0.1679\n",
      "Epoch 00062: val_loss did not improve from 0.05591\n",
      "289/289 [==============================] - 3s 12ms/step - loss: 0.0285 - root_mean_squared_error: 0.1687 - val_loss: 0.0587 - val_root_mean_squared_error: 0.2422\n",
      "Epoch 63/100\n",
      "287/289 [============================>.] - ETA: 0s - loss: 0.0283 - root_mean_squared_error: 0.1681\n",
      "Epoch 00063: val_loss improved from 0.05591 to 0.05277, saving model to /content/drive/My Drive/epochs/model_1_camera5.0063-0.0528.h5\n",
      "289/289 [==============================] - 4s 12ms/step - loss: 0.0283 - root_mean_squared_error: 0.1682 - val_loss: 0.0528 - val_root_mean_squared_error: 0.2297\n",
      "Epoch 64/100\n",
      "286/289 [============================>.] - ETA: 0s - loss: 0.0297 - root_mean_squared_error: 0.1725\n",
      "Epoch 00064: val_loss did not improve from 0.05277\n",
      "289/289 [==============================] - 3s 12ms/step - loss: 0.0298 - root_mean_squared_error: 0.1725 - val_loss: 0.0535 - val_root_mean_squared_error: 0.2313\n",
      "Epoch 65/100\n",
      "288/289 [============================>.] - ETA: 0s - loss: 0.0308 - root_mean_squared_error: 0.1756\n",
      "Epoch 00065: val_loss did not improve from 0.05277\n",
      "289/289 [==============================] - 4s 12ms/step - loss: 0.0308 - root_mean_squared_error: 0.1756 - val_loss: 0.0532 - val_root_mean_squared_error: 0.2306\n",
      "Epoch 66/100\n",
      "287/289 [============================>.] - ETA: 0s - loss: 0.0313 - root_mean_squared_error: 0.1768\n",
      "Epoch 00066: val_loss improved from 0.05277 to 0.05185, saving model to /content/drive/My Drive/epochs/model_1_camera5.0066-0.0519.h5\n",
      "289/289 [==============================] - 4s 13ms/step - loss: 0.0312 - root_mean_squared_error: 0.1765 - val_loss: 0.0519 - val_root_mean_squared_error: 0.2277\n",
      "Epoch 67/100\n",
      "286/289 [============================>.] - ETA: 0s - loss: 0.0286 - root_mean_squared_error: 0.1690\n",
      "Epoch 00067: val_loss did not improve from 0.05185\n",
      "289/289 [==============================] - 3s 12ms/step - loss: 0.0285 - root_mean_squared_error: 0.1688 - val_loss: 0.0539 - val_root_mean_squared_error: 0.2321\n",
      "Epoch 68/100\n",
      "285/289 [============================>.] - ETA: 0s - loss: 0.0296 - root_mean_squared_error: 0.1721\n",
      "Epoch 00068: val_loss did not improve from 0.05185\n",
      "289/289 [==============================] - 3s 12ms/step - loss: 0.0295 - root_mean_squared_error: 0.1716 - val_loss: 0.0576 - val_root_mean_squared_error: 0.2401\n",
      "Epoch 69/100\n",
      "287/289 [============================>.] - ETA: 0s - loss: 0.0294 - root_mean_squared_error: 0.1714\n",
      "Epoch 00069: val_loss did not improve from 0.05185\n",
      "289/289 [==============================] - 3s 12ms/step - loss: 0.0293 - root_mean_squared_error: 0.1713 - val_loss: 0.0548 - val_root_mean_squared_error: 0.2341\n",
      "Epoch 70/100\n",
      "286/289 [============================>.] - ETA: 0s - loss: 0.0245 - root_mean_squared_error: 0.1566\n",
      "Epoch 00070: val_loss did not improve from 0.05185\n",
      "289/289 [==============================] - 3s 12ms/step - loss: 0.0248 - root_mean_squared_error: 0.1575 - val_loss: 0.0559 - val_root_mean_squared_error: 0.2364\n",
      "Epoch 71/100\n",
      "285/289 [============================>.] - ETA: 0s - loss: 0.0320 - root_mean_squared_error: 0.1788\n",
      "Epoch 00071: val_loss did not improve from 0.05185\n",
      "289/289 [==============================] - 3s 12ms/step - loss: 0.0327 - root_mean_squared_error: 0.1807 - val_loss: 0.0542 - val_root_mean_squared_error: 0.2327\n",
      "Epoch 72/100\n",
      "286/289 [============================>.] - ETA: 0s - loss: 0.0289 - root_mean_squared_error: 0.1700\n",
      "Epoch 00072: val_loss did not improve from 0.05185\n",
      "289/289 [==============================] - 3s 12ms/step - loss: 0.0291 - root_mean_squared_error: 0.1705 - val_loss: 0.0551 - val_root_mean_squared_error: 0.2348\n",
      "Epoch 73/100\n",
      "285/289 [============================>.] - ETA: 0s - loss: 0.0288 - root_mean_squared_error: 0.1698\n",
      "Epoch 00073: val_loss did not improve from 0.05185\n",
      "289/289 [==============================] - 3s 12ms/step - loss: 0.0290 - root_mean_squared_error: 0.1704 - val_loss: 0.0562 - val_root_mean_squared_error: 0.2371\n",
      "Epoch 74/100\n",
      "286/289 [============================>.] - ETA: 0s - loss: 0.0320 - root_mean_squared_error: 0.1789\n",
      "Epoch 00074: val_loss did not improve from 0.05185\n",
      "289/289 [==============================] - 3s 12ms/step - loss: 0.0319 - root_mean_squared_error: 0.1786 - val_loss: 0.0527 - val_root_mean_squared_error: 0.2297\n",
      "Epoch 75/100\n",
      "285/289 [============================>.] - ETA: 0s - loss: 0.0309 - root_mean_squared_error: 0.1758\n",
      "Epoch 00075: val_loss did not improve from 0.05185\n",
      "289/289 [==============================] - 3s 12ms/step - loss: 0.0308 - root_mean_squared_error: 0.1754 - val_loss: 0.0541 - val_root_mean_squared_error: 0.2326\n",
      "Epoch 76/100\n",
      "286/289 [============================>.] - ETA: 0s - loss: 0.0297 - root_mean_squared_error: 0.1724\n",
      "Epoch 00076: val_loss did not improve from 0.05185\n",
      "289/289 [==============================] - 3s 12ms/step - loss: 0.0296 - root_mean_squared_error: 0.1720 - val_loss: 0.0547 - val_root_mean_squared_error: 0.2339\n",
      "Epoch 77/100\n",
      "286/289 [============================>.] - ETA: 0s - loss: 0.0295 - root_mean_squared_error: 0.1718\n",
      "Epoch 00077: val_loss did not improve from 0.05185\n",
      "289/289 [==============================] - 3s 12ms/step - loss: 0.0294 - root_mean_squared_error: 0.1714 - val_loss: 0.0549 - val_root_mean_squared_error: 0.2343\n",
      "Epoch 78/100\n",
      "287/289 [============================>.] - ETA: 0s - loss: 0.0316 - root_mean_squared_error: 0.1777\n",
      "Epoch 00078: val_loss did not improve from 0.05185\n",
      "289/289 [==============================] - 3s 12ms/step - loss: 0.0315 - root_mean_squared_error: 0.1776 - val_loss: 0.0546 - val_root_mean_squared_error: 0.2336\n",
      "Epoch 79/100\n",
      "288/289 [============================>.] - ETA: 0s - loss: 0.0306 - root_mean_squared_error: 0.1748\n",
      "Epoch 00079: val_loss did not improve from 0.05185\n",
      "289/289 [==============================] - 3s 12ms/step - loss: 0.0306 - root_mean_squared_error: 0.1749 - val_loss: 0.0559 - val_root_mean_squared_error: 0.2364\n",
      "Epoch 80/100\n",
      "285/289 [============================>.] - ETA: 0s - loss: 0.0268 - root_mean_squared_error: 0.1637\n",
      "Epoch 00080: val_loss did not improve from 0.05185\n",
      "289/289 [==============================] - 3s 12ms/step - loss: 0.0270 - root_mean_squared_error: 0.1642 - val_loss: 0.0561 - val_root_mean_squared_error: 0.2368\n",
      "Epoch 81/100\n",
      "286/289 [============================>.] - ETA: 0s - loss: 0.0304 - root_mean_squared_error: 0.1743\n",
      "Epoch 00081: val_loss did not improve from 0.05185\n",
      "289/289 [==============================] - 3s 12ms/step - loss: 0.0302 - root_mean_squared_error: 0.1739 - val_loss: 0.0556 - val_root_mean_squared_error: 0.2359\n",
      "Epoch 82/100\n",
      "287/289 [============================>.] - ETA: 0s - loss: 0.0226 - root_mean_squared_error: 0.1505\n",
      "Epoch 00082: val_loss did not improve from 0.05185\n",
      "289/289 [==============================] - 3s 12ms/step - loss: 0.0227 - root_mean_squared_error: 0.1506 - val_loss: 0.0522 - val_root_mean_squared_error: 0.2284\n",
      "Epoch 83/100\n",
      "285/289 [============================>.] - ETA: 0s - loss: 0.0288 - root_mean_squared_error: 0.1698\n",
      "Epoch 00083: val_loss did not improve from 0.05185\n",
      "289/289 [==============================] - 3s 12ms/step - loss: 0.0287 - root_mean_squared_error: 0.1694 - val_loss: 0.0548 - val_root_mean_squared_error: 0.2341\n",
      "Epoch 84/100\n",
      "287/289 [============================>.] - ETA: 0s - loss: 0.0290 - root_mean_squared_error: 0.1702\n",
      "Epoch 00084: val_loss did not improve from 0.05185\n",
      "289/289 [==============================] - 3s 12ms/step - loss: 0.0289 - root_mean_squared_error: 0.1700 - val_loss: 0.0535 - val_root_mean_squared_error: 0.2313\n",
      "Epoch 85/100\n",
      "285/289 [============================>.] - ETA: 0s - loss: 0.0312 - root_mean_squared_error: 0.1766\n",
      "Epoch 00085: val_loss did not improve from 0.05185\n",
      "289/289 [==============================] - 3s 12ms/step - loss: 0.0325 - root_mean_squared_error: 0.1802 - val_loss: 0.0550 - val_root_mean_squared_error: 0.2346\n",
      "Epoch 86/100\n",
      "286/289 [============================>.] - ETA: 0s - loss: 0.0283 - root_mean_squared_error: 0.1681\n",
      "Epoch 00086: val_loss did not improve from 0.05185\n",
      "289/289 [==============================] - 3s 12ms/step - loss: 0.0282 - root_mean_squared_error: 0.1679 - val_loss: 0.0526 - val_root_mean_squared_error: 0.2294\n",
      "Epoch 87/100\n",
      "286/289 [============================>.] - ETA: 0s - loss: 0.0251 - root_mean_squared_error: 0.1585\n",
      "Epoch 00087: val_loss did not improve from 0.05185\n",
      "289/289 [==============================] - 3s 12ms/step - loss: 0.0251 - root_mean_squared_error: 0.1586 - val_loss: 0.0523 - val_root_mean_squared_error: 0.2287\n",
      "Epoch 88/100\n",
      "286/289 [============================>.] - ETA: 0s - loss: 0.0253 - root_mean_squared_error: 0.1589\n",
      "Epoch 00088: val_loss did not improve from 0.05185\n",
      "289/289 [==============================] - 3s 12ms/step - loss: 0.0252 - root_mean_squared_error: 0.1587 - val_loss: 0.0531 - val_root_mean_squared_error: 0.2305\n",
      "Epoch 89/100\n",
      "286/289 [============================>.] - ETA: 0s - loss: 0.0263 - root_mean_squared_error: 0.1620\n",
      "Epoch 00089: val_loss did not improve from 0.05185\n",
      "289/289 [==============================] - 3s 12ms/step - loss: 0.0262 - root_mean_squared_error: 0.1619 - val_loss: 0.0542 - val_root_mean_squared_error: 0.2327\n",
      "Epoch 90/100\n",
      "285/289 [============================>.] - ETA: 0s - loss: 0.0249 - root_mean_squared_error: 0.1577\n",
      "Epoch 00090: val_loss did not improve from 0.05185\n",
      "289/289 [==============================] - 3s 12ms/step - loss: 0.0248 - root_mean_squared_error: 0.1574 - val_loss: 0.0549 - val_root_mean_squared_error: 0.2344\n",
      "Epoch 91/100\n",
      "285/289 [============================>.] - ETA: 0s - loss: 0.0238 - root_mean_squared_error: 0.1543\n",
      "Epoch 00091: val_loss did not improve from 0.05185\n",
      "289/289 [==============================] - 3s 12ms/step - loss: 0.0238 - root_mean_squared_error: 0.1543 - val_loss: 0.0549 - val_root_mean_squared_error: 0.2344\n",
      "Epoch 92/100\n",
      "286/289 [============================>.] - ETA: 0s - loss: 0.0293 - root_mean_squared_error: 0.1713\n",
      "Epoch 00092: val_loss did not improve from 0.05185\n",
      "289/289 [==============================] - 3s 12ms/step - loss: 0.0292 - root_mean_squared_error: 0.1710 - val_loss: 0.0569 - val_root_mean_squared_error: 0.2386\n",
      "Epoch 93/100\n",
      "286/289 [============================>.] - ETA: 0s - loss: 0.0326 - root_mean_squared_error: 0.1805\n",
      "Epoch 00093: val_loss did not improve from 0.05185\n",
      "289/289 [==============================] - 3s 12ms/step - loss: 0.0325 - root_mean_squared_error: 0.1804 - val_loss: 0.0594 - val_root_mean_squared_error: 0.2436\n",
      "Epoch 94/100\n",
      "289/289 [==============================] - ETA: 0s - loss: 0.0281 - root_mean_squared_error: 0.1677\n",
      "Epoch 00094: val_loss did not improve from 0.05185\n",
      "289/289 [==============================] - 3s 12ms/step - loss: 0.0281 - root_mean_squared_error: 0.1677 - val_loss: 0.0526 - val_root_mean_squared_error: 0.2293\n",
      "Epoch 95/100\n",
      "285/289 [============================>.] - ETA: 0s - loss: 0.0265 - root_mean_squared_error: 0.1627\n",
      "Epoch 00095: val_loss improved from 0.05185 to 0.05174, saving model to /content/drive/My Drive/epochs/model_1_camera5.0095-0.0517.h5\n",
      "289/289 [==============================] - 4s 13ms/step - loss: 0.0264 - root_mean_squared_error: 0.1626 - val_loss: 0.0517 - val_root_mean_squared_error: 0.2275\n",
      "Epoch 96/100\n",
      "286/289 [============================>.] - ETA: 0s - loss: 0.0250 - root_mean_squared_error: 0.1581\n",
      "Epoch 00096: val_loss improved from 0.05174 to 0.05094, saving model to /content/drive/My Drive/epochs/model_1_camera5.0096-0.0509.h5\n",
      "289/289 [==============================] - 4s 13ms/step - loss: 0.0249 - root_mean_squared_error: 0.1577 - val_loss: 0.0509 - val_root_mean_squared_error: 0.2257\n",
      "Epoch 97/100\n",
      "286/289 [============================>.] - ETA: 0s - loss: 0.0250 - root_mean_squared_error: 0.1582\n",
      "Epoch 00097: val_loss did not improve from 0.05094\n",
      "289/289 [==============================] - 3s 12ms/step - loss: 0.0250 - root_mean_squared_error: 0.1580 - val_loss: 0.0538 - val_root_mean_squared_error: 0.2320\n",
      "Epoch 98/100\n",
      "289/289 [==============================] - ETA: 0s - loss: 0.0289 - root_mean_squared_error: 0.1699\n",
      "Epoch 00098: val_loss did not improve from 0.05094\n",
      "289/289 [==============================] - 3s 12ms/step - loss: 0.0289 - root_mean_squared_error: 0.1699 - val_loss: 0.0541 - val_root_mean_squared_error: 0.2325\n",
      "Epoch 99/100\n",
      "286/289 [============================>.] - ETA: 0s - loss: 0.0240 - root_mean_squared_error: 0.1548\n",
      "Epoch 00099: val_loss improved from 0.05094 to 0.04955, saving model to /content/drive/My Drive/epochs/model_1_camera5.0099-0.0496.h5\n",
      "289/289 [==============================] - 4s 12ms/step - loss: 0.0240 - root_mean_squared_error: 0.1549 - val_loss: 0.0496 - val_root_mean_squared_error: 0.2226\n",
      "Epoch 100/100\n",
      "284/289 [============================>.] - ETA: 0s - loss: 0.0295 - root_mean_squared_error: 0.1718\n",
      "Epoch 00100: val_loss did not improve from 0.04955\n",
      "289/289 [==============================] - 3s 12ms/step - loss: 0.0293 - root_mean_squared_error: 0.1712 - val_loss: 0.0516 - val_root_mean_squared_error: 0.2272\n"
     ]
    }
   ],
   "source": [
    "history = model.fit(X_train,\n",
    "                    y_train,\n",
    "                    batch_size=64,\n",
    "                    validation_data=(X_test, y_test),\n",
    "                    epochs=100,\n",
    "                    verbose=1,\n",
    "                    callbacks=callbacks_list)"
   ]
  },
  {
   "cell_type": "code",
   "execution_count": null,
   "metadata": {
    "colab": {},
    "colab_type": "code",
    "id": "W2Hn5sdbUtjx"
   },
   "outputs": [],
   "source": [
    "model_1_camera5 = model_history('model_1_camera5')"
   ]
  },
  {
   "cell_type": "markdown",
   "metadata": {
    "colab": {},
    "colab_type": "code",
    "id": "IO8nsQszUtj0"
   },
   "source": [
    "### Model 1 camera6"
   ]
  },
  {
   "cell_type": "code",
   "execution_count": null,
   "metadata": {
    "colab": {},
    "colab_type": "code",
    "id": "C46nZz9UVAyW"
   },
   "outputs": [],
   "source": [
    "model = load_model('/content/drive/My Drive/epochs/model_1_camera5.0099-0.0496.h5')"
   ]
  },
  {
   "cell_type": "code",
   "execution_count": null,
   "metadata": {
    "colab": {},
    "colab_type": "code",
    "id": "Q-qWna5aVAx4"
   },
   "outputs": [],
   "source": [
    "camera6 = load('/content/drive/My Drive/datasets/camera6_cleaned.npz')\n",
    "log6 = pd.read_csv('/content/drive/My Drive/datasets/log6_cleaned.csv')"
   ]
  },
  {
   "cell_type": "code",
   "execution_count": null,
   "metadata": {
    "colab": {
     "base_uri": "https://localhost:8080/",
     "height": 34
    },
    "colab_type": "code",
    "executionInfo": {
     "elapsed": 190834,
     "status": "ok",
     "timestamp": 1596560926020,
     "user": {
      "displayName": "Tay Khim",
      "photoUrl": "",
      "userId": "00177423956135587504"
     },
     "user_tz": -480
    },
    "id": "R3bRbwf0VAyA",
    "outputId": "eea57d5a-52a8-4919-eea9-6f506f9b63ac"
   },
   "outputs": [
    {
     "name": "stdout",
     "output_type": "stream",
     "text": [
      "Done\n"
     ]
    }
   ],
   "source": [
    "camera_processing(camera6, 'camera6')"
   ]
  },
  {
   "cell_type": "code",
   "execution_count": null,
   "metadata": {
    "colab": {
     "base_uri": "https://localhost:8080/",
     "height": 34
    },
    "colab_type": "code",
    "executionInfo": {
     "elapsed": 190551,
     "status": "ok",
     "timestamp": 1596560926920,
     "user": {
      "displayName": "Tay Khim",
      "photoUrl": "",
      "userId": "00177423956135587504"
     },
     "user_tz": -480
    },
    "id": "QGUill3MVAyH",
    "outputId": "3f912bae-a242-4ff3-ae9f-d39bd582e501"
   },
   "outputs": [
    {
     "name": "stdout",
     "output_type": "stream",
     "text": [
      "Done\n"
     ]
    }
   ],
   "source": [
    "log_processing(log6, 'log6')"
   ]
  },
  {
   "cell_type": "code",
   "execution_count": null,
   "metadata": {
    "colab": {
     "base_uri": "https://localhost:8080/",
     "height": 34
    },
    "colab_type": "code",
    "executionInfo": {
     "elapsed": 381486,
     "status": "ok",
     "timestamp": 1596561118702,
     "user": {
      "displayName": "Tay Khim",
      "photoUrl": "",
      "userId": "00177423956135587504"
     },
     "user_tz": -480
    },
    "id": "20WPJO3KVAyM",
    "outputId": "75055365-3a46-4015-bc6a-07093f3a48c7"
   },
   "outputs": [
    {
     "name": "stdout",
     "output_type": "stream",
     "text": [
      "Done\n"
     ]
    }
   ],
   "source": [
    "train_split('camera6', 'log6')"
   ]
  },
  {
   "cell_type": "code",
   "execution_count": null,
   "metadata": {
    "colab": {},
    "colab_type": "code",
    "id": "2nCNpTyeVAyb"
   },
   "outputs": [],
   "source": [
    "X_train, X_test, y_train, y_test = train_load('camera6')"
   ]
  },
  {
   "cell_type": "code",
   "execution_count": null,
   "metadata": {
    "colab": {
     "base_uri": "https://localhost:8080/",
     "height": 34
    },
    "colab_type": "code",
    "executionInfo": {
     "elapsed": 397539,
     "status": "ok",
     "timestamp": 1596561152822,
     "user": {
      "displayName": "Tay Khim",
      "photoUrl": "",
      "userId": "00177423956135587504"
     },
     "user_tz": -480
    },
    "id": "Eo40v-t2VAyd",
    "outputId": "46531c61-621f-4de1-a343-becd3b0b86be"
   },
   "outputs": [
    {
     "data": {
      "text/plain": [
       "((66002, 80, 160, 1), (16501, 80, 160, 1), (66002, 1), (16501, 1))"
      ]
     },
     "execution_count": 12,
     "metadata": {
      "tags": []
     },
     "output_type": "execute_result"
    }
   ],
   "source": [
    "X_train.shape, X_test.shape, y_train.shape, y_test.shape"
   ]
  },
  {
   "cell_type": "code",
   "execution_count": null,
   "metadata": {
    "colab": {},
    "colab_type": "code",
    "id": "AeKvl1-uVAyh"
   },
   "outputs": [],
   "source": [
    "filepath = \"/content/drive/My Drive/epochs/model_1_camera6.{epoch:04d}-{val_loss:.4f}.h5\"\n",
    "checkpoint = ModelCheckpoint(filepath, monitor='val_loss', verbose=1, save_best_only=True, mode='min')\n",
    "callbacks_list = [checkpoint]"
   ]
  },
  {
   "cell_type": "code",
   "execution_count": null,
   "metadata": {
    "colab": {
     "base_uri": "https://localhost:8080/",
     "height": 1000
    },
    "colab_type": "code",
    "collapsed": true,
    "executionInfo": {
     "elapsed": 1278903,
     "status": "ok",
     "timestamp": 1596562473189,
     "user": {
      "displayName": "Tay Khim",
      "photoUrl": "",
      "userId": "00177423956135587504"
     },
     "user_tz": -480
    },
    "id": "5rjU5GvTVAyl",
    "outputId": "ab00d0ce-3616-474e-c2fc-c61369a6800b"
   },
   "outputs": [
    {
     "name": "stdout",
     "output_type": "stream",
     "text": [
      "Epoch 1/100\n",
      "1032/1032 [==============================] - ETA: 0s - loss: 0.0758 - root_mean_squared_error: 0.2754\n",
      "Epoch 00001: val_loss improved from inf to 0.07455, saving model to /content/drive/My Drive/epochs/model_1_camera6.0001-0.0746.h5\n",
      "1032/1032 [==============================] - 13s 13ms/step - loss: 0.0758 - root_mean_squared_error: 0.2754 - val_loss: 0.0746 - val_root_mean_squared_error: 0.2730\n",
      "Epoch 2/100\n",
      "1028/1032 [============================>.] - ETA: 0s - loss: 0.0716 - root_mean_squared_error: 0.2676\n",
      "Epoch 00002: val_loss improved from 0.07455 to 0.07195, saving model to /content/drive/My Drive/epochs/model_1_camera6.0002-0.0719.h5\n",
      "1032/1032 [==============================] - 12s 12ms/step - loss: 0.0715 - root_mean_squared_error: 0.2674 - val_loss: 0.0719 - val_root_mean_squared_error: 0.2682\n",
      "Epoch 3/100\n",
      "1027/1032 [============================>.] - ETA: 0s - loss: 0.0706 - root_mean_squared_error: 0.2658\n",
      "Epoch 00003: val_loss improved from 0.07195 to 0.07079, saving model to /content/drive/My Drive/epochs/model_1_camera6.0003-0.0708.h5\n",
      "1032/1032 [==============================] - 12s 12ms/step - loss: 0.0704 - root_mean_squared_error: 0.2653 - val_loss: 0.0708 - val_root_mean_squared_error: 0.2661\n",
      "Epoch 4/100\n",
      "1029/1032 [============================>.] - ETA: 0s - loss: 0.0680 - root_mean_squared_error: 0.2607\n",
      "Epoch 00004: val_loss improved from 0.07079 to 0.06886, saving model to /content/drive/My Drive/epochs/model_1_camera6.0004-0.0689.h5\n",
      "1032/1032 [==============================] - 12s 12ms/step - loss: 0.0679 - root_mean_squared_error: 0.2606 - val_loss: 0.0689 - val_root_mean_squared_error: 0.2624\n",
      "Epoch 5/100\n",
      "1029/1032 [============================>.] - ETA: 0s - loss: 0.0662 - root_mean_squared_error: 0.2572\n",
      "Epoch 00005: val_loss improved from 0.06886 to 0.06727, saving model to /content/drive/My Drive/epochs/model_1_camera6.0005-0.0673.h5\n",
      "1032/1032 [==============================] - 13s 12ms/step - loss: 0.0661 - root_mean_squared_error: 0.2571 - val_loss: 0.0673 - val_root_mean_squared_error: 0.2594\n",
      "Epoch 6/100\n",
      "1029/1032 [============================>.] - ETA: 0s - loss: 0.0654 - root_mean_squared_error: 0.2556\n",
      "Epoch 00006: val_loss did not improve from 0.06727\n",
      "1032/1032 [==============================] - 13s 12ms/step - loss: 0.0654 - root_mean_squared_error: 0.2557 - val_loss: 0.0688 - val_root_mean_squared_error: 0.2623\n",
      "Epoch 7/100\n",
      "1030/1032 [============================>.] - ETA: 0s - loss: 0.0624 - root_mean_squared_error: 0.2497\n",
      "Epoch 00007: val_loss improved from 0.06727 to 0.06614, saving model to /content/drive/My Drive/epochs/model_1_camera6.0007-0.0661.h5\n",
      "1032/1032 [==============================] - 13s 12ms/step - loss: 0.0623 - root_mean_squared_error: 0.2496 - val_loss: 0.0661 - val_root_mean_squared_error: 0.2572\n",
      "Epoch 8/100\n",
      "1032/1032 [==============================] - ETA: 0s - loss: 0.0620 - root_mean_squared_error: 0.2489\n",
      "Epoch 00008: val_loss did not improve from 0.06614\n",
      "1032/1032 [==============================] - 13s 12ms/step - loss: 0.0620 - root_mean_squared_error: 0.2489 - val_loss: 0.0662 - val_root_mean_squared_error: 0.2572\n",
      "Epoch 9/100\n",
      "1029/1032 [============================>.] - ETA: 0s - loss: 0.0609 - root_mean_squared_error: 0.2468\n",
      "Epoch 00009: val_loss improved from 0.06614 to 0.06611, saving model to /content/drive/My Drive/epochs/model_1_camera6.0009-0.0661.h5\n",
      "1032/1032 [==============================] - 13s 12ms/step - loss: 0.0609 - root_mean_squared_error: 0.2467 - val_loss: 0.0661 - val_root_mean_squared_error: 0.2571\n",
      "Epoch 10/100\n",
      "1028/1032 [============================>.] - ETA: 0s - loss: 0.0588 - root_mean_squared_error: 0.2425\n",
      "Epoch 00010: val_loss improved from 0.06611 to 0.06283, saving model to /content/drive/My Drive/epochs/model_1_camera6.0010-0.0628.h5\n",
      "1032/1032 [==============================] - 13s 12ms/step - loss: 0.0587 - root_mean_squared_error: 0.2422 - val_loss: 0.0628 - val_root_mean_squared_error: 0.2507\n",
      "Epoch 11/100\n",
      "1029/1032 [============================>.] - ETA: 0s - loss: 0.0587 - root_mean_squared_error: 0.2423\n",
      "Epoch 00011: val_loss improved from 0.06283 to 0.06203, saving model to /content/drive/My Drive/epochs/model_1_camera6.0011-0.0620.h5\n",
      "1032/1032 [==============================] - 13s 12ms/step - loss: 0.0586 - root_mean_squared_error: 0.2420 - val_loss: 0.0620 - val_root_mean_squared_error: 0.2491\n",
      "Epoch 12/100\n",
      "1031/1032 [============================>.] - ETA: 0s - loss: 0.0560 - root_mean_squared_error: 0.2367\n",
      "Epoch 00012: val_loss did not improve from 0.06203\n",
      "1032/1032 [==============================] - 13s 12ms/step - loss: 0.0560 - root_mean_squared_error: 0.2367 - val_loss: 0.0621 - val_root_mean_squared_error: 0.2491\n",
      "Epoch 13/100\n",
      "1030/1032 [============================>.] - ETA: 0s - loss: 0.0553 - root_mean_squared_error: 0.2352\n",
      "Epoch 00013: val_loss improved from 0.06203 to 0.05774, saving model to /content/drive/My Drive/epochs/model_1_camera6.0013-0.0577.h5\n",
      "1032/1032 [==============================] - 13s 12ms/step - loss: 0.0552 - root_mean_squared_error: 0.2350 - val_loss: 0.0577 - val_root_mean_squared_error: 0.2403\n",
      "Epoch 14/100\n",
      "1030/1032 [============================>.] - ETA: 0s - loss: 0.0533 - root_mean_squared_error: 0.2309\n",
      "Epoch 00014: val_loss did not improve from 0.05774\n",
      "1032/1032 [==============================] - 13s 12ms/step - loss: 0.0533 - root_mean_squared_error: 0.2309 - val_loss: 0.0588 - val_root_mean_squared_error: 0.2425\n",
      "Epoch 15/100\n",
      "1032/1032 [==============================] - ETA: 0s - loss: 0.0529 - root_mean_squared_error: 0.2301\n",
      "Epoch 00015: val_loss did not improve from 0.05774\n",
      "1032/1032 [==============================] - 13s 12ms/step - loss: 0.0529 - root_mean_squared_error: 0.2301 - val_loss: 0.0582 - val_root_mean_squared_error: 0.2412\n",
      "Epoch 16/100\n",
      "1027/1032 [============================>.] - ETA: 0s - loss: 0.0503 - root_mean_squared_error: 0.2242\n",
      "Epoch 00016: val_loss improved from 0.05774 to 0.05743, saving model to /content/drive/My Drive/epochs/model_1_camera6.0016-0.0574.h5\n",
      "1032/1032 [==============================] - 13s 12ms/step - loss: 0.0502 - root_mean_squared_error: 0.2241 - val_loss: 0.0574 - val_root_mean_squared_error: 0.2397\n",
      "Epoch 17/100\n",
      "1032/1032 [==============================] - ETA: 0s - loss: 0.0462 - root_mean_squared_error: 0.2149\n",
      "Epoch 00017: val_loss improved from 0.05743 to 0.05624, saving model to /content/drive/My Drive/epochs/model_1_camera6.0017-0.0562.h5\n",
      "1032/1032 [==============================] - 13s 12ms/step - loss: 0.0462 - root_mean_squared_error: 0.2149 - val_loss: 0.0562 - val_root_mean_squared_error: 0.2372\n",
      "Epoch 18/100\n",
      "1029/1032 [============================>.] - ETA: 0s - loss: 0.0487 - root_mean_squared_error: 0.2207\n",
      "Epoch 00018: val_loss improved from 0.05624 to 0.05405, saving model to /content/drive/My Drive/epochs/model_1_camera6.0018-0.0541.h5\n",
      "1032/1032 [==============================] - 13s 12ms/step - loss: 0.0487 - root_mean_squared_error: 0.2206 - val_loss: 0.0541 - val_root_mean_squared_error: 0.2325\n",
      "Epoch 19/100\n",
      "1029/1032 [============================>.] - ETA: 0s - loss: 0.0471 - root_mean_squared_error: 0.2170\n",
      "Epoch 00019: val_loss did not improve from 0.05405\n",
      "1032/1032 [==============================] - 13s 12ms/step - loss: 0.0470 - root_mean_squared_error: 0.2168 - val_loss: 0.0547 - val_root_mean_squared_error: 0.2338\n",
      "Epoch 20/100\n",
      "1032/1032 [==============================] - ETA: 0s - loss: 0.0438 - root_mean_squared_error: 0.2093\n",
      "Epoch 00020: val_loss did not improve from 0.05405\n",
      "1032/1032 [==============================] - 13s 13ms/step - loss: 0.0438 - root_mean_squared_error: 0.2093 - val_loss: 0.0562 - val_root_mean_squared_error: 0.2371\n",
      "Epoch 21/100\n",
      "1030/1032 [============================>.] - ETA: 0s - loss: 0.0478 - root_mean_squared_error: 0.2186\n",
      "Epoch 00021: val_loss did not improve from 0.05405\n",
      "1032/1032 [==============================] - 13s 12ms/step - loss: 0.0478 - root_mean_squared_error: 0.2185 - val_loss: 0.0542 - val_root_mean_squared_error: 0.2327\n",
      "Epoch 22/100\n",
      "1030/1032 [============================>.] - ETA: 0s - loss: 0.0443 - root_mean_squared_error: 0.2105\n",
      "Epoch 00022: val_loss improved from 0.05405 to 0.05339, saving model to /content/drive/My Drive/epochs/model_1_camera6.0022-0.0534.h5\n",
      "1032/1032 [==============================] - 13s 12ms/step - loss: 0.0444 - root_mean_squared_error: 0.2107 - val_loss: 0.0534 - val_root_mean_squared_error: 0.2311\n",
      "Epoch 23/100\n",
      "1032/1032 [==============================] - ETA: 0s - loss: 0.0452 - root_mean_squared_error: 0.2125\n",
      "Epoch 00023: val_loss improved from 0.05339 to 0.05261, saving model to /content/drive/My Drive/epochs/model_1_camera6.0023-0.0526.h5\n",
      "1032/1032 [==============================] - 13s 12ms/step - loss: 0.0452 - root_mean_squared_error: 0.2125 - val_loss: 0.0526 - val_root_mean_squared_error: 0.2294\n",
      "Epoch 24/100\n",
      "1031/1032 [============================>.] - ETA: 0s - loss: 0.0429 - root_mean_squared_error: 0.2070\n",
      "Epoch 00024: val_loss improved from 0.05261 to 0.05145, saving model to /content/drive/My Drive/epochs/model_1_camera6.0024-0.0514.h5\n",
      "1032/1032 [==============================] - 13s 12ms/step - loss: 0.0428 - root_mean_squared_error: 0.2070 - val_loss: 0.0514 - val_root_mean_squared_error: 0.2268\n",
      "Epoch 25/100\n",
      "1027/1032 [============================>.] - ETA: 0s - loss: 0.0427 - root_mean_squared_error: 0.2067\n",
      "Epoch 00025: val_loss did not improve from 0.05145\n",
      "1032/1032 [==============================] - 13s 12ms/step - loss: 0.0426 - root_mean_squared_error: 0.2064 - val_loss: 0.0528 - val_root_mean_squared_error: 0.2298\n",
      "Epoch 26/100\n",
      "1029/1032 [============================>.] - ETA: 0s - loss: 0.0436 - root_mean_squared_error: 0.2088\n",
      "Epoch 00026: val_loss did not improve from 0.05145\n",
      "1032/1032 [==============================] - 13s 12ms/step - loss: 0.0437 - root_mean_squared_error: 0.2090 - val_loss: 0.0528 - val_root_mean_squared_error: 0.2299\n",
      "Epoch 27/100\n",
      "1031/1032 [============================>.] - ETA: 0s - loss: 0.0415 - root_mean_squared_error: 0.2036\n",
      "Epoch 00027: val_loss improved from 0.05145 to 0.05074, saving model to /content/drive/My Drive/epochs/model_1_camera6.0027-0.0507.h5\n",
      "1032/1032 [==============================] - 13s 12ms/step - loss: 0.0415 - root_mean_squared_error: 0.2036 - val_loss: 0.0507 - val_root_mean_squared_error: 0.2253\n",
      "Epoch 28/100\n",
      "1032/1032 [==============================] - ETA: 0s - loss: 0.0373 - root_mean_squared_error: 0.1932\n",
      "Epoch 00028: val_loss did not improve from 0.05074\n",
      "1032/1032 [==============================] - 13s 12ms/step - loss: 0.0373 - root_mean_squared_error: 0.1932 - val_loss: 0.0510 - val_root_mean_squared_error: 0.2259\n",
      "Epoch 29/100\n",
      "1030/1032 [============================>.] - ETA: 0s - loss: 0.0388 - root_mean_squared_error: 0.1970\n",
      "Epoch 00029: val_loss improved from 0.05074 to 0.04978, saving model to /content/drive/My Drive/epochs/model_1_camera6.0029-0.0498.h5\n",
      "1032/1032 [==============================] - 13s 12ms/step - loss: 0.0389 - root_mean_squared_error: 0.1971 - val_loss: 0.0498 - val_root_mean_squared_error: 0.2231\n",
      "Epoch 30/100\n",
      "1031/1032 [============================>.] - ETA: 0s - loss: 0.0387 - root_mean_squared_error: 0.1968\n",
      "Epoch 00030: val_loss did not improve from 0.04978\n",
      "1032/1032 [==============================] - 13s 12ms/step - loss: 0.0387 - root_mean_squared_error: 0.1967 - val_loss: 0.0499 - val_root_mean_squared_error: 0.2235\n",
      "Epoch 31/100\n",
      "1031/1032 [============================>.] - ETA: 0s - loss: 0.0368 - root_mean_squared_error: 0.1919\n",
      "Epoch 00031: val_loss did not improve from 0.04978\n",
      "1032/1032 [==============================] - 13s 12ms/step - loss: 0.0368 - root_mean_squared_error: 0.1919 - val_loss: 0.0508 - val_root_mean_squared_error: 0.2254\n",
      "Epoch 32/100\n",
      "1032/1032 [==============================] - ETA: 0s - loss: 0.0372 - root_mean_squared_error: 0.1929\n",
      "Epoch 00032: val_loss did not improve from 0.04978\n",
      "1032/1032 [==============================] - 13s 12ms/step - loss: 0.0372 - root_mean_squared_error: 0.1929 - val_loss: 0.0507 - val_root_mean_squared_error: 0.2251\n",
      "Epoch 33/100\n",
      "1031/1032 [============================>.] - ETA: 0s - loss: 0.0359 - root_mean_squared_error: 0.1894\n",
      "Epoch 00033: val_loss did not improve from 0.04978\n",
      "1032/1032 [==============================] - 13s 12ms/step - loss: 0.0359 - root_mean_squared_error: 0.1894 - val_loss: 0.0504 - val_root_mean_squared_error: 0.2245\n",
      "Epoch 34/100\n",
      "1031/1032 [============================>.] - ETA: 0s - loss: 0.0386 - root_mean_squared_error: 0.1966\n",
      "Epoch 00034: val_loss improved from 0.04978 to 0.04813, saving model to /content/drive/My Drive/epochs/model_1_camera6.0034-0.0481.h5\n",
      "1032/1032 [==============================] - 13s 12ms/step - loss: 0.0386 - root_mean_squared_error: 0.1965 - val_loss: 0.0481 - val_root_mean_squared_error: 0.2194\n",
      "Epoch 35/100\n",
      "1028/1032 [============================>.] - ETA: 0s - loss: 0.0386 - root_mean_squared_error: 0.1964\n",
      "Epoch 00035: val_loss improved from 0.04813 to 0.04788, saving model to /content/drive/My Drive/epochs/model_1_camera6.0035-0.0479.h5\n",
      "1032/1032 [==============================] - 13s 12ms/step - loss: 0.0386 - root_mean_squared_error: 0.1966 - val_loss: 0.0479 - val_root_mean_squared_error: 0.2188\n",
      "Epoch 36/100\n",
      "1028/1032 [============================>.] - ETA: 0s - loss: 0.0345 - root_mean_squared_error: 0.1856\n",
      "Epoch 00036: val_loss improved from 0.04788 to 0.04681, saving model to /content/drive/My Drive/epochs/model_1_camera6.0036-0.0468.h5\n",
      "1032/1032 [==============================] - 13s 12ms/step - loss: 0.0345 - root_mean_squared_error: 0.1858 - val_loss: 0.0468 - val_root_mean_squared_error: 0.2164\n",
      "Epoch 37/100\n",
      "1030/1032 [============================>.] - ETA: 0s - loss: 0.0367 - root_mean_squared_error: 0.1916\n",
      "Epoch 00037: val_loss did not improve from 0.04681\n",
      "1032/1032 [==============================] - 13s 12ms/step - loss: 0.0367 - root_mean_squared_error: 0.1915 - val_loss: 0.0491 - val_root_mean_squared_error: 0.2217\n",
      "Epoch 38/100\n",
      "1029/1032 [============================>.] - ETA: 0s - loss: 0.0315 - root_mean_squared_error: 0.1776\n",
      "Epoch 00038: val_loss did not improve from 0.04681\n",
      "1032/1032 [==============================] - 13s 12ms/step - loss: 0.0315 - root_mean_squared_error: 0.1774 - val_loss: 0.0477 - val_root_mean_squared_error: 0.2184\n",
      "Epoch 39/100\n",
      "1031/1032 [============================>.] - ETA: 0s - loss: 0.0321 - root_mean_squared_error: 0.1791\n",
      "Epoch 00039: val_loss did not improve from 0.04681\n",
      "1032/1032 [==============================] - 13s 12ms/step - loss: 0.0321 - root_mean_squared_error: 0.1792 - val_loss: 0.0487 - val_root_mean_squared_error: 0.2206\n",
      "Epoch 40/100\n",
      "1029/1032 [============================>.] - ETA: 0s - loss: 0.0327 - root_mean_squared_error: 0.1808\n",
      "Epoch 00040: val_loss did not improve from 0.04681\n",
      "1032/1032 [==============================] - 13s 12ms/step - loss: 0.0330 - root_mean_squared_error: 0.1817 - val_loss: 0.0475 - val_root_mean_squared_error: 0.2179\n",
      "Epoch 41/100\n",
      "1027/1032 [============================>.] - ETA: 0s - loss: 0.0332 - root_mean_squared_error: 0.1823\n",
      "Epoch 00041: val_loss improved from 0.04681 to 0.04387, saving model to /content/drive/My Drive/epochs/model_1_camera6.0041-0.0439.h5\n",
      "1032/1032 [==============================] - 13s 12ms/step - loss: 0.0332 - root_mean_squared_error: 0.1821 - val_loss: 0.0439 - val_root_mean_squared_error: 0.2095\n",
      "Epoch 42/100\n",
      "1031/1032 [============================>.] - ETA: 0s - loss: 0.0357 - root_mean_squared_error: 0.1891\n",
      "Epoch 00042: val_loss did not improve from 0.04387\n",
      "1032/1032 [==============================] - 13s 12ms/step - loss: 0.0357 - root_mean_squared_error: 0.1891 - val_loss: 0.0465 - val_root_mean_squared_error: 0.2156\n",
      "Epoch 43/100\n",
      "1030/1032 [============================>.] - ETA: 0s - loss: 0.0310 - root_mean_squared_error: 0.1760\n",
      "Epoch 00043: val_loss did not improve from 0.04387\n",
      "1032/1032 [==============================] - 13s 12ms/step - loss: 0.0310 - root_mean_squared_error: 0.1760 - val_loss: 0.0461 - val_root_mean_squared_error: 0.2148\n",
      "Epoch 44/100\n",
      "1029/1032 [============================>.] - ETA: 0s - loss: 0.0323 - root_mean_squared_error: 0.1797\n",
      "Epoch 00044: val_loss did not improve from 0.04387\n",
      "1032/1032 [==============================] - 13s 12ms/step - loss: 0.0323 - root_mean_squared_error: 0.1796 - val_loss: 0.0444 - val_root_mean_squared_error: 0.2107\n",
      "Epoch 45/100\n",
      "1031/1032 [============================>.] - ETA: 0s - loss: 0.0323 - root_mean_squared_error: 0.1797\n",
      "Epoch 00045: val_loss improved from 0.04387 to 0.04247, saving model to /content/drive/My Drive/epochs/model_1_camera6.0045-0.0425.h5\n",
      "1032/1032 [==============================] - 13s 12ms/step - loss: 0.0323 - root_mean_squared_error: 0.1796 - val_loss: 0.0425 - val_root_mean_squared_error: 0.2061\n",
      "Epoch 46/100\n",
      "1028/1032 [============================>.] - ETA: 0s - loss: 0.0304 - root_mean_squared_error: 0.1744\n",
      "Epoch 00046: val_loss improved from 0.04247 to 0.04121, saving model to /content/drive/My Drive/epochs/model_1_camera6.0046-0.0412.h5\n",
      "1032/1032 [==============================] - 13s 12ms/step - loss: 0.0303 - root_mean_squared_error: 0.1742 - val_loss: 0.0412 - val_root_mean_squared_error: 0.2030\n",
      "Epoch 47/100\n",
      "1028/1032 [============================>.] - ETA: 0s - loss: 0.0325 - root_mean_squared_error: 0.1803\n",
      "Epoch 00047: val_loss did not improve from 0.04121\n",
      "1032/1032 [==============================] - 12s 12ms/step - loss: 0.0325 - root_mean_squared_error: 0.1801 - val_loss: 0.0424 - val_root_mean_squared_error: 0.2058\n",
      "Epoch 48/100\n",
      "1031/1032 [============================>.] - ETA: 0s - loss: 0.0313 - root_mean_squared_error: 0.1770\n",
      "Epoch 00048: val_loss did not improve from 0.04121\n",
      "1032/1032 [==============================] - 12s 12ms/step - loss: 0.0313 - root_mean_squared_error: 0.1770 - val_loss: 0.0424 - val_root_mean_squared_error: 0.2059\n",
      "Epoch 49/100\n",
      "1031/1032 [============================>.] - ETA: 0s - loss: 0.0299 - root_mean_squared_error: 0.1730\n",
      "Epoch 00049: val_loss did not improve from 0.04121\n",
      "1032/1032 [==============================] - 12s 12ms/step - loss: 0.0299 - root_mean_squared_error: 0.1730 - val_loss: 0.0418 - val_root_mean_squared_error: 0.2044\n",
      "Epoch 50/100\n",
      "1030/1032 [============================>.] - ETA: 0s - loss: 0.0304 - root_mean_squared_error: 0.1744\n",
      "Epoch 00050: val_loss did not improve from 0.04121\n",
      "1032/1032 [==============================] - 13s 12ms/step - loss: 0.0304 - root_mean_squared_error: 0.1744 - val_loss: 0.0423 - val_root_mean_squared_error: 0.2057\n",
      "Epoch 51/100\n",
      "1027/1032 [============================>.] - ETA: 0s - loss: 0.0292 - root_mean_squared_error: 0.1710\n",
      "Epoch 00051: val_loss improved from 0.04121 to 0.04071, saving model to /content/drive/My Drive/epochs/model_1_camera6.0051-0.0407.h5\n",
      "1032/1032 [==============================] - 13s 12ms/step - loss: 0.0293 - root_mean_squared_error: 0.1711 - val_loss: 0.0407 - val_root_mean_squared_error: 0.2018\n",
      "Epoch 52/100\n",
      "1028/1032 [============================>.] - ETA: 0s - loss: 0.0270 - root_mean_squared_error: 0.1644\n",
      "Epoch 00052: val_loss improved from 0.04071 to 0.04015, saving model to /content/drive/My Drive/epochs/model_1_camera6.0052-0.0402.h5\n",
      "1032/1032 [==============================] - 13s 12ms/step - loss: 0.0270 - root_mean_squared_error: 0.1643 - val_loss: 0.0402 - val_root_mean_squared_error: 0.2004\n",
      "Epoch 53/100\n",
      "1030/1032 [============================>.] - ETA: 0s - loss: 0.0256 - root_mean_squared_error: 0.1599\n",
      "Epoch 00053: val_loss did not improve from 0.04015\n",
      "1032/1032 [==============================] - 13s 12ms/step - loss: 0.0255 - root_mean_squared_error: 0.1598 - val_loss: 0.0403 - val_root_mean_squared_error: 0.2007\n",
      "Epoch 54/100\n",
      "1032/1032 [==============================] - ETA: 0s - loss: 0.0308 - root_mean_squared_error: 0.1756\n",
      "Epoch 00054: val_loss did not improve from 0.04015\n",
      "1032/1032 [==============================] - 13s 12ms/step - loss: 0.0308 - root_mean_squared_error: 0.1756 - val_loss: 0.0415 - val_root_mean_squared_error: 0.2037\n",
      "Epoch 55/100\n",
      "1028/1032 [============================>.] - ETA: 0s - loss: 0.0290 - root_mean_squared_error: 0.1704\n",
      "Epoch 00055: val_loss did not improve from 0.04015\n",
      "1032/1032 [==============================] - 13s 12ms/step - loss: 0.0297 - root_mean_squared_error: 0.1723 - val_loss: 0.0414 - val_root_mean_squared_error: 0.2035\n",
      "Epoch 56/100\n",
      "1030/1032 [============================>.] - ETA: 0s - loss: 0.0280 - root_mean_squared_error: 0.1674\n",
      "Epoch 00056: val_loss did not improve from 0.04015\n",
      "1032/1032 [==============================] - 13s 12ms/step - loss: 0.0280 - root_mean_squared_error: 0.1674 - val_loss: 0.0414 - val_root_mean_squared_error: 0.2035\n",
      "Epoch 57/100\n",
      "1031/1032 [============================>.] - ETA: 0s - loss: 0.0247 - root_mean_squared_error: 0.1572\n",
      "Epoch 00057: val_loss improved from 0.04015 to 0.04008, saving model to /content/drive/My Drive/epochs/model_1_camera6.0057-0.0401.h5\n",
      "1032/1032 [==============================] - 13s 12ms/step - loss: 0.0247 - root_mean_squared_error: 0.1572 - val_loss: 0.0401 - val_root_mean_squared_error: 0.2002\n",
      "Epoch 58/100\n",
      "1030/1032 [============================>.] - ETA: 0s - loss: 0.0298 - root_mean_squared_error: 0.1727\n",
      "Epoch 00058: val_loss did not improve from 0.04008\n",
      "1032/1032 [==============================] - 13s 12ms/step - loss: 0.0298 - root_mean_squared_error: 0.1727 - val_loss: 0.0408 - val_root_mean_squared_error: 0.2019\n",
      "Epoch 59/100\n",
      "1027/1032 [============================>.] - ETA: 0s - loss: 0.0275 - root_mean_squared_error: 0.1660\n",
      "Epoch 00059: val_loss did not improve from 0.04008\n",
      "1032/1032 [==============================] - 13s 12ms/step - loss: 0.0275 - root_mean_squared_error: 0.1659 - val_loss: 0.0408 - val_root_mean_squared_error: 0.2019\n",
      "Epoch 60/100\n",
      "1029/1032 [============================>.] - ETA: 0s - loss: 0.0280 - root_mean_squared_error: 0.1675\n",
      "Epoch 00060: val_loss improved from 0.04008 to 0.03943, saving model to /content/drive/My Drive/epochs/model_1_camera6.0060-0.0394.h5\n",
      "1032/1032 [==============================] - 13s 12ms/step - loss: 0.0281 - root_mean_squared_error: 0.1677 - val_loss: 0.0394 - val_root_mean_squared_error: 0.1986\n",
      "Epoch 61/100\n",
      "1029/1032 [============================>.] - ETA: 0s - loss: 0.0268 - root_mean_squared_error: 0.1637\n",
      "Epoch 00061: val_loss did not improve from 0.03943\n",
      "1032/1032 [==============================] - 13s 12ms/step - loss: 0.0268 - root_mean_squared_error: 0.1636 - val_loss: 0.0402 - val_root_mean_squared_error: 0.2004\n",
      "Epoch 62/100\n",
      "1032/1032 [==============================] - ETA: 0s - loss: 0.0243 - root_mean_squared_error: 0.1560\n",
      "Epoch 00062: val_loss improved from 0.03943 to 0.03901, saving model to /content/drive/My Drive/epochs/model_1_camera6.0062-0.0390.h5\n",
      "1032/1032 [==============================] - 13s 12ms/step - loss: 0.0243 - root_mean_squared_error: 0.1560 - val_loss: 0.0390 - val_root_mean_squared_error: 0.1975\n",
      "Epoch 63/100\n",
      "1027/1032 [============================>.] - ETA: 0s - loss: 0.0275 - root_mean_squared_error: 0.1658\n",
      "Epoch 00063: val_loss did not improve from 0.03901\n",
      "1032/1032 [==============================] - 13s 12ms/step - loss: 0.0278 - root_mean_squared_error: 0.1667 - val_loss: 0.0428 - val_root_mean_squared_error: 0.2070\n",
      "Epoch 64/100\n",
      "1029/1032 [============================>.] - ETA: 0s - loss: 0.0280 - root_mean_squared_error: 0.1673\n",
      "Epoch 00064: val_loss did not improve from 0.03901\n",
      "1032/1032 [==============================] - 13s 12ms/step - loss: 0.0279 - root_mean_squared_error: 0.1672 - val_loss: 0.0405 - val_root_mean_squared_error: 0.2014\n",
      "Epoch 65/100\n",
      "1028/1032 [============================>.] - ETA: 0s - loss: 0.0257 - root_mean_squared_error: 0.1605\n",
      "Epoch 00065: val_loss did not improve from 0.03901\n",
      "1032/1032 [==============================] - 13s 12ms/step - loss: 0.0257 - root_mean_squared_error: 0.1603 - val_loss: 0.0394 - val_root_mean_squared_error: 0.1984\n",
      "Epoch 66/100\n",
      "1027/1032 [============================>.] - ETA: 0s - loss: 0.0230 - root_mean_squared_error: 0.1518\n",
      "Epoch 00066: val_loss improved from 0.03901 to 0.03865, saving model to /content/drive/My Drive/epochs/model_1_camera6.0066-0.0387.h5\n",
      "1032/1032 [==============================] - 13s 12ms/step - loss: 0.0230 - root_mean_squared_error: 0.1517 - val_loss: 0.0387 - val_root_mean_squared_error: 0.1966\n",
      "Epoch 67/100\n",
      "1029/1032 [============================>.] - ETA: 0s - loss: 0.0275 - root_mean_squared_error: 0.1659\n",
      "Epoch 00067: val_loss did not improve from 0.03865\n",
      "1032/1032 [==============================] - 13s 12ms/step - loss: 0.0275 - root_mean_squared_error: 0.1657 - val_loss: 0.0394 - val_root_mean_squared_error: 0.1986\n",
      "Epoch 68/100\n",
      "1028/1032 [============================>.] - ETA: 0s - loss: 0.0264 - root_mean_squared_error: 0.1623\n",
      "Epoch 00068: val_loss did not improve from 0.03865\n",
      "1032/1032 [==============================] - 13s 12ms/step - loss: 0.0263 - root_mean_squared_error: 0.1621 - val_loss: 0.0391 - val_root_mean_squared_error: 0.1978\n",
      "Epoch 69/100\n",
      "1030/1032 [============================>.] - ETA: 0s - loss: 0.0269 - root_mean_squared_error: 0.1639\n",
      "Epoch 00069: val_loss improved from 0.03865 to 0.03776, saving model to /content/drive/My Drive/epochs/model_1_camera6.0069-0.0378.h5\n",
      "1032/1032 [==============================] - 13s 13ms/step - loss: 0.0268 - root_mean_squared_error: 0.1638 - val_loss: 0.0378 - val_root_mean_squared_error: 0.1943\n",
      "Epoch 70/100\n",
      "1029/1032 [============================>.] - ETA: 0s - loss: 0.0257 - root_mean_squared_error: 0.1603\n",
      "Epoch 00070: val_loss improved from 0.03776 to 0.03774, saving model to /content/drive/My Drive/epochs/model_1_camera6.0070-0.0377.h5\n",
      "1032/1032 [==============================] - 13s 12ms/step - loss: 0.0257 - root_mean_squared_error: 0.1602 - val_loss: 0.0377 - val_root_mean_squared_error: 0.1943\n",
      "Epoch 71/100\n",
      "1032/1032 [==============================] - ETA: 0s - loss: 0.0240 - root_mean_squared_error: 0.1549\n",
      "Epoch 00071: val_loss improved from 0.03774 to 0.03569, saving model to /content/drive/My Drive/epochs/model_1_camera6.0071-0.0357.h5\n",
      "1032/1032 [==============================] - 13s 13ms/step - loss: 0.0240 - root_mean_squared_error: 0.1549 - val_loss: 0.0357 - val_root_mean_squared_error: 0.1889\n",
      "Epoch 72/100\n",
      "1029/1032 [============================>.] - ETA: 0s - loss: 0.0228 - root_mean_squared_error: 0.1511\n",
      "Epoch 00072: val_loss did not improve from 0.03569\n",
      "1032/1032 [==============================] - 13s 12ms/step - loss: 0.0228 - root_mean_squared_error: 0.1511 - val_loss: 0.0413 - val_root_mean_squared_error: 0.2033\n",
      "Epoch 73/100\n",
      "1027/1032 [============================>.] - ETA: 0s - loss: 0.0224 - root_mean_squared_error: 0.1497\n",
      "Epoch 00073: val_loss did not improve from 0.03569\n",
      "1032/1032 [==============================] - 13s 12ms/step - loss: 0.0223 - root_mean_squared_error: 0.1494 - val_loss: 0.0417 - val_root_mean_squared_error: 0.2041\n",
      "Epoch 74/100\n",
      "1030/1032 [============================>.] - ETA: 0s - loss: 0.0239 - root_mean_squared_error: 0.1545\n",
      "Epoch 00074: val_loss did not improve from 0.03569\n",
      "1032/1032 [==============================] - 13s 12ms/step - loss: 0.0239 - root_mean_squared_error: 0.1544 - val_loss: 0.0369 - val_root_mean_squared_error: 0.1920\n",
      "Epoch 75/100\n",
      "1029/1032 [============================>.] - ETA: 0s - loss: 0.0254 - root_mean_squared_error: 0.1593\n",
      "Epoch 00075: val_loss did not improve from 0.03569\n",
      "1032/1032 [==============================] - 13s 12ms/step - loss: 0.0253 - root_mean_squared_error: 0.1592 - val_loss: 0.0379 - val_root_mean_squared_error: 0.1947\n",
      "Epoch 76/100\n",
      "1029/1032 [============================>.] - ETA: 0s - loss: 0.0232 - root_mean_squared_error: 0.1523\n",
      "Epoch 00076: val_loss did not improve from 0.03569\n",
      "1032/1032 [==============================] - 13s 12ms/step - loss: 0.0232 - root_mean_squared_error: 0.1522 - val_loss: 0.0380 - val_root_mean_squared_error: 0.1950\n",
      "Epoch 77/100\n",
      "1029/1032 [============================>.] - ETA: 0s - loss: 0.0233 - root_mean_squared_error: 0.1525\n",
      "Epoch 00077: val_loss did not improve from 0.03569\n",
      "1032/1032 [==============================] - 13s 12ms/step - loss: 0.0232 - root_mean_squared_error: 0.1524 - val_loss: 0.0375 - val_root_mean_squared_error: 0.1936\n",
      "Epoch 78/100\n",
      "1031/1032 [============================>.] - ETA: 0s - loss: 0.0237 - root_mean_squared_error: 0.1539\n",
      "Epoch 00078: val_loss did not improve from 0.03569\n",
      "1032/1032 [==============================] - 13s 12ms/step - loss: 0.0237 - root_mean_squared_error: 0.1539 - val_loss: 0.0371 - val_root_mean_squared_error: 0.1925\n",
      "Epoch 79/100\n",
      "1031/1032 [============================>.] - ETA: 0s - loss: 0.0215 - root_mean_squared_error: 0.1467\n",
      "Epoch 00079: val_loss did not improve from 0.03569\n",
      "1032/1032 [==============================] - 13s 12ms/step - loss: 0.0215 - root_mean_squared_error: 0.1467 - val_loss: 0.0376 - val_root_mean_squared_error: 0.1938\n",
      "Epoch 80/100\n",
      "1030/1032 [============================>.] - ETA: 0s - loss: 0.0242 - root_mean_squared_error: 0.1554\n",
      "Epoch 00080: val_loss did not improve from 0.03569\n",
      "1032/1032 [==============================] - 13s 12ms/step - loss: 0.0242 - root_mean_squared_error: 0.1554 - val_loss: 0.0386 - val_root_mean_squared_error: 0.1964\n",
      "Epoch 81/100\n",
      "1028/1032 [============================>.] - ETA: 0s - loss: 0.0252 - root_mean_squared_error: 0.1587\n",
      "Epoch 00081: val_loss did not improve from 0.03569\n",
      "1032/1032 [==============================] - 13s 12ms/step - loss: 0.0252 - root_mean_squared_error: 0.1587 - val_loss: 0.0385 - val_root_mean_squared_error: 0.1963\n",
      "Epoch 82/100\n",
      "1028/1032 [============================>.] - ETA: 0s - loss: 0.0218 - root_mean_squared_error: 0.1477\n",
      "Epoch 00082: val_loss did not improve from 0.03569\n",
      "1032/1032 [==============================] - 13s 12ms/step - loss: 0.0218 - root_mean_squared_error: 0.1476 - val_loss: 0.0362 - val_root_mean_squared_error: 0.1904\n",
      "Epoch 83/100\n",
      "1031/1032 [============================>.] - ETA: 0s - loss: 0.0226 - root_mean_squared_error: 0.1502\n",
      "Epoch 00083: val_loss did not improve from 0.03569\n",
      "1032/1032 [==============================] - 13s 12ms/step - loss: 0.0226 - root_mean_squared_error: 0.1503 - val_loss: 0.0378 - val_root_mean_squared_error: 0.1943\n",
      "Epoch 84/100\n",
      "1032/1032 [==============================] - ETA: 0s - loss: 0.0251 - root_mean_squared_error: 0.1584\n",
      "Epoch 00084: val_loss did not improve from 0.03569\n",
      "1032/1032 [==============================] - 13s 12ms/step - loss: 0.0251 - root_mean_squared_error: 0.1584 - val_loss: 0.0362 - val_root_mean_squared_error: 0.1903\n",
      "Epoch 85/100\n",
      "1028/1032 [============================>.] - ETA: 0s - loss: 0.0216 - root_mean_squared_error: 0.1470\n",
      "Epoch 00085: val_loss improved from 0.03569 to 0.03555, saving model to /content/drive/My Drive/epochs/model_1_camera6.0085-0.0355.h5\n",
      "1032/1032 [==============================] - 13s 12ms/step - loss: 0.0216 - root_mean_squared_error: 0.1469 - val_loss: 0.0355 - val_root_mean_squared_error: 0.1885\n",
      "Epoch 86/100\n",
      "1029/1032 [============================>.] - ETA: 0s - loss: 0.0235 - root_mean_squared_error: 0.1532\n",
      "Epoch 00086: val_loss did not improve from 0.03555\n",
      "1032/1032 [==============================] - 13s 12ms/step - loss: 0.0235 - root_mean_squared_error: 0.1534 - val_loss: 0.0355 - val_root_mean_squared_error: 0.1885\n",
      "Epoch 87/100\n",
      "1031/1032 [============================>.] - ETA: 0s - loss: 0.0194 - root_mean_squared_error: 0.1393\n",
      "Epoch 00087: val_loss improved from 0.03555 to 0.03495, saving model to /content/drive/My Drive/epochs/model_1_camera6.0087-0.0349.h5\n",
      "1032/1032 [==============================] - 13s 12ms/step - loss: 0.0196 - root_mean_squared_error: 0.1399 - val_loss: 0.0349 - val_root_mean_squared_error: 0.1869\n",
      "Epoch 88/100\n",
      "1028/1032 [============================>.] - ETA: 0s - loss: 0.0216 - root_mean_squared_error: 0.1471\n",
      "Epoch 00088: val_loss did not improve from 0.03495\n",
      "1032/1032 [==============================] - 13s 12ms/step - loss: 0.0216 - root_mean_squared_error: 0.1471 - val_loss: 0.0370 - val_root_mean_squared_error: 0.1923\n",
      "Epoch 89/100\n",
      "1032/1032 [==============================] - ETA: 0s - loss: 0.0236 - root_mean_squared_error: 0.1536\n",
      "Epoch 00089: val_loss did not improve from 0.03495\n",
      "1032/1032 [==============================] - 13s 12ms/step - loss: 0.0236 - root_mean_squared_error: 0.1536 - val_loss: 0.0358 - val_root_mean_squared_error: 0.1892\n",
      "Epoch 90/100\n",
      "1029/1032 [============================>.] - ETA: 0s - loss: 0.0201 - root_mean_squared_error: 0.1417\n",
      "Epoch 00090: val_loss improved from 0.03495 to 0.03268, saving model to /content/drive/My Drive/epochs/model_1_camera6.0090-0.0327.h5\n",
      "1032/1032 [==============================] - 13s 12ms/step - loss: 0.0201 - root_mean_squared_error: 0.1417 - val_loss: 0.0327 - val_root_mean_squared_error: 0.1808\n",
      "Epoch 91/100\n",
      "1029/1032 [============================>.] - ETA: 0s - loss: 0.0207 - root_mean_squared_error: 0.1440\n",
      "Epoch 00091: val_loss did not improve from 0.03268\n",
      "1032/1032 [==============================] - 13s 12ms/step - loss: 0.0207 - root_mean_squared_error: 0.1439 - val_loss: 0.0357 - val_root_mean_squared_error: 0.1891\n",
      "Epoch 92/100\n",
      "1028/1032 [============================>.] - ETA: 0s - loss: 0.0204 - root_mean_squared_error: 0.1429\n",
      "Epoch 00092: val_loss did not improve from 0.03268\n",
      "1032/1032 [==============================] - 13s 12ms/step - loss: 0.0204 - root_mean_squared_error: 0.1428 - val_loss: 0.0354 - val_root_mean_squared_error: 0.1880\n",
      "Epoch 93/100\n",
      "1031/1032 [============================>.] - ETA: 0s - loss: 0.0203 - root_mean_squared_error: 0.1424\n",
      "Epoch 00093: val_loss did not improve from 0.03268\n",
      "1032/1032 [==============================] - 13s 12ms/step - loss: 0.0203 - root_mean_squared_error: 0.1424 - val_loss: 0.0365 - val_root_mean_squared_error: 0.1911\n",
      "Epoch 94/100\n",
      "1030/1032 [============================>.] - ETA: 0s - loss: 0.0242 - root_mean_squared_error: 0.1555\n",
      "Epoch 00094: val_loss did not improve from 0.03268\n",
      "1032/1032 [==============================] - 13s 12ms/step - loss: 0.0242 - root_mean_squared_error: 0.1554 - val_loss: 0.0359 - val_root_mean_squared_error: 0.1894\n",
      "Epoch 95/100\n",
      "1028/1032 [============================>.] - ETA: 0s - loss: 0.0211 - root_mean_squared_error: 0.1454\n",
      "Epoch 00095: val_loss improved from 0.03268 to 0.03214, saving model to /content/drive/My Drive/epochs/model_1_camera6.0095-0.0321.h5\n",
      "1032/1032 [==============================] - 13s 12ms/step - loss: 0.0211 - root_mean_squared_error: 0.1452 - val_loss: 0.0321 - val_root_mean_squared_error: 0.1793\n",
      "Epoch 96/100\n",
      "1028/1032 [============================>.] - ETA: 0s - loss: 0.0204 - root_mean_squared_error: 0.1428\n",
      "Epoch 00096: val_loss did not improve from 0.03214\n",
      "1032/1032 [==============================] - 13s 12ms/step - loss: 0.0204 - root_mean_squared_error: 0.1427 - val_loss: 0.0352 - val_root_mean_squared_error: 0.1875\n",
      "Epoch 97/100\n",
      "1028/1032 [============================>.] - ETA: 0s - loss: 0.0211 - root_mean_squared_error: 0.1454\n",
      "Epoch 00097: val_loss did not improve from 0.03214\n",
      "1032/1032 [==============================] - 13s 12ms/step - loss: 0.0211 - root_mean_squared_error: 0.1452 - val_loss: 0.0352 - val_root_mean_squared_error: 0.1875\n",
      "Epoch 98/100\n",
      "1032/1032 [==============================] - ETA: 0s - loss: 0.0212 - root_mean_squared_error: 0.1456\n",
      "Epoch 00098: val_loss did not improve from 0.03214\n",
      "1032/1032 [==============================] - 13s 12ms/step - loss: 0.0212 - root_mean_squared_error: 0.1456 - val_loss: 0.0389 - val_root_mean_squared_error: 0.1972\n",
      "Epoch 99/100\n",
      "1028/1032 [============================>.] - ETA: 0s - loss: 0.0177 - root_mean_squared_error: 0.1329\n",
      "Epoch 00099: val_loss did not improve from 0.03214\n",
      "1032/1032 [==============================] - 13s 12ms/step - loss: 0.0176 - root_mean_squared_error: 0.1328 - val_loss: 0.0365 - val_root_mean_squared_error: 0.1912\n",
      "Epoch 100/100\n",
      "1030/1032 [============================>.] - ETA: 0s - loss: 0.0202 - root_mean_squared_error: 0.1423\n",
      "Epoch 00100: val_loss did not improve from 0.03214\n",
      "1032/1032 [==============================] - 13s 12ms/step - loss: 0.0202 - root_mean_squared_error: 0.1423 - val_loss: 0.0379 - val_root_mean_squared_error: 0.1946\n"
     ]
    }
   ],
   "source": [
    "history = model.fit(X_train,\n",
    "                    y_train,\n",
    "                    batch_size=64,\n",
    "                    validation_data=(X_test, y_test),\n",
    "                    epochs=100,\n",
    "                    verbose=1,\n",
    "                    callbacks=callbacks_list)"
   ]
  },
  {
   "cell_type": "code",
   "execution_count": null,
   "metadata": {
    "colab": {},
    "colab_type": "code",
    "id": "4kLNeLN3VAyr"
   },
   "outputs": [],
   "source": [
    "model_1_camera6 = model_history('model_1_camera6')"
   ]
  },
  {
   "cell_type": "markdown",
   "metadata": {
    "colab": {},
    "colab_type": "code",
    "id": "5ZDBQ1bjVAyu"
   },
   "source": [
    "### Model 1 camera7"
   ]
  },
  {
   "cell_type": "code",
   "execution_count": null,
   "metadata": {
    "colab": {},
    "colab_type": "code",
    "id": "o-a0klfKfC5N"
   },
   "outputs": [],
   "source": [
    "model = load_model('/content/drive/My Drive/epochs/model_1_camera6.0095-0.0321.h5')"
   ]
  },
  {
   "cell_type": "code",
   "execution_count": null,
   "metadata": {
    "colab": {},
    "colab_type": "code",
    "id": "706AEZWDfC49"
   },
   "outputs": [],
   "source": [
    "camera7 = load('/content/drive/My Drive/datasets/camera7_cleaned.npz')\n",
    "log7 = pd.read_csv('/content/drive/My Drive/datasets/log7_cleaned.csv')"
   ]
  },
  {
   "cell_type": "code",
   "execution_count": null,
   "metadata": {
    "colab": {
     "base_uri": "https://localhost:8080/",
     "height": 34
    },
    "colab_type": "code",
    "executionInfo": {
     "elapsed": 221463,
     "status": "ok",
     "timestamp": 1596564062124,
     "user": {
      "displayName": "Tay Khim",
      "photoUrl": "",
      "userId": "00177423956135587504"
     },
     "user_tz": -480
    },
    "id": "wyEeI0zHfC5A",
    "outputId": "f4a7ecad-0d57-4ca6-82d6-f898c7e5a215"
   },
   "outputs": [
    {
     "name": "stdout",
     "output_type": "stream",
     "text": [
      "Done\n"
     ]
    }
   ],
   "source": [
    "camera_processing(camera7, 'camera7')"
   ]
  },
  {
   "cell_type": "code",
   "execution_count": null,
   "metadata": {
    "colab": {
     "base_uri": "https://localhost:8080/",
     "height": 34
    },
    "colab_type": "code",
    "executionInfo": {
     "elapsed": 1471,
     "status": "ok",
     "timestamp": 1596564073494,
     "user": {
      "displayName": "Tay Khim",
      "photoUrl": "",
      "userId": "00177423956135587504"
     },
     "user_tz": -480
    },
    "id": "r9SPeQ8rfC5D",
    "outputId": "617e99bc-2506-4a0b-cbae-dd600049a73f"
   },
   "outputs": [
    {
     "name": "stdout",
     "output_type": "stream",
     "text": [
      "Done\n"
     ]
    }
   ],
   "source": [
    "log_processing(log7, 'log7')"
   ]
  },
  {
   "cell_type": "code",
   "execution_count": null,
   "metadata": {
    "colab": {
     "base_uri": "https://localhost:8080/",
     "height": 34
    },
    "colab_type": "code",
    "executionInfo": {
     "elapsed": 217897,
     "status": "ok",
     "timestamp": 1596564301631,
     "user": {
      "displayName": "Tay Khim",
      "photoUrl": "",
      "userId": "00177423956135587504"
     },
     "user_tz": -480
    },
    "id": "c74BRW8CfC5I",
    "outputId": "f684da61-bfb8-47d1-bd00-29252b1fa34e"
   },
   "outputs": [
    {
     "name": "stdout",
     "output_type": "stream",
     "text": [
      "Done\n"
     ]
    }
   ],
   "source": [
    "train_split('camera7', 'log7')"
   ]
  },
  {
   "cell_type": "code",
   "execution_count": null,
   "metadata": {
    "colab": {},
    "colab_type": "code",
    "id": "rcpeDikzfC5R"
   },
   "outputs": [],
   "source": [
    "X_train, X_test, y_train, y_test = train_load('camera7')"
   ]
  },
  {
   "cell_type": "code",
   "execution_count": null,
   "metadata": {
    "colab": {
     "base_uri": "https://localhost:8080/",
     "height": 34
    },
    "colab_type": "code",
    "executionInfo": {
     "elapsed": 30279,
     "status": "ok",
     "timestamp": 1596564405552,
     "user": {
      "displayName": "Tay Khim",
      "photoUrl": "",
      "userId": "00177423956135587504"
     },
     "user_tz": -480
    },
    "id": "m3muLlksfC5S",
    "outputId": "e7f39e12-8983-4a7c-ae50-a4ea5e374daa"
   },
   "outputs": [
    {
     "data": {
      "text/plain": [
       "((59248, 80, 160, 1), (14812, 80, 160, 1), (59248, 1), (14812, 1))"
      ]
     },
     "execution_count": 12,
     "metadata": {
      "tags": []
     },
     "output_type": "execute_result"
    }
   ],
   "source": [
    "X_train.shape, X_test.shape, y_train.shape, y_test.shape"
   ]
  },
  {
   "cell_type": "code",
   "execution_count": null,
   "metadata": {
    "colab": {},
    "colab_type": "code",
    "id": "eoRaq2lffC5X"
   },
   "outputs": [],
   "source": [
    "filepath = \"/content/drive/My Drive/epochs/model_1_camera7.{epoch:04d}-{val_loss:.4f}.h5\"\n",
    "checkpoint = ModelCheckpoint(filepath, monitor='val_loss', verbose=1, save_best_only=True, mode='min')\n",
    "callbacks_list = [checkpoint]"
   ]
  },
  {
   "cell_type": "code",
   "execution_count": null,
   "metadata": {
    "colab": {
     "base_uri": "https://localhost:8080/",
     "height": 1000
    },
    "colab_type": "code",
    "collapsed": true,
    "executionInfo": {
     "elapsed": 1149969,
     "status": "ok",
     "timestamp": 1596565555536,
     "user": {
      "displayName": "Tay Khim",
      "photoUrl": "",
      "userId": "00177423956135587504"
     },
     "user_tz": -480
    },
    "id": "QF7BlRWQfC5Z",
    "outputId": "e209a832-3e6b-4863-c415-36b6565210c0"
   },
   "outputs": [
    {
     "name": "stdout",
     "output_type": "stream",
     "text": [
      "Epoch 1/100\n",
      "926/926 [==============================] - ETA: 0s - loss: 0.0388 - root_mean_squared_error: 0.1969\n",
      "Epoch 00001: val_loss improved from inf to 0.03788, saving model to /content/drive/My Drive/epochs/model_1_camera7.0001-0.0379.h5\n",
      "926/926 [==============================] - 12s 13ms/step - loss: 0.0388 - root_mean_squared_error: 0.1969 - val_loss: 0.0379 - val_root_mean_squared_error: 0.1946\n",
      "Epoch 2/100\n",
      "922/926 [============================>.] - ETA: 0s - loss: 0.0346 - root_mean_squared_error: 0.1861\n",
      "Epoch 00002: val_loss improved from 0.03788 to 0.03695, saving model to /content/drive/My Drive/epochs/model_1_camera7.0002-0.0370.h5\n",
      "926/926 [==============================] - 12s 12ms/step - loss: 0.0349 - root_mean_squared_error: 0.1867 - val_loss: 0.0370 - val_root_mean_squared_error: 0.1922\n",
      "Epoch 3/100\n",
      "922/926 [============================>.] - ETA: 0s - loss: 0.0347 - root_mean_squared_error: 0.1864\n",
      "Epoch 00003: val_loss did not improve from 0.03695\n",
      "926/926 [==============================] - 11s 12ms/step - loss: 0.0347 - root_mean_squared_error: 0.1863 - val_loss: 0.0372 - val_root_mean_squared_error: 0.1928\n",
      "Epoch 4/100\n",
      "922/926 [============================>.] - ETA: 0s - loss: 0.0337 - root_mean_squared_error: 0.1836\n",
      "Epoch 00004: val_loss improved from 0.03695 to 0.03641, saving model to /content/drive/My Drive/epochs/model_1_camera7.0004-0.0364.h5\n",
      "926/926 [==============================] - 11s 12ms/step - loss: 0.0336 - root_mean_squared_error: 0.1834 - val_loss: 0.0364 - val_root_mean_squared_error: 0.1908\n",
      "Epoch 5/100\n",
      "923/926 [============================>.] - ETA: 0s - loss: 0.0337 - root_mean_squared_error: 0.1836\n",
      "Epoch 00005: val_loss did not improve from 0.03641\n",
      "926/926 [==============================] - 11s 12ms/step - loss: 0.0337 - root_mean_squared_error: 0.1836 - val_loss: 0.0366 - val_root_mean_squared_error: 0.1914\n",
      "Epoch 6/100\n",
      "924/926 [============================>.] - ETA: 0s - loss: 0.0331 - root_mean_squared_error: 0.1819\n",
      "Epoch 00006: val_loss improved from 0.03641 to 0.03585, saving model to /content/drive/My Drive/epochs/model_1_camera7.0006-0.0359.h5\n",
      "926/926 [==============================] - 11s 12ms/step - loss: 0.0330 - root_mean_squared_error: 0.1817 - val_loss: 0.0359 - val_root_mean_squared_error: 0.1893\n",
      "Epoch 7/100\n",
      "922/926 [============================>.] - ETA: 0s - loss: 0.0334 - root_mean_squared_error: 0.1826\n",
      "Epoch 00007: val_loss improved from 0.03585 to 0.03493, saving model to /content/drive/My Drive/epochs/model_1_camera7.0007-0.0349.h5\n",
      "926/926 [==============================] - 12s 13ms/step - loss: 0.0333 - root_mean_squared_error: 0.1824 - val_loss: 0.0349 - val_root_mean_squared_error: 0.1869\n",
      "Epoch 8/100\n",
      "923/926 [============================>.] - ETA: 0s - loss: 0.0319 - root_mean_squared_error: 0.1787\n",
      "Epoch 00008: val_loss did not improve from 0.03493\n",
      "926/926 [==============================] - 11s 12ms/step - loss: 0.0321 - root_mean_squared_error: 0.1792 - val_loss: 0.0354 - val_root_mean_squared_error: 0.1882\n",
      "Epoch 9/100\n",
      "924/926 [============================>.] - ETA: 0s - loss: 0.0318 - root_mean_squared_error: 0.1782\n",
      "Epoch 00009: val_loss did not improve from 0.03493\n",
      "926/926 [==============================] - 11s 12ms/step - loss: 0.0317 - root_mean_squared_error: 0.1781 - val_loss: 0.0352 - val_root_mean_squared_error: 0.1876\n",
      "Epoch 10/100\n",
      "924/926 [============================>.] - ETA: 0s - loss: 0.0313 - root_mean_squared_error: 0.1769\n",
      "Epoch 00010: val_loss improved from 0.03493 to 0.03436, saving model to /content/drive/My Drive/epochs/model_1_camera7.0010-0.0344.h5\n",
      "926/926 [==============================] - 11s 12ms/step - loss: 0.0313 - root_mean_squared_error: 0.1769 - val_loss: 0.0344 - val_root_mean_squared_error: 0.1854\n",
      "Epoch 11/100\n",
      "924/926 [============================>.] - ETA: 0s - loss: 0.0311 - root_mean_squared_error: 0.1765\n",
      "Epoch 00011: val_loss improved from 0.03436 to 0.03366, saving model to /content/drive/My Drive/epochs/model_1_camera7.0011-0.0337.h5\n",
      "926/926 [==============================] - 11s 12ms/step - loss: 0.0311 - root_mean_squared_error: 0.1764 - val_loss: 0.0337 - val_root_mean_squared_error: 0.1835\n",
      "Epoch 12/100\n",
      "926/926 [==============================] - ETA: 0s - loss: 0.0303 - root_mean_squared_error: 0.1740\n",
      "Epoch 00012: val_loss did not improve from 0.03366\n",
      "926/926 [==============================] - 12s 12ms/step - loss: 0.0303 - root_mean_squared_error: 0.1740 - val_loss: 0.0341 - val_root_mean_squared_error: 0.1847\n",
      "Epoch 13/100\n",
      "925/926 [============================>.] - ETA: 0s - loss: 0.0302 - root_mean_squared_error: 0.1737\n",
      "Epoch 00013: val_loss improved from 0.03366 to 0.03304, saving model to /content/drive/My Drive/epochs/model_1_camera7.0013-0.0330.h5\n",
      "926/926 [==============================] - 12s 13ms/step - loss: 0.0302 - root_mean_squared_error: 0.1737 - val_loss: 0.0330 - val_root_mean_squared_error: 0.1818\n",
      "Epoch 14/100\n",
      "926/926 [==============================] - ETA: 0s - loss: 0.0300 - root_mean_squared_error: 0.1733\n",
      "Epoch 00014: val_loss improved from 0.03304 to 0.03288, saving model to /content/drive/My Drive/epochs/model_1_camera7.0014-0.0329.h5\n",
      "926/926 [==============================] - 12s 12ms/step - loss: 0.0300 - root_mean_squared_error: 0.1733 - val_loss: 0.0329 - val_root_mean_squared_error: 0.1813\n",
      "Epoch 15/100\n",
      "923/926 [============================>.] - ETA: 0s - loss: 0.0295 - root_mean_squared_error: 0.1717\n",
      "Epoch 00015: val_loss improved from 0.03288 to 0.03264, saving model to /content/drive/My Drive/epochs/model_1_camera7.0015-0.0326.h5\n",
      "926/926 [==============================] - 12s 13ms/step - loss: 0.0294 - root_mean_squared_error: 0.1715 - val_loss: 0.0326 - val_root_mean_squared_error: 0.1807\n",
      "Epoch 16/100\n",
      "926/926 [==============================] - ETA: 0s - loss: 0.0295 - root_mean_squared_error: 0.1717\n",
      "Epoch 00016: val_loss improved from 0.03264 to 0.03228, saving model to /content/drive/My Drive/epochs/model_1_camera7.0016-0.0323.h5\n",
      "926/926 [==============================] - 12s 13ms/step - loss: 0.0295 - root_mean_squared_error: 0.1717 - val_loss: 0.0323 - val_root_mean_squared_error: 0.1797\n",
      "Epoch 17/100\n",
      "926/926 [==============================] - ETA: 0s - loss: 0.0288 - root_mean_squared_error: 0.1698\n",
      "Epoch 00017: val_loss improved from 0.03228 to 0.03176, saving model to /content/drive/My Drive/epochs/model_1_camera7.0017-0.0318.h5\n",
      "926/926 [==============================] - 12s 12ms/step - loss: 0.0288 - root_mean_squared_error: 0.1698 - val_loss: 0.0318 - val_root_mean_squared_error: 0.1782\n",
      "Epoch 18/100\n",
      "926/926 [==============================] - ETA: 0s - loss: 0.0281 - root_mean_squared_error: 0.1675\n",
      "Epoch 00018: val_loss improved from 0.03176 to 0.03162, saving model to /content/drive/My Drive/epochs/model_1_camera7.0018-0.0316.h5\n",
      "926/926 [==============================] - 11s 12ms/step - loss: 0.0281 - root_mean_squared_error: 0.1675 - val_loss: 0.0316 - val_root_mean_squared_error: 0.1778\n",
      "Epoch 19/100\n",
      "926/926 [==============================] - ETA: 0s - loss: 0.0276 - root_mean_squared_error: 0.1661\n",
      "Epoch 00019: val_loss improved from 0.03162 to 0.03049, saving model to /content/drive/My Drive/epochs/model_1_camera7.0019-0.0305.h5\n",
      "926/926 [==============================] - 12s 12ms/step - loss: 0.0276 - root_mean_squared_error: 0.1661 - val_loss: 0.0305 - val_root_mean_squared_error: 0.1746\n",
      "Epoch 20/100\n",
      "923/926 [============================>.] - ETA: 0s - loss: 0.0275 - root_mean_squared_error: 0.1658\n",
      "Epoch 00020: val_loss improved from 0.03049 to 0.03044, saving model to /content/drive/My Drive/epochs/model_1_camera7.0020-0.0304.h5\n",
      "926/926 [==============================] - 12s 12ms/step - loss: 0.0275 - root_mean_squared_error: 0.1659 - val_loss: 0.0304 - val_root_mean_squared_error: 0.1745\n",
      "Epoch 21/100\n",
      "924/926 [============================>.] - ETA: 0s - loss: 0.0276 - root_mean_squared_error: 0.1663\n",
      "Epoch 00021: val_loss did not improve from 0.03044\n",
      "926/926 [==============================] - 11s 12ms/step - loss: 0.0276 - root_mean_squared_error: 0.1662 - val_loss: 0.0306 - val_root_mean_squared_error: 0.1749\n",
      "Epoch 22/100\n",
      "923/926 [============================>.] - ETA: 0s - loss: 0.0271 - root_mean_squared_error: 0.1647\n",
      "Epoch 00022: val_loss improved from 0.03044 to 0.02985, saving model to /content/drive/My Drive/epochs/model_1_camera7.0022-0.0298.h5\n",
      "926/926 [==============================] - 11s 12ms/step - loss: 0.0272 - root_mean_squared_error: 0.1648 - val_loss: 0.0298 - val_root_mean_squared_error: 0.1728\n",
      "Epoch 23/100\n",
      "922/926 [============================>.] - ETA: 0s - loss: 0.0259 - root_mean_squared_error: 0.1611\n",
      "Epoch 00023: val_loss did not improve from 0.02985\n",
      "926/926 [==============================] - 11s 12ms/step - loss: 0.0260 - root_mean_squared_error: 0.1612 - val_loss: 0.0299 - val_root_mean_squared_error: 0.1728\n",
      "Epoch 24/100\n",
      "926/926 [==============================] - ETA: 0s - loss: 0.0255 - root_mean_squared_error: 0.1598\n",
      "Epoch 00024: val_loss improved from 0.02985 to 0.02809, saving model to /content/drive/My Drive/epochs/model_1_camera7.0024-0.0281.h5\n",
      "926/926 [==============================] - 11s 12ms/step - loss: 0.0255 - root_mean_squared_error: 0.1598 - val_loss: 0.0281 - val_root_mean_squared_error: 0.1676\n",
      "Epoch 25/100\n",
      "923/926 [============================>.] - ETA: 0s - loss: 0.0243 - root_mean_squared_error: 0.1559\n",
      "Epoch 00025: val_loss improved from 0.02809 to 0.02762, saving model to /content/drive/My Drive/epochs/model_1_camera7.0025-0.0276.h5\n",
      "926/926 [==============================] - 12s 12ms/step - loss: 0.0243 - root_mean_squared_error: 0.1558 - val_loss: 0.0276 - val_root_mean_squared_error: 0.1662\n",
      "Epoch 26/100\n",
      "922/926 [============================>.] - ETA: 0s - loss: 0.0247 - root_mean_squared_error: 0.1571\n",
      "Epoch 00026: val_loss improved from 0.02762 to 0.02707, saving model to /content/drive/My Drive/epochs/model_1_camera7.0026-0.0271.h5\n",
      "926/926 [==============================] - 12s 12ms/step - loss: 0.0247 - root_mean_squared_error: 0.1570 - val_loss: 0.0271 - val_root_mean_squared_error: 0.1645\n",
      "Epoch 27/100\n",
      "923/926 [============================>.] - ETA: 0s - loss: 0.0245 - root_mean_squared_error: 0.1566\n",
      "Epoch 00027: val_loss improved from 0.02707 to 0.02521, saving model to /content/drive/My Drive/epochs/model_1_camera7.0027-0.0252.h5\n",
      "926/926 [==============================] - 12s 13ms/step - loss: 0.0247 - root_mean_squared_error: 0.1573 - val_loss: 0.0252 - val_root_mean_squared_error: 0.1588\n",
      "Epoch 28/100\n",
      "922/926 [============================>.] - ETA: 0s - loss: 0.0240 - root_mean_squared_error: 0.1550\n",
      "Epoch 00028: val_loss improved from 0.02521 to 0.02421, saving model to /content/drive/My Drive/epochs/model_1_camera7.0028-0.0242.h5\n",
      "926/926 [==============================] - 12s 12ms/step - loss: 0.0240 - root_mean_squared_error: 0.1549 - val_loss: 0.0242 - val_root_mean_squared_error: 0.1556\n",
      "Epoch 29/100\n",
      "926/926 [==============================] - ETA: 0s - loss: 0.0236 - root_mean_squared_error: 0.1538\n",
      "Epoch 00029: val_loss did not improve from 0.02421\n",
      "926/926 [==============================] - 11s 12ms/step - loss: 0.0236 - root_mean_squared_error: 0.1538 - val_loss: 0.0257 - val_root_mean_squared_error: 0.1603\n",
      "Epoch 30/100\n",
      "926/926 [==============================] - ETA: 0s - loss: 0.0223 - root_mean_squared_error: 0.1494\n",
      "Epoch 00030: val_loss improved from 0.02421 to 0.02420, saving model to /content/drive/My Drive/epochs/model_1_camera7.0030-0.0242.h5\n",
      "926/926 [==============================] - 11s 12ms/step - loss: 0.0223 - root_mean_squared_error: 0.1494 - val_loss: 0.0242 - val_root_mean_squared_error: 0.1555\n",
      "Epoch 31/100\n",
      "926/926 [==============================] - ETA: 0s - loss: 0.0223 - root_mean_squared_error: 0.1493\n",
      "Epoch 00031: val_loss improved from 0.02420 to 0.02274, saving model to /content/drive/My Drive/epochs/model_1_camera7.0031-0.0227.h5\n",
      "926/926 [==============================] - 12s 13ms/step - loss: 0.0223 - root_mean_squared_error: 0.1493 - val_loss: 0.0227 - val_root_mean_squared_error: 0.1508\n",
      "Epoch 32/100\n",
      "922/926 [============================>.] - ETA: 0s - loss: 0.0225 - root_mean_squared_error: 0.1499\n",
      "Epoch 00032: val_loss did not improve from 0.02274\n",
      "926/926 [==============================] - 11s 12ms/step - loss: 0.0224 - root_mean_squared_error: 0.1498 - val_loss: 0.0228 - val_root_mean_squared_error: 0.1510\n",
      "Epoch 33/100\n",
      "922/926 [============================>.] - ETA: 0s - loss: 0.0220 - root_mean_squared_error: 0.1482\n",
      "Epoch 00033: val_loss did not improve from 0.02274\n",
      "926/926 [==============================] - 11s 12ms/step - loss: 0.0221 - root_mean_squared_error: 0.1486 - val_loss: 0.0231 - val_root_mean_squared_error: 0.1519\n",
      "Epoch 34/100\n",
      "926/926 [==============================] - ETA: 0s - loss: 0.0213 - root_mean_squared_error: 0.1458\n",
      "Epoch 00034: val_loss improved from 0.02274 to 0.02132, saving model to /content/drive/My Drive/epochs/model_1_camera7.0034-0.0213.h5\n",
      "926/926 [==============================] - 12s 12ms/step - loss: 0.0213 - root_mean_squared_error: 0.1458 - val_loss: 0.0213 - val_root_mean_squared_error: 0.1460\n",
      "Epoch 35/100\n",
      "923/926 [============================>.] - ETA: 0s - loss: 0.0205 - root_mean_squared_error: 0.1433\n",
      "Epoch 00035: val_loss improved from 0.02132 to 0.02005, saving model to /content/drive/My Drive/epochs/model_1_camera7.0035-0.0201.h5\n",
      "926/926 [==============================] - 11s 12ms/step - loss: 0.0205 - root_mean_squared_error: 0.1432 - val_loss: 0.0201 - val_root_mean_squared_error: 0.1416\n",
      "Epoch 36/100\n",
      "925/926 [============================>.] - ETA: 0s - loss: 0.0200 - root_mean_squared_error: 0.1413\n",
      "Epoch 00036: val_loss did not improve from 0.02005\n",
      "926/926 [==============================] - 11s 12ms/step - loss: 0.0199 - root_mean_squared_error: 0.1412 - val_loss: 0.0218 - val_root_mean_squared_error: 0.1477\n",
      "Epoch 37/100\n",
      "925/926 [============================>.] - ETA: 0s - loss: 0.0193 - root_mean_squared_error: 0.1388\n",
      "Epoch 00037: val_loss did not improve from 0.02005\n",
      "926/926 [==============================] - 11s 12ms/step - loss: 0.0193 - root_mean_squared_error: 0.1389 - val_loss: 0.0210 - val_root_mean_squared_error: 0.1450\n",
      "Epoch 38/100\n",
      "926/926 [==============================] - ETA: 0s - loss: 0.0196 - root_mean_squared_error: 0.1401\n",
      "Epoch 00038: val_loss improved from 0.02005 to 0.01977, saving model to /content/drive/My Drive/epochs/model_1_camera7.0038-0.0198.h5\n",
      "926/926 [==============================] - 12s 12ms/step - loss: 0.0196 - root_mean_squared_error: 0.1401 - val_loss: 0.0198 - val_root_mean_squared_error: 0.1406\n",
      "Epoch 39/100\n",
      "926/926 [==============================] - ETA: 0s - loss: 0.0192 - root_mean_squared_error: 0.1387\n",
      "Epoch 00039: val_loss did not improve from 0.01977\n",
      "926/926 [==============================] - 11s 12ms/step - loss: 0.0192 - root_mean_squared_error: 0.1387 - val_loss: 0.0222 - val_root_mean_squared_error: 0.1490\n",
      "Epoch 40/100\n",
      "926/926 [==============================] - ETA: 0s - loss: 0.0189 - root_mean_squared_error: 0.1374\n",
      "Epoch 00040: val_loss improved from 0.01977 to 0.01885, saving model to /content/drive/My Drive/epochs/model_1_camera7.0040-0.0188.h5\n",
      "926/926 [==============================] - 12s 13ms/step - loss: 0.0189 - root_mean_squared_error: 0.1374 - val_loss: 0.0188 - val_root_mean_squared_error: 0.1373\n",
      "Epoch 41/100\n",
      "923/926 [============================>.] - ETA: 0s - loss: 0.0194 - root_mean_squared_error: 0.1392\n",
      "Epoch 00041: val_loss did not improve from 0.01885\n",
      "926/926 [==============================] - 11s 12ms/step - loss: 0.0194 - root_mean_squared_error: 0.1392 - val_loss: 0.0196 - val_root_mean_squared_error: 0.1402\n",
      "Epoch 42/100\n",
      "923/926 [============================>.] - ETA: 0s - loss: 0.0192 - root_mean_squared_error: 0.1386\n",
      "Epoch 00042: val_loss improved from 0.01885 to 0.01869, saving model to /content/drive/My Drive/epochs/model_1_camera7.0042-0.0187.h5\n",
      "926/926 [==============================] - 11s 12ms/step - loss: 0.0192 - root_mean_squared_error: 0.1386 - val_loss: 0.0187 - val_root_mean_squared_error: 0.1367\n",
      "Epoch 43/100\n",
      "923/926 [============================>.] - ETA: 0s - loss: 0.0182 - root_mean_squared_error: 0.1347\n",
      "Epoch 00043: val_loss did not improve from 0.01869\n",
      "926/926 [==============================] - 11s 12ms/step - loss: 0.0181 - root_mean_squared_error: 0.1347 - val_loss: 0.0191 - val_root_mean_squared_error: 0.1384\n",
      "Epoch 44/100\n",
      "925/926 [============================>.] - ETA: 0s - loss: 0.0184 - root_mean_squared_error: 0.1358\n",
      "Epoch 00044: val_loss improved from 0.01869 to 0.01810, saving model to /content/drive/My Drive/epochs/model_1_camera7.0044-0.0181.h5\n",
      "926/926 [==============================] - 11s 12ms/step - loss: 0.0184 - root_mean_squared_error: 0.1357 - val_loss: 0.0181 - val_root_mean_squared_error: 0.1345\n",
      "Epoch 45/100\n",
      "922/926 [============================>.] - ETA: 0s - loss: 0.0174 - root_mean_squared_error: 0.1318\n",
      "Epoch 00045: val_loss did not improve from 0.01810\n",
      "926/926 [==============================] - 11s 12ms/step - loss: 0.0173 - root_mean_squared_error: 0.1317 - val_loss: 0.0199 - val_root_mean_squared_error: 0.1410\n",
      "Epoch 46/100\n",
      "922/926 [============================>.] - ETA: 0s - loss: 0.0192 - root_mean_squared_error: 0.1387\n",
      "Epoch 00046: val_loss did not improve from 0.01810\n",
      "926/926 [==============================] - 11s 12ms/step - loss: 0.0192 - root_mean_squared_error: 0.1386 - val_loss: 0.0183 - val_root_mean_squared_error: 0.1352\n",
      "Epoch 47/100\n",
      "925/926 [============================>.] - ETA: 0s - loss: 0.0184 - root_mean_squared_error: 0.1355\n",
      "Epoch 00047: val_loss did not improve from 0.01810\n",
      "926/926 [==============================] - 11s 12ms/step - loss: 0.0184 - root_mean_squared_error: 0.1355 - val_loss: 0.0199 - val_root_mean_squared_error: 0.1411\n",
      "Epoch 48/100\n",
      "925/926 [============================>.] - ETA: 0s - loss: 0.0191 - root_mean_squared_error: 0.1381\n",
      "Epoch 00048: val_loss did not improve from 0.01810\n",
      "926/926 [==============================] - 11s 12ms/step - loss: 0.0191 - root_mean_squared_error: 0.1381 - val_loss: 0.0187 - val_root_mean_squared_error: 0.1366\n",
      "Epoch 49/100\n",
      "922/926 [============================>.] - ETA: 0s - loss: 0.0179 - root_mean_squared_error: 0.1339\n",
      "Epoch 00049: val_loss improved from 0.01810 to 0.01780, saving model to /content/drive/My Drive/epochs/model_1_camera7.0049-0.0178.h5\n",
      "926/926 [==============================] - 11s 12ms/step - loss: 0.0179 - root_mean_squared_error: 0.1338 - val_loss: 0.0178 - val_root_mean_squared_error: 0.1334\n",
      "Epoch 50/100\n",
      "923/926 [============================>.] - ETA: 0s - loss: 0.0189 - root_mean_squared_error: 0.1374\n",
      "Epoch 00050: val_loss did not improve from 0.01780\n",
      "926/926 [==============================] - 11s 12ms/step - loss: 0.0189 - root_mean_squared_error: 0.1373 - val_loss: 0.0192 - val_root_mean_squared_error: 0.1384\n",
      "Epoch 51/100\n",
      "925/926 [============================>.] - ETA: 0s - loss: 0.0178 - root_mean_squared_error: 0.1332\n",
      "Epoch 00051: val_loss did not improve from 0.01780\n",
      "926/926 [==============================] - 11s 12ms/step - loss: 0.0178 - root_mean_squared_error: 0.1333 - val_loss: 0.0188 - val_root_mean_squared_error: 0.1369\n",
      "Epoch 52/100\n",
      "924/926 [============================>.] - ETA: 0s - loss: 0.0178 - root_mean_squared_error: 0.1333\n",
      "Epoch 00052: val_loss did not improve from 0.01780\n",
      "926/926 [==============================] - 11s 12ms/step - loss: 0.0178 - root_mean_squared_error: 0.1334 - val_loss: 0.0186 - val_root_mean_squared_error: 0.1362\n",
      "Epoch 53/100\n",
      "925/926 [============================>.] - ETA: 0s - loss: 0.0177 - root_mean_squared_error: 0.1332\n",
      "Epoch 00053: val_loss did not improve from 0.01780\n",
      "926/926 [==============================] - 11s 12ms/step - loss: 0.0177 - root_mean_squared_error: 0.1331 - val_loss: 0.0185 - val_root_mean_squared_error: 0.1359\n",
      "Epoch 54/100\n",
      "926/926 [==============================] - ETA: 0s - loss: 0.0166 - root_mean_squared_error: 0.1290\n",
      "Epoch 00054: val_loss improved from 0.01780 to 0.01766, saving model to /content/drive/My Drive/epochs/model_1_camera7.0054-0.0177.h5\n",
      "926/926 [==============================] - 12s 12ms/step - loss: 0.0166 - root_mean_squared_error: 0.1290 - val_loss: 0.0177 - val_root_mean_squared_error: 0.1329\n",
      "Epoch 55/100\n",
      "923/926 [============================>.] - ETA: 0s - loss: 0.0176 - root_mean_squared_error: 0.1328\n",
      "Epoch 00055: val_loss did not improve from 0.01766\n",
      "926/926 [==============================] - 11s 12ms/step - loss: 0.0176 - root_mean_squared_error: 0.1327 - val_loss: 0.0187 - val_root_mean_squared_error: 0.1367\n",
      "Epoch 56/100\n",
      "922/926 [============================>.] - ETA: 0s - loss: 0.0169 - root_mean_squared_error: 0.1301\n",
      "Epoch 00056: val_loss did not improve from 0.01766\n",
      "926/926 [==============================] - 11s 12ms/step - loss: 0.0169 - root_mean_squared_error: 0.1302 - val_loss: 0.0180 - val_root_mean_squared_error: 0.1340\n",
      "Epoch 57/100\n",
      "926/926 [==============================] - ETA: 0s - loss: 0.0175 - root_mean_squared_error: 0.1323\n",
      "Epoch 00057: val_loss did not improve from 0.01766\n",
      "926/926 [==============================] - 11s 12ms/step - loss: 0.0175 - root_mean_squared_error: 0.1323 - val_loss: 0.0178 - val_root_mean_squared_error: 0.1333\n",
      "Epoch 58/100\n",
      "923/926 [============================>.] - ETA: 0s - loss: 0.0165 - root_mean_squared_error: 0.1283\n",
      "Epoch 00058: val_loss did not improve from 0.01766\n",
      "926/926 [==============================] - 11s 12ms/step - loss: 0.0165 - root_mean_squared_error: 0.1284 - val_loss: 0.0181 - val_root_mean_squared_error: 0.1344\n",
      "Epoch 59/100\n",
      "926/926 [==============================] - ETA: 0s - loss: 0.0174 - root_mean_squared_error: 0.1319\n",
      "Epoch 00059: val_loss did not improve from 0.01766\n",
      "926/926 [==============================] - 11s 12ms/step - loss: 0.0174 - root_mean_squared_error: 0.1319 - val_loss: 0.0177 - val_root_mean_squared_error: 0.1331\n",
      "Epoch 60/100\n",
      "926/926 [==============================] - ETA: 0s - loss: 0.0169 - root_mean_squared_error: 0.1301\n",
      "Epoch 00060: val_loss improved from 0.01766 to 0.01745, saving model to /content/drive/My Drive/epochs/model_1_camera7.0060-0.0175.h5\n",
      "926/926 [==============================] - 11s 12ms/step - loss: 0.0169 - root_mean_squared_error: 0.1301 - val_loss: 0.0175 - val_root_mean_squared_error: 0.1321\n",
      "Epoch 61/100\n",
      "924/926 [============================>.] - ETA: 0s - loss: 0.0159 - root_mean_squared_error: 0.1262\n",
      "Epoch 00061: val_loss did not improve from 0.01745\n",
      "926/926 [==============================] - 11s 12ms/step - loss: 0.0160 - root_mean_squared_error: 0.1263 - val_loss: 0.0183 - val_root_mean_squared_error: 0.1352\n",
      "Epoch 62/100\n",
      "925/926 [============================>.] - ETA: 0s - loss: 0.0162 - root_mean_squared_error: 0.1274\n",
      "Epoch 00062: val_loss did not improve from 0.01745\n",
      "926/926 [==============================] - 11s 12ms/step - loss: 0.0162 - root_mean_squared_error: 0.1275 - val_loss: 0.0179 - val_root_mean_squared_error: 0.1337\n",
      "Epoch 63/100\n",
      "924/926 [============================>.] - ETA: 0s - loss: 0.0161 - root_mean_squared_error: 0.1271\n",
      "Epoch 00063: val_loss improved from 0.01745 to 0.01718, saving model to /content/drive/My Drive/epochs/model_1_camera7.0063-0.0172.h5\n",
      "926/926 [==============================] - 11s 12ms/step - loss: 0.0161 - root_mean_squared_error: 0.1270 - val_loss: 0.0172 - val_root_mean_squared_error: 0.1311\n",
      "Epoch 64/100\n",
      "925/926 [============================>.] - ETA: 0s - loss: 0.0166 - root_mean_squared_error: 0.1290\n",
      "Epoch 00064: val_loss did not improve from 0.01718\n",
      "926/926 [==============================] - 11s 12ms/step - loss: 0.0166 - root_mean_squared_error: 0.1290 - val_loss: 0.0174 - val_root_mean_squared_error: 0.1320\n",
      "Epoch 65/100\n",
      "925/926 [============================>.] - ETA: 0s - loss: 0.0156 - root_mean_squared_error: 0.1248\n",
      "Epoch 00065: val_loss did not improve from 0.01718\n",
      "926/926 [==============================] - 11s 12ms/step - loss: 0.0156 - root_mean_squared_error: 0.1248 - val_loss: 0.0177 - val_root_mean_squared_error: 0.1332\n",
      "Epoch 66/100\n",
      "926/926 [==============================] - ETA: 0s - loss: 0.0163 - root_mean_squared_error: 0.1276\n",
      "Epoch 00066: val_loss did not improve from 0.01718\n",
      "926/926 [==============================] - 11s 12ms/step - loss: 0.0163 - root_mean_squared_error: 0.1276 - val_loss: 0.0172 - val_root_mean_squared_error: 0.1312\n",
      "Epoch 67/100\n",
      "925/926 [============================>.] - ETA: 0s - loss: 0.0163 - root_mean_squared_error: 0.1275\n",
      "Epoch 00067: val_loss did not improve from 0.01718\n",
      "926/926 [==============================] - 12s 13ms/step - loss: 0.0162 - root_mean_squared_error: 0.1275 - val_loss: 0.0183 - val_root_mean_squared_error: 0.1352\n",
      "Epoch 68/100\n",
      "925/926 [============================>.] - ETA: 0s - loss: 0.0166 - root_mean_squared_error: 0.1287\n",
      "Epoch 00068: val_loss did not improve from 0.01718\n",
      "926/926 [==============================] - 11s 12ms/step - loss: 0.0166 - root_mean_squared_error: 0.1287 - val_loss: 0.0175 - val_root_mean_squared_error: 0.1323\n",
      "Epoch 69/100\n",
      "922/926 [============================>.] - ETA: 0s - loss: 0.0160 - root_mean_squared_error: 0.1264\n",
      "Epoch 00069: val_loss did not improve from 0.01718\n",
      "926/926 [==============================] - 11s 12ms/step - loss: 0.0160 - root_mean_squared_error: 0.1265 - val_loss: 0.0174 - val_root_mean_squared_error: 0.1320\n",
      "Epoch 70/100\n",
      "924/926 [============================>.] - ETA: 0s - loss: 0.0158 - root_mean_squared_error: 0.1257\n",
      "Epoch 00070: val_loss did not improve from 0.01718\n",
      "926/926 [==============================] - 11s 12ms/step - loss: 0.0158 - root_mean_squared_error: 0.1256 - val_loss: 0.0183 - val_root_mean_squared_error: 0.1352\n",
      "Epoch 71/100\n",
      "924/926 [============================>.] - ETA: 0s - loss: 0.0164 - root_mean_squared_error: 0.1279\n",
      "Epoch 00071: val_loss did not improve from 0.01718\n",
      "926/926 [==============================] - 11s 12ms/step - loss: 0.0164 - root_mean_squared_error: 0.1279 - val_loss: 0.0174 - val_root_mean_squared_error: 0.1317\n",
      "Epoch 72/100\n",
      "923/926 [============================>.] - ETA: 0s - loss: 0.0163 - root_mean_squared_error: 0.1275\n",
      "Epoch 00072: val_loss did not improve from 0.01718\n",
      "926/926 [==============================] - 11s 12ms/step - loss: 0.0162 - root_mean_squared_error: 0.1274 - val_loss: 0.0174 - val_root_mean_squared_error: 0.1321\n",
      "Epoch 73/100\n",
      "923/926 [============================>.] - ETA: 0s - loss: 0.0156 - root_mean_squared_error: 0.1248\n",
      "Epoch 00073: val_loss did not improve from 0.01718\n",
      "926/926 [==============================] - 11s 12ms/step - loss: 0.0155 - root_mean_squared_error: 0.1247 - val_loss: 0.0172 - val_root_mean_squared_error: 0.1311\n",
      "Epoch 74/100\n",
      "924/926 [============================>.] - ETA: 0s - loss: 0.0156 - root_mean_squared_error: 0.1249\n",
      "Epoch 00074: val_loss improved from 0.01718 to 0.01686, saving model to /content/drive/My Drive/epochs/model_1_camera7.0074-0.0169.h5\n",
      "926/926 [==============================] - 11s 12ms/step - loss: 0.0156 - root_mean_squared_error: 0.1250 - val_loss: 0.0169 - val_root_mean_squared_error: 0.1299\n",
      "Epoch 75/100\n",
      "925/926 [============================>.] - ETA: 0s - loss: 0.0155 - root_mean_squared_error: 0.1244\n",
      "Epoch 00075: val_loss did not improve from 0.01686\n",
      "926/926 [==============================] - 11s 12ms/step - loss: 0.0156 - root_mean_squared_error: 0.1247 - val_loss: 0.0179 - val_root_mean_squared_error: 0.1338\n",
      "Epoch 76/100\n",
      "922/926 [============================>.] - ETA: 0s - loss: 0.0158 - root_mean_squared_error: 0.1256\n",
      "Epoch 00076: val_loss did not improve from 0.01686\n",
      "926/926 [==============================] - 11s 12ms/step - loss: 0.0158 - root_mean_squared_error: 0.1257 - val_loss: 0.0171 - val_root_mean_squared_error: 0.1306\n",
      "Epoch 77/100\n",
      "923/926 [============================>.] - ETA: 0s - loss: 0.0150 - root_mean_squared_error: 0.1225\n",
      "Epoch 00077: val_loss did not improve from 0.01686\n",
      "926/926 [==============================] - 11s 12ms/step - loss: 0.0150 - root_mean_squared_error: 0.1225 - val_loss: 0.0170 - val_root_mean_squared_error: 0.1303\n",
      "Epoch 78/100\n",
      "926/926 [==============================] - ETA: 0s - loss: 0.0158 - root_mean_squared_error: 0.1259\n",
      "Epoch 00078: val_loss did not improve from 0.01686\n",
      "926/926 [==============================] - 11s 12ms/step - loss: 0.0158 - root_mean_squared_error: 0.1259 - val_loss: 0.0173 - val_root_mean_squared_error: 0.1315\n",
      "Epoch 79/100\n",
      "923/926 [============================>.] - ETA: 0s - loss: 0.0149 - root_mean_squared_error: 0.1222\n",
      "Epoch 00079: val_loss did not improve from 0.01686\n",
      "926/926 [==============================] - 11s 12ms/step - loss: 0.0150 - root_mean_squared_error: 0.1223 - val_loss: 0.0173 - val_root_mean_squared_error: 0.1316\n",
      "Epoch 80/100\n",
      "926/926 [==============================] - ETA: 0s - loss: 0.0154 - root_mean_squared_error: 0.1240\n",
      "Epoch 00080: val_loss improved from 0.01686 to 0.01682, saving model to /content/drive/My Drive/epochs/model_1_camera7.0080-0.0168.h5\n",
      "926/926 [==============================] - 12s 12ms/step - loss: 0.0154 - root_mean_squared_error: 0.1240 - val_loss: 0.0168 - val_root_mean_squared_error: 0.1297\n",
      "Epoch 81/100\n",
      "926/926 [==============================] - ETA: 0s - loss: 0.0154 - root_mean_squared_error: 0.1240\n",
      "Epoch 00081: val_loss improved from 0.01682 to 0.01663, saving model to /content/drive/My Drive/epochs/model_1_camera7.0081-0.0166.h5\n",
      "926/926 [==============================] - 12s 13ms/step - loss: 0.0154 - root_mean_squared_error: 0.1240 - val_loss: 0.0166 - val_root_mean_squared_error: 0.1290\n",
      "Epoch 82/100\n",
      "924/926 [============================>.] - ETA: 0s - loss: 0.0152 - root_mean_squared_error: 0.1232\n",
      "Epoch 00082: val_loss did not improve from 0.01663\n",
      "926/926 [==============================] - 11s 12ms/step - loss: 0.0152 - root_mean_squared_error: 0.1231 - val_loss: 0.0169 - val_root_mean_squared_error: 0.1300\n",
      "Epoch 83/100\n",
      "923/926 [============================>.] - ETA: 0s - loss: 0.0155 - root_mean_squared_error: 0.1247\n",
      "Epoch 00083: val_loss did not improve from 0.01663\n",
      "926/926 [==============================] - 11s 12ms/step - loss: 0.0155 - root_mean_squared_error: 0.1246 - val_loss: 0.0179 - val_root_mean_squared_error: 0.1336\n",
      "Epoch 84/100\n",
      "924/926 [============================>.] - ETA: 0s - loss: 0.0159 - root_mean_squared_error: 0.1261\n",
      "Epoch 00084: val_loss did not improve from 0.01663\n",
      "926/926 [==============================] - 11s 12ms/step - loss: 0.0159 - root_mean_squared_error: 0.1261 - val_loss: 0.0171 - val_root_mean_squared_error: 0.1309\n",
      "Epoch 85/100\n",
      "925/926 [============================>.] - ETA: 0s - loss: 0.0155 - root_mean_squared_error: 0.1247\n",
      "Epoch 00085: val_loss did not improve from 0.01663\n",
      "926/926 [==============================] - 11s 12ms/step - loss: 0.0155 - root_mean_squared_error: 0.1247 - val_loss: 0.0170 - val_root_mean_squared_error: 0.1302\n",
      "Epoch 86/100\n",
      "923/926 [============================>.] - ETA: 0s - loss: 0.0152 - root_mean_squared_error: 0.1232\n",
      "Epoch 00086: val_loss improved from 0.01663 to 0.01604, saving model to /content/drive/My Drive/epochs/model_1_camera7.0086-0.0160.h5\n",
      "926/926 [==============================] - 11s 12ms/step - loss: 0.0152 - root_mean_squared_error: 0.1232 - val_loss: 0.0160 - val_root_mean_squared_error: 0.1267\n",
      "Epoch 87/100\n",
      "925/926 [============================>.] - ETA: 0s - loss: 0.0149 - root_mean_squared_error: 0.1222\n",
      "Epoch 00087: val_loss did not improve from 0.01604\n",
      "926/926 [==============================] - 11s 12ms/step - loss: 0.0149 - root_mean_squared_error: 0.1222 - val_loss: 0.0180 - val_root_mean_squared_error: 0.1342\n",
      "Epoch 88/100\n",
      "924/926 [============================>.] - ETA: 0s - loss: 0.0151 - root_mean_squared_error: 0.1229\n",
      "Epoch 00088: val_loss did not improve from 0.01604\n",
      "926/926 [==============================] - 11s 12ms/step - loss: 0.0151 - root_mean_squared_error: 0.1228 - val_loss: 0.0170 - val_root_mean_squared_error: 0.1303\n",
      "Epoch 89/100\n",
      "923/926 [============================>.] - ETA: 0s - loss: 0.0151 - root_mean_squared_error: 0.1227\n",
      "Epoch 00089: val_loss did not improve from 0.01604\n",
      "926/926 [==============================] - 11s 12ms/step - loss: 0.0150 - root_mean_squared_error: 0.1227 - val_loss: 0.0185 - val_root_mean_squared_error: 0.1360\n",
      "Epoch 90/100\n",
      "926/926 [==============================] - ETA: 0s - loss: 0.0151 - root_mean_squared_error: 0.1228\n",
      "Epoch 00090: val_loss did not improve from 0.01604\n",
      "926/926 [==============================] - 11s 12ms/step - loss: 0.0151 - root_mean_squared_error: 0.1228 - val_loss: 0.0168 - val_root_mean_squared_error: 0.1298\n",
      "Epoch 91/100\n",
      "923/926 [============================>.] - ETA: 0s - loss: 0.0150 - root_mean_squared_error: 0.1226\n",
      "Epoch 00091: val_loss did not improve from 0.01604\n",
      "926/926 [==============================] - 11s 12ms/step - loss: 0.0150 - root_mean_squared_error: 0.1226 - val_loss: 0.0176 - val_root_mean_squared_error: 0.1328\n",
      "Epoch 92/100\n",
      "925/926 [============================>.] - ETA: 0s - loss: 0.0164 - root_mean_squared_error: 0.1279\n",
      "Epoch 00092: val_loss did not improve from 0.01604\n",
      "926/926 [==============================] - 11s 12ms/step - loss: 0.0164 - root_mean_squared_error: 0.1279 - val_loss: 0.0186 - val_root_mean_squared_error: 0.1363\n",
      "Epoch 93/100\n",
      "922/926 [============================>.] - ETA: 0s - loss: 0.0148 - root_mean_squared_error: 0.1218\n",
      "Epoch 00093: val_loss did not improve from 0.01604\n",
      "926/926 [==============================] - 11s 12ms/step - loss: 0.0148 - root_mean_squared_error: 0.1217 - val_loss: 0.0167 - val_root_mean_squared_error: 0.1292\n",
      "Epoch 94/100\n",
      "924/926 [============================>.] - ETA: 0s - loss: 0.0145 - root_mean_squared_error: 0.1204\n",
      "Epoch 00094: val_loss did not improve from 0.01604\n",
      "926/926 [==============================] - 11s 12ms/step - loss: 0.0145 - root_mean_squared_error: 0.1205 - val_loss: 0.0169 - val_root_mean_squared_error: 0.1299\n",
      "Epoch 95/100\n",
      "926/926 [==============================] - ETA: 0s - loss: 0.0149 - root_mean_squared_error: 0.1223\n",
      "Epoch 00095: val_loss did not improve from 0.01604\n",
      "926/926 [==============================] - 11s 12ms/step - loss: 0.0149 - root_mean_squared_error: 0.1223 - val_loss: 0.0180 - val_root_mean_squared_error: 0.1340\n",
      "Epoch 96/100\n",
      "925/926 [============================>.] - ETA: 0s - loss: 0.0145 - root_mean_squared_error: 0.1203\n",
      "Epoch 00096: val_loss did not improve from 0.01604\n",
      "926/926 [==============================] - 11s 12ms/step - loss: 0.0145 - root_mean_squared_error: 0.1203 - val_loss: 0.0164 - val_root_mean_squared_error: 0.1279\n",
      "Epoch 97/100\n",
      "925/926 [============================>.] - ETA: 0s - loss: 0.0148 - root_mean_squared_error: 0.1218\n",
      "Epoch 00097: val_loss did not improve from 0.01604\n",
      "926/926 [==============================] - 11s 12ms/step - loss: 0.0148 - root_mean_squared_error: 0.1218 - val_loss: 0.0166 - val_root_mean_squared_error: 0.1288\n",
      "Epoch 98/100\n",
      "921/926 [============================>.] - ETA: 0s - loss: 0.0154 - root_mean_squared_error: 0.1243\n",
      "Epoch 00098: val_loss did not improve from 0.01604\n",
      "926/926 [==============================] - 11s 12ms/step - loss: 0.0154 - root_mean_squared_error: 0.1242 - val_loss: 0.0174 - val_root_mean_squared_error: 0.1320\n",
      "Epoch 99/100\n",
      "922/926 [============================>.] - ETA: 0s - loss: 0.0151 - root_mean_squared_error: 0.1229\n",
      "Epoch 00099: val_loss did not improve from 0.01604\n",
      "926/926 [==============================] - 11s 12ms/step - loss: 0.0152 - root_mean_squared_error: 0.1231 - val_loss: 0.0171 - val_root_mean_squared_error: 0.1309\n",
      "Epoch 100/100\n",
      "926/926 [==============================] - ETA: 0s - loss: 0.0145 - root_mean_squared_error: 0.1205\n",
      "Epoch 00100: val_loss did not improve from 0.01604\n",
      "926/926 [==============================] - 11s 12ms/step - loss: 0.0145 - root_mean_squared_error: 0.1205 - val_loss: 0.0176 - val_root_mean_squared_error: 0.1328\n"
     ]
    }
   ],
   "source": [
    "history = model.fit(X_train,\n",
    "                    y_train,\n",
    "                    batch_size=64,\n",
    "                    validation_data=(X_test, y_test),\n",
    "                    epochs=100,\n",
    "                    verbose=1,\n",
    "                    callbacks=callbacks_list)"
   ]
  },
  {
   "cell_type": "code",
   "execution_count": null,
   "metadata": {
    "colab": {},
    "colab_type": "code",
    "id": "iF_wqM0MfC5i"
   },
   "outputs": [],
   "source": [
    "model_1_camera7 = model_history('model_1_camera7')"
   ]
  },
  {
   "cell_type": "markdown",
   "metadata": {
    "colab": {},
    "colab_type": "code",
    "id": "7LWZHSQOfC5o"
   },
   "source": [
    "### Model 1 camera8"
   ]
  },
  {
   "cell_type": "code",
   "execution_count": null,
   "metadata": {
    "colab": {},
    "colab_type": "code",
    "id": "96PnLEU1fYmd"
   },
   "outputs": [],
   "source": [
    "model = load_model('/content/drive/My Drive/epochs/model_1_camera7.0086-0.0160.h5')"
   ]
  },
  {
   "cell_type": "code",
   "execution_count": null,
   "metadata": {
    "colab": {},
    "colab_type": "code",
    "id": "m46gH7BxfYmU"
   },
   "outputs": [],
   "source": [
    "camera8 = load('/content/drive/My Drive/datasets/camera8_cleaned.npz')\n",
    "log8 = pd.read_csv('/content/drive/My Drive/datasets/log8_cleaned.csv')"
   ]
  },
  {
   "cell_type": "code",
   "execution_count": null,
   "metadata": {
    "colab": {
     "base_uri": "https://localhost:8080/",
     "height": 34
    },
    "colab_type": "code",
    "executionInfo": {
     "elapsed": 80805,
     "status": "ok",
     "timestamp": 1596563023130,
     "user": {
      "displayName": "Tay Khim",
      "photoUrl": "",
      "userId": "00177423956135587504"
     },
     "user_tz": -480
    },
    "id": "g34B6cYgfYmW",
    "outputId": "d046c7a0-7539-4ddf-ab68-05477fe6eccd"
   },
   "outputs": [
    {
     "name": "stdout",
     "output_type": "stream",
     "text": [
      "Done\n"
     ]
    }
   ],
   "source": [
    "camera_processing(camera8, 'camera8')"
   ]
  },
  {
   "cell_type": "code",
   "execution_count": null,
   "metadata": {
    "colab": {
     "base_uri": "https://localhost:8080/",
     "height": 34
    },
    "colab_type": "code",
    "executionInfo": {
     "elapsed": 71576,
     "status": "ok",
     "timestamp": 1596563023131,
     "user": {
      "displayName": "Tay Khim",
      "photoUrl": "",
      "userId": "00177423956135587504"
     },
     "user_tz": -480
    },
    "id": "A0EZWO9WfYmX",
    "outputId": "5de785c5-62db-4f0a-e50b-1feec118b513"
   },
   "outputs": [
    {
     "name": "stdout",
     "output_type": "stream",
     "text": [
      "Done\n"
     ]
    }
   ],
   "source": [
    "log_processing(log8, 'log8')"
   ]
  },
  {
   "cell_type": "code",
   "execution_count": null,
   "metadata": {
    "colab": {
     "base_uri": "https://localhost:8080/",
     "height": 34
    },
    "colab_type": "code",
    "executionInfo": {
     "elapsed": 84971,
     "status": "ok",
     "timestamp": 1596563579750,
     "user": {
      "displayName": "Tay Khim",
      "photoUrl": "",
      "userId": "00177423956135587504"
     },
     "user_tz": -480
    },
    "id": "fSrpKV2efYmZ",
    "outputId": "9416ff42-2ebf-4f71-cf7a-0dc7c718832c"
   },
   "outputs": [
    {
     "name": "stdout",
     "output_type": "stream",
     "text": [
      "Done\n"
     ]
    }
   ],
   "source": [
    "train_split('camera8', 'log8')"
   ]
  },
  {
   "cell_type": "code",
   "execution_count": null,
   "metadata": {
    "colab": {},
    "colab_type": "code",
    "id": "hUABU74QfYmh"
   },
   "outputs": [],
   "source": [
    "X_train, X_test, y_train, y_test = train_load('camera8')"
   ]
  },
  {
   "cell_type": "code",
   "execution_count": null,
   "metadata": {
    "colab": {
     "base_uri": "https://localhost:8080/",
     "height": 34
    },
    "colab_type": "code",
    "executionInfo": {
     "elapsed": 20685,
     "status": "ok",
     "timestamp": 1596565666796,
     "user": {
      "displayName": "Tay Khim",
      "photoUrl": "",
      "userId": "00177423956135587504"
     },
     "user_tz": -480
    },
    "id": "Z2mXnyUFfYmj",
    "outputId": "3ddeeaa7-397e-4753-e36d-766130dbf660"
   },
   "outputs": [
    {
     "data": {
      "text/plain": [
       "((22188, 80, 160, 1), (5548, 80, 160, 1), (22188, 1), (5548, 1))"
      ]
     },
     "execution_count": 22,
     "metadata": {
      "tags": []
     },
     "output_type": "execute_result"
    }
   ],
   "source": [
    "X_train.shape, X_test.shape, y_train.shape, y_test.shape"
   ]
  },
  {
   "cell_type": "code",
   "execution_count": null,
   "metadata": {
    "colab": {},
    "colab_type": "code",
    "id": "F3UXNnGcfYmk"
   },
   "outputs": [],
   "source": [
    "filepath = \"/content/drive/My Drive/epochs/model_1_camera8.{epoch:04d}-{val_loss:.4f}.h5\"\n",
    "checkpoint = ModelCheckpoint(filepath, monitor='val_loss', verbose=1, save_best_only=True, mode='min')\n",
    "callbacks_list = [checkpoint]"
   ]
  },
  {
   "cell_type": "code",
   "execution_count": null,
   "metadata": {
    "colab": {
     "base_uri": "https://localhost:8080/",
     "height": 1000
    },
    "colab_type": "code",
    "collapsed": true,
    "executionInfo": {
     "elapsed": 448252,
     "status": "ok",
     "timestamp": 1596566100316,
     "user": {
      "displayName": "Tay Khim",
      "photoUrl": "",
      "userId": "00177423956135587504"
     },
     "user_tz": -480
    },
    "id": "PN0zBMsNfYmm",
    "outputId": "97b182ee-f621-4cd0-9e08-b843a33497b5"
   },
   "outputs": [
    {
     "name": "stdout",
     "output_type": "stream",
     "text": [
      "Epoch 1/100\n",
      "347/347 [==============================] - ETA: 0s - loss: 0.4021 - root_mean_squared_error: 0.6341\n",
      "Epoch 00001: val_loss improved from inf to 0.37399, saving model to /content/drive/My Drive/epochs/model_1_camera8.0001-0.3740.h5\n",
      "347/347 [==============================] - 5s 13ms/step - loss: 0.4021 - root_mean_squared_error: 0.6341 - val_loss: 0.3740 - val_root_mean_squared_error: 0.6116\n",
      "Epoch 2/100\n",
      "346/347 [============================>.] - ETA: 0s - loss: 0.4000 - root_mean_squared_error: 0.6325\n",
      "Epoch 00002: val_loss improved from 0.37399 to 0.37382, saving model to /content/drive/My Drive/epochs/model_1_camera8.0002-0.3738.h5\n",
      "347/347 [==============================] - 4s 13ms/step - loss: 0.3996 - root_mean_squared_error: 0.6322 - val_loss: 0.3738 - val_root_mean_squared_error: 0.6114\n",
      "Epoch 3/100\n",
      "345/347 [============================>.] - ETA: 0s - loss: 0.3940 - root_mean_squared_error: 0.6277\n",
      "Epoch 00003: val_loss did not improve from 0.37382\n",
      "347/347 [==============================] - 4s 12ms/step - loss: 0.3988 - root_mean_squared_error: 0.6315 - val_loss: 0.3741 - val_root_mean_squared_error: 0.6116\n",
      "Epoch 4/100\n",
      "346/347 [============================>.] - ETA: 0s - loss: 0.3984 - root_mean_squared_error: 0.6312\n",
      "Epoch 00004: val_loss improved from 0.37382 to 0.37071, saving model to /content/drive/My Drive/epochs/model_1_camera8.0004-0.3707.h5\n",
      "347/347 [==============================] - 4s 13ms/step - loss: 0.3978 - root_mean_squared_error: 0.6307 - val_loss: 0.3707 - val_root_mean_squared_error: 0.6089\n",
      "Epoch 5/100\n",
      "344/347 [============================>.] - ETA: 0s - loss: 0.3929 - root_mean_squared_error: 0.6268\n",
      "Epoch 00005: val_loss improved from 0.37071 to 0.36049, saving model to /content/drive/My Drive/epochs/model_1_camera8.0005-0.3605.h5\n",
      "347/347 [==============================] - 4s 13ms/step - loss: 0.3910 - root_mean_squared_error: 0.6253 - val_loss: 0.3605 - val_root_mean_squared_error: 0.6004\n",
      "Epoch 6/100\n",
      "343/347 [============================>.] - ETA: 0s - loss: 0.3859 - root_mean_squared_error: 0.6212\n",
      "Epoch 00006: val_loss improved from 0.36049 to 0.35717, saving model to /content/drive/My Drive/epochs/model_1_camera8.0006-0.3572.h5\n",
      "347/347 [==============================] - 4s 13ms/step - loss: 0.3842 - root_mean_squared_error: 0.6199 - val_loss: 0.3572 - val_root_mean_squared_error: 0.5976\n",
      "Epoch 7/100\n",
      "344/347 [============================>.] - ETA: 0s - loss: 0.3797 - root_mean_squared_error: 0.6162\n",
      "Epoch 00007: val_loss improved from 0.35717 to 0.35077, saving model to /content/drive/My Drive/epochs/model_1_camera8.0007-0.3508.h5\n",
      "347/347 [==============================] - 4s 13ms/step - loss: 0.3787 - root_mean_squared_error: 0.6154 - val_loss: 0.3508 - val_root_mean_squared_error: 0.5923\n",
      "Epoch 8/100\n",
      "344/347 [============================>.] - ETA: 0s - loss: 0.3751 - root_mean_squared_error: 0.6124\n",
      "Epoch 00008: val_loss improved from 0.35077 to 0.34966, saving model to /content/drive/My Drive/epochs/model_1_camera8.0008-0.3497.h5\n",
      "347/347 [==============================] - 4s 13ms/step - loss: 0.3751 - root_mean_squared_error: 0.6125 - val_loss: 0.3497 - val_root_mean_squared_error: 0.5913\n",
      "Epoch 9/100\n",
      "344/347 [============================>.] - ETA: 0s - loss: 0.3713 - root_mean_squared_error: 0.6094\n",
      "Epoch 00009: val_loss improved from 0.34966 to 0.34137, saving model to /content/drive/My Drive/epochs/model_1_camera8.0009-0.3414.h5\n",
      "347/347 [==============================] - 4s 13ms/step - loss: 0.3690 - root_mean_squared_error: 0.6074 - val_loss: 0.3414 - val_root_mean_squared_error: 0.5843\n",
      "Epoch 10/100\n",
      "346/347 [============================>.] - ETA: 0s - loss: 0.3591 - root_mean_squared_error: 0.5993\n",
      "Epoch 00010: val_loss improved from 0.34137 to 0.34091, saving model to /content/drive/My Drive/epochs/model_1_camera8.0010-0.3409.h5\n",
      "347/347 [==============================] - 4s 13ms/step - loss: 0.3587 - root_mean_squared_error: 0.5989 - val_loss: 0.3409 - val_root_mean_squared_error: 0.5839\n",
      "Epoch 11/100\n",
      "347/347 [==============================] - ETA: 0s - loss: 0.3575 - root_mean_squared_error: 0.5979\n",
      "Epoch 00011: val_loss did not improve from 0.34091\n",
      "347/347 [==============================] - 4s 12ms/step - loss: 0.3575 - root_mean_squared_error: 0.5979 - val_loss: 0.3413 - val_root_mean_squared_error: 0.5842\n",
      "Epoch 12/100\n",
      "344/347 [============================>.] - ETA: 0s - loss: 0.3510 - root_mean_squared_error: 0.5924\n",
      "Epoch 00012: val_loss improved from 0.34091 to 0.33265, saving model to /content/drive/My Drive/epochs/model_1_camera8.0012-0.3326.h5\n",
      "347/347 [==============================] - 4s 13ms/step - loss: 0.3531 - root_mean_squared_error: 0.5942 - val_loss: 0.3326 - val_root_mean_squared_error: 0.5768\n",
      "Epoch 13/100\n",
      "346/347 [============================>.] - ETA: 0s - loss: 0.3476 - root_mean_squared_error: 0.5896\n",
      "Epoch 00013: val_loss improved from 0.33265 to 0.32904, saving model to /content/drive/My Drive/epochs/model_1_camera8.0013-0.3290.h5\n",
      "347/347 [==============================] - 4s 13ms/step - loss: 0.3470 - root_mean_squared_error: 0.5890 - val_loss: 0.3290 - val_root_mean_squared_error: 0.5736\n",
      "Epoch 14/100\n",
      "344/347 [============================>.] - ETA: 0s - loss: 0.3382 - root_mean_squared_error: 0.5815\n",
      "Epoch 00014: val_loss improved from 0.32904 to 0.31728, saving model to /content/drive/My Drive/epochs/model_1_camera8.0014-0.3173.h5\n",
      "347/347 [==============================] - 5s 13ms/step - loss: 0.3396 - root_mean_squared_error: 0.5827 - val_loss: 0.3173 - val_root_mean_squared_error: 0.5633\n",
      "Epoch 15/100\n",
      "347/347 [==============================] - ETA: 0s - loss: 0.3354 - root_mean_squared_error: 0.5792\n",
      "Epoch 00015: val_loss improved from 0.31728 to 0.31207, saving model to /content/drive/My Drive/epochs/model_1_camera8.0015-0.3121.h5\n",
      "347/347 [==============================] - 4s 13ms/step - loss: 0.3354 - root_mean_squared_error: 0.5792 - val_loss: 0.3121 - val_root_mean_squared_error: 0.5586\n",
      "Epoch 16/100\n",
      "346/347 [============================>.] - ETA: 0s - loss: 0.3153 - root_mean_squared_error: 0.5615\n",
      "Epoch 00016: val_loss improved from 0.31207 to 0.30275, saving model to /content/drive/My Drive/epochs/model_1_camera8.0016-0.3027.h5\n",
      "347/347 [==============================] - 4s 13ms/step - loss: 0.3195 - root_mean_squared_error: 0.5652 - val_loss: 0.3027 - val_root_mean_squared_error: 0.5502\n",
      "Epoch 17/100\n",
      "347/347 [==============================] - ETA: 0s - loss: 0.3110 - root_mean_squared_error: 0.5577\n",
      "Epoch 00017: val_loss improved from 0.30275 to 0.29522, saving model to /content/drive/My Drive/epochs/model_1_camera8.0017-0.2952.h5\n",
      "347/347 [==============================] - 4s 13ms/step - loss: 0.3110 - root_mean_squared_error: 0.5577 - val_loss: 0.2952 - val_root_mean_squared_error: 0.5433\n",
      "Epoch 18/100\n",
      "345/347 [============================>.] - ETA: 0s - loss: 0.3115 - root_mean_squared_error: 0.5581\n",
      "Epoch 00018: val_loss improved from 0.29522 to 0.29449, saving model to /content/drive/My Drive/epochs/model_1_camera8.0018-0.2945.h5\n",
      "347/347 [==============================] - 4s 13ms/step - loss: 0.3112 - root_mean_squared_error: 0.5579 - val_loss: 0.2945 - val_root_mean_squared_error: 0.5427\n",
      "Epoch 19/100\n",
      "345/347 [============================>.] - ETA: 0s - loss: 0.2863 - root_mean_squared_error: 0.5351\n",
      "Epoch 00019: val_loss improved from 0.29449 to 0.27815, saving model to /content/drive/My Drive/epochs/model_1_camera8.0019-0.2782.h5\n",
      "347/347 [==============================] - 4s 13ms/step - loss: 0.2884 - root_mean_squared_error: 0.5371 - val_loss: 0.2782 - val_root_mean_squared_error: 0.5274\n",
      "Epoch 20/100\n",
      "346/347 [============================>.] - ETA: 0s - loss: 0.2887 - root_mean_squared_error: 0.5373\n",
      "Epoch 00020: val_loss improved from 0.27815 to 0.27676, saving model to /content/drive/My Drive/epochs/model_1_camera8.0020-0.2768.h5\n",
      "347/347 [==============================] - 4s 13ms/step - loss: 0.2884 - root_mean_squared_error: 0.5370 - val_loss: 0.2768 - val_root_mean_squared_error: 0.5261\n",
      "Epoch 21/100\n",
      "346/347 [============================>.] - ETA: 0s - loss: 0.2884 - root_mean_squared_error: 0.5370\n",
      "Epoch 00021: val_loss improved from 0.27676 to 0.27506, saving model to /content/drive/My Drive/epochs/model_1_camera8.0021-0.2751.h5\n",
      "347/347 [==============================] - 4s 13ms/step - loss: 0.2895 - root_mean_squared_error: 0.5380 - val_loss: 0.2751 - val_root_mean_squared_error: 0.5245\n",
      "Epoch 22/100\n",
      "343/347 [============================>.] - ETA: 0s - loss: 0.2857 - root_mean_squared_error: 0.5345\n",
      "Epoch 00022: val_loss did not improve from 0.27506\n",
      "347/347 [==============================] - 4s 12ms/step - loss: 0.2836 - root_mean_squared_error: 0.5326 - val_loss: 0.2791 - val_root_mean_squared_error: 0.5283\n",
      "Epoch 23/100\n",
      "346/347 [============================>.] - ETA: 0s - loss: 0.2762 - root_mean_squared_error: 0.5256\n",
      "Epoch 00023: val_loss improved from 0.27506 to 0.26293, saving model to /content/drive/My Drive/epochs/model_1_camera8.0023-0.2629.h5\n",
      "347/347 [==============================] - 4s 13ms/step - loss: 0.2757 - root_mean_squared_error: 0.5251 - val_loss: 0.2629 - val_root_mean_squared_error: 0.5128\n",
      "Epoch 24/100\n",
      "343/347 [============================>.] - ETA: 0s - loss: 0.2827 - root_mean_squared_error: 0.5317\n",
      "Epoch 00024: val_loss did not improve from 0.26293\n",
      "347/347 [==============================] - 4s 12ms/step - loss: 0.2817 - root_mean_squared_error: 0.5307 - val_loss: 0.2633 - val_root_mean_squared_error: 0.5131\n",
      "Epoch 25/100\n",
      "346/347 [============================>.] - ETA: 0s - loss: 0.2829 - root_mean_squared_error: 0.5319\n",
      "Epoch 00025: val_loss improved from 0.26293 to 0.25978, saving model to /content/drive/My Drive/epochs/model_1_camera8.0025-0.2598.h5\n",
      "347/347 [==============================] - 4s 12ms/step - loss: 0.2839 - root_mean_squared_error: 0.5328 - val_loss: 0.2598 - val_root_mean_squared_error: 0.5097\n",
      "Epoch 26/100\n",
      "343/347 [============================>.] - ETA: 0s - loss: 0.2997 - root_mean_squared_error: 0.5474\n",
      "Epoch 00026: val_loss did not improve from 0.25978\n",
      "347/347 [==============================] - 4s 12ms/step - loss: 0.2972 - root_mean_squared_error: 0.5452 - val_loss: 0.2679 - val_root_mean_squared_error: 0.5176\n",
      "Epoch 27/100\n",
      "344/347 [============================>.] - ETA: 0s - loss: 0.2738 - root_mean_squared_error: 0.5233\n",
      "Epoch 00027: val_loss did not improve from 0.25978\n",
      "347/347 [==============================] - 4s 12ms/step - loss: 0.2746 - root_mean_squared_error: 0.5240 - val_loss: 0.2606 - val_root_mean_squared_error: 0.5105\n",
      "Epoch 28/100\n",
      "345/347 [============================>.] - ETA: 0s - loss: 0.2686 - root_mean_squared_error: 0.5182\n",
      "Epoch 00028: val_loss improved from 0.25978 to 0.25416, saving model to /content/drive/My Drive/epochs/model_1_camera8.0028-0.2542.h5\n",
      "347/347 [==============================] - 4s 12ms/step - loss: 0.2687 - root_mean_squared_error: 0.5184 - val_loss: 0.2542 - val_root_mean_squared_error: 0.5041\n",
      "Epoch 29/100\n",
      "345/347 [============================>.] - ETA: 0s - loss: 0.2718 - root_mean_squared_error: 0.5213\n",
      "Epoch 00029: val_loss did not improve from 0.25416\n",
      "347/347 [==============================] - 4s 12ms/step - loss: 0.2707 - root_mean_squared_error: 0.5203 - val_loss: 0.2545 - val_root_mean_squared_error: 0.5045\n",
      "Epoch 30/100\n",
      "346/347 [============================>.] - ETA: 0s - loss: 0.2613 - root_mean_squared_error: 0.5112\n",
      "Epoch 00030: val_loss improved from 0.25416 to 0.25335, saving model to /content/drive/My Drive/epochs/model_1_camera8.0030-0.2533.h5\n",
      "347/347 [==============================] - 5s 13ms/step - loss: 0.2619 - root_mean_squared_error: 0.5118 - val_loss: 0.2533 - val_root_mean_squared_error: 0.5033\n",
      "Epoch 31/100\n",
      "344/347 [============================>.] - ETA: 0s - loss: 0.2649 - root_mean_squared_error: 0.5147\n",
      "Epoch 00031: val_loss improved from 0.25335 to 0.25178, saving model to /content/drive/My Drive/epochs/model_1_camera8.0031-0.2518.h5\n",
      "347/347 [==============================] - 5s 13ms/step - loss: 0.2636 - root_mean_squared_error: 0.5135 - val_loss: 0.2518 - val_root_mean_squared_error: 0.5018\n",
      "Epoch 32/100\n",
      "346/347 [============================>.] - ETA: 0s - loss: 0.2431 - root_mean_squared_error: 0.4930\n",
      "Epoch 00032: val_loss improved from 0.25178 to 0.24621, saving model to /content/drive/My Drive/epochs/model_1_camera8.0032-0.2462.h5\n",
      "347/347 [==============================] - 4s 13ms/step - loss: 0.2427 - root_mean_squared_error: 0.4927 - val_loss: 0.2462 - val_root_mean_squared_error: 0.4962\n",
      "Epoch 33/100\n",
      "344/347 [============================>.] - ETA: 0s - loss: 0.2469 - root_mean_squared_error: 0.4969\n",
      "Epoch 00033: val_loss improved from 0.24621 to 0.23896, saving model to /content/drive/My Drive/epochs/model_1_camera8.0033-0.2390.h5\n",
      "347/347 [==============================] - 4s 13ms/step - loss: 0.2453 - root_mean_squared_error: 0.4952 - val_loss: 0.2390 - val_root_mean_squared_error: 0.4888\n",
      "Epoch 34/100\n",
      "344/347 [============================>.] - ETA: 0s - loss: 0.2467 - root_mean_squared_error: 0.4967\n",
      "Epoch 00034: val_loss did not improve from 0.23896\n",
      "347/347 [==============================] - 4s 12ms/step - loss: 0.2461 - root_mean_squared_error: 0.4961 - val_loss: 0.2416 - val_root_mean_squared_error: 0.4915\n",
      "Epoch 35/100\n",
      "344/347 [============================>.] - ETA: 0s - loss: 0.2481 - root_mean_squared_error: 0.4981\n",
      "Epoch 00035: val_loss improved from 0.23896 to 0.23360, saving model to /content/drive/My Drive/epochs/model_1_camera8.0035-0.2336.h5\n",
      "347/347 [==============================] - 4s 13ms/step - loss: 0.2474 - root_mean_squared_error: 0.4974 - val_loss: 0.2336 - val_root_mean_squared_error: 0.4833\n",
      "Epoch 36/100\n",
      "344/347 [============================>.] - ETA: 0s - loss: 0.2503 - root_mean_squared_error: 0.5003\n",
      "Epoch 00036: val_loss did not improve from 0.23360\n",
      "347/347 [==============================] - 4s 12ms/step - loss: 0.2509 - root_mean_squared_error: 0.5009 - val_loss: 0.2360 - val_root_mean_squared_error: 0.4858\n",
      "Epoch 37/100\n",
      "346/347 [============================>.] - ETA: 0s - loss: 0.2513 - root_mean_squared_error: 0.5013\n",
      "Epoch 00037: val_loss did not improve from 0.23360\n",
      "347/347 [==============================] - 4s 12ms/step - loss: 0.2509 - root_mean_squared_error: 0.5009 - val_loss: 0.2462 - val_root_mean_squared_error: 0.4962\n",
      "Epoch 38/100\n",
      "343/347 [============================>.] - ETA: 0s - loss: 0.2443 - root_mean_squared_error: 0.4943\n",
      "Epoch 00038: val_loss did not improve from 0.23360\n",
      "347/347 [==============================] - 4s 12ms/step - loss: 0.2432 - root_mean_squared_error: 0.4931 - val_loss: 0.2356 - val_root_mean_squared_error: 0.4853\n",
      "Epoch 39/100\n",
      "345/347 [============================>.] - ETA: 0s - loss: 0.2308 - root_mean_squared_error: 0.4805\n",
      "Epoch 00039: val_loss did not improve from 0.23360\n",
      "347/347 [==============================] - 4s 12ms/step - loss: 0.2313 - root_mean_squared_error: 0.4809 - val_loss: 0.2389 - val_root_mean_squared_error: 0.4888\n",
      "Epoch 40/100\n",
      "346/347 [============================>.] - ETA: 0s - loss: 0.2439 - root_mean_squared_error: 0.4939\n",
      "Epoch 00040: val_loss improved from 0.23360 to 0.22364, saving model to /content/drive/My Drive/epochs/model_1_camera8.0040-0.2236.h5\n",
      "347/347 [==============================] - 4s 13ms/step - loss: 0.2435 - root_mean_squared_error: 0.4934 - val_loss: 0.2236 - val_root_mean_squared_error: 0.4729\n",
      "Epoch 41/100\n",
      "344/347 [============================>.] - ETA: 0s - loss: 0.2320 - root_mean_squared_error: 0.4816\n",
      "Epoch 00041: val_loss did not improve from 0.22364\n",
      "347/347 [==============================] - 4s 12ms/step - loss: 0.2311 - root_mean_squared_error: 0.4807 - val_loss: 0.2293 - val_root_mean_squared_error: 0.4788\n",
      "Epoch 42/100\n",
      "346/347 [============================>.] - ETA: 0s - loss: 0.2197 - root_mean_squared_error: 0.4687\n",
      "Epoch 00042: val_loss improved from 0.22364 to 0.22004, saving model to /content/drive/My Drive/epochs/model_1_camera8.0042-0.2200.h5\n",
      "347/347 [==============================] - 4s 13ms/step - loss: 0.2207 - root_mean_squared_error: 0.4698 - val_loss: 0.2200 - val_root_mean_squared_error: 0.4691\n",
      "Epoch 43/100\n",
      "344/347 [============================>.] - ETA: 0s - loss: 0.2154 - root_mean_squared_error: 0.4642\n",
      "Epoch 00043: val_loss improved from 0.22004 to 0.21808, saving model to /content/drive/My Drive/epochs/model_1_camera8.0043-0.2181.h5\n",
      "347/347 [==============================] - 4s 13ms/step - loss: 0.2161 - root_mean_squared_error: 0.4649 - val_loss: 0.2181 - val_root_mean_squared_error: 0.4670\n",
      "Epoch 44/100\n",
      "345/347 [============================>.] - ETA: 0s - loss: 0.2332 - root_mean_squared_error: 0.4829\n",
      "Epoch 00044: val_loss did not improve from 0.21808\n",
      "347/347 [==============================] - 4s 12ms/step - loss: 0.2323 - root_mean_squared_error: 0.4820 - val_loss: 0.2229 - val_root_mean_squared_error: 0.4722\n",
      "Epoch 45/100\n",
      "344/347 [============================>.] - ETA: 0s - loss: 0.2151 - root_mean_squared_error: 0.4638\n",
      "Epoch 00045: val_loss improved from 0.21808 to 0.21658, saving model to /content/drive/My Drive/epochs/model_1_camera8.0045-0.2166.h5\n",
      "347/347 [==============================] - 4s 13ms/step - loss: 0.2161 - root_mean_squared_error: 0.4648 - val_loss: 0.2166 - val_root_mean_squared_error: 0.4654\n",
      "Epoch 46/100\n",
      "345/347 [============================>.] - ETA: 0s - loss: 0.2367 - root_mean_squared_error: 0.4865\n",
      "Epoch 00046: val_loss improved from 0.21658 to 0.21435, saving model to /content/drive/My Drive/epochs/model_1_camera8.0046-0.2143.h5\n",
      "347/347 [==============================] - 4s 13ms/step - loss: 0.2402 - root_mean_squared_error: 0.4901 - val_loss: 0.2143 - val_root_mean_squared_error: 0.4630\n",
      "Epoch 47/100\n",
      "345/347 [============================>.] - ETA: 0s - loss: 0.2371 - root_mean_squared_error: 0.4869\n",
      "Epoch 00047: val_loss did not improve from 0.21435\n",
      "347/347 [==============================] - 4s 12ms/step - loss: 0.2364 - root_mean_squared_error: 0.4862 - val_loss: 0.2152 - val_root_mean_squared_error: 0.4639\n",
      "Epoch 48/100\n",
      "346/347 [============================>.] - ETA: 0s - loss: 0.2170 - root_mean_squared_error: 0.4659\n",
      "Epoch 00048: val_loss improved from 0.21435 to 0.20906, saving model to /content/drive/My Drive/epochs/model_1_camera8.0048-0.2091.h5\n",
      "347/347 [==============================] - 4s 13ms/step - loss: 0.2167 - root_mean_squared_error: 0.4655 - val_loss: 0.2091 - val_root_mean_squared_error: 0.4572\n",
      "Epoch 49/100\n",
      "345/347 [============================>.] - ETA: 0s - loss: 0.2241 - root_mean_squared_error: 0.4733\n",
      "Epoch 00049: val_loss did not improve from 0.20906\n",
      "347/347 [==============================] - 4s 12ms/step - loss: 0.2233 - root_mean_squared_error: 0.4725 - val_loss: 0.2109 - val_root_mean_squared_error: 0.4593\n",
      "Epoch 50/100\n",
      "344/347 [============================>.] - ETA: 0s - loss: 0.2122 - root_mean_squared_error: 0.4606\n",
      "Epoch 00050: val_loss improved from 0.20906 to 0.20707, saving model to /content/drive/My Drive/epochs/model_1_camera8.0050-0.2071.h5\n",
      "347/347 [==============================] - 4s 13ms/step - loss: 0.2130 - root_mean_squared_error: 0.4615 - val_loss: 0.2071 - val_root_mean_squared_error: 0.4550\n",
      "Epoch 51/100\n",
      "346/347 [============================>.] - ETA: 0s - loss: 0.2139 - root_mean_squared_error: 0.4625\n",
      "Epoch 00051: val_loss improved from 0.20707 to 0.20518, saving model to /content/drive/My Drive/epochs/model_1_camera8.0051-0.2052.h5\n",
      "347/347 [==============================] - 4s 13ms/step - loss: 0.2136 - root_mean_squared_error: 0.4621 - val_loss: 0.2052 - val_root_mean_squared_error: 0.4530\n",
      "Epoch 52/100\n",
      "344/347 [============================>.] - ETA: 0s - loss: 0.2202 - root_mean_squared_error: 0.4692\n",
      "Epoch 00052: val_loss improved from 0.20518 to 0.20421, saving model to /content/drive/My Drive/epochs/model_1_camera8.0052-0.2042.h5\n",
      "347/347 [==============================] - 4s 13ms/step - loss: 0.2195 - root_mean_squared_error: 0.4685 - val_loss: 0.2042 - val_root_mean_squared_error: 0.4519\n",
      "Epoch 53/100\n",
      "343/347 [============================>.] - ETA: 0s - loss: 0.2053 - root_mean_squared_error: 0.4531\n",
      "Epoch 00053: val_loss improved from 0.20421 to 0.19919, saving model to /content/drive/My Drive/epochs/model_1_camera8.0053-0.1992.h5\n",
      "347/347 [==============================] - 4s 13ms/step - loss: 0.2081 - root_mean_squared_error: 0.4562 - val_loss: 0.1992 - val_root_mean_squared_error: 0.4463\n",
      "Epoch 54/100\n",
      "346/347 [============================>.] - ETA: 0s - loss: 0.2044 - root_mean_squared_error: 0.4521\n",
      "Epoch 00054: val_loss improved from 0.19919 to 0.19830, saving model to /content/drive/My Drive/epochs/model_1_camera8.0054-0.1983.h5\n",
      "347/347 [==============================] - 4s 13ms/step - loss: 0.2046 - root_mean_squared_error: 0.4523 - val_loss: 0.1983 - val_root_mean_squared_error: 0.4453\n",
      "Epoch 55/100\n",
      "343/347 [============================>.] - ETA: 0s - loss: 0.2024 - root_mean_squared_error: 0.4499\n",
      "Epoch 00055: val_loss improved from 0.19830 to 0.19429, saving model to /content/drive/My Drive/epochs/model_1_camera8.0055-0.1943.h5\n",
      "347/347 [==============================] - 4s 13ms/step - loss: 0.2021 - root_mean_squared_error: 0.4495 - val_loss: 0.1943 - val_root_mean_squared_error: 0.4408\n",
      "Epoch 56/100\n",
      "346/347 [============================>.] - ETA: 0s - loss: 0.2033 - root_mean_squared_error: 0.4509\n",
      "Epoch 00056: val_loss improved from 0.19429 to 0.18442, saving model to /content/drive/My Drive/epochs/model_1_camera8.0056-0.1844.h5\n",
      "347/347 [==============================] - 4s 13ms/step - loss: 0.2030 - root_mean_squared_error: 0.4506 - val_loss: 0.1844 - val_root_mean_squared_error: 0.4294\n",
      "Epoch 57/100\n",
      "345/347 [============================>.] - ETA: 0s - loss: 0.2032 - root_mean_squared_error: 0.4508\n",
      "Epoch 00057: val_loss improved from 0.18442 to 0.18085, saving model to /content/drive/My Drive/epochs/model_1_camera8.0057-0.1809.h5\n",
      "347/347 [==============================] - 4s 13ms/step - loss: 0.2029 - root_mean_squared_error: 0.4504 - val_loss: 0.1809 - val_root_mean_squared_error: 0.4253\n",
      "Epoch 58/100\n",
      "345/347 [============================>.] - ETA: 0s - loss: 0.1861 - root_mean_squared_error: 0.4314\n",
      "Epoch 00058: val_loss did not improve from 0.18085\n",
      "347/347 [==============================] - 4s 12ms/step - loss: 0.1859 - root_mean_squared_error: 0.4312 - val_loss: 0.1811 - val_root_mean_squared_error: 0.4255\n",
      "Epoch 59/100\n",
      "344/347 [============================>.] - ETA: 0s - loss: 0.1883 - root_mean_squared_error: 0.4339\n",
      "Epoch 00059: val_loss improved from 0.18085 to 0.17831, saving model to /content/drive/My Drive/epochs/model_1_camera8.0059-0.1783.h5\n",
      "347/347 [==============================] - 4s 13ms/step - loss: 0.1877 - root_mean_squared_error: 0.4332 - val_loss: 0.1783 - val_root_mean_squared_error: 0.4223\n",
      "Epoch 60/100\n",
      "343/347 [============================>.] - ETA: 0s - loss: 0.1867 - root_mean_squared_error: 0.4321\n",
      "Epoch 00060: val_loss improved from 0.17831 to 0.17163, saving model to /content/drive/My Drive/epochs/model_1_camera8.0060-0.1716.h5\n",
      "347/347 [==============================] - 4s 13ms/step - loss: 0.1901 - root_mean_squared_error: 0.4360 - val_loss: 0.1716 - val_root_mean_squared_error: 0.4143\n",
      "Epoch 61/100\n",
      "344/347 [============================>.] - ETA: 0s - loss: 0.1836 - root_mean_squared_error: 0.4285\n",
      "Epoch 00061: val_loss did not improve from 0.17163\n",
      "347/347 [==============================] - 4s 12ms/step - loss: 0.1836 - root_mean_squared_error: 0.4284 - val_loss: 0.1766 - val_root_mean_squared_error: 0.4202\n",
      "Epoch 62/100\n",
      "342/347 [============================>.] - ETA: 0s - loss: 0.1797 - root_mean_squared_error: 0.4239\n",
      "Epoch 00062: val_loss did not improve from 0.17163\n",
      "347/347 [==============================] - 4s 12ms/step - loss: 0.1789 - root_mean_squared_error: 0.4230 - val_loss: 0.1757 - val_root_mean_squared_error: 0.4191\n",
      "Epoch 63/100\n",
      "346/347 [============================>.] - ETA: 0s - loss: 0.1943 - root_mean_squared_error: 0.4408\n",
      "Epoch 00063: val_loss did not improve from 0.17163\n",
      "347/347 [==============================] - 4s 12ms/step - loss: 0.1943 - root_mean_squared_error: 0.4408 - val_loss: 0.1722 - val_root_mean_squared_error: 0.4150\n",
      "Epoch 64/100\n",
      "345/347 [============================>.] - ETA: 0s - loss: 0.1792 - root_mean_squared_error: 0.4233\n",
      "Epoch 00064: val_loss did not improve from 0.17163\n",
      "347/347 [==============================] - 4s 12ms/step - loss: 0.1789 - root_mean_squared_error: 0.4229 - val_loss: 0.1729 - val_root_mean_squared_error: 0.4158\n",
      "Epoch 65/100\n",
      "345/347 [============================>.] - ETA: 0s - loss: 0.1840 - root_mean_squared_error: 0.4289\n",
      "Epoch 00065: val_loss improved from 0.17163 to 0.16889, saving model to /content/drive/My Drive/epochs/model_1_camera8.0065-0.1689.h5\n",
      "347/347 [==============================] - 4s 13ms/step - loss: 0.1844 - root_mean_squared_error: 0.4294 - val_loss: 0.1689 - val_root_mean_squared_error: 0.4110\n",
      "Epoch 66/100\n",
      "346/347 [============================>.] - ETA: 0s - loss: 0.1757 - root_mean_squared_error: 0.4192\n",
      "Epoch 00066: val_loss improved from 0.16889 to 0.16385, saving model to /content/drive/My Drive/epochs/model_1_camera8.0066-0.1638.h5\n",
      "347/347 [==============================] - 4s 13ms/step - loss: 0.1754 - root_mean_squared_error: 0.4188 - val_loss: 0.1638 - val_root_mean_squared_error: 0.4048\n",
      "Epoch 67/100\n",
      "346/347 [============================>.] - ETA: 0s - loss: 0.1643 - root_mean_squared_error: 0.4054\n",
      "Epoch 00067: val_loss improved from 0.16385 to 0.16190, saving model to /content/drive/My Drive/epochs/model_1_camera8.0067-0.1619.h5\n",
      "347/347 [==============================] - 4s 13ms/step - loss: 0.1661 - root_mean_squared_error: 0.4075 - val_loss: 0.1619 - val_root_mean_squared_error: 0.4024\n",
      "Epoch 68/100\n",
      "344/347 [============================>.] - ETA: 0s - loss: 0.1809 - root_mean_squared_error: 0.4254\n",
      "Epoch 00068: val_loss did not improve from 0.16190\n",
      "347/347 [==============================] - 4s 12ms/step - loss: 0.1806 - root_mean_squared_error: 0.4250 - val_loss: 0.1654 - val_root_mean_squared_error: 0.4067\n",
      "Epoch 69/100\n",
      "347/347 [==============================] - ETA: 0s - loss: 0.1668 - root_mean_squared_error: 0.4084\n",
      "Epoch 00069: val_loss did not improve from 0.16190\n",
      "347/347 [==============================] - 4s 12ms/step - loss: 0.1668 - root_mean_squared_error: 0.4084 - val_loss: 0.1644 - val_root_mean_squared_error: 0.4055\n",
      "Epoch 70/100\n",
      "344/347 [============================>.] - ETA: 0s - loss: 0.1624 - root_mean_squared_error: 0.4030\n",
      "Epoch 00070: val_loss improved from 0.16190 to 0.15746, saving model to /content/drive/My Drive/epochs/model_1_camera8.0070-0.1575.h5\n",
      "347/347 [==============================] - 4s 13ms/step - loss: 0.1636 - root_mean_squared_error: 0.4044 - val_loss: 0.1575 - val_root_mean_squared_error: 0.3968\n",
      "Epoch 71/100\n",
      "344/347 [============================>.] - ETA: 0s - loss: 0.1623 - root_mean_squared_error: 0.4029\n",
      "Epoch 00071: val_loss improved from 0.15746 to 0.15345, saving model to /content/drive/My Drive/epochs/model_1_camera8.0071-0.1535.h5\n",
      "347/347 [==============================] - 4s 13ms/step - loss: 0.1617 - root_mean_squared_error: 0.4022 - val_loss: 0.1535 - val_root_mean_squared_error: 0.3917\n",
      "Epoch 72/100\n",
      "345/347 [============================>.] - ETA: 0s - loss: 0.1673 - root_mean_squared_error: 0.4090\n",
      "Epoch 00072: val_loss did not improve from 0.15345\n",
      "347/347 [==============================] - 4s 12ms/step - loss: 0.1670 - root_mean_squared_error: 0.4087 - val_loss: 0.1669 - val_root_mean_squared_error: 0.4085\n",
      "Epoch 73/100\n",
      "343/347 [============================>.] - ETA: 0s - loss: 0.1653 - root_mean_squared_error: 0.4066\n",
      "Epoch 00073: val_loss did not improve from 0.15345\n",
      "347/347 [==============================] - 4s 12ms/step - loss: 0.1653 - root_mean_squared_error: 0.4066 - val_loss: 0.1547 - val_root_mean_squared_error: 0.3933\n",
      "Epoch 74/100\n",
      "346/347 [============================>.] - ETA: 0s - loss: 0.1713 - root_mean_squared_error: 0.4138\n",
      "Epoch 00074: val_loss improved from 0.15345 to 0.15301, saving model to /content/drive/My Drive/epochs/model_1_camera8.0074-0.1530.h5\n",
      "347/347 [==============================] - 4s 12ms/step - loss: 0.1710 - root_mean_squared_error: 0.4135 - val_loss: 0.1530 - val_root_mean_squared_error: 0.3912\n",
      "Epoch 75/100\n",
      "346/347 [============================>.] - ETA: 0s - loss: 0.1590 - root_mean_squared_error: 0.3988\n",
      "Epoch 00075: val_loss did not improve from 0.15301\n",
      "347/347 [==============================] - 4s 12ms/step - loss: 0.1587 - root_mean_squared_error: 0.3984 - val_loss: 0.1535 - val_root_mean_squared_error: 0.3918\n",
      "Epoch 76/100\n",
      "345/347 [============================>.] - ETA: 0s - loss: 0.1520 - root_mean_squared_error: 0.3898\n",
      "Epoch 00076: val_loss improved from 0.15301 to 0.15001, saving model to /content/drive/My Drive/epochs/model_1_camera8.0076-0.1500.h5\n",
      "347/347 [==============================] - 4s 13ms/step - loss: 0.1554 - root_mean_squared_error: 0.3942 - val_loss: 0.1500 - val_root_mean_squared_error: 0.3873\n",
      "Epoch 77/100\n",
      "345/347 [============================>.] - ETA: 0s - loss: 0.1647 - root_mean_squared_error: 0.4058\n",
      "Epoch 00077: val_loss improved from 0.15001 to 0.14874, saving model to /content/drive/My Drive/epochs/model_1_camera8.0077-0.1487.h5\n",
      "347/347 [==============================] - 4s 13ms/step - loss: 0.1642 - root_mean_squared_error: 0.4053 - val_loss: 0.1487 - val_root_mean_squared_error: 0.3857\n",
      "Epoch 78/100\n",
      "343/347 [============================>.] - ETA: 0s - loss: 0.1591 - root_mean_squared_error: 0.3988\n",
      "Epoch 00078: val_loss did not improve from 0.14874\n",
      "347/347 [==============================] - 4s 12ms/step - loss: 0.1595 - root_mean_squared_error: 0.3994 - val_loss: 0.1602 - val_root_mean_squared_error: 0.4003\n",
      "Epoch 79/100\n",
      "343/347 [============================>.] - ETA: 0s - loss: 0.1679 - root_mean_squared_error: 0.4098\n",
      "Epoch 00079: val_loss improved from 0.14874 to 0.14554, saving model to /content/drive/My Drive/epochs/model_1_camera8.0079-0.1455.h5\n",
      "347/347 [==============================] - 4s 13ms/step - loss: 0.1672 - root_mean_squared_error: 0.4090 - val_loss: 0.1455 - val_root_mean_squared_error: 0.3815\n",
      "Epoch 80/100\n",
      "343/347 [============================>.] - ETA: 0s - loss: 0.1614 - root_mean_squared_error: 0.4017\n",
      "Epoch 00080: val_loss did not improve from 0.14554\n",
      "347/347 [==============================] - 4s 12ms/step - loss: 0.1619 - root_mean_squared_error: 0.4024 - val_loss: 0.1527 - val_root_mean_squared_error: 0.3908\n",
      "Epoch 81/100\n",
      "346/347 [============================>.] - ETA: 0s - loss: 0.1556 - root_mean_squared_error: 0.3945\n",
      "Epoch 00081: val_loss did not improve from 0.14554\n",
      "347/347 [==============================] - 4s 12ms/step - loss: 0.1554 - root_mean_squared_error: 0.3942 - val_loss: 0.1512 - val_root_mean_squared_error: 0.3888\n",
      "Epoch 82/100\n",
      "347/347 [==============================] - ETA: 0s - loss: 0.1434 - root_mean_squared_error: 0.3787\n",
      "Epoch 00082: val_loss did not improve from 0.14554\n",
      "347/347 [==============================] - 4s 12ms/step - loss: 0.1434 - root_mean_squared_error: 0.3787 - val_loss: 0.1542 - val_root_mean_squared_error: 0.3926\n",
      "Epoch 83/100\n",
      "346/347 [============================>.] - ETA: 0s - loss: 0.1583 - root_mean_squared_error: 0.3979\n",
      "Epoch 00083: val_loss improved from 0.14554 to 0.14346, saving model to /content/drive/My Drive/epochs/model_1_camera8.0083-0.1435.h5\n",
      "347/347 [==============================] - 4s 12ms/step - loss: 0.1583 - root_mean_squared_error: 0.3978 - val_loss: 0.1435 - val_root_mean_squared_error: 0.3788\n",
      "Epoch 84/100\n",
      "347/347 [==============================] - ETA: 0s - loss: 0.1464 - root_mean_squared_error: 0.3827\n",
      "Epoch 00084: val_loss did not improve from 0.14346\n",
      "347/347 [==============================] - 4s 12ms/step - loss: 0.1464 - root_mean_squared_error: 0.3827 - val_loss: 0.1563 - val_root_mean_squared_error: 0.3954\n",
      "Epoch 85/100\n",
      "343/347 [============================>.] - ETA: 0s - loss: 0.1632 - root_mean_squared_error: 0.4040\n",
      "Epoch 00085: val_loss did not improve from 0.14346\n",
      "347/347 [==============================] - 4s 12ms/step - loss: 0.1642 - root_mean_squared_error: 0.4053 - val_loss: 0.1539 - val_root_mean_squared_error: 0.3923\n",
      "Epoch 86/100\n",
      "347/347 [==============================] - ETA: 0s - loss: 0.1582 - root_mean_squared_error: 0.3978\n",
      "Epoch 00086: val_loss improved from 0.14346 to 0.14194, saving model to /content/drive/My Drive/epochs/model_1_camera8.0086-0.1419.h5\n",
      "347/347 [==============================] - 4s 13ms/step - loss: 0.1582 - root_mean_squared_error: 0.3978 - val_loss: 0.1419 - val_root_mean_squared_error: 0.3768\n",
      "Epoch 87/100\n",
      "345/347 [============================>.] - ETA: 0s - loss: 0.1702 - root_mean_squared_error: 0.4126\n",
      "Epoch 00087: val_loss did not improve from 0.14194\n",
      "347/347 [==============================] - 4s 12ms/step - loss: 0.1698 - root_mean_squared_error: 0.4121 - val_loss: 0.1467 - val_root_mean_squared_error: 0.3830\n",
      "Epoch 88/100\n",
      "343/347 [============================>.] - ETA: 0s - loss: 0.1586 - root_mean_squared_error: 0.3982\n",
      "Epoch 00088: val_loss improved from 0.14194 to 0.14153, saving model to /content/drive/My Drive/epochs/model_1_camera8.0088-0.1415.h5\n",
      "347/347 [==============================] - 4s 13ms/step - loss: 0.1585 - root_mean_squared_error: 0.3982 - val_loss: 0.1415 - val_root_mean_squared_error: 0.3762\n",
      "Epoch 89/100\n",
      "343/347 [============================>.] - ETA: 0s - loss: 0.1516 - root_mean_squared_error: 0.3893\n",
      "Epoch 00089: val_loss did not improve from 0.14153\n",
      "347/347 [==============================] - 4s 12ms/step - loss: 0.1526 - root_mean_squared_error: 0.3906 - val_loss: 0.1493 - val_root_mean_squared_error: 0.3863\n",
      "Epoch 90/100\n",
      "344/347 [============================>.] - ETA: 0s - loss: 0.1479 - root_mean_squared_error: 0.3846\n",
      "Epoch 00090: val_loss did not improve from 0.14153\n",
      "347/347 [==============================] - 4s 12ms/step - loss: 0.1476 - root_mean_squared_error: 0.3842 - val_loss: 0.1458 - val_root_mean_squared_error: 0.3819\n",
      "Epoch 91/100\n",
      "344/347 [============================>.] - ETA: 0s - loss: 0.1533 - root_mean_squared_error: 0.3915\n",
      "Epoch 00091: val_loss did not improve from 0.14153\n",
      "347/347 [==============================] - 4s 12ms/step - loss: 0.1528 - root_mean_squared_error: 0.3909 - val_loss: 0.1478 - val_root_mean_squared_error: 0.3844\n",
      "Epoch 92/100\n",
      "345/347 [============================>.] - ETA: 0s - loss: 0.1488 - root_mean_squared_error: 0.3857\n",
      "Epoch 00092: val_loss did not improve from 0.14153\n",
      "347/347 [==============================] - 4s 12ms/step - loss: 0.1482 - root_mean_squared_error: 0.3850 - val_loss: 0.1540 - val_root_mean_squared_error: 0.3924\n",
      "Epoch 93/100\n",
      "345/347 [============================>.] - ETA: 0s - loss: 0.1408 - root_mean_squared_error: 0.3752\n",
      "Epoch 00093: val_loss did not improve from 0.14153\n",
      "347/347 [==============================] - 4s 12ms/step - loss: 0.1406 - root_mean_squared_error: 0.3750 - val_loss: 0.1428 - val_root_mean_squared_error: 0.3779\n",
      "Epoch 94/100\n",
      "344/347 [============================>.] - ETA: 0s - loss: 0.1416 - root_mean_squared_error: 0.3763\n",
      "Epoch 00094: val_loss did not improve from 0.14153\n",
      "347/347 [==============================] - 4s 12ms/step - loss: 0.1423 - root_mean_squared_error: 0.3772 - val_loss: 0.1460 - val_root_mean_squared_error: 0.3821\n",
      "Epoch 95/100\n",
      "344/347 [============================>.] - ETA: 0s - loss: 0.1506 - root_mean_squared_error: 0.3881\n",
      "Epoch 00095: val_loss did not improve from 0.14153\n",
      "347/347 [==============================] - 4s 12ms/step - loss: 0.1505 - root_mean_squared_error: 0.3879 - val_loss: 0.1434 - val_root_mean_squared_error: 0.3787\n",
      "Epoch 96/100\n",
      "346/347 [============================>.] - ETA: 0s - loss: 0.1638 - root_mean_squared_error: 0.4047\n",
      "Epoch 00096: val_loss did not improve from 0.14153\n",
      "347/347 [==============================] - 4s 12ms/step - loss: 0.1635 - root_mean_squared_error: 0.4043 - val_loss: 0.1468 - val_root_mean_squared_error: 0.3832\n",
      "Epoch 97/100\n",
      "344/347 [============================>.] - ETA: 0s - loss: 0.1440 - root_mean_squared_error: 0.3794\n",
      "Epoch 00097: val_loss did not improve from 0.14153\n",
      "347/347 [==============================] - 4s 12ms/step - loss: 0.1436 - root_mean_squared_error: 0.3789 - val_loss: 0.1478 - val_root_mean_squared_error: 0.3845\n",
      "Epoch 98/100\n",
      "345/347 [============================>.] - ETA: 0s - loss: 0.1564 - root_mean_squared_error: 0.3954\n",
      "Epoch 00098: val_loss did not improve from 0.14153\n",
      "347/347 [==============================] - 4s 12ms/step - loss: 0.1560 - root_mean_squared_error: 0.3950 - val_loss: 0.1446 - val_root_mean_squared_error: 0.3803\n",
      "Epoch 99/100\n",
      "345/347 [============================>.] - ETA: 0s - loss: 0.1388 - root_mean_squared_error: 0.3725\n",
      "Epoch 00099: val_loss did not improve from 0.14153\n",
      "347/347 [==============================] - 4s 12ms/step - loss: 0.1382 - root_mean_squared_error: 0.3717 - val_loss: 0.1420 - val_root_mean_squared_error: 0.3769\n",
      "Epoch 100/100\n",
      "343/347 [============================>.] - ETA: 0s - loss: 0.1480 - root_mean_squared_error: 0.3848\n",
      "Epoch 00100: val_loss did not improve from 0.14153\n",
      "347/347 [==============================] - 4s 12ms/step - loss: 0.1489 - root_mean_squared_error: 0.3858 - val_loss: 0.1441 - val_root_mean_squared_error: 0.3796\n"
     ]
    }
   ],
   "source": [
    "history = model.fit(X_train,\n",
    "                    y_train,\n",
    "                    batch_size=64,\n",
    "                    validation_data=(X_test, y_test),\n",
    "                    epochs=100,\n",
    "                    verbose=1,\n",
    "                    callbacks=callbacks_list)"
   ]
  },
  {
   "cell_type": "code",
   "execution_count": null,
   "metadata": {
    "colab": {},
    "colab_type": "code",
    "id": "k4WyYU5OfYmt"
   },
   "outputs": [],
   "source": [
    "model_1_camera8 = model_history('model_1_camera8')"
   ]
  },
  {
   "cell_type": "markdown",
   "metadata": {
    "colab": {},
    "colab_type": "code",
    "id": "jI2GkSlHfYmy"
   },
   "source": [
    "### Model 1 camera9"
   ]
  },
  {
   "cell_type": "code",
   "execution_count": null,
   "metadata": {
    "colab": {},
    "colab_type": "code",
    "id": "LfvqwriggALb"
   },
   "outputs": [],
   "source": [
    "model = load_model('/content/drive/My Drive/epochs/model_1_camera8.0088-0.1415.h5')"
   ]
  },
  {
   "cell_type": "code",
   "execution_count": null,
   "metadata": {
    "colab": {},
    "colab_type": "code",
    "id": "3qzchZ8BgALO"
   },
   "outputs": [],
   "source": [
    "camera9 = load('/content/drive/My Drive/datasets/camera9_cleaned.npz')\n",
    "log9 = pd.read_csv('/content/drive/My Drive/datasets/log9_cleaned.csv')"
   ]
  },
  {
   "cell_type": "code",
   "execution_count": null,
   "metadata": {
    "colab": {
     "base_uri": "https://localhost:8080/",
     "height": 34
    },
    "colab_type": "code",
    "executionInfo": {
     "elapsed": 122856,
     "status": "ok",
     "timestamp": 1596563341203,
     "user": {
      "displayName": "Tay Khim",
      "photoUrl": "",
      "userId": "00177423956135587504"
     },
     "user_tz": -480
    },
    "id": "mt-03iKygALQ",
    "outputId": "e3df33e3-f34f-40d6-d10f-bf866903007e"
   },
   "outputs": [
    {
     "name": "stdout",
     "output_type": "stream",
     "text": [
      "Done\n"
     ]
    }
   ],
   "source": [
    "camera_processing(camera9, 'camera9')"
   ]
  },
  {
   "cell_type": "code",
   "execution_count": null,
   "metadata": {
    "colab": {
     "base_uri": "https://localhost:8080/",
     "height": 34
    },
    "colab_type": "code",
    "executionInfo": {
     "elapsed": 121859,
     "status": "ok",
     "timestamp": 1596563342431,
     "user": {
      "displayName": "Tay Khim",
      "photoUrl": "",
      "userId": "00177423956135587504"
     },
     "user_tz": -480
    },
    "id": "9xNpqmqTgALS",
    "outputId": "6162875d-4952-4c08-aa3c-b874aea395ed"
   },
   "outputs": [
    {
     "name": "stdout",
     "output_type": "stream",
     "text": [
      "Done\n"
     ]
    }
   ],
   "source": [
    "log_processing(log9, 'log9')"
   ]
  },
  {
   "cell_type": "code",
   "execution_count": null,
   "metadata": {
    "colab": {
     "base_uri": "https://localhost:8080/",
     "height": 34
    },
    "colab_type": "code",
    "executionInfo": {
     "elapsed": 241212,
     "status": "ok",
     "timestamp": 1596563462340,
     "user": {
      "displayName": "Tay Khim",
      "photoUrl": "",
      "userId": "00177423956135587504"
     },
     "user_tz": -480
    },
    "id": "RgG71uPVgALV",
    "outputId": "6b44c9ad-c198-47f3-8cbd-d933cf0ca793"
   },
   "outputs": [
    {
     "name": "stdout",
     "output_type": "stream",
     "text": [
      "Done\n"
     ]
    }
   ],
   "source": [
    "train_split('camera9', 'log9')"
   ]
  },
  {
   "cell_type": "code",
   "execution_count": null,
   "metadata": {
    "colab": {},
    "colab_type": "code",
    "id": "eLWXRBbjgALg"
   },
   "outputs": [],
   "source": [
    "X_train, X_test, y_train, y_test = train_load('camera9')"
   ]
  },
  {
   "cell_type": "code",
   "execution_count": null,
   "metadata": {
    "colab": {
     "base_uri": "https://localhost:8080/",
     "height": 34
    },
    "colab_type": "code",
    "executionInfo": {
     "elapsed": 25548,
     "status": "ok",
     "timestamp": 1596594408340,
     "user": {
      "displayName": "Tay Khim",
      "photoUrl": "",
      "userId": "00177423956135587504"
     },
     "user_tz": -480
    },
    "id": "UZlGuVkugALh",
    "outputId": "95dee0e6-7f13-4b79-bc72-bf94fe8a5358"
   },
   "outputs": [
    {
     "data": {
      "text/plain": [
       "((38312, 80, 160, 1), (9578, 80, 160, 1), (38312, 1), (9578, 1))"
      ]
     },
     "execution_count": 9,
     "metadata": {
      "tags": []
     },
     "output_type": "execute_result"
    }
   ],
   "source": [
    "X_train.shape, X_test.shape, y_train.shape, y_test.shape"
   ]
  },
  {
   "cell_type": "code",
   "execution_count": null,
   "metadata": {
    "colab": {},
    "colab_type": "code",
    "id": "-G2Rj2ZjgALj"
   },
   "outputs": [],
   "source": [
    "filepath = \"/content/drive/My Drive/epochs/model_1_camera9.{epoch:04d}-{val_loss:.4f}.h5\"\n",
    "checkpoint = ModelCheckpoint(filepath, monitor='val_loss', verbose=1, save_best_only=True, mode='min')\n",
    "callbacks_list = [checkpoint]"
   ]
  },
  {
   "cell_type": "code",
   "execution_count": null,
   "metadata": {
    "colab": {
     "base_uri": "https://localhost:8080/",
     "height": 1000
    },
    "colab_type": "code",
    "collapsed": true,
    "executionInfo": {
     "elapsed": 978281,
     "status": "ok",
     "timestamp": 1596595377503,
     "user": {
      "displayName": "Tay Khim",
      "photoUrl": "",
      "userId": "00177423956135587504"
     },
     "user_tz": -480
    },
    "id": "ShKMN-jqgALk",
    "outputId": "40a65c96-6b28-48df-ec52-782805fd53e4"
   },
   "outputs": [
    {
     "name": "stdout",
     "output_type": "stream",
     "text": [
      "Epoch 1/100\n",
      "599/599 [==============================] - ETA: 0s - loss: 0.0594 - root_mean_squared_error: 0.2437\n",
      "Epoch 00001: val_loss improved from inf to 0.05390, saving model to /content/drive/My Drive/epochs/model_1_camera9.0001-0.0539.h5\n",
      "599/599 [==============================] - 10s 16ms/step - loss: 0.0594 - root_mean_squared_error: 0.2437 - val_loss: 0.0539 - val_root_mean_squared_error: 0.2322\n",
      "Epoch 2/100\n",
      "596/599 [============================>.] - ETA: 0s - loss: 0.0569 - root_mean_squared_error: 0.2385\n",
      "Epoch 00002: val_loss improved from 0.05390 to 0.05369, saving model to /content/drive/My Drive/epochs/model_1_camera9.0002-0.0537.h5\n",
      "599/599 [==============================] - 9s 16ms/step - loss: 0.0567 - root_mean_squared_error: 0.2382 - val_loss: 0.0537 - val_root_mean_squared_error: 0.2317\n",
      "Epoch 3/100\n",
      "597/599 [============================>.] - ETA: 0s - loss: 0.0551 - root_mean_squared_error: 0.2348\n",
      "Epoch 00003: val_loss did not improve from 0.05369\n",
      "599/599 [==============================] - 9s 16ms/step - loss: 0.0550 - root_mean_squared_error: 0.2345 - val_loss: 0.0537 - val_root_mean_squared_error: 0.2318\n",
      "Epoch 4/100\n",
      "596/599 [============================>.] - ETA: 0s - loss: 0.0557 - root_mean_squared_error: 0.2361\n",
      "Epoch 00004: val_loss improved from 0.05369 to 0.05363, saving model to /content/drive/My Drive/epochs/model_1_camera9.0004-0.0536.h5\n",
      "599/599 [==============================] - 10s 16ms/step - loss: 0.0555 - root_mean_squared_error: 0.2356 - val_loss: 0.0536 - val_root_mean_squared_error: 0.2316\n",
      "Epoch 5/100\n",
      "596/599 [============================>.] - ETA: 0s - loss: 0.0538 - root_mean_squared_error: 0.2319\n",
      "Epoch 00005: val_loss did not improve from 0.05363\n",
      "599/599 [==============================] - 9s 16ms/step - loss: 0.0542 - root_mean_squared_error: 0.2327 - val_loss: 0.0538 - val_root_mean_squared_error: 0.2319\n",
      "Epoch 6/100\n",
      "596/599 [============================>.] - ETA: 0s - loss: 0.0552 - root_mean_squared_error: 0.2350\n",
      "Epoch 00006: val_loss improved from 0.05363 to 0.05359, saving model to /content/drive/My Drive/epochs/model_1_camera9.0006-0.0536.h5\n",
      "599/599 [==============================] - 10s 16ms/step - loss: 0.0550 - root_mean_squared_error: 0.2345 - val_loss: 0.0536 - val_root_mean_squared_error: 0.2315\n",
      "Epoch 7/100\n",
      "596/599 [============================>.] - ETA: 0s - loss: 0.0545 - root_mean_squared_error: 0.2336\n",
      "Epoch 00007: val_loss did not improve from 0.05359\n",
      "599/599 [==============================] - 9s 16ms/step - loss: 0.0546 - root_mean_squared_error: 0.2337 - val_loss: 0.0540 - val_root_mean_squared_error: 0.2323\n",
      "Epoch 8/100\n",
      "597/599 [============================>.] - ETA: 0s - loss: 0.0539 - root_mean_squared_error: 0.2321\n",
      "Epoch 00008: val_loss did not improve from 0.05359\n",
      "599/599 [==============================] - 9s 16ms/step - loss: 0.0544 - root_mean_squared_error: 0.2331 - val_loss: 0.0540 - val_root_mean_squared_error: 0.2323\n",
      "Epoch 9/100\n",
      "597/599 [============================>.] - ETA: 0s - loss: 0.0537 - root_mean_squared_error: 0.2317\n",
      "Epoch 00009: val_loss improved from 0.05359 to 0.05300, saving model to /content/drive/My Drive/epochs/model_1_camera9.0009-0.0530.h5\n",
      "599/599 [==============================] - 10s 16ms/step - loss: 0.0539 - root_mean_squared_error: 0.2321 - val_loss: 0.0530 - val_root_mean_squared_error: 0.2302\n",
      "Epoch 10/100\n",
      "599/599 [==============================] - ETA: 0s - loss: 0.0536 - root_mean_squared_error: 0.2315\n",
      "Epoch 00010: val_loss improved from 0.05300 to 0.05280, saving model to /content/drive/My Drive/epochs/model_1_camera9.0010-0.0528.h5\n",
      "599/599 [==============================] - 10s 16ms/step - loss: 0.0536 - root_mean_squared_error: 0.2315 - val_loss: 0.0528 - val_root_mean_squared_error: 0.2298\n",
      "Epoch 11/100\n",
      "597/599 [============================>.] - ETA: 0s - loss: 0.0540 - root_mean_squared_error: 0.2324\n",
      "Epoch 00011: val_loss did not improve from 0.05280\n",
      "599/599 [==============================] - 9s 16ms/step - loss: 0.0539 - root_mean_squared_error: 0.2322 - val_loss: 0.0532 - val_root_mean_squared_error: 0.2306\n",
      "Epoch 12/100\n",
      "597/599 [============================>.] - ETA: 0s - loss: 0.0516 - root_mean_squared_error: 0.2271\n",
      "Epoch 00012: val_loss improved from 0.05280 to 0.05247, saving model to /content/drive/My Drive/epochs/model_1_camera9.0012-0.0525.h5\n",
      "599/599 [==============================] - 10s 16ms/step - loss: 0.0515 - root_mean_squared_error: 0.2269 - val_loss: 0.0525 - val_root_mean_squared_error: 0.2291\n",
      "Epoch 13/100\n",
      "597/599 [============================>.] - ETA: 0s - loss: 0.0524 - root_mean_squared_error: 0.2288\n",
      "Epoch 00013: val_loss did not improve from 0.05247\n",
      "599/599 [==============================] - 9s 16ms/step - loss: 0.0524 - root_mean_squared_error: 0.2288 - val_loss: 0.0526 - val_root_mean_squared_error: 0.2293\n",
      "Epoch 14/100\n",
      "598/599 [============================>.] - ETA: 0s - loss: 0.0494 - root_mean_squared_error: 0.2223\n",
      "Epoch 00014: val_loss did not improve from 0.05247\n",
      "599/599 [==============================] - 9s 16ms/step - loss: 0.0497 - root_mean_squared_error: 0.2230 - val_loss: 0.0527 - val_root_mean_squared_error: 0.2296\n",
      "Epoch 15/100\n",
      "596/599 [============================>.] - ETA: 0s - loss: 0.0492 - root_mean_squared_error: 0.2219\n",
      "Epoch 00015: val_loss improved from 0.05247 to 0.05164, saving model to /content/drive/My Drive/epochs/model_1_camera9.0015-0.0516.h5\n",
      "599/599 [==============================] - 10s 16ms/step - loss: 0.0497 - root_mean_squared_error: 0.2229 - val_loss: 0.0516 - val_root_mean_squared_error: 0.2272\n",
      "Epoch 16/100\n",
      "597/599 [============================>.] - ETA: 0s - loss: 0.0494 - root_mean_squared_error: 0.2224\n",
      "Epoch 00016: val_loss improved from 0.05164 to 0.05018, saving model to /content/drive/My Drive/epochs/model_1_camera9.0016-0.0502.h5\n",
      "599/599 [==============================] - 10s 16ms/step - loss: 0.0493 - root_mean_squared_error: 0.2221 - val_loss: 0.0502 - val_root_mean_squared_error: 0.2240\n",
      "Epoch 17/100\n",
      "597/599 [============================>.] - ETA: 0s - loss: 0.0481 - root_mean_squared_error: 0.2193\n",
      "Epoch 00017: val_loss improved from 0.05018 to 0.04988, saving model to /content/drive/My Drive/epochs/model_1_camera9.0017-0.0499.h5\n",
      "599/599 [==============================] - 10s 16ms/step - loss: 0.0480 - root_mean_squared_error: 0.2190 - val_loss: 0.0499 - val_root_mean_squared_error: 0.2233\n",
      "Epoch 18/100\n",
      "597/599 [============================>.] - ETA: 0s - loss: 0.0421 - root_mean_squared_error: 0.2052\n",
      "Epoch 00018: val_loss improved from 0.04988 to 0.04754, saving model to /content/drive/My Drive/epochs/model_1_camera9.0018-0.0475.h5\n",
      "599/599 [==============================] - 10s 16ms/step - loss: 0.0421 - root_mean_squared_error: 0.2052 - val_loss: 0.0475 - val_root_mean_squared_error: 0.2180\n",
      "Epoch 19/100\n",
      "598/599 [============================>.] - ETA: 0s - loss: 0.0430 - root_mean_squared_error: 0.2073\n",
      "Epoch 00019: val_loss improved from 0.04754 to 0.04751, saving model to /content/drive/My Drive/epochs/model_1_camera9.0019-0.0475.h5\n",
      "599/599 [==============================] - 10s 16ms/step - loss: 0.0431 - root_mean_squared_error: 0.2076 - val_loss: 0.0475 - val_root_mean_squared_error: 0.2180\n",
      "Epoch 20/100\n",
      "598/599 [============================>.] - ETA: 0s - loss: 0.0426 - root_mean_squared_error: 0.2064\n",
      "Epoch 00020: val_loss improved from 0.04751 to 0.04733, saving model to /content/drive/My Drive/epochs/model_1_camera9.0020-0.0473.h5\n",
      "599/599 [==============================] - 10s 16ms/step - loss: 0.0429 - root_mean_squared_error: 0.2071 - val_loss: 0.0473 - val_root_mean_squared_error: 0.2176\n",
      "Epoch 21/100\n",
      "597/599 [============================>.] - ETA: 0s - loss: 0.0438 - root_mean_squared_error: 0.2094\n",
      "Epoch 00021: val_loss improved from 0.04733 to 0.04630, saving model to /content/drive/My Drive/epochs/model_1_camera9.0021-0.0463.h5\n",
      "599/599 [==============================] - 10s 16ms/step - loss: 0.0438 - root_mean_squared_error: 0.2092 - val_loss: 0.0463 - val_root_mean_squared_error: 0.2152\n",
      "Epoch 22/100\n",
      "597/599 [============================>.] - ETA: 0s - loss: 0.0411 - root_mean_squared_error: 0.2028\n",
      "Epoch 00022: val_loss improved from 0.04630 to 0.04546, saving model to /content/drive/My Drive/epochs/model_1_camera9.0022-0.0455.h5\n",
      "599/599 [==============================] - 10s 16ms/step - loss: 0.0411 - root_mean_squared_error: 0.2026 - val_loss: 0.0455 - val_root_mean_squared_error: 0.2132\n",
      "Epoch 23/100\n",
      "596/599 [============================>.] - ETA: 0s - loss: 0.0427 - root_mean_squared_error: 0.2067\n",
      "Epoch 00023: val_loss did not improve from 0.04546\n",
      "599/599 [==============================] - 10s 16ms/step - loss: 0.0427 - root_mean_squared_error: 0.2066 - val_loss: 0.0474 - val_root_mean_squared_error: 0.2177\n",
      "Epoch 24/100\n",
      "597/599 [============================>.] - ETA: 0s - loss: 0.0400 - root_mean_squared_error: 0.2000\n",
      "Epoch 00024: val_loss improved from 0.04546 to 0.04480, saving model to /content/drive/My Drive/epochs/model_1_camera9.0024-0.0448.h5\n",
      "599/599 [==============================] - 10s 16ms/step - loss: 0.0401 - root_mean_squared_error: 0.2001 - val_loss: 0.0448 - val_root_mean_squared_error: 0.2117\n",
      "Epoch 25/100\n",
      "599/599 [==============================] - ETA: 0s - loss: 0.0393 - root_mean_squared_error: 0.1984\n",
      "Epoch 00025: val_loss did not improve from 0.04480\n",
      "599/599 [==============================] - 10s 16ms/step - loss: 0.0393 - root_mean_squared_error: 0.1984 - val_loss: 0.0451 - val_root_mean_squared_error: 0.2125\n",
      "Epoch 26/100\n",
      "596/599 [============================>.] - ETA: 0s - loss: 0.0407 - root_mean_squared_error: 0.2016\n",
      "Epoch 00026: val_loss improved from 0.04480 to 0.04454, saving model to /content/drive/My Drive/epochs/model_1_camera9.0026-0.0445.h5\n",
      "599/599 [==============================] - 10s 16ms/step - loss: 0.0406 - root_mean_squared_error: 0.2014 - val_loss: 0.0445 - val_root_mean_squared_error: 0.2111\n",
      "Epoch 27/100\n",
      "596/599 [============================>.] - ETA: 0s - loss: 0.0408 - root_mean_squared_error: 0.2020\n",
      "Epoch 00027: val_loss improved from 0.04454 to 0.04376, saving model to /content/drive/My Drive/epochs/model_1_camera9.0027-0.0438.h5\n",
      "599/599 [==============================] - 10s 16ms/step - loss: 0.0408 - root_mean_squared_error: 0.2021 - val_loss: 0.0438 - val_root_mean_squared_error: 0.2092\n",
      "Epoch 28/100\n",
      "598/599 [============================>.] - ETA: 0s - loss: 0.0390 - root_mean_squared_error: 0.1975\n",
      "Epoch 00028: val_loss improved from 0.04376 to 0.04365, saving model to /content/drive/My Drive/epochs/model_1_camera9.0028-0.0436.h5\n",
      "599/599 [==============================] - 10s 16ms/step - loss: 0.0390 - root_mean_squared_error: 0.1975 - val_loss: 0.0436 - val_root_mean_squared_error: 0.2089\n",
      "Epoch 29/100\n",
      "597/599 [============================>.] - ETA: 0s - loss: 0.0395 - root_mean_squared_error: 0.1986\n",
      "Epoch 00029: val_loss improved from 0.04365 to 0.04209, saving model to /content/drive/My Drive/epochs/model_1_camera9.0029-0.0421.h5\n",
      "599/599 [==============================] - 10s 16ms/step - loss: 0.0394 - root_mean_squared_error: 0.1985 - val_loss: 0.0421 - val_root_mean_squared_error: 0.2051\n",
      "Epoch 30/100\n",
      "598/599 [============================>.] - ETA: 0s - loss: 0.0367 - root_mean_squared_error: 0.1915\n",
      "Epoch 00030: val_loss did not improve from 0.04209\n",
      "599/599 [==============================] - 10s 16ms/step - loss: 0.0366 - root_mean_squared_error: 0.1914 - val_loss: 0.0427 - val_root_mean_squared_error: 0.2066\n",
      "Epoch 31/100\n",
      "597/599 [============================>.] - ETA: 0s - loss: 0.0383 - root_mean_squared_error: 0.1958\n",
      "Epoch 00031: val_loss improved from 0.04209 to 0.04154, saving model to /content/drive/My Drive/epochs/model_1_camera9.0031-0.0415.h5\n",
      "599/599 [==============================] - 10s 16ms/step - loss: 0.0384 - root_mean_squared_error: 0.1960 - val_loss: 0.0415 - val_root_mean_squared_error: 0.2038\n",
      "Epoch 32/100\n",
      "599/599 [==============================] - ETA: 0s - loss: 0.0377 - root_mean_squared_error: 0.1942\n",
      "Epoch 00032: val_loss improved from 0.04154 to 0.04097, saving model to /content/drive/My Drive/epochs/model_1_camera9.0032-0.0410.h5\n",
      "599/599 [==============================] - 10s 16ms/step - loss: 0.0377 - root_mean_squared_error: 0.1942 - val_loss: 0.0410 - val_root_mean_squared_error: 0.2024\n",
      "Epoch 33/100\n",
      "596/599 [============================>.] - ETA: 0s - loss: 0.0362 - root_mean_squared_error: 0.1901\n",
      "Epoch 00033: val_loss improved from 0.04097 to 0.03944, saving model to /content/drive/My Drive/epochs/model_1_camera9.0033-0.0394.h5\n",
      "599/599 [==============================] - 10s 16ms/step - loss: 0.0362 - root_mean_squared_error: 0.1902 - val_loss: 0.0394 - val_root_mean_squared_error: 0.1986\n",
      "Epoch 34/100\n",
      "596/599 [============================>.] - ETA: 0s - loss: 0.0366 - root_mean_squared_error: 0.1912\n",
      "Epoch 00034: val_loss improved from 0.03944 to 0.03858, saving model to /content/drive/My Drive/epochs/model_1_camera9.0034-0.0386.h5\n",
      "599/599 [==============================] - 10s 16ms/step - loss: 0.0370 - root_mean_squared_error: 0.1922 - val_loss: 0.0386 - val_root_mean_squared_error: 0.1964\n",
      "Epoch 35/100\n",
      "596/599 [============================>.] - ETA: 0s - loss: 0.0369 - root_mean_squared_error: 0.1922\n",
      "Epoch 00035: val_loss did not improve from 0.03858\n",
      "599/599 [==============================] - 10s 16ms/step - loss: 0.0369 - root_mean_squared_error: 0.1922 - val_loss: 0.0405 - val_root_mean_squared_error: 0.2012\n",
      "Epoch 36/100\n",
      "597/599 [============================>.] - ETA: 0s - loss: 0.0351 - root_mean_squared_error: 0.1873\n",
      "Epoch 00036: val_loss did not improve from 0.03858\n",
      "599/599 [==============================] - 10s 16ms/step - loss: 0.0355 - root_mean_squared_error: 0.1884 - val_loss: 0.0388 - val_root_mean_squared_error: 0.1969\n",
      "Epoch 37/100\n",
      "597/599 [============================>.] - ETA: 0s - loss: 0.0332 - root_mean_squared_error: 0.1822\n",
      "Epoch 00037: val_loss improved from 0.03858 to 0.03784, saving model to /content/drive/My Drive/epochs/model_1_camera9.0037-0.0378.h5\n",
      "599/599 [==============================] - 10s 16ms/step - loss: 0.0331 - root_mean_squared_error: 0.1821 - val_loss: 0.0378 - val_root_mean_squared_error: 0.1945\n",
      "Epoch 38/100\n",
      "598/599 [============================>.] - ETA: 0s - loss: 0.0358 - root_mean_squared_error: 0.1891\n",
      "Epoch 00038: val_loss improved from 0.03784 to 0.03750, saving model to /content/drive/My Drive/epochs/model_1_camera9.0038-0.0375.h5\n",
      "599/599 [==============================] - 10s 16ms/step - loss: 0.0357 - root_mean_squared_error: 0.1890 - val_loss: 0.0375 - val_root_mean_squared_error: 0.1936\n",
      "Epoch 39/100\n",
      "596/599 [============================>.] - ETA: 0s - loss: 0.0351 - root_mean_squared_error: 0.1872\n",
      "Epoch 00039: val_loss improved from 0.03750 to 0.03701, saving model to /content/drive/My Drive/epochs/model_1_camera9.0039-0.0370.h5\n",
      "599/599 [==============================] - 10s 16ms/step - loss: 0.0350 - root_mean_squared_error: 0.1870 - val_loss: 0.0370 - val_root_mean_squared_error: 0.1924\n",
      "Epoch 40/100\n",
      "596/599 [============================>.] - ETA: 0s - loss: 0.0340 - root_mean_squared_error: 0.1844\n",
      "Epoch 00040: val_loss improved from 0.03701 to 0.03652, saving model to /content/drive/My Drive/epochs/model_1_camera9.0040-0.0365.h5\n",
      "599/599 [==============================] - 10s 16ms/step - loss: 0.0343 - root_mean_squared_error: 0.1853 - val_loss: 0.0365 - val_root_mean_squared_error: 0.1911\n",
      "Epoch 41/100\n",
      "597/599 [============================>.] - ETA: 0s - loss: 0.0340 - root_mean_squared_error: 0.1844\n",
      "Epoch 00041: val_loss did not improve from 0.03652\n",
      "599/599 [==============================] - 10s 16ms/step - loss: 0.0340 - root_mean_squared_error: 0.1843 - val_loss: 0.0380 - val_root_mean_squared_error: 0.1950\n",
      "Epoch 42/100\n",
      "596/599 [============================>.] - ETA: 0s - loss: 0.0352 - root_mean_squared_error: 0.1875\n",
      "Epoch 00042: val_loss improved from 0.03652 to 0.03559, saving model to /content/drive/My Drive/epochs/model_1_camera9.0042-0.0356.h5\n",
      "599/599 [==============================] - 10s 16ms/step - loss: 0.0351 - root_mean_squared_error: 0.1873 - val_loss: 0.0356 - val_root_mean_squared_error: 0.1887\n",
      "Epoch 43/100\n",
      "596/599 [============================>.] - ETA: 0s - loss: 0.0342 - root_mean_squared_error: 0.1848\n",
      "Epoch 00043: val_loss did not improve from 0.03559\n",
      "599/599 [==============================] - 10s 16ms/step - loss: 0.0341 - root_mean_squared_error: 0.1846 - val_loss: 0.0366 - val_root_mean_squared_error: 0.1912\n",
      "Epoch 44/100\n",
      "599/599 [==============================] - ETA: 0s - loss: 0.0324 - root_mean_squared_error: 0.1800\n",
      "Epoch 00044: val_loss improved from 0.03559 to 0.03392, saving model to /content/drive/My Drive/epochs/model_1_camera9.0044-0.0339.h5\n",
      "599/599 [==============================] - 10s 16ms/step - loss: 0.0324 - root_mean_squared_error: 0.1800 - val_loss: 0.0339 - val_root_mean_squared_error: 0.1842\n",
      "Epoch 45/100\n",
      "596/599 [============================>.] - ETA: 0s - loss: 0.0318 - root_mean_squared_error: 0.1783\n",
      "Epoch 00045: val_loss did not improve from 0.03392\n",
      "599/599 [==============================] - 9s 16ms/step - loss: 0.0317 - root_mean_squared_error: 0.1780 - val_loss: 0.0360 - val_root_mean_squared_error: 0.1897\n",
      "Epoch 46/100\n",
      "596/599 [============================>.] - ETA: 0s - loss: 0.0313 - root_mean_squared_error: 0.1768\n",
      "Epoch 00046: val_loss did not improve from 0.03392\n",
      "599/599 [==============================] - 9s 16ms/step - loss: 0.0312 - root_mean_squared_error: 0.1766 - val_loss: 0.0346 - val_root_mean_squared_error: 0.1860\n",
      "Epoch 47/100\n",
      "597/599 [============================>.] - ETA: 0s - loss: 0.0309 - root_mean_squared_error: 0.1758\n",
      "Epoch 00047: val_loss improved from 0.03392 to 0.03350, saving model to /content/drive/My Drive/epochs/model_1_camera9.0047-0.0335.h5\n",
      "599/599 [==============================] - 10s 16ms/step - loss: 0.0308 - root_mean_squared_error: 0.1756 - val_loss: 0.0335 - val_root_mean_squared_error: 0.1830\n",
      "Epoch 48/100\n",
      "596/599 [============================>.] - ETA: 0s - loss: 0.0312 - root_mean_squared_error: 0.1765\n",
      "Epoch 00048: val_loss improved from 0.03350 to 0.03344, saving model to /content/drive/My Drive/epochs/model_1_camera9.0048-0.0334.h5\n",
      "599/599 [==============================] - 10s 16ms/step - loss: 0.0312 - root_mean_squared_error: 0.1766 - val_loss: 0.0334 - val_root_mean_squared_error: 0.1829\n",
      "Epoch 49/100\n",
      "598/599 [============================>.] - ETA: 0s - loss: 0.0316 - root_mean_squared_error: 0.1776\n",
      "Epoch 00049: val_loss improved from 0.03344 to 0.03282, saving model to /content/drive/My Drive/epochs/model_1_camera9.0049-0.0328.h5\n",
      "599/599 [==============================] - 10s 17ms/step - loss: 0.0315 - root_mean_squared_error: 0.1775 - val_loss: 0.0328 - val_root_mean_squared_error: 0.1812\n",
      "Epoch 50/100\n",
      "597/599 [============================>.] - ETA: 0s - loss: 0.0312 - root_mean_squared_error: 0.1766\n",
      "Epoch 00050: val_loss improved from 0.03282 to 0.03130, saving model to /content/drive/My Drive/epochs/model_1_camera9.0050-0.0313.h5\n",
      "599/599 [==============================] - 10s 16ms/step - loss: 0.0313 - root_mean_squared_error: 0.1769 - val_loss: 0.0313 - val_root_mean_squared_error: 0.1769\n",
      "Epoch 51/100\n",
      "598/599 [============================>.] - ETA: 0s - loss: 0.0302 - root_mean_squared_error: 0.1739\n",
      "Epoch 00051: val_loss did not improve from 0.03130\n",
      "599/599 [==============================] - 10s 16ms/step - loss: 0.0302 - root_mean_squared_error: 0.1738 - val_loss: 0.0336 - val_root_mean_squared_error: 0.1834\n",
      "Epoch 52/100\n",
      "596/599 [============================>.] - ETA: 0s - loss: 0.0300 - root_mean_squared_error: 0.1733\n",
      "Epoch 00052: val_loss did not improve from 0.03130\n",
      "599/599 [==============================] - 10s 16ms/step - loss: 0.0302 - root_mean_squared_error: 0.1739 - val_loss: 0.0320 - val_root_mean_squared_error: 0.1788\n",
      "Epoch 53/100\n",
      "596/599 [============================>.] - ETA: 0s - loss: 0.0297 - root_mean_squared_error: 0.1723\n",
      "Epoch 00053: val_loss improved from 0.03130 to 0.03094, saving model to /content/drive/My Drive/epochs/model_1_camera9.0053-0.0309.h5\n",
      "599/599 [==============================] - 10s 16ms/step - loss: 0.0297 - root_mean_squared_error: 0.1722 - val_loss: 0.0309 - val_root_mean_squared_error: 0.1759\n",
      "Epoch 54/100\n",
      "597/599 [============================>.] - ETA: 0s - loss: 0.0300 - root_mean_squared_error: 0.1732\n",
      "Epoch 00054: val_loss did not improve from 0.03094\n",
      "599/599 [==============================] - 10s 16ms/step - loss: 0.0299 - root_mean_squared_error: 0.1730 - val_loss: 0.0312 - val_root_mean_squared_error: 0.1766\n",
      "Epoch 55/100\n",
      "599/599 [==============================] - ETA: 0s - loss: 0.0292 - root_mean_squared_error: 0.1708\n",
      "Epoch 00055: val_loss improved from 0.03094 to 0.02988, saving model to /content/drive/My Drive/epochs/model_1_camera9.0055-0.0299.h5\n",
      "599/599 [==============================] - 10s 16ms/step - loss: 0.0292 - root_mean_squared_error: 0.1708 - val_loss: 0.0299 - val_root_mean_squared_error: 0.1729\n",
      "Epoch 56/100\n",
      "598/599 [============================>.] - ETA: 0s - loss: 0.0280 - root_mean_squared_error: 0.1674\n",
      "Epoch 00056: val_loss did not improve from 0.02988\n",
      "599/599 [==============================] - 10s 16ms/step - loss: 0.0281 - root_mean_squared_error: 0.1675 - val_loss: 0.0312 - val_root_mean_squared_error: 0.1766\n",
      "Epoch 57/100\n",
      "598/599 [============================>.] - ETA: 0s - loss: 0.0282 - root_mean_squared_error: 0.1678\n",
      "Epoch 00057: val_loss improved from 0.02988 to 0.02986, saving model to /content/drive/My Drive/epochs/model_1_camera9.0057-0.0299.h5\n",
      "599/599 [==============================] - 10s 16ms/step - loss: 0.0282 - root_mean_squared_error: 0.1678 - val_loss: 0.0299 - val_root_mean_squared_error: 0.1728\n",
      "Epoch 58/100\n",
      "597/599 [============================>.] - ETA: 0s - loss: 0.0260 - root_mean_squared_error: 0.1613\n",
      "Epoch 00058: val_loss did not improve from 0.02986\n",
      "599/599 [==============================] - 9s 16ms/step - loss: 0.0260 - root_mean_squared_error: 0.1613 - val_loss: 0.0299 - val_root_mean_squared_error: 0.1729\n",
      "Epoch 59/100\n",
      "596/599 [============================>.] - ETA: 0s - loss: 0.0270 - root_mean_squared_error: 0.1644\n",
      "Epoch 00059: val_loss improved from 0.02986 to 0.02967, saving model to /content/drive/My Drive/epochs/model_1_camera9.0059-0.0297.h5\n",
      "599/599 [==============================] - 10s 16ms/step - loss: 0.0270 - root_mean_squared_error: 0.1643 - val_loss: 0.0297 - val_root_mean_squared_error: 0.1723\n",
      "Epoch 60/100\n",
      "596/599 [============================>.] - ETA: 0s - loss: 0.0282 - root_mean_squared_error: 0.1680\n",
      "Epoch 00060: val_loss improved from 0.02967 to 0.02957, saving model to /content/drive/My Drive/epochs/model_1_camera9.0060-0.0296.h5\n",
      "599/599 [==============================] - 10s 16ms/step - loss: 0.0283 - root_mean_squared_error: 0.1684 - val_loss: 0.0296 - val_root_mean_squared_error: 0.1720\n",
      "Epoch 61/100\n",
      "597/599 [============================>.] - ETA: 0s - loss: 0.0287 - root_mean_squared_error: 0.1695\n",
      "Epoch 00061: val_loss improved from 0.02957 to 0.02887, saving model to /content/drive/My Drive/epochs/model_1_camera9.0061-0.0289.h5\n",
      "599/599 [==============================] - 10s 16ms/step - loss: 0.0287 - root_mean_squared_error: 0.1693 - val_loss: 0.0289 - val_root_mean_squared_error: 0.1699\n",
      "Epoch 62/100\n",
      "596/599 [============================>.] - ETA: 0s - loss: 0.0265 - root_mean_squared_error: 0.1626\n",
      "Epoch 00062: val_loss did not improve from 0.02887\n",
      "599/599 [==============================] - 10s 16ms/step - loss: 0.0264 - root_mean_squared_error: 0.1626 - val_loss: 0.0289 - val_root_mean_squared_error: 0.1701\n",
      "Epoch 63/100\n",
      "597/599 [============================>.] - ETA: 0s - loss: 0.0290 - root_mean_squared_error: 0.1704\n",
      "Epoch 00063: val_loss did not improve from 0.02887\n",
      "599/599 [==============================] - 9s 16ms/step - loss: 0.0290 - root_mean_squared_error: 0.1702 - val_loss: 0.0291 - val_root_mean_squared_error: 0.1705\n",
      "Epoch 64/100\n",
      "596/599 [============================>.] - ETA: 0s - loss: 0.0269 - root_mean_squared_error: 0.1639\n",
      "Epoch 00064: val_loss did not improve from 0.02887\n",
      "599/599 [==============================] - 9s 16ms/step - loss: 0.0268 - root_mean_squared_error: 0.1637 - val_loss: 0.0300 - val_root_mean_squared_error: 0.1733\n",
      "Epoch 65/100\n",
      "597/599 [============================>.] - ETA: 0s - loss: 0.0273 - root_mean_squared_error: 0.1653\n",
      "Epoch 00065: val_loss did not improve from 0.02887\n",
      "599/599 [==============================] - 9s 16ms/step - loss: 0.0273 - root_mean_squared_error: 0.1652 - val_loss: 0.0292 - val_root_mean_squared_error: 0.1710\n",
      "Epoch 66/100\n",
      "596/599 [============================>.] - ETA: 0s - loss: 0.0253 - root_mean_squared_error: 0.1590\n",
      "Epoch 00066: val_loss improved from 0.02887 to 0.02786, saving model to /content/drive/My Drive/epochs/model_1_camera9.0066-0.0279.h5\n",
      "599/599 [==============================] - 10s 16ms/step - loss: 0.0253 - root_mean_squared_error: 0.1590 - val_loss: 0.0279 - val_root_mean_squared_error: 0.1669\n",
      "Epoch 67/100\n",
      "599/599 [==============================] - ETA: 0s - loss: 0.0277 - root_mean_squared_error: 0.1663\n",
      "Epoch 00067: val_loss improved from 0.02786 to 0.02714, saving model to /content/drive/My Drive/epochs/model_1_camera9.0067-0.0271.h5\n",
      "599/599 [==============================] - 10s 16ms/step - loss: 0.0277 - root_mean_squared_error: 0.1663 - val_loss: 0.0271 - val_root_mean_squared_error: 0.1647\n",
      "Epoch 68/100\n",
      "599/599 [==============================] - ETA: 0s - loss: 0.0264 - root_mean_squared_error: 0.1623\n",
      "Epoch 00068: val_loss did not improve from 0.02714\n",
      "599/599 [==============================] - 10s 16ms/step - loss: 0.0264 - root_mean_squared_error: 0.1623 - val_loss: 0.0283 - val_root_mean_squared_error: 0.1683\n",
      "Epoch 69/100\n",
      "597/599 [============================>.] - ETA: 0s - loss: 0.0255 - root_mean_squared_error: 0.1596\n",
      "Epoch 00069: val_loss did not improve from 0.02714\n",
      "599/599 [==============================] - 9s 16ms/step - loss: 0.0254 - root_mean_squared_error: 0.1595 - val_loss: 0.0278 - val_root_mean_squared_error: 0.1668\n",
      "Epoch 70/100\n",
      "596/599 [============================>.] - ETA: 0s - loss: 0.0258 - root_mean_squared_error: 0.1607\n",
      "Epoch 00070: val_loss improved from 0.02714 to 0.02655, saving model to /content/drive/My Drive/epochs/model_1_camera9.0070-0.0265.h5\n",
      "599/599 [==============================] - 10s 16ms/step - loss: 0.0257 - root_mean_squared_error: 0.1604 - val_loss: 0.0265 - val_root_mean_squared_error: 0.1629\n",
      "Epoch 71/100\n",
      "597/599 [============================>.] - ETA: 0s - loss: 0.0259 - root_mean_squared_error: 0.1608\n",
      "Epoch 00071: val_loss did not improve from 0.02655\n",
      "599/599 [==============================] - 9s 16ms/step - loss: 0.0258 - root_mean_squared_error: 0.1608 - val_loss: 0.0275 - val_root_mean_squared_error: 0.1658\n",
      "Epoch 72/100\n",
      "596/599 [============================>.] - ETA: 0s - loss: 0.0238 - root_mean_squared_error: 0.1543\n",
      "Epoch 00072: val_loss improved from 0.02655 to 0.02633, saving model to /content/drive/My Drive/epochs/model_1_camera9.0072-0.0263.h5\n",
      "599/599 [==============================] - 10s 16ms/step - loss: 0.0241 - root_mean_squared_error: 0.1553 - val_loss: 0.0263 - val_root_mean_squared_error: 0.1623\n",
      "Epoch 73/100\n",
      "596/599 [============================>.] - ETA: 0s - loss: 0.0252 - root_mean_squared_error: 0.1586\n",
      "Epoch 00073: val_loss improved from 0.02633 to 0.02625, saving model to /content/drive/My Drive/epochs/model_1_camera9.0073-0.0262.h5\n",
      "599/599 [==============================] - 10s 16ms/step - loss: 0.0252 - root_mean_squared_error: 0.1586 - val_loss: 0.0262 - val_root_mean_squared_error: 0.1620\n",
      "Epoch 74/100\n",
      "597/599 [============================>.] - ETA: 0s - loss: 0.0265 - root_mean_squared_error: 0.1628\n",
      "Epoch 00074: val_loss improved from 0.02625 to 0.02625, saving model to /content/drive/My Drive/epochs/model_1_camera9.0074-0.0262.h5\n",
      "599/599 [==============================] - 10s 16ms/step - loss: 0.0265 - root_mean_squared_error: 0.1628 - val_loss: 0.0262 - val_root_mean_squared_error: 0.1620\n",
      "Epoch 75/100\n",
      "599/599 [==============================] - ETA: 0s - loss: 0.0247 - root_mean_squared_error: 0.1570\n",
      "Epoch 00075: val_loss improved from 0.02625 to 0.02610, saving model to /content/drive/My Drive/epochs/model_1_camera9.0075-0.0261.h5\n",
      "599/599 [==============================] - 10s 16ms/step - loss: 0.0247 - root_mean_squared_error: 0.1570 - val_loss: 0.0261 - val_root_mean_squared_error: 0.1616\n",
      "Epoch 76/100\n",
      "597/599 [============================>.] - ETA: 0s - loss: 0.0245 - root_mean_squared_error: 0.1565\n",
      "Epoch 00076: val_loss improved from 0.02610 to 0.02500, saving model to /content/drive/My Drive/epochs/model_1_camera9.0076-0.0250.h5\n",
      "599/599 [==============================] - 10s 16ms/step - loss: 0.0245 - root_mean_squared_error: 0.1565 - val_loss: 0.0250 - val_root_mean_squared_error: 0.1581\n",
      "Epoch 77/100\n",
      "599/599 [==============================] - ETA: 0s - loss: 0.0263 - root_mean_squared_error: 0.1620\n",
      "Epoch 00077: val_loss did not improve from 0.02500\n",
      "599/599 [==============================] - 9s 16ms/step - loss: 0.0263 - root_mean_squared_error: 0.1620 - val_loss: 0.0257 - val_root_mean_squared_error: 0.1603\n",
      "Epoch 78/100\n",
      "596/599 [============================>.] - ETA: 0s - loss: 0.0252 - root_mean_squared_error: 0.1588\n",
      "Epoch 00078: val_loss did not improve from 0.02500\n",
      "599/599 [==============================] - 10s 16ms/step - loss: 0.0251 - root_mean_squared_error: 0.1585 - val_loss: 0.0251 - val_root_mean_squared_error: 0.1583\n",
      "Epoch 79/100\n",
      "599/599 [==============================] - ETA: 0s - loss: 0.0250 - root_mean_squared_error: 0.1583\n",
      "Epoch 00079: val_loss did not improve from 0.02500\n",
      "599/599 [==============================] - 9s 16ms/step - loss: 0.0250 - root_mean_squared_error: 0.1583 - val_loss: 0.0252 - val_root_mean_squared_error: 0.1587\n",
      "Epoch 80/100\n",
      "599/599 [==============================] - ETA: 0s - loss: 0.0235 - root_mean_squared_error: 0.1532\n",
      "Epoch 00080: val_loss did not improve from 0.02500\n",
      "599/599 [==============================] - 9s 16ms/step - loss: 0.0235 - root_mean_squared_error: 0.1532 - val_loss: 0.0271 - val_root_mean_squared_error: 0.1645\n",
      "Epoch 81/100\n",
      "596/599 [============================>.] - ETA: 0s - loss: 0.0255 - root_mean_squared_error: 0.1598\n",
      "Epoch 00081: val_loss did not improve from 0.02500\n",
      "599/599 [==============================] - 9s 16ms/step - loss: 0.0256 - root_mean_squared_error: 0.1600 - val_loss: 0.0260 - val_root_mean_squared_error: 0.1611\n",
      "Epoch 82/100\n",
      "597/599 [============================>.] - ETA: 0s - loss: 0.0255 - root_mean_squared_error: 0.1597\n",
      "Epoch 00082: val_loss did not improve from 0.02500\n",
      "599/599 [==============================] - 9s 16ms/step - loss: 0.0256 - root_mean_squared_error: 0.1599 - val_loss: 0.0256 - val_root_mean_squared_error: 0.1601\n",
      "Epoch 83/100\n",
      "596/599 [============================>.] - ETA: 0s - loss: 0.0238 - root_mean_squared_error: 0.1544\n",
      "Epoch 00083: val_loss did not improve from 0.02500\n",
      "599/599 [==============================] - 10s 16ms/step - loss: 0.0238 - root_mean_squared_error: 0.1542 - val_loss: 0.0252 - val_root_mean_squared_error: 0.1587\n",
      "Epoch 84/100\n",
      "597/599 [============================>.] - ETA: 0s - loss: 0.0238 - root_mean_squared_error: 0.1544\n",
      "Epoch 00084: val_loss improved from 0.02500 to 0.02445, saving model to /content/drive/My Drive/epochs/model_1_camera9.0084-0.0244.h5\n",
      "599/599 [==============================] - 10s 16ms/step - loss: 0.0238 - root_mean_squared_error: 0.1543 - val_loss: 0.0244 - val_root_mean_squared_error: 0.1564\n",
      "Epoch 85/100\n",
      "598/599 [============================>.] - ETA: 0s - loss: 0.0226 - root_mean_squared_error: 0.1502\n",
      "Epoch 00085: val_loss did not improve from 0.02445\n",
      "599/599 [==============================] - 10s 16ms/step - loss: 0.0225 - root_mean_squared_error: 0.1501 - val_loss: 0.0247 - val_root_mean_squared_error: 0.1573\n",
      "Epoch 86/100\n",
      "597/599 [============================>.] - ETA: 0s - loss: 0.0233 - root_mean_squared_error: 0.1525\n",
      "Epoch 00086: val_loss improved from 0.02445 to 0.02402, saving model to /content/drive/My Drive/epochs/model_1_camera9.0086-0.0240.h5\n",
      "599/599 [==============================] - 10s 16ms/step - loss: 0.0233 - root_mean_squared_error: 0.1525 - val_loss: 0.0240 - val_root_mean_squared_error: 0.1550\n",
      "Epoch 87/100\n",
      "596/599 [============================>.] - ETA: 0s - loss: 0.0235 - root_mean_squared_error: 0.1533\n",
      "Epoch 00087: val_loss improved from 0.02402 to 0.02349, saving model to /content/drive/My Drive/epochs/model_1_camera9.0087-0.0235.h5\n",
      "599/599 [==============================] - 10s 16ms/step - loss: 0.0237 - root_mean_squared_error: 0.1540 - val_loss: 0.0235 - val_root_mean_squared_error: 0.1533\n",
      "Epoch 88/100\n",
      "599/599 [==============================] - ETA: 0s - loss: 0.0241 - root_mean_squared_error: 0.1553\n",
      "Epoch 00088: val_loss did not improve from 0.02349\n",
      "599/599 [==============================] - 9s 16ms/step - loss: 0.0241 - root_mean_squared_error: 0.1553 - val_loss: 0.0244 - val_root_mean_squared_error: 0.1562\n",
      "Epoch 89/100\n",
      "597/599 [============================>.] - ETA: 0s - loss: 0.0245 - root_mean_squared_error: 0.1565\n",
      "Epoch 00089: val_loss did not improve from 0.02349\n",
      "599/599 [==============================] - 10s 16ms/step - loss: 0.0245 - root_mean_squared_error: 0.1564 - val_loss: 0.0235 - val_root_mean_squared_error: 0.1533\n",
      "Epoch 90/100\n",
      "596/599 [============================>.] - ETA: 0s - loss: 0.0221 - root_mean_squared_error: 0.1487\n",
      "Epoch 00090: val_loss did not improve from 0.02349\n",
      "599/599 [==============================] - 9s 16ms/step - loss: 0.0222 - root_mean_squared_error: 0.1489 - val_loss: 0.0238 - val_root_mean_squared_error: 0.1543\n",
      "Epoch 91/100\n",
      "598/599 [============================>.] - ETA: 0s - loss: 0.0221 - root_mean_squared_error: 0.1487\n",
      "Epoch 00091: val_loss did not improve from 0.02349\n",
      "599/599 [==============================] - 10s 16ms/step - loss: 0.0221 - root_mean_squared_error: 0.1487 - val_loss: 0.0242 - val_root_mean_squared_error: 0.1557\n",
      "Epoch 92/100\n",
      "597/599 [============================>.] - ETA: 0s - loss: 0.0241 - root_mean_squared_error: 0.1552\n",
      "Epoch 00092: val_loss did not improve from 0.02349\n",
      "599/599 [==============================] - 9s 16ms/step - loss: 0.0240 - root_mean_squared_error: 0.1550 - val_loss: 0.0245 - val_root_mean_squared_error: 0.1564\n",
      "Epoch 93/100\n",
      "597/599 [============================>.] - ETA: 0s - loss: 0.0223 - root_mean_squared_error: 0.1492\n",
      "Epoch 00093: val_loss did not improve from 0.02349\n",
      "599/599 [==============================] - 9s 16ms/step - loss: 0.0222 - root_mean_squared_error: 0.1490 - val_loss: 0.0245 - val_root_mean_squared_error: 0.1564\n",
      "Epoch 94/100\n",
      "599/599 [==============================] - ETA: 0s - loss: 0.0234 - root_mean_squared_error: 0.1530\n",
      "Epoch 00094: val_loss did not improve from 0.02349\n",
      "599/599 [==============================] - 10s 16ms/step - loss: 0.0234 - root_mean_squared_error: 0.1530 - val_loss: 0.0250 - val_root_mean_squared_error: 0.1580\n",
      "Epoch 95/100\n",
      "596/599 [============================>.] - ETA: 0s - loss: 0.0222 - root_mean_squared_error: 0.1491\n",
      "Epoch 00095: val_loss improved from 0.02349 to 0.02300, saving model to /content/drive/My Drive/epochs/model_1_camera9.0095-0.0230.h5\n",
      "599/599 [==============================] - 10s 16ms/step - loss: 0.0224 - root_mean_squared_error: 0.1495 - val_loss: 0.0230 - val_root_mean_squared_error: 0.1517\n",
      "Epoch 96/100\n",
      "596/599 [============================>.] - ETA: 0s - loss: 0.0243 - root_mean_squared_error: 0.1558\n",
      "Epoch 00096: val_loss did not improve from 0.02300\n",
      "599/599 [==============================] - 10s 16ms/step - loss: 0.0242 - root_mean_squared_error: 0.1555 - val_loss: 0.0234 - val_root_mean_squared_error: 0.1531\n",
      "Epoch 97/100\n",
      "597/599 [============================>.] - ETA: 0s - loss: 0.0205 - root_mean_squared_error: 0.1433\n",
      "Epoch 00097: val_loss did not improve from 0.02300\n",
      "599/599 [==============================] - 9s 16ms/step - loss: 0.0205 - root_mean_squared_error: 0.1432 - val_loss: 0.0230 - val_root_mean_squared_error: 0.1517\n",
      "Epoch 98/100\n",
      "596/599 [============================>.] - ETA: 0s - loss: 0.0233 - root_mean_squared_error: 0.1526\n",
      "Epoch 00098: val_loss did not improve from 0.02300\n",
      "599/599 [==============================] - 9s 16ms/step - loss: 0.0234 - root_mean_squared_error: 0.1529 - val_loss: 0.0248 - val_root_mean_squared_error: 0.1574\n",
      "Epoch 99/100\n",
      "597/599 [============================>.] - ETA: 0s - loss: 0.0219 - root_mean_squared_error: 0.1479\n",
      "Epoch 00099: val_loss did not improve from 0.02300\n",
      "599/599 [==============================] - 9s 16ms/step - loss: 0.0218 - root_mean_squared_error: 0.1477 - val_loss: 0.0234 - val_root_mean_squared_error: 0.1528\n",
      "Epoch 100/100\n",
      "597/599 [============================>.] - ETA: 0s - loss: 0.0218 - root_mean_squared_error: 0.1476\n",
      "Epoch 00100: val_loss did not improve from 0.02300\n",
      "599/599 [==============================] - 9s 16ms/step - loss: 0.0218 - root_mean_squared_error: 0.1476 - val_loss: 0.0239 - val_root_mean_squared_error: 0.1546\n"
     ]
    }
   ],
   "source": [
    "history = model.fit(X_train,\n",
    "                    y_train,\n",
    "                    batch_size=64,\n",
    "                    validation_data=(X_test, y_test),\n",
    "                    epochs=100,\n",
    "                    verbose=1,\n",
    "                    callbacks=callbacks_list)"
   ]
  },
  {
   "cell_type": "code",
   "execution_count": null,
   "metadata": {
    "colab": {},
    "colab_type": "code",
    "id": "y5EgrRHTgALt"
   },
   "outputs": [],
   "source": [
    "model_1_camera9 = model_history('model_1_camera9')"
   ]
  },
  {
   "cell_type": "markdown",
   "metadata": {},
   "source": [
    "## Model 2"
   ]
  },
  {
   "cell_type": "markdown",
   "metadata": {},
   "source": [
    "### Model 2 camera8"
   ]
  },
  {
   "cell_type": "code",
   "execution_count": null,
   "metadata": {
    "colab": {},
    "colab_type": "code",
    "id": "6WvRy6-9eJ1Q"
   },
   "outputs": [],
   "source": [
    "X_train, X_test, y_train, y_test = train_load('camera8')"
   ]
  },
  {
   "cell_type": "code",
   "execution_count": null,
   "metadata": {
    "colab": {
     "base_uri": "https://localhost:8080/",
     "height": 34
    },
    "colab_type": "code",
    "id": "jQXYGqoJeJ1S",
    "outputId": "23bc7c35-dd2e-4ccc-fd4f-af843162077b"
   },
   "outputs": [
    {
     "data": {
      "text/plain": [
       "((22188, 80, 160, 1), (5548, 80, 160, 1), (22188, 1), (5548, 1))"
      ]
     },
     "execution_count": 15,
     "metadata": {
      "tags": []
     },
     "output_type": "execute_result"
    }
   ],
   "source": [
    "X_train.shape, X_test.shape, y_train.shape, y_test.shape"
   ]
  },
  {
   "cell_type": "code",
   "execution_count": null,
   "metadata": {
    "colab": {},
    "colab_type": "code",
    "id": "SCoq5rBm6ztI"
   },
   "outputs": [],
   "source": [
    "model = Sequential()\n",
    "\n",
    "model.add(Conv2D(16, (8, 8), strides=(4, 4), activation='elu', padding=\"same\"))\n",
    "\n",
    "model.add(Conv2D(32, (5, 5), strides=(2, 2), activation='elu', padding=\"same\"))\n",
    "\n",
    "model.add(Conv2D(64, (5, 5), strides=(2, 2), padding=\"same\"))\n",
    "\n",
    "model.add(Flatten())\n",
    "model.add(Dropout(.2))\n",
    "\n",
    "model.add(Dense(512, activation='elu'))\n",
    "model.add(Dropout(.5))\n",
    "\n",
    "model.add(Dense(1))\n",
    "\n",
    "model.compile(loss='mse', optimizer=Adam(lr=1e-04), metrics=[RootMeanSquaredError()])"
   ]
  },
  {
   "cell_type": "code",
   "execution_count": null,
   "metadata": {
    "colab": {},
    "colab_type": "code",
    "id": "262qoFA_eJ1U"
   },
   "outputs": [],
   "source": [
    "filepath = \"/content/drive/My Drive/epochs/model_2_1_camera8.{epoch:04d}-{val_loss:.4f}.h5\"\n",
    "checkpoint = ModelCheckpoint(filepath, monitor='val_loss', verbose=1, save_best_only=True, mode='min')\n",
    "callbacks_list = [checkpoint]"
   ]
  },
  {
   "cell_type": "code",
   "execution_count": null,
   "metadata": {
    "colab": {
     "base_uri": "https://localhost:8080/",
     "height": 1000
    },
    "colab_type": "code",
    "collapsed": true,
    "id": "E1y08YqxeJ1V",
    "outputId": "50b658a3-4470-43fc-e085-511b37cc195f"
   },
   "outputs": [
    {
     "name": "stdout",
     "output_type": "stream",
     "text": [
      "Epoch 1/30\n",
      "347/347 [==============================] - ETA: 0s - loss: 0.3885 - root_mean_squared_error: 0.6233\n",
      "Epoch 00001: val_loss improved from inf to 0.35014, saving model to /content/drive/My Drive/epochs/model_5_1_camera8.0001-0.3501.h5\n",
      "347/347 [==============================] - 2s 7ms/step - loss: 0.3885 - root_mean_squared_error: 0.6233 - val_loss: 0.3501 - val_root_mean_squared_error: 0.5917\n",
      "Epoch 2/30\n",
      "344/347 [============================>.] - ETA: 0s - loss: 0.3511 - root_mean_squared_error: 0.5925\n",
      "Epoch 00002: val_loss improved from 0.35014 to 0.33945, saving model to /content/drive/My Drive/epochs/model_5_1_camera8.0002-0.3395.h5\n",
      "347/347 [==============================] - 2s 6ms/step - loss: 0.3530 - root_mean_squared_error: 0.5942 - val_loss: 0.3395 - val_root_mean_squared_error: 0.5826\n",
      "Epoch 3/30\n",
      "345/347 [============================>.] - ETA: 0s - loss: 0.3234 - root_mean_squared_error: 0.5687\n",
      "Epoch 00003: val_loss improved from 0.33945 to 0.33724, saving model to /content/drive/My Drive/epochs/model_5_1_camera8.0003-0.3372.h5\n",
      "347/347 [==============================] - 2s 6ms/step - loss: 0.3250 - root_mean_squared_error: 0.5701 - val_loss: 0.3372 - val_root_mean_squared_error: 0.5807\n",
      "Epoch 4/30\n",
      "338/347 [============================>.] - ETA: 0s - loss: 0.3078 - root_mean_squared_error: 0.5548\n",
      "Epoch 00004: val_loss improved from 0.33724 to 0.33642, saving model to /content/drive/My Drive/epochs/model_5_1_camera8.0004-0.3364.h5\n",
      "347/347 [==============================] - 2s 7ms/step - loss: 0.3104 - root_mean_squared_error: 0.5572 - val_loss: 0.3364 - val_root_mean_squared_error: 0.5800\n",
      "Epoch 5/30\n",
      "340/347 [============================>.] - ETA: 0s - loss: 0.2960 - root_mean_squared_error: 0.5440\n",
      "Epoch 00005: val_loss did not improve from 0.33642\n",
      "347/347 [==============================] - 2s 6ms/step - loss: 0.2966 - root_mean_squared_error: 0.5446 - val_loss: 0.3365 - val_root_mean_squared_error: 0.5801\n",
      "Epoch 6/30\n",
      "340/347 [============================>.] - ETA: 0s - loss: 0.2852 - root_mean_squared_error: 0.5340\n",
      "Epoch 00006: val_loss did not improve from 0.33642\n",
      "347/347 [==============================] - 2s 6ms/step - loss: 0.2837 - root_mean_squared_error: 0.5326 - val_loss: 0.3387 - val_root_mean_squared_error: 0.5820\n",
      "Epoch 7/30\n",
      "343/347 [============================>.] - ETA: 0s - loss: 0.2760 - root_mean_squared_error: 0.5254\n",
      "Epoch 00007: val_loss did not improve from 0.33642\n",
      "347/347 [==============================] - 2s 6ms/step - loss: 0.2765 - root_mean_squared_error: 0.5258 - val_loss: 0.3412 - val_root_mean_squared_error: 0.5842\n",
      "Epoch 8/30\n",
      "341/347 [============================>.] - ETA: 0s - loss: 0.2689 - root_mean_squared_error: 0.5185\n",
      "Epoch 00008: val_loss did not improve from 0.33642\n",
      "347/347 [==============================] - 2s 6ms/step - loss: 0.2699 - root_mean_squared_error: 0.5195 - val_loss: 0.3443 - val_root_mean_squared_error: 0.5868\n",
      "Epoch 9/30\n",
      "344/347 [============================>.] - ETA: 0s - loss: 0.2649 - root_mean_squared_error: 0.5147\n",
      "Epoch 00009: val_loss did not improve from 0.33642\n",
      "347/347 [==============================] - 2s 6ms/step - loss: 0.2642 - root_mean_squared_error: 0.5140 - val_loss: 0.3437 - val_root_mean_squared_error: 0.5862\n",
      "Epoch 10/30\n",
      "344/347 [============================>.] - ETA: 0s - loss: 0.2584 - root_mean_squared_error: 0.5083\n",
      "Epoch 00010: val_loss did not improve from 0.33642\n",
      "347/347 [==============================] - 2s 6ms/step - loss: 0.2577 - root_mean_squared_error: 0.5076 - val_loss: 0.3449 - val_root_mean_squared_error: 0.5872\n",
      "Epoch 11/30\n",
      "344/347 [============================>.] - ETA: 0s - loss: 0.2544 - root_mean_squared_error: 0.5043\n",
      "Epoch 00011: val_loss did not improve from 0.33642\n",
      "347/347 [==============================] - 2s 6ms/step - loss: 0.2539 - root_mean_squared_error: 0.5039 - val_loss: 0.3474 - val_root_mean_squared_error: 0.5894\n",
      "Epoch 12/30\n",
      "347/347 [==============================] - ETA: 0s - loss: 0.2496 - root_mean_squared_error: 0.4996\n",
      "Epoch 00012: val_loss did not improve from 0.33642\n",
      "347/347 [==============================] - 2s 6ms/step - loss: 0.2496 - root_mean_squared_error: 0.4996 - val_loss: 0.3487 - val_root_mean_squared_error: 0.5905\n",
      "Epoch 13/30\n",
      "343/347 [============================>.] - ETA: 0s - loss: 0.2446 - root_mean_squared_error: 0.4945\n",
      "Epoch 00013: val_loss did not improve from 0.33642\n",
      "347/347 [==============================] - 2s 6ms/step - loss: 0.2449 - root_mean_squared_error: 0.4949 - val_loss: 0.3463 - val_root_mean_squared_error: 0.5884\n",
      "Epoch 14/30\n",
      "344/347 [============================>.] - ETA: 0s - loss: 0.2423 - root_mean_squared_error: 0.4923\n",
      "Epoch 00014: val_loss did not improve from 0.33642\n",
      "347/347 [==============================] - 2s 6ms/step - loss: 0.2418 - root_mean_squared_error: 0.4917 - val_loss: 0.3542 - val_root_mean_squared_error: 0.5951\n",
      "Epoch 15/30\n",
      "340/347 [============================>.] - ETA: 0s - loss: 0.2410 - root_mean_squared_error: 0.4909\n",
      "Epoch 00015: val_loss did not improve from 0.33642\n",
      "347/347 [==============================] - 2s 6ms/step - loss: 0.2398 - root_mean_squared_error: 0.4897 - val_loss: 0.3555 - val_root_mean_squared_error: 0.5962\n",
      "Epoch 16/30\n",
      "340/347 [============================>.] - ETA: 0s - loss: 0.2349 - root_mean_squared_error: 0.4847\n",
      "Epoch 00016: val_loss did not improve from 0.33642\n",
      "347/347 [==============================] - 2s 6ms/step - loss: 0.2346 - root_mean_squared_error: 0.4843 - val_loss: 0.3555 - val_root_mean_squared_error: 0.5962\n",
      "Epoch 17/30\n",
      "346/347 [============================>.] - ETA: 0s - loss: 0.2315 - root_mean_squared_error: 0.4812\n",
      "Epoch 00017: val_loss did not improve from 0.33642\n",
      "347/347 [==============================] - 2s 6ms/step - loss: 0.2314 - root_mean_squared_error: 0.4811 - val_loss: 0.3629 - val_root_mean_squared_error: 0.6024\n",
      "Epoch 18/30\n",
      "342/347 [============================>.] - ETA: 0s - loss: 0.2290 - root_mean_squared_error: 0.4785\n",
      "Epoch 00018: val_loss did not improve from 0.33642\n",
      "347/347 [==============================] - 2s 6ms/step - loss: 0.2279 - root_mean_squared_error: 0.4773 - val_loss: 0.3644 - val_root_mean_squared_error: 0.6036\n",
      "Epoch 19/30\n",
      "342/347 [============================>.] - ETA: 0s - loss: 0.2244 - root_mean_squared_error: 0.4737\n",
      "Epoch 00019: val_loss did not improve from 0.33642\n",
      "347/347 [==============================] - 2s 6ms/step - loss: 0.2241 - root_mean_squared_error: 0.4734 - val_loss: 0.3732 - val_root_mean_squared_error: 0.6109\n",
      "Epoch 20/30\n",
      "343/347 [============================>.] - ETA: 0s - loss: 0.2229 - root_mean_squared_error: 0.4721\n",
      "Epoch 00020: val_loss did not improve from 0.33642\n",
      "347/347 [==============================] - 2s 6ms/step - loss: 0.2230 - root_mean_squared_error: 0.4723 - val_loss: 0.3757 - val_root_mean_squared_error: 0.6129\n",
      "Epoch 21/30\n",
      "346/347 [============================>.] - ETA: 0s - loss: 0.2226 - root_mean_squared_error: 0.4718\n",
      "Epoch 00021: val_loss did not improve from 0.33642\n",
      "347/347 [==============================] - 2s 6ms/step - loss: 0.2223 - root_mean_squared_error: 0.4715 - val_loss: 0.3742 - val_root_mean_squared_error: 0.6118\n",
      "Epoch 22/30\n",
      "343/347 [============================>.] - ETA: 0s - loss: 0.2182 - root_mean_squared_error: 0.4672\n",
      "Epoch 00022: val_loss did not improve from 0.33642\n",
      "347/347 [==============================] - 2s 6ms/step - loss: 0.2178 - root_mean_squared_error: 0.4666 - val_loss: 0.3794 - val_root_mean_squared_error: 0.6159\n",
      "Epoch 23/30\n",
      "343/347 [============================>.] - ETA: 0s - loss: 0.2170 - root_mean_squared_error: 0.4658\n",
      "Epoch 00023: val_loss did not improve from 0.33642\n",
      "347/347 [==============================] - 2s 6ms/step - loss: 0.2175 - root_mean_squared_error: 0.4664 - val_loss: 0.3792 - val_root_mean_squared_error: 0.6158\n",
      "Epoch 24/30\n",
      "340/347 [============================>.] - ETA: 0s - loss: 0.2145 - root_mean_squared_error: 0.4631\n",
      "Epoch 00024: val_loss did not improve from 0.33642\n",
      "347/347 [==============================] - 2s 6ms/step - loss: 0.2135 - root_mean_squared_error: 0.4620 - val_loss: 0.3804 - val_root_mean_squared_error: 0.6168\n",
      "Epoch 25/30\n",
      "341/347 [============================>.] - ETA: 0s - loss: 0.2097 - root_mean_squared_error: 0.4579\n",
      "Epoch 00025: val_loss did not improve from 0.33642\n",
      "347/347 [==============================] - 2s 6ms/step - loss: 0.2102 - root_mean_squared_error: 0.4585 - val_loss: 0.3917 - val_root_mean_squared_error: 0.6258\n",
      "Epoch 26/30\n",
      "343/347 [============================>.] - ETA: 0s - loss: 0.2090 - root_mean_squared_error: 0.4571\n",
      "Epoch 00026: val_loss did not improve from 0.33642\n",
      "347/347 [==============================] - 2s 6ms/step - loss: 0.2085 - root_mean_squared_error: 0.4567 - val_loss: 0.3987 - val_root_mean_squared_error: 0.6314\n",
      "Epoch 27/30\n",
      "338/347 [============================>.] - ETA: 0s - loss: 0.2043 - root_mean_squared_error: 0.4519\n",
      "Epoch 00027: val_loss did not improve from 0.33642\n",
      "347/347 [==============================] - 2s 7ms/step - loss: 0.2067 - root_mean_squared_error: 0.4546 - val_loss: 0.3909 - val_root_mean_squared_error: 0.6252\n",
      "Epoch 28/30\n",
      "341/347 [============================>.] - ETA: 0s - loss: 0.2044 - root_mean_squared_error: 0.4521\n",
      "Epoch 00028: val_loss did not improve from 0.33642\n",
      "347/347 [==============================] - 2s 7ms/step - loss: 0.2048 - root_mean_squared_error: 0.4525 - val_loss: 0.3991 - val_root_mean_squared_error: 0.6317\n",
      "Epoch 29/30\n",
      "342/347 [============================>.] - ETA: 0s - loss: 0.2035 - root_mean_squared_error: 0.4512\n",
      "Epoch 00029: val_loss did not improve from 0.33642\n",
      "347/347 [==============================] - 2s 7ms/step - loss: 0.2038 - root_mean_squared_error: 0.4514 - val_loss: 0.4025 - val_root_mean_squared_error: 0.6345\n",
      "Epoch 30/30\n",
      "345/347 [============================>.] - ETA: 0s - loss: 0.2001 - root_mean_squared_error: 0.4473\n",
      "Epoch 00030: val_loss did not improve from 0.33642\n",
      "347/347 [==============================] - 2s 7ms/step - loss: 0.2002 - root_mean_squared_error: 0.4474 - val_loss: 0.3944 - val_root_mean_squared_error: 0.6280\n"
     ]
    }
   ],
   "source": [
    "history = model.fit(X_train,\n",
    "                    y_train,\n",
    "                    batch_size=64,\n",
    "                    validation_data=(X_test, y_test),\n",
    "                    epochs=30,\n",
    "                    verbose=1,\n",
    "                    callbacks=callbacks_list)"
   ]
  },
  {
   "cell_type": "code",
   "execution_count": null,
   "metadata": {
    "colab": {},
    "colab_type": "code",
    "id": "J809z3EFeJ1b"
   },
   "outputs": [],
   "source": [
    "model_2_camera8 = model_history('model_2_1_camera8')"
   ]
  },
  {
   "cell_type": "markdown",
   "metadata": {},
   "source": [
    "### Model 2 camera1"
   ]
  },
  {
   "cell_type": "code",
   "execution_count": 6,
   "metadata": {
    "colab": {},
    "colab_type": "code",
    "id": "2r7kHHOCR1co"
   },
   "outputs": [],
   "source": [
    "model = load_model('/content/drive/My Drive/epochs/model_2_1_camera8.0004-0.3364.h5')"
   ]
  },
  {
   "cell_type": "code",
   "execution_count": 8,
   "metadata": {
    "colab": {},
    "colab_type": "code",
    "id": "WAUy7zNGTln4"
   },
   "outputs": [],
   "source": [
    "X_train, X_test, y_train, y_test = train_load('camera1')"
   ]
  },
  {
   "cell_type": "code",
   "execution_count": 9,
   "metadata": {
    "colab": {
     "base_uri": "https://localhost:8080/",
     "height": 34
    },
    "colab_type": "code",
    "id": "wHIpb0obTvZy",
    "outputId": "50474b58-1e67-4cc9-ade5-ea527ae5fd5f"
   },
   "outputs": [
    {
     "data": {
      "text/plain": [
       "((41003, 80, 160, 1), (10251, 80, 160, 1), (41003, 1), (10251, 1))"
      ]
     },
     "execution_count": 9,
     "metadata": {
      "tags": []
     },
     "output_type": "execute_result"
    }
   ],
   "source": [
    "X_train.shape, X_test.shape, y_train.shape, y_test.shape"
   ]
  },
  {
   "cell_type": "code",
   "execution_count": 11,
   "metadata": {
    "colab": {},
    "colab_type": "code",
    "id": "YorsRxR6SkL2"
   },
   "outputs": [],
   "source": [
    "filepath = \"/content/drive/My Drive/epochs/model_2_2_camera1.{epoch:04d}-{val_loss:.4f}.h5\"\n",
    "checkpoint = ModelCheckpoint(filepath, monitor='val_loss', verbose=1, save_best_only=True, mode='min')\n",
    "callbacks_list = [checkpoint]"
   ]
  },
  {
   "cell_type": "code",
   "execution_count": 12,
   "metadata": {
    "colab": {
     "base_uri": "https://localhost:8080/",
     "height": 1000
    },
    "colab_type": "code",
    "collapsed": true,
    "id": "wc2lXnpYSsYh",
    "outputId": "61595505-b806-45ec-ad0f-eccf8794a1d4"
   },
   "outputs": [
    {
     "name": "stdout",
     "output_type": "stream",
     "text": [
      "Epoch 1/30\n",
      "641/641 [==============================] - ETA: 0s - loss: 0.2590 - root_mean_squared_error: 0.5089\n",
      "Epoch 00001: val_loss improved from inf to 0.22856, saving model to /content/drive/My Drive/epochs/model_5_2_camera1.0001-0.2286.h5\n",
      "641/641 [==============================] - 5s 8ms/step - loss: 0.2590 - root_mean_squared_error: 0.5089 - val_loss: 0.2286 - val_root_mean_squared_error: 0.4781\n",
      "Epoch 2/30\n",
      "640/641 [============================>.] - ETA: 0s - loss: 0.2440 - root_mean_squared_error: 0.4940\n",
      "Epoch 00002: val_loss improved from 0.22856 to 0.22818, saving model to /content/drive/My Drive/epochs/model_5_2_camera1.0002-0.2282.h5\n",
      "641/641 [==============================] - 4s 6ms/step - loss: 0.2438 - root_mean_squared_error: 0.4938 - val_loss: 0.2282 - val_root_mean_squared_error: 0.4777\n",
      "Epoch 3/30\n",
      "639/641 [============================>.] - ETA: 0s - loss: 0.2380 - root_mean_squared_error: 0.4879\n",
      "Epoch 00003: val_loss improved from 0.22818 to 0.22266, saving model to /content/drive/My Drive/epochs/model_5_2_camera1.0003-0.2227.h5\n",
      "641/641 [==============================] - 4s 6ms/step - loss: 0.2378 - root_mean_squared_error: 0.4876 - val_loss: 0.2227 - val_root_mean_squared_error: 0.4719\n",
      "Epoch 4/30\n",
      "639/641 [============================>.] - ETA: 0s - loss: 0.2328 - root_mean_squared_error: 0.4825\n",
      "Epoch 00004: val_loss improved from 0.22266 to 0.22231, saving model to /content/drive/My Drive/epochs/model_5_2_camera1.0004-0.2223.h5\n",
      "641/641 [==============================] - 4s 6ms/step - loss: 0.2323 - root_mean_squared_error: 0.4819 - val_loss: 0.2223 - val_root_mean_squared_error: 0.4715\n",
      "Epoch 5/30\n",
      "636/641 [============================>.] - ETA: 0s - loss: 0.2293 - root_mean_squared_error: 0.4789\n",
      "Epoch 00005: val_loss improved from 0.22231 to 0.22180, saving model to /content/drive/My Drive/epochs/model_5_2_camera1.0005-0.2218.h5\n",
      "641/641 [==============================] - 4s 6ms/step - loss: 0.2291 - root_mean_squared_error: 0.4787 - val_loss: 0.2218 - val_root_mean_squared_error: 0.4710\n",
      "Epoch 6/30\n",
      "640/641 [============================>.] - ETA: 0s - loss: 0.2259 - root_mean_squared_error: 0.4753\n",
      "Epoch 00006: val_loss did not improve from 0.22180\n",
      "641/641 [==============================] - 4s 6ms/step - loss: 0.2257 - root_mean_squared_error: 0.4751 - val_loss: 0.2239 - val_root_mean_squared_error: 0.4732\n",
      "Epoch 7/30\n",
      "636/641 [============================>.] - ETA: 0s - loss: 0.2243 - root_mean_squared_error: 0.4736\n",
      "Epoch 00007: val_loss did not improve from 0.22180\n",
      "641/641 [==============================] - 4s 6ms/step - loss: 0.2231 - root_mean_squared_error: 0.4723 - val_loss: 0.2221 - val_root_mean_squared_error: 0.4713\n",
      "Epoch 8/30\n",
      "639/641 [============================>.] - ETA: 0s - loss: 0.2193 - root_mean_squared_error: 0.4683\n",
      "Epoch 00008: val_loss did not improve from 0.22180\n",
      "641/641 [==============================] - 4s 6ms/step - loss: 0.2193 - root_mean_squared_error: 0.4683 - val_loss: 0.2240 - val_root_mean_squared_error: 0.4732\n",
      "Epoch 9/30\n",
      "640/641 [============================>.] - ETA: 0s - loss: 0.2181 - root_mean_squared_error: 0.4671\n",
      "Epoch 00009: val_loss did not improve from 0.22180\n",
      "641/641 [==============================] - 4s 6ms/step - loss: 0.2179 - root_mean_squared_error: 0.4668 - val_loss: 0.2257 - val_root_mean_squared_error: 0.4751\n",
      "Epoch 10/30\n",
      "634/641 [============================>.] - ETA: 0s - loss: 0.2147 - root_mean_squared_error: 0.4633\n",
      "Epoch 00010: val_loss did not improve from 0.22180\n",
      "641/641 [==============================] - 4s 6ms/step - loss: 0.2152 - root_mean_squared_error: 0.4639 - val_loss: 0.2244 - val_root_mean_squared_error: 0.4737\n",
      "Epoch 11/30\n",
      "637/641 [============================>.] - ETA: 0s - loss: 0.2133 - root_mean_squared_error: 0.4619\n",
      "Epoch 00011: val_loss did not improve from 0.22180\n",
      "641/641 [==============================] - 4s 6ms/step - loss: 0.2132 - root_mean_squared_error: 0.4617 - val_loss: 0.2264 - val_root_mean_squared_error: 0.4758\n",
      "Epoch 12/30\n",
      "635/641 [============================>.] - ETA: 0s - loss: 0.2100 - root_mean_squared_error: 0.4583\n",
      "Epoch 00012: val_loss did not improve from 0.22180\n",
      "641/641 [==============================] - 4s 6ms/step - loss: 0.2112 - root_mean_squared_error: 0.4596 - val_loss: 0.2243 - val_root_mean_squared_error: 0.4736\n",
      "Epoch 13/30\n",
      "637/641 [============================>.] - ETA: 0s - loss: 0.2086 - root_mean_squared_error: 0.4568\n",
      "Epoch 00013: val_loss did not improve from 0.22180\n",
      "641/641 [==============================] - 4s 7ms/step - loss: 0.2098 - root_mean_squared_error: 0.4580 - val_loss: 0.2318 - val_root_mean_squared_error: 0.4815\n",
      "Epoch 14/30\n",
      "641/641 [==============================] - ETA: 0s - loss: 0.2076 - root_mean_squared_error: 0.4557\n",
      "Epoch 00014: val_loss did not improve from 0.22180\n",
      "641/641 [==============================] - 4s 6ms/step - loss: 0.2076 - root_mean_squared_error: 0.4557 - val_loss: 0.2272 - val_root_mean_squared_error: 0.4766\n",
      "Epoch 15/30\n",
      "632/641 [============================>.] - ETA: 0s - loss: 0.2059 - root_mean_squared_error: 0.4537\n",
      "Epoch 00015: val_loss did not improve from 0.22180\n",
      "641/641 [==============================] - 4s 6ms/step - loss: 0.2053 - root_mean_squared_error: 0.4531 - val_loss: 0.2304 - val_root_mean_squared_error: 0.4800\n",
      "Epoch 16/30\n",
      "636/641 [============================>.] - ETA: 0s - loss: 0.2047 - root_mean_squared_error: 0.4525\n",
      "Epoch 00016: val_loss did not improve from 0.22180\n",
      "641/641 [==============================] - 4s 6ms/step - loss: 0.2046 - root_mean_squared_error: 0.4523 - val_loss: 0.2326 - val_root_mean_squared_error: 0.4823\n",
      "Epoch 17/30\n",
      "640/641 [============================>.] - ETA: 0s - loss: 0.2035 - root_mean_squared_error: 0.4511\n",
      "Epoch 00017: val_loss did not improve from 0.22180\n",
      "641/641 [==============================] - 4s 6ms/step - loss: 0.2035 - root_mean_squared_error: 0.4511 - val_loss: 0.2286 - val_root_mean_squared_error: 0.4781\n",
      "Epoch 18/30\n",
      "632/641 [============================>.] - ETA: 0s - loss: 0.2024 - root_mean_squared_error: 0.4498\n",
      "Epoch 00018: val_loss did not improve from 0.22180\n",
      "641/641 [==============================] - 4s 6ms/step - loss: 0.2023 - root_mean_squared_error: 0.4498 - val_loss: 0.2285 - val_root_mean_squared_error: 0.4780\n",
      "Epoch 19/30\n",
      "632/641 [============================>.] - ETA: 0s - loss: 0.2009 - root_mean_squared_error: 0.4482\n",
      "Epoch 00019: val_loss did not improve from 0.22180\n",
      "641/641 [==============================] - 4s 6ms/step - loss: 0.2008 - root_mean_squared_error: 0.4481 - val_loss: 0.2319 - val_root_mean_squared_error: 0.4816\n",
      "Epoch 20/30\n",
      "640/641 [============================>.] - ETA: 0s - loss: 0.1993 - root_mean_squared_error: 0.4465\n",
      "Epoch 00020: val_loss did not improve from 0.22180\n",
      "641/641 [==============================] - 4s 6ms/step - loss: 0.1995 - root_mean_squared_error: 0.4467 - val_loss: 0.2303 - val_root_mean_squared_error: 0.4799\n",
      "Epoch 21/30\n",
      "634/641 [============================>.] - ETA: 0s - loss: 0.1970 - root_mean_squared_error: 0.4438\n",
      "Epoch 00021: val_loss did not improve from 0.22180\n",
      "641/641 [==============================] - 4s 6ms/step - loss: 0.1979 - root_mean_squared_error: 0.4448 - val_loss: 0.2317 - val_root_mean_squared_error: 0.4814\n",
      "Epoch 22/30\n",
      "636/641 [============================>.] - ETA: 0s - loss: 0.1982 - root_mean_squared_error: 0.4452\n",
      "Epoch 00022: val_loss did not improve from 0.22180\n",
      "641/641 [==============================] - 4s 6ms/step - loss: 0.1974 - root_mean_squared_error: 0.4443 - val_loss: 0.2306 - val_root_mean_squared_error: 0.4803\n",
      "Epoch 23/30\n",
      "639/641 [============================>.] - ETA: 0s - loss: 0.1953 - root_mean_squared_error: 0.4420\n",
      "Epoch 00023: val_loss did not improve from 0.22180\n",
      "641/641 [==============================] - 4s 6ms/step - loss: 0.1953 - root_mean_squared_error: 0.4419 - val_loss: 0.2341 - val_root_mean_squared_error: 0.4838\n",
      "Epoch 24/30\n",
      "633/641 [============================>.] - ETA: 0s - loss: 0.1937 - root_mean_squared_error: 0.4401\n",
      "Epoch 00024: val_loss did not improve from 0.22180\n",
      "641/641 [==============================] - 4s 6ms/step - loss: 0.1944 - root_mean_squared_error: 0.4409 - val_loss: 0.2348 - val_root_mean_squared_error: 0.4845\n",
      "Epoch 25/30\n",
      "637/641 [============================>.] - ETA: 0s - loss: 0.1934 - root_mean_squared_error: 0.4398\n",
      "Epoch 00025: val_loss did not improve from 0.22180\n",
      "641/641 [==============================] - 4s 6ms/step - loss: 0.1935 - root_mean_squared_error: 0.4399 - val_loss: 0.2346 - val_root_mean_squared_error: 0.4844\n",
      "Epoch 26/30\n",
      "634/641 [============================>.] - ETA: 0s - loss: 0.1925 - root_mean_squared_error: 0.4387\n",
      "Epoch 00026: val_loss did not improve from 0.22180\n",
      "641/641 [==============================] - 4s 6ms/step - loss: 0.1920 - root_mean_squared_error: 0.4382 - val_loss: 0.2371 - val_root_mean_squared_error: 0.4869\n",
      "Epoch 27/30\n",
      "637/641 [============================>.] - ETA: 0s - loss: 0.1928 - root_mean_squared_error: 0.4391\n",
      "Epoch 00027: val_loss did not improve from 0.22180\n",
      "641/641 [==============================] - 4s 6ms/step - loss: 0.1921 - root_mean_squared_error: 0.4383 - val_loss: 0.2362 - val_root_mean_squared_error: 0.4860\n",
      "Epoch 28/30\n",
      "633/641 [============================>.] - ETA: 0s - loss: 0.1905 - root_mean_squared_error: 0.4364\n",
      "Epoch 00028: val_loss did not improve from 0.22180\n",
      "641/641 [==============================] - 4s 6ms/step - loss: 0.1904 - root_mean_squared_error: 0.4363 - val_loss: 0.2396 - val_root_mean_squared_error: 0.4895\n",
      "Epoch 29/30\n",
      "640/641 [============================>.] - ETA: 0s - loss: 0.1897 - root_mean_squared_error: 0.4355\n",
      "Epoch 00029: val_loss did not improve from 0.22180\n",
      "641/641 [==============================] - 4s 6ms/step - loss: 0.1896 - root_mean_squared_error: 0.4354 - val_loss: 0.2357 - val_root_mean_squared_error: 0.4855\n",
      "Epoch 30/30\n",
      "637/641 [============================>.] - ETA: 0s - loss: 0.1899 - root_mean_squared_error: 0.4358\n",
      "Epoch 00030: val_loss did not improve from 0.22180\n",
      "641/641 [==============================] - 4s 6ms/step - loss: 0.1893 - root_mean_squared_error: 0.4350 - val_loss: 0.2410 - val_root_mean_squared_error: 0.4909\n"
     ]
    }
   ],
   "source": [
    "history = model.fit(X_train,\n",
    "                    y_train,\n",
    "                    batch_size=64,\n",
    "                    validation_data=(X_test, y_test),\n",
    "                    epochs=30,\n",
    "                    verbose=1,\n",
    "                    callbacks=callbacks_list)"
   ]
  },
  {
   "cell_type": "code",
   "execution_count": null,
   "metadata": {
    "colab": {},
    "colab_type": "code",
    "id": "5iOc0O-5k-zo"
   },
   "outputs": [],
   "source": [
    "model_2_camera1 = model_history('model_2_2_camera1')"
   ]
  },
  {
   "cell_type": "markdown",
   "metadata": {},
   "source": [
    "### Model 2 camera9"
   ]
  },
  {
   "cell_type": "code",
   "execution_count": null,
   "metadata": {
    "colab": {},
    "colab_type": "code",
    "id": "kRkXNI167Ptt"
   },
   "outputs": [],
   "source": [
    "model = load_model('/content/drive/My Drive/epochs/model_2_2_camera1.0006-0.2219.h5')"
   ]
  },
  {
   "cell_type": "code",
   "execution_count": null,
   "metadata": {
    "colab": {},
    "colab_type": "code",
    "id": "CFd6a5Qv7Ptz"
   },
   "outputs": [],
   "source": [
    "X_train, X_test, y_train, y_test = train_load('camera9')"
   ]
  },
  {
   "cell_type": "code",
   "execution_count": null,
   "metadata": {
    "colab": {
     "base_uri": "https://localhost:8080/",
     "height": 34
    },
    "colab_type": "code",
    "id": "Gy1665sS7Pt1",
    "outputId": "a82d286f-b70d-425f-b19a-790bc9d8631b"
   },
   "outputs": [
    {
     "data": {
      "text/plain": [
       "((38312, 80, 160, 1), (9578, 80, 160, 1), (38312, 1), (9578, 1))"
      ]
     },
     "execution_count": 13,
     "metadata": {
      "tags": []
     },
     "output_type": "execute_result"
    }
   ],
   "source": [
    "X_train.shape, X_test.shape, y_train.shape, y_test.shape"
   ]
  },
  {
   "cell_type": "code",
   "execution_count": null,
   "metadata": {
    "colab": {},
    "colab_type": "code",
    "id": "HJCLmEfH7Pt3"
   },
   "outputs": [],
   "source": [
    "filepath = \"/content/drive/My Drive/epochs/model_2_3_camera9.{epoch:04d}-{val_loss:.4f}.h5\"\n",
    "checkpoint = ModelCheckpoint(filepath, monitor='val_loss', verbose=1, save_best_only=True, mode='min')\n",
    "callbacks_list = [checkpoint]"
   ]
  },
  {
   "cell_type": "code",
   "execution_count": null,
   "metadata": {
    "colab": {
     "base_uri": "https://localhost:8080/",
     "height": 1000
    },
    "colab_type": "code",
    "collapsed": true,
    "id": "ckKW_gGx7Pt5",
    "outputId": "f7df1b08-0b16-46a9-8e6f-64111247f777"
   },
   "outputs": [
    {
     "name": "stdout",
     "output_type": "stream",
     "text": [
      "Epoch 1/30\n",
      "599/599 [==============================] - ETA: 0s - loss: 0.0626 - root_mean_squared_error: 0.2503\n",
      "Epoch 00001: val_loss improved from inf to 0.05617, saving model to /content/drive/My Drive/epochs/model_5_3_camera9.0001-0.0562.h5\n",
      "599/599 [==============================] - 4s 7ms/step - loss: 0.0626 - root_mean_squared_error: 0.2503 - val_loss: 0.0562 - val_root_mean_squared_error: 0.2370\n",
      "Epoch 2/30\n",
      "598/599 [============================>.] - ETA: 0s - loss: 0.0539 - root_mean_squared_error: 0.2321\n",
      "Epoch 00002: val_loss improved from 0.05617 to 0.05341, saving model to /content/drive/My Drive/epochs/model_5_3_camera9.0002-0.0534.h5\n",
      "599/599 [==============================] - 4s 6ms/step - loss: 0.0538 - root_mean_squared_error: 0.2320 - val_loss: 0.0534 - val_root_mean_squared_error: 0.2311\n",
      "Epoch 3/30\n",
      "597/599 [============================>.] - ETA: 0s - loss: 0.0510 - root_mean_squared_error: 0.2258\n",
      "Epoch 00003: val_loss improved from 0.05341 to 0.05258, saving model to /content/drive/My Drive/epochs/model_5_3_camera9.0003-0.0526.h5\n",
      "599/599 [==============================] - 4s 7ms/step - loss: 0.0513 - root_mean_squared_error: 0.2265 - val_loss: 0.0526 - val_root_mean_squared_error: 0.2293\n",
      "Epoch 4/30\n",
      "596/599 [============================>.] - ETA: 0s - loss: 0.0497 - root_mean_squared_error: 0.2229\n",
      "Epoch 00004: val_loss did not improve from 0.05258\n",
      "599/599 [==============================] - 4s 6ms/step - loss: 0.0498 - root_mean_squared_error: 0.2231 - val_loss: 0.0528 - val_root_mean_squared_error: 0.2298\n",
      "Epoch 5/30\n",
      "591/599 [============================>.] - ETA: 0s - loss: 0.0480 - root_mean_squared_error: 0.2191\n",
      "Epoch 00005: val_loss did not improve from 0.05258\n",
      "599/599 [==============================] - 4s 6ms/step - loss: 0.0485 - root_mean_squared_error: 0.2202 - val_loss: 0.0530 - val_root_mean_squared_error: 0.2303\n",
      "Epoch 6/30\n",
      "598/599 [============================>.] - ETA: 0s - loss: 0.0475 - root_mean_squared_error: 0.2179\n",
      "Epoch 00006: val_loss did not improve from 0.05258\n",
      "599/599 [==============================] - 4s 6ms/step - loss: 0.0475 - root_mean_squared_error: 0.2178 - val_loss: 0.0534 - val_root_mean_squared_error: 0.2311\n",
      "Epoch 7/30\n",
      "593/599 [============================>.] - ETA: 0s - loss: 0.0461 - root_mean_squared_error: 0.2147\n",
      "Epoch 00007: val_loss did not improve from 0.05258\n",
      "599/599 [==============================] - 4s 6ms/step - loss: 0.0462 - root_mean_squared_error: 0.2149 - val_loss: 0.0529 - val_root_mean_squared_error: 0.2299\n",
      "Epoch 8/30\n",
      "597/599 [============================>.] - ETA: 0s - loss: 0.0456 - root_mean_squared_error: 0.2134\n",
      "Epoch 00008: val_loss did not improve from 0.05258\n",
      "599/599 [==============================] - 4s 6ms/step - loss: 0.0455 - root_mean_squared_error: 0.2133 - val_loss: 0.0531 - val_root_mean_squared_error: 0.2304\n",
      "Epoch 9/30\n",
      "594/599 [============================>.] - ETA: 0s - loss: 0.0451 - root_mean_squared_error: 0.2125\n",
      "Epoch 00009: val_loss did not improve from 0.05258\n",
      "599/599 [==============================] - 4s 6ms/step - loss: 0.0450 - root_mean_squared_error: 0.2121 - val_loss: 0.0543 - val_root_mean_squared_error: 0.2330\n",
      "Epoch 10/30\n",
      "594/599 [============================>.] - ETA: 0s - loss: 0.0446 - root_mean_squared_error: 0.2112\n",
      "Epoch 00010: val_loss did not improve from 0.05258\n",
      "599/599 [==============================] - 4s 6ms/step - loss: 0.0444 - root_mean_squared_error: 0.2106 - val_loss: 0.0538 - val_root_mean_squared_error: 0.2320\n",
      "Epoch 11/30\n",
      "594/599 [============================>.] - ETA: 0s - loss: 0.0433 - root_mean_squared_error: 0.2081\n",
      "Epoch 00011: val_loss did not improve from 0.05258\n",
      "599/599 [==============================] - 4s 6ms/step - loss: 0.0435 - root_mean_squared_error: 0.2085 - val_loss: 0.0551 - val_root_mean_squared_error: 0.2347\n",
      "Epoch 12/30\n",
      "594/599 [============================>.] - ETA: 0s - loss: 0.0428 - root_mean_squared_error: 0.2070\n",
      "Epoch 00012: val_loss did not improve from 0.05258\n",
      "599/599 [==============================] - 4s 6ms/step - loss: 0.0431 - root_mean_squared_error: 0.2076 - val_loss: 0.0546 - val_root_mean_squared_error: 0.2337\n",
      "Epoch 13/30\n",
      "596/599 [============================>.] - ETA: 0s - loss: 0.0425 - root_mean_squared_error: 0.2062\n",
      "Epoch 00013: val_loss did not improve from 0.05258\n",
      "599/599 [==============================] - 4s 6ms/step - loss: 0.0424 - root_mean_squared_error: 0.2060 - val_loss: 0.0548 - val_root_mean_squared_error: 0.2341\n",
      "Epoch 14/30\n",
      "595/599 [============================>.] - ETA: 0s - loss: 0.0413 - root_mean_squared_error: 0.2032\n",
      "Epoch 00014: val_loss did not improve from 0.05258\n",
      "599/599 [==============================] - 4s 6ms/step - loss: 0.0417 - root_mean_squared_error: 0.2042 - val_loss: 0.0558 - val_root_mean_squared_error: 0.2363\n",
      "Epoch 15/30\n",
      "596/599 [============================>.] - ETA: 0s - loss: 0.0416 - root_mean_squared_error: 0.2039\n",
      "Epoch 00015: val_loss did not improve from 0.05258\n",
      "599/599 [==============================] - 4s 6ms/step - loss: 0.0415 - root_mean_squared_error: 0.2037 - val_loss: 0.0554 - val_root_mean_squared_error: 0.2353\n",
      "Epoch 16/30\n",
      "594/599 [============================>.] - ETA: 0s - loss: 0.0408 - root_mean_squared_error: 0.2021\n",
      "Epoch 00016: val_loss did not improve from 0.05258\n",
      "599/599 [==============================] - 4s 6ms/step - loss: 0.0408 - root_mean_squared_error: 0.2019 - val_loss: 0.0560 - val_root_mean_squared_error: 0.2367\n",
      "Epoch 17/30\n",
      "594/599 [============================>.] - ETA: 0s - loss: 0.0409 - root_mean_squared_error: 0.2021\n",
      "Epoch 00017: val_loss did not improve from 0.05258\n",
      "599/599 [==============================] - 4s 6ms/step - loss: 0.0408 - root_mean_squared_error: 0.2020 - val_loss: 0.0548 - val_root_mean_squared_error: 0.2341\n",
      "Epoch 18/30\n",
      "597/599 [============================>.] - ETA: 0s - loss: 0.0398 - root_mean_squared_error: 0.1994\n",
      "Epoch 00018: val_loss did not improve from 0.05258\n",
      "599/599 [==============================] - 4s 6ms/step - loss: 0.0398 - root_mean_squared_error: 0.1994 - val_loss: 0.0561 - val_root_mean_squared_error: 0.2369\n",
      "Epoch 19/30\n",
      "593/599 [============================>.] - ETA: 0s - loss: 0.0394 - root_mean_squared_error: 0.1985\n",
      "Epoch 00019: val_loss did not improve from 0.05258\n",
      "599/599 [==============================] - 4s 6ms/step - loss: 0.0395 - root_mean_squared_error: 0.1988 - val_loss: 0.0574 - val_root_mean_squared_error: 0.2395\n",
      "Epoch 20/30\n",
      "599/599 [==============================] - ETA: 0s - loss: 0.0392 - root_mean_squared_error: 0.1980\n",
      "Epoch 00020: val_loss did not improve from 0.05258\n",
      "599/599 [==============================] - 4s 6ms/step - loss: 0.0392 - root_mean_squared_error: 0.1980 - val_loss: 0.0578 - val_root_mean_squared_error: 0.2405\n",
      "Epoch 21/30\n",
      "595/599 [============================>.] - ETA: 0s - loss: 0.0393 - root_mean_squared_error: 0.1982\n",
      "Epoch 00021: val_loss did not improve from 0.05258\n",
      "599/599 [==============================] - 4s 6ms/step - loss: 0.0393 - root_mean_squared_error: 0.1984 - val_loss: 0.0577 - val_root_mean_squared_error: 0.2403\n",
      "Epoch 22/30\n",
      "596/599 [============================>.] - ETA: 0s - loss: 0.0390 - root_mean_squared_error: 0.1974\n",
      "Epoch 00022: val_loss did not improve from 0.05258\n",
      "599/599 [==============================] - 4s 6ms/step - loss: 0.0388 - root_mean_squared_error: 0.1971 - val_loss: 0.0571 - val_root_mean_squared_error: 0.2390\n",
      "Epoch 23/30\n",
      "594/599 [============================>.] - ETA: 0s - loss: 0.0387 - root_mean_squared_error: 0.1966\n",
      "Epoch 00023: val_loss did not improve from 0.05258\n",
      "599/599 [==============================] - 4s 6ms/step - loss: 0.0385 - root_mean_squared_error: 0.1962 - val_loss: 0.0570 - val_root_mean_squared_error: 0.2388\n",
      "Epoch 24/30\n",
      "596/599 [============================>.] - ETA: 0s - loss: 0.0382 - root_mean_squared_error: 0.1954\n",
      "Epoch 00024: val_loss did not improve from 0.05258\n",
      "599/599 [==============================] - 4s 6ms/step - loss: 0.0381 - root_mean_squared_error: 0.1952 - val_loss: 0.0588 - val_root_mean_squared_error: 0.2425\n",
      "Epoch 25/30\n",
      "594/599 [============================>.] - ETA: 0s - loss: 0.0377 - root_mean_squared_error: 0.1941\n",
      "Epoch 00025: val_loss did not improve from 0.05258\n",
      "599/599 [==============================] - 4s 6ms/step - loss: 0.0377 - root_mean_squared_error: 0.1941 - val_loss: 0.0590 - val_root_mean_squared_error: 0.2430\n",
      "Epoch 26/30\n",
      "594/599 [============================>.] - ETA: 0s - loss: 0.0374 - root_mean_squared_error: 0.1935\n",
      "Epoch 00026: val_loss did not improve from 0.05258\n",
      "599/599 [==============================] - 4s 6ms/step - loss: 0.0374 - root_mean_squared_error: 0.1934 - val_loss: 0.0590 - val_root_mean_squared_error: 0.2428\n",
      "Epoch 27/30\n",
      "596/599 [============================>.] - ETA: 0s - loss: 0.0371 - root_mean_squared_error: 0.1926\n",
      "Epoch 00027: val_loss did not improve from 0.05258\n",
      "599/599 [==============================] - 4s 6ms/step - loss: 0.0372 - root_mean_squared_error: 0.1929 - val_loss: 0.0596 - val_root_mean_squared_error: 0.2442\n",
      "Epoch 28/30\n",
      "590/599 [============================>.] - ETA: 0s - loss: 0.0369 - root_mean_squared_error: 0.1920\n",
      "Epoch 00028: val_loss did not improve from 0.05258\n",
      "599/599 [==============================] - 4s 6ms/step - loss: 0.0372 - root_mean_squared_error: 0.1928 - val_loss: 0.0594 - val_root_mean_squared_error: 0.2437\n",
      "Epoch 29/30\n",
      "591/599 [============================>.] - ETA: 0s - loss: 0.0368 - root_mean_squared_error: 0.1918\n",
      "Epoch 00029: val_loss did not improve from 0.05258\n",
      "599/599 [==============================] - 4s 6ms/step - loss: 0.0366 - root_mean_squared_error: 0.1913 - val_loss: 0.0595 - val_root_mean_squared_error: 0.2439\n",
      "Epoch 30/30\n",
      "593/599 [============================>.] - ETA: 0s - loss: 0.0364 - root_mean_squared_error: 0.1908\n",
      "Epoch 00030: val_loss did not improve from 0.05258\n",
      "599/599 [==============================] - 4s 6ms/step - loss: 0.0364 - root_mean_squared_error: 0.1907 - val_loss: 0.0600 - val_root_mean_squared_error: 0.2450\n"
     ]
    }
   ],
   "source": [
    "history = model.fit(X_train,\n",
    "                    y_train,\n",
    "                    batch_size=64,\n",
    "                    validation_data=(X_test, y_test),\n",
    "                    epochs=30,\n",
    "                    verbose=1,\n",
    "                    callbacks=callbacks_list)"
   ]
  },
  {
   "cell_type": "code",
   "execution_count": null,
   "metadata": {
    "colab": {},
    "colab_type": "code",
    "id": "zZ-WqIvi7PuC"
   },
   "outputs": [],
   "source": [
    "model_2_camera9 = model_history('model_2_3_camera9')"
   ]
  },
  {
   "cell_type": "markdown",
   "metadata": {},
   "source": [
    "### Model 2 camera2"
   ]
  },
  {
   "cell_type": "code",
   "execution_count": null,
   "metadata": {
    "colab": {},
    "colab_type": "code",
    "id": "VYOg06dUA3nb"
   },
   "outputs": [],
   "source": [
    "model = load_model('/content/drive/My Drive/epochs/model_2_3_camera9.0003-0.0526.h5')"
   ]
  },
  {
   "cell_type": "code",
   "execution_count": null,
   "metadata": {
    "colab": {},
    "colab_type": "code",
    "id": "Q-twQqN7A3ng"
   },
   "outputs": [],
   "source": [
    "X_train, X_test, y_train, y_test = train_load('camera2')"
   ]
  },
  {
   "cell_type": "code",
   "execution_count": null,
   "metadata": {
    "colab": {
     "base_uri": "https://localhost:8080/",
     "height": 34
    },
    "colab_type": "code",
    "id": "q-4dBlG_A3ni",
    "outputId": "f0024e7c-554c-4f30-fe69-8c7530dc262e"
   },
   "outputs": [
    {
     "data": {
      "text/plain": [
       "((44958, 80, 160, 1), (11240, 80, 160, 1), (44958, 1), (11240, 1))"
      ]
     },
     "execution_count": 25,
     "metadata": {
      "tags": []
     },
     "output_type": "execute_result"
    }
   ],
   "source": [
    "X_train.shape, X_test.shape, y_train.shape, y_test.shape"
   ]
  },
  {
   "cell_type": "code",
   "execution_count": null,
   "metadata": {
    "colab": {},
    "colab_type": "code",
    "id": "HShkmE5dA3nk"
   },
   "outputs": [],
   "source": [
    "filepath = \"/content/drive/My Drive/epochs/model_2_4_camera2.{epoch:04d}-{val_loss:.4f}.h5\"\n",
    "checkpoint = ModelCheckpoint(filepath, monitor='val_loss', verbose=1, save_best_only=True, mode='min')\n",
    "callbacks_list = [checkpoint]"
   ]
  },
  {
   "cell_type": "code",
   "execution_count": null,
   "metadata": {
    "colab": {
     "base_uri": "https://localhost:8080/",
     "height": 1000
    },
    "colab_type": "code",
    "collapsed": true,
    "id": "oboAqGvaA3nm",
    "outputId": "a04a11e5-ab6d-4406-e254-8f9dca1fe959"
   },
   "outputs": [
    {
     "name": "stdout",
     "output_type": "stream",
     "text": [
      "Epoch 1/30\n",
      "702/703 [============================>.] - ETA: 0s - loss: 0.0459 - root_mean_squared_error: 0.2142\n",
      "Epoch 00001: val_loss improved from inf to 0.03861, saving model to /content/drive/My Drive/epochs/model_5_4_camera2.0001-0.0386.h5\n",
      "703/703 [==============================] - 5s 7ms/step - loss: 0.0459 - root_mean_squared_error: 0.2143 - val_loss: 0.0386 - val_root_mean_squared_error: 0.1965\n",
      "Epoch 2/30\n",
      "694/703 [============================>.] - ETA: 0s - loss: 0.0429 - root_mean_squared_error: 0.2072\n",
      "Epoch 00002: val_loss improved from 0.03861 to 0.03833, saving model to /content/drive/My Drive/epochs/model_5_4_camera2.0002-0.0383.h5\n",
      "703/703 [==============================] - 4s 6ms/step - loss: 0.0429 - root_mean_squared_error: 0.2070 - val_loss: 0.0383 - val_root_mean_squared_error: 0.1958\n",
      "Epoch 3/30\n",
      "696/703 [============================>.] - ETA: 0s - loss: 0.0416 - root_mean_squared_error: 0.2039\n",
      "Epoch 00003: val_loss improved from 0.03833 to 0.03827, saving model to /content/drive/My Drive/epochs/model_5_4_camera2.0003-0.0383.h5\n",
      "703/703 [==============================] - 4s 6ms/step - loss: 0.0413 - root_mean_squared_error: 0.2033 - val_loss: 0.0383 - val_root_mean_squared_error: 0.1956\n",
      "Epoch 4/30\n",
      "699/703 [============================>.] - ETA: 0s - loss: 0.0405 - root_mean_squared_error: 0.2012\n",
      "Epoch 00004: val_loss improved from 0.03827 to 0.03820, saving model to /content/drive/My Drive/epochs/model_5_4_camera2.0004-0.0382.h5\n",
      "703/703 [==============================] - 5s 7ms/step - loss: 0.0405 - root_mean_squared_error: 0.2012 - val_loss: 0.0382 - val_root_mean_squared_error: 0.1955\n",
      "Epoch 5/30\n",
      "694/703 [============================>.] - ETA: 0s - loss: 0.0396 - root_mean_squared_error: 0.1990\n",
      "Epoch 00005: val_loss did not improve from 0.03820\n",
      "703/703 [==============================] - 4s 6ms/step - loss: 0.0395 - root_mean_squared_error: 0.1987 - val_loss: 0.0391 - val_root_mean_squared_error: 0.1976\n",
      "Epoch 6/30\n",
      "700/703 [============================>.] - ETA: 0s - loss: 0.0388 - root_mean_squared_error: 0.1970\n",
      "Epoch 00006: val_loss did not improve from 0.03820\n",
      "703/703 [==============================] - 4s 6ms/step - loss: 0.0387 - root_mean_squared_error: 0.1968 - val_loss: 0.0396 - val_root_mean_squared_error: 0.1991\n",
      "Epoch 7/30\n",
      "698/703 [============================>.] - ETA: 0s - loss: 0.0380 - root_mean_squared_error: 0.1951\n",
      "Epoch 00007: val_loss did not improve from 0.03820\n",
      "703/703 [==============================] - 4s 6ms/step - loss: 0.0382 - root_mean_squared_error: 0.1954 - val_loss: 0.0400 - val_root_mean_squared_error: 0.2000\n",
      "Epoch 8/30\n",
      "694/703 [============================>.] - ETA: 0s - loss: 0.0372 - root_mean_squared_error: 0.1929\n",
      "Epoch 00008: val_loss did not improve from 0.03820\n",
      "703/703 [==============================] - 4s 6ms/step - loss: 0.0377 - root_mean_squared_error: 0.1941 - val_loss: 0.0396 - val_root_mean_squared_error: 0.1990\n",
      "Epoch 9/30\n",
      "701/703 [============================>.] - ETA: 0s - loss: 0.0366 - root_mean_squared_error: 0.1913\n",
      "Epoch 00009: val_loss did not improve from 0.03820\n",
      "703/703 [==============================] - 4s 6ms/step - loss: 0.0370 - root_mean_squared_error: 0.1924 - val_loss: 0.0401 - val_root_mean_squared_error: 0.2003\n",
      "Epoch 10/30\n",
      "701/703 [============================>.] - ETA: 0s - loss: 0.0361 - root_mean_squared_error: 0.1900\n",
      "Epoch 00010: val_loss did not improve from 0.03820\n",
      "703/703 [==============================] - 4s 6ms/step - loss: 0.0363 - root_mean_squared_error: 0.1905 - val_loss: 0.0404 - val_root_mean_squared_error: 0.2009\n",
      "Epoch 11/30\n",
      "695/703 [============================>.] - ETA: 0s - loss: 0.0358 - root_mean_squared_error: 0.1891\n",
      "Epoch 00011: val_loss did not improve from 0.03820\n",
      "703/703 [==============================] - 4s 6ms/step - loss: 0.0358 - root_mean_squared_error: 0.1892 - val_loss: 0.0417 - val_root_mean_squared_error: 0.2041\n",
      "Epoch 12/30\n",
      "700/703 [============================>.] - ETA: 0s - loss: 0.0356 - root_mean_squared_error: 0.1886\n",
      "Epoch 00012: val_loss did not improve from 0.03820\n",
      "703/703 [==============================] - 4s 6ms/step - loss: 0.0355 - root_mean_squared_error: 0.1885 - val_loss: 0.0414 - val_root_mean_squared_error: 0.2034\n",
      "Epoch 13/30\n",
      "695/703 [============================>.] - ETA: 0s - loss: 0.0345 - root_mean_squared_error: 0.1858\n",
      "Epoch 00013: val_loss did not improve from 0.03820\n",
      "703/703 [==============================] - 4s 6ms/step - loss: 0.0349 - root_mean_squared_error: 0.1869 - val_loss: 0.0425 - val_root_mean_squared_error: 0.2062\n",
      "Epoch 14/30\n",
      "699/703 [============================>.] - ETA: 0s - loss: 0.0347 - root_mean_squared_error: 0.1862\n",
      "Epoch 00014: val_loss did not improve from 0.03820\n",
      "703/703 [==============================] - 4s 6ms/step - loss: 0.0346 - root_mean_squared_error: 0.1860 - val_loss: 0.0434 - val_root_mean_squared_error: 0.2084\n",
      "Epoch 15/30\n",
      "698/703 [============================>.] - ETA: 0s - loss: 0.0343 - root_mean_squared_error: 0.1853\n",
      "Epoch 00015: val_loss did not improve from 0.03820\n",
      "703/703 [==============================] - 4s 6ms/step - loss: 0.0342 - root_mean_squared_error: 0.1849 - val_loss: 0.0431 - val_root_mean_squared_error: 0.2076\n",
      "Epoch 16/30\n",
      "696/703 [============================>.] - ETA: 0s - loss: 0.0339 - root_mean_squared_error: 0.1841\n",
      "Epoch 00016: val_loss did not improve from 0.03820\n",
      "703/703 [==============================] - 4s 6ms/step - loss: 0.0338 - root_mean_squared_error: 0.1839 - val_loss: 0.0438 - val_root_mean_squared_error: 0.2092\n",
      "Epoch 17/30\n",
      "698/703 [============================>.] - ETA: 0s - loss: 0.0334 - root_mean_squared_error: 0.1827\n",
      "Epoch 00017: val_loss did not improve from 0.03820\n",
      "703/703 [==============================] - 4s 6ms/step - loss: 0.0335 - root_mean_squared_error: 0.1829 - val_loss: 0.0448 - val_root_mean_squared_error: 0.2117\n",
      "Epoch 18/30\n",
      "699/703 [============================>.] - ETA: 0s - loss: 0.0330 - root_mean_squared_error: 0.1816\n",
      "Epoch 00018: val_loss did not improve from 0.03820\n",
      "703/703 [==============================] - 4s 6ms/step - loss: 0.0330 - root_mean_squared_error: 0.1817 - val_loss: 0.0444 - val_root_mean_squared_error: 0.2106\n",
      "Epoch 19/30\n",
      "699/703 [============================>.] - ETA: 0s - loss: 0.0327 - root_mean_squared_error: 0.1809\n",
      "Epoch 00019: val_loss did not improve from 0.03820\n",
      "703/703 [==============================] - 4s 6ms/step - loss: 0.0328 - root_mean_squared_error: 0.1811 - val_loss: 0.0442 - val_root_mean_squared_error: 0.2102\n",
      "Epoch 20/30\n",
      "700/703 [============================>.] - ETA: 0s - loss: 0.0325 - root_mean_squared_error: 0.1802\n",
      "Epoch 00020: val_loss did not improve from 0.03820\n",
      "703/703 [==============================] - 4s 6ms/step - loss: 0.0324 - root_mean_squared_error: 0.1801 - val_loss: 0.0452 - val_root_mean_squared_error: 0.2126\n",
      "Epoch 21/30\n",
      "697/703 [============================>.] - ETA: 0s - loss: 0.0321 - root_mean_squared_error: 0.1790\n",
      "Epoch 00021: val_loss did not improve from 0.03820\n",
      "703/703 [==============================] - 4s 6ms/step - loss: 0.0320 - root_mean_squared_error: 0.1788 - val_loss: 0.0442 - val_root_mean_squared_error: 0.2102\n",
      "Epoch 22/30\n",
      "698/703 [============================>.] - ETA: 0s - loss: 0.0318 - root_mean_squared_error: 0.1782\n",
      "Epoch 00022: val_loss did not improve from 0.03820\n",
      "703/703 [==============================] - 4s 6ms/step - loss: 0.0318 - root_mean_squared_error: 0.1783 - val_loss: 0.0456 - val_root_mean_squared_error: 0.2134\n",
      "Epoch 23/30\n",
      "697/703 [============================>.] - ETA: 0s - loss: 0.0315 - root_mean_squared_error: 0.1773\n",
      "Epoch 00023: val_loss did not improve from 0.03820\n",
      "703/703 [==============================] - 4s 6ms/step - loss: 0.0316 - root_mean_squared_error: 0.1777 - val_loss: 0.0448 - val_root_mean_squared_error: 0.2116\n",
      "Epoch 24/30\n",
      "699/703 [============================>.] - ETA: 0s - loss: 0.0316 - root_mean_squared_error: 0.1777\n",
      "Epoch 00024: val_loss did not improve from 0.03820\n",
      "703/703 [==============================] - 4s 6ms/step - loss: 0.0315 - root_mean_squared_error: 0.1775 - val_loss: 0.0458 - val_root_mean_squared_error: 0.2141\n",
      "Epoch 25/30\n",
      "697/703 [============================>.] - ETA: 0s - loss: 0.0308 - root_mean_squared_error: 0.1756\n",
      "Epoch 00025: val_loss did not improve from 0.03820\n",
      "703/703 [==============================] - 4s 6ms/step - loss: 0.0307 - root_mean_squared_error: 0.1753 - val_loss: 0.0461 - val_root_mean_squared_error: 0.2148\n",
      "Epoch 26/30\n",
      "697/703 [============================>.] - ETA: 0s - loss: 0.0310 - root_mean_squared_error: 0.1760\n",
      "Epoch 00026: val_loss did not improve from 0.03820\n",
      "703/703 [==============================] - 4s 6ms/step - loss: 0.0308 - root_mean_squared_error: 0.1755 - val_loss: 0.0470 - val_root_mean_squared_error: 0.2168\n",
      "Epoch 27/30\n",
      "701/703 [============================>.] - ETA: 0s - loss: 0.0305 - root_mean_squared_error: 0.1747\n",
      "Epoch 00027: val_loss did not improve from 0.03820\n",
      "703/703 [==============================] - 4s 6ms/step - loss: 0.0306 - root_mean_squared_error: 0.1749 - val_loss: 0.0463 - val_root_mean_squared_error: 0.2153\n",
      "Epoch 28/30\n",
      "703/703 [==============================] - ETA: 0s - loss: 0.0302 - root_mean_squared_error: 0.1738\n",
      "Epoch 00028: val_loss did not improve from 0.03820\n",
      "703/703 [==============================] - 4s 6ms/step - loss: 0.0302 - root_mean_squared_error: 0.1738 - val_loss: 0.0465 - val_root_mean_squared_error: 0.2156\n",
      "Epoch 29/30\n",
      "695/703 [============================>.] - ETA: 0s - loss: 0.0297 - root_mean_squared_error: 0.1725\n",
      "Epoch 00029: val_loss did not improve from 0.03820\n",
      "703/703 [==============================] - 4s 6ms/step - loss: 0.0300 - root_mean_squared_error: 0.1731 - val_loss: 0.0469 - val_root_mean_squared_error: 0.2166\n",
      "Epoch 30/30\n",
      "702/703 [============================>.] - ETA: 0s - loss: 0.0296 - root_mean_squared_error: 0.1721\n",
      "Epoch 00030: val_loss did not improve from 0.03820\n",
      "703/703 [==============================] - 4s 6ms/step - loss: 0.0297 - root_mean_squared_error: 0.1722 - val_loss: 0.0467 - val_root_mean_squared_error: 0.2161\n"
     ]
    }
   ],
   "source": [
    "history = model.fit(X_train,\n",
    "                    y_train,\n",
    "                    batch_size=64,\n",
    "                    validation_data=(X_test, y_test),\n",
    "                    epochs=30,\n",
    "                    verbose=1,\n",
    "                    callbacks=callbacks_list)"
   ]
  },
  {
   "cell_type": "code",
   "execution_count": null,
   "metadata": {
    "colab": {},
    "colab_type": "code",
    "id": "wWJmlbOyA3nv"
   },
   "outputs": [],
   "source": [
    "model_2_camera2 = model_history('model_2_4_camera2')"
   ]
  },
  {
   "cell_type": "markdown",
   "metadata": {},
   "source": [
    "### Model 2 camera3"
   ]
  },
  {
   "cell_type": "code",
   "execution_count": null,
   "metadata": {
    "colab": {},
    "colab_type": "code",
    "id": "Y6rNHjAQUtje"
   },
   "outputs": [],
   "source": [
    "model = load_model('/content/drive/My Drive/epochs/model_2_4_camera2.0004-0.0382.h5')"
   ]
  },
  {
   "cell_type": "code",
   "execution_count": null,
   "metadata": {
    "colab": {},
    "colab_type": "code",
    "id": "GXuvoYxRUtji"
   },
   "outputs": [],
   "source": [
    "X_train, X_test, y_train, y_test = train_load('camera3')"
   ]
  },
  {
   "cell_type": "code",
   "execution_count": null,
   "metadata": {
    "colab": {
     "base_uri": "https://localhost:8080/",
     "height": 34
    },
    "colab_type": "code",
    "id": "BJEe6ETeUtjn",
    "outputId": "532810b0-dcae-44e2-9a84-e128e790d671"
   },
   "outputs": [
    {
     "data": {
      "text/plain": [
       "((13548, 80, 160, 1), (3388, 80, 160, 1), (13548, 1), (3388, 1))"
      ]
     },
     "execution_count": 37,
     "metadata": {
      "tags": []
     },
     "output_type": "execute_result"
    }
   ],
   "source": [
    "X_train.shape, X_test.shape, y_train.shape, y_test.shape"
   ]
  },
  {
   "cell_type": "code",
   "execution_count": null,
   "metadata": {
    "colab": {},
    "colab_type": "code",
    "id": "5hWiNzmzUtjo"
   },
   "outputs": [],
   "source": [
    "filepath = \"/content/drive/My Drive/epochs/model_2_5_camera3.{epoch:04d}-{val_loss:.4f}.h5\"\n",
    "checkpoint = ModelCheckpoint(filepath, monitor='val_loss', verbose=1, save_best_only=True, mode='min')\n",
    "callbacks_list = [checkpoint]"
   ]
  },
  {
   "cell_type": "code",
   "execution_count": null,
   "metadata": {
    "colab": {
     "base_uri": "https://localhost:8080/",
     "height": 1000
    },
    "colab_type": "code",
    "collapsed": true,
    "id": "viLQh1eRUtjq",
    "outputId": "ab18415a-06c4-4c67-bda9-33fd2c0f60bf"
   },
   "outputs": [
    {
     "name": "stdout",
     "output_type": "stream",
     "text": [
      "Epoch 1/30\n",
      "212/212 [==============================] - ETA: 0s - loss: 0.0727 - root_mean_squared_error: 0.2696\n",
      "Epoch 00001: val_loss improved from inf to 0.05052, saving model to /content/drive/My Drive/epochs/model_5_5_camera3.0001-0.0505.h5\n",
      "212/212 [==============================] - 2s 8ms/step - loss: 0.0727 - root_mean_squared_error: 0.2696 - val_loss: 0.0505 - val_root_mean_squared_error: 0.2248\n",
      "Epoch 2/30\n",
      "207/212 [============================>.] - ETA: 0s - loss: 0.0642 - root_mean_squared_error: 0.2534\n",
      "Epoch 00002: val_loss improved from 0.05052 to 0.04959, saving model to /content/drive/My Drive/epochs/model_5_5_camera3.0002-0.0496.h5\n",
      "212/212 [==============================] - 1s 7ms/step - loss: 0.0632 - root_mean_squared_error: 0.2514 - val_loss: 0.0496 - val_root_mean_squared_error: 0.2227\n",
      "Epoch 3/30\n",
      "207/212 [============================>.] - ETA: 0s - loss: 0.0597 - root_mean_squared_error: 0.2444\n",
      "Epoch 00003: val_loss improved from 0.04959 to 0.04791, saving model to /content/drive/My Drive/epochs/model_5_5_camera3.0003-0.0479.h5\n",
      "212/212 [==============================] - 1s 7ms/step - loss: 0.0594 - root_mean_squared_error: 0.2437 - val_loss: 0.0479 - val_root_mean_squared_error: 0.2189\n",
      "Epoch 4/30\n",
      "203/212 [===========================>..] - ETA: 0s - loss: 0.0571 - root_mean_squared_error: 0.2389\n",
      "Epoch 00004: val_loss did not improve from 0.04791\n",
      "212/212 [==============================] - 1s 6ms/step - loss: 0.0573 - root_mean_squared_error: 0.2394 - val_loss: 0.0480 - val_root_mean_squared_error: 0.2191\n",
      "Epoch 5/30\n",
      "207/212 [============================>.] - ETA: 0s - loss: 0.0563 - root_mean_squared_error: 0.2373\n",
      "Epoch 00005: val_loss improved from 0.04791 to 0.04643, saving model to /content/drive/My Drive/epochs/model_5_5_camera3.0005-0.0464.h5\n",
      "212/212 [==============================] - 1s 7ms/step - loss: 0.0558 - root_mean_squared_error: 0.2363 - val_loss: 0.0464 - val_root_mean_squared_error: 0.2155\n",
      "Epoch 6/30\n",
      "209/212 [============================>.] - ETA: 0s - loss: 0.0547 - root_mean_squared_error: 0.2339\n",
      "Epoch 00006: val_loss did not improve from 0.04643\n",
      "212/212 [==============================] - 1s 6ms/step - loss: 0.0543 - root_mean_squared_error: 0.2330 - val_loss: 0.0468 - val_root_mean_squared_error: 0.2163\n",
      "Epoch 7/30\n",
      "211/212 [============================>.] - ETA: 0s - loss: 0.0533 - root_mean_squared_error: 0.2309\n",
      "Epoch 00007: val_loss did not improve from 0.04643\n",
      "212/212 [==============================] - 1s 7ms/step - loss: 0.0532 - root_mean_squared_error: 0.2306 - val_loss: 0.0466 - val_root_mean_squared_error: 0.2159\n",
      "Epoch 8/30\n",
      "208/212 [============================>.] - ETA: 0s - loss: 0.0516 - root_mean_squared_error: 0.2273\n",
      "Epoch 00008: val_loss improved from 0.04643 to 0.04639, saving model to /content/drive/My Drive/epochs/model_5_5_camera3.0008-0.0464.h5\n",
      "212/212 [==============================] - 2s 7ms/step - loss: 0.0519 - root_mean_squared_error: 0.2279 - val_loss: 0.0464 - val_root_mean_squared_error: 0.2154\n",
      "Epoch 9/30\n",
      "207/212 [============================>.] - ETA: 0s - loss: 0.0512 - root_mean_squared_error: 0.2263\n",
      "Epoch 00009: val_loss did not improve from 0.04639\n",
      "212/212 [==============================] - 1s 7ms/step - loss: 0.0509 - root_mean_squared_error: 0.2256 - val_loss: 0.0469 - val_root_mean_squared_error: 0.2165\n",
      "Epoch 10/30\n",
      "205/212 [============================>.] - ETA: 0s - loss: 0.0492 - root_mean_squared_error: 0.2219\n",
      "Epoch 00010: val_loss did not improve from 0.04639\n",
      "212/212 [==============================] - 1s 6ms/step - loss: 0.0496 - root_mean_squared_error: 0.2226 - val_loss: 0.0468 - val_root_mean_squared_error: 0.2163\n",
      "Epoch 11/30\n",
      "211/212 [============================>.] - ETA: 0s - loss: 0.0494 - root_mean_squared_error: 0.2223\n",
      "Epoch 00011: val_loss did not improve from 0.04639\n",
      "212/212 [==============================] - 1s 6ms/step - loss: 0.0493 - root_mean_squared_error: 0.2220 - val_loss: 0.0477 - val_root_mean_squared_error: 0.2185\n",
      "Epoch 12/30\n",
      "211/212 [============================>.] - ETA: 0s - loss: 0.0489 - root_mean_squared_error: 0.2212\n",
      "Epoch 00012: val_loss did not improve from 0.04639\n",
      "212/212 [==============================] - 1s 6ms/step - loss: 0.0489 - root_mean_squared_error: 0.2212 - val_loss: 0.0466 - val_root_mean_squared_error: 0.2158\n",
      "Epoch 13/30\n",
      "206/212 [============================>.] - ETA: 0s - loss: 0.0483 - root_mean_squared_error: 0.2199\n",
      "Epoch 00013: val_loss did not improve from 0.04639\n",
      "212/212 [==============================] - 1s 6ms/step - loss: 0.0486 - root_mean_squared_error: 0.2204 - val_loss: 0.0486 - val_root_mean_squared_error: 0.2204\n",
      "Epoch 14/30\n",
      "206/212 [============================>.] - ETA: 0s - loss: 0.0476 - root_mean_squared_error: 0.2182\n",
      "Epoch 00014: val_loss did not improve from 0.04639\n",
      "212/212 [==============================] - 1s 6ms/step - loss: 0.0473 - root_mean_squared_error: 0.2175 - val_loss: 0.0499 - val_root_mean_squared_error: 0.2235\n",
      "Epoch 15/30\n",
      "204/212 [===========================>..] - ETA: 0s - loss: 0.0469 - root_mean_squared_error: 0.2165\n",
      "Epoch 00015: val_loss did not improve from 0.04639\n",
      "212/212 [==============================] - 1s 6ms/step - loss: 0.0475 - root_mean_squared_error: 0.2178 - val_loss: 0.0476 - val_root_mean_squared_error: 0.2182\n",
      "Epoch 16/30\n",
      "205/212 [============================>.] - ETA: 0s - loss: 0.0469 - root_mean_squared_error: 0.2166\n",
      "Epoch 00016: val_loss did not improve from 0.04639\n",
      "212/212 [==============================] - 1s 7ms/step - loss: 0.0469 - root_mean_squared_error: 0.2166 - val_loss: 0.0496 - val_root_mean_squared_error: 0.2228\n",
      "Epoch 17/30\n",
      "212/212 [==============================] - ETA: 0s - loss: 0.0457 - root_mean_squared_error: 0.2139\n",
      "Epoch 00017: val_loss did not improve from 0.04639\n",
      "212/212 [==============================] - 1s 6ms/step - loss: 0.0457 - root_mean_squared_error: 0.2139 - val_loss: 0.0487 - val_root_mean_squared_error: 0.2207\n",
      "Epoch 18/30\n",
      "209/212 [============================>.] - ETA: 0s - loss: 0.0460 - root_mean_squared_error: 0.2145\n",
      "Epoch 00018: val_loss did not improve from 0.04639\n",
      "212/212 [==============================] - 1s 6ms/step - loss: 0.0460 - root_mean_squared_error: 0.2144 - val_loss: 0.0487 - val_root_mean_squared_error: 0.2207\n",
      "Epoch 19/30\n",
      "212/212 [==============================] - ETA: 0s - loss: 0.0453 - root_mean_squared_error: 0.2128\n",
      "Epoch 00019: val_loss did not improve from 0.04639\n",
      "212/212 [==============================] - 1s 6ms/step - loss: 0.0453 - root_mean_squared_error: 0.2128 - val_loss: 0.0480 - val_root_mean_squared_error: 0.2191\n",
      "Epoch 20/30\n",
      "212/212 [==============================] - ETA: 0s - loss: 0.0450 - root_mean_squared_error: 0.2121\n",
      "Epoch 00020: val_loss did not improve from 0.04639\n",
      "212/212 [==============================] - 1s 6ms/step - loss: 0.0450 - root_mean_squared_error: 0.2121 - val_loss: 0.0488 - val_root_mean_squared_error: 0.2210\n",
      "Epoch 21/30\n",
      "205/212 [============================>.] - ETA: 0s - loss: 0.0434 - root_mean_squared_error: 0.2082\n",
      "Epoch 00021: val_loss did not improve from 0.04639\n",
      "212/212 [==============================] - 1s 6ms/step - loss: 0.0440 - root_mean_squared_error: 0.2097 - val_loss: 0.0495 - val_root_mean_squared_error: 0.2226\n",
      "Epoch 22/30\n",
      "203/212 [===========================>..] - ETA: 0s - loss: 0.0448 - root_mean_squared_error: 0.2116\n",
      "Epoch 00022: val_loss did not improve from 0.04639\n",
      "212/212 [==============================] - 1s 6ms/step - loss: 0.0440 - root_mean_squared_error: 0.2098 - val_loss: 0.0493 - val_root_mean_squared_error: 0.2220\n",
      "Epoch 23/30\n",
      "206/212 [============================>.] - ETA: 0s - loss: 0.0447 - root_mean_squared_error: 0.2113\n",
      "Epoch 00023: val_loss did not improve from 0.04639\n",
      "212/212 [==============================] - 1s 7ms/step - loss: 0.0442 - root_mean_squared_error: 0.2102 - val_loss: 0.0486 - val_root_mean_squared_error: 0.2204\n",
      "Epoch 24/30\n",
      "204/212 [===========================>..] - ETA: 0s - loss: 0.0437 - root_mean_squared_error: 0.2090\n",
      "Epoch 00024: val_loss did not improve from 0.04639\n",
      "212/212 [==============================] - 1s 6ms/step - loss: 0.0440 - root_mean_squared_error: 0.2098 - val_loss: 0.0498 - val_root_mean_squared_error: 0.2231\n",
      "Epoch 25/30\n",
      "211/212 [============================>.] - ETA: 0s - loss: 0.0432 - root_mean_squared_error: 0.2078\n",
      "Epoch 00025: val_loss did not improve from 0.04639\n",
      "212/212 [==============================] - 1s 6ms/step - loss: 0.0431 - root_mean_squared_error: 0.2075 - val_loss: 0.0494 - val_root_mean_squared_error: 0.2222\n",
      "Epoch 26/30\n",
      "204/212 [===========================>..] - ETA: 0s - loss: 0.0421 - root_mean_squared_error: 0.2052\n",
      "Epoch 00026: val_loss did not improve from 0.04639\n",
      "212/212 [==============================] - 1s 6ms/step - loss: 0.0426 - root_mean_squared_error: 0.2063 - val_loss: 0.0497 - val_root_mean_squared_error: 0.2230\n",
      "Epoch 27/30\n",
      "206/212 [============================>.] - ETA: 0s - loss: 0.0430 - root_mean_squared_error: 0.2074\n",
      "Epoch 00027: val_loss did not improve from 0.04639\n",
      "212/212 [==============================] - 1s 6ms/step - loss: 0.0426 - root_mean_squared_error: 0.2064 - val_loss: 0.0495 - val_root_mean_squared_error: 0.2224\n",
      "Epoch 28/30\n",
      "203/212 [===========================>..] - ETA: 0s - loss: 0.0424 - root_mean_squared_error: 0.2058\n",
      "Epoch 00028: val_loss did not improve from 0.04639\n",
      "212/212 [==============================] - 1s 6ms/step - loss: 0.0422 - root_mean_squared_error: 0.2054 - val_loss: 0.0522 - val_root_mean_squared_error: 0.2284\n",
      "Epoch 29/30\n",
      "203/212 [===========================>..] - ETA: 0s - loss: 0.0400 - root_mean_squared_error: 0.2000\n",
      "Epoch 00029: val_loss did not improve from 0.04639\n",
      "212/212 [==============================] - 1s 6ms/step - loss: 0.0416 - root_mean_squared_error: 0.2041 - val_loss: 0.0507 - val_root_mean_squared_error: 0.2251\n",
      "Epoch 30/30\n",
      "204/212 [===========================>..] - ETA: 0s - loss: 0.0412 - root_mean_squared_error: 0.2030\n",
      "Epoch 00030: val_loss did not improve from 0.04639\n",
      "212/212 [==============================] - 1s 6ms/step - loss: 0.0415 - root_mean_squared_error: 0.2037 - val_loss: 0.0501 - val_root_mean_squared_error: 0.2238\n"
     ]
    }
   ],
   "source": [
    "history = model.fit(X_train,\n",
    "                    y_train,\n",
    "                    batch_size=64,\n",
    "                    validation_data=(X_test, y_test),\n",
    "                    epochs=30,\n",
    "                    verbose=1,\n",
    "                    callbacks=callbacks_list)"
   ]
  },
  {
   "cell_type": "code",
   "execution_count": null,
   "metadata": {
    "colab": {},
    "colab_type": "code",
    "id": "W2Hn5sdbUtjx"
   },
   "outputs": [],
   "source": [
    "model_2_camera3 = model_history('model_2_5_camera3')"
   ]
  },
  {
   "cell_type": "markdown",
   "metadata": {},
   "source": [
    "### Model 2 camera4"
   ]
  },
  {
   "cell_type": "code",
   "execution_count": null,
   "metadata": {
    "colab": {},
    "colab_type": "code",
    "id": "C46nZz9UVAyW"
   },
   "outputs": [],
   "source": [
    "model = load_model('/content/drive/My Drive/epochs/model_2_5_camera3.0008-0.0464.h5')"
   ]
  },
  {
   "cell_type": "code",
   "execution_count": null,
   "metadata": {
    "colab": {},
    "colab_type": "code",
    "id": "2nCNpTyeVAyb"
   },
   "outputs": [],
   "source": [
    "X_train, X_test, y_train, y_test = train_load('camera4')"
   ]
  },
  {
   "cell_type": "code",
   "execution_count": null,
   "metadata": {
    "colab": {
     "base_uri": "https://localhost:8080/",
     "height": 34
    },
    "colab_type": "code",
    "id": "Eo40v-t2VAyd",
    "outputId": "955129b6-de3e-4d94-caa2-4ef927dda540"
   },
   "outputs": [
    {
     "data": {
      "text/plain": [
       "((42696, 80, 160, 1), (10675, 80, 160, 1), (42696, 1), (10675, 1))"
      ]
     },
     "execution_count": 49,
     "metadata": {
      "tags": []
     },
     "output_type": "execute_result"
    }
   ],
   "source": [
    "X_train.shape, X_test.shape, y_train.shape, y_test.shape"
   ]
  },
  {
   "cell_type": "code",
   "execution_count": null,
   "metadata": {
    "colab": {},
    "colab_type": "code",
    "id": "AeKvl1-uVAyh"
   },
   "outputs": [],
   "source": [
    "filepath = \"/content/drive/My Drive/epochs/model_2_6_camera4.{epoch:04d}-{val_loss:.4f}.h5\"\n",
    "checkpoint = ModelCheckpoint(filepath, monitor='val_loss', verbose=1, save_best_only=True, mode='min')\n",
    "callbacks_list = [checkpoint]"
   ]
  },
  {
   "cell_type": "code",
   "execution_count": null,
   "metadata": {
    "colab": {
     "base_uri": "https://localhost:8080/",
     "height": 1000
    },
    "colab_type": "code",
    "collapsed": true,
    "id": "5rjU5GvTVAyl",
    "outputId": "3d45eb10-5e35-4511-9626-9ecc9f39493e"
   },
   "outputs": [
    {
     "name": "stdout",
     "output_type": "stream",
     "text": [
      "Epoch 1/30\n",
      "668/668 [==============================] - ETA: 0s - loss: 0.1216 - root_mean_squared_error: 0.3487\n",
      "Epoch 00001: val_loss improved from inf to 0.13672, saving model to /content/drive/My Drive/epochs/model_5_6_camera4.0001-0.1367.h5\n",
      "668/668 [==============================] - 5s 7ms/step - loss: 0.1216 - root_mean_squared_error: 0.3487 - val_loss: 0.1367 - val_root_mean_squared_error: 0.3698\n",
      "Epoch 2/30\n",
      "667/668 [============================>.] - ETA: 0s - loss: 0.1131 - root_mean_squared_error: 0.3363\n",
      "Epoch 00002: val_loss improved from 0.13672 to 0.13305, saving model to /content/drive/My Drive/epochs/model_5_6_camera4.0002-0.1331.h5\n",
      "668/668 [==============================] - 4s 7ms/step - loss: 0.1131 - root_mean_squared_error: 0.3363 - val_loss: 0.1331 - val_root_mean_squared_error: 0.3648\n",
      "Epoch 3/30\n",
      "665/668 [============================>.] - ETA: 0s - loss: 0.1085 - root_mean_squared_error: 0.3294\n",
      "Epoch 00003: val_loss improved from 0.13305 to 0.13265, saving model to /content/drive/My Drive/epochs/model_5_6_camera4.0003-0.1327.h5\n",
      "668/668 [==============================] - 4s 7ms/step - loss: 0.1082 - root_mean_squared_error: 0.3290 - val_loss: 0.1327 - val_root_mean_squared_error: 0.3642\n",
      "Epoch 4/30\n",
      "661/668 [============================>.] - ETA: 0s - loss: 0.1023 - root_mean_squared_error: 0.3198\n",
      "Epoch 00004: val_loss improved from 0.13265 to 0.13179, saving model to /content/drive/My Drive/epochs/model_5_6_camera4.0004-0.1318.h5\n",
      "668/668 [==============================] - 5s 7ms/step - loss: 0.1044 - root_mean_squared_error: 0.3231 - val_loss: 0.1318 - val_root_mean_squared_error: 0.3630\n",
      "Epoch 5/30\n",
      "664/668 [============================>.] - ETA: 0s - loss: 0.1015 - root_mean_squared_error: 0.3187\n",
      "Epoch 00005: val_loss did not improve from 0.13179\n",
      "668/668 [==============================] - 4s 7ms/step - loss: 0.1014 - root_mean_squared_error: 0.3184 - val_loss: 0.1332 - val_root_mean_squared_error: 0.3649\n",
      "Epoch 6/30\n",
      "667/668 [============================>.] - ETA: 0s - loss: 0.0982 - root_mean_squared_error: 0.3134\n",
      "Epoch 00006: val_loss did not improve from 0.13179\n",
      "668/668 [==============================] - 4s 7ms/step - loss: 0.0982 - root_mean_squared_error: 0.3133 - val_loss: 0.1346 - val_root_mean_squared_error: 0.3669\n",
      "Epoch 7/30\n",
      "667/668 [============================>.] - ETA: 0s - loss: 0.0961 - root_mean_squared_error: 0.3100\n",
      "Epoch 00007: val_loss did not improve from 0.13179\n",
      "668/668 [==============================] - 4s 7ms/step - loss: 0.0961 - root_mean_squared_error: 0.3100 - val_loss: 0.1355 - val_root_mean_squared_error: 0.3681\n",
      "Epoch 8/30\n",
      "665/668 [============================>.] - ETA: 0s - loss: 0.0941 - root_mean_squared_error: 0.3067\n",
      "Epoch 00008: val_loss did not improve from 0.13179\n",
      "668/668 [==============================] - 4s 6ms/step - loss: 0.0939 - root_mean_squared_error: 0.3064 - val_loss: 0.1363 - val_root_mean_squared_error: 0.3692\n",
      "Epoch 9/30\n",
      "662/668 [============================>.] - ETA: 0s - loss: 0.0920 - root_mean_squared_error: 0.3033\n",
      "Epoch 00009: val_loss did not improve from 0.13179\n",
      "668/668 [==============================] - 4s 6ms/step - loss: 0.0919 - root_mean_squared_error: 0.3032 - val_loss: 0.1378 - val_root_mean_squared_error: 0.3712\n",
      "Epoch 10/30\n",
      "665/668 [============================>.] - ETA: 0s - loss: 0.0908 - root_mean_squared_error: 0.3012\n",
      "Epoch 00010: val_loss did not improve from 0.13179\n",
      "668/668 [==============================] - 4s 6ms/step - loss: 0.0906 - root_mean_squared_error: 0.3010 - val_loss: 0.1406 - val_root_mean_squared_error: 0.3750\n",
      "Epoch 11/30\n",
      "668/668 [==============================] - ETA: 0s - loss: 0.0888 - root_mean_squared_error: 0.2980\n",
      "Epoch 00011: val_loss did not improve from 0.13179\n",
      "668/668 [==============================] - 4s 6ms/step - loss: 0.0888 - root_mean_squared_error: 0.2980 - val_loss: 0.1411 - val_root_mean_squared_error: 0.3757\n",
      "Epoch 12/30\n",
      "660/668 [============================>.] - ETA: 0s - loss: 0.0879 - root_mean_squared_error: 0.2964\n",
      "Epoch 00012: val_loss did not improve from 0.13179\n",
      "668/668 [==============================] - 4s 6ms/step - loss: 0.0876 - root_mean_squared_error: 0.2960 - val_loss: 0.1413 - val_root_mean_squared_error: 0.3759\n",
      "Epoch 13/30\n",
      "660/668 [============================>.] - ETA: 0s - loss: 0.0861 - root_mean_squared_error: 0.2935\n",
      "Epoch 00013: val_loss did not improve from 0.13179\n",
      "668/668 [==============================] - 4s 7ms/step - loss: 0.0861 - root_mean_squared_error: 0.2934 - val_loss: 0.1446 - val_root_mean_squared_error: 0.3802\n",
      "Epoch 14/30\n",
      "660/668 [============================>.] - ETA: 0s - loss: 0.0848 - root_mean_squared_error: 0.2913\n",
      "Epoch 00014: val_loss did not improve from 0.13179\n",
      "668/668 [==============================] - 4s 7ms/step - loss: 0.0849 - root_mean_squared_error: 0.2914 - val_loss: 0.1449 - val_root_mean_squared_error: 0.3807\n",
      "Epoch 15/30\n",
      "668/668 [==============================] - ETA: 0s - loss: 0.0834 - root_mean_squared_error: 0.2888\n",
      "Epoch 00015: val_loss did not improve from 0.13179\n",
      "668/668 [==============================] - 4s 7ms/step - loss: 0.0834 - root_mean_squared_error: 0.2888 - val_loss: 0.1452 - val_root_mean_squared_error: 0.3811\n",
      "Epoch 16/30\n",
      "668/668 [==============================] - ETA: 0s - loss: 0.0829 - root_mean_squared_error: 0.2880\n",
      "Epoch 00016: val_loss did not improve from 0.13179\n",
      "668/668 [==============================] - 4s 6ms/step - loss: 0.0829 - root_mean_squared_error: 0.2880 - val_loss: 0.1464 - val_root_mean_squared_error: 0.3826\n",
      "Epoch 17/30\n",
      "664/668 [============================>.] - ETA: 0s - loss: 0.0820 - root_mean_squared_error: 0.2864\n",
      "Epoch 00017: val_loss did not improve from 0.13179\n",
      "668/668 [==============================] - 4s 6ms/step - loss: 0.0819 - root_mean_squared_error: 0.2861 - val_loss: 0.1481 - val_root_mean_squared_error: 0.3848\n",
      "Epoch 18/30\n",
      "666/668 [============================>.] - ETA: 0s - loss: 0.0800 - root_mean_squared_error: 0.2828\n",
      "Epoch 00018: val_loss did not improve from 0.13179\n",
      "668/668 [==============================] - 4s 6ms/step - loss: 0.0801 - root_mean_squared_error: 0.2830 - val_loss: 0.1502 - val_root_mean_squared_error: 0.3875\n",
      "Epoch 19/30\n",
      "660/668 [============================>.] - ETA: 0s - loss: 0.0798 - root_mean_squared_error: 0.2825\n",
      "Epoch 00019: val_loss did not improve from 0.13179\n",
      "668/668 [==============================] - 4s 6ms/step - loss: 0.0800 - root_mean_squared_error: 0.2829 - val_loss: 0.1497 - val_root_mean_squared_error: 0.3869\n",
      "Epoch 20/30\n",
      "666/668 [============================>.] - ETA: 0s - loss: 0.0786 - root_mean_squared_error: 0.2803\n",
      "Epoch 00020: val_loss did not improve from 0.13179\n",
      "668/668 [==============================] - 4s 6ms/step - loss: 0.0786 - root_mean_squared_error: 0.2804 - val_loss: 0.1495 - val_root_mean_squared_error: 0.3866\n",
      "Epoch 21/30\n",
      "663/668 [============================>.] - ETA: 0s - loss: 0.0768 - root_mean_squared_error: 0.2771\n",
      "Epoch 00021: val_loss did not improve from 0.13179\n",
      "668/668 [==============================] - 4s 6ms/step - loss: 0.0773 - root_mean_squared_error: 0.2780 - val_loss: 0.1508 - val_root_mean_squared_error: 0.3884\n",
      "Epoch 22/30\n",
      "660/668 [============================>.] - ETA: 0s - loss: 0.0769 - root_mean_squared_error: 0.2773\n",
      "Epoch 00022: val_loss did not improve from 0.13179\n",
      "668/668 [==============================] - 4s 7ms/step - loss: 0.0770 - root_mean_squared_error: 0.2775 - val_loss: 0.1520 - val_root_mean_squared_error: 0.3898\n",
      "Epoch 23/30\n",
      "661/668 [============================>.] - ETA: 0s - loss: 0.0762 - root_mean_squared_error: 0.2761\n",
      "Epoch 00023: val_loss did not improve from 0.13179\n",
      "668/668 [==============================] - 4s 6ms/step - loss: 0.0763 - root_mean_squared_error: 0.2761 - val_loss: 0.1524 - val_root_mean_squared_error: 0.3904\n",
      "Epoch 24/30\n",
      "668/668 [==============================] - ETA: 0s - loss: 0.0756 - root_mean_squared_error: 0.2750\n",
      "Epoch 00024: val_loss did not improve from 0.13179\n",
      "668/668 [==============================] - 4s 6ms/step - loss: 0.0756 - root_mean_squared_error: 0.2750 - val_loss: 0.1531 - val_root_mean_squared_error: 0.3913\n",
      "Epoch 25/30\n",
      "664/668 [============================>.] - ETA: 0s - loss: 0.0747 - root_mean_squared_error: 0.2733\n",
      "Epoch 00025: val_loss did not improve from 0.13179\n",
      "668/668 [==============================] - 4s 6ms/step - loss: 0.0750 - root_mean_squared_error: 0.2738 - val_loss: 0.1560 - val_root_mean_squared_error: 0.3949\n",
      "Epoch 26/30\n",
      "666/668 [============================>.] - ETA: 0s - loss: 0.0744 - root_mean_squared_error: 0.2728\n",
      "Epoch 00026: val_loss did not improve from 0.13179\n",
      "668/668 [==============================] - 4s 6ms/step - loss: 0.0744 - root_mean_squared_error: 0.2727 - val_loss: 0.1556 - val_root_mean_squared_error: 0.3944\n",
      "Epoch 27/30\n",
      "667/668 [============================>.] - ETA: 0s - loss: 0.0742 - root_mean_squared_error: 0.2725\n",
      "Epoch 00027: val_loss did not improve from 0.13179\n",
      "668/668 [==============================] - 4s 6ms/step - loss: 0.0742 - root_mean_squared_error: 0.2724 - val_loss: 0.1541 - val_root_mean_squared_error: 0.3925\n",
      "Epoch 28/30\n",
      "662/668 [============================>.] - ETA: 0s - loss: 0.0728 - root_mean_squared_error: 0.2698\n",
      "Epoch 00028: val_loss did not improve from 0.13179\n",
      "668/668 [==============================] - 4s 6ms/step - loss: 0.0727 - root_mean_squared_error: 0.2696 - val_loss: 0.1557 - val_root_mean_squared_error: 0.3946\n",
      "Epoch 29/30\n",
      "660/668 [============================>.] - ETA: 0s - loss: 0.0722 - root_mean_squared_error: 0.2687\n",
      "Epoch 00029: val_loss did not improve from 0.13179\n",
      "668/668 [==============================] - 4s 6ms/step - loss: 0.0720 - root_mean_squared_error: 0.2683 - val_loss: 0.1586 - val_root_mean_squared_error: 0.3982\n",
      "Epoch 30/30\n",
      "666/668 [============================>.] - ETA: 0s - loss: 0.0718 - root_mean_squared_error: 0.2680\n",
      "Epoch 00030: val_loss did not improve from 0.13179\n",
      "668/668 [==============================] - 4s 6ms/step - loss: 0.0718 - root_mean_squared_error: 0.2679 - val_loss: 0.1565 - val_root_mean_squared_error: 0.3956\n"
     ]
    }
   ],
   "source": [
    "history = model.fit(X_train,\n",
    "                    y_train,\n",
    "                    batch_size=64,\n",
    "                    validation_data=(X_test, y_test),\n",
    "                    epochs=30,\n",
    "                    verbose=1,\n",
    "                    callbacks=callbacks_list)"
   ]
  },
  {
   "cell_type": "code",
   "execution_count": null,
   "metadata": {
    "colab": {},
    "colab_type": "code",
    "id": "4kLNeLN3VAyr"
   },
   "outputs": [],
   "source": [
    "model_2_camera4 = model_history('model_2_6_camera4')"
   ]
  },
  {
   "cell_type": "markdown",
   "metadata": {},
   "source": [
    "### Model 2 camera5"
   ]
  },
  {
   "cell_type": "code",
   "execution_count": null,
   "metadata": {
    "colab": {},
    "colab_type": "code",
    "id": "o-a0klfKfC5N"
   },
   "outputs": [],
   "source": [
    "model = load_model('/content/drive/My Drive/epochs/model_2_6_camera4.0004-0.1318.h5')"
   ]
  },
  {
   "cell_type": "code",
   "execution_count": null,
   "metadata": {
    "colab": {},
    "colab_type": "code",
    "id": "rcpeDikzfC5R"
   },
   "outputs": [],
   "source": [
    "X_train, X_test, y_train, y_test = train_load('camera5')"
   ]
  },
  {
   "cell_type": "code",
   "execution_count": null,
   "metadata": {
    "colab": {
     "base_uri": "https://localhost:8080/",
     "height": 34
    },
    "colab_type": "code",
    "id": "m3muLlksfC5S",
    "outputId": "81c6b50c-8015-4ad4-8551-fb6a50f60a27"
   },
   "outputs": [
    {
     "data": {
      "text/plain": [
       "((18456, 80, 160, 1), (4614, 80, 160, 1), (18456, 1), (4614, 1))"
      ]
     },
     "execution_count": 61,
     "metadata": {
      "tags": []
     },
     "output_type": "execute_result"
    }
   ],
   "source": [
    "X_train.shape, X_test.shape, y_train.shape, y_test.shape"
   ]
  },
  {
   "cell_type": "code",
   "execution_count": null,
   "metadata": {
    "colab": {},
    "colab_type": "code",
    "id": "eoRaq2lffC5X"
   },
   "outputs": [],
   "source": [
    "filepath = \"/content/drive/My Drive/epochs/model_2_7_camera5.{epoch:04d}-{val_loss:.4f}.h5\"\n",
    "checkpoint = ModelCheckpoint(filepath, monitor='val_loss', verbose=1, save_best_only=True, mode='min')\n",
    "callbacks_list = [checkpoint]"
   ]
  },
  {
   "cell_type": "code",
   "execution_count": null,
   "metadata": {
    "colab": {
     "base_uri": "https://localhost:8080/",
     "height": 1000
    },
    "colab_type": "code",
    "collapsed": true,
    "id": "QF7BlRWQfC5Z",
    "outputId": "3852e44b-d638-45e6-f3ef-fd9c5a187ded"
   },
   "outputs": [
    {
     "name": "stdout",
     "output_type": "stream",
     "text": [
      "Epoch 1/30\n",
      "284/289 [============================>.] - ETA: 0s - loss: 0.1137 - root_mean_squared_error: 0.3372\n",
      "Epoch 00001: val_loss improved from inf to 0.14154, saving model to /content/drive/My Drive/epochs/model_5_7_camera5.0001-0.1415.h5\n",
      "289/289 [==============================] - 3s 9ms/step - loss: 0.1138 - root_mean_squared_error: 0.3373 - val_loss: 0.1415 - val_root_mean_squared_error: 0.3762\n",
      "Epoch 2/30\n",
      "280/289 [============================>.] - ETA: 0s - loss: 0.1007 - root_mean_squared_error: 0.3174\n",
      "Epoch 00002: val_loss improved from 0.14154 to 0.13828, saving model to /content/drive/My Drive/epochs/model_5_7_camera5.0002-0.1383.h5\n",
      "289/289 [==============================] - 2s 7ms/step - loss: 0.0989 - root_mean_squared_error: 0.3144 - val_loss: 0.1383 - val_root_mean_squared_error: 0.3719\n",
      "Epoch 3/30\n",
      "282/289 [============================>.] - ETA: 0s - loss: 0.0961 - root_mean_squared_error: 0.3100\n",
      "Epoch 00003: val_loss improved from 0.13828 to 0.13581, saving model to /content/drive/My Drive/epochs/model_5_7_camera5.0003-0.1358.h5\n",
      "289/289 [==============================] - 2s 7ms/step - loss: 0.0947 - root_mean_squared_error: 0.3078 - val_loss: 0.1358 - val_root_mean_squared_error: 0.3685\n",
      "Epoch 4/30\n",
      "286/289 [============================>.] - ETA: 0s - loss: 0.0917 - root_mean_squared_error: 0.3028\n",
      "Epoch 00004: val_loss improved from 0.13581 to 0.13488, saving model to /content/drive/My Drive/epochs/model_5_7_camera5.0004-0.1349.h5\n",
      "289/289 [==============================] - 2s 7ms/step - loss: 0.0913 - root_mean_squared_error: 0.3022 - val_loss: 0.1349 - val_root_mean_squared_error: 0.3673\n",
      "Epoch 5/30\n",
      "285/289 [============================>.] - ETA: 0s - loss: 0.0865 - root_mean_squared_error: 0.2941\n",
      "Epoch 00005: val_loss improved from 0.13488 to 0.13354, saving model to /content/drive/My Drive/epochs/model_5_7_camera5.0005-0.1335.h5\n",
      "289/289 [==============================] - 2s 7ms/step - loss: 0.0880 - root_mean_squared_error: 0.2967 - val_loss: 0.1335 - val_root_mean_squared_error: 0.3654\n",
      "Epoch 6/30\n",
      "287/289 [============================>.] - ETA: 0s - loss: 0.0855 - root_mean_squared_error: 0.2924\n",
      "Epoch 00006: val_loss improved from 0.13354 to 0.13233, saving model to /content/drive/My Drive/epochs/model_5_7_camera5.0006-0.1323.h5\n",
      "289/289 [==============================] - 2s 7ms/step - loss: 0.0852 - root_mean_squared_error: 0.2920 - val_loss: 0.1323 - val_root_mean_squared_error: 0.3638\n",
      "Epoch 7/30\n",
      "282/289 [============================>.] - ETA: 0s - loss: 0.0833 - root_mean_squared_error: 0.2887\n",
      "Epoch 00007: val_loss did not improve from 0.13233\n",
      "289/289 [==============================] - 2s 7ms/step - loss: 0.0824 - root_mean_squared_error: 0.2871 - val_loss: 0.1324 - val_root_mean_squared_error: 0.3638\n",
      "Epoch 8/30\n",
      "288/289 [============================>.] - ETA: 0s - loss: 0.0803 - root_mean_squared_error: 0.2834\n",
      "Epoch 00008: val_loss improved from 0.13233 to 0.13203, saving model to /content/drive/My Drive/epochs/model_5_7_camera5.0008-0.1320.h5\n",
      "289/289 [==============================] - 2s 7ms/step - loss: 0.0802 - root_mean_squared_error: 0.2833 - val_loss: 0.1320 - val_root_mean_squared_error: 0.3634\n",
      "Epoch 9/30\n",
      "285/289 [============================>.] - ETA: 0s - loss: 0.0789 - root_mean_squared_error: 0.2810\n",
      "Epoch 00009: val_loss did not improve from 0.13203\n",
      "289/289 [==============================] - 2s 7ms/step - loss: 0.0783 - root_mean_squared_error: 0.2798 - val_loss: 0.1333 - val_root_mean_squared_error: 0.3651\n",
      "Epoch 10/30\n",
      "282/289 [============================>.] - ETA: 0s - loss: 0.0761 - root_mean_squared_error: 0.2759\n",
      "Epoch 00010: val_loss did not improve from 0.13203\n",
      "289/289 [==============================] - 2s 7ms/step - loss: 0.0766 - root_mean_squared_error: 0.2767 - val_loss: 0.1328 - val_root_mean_squared_error: 0.3645\n",
      "Epoch 11/30\n",
      "283/289 [============================>.] - ETA: 0s - loss: 0.0749 - root_mean_squared_error: 0.2737\n",
      "Epoch 00011: val_loss did not improve from 0.13203\n",
      "289/289 [==============================] - 2s 6ms/step - loss: 0.0745 - root_mean_squared_error: 0.2730 - val_loss: 0.1334 - val_root_mean_squared_error: 0.3652\n",
      "Epoch 12/30\n",
      "281/289 [============================>.] - ETA: 0s - loss: 0.0741 - root_mean_squared_error: 0.2722\n",
      "Epoch 00012: val_loss did not improve from 0.13203\n",
      "289/289 [==============================] - 2s 7ms/step - loss: 0.0733 - root_mean_squared_error: 0.2707 - val_loss: 0.1348 - val_root_mean_squared_error: 0.3671\n",
      "Epoch 13/30\n",
      "281/289 [============================>.] - ETA: 0s - loss: 0.0726 - root_mean_squared_error: 0.2694\n",
      "Epoch 00013: val_loss did not improve from 0.13203\n",
      "289/289 [==============================] - 2s 7ms/step - loss: 0.0717 - root_mean_squared_error: 0.2678 - val_loss: 0.1362 - val_root_mean_squared_error: 0.3691\n",
      "Epoch 14/30\n",
      "289/289 [==============================] - ETA: 0s - loss: 0.0705 - root_mean_squared_error: 0.2656\n",
      "Epoch 00014: val_loss did not improve from 0.13203\n",
      "289/289 [==============================] - 2s 6ms/step - loss: 0.0705 - root_mean_squared_error: 0.2656 - val_loss: 0.1346 - val_root_mean_squared_error: 0.3669\n",
      "Epoch 15/30\n",
      "286/289 [============================>.] - ETA: 0s - loss: 0.0688 - root_mean_squared_error: 0.2624\n",
      "Epoch 00015: val_loss did not improve from 0.13203\n",
      "289/289 [==============================] - 2s 6ms/step - loss: 0.0693 - root_mean_squared_error: 0.2632 - val_loss: 0.1353 - val_root_mean_squared_error: 0.3679\n",
      "Epoch 16/30\n",
      "287/289 [============================>.] - ETA: 0s - loss: 0.0683 - root_mean_squared_error: 0.2613\n",
      "Epoch 00016: val_loss did not improve from 0.13203\n",
      "289/289 [==============================] - 2s 6ms/step - loss: 0.0681 - root_mean_squared_error: 0.2609 - val_loss: 0.1347 - val_root_mean_squared_error: 0.3670\n",
      "Epoch 17/30\n",
      "282/289 [============================>.] - ETA: 0s - loss: 0.0675 - root_mean_squared_error: 0.2597\n",
      "Epoch 00017: val_loss did not improve from 0.13203\n",
      "289/289 [==============================] - 2s 7ms/step - loss: 0.0675 - root_mean_squared_error: 0.2599 - val_loss: 0.1348 - val_root_mean_squared_error: 0.3672\n",
      "Epoch 18/30\n",
      "288/289 [============================>.] - ETA: 0s - loss: 0.0660 - root_mean_squared_error: 0.2570\n",
      "Epoch 00018: val_loss did not improve from 0.13203\n",
      "289/289 [==============================] - 2s 6ms/step - loss: 0.0660 - root_mean_squared_error: 0.2569 - val_loss: 0.1341 - val_root_mean_squared_error: 0.3661\n",
      "Epoch 19/30\n",
      "288/289 [============================>.] - ETA: 0s - loss: 0.0648 - root_mean_squared_error: 0.2546\n",
      "Epoch 00019: val_loss did not improve from 0.13203\n",
      "289/289 [==============================] - 2s 6ms/step - loss: 0.0648 - root_mean_squared_error: 0.2545 - val_loss: 0.1352 - val_root_mean_squared_error: 0.3677\n",
      "Epoch 20/30\n",
      "283/289 [============================>.] - ETA: 0s - loss: 0.0644 - root_mean_squared_error: 0.2538\n",
      "Epoch 00020: val_loss did not improve from 0.13203\n",
      "289/289 [==============================] - 2s 6ms/step - loss: 0.0642 - root_mean_squared_error: 0.2534 - val_loss: 0.1348 - val_root_mean_squared_error: 0.3671\n",
      "Epoch 21/30\n",
      "284/289 [============================>.] - ETA: 0s - loss: 0.0626 - root_mean_squared_error: 0.2501\n",
      "Epoch 00021: val_loss did not improve from 0.13203\n",
      "289/289 [==============================] - 2s 6ms/step - loss: 0.0638 - root_mean_squared_error: 0.2527 - val_loss: 0.1362 - val_root_mean_squared_error: 0.3690\n",
      "Epoch 22/30\n",
      "280/289 [============================>.] - ETA: 0s - loss: 0.0634 - root_mean_squared_error: 0.2517\n",
      "Epoch 00022: val_loss did not improve from 0.13203\n",
      "289/289 [==============================] - 2s 6ms/step - loss: 0.0630 - root_mean_squared_error: 0.2509 - val_loss: 0.1380 - val_root_mean_squared_error: 0.3715\n",
      "Epoch 23/30\n",
      "289/289 [==============================] - ETA: 0s - loss: 0.0617 - root_mean_squared_error: 0.2484\n",
      "Epoch 00023: val_loss did not improve from 0.13203\n",
      "289/289 [==============================] - 2s 6ms/step - loss: 0.0617 - root_mean_squared_error: 0.2484 - val_loss: 0.1360 - val_root_mean_squared_error: 0.3688\n",
      "Epoch 24/30\n",
      "287/289 [============================>.] - ETA: 0s - loss: 0.0619 - root_mean_squared_error: 0.2487\n",
      "Epoch 00024: val_loss did not improve from 0.13203\n",
      "289/289 [==============================] - 2s 6ms/step - loss: 0.0619 - root_mean_squared_error: 0.2489 - val_loss: 0.1379 - val_root_mean_squared_error: 0.3713\n",
      "Epoch 25/30\n",
      "282/289 [============================>.] - ETA: 0s - loss: 0.0601 - root_mean_squared_error: 0.2452\n",
      "Epoch 00025: val_loss did not improve from 0.13203\n",
      "289/289 [==============================] - 2s 7ms/step - loss: 0.0609 - root_mean_squared_error: 0.2468 - val_loss: 0.1372 - val_root_mean_squared_error: 0.3705\n",
      "Epoch 26/30\n",
      "287/289 [============================>.] - ETA: 0s - loss: 0.0600 - root_mean_squared_error: 0.2449\n",
      "Epoch 00026: val_loss did not improve from 0.13203\n",
      "289/289 [==============================] - 2s 6ms/step - loss: 0.0602 - root_mean_squared_error: 0.2453 - val_loss: 0.1382 - val_root_mean_squared_error: 0.3718\n",
      "Epoch 27/30\n",
      "282/289 [============================>.] - ETA: 0s - loss: 0.0591 - root_mean_squared_error: 0.2430\n",
      "Epoch 00027: val_loss did not improve from 0.13203\n",
      "289/289 [==============================] - 2s 7ms/step - loss: 0.0591 - root_mean_squared_error: 0.2432 - val_loss: 0.1388 - val_root_mean_squared_error: 0.3725\n",
      "Epoch 28/30\n",
      "280/289 [============================>.] - ETA: 0s - loss: 0.0599 - root_mean_squared_error: 0.2447\n",
      "Epoch 00028: val_loss did not improve from 0.13203\n",
      "289/289 [==============================] - 2s 6ms/step - loss: 0.0599 - root_mean_squared_error: 0.2448 - val_loss: 0.1400 - val_root_mean_squared_error: 0.3742\n",
      "Epoch 29/30\n",
      "285/289 [============================>.] - ETA: 0s - loss: 0.0583 - root_mean_squared_error: 0.2414\n",
      "Epoch 00029: val_loss did not improve from 0.13203\n",
      "289/289 [==============================] - 2s 6ms/step - loss: 0.0581 - root_mean_squared_error: 0.2410 - val_loss: 0.1395 - val_root_mean_squared_error: 0.3735\n",
      "Epoch 30/30\n",
      "289/289 [==============================] - ETA: 0s - loss: 0.0577 - root_mean_squared_error: 0.2402\n",
      "Epoch 00030: val_loss did not improve from 0.13203\n",
      "289/289 [==============================] - 2s 6ms/step - loss: 0.0577 - root_mean_squared_error: 0.2402 - val_loss: 0.1403 - val_root_mean_squared_error: 0.3745\n"
     ]
    }
   ],
   "source": [
    "history = model.fit(X_train,\n",
    "                    y_train,\n",
    "                    batch_size=64,\n",
    "                    validation_data=(X_test, y_test),\n",
    "                    epochs=30,\n",
    "                    verbose=1,\n",
    "                    callbacks=callbacks_list)"
   ]
  },
  {
   "cell_type": "code",
   "execution_count": null,
   "metadata": {
    "colab": {},
    "colab_type": "code",
    "id": "iF_wqM0MfC5i"
   },
   "outputs": [],
   "source": [
    "model_2_camera5 = model_history('model_2_7_camera5')"
   ]
  },
  {
   "cell_type": "markdown",
   "metadata": {},
   "source": [
    "### Model 2 camera6"
   ]
  },
  {
   "cell_type": "code",
   "execution_count": null,
   "metadata": {
    "colab": {},
    "colab_type": "code",
    "id": "96PnLEU1fYmd"
   },
   "outputs": [],
   "source": [
    "model = load_model('/content/drive/My Drive/epochs/model_2_7_camera5.0008-0.1320.h5')"
   ]
  },
  {
   "cell_type": "code",
   "execution_count": null,
   "metadata": {
    "colab": {},
    "colab_type": "code",
    "id": "hUABU74QfYmh"
   },
   "outputs": [],
   "source": [
    "X_train, X_test, y_train, y_test = train_load('camera6')"
   ]
  },
  {
   "cell_type": "code",
   "execution_count": null,
   "metadata": {
    "colab": {
     "base_uri": "https://localhost:8080/",
     "height": 34
    },
    "colab_type": "code",
    "id": "Z2mXnyUFfYmj",
    "outputId": "37ad6f54-44e0-4db6-cea6-bd76de3aa90b"
   },
   "outputs": [
    {
     "data": {
      "text/plain": [
       "((66002, 80, 160, 1), (16501, 80, 160, 1), (66002, 1), (16501, 1))"
      ]
     },
     "execution_count": 73,
     "metadata": {
      "tags": []
     },
     "output_type": "execute_result"
    }
   ],
   "source": [
    "X_train.shape, X_test.shape, y_train.shape, y_test.shape"
   ]
  },
  {
   "cell_type": "code",
   "execution_count": null,
   "metadata": {
    "colab": {},
    "colab_type": "code",
    "id": "F3UXNnGcfYmk"
   },
   "outputs": [],
   "source": [
    "filepath = \"/content/drive/My Drive/epochs/model_2_8_camera6.{epoch:04d}-{val_loss:.4f}.h5\"\n",
    "checkpoint = ModelCheckpoint(filepath, monitor='val_loss', verbose=1, save_best_only=True, mode='min')\n",
    "callbacks_list = [checkpoint]"
   ]
  },
  {
   "cell_type": "code",
   "execution_count": null,
   "metadata": {
    "colab": {
     "base_uri": "https://localhost:8080/",
     "height": 1000
    },
    "colab_type": "code",
    "collapsed": true,
    "id": "PN0zBMsNfYmm",
    "outputId": "cea9d51d-e3ca-4e14-905a-087480c6dd55"
   },
   "outputs": [
    {
     "name": "stdout",
     "output_type": "stream",
     "text": [
      "Epoch 1/30\n",
      "1026/1032 [============================>.] - ETA: 0s - loss: 0.0761 - root_mean_squared_error: 0.2759\n",
      "Epoch 00001: val_loss improved from inf to 0.07317, saving model to /content/drive/My Drive/epochs/model_5_8_camera6.0001-0.0732.h5\n",
      "1032/1032 [==============================] - 7s 7ms/step - loss: 0.0763 - root_mean_squared_error: 0.2762 - val_loss: 0.0732 - val_root_mean_squared_error: 0.2705\n",
      "Epoch 2/30\n",
      "1030/1032 [============================>.] - ETA: 0s - loss: 0.0690 - root_mean_squared_error: 0.2626\n",
      "Epoch 00002: val_loss improved from 0.07317 to 0.07173, saving model to /content/drive/My Drive/epochs/model_5_8_camera6.0002-0.0717.h5\n",
      "1032/1032 [==============================] - 7s 7ms/step - loss: 0.0689 - root_mean_squared_error: 0.2624 - val_loss: 0.0717 - val_root_mean_squared_error: 0.2678\n",
      "Epoch 3/30\n",
      "1029/1032 [============================>.] - ETA: 0s - loss: 0.0656 - root_mean_squared_error: 0.2561\n",
      "Epoch 00003: val_loss improved from 0.07173 to 0.07048, saving model to /content/drive/My Drive/epochs/model_5_8_camera6.0003-0.0705.h5\n",
      "1032/1032 [==============================] - 7s 7ms/step - loss: 0.0656 - root_mean_squared_error: 0.2561 - val_loss: 0.0705 - val_root_mean_squared_error: 0.2655\n",
      "Epoch 4/30\n",
      "1032/1032 [==============================] - ETA: 0s - loss: 0.0640 - root_mean_squared_error: 0.2531\n",
      "Epoch 00004: val_loss improved from 0.07048 to 0.07029, saving model to /content/drive/My Drive/epochs/model_5_8_camera6.0004-0.0703.h5\n",
      "1032/1032 [==============================] - 7s 7ms/step - loss: 0.0640 - root_mean_squared_error: 0.2531 - val_loss: 0.0703 - val_root_mean_squared_error: 0.2651\n",
      "Epoch 5/30\n",
      "1030/1032 [============================>.] - ETA: 0s - loss: 0.0626 - root_mean_squared_error: 0.2502\n",
      "Epoch 00005: val_loss did not improve from 0.07029\n",
      "1032/1032 [==============================] - 7s 7ms/step - loss: 0.0627 - root_mean_squared_error: 0.2504 - val_loss: 0.0705 - val_root_mean_squared_error: 0.2655\n",
      "Epoch 6/30\n",
      "1023/1032 [============================>.] - ETA: 0s - loss: 0.0617 - root_mean_squared_error: 0.2484\n",
      "Epoch 00006: val_loss did not improve from 0.07029\n",
      "1032/1032 [==============================] - 7s 7ms/step - loss: 0.0619 - root_mean_squared_error: 0.2487 - val_loss: 0.0717 - val_root_mean_squared_error: 0.2678\n",
      "Epoch 7/30\n",
      "1025/1032 [============================>.] - ETA: 0s - loss: 0.0613 - root_mean_squared_error: 0.2475\n",
      "Epoch 00007: val_loss did not improve from 0.07029\n",
      "1032/1032 [==============================] - 7s 6ms/step - loss: 0.0611 - root_mean_squared_error: 0.2472 - val_loss: 0.0716 - val_root_mean_squared_error: 0.2675\n",
      "Epoch 8/30\n",
      "1028/1032 [============================>.] - ETA: 0s - loss: 0.0608 - root_mean_squared_error: 0.2466\n",
      "Epoch 00008: val_loss did not improve from 0.07029\n",
      "1032/1032 [==============================] - 7s 7ms/step - loss: 0.0607 - root_mean_squared_error: 0.2464 - val_loss: 0.0712 - val_root_mean_squared_error: 0.2668\n",
      "Epoch 9/30\n",
      "1027/1032 [============================>.] - ETA: 0s - loss: 0.0601 - root_mean_squared_error: 0.2451\n",
      "Epoch 00009: val_loss did not improve from 0.07029\n",
      "1032/1032 [==============================] - 7s 6ms/step - loss: 0.0600 - root_mean_squared_error: 0.2449 - val_loss: 0.0711 - val_root_mean_squared_error: 0.2666\n",
      "Epoch 10/30\n",
      "1032/1032 [==============================] - ETA: 0s - loss: 0.0597 - root_mean_squared_error: 0.2444\n",
      "Epoch 00010: val_loss did not improve from 0.07029\n",
      "1032/1032 [==============================] - 7s 6ms/step - loss: 0.0597 - root_mean_squared_error: 0.2444 - val_loss: 0.0716 - val_root_mean_squared_error: 0.2676\n",
      "Epoch 11/30\n",
      "1030/1032 [============================>.] - ETA: 0s - loss: 0.0592 - root_mean_squared_error: 0.2434\n",
      "Epoch 00011: val_loss did not improve from 0.07029\n",
      "1032/1032 [==============================] - 7s 6ms/step - loss: 0.0592 - root_mean_squared_error: 0.2433 - val_loss: 0.0736 - val_root_mean_squared_error: 0.2713\n",
      "Epoch 12/30\n",
      "1027/1032 [============================>.] - ETA: 0s - loss: 0.0592 - root_mean_squared_error: 0.2432\n",
      "Epoch 00012: val_loss did not improve from 0.07029\n",
      "1032/1032 [==============================] - 7s 6ms/step - loss: 0.0590 - root_mean_squared_error: 0.2429 - val_loss: 0.0718 - val_root_mean_squared_error: 0.2680\n",
      "Epoch 13/30\n",
      "1031/1032 [============================>.] - ETA: 0s - loss: 0.0589 - root_mean_squared_error: 0.2426\n",
      "Epoch 00013: val_loss did not improve from 0.07029\n",
      "1032/1032 [==============================] - 7s 6ms/step - loss: 0.0589 - root_mean_squared_error: 0.2426 - val_loss: 0.0727 - val_root_mean_squared_error: 0.2696\n",
      "Epoch 14/30\n",
      "1029/1032 [============================>.] - ETA: 0s - loss: 0.0587 - root_mean_squared_error: 0.2422\n",
      "Epoch 00014: val_loss did not improve from 0.07029\n",
      "1032/1032 [==============================] - 7s 6ms/step - loss: 0.0586 - root_mean_squared_error: 0.2420 - val_loss: 0.0732 - val_root_mean_squared_error: 0.2706\n",
      "Epoch 15/30\n",
      "1025/1032 [============================>.] - ETA: 0s - loss: 0.0581 - root_mean_squared_error: 0.2410\n",
      "Epoch 00015: val_loss did not improve from 0.07029\n",
      "1032/1032 [==============================] - 7s 6ms/step - loss: 0.0579 - root_mean_squared_error: 0.2407 - val_loss: 0.0736 - val_root_mean_squared_error: 0.2713\n",
      "Epoch 16/30\n",
      "1024/1032 [============================>.] - ETA: 0s - loss: 0.0580 - root_mean_squared_error: 0.2409\n",
      "Epoch 00016: val_loss did not improve from 0.07029\n",
      "1032/1032 [==============================] - 7s 6ms/step - loss: 0.0579 - root_mean_squared_error: 0.2407 - val_loss: 0.0742 - val_root_mean_squared_error: 0.2723\n",
      "Epoch 17/30\n",
      "1027/1032 [============================>.] - ETA: 0s - loss: 0.0578 - root_mean_squared_error: 0.2404\n",
      "Epoch 00017: val_loss did not improve from 0.07029\n",
      "1032/1032 [==============================] - 7s 7ms/step - loss: 0.0577 - root_mean_squared_error: 0.2403 - val_loss: 0.0730 - val_root_mean_squared_error: 0.2701\n",
      "Epoch 18/30\n",
      "1027/1032 [============================>.] - ETA: 0s - loss: 0.0578 - root_mean_squared_error: 0.2404\n",
      "Epoch 00018: val_loss did not improve from 0.07029\n",
      "1032/1032 [==============================] - 7s 6ms/step - loss: 0.0577 - root_mean_squared_error: 0.2402 - val_loss: 0.0731 - val_root_mean_squared_error: 0.2703\n",
      "Epoch 19/30\n",
      "1028/1032 [============================>.] - ETA: 0s - loss: 0.0574 - root_mean_squared_error: 0.2395\n",
      "Epoch 00019: val_loss did not improve from 0.07029\n",
      "1032/1032 [==============================] - 7s 6ms/step - loss: 0.0573 - root_mean_squared_error: 0.2393 - val_loss: 0.0734 - val_root_mean_squared_error: 0.2710\n",
      "Epoch 20/30\n",
      "1025/1032 [============================>.] - ETA: 0s - loss: 0.0572 - root_mean_squared_error: 0.2391\n",
      "Epoch 00020: val_loss did not improve from 0.07029\n",
      "1032/1032 [==============================] - 7s 6ms/step - loss: 0.0574 - root_mean_squared_error: 0.2395 - val_loss: 0.0752 - val_root_mean_squared_error: 0.2742\n",
      "Epoch 21/30\n",
      "1031/1032 [============================>.] - ETA: 0s - loss: 0.0570 - root_mean_squared_error: 0.2387\n",
      "Epoch 00021: val_loss did not improve from 0.07029\n",
      "1032/1032 [==============================] - 7s 7ms/step - loss: 0.0570 - root_mean_squared_error: 0.2387 - val_loss: 0.0740 - val_root_mean_squared_error: 0.2721\n",
      "Epoch 22/30\n",
      "1027/1032 [============================>.] - ETA: 0s - loss: 0.0569 - root_mean_squared_error: 0.2385\n",
      "Epoch 00022: val_loss did not improve from 0.07029\n",
      "1032/1032 [==============================] - 7s 7ms/step - loss: 0.0568 - root_mean_squared_error: 0.2384 - val_loss: 0.0739 - val_root_mean_squared_error: 0.2719\n",
      "Epoch 23/30\n",
      "1030/1032 [============================>.] - ETA: 0s - loss: 0.0566 - root_mean_squared_error: 0.2379\n",
      "Epoch 00023: val_loss did not improve from 0.07029\n",
      "1032/1032 [==============================] - 7s 7ms/step - loss: 0.0568 - root_mean_squared_error: 0.2384 - val_loss: 0.0745 - val_root_mean_squared_error: 0.2729\n",
      "Epoch 24/30\n",
      "1025/1032 [============================>.] - ETA: 0s - loss: 0.0562 - root_mean_squared_error: 0.2371\n",
      "Epoch 00024: val_loss did not improve from 0.07029\n",
      "1032/1032 [==============================] - 7s 7ms/step - loss: 0.0566 - root_mean_squared_error: 0.2379 - val_loss: 0.0748 - val_root_mean_squared_error: 0.2736\n",
      "Epoch 25/30\n",
      "1031/1032 [============================>.] - ETA: 0s - loss: 0.0564 - root_mean_squared_error: 0.2375\n",
      "Epoch 00025: val_loss did not improve from 0.07029\n",
      "1032/1032 [==============================] - 7s 6ms/step - loss: 0.0564 - root_mean_squared_error: 0.2374 - val_loss: 0.0766 - val_root_mean_squared_error: 0.2768\n",
      "Epoch 26/30\n",
      "1027/1032 [============================>.] - ETA: 0s - loss: 0.0558 - root_mean_squared_error: 0.2362\n",
      "Epoch 00026: val_loss did not improve from 0.07029\n",
      "1032/1032 [==============================] - 7s 6ms/step - loss: 0.0562 - root_mean_squared_error: 0.2370 - val_loss: 0.0744 - val_root_mean_squared_error: 0.2728\n",
      "Epoch 27/30\n",
      "1024/1032 [============================>.] - ETA: 0s - loss: 0.0562 - root_mean_squared_error: 0.2371\n",
      "Epoch 00027: val_loss did not improve from 0.07029\n",
      "1032/1032 [==============================] - 7s 6ms/step - loss: 0.0560 - root_mean_squared_error: 0.2367 - val_loss: 0.0758 - val_root_mean_squared_error: 0.2753\n",
      "Epoch 28/30\n",
      "1027/1032 [============================>.] - ETA: 0s - loss: 0.0561 - root_mean_squared_error: 0.2369\n",
      "Epoch 00028: val_loss did not improve from 0.07029\n",
      "1032/1032 [==============================] - 7s 6ms/step - loss: 0.0560 - root_mean_squared_error: 0.2366 - val_loss: 0.0744 - val_root_mean_squared_error: 0.2727\n",
      "Epoch 29/30\n",
      "1031/1032 [============================>.] - ETA: 0s - loss: 0.0560 - root_mean_squared_error: 0.2367\n",
      "Epoch 00029: val_loss did not improve from 0.07029\n",
      "1032/1032 [==============================] - 7s 7ms/step - loss: 0.0560 - root_mean_squared_error: 0.2367 - val_loss: 0.0747 - val_root_mean_squared_error: 0.2733\n",
      "Epoch 30/30\n",
      "1032/1032 [==============================] - ETA: 0s - loss: 0.0556 - root_mean_squared_error: 0.2359\n",
      "Epoch 00030: val_loss did not improve from 0.07029\n",
      "1032/1032 [==============================] - 7s 6ms/step - loss: 0.0556 - root_mean_squared_error: 0.2359 - val_loss: 0.0753 - val_root_mean_squared_error: 0.2744\n"
     ]
    }
   ],
   "source": [
    "history = model.fit(X_train,\n",
    "                    y_train,\n",
    "                    batch_size=64,\n",
    "                    validation_data=(X_test, y_test),\n",
    "                    epochs=30,\n",
    "                    verbose=1,\n",
    "                    callbacks=callbacks_list)"
   ]
  },
  {
   "cell_type": "code",
   "execution_count": null,
   "metadata": {
    "colab": {},
    "colab_type": "code",
    "id": "k4WyYU5OfYmt"
   },
   "outputs": [],
   "source": [
    "model_2_camera6 = model_history('model_2_8_camera6')"
   ]
  },
  {
   "cell_type": "markdown",
   "metadata": {},
   "source": [
    "### Model 2 camera7"
   ]
  },
  {
   "cell_type": "code",
   "execution_count": null,
   "metadata": {
    "colab": {},
    "colab_type": "code",
    "id": "LfvqwriggALb"
   },
   "outputs": [],
   "source": [
    "model = load_model('/content/drive/My Drive/epochs/model_2_8_camera6.0004-0.0703.h5')"
   ]
  },
  {
   "cell_type": "code",
   "execution_count": null,
   "metadata": {
    "colab": {},
    "colab_type": "code",
    "id": "eLWXRBbjgALg"
   },
   "outputs": [],
   "source": [
    "X_train, X_test, y_train, y_test = train_load('camera7')"
   ]
  },
  {
   "cell_type": "code",
   "execution_count": null,
   "metadata": {
    "colab": {
     "base_uri": "https://localhost:8080/",
     "height": 34
    },
    "colab_type": "code",
    "id": "UZlGuVkugALh",
    "outputId": "e69cf6df-f235-400a-f004-bbe511417975"
   },
   "outputs": [
    {
     "data": {
      "text/plain": [
       "((59248, 80, 160, 1), (14812, 80, 160, 1), (59248, 1), (14812, 1))"
      ]
     },
     "execution_count": 85,
     "metadata": {
      "tags": []
     },
     "output_type": "execute_result"
    }
   ],
   "source": [
    "X_train.shape, X_test.shape, y_train.shape, y_test.shape"
   ]
  },
  {
   "cell_type": "code",
   "execution_count": null,
   "metadata": {
    "colab": {},
    "colab_type": "code",
    "id": "-G2Rj2ZjgALj"
   },
   "outputs": [],
   "source": [
    "filepath = \"/content/drive/My Drive/epochs/model_2_9_camera7.{epoch:04d}-{val_loss:.4f}.h5\"\n",
    "checkpoint = ModelCheckpoint(filepath, monitor='val_loss', verbose=1, save_best_only=True, mode='min')\n",
    "callbacks_list = [checkpoint]"
   ]
  },
  {
   "cell_type": "code",
   "execution_count": null,
   "metadata": {
    "colab": {
     "base_uri": "https://localhost:8080/",
     "height": 1000
    },
    "colab_type": "code",
    "collapsed": true,
    "id": "ShKMN-jqgALk",
    "outputId": "0e3aedaa-8398-46de-b685-03f805bb7914"
   },
   "outputs": [
    {
     "name": "stdout",
     "output_type": "stream",
     "text": [
      "Epoch 1/30\n",
      "926/926 [==============================] - ETA: 0s - loss: 0.0390 - root_mean_squared_error: 0.1975\n",
      "Epoch 00001: val_loss improved from inf to 0.03959, saving model to /content/drive/My Drive/epochs/model_5_9_camera7.0001-0.0396.h5\n",
      "926/926 [==============================] - 6s 7ms/step - loss: 0.0390 - root_mean_squared_error: 0.1975 - val_loss: 0.0396 - val_root_mean_squared_error: 0.1990\n",
      "Epoch 2/30\n",
      "921/926 [============================>.] - ETA: 0s - loss: 0.0349 - root_mean_squared_error: 0.1869\n",
      "Epoch 00002: val_loss improved from 0.03959 to 0.03933, saving model to /content/drive/My Drive/epochs/model_5_9_camera7.0002-0.0393.h5\n",
      "926/926 [==============================] - 6s 7ms/step - loss: 0.0349 - root_mean_squared_error: 0.1869 - val_loss: 0.0393 - val_root_mean_squared_error: 0.1983\n",
      "Epoch 3/30\n",
      "920/926 [============================>.] - ETA: 0s - loss: 0.0340 - root_mean_squared_error: 0.1845\n",
      "Epoch 00003: val_loss improved from 0.03933 to 0.03911, saving model to /content/drive/My Drive/epochs/model_5_9_camera7.0003-0.0391.h5\n",
      "926/926 [==============================] - 6s 7ms/step - loss: 0.0341 - root_mean_squared_error: 0.1846 - val_loss: 0.0391 - val_root_mean_squared_error: 0.1978\n",
      "Epoch 4/30\n",
      "918/926 [============================>.] - ETA: 0s - loss: 0.0336 - root_mean_squared_error: 0.1832\n",
      "Epoch 00004: val_loss improved from 0.03911 to 0.03889, saving model to /content/drive/My Drive/epochs/model_5_9_camera7.0004-0.0389.h5\n",
      "926/926 [==============================] - 6s 7ms/step - loss: 0.0334 - root_mean_squared_error: 0.1827 - val_loss: 0.0389 - val_root_mean_squared_error: 0.1972\n",
      "Epoch 5/30\n",
      "920/926 [============================>.] - ETA: 0s - loss: 0.0326 - root_mean_squared_error: 0.1804\n",
      "Epoch 00005: val_loss did not improve from 0.03889\n",
      "926/926 [==============================] - 6s 7ms/step - loss: 0.0327 - root_mean_squared_error: 0.1808 - val_loss: 0.0391 - val_root_mean_squared_error: 0.1977\n",
      "Epoch 6/30\n",
      "923/926 [============================>.] - ETA: 0s - loss: 0.0323 - root_mean_squared_error: 0.1797\n",
      "Epoch 00006: val_loss did not improve from 0.03889\n",
      "926/926 [==============================] - 6s 7ms/step - loss: 0.0322 - root_mean_squared_error: 0.1795 - val_loss: 0.0395 - val_root_mean_squared_error: 0.1986\n",
      "Epoch 7/30\n",
      "923/926 [============================>.] - ETA: 0s - loss: 0.0319 - root_mean_squared_error: 0.1785\n",
      "Epoch 00007: val_loss did not improve from 0.03889\n",
      "926/926 [==============================] - 6s 7ms/step - loss: 0.0320 - root_mean_squared_error: 0.1788 - val_loss: 0.0392 - val_root_mean_squared_error: 0.1980\n",
      "Epoch 8/30\n",
      "924/926 [============================>.] - ETA: 0s - loss: 0.0312 - root_mean_squared_error: 0.1766\n",
      "Epoch 00008: val_loss did not improve from 0.03889\n",
      "926/926 [==============================] - 6s 7ms/step - loss: 0.0315 - root_mean_squared_error: 0.1776 - val_loss: 0.0396 - val_root_mean_squared_error: 0.1990\n",
      "Epoch 9/30\n",
      "926/926 [==============================] - ETA: 0s - loss: 0.0313 - root_mean_squared_error: 0.1769\n",
      "Epoch 00009: val_loss did not improve from 0.03889\n",
      "926/926 [==============================] - 6s 7ms/step - loss: 0.0313 - root_mean_squared_error: 0.1769 - val_loss: 0.0398 - val_root_mean_squared_error: 0.1996\n",
      "Epoch 10/30\n",
      "923/926 [============================>.] - ETA: 0s - loss: 0.0309 - root_mean_squared_error: 0.1759\n",
      "Epoch 00010: val_loss did not improve from 0.03889\n",
      "926/926 [==============================] - 6s 7ms/step - loss: 0.0309 - root_mean_squared_error: 0.1759 - val_loss: 0.0395 - val_root_mean_squared_error: 0.1988\n",
      "Epoch 11/30\n",
      "919/926 [============================>.] - ETA: 0s - loss: 0.0306 - root_mean_squared_error: 0.1749\n",
      "Epoch 00011: val_loss did not improve from 0.03889\n",
      "926/926 [==============================] - 6s 7ms/step - loss: 0.0307 - root_mean_squared_error: 0.1753 - val_loss: 0.0398 - val_root_mean_squared_error: 0.1995\n",
      "Epoch 12/30\n",
      "921/926 [============================>.] - ETA: 0s - loss: 0.0307 - root_mean_squared_error: 0.1752\n",
      "Epoch 00012: val_loss did not improve from 0.03889\n",
      "926/926 [==============================] - 6s 7ms/step - loss: 0.0306 - root_mean_squared_error: 0.1749 - val_loss: 0.0401 - val_root_mean_squared_error: 0.2002\n",
      "Epoch 13/30\n",
      "918/926 [============================>.] - ETA: 0s - loss: 0.0303 - root_mean_squared_error: 0.1741\n",
      "Epoch 00013: val_loss did not improve from 0.03889\n",
      "926/926 [==============================] - 6s 7ms/step - loss: 0.0302 - root_mean_squared_error: 0.1739 - val_loss: 0.0400 - val_root_mean_squared_error: 0.2000\n",
      "Epoch 14/30\n",
      "922/926 [============================>.] - ETA: 0s - loss: 0.0301 - root_mean_squared_error: 0.1735\n",
      "Epoch 00014: val_loss did not improve from 0.03889\n",
      "926/926 [==============================] - 6s 6ms/step - loss: 0.0301 - root_mean_squared_error: 0.1734 - val_loss: 0.0402 - val_root_mean_squared_error: 0.2005\n",
      "Epoch 15/30\n",
      "922/926 [============================>.] - ETA: 0s - loss: 0.0299 - root_mean_squared_error: 0.1728\n",
      "Epoch 00015: val_loss did not improve from 0.03889\n",
      "926/926 [==============================] - 6s 7ms/step - loss: 0.0299 - root_mean_squared_error: 0.1728 - val_loss: 0.0405 - val_root_mean_squared_error: 0.2012\n",
      "Epoch 16/30\n",
      "917/926 [============================>.] - ETA: 0s - loss: 0.0297 - root_mean_squared_error: 0.1724\n",
      "Epoch 00016: val_loss did not improve from 0.03889\n",
      "926/926 [==============================] - 6s 7ms/step - loss: 0.0297 - root_mean_squared_error: 0.1722 - val_loss: 0.0407 - val_root_mean_squared_error: 0.2018\n",
      "Epoch 17/30\n",
      "925/926 [============================>.] - ETA: 0s - loss: 0.0295 - root_mean_squared_error: 0.1718\n",
      "Epoch 00017: val_loss did not improve from 0.03889\n",
      "926/926 [==============================] - 6s 7ms/step - loss: 0.0295 - root_mean_squared_error: 0.1718 - val_loss: 0.0405 - val_root_mean_squared_error: 0.2013\n",
      "Epoch 18/30\n",
      "922/926 [============================>.] - ETA: 0s - loss: 0.0291 - root_mean_squared_error: 0.1705\n",
      "Epoch 00018: val_loss did not improve from 0.03889\n",
      "926/926 [==============================] - 6s 7ms/step - loss: 0.0292 - root_mean_squared_error: 0.1708 - val_loss: 0.0410 - val_root_mean_squared_error: 0.2026\n",
      "Epoch 19/30\n",
      "925/926 [============================>.] - ETA: 0s - loss: 0.0292 - root_mean_squared_error: 0.1708\n",
      "Epoch 00019: val_loss did not improve from 0.03889\n",
      "926/926 [==============================] - 6s 7ms/step - loss: 0.0292 - root_mean_squared_error: 0.1707 - val_loss: 0.0411 - val_root_mean_squared_error: 0.2028\n",
      "Epoch 20/30\n",
      "918/926 [============================>.] - ETA: 0s - loss: 0.0290 - root_mean_squared_error: 0.1702\n",
      "Epoch 00020: val_loss did not improve from 0.03889\n",
      "926/926 [==============================] - 6s 7ms/step - loss: 0.0289 - root_mean_squared_error: 0.1700 - val_loss: 0.0417 - val_root_mean_squared_error: 0.2043\n",
      "Epoch 21/30\n",
      "919/926 [============================>.] - ETA: 0s - loss: 0.0289 - root_mean_squared_error: 0.1701\n",
      "Epoch 00021: val_loss did not improve from 0.03889\n",
      "926/926 [==============================] - 6s 6ms/step - loss: 0.0288 - root_mean_squared_error: 0.1697 - val_loss: 0.0412 - val_root_mean_squared_error: 0.2031\n",
      "Epoch 22/30\n",
      "921/926 [============================>.] - ETA: 0s - loss: 0.0288 - root_mean_squared_error: 0.1696\n",
      "Epoch 00022: val_loss did not improve from 0.03889\n",
      "926/926 [==============================] - 6s 7ms/step - loss: 0.0288 - root_mean_squared_error: 0.1696 - val_loss: 0.0407 - val_root_mean_squared_error: 0.2018\n",
      "Epoch 23/30\n",
      "925/926 [============================>.] - ETA: 0s - loss: 0.0287 - root_mean_squared_error: 0.1693\n",
      "Epoch 00023: val_loss did not improve from 0.03889\n",
      "926/926 [==============================] - 6s 7ms/step - loss: 0.0286 - root_mean_squared_error: 0.1692 - val_loss: 0.0408 - val_root_mean_squared_error: 0.2019\n",
      "Epoch 24/30\n",
      "921/926 [============================>.] - ETA: 0s - loss: 0.0285 - root_mean_squared_error: 0.1688\n",
      "Epoch 00024: val_loss did not improve from 0.03889\n",
      "926/926 [==============================] - 6s 7ms/step - loss: 0.0285 - root_mean_squared_error: 0.1688 - val_loss: 0.0412 - val_root_mean_squared_error: 0.2030\n",
      "Epoch 25/30\n",
      "922/926 [============================>.] - ETA: 0s - loss: 0.0284 - root_mean_squared_error: 0.1684\n",
      "Epoch 00025: val_loss did not improve from 0.03889\n",
      "926/926 [==============================] - 6s 7ms/step - loss: 0.0284 - root_mean_squared_error: 0.1684 - val_loss: 0.0415 - val_root_mean_squared_error: 0.2037\n",
      "Epoch 26/30\n",
      "923/926 [============================>.] - ETA: 0s - loss: 0.0283 - root_mean_squared_error: 0.1682\n",
      "Epoch 00026: val_loss did not improve from 0.03889\n",
      "926/926 [==============================] - 6s 7ms/step - loss: 0.0283 - root_mean_squared_error: 0.1682 - val_loss: 0.0419 - val_root_mean_squared_error: 0.2046\n",
      "Epoch 27/30\n",
      "919/926 [============================>.] - ETA: 0s - loss: 0.0282 - root_mean_squared_error: 0.1680\n",
      "Epoch 00027: val_loss did not improve from 0.03889\n",
      "926/926 [==============================] - 6s 7ms/step - loss: 0.0282 - root_mean_squared_error: 0.1678 - val_loss: 0.0419 - val_root_mean_squared_error: 0.2046\n",
      "Epoch 28/30\n",
      "926/926 [==============================] - ETA: 0s - loss: 0.0280 - root_mean_squared_error: 0.1675\n",
      "Epoch 00028: val_loss did not improve from 0.03889\n",
      "926/926 [==============================] - 6s 7ms/step - loss: 0.0280 - root_mean_squared_error: 0.1675 - val_loss: 0.0423 - val_root_mean_squared_error: 0.2057\n",
      "Epoch 29/30\n",
      "921/926 [============================>.] - ETA: 0s - loss: 0.0279 - root_mean_squared_error: 0.1672\n",
      "Epoch 00029: val_loss did not improve from 0.03889\n",
      "926/926 [==============================] - 6s 7ms/step - loss: 0.0279 - root_mean_squared_error: 0.1671 - val_loss: 0.0417 - val_root_mean_squared_error: 0.2043\n",
      "Epoch 30/30\n",
      "918/926 [============================>.] - ETA: 0s - loss: 0.0278 - root_mean_squared_error: 0.1667\n",
      "Epoch 00030: val_loss did not improve from 0.03889\n",
      "926/926 [==============================] - 6s 7ms/step - loss: 0.0277 - root_mean_squared_error: 0.1666 - val_loss: 0.0432 - val_root_mean_squared_error: 0.2078\n"
     ]
    }
   ],
   "source": [
    "history = model.fit(X_train,\n",
    "                    y_train,\n",
    "                    batch_size=64,\n",
    "                    validation_data=(X_test, y_test),\n",
    "                    epochs=30,\n",
    "                    verbose=1,\n",
    "                    callbacks=callbacks_list)"
   ]
  },
  {
   "cell_type": "code",
   "execution_count": null,
   "metadata": {
    "colab": {},
    "colab_type": "code",
    "id": "y5EgrRHTgALt"
   },
   "outputs": [],
   "source": [
    "model_2_camera7 = model_history('model_2_9_camera7')"
   ]
  },
  {
   "cell_type": "markdown",
   "metadata": {},
   "source": [
    "## Model 3"
   ]
  },
  {
   "cell_type": "markdown",
   "metadata": {},
   "source": [
    "### Model 3 camera8"
   ]
  },
  {
   "cell_type": "code",
   "execution_count": null,
   "metadata": {
    "colab": {},
    "colab_type": "code",
    "id": "6WvRy6-9eJ1Q"
   },
   "outputs": [],
   "source": [
    "X_train, X_test, y_train, y_test = train_load('camera8')"
   ]
  },
  {
   "cell_type": "code",
   "execution_count": null,
   "metadata": {
    "colab": {
     "base_uri": "https://localhost:8080/",
     "height": 34
    },
    "colab_type": "code",
    "id": "jQXYGqoJeJ1S",
    "outputId": "23bc7c35-dd2e-4ccc-fd4f-af843162077b"
   },
   "outputs": [
    {
     "data": {
      "text/plain": [
       "((22188, 80, 160, 1), (5548, 80, 160, 1), (22188, 1), (5548, 1))"
      ]
     },
     "execution_count": 15,
     "metadata": {
      "tags": []
     },
     "output_type": "execute_result"
    }
   ],
   "source": [
    "X_train.shape, X_test.shape, y_train.shape, y_test.shape"
   ]
  },
  {
   "cell_type": "code",
   "execution_count": null,
   "metadata": {
    "colab": {},
    "colab_type": "code",
    "id": "SCoq5rBm6ztI"
   },
   "outputs": [],
   "source": [
    "model = Sequential()\n",
    "\n",
    "model.add(Conv2D(16, (8, 8), strides=(4, 4), activation='relu', padding=\"same\"))\n",
    "\n",
    "model.add(Conv2D(32, (5, 5), strides=(2, 2), activation='relu', padding=\"same\"))\n",
    "\n",
    "model.add(Conv2D(64, (5, 5), strides=(2, 2), padding=\"same\"))\n",
    "\n",
    "model.add(Flatten())\n",
    "model.add(Dropout(.2))\n",
    "\n",
    "model.add(Dense(512, activation='relu'))\n",
    "model.add(Dropout(.5))\n",
    "\n",
    "model.add(Dense(1))\n",
    "\n",
    "model.compile(loss='mse', optimizer=Adam(lr=1e-04), metrics=[RootMeanSquaredError()])"
   ]
  },
  {
   "cell_type": "code",
   "execution_count": null,
   "metadata": {
    "colab": {},
    "colab_type": "code",
    "id": "262qoFA_eJ1U"
   },
   "outputs": [],
   "source": [
    "filepath = \"/content/drive/My Drive/epochs/model_3_1_camera8.{epoch:04d}-{val_loss:.4f}.h5\"\n",
    "checkpoint = ModelCheckpoint(filepath, monitor='val_loss', verbose=1, save_best_only=True, mode='min')\n",
    "callbacks_list = [checkpoint]"
   ]
  },
  {
   "cell_type": "code",
   "execution_count": null,
   "metadata": {
    "colab": {
     "base_uri": "https://localhost:8080/",
     "height": 1000
    },
    "colab_type": "code",
    "collapsed": true,
    "id": "E1y08YqxeJ1V",
    "outputId": "50b658a3-4470-43fc-e085-511b37cc195f"
   },
   "outputs": [
    {
     "name": "stdout",
     "output_type": "stream",
     "text": [
      "Epoch 1/30\n",
      "347/347 [==============================] - ETA: 0s - loss: 0.3885 - root_mean_squared_error: 0.6233\n",
      "Epoch 00001: val_loss improved from inf to 0.35014, saving model to /content/drive/My Drive/epochs/model_5_1_camera8.0001-0.3501.h5\n",
      "347/347 [==============================] - 2s 7ms/step - loss: 0.3885 - root_mean_squared_error: 0.6233 - val_loss: 0.3501 - val_root_mean_squared_error: 0.5917\n",
      "Epoch 2/30\n",
      "344/347 [============================>.] - ETA: 0s - loss: 0.3511 - root_mean_squared_error: 0.5925\n",
      "Epoch 00002: val_loss improved from 0.35014 to 0.33945, saving model to /content/drive/My Drive/epochs/model_5_1_camera8.0002-0.3395.h5\n",
      "347/347 [==============================] - 2s 6ms/step - loss: 0.3530 - root_mean_squared_error: 0.5942 - val_loss: 0.3395 - val_root_mean_squared_error: 0.5826\n",
      "Epoch 3/30\n",
      "345/347 [============================>.] - ETA: 0s - loss: 0.3234 - root_mean_squared_error: 0.5687\n",
      "Epoch 00003: val_loss improved from 0.33945 to 0.33724, saving model to /content/drive/My Drive/epochs/model_5_1_camera8.0003-0.3372.h5\n",
      "347/347 [==============================] - 2s 6ms/step - loss: 0.3250 - root_mean_squared_error: 0.5701 - val_loss: 0.3372 - val_root_mean_squared_error: 0.5807\n",
      "Epoch 4/30\n",
      "338/347 [============================>.] - ETA: 0s - loss: 0.3078 - root_mean_squared_error: 0.5548\n",
      "Epoch 00004: val_loss improved from 0.33724 to 0.33642, saving model to /content/drive/My Drive/epochs/model_5_1_camera8.0004-0.3364.h5\n",
      "347/347 [==============================] - 2s 7ms/step - loss: 0.3104 - root_mean_squared_error: 0.5572 - val_loss: 0.3364 - val_root_mean_squared_error: 0.5800\n",
      "Epoch 5/30\n",
      "340/347 [============================>.] - ETA: 0s - loss: 0.2960 - root_mean_squared_error: 0.5440\n",
      "Epoch 00005: val_loss did not improve from 0.33642\n",
      "347/347 [==============================] - 2s 6ms/step - loss: 0.2966 - root_mean_squared_error: 0.5446 - val_loss: 0.3365 - val_root_mean_squared_error: 0.5801\n",
      "Epoch 6/30\n",
      "340/347 [============================>.] - ETA: 0s - loss: 0.2852 - root_mean_squared_error: 0.5340\n",
      "Epoch 00006: val_loss did not improve from 0.33642\n",
      "347/347 [==============================] - 2s 6ms/step - loss: 0.2837 - root_mean_squared_error: 0.5326 - val_loss: 0.3387 - val_root_mean_squared_error: 0.5820\n",
      "Epoch 7/30\n",
      "343/347 [============================>.] - ETA: 0s - loss: 0.2760 - root_mean_squared_error: 0.5254\n",
      "Epoch 00007: val_loss did not improve from 0.33642\n",
      "347/347 [==============================] - 2s 6ms/step - loss: 0.2765 - root_mean_squared_error: 0.5258 - val_loss: 0.3412 - val_root_mean_squared_error: 0.5842\n",
      "Epoch 8/30\n",
      "341/347 [============================>.] - ETA: 0s - loss: 0.2689 - root_mean_squared_error: 0.5185\n",
      "Epoch 00008: val_loss did not improve from 0.33642\n",
      "347/347 [==============================] - 2s 6ms/step - loss: 0.2699 - root_mean_squared_error: 0.5195 - val_loss: 0.3443 - val_root_mean_squared_error: 0.5868\n",
      "Epoch 9/30\n",
      "344/347 [============================>.] - ETA: 0s - loss: 0.2649 - root_mean_squared_error: 0.5147\n",
      "Epoch 00009: val_loss did not improve from 0.33642\n",
      "347/347 [==============================] - 2s 6ms/step - loss: 0.2642 - root_mean_squared_error: 0.5140 - val_loss: 0.3437 - val_root_mean_squared_error: 0.5862\n",
      "Epoch 10/30\n",
      "344/347 [============================>.] - ETA: 0s - loss: 0.2584 - root_mean_squared_error: 0.5083\n",
      "Epoch 00010: val_loss did not improve from 0.33642\n",
      "347/347 [==============================] - 2s 6ms/step - loss: 0.2577 - root_mean_squared_error: 0.5076 - val_loss: 0.3449 - val_root_mean_squared_error: 0.5872\n",
      "Epoch 11/30\n",
      "344/347 [============================>.] - ETA: 0s - loss: 0.2544 - root_mean_squared_error: 0.5043\n",
      "Epoch 00011: val_loss did not improve from 0.33642\n",
      "347/347 [==============================] - 2s 6ms/step - loss: 0.2539 - root_mean_squared_error: 0.5039 - val_loss: 0.3474 - val_root_mean_squared_error: 0.5894\n",
      "Epoch 12/30\n",
      "347/347 [==============================] - ETA: 0s - loss: 0.2496 - root_mean_squared_error: 0.4996\n",
      "Epoch 00012: val_loss did not improve from 0.33642\n",
      "347/347 [==============================] - 2s 6ms/step - loss: 0.2496 - root_mean_squared_error: 0.4996 - val_loss: 0.3487 - val_root_mean_squared_error: 0.5905\n",
      "Epoch 13/30\n",
      "343/347 [============================>.] - ETA: 0s - loss: 0.2446 - root_mean_squared_error: 0.4945\n",
      "Epoch 00013: val_loss did not improve from 0.33642\n",
      "347/347 [==============================] - 2s 6ms/step - loss: 0.2449 - root_mean_squared_error: 0.4949 - val_loss: 0.3463 - val_root_mean_squared_error: 0.5884\n",
      "Epoch 14/30\n",
      "344/347 [============================>.] - ETA: 0s - loss: 0.2423 - root_mean_squared_error: 0.4923\n",
      "Epoch 00014: val_loss did not improve from 0.33642\n",
      "347/347 [==============================] - 2s 6ms/step - loss: 0.2418 - root_mean_squared_error: 0.4917 - val_loss: 0.3542 - val_root_mean_squared_error: 0.5951\n",
      "Epoch 15/30\n",
      "340/347 [============================>.] - ETA: 0s - loss: 0.2410 - root_mean_squared_error: 0.4909\n",
      "Epoch 00015: val_loss did not improve from 0.33642\n",
      "347/347 [==============================] - 2s 6ms/step - loss: 0.2398 - root_mean_squared_error: 0.4897 - val_loss: 0.3555 - val_root_mean_squared_error: 0.5962\n",
      "Epoch 16/30\n",
      "340/347 [============================>.] - ETA: 0s - loss: 0.2349 - root_mean_squared_error: 0.4847\n",
      "Epoch 00016: val_loss did not improve from 0.33642\n",
      "347/347 [==============================] - 2s 6ms/step - loss: 0.2346 - root_mean_squared_error: 0.4843 - val_loss: 0.3555 - val_root_mean_squared_error: 0.5962\n",
      "Epoch 17/30\n",
      "346/347 [============================>.] - ETA: 0s - loss: 0.2315 - root_mean_squared_error: 0.4812\n",
      "Epoch 00017: val_loss did not improve from 0.33642\n",
      "347/347 [==============================] - 2s 6ms/step - loss: 0.2314 - root_mean_squared_error: 0.4811 - val_loss: 0.3629 - val_root_mean_squared_error: 0.6024\n",
      "Epoch 18/30\n",
      "342/347 [============================>.] - ETA: 0s - loss: 0.2290 - root_mean_squared_error: 0.4785\n",
      "Epoch 00018: val_loss did not improve from 0.33642\n",
      "347/347 [==============================] - 2s 6ms/step - loss: 0.2279 - root_mean_squared_error: 0.4773 - val_loss: 0.3644 - val_root_mean_squared_error: 0.6036\n",
      "Epoch 19/30\n",
      "342/347 [============================>.] - ETA: 0s - loss: 0.2244 - root_mean_squared_error: 0.4737\n",
      "Epoch 00019: val_loss did not improve from 0.33642\n",
      "347/347 [==============================] - 2s 6ms/step - loss: 0.2241 - root_mean_squared_error: 0.4734 - val_loss: 0.3732 - val_root_mean_squared_error: 0.6109\n",
      "Epoch 20/30\n",
      "343/347 [============================>.] - ETA: 0s - loss: 0.2229 - root_mean_squared_error: 0.4721\n",
      "Epoch 00020: val_loss did not improve from 0.33642\n",
      "347/347 [==============================] - 2s 6ms/step - loss: 0.2230 - root_mean_squared_error: 0.4723 - val_loss: 0.3757 - val_root_mean_squared_error: 0.6129\n",
      "Epoch 21/30\n",
      "346/347 [============================>.] - ETA: 0s - loss: 0.2226 - root_mean_squared_error: 0.4718\n",
      "Epoch 00021: val_loss did not improve from 0.33642\n",
      "347/347 [==============================] - 2s 6ms/step - loss: 0.2223 - root_mean_squared_error: 0.4715 - val_loss: 0.3742 - val_root_mean_squared_error: 0.6118\n",
      "Epoch 22/30\n",
      "343/347 [============================>.] - ETA: 0s - loss: 0.2182 - root_mean_squared_error: 0.4672\n",
      "Epoch 00022: val_loss did not improve from 0.33642\n",
      "347/347 [==============================] - 2s 6ms/step - loss: 0.2178 - root_mean_squared_error: 0.4666 - val_loss: 0.3794 - val_root_mean_squared_error: 0.6159\n",
      "Epoch 23/30\n",
      "343/347 [============================>.] - ETA: 0s - loss: 0.2170 - root_mean_squared_error: 0.4658\n",
      "Epoch 00023: val_loss did not improve from 0.33642\n",
      "347/347 [==============================] - 2s 6ms/step - loss: 0.2175 - root_mean_squared_error: 0.4664 - val_loss: 0.3792 - val_root_mean_squared_error: 0.6158\n",
      "Epoch 24/30\n",
      "340/347 [============================>.] - ETA: 0s - loss: 0.2145 - root_mean_squared_error: 0.4631\n",
      "Epoch 00024: val_loss did not improve from 0.33642\n",
      "347/347 [==============================] - 2s 6ms/step - loss: 0.2135 - root_mean_squared_error: 0.4620 - val_loss: 0.3804 - val_root_mean_squared_error: 0.6168\n",
      "Epoch 25/30\n",
      "341/347 [============================>.] - ETA: 0s - loss: 0.2097 - root_mean_squared_error: 0.4579\n",
      "Epoch 00025: val_loss did not improve from 0.33642\n",
      "347/347 [==============================] - 2s 6ms/step - loss: 0.2102 - root_mean_squared_error: 0.4585 - val_loss: 0.3917 - val_root_mean_squared_error: 0.6258\n",
      "Epoch 26/30\n",
      "343/347 [============================>.] - ETA: 0s - loss: 0.2090 - root_mean_squared_error: 0.4571\n",
      "Epoch 00026: val_loss did not improve from 0.33642\n",
      "347/347 [==============================] - 2s 6ms/step - loss: 0.2085 - root_mean_squared_error: 0.4567 - val_loss: 0.3987 - val_root_mean_squared_error: 0.6314\n",
      "Epoch 27/30\n",
      "338/347 [============================>.] - ETA: 0s - loss: 0.2043 - root_mean_squared_error: 0.4519\n",
      "Epoch 00027: val_loss did not improve from 0.33642\n",
      "347/347 [==============================] - 2s 7ms/step - loss: 0.2067 - root_mean_squared_error: 0.4546 - val_loss: 0.3909 - val_root_mean_squared_error: 0.6252\n",
      "Epoch 28/30\n",
      "341/347 [============================>.] - ETA: 0s - loss: 0.2044 - root_mean_squared_error: 0.4521\n",
      "Epoch 00028: val_loss did not improve from 0.33642\n",
      "347/347 [==============================] - 2s 7ms/step - loss: 0.2048 - root_mean_squared_error: 0.4525 - val_loss: 0.3991 - val_root_mean_squared_error: 0.6317\n",
      "Epoch 29/30\n",
      "342/347 [============================>.] - ETA: 0s - loss: 0.2035 - root_mean_squared_error: 0.4512\n",
      "Epoch 00029: val_loss did not improve from 0.33642\n",
      "347/347 [==============================] - 2s 7ms/step - loss: 0.2038 - root_mean_squared_error: 0.4514 - val_loss: 0.4025 - val_root_mean_squared_error: 0.6345\n",
      "Epoch 30/30\n",
      "345/347 [============================>.] - ETA: 0s - loss: 0.2001 - root_mean_squared_error: 0.4473\n",
      "Epoch 00030: val_loss did not improve from 0.33642\n",
      "347/347 [==============================] - 2s 7ms/step - loss: 0.2002 - root_mean_squared_error: 0.4474 - val_loss: 0.3944 - val_root_mean_squared_error: 0.6280\n"
     ]
    }
   ],
   "source": [
    "history = model.fit(X_train,\n",
    "                    y_train,\n",
    "                    batch_size=64,\n",
    "                    validation_data=(X_test, y_test),\n",
    "                    epochs=30,\n",
    "                    verbose=1,\n",
    "                    callbacks=callbacks_list)"
   ]
  },
  {
   "cell_type": "code",
   "execution_count": null,
   "metadata": {
    "colab": {},
    "colab_type": "code",
    "id": "J809z3EFeJ1b"
   },
   "outputs": [],
   "source": [
    "model_3_camera8 = model_history('model_3_1_camera8')"
   ]
  },
  {
   "cell_type": "markdown",
   "metadata": {},
   "source": [
    "### Model 3 camera1"
   ]
  },
  {
   "cell_type": "code",
   "execution_count": 6,
   "metadata": {
    "colab": {},
    "colab_type": "code",
    "id": "2r7kHHOCR1co"
   },
   "outputs": [],
   "source": [
    "model = load_model('/content/drive/My Drive/epochs/model_3_1_camera8.0030-0.0674.h5')"
   ]
  },
  {
   "cell_type": "code",
   "execution_count": 8,
   "metadata": {
    "colab": {},
    "colab_type": "code",
    "id": "WAUy7zNGTln4"
   },
   "outputs": [],
   "source": [
    "X_train, X_test, y_train, y_test = train_load('camera1')"
   ]
  },
  {
   "cell_type": "code",
   "execution_count": 9,
   "metadata": {
    "colab": {
     "base_uri": "https://localhost:8080/",
     "height": 34
    },
    "colab_type": "code",
    "id": "wHIpb0obTvZy",
    "outputId": "50474b58-1e67-4cc9-ade5-ea527ae5fd5f"
   },
   "outputs": [
    {
     "data": {
      "text/plain": [
       "((41003, 80, 160, 1), (10251, 80, 160, 1), (41003, 1), (10251, 1))"
      ]
     },
     "execution_count": 9,
     "metadata": {
      "tags": []
     },
     "output_type": "execute_result"
    }
   ],
   "source": [
    "X_train.shape, X_test.shape, y_train.shape, y_test.shape"
   ]
  },
  {
   "cell_type": "code",
   "execution_count": 11,
   "metadata": {
    "colab": {},
    "colab_type": "code",
    "id": "YorsRxR6SkL2"
   },
   "outputs": [],
   "source": [
    "filepath = \"/content/drive/My Drive/epochs/model_3_2_camera1.{epoch:04d}-{val_loss:.4f}.h5\"\n",
    "checkpoint = ModelCheckpoint(filepath, monitor='val_loss', verbose=1, save_best_only=True, mode='min')\n",
    "callbacks_list = [checkpoint]"
   ]
  },
  {
   "cell_type": "code",
   "execution_count": 12,
   "metadata": {
    "colab": {
     "base_uri": "https://localhost:8080/",
     "height": 1000
    },
    "colab_type": "code",
    "collapsed": true,
    "id": "wc2lXnpYSsYh",
    "outputId": "61595505-b806-45ec-ad0f-eccf8794a1d4"
   },
   "outputs": [
    {
     "name": "stdout",
     "output_type": "stream",
     "text": [
      "Epoch 1/30\n",
      "641/641 [==============================] - ETA: 0s - loss: 0.2590 - root_mean_squared_error: 0.5089\n",
      "Epoch 00001: val_loss improved from inf to 0.22856, saving model to /content/drive/My Drive/epochs/model_5_2_camera1.0001-0.2286.h5\n",
      "641/641 [==============================] - 5s 8ms/step - loss: 0.2590 - root_mean_squared_error: 0.5089 - val_loss: 0.2286 - val_root_mean_squared_error: 0.4781\n",
      "Epoch 2/30\n",
      "640/641 [============================>.] - ETA: 0s - loss: 0.2440 - root_mean_squared_error: 0.4940\n",
      "Epoch 00002: val_loss improved from 0.22856 to 0.22818, saving model to /content/drive/My Drive/epochs/model_5_2_camera1.0002-0.2282.h5\n",
      "641/641 [==============================] - 4s 6ms/step - loss: 0.2438 - root_mean_squared_error: 0.4938 - val_loss: 0.2282 - val_root_mean_squared_error: 0.4777\n",
      "Epoch 3/30\n",
      "639/641 [============================>.] - ETA: 0s - loss: 0.2380 - root_mean_squared_error: 0.4879\n",
      "Epoch 00003: val_loss improved from 0.22818 to 0.22266, saving model to /content/drive/My Drive/epochs/model_5_2_camera1.0003-0.2227.h5\n",
      "641/641 [==============================] - 4s 6ms/step - loss: 0.2378 - root_mean_squared_error: 0.4876 - val_loss: 0.2227 - val_root_mean_squared_error: 0.4719\n",
      "Epoch 4/30\n",
      "639/641 [============================>.] - ETA: 0s - loss: 0.2328 - root_mean_squared_error: 0.4825\n",
      "Epoch 00004: val_loss improved from 0.22266 to 0.22231, saving model to /content/drive/My Drive/epochs/model_5_2_camera1.0004-0.2223.h5\n",
      "641/641 [==============================] - 4s 6ms/step - loss: 0.2323 - root_mean_squared_error: 0.4819 - val_loss: 0.2223 - val_root_mean_squared_error: 0.4715\n",
      "Epoch 5/30\n",
      "636/641 [============================>.] - ETA: 0s - loss: 0.2293 - root_mean_squared_error: 0.4789\n",
      "Epoch 00005: val_loss improved from 0.22231 to 0.22180, saving model to /content/drive/My Drive/epochs/model_5_2_camera1.0005-0.2218.h5\n",
      "641/641 [==============================] - 4s 6ms/step - loss: 0.2291 - root_mean_squared_error: 0.4787 - val_loss: 0.2218 - val_root_mean_squared_error: 0.4710\n",
      "Epoch 6/30\n",
      "640/641 [============================>.] - ETA: 0s - loss: 0.2259 - root_mean_squared_error: 0.4753\n",
      "Epoch 00006: val_loss did not improve from 0.22180\n",
      "641/641 [==============================] - 4s 6ms/step - loss: 0.2257 - root_mean_squared_error: 0.4751 - val_loss: 0.2239 - val_root_mean_squared_error: 0.4732\n",
      "Epoch 7/30\n",
      "636/641 [============================>.] - ETA: 0s - loss: 0.2243 - root_mean_squared_error: 0.4736\n",
      "Epoch 00007: val_loss did not improve from 0.22180\n",
      "641/641 [==============================] - 4s 6ms/step - loss: 0.2231 - root_mean_squared_error: 0.4723 - val_loss: 0.2221 - val_root_mean_squared_error: 0.4713\n",
      "Epoch 8/30\n",
      "639/641 [============================>.] - ETA: 0s - loss: 0.2193 - root_mean_squared_error: 0.4683\n",
      "Epoch 00008: val_loss did not improve from 0.22180\n",
      "641/641 [==============================] - 4s 6ms/step - loss: 0.2193 - root_mean_squared_error: 0.4683 - val_loss: 0.2240 - val_root_mean_squared_error: 0.4732\n",
      "Epoch 9/30\n",
      "640/641 [============================>.] - ETA: 0s - loss: 0.2181 - root_mean_squared_error: 0.4671\n",
      "Epoch 00009: val_loss did not improve from 0.22180\n",
      "641/641 [==============================] - 4s 6ms/step - loss: 0.2179 - root_mean_squared_error: 0.4668 - val_loss: 0.2257 - val_root_mean_squared_error: 0.4751\n",
      "Epoch 10/30\n",
      "634/641 [============================>.] - ETA: 0s - loss: 0.2147 - root_mean_squared_error: 0.4633\n",
      "Epoch 00010: val_loss did not improve from 0.22180\n",
      "641/641 [==============================] - 4s 6ms/step - loss: 0.2152 - root_mean_squared_error: 0.4639 - val_loss: 0.2244 - val_root_mean_squared_error: 0.4737\n",
      "Epoch 11/30\n",
      "637/641 [============================>.] - ETA: 0s - loss: 0.2133 - root_mean_squared_error: 0.4619\n",
      "Epoch 00011: val_loss did not improve from 0.22180\n",
      "641/641 [==============================] - 4s 6ms/step - loss: 0.2132 - root_mean_squared_error: 0.4617 - val_loss: 0.2264 - val_root_mean_squared_error: 0.4758\n",
      "Epoch 12/30\n",
      "635/641 [============================>.] - ETA: 0s - loss: 0.2100 - root_mean_squared_error: 0.4583\n",
      "Epoch 00012: val_loss did not improve from 0.22180\n",
      "641/641 [==============================] - 4s 6ms/step - loss: 0.2112 - root_mean_squared_error: 0.4596 - val_loss: 0.2243 - val_root_mean_squared_error: 0.4736\n",
      "Epoch 13/30\n",
      "637/641 [============================>.] - ETA: 0s - loss: 0.2086 - root_mean_squared_error: 0.4568\n",
      "Epoch 00013: val_loss did not improve from 0.22180\n",
      "641/641 [==============================] - 4s 7ms/step - loss: 0.2098 - root_mean_squared_error: 0.4580 - val_loss: 0.2318 - val_root_mean_squared_error: 0.4815\n",
      "Epoch 14/30\n",
      "641/641 [==============================] - ETA: 0s - loss: 0.2076 - root_mean_squared_error: 0.4557\n",
      "Epoch 00014: val_loss did not improve from 0.22180\n",
      "641/641 [==============================] - 4s 6ms/step - loss: 0.2076 - root_mean_squared_error: 0.4557 - val_loss: 0.2272 - val_root_mean_squared_error: 0.4766\n",
      "Epoch 15/30\n",
      "632/641 [============================>.] - ETA: 0s - loss: 0.2059 - root_mean_squared_error: 0.4537\n",
      "Epoch 00015: val_loss did not improve from 0.22180\n",
      "641/641 [==============================] - 4s 6ms/step - loss: 0.2053 - root_mean_squared_error: 0.4531 - val_loss: 0.2304 - val_root_mean_squared_error: 0.4800\n",
      "Epoch 16/30\n",
      "636/641 [============================>.] - ETA: 0s - loss: 0.2047 - root_mean_squared_error: 0.4525\n",
      "Epoch 00016: val_loss did not improve from 0.22180\n",
      "641/641 [==============================] - 4s 6ms/step - loss: 0.2046 - root_mean_squared_error: 0.4523 - val_loss: 0.2326 - val_root_mean_squared_error: 0.4823\n",
      "Epoch 17/30\n",
      "640/641 [============================>.] - ETA: 0s - loss: 0.2035 - root_mean_squared_error: 0.4511\n",
      "Epoch 00017: val_loss did not improve from 0.22180\n",
      "641/641 [==============================] - 4s 6ms/step - loss: 0.2035 - root_mean_squared_error: 0.4511 - val_loss: 0.2286 - val_root_mean_squared_error: 0.4781\n",
      "Epoch 18/30\n",
      "632/641 [============================>.] - ETA: 0s - loss: 0.2024 - root_mean_squared_error: 0.4498\n",
      "Epoch 00018: val_loss did not improve from 0.22180\n",
      "641/641 [==============================] - 4s 6ms/step - loss: 0.2023 - root_mean_squared_error: 0.4498 - val_loss: 0.2285 - val_root_mean_squared_error: 0.4780\n",
      "Epoch 19/30\n",
      "632/641 [============================>.] - ETA: 0s - loss: 0.2009 - root_mean_squared_error: 0.4482\n",
      "Epoch 00019: val_loss did not improve from 0.22180\n",
      "641/641 [==============================] - 4s 6ms/step - loss: 0.2008 - root_mean_squared_error: 0.4481 - val_loss: 0.2319 - val_root_mean_squared_error: 0.4816\n",
      "Epoch 20/30\n",
      "640/641 [============================>.] - ETA: 0s - loss: 0.1993 - root_mean_squared_error: 0.4465\n",
      "Epoch 00020: val_loss did not improve from 0.22180\n",
      "641/641 [==============================] - 4s 6ms/step - loss: 0.1995 - root_mean_squared_error: 0.4467 - val_loss: 0.2303 - val_root_mean_squared_error: 0.4799\n",
      "Epoch 21/30\n",
      "634/641 [============================>.] - ETA: 0s - loss: 0.1970 - root_mean_squared_error: 0.4438\n",
      "Epoch 00021: val_loss did not improve from 0.22180\n",
      "641/641 [==============================] - 4s 6ms/step - loss: 0.1979 - root_mean_squared_error: 0.4448 - val_loss: 0.2317 - val_root_mean_squared_error: 0.4814\n",
      "Epoch 22/30\n",
      "636/641 [============================>.] - ETA: 0s - loss: 0.1982 - root_mean_squared_error: 0.4452\n",
      "Epoch 00022: val_loss did not improve from 0.22180\n",
      "641/641 [==============================] - 4s 6ms/step - loss: 0.1974 - root_mean_squared_error: 0.4443 - val_loss: 0.2306 - val_root_mean_squared_error: 0.4803\n",
      "Epoch 23/30\n",
      "639/641 [============================>.] - ETA: 0s - loss: 0.1953 - root_mean_squared_error: 0.4420\n",
      "Epoch 00023: val_loss did not improve from 0.22180\n",
      "641/641 [==============================] - 4s 6ms/step - loss: 0.1953 - root_mean_squared_error: 0.4419 - val_loss: 0.2341 - val_root_mean_squared_error: 0.4838\n",
      "Epoch 24/30\n",
      "633/641 [============================>.] - ETA: 0s - loss: 0.1937 - root_mean_squared_error: 0.4401\n",
      "Epoch 00024: val_loss did not improve from 0.22180\n",
      "641/641 [==============================] - 4s 6ms/step - loss: 0.1944 - root_mean_squared_error: 0.4409 - val_loss: 0.2348 - val_root_mean_squared_error: 0.4845\n",
      "Epoch 25/30\n",
      "637/641 [============================>.] - ETA: 0s - loss: 0.1934 - root_mean_squared_error: 0.4398\n",
      "Epoch 00025: val_loss did not improve from 0.22180\n",
      "641/641 [==============================] - 4s 6ms/step - loss: 0.1935 - root_mean_squared_error: 0.4399 - val_loss: 0.2346 - val_root_mean_squared_error: 0.4844\n",
      "Epoch 26/30\n",
      "634/641 [============================>.] - ETA: 0s - loss: 0.1925 - root_mean_squared_error: 0.4387\n",
      "Epoch 00026: val_loss did not improve from 0.22180\n",
      "641/641 [==============================] - 4s 6ms/step - loss: 0.1920 - root_mean_squared_error: 0.4382 - val_loss: 0.2371 - val_root_mean_squared_error: 0.4869\n",
      "Epoch 27/30\n",
      "637/641 [============================>.] - ETA: 0s - loss: 0.1928 - root_mean_squared_error: 0.4391\n",
      "Epoch 00027: val_loss did not improve from 0.22180\n",
      "641/641 [==============================] - 4s 6ms/step - loss: 0.1921 - root_mean_squared_error: 0.4383 - val_loss: 0.2362 - val_root_mean_squared_error: 0.4860\n",
      "Epoch 28/30\n",
      "633/641 [============================>.] - ETA: 0s - loss: 0.1905 - root_mean_squared_error: 0.4364\n",
      "Epoch 00028: val_loss did not improve from 0.22180\n",
      "641/641 [==============================] - 4s 6ms/step - loss: 0.1904 - root_mean_squared_error: 0.4363 - val_loss: 0.2396 - val_root_mean_squared_error: 0.4895\n",
      "Epoch 29/30\n",
      "640/641 [============================>.] - ETA: 0s - loss: 0.1897 - root_mean_squared_error: 0.4355\n",
      "Epoch 00029: val_loss did not improve from 0.22180\n",
      "641/641 [==============================] - 4s 6ms/step - loss: 0.1896 - root_mean_squared_error: 0.4354 - val_loss: 0.2357 - val_root_mean_squared_error: 0.4855\n",
      "Epoch 30/30\n",
      "637/641 [============================>.] - ETA: 0s - loss: 0.1899 - root_mean_squared_error: 0.4358\n",
      "Epoch 00030: val_loss did not improve from 0.22180\n",
      "641/641 [==============================] - 4s 6ms/step - loss: 0.1893 - root_mean_squared_error: 0.4350 - val_loss: 0.2410 - val_root_mean_squared_error: 0.4909\n"
     ]
    }
   ],
   "source": [
    "history = model.fit(X_train,\n",
    "                    y_train,\n",
    "                    batch_size=64,\n",
    "                    validation_data=(X_test, y_test),\n",
    "                    epochs=30,\n",
    "                    verbose=1,\n",
    "                    callbacks=callbacks_list)"
   ]
  },
  {
   "cell_type": "code",
   "execution_count": null,
   "metadata": {
    "colab": {},
    "colab_type": "code",
    "id": "5iOc0O-5k-zo"
   },
   "outputs": [],
   "source": [
    "model_3_camera1 = model_history('model_3_2_camera1')"
   ]
  },
  {
   "cell_type": "markdown",
   "metadata": {},
   "source": [
    "### Model 3 camera9"
   ]
  },
  {
   "cell_type": "code",
   "execution_count": null,
   "metadata": {
    "colab": {},
    "colab_type": "code",
    "id": "kRkXNI167Ptt"
   },
   "outputs": [],
   "source": [
    "model = load_model('/content/drive/My Drive/epochs/model_3_2_camera1.0030-0.0825.h5')"
   ]
  },
  {
   "cell_type": "code",
   "execution_count": null,
   "metadata": {
    "colab": {},
    "colab_type": "code",
    "id": "CFd6a5Qv7Ptz"
   },
   "outputs": [],
   "source": [
    "X_train, X_test, y_train, y_test = train_load('camera9')"
   ]
  },
  {
   "cell_type": "code",
   "execution_count": null,
   "metadata": {
    "colab": {
     "base_uri": "https://localhost:8080/",
     "height": 34
    },
    "colab_type": "code",
    "id": "Gy1665sS7Pt1",
    "outputId": "a82d286f-b70d-425f-b19a-790bc9d8631b"
   },
   "outputs": [
    {
     "data": {
      "text/plain": [
       "((38312, 80, 160, 1), (9578, 80, 160, 1), (38312, 1), (9578, 1))"
      ]
     },
     "execution_count": 13,
     "metadata": {
      "tags": []
     },
     "output_type": "execute_result"
    }
   ],
   "source": [
    "X_train.shape, X_test.shape, y_train.shape, y_test.shape"
   ]
  },
  {
   "cell_type": "code",
   "execution_count": null,
   "metadata": {
    "colab": {},
    "colab_type": "code",
    "id": "HJCLmEfH7Pt3"
   },
   "outputs": [],
   "source": [
    "filepath = \"/content/drive/My Drive/epochs/model_3_3_camera9.{epoch:04d}-{val_loss:.4f}.h5\"\n",
    "checkpoint = ModelCheckpoint(filepath, monitor='val_loss', verbose=1, save_best_only=True, mode='min')\n",
    "callbacks_list = [checkpoint]"
   ]
  },
  {
   "cell_type": "code",
   "execution_count": null,
   "metadata": {
    "colab": {
     "base_uri": "https://localhost:8080/",
     "height": 1000
    },
    "colab_type": "code",
    "collapsed": true,
    "id": "ckKW_gGx7Pt5",
    "outputId": "f7df1b08-0b16-46a9-8e6f-64111247f777"
   },
   "outputs": [
    {
     "name": "stdout",
     "output_type": "stream",
     "text": [
      "Epoch 1/30\n",
      "599/599 [==============================] - ETA: 0s - loss: 0.0626 - root_mean_squared_error: 0.2503\n",
      "Epoch 00001: val_loss improved from inf to 0.05617, saving model to /content/drive/My Drive/epochs/model_5_3_camera9.0001-0.0562.h5\n",
      "599/599 [==============================] - 4s 7ms/step - loss: 0.0626 - root_mean_squared_error: 0.2503 - val_loss: 0.0562 - val_root_mean_squared_error: 0.2370\n",
      "Epoch 2/30\n",
      "598/599 [============================>.] - ETA: 0s - loss: 0.0539 - root_mean_squared_error: 0.2321\n",
      "Epoch 00002: val_loss improved from 0.05617 to 0.05341, saving model to /content/drive/My Drive/epochs/model_5_3_camera9.0002-0.0534.h5\n",
      "599/599 [==============================] - 4s 6ms/step - loss: 0.0538 - root_mean_squared_error: 0.2320 - val_loss: 0.0534 - val_root_mean_squared_error: 0.2311\n",
      "Epoch 3/30\n",
      "597/599 [============================>.] - ETA: 0s - loss: 0.0510 - root_mean_squared_error: 0.2258\n",
      "Epoch 00003: val_loss improved from 0.05341 to 0.05258, saving model to /content/drive/My Drive/epochs/model_5_3_camera9.0003-0.0526.h5\n",
      "599/599 [==============================] - 4s 7ms/step - loss: 0.0513 - root_mean_squared_error: 0.2265 - val_loss: 0.0526 - val_root_mean_squared_error: 0.2293\n",
      "Epoch 4/30\n",
      "596/599 [============================>.] - ETA: 0s - loss: 0.0497 - root_mean_squared_error: 0.2229\n",
      "Epoch 00004: val_loss did not improve from 0.05258\n",
      "599/599 [==============================] - 4s 6ms/step - loss: 0.0498 - root_mean_squared_error: 0.2231 - val_loss: 0.0528 - val_root_mean_squared_error: 0.2298\n",
      "Epoch 5/30\n",
      "591/599 [============================>.] - ETA: 0s - loss: 0.0480 - root_mean_squared_error: 0.2191\n",
      "Epoch 00005: val_loss did not improve from 0.05258\n",
      "599/599 [==============================] - 4s 6ms/step - loss: 0.0485 - root_mean_squared_error: 0.2202 - val_loss: 0.0530 - val_root_mean_squared_error: 0.2303\n",
      "Epoch 6/30\n",
      "598/599 [============================>.] - ETA: 0s - loss: 0.0475 - root_mean_squared_error: 0.2179\n",
      "Epoch 00006: val_loss did not improve from 0.05258\n",
      "599/599 [==============================] - 4s 6ms/step - loss: 0.0475 - root_mean_squared_error: 0.2178 - val_loss: 0.0534 - val_root_mean_squared_error: 0.2311\n",
      "Epoch 7/30\n",
      "593/599 [============================>.] - ETA: 0s - loss: 0.0461 - root_mean_squared_error: 0.2147\n",
      "Epoch 00007: val_loss did not improve from 0.05258\n",
      "599/599 [==============================] - 4s 6ms/step - loss: 0.0462 - root_mean_squared_error: 0.2149 - val_loss: 0.0529 - val_root_mean_squared_error: 0.2299\n",
      "Epoch 8/30\n",
      "597/599 [============================>.] - ETA: 0s - loss: 0.0456 - root_mean_squared_error: 0.2134\n",
      "Epoch 00008: val_loss did not improve from 0.05258\n",
      "599/599 [==============================] - 4s 6ms/step - loss: 0.0455 - root_mean_squared_error: 0.2133 - val_loss: 0.0531 - val_root_mean_squared_error: 0.2304\n",
      "Epoch 9/30\n",
      "594/599 [============================>.] - ETA: 0s - loss: 0.0451 - root_mean_squared_error: 0.2125\n",
      "Epoch 00009: val_loss did not improve from 0.05258\n",
      "599/599 [==============================] - 4s 6ms/step - loss: 0.0450 - root_mean_squared_error: 0.2121 - val_loss: 0.0543 - val_root_mean_squared_error: 0.2330\n",
      "Epoch 10/30\n",
      "594/599 [============================>.] - ETA: 0s - loss: 0.0446 - root_mean_squared_error: 0.2112\n",
      "Epoch 00010: val_loss did not improve from 0.05258\n",
      "599/599 [==============================] - 4s 6ms/step - loss: 0.0444 - root_mean_squared_error: 0.2106 - val_loss: 0.0538 - val_root_mean_squared_error: 0.2320\n",
      "Epoch 11/30\n",
      "594/599 [============================>.] - ETA: 0s - loss: 0.0433 - root_mean_squared_error: 0.2081\n",
      "Epoch 00011: val_loss did not improve from 0.05258\n",
      "599/599 [==============================] - 4s 6ms/step - loss: 0.0435 - root_mean_squared_error: 0.2085 - val_loss: 0.0551 - val_root_mean_squared_error: 0.2347\n",
      "Epoch 12/30\n",
      "594/599 [============================>.] - ETA: 0s - loss: 0.0428 - root_mean_squared_error: 0.2070\n",
      "Epoch 00012: val_loss did not improve from 0.05258\n",
      "599/599 [==============================] - 4s 6ms/step - loss: 0.0431 - root_mean_squared_error: 0.2076 - val_loss: 0.0546 - val_root_mean_squared_error: 0.2337\n",
      "Epoch 13/30\n",
      "596/599 [============================>.] - ETA: 0s - loss: 0.0425 - root_mean_squared_error: 0.2062\n",
      "Epoch 00013: val_loss did not improve from 0.05258\n",
      "599/599 [==============================] - 4s 6ms/step - loss: 0.0424 - root_mean_squared_error: 0.2060 - val_loss: 0.0548 - val_root_mean_squared_error: 0.2341\n",
      "Epoch 14/30\n",
      "595/599 [============================>.] - ETA: 0s - loss: 0.0413 - root_mean_squared_error: 0.2032\n",
      "Epoch 00014: val_loss did not improve from 0.05258\n",
      "599/599 [==============================] - 4s 6ms/step - loss: 0.0417 - root_mean_squared_error: 0.2042 - val_loss: 0.0558 - val_root_mean_squared_error: 0.2363\n",
      "Epoch 15/30\n",
      "596/599 [============================>.] - ETA: 0s - loss: 0.0416 - root_mean_squared_error: 0.2039\n",
      "Epoch 00015: val_loss did not improve from 0.05258\n",
      "599/599 [==============================] - 4s 6ms/step - loss: 0.0415 - root_mean_squared_error: 0.2037 - val_loss: 0.0554 - val_root_mean_squared_error: 0.2353\n",
      "Epoch 16/30\n",
      "594/599 [============================>.] - ETA: 0s - loss: 0.0408 - root_mean_squared_error: 0.2021\n",
      "Epoch 00016: val_loss did not improve from 0.05258\n",
      "599/599 [==============================] - 4s 6ms/step - loss: 0.0408 - root_mean_squared_error: 0.2019 - val_loss: 0.0560 - val_root_mean_squared_error: 0.2367\n",
      "Epoch 17/30\n",
      "594/599 [============================>.] - ETA: 0s - loss: 0.0409 - root_mean_squared_error: 0.2021\n",
      "Epoch 00017: val_loss did not improve from 0.05258\n",
      "599/599 [==============================] - 4s 6ms/step - loss: 0.0408 - root_mean_squared_error: 0.2020 - val_loss: 0.0548 - val_root_mean_squared_error: 0.2341\n",
      "Epoch 18/30\n",
      "597/599 [============================>.] - ETA: 0s - loss: 0.0398 - root_mean_squared_error: 0.1994\n",
      "Epoch 00018: val_loss did not improve from 0.05258\n",
      "599/599 [==============================] - 4s 6ms/step - loss: 0.0398 - root_mean_squared_error: 0.1994 - val_loss: 0.0561 - val_root_mean_squared_error: 0.2369\n",
      "Epoch 19/30\n",
      "593/599 [============================>.] - ETA: 0s - loss: 0.0394 - root_mean_squared_error: 0.1985\n",
      "Epoch 00019: val_loss did not improve from 0.05258\n",
      "599/599 [==============================] - 4s 6ms/step - loss: 0.0395 - root_mean_squared_error: 0.1988 - val_loss: 0.0574 - val_root_mean_squared_error: 0.2395\n",
      "Epoch 20/30\n",
      "599/599 [==============================] - ETA: 0s - loss: 0.0392 - root_mean_squared_error: 0.1980\n",
      "Epoch 00020: val_loss did not improve from 0.05258\n",
      "599/599 [==============================] - 4s 6ms/step - loss: 0.0392 - root_mean_squared_error: 0.1980 - val_loss: 0.0578 - val_root_mean_squared_error: 0.2405\n",
      "Epoch 21/30\n",
      "595/599 [============================>.] - ETA: 0s - loss: 0.0393 - root_mean_squared_error: 0.1982\n",
      "Epoch 00021: val_loss did not improve from 0.05258\n",
      "599/599 [==============================] - 4s 6ms/step - loss: 0.0393 - root_mean_squared_error: 0.1984 - val_loss: 0.0577 - val_root_mean_squared_error: 0.2403\n",
      "Epoch 22/30\n",
      "596/599 [============================>.] - ETA: 0s - loss: 0.0390 - root_mean_squared_error: 0.1974\n",
      "Epoch 00022: val_loss did not improve from 0.05258\n",
      "599/599 [==============================] - 4s 6ms/step - loss: 0.0388 - root_mean_squared_error: 0.1971 - val_loss: 0.0571 - val_root_mean_squared_error: 0.2390\n",
      "Epoch 23/30\n",
      "594/599 [============================>.] - ETA: 0s - loss: 0.0387 - root_mean_squared_error: 0.1966\n",
      "Epoch 00023: val_loss did not improve from 0.05258\n",
      "599/599 [==============================] - 4s 6ms/step - loss: 0.0385 - root_mean_squared_error: 0.1962 - val_loss: 0.0570 - val_root_mean_squared_error: 0.2388\n",
      "Epoch 24/30\n",
      "596/599 [============================>.] - ETA: 0s - loss: 0.0382 - root_mean_squared_error: 0.1954\n",
      "Epoch 00024: val_loss did not improve from 0.05258\n",
      "599/599 [==============================] - 4s 6ms/step - loss: 0.0381 - root_mean_squared_error: 0.1952 - val_loss: 0.0588 - val_root_mean_squared_error: 0.2425\n",
      "Epoch 25/30\n",
      "594/599 [============================>.] - ETA: 0s - loss: 0.0377 - root_mean_squared_error: 0.1941\n",
      "Epoch 00025: val_loss did not improve from 0.05258\n",
      "599/599 [==============================] - 4s 6ms/step - loss: 0.0377 - root_mean_squared_error: 0.1941 - val_loss: 0.0590 - val_root_mean_squared_error: 0.2430\n",
      "Epoch 26/30\n",
      "594/599 [============================>.] - ETA: 0s - loss: 0.0374 - root_mean_squared_error: 0.1935\n",
      "Epoch 00026: val_loss did not improve from 0.05258\n",
      "599/599 [==============================] - 4s 6ms/step - loss: 0.0374 - root_mean_squared_error: 0.1934 - val_loss: 0.0590 - val_root_mean_squared_error: 0.2428\n",
      "Epoch 27/30\n",
      "596/599 [============================>.] - ETA: 0s - loss: 0.0371 - root_mean_squared_error: 0.1926\n",
      "Epoch 00027: val_loss did not improve from 0.05258\n",
      "599/599 [==============================] - 4s 6ms/step - loss: 0.0372 - root_mean_squared_error: 0.1929 - val_loss: 0.0596 - val_root_mean_squared_error: 0.2442\n",
      "Epoch 28/30\n",
      "590/599 [============================>.] - ETA: 0s - loss: 0.0369 - root_mean_squared_error: 0.1920\n",
      "Epoch 00028: val_loss did not improve from 0.05258\n",
      "599/599 [==============================] - 4s 6ms/step - loss: 0.0372 - root_mean_squared_error: 0.1928 - val_loss: 0.0594 - val_root_mean_squared_error: 0.2437\n",
      "Epoch 29/30\n",
      "591/599 [============================>.] - ETA: 0s - loss: 0.0368 - root_mean_squared_error: 0.1918\n",
      "Epoch 00029: val_loss did not improve from 0.05258\n",
      "599/599 [==============================] - 4s 6ms/step - loss: 0.0366 - root_mean_squared_error: 0.1913 - val_loss: 0.0595 - val_root_mean_squared_error: 0.2439\n",
      "Epoch 30/30\n",
      "593/599 [============================>.] - ETA: 0s - loss: 0.0364 - root_mean_squared_error: 0.1908\n",
      "Epoch 00030: val_loss did not improve from 0.05258\n",
      "599/599 [==============================] - 4s 6ms/step - loss: 0.0364 - root_mean_squared_error: 0.1907 - val_loss: 0.0600 - val_root_mean_squared_error: 0.2450\n"
     ]
    }
   ],
   "source": [
    "history = model.fit(X_train,\n",
    "                    y_train,\n",
    "                    batch_size=64,\n",
    "                    validation_data=(X_test, y_test),\n",
    "                    epochs=30,\n",
    "                    verbose=1,\n",
    "                    callbacks=callbacks_list)"
   ]
  },
  {
   "cell_type": "code",
   "execution_count": null,
   "metadata": {
    "colab": {},
    "colab_type": "code",
    "id": "zZ-WqIvi7PuC"
   },
   "outputs": [],
   "source": [
    "model_3_camera9 = model_history('model_3_3_camera9')"
   ]
  },
  {
   "cell_type": "markdown",
   "metadata": {},
   "source": [
    "### Model 3 camera2"
   ]
  },
  {
   "cell_type": "code",
   "execution_count": null,
   "metadata": {
    "colab": {},
    "colab_type": "code",
    "id": "VYOg06dUA3nb"
   },
   "outputs": [],
   "source": [
    "model = load_model('/content/drive/My Drive/epochs/model_3_3_camera9.0030-0.0295.h5')"
   ]
  },
  {
   "cell_type": "code",
   "execution_count": null,
   "metadata": {
    "colab": {},
    "colab_type": "code",
    "id": "Q-twQqN7A3ng"
   },
   "outputs": [],
   "source": [
    "X_train, X_test, y_train, y_test = train_load('camera2')"
   ]
  },
  {
   "cell_type": "code",
   "execution_count": null,
   "metadata": {
    "colab": {
     "base_uri": "https://localhost:8080/",
     "height": 34
    },
    "colab_type": "code",
    "id": "q-4dBlG_A3ni",
    "outputId": "f0024e7c-554c-4f30-fe69-8c7530dc262e"
   },
   "outputs": [
    {
     "data": {
      "text/plain": [
       "((44958, 80, 160, 1), (11240, 80, 160, 1), (44958, 1), (11240, 1))"
      ]
     },
     "execution_count": 25,
     "metadata": {
      "tags": []
     },
     "output_type": "execute_result"
    }
   ],
   "source": [
    "X_train.shape, X_test.shape, y_train.shape, y_test.shape"
   ]
  },
  {
   "cell_type": "code",
   "execution_count": null,
   "metadata": {
    "colab": {},
    "colab_type": "code",
    "id": "HShkmE5dA3nk"
   },
   "outputs": [],
   "source": [
    "filepath = \"/content/drive/My Drive/epochs/model_3_4_camera2.{epoch:04d}-{val_loss:.4f}.h5\"\n",
    "checkpoint = ModelCheckpoint(filepath, monitor='val_loss', verbose=1, save_best_only=True, mode='min')\n",
    "callbacks_list = [checkpoint]"
   ]
  },
  {
   "cell_type": "code",
   "execution_count": null,
   "metadata": {
    "colab": {
     "base_uri": "https://localhost:8080/",
     "height": 1000
    },
    "colab_type": "code",
    "collapsed": true,
    "id": "oboAqGvaA3nm",
    "outputId": "a04a11e5-ab6d-4406-e254-8f9dca1fe959"
   },
   "outputs": [
    {
     "name": "stdout",
     "output_type": "stream",
     "text": [
      "Epoch 1/30\n",
      "702/703 [============================>.] - ETA: 0s - loss: 0.0459 - root_mean_squared_error: 0.2142\n",
      "Epoch 00001: val_loss improved from inf to 0.03861, saving model to /content/drive/My Drive/epochs/model_5_4_camera2.0001-0.0386.h5\n",
      "703/703 [==============================] - 5s 7ms/step - loss: 0.0459 - root_mean_squared_error: 0.2143 - val_loss: 0.0386 - val_root_mean_squared_error: 0.1965\n",
      "Epoch 2/30\n",
      "694/703 [============================>.] - ETA: 0s - loss: 0.0429 - root_mean_squared_error: 0.2072\n",
      "Epoch 00002: val_loss improved from 0.03861 to 0.03833, saving model to /content/drive/My Drive/epochs/model_5_4_camera2.0002-0.0383.h5\n",
      "703/703 [==============================] - 4s 6ms/step - loss: 0.0429 - root_mean_squared_error: 0.2070 - val_loss: 0.0383 - val_root_mean_squared_error: 0.1958\n",
      "Epoch 3/30\n",
      "696/703 [============================>.] - ETA: 0s - loss: 0.0416 - root_mean_squared_error: 0.2039\n",
      "Epoch 00003: val_loss improved from 0.03833 to 0.03827, saving model to /content/drive/My Drive/epochs/model_5_4_camera2.0003-0.0383.h5\n",
      "703/703 [==============================] - 4s 6ms/step - loss: 0.0413 - root_mean_squared_error: 0.2033 - val_loss: 0.0383 - val_root_mean_squared_error: 0.1956\n",
      "Epoch 4/30\n",
      "699/703 [============================>.] - ETA: 0s - loss: 0.0405 - root_mean_squared_error: 0.2012\n",
      "Epoch 00004: val_loss improved from 0.03827 to 0.03820, saving model to /content/drive/My Drive/epochs/model_5_4_camera2.0004-0.0382.h5\n",
      "703/703 [==============================] - 5s 7ms/step - loss: 0.0405 - root_mean_squared_error: 0.2012 - val_loss: 0.0382 - val_root_mean_squared_error: 0.1955\n",
      "Epoch 5/30\n",
      "694/703 [============================>.] - ETA: 0s - loss: 0.0396 - root_mean_squared_error: 0.1990\n",
      "Epoch 00005: val_loss did not improve from 0.03820\n",
      "703/703 [==============================] - 4s 6ms/step - loss: 0.0395 - root_mean_squared_error: 0.1987 - val_loss: 0.0391 - val_root_mean_squared_error: 0.1976\n",
      "Epoch 6/30\n",
      "700/703 [============================>.] - ETA: 0s - loss: 0.0388 - root_mean_squared_error: 0.1970\n",
      "Epoch 00006: val_loss did not improve from 0.03820\n",
      "703/703 [==============================] - 4s 6ms/step - loss: 0.0387 - root_mean_squared_error: 0.1968 - val_loss: 0.0396 - val_root_mean_squared_error: 0.1991\n",
      "Epoch 7/30\n",
      "698/703 [============================>.] - ETA: 0s - loss: 0.0380 - root_mean_squared_error: 0.1951\n",
      "Epoch 00007: val_loss did not improve from 0.03820\n",
      "703/703 [==============================] - 4s 6ms/step - loss: 0.0382 - root_mean_squared_error: 0.1954 - val_loss: 0.0400 - val_root_mean_squared_error: 0.2000\n",
      "Epoch 8/30\n",
      "694/703 [============================>.] - ETA: 0s - loss: 0.0372 - root_mean_squared_error: 0.1929\n",
      "Epoch 00008: val_loss did not improve from 0.03820\n",
      "703/703 [==============================] - 4s 6ms/step - loss: 0.0377 - root_mean_squared_error: 0.1941 - val_loss: 0.0396 - val_root_mean_squared_error: 0.1990\n",
      "Epoch 9/30\n",
      "701/703 [============================>.] - ETA: 0s - loss: 0.0366 - root_mean_squared_error: 0.1913\n",
      "Epoch 00009: val_loss did not improve from 0.03820\n",
      "703/703 [==============================] - 4s 6ms/step - loss: 0.0370 - root_mean_squared_error: 0.1924 - val_loss: 0.0401 - val_root_mean_squared_error: 0.2003\n",
      "Epoch 10/30\n",
      "701/703 [============================>.] - ETA: 0s - loss: 0.0361 - root_mean_squared_error: 0.1900\n",
      "Epoch 00010: val_loss did not improve from 0.03820\n",
      "703/703 [==============================] - 4s 6ms/step - loss: 0.0363 - root_mean_squared_error: 0.1905 - val_loss: 0.0404 - val_root_mean_squared_error: 0.2009\n",
      "Epoch 11/30\n",
      "695/703 [============================>.] - ETA: 0s - loss: 0.0358 - root_mean_squared_error: 0.1891\n",
      "Epoch 00011: val_loss did not improve from 0.03820\n",
      "703/703 [==============================] - 4s 6ms/step - loss: 0.0358 - root_mean_squared_error: 0.1892 - val_loss: 0.0417 - val_root_mean_squared_error: 0.2041\n",
      "Epoch 12/30\n",
      "700/703 [============================>.] - ETA: 0s - loss: 0.0356 - root_mean_squared_error: 0.1886\n",
      "Epoch 00012: val_loss did not improve from 0.03820\n",
      "703/703 [==============================] - 4s 6ms/step - loss: 0.0355 - root_mean_squared_error: 0.1885 - val_loss: 0.0414 - val_root_mean_squared_error: 0.2034\n",
      "Epoch 13/30\n",
      "695/703 [============================>.] - ETA: 0s - loss: 0.0345 - root_mean_squared_error: 0.1858\n",
      "Epoch 00013: val_loss did not improve from 0.03820\n",
      "703/703 [==============================] - 4s 6ms/step - loss: 0.0349 - root_mean_squared_error: 0.1869 - val_loss: 0.0425 - val_root_mean_squared_error: 0.2062\n",
      "Epoch 14/30\n",
      "699/703 [============================>.] - ETA: 0s - loss: 0.0347 - root_mean_squared_error: 0.1862\n",
      "Epoch 00014: val_loss did not improve from 0.03820\n",
      "703/703 [==============================] - 4s 6ms/step - loss: 0.0346 - root_mean_squared_error: 0.1860 - val_loss: 0.0434 - val_root_mean_squared_error: 0.2084\n",
      "Epoch 15/30\n",
      "698/703 [============================>.] - ETA: 0s - loss: 0.0343 - root_mean_squared_error: 0.1853\n",
      "Epoch 00015: val_loss did not improve from 0.03820\n",
      "703/703 [==============================] - 4s 6ms/step - loss: 0.0342 - root_mean_squared_error: 0.1849 - val_loss: 0.0431 - val_root_mean_squared_error: 0.2076\n",
      "Epoch 16/30\n",
      "696/703 [============================>.] - ETA: 0s - loss: 0.0339 - root_mean_squared_error: 0.1841\n",
      "Epoch 00016: val_loss did not improve from 0.03820\n",
      "703/703 [==============================] - 4s 6ms/step - loss: 0.0338 - root_mean_squared_error: 0.1839 - val_loss: 0.0438 - val_root_mean_squared_error: 0.2092\n",
      "Epoch 17/30\n",
      "698/703 [============================>.] - ETA: 0s - loss: 0.0334 - root_mean_squared_error: 0.1827\n",
      "Epoch 00017: val_loss did not improve from 0.03820\n",
      "703/703 [==============================] - 4s 6ms/step - loss: 0.0335 - root_mean_squared_error: 0.1829 - val_loss: 0.0448 - val_root_mean_squared_error: 0.2117\n",
      "Epoch 18/30\n",
      "699/703 [============================>.] - ETA: 0s - loss: 0.0330 - root_mean_squared_error: 0.1816\n",
      "Epoch 00018: val_loss did not improve from 0.03820\n",
      "703/703 [==============================] - 4s 6ms/step - loss: 0.0330 - root_mean_squared_error: 0.1817 - val_loss: 0.0444 - val_root_mean_squared_error: 0.2106\n",
      "Epoch 19/30\n",
      "699/703 [============================>.] - ETA: 0s - loss: 0.0327 - root_mean_squared_error: 0.1809\n",
      "Epoch 00019: val_loss did not improve from 0.03820\n",
      "703/703 [==============================] - 4s 6ms/step - loss: 0.0328 - root_mean_squared_error: 0.1811 - val_loss: 0.0442 - val_root_mean_squared_error: 0.2102\n",
      "Epoch 20/30\n",
      "700/703 [============================>.] - ETA: 0s - loss: 0.0325 - root_mean_squared_error: 0.1802\n",
      "Epoch 00020: val_loss did not improve from 0.03820\n",
      "703/703 [==============================] - 4s 6ms/step - loss: 0.0324 - root_mean_squared_error: 0.1801 - val_loss: 0.0452 - val_root_mean_squared_error: 0.2126\n",
      "Epoch 21/30\n",
      "697/703 [============================>.] - ETA: 0s - loss: 0.0321 - root_mean_squared_error: 0.1790\n",
      "Epoch 00021: val_loss did not improve from 0.03820\n",
      "703/703 [==============================] - 4s 6ms/step - loss: 0.0320 - root_mean_squared_error: 0.1788 - val_loss: 0.0442 - val_root_mean_squared_error: 0.2102\n",
      "Epoch 22/30\n",
      "698/703 [============================>.] - ETA: 0s - loss: 0.0318 - root_mean_squared_error: 0.1782\n",
      "Epoch 00022: val_loss did not improve from 0.03820\n",
      "703/703 [==============================] - 4s 6ms/step - loss: 0.0318 - root_mean_squared_error: 0.1783 - val_loss: 0.0456 - val_root_mean_squared_error: 0.2134\n",
      "Epoch 23/30\n",
      "697/703 [============================>.] - ETA: 0s - loss: 0.0315 - root_mean_squared_error: 0.1773\n",
      "Epoch 00023: val_loss did not improve from 0.03820\n",
      "703/703 [==============================] - 4s 6ms/step - loss: 0.0316 - root_mean_squared_error: 0.1777 - val_loss: 0.0448 - val_root_mean_squared_error: 0.2116\n",
      "Epoch 24/30\n",
      "699/703 [============================>.] - ETA: 0s - loss: 0.0316 - root_mean_squared_error: 0.1777\n",
      "Epoch 00024: val_loss did not improve from 0.03820\n",
      "703/703 [==============================] - 4s 6ms/step - loss: 0.0315 - root_mean_squared_error: 0.1775 - val_loss: 0.0458 - val_root_mean_squared_error: 0.2141\n",
      "Epoch 25/30\n",
      "697/703 [============================>.] - ETA: 0s - loss: 0.0308 - root_mean_squared_error: 0.1756\n",
      "Epoch 00025: val_loss did not improve from 0.03820\n",
      "703/703 [==============================] - 4s 6ms/step - loss: 0.0307 - root_mean_squared_error: 0.1753 - val_loss: 0.0461 - val_root_mean_squared_error: 0.2148\n",
      "Epoch 26/30\n",
      "697/703 [============================>.] - ETA: 0s - loss: 0.0310 - root_mean_squared_error: 0.1760\n",
      "Epoch 00026: val_loss did not improve from 0.03820\n",
      "703/703 [==============================] - 4s 6ms/step - loss: 0.0308 - root_mean_squared_error: 0.1755 - val_loss: 0.0470 - val_root_mean_squared_error: 0.2168\n",
      "Epoch 27/30\n",
      "701/703 [============================>.] - ETA: 0s - loss: 0.0305 - root_mean_squared_error: 0.1747\n",
      "Epoch 00027: val_loss did not improve from 0.03820\n",
      "703/703 [==============================] - 4s 6ms/step - loss: 0.0306 - root_mean_squared_error: 0.1749 - val_loss: 0.0463 - val_root_mean_squared_error: 0.2153\n",
      "Epoch 28/30\n",
      "703/703 [==============================] - ETA: 0s - loss: 0.0302 - root_mean_squared_error: 0.1738\n",
      "Epoch 00028: val_loss did not improve from 0.03820\n",
      "703/703 [==============================] - 4s 6ms/step - loss: 0.0302 - root_mean_squared_error: 0.1738 - val_loss: 0.0465 - val_root_mean_squared_error: 0.2156\n",
      "Epoch 29/30\n",
      "695/703 [============================>.] - ETA: 0s - loss: 0.0297 - root_mean_squared_error: 0.1725\n",
      "Epoch 00029: val_loss did not improve from 0.03820\n",
      "703/703 [==============================] - 4s 6ms/step - loss: 0.0300 - root_mean_squared_error: 0.1731 - val_loss: 0.0469 - val_root_mean_squared_error: 0.2166\n",
      "Epoch 30/30\n",
      "702/703 [============================>.] - ETA: 0s - loss: 0.0296 - root_mean_squared_error: 0.1721\n",
      "Epoch 00030: val_loss did not improve from 0.03820\n",
      "703/703 [==============================] - 4s 6ms/step - loss: 0.0297 - root_mean_squared_error: 0.1722 - val_loss: 0.0467 - val_root_mean_squared_error: 0.2161\n"
     ]
    }
   ],
   "source": [
    "history = model.fit(X_train,\n",
    "                    y_train,\n",
    "                    batch_size=64,\n",
    "                    validation_data=(X_test, y_test),\n",
    "                    epochs=30,\n",
    "                    verbose=1,\n",
    "                    callbacks=callbacks_list)"
   ]
  },
  {
   "cell_type": "code",
   "execution_count": null,
   "metadata": {
    "colab": {},
    "colab_type": "code",
    "id": "wWJmlbOyA3nv"
   },
   "outputs": [],
   "source": [
    "model_3_camera2 = model_history('model_3_4_camera2')"
   ]
  },
  {
   "cell_type": "markdown",
   "metadata": {},
   "source": [
    "### Model 3 camera3"
   ]
  },
  {
   "cell_type": "code",
   "execution_count": null,
   "metadata": {
    "colab": {},
    "colab_type": "code",
    "id": "Y6rNHjAQUtje"
   },
   "outputs": [],
   "source": [
    "model = load_model('/content/drive/My Drive/epochs/model_3_4_camera2.0030-0.0163.h5')"
   ]
  },
  {
   "cell_type": "code",
   "execution_count": null,
   "metadata": {
    "colab": {},
    "colab_type": "code",
    "id": "GXuvoYxRUtji"
   },
   "outputs": [],
   "source": [
    "X_train, X_test, y_train, y_test = train_load('camera3')"
   ]
  },
  {
   "cell_type": "code",
   "execution_count": null,
   "metadata": {
    "colab": {
     "base_uri": "https://localhost:8080/",
     "height": 34
    },
    "colab_type": "code",
    "id": "BJEe6ETeUtjn",
    "outputId": "532810b0-dcae-44e2-9a84-e128e790d671"
   },
   "outputs": [
    {
     "data": {
      "text/plain": [
       "((13548, 80, 160, 1), (3388, 80, 160, 1), (13548, 1), (3388, 1))"
      ]
     },
     "execution_count": 37,
     "metadata": {
      "tags": []
     },
     "output_type": "execute_result"
    }
   ],
   "source": [
    "X_train.shape, X_test.shape, y_train.shape, y_test.shape"
   ]
  },
  {
   "cell_type": "code",
   "execution_count": null,
   "metadata": {
    "colab": {},
    "colab_type": "code",
    "id": "5hWiNzmzUtjo"
   },
   "outputs": [],
   "source": [
    "filepath = \"/content/drive/My Drive/epochs/model_3_5_camera3.{epoch:04d}-{val_loss:.4f}.h5\"\n",
    "checkpoint = ModelCheckpoint(filepath, monitor='val_loss', verbose=1, save_best_only=True, mode='min')\n",
    "callbacks_list = [checkpoint]"
   ]
  },
  {
   "cell_type": "code",
   "execution_count": null,
   "metadata": {
    "colab": {
     "base_uri": "https://localhost:8080/",
     "height": 1000
    },
    "colab_type": "code",
    "collapsed": true,
    "id": "viLQh1eRUtjq",
    "outputId": "ab18415a-06c4-4c67-bda9-33fd2c0f60bf"
   },
   "outputs": [
    {
     "name": "stdout",
     "output_type": "stream",
     "text": [
      "Epoch 1/30\n",
      "212/212 [==============================] - ETA: 0s - loss: 0.0727 - root_mean_squared_error: 0.2696\n",
      "Epoch 00001: val_loss improved from inf to 0.05052, saving model to /content/drive/My Drive/epochs/model_5_5_camera3.0001-0.0505.h5\n",
      "212/212 [==============================] - 2s 8ms/step - loss: 0.0727 - root_mean_squared_error: 0.2696 - val_loss: 0.0505 - val_root_mean_squared_error: 0.2248\n",
      "Epoch 2/30\n",
      "207/212 [============================>.] - ETA: 0s - loss: 0.0642 - root_mean_squared_error: 0.2534\n",
      "Epoch 00002: val_loss improved from 0.05052 to 0.04959, saving model to /content/drive/My Drive/epochs/model_5_5_camera3.0002-0.0496.h5\n",
      "212/212 [==============================] - 1s 7ms/step - loss: 0.0632 - root_mean_squared_error: 0.2514 - val_loss: 0.0496 - val_root_mean_squared_error: 0.2227\n",
      "Epoch 3/30\n",
      "207/212 [============================>.] - ETA: 0s - loss: 0.0597 - root_mean_squared_error: 0.2444\n",
      "Epoch 00003: val_loss improved from 0.04959 to 0.04791, saving model to /content/drive/My Drive/epochs/model_5_5_camera3.0003-0.0479.h5\n",
      "212/212 [==============================] - 1s 7ms/step - loss: 0.0594 - root_mean_squared_error: 0.2437 - val_loss: 0.0479 - val_root_mean_squared_error: 0.2189\n",
      "Epoch 4/30\n",
      "203/212 [===========================>..] - ETA: 0s - loss: 0.0571 - root_mean_squared_error: 0.2389\n",
      "Epoch 00004: val_loss did not improve from 0.04791\n",
      "212/212 [==============================] - 1s 6ms/step - loss: 0.0573 - root_mean_squared_error: 0.2394 - val_loss: 0.0480 - val_root_mean_squared_error: 0.2191\n",
      "Epoch 5/30\n",
      "207/212 [============================>.] - ETA: 0s - loss: 0.0563 - root_mean_squared_error: 0.2373\n",
      "Epoch 00005: val_loss improved from 0.04791 to 0.04643, saving model to /content/drive/My Drive/epochs/model_5_5_camera3.0005-0.0464.h5\n",
      "212/212 [==============================] - 1s 7ms/step - loss: 0.0558 - root_mean_squared_error: 0.2363 - val_loss: 0.0464 - val_root_mean_squared_error: 0.2155\n",
      "Epoch 6/30\n",
      "209/212 [============================>.] - ETA: 0s - loss: 0.0547 - root_mean_squared_error: 0.2339\n",
      "Epoch 00006: val_loss did not improve from 0.04643\n",
      "212/212 [==============================] - 1s 6ms/step - loss: 0.0543 - root_mean_squared_error: 0.2330 - val_loss: 0.0468 - val_root_mean_squared_error: 0.2163\n",
      "Epoch 7/30\n",
      "211/212 [============================>.] - ETA: 0s - loss: 0.0533 - root_mean_squared_error: 0.2309\n",
      "Epoch 00007: val_loss did not improve from 0.04643\n",
      "212/212 [==============================] - 1s 7ms/step - loss: 0.0532 - root_mean_squared_error: 0.2306 - val_loss: 0.0466 - val_root_mean_squared_error: 0.2159\n",
      "Epoch 8/30\n",
      "208/212 [============================>.] - ETA: 0s - loss: 0.0516 - root_mean_squared_error: 0.2273\n",
      "Epoch 00008: val_loss improved from 0.04643 to 0.04639, saving model to /content/drive/My Drive/epochs/model_5_5_camera3.0008-0.0464.h5\n",
      "212/212 [==============================] - 2s 7ms/step - loss: 0.0519 - root_mean_squared_error: 0.2279 - val_loss: 0.0464 - val_root_mean_squared_error: 0.2154\n",
      "Epoch 9/30\n",
      "207/212 [============================>.] - ETA: 0s - loss: 0.0512 - root_mean_squared_error: 0.2263\n",
      "Epoch 00009: val_loss did not improve from 0.04639\n",
      "212/212 [==============================] - 1s 7ms/step - loss: 0.0509 - root_mean_squared_error: 0.2256 - val_loss: 0.0469 - val_root_mean_squared_error: 0.2165\n",
      "Epoch 10/30\n",
      "205/212 [============================>.] - ETA: 0s - loss: 0.0492 - root_mean_squared_error: 0.2219\n",
      "Epoch 00010: val_loss did not improve from 0.04639\n",
      "212/212 [==============================] - 1s 6ms/step - loss: 0.0496 - root_mean_squared_error: 0.2226 - val_loss: 0.0468 - val_root_mean_squared_error: 0.2163\n",
      "Epoch 11/30\n",
      "211/212 [============================>.] - ETA: 0s - loss: 0.0494 - root_mean_squared_error: 0.2223\n",
      "Epoch 00011: val_loss did not improve from 0.04639\n",
      "212/212 [==============================] - 1s 6ms/step - loss: 0.0493 - root_mean_squared_error: 0.2220 - val_loss: 0.0477 - val_root_mean_squared_error: 0.2185\n",
      "Epoch 12/30\n",
      "211/212 [============================>.] - ETA: 0s - loss: 0.0489 - root_mean_squared_error: 0.2212\n",
      "Epoch 00012: val_loss did not improve from 0.04639\n",
      "212/212 [==============================] - 1s 6ms/step - loss: 0.0489 - root_mean_squared_error: 0.2212 - val_loss: 0.0466 - val_root_mean_squared_error: 0.2158\n",
      "Epoch 13/30\n",
      "206/212 [============================>.] - ETA: 0s - loss: 0.0483 - root_mean_squared_error: 0.2199\n",
      "Epoch 00013: val_loss did not improve from 0.04639\n",
      "212/212 [==============================] - 1s 6ms/step - loss: 0.0486 - root_mean_squared_error: 0.2204 - val_loss: 0.0486 - val_root_mean_squared_error: 0.2204\n",
      "Epoch 14/30\n",
      "206/212 [============================>.] - ETA: 0s - loss: 0.0476 - root_mean_squared_error: 0.2182\n",
      "Epoch 00014: val_loss did not improve from 0.04639\n",
      "212/212 [==============================] - 1s 6ms/step - loss: 0.0473 - root_mean_squared_error: 0.2175 - val_loss: 0.0499 - val_root_mean_squared_error: 0.2235\n",
      "Epoch 15/30\n",
      "204/212 [===========================>..] - ETA: 0s - loss: 0.0469 - root_mean_squared_error: 0.2165\n",
      "Epoch 00015: val_loss did not improve from 0.04639\n",
      "212/212 [==============================] - 1s 6ms/step - loss: 0.0475 - root_mean_squared_error: 0.2178 - val_loss: 0.0476 - val_root_mean_squared_error: 0.2182\n",
      "Epoch 16/30\n",
      "205/212 [============================>.] - ETA: 0s - loss: 0.0469 - root_mean_squared_error: 0.2166\n",
      "Epoch 00016: val_loss did not improve from 0.04639\n",
      "212/212 [==============================] - 1s 7ms/step - loss: 0.0469 - root_mean_squared_error: 0.2166 - val_loss: 0.0496 - val_root_mean_squared_error: 0.2228\n",
      "Epoch 17/30\n",
      "212/212 [==============================] - ETA: 0s - loss: 0.0457 - root_mean_squared_error: 0.2139\n",
      "Epoch 00017: val_loss did not improve from 0.04639\n",
      "212/212 [==============================] - 1s 6ms/step - loss: 0.0457 - root_mean_squared_error: 0.2139 - val_loss: 0.0487 - val_root_mean_squared_error: 0.2207\n",
      "Epoch 18/30\n",
      "209/212 [============================>.] - ETA: 0s - loss: 0.0460 - root_mean_squared_error: 0.2145\n",
      "Epoch 00018: val_loss did not improve from 0.04639\n",
      "212/212 [==============================] - 1s 6ms/step - loss: 0.0460 - root_mean_squared_error: 0.2144 - val_loss: 0.0487 - val_root_mean_squared_error: 0.2207\n",
      "Epoch 19/30\n",
      "212/212 [==============================] - ETA: 0s - loss: 0.0453 - root_mean_squared_error: 0.2128\n",
      "Epoch 00019: val_loss did not improve from 0.04639\n",
      "212/212 [==============================] - 1s 6ms/step - loss: 0.0453 - root_mean_squared_error: 0.2128 - val_loss: 0.0480 - val_root_mean_squared_error: 0.2191\n",
      "Epoch 20/30\n",
      "212/212 [==============================] - ETA: 0s - loss: 0.0450 - root_mean_squared_error: 0.2121\n",
      "Epoch 00020: val_loss did not improve from 0.04639\n",
      "212/212 [==============================] - 1s 6ms/step - loss: 0.0450 - root_mean_squared_error: 0.2121 - val_loss: 0.0488 - val_root_mean_squared_error: 0.2210\n",
      "Epoch 21/30\n",
      "205/212 [============================>.] - ETA: 0s - loss: 0.0434 - root_mean_squared_error: 0.2082\n",
      "Epoch 00021: val_loss did not improve from 0.04639\n",
      "212/212 [==============================] - 1s 6ms/step - loss: 0.0440 - root_mean_squared_error: 0.2097 - val_loss: 0.0495 - val_root_mean_squared_error: 0.2226\n",
      "Epoch 22/30\n",
      "203/212 [===========================>..] - ETA: 0s - loss: 0.0448 - root_mean_squared_error: 0.2116\n",
      "Epoch 00022: val_loss did not improve from 0.04639\n",
      "212/212 [==============================] - 1s 6ms/step - loss: 0.0440 - root_mean_squared_error: 0.2098 - val_loss: 0.0493 - val_root_mean_squared_error: 0.2220\n",
      "Epoch 23/30\n",
      "206/212 [============================>.] - ETA: 0s - loss: 0.0447 - root_mean_squared_error: 0.2113\n",
      "Epoch 00023: val_loss did not improve from 0.04639\n",
      "212/212 [==============================] - 1s 7ms/step - loss: 0.0442 - root_mean_squared_error: 0.2102 - val_loss: 0.0486 - val_root_mean_squared_error: 0.2204\n",
      "Epoch 24/30\n",
      "204/212 [===========================>..] - ETA: 0s - loss: 0.0437 - root_mean_squared_error: 0.2090\n",
      "Epoch 00024: val_loss did not improve from 0.04639\n",
      "212/212 [==============================] - 1s 6ms/step - loss: 0.0440 - root_mean_squared_error: 0.2098 - val_loss: 0.0498 - val_root_mean_squared_error: 0.2231\n",
      "Epoch 25/30\n",
      "211/212 [============================>.] - ETA: 0s - loss: 0.0432 - root_mean_squared_error: 0.2078\n",
      "Epoch 00025: val_loss did not improve from 0.04639\n",
      "212/212 [==============================] - 1s 6ms/step - loss: 0.0431 - root_mean_squared_error: 0.2075 - val_loss: 0.0494 - val_root_mean_squared_error: 0.2222\n",
      "Epoch 26/30\n",
      "204/212 [===========================>..] - ETA: 0s - loss: 0.0421 - root_mean_squared_error: 0.2052\n",
      "Epoch 00026: val_loss did not improve from 0.04639\n",
      "212/212 [==============================] - 1s 6ms/step - loss: 0.0426 - root_mean_squared_error: 0.2063 - val_loss: 0.0497 - val_root_mean_squared_error: 0.2230\n",
      "Epoch 27/30\n",
      "206/212 [============================>.] - ETA: 0s - loss: 0.0430 - root_mean_squared_error: 0.2074\n",
      "Epoch 00027: val_loss did not improve from 0.04639\n",
      "212/212 [==============================] - 1s 6ms/step - loss: 0.0426 - root_mean_squared_error: 0.2064 - val_loss: 0.0495 - val_root_mean_squared_error: 0.2224\n",
      "Epoch 28/30\n",
      "203/212 [===========================>..] - ETA: 0s - loss: 0.0424 - root_mean_squared_error: 0.2058\n",
      "Epoch 00028: val_loss did not improve from 0.04639\n",
      "212/212 [==============================] - 1s 6ms/step - loss: 0.0422 - root_mean_squared_error: 0.2054 - val_loss: 0.0522 - val_root_mean_squared_error: 0.2284\n",
      "Epoch 29/30\n",
      "203/212 [===========================>..] - ETA: 0s - loss: 0.0400 - root_mean_squared_error: 0.2000\n",
      "Epoch 00029: val_loss did not improve from 0.04639\n",
      "212/212 [==============================] - 1s 6ms/step - loss: 0.0416 - root_mean_squared_error: 0.2041 - val_loss: 0.0507 - val_root_mean_squared_error: 0.2251\n",
      "Epoch 30/30\n",
      "204/212 [===========================>..] - ETA: 0s - loss: 0.0412 - root_mean_squared_error: 0.2030\n",
      "Epoch 00030: val_loss did not improve from 0.04639\n",
      "212/212 [==============================] - 1s 6ms/step - loss: 0.0415 - root_mean_squared_error: 0.2037 - val_loss: 0.0501 - val_root_mean_squared_error: 0.2238\n"
     ]
    }
   ],
   "source": [
    "history = model.fit(X_train,\n",
    "                    y_train,\n",
    "                    batch_size=64,\n",
    "                    validation_data=(X_test, y_test),\n",
    "                    epochs=30,\n",
    "                    verbose=1,\n",
    "                    callbacks=callbacks_list)"
   ]
  },
  {
   "cell_type": "code",
   "execution_count": null,
   "metadata": {
    "colab": {},
    "colab_type": "code",
    "id": "W2Hn5sdbUtjx"
   },
   "outputs": [],
   "source": [
    "model_3_camera3 = model_history('model_3_5_camera3')"
   ]
  },
  {
   "cell_type": "markdown",
   "metadata": {},
   "source": [
    "### Model 3 camera4"
   ]
  },
  {
   "cell_type": "code",
   "execution_count": null,
   "metadata": {
    "colab": {},
    "colab_type": "code",
    "id": "C46nZz9UVAyW"
   },
   "outputs": [],
   "source": [
    "model = load_model('/content/drive/My Drive/epochs/model_3_5_camera3.0028-0.0240.h5')"
   ]
  },
  {
   "cell_type": "code",
   "execution_count": null,
   "metadata": {
    "colab": {},
    "colab_type": "code",
    "id": "2nCNpTyeVAyb"
   },
   "outputs": [],
   "source": [
    "X_train, X_test, y_train, y_test = train_load('camera4')"
   ]
  },
  {
   "cell_type": "code",
   "execution_count": null,
   "metadata": {
    "colab": {
     "base_uri": "https://localhost:8080/",
     "height": 34
    },
    "colab_type": "code",
    "id": "Eo40v-t2VAyd",
    "outputId": "955129b6-de3e-4d94-caa2-4ef927dda540"
   },
   "outputs": [
    {
     "data": {
      "text/plain": [
       "((42696, 80, 160, 1), (10675, 80, 160, 1), (42696, 1), (10675, 1))"
      ]
     },
     "execution_count": 49,
     "metadata": {
      "tags": []
     },
     "output_type": "execute_result"
    }
   ],
   "source": [
    "X_train.shape, X_test.shape, y_train.shape, y_test.shape"
   ]
  },
  {
   "cell_type": "code",
   "execution_count": null,
   "metadata": {
    "colab": {},
    "colab_type": "code",
    "id": "AeKvl1-uVAyh"
   },
   "outputs": [],
   "source": [
    "filepath = \"/content/drive/My Drive/epochs/model_3_6_camera4.{epoch:04d}-{val_loss:.4f}.h5\"\n",
    "checkpoint = ModelCheckpoint(filepath, monitor='val_loss', verbose=1, save_best_only=True, mode='min')\n",
    "callbacks_list = [checkpoint]"
   ]
  },
  {
   "cell_type": "code",
   "execution_count": null,
   "metadata": {
    "colab": {
     "base_uri": "https://localhost:8080/",
     "height": 1000
    },
    "colab_type": "code",
    "collapsed": true,
    "id": "5rjU5GvTVAyl",
    "outputId": "3d45eb10-5e35-4511-9626-9ecc9f39493e"
   },
   "outputs": [
    {
     "name": "stdout",
     "output_type": "stream",
     "text": [
      "Epoch 1/30\n",
      "668/668 [==============================] - ETA: 0s - loss: 0.1216 - root_mean_squared_error: 0.3487\n",
      "Epoch 00001: val_loss improved from inf to 0.13672, saving model to /content/drive/My Drive/epochs/model_5_6_camera4.0001-0.1367.h5\n",
      "668/668 [==============================] - 5s 7ms/step - loss: 0.1216 - root_mean_squared_error: 0.3487 - val_loss: 0.1367 - val_root_mean_squared_error: 0.3698\n",
      "Epoch 2/30\n",
      "667/668 [============================>.] - ETA: 0s - loss: 0.1131 - root_mean_squared_error: 0.3363\n",
      "Epoch 00002: val_loss improved from 0.13672 to 0.13305, saving model to /content/drive/My Drive/epochs/model_5_6_camera4.0002-0.1331.h5\n",
      "668/668 [==============================] - 4s 7ms/step - loss: 0.1131 - root_mean_squared_error: 0.3363 - val_loss: 0.1331 - val_root_mean_squared_error: 0.3648\n",
      "Epoch 3/30\n",
      "665/668 [============================>.] - ETA: 0s - loss: 0.1085 - root_mean_squared_error: 0.3294\n",
      "Epoch 00003: val_loss improved from 0.13305 to 0.13265, saving model to /content/drive/My Drive/epochs/model_5_6_camera4.0003-0.1327.h5\n",
      "668/668 [==============================] - 4s 7ms/step - loss: 0.1082 - root_mean_squared_error: 0.3290 - val_loss: 0.1327 - val_root_mean_squared_error: 0.3642\n",
      "Epoch 4/30\n",
      "661/668 [============================>.] - ETA: 0s - loss: 0.1023 - root_mean_squared_error: 0.3198\n",
      "Epoch 00004: val_loss improved from 0.13265 to 0.13179, saving model to /content/drive/My Drive/epochs/model_5_6_camera4.0004-0.1318.h5\n",
      "668/668 [==============================] - 5s 7ms/step - loss: 0.1044 - root_mean_squared_error: 0.3231 - val_loss: 0.1318 - val_root_mean_squared_error: 0.3630\n",
      "Epoch 5/30\n",
      "664/668 [============================>.] - ETA: 0s - loss: 0.1015 - root_mean_squared_error: 0.3187\n",
      "Epoch 00005: val_loss did not improve from 0.13179\n",
      "668/668 [==============================] - 4s 7ms/step - loss: 0.1014 - root_mean_squared_error: 0.3184 - val_loss: 0.1332 - val_root_mean_squared_error: 0.3649\n",
      "Epoch 6/30\n",
      "667/668 [============================>.] - ETA: 0s - loss: 0.0982 - root_mean_squared_error: 0.3134\n",
      "Epoch 00006: val_loss did not improve from 0.13179\n",
      "668/668 [==============================] - 4s 7ms/step - loss: 0.0982 - root_mean_squared_error: 0.3133 - val_loss: 0.1346 - val_root_mean_squared_error: 0.3669\n",
      "Epoch 7/30\n",
      "667/668 [============================>.] - ETA: 0s - loss: 0.0961 - root_mean_squared_error: 0.3100\n",
      "Epoch 00007: val_loss did not improve from 0.13179\n",
      "668/668 [==============================] - 4s 7ms/step - loss: 0.0961 - root_mean_squared_error: 0.3100 - val_loss: 0.1355 - val_root_mean_squared_error: 0.3681\n",
      "Epoch 8/30\n",
      "665/668 [============================>.] - ETA: 0s - loss: 0.0941 - root_mean_squared_error: 0.3067\n",
      "Epoch 00008: val_loss did not improve from 0.13179\n",
      "668/668 [==============================] - 4s 6ms/step - loss: 0.0939 - root_mean_squared_error: 0.3064 - val_loss: 0.1363 - val_root_mean_squared_error: 0.3692\n",
      "Epoch 9/30\n",
      "662/668 [============================>.] - ETA: 0s - loss: 0.0920 - root_mean_squared_error: 0.3033\n",
      "Epoch 00009: val_loss did not improve from 0.13179\n",
      "668/668 [==============================] - 4s 6ms/step - loss: 0.0919 - root_mean_squared_error: 0.3032 - val_loss: 0.1378 - val_root_mean_squared_error: 0.3712\n",
      "Epoch 10/30\n",
      "665/668 [============================>.] - ETA: 0s - loss: 0.0908 - root_mean_squared_error: 0.3012\n",
      "Epoch 00010: val_loss did not improve from 0.13179\n",
      "668/668 [==============================] - 4s 6ms/step - loss: 0.0906 - root_mean_squared_error: 0.3010 - val_loss: 0.1406 - val_root_mean_squared_error: 0.3750\n",
      "Epoch 11/30\n",
      "668/668 [==============================] - ETA: 0s - loss: 0.0888 - root_mean_squared_error: 0.2980\n",
      "Epoch 00011: val_loss did not improve from 0.13179\n",
      "668/668 [==============================] - 4s 6ms/step - loss: 0.0888 - root_mean_squared_error: 0.2980 - val_loss: 0.1411 - val_root_mean_squared_error: 0.3757\n",
      "Epoch 12/30\n",
      "660/668 [============================>.] - ETA: 0s - loss: 0.0879 - root_mean_squared_error: 0.2964\n",
      "Epoch 00012: val_loss did not improve from 0.13179\n",
      "668/668 [==============================] - 4s 6ms/step - loss: 0.0876 - root_mean_squared_error: 0.2960 - val_loss: 0.1413 - val_root_mean_squared_error: 0.3759\n",
      "Epoch 13/30\n",
      "660/668 [============================>.] - ETA: 0s - loss: 0.0861 - root_mean_squared_error: 0.2935\n",
      "Epoch 00013: val_loss did not improve from 0.13179\n",
      "668/668 [==============================] - 4s 7ms/step - loss: 0.0861 - root_mean_squared_error: 0.2934 - val_loss: 0.1446 - val_root_mean_squared_error: 0.3802\n",
      "Epoch 14/30\n",
      "660/668 [============================>.] - ETA: 0s - loss: 0.0848 - root_mean_squared_error: 0.2913\n",
      "Epoch 00014: val_loss did not improve from 0.13179\n",
      "668/668 [==============================] - 4s 7ms/step - loss: 0.0849 - root_mean_squared_error: 0.2914 - val_loss: 0.1449 - val_root_mean_squared_error: 0.3807\n",
      "Epoch 15/30\n",
      "668/668 [==============================] - ETA: 0s - loss: 0.0834 - root_mean_squared_error: 0.2888\n",
      "Epoch 00015: val_loss did not improve from 0.13179\n",
      "668/668 [==============================] - 4s 7ms/step - loss: 0.0834 - root_mean_squared_error: 0.2888 - val_loss: 0.1452 - val_root_mean_squared_error: 0.3811\n",
      "Epoch 16/30\n",
      "668/668 [==============================] - ETA: 0s - loss: 0.0829 - root_mean_squared_error: 0.2880\n",
      "Epoch 00016: val_loss did not improve from 0.13179\n",
      "668/668 [==============================] - 4s 6ms/step - loss: 0.0829 - root_mean_squared_error: 0.2880 - val_loss: 0.1464 - val_root_mean_squared_error: 0.3826\n",
      "Epoch 17/30\n",
      "664/668 [============================>.] - ETA: 0s - loss: 0.0820 - root_mean_squared_error: 0.2864\n",
      "Epoch 00017: val_loss did not improve from 0.13179\n",
      "668/668 [==============================] - 4s 6ms/step - loss: 0.0819 - root_mean_squared_error: 0.2861 - val_loss: 0.1481 - val_root_mean_squared_error: 0.3848\n",
      "Epoch 18/30\n",
      "666/668 [============================>.] - ETA: 0s - loss: 0.0800 - root_mean_squared_error: 0.2828\n",
      "Epoch 00018: val_loss did not improve from 0.13179\n",
      "668/668 [==============================] - 4s 6ms/step - loss: 0.0801 - root_mean_squared_error: 0.2830 - val_loss: 0.1502 - val_root_mean_squared_error: 0.3875\n",
      "Epoch 19/30\n",
      "660/668 [============================>.] - ETA: 0s - loss: 0.0798 - root_mean_squared_error: 0.2825\n",
      "Epoch 00019: val_loss did not improve from 0.13179\n",
      "668/668 [==============================] - 4s 6ms/step - loss: 0.0800 - root_mean_squared_error: 0.2829 - val_loss: 0.1497 - val_root_mean_squared_error: 0.3869\n",
      "Epoch 20/30\n",
      "666/668 [============================>.] - ETA: 0s - loss: 0.0786 - root_mean_squared_error: 0.2803\n",
      "Epoch 00020: val_loss did not improve from 0.13179\n",
      "668/668 [==============================] - 4s 6ms/step - loss: 0.0786 - root_mean_squared_error: 0.2804 - val_loss: 0.1495 - val_root_mean_squared_error: 0.3866\n",
      "Epoch 21/30\n",
      "663/668 [============================>.] - ETA: 0s - loss: 0.0768 - root_mean_squared_error: 0.2771\n",
      "Epoch 00021: val_loss did not improve from 0.13179\n",
      "668/668 [==============================] - 4s 6ms/step - loss: 0.0773 - root_mean_squared_error: 0.2780 - val_loss: 0.1508 - val_root_mean_squared_error: 0.3884\n",
      "Epoch 22/30\n",
      "660/668 [============================>.] - ETA: 0s - loss: 0.0769 - root_mean_squared_error: 0.2773\n",
      "Epoch 00022: val_loss did not improve from 0.13179\n",
      "668/668 [==============================] - 4s 7ms/step - loss: 0.0770 - root_mean_squared_error: 0.2775 - val_loss: 0.1520 - val_root_mean_squared_error: 0.3898\n",
      "Epoch 23/30\n",
      "661/668 [============================>.] - ETA: 0s - loss: 0.0762 - root_mean_squared_error: 0.2761\n",
      "Epoch 00023: val_loss did not improve from 0.13179\n",
      "668/668 [==============================] - 4s 6ms/step - loss: 0.0763 - root_mean_squared_error: 0.2761 - val_loss: 0.1524 - val_root_mean_squared_error: 0.3904\n",
      "Epoch 24/30\n",
      "668/668 [==============================] - ETA: 0s - loss: 0.0756 - root_mean_squared_error: 0.2750\n",
      "Epoch 00024: val_loss did not improve from 0.13179\n",
      "668/668 [==============================] - 4s 6ms/step - loss: 0.0756 - root_mean_squared_error: 0.2750 - val_loss: 0.1531 - val_root_mean_squared_error: 0.3913\n",
      "Epoch 25/30\n",
      "664/668 [============================>.] - ETA: 0s - loss: 0.0747 - root_mean_squared_error: 0.2733\n",
      "Epoch 00025: val_loss did not improve from 0.13179\n",
      "668/668 [==============================] - 4s 6ms/step - loss: 0.0750 - root_mean_squared_error: 0.2738 - val_loss: 0.1560 - val_root_mean_squared_error: 0.3949\n",
      "Epoch 26/30\n",
      "666/668 [============================>.] - ETA: 0s - loss: 0.0744 - root_mean_squared_error: 0.2728\n",
      "Epoch 00026: val_loss did not improve from 0.13179\n",
      "668/668 [==============================] - 4s 6ms/step - loss: 0.0744 - root_mean_squared_error: 0.2727 - val_loss: 0.1556 - val_root_mean_squared_error: 0.3944\n",
      "Epoch 27/30\n",
      "667/668 [============================>.] - ETA: 0s - loss: 0.0742 - root_mean_squared_error: 0.2725\n",
      "Epoch 00027: val_loss did not improve from 0.13179\n",
      "668/668 [==============================] - 4s 6ms/step - loss: 0.0742 - root_mean_squared_error: 0.2724 - val_loss: 0.1541 - val_root_mean_squared_error: 0.3925\n",
      "Epoch 28/30\n",
      "662/668 [============================>.] - ETA: 0s - loss: 0.0728 - root_mean_squared_error: 0.2698\n",
      "Epoch 00028: val_loss did not improve from 0.13179\n",
      "668/668 [==============================] - 4s 6ms/step - loss: 0.0727 - root_mean_squared_error: 0.2696 - val_loss: 0.1557 - val_root_mean_squared_error: 0.3946\n",
      "Epoch 29/30\n",
      "660/668 [============================>.] - ETA: 0s - loss: 0.0722 - root_mean_squared_error: 0.2687\n",
      "Epoch 00029: val_loss did not improve from 0.13179\n",
      "668/668 [==============================] - 4s 6ms/step - loss: 0.0720 - root_mean_squared_error: 0.2683 - val_loss: 0.1586 - val_root_mean_squared_error: 0.3982\n",
      "Epoch 30/30\n",
      "666/668 [============================>.] - ETA: 0s - loss: 0.0718 - root_mean_squared_error: 0.2680\n",
      "Epoch 00030: val_loss did not improve from 0.13179\n",
      "668/668 [==============================] - 4s 6ms/step - loss: 0.0718 - root_mean_squared_error: 0.2679 - val_loss: 0.1565 - val_root_mean_squared_error: 0.3956\n"
     ]
    }
   ],
   "source": [
    "history = model.fit(X_train,\n",
    "                    y_train,\n",
    "                    batch_size=64,\n",
    "                    validation_data=(X_test, y_test),\n",
    "                    epochs=30,\n",
    "                    verbose=1,\n",
    "                    callbacks=callbacks_list)"
   ]
  },
  {
   "cell_type": "code",
   "execution_count": null,
   "metadata": {
    "colab": {},
    "colab_type": "code",
    "id": "4kLNeLN3VAyr"
   },
   "outputs": [],
   "source": [
    "model_3_camera4 = model_history('model_3_6_camera4')"
   ]
  },
  {
   "cell_type": "markdown",
   "metadata": {},
   "source": [
    "### Model 3 camera5"
   ]
  },
  {
   "cell_type": "code",
   "execution_count": null,
   "metadata": {
    "colab": {},
    "colab_type": "code",
    "id": "o-a0klfKfC5N"
   },
   "outputs": [],
   "source": [
    "model = load_model('/content/drive/My Drive/epochs/model_3_6_camera4.0030-0.1283.h5')"
   ]
  },
  {
   "cell_type": "code",
   "execution_count": null,
   "metadata": {
    "colab": {},
    "colab_type": "code",
    "id": "rcpeDikzfC5R"
   },
   "outputs": [],
   "source": [
    "X_train, X_test, y_train, y_test = train_load('camera5')"
   ]
  },
  {
   "cell_type": "code",
   "execution_count": null,
   "metadata": {
    "colab": {
     "base_uri": "https://localhost:8080/",
     "height": 34
    },
    "colab_type": "code",
    "id": "m3muLlksfC5S",
    "outputId": "81c6b50c-8015-4ad4-8551-fb6a50f60a27"
   },
   "outputs": [
    {
     "data": {
      "text/plain": [
       "((18456, 80, 160, 1), (4614, 80, 160, 1), (18456, 1), (4614, 1))"
      ]
     },
     "execution_count": 61,
     "metadata": {
      "tags": []
     },
     "output_type": "execute_result"
    }
   ],
   "source": [
    "X_train.shape, X_test.shape, y_train.shape, y_test.shape"
   ]
  },
  {
   "cell_type": "code",
   "execution_count": null,
   "metadata": {
    "colab": {},
    "colab_type": "code",
    "id": "eoRaq2lffC5X"
   },
   "outputs": [],
   "source": [
    "filepath = \"/content/drive/My Drive/epochs/model_3_7_camera5.{epoch:04d}-{val_loss:.4f}.h5\"\n",
    "checkpoint = ModelCheckpoint(filepath, monitor='val_loss', verbose=1, save_best_only=True, mode='min')\n",
    "callbacks_list = [checkpoint]"
   ]
  },
  {
   "cell_type": "code",
   "execution_count": null,
   "metadata": {
    "colab": {
     "base_uri": "https://localhost:8080/",
     "height": 1000
    },
    "colab_type": "code",
    "collapsed": true,
    "id": "QF7BlRWQfC5Z",
    "outputId": "3852e44b-d638-45e6-f3ef-fd9c5a187ded"
   },
   "outputs": [
    {
     "name": "stdout",
     "output_type": "stream",
     "text": [
      "Epoch 1/30\n",
      "284/289 [============================>.] - ETA: 0s - loss: 0.1137 - root_mean_squared_error: 0.3372\n",
      "Epoch 00001: val_loss improved from inf to 0.14154, saving model to /content/drive/My Drive/epochs/model_5_7_camera5.0001-0.1415.h5\n",
      "289/289 [==============================] - 3s 9ms/step - loss: 0.1138 - root_mean_squared_error: 0.3373 - val_loss: 0.1415 - val_root_mean_squared_error: 0.3762\n",
      "Epoch 2/30\n",
      "280/289 [============================>.] - ETA: 0s - loss: 0.1007 - root_mean_squared_error: 0.3174\n",
      "Epoch 00002: val_loss improved from 0.14154 to 0.13828, saving model to /content/drive/My Drive/epochs/model_5_7_camera5.0002-0.1383.h5\n",
      "289/289 [==============================] - 2s 7ms/step - loss: 0.0989 - root_mean_squared_error: 0.3144 - val_loss: 0.1383 - val_root_mean_squared_error: 0.3719\n",
      "Epoch 3/30\n",
      "282/289 [============================>.] - ETA: 0s - loss: 0.0961 - root_mean_squared_error: 0.3100\n",
      "Epoch 00003: val_loss improved from 0.13828 to 0.13581, saving model to /content/drive/My Drive/epochs/model_5_7_camera5.0003-0.1358.h5\n",
      "289/289 [==============================] - 2s 7ms/step - loss: 0.0947 - root_mean_squared_error: 0.3078 - val_loss: 0.1358 - val_root_mean_squared_error: 0.3685\n",
      "Epoch 4/30\n",
      "286/289 [============================>.] - ETA: 0s - loss: 0.0917 - root_mean_squared_error: 0.3028\n",
      "Epoch 00004: val_loss improved from 0.13581 to 0.13488, saving model to /content/drive/My Drive/epochs/model_5_7_camera5.0004-0.1349.h5\n",
      "289/289 [==============================] - 2s 7ms/step - loss: 0.0913 - root_mean_squared_error: 0.3022 - val_loss: 0.1349 - val_root_mean_squared_error: 0.3673\n",
      "Epoch 5/30\n",
      "285/289 [============================>.] - ETA: 0s - loss: 0.0865 - root_mean_squared_error: 0.2941\n",
      "Epoch 00005: val_loss improved from 0.13488 to 0.13354, saving model to /content/drive/My Drive/epochs/model_5_7_camera5.0005-0.1335.h5\n",
      "289/289 [==============================] - 2s 7ms/step - loss: 0.0880 - root_mean_squared_error: 0.2967 - val_loss: 0.1335 - val_root_mean_squared_error: 0.3654\n",
      "Epoch 6/30\n",
      "287/289 [============================>.] - ETA: 0s - loss: 0.0855 - root_mean_squared_error: 0.2924\n",
      "Epoch 00006: val_loss improved from 0.13354 to 0.13233, saving model to /content/drive/My Drive/epochs/model_5_7_camera5.0006-0.1323.h5\n",
      "289/289 [==============================] - 2s 7ms/step - loss: 0.0852 - root_mean_squared_error: 0.2920 - val_loss: 0.1323 - val_root_mean_squared_error: 0.3638\n",
      "Epoch 7/30\n",
      "282/289 [============================>.] - ETA: 0s - loss: 0.0833 - root_mean_squared_error: 0.2887\n",
      "Epoch 00007: val_loss did not improve from 0.13233\n",
      "289/289 [==============================] - 2s 7ms/step - loss: 0.0824 - root_mean_squared_error: 0.2871 - val_loss: 0.1324 - val_root_mean_squared_error: 0.3638\n",
      "Epoch 8/30\n",
      "288/289 [============================>.] - ETA: 0s - loss: 0.0803 - root_mean_squared_error: 0.2834\n",
      "Epoch 00008: val_loss improved from 0.13233 to 0.13203, saving model to /content/drive/My Drive/epochs/model_5_7_camera5.0008-0.1320.h5\n",
      "289/289 [==============================] - 2s 7ms/step - loss: 0.0802 - root_mean_squared_error: 0.2833 - val_loss: 0.1320 - val_root_mean_squared_error: 0.3634\n",
      "Epoch 9/30\n",
      "285/289 [============================>.] - ETA: 0s - loss: 0.0789 - root_mean_squared_error: 0.2810\n",
      "Epoch 00009: val_loss did not improve from 0.13203\n",
      "289/289 [==============================] - 2s 7ms/step - loss: 0.0783 - root_mean_squared_error: 0.2798 - val_loss: 0.1333 - val_root_mean_squared_error: 0.3651\n",
      "Epoch 10/30\n",
      "282/289 [============================>.] - ETA: 0s - loss: 0.0761 - root_mean_squared_error: 0.2759\n",
      "Epoch 00010: val_loss did not improve from 0.13203\n",
      "289/289 [==============================] - 2s 7ms/step - loss: 0.0766 - root_mean_squared_error: 0.2767 - val_loss: 0.1328 - val_root_mean_squared_error: 0.3645\n",
      "Epoch 11/30\n",
      "283/289 [============================>.] - ETA: 0s - loss: 0.0749 - root_mean_squared_error: 0.2737\n",
      "Epoch 00011: val_loss did not improve from 0.13203\n",
      "289/289 [==============================] - 2s 6ms/step - loss: 0.0745 - root_mean_squared_error: 0.2730 - val_loss: 0.1334 - val_root_mean_squared_error: 0.3652\n",
      "Epoch 12/30\n",
      "281/289 [============================>.] - ETA: 0s - loss: 0.0741 - root_mean_squared_error: 0.2722\n",
      "Epoch 00012: val_loss did not improve from 0.13203\n",
      "289/289 [==============================] - 2s 7ms/step - loss: 0.0733 - root_mean_squared_error: 0.2707 - val_loss: 0.1348 - val_root_mean_squared_error: 0.3671\n",
      "Epoch 13/30\n",
      "281/289 [============================>.] - ETA: 0s - loss: 0.0726 - root_mean_squared_error: 0.2694\n",
      "Epoch 00013: val_loss did not improve from 0.13203\n",
      "289/289 [==============================] - 2s 7ms/step - loss: 0.0717 - root_mean_squared_error: 0.2678 - val_loss: 0.1362 - val_root_mean_squared_error: 0.3691\n",
      "Epoch 14/30\n",
      "289/289 [==============================] - ETA: 0s - loss: 0.0705 - root_mean_squared_error: 0.2656\n",
      "Epoch 00014: val_loss did not improve from 0.13203\n",
      "289/289 [==============================] - 2s 6ms/step - loss: 0.0705 - root_mean_squared_error: 0.2656 - val_loss: 0.1346 - val_root_mean_squared_error: 0.3669\n",
      "Epoch 15/30\n",
      "286/289 [============================>.] - ETA: 0s - loss: 0.0688 - root_mean_squared_error: 0.2624\n",
      "Epoch 00015: val_loss did not improve from 0.13203\n",
      "289/289 [==============================] - 2s 6ms/step - loss: 0.0693 - root_mean_squared_error: 0.2632 - val_loss: 0.1353 - val_root_mean_squared_error: 0.3679\n",
      "Epoch 16/30\n",
      "287/289 [============================>.] - ETA: 0s - loss: 0.0683 - root_mean_squared_error: 0.2613\n",
      "Epoch 00016: val_loss did not improve from 0.13203\n",
      "289/289 [==============================] - 2s 6ms/step - loss: 0.0681 - root_mean_squared_error: 0.2609 - val_loss: 0.1347 - val_root_mean_squared_error: 0.3670\n",
      "Epoch 17/30\n",
      "282/289 [============================>.] - ETA: 0s - loss: 0.0675 - root_mean_squared_error: 0.2597\n",
      "Epoch 00017: val_loss did not improve from 0.13203\n",
      "289/289 [==============================] - 2s 7ms/step - loss: 0.0675 - root_mean_squared_error: 0.2599 - val_loss: 0.1348 - val_root_mean_squared_error: 0.3672\n",
      "Epoch 18/30\n",
      "288/289 [============================>.] - ETA: 0s - loss: 0.0660 - root_mean_squared_error: 0.2570\n",
      "Epoch 00018: val_loss did not improve from 0.13203\n",
      "289/289 [==============================] - 2s 6ms/step - loss: 0.0660 - root_mean_squared_error: 0.2569 - val_loss: 0.1341 - val_root_mean_squared_error: 0.3661\n",
      "Epoch 19/30\n",
      "288/289 [============================>.] - ETA: 0s - loss: 0.0648 - root_mean_squared_error: 0.2546\n",
      "Epoch 00019: val_loss did not improve from 0.13203\n",
      "289/289 [==============================] - 2s 6ms/step - loss: 0.0648 - root_mean_squared_error: 0.2545 - val_loss: 0.1352 - val_root_mean_squared_error: 0.3677\n",
      "Epoch 20/30\n",
      "283/289 [============================>.] - ETA: 0s - loss: 0.0644 - root_mean_squared_error: 0.2538\n",
      "Epoch 00020: val_loss did not improve from 0.13203\n",
      "289/289 [==============================] - 2s 6ms/step - loss: 0.0642 - root_mean_squared_error: 0.2534 - val_loss: 0.1348 - val_root_mean_squared_error: 0.3671\n",
      "Epoch 21/30\n",
      "284/289 [============================>.] - ETA: 0s - loss: 0.0626 - root_mean_squared_error: 0.2501\n",
      "Epoch 00021: val_loss did not improve from 0.13203\n",
      "289/289 [==============================] - 2s 6ms/step - loss: 0.0638 - root_mean_squared_error: 0.2527 - val_loss: 0.1362 - val_root_mean_squared_error: 0.3690\n",
      "Epoch 22/30\n",
      "280/289 [============================>.] - ETA: 0s - loss: 0.0634 - root_mean_squared_error: 0.2517\n",
      "Epoch 00022: val_loss did not improve from 0.13203\n",
      "289/289 [==============================] - 2s 6ms/step - loss: 0.0630 - root_mean_squared_error: 0.2509 - val_loss: 0.1380 - val_root_mean_squared_error: 0.3715\n",
      "Epoch 23/30\n",
      "289/289 [==============================] - ETA: 0s - loss: 0.0617 - root_mean_squared_error: 0.2484\n",
      "Epoch 00023: val_loss did not improve from 0.13203\n",
      "289/289 [==============================] - 2s 6ms/step - loss: 0.0617 - root_mean_squared_error: 0.2484 - val_loss: 0.1360 - val_root_mean_squared_error: 0.3688\n",
      "Epoch 24/30\n",
      "287/289 [============================>.] - ETA: 0s - loss: 0.0619 - root_mean_squared_error: 0.2487\n",
      "Epoch 00024: val_loss did not improve from 0.13203\n",
      "289/289 [==============================] - 2s 6ms/step - loss: 0.0619 - root_mean_squared_error: 0.2489 - val_loss: 0.1379 - val_root_mean_squared_error: 0.3713\n",
      "Epoch 25/30\n",
      "282/289 [============================>.] - ETA: 0s - loss: 0.0601 - root_mean_squared_error: 0.2452\n",
      "Epoch 00025: val_loss did not improve from 0.13203\n",
      "289/289 [==============================] - 2s 7ms/step - loss: 0.0609 - root_mean_squared_error: 0.2468 - val_loss: 0.1372 - val_root_mean_squared_error: 0.3705\n",
      "Epoch 26/30\n",
      "287/289 [============================>.] - ETA: 0s - loss: 0.0600 - root_mean_squared_error: 0.2449\n",
      "Epoch 00026: val_loss did not improve from 0.13203\n",
      "289/289 [==============================] - 2s 6ms/step - loss: 0.0602 - root_mean_squared_error: 0.2453 - val_loss: 0.1382 - val_root_mean_squared_error: 0.3718\n",
      "Epoch 27/30\n",
      "282/289 [============================>.] - ETA: 0s - loss: 0.0591 - root_mean_squared_error: 0.2430\n",
      "Epoch 00027: val_loss did not improve from 0.13203\n",
      "289/289 [==============================] - 2s 7ms/step - loss: 0.0591 - root_mean_squared_error: 0.2432 - val_loss: 0.1388 - val_root_mean_squared_error: 0.3725\n",
      "Epoch 28/30\n",
      "280/289 [============================>.] - ETA: 0s - loss: 0.0599 - root_mean_squared_error: 0.2447\n",
      "Epoch 00028: val_loss did not improve from 0.13203\n",
      "289/289 [==============================] - 2s 6ms/step - loss: 0.0599 - root_mean_squared_error: 0.2448 - val_loss: 0.1400 - val_root_mean_squared_error: 0.3742\n",
      "Epoch 29/30\n",
      "285/289 [============================>.] - ETA: 0s - loss: 0.0583 - root_mean_squared_error: 0.2414\n",
      "Epoch 00029: val_loss did not improve from 0.13203\n",
      "289/289 [==============================] - 2s 6ms/step - loss: 0.0581 - root_mean_squared_error: 0.2410 - val_loss: 0.1395 - val_root_mean_squared_error: 0.3735\n",
      "Epoch 30/30\n",
      "289/289 [==============================] - ETA: 0s - loss: 0.0577 - root_mean_squared_error: 0.2402\n",
      "Epoch 00030: val_loss did not improve from 0.13203\n",
      "289/289 [==============================] - 2s 6ms/step - loss: 0.0577 - root_mean_squared_error: 0.2402 - val_loss: 0.1403 - val_root_mean_squared_error: 0.3745\n"
     ]
    }
   ],
   "source": [
    "history = model.fit(X_train,\n",
    "                    y_train,\n",
    "                    batch_size=64,\n",
    "                    validation_data=(X_test, y_test),\n",
    "                    epochs=30,\n",
    "                    verbose=1,\n",
    "                    callbacks=callbacks_list)"
   ]
  },
  {
   "cell_type": "code",
   "execution_count": null,
   "metadata": {
    "colab": {},
    "colab_type": "code",
    "id": "iF_wqM0MfC5i"
   },
   "outputs": [],
   "source": [
    "model_3_camera5 = model_history('model_3_7_camera5')"
   ]
  },
  {
   "cell_type": "markdown",
   "metadata": {},
   "source": [
    "### Model 3 camera6"
   ]
  },
  {
   "cell_type": "code",
   "execution_count": null,
   "metadata": {
    "colab": {},
    "colab_type": "code",
    "id": "96PnLEU1fYmd"
   },
   "outputs": [],
   "source": [
    "model = load_model('/content/drive/My Drive/epochs/model_3_7_camera5.0028-0.1441.h5')"
   ]
  },
  {
   "cell_type": "code",
   "execution_count": null,
   "metadata": {
    "colab": {},
    "colab_type": "code",
    "id": "hUABU74QfYmh"
   },
   "outputs": [],
   "source": [
    "X_train, X_test, y_train, y_test = train_load('camera6')"
   ]
  },
  {
   "cell_type": "code",
   "execution_count": null,
   "metadata": {
    "colab": {
     "base_uri": "https://localhost:8080/",
     "height": 34
    },
    "colab_type": "code",
    "id": "Z2mXnyUFfYmj",
    "outputId": "37ad6f54-44e0-4db6-cea6-bd76de3aa90b"
   },
   "outputs": [
    {
     "data": {
      "text/plain": [
       "((66002, 80, 160, 1), (16501, 80, 160, 1), (66002, 1), (16501, 1))"
      ]
     },
     "execution_count": 73,
     "metadata": {
      "tags": []
     },
     "output_type": "execute_result"
    }
   ],
   "source": [
    "X_train.shape, X_test.shape, y_train.shape, y_test.shape"
   ]
  },
  {
   "cell_type": "code",
   "execution_count": null,
   "metadata": {
    "colab": {},
    "colab_type": "code",
    "id": "F3UXNnGcfYmk"
   },
   "outputs": [],
   "source": [
    "filepath = \"/content/drive/My Drive/epochs/model_3_8_camera6.{epoch:04d}-{val_loss:.4f}.h5\"\n",
    "checkpoint = ModelCheckpoint(filepath, monitor='val_loss', verbose=1, save_best_only=True, mode='min')\n",
    "callbacks_list = [checkpoint]"
   ]
  },
  {
   "cell_type": "code",
   "execution_count": null,
   "metadata": {
    "colab": {
     "base_uri": "https://localhost:8080/",
     "height": 1000
    },
    "colab_type": "code",
    "collapsed": true,
    "id": "PN0zBMsNfYmm",
    "outputId": "cea9d51d-e3ca-4e14-905a-087480c6dd55"
   },
   "outputs": [
    {
     "name": "stdout",
     "output_type": "stream",
     "text": [
      "Epoch 1/30\n",
      "1026/1032 [============================>.] - ETA: 0s - loss: 0.0761 - root_mean_squared_error: 0.2759\n",
      "Epoch 00001: val_loss improved from inf to 0.07317, saving model to /content/drive/My Drive/epochs/model_5_8_camera6.0001-0.0732.h5\n",
      "1032/1032 [==============================] - 7s 7ms/step - loss: 0.0763 - root_mean_squared_error: 0.2762 - val_loss: 0.0732 - val_root_mean_squared_error: 0.2705\n",
      "Epoch 2/30\n",
      "1030/1032 [============================>.] - ETA: 0s - loss: 0.0690 - root_mean_squared_error: 0.2626\n",
      "Epoch 00002: val_loss improved from 0.07317 to 0.07173, saving model to /content/drive/My Drive/epochs/model_5_8_camera6.0002-0.0717.h5\n",
      "1032/1032 [==============================] - 7s 7ms/step - loss: 0.0689 - root_mean_squared_error: 0.2624 - val_loss: 0.0717 - val_root_mean_squared_error: 0.2678\n",
      "Epoch 3/30\n",
      "1029/1032 [============================>.] - ETA: 0s - loss: 0.0656 - root_mean_squared_error: 0.2561\n",
      "Epoch 00003: val_loss improved from 0.07173 to 0.07048, saving model to /content/drive/My Drive/epochs/model_5_8_camera6.0003-0.0705.h5\n",
      "1032/1032 [==============================] - 7s 7ms/step - loss: 0.0656 - root_mean_squared_error: 0.2561 - val_loss: 0.0705 - val_root_mean_squared_error: 0.2655\n",
      "Epoch 4/30\n",
      "1032/1032 [==============================] - ETA: 0s - loss: 0.0640 - root_mean_squared_error: 0.2531\n",
      "Epoch 00004: val_loss improved from 0.07048 to 0.07029, saving model to /content/drive/My Drive/epochs/model_5_8_camera6.0004-0.0703.h5\n",
      "1032/1032 [==============================] - 7s 7ms/step - loss: 0.0640 - root_mean_squared_error: 0.2531 - val_loss: 0.0703 - val_root_mean_squared_error: 0.2651\n",
      "Epoch 5/30\n",
      "1030/1032 [============================>.] - ETA: 0s - loss: 0.0626 - root_mean_squared_error: 0.2502\n",
      "Epoch 00005: val_loss did not improve from 0.07029\n",
      "1032/1032 [==============================] - 7s 7ms/step - loss: 0.0627 - root_mean_squared_error: 0.2504 - val_loss: 0.0705 - val_root_mean_squared_error: 0.2655\n",
      "Epoch 6/30\n",
      "1023/1032 [============================>.] - ETA: 0s - loss: 0.0617 - root_mean_squared_error: 0.2484\n",
      "Epoch 00006: val_loss did not improve from 0.07029\n",
      "1032/1032 [==============================] - 7s 7ms/step - loss: 0.0619 - root_mean_squared_error: 0.2487 - val_loss: 0.0717 - val_root_mean_squared_error: 0.2678\n",
      "Epoch 7/30\n",
      "1025/1032 [============================>.] - ETA: 0s - loss: 0.0613 - root_mean_squared_error: 0.2475\n",
      "Epoch 00007: val_loss did not improve from 0.07029\n",
      "1032/1032 [==============================] - 7s 6ms/step - loss: 0.0611 - root_mean_squared_error: 0.2472 - val_loss: 0.0716 - val_root_mean_squared_error: 0.2675\n",
      "Epoch 8/30\n",
      "1028/1032 [============================>.] - ETA: 0s - loss: 0.0608 - root_mean_squared_error: 0.2466\n",
      "Epoch 00008: val_loss did not improve from 0.07029\n",
      "1032/1032 [==============================] - 7s 7ms/step - loss: 0.0607 - root_mean_squared_error: 0.2464 - val_loss: 0.0712 - val_root_mean_squared_error: 0.2668\n",
      "Epoch 9/30\n",
      "1027/1032 [============================>.] - ETA: 0s - loss: 0.0601 - root_mean_squared_error: 0.2451\n",
      "Epoch 00009: val_loss did not improve from 0.07029\n",
      "1032/1032 [==============================] - 7s 6ms/step - loss: 0.0600 - root_mean_squared_error: 0.2449 - val_loss: 0.0711 - val_root_mean_squared_error: 0.2666\n",
      "Epoch 10/30\n",
      "1032/1032 [==============================] - ETA: 0s - loss: 0.0597 - root_mean_squared_error: 0.2444\n",
      "Epoch 00010: val_loss did not improve from 0.07029\n",
      "1032/1032 [==============================] - 7s 6ms/step - loss: 0.0597 - root_mean_squared_error: 0.2444 - val_loss: 0.0716 - val_root_mean_squared_error: 0.2676\n",
      "Epoch 11/30\n",
      "1030/1032 [============================>.] - ETA: 0s - loss: 0.0592 - root_mean_squared_error: 0.2434\n",
      "Epoch 00011: val_loss did not improve from 0.07029\n",
      "1032/1032 [==============================] - 7s 6ms/step - loss: 0.0592 - root_mean_squared_error: 0.2433 - val_loss: 0.0736 - val_root_mean_squared_error: 0.2713\n",
      "Epoch 12/30\n",
      "1027/1032 [============================>.] - ETA: 0s - loss: 0.0592 - root_mean_squared_error: 0.2432\n",
      "Epoch 00012: val_loss did not improve from 0.07029\n",
      "1032/1032 [==============================] - 7s 6ms/step - loss: 0.0590 - root_mean_squared_error: 0.2429 - val_loss: 0.0718 - val_root_mean_squared_error: 0.2680\n",
      "Epoch 13/30\n",
      "1031/1032 [============================>.] - ETA: 0s - loss: 0.0589 - root_mean_squared_error: 0.2426\n",
      "Epoch 00013: val_loss did not improve from 0.07029\n",
      "1032/1032 [==============================] - 7s 6ms/step - loss: 0.0589 - root_mean_squared_error: 0.2426 - val_loss: 0.0727 - val_root_mean_squared_error: 0.2696\n",
      "Epoch 14/30\n",
      "1029/1032 [============================>.] - ETA: 0s - loss: 0.0587 - root_mean_squared_error: 0.2422\n",
      "Epoch 00014: val_loss did not improve from 0.07029\n",
      "1032/1032 [==============================] - 7s 6ms/step - loss: 0.0586 - root_mean_squared_error: 0.2420 - val_loss: 0.0732 - val_root_mean_squared_error: 0.2706\n",
      "Epoch 15/30\n",
      "1025/1032 [============================>.] - ETA: 0s - loss: 0.0581 - root_mean_squared_error: 0.2410\n",
      "Epoch 00015: val_loss did not improve from 0.07029\n",
      "1032/1032 [==============================] - 7s 6ms/step - loss: 0.0579 - root_mean_squared_error: 0.2407 - val_loss: 0.0736 - val_root_mean_squared_error: 0.2713\n",
      "Epoch 16/30\n",
      "1024/1032 [============================>.] - ETA: 0s - loss: 0.0580 - root_mean_squared_error: 0.2409\n",
      "Epoch 00016: val_loss did not improve from 0.07029\n",
      "1032/1032 [==============================] - 7s 6ms/step - loss: 0.0579 - root_mean_squared_error: 0.2407 - val_loss: 0.0742 - val_root_mean_squared_error: 0.2723\n",
      "Epoch 17/30\n",
      "1027/1032 [============================>.] - ETA: 0s - loss: 0.0578 - root_mean_squared_error: 0.2404\n",
      "Epoch 00017: val_loss did not improve from 0.07029\n",
      "1032/1032 [==============================] - 7s 7ms/step - loss: 0.0577 - root_mean_squared_error: 0.2403 - val_loss: 0.0730 - val_root_mean_squared_error: 0.2701\n",
      "Epoch 18/30\n",
      "1027/1032 [============================>.] - ETA: 0s - loss: 0.0578 - root_mean_squared_error: 0.2404\n",
      "Epoch 00018: val_loss did not improve from 0.07029\n",
      "1032/1032 [==============================] - 7s 6ms/step - loss: 0.0577 - root_mean_squared_error: 0.2402 - val_loss: 0.0731 - val_root_mean_squared_error: 0.2703\n",
      "Epoch 19/30\n",
      "1028/1032 [============================>.] - ETA: 0s - loss: 0.0574 - root_mean_squared_error: 0.2395\n",
      "Epoch 00019: val_loss did not improve from 0.07029\n",
      "1032/1032 [==============================] - 7s 6ms/step - loss: 0.0573 - root_mean_squared_error: 0.2393 - val_loss: 0.0734 - val_root_mean_squared_error: 0.2710\n",
      "Epoch 20/30\n",
      "1025/1032 [============================>.] - ETA: 0s - loss: 0.0572 - root_mean_squared_error: 0.2391\n",
      "Epoch 00020: val_loss did not improve from 0.07029\n",
      "1032/1032 [==============================] - 7s 6ms/step - loss: 0.0574 - root_mean_squared_error: 0.2395 - val_loss: 0.0752 - val_root_mean_squared_error: 0.2742\n",
      "Epoch 21/30\n",
      "1031/1032 [============================>.] - ETA: 0s - loss: 0.0570 - root_mean_squared_error: 0.2387\n",
      "Epoch 00021: val_loss did not improve from 0.07029\n",
      "1032/1032 [==============================] - 7s 7ms/step - loss: 0.0570 - root_mean_squared_error: 0.2387 - val_loss: 0.0740 - val_root_mean_squared_error: 0.2721\n",
      "Epoch 22/30\n",
      "1027/1032 [============================>.] - ETA: 0s - loss: 0.0569 - root_mean_squared_error: 0.2385\n",
      "Epoch 00022: val_loss did not improve from 0.07029\n",
      "1032/1032 [==============================] - 7s 7ms/step - loss: 0.0568 - root_mean_squared_error: 0.2384 - val_loss: 0.0739 - val_root_mean_squared_error: 0.2719\n",
      "Epoch 23/30\n",
      "1030/1032 [============================>.] - ETA: 0s - loss: 0.0566 - root_mean_squared_error: 0.2379\n",
      "Epoch 00023: val_loss did not improve from 0.07029\n",
      "1032/1032 [==============================] - 7s 7ms/step - loss: 0.0568 - root_mean_squared_error: 0.2384 - val_loss: 0.0745 - val_root_mean_squared_error: 0.2729\n",
      "Epoch 24/30\n",
      "1025/1032 [============================>.] - ETA: 0s - loss: 0.0562 - root_mean_squared_error: 0.2371\n",
      "Epoch 00024: val_loss did not improve from 0.07029\n",
      "1032/1032 [==============================] - 7s 7ms/step - loss: 0.0566 - root_mean_squared_error: 0.2379 - val_loss: 0.0748 - val_root_mean_squared_error: 0.2736\n",
      "Epoch 25/30\n",
      "1031/1032 [============================>.] - ETA: 0s - loss: 0.0564 - root_mean_squared_error: 0.2375\n",
      "Epoch 00025: val_loss did not improve from 0.07029\n",
      "1032/1032 [==============================] - 7s 6ms/step - loss: 0.0564 - root_mean_squared_error: 0.2374 - val_loss: 0.0766 - val_root_mean_squared_error: 0.2768\n",
      "Epoch 26/30\n",
      "1027/1032 [============================>.] - ETA: 0s - loss: 0.0558 - root_mean_squared_error: 0.2362\n",
      "Epoch 00026: val_loss did not improve from 0.07029\n",
      "1032/1032 [==============================] - 7s 6ms/step - loss: 0.0562 - root_mean_squared_error: 0.2370 - val_loss: 0.0744 - val_root_mean_squared_error: 0.2728\n",
      "Epoch 27/30\n",
      "1024/1032 [============================>.] - ETA: 0s - loss: 0.0562 - root_mean_squared_error: 0.2371\n",
      "Epoch 00027: val_loss did not improve from 0.07029\n",
      "1032/1032 [==============================] - 7s 6ms/step - loss: 0.0560 - root_mean_squared_error: 0.2367 - val_loss: 0.0758 - val_root_mean_squared_error: 0.2753\n",
      "Epoch 28/30\n",
      "1027/1032 [============================>.] - ETA: 0s - loss: 0.0561 - root_mean_squared_error: 0.2369\n",
      "Epoch 00028: val_loss did not improve from 0.07029\n",
      "1032/1032 [==============================] - 7s 6ms/step - loss: 0.0560 - root_mean_squared_error: 0.2366 - val_loss: 0.0744 - val_root_mean_squared_error: 0.2727\n",
      "Epoch 29/30\n",
      "1031/1032 [============================>.] - ETA: 0s - loss: 0.0560 - root_mean_squared_error: 0.2367\n",
      "Epoch 00029: val_loss did not improve from 0.07029\n",
      "1032/1032 [==============================] - 7s 7ms/step - loss: 0.0560 - root_mean_squared_error: 0.2367 - val_loss: 0.0747 - val_root_mean_squared_error: 0.2733\n",
      "Epoch 30/30\n",
      "1032/1032 [==============================] - ETA: 0s - loss: 0.0556 - root_mean_squared_error: 0.2359\n",
      "Epoch 00030: val_loss did not improve from 0.07029\n",
      "1032/1032 [==============================] - 7s 6ms/step - loss: 0.0556 - root_mean_squared_error: 0.2359 - val_loss: 0.0753 - val_root_mean_squared_error: 0.2744\n"
     ]
    }
   ],
   "source": [
    "history = model.fit(X_train,\n",
    "                    y_train,\n",
    "                    batch_size=64,\n",
    "                    validation_data=(X_test, y_test),\n",
    "                    epochs=30,\n",
    "                    verbose=1,\n",
    "                    callbacks=callbacks_list)"
   ]
  },
  {
   "cell_type": "code",
   "execution_count": null,
   "metadata": {
    "colab": {},
    "colab_type": "code",
    "id": "k4WyYU5OfYmt"
   },
   "outputs": [],
   "source": [
    "model_3_camera6 = model_history('model_3_8_camera6')"
   ]
  },
  {
   "cell_type": "markdown",
   "metadata": {},
   "source": [
    "### Model 3 camera7"
   ]
  },
  {
   "cell_type": "code",
   "execution_count": null,
   "metadata": {
    "colab": {},
    "colab_type": "code",
    "id": "LfvqwriggALb"
   },
   "outputs": [],
   "source": [
    "model = load_model('/content/drive/My Drive/epochs/model_3_8_camera6.0016-0.0756.h5')"
   ]
  },
  {
   "cell_type": "code",
   "execution_count": null,
   "metadata": {
    "colab": {},
    "colab_type": "code",
    "id": "eLWXRBbjgALg"
   },
   "outputs": [],
   "source": [
    "X_train, X_test, y_train, y_test = train_load('camera7')"
   ]
  },
  {
   "cell_type": "code",
   "execution_count": null,
   "metadata": {
    "colab": {
     "base_uri": "https://localhost:8080/",
     "height": 34
    },
    "colab_type": "code",
    "id": "UZlGuVkugALh",
    "outputId": "e69cf6df-f235-400a-f004-bbe511417975"
   },
   "outputs": [
    {
     "data": {
      "text/plain": [
       "((59248, 80, 160, 1), (14812, 80, 160, 1), (59248, 1), (14812, 1))"
      ]
     },
     "execution_count": 85,
     "metadata": {
      "tags": []
     },
     "output_type": "execute_result"
    }
   ],
   "source": [
    "X_train.shape, X_test.shape, y_train.shape, y_test.shape"
   ]
  },
  {
   "cell_type": "code",
   "execution_count": null,
   "metadata": {
    "colab": {},
    "colab_type": "code",
    "id": "-G2Rj2ZjgALj"
   },
   "outputs": [],
   "source": [
    "filepath = \"/content/drive/My Drive/epochs/model_3_9_camera7.{epoch:04d}-{val_loss:.4f}.h5\"\n",
    "checkpoint = ModelCheckpoint(filepath, monitor='val_loss', verbose=1, save_best_only=True, mode='min')\n",
    "callbacks_list = [checkpoint]"
   ]
  },
  {
   "cell_type": "code",
   "execution_count": null,
   "metadata": {
    "colab": {
     "base_uri": "https://localhost:8080/",
     "height": 1000
    },
    "colab_type": "code",
    "collapsed": true,
    "id": "ShKMN-jqgALk",
    "outputId": "0e3aedaa-8398-46de-b685-03f805bb7914"
   },
   "outputs": [
    {
     "name": "stdout",
     "output_type": "stream",
     "text": [
      "Epoch 1/30\n",
      "926/926 [==============================] - ETA: 0s - loss: 0.0390 - root_mean_squared_error: 0.1975\n",
      "Epoch 00001: val_loss improved from inf to 0.03959, saving model to /content/drive/My Drive/epochs/model_5_9_camera7.0001-0.0396.h5\n",
      "926/926 [==============================] - 6s 7ms/step - loss: 0.0390 - root_mean_squared_error: 0.1975 - val_loss: 0.0396 - val_root_mean_squared_error: 0.1990\n",
      "Epoch 2/30\n",
      "921/926 [============================>.] - ETA: 0s - loss: 0.0349 - root_mean_squared_error: 0.1869\n",
      "Epoch 00002: val_loss improved from 0.03959 to 0.03933, saving model to /content/drive/My Drive/epochs/model_5_9_camera7.0002-0.0393.h5\n",
      "926/926 [==============================] - 6s 7ms/step - loss: 0.0349 - root_mean_squared_error: 0.1869 - val_loss: 0.0393 - val_root_mean_squared_error: 0.1983\n",
      "Epoch 3/30\n",
      "920/926 [============================>.] - ETA: 0s - loss: 0.0340 - root_mean_squared_error: 0.1845\n",
      "Epoch 00003: val_loss improved from 0.03933 to 0.03911, saving model to /content/drive/My Drive/epochs/model_5_9_camera7.0003-0.0391.h5\n",
      "926/926 [==============================] - 6s 7ms/step - loss: 0.0341 - root_mean_squared_error: 0.1846 - val_loss: 0.0391 - val_root_mean_squared_error: 0.1978\n",
      "Epoch 4/30\n",
      "918/926 [============================>.] - ETA: 0s - loss: 0.0336 - root_mean_squared_error: 0.1832\n",
      "Epoch 00004: val_loss improved from 0.03911 to 0.03889, saving model to /content/drive/My Drive/epochs/model_5_9_camera7.0004-0.0389.h5\n",
      "926/926 [==============================] - 6s 7ms/step - loss: 0.0334 - root_mean_squared_error: 0.1827 - val_loss: 0.0389 - val_root_mean_squared_error: 0.1972\n",
      "Epoch 5/30\n",
      "920/926 [============================>.] - ETA: 0s - loss: 0.0326 - root_mean_squared_error: 0.1804\n",
      "Epoch 00005: val_loss did not improve from 0.03889\n",
      "926/926 [==============================] - 6s 7ms/step - loss: 0.0327 - root_mean_squared_error: 0.1808 - val_loss: 0.0391 - val_root_mean_squared_error: 0.1977\n",
      "Epoch 6/30\n",
      "923/926 [============================>.] - ETA: 0s - loss: 0.0323 - root_mean_squared_error: 0.1797\n",
      "Epoch 00006: val_loss did not improve from 0.03889\n",
      "926/926 [==============================] - 6s 7ms/step - loss: 0.0322 - root_mean_squared_error: 0.1795 - val_loss: 0.0395 - val_root_mean_squared_error: 0.1986\n",
      "Epoch 7/30\n",
      "923/926 [============================>.] - ETA: 0s - loss: 0.0319 - root_mean_squared_error: 0.1785\n",
      "Epoch 00007: val_loss did not improve from 0.03889\n",
      "926/926 [==============================] - 6s 7ms/step - loss: 0.0320 - root_mean_squared_error: 0.1788 - val_loss: 0.0392 - val_root_mean_squared_error: 0.1980\n",
      "Epoch 8/30\n",
      "924/926 [============================>.] - ETA: 0s - loss: 0.0312 - root_mean_squared_error: 0.1766\n",
      "Epoch 00008: val_loss did not improve from 0.03889\n",
      "926/926 [==============================] - 6s 7ms/step - loss: 0.0315 - root_mean_squared_error: 0.1776 - val_loss: 0.0396 - val_root_mean_squared_error: 0.1990\n",
      "Epoch 9/30\n",
      "926/926 [==============================] - ETA: 0s - loss: 0.0313 - root_mean_squared_error: 0.1769\n",
      "Epoch 00009: val_loss did not improve from 0.03889\n",
      "926/926 [==============================] - 6s 7ms/step - loss: 0.0313 - root_mean_squared_error: 0.1769 - val_loss: 0.0398 - val_root_mean_squared_error: 0.1996\n",
      "Epoch 10/30\n",
      "923/926 [============================>.] - ETA: 0s - loss: 0.0309 - root_mean_squared_error: 0.1759\n",
      "Epoch 00010: val_loss did not improve from 0.03889\n",
      "926/926 [==============================] - 6s 7ms/step - loss: 0.0309 - root_mean_squared_error: 0.1759 - val_loss: 0.0395 - val_root_mean_squared_error: 0.1988\n",
      "Epoch 11/30\n",
      "919/926 [============================>.] - ETA: 0s - loss: 0.0306 - root_mean_squared_error: 0.1749\n",
      "Epoch 00011: val_loss did not improve from 0.03889\n",
      "926/926 [==============================] - 6s 7ms/step - loss: 0.0307 - root_mean_squared_error: 0.1753 - val_loss: 0.0398 - val_root_mean_squared_error: 0.1995\n",
      "Epoch 12/30\n",
      "921/926 [============================>.] - ETA: 0s - loss: 0.0307 - root_mean_squared_error: 0.1752\n",
      "Epoch 00012: val_loss did not improve from 0.03889\n",
      "926/926 [==============================] - 6s 7ms/step - loss: 0.0306 - root_mean_squared_error: 0.1749 - val_loss: 0.0401 - val_root_mean_squared_error: 0.2002\n",
      "Epoch 13/30\n",
      "918/926 [============================>.] - ETA: 0s - loss: 0.0303 - root_mean_squared_error: 0.1741\n",
      "Epoch 00013: val_loss did not improve from 0.03889\n",
      "926/926 [==============================] - 6s 7ms/step - loss: 0.0302 - root_mean_squared_error: 0.1739 - val_loss: 0.0400 - val_root_mean_squared_error: 0.2000\n",
      "Epoch 14/30\n",
      "922/926 [============================>.] - ETA: 0s - loss: 0.0301 - root_mean_squared_error: 0.1735\n",
      "Epoch 00014: val_loss did not improve from 0.03889\n",
      "926/926 [==============================] - 6s 6ms/step - loss: 0.0301 - root_mean_squared_error: 0.1734 - val_loss: 0.0402 - val_root_mean_squared_error: 0.2005\n",
      "Epoch 15/30\n",
      "922/926 [============================>.] - ETA: 0s - loss: 0.0299 - root_mean_squared_error: 0.1728\n",
      "Epoch 00015: val_loss did not improve from 0.03889\n",
      "926/926 [==============================] - 6s 7ms/step - loss: 0.0299 - root_mean_squared_error: 0.1728 - val_loss: 0.0405 - val_root_mean_squared_error: 0.2012\n",
      "Epoch 16/30\n",
      "917/926 [============================>.] - ETA: 0s - loss: 0.0297 - root_mean_squared_error: 0.1724\n",
      "Epoch 00016: val_loss did not improve from 0.03889\n",
      "926/926 [==============================] - 6s 7ms/step - loss: 0.0297 - root_mean_squared_error: 0.1722 - val_loss: 0.0407 - val_root_mean_squared_error: 0.2018\n",
      "Epoch 17/30\n",
      "925/926 [============================>.] - ETA: 0s - loss: 0.0295 - root_mean_squared_error: 0.1718\n",
      "Epoch 00017: val_loss did not improve from 0.03889\n",
      "926/926 [==============================] - 6s 7ms/step - loss: 0.0295 - root_mean_squared_error: 0.1718 - val_loss: 0.0405 - val_root_mean_squared_error: 0.2013\n",
      "Epoch 18/30\n",
      "922/926 [============================>.] - ETA: 0s - loss: 0.0291 - root_mean_squared_error: 0.1705\n",
      "Epoch 00018: val_loss did not improve from 0.03889\n",
      "926/926 [==============================] - 6s 7ms/step - loss: 0.0292 - root_mean_squared_error: 0.1708 - val_loss: 0.0410 - val_root_mean_squared_error: 0.2026\n",
      "Epoch 19/30\n",
      "925/926 [============================>.] - ETA: 0s - loss: 0.0292 - root_mean_squared_error: 0.1708\n",
      "Epoch 00019: val_loss did not improve from 0.03889\n",
      "926/926 [==============================] - 6s 7ms/step - loss: 0.0292 - root_mean_squared_error: 0.1707 - val_loss: 0.0411 - val_root_mean_squared_error: 0.2028\n",
      "Epoch 20/30\n",
      "918/926 [============================>.] - ETA: 0s - loss: 0.0290 - root_mean_squared_error: 0.1702\n",
      "Epoch 00020: val_loss did not improve from 0.03889\n",
      "926/926 [==============================] - 6s 7ms/step - loss: 0.0289 - root_mean_squared_error: 0.1700 - val_loss: 0.0417 - val_root_mean_squared_error: 0.2043\n",
      "Epoch 21/30\n",
      "919/926 [============================>.] - ETA: 0s - loss: 0.0289 - root_mean_squared_error: 0.1701\n",
      "Epoch 00021: val_loss did not improve from 0.03889\n",
      "926/926 [==============================] - 6s 6ms/step - loss: 0.0288 - root_mean_squared_error: 0.1697 - val_loss: 0.0412 - val_root_mean_squared_error: 0.2031\n",
      "Epoch 22/30\n",
      "921/926 [============================>.] - ETA: 0s - loss: 0.0288 - root_mean_squared_error: 0.1696\n",
      "Epoch 00022: val_loss did not improve from 0.03889\n",
      "926/926 [==============================] - 6s 7ms/step - loss: 0.0288 - root_mean_squared_error: 0.1696 - val_loss: 0.0407 - val_root_mean_squared_error: 0.2018\n",
      "Epoch 23/30\n",
      "925/926 [============================>.] - ETA: 0s - loss: 0.0287 - root_mean_squared_error: 0.1693\n",
      "Epoch 00023: val_loss did not improve from 0.03889\n",
      "926/926 [==============================] - 6s 7ms/step - loss: 0.0286 - root_mean_squared_error: 0.1692 - val_loss: 0.0408 - val_root_mean_squared_error: 0.2019\n",
      "Epoch 24/30\n",
      "921/926 [============================>.] - ETA: 0s - loss: 0.0285 - root_mean_squared_error: 0.1688\n",
      "Epoch 00024: val_loss did not improve from 0.03889\n",
      "926/926 [==============================] - 6s 7ms/step - loss: 0.0285 - root_mean_squared_error: 0.1688 - val_loss: 0.0412 - val_root_mean_squared_error: 0.2030\n",
      "Epoch 25/30\n",
      "922/926 [============================>.] - ETA: 0s - loss: 0.0284 - root_mean_squared_error: 0.1684\n",
      "Epoch 00025: val_loss did not improve from 0.03889\n",
      "926/926 [==============================] - 6s 7ms/step - loss: 0.0284 - root_mean_squared_error: 0.1684 - val_loss: 0.0415 - val_root_mean_squared_error: 0.2037\n",
      "Epoch 26/30\n",
      "923/926 [============================>.] - ETA: 0s - loss: 0.0283 - root_mean_squared_error: 0.1682\n",
      "Epoch 00026: val_loss did not improve from 0.03889\n",
      "926/926 [==============================] - 6s 7ms/step - loss: 0.0283 - root_mean_squared_error: 0.1682 - val_loss: 0.0419 - val_root_mean_squared_error: 0.2046\n",
      "Epoch 27/30\n",
      "919/926 [============================>.] - ETA: 0s - loss: 0.0282 - root_mean_squared_error: 0.1680\n",
      "Epoch 00027: val_loss did not improve from 0.03889\n",
      "926/926 [==============================] - 6s 7ms/step - loss: 0.0282 - root_mean_squared_error: 0.1678 - val_loss: 0.0419 - val_root_mean_squared_error: 0.2046\n",
      "Epoch 28/30\n",
      "926/926 [==============================] - ETA: 0s - loss: 0.0280 - root_mean_squared_error: 0.1675\n",
      "Epoch 00028: val_loss did not improve from 0.03889\n",
      "926/926 [==============================] - 6s 7ms/step - loss: 0.0280 - root_mean_squared_error: 0.1675 - val_loss: 0.0423 - val_root_mean_squared_error: 0.2057\n",
      "Epoch 29/30\n",
      "921/926 [============================>.] - ETA: 0s - loss: 0.0279 - root_mean_squared_error: 0.1672\n",
      "Epoch 00029: val_loss did not improve from 0.03889\n",
      "926/926 [==============================] - 6s 7ms/step - loss: 0.0279 - root_mean_squared_error: 0.1671 - val_loss: 0.0417 - val_root_mean_squared_error: 0.2043\n",
      "Epoch 30/30\n",
      "918/926 [============================>.] - ETA: 0s - loss: 0.0278 - root_mean_squared_error: 0.1667\n",
      "Epoch 00030: val_loss did not improve from 0.03889\n",
      "926/926 [==============================] - 6s 7ms/step - loss: 0.0277 - root_mean_squared_error: 0.1666 - val_loss: 0.0432 - val_root_mean_squared_error: 0.2078\n"
     ]
    }
   ],
   "source": [
    "history = model.fit(X_train,\n",
    "                    y_train,\n",
    "                    batch_size=64,\n",
    "                    validation_data=(X_test, y_test),\n",
    "                    epochs=30,\n",
    "                    verbose=1,\n",
    "                    callbacks=callbacks_list)"
   ]
  },
  {
   "cell_type": "code",
   "execution_count": null,
   "metadata": {
    "colab": {},
    "colab_type": "code",
    "id": "y5EgrRHTgALt"
   },
   "outputs": [],
   "source": [
    "model_3_camera7 = model_history('model_3_9_camera7')"
   ]
  },
  {
   "cell_type": "markdown",
   "metadata": {},
   "source": [
    "## End of Notebook 02: Modeling proceed to Notebook 03: Model Selection"
   ]
  }
 ],
 "metadata": {
  "accelerator": "GPU",
  "colab": {
   "authorship_tag": "ABX9TyMs6zuc/sXBj6CuvRxzi7mz",
   "collapsed_sections": [],
   "name": "02_modeling-model_1.ipynb",
   "provenance": [
    {
     "file_id": "1RQjxvU4BMZ4VcjtMX6vi5xQv3IrO-xJe",
     "timestamp": 1596595535967
    }
   ]
  },
  "kernelspec": {
   "display_name": "Python 3",
   "language": "python",
   "name": "python3"
  },
  "language_info": {
   "codemirror_mode": {
    "name": "ipython",
    "version": 3
   },
   "file_extension": ".py",
   "mimetype": "text/x-python",
   "name": "python",
   "nbconvert_exporter": "python",
   "pygments_lexer": "ipython3",
   "version": "3.7.6"
  }
 },
 "nbformat": 4,
 "nbformat_minor": 1
}
