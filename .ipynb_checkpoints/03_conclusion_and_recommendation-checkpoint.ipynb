{
 "cells": [
  {
   "cell_type": "markdown",
   "metadata": {},
   "source": [
    "<img src=\"http://imgur.com/1ZcRyrc.png\" style=\"float: left; margin: 20px; height: 85px\">\n",
    "\n",
    "# Capstone Project \n",
    "\n",
    "# Steering Angle Prediction\n",
    "\n",
    "by: Lee Melvin DSI-15"
   ]
  },
  {
   "cell_type": "markdown",
   "metadata": {},
   "source": [
    "## Notebook 03: Model Selection"
   ]
  },
  {
   "cell_type": "markdown",
   "metadata": {},
   "source": [
    "## Content"
   ]
  },
  {
   "cell_type": "markdown",
   "metadata": {},
   "source": [
    "- [Import libraries](#Import-libraries)\n",
    "- [Model-selection](#Model-selection)\n",
    "    - [Model 1](#Model-1)\n",
    "    - [Model 2](#Model-2)\n",
    "    - [Model 3](#Model-3)\n",
    "- [Dataset summary](#Dataset-summary)\n",
    "- [Exploratory Data Analysis](#Exploratory-Data-Analysis)\n",
    "    - [Log1 Data](#Log1-Data)\n",
    "    - [Camera1 Data](#Camera1-Data)\n",
    "- [Pre-processing](#Pre-processing)   \n",
    "    - [Camera1 and log1](#Camera1-and-log1)   \n",
    "    - [Camera2 and log2](#Camera2-and-log2)   \n",
    "    - [Camera3 and log3](#Camera3-and-log3)   \n",
    "    - [Camera4 and log4](#Camera4-and-log4)   \n",
    "    - [Camera5 and log5](#Camera5-and-log5)   \n",
    "    - [Camera6 and log6](#Camera6-and-log6)   \n",
    "    - [Camera7 and log7](#Camera7-and-log7)   \n",
    "    - [Camera8 and log8](#Camera8-and-log8)   \n",
    "    - [Camera9 and log9](#Camera9-and-log9)   \n",
    "    - [Camera10 and log10](#Camera10-and-log10)   \n",
    "    - [Camera11 and log11](#Camera11-and-log11)  \n",
    "    \n",
    "    \n",
    "    \n",
    "    \n",
    "    #### to be edited\n",
    "    \n",
    "    \n",
    "    \n",
    "- [Load metadata](#Load-metadata)\n",
    "- [Data preparation](#Data-preparation)\n",
    "    - [Train-test-split](#Train-test-split)\n",
    "    - [Augment non-Covid data in df_train](#Augment-non-Covid-data-in-df_train)\n",
    "    - [Augment non-Covid data in df_test](#Augment-non-Covid-data-in-df_test)\n",
    "- [Modelling](#Modelling)\n",
    "    - [Fine tuning](#Fine-tuning)\n",
    "    - [Model Evaluation and Selection](#Model-Evaluation-and-Selection)\n",
    "- [Selected Model](#Selected-Model)\n",
    "- [Conclusion and Recommendations](#Conclusion-and-Recommendations)\n",
    "- [References](#References)"
   ]
  },
  {
   "cell_type": "markdown",
   "metadata": {},
   "source": [
    "## Import libraries"
   ]
  },
  {
   "cell_type": "code",
   "execution_count": 68,
   "metadata": {
    "colab": {},
    "colab_type": "code",
    "executionInfo": {
     "elapsed": 3337,
     "status": "ok",
     "timestamp": 1596653479905,
     "user": {
      "displayName": "Tay Khim",
      "photoUrl": "",
      "userId": "00177423956135587504"
     },
     "user_tz": -480
    },
    "id": "ARXOrlW3igI6"
   },
   "outputs": [],
   "source": [
    "import numpy as np\n",
    "import matplotlib.pyplot as plt\n",
    "import pandas as pd\n",
    "from numpy import load\n",
    "from numpy import savez_compressed\n",
    "\n",
    "\n",
    "from keras.models import load_model\n",
    "from keras.callbacks import *\n",
    "\n",
    "%matplotlib inline"
   ]
  },
  {
   "cell_type": "markdown",
   "metadata": {},
   "source": [
    "## Model selection"
   ]
  },
  {
   "cell_type": "markdown",
   "metadata": {},
   "source": [
    "### Model 1"
   ]
  },
  {
   "cell_type": "code",
   "execution_count": 2,
   "metadata": {
    "colab": {},
    "colab_type": "code",
    "executionInfo": {
     "elapsed": 1079,
     "status": "ok",
     "timestamp": 1596653561567,
     "user": {
      "displayName": "Tay Khim",
      "photoUrl": "",
      "userId": "00177423956135587504"
     },
     "user_tz": -480
    },
    "id": "APhudR2TsD1M"
   },
   "outputs": [],
   "source": [
    "def model_1_loading(model_name):\n",
    "    # function for loading and concatenating all the model history files to a single file \n",
    "    # this is for model 1 only as its from camera1-camera9\n",
    "    model_name_camera1 = pd.read_csv(f'./datasets/{model_name}_camera1.csv')\n",
    "    model_name_camera2 = pd.read_csv(f'./datasets/{model_name}_camera2.csv')\n",
    "    model_name_camera3 = pd.read_csv(f'./datasets/{model_name}_camera3.csv')\n",
    "    model_name_camera4 = pd.read_csv(f'./datasets/{model_name}_camera4.csv')\n",
    "    model_name_camera5 = pd.read_csv(f'./datasets/{model_name}_camera5.csv')\n",
    "    model_name_camera6 = pd.read_csv(f'./datasets/{model_name}_camera6.csv')\n",
    "    model_name_camera7 = pd.read_csv(f'./datasets/{model_name}_camera7.csv')\n",
    "    model_name_camera8 = pd.read_csv(f'./datasets/{model_name}_camera8.csv')\n",
    "    model_name_camera9 = pd.read_csv(f'./datasets/{model_name}_camera9.csv')\n",
    "\n",
    "    model_full = pd.concat([model_name_camera1, model_name_camera2], ignore_index=True)\n",
    "    model_full = pd.concat([model_full, model_name_camera3], ignore_index=True)\n",
    "    model_full = pd.concat([model_full, model_name_camera4], ignore_index=True)\n",
    "    model_full = pd.concat([model_full, model_name_camera5], ignore_index=True)\n",
    "    model_full = pd.concat([model_full, model_name_camera6], ignore_index=True)\n",
    "    model_full = pd.concat([model_full, model_name_camera7], ignore_index=True)\n",
    "    model_full = pd.concat([model_full, model_name_camera8], ignore_index=True)\n",
    "    model_full = pd.concat([model_full, model_name_camera9], ignore_index=True)\n",
    "\n",
    "    print(model_full.shape)\n",
    "\n",
    "    return model_full"
   ]
  },
  {
   "cell_type": "code",
   "execution_count": 3,
   "metadata": {},
   "outputs": [],
   "source": [
    "def model_2_loading(model_name):\n",
    "    # function for loading and concatenating all the model history files to a single file \n",
    "    # this is for model 2 & 3 only as its from a specific order\n",
    "    model_name_camera1 = pd.read_csv(f'./datasets/{model_name}_1_camera8.csv')\n",
    "    model_name_camera2 = pd.read_csv(f'./datasets/{model_name}_2_camera1.csv')\n",
    "    model_name_camera3 = pd.read_csv(f'./datasets/{model_name}_3_camera9.csv')\n",
    "    model_name_camera4 = pd.read_csv(f'./datasets/{model_name}_4_camera2.csv')\n",
    "    model_name_camera5 = pd.read_csv(f'./datasets/{model_name}_5_camera3.csv')\n",
    "    model_name_camera6 = pd.read_csv(f'./datasets/{model_name}_6_camera4.csv')\n",
    "    model_name_camera7 = pd.read_csv(f'./datasets/{model_name}_7_camera5.csv')\n",
    "    model_name_camera8 = pd.read_csv(f'./datasets/{model_name}_8_camera6.csv')\n",
    "    model_name_camera9 = pd.read_csv(f'./datasets/{model_name}_9_camera7.csv')\n",
    "\n",
    "    model_full = pd.concat([model_name_camera1, model_name_camera2], ignore_index=True)\n",
    "    model_full = pd.concat([model_full, model_name_camera3], ignore_index=True)\n",
    "    model_full = pd.concat([model_full, model_name_camera4], ignore_index=True)\n",
    "    model_full = pd.concat([model_full, model_name_camera5], ignore_index=True)\n",
    "    model_full = pd.concat([model_full, model_name_camera6], ignore_index=True)\n",
    "    model_full = pd.concat([model_full, model_name_camera7], ignore_index=True)\n",
    "    model_full = pd.concat([model_full, model_name_camera8], ignore_index=True)\n",
    "    model_full = pd.concat([model_full, model_name_camera9], ignore_index=True)\n",
    "\n",
    "    print(model_full.shape)\n",
    "\n",
    "    return model_full"
   ]
  },
  {
   "cell_type": "code",
   "execution_count": 4,
   "metadata": {
    "colab": {},
    "colab_type": "code",
    "executionInfo": {
     "elapsed": 920,
     "status": "ok",
     "timestamp": 1596596449690,
     "user": {
      "displayName": "Tay Khim",
      "photoUrl": "",
      "userId": "00177423956135587504"
     },
     "user_tz": -480
    },
    "id": "aezaxm58jegI",
    "scrolled": false
   },
   "outputs": [
    {
     "name": "stdout",
     "output_type": "stream",
     "text": [
      "(900, 4)\n"
     ]
    }
   ],
   "source": [
    "model_1 = model_1_loading('model_1')"
   ]
  },
  {
   "cell_type": "code",
   "execution_count": 5,
   "metadata": {},
   "outputs": [
    {
     "data": {
      "text/html": [
       "<div>\n",
       "<style scoped>\n",
       "    .dataframe tbody tr th:only-of-type {\n",
       "        vertical-align: middle;\n",
       "    }\n",
       "\n",
       "    .dataframe tbody tr th {\n",
       "        vertical-align: top;\n",
       "    }\n",
       "\n",
       "    .dataframe thead th {\n",
       "        text-align: right;\n",
       "    }\n",
       "</style>\n",
       "<table border=\"1\" class=\"dataframe\">\n",
       "  <thead>\n",
       "    <tr style=\"text-align: right;\">\n",
       "      <th></th>\n",
       "      <th>loss</th>\n",
       "      <th>root_mean_squared_error</th>\n",
       "      <th>val_loss</th>\n",
       "      <th>val_root_mean_squared_error</th>\n",
       "    </tr>\n",
       "  </thead>\n",
       "  <tbody>\n",
       "    <tr>\n",
       "      <th>0</th>\n",
       "      <td>0.254761</td>\n",
       "      <td>0.504739</td>\n",
       "      <td>0.234737</td>\n",
       "      <td>0.484497</td>\n",
       "    </tr>\n",
       "    <tr>\n",
       "      <th>1</th>\n",
       "      <td>0.252863</td>\n",
       "      <td>0.502854</td>\n",
       "      <td>0.234743</td>\n",
       "      <td>0.484503</td>\n",
       "    </tr>\n",
       "    <tr>\n",
       "      <th>2</th>\n",
       "      <td>0.252875</td>\n",
       "      <td>0.502867</td>\n",
       "      <td>0.234755</td>\n",
       "      <td>0.484516</td>\n",
       "    </tr>\n",
       "    <tr>\n",
       "      <th>3</th>\n",
       "      <td>0.252791</td>\n",
       "      <td>0.502784</td>\n",
       "      <td>0.234745</td>\n",
       "      <td>0.484505</td>\n",
       "    </tr>\n",
       "    <tr>\n",
       "      <th>4</th>\n",
       "      <td>0.252804</td>\n",
       "      <td>0.502796</td>\n",
       "      <td>0.234711</td>\n",
       "      <td>0.484470</td>\n",
       "    </tr>\n",
       "  </tbody>\n",
       "</table>\n",
       "</div>"
      ],
      "text/plain": [
       "       loss  root_mean_squared_error  val_loss  val_root_mean_squared_error\n",
       "0  0.254761                 0.504739  0.234737                     0.484497\n",
       "1  0.252863                 0.502854  0.234743                     0.484503\n",
       "2  0.252875                 0.502867  0.234755                     0.484516\n",
       "3  0.252791                 0.502784  0.234745                     0.484505\n",
       "4  0.252804                 0.502796  0.234711                     0.484470"
      ]
     },
     "execution_count": 5,
     "metadata": {},
     "output_type": "execute_result"
    }
   ],
   "source": [
    "model_1.head()"
   ]
  },
  {
   "cell_type": "code",
   "execution_count": 6,
   "metadata": {
    "colab": {},
    "colab_type": "code",
    "executionInfo": {
     "elapsed": 1439,
     "status": "ok",
     "timestamp": 1596622445813,
     "user": {
      "displayName": "Tay Khim",
      "photoUrl": "",
      "userId": "00177423956135587504"
     },
     "user_tz": -480
    },
    "id": "feRQRDiPlmKW"
   },
   "outputs": [],
   "source": [
    "ticks = [i for i in range(0, 901, 25)]\n",
    "labels = [i for i in range(0, 901, 25)]"
   ]
  },
  {
   "cell_type": "code",
   "execution_count": 7,
   "metadata": {
    "colab": {},
    "colab_type": "code",
    "executionInfo": {
     "elapsed": 1116,
     "status": "ok",
     "timestamp": 1596622447711,
     "user": {
      "displayName": "Tay Khim",
      "photoUrl": "",
      "userId": "00177423956135587504"
     },
     "user_tz": -480
    },
    "id": "OMWe7boYlFs6"
   },
   "outputs": [],
   "source": [
    "train_loss = model_1['loss']\n",
    "val_loss = model_1['val_loss']"
   ]
  },
  {
   "cell_type": "code",
   "execution_count": 18,
   "metadata": {
    "colab": {
     "base_uri": "https://localhost:8080/",
     "height": 519
    },
    "colab_type": "code",
    "executionInfo": {
     "elapsed": 2051,
     "status": "ok",
     "timestamp": 1596596874570,
     "user": {
      "displayName": "Tay Khim",
      "photoUrl": "",
      "userId": "00177423956135587504"
     },
     "user_tz": -480
    },
    "id": "ZkTKmJ59kVhL",
    "outputId": "6e823e2d-1305-44c4-e562-30be86a1f653"
   },
   "outputs": [
    {
     "data": {
      "image/png": "[encoded data removed]",
      "text/plain": [
       "<Figure size 1440x576 with 1 Axes>"
      ]
     },
     "metadata": {
      "needs_background": "light"
     },
     "output_type": "display_data"
    }
   ],
   "source": [
    "# Set figure size.\n",
    "plt.figure(figsize=(20, 8))\n",
    "\n",
    "# Generate line plot of training, testing loss over epochs.\n",
    "plt.plot(train_loss, label='Training Loss', color='#185fad')\n",
    "plt.plot(val_loss, label='Validation Loss', color='orange')\n",
    "\n",
    "# Set title\n",
    "plt.title('Training and Validation Loss by Epoch for Model 1', fontsize = 25)\n",
    "plt.xlabel('Epoch', fontsize = 18)\n",
    "plt.ylabel('Mean Squared Error', fontsize = 18)\n",
    "plt.xticks(ticks, labels)\n",
    "\n",
    "plt.legend(fontsize = 18);\n",
    "\n",
    "plt.savefig('./images/train_val_loss_model1.png');"
   ]
  },
  {
   "cell_type": "code",
   "execution_count": 8,
   "metadata": {
    "colab": {},
    "colab_type": "code",
    "executionInfo": {
     "elapsed": 983,
     "status": "ok",
     "timestamp": 1596622471112,
     "user": {
      "displayName": "Tay Khim",
      "photoUrl": "",
      "userId": "00177423956135587504"
     },
     "user_tz": -480
    },
    "id": "3agAWXTMG4y9"
   },
   "outputs": [],
   "source": [
    "train_rmse = model_1['root_mean_squared_error']\n",
    "val_rmse = model_1['val_root_mean_squared_error']"
   ]
  },
  {
   "cell_type": "code",
   "execution_count": 20,
   "metadata": {
    "colab": {
     "base_uri": "https://localhost:8080/",
     "height": 522
    },
    "colab_type": "code",
    "executionInfo": {
     "elapsed": 1592,
     "status": "ok",
     "timestamp": 1596622516002,
     "user": {
      "displayName": "Tay Khim",
      "photoUrl": "",
      "userId": "00177423956135587504"
     },
     "user_tz": -480
    },
    "id": "IwvxfQy_HZxb",
    "outputId": "c6b0c82d-145f-4a5a-8c27-eb88cc0fc097",
    "scrolled": false
   },
   "outputs": [
    {
     "data": {
      "image/png": "[encoded data removed]",
      "text/plain": [
       "<Figure size 1440x576 with 1 Axes>"
      ]
     },
     "metadata": {
      "needs_background": "light"
     },
     "output_type": "display_data"
    }
   ],
   "source": [
    "# Set figure size.\n",
    "plt.figure(figsize=(20, 8))\n",
    "\n",
    "# Generate line plot of training, testing loss over epochs.\n",
    "plt.plot(train_rmse, label='Training RMSE', color='#185fad')\n",
    "plt.plot(val_rmse, label='Validation RMSE', color='orange')\n",
    "\n",
    "# Set title\n",
    "plt.title('Training and Validation RMSE by Epoch for Model 1', fontsize = 25)\n",
    "plt.xlabel('Epoch', fontsize = 18)\n",
    "plt.ylabel('Mean Squared Error', fontsize = 18)\n",
    "plt.xticks(ticks, labels)\n",
    "\n",
    "plt.legend(fontsize = 18);\n",
    "\n",
    "plt.savefig('./images/train_val_RSME_model1.png');"
   ]
  },
  {
   "cell_type": "code",
   "execution_count": null,
   "metadata": {},
   "outputs": [],
   "source": [
    "# I need to load all the test data and do predict to evaluate the RSME\n",
    "# then load in the final model\n"
   ]
  },
  {
   "cell_type": "code",
   "execution_count": 42,
   "metadata": {},
   "outputs": [],
   "source": [
    "def x_test_processed(): \n",
    "    for i in range(1, 10):\n",
    "        camera = load(f'./datasets/camera{i}_X_test.npz')\n",
    "        # camera file\n",
    "        camera = camera.f.arr_0\n",
    "        # convert to float to prevent error\n",
    "        camera = camera.astype('float32')\n",
    "        # regularised pixel \n",
    "        camera = camera/255\n",
    "        # reshape to include single channel for grayscale\n",
    "        camera = camera.reshape(camera.shape[0], camera.shape[1], camera.shape[2], 1)\n",
    "        # save the numpy array as .npz file\n",
    "        savez_compressed(f'./datasets/camera{i}_X_test_processed', camera)\n",
    "\n",
    "    return print('Done')"
   ]
  },
  {
   "cell_type": "code",
   "execution_count": 43,
   "metadata": {},
   "outputs": [
    {
     "name": "stdout",
     "output_type": "stream",
     "text": [
      "Done\n"
     ]
    }
   ],
   "source": [
    "x_test_processed()"
   ]
  },
  {
   "cell_type": "code",
   "execution_count": 31,
   "metadata": {},
   "outputs": [],
   "source": [
    "def log_file_processed():\n",
    "    for i in range(1, 10):\n",
    "        log_file = pd.read_csv(f'./datasets/log{i}_cleaned.csv') \n",
    "        # convert to radian\n",
    "        log_file['steering_avg_radian'] = log_file['steering_avg'] * np.pi / 180\n",
    "        # drop irrelevant columns\n",
    "        log_file.drop(['times', 'brake_avg', 'speed_avg', 'gas_avg', 'steering_avg'], axis=1, inplace=True)\n",
    "        # rename columns\n",
    "        log_file.rename(columns={'steering_avg_radian': 'y_true'}, inplace=True)\n",
    "        # save the csv file\n",
    "        log_file.to_csv(f'./datasets/log{i}_processed.csv', index=False)\n",
    "\n",
    "    return print('Done')"
   ]
  },
  {
   "cell_type": "code",
   "execution_count": 32,
   "metadata": {
    "scrolled": true
   },
   "outputs": [
    {
     "name": "stdout",
     "output_type": "stream",
     "text": [
      "Done\n"
     ]
    }
   ],
   "source": [
    "# process all the cleaned .csv log file\n",
    "log_file_processed()"
   ]
  },
  {
   "cell_type": "code",
   "execution_count": 59,
   "metadata": {},
   "outputs": [
    {
     "ename": "TypeError",
     "evalue": "__init__() got an unexpected keyword argument 'ragged'",
     "output_type": "error",
     "traceback": [
      "\u001b[1;31m---------------------------------------------------------------------------\u001b[0m",
      "\u001b[1;31mTypeError\u001b[0m                                 Traceback (most recent call last)",
      "\u001b[1;32m<ipython-input-59-c4d36527c7b7>\u001b[0m in \u001b[0;36m<module>\u001b[1;34m\u001b[0m\n\u001b[1;32m----> 1\u001b[1;33m \u001b[0mmodel_1\u001b[0m \u001b[1;33m=\u001b[0m \u001b[0mload_model\u001b[0m\u001b[1;33m(\u001b[0m\u001b[1;34m'./checkpoints/model_1_camera9.0095-0.0230.h5'\u001b[0m\u001b[1;33m)\u001b[0m\u001b[1;33m\u001b[0m\u001b[1;33m\u001b[0m\u001b[0m\n\u001b[0m",
      "\u001b[1;32m~\\AppData\\Roaming\\Python\\Python37\\site-packages\\keras\\engine\\saving.py\u001b[0m in \u001b[0;36mload_wrapper\u001b[1;34m(*args, **kwargs)\u001b[0m\n",
      "\u001b[1;32m~\\AppData\\Roaming\\Python\\Python37\\site-packages\\keras\\engine\\saving.py\u001b[0m in \u001b[0;36mload_model\u001b[1;34m(filepath, custom_objects, compile)\u001b[0m\n",
      "\u001b[1;32m~\\AppData\\Roaming\\Python\\Python37\\site-packages\\keras\\engine\\saving.py\u001b[0m in \u001b[0;36m_deserialize_model\u001b[1;34m(h5dict, custom_objects, compile)\u001b[0m\n",
      "\u001b[1;32m~\\AppData\\Roaming\\Python\\Python37\\site-packages\\keras\\engine\\saving.py\u001b[0m in \u001b[0;36mmodel_from_config\u001b[1;34m(config, custom_objects)\u001b[0m\n",
      "\u001b[1;32m~\\AppData\\Roaming\\Python\\Python37\\site-packages\\keras\\layers\\__init__.py\u001b[0m in \u001b[0;36mdeserialize\u001b[1;34m(config, custom_objects)\u001b[0m\n",
      "\u001b[1;32m~\\AppData\\Roaming\\Python\\Python37\\site-packages\\keras\\utils\\generic_utils.py\u001b[0m in \u001b[0;36mdeserialize_keras_object\u001b[1;34m(identifier, module_objects, custom_objects, printable_module_name)\u001b[0m\n",
      "\u001b[1;32m~\\AppData\\Roaming\\Python\\Python37\\site-packages\\keras\\engine\\sequential.py\u001b[0m in \u001b[0;36mfrom_config\u001b[1;34m(cls, config, custom_objects)\u001b[0m\n",
      "\u001b[1;32m~\\AppData\\Roaming\\Python\\Python37\\site-packages\\keras\\layers\\__init__.py\u001b[0m in \u001b[0;36mdeserialize\u001b[1;34m(config, custom_objects)\u001b[0m\n",
      "\u001b[1;32m~\\AppData\\Roaming\\Python\\Python37\\site-packages\\keras\\utils\\generic_utils.py\u001b[0m in \u001b[0;36mdeserialize_keras_object\u001b[1;34m(identifier, module_objects, custom_objects, printable_module_name)\u001b[0m\n",
      "\u001b[1;32m~\\AppData\\Roaming\\Python\\Python37\\site-packages\\keras\\engine\\base_layer.py\u001b[0m in \u001b[0;36mfrom_config\u001b[1;34m(cls, config)\u001b[0m\n",
      "\u001b[1;32m~\\AppData\\Roaming\\Python\\Python37\\site-packages\\keras\\legacy\\interfaces.py\u001b[0m in \u001b[0;36mwrapper\u001b[1;34m(*args, **kwargs)\u001b[0m\n",
      "\u001b[1;31mTypeError\u001b[0m: __init__() got an unexpected keyword argument 'ragged'"
     ]
    }
   ],
   "source": [
    "model_1 = load_model('./checkpoints/model_1_camera9.0095-0.0230.h5')"
   ]
  },
  {
   "cell_type": "code",
   "execution_count": null,
   "metadata": {},
   "outputs": [],
   "source": [
    "def y_prediction(name):\n",
    "    x_test = load(f'./datasets/{name}_X_test_processed.npz')\n",
    "    y_pred = model_1.predict(x_test)"
   ]
  },
  {
   "cell_type": "code",
   "execution_count": 34,
   "metadata": {},
   "outputs": [],
   "source": [
    "def log_file_load():\n",
    "    log1 = pd.read_csv('./datasets/log1_processed.csv')\n",
    "    log2 = pd.read_csv('./datasets/log2_processed.csv')\n",
    "    log3 = pd.read_csv('./datasets/log3_processed.csv')\n",
    "    log4 = pd.read_csv('./datasets/log4_processed.csv')\n",
    "    log5 = pd.read_csv('./datasets/log5_processed.csv')\n",
    "    log6 = pd.read_csv('./datasets/log6_processed.csv')\n",
    "    log7 = pd.read_csv('./datasets/log7_processed.csv')\n",
    "    log8 = pd.read_csv('./datasets/log8_processed.csv')\n",
    "    log9 = pd.read_csv('./datasets/log9_processed.csv')\n",
    "    return log1, log2, log3, log4, log5, log6, log7, log8, log9"
   ]
  },
  {
   "cell_type": "code",
   "execution_count": 37,
   "metadata": {},
   "outputs": [],
   "source": [
    "model1_log1, model1_log2, model1_log3, model1_log4, model1_log5, model1_log6, model1_log7, model1_log8, model1_log9 = log_file_load() "
   ]
  },
  {
   "cell_type": "markdown",
   "metadata": {},
   "source": [
    "### Model 2"
   ]
  },
  {
   "cell_type": "code",
   "execution_count": 9,
   "metadata": {
    "colab": {
     "base_uri": "https://localhost:8080/",
     "height": 34
    },
    "colab_type": "code",
    "executionInfo": {
     "elapsed": 1080,
     "status": "ok",
     "timestamp": 1596596457577,
     "user": {
      "displayName": "Tay Khim",
      "photoUrl": "",
      "userId": "00177423956135587504"
     },
     "user_tz": -480
    },
    "id": "b6Ox42CSkG26",
    "outputId": "86a7bd3b-bbb5-4ccc-ab84-658caa74cdd1"
   },
   "outputs": [
    {
     "name": "stdout",
     "output_type": "stream",
     "text": [
      "(270, 4)\n"
     ]
    }
   ],
   "source": [
    "model_2 = model_2_loading('model_2')"
   ]
  },
  {
   "cell_type": "markdown",
   "metadata": {},
   "source": [
    "### Model 3"
   ]
  },
  {
   "cell_type": "code",
   "execution_count": 10,
   "metadata": {},
   "outputs": [
    {
     "name": "stdout",
     "output_type": "stream",
     "text": [
      "(270, 4)\n"
     ]
    }
   ],
   "source": [
    "model_3 = model_2_loading('model_3')"
   ]
  },
  {
   "cell_type": "markdown",
   "metadata": {},
   "source": [
    "## For when model is selected and testing on unseen data "
   ]
  },
  {
   "cell_type": "code",
   "execution_count": 24,
   "metadata": {},
   "outputs": [],
   "source": [
    "camera10_night_unseen = load('./datasets/camera10_cleaned.npz')\n",
    "log10_night_unseen = pd.read_csv('./datasets/log10_cleaned.csv')"
   ]
  },
  {
   "cell_type": "code",
   "execution_count": 16,
   "metadata": {},
   "outputs": [],
   "source": [
    "def camera_processing(camera_file, file_name):\n",
    "    # camera file\n",
    "    camera = camera_file.f.arr_0\n",
    "    # convert to float to prevent error\n",
    "    camera = camera.astype('float32')\n",
    "    # regularised pixel \n",
    "    camera = camera/255\n",
    "    # reshape to include single channel for grayscale\n",
    "    camera = camera.reshape(camera.shape[0], camera.shape[1], camera.shape[2], 1)\n",
    "    # save the numpy array as .npz file\n",
    "    savez_compressed(f'./datasets/{file_name}_processed', camera)\n",
    "\n",
    "    return camera"
   ]
  },
  {
   "cell_type": "code",
   "execution_count": 23,
   "metadata": {},
   "outputs": [],
   "source": [
    "def log_processing(log_file, file_name):\n",
    "    # convert to radian\n",
    "    log_file['steering_avg_radian'] = log_file['steering_avg'] * np.pi / 180\n",
    "    # drop irrelevant columns\n",
    "    log_file.drop(['times', 'brake_avg', 'speed_avg', 'gas_avg', 'steering_avg'], axis=1, inplace=True)\n",
    "    # rename columns\n",
    "    log_file.rename(columns={'steering_avg_radian': 'y_true'}, inplace=True)\n",
    "    # save the csv file\n",
    "    log_file.to_csv(f'./datasets/{file_name}_processed.csv', index=False)\n",
    "\n",
    "    return log_file"
   ]
  },
  {
   "cell_type": "code",
   "execution_count": null,
   "metadata": {},
   "outputs": [],
   "source": []
  },
  {
   "cell_type": "code",
   "execution_count": 18,
   "metadata": {},
   "outputs": [
    {
     "ename": "NameError",
     "evalue": "name 'savez_compressed' is not defined",
     "output_type": "error",
     "traceback": [
      "\u001b[1;31m---------------------------------------------------------------------------\u001b[0m",
      "\u001b[1;31mNameError\u001b[0m                                 Traceback (most recent call last)",
      "\u001b[1;32m<ipython-input-18-99d77c6fce36>\u001b[0m in \u001b[0;36m<module>\u001b[1;34m\u001b[0m\n\u001b[1;32m----> 1\u001b[1;33m \u001b[0mcamera10_night_unseen\u001b[0m \u001b[1;33m=\u001b[0m \u001b[0mcamera_processing\u001b[0m\u001b[1;33m(\u001b[0m\u001b[0mcamera10_night_unseen\u001b[0m\u001b[1;33m,\u001b[0m \u001b[1;34m'camera10'\u001b[0m\u001b[1;33m)\u001b[0m\u001b[1;33m\u001b[0m\u001b[1;33m\u001b[0m\u001b[0m\n\u001b[0m",
      "\u001b[1;32m<ipython-input-16-eb7e0af25467>\u001b[0m in \u001b[0;36mcamera_processing\u001b[1;34m(camera_file, file_name)\u001b[0m\n\u001b[0;32m      9\u001b[0m     \u001b[0mcamera\u001b[0m \u001b[1;33m=\u001b[0m \u001b[0mcamera\u001b[0m\u001b[1;33m.\u001b[0m\u001b[0mreshape\u001b[0m\u001b[1;33m(\u001b[0m\u001b[0mcamera\u001b[0m\u001b[1;33m.\u001b[0m\u001b[0mshape\u001b[0m\u001b[1;33m[\u001b[0m\u001b[1;36m0\u001b[0m\u001b[1;33m]\u001b[0m\u001b[1;33m,\u001b[0m \u001b[0mcamera\u001b[0m\u001b[1;33m.\u001b[0m\u001b[0mshape\u001b[0m\u001b[1;33m[\u001b[0m\u001b[1;36m1\u001b[0m\u001b[1;33m]\u001b[0m\u001b[1;33m,\u001b[0m \u001b[0mcamera\u001b[0m\u001b[1;33m.\u001b[0m\u001b[0mshape\u001b[0m\u001b[1;33m[\u001b[0m\u001b[1;36m2\u001b[0m\u001b[1;33m]\u001b[0m\u001b[1;33m,\u001b[0m \u001b[1;36m1\u001b[0m\u001b[1;33m)\u001b[0m\u001b[1;33m\u001b[0m\u001b[1;33m\u001b[0m\u001b[0m\n\u001b[0;32m     10\u001b[0m     \u001b[1;31m# save the numpy array as .npz file\u001b[0m\u001b[1;33m\u001b[0m\u001b[1;33m\u001b[0m\u001b[1;33m\u001b[0m\u001b[0m\n\u001b[1;32m---> 11\u001b[1;33m     \u001b[0msavez_compressed\u001b[0m\u001b[1;33m(\u001b[0m\u001b[1;34mf'./datasets/{file_name}_processed'\u001b[0m\u001b[1;33m,\u001b[0m \u001b[0mcamera\u001b[0m\u001b[1;33m)\u001b[0m\u001b[1;33m\u001b[0m\u001b[1;33m\u001b[0m\u001b[0m\n\u001b[0m\u001b[0;32m     12\u001b[0m \u001b[1;33m\u001b[0m\u001b[0m\n\u001b[0;32m     13\u001b[0m     \u001b[1;32mreturn\u001b[0m \u001b[0mcamera\u001b[0m\u001b[1;33m\u001b[0m\u001b[1;33m\u001b[0m\u001b[0m\n",
      "\u001b[1;31mNameError\u001b[0m: name 'savez_compressed' is not defined"
     ]
    }
   ],
   "source": [
    "camera10_night_unseen = camera_processing(camera10_night_unseen, 'camera10')"
   ]
  },
  {
   "cell_type": "code",
   "execution_count": 13,
   "metadata": {},
   "outputs": [
    {
     "data": {
      "text/html": [
       "<div>\n",
       "<style scoped>\n",
       "    .dataframe tbody tr th:only-of-type {\n",
       "        vertical-align: middle;\n",
       "    }\n",
       "\n",
       "    .dataframe tbody tr th {\n",
       "        vertical-align: top;\n",
       "    }\n",
       "\n",
       "    .dataframe thead th {\n",
       "        text-align: right;\n",
       "    }\n",
       "</style>\n",
       "<table border=\"1\" class=\"dataframe\">\n",
       "  <thead>\n",
       "    <tr style=\"text-align: right;\">\n",
       "      <th></th>\n",
       "      <th>cam1_ptr</th>\n",
       "      <th>times</th>\n",
       "      <th>steering_avg</th>\n",
       "      <th>brake_avg</th>\n",
       "      <th>speed_avg</th>\n",
       "      <th>gas_avg</th>\n",
       "    </tr>\n",
       "  </thead>\n",
       "  <tbody>\n",
       "    <tr>\n",
       "      <th>0</th>\n",
       "      <td>2399.0</td>\n",
       "      <td>120.01</td>\n",
       "      <td>0.201052</td>\n",
       "      <td>462.421705</td>\n",
       "      <td>7.378796</td>\n",
       "      <td>0.0</td>\n",
       "    </tr>\n",
       "    <tr>\n",
       "      <th>1</th>\n",
       "      <td>2400.0</td>\n",
       "      <td>120.06</td>\n",
       "      <td>-1.410137</td>\n",
       "      <td>464.000000</td>\n",
       "      <td>7.460840</td>\n",
       "      <td>0.0</td>\n",
       "    </tr>\n",
       "    <tr>\n",
       "      <th>2</th>\n",
       "      <td>2401.0</td>\n",
       "      <td>120.11</td>\n",
       "      <td>0.084105</td>\n",
       "      <td>464.000000</td>\n",
       "      <td>7.429977</td>\n",
       "      <td>0.0</td>\n",
       "    </tr>\n",
       "    <tr>\n",
       "      <th>3</th>\n",
       "      <td>2402.0</td>\n",
       "      <td>120.16</td>\n",
       "      <td>0.180733</td>\n",
       "      <td>464.000000</td>\n",
       "      <td>7.437831</td>\n",
       "      <td>0.0</td>\n",
       "    </tr>\n",
       "    <tr>\n",
       "      <th>4</th>\n",
       "      <td>2403.0</td>\n",
       "      <td>120.21</td>\n",
       "      <td>0.179653</td>\n",
       "      <td>464.000000</td>\n",
       "      <td>7.480218</td>\n",
       "      <td>0.0</td>\n",
       "    </tr>\n",
       "  </tbody>\n",
       "</table>\n",
       "</div>"
      ],
      "text/plain": [
       "   cam1_ptr   times  steering_avg   brake_avg  speed_avg  gas_avg\n",
       "0    2399.0  120.01      0.201052  462.421705   7.378796      0.0\n",
       "1    2400.0  120.06     -1.410137  464.000000   7.460840      0.0\n",
       "2    2401.0  120.11      0.084105  464.000000   7.429977      0.0\n",
       "3    2402.0  120.16      0.180733  464.000000   7.437831      0.0\n",
       "4    2403.0  120.21      0.179653  464.000000   7.480218      0.0"
      ]
     },
     "execution_count": 13,
     "metadata": {},
     "output_type": "execute_result"
    }
   ],
   "source": [
    "log10_night_unseen.head()"
   ]
  },
  {
   "cell_type": "code",
   "execution_count": 25,
   "metadata": {},
   "outputs": [],
   "source": [
    "log10_night_unseen = log_processing(log10_night_unseen, 'log10')"
   ]
  },
  {
   "cell_type": "code",
   "execution_count": 26,
   "metadata": {},
   "outputs": [
    {
     "data": {
      "text/html": [
       "<div>\n",
       "<style scoped>\n",
       "    .dataframe tbody tr th:only-of-type {\n",
       "        vertical-align: middle;\n",
       "    }\n",
       "\n",
       "    .dataframe tbody tr th {\n",
       "        vertical-align: top;\n",
       "    }\n",
       "\n",
       "    .dataframe thead th {\n",
       "        text-align: right;\n",
       "    }\n",
       "</style>\n",
       "<table border=\"1\" class=\"dataframe\">\n",
       "  <thead>\n",
       "    <tr style=\"text-align: right;\">\n",
       "      <th></th>\n",
       "      <th>cam1_ptr</th>\n",
       "      <th>y_true</th>\n",
       "    </tr>\n",
       "  </thead>\n",
       "  <tbody>\n",
       "    <tr>\n",
       "      <th>0</th>\n",
       "      <td>2399.0</td>\n",
       "      <td>0.003509</td>\n",
       "    </tr>\n",
       "    <tr>\n",
       "      <th>1</th>\n",
       "      <td>2400.0</td>\n",
       "      <td>-0.024612</td>\n",
       "    </tr>\n",
       "    <tr>\n",
       "      <th>2</th>\n",
       "      <td>2401.0</td>\n",
       "      <td>0.001468</td>\n",
       "    </tr>\n",
       "    <tr>\n",
       "      <th>3</th>\n",
       "      <td>2402.0</td>\n",
       "      <td>0.003154</td>\n",
       "    </tr>\n",
       "    <tr>\n",
       "      <th>4</th>\n",
       "      <td>2403.0</td>\n",
       "      <td>0.003136</td>\n",
       "    </tr>\n",
       "  </tbody>\n",
       "</table>\n",
       "</div>"
      ],
      "text/plain": [
       "   cam1_ptr    y_true\n",
       "0    2399.0  0.003509\n",
       "1    2400.0 -0.024612\n",
       "2    2401.0  0.001468\n",
       "3    2402.0  0.003154\n",
       "4    2403.0  0.003136"
      ]
     },
     "execution_count": 26,
     "metadata": {},
     "output_type": "execute_result"
    }
   ],
   "source": [
    "log10_night_unseen.head()"
   ]
  },
  {
   "cell_type": "code",
   "execution_count": null,
   "metadata": {},
   "outputs": [],
   "source": [
    "camera11_day_unseen = load('./datasets/camera11_cleaned.npz')\n",
    "log11_night_unseen = pd.read_csv('./datasets/log11_cleaned.csv')"
   ]
  },
  {
   "cell_type": "code",
   "execution_count": 6,
   "metadata": {
    "colab": {},
    "colab_type": "code",
    "executionInfo": {
     "elapsed": 829,
     "status": "ok",
     "timestamp": 1596596478026,
     "user": {
      "displayName": "Tay Khim",
      "photoUrl": "",
      "userId": "00177423956135587504"
     },
     "user_tz": -480
    },
    "id": "Ah66HTcqkIkT"
   },
   "outputs": [],
   "source": [
    "model_1_full = pd.concat([model_1_full, model_1_camera3], ignore_index=True)"
   ]
  },
  {
   "cell_type": "code",
   "execution_count": 7,
   "metadata": {
    "colab": {
     "base_uri": "https://localhost:8080/",
     "height": 34
    },
    "colab_type": "code",
    "executionInfo": {
     "elapsed": 1081,
     "status": "ok",
     "timestamp": 1596596483434,
     "user": {
      "displayName": "Tay Khim",
      "photoUrl": "",
      "userId": "00177423956135587504"
     },
     "user_tz": -480
    },
    "id": "T68xR_MWkNzK",
    "outputId": "2a523602-f8e5-4c3b-e0ea-57e008f636aa"
   },
   "outputs": [
    {
     "data": {
      "text/plain": [
       "(300, 4)"
      ]
     },
     "execution_count": 7,
     "metadata": {
      "tags": []
     },
     "output_type": "execute_result"
    }
   ],
   "source": [
    "model_1_full.shape"
   ]
  },
  {
   "cell_type": "code",
   "execution_count": 8,
   "metadata": {
    "colab": {},
    "colab_type": "code",
    "executionInfo": {
     "elapsed": 1094,
     "status": "ok",
     "timestamp": 1596596503189,
     "user": {
      "displayName": "Tay Khim",
      "photoUrl": "",
      "userId": "00177423956135587504"
     },
     "user_tz": -480
    },
    "id": "3nteBwAnkOzJ"
   },
   "outputs": [],
   "source": [
    "model_1_full = pd.concat([model_1_full, model_1_camera4], ignore_index=True)\n",
    "model_1_full = pd.concat([model_1_full, model_1_camera5], ignore_index=True)\n",
    "model_1_full = pd.concat([model_1_full, model_1_camera6], ignore_index=True)\n",
    "model_1_full = pd.concat([model_1_full, model_1_camera7], ignore_index=True)\n",
    "model_1_full = pd.concat([model_1_full, model_1_camera8], ignore_index=True)\n",
    "model_1_full = pd.concat([model_1_full, model_1_camera9], ignore_index=True)"
   ]
  },
  {
   "cell_type": "code",
   "execution_count": 9,
   "metadata": {
    "colab": {
     "base_uri": "https://localhost:8080/",
     "height": 34
    },
    "colab_type": "code",
    "executionInfo": {
     "elapsed": 969,
     "status": "ok",
     "timestamp": 1596596509794,
     "user": {
      "displayName": "Tay Khim",
      "photoUrl": "",
      "userId": "00177423956135587504"
     },
     "user_tz": -480
    },
    "id": "uvAIBur2kTxo",
    "outputId": "d4362c26-ab52-4c51-9723-5b67453f6126"
   },
   "outputs": [
    {
     "data": {
      "text/plain": [
       "(900, 4)"
      ]
     },
     "execution_count": 9,
     "metadata": {
      "tags": []
     },
     "output_type": "execute_result"
    }
   ],
   "source": [
    "model_1_full.shape"
   ]
  },
  {
   "cell_type": "code",
   "execution_count": 102,
   "metadata": {
    "colab": {
     "base_uri": "https://localhost:8080/",
     "height": 34
    },
    "colab_type": "code",
    "executionInfo": {
     "elapsed": 5619,
     "status": "ok",
     "timestamp": 1596622440113,
     "user": {
      "displayName": "Tay Khim",
      "photoUrl": "",
      "userId": "00177423956135587504"
     },
     "user_tz": -480
    },
    "id": "F0IPy_9rHK8F",
    "outputId": "f56db6b4-e67a-4758-b717-70e351fb0c24"
   },
   "outputs": [
    {
     "name": "stdout",
     "output_type": "stream",
     "text": [
      "(900, 4)\n"
     ]
    }
   ],
   "source": [
    "model_1_full = model_loading('model_1')"
   ]
  },
  {
   "cell_type": "code",
   "execution_count": 25,
   "metadata": {
    "colab": {},
    "colab_type": "code",
    "executionInfo": {
     "elapsed": 1047,
     "status": "ok",
     "timestamp": 1596597743100,
     "user": {
      "displayName": "Tay Khim",
      "photoUrl": "",
      "userId": "00177423956135587504"
     },
     "user_tz": -480
    },
    "id": "Oqq_y55qluTh"
   },
   "outputs": [],
   "source": [
    "camera11_day_unseen = load('/content/drive/My Drive/datasets/camera11_cleaned.npz')"
   ]
  },
  {
   "cell_type": "code",
   "execution_count": 24,
   "metadata": {
    "colab": {},
    "colab_type": "code",
    "executionInfo": {
     "elapsed": 871,
     "status": "ok",
     "timestamp": 1596597738802,
     "user": {
      "displayName": "Tay Khim",
      "photoUrl": "",
      "userId": "00177423956135587504"
     },
     "user_tz": -480
    },
    "id": "JzIgq59enuBl"
   },
   "outputs": [],
   "source": [
    "def camera_processing(camera_file, file_name):\n",
    "\n",
    "    # camera file\n",
    "    camera = camera_file.f.arr_0\n",
    "    camera = camera.astype('float32')\n",
    "    camera = camera/255\n",
    "    camera = camera.reshape(camera.shape[0], camera.shape[1], camera.shape[2], 1)\n",
    "    savez_compressed(f'/content/drive/My Drive/datasets/{file_name}_processed', camera)\n",
    "\n",
    "    return camera"
   ]
  },
  {
   "cell_type": "code",
   "execution_count": 26,
   "metadata": {
    "colab": {},
    "colab_type": "code",
    "executionInfo": {
     "elapsed": 54598,
     "status": "ok",
     "timestamp": 1596597807461,
     "user": {
      "displayName": "Tay Khim",
      "photoUrl": "",
      "userId": "00177423956135587504"
     },
     "user_tz": -480
    },
    "id": "jgw21vHxn4XT"
   },
   "outputs": [],
   "source": [
    "camera11_day_unseen = camera_processing(camera11_day_unseen, 'camera11')"
   ]
  },
  {
   "cell_type": "code",
   "execution_count": 27,
   "metadata": {
    "colab": {
     "base_uri": "https://localhost:8080/",
     "height": 34
    },
    "colab_type": "code",
    "executionInfo": {
     "elapsed": 46535,
     "status": "ok",
     "timestamp": 1596597807468,
     "user": {
      "displayName": "Tay Khim",
      "photoUrl": "",
      "userId": "00177423956135587504"
     },
     "user_tz": -480
    },
    "id": "XvJMIW-boOtW",
    "outputId": "1c298be3-9d92-4a91-8aa5-53df46398fb1"
   },
   "outputs": [
    {
     "data": {
      "text/plain": [
       "(15375, 80, 160, 1)"
      ]
     },
     "execution_count": 27,
     "metadata": {
      "tags": []
     },
     "output_type": "execute_result"
    }
   ],
   "source": [
    "camera11_day_unseen.shape"
   ]
  },
  {
   "cell_type": "code",
   "execution_count": 65,
   "metadata": {
    "colab": {},
    "colab_type": "code",
    "executionInfo": {
     "elapsed": 3432,
     "status": "ok",
     "timestamp": 1596655278076,
     "user": {
      "displayName": "Tay Khim",
      "photoUrl": "",
      "userId": "00177423956135587504"
     },
     "user_tz": -480
    },
    "id": "eEIK9_EmokP9"
   },
   "outputs": [],
   "source": [
    "model_1 = load_model('/content/drive/My Drive/epochs/model_1_camera9.0095-0.0230.h5')"
   ]
  },
  {
   "cell_type": "code",
   "execution_count": 66,
   "metadata": {
    "colab": {},
    "colab_type": "code",
    "executionInfo": {
     "elapsed": 42603,
     "status": "ok",
     "timestamp": 1596655323706,
     "user": {
      "displayName": "Tay Khim",
      "photoUrl": "",
      "userId": "00177423956135587504"
     },
     "user_tz": -480
    },
    "id": "vGjPmELQpktg"
   },
   "outputs": [],
   "source": [
    "y_pred = model_1.predict(camera11_day_unseen)"
   ]
  },
  {
   "cell_type": "code",
   "execution_count": 67,
   "metadata": {
    "colab": {
     "base_uri": "https://localhost:8080/",
     "height": 136
    },
    "colab_type": "code",
    "executionInfo": {
     "elapsed": 27502,
     "status": "ok",
     "timestamp": 1596655323708,
     "user": {
      "displayName": "Tay Khim",
      "photoUrl": "",
      "userId": "00177423956135587504"
     },
     "user_tz": -480
    },
    "id": "m_1onMd5py5e",
    "outputId": "9159f871-9cbd-46ee-e53a-6fa68e8de034"
   },
   "outputs": [
    {
     "data": {
      "text/plain": [
       "array([[-0.02217651],\n",
       "       [-0.02068214],\n",
       "       [-0.01597555],\n",
       "       ...,\n",
       "       [-0.04949029],\n",
       "       [-0.04849176],\n",
       "       [-0.04705752]], dtype=float32)"
      ]
     },
     "execution_count": 67,
     "metadata": {
      "tags": []
     },
     "output_type": "execute_result"
    }
   ],
   "source": [
    "y_pred"
   ]
  },
  {
   "cell_type": "code",
   "execution_count": 78,
   "metadata": {
    "colab": {},
    "colab_type": "code",
    "executionInfo": {
     "elapsed": 793,
     "status": "ok",
     "timestamp": 1596600096664,
     "user": {
      "displayName": "Tay Khim",
      "photoUrl": "",
      "userId": "00177423956135587504"
     },
     "user_tz": -480
    },
    "id": "fG3bGOYVqAa3"
   },
   "outputs": [],
   "source": [
    "def log_processing(log_file, file_name):\n",
    "    log_file['steering_avg_radian'] = log_file['steering_avg'] * np.pi / 180\n",
    "    log_file.drop(['times', 'brake_avg', 'speed_avg', 'gas_avg', 'steering_avg'], axis=1, inplace=True)\n",
    "    log_file.to_csv(f'/content/drive/My Drive/datasets/{file_name}_processed.csv', index=False)\n",
    "\n",
    "    return log_file"
   ]
  },
  {
   "cell_type": "code",
   "execution_count": 79,
   "metadata": {
    "colab": {},
    "colab_type": "code",
    "executionInfo": {
     "elapsed": 968,
     "status": "ok",
     "timestamp": 1596600100580,
     "user": {
      "displayName": "Tay Khim",
      "photoUrl": "",
      "userId": "00177423956135587504"
     },
     "user_tz": -480
    },
    "id": "MSFSr-w2qLsE"
   },
   "outputs": [],
   "source": [
    "log11_day_unseen = pd.read_csv('/content/drive/My Drive/datasets/log11_cleaned.csv')"
   ]
  },
  {
   "cell_type": "code",
   "execution_count": 80,
   "metadata": {
    "colab": {
     "base_uri": "https://localhost:8080/",
     "height": 204
    },
    "colab_type": "code",
    "executionInfo": {
     "elapsed": 949,
     "status": "ok",
     "timestamp": 1596600102262,
     "user": {
      "displayName": "Tay Khim",
      "photoUrl": "",
      "userId": "00177423956135587504"
     },
     "user_tz": -480
    },
    "id": "d0JcJ17cwvoO",
    "outputId": "1e25278a-9785-4a68-f8d9-d883e2d33f55"
   },
   "outputs": [
    {
     "data": {
      "text/html": [
       "<div>\n",
       "<style scoped>\n",
       "    .dataframe tbody tr th:only-of-type {\n",
       "        vertical-align: middle;\n",
       "    }\n",
       "\n",
       "    .dataframe tbody tr th {\n",
       "        vertical-align: top;\n",
       "    }\n",
       "\n",
       "    .dataframe thead th {\n",
       "        text-align: right;\n",
       "    }\n",
       "</style>\n",
       "<table border=\"1\" class=\"dataframe\">\n",
       "  <thead>\n",
       "    <tr style=\"text-align: right;\">\n",
       "      <th></th>\n",
       "      <th>cam1_ptr</th>\n",
       "      <th>times</th>\n",
       "      <th>steering_avg</th>\n",
       "      <th>brake_avg</th>\n",
       "      <th>speed_avg</th>\n",
       "      <th>gas_avg</th>\n",
       "    </tr>\n",
       "  </thead>\n",
       "  <tbody>\n",
       "    <tr>\n",
       "      <th>0</th>\n",
       "      <td>1400.0</td>\n",
       "      <td>70.04</td>\n",
       "      <td>22.793627</td>\n",
       "      <td>1187.746627</td>\n",
       "      <td>2.905265</td>\n",
       "      <td>0.0</td>\n",
       "    </tr>\n",
       "    <tr>\n",
       "      <th>1</th>\n",
       "      <td>1401.0</td>\n",
       "      <td>70.09</td>\n",
       "      <td>11.299438</td>\n",
       "      <td>1248.506720</td>\n",
       "      <td>2.834722</td>\n",
       "      <td>0.0</td>\n",
       "    </tr>\n",
       "    <tr>\n",
       "      <th>2</th>\n",
       "      <td>1402.0</td>\n",
       "      <td>70.14</td>\n",
       "      <td>1.773112</td>\n",
       "      <td>1322.729122</td>\n",
       "      <td>2.725543</td>\n",
       "      <td>0.0</td>\n",
       "    </tr>\n",
       "    <tr>\n",
       "      <th>3</th>\n",
       "      <td>1403.0</td>\n",
       "      <td>70.19</td>\n",
       "      <td>-0.182578</td>\n",
       "      <td>1369.657668</td>\n",
       "      <td>2.633968</td>\n",
       "      <td>0.0</td>\n",
       "    </tr>\n",
       "    <tr>\n",
       "      <th>4</th>\n",
       "      <td>1404.0</td>\n",
       "      <td>70.24</td>\n",
       "      <td>0.000000</td>\n",
       "      <td>1376.000000</td>\n",
       "      <td>2.541643</td>\n",
       "      <td>0.0</td>\n",
       "    </tr>\n",
       "  </tbody>\n",
       "</table>\n",
       "</div>"
      ],
      "text/plain": [
       "   cam1_ptr  times  steering_avg    brake_avg  speed_avg  gas_avg\n",
       "0    1400.0  70.04     22.793627  1187.746627   2.905265      0.0\n",
       "1    1401.0  70.09     11.299438  1248.506720   2.834722      0.0\n",
       "2    1402.0  70.14      1.773112  1322.729122   2.725543      0.0\n",
       "3    1403.0  70.19     -0.182578  1369.657668   2.633968      0.0\n",
       "4    1404.0  70.24      0.000000  1376.000000   2.541643      0.0"
      ]
     },
     "execution_count": 80,
     "metadata": {
      "tags": []
     },
     "output_type": "execute_result"
    }
   ],
   "source": [
    "log11_day_unseen.head()"
   ]
  },
  {
   "cell_type": "code",
   "execution_count": 81,
   "metadata": {
    "colab": {},
    "colab_type": "code",
    "executionInfo": {
     "elapsed": 655,
     "status": "ok",
     "timestamp": 1596600103921,
     "user": {
      "displayName": "Tay Khim",
      "photoUrl": "",
      "userId": "00177423956135587504"
     },
     "user_tz": -480
    },
    "id": "74efKBCBq-6b"
   },
   "outputs": [],
   "source": [
    "y_true_df = log_processing(log11_day_unseen, 'log11')"
   ]
  },
  {
   "cell_type": "code",
   "execution_count": 68,
   "metadata": {
    "colab": {},
    "colab_type": "code",
    "executionInfo": {
     "elapsed": 897,
     "status": "ok",
     "timestamp": 1596655335874,
     "user": {
      "displayName": "Tay Khim",
      "photoUrl": "",
      "userId": "00177423956135587504"
     },
     "user_tz": -480
    },
    "id": "zALQYVHw1wKd"
   },
   "outputs": [],
   "source": [
    "# ignore the 3 blocks on top \n",
    "model1_df = pd.read_csv('/content/drive/My Drive/datasets/log11_processed.csv')"
   ]
  },
  {
   "cell_type": "code",
   "execution_count": 69,
   "metadata": {
    "colab": {
     "base_uri": "https://localhost:8080/",
     "height": 204
    },
    "colab_type": "code",
    "executionInfo": {
     "elapsed": 779,
     "status": "ok",
     "timestamp": 1596655337552,
     "user": {
      "displayName": "Tay Khim",
      "photoUrl": "",
      "userId": "00177423956135587504"
     },
     "user_tz": -480
    },
    "id": "LLYEs5l3x8cS",
    "outputId": "2a52f46f-ce3c-431b-d73f-25994d78ea43"
   },
   "outputs": [
    {
     "data": {
      "text/html": [
       "<div>\n",
       "<style scoped>\n",
       "    .dataframe tbody tr th:only-of-type {\n",
       "        vertical-align: middle;\n",
       "    }\n",
       "\n",
       "    .dataframe tbody tr th {\n",
       "        vertical-align: top;\n",
       "    }\n",
       "\n",
       "    .dataframe thead th {\n",
       "        text-align: right;\n",
       "    }\n",
       "</style>\n",
       "<table border=\"1\" class=\"dataframe\">\n",
       "  <thead>\n",
       "    <tr style=\"text-align: right;\">\n",
       "      <th></th>\n",
       "      <th>cam1_ptr</th>\n",
       "      <th>steering_avg_radian</th>\n",
       "    </tr>\n",
       "  </thead>\n",
       "  <tbody>\n",
       "    <tr>\n",
       "      <th>0</th>\n",
       "      <td>1400.0</td>\n",
       "      <td>0.397824</td>\n",
       "    </tr>\n",
       "    <tr>\n",
       "      <th>1</th>\n",
       "      <td>1401.0</td>\n",
       "      <td>0.197212</td>\n",
       "    </tr>\n",
       "    <tr>\n",
       "      <th>2</th>\n",
       "      <td>1402.0</td>\n",
       "      <td>0.030947</td>\n",
       "    </tr>\n",
       "    <tr>\n",
       "      <th>3</th>\n",
       "      <td>1403.0</td>\n",
       "      <td>-0.003187</td>\n",
       "    </tr>\n",
       "    <tr>\n",
       "      <th>4</th>\n",
       "      <td>1404.0</td>\n",
       "      <td>0.000000</td>\n",
       "    </tr>\n",
       "  </tbody>\n",
       "</table>\n",
       "</div>"
      ],
      "text/plain": [
       "   cam1_ptr  steering_avg_radian\n",
       "0    1400.0             0.397824\n",
       "1    1401.0             0.197212\n",
       "2    1402.0             0.030947\n",
       "3    1403.0            -0.003187\n",
       "4    1404.0             0.000000"
      ]
     },
     "execution_count": 69,
     "metadata": {
      "tags": []
     },
     "output_type": "execute_result"
    }
   ],
   "source": [
    "model1_df.head()"
   ]
  },
  {
   "cell_type": "code",
   "execution_count": 70,
   "metadata": {
    "colab": {
     "base_uri": "https://localhost:8080/",
     "height": 34
    },
    "colab_type": "code",
    "executionInfo": {
     "elapsed": 770,
     "status": "ok",
     "timestamp": 1596655339051,
     "user": {
      "displayName": "Tay Khim",
      "photoUrl": "",
      "userId": "00177423956135587504"
     },
     "user_tz": -480
    },
    "id": "rO37-0AquVqh",
    "outputId": "3acfcf92-105e-41c2-e887-48c7e9e68db7"
   },
   "outputs": [
    {
     "data": {
      "text/plain": [
       "(15375, 1)"
      ]
     },
     "execution_count": 70,
     "metadata": {
      "tags": []
     },
     "output_type": "execute_result"
    }
   ],
   "source": [
    "y_pred.shape"
   ]
  },
  {
   "cell_type": "code",
   "execution_count": 71,
   "metadata": {
    "colab": {},
    "colab_type": "code",
    "executionInfo": {
     "elapsed": 986,
     "status": "ok",
     "timestamp": 1596655343707,
     "user": {
      "displayName": "Tay Khim",
      "photoUrl": "",
      "userId": "00177423956135587504"
     },
     "user_tz": -480
    },
    "id": "utdpioGZulMP"
   },
   "outputs": [],
   "source": [
    "y_pred = y_pred.reshape(y_pred.shape[0])"
   ]
  },
  {
   "cell_type": "code",
   "execution_count": 72,
   "metadata": {
    "colab": {},
    "colab_type": "code",
    "executionInfo": {
     "elapsed": 2131,
     "status": "ok",
     "timestamp": 1596655354975,
     "user": {
      "displayName": "Tay Khim",
      "photoUrl": "",
      "userId": "00177423956135587504"
     },
     "user_tz": -480
    },
    "id": "aFEsDlP9tEb-"
   },
   "outputs": [],
   "source": [
    "model1_df['y_pred'] = y_pred"
   ]
  },
  {
   "cell_type": "code",
   "execution_count": 73,
   "metadata": {
    "colab": {},
    "colab_type": "code",
    "executionInfo": {
     "elapsed": 1217,
     "status": "ok",
     "timestamp": 1596655354981,
     "user": {
      "displayName": "Tay Khim",
      "photoUrl": "",
      "userId": "00177423956135587504"
     },
     "user_tz": -480
    },
    "id": "IrE49QREzbyH"
   },
   "outputs": [],
   "source": [
    "model1_df.rename(columns={'steering_avg_radian': 'y_true'}, inplace=True)"
   ]
  },
  {
   "cell_type": "code",
   "execution_count": 74,
   "metadata": {
    "colab": {
     "base_uri": "https://localhost:8080/",
     "height": 204
    },
    "colab_type": "code",
    "executionInfo": {
     "elapsed": 819,
     "status": "ok",
     "timestamp": 1596655355587,
     "user": {
      "displayName": "Tay Khim",
      "photoUrl": "",
      "userId": "00177423956135587504"
     },
     "user_tz": -480
    },
    "id": "xrAZ4ZJnt7Yv",
    "outputId": "c0948ee1-60e0-45f2-ae6c-7e02c1b796b9"
   },
   "outputs": [
    {
     "data": {
      "text/html": [
       "<div>\n",
       "<style scoped>\n",
       "    .dataframe tbody tr th:only-of-type {\n",
       "        vertical-align: middle;\n",
       "    }\n",
       "\n",
       "    .dataframe tbody tr th {\n",
       "        vertical-align: top;\n",
       "    }\n",
       "\n",
       "    .dataframe thead th {\n",
       "        text-align: right;\n",
       "    }\n",
       "</style>\n",
       "<table border=\"1\" class=\"dataframe\">\n",
       "  <thead>\n",
       "    <tr style=\"text-align: right;\">\n",
       "      <th></th>\n",
       "      <th>cam1_ptr</th>\n",
       "      <th>y_true</th>\n",
       "      <th>y_pred</th>\n",
       "    </tr>\n",
       "  </thead>\n",
       "  <tbody>\n",
       "    <tr>\n",
       "      <th>0</th>\n",
       "      <td>1400.0</td>\n",
       "      <td>0.397824</td>\n",
       "      <td>-0.022177</td>\n",
       "    </tr>\n",
       "    <tr>\n",
       "      <th>1</th>\n",
       "      <td>1401.0</td>\n",
       "      <td>0.197212</td>\n",
       "      <td>-0.020682</td>\n",
       "    </tr>\n",
       "    <tr>\n",
       "      <th>2</th>\n",
       "      <td>1402.0</td>\n",
       "      <td>0.030947</td>\n",
       "      <td>-0.015976</td>\n",
       "    </tr>\n",
       "    <tr>\n",
       "      <th>3</th>\n",
       "      <td>1403.0</td>\n",
       "      <td>-0.003187</td>\n",
       "      <td>-0.002611</td>\n",
       "    </tr>\n",
       "    <tr>\n",
       "      <th>4</th>\n",
       "      <td>1404.0</td>\n",
       "      <td>0.000000</td>\n",
       "      <td>0.000973</td>\n",
       "    </tr>\n",
       "  </tbody>\n",
       "</table>\n",
       "</div>"
      ],
      "text/plain": [
       "   cam1_ptr    y_true    y_pred\n",
       "0    1400.0  0.397824 -0.022177\n",
       "1    1401.0  0.197212 -0.020682\n",
       "2    1402.0  0.030947 -0.015976\n",
       "3    1403.0 -0.003187 -0.002611\n",
       "4    1404.0  0.000000  0.000973"
      ]
     },
     "execution_count": 74,
     "metadata": {
      "tags": []
     },
     "output_type": "execute_result"
    }
   ],
   "source": [
    "model1_df.head()"
   ]
  },
  {
   "cell_type": "code",
   "execution_count": 75,
   "metadata": {
    "colab": {
     "base_uri": "https://localhost:8080/",
     "height": 51
    },
    "colab_type": "code",
    "executionInfo": {
     "elapsed": 1210,
     "status": "ok",
     "timestamp": 1596655359802,
     "user": {
      "displayName": "Tay Khim",
      "photoUrl": "",
      "userId": "00177423956135587504"
     },
     "user_tz": -480
    },
    "id": "nXN9oPbeuJh4",
    "outputId": "6b71d867-6409-4d2a-b570-455070d26b5d"
   },
   "outputs": [
    {
     "name": "stdout",
     "output_type": "stream",
     "text": [
      "2674.711396524562\n",
      "model evaluated RMSE: 0.4170910798370619\n"
     ]
    }
   ],
   "source": [
    "sq = 0\n",
    "mse = 0\n",
    "for i in range(y_true_df.shape[0]):\n",
    "    sqd = ((model1_df.y_pred[i]-model1_df.y_true[i])**2)\n",
    "    sq = sq + sqd\n",
    "print(sq)\n",
    "mse = sq/y_true_df.shape[0]\n",
    "rmse = np.sqrt(mse)\n",
    "print(\"model evaluated RMSE:\", rmse)"
   ]
  },
  {
   "cell_type": "code",
   "execution_count": 93,
   "metadata": {
    "colab": {
     "base_uri": "https://localhost:8080/",
     "height": 34
    },
    "colab_type": "code",
    "executionInfo": {
     "elapsed": 1126,
     "status": "ok",
     "timestamp": 1596600960635,
     "user": {
      "displayName": "Tay Khim",
      "photoUrl": "",
      "userId": "00177423956135587504"
     },
     "user_tz": -480
    },
    "id": "Gcx0K9Kaz19s",
    "outputId": "2b0ed8f5-e785-42f6-80e4-e2b2852c0615"
   },
   "outputs": [
    {
     "data": {
      "text/plain": [
       "(5.55112639729032, -5.021468639694228)"
      ]
     },
     "execution_count": 93,
     "metadata": {
      "tags": []
     },
     "output_type": "execute_result"
    }
   ],
   "source": [
    "y_true_df.y_true.max(), y_true_df.y_true.min()"
   ]
  },
  {
   "cell_type": "code",
   "execution_count": 94,
   "metadata": {
    "colab": {
     "base_uri": "https://localhost:8080/",
     "height": 34
    },
    "colab_type": "code",
    "executionInfo": {
     "elapsed": 967,
     "status": "ok",
     "timestamp": 1596600977790,
     "user": {
      "displayName": "Tay Khim",
      "photoUrl": "",
      "userId": "00177423956135587504"
     },
     "user_tz": -480
    },
    "id": "9spos3c_1F0b",
    "outputId": "86590a3f-4635-40c9-cd20-af26562cbeb1"
   },
   "outputs": [
    {
     "data": {
      "text/plain": [
       "(2.3750979900360107, -0.5481088757514954)"
      ]
     },
     "execution_count": 94,
     "metadata": {
      "tags": []
     },
     "output_type": "execute_result"
    }
   ],
   "source": [
    "y_true_df.y_pred.max(), y_true_df.y_pred.min()"
   ]
  },
  {
   "cell_type": "code",
   "execution_count": 64,
   "metadata": {
    "colab": {},
    "colab_type": "code",
    "executionInfo": {
     "elapsed": 1223,
     "status": "ok",
     "timestamp": 1596618000771,
     "user": {
      "displayName": "Tay Khim",
      "photoUrl": "",
      "userId": "00177423956135587504"
     },
     "user_tz": -480
    },
    "id": "5ar4SfiU1YV2"
   },
   "outputs": [],
   "source": [
    "model1_df.to_csv('/content/drive/My Drive/datasets/model_1_prediction_day.csv', index=False)"
   ]
  },
  {
   "cell_type": "code",
   "execution_count": 16,
   "metadata": {
    "colab": {},
    "colab_type": "code",
    "executionInfo": {
     "elapsed": 1174,
     "status": "ok",
     "timestamp": 1596635284184,
     "user": {
      "displayName": "Tay Khim",
      "photoUrl": "",
      "userId": "00177423956135587504"
     },
     "user_tz": -480
    },
    "id": "gxb9tZP71O4_"
   },
   "outputs": [],
   "source": [
    "model1_df = pd.read_csv('/content/drive/My Drive/datasets/model_1_prediction_day.csv')"
   ]
  },
  {
   "cell_type": "code",
   "execution_count": 76,
   "metadata": {
    "colab": {},
    "colab_type": "code",
    "executionInfo": {
     "elapsed": 801,
     "status": "ok",
     "timestamp": 1596655380237,
     "user": {
      "displayName": "Tay Khim",
      "photoUrl": "",
      "userId": "00177423956135587504"
     },
     "user_tz": -480
    },
    "id": "ArSsPFgR2d2V"
   },
   "outputs": [],
   "source": [
    "##### trying to figure out how to do the threshold and plot good vs bad predictions\n",
    "model1_df['delta'] = abs(model1_df['y_pred']) - (model1_df['y_true'])"
   ]
  },
  {
   "cell_type": "code",
   "execution_count": null,
   "metadata": {
    "colab": {},
    "colab_type": "code",
    "id": "WIeCyzdA2d2X"
   },
   "outputs": [],
   "source": [
    "# setting a threshold level of 0.1"
   ]
  },
  {
   "cell_type": "code",
   "execution_count": 77,
   "metadata": {
    "colab": {
     "base_uri": "https://localhost:8080/",
     "height": 204
    },
    "colab_type": "code",
    "executionInfo": {
     "elapsed": 1015,
     "status": "ok",
     "timestamp": 1596655387597,
     "user": {
      "displayName": "Tay Khim",
      "photoUrl": "",
      "userId": "00177423956135587504"
     },
     "user_tz": -480
    },
    "id": "ln7OhnNH2d2a",
    "outputId": "adff972b-d3b6-4afe-e037-674128804f3e"
   },
   "outputs": [
    {
     "data": {
      "text/html": [
       "<div>\n",
       "<style scoped>\n",
       "    .dataframe tbody tr th:only-of-type {\n",
       "        vertical-align: middle;\n",
       "    }\n",
       "\n",
       "    .dataframe tbody tr th {\n",
       "        vertical-align: top;\n",
       "    }\n",
       "\n",
       "    .dataframe thead th {\n",
       "        text-align: right;\n",
       "    }\n",
       "</style>\n",
       "<table border=\"1\" class=\"dataframe\">\n",
       "  <thead>\n",
       "    <tr style=\"text-align: right;\">\n",
       "      <th></th>\n",
       "      <th>cam1_ptr</th>\n",
       "      <th>y_true</th>\n",
       "      <th>y_pred</th>\n",
       "      <th>delta</th>\n",
       "    </tr>\n",
       "  </thead>\n",
       "  <tbody>\n",
       "    <tr>\n",
       "      <th>0</th>\n",
       "      <td>1400.0</td>\n",
       "      <td>0.397824</td>\n",
       "      <td>-0.022177</td>\n",
       "      <td>-0.375647</td>\n",
       "    </tr>\n",
       "    <tr>\n",
       "      <th>1</th>\n",
       "      <td>1401.0</td>\n",
       "      <td>0.197212</td>\n",
       "      <td>-0.020682</td>\n",
       "      <td>-0.176530</td>\n",
       "    </tr>\n",
       "    <tr>\n",
       "      <th>2</th>\n",
       "      <td>1402.0</td>\n",
       "      <td>0.030947</td>\n",
       "      <td>-0.015976</td>\n",
       "      <td>-0.014971</td>\n",
       "    </tr>\n",
       "    <tr>\n",
       "      <th>3</th>\n",
       "      <td>1403.0</td>\n",
       "      <td>-0.003187</td>\n",
       "      <td>-0.002611</td>\n",
       "      <td>0.005798</td>\n",
       "    </tr>\n",
       "    <tr>\n",
       "      <th>4</th>\n",
       "      <td>1404.0</td>\n",
       "      <td>0.000000</td>\n",
       "      <td>0.000973</td>\n",
       "      <td>0.000973</td>\n",
       "    </tr>\n",
       "  </tbody>\n",
       "</table>\n",
       "</div>"
      ],
      "text/plain": [
       "   cam1_ptr    y_true    y_pred     delta\n",
       "0    1400.0  0.397824 -0.022177 -0.375647\n",
       "1    1401.0  0.197212 -0.020682 -0.176530\n",
       "2    1402.0  0.030947 -0.015976 -0.014971\n",
       "3    1403.0 -0.003187 -0.002611  0.005798\n",
       "4    1404.0  0.000000  0.000973  0.000973"
      ]
     },
     "execution_count": 77,
     "metadata": {
      "tags": []
     },
     "output_type": "execute_result"
    }
   ],
   "source": [
    "model1_df.head()"
   ]
  },
  {
   "cell_type": "code",
   "execution_count": 78,
   "metadata": {
    "colab": {},
    "colab_type": "code",
    "executionInfo": {
     "elapsed": 850,
     "status": "ok",
     "timestamp": 1596655407993,
     "user": {
      "displayName": "Tay Khim",
      "photoUrl": "",
      "userId": "00177423956135587504"
     },
     "user_tz": -480
    },
    "id": "k4OihX372d2f"
   },
   "outputs": [],
   "source": [
    "model1_df['threshold'] = np.where(abs(model1_df['delta']) < 0.1, True, False)"
   ]
  },
  {
   "cell_type": "code",
   "execution_count": 79,
   "metadata": {
    "colab": {
     "base_uri": "https://localhost:8080/",
     "height": 68
    },
    "colab_type": "code",
    "executionInfo": {
     "elapsed": 855,
     "status": "ok",
     "timestamp": 1596655409611,
     "user": {
      "displayName": "Tay Khim",
      "photoUrl": "",
      "userId": "00177423956135587504"
     },
     "user_tz": -480
    },
    "id": "eOPZlrxB2d2i",
    "outputId": "527b309a-2cd4-4233-9a04-3b7b2c250481"
   },
   "outputs": [
    {
     "data": {
      "text/plain": [
       "True     11757\n",
       "False     3618\n",
       "Name: threshold, dtype: int64"
      ]
     },
     "execution_count": 79,
     "metadata": {
      "tags": []
     },
     "output_type": "execute_result"
    }
   ],
   "source": [
    "y_true_df['threshold'].value_counts()"
   ]
  },
  {
   "cell_type": "code",
   "execution_count": 80,
   "metadata": {
    "colab": {
     "base_uri": "https://localhost:8080/",
     "height": 68
    },
    "colab_type": "code",
    "executionInfo": {
     "elapsed": 816,
     "status": "ok",
     "timestamp": 1596655454961,
     "user": {
      "displayName": "Tay Khim",
      "photoUrl": "",
      "userId": "00177423956135587504"
     },
     "user_tz": -480
    },
    "id": "dxquDrhA2r49",
    "outputId": "fc58738d-1fe8-44c3-c38a-eab961c2ee7f"
   },
   "outputs": [
    {
     "data": {
      "text/plain": [
       "True     11548\n",
       "False     3827\n",
       "Name: threshold, dtype: int64"
      ]
     },
     "execution_count": 80,
     "metadata": {
      "tags": []
     },
     "output_type": "execute_result"
    }
   ],
   "source": [
    "model1_df['threshold'].value_counts()"
   ]
  },
  {
   "cell_type": "code",
   "execution_count": 22,
   "metadata": {
    "colab": {
     "base_uri": "https://localhost:8080/",
     "height": 419
    },
    "colab_type": "code",
    "executionInfo": {
     "elapsed": 676,
     "status": "ok",
     "timestamp": 1596635296529,
     "user": {
      "displayName": "Tay Khim",
      "photoUrl": "",
      "userId": "00177423956135587504"
     },
     "user_tz": -480
    },
    "id": "1h6Pwj2O3Gxx",
    "outputId": "ff004919-abab-4a9e-b792-b22debb3be83"
   },
   "outputs": [
    {
     "data": {
      "text/html": [
       "<div>\n",
       "<style scoped>\n",
       "    .dataframe tbody tr th:only-of-type {\n",
       "        vertical-align: middle;\n",
       "    }\n",
       "\n",
       "    .dataframe tbody tr th {\n",
       "        vertical-align: top;\n",
       "    }\n",
       "\n",
       "    .dataframe thead th {\n",
       "        text-align: right;\n",
       "    }\n",
       "</style>\n",
       "<table border=\"1\" class=\"dataframe\">\n",
       "  <thead>\n",
       "    <tr style=\"text-align: right;\">\n",
       "      <th></th>\n",
       "      <th>cam1_ptr</th>\n",
       "      <th>y_true</th>\n",
       "      <th>y_pred</th>\n",
       "      <th>delta</th>\n",
       "      <th>threshold</th>\n",
       "    </tr>\n",
       "  </thead>\n",
       "  <tbody>\n",
       "    <tr>\n",
       "      <th>0</th>\n",
       "      <td>1400.0</td>\n",
       "      <td>0.397824</td>\n",
       "      <td>-0.022177</td>\n",
       "      <td>-0.420000</td>\n",
       "      <td>False</td>\n",
       "    </tr>\n",
       "    <tr>\n",
       "      <th>1</th>\n",
       "      <td>1401.0</td>\n",
       "      <td>0.197212</td>\n",
       "      <td>-0.020682</td>\n",
       "      <td>-0.217895</td>\n",
       "      <td>False</td>\n",
       "    </tr>\n",
       "    <tr>\n",
       "      <th>9</th>\n",
       "      <td>1409.0</td>\n",
       "      <td>0.099765</td>\n",
       "      <td>-0.017349</td>\n",
       "      <td>-0.117115</td>\n",
       "      <td>False</td>\n",
       "    </tr>\n",
       "    <tr>\n",
       "      <th>10</th>\n",
       "      <td>1410.0</td>\n",
       "      <td>0.604226</td>\n",
       "      <td>-0.022537</td>\n",
       "      <td>-0.626762</td>\n",
       "      <td>False</td>\n",
       "    </tr>\n",
       "    <tr>\n",
       "      <th>11</th>\n",
       "      <td>1411.0</td>\n",
       "      <td>0.797132</td>\n",
       "      <td>-0.008383</td>\n",
       "      <td>-0.805515</td>\n",
       "      <td>False</td>\n",
       "    </tr>\n",
       "    <tr>\n",
       "      <th>...</th>\n",
       "      <td>...</td>\n",
       "      <td>...</td>\n",
       "      <td>...</td>\n",
       "      <td>...</td>\n",
       "      <td>...</td>\n",
       "    </tr>\n",
       "    <tr>\n",
       "      <th>15369</th>\n",
       "      <td>16769.0</td>\n",
       "      <td>0.484483</td>\n",
       "      <td>-0.049914</td>\n",
       "      <td>-0.534397</td>\n",
       "      <td>False</td>\n",
       "    </tr>\n",
       "    <tr>\n",
       "      <th>15370</th>\n",
       "      <td>16770.0</td>\n",
       "      <td>0.597963</td>\n",
       "      <td>-0.055071</td>\n",
       "      <td>-0.653034</td>\n",
       "      <td>False</td>\n",
       "    </tr>\n",
       "    <tr>\n",
       "      <th>15371</th>\n",
       "      <td>16771.0</td>\n",
       "      <td>0.616708</td>\n",
       "      <td>-0.053195</td>\n",
       "      <td>-0.669902</td>\n",
       "      <td>False</td>\n",
       "    </tr>\n",
       "    <tr>\n",
       "      <th>15372</th>\n",
       "      <td>16772.0</td>\n",
       "      <td>0.374523</td>\n",
       "      <td>-0.049490</td>\n",
       "      <td>-0.424013</td>\n",
       "      <td>False</td>\n",
       "    </tr>\n",
       "    <tr>\n",
       "      <th>15373</th>\n",
       "      <td>16773.0</td>\n",
       "      <td>0.085759</td>\n",
       "      <td>-0.048492</td>\n",
       "      <td>-0.134250</td>\n",
       "      <td>False</td>\n",
       "    </tr>\n",
       "  </tbody>\n",
       "</table>\n",
       "<p>3843 rows × 5 columns</p>\n",
       "</div>"
      ],
      "text/plain": [
       "       cam1_ptr    y_true    y_pred     delta  threshold\n",
       "0        1400.0  0.397824 -0.022177 -0.420000      False\n",
       "1        1401.0  0.197212 -0.020682 -0.217895      False\n",
       "9        1409.0  0.099765 -0.017349 -0.117115      False\n",
       "10       1410.0  0.604226 -0.022537 -0.626762      False\n",
       "11       1411.0  0.797132 -0.008383 -0.805515      False\n",
       "...         ...       ...       ...       ...        ...\n",
       "15369   16769.0  0.484483 -0.049914 -0.534397      False\n",
       "15370   16770.0  0.597963 -0.055071 -0.653034      False\n",
       "15371   16771.0  0.616708 -0.053195 -0.669902      False\n",
       "15372   16772.0  0.374523 -0.049490 -0.424013      False\n",
       "15373   16773.0  0.085759 -0.048492 -0.134250      False\n",
       "\n",
       "[3843 rows x 5 columns]"
      ]
     },
     "execution_count": 22,
     "metadata": {
      "tags": []
     },
     "output_type": "execute_result"
    }
   ],
   "source": [
    "model1_df[model1_df.threshold == False]"
   ]
  },
  {
   "cell_type": "code",
   "execution_count": 33,
   "metadata": {
    "colab": {},
    "colab_type": "code",
    "executionInfo": {
     "elapsed": 708,
     "status": "ok",
     "timestamp": 1596635970325,
     "user": {
      "displayName": "Tay Khim",
      "photoUrl": "",
      "userId": "00177423956135587504"
     },
     "user_tz": -480
    },
    "id": "UZ7Tw7vo4UXD"
   },
   "outputs": [],
   "source": [
    "model1_df.to_csv('/content/drive/My Drive/datasets/model_1_prediction_day_final.csv', index=False)"
   ]
  },
  {
   "cell_type": "code",
   "execution_count": null,
   "metadata": {
    "colab": {},
    "colab_type": "code",
    "id": "vW8nEf5A5_GI"
   },
   "outputs": [],
   "source": [
    "################################# model 1 night prediction etc ##########################"
   ]
  },
  {
   "cell_type": "code",
   "execution_count": 81,
   "metadata": {
    "colab": {},
    "colab_type": "code",
    "executionInfo": {
     "elapsed": 2739,
     "status": "ok",
     "timestamp": 1596619040424,
     "user": {
      "displayName": "Tay Khim",
      "photoUrl": "",
      "userId": "00177423956135587504"
     },
     "user_tz": -480
    },
    "id": "VN8qMCEI5D2h"
   },
   "outputs": [],
   "source": [
    "camera10_night_unseen = load('/content/drive/My Drive/datasets/camera10_cleaned.npz')\n",
    "log10_night_unseen = pd.read_csv('/content/drive/My Drive/datasets/log10_cleaned.csv')"
   ]
  },
  {
   "cell_type": "code",
   "execution_count": null,
   "metadata": {
    "colab": {},
    "colab_type": "code",
    "id": "twjbcHWZ6J5h"
   },
   "outputs": [],
   "source": [
    "model_1 = load_model('/content/drive/My Drive/epochs/model_1_camera9.0095-0.0230.h5')"
   ]
  },
  {
   "cell_type": "code",
   "execution_count": 82,
   "metadata": {
    "colab": {},
    "colab_type": "code",
    "executionInfo": {
     "elapsed": 1401,
     "status": "ok",
     "timestamp": 1596619049071,
     "user": {
      "displayName": "Tay Khim",
      "photoUrl": "",
      "userId": "00177423956135587504"
     },
     "user_tz": -480
    },
    "id": "XCSUi9u66J5Y"
   },
   "outputs": [],
   "source": [
    "def camera_processing(camera_file, file_name):\n",
    "\n",
    "  # camera file\n",
    "  camera = camera_file.f.arr_0\n",
    "  camera = camera.astype('float32')\n",
    "  camera = camera/255\n",
    "  camera = camera.reshape(camera.shape[0], camera.shape[1], camera.shape[2], 1)\n",
    "  savez_compressed(f'/content/drive/My Drive/datasets/{file_name}_processed', camera)\n",
    "  \n",
    "  return camera"
   ]
  },
  {
   "cell_type": "code",
   "execution_count": 84,
   "metadata": {
    "colab": {},
    "colab_type": "code",
    "executionInfo": {
     "elapsed": 115256,
     "status": "ok",
     "timestamp": 1596619199961,
     "user": {
      "displayName": "Tay Khim",
      "photoUrl": "",
      "userId": "00177423956135587504"
     },
     "user_tz": -480
    },
    "id": "Zvx0Qom_6J5p"
   },
   "outputs": [],
   "source": [
    "def log_processing(log_file, file_name):\n",
    "  log_file['steering_avg_radian'] = log_file['steering_avg'] * np.pi / 180\n",
    "  log_file.drop(['times', 'brake_avg', 'speed_avg', 'gas_avg', 'steering_avg'], axis=1, inplace=True)\n",
    "  log_file.to_csv(f'/content/drive/My Drive/datasets/{file_name}_processed.csv', index=False)\n",
    "\n",
    "  return log_file"
   ]
  },
  {
   "cell_type": "code",
   "execution_count": 83,
   "metadata": {
    "colab": {},
    "colab_type": "code",
    "executionInfo": {
     "elapsed": 124918,
     "status": "ok",
     "timestamp": 1596619199958,
     "user": {
      "displayName": "Tay Khim",
      "photoUrl": "",
      "userId": "00177423956135587504"
     },
     "user_tz": -480
    },
    "id": "st3reaPr6WAg"
   },
   "outputs": [],
   "source": [
    "camera10_night_unseen = camera_processing(camera10_night_unseen, 'camera10')"
   ]
  },
  {
   "cell_type": "code",
   "execution_count": 85,
   "metadata": {
    "colab": {},
    "colab_type": "code",
    "executionInfo": {
     "elapsed": 1306,
     "status": "ok",
     "timestamp": 1596619201282,
     "user": {
      "displayName": "Tay Khim",
      "photoUrl": "",
      "userId": "00177423956135587504"
     },
     "user_tz": -480
    },
    "id": "3MGwsMaT6eHG"
   },
   "outputs": [],
   "source": [
    "log10_night_unseen = log_processing(log10_night_unseen, 'log10')"
   ]
  },
  {
   "cell_type": "code",
   "execution_count": 86,
   "metadata": {
    "colab": {},
    "colab_type": "code",
    "executionInfo": {
     "elapsed": 114171,
     "status": "ok",
     "timestamp": 1596619339030,
     "user": {
      "displayName": "Tay Khim",
      "photoUrl": "",
      "userId": "00177423956135587504"
     },
     "user_tz": -480
    },
    "id": "pN8MxWhs6J5k"
   },
   "outputs": [],
   "source": [
    "y_pred = model_1.predict(camera10_night_unseen)"
   ]
  },
  {
   "cell_type": "code",
   "execution_count": 87,
   "metadata": {
    "colab": {},
    "colab_type": "code",
    "executionInfo": {
     "elapsed": 8474,
     "status": "ok",
     "timestamp": 1596619347513,
     "user": {
      "displayName": "Tay Khim",
      "photoUrl": "",
      "userId": "00177423956135587504"
     },
     "user_tz": -480
    },
    "id": "jY1DgQyE6J52"
   },
   "outputs": [],
   "source": [
    "# ignore the 3 blocks on top \n",
    "model1_10night_df = pd.read_csv('/content/drive/My Drive/datasets/log10_processed.csv')"
   ]
  },
  {
   "cell_type": "code",
   "execution_count": 88,
   "metadata": {
    "colab": {
     "base_uri": "https://localhost:8080/",
     "height": 204
    },
    "colab_type": "code",
    "executionInfo": {
     "elapsed": 8444,
     "status": "ok",
     "timestamp": 1596619347514,
     "user": {
      "displayName": "Tay Khim",
      "photoUrl": "",
      "userId": "00177423956135587504"
     },
     "user_tz": -480
    },
    "id": "Y97Sldgf6J54",
    "outputId": "a83ce90d-15fd-40be-d1c1-6e891aeaf71d"
   },
   "outputs": [
    {
     "data": {
      "text/html": [
       "<div>\n",
       "<style scoped>\n",
       "    .dataframe tbody tr th:only-of-type {\n",
       "        vertical-align: middle;\n",
       "    }\n",
       "\n",
       "    .dataframe tbody tr th {\n",
       "        vertical-align: top;\n",
       "    }\n",
       "\n",
       "    .dataframe thead th {\n",
       "        text-align: right;\n",
       "    }\n",
       "</style>\n",
       "<table border=\"1\" class=\"dataframe\">\n",
       "  <thead>\n",
       "    <tr style=\"text-align: right;\">\n",
       "      <th></th>\n",
       "      <th>cam1_ptr</th>\n",
       "      <th>steering_avg_radian</th>\n",
       "    </tr>\n",
       "  </thead>\n",
       "  <tbody>\n",
       "    <tr>\n",
       "      <th>0</th>\n",
       "      <td>1400.0</td>\n",
       "      <td>2.458457</td>\n",
       "    </tr>\n",
       "    <tr>\n",
       "      <th>1</th>\n",
       "      <td>1401.0</td>\n",
       "      <td>2.515180</td>\n",
       "    </tr>\n",
       "    <tr>\n",
       "      <th>2</th>\n",
       "      <td>1402.0</td>\n",
       "      <td>2.536196</td>\n",
       "    </tr>\n",
       "    <tr>\n",
       "      <th>3</th>\n",
       "      <td>1403.0</td>\n",
       "      <td>2.392565</td>\n",
       "    </tr>\n",
       "    <tr>\n",
       "      <th>4</th>\n",
       "      <td>1404.0</td>\n",
       "      <td>2.069322</td>\n",
       "    </tr>\n",
       "  </tbody>\n",
       "</table>\n",
       "</div>"
      ],
      "text/plain": [
       "   cam1_ptr  steering_avg_radian\n",
       "0    1400.0             2.458457\n",
       "1    1401.0             2.515180\n",
       "2    1402.0             2.536196\n",
       "3    1403.0             2.392565\n",
       "4    1404.0             2.069322"
      ]
     },
     "execution_count": 88,
     "metadata": {
      "tags": []
     },
     "output_type": "execute_result"
    }
   ],
   "source": [
    "model1_10night_df.head()"
   ]
  },
  {
   "cell_type": "code",
   "execution_count": 89,
   "metadata": {
    "colab": {},
    "colab_type": "code",
    "executionInfo": {
     "elapsed": 1305,
     "status": "ok",
     "timestamp": 1596619581988,
     "user": {
      "displayName": "Tay Khim",
      "photoUrl": "",
      "userId": "00177423956135587504"
     },
     "user_tz": -480
    },
    "id": "dgmMl-kd6J5_"
   },
   "outputs": [],
   "source": [
    "y_pred = y_pred.reshape(y_pred.shape[0])"
   ]
  },
  {
   "cell_type": "code",
   "execution_count": 90,
   "metadata": {
    "colab": {},
    "colab_type": "code",
    "executionInfo": {
     "elapsed": 1879,
     "status": "ok",
     "timestamp": 1596619591372,
     "user": {
      "displayName": "Tay Khim",
      "photoUrl": "",
      "userId": "00177423956135587504"
     },
     "user_tz": -480
    },
    "id": "e_Oo74zj6J6B"
   },
   "outputs": [],
   "source": [
    "model1_10night_df['y_pred'] = y_pred"
   ]
  },
  {
   "cell_type": "code",
   "execution_count": 91,
   "metadata": {
    "colab": {},
    "colab_type": "code",
    "executionInfo": {
     "elapsed": 1015,
     "status": "ok",
     "timestamp": 1596619596872,
     "user": {
      "displayName": "Tay Khim",
      "photoUrl": "",
      "userId": "00177423956135587504"
     },
     "user_tz": -480
    },
    "id": "B2mGZZtu6J6C"
   },
   "outputs": [],
   "source": [
    "model1_10night_df.rename(columns={'steering_avg_radian': 'y_true'}, inplace=True)"
   ]
  },
  {
   "cell_type": "code",
   "execution_count": 92,
   "metadata": {
    "colab": {
     "base_uri": "https://localhost:8080/",
     "height": 204
    },
    "colab_type": "code",
    "executionInfo": {
     "elapsed": 1030,
     "status": "ok",
     "timestamp": 1596619601134,
     "user": {
      "displayName": "Tay Khim",
      "photoUrl": "",
      "userId": "00177423956135587504"
     },
     "user_tz": -480
    },
    "id": "bBzAbyIm6J6E",
    "outputId": "eec4799d-7cc9-4108-a1ea-ac63e0288532"
   },
   "outputs": [
    {
     "data": {
      "text/html": [
       "<div>\n",
       "<style scoped>\n",
       "    .dataframe tbody tr th:only-of-type {\n",
       "        vertical-align: middle;\n",
       "    }\n",
       "\n",
       "    .dataframe tbody tr th {\n",
       "        vertical-align: top;\n",
       "    }\n",
       "\n",
       "    .dataframe thead th {\n",
       "        text-align: right;\n",
       "    }\n",
       "</style>\n",
       "<table border=\"1\" class=\"dataframe\">\n",
       "  <thead>\n",
       "    <tr style=\"text-align: right;\">\n",
       "      <th></th>\n",
       "      <th>cam1_ptr</th>\n",
       "      <th>y_true</th>\n",
       "      <th>y_pred</th>\n",
       "    </tr>\n",
       "  </thead>\n",
       "  <tbody>\n",
       "    <tr>\n",
       "      <th>0</th>\n",
       "      <td>1400.0</td>\n",
       "      <td>2.458457</td>\n",
       "      <td>-0.350188</td>\n",
       "    </tr>\n",
       "    <tr>\n",
       "      <th>1</th>\n",
       "      <td>1401.0</td>\n",
       "      <td>2.515180</td>\n",
       "      <td>-0.378044</td>\n",
       "    </tr>\n",
       "    <tr>\n",
       "      <th>2</th>\n",
       "      <td>1402.0</td>\n",
       "      <td>2.536196</td>\n",
       "      <td>-0.421832</td>\n",
       "    </tr>\n",
       "    <tr>\n",
       "      <th>3</th>\n",
       "      <td>1403.0</td>\n",
       "      <td>2.392565</td>\n",
       "      <td>-0.443988</td>\n",
       "    </tr>\n",
       "    <tr>\n",
       "      <th>4</th>\n",
       "      <td>1404.0</td>\n",
       "      <td>2.069322</td>\n",
       "      <td>-0.466664</td>\n",
       "    </tr>\n",
       "  </tbody>\n",
       "</table>\n",
       "</div>"
      ],
      "text/plain": [
       "   cam1_ptr    y_true    y_pred\n",
       "0    1400.0  2.458457 -0.350188\n",
       "1    1401.0  2.515180 -0.378044\n",
       "2    1402.0  2.536196 -0.421832\n",
       "3    1403.0  2.392565 -0.443988\n",
       "4    1404.0  2.069322 -0.466664"
      ]
     },
     "execution_count": 92,
     "metadata": {
      "tags": []
     },
     "output_type": "execute_result"
    }
   ],
   "source": [
    "model1_10night_df.head()"
   ]
  },
  {
   "cell_type": "code",
   "execution_count": 93,
   "metadata": {
    "colab": {
     "base_uri": "https://localhost:8080/",
     "height": 51
    },
    "colab_type": "code",
    "executionInfo": {
     "elapsed": 1630,
     "status": "ok",
     "timestamp": 1596619614186,
     "user": {
      "displayName": "Tay Khim",
      "photoUrl": "",
      "userId": "00177423956135587504"
     },
     "user_tz": -480
    },
    "id": "OhD-MrRU6J6G",
    "outputId": "08115736-7b67-4a63-9a59-8e557d774aec"
   },
   "outputs": [
    {
     "name": "stdout",
     "output_type": "stream",
     "text": [
      "11121.972921553537\n",
      "model evaluated RMSE: 0.8505176968302119\n"
     ]
    }
   ],
   "source": [
    "sq = 0\n",
    "mse = 0\n",
    "for i in range(y_true_df.shape[0]):\n",
    "    sqd = ((model1_10night_df.y_pred[i]-model1_10night_df.y_true[i])**2)\n",
    "    sq = sq + sqd\n",
    "print(sq)\n",
    "mse = sq/y_true_df.shape[0]\n",
    "rmse = np.sqrt(mse)\n",
    "print(\"model evaluated RMSE:\", rmse)"
   ]
  },
  {
   "cell_type": "code",
   "execution_count": 94,
   "metadata": {
    "colab": {
     "base_uri": "https://localhost:8080/",
     "height": 34
    },
    "colab_type": "code",
    "executionInfo": {
     "elapsed": 1006,
     "status": "ok",
     "timestamp": 1596619645431,
     "user": {
      "displayName": "Tay Khim",
      "photoUrl": "",
      "userId": "00177423956135587504"
     },
     "user_tz": -480
    },
    "id": "FwbfJl-26J6H",
    "outputId": "348d3b23-5132-495c-b39a-9007f58c50b1"
   },
   "outputs": [
    {
     "data": {
      "text/plain": [
       "(7.6479610966007066, -10.426874706007007)"
      ]
     },
     "execution_count": 94,
     "metadata": {
      "tags": []
     },
     "output_type": "execute_result"
    }
   ],
   "source": [
    "model1_10night_df.y_true.max(), model1_10night_df.y_true.min()"
   ]
  },
  {
   "cell_type": "code",
   "execution_count": 95,
   "metadata": {
    "colab": {
     "base_uri": "https://localhost:8080/",
     "height": 34
    },
    "colab_type": "code",
    "executionInfo": {
     "elapsed": 1022,
     "status": "ok",
     "timestamp": 1596619668903,
     "user": {
      "displayName": "Tay Khim",
      "photoUrl": "",
      "userId": "00177423956135587504"
     },
     "user_tz": -480
    },
    "id": "kxRfYly66J6K",
    "outputId": "21deebcc-6668-4260-e005-565616f62260"
   },
   "outputs": [
    {
     "data": {
      "text/plain": [
       "(2.399102210998535, -2.124227285385132)"
      ]
     },
     "execution_count": 95,
     "metadata": {
      "tags": []
     },
     "output_type": "execute_result"
    }
   ],
   "source": [
    "model1_10night_df.y_pred.max(), model1_10night_df.y_pred.min()"
   ]
  },
  {
   "cell_type": "code",
   "execution_count": 96,
   "metadata": {
    "colab": {},
    "colab_type": "code",
    "executionInfo": {
     "elapsed": 922,
     "status": "ok",
     "timestamp": 1596619705463,
     "user": {
      "displayName": "Tay Khim",
      "photoUrl": "",
      "userId": "00177423956135587504"
     },
     "user_tz": -480
    },
    "id": "hWOu1WFO6J6P"
   },
   "outputs": [],
   "source": [
    "##### trying to figure out how to do the threshold and plot good vs bad predictions\n",
    "model1_10night_df['delta'] = model1_10night_df['y_pred'] - model1_10night_df['y_true']"
   ]
  },
  {
   "cell_type": "code",
   "execution_count": null,
   "metadata": {
    "colab": {},
    "colab_type": "code",
    "id": "fY-lBc526J6Q"
   },
   "outputs": [],
   "source": [
    "# setting a threshold level of 0.1"
   ]
  },
  {
   "cell_type": "code",
   "execution_count": 97,
   "metadata": {
    "colab": {
     "base_uri": "https://localhost:8080/",
     "height": 204
    },
    "colab_type": "code",
    "executionInfo": {
     "elapsed": 924,
     "status": "ok",
     "timestamp": 1596619710101,
     "user": {
      "displayName": "Tay Khim",
      "photoUrl": "",
      "userId": "00177423956135587504"
     },
     "user_tz": -480
    },
    "id": "9tfMPNFW6J6S",
    "outputId": "d749cbf7-b1b0-4d3f-a531-63ebd8023e64"
   },
   "outputs": [
    {
     "data": {
      "text/html": [
       "<div>\n",
       "<style scoped>\n",
       "    .dataframe tbody tr th:only-of-type {\n",
       "        vertical-align: middle;\n",
       "    }\n",
       "\n",
       "    .dataframe tbody tr th {\n",
       "        vertical-align: top;\n",
       "    }\n",
       "\n",
       "    .dataframe thead th {\n",
       "        text-align: right;\n",
       "    }\n",
       "</style>\n",
       "<table border=\"1\" class=\"dataframe\">\n",
       "  <thead>\n",
       "    <tr style=\"text-align: right;\">\n",
       "      <th></th>\n",
       "      <th>cam1_ptr</th>\n",
       "      <th>y_true</th>\n",
       "      <th>y_pred</th>\n",
       "      <th>delta</th>\n",
       "    </tr>\n",
       "  </thead>\n",
       "  <tbody>\n",
       "    <tr>\n",
       "      <th>0</th>\n",
       "      <td>1400.0</td>\n",
       "      <td>2.458457</td>\n",
       "      <td>-0.350188</td>\n",
       "      <td>-2.808645</td>\n",
       "    </tr>\n",
       "    <tr>\n",
       "      <th>1</th>\n",
       "      <td>1401.0</td>\n",
       "      <td>2.515180</td>\n",
       "      <td>-0.378044</td>\n",
       "      <td>-2.893224</td>\n",
       "    </tr>\n",
       "    <tr>\n",
       "      <th>2</th>\n",
       "      <td>1402.0</td>\n",
       "      <td>2.536196</td>\n",
       "      <td>-0.421832</td>\n",
       "      <td>-2.958029</td>\n",
       "    </tr>\n",
       "    <tr>\n",
       "      <th>3</th>\n",
       "      <td>1403.0</td>\n",
       "      <td>2.392565</td>\n",
       "      <td>-0.443988</td>\n",
       "      <td>-2.836554</td>\n",
       "    </tr>\n",
       "    <tr>\n",
       "      <th>4</th>\n",
       "      <td>1404.0</td>\n",
       "      <td>2.069322</td>\n",
       "      <td>-0.466664</td>\n",
       "      <td>-2.535986</td>\n",
       "    </tr>\n",
       "  </tbody>\n",
       "</table>\n",
       "</div>"
      ],
      "text/plain": [
       "   cam1_ptr    y_true    y_pred     delta\n",
       "0    1400.0  2.458457 -0.350188 -2.808645\n",
       "1    1401.0  2.515180 -0.378044 -2.893224\n",
       "2    1402.0  2.536196 -0.421832 -2.958029\n",
       "3    1403.0  2.392565 -0.443988 -2.836554\n",
       "4    1404.0  2.069322 -0.466664 -2.535986"
      ]
     },
     "execution_count": 97,
     "metadata": {
      "tags": []
     },
     "output_type": "execute_result"
    }
   ],
   "source": [
    "model1_10night_df.head()"
   ]
  },
  {
   "cell_type": "code",
   "execution_count": 98,
   "metadata": {
    "colab": {},
    "colab_type": "code",
    "executionInfo": {
     "elapsed": 1101,
     "status": "ok",
     "timestamp": 1596619721277,
     "user": {
      "displayName": "Tay Khim",
      "photoUrl": "",
      "userId": "00177423956135587504"
     },
     "user_tz": -480
    },
    "id": "ITTpgAm46J6U"
   },
   "outputs": [],
   "source": [
    "model1_10night_df['threshold'] = np.where(abs(model1_10night_df['delta']) < 0.1, True, False)"
   ]
  },
  {
   "cell_type": "code",
   "execution_count": null,
   "metadata": {
    "colab": {
     "base_uri": "https://localhost:8080/",
     "height": 68
    },
    "colab_type": "code",
    "executionInfo": {
     "elapsed": 873,
     "status": "ok",
     "timestamp": 1596618088736,
     "user": {
      "displayName": "Tay Khim",
      "photoUrl": "",
      "userId": "00177423956135587504"
     },
     "user_tz": -480
    },
    "id": "6BEPeh266J6V",
    "outputId": "4402fa7f-73a9-46fb-c29d-998dce3e2d42"
   },
   "outputs": [
    {
     "data": {
      "text/plain": [
       "True     11054\n",
       "False     4321\n",
       "Name: threshold, dtype: int64"
      ]
     },
     "execution_count": 70,
     "metadata": {
      "tags": []
     },
     "output_type": "execute_result"
    }
   ],
   "source": [
    "y_true_df['threshold'].value_counts()"
   ]
  },
  {
   "cell_type": "code",
   "execution_count": null,
   "metadata": {
    "colab": {
     "base_uri": "https://localhost:8080/",
     "height": 68
    },
    "colab_type": "code",
    "executionInfo": {
     "elapsed": 1713,
     "status": "ok",
     "timestamp": 1596618106955,
     "user": {
      "displayName": "Tay Khim",
      "photoUrl": "",
      "userId": "00177423956135587504"
     },
     "user_tz": -480
    },
    "id": "arY8dzLE6J6X",
    "outputId": "a4dc8f78-6adc-40db-e1c8-f9389759aa3b"
   },
   "outputs": [
    {
     "data": {
      "text/plain": [
       "True     11532\n",
       "False     3843\n",
       "Name: threshold, dtype: int64"
      ]
     },
     "execution_count": 71,
     "metadata": {
      "tags": []
     },
     "output_type": "execute_result"
    }
   ],
   "source": [
    "model1_df['threshold'].value_counts()"
   ]
  },
  {
   "cell_type": "code",
   "execution_count": 99,
   "metadata": {
    "colab": {
     "base_uri": "https://localhost:8080/",
     "height": 68
    },
    "colab_type": "code",
    "executionInfo": {
     "elapsed": 1045,
     "status": "ok",
     "timestamp": 1596619745890,
     "user": {
      "displayName": "Tay Khim",
      "photoUrl": "",
      "userId": "00177423956135587504"
     },
     "user_tz": -480
    },
    "id": "f2ogfGv987ph",
    "outputId": "3904ec2c-e40c-447b-e4e9-80e308baccf1"
   },
   "outputs": [
    {
     "data": {
      "text/plain": [
       "True     35271\n",
       "False     6702\n",
       "Name: threshold, dtype: int64"
      ]
     },
     "execution_count": 99,
     "metadata": {
      "tags": []
     },
     "output_type": "execute_result"
    }
   ],
   "source": [
    "model1_10night_df['threshold'].value_counts()"
   ]
  },
  {
   "cell_type": "code",
   "execution_count": null,
   "metadata": {
    "colab": {
     "base_uri": "https://localhost:8080/",
     "height": 419
    },
    "colab_type": "code",
    "executionInfo": {
     "elapsed": 896,
     "status": "ok",
     "timestamp": 1596618319299,
     "user": {
      "displayName": "Tay Khim",
      "photoUrl": "",
      "userId": "00177423956135587504"
     },
     "user_tz": -480
    },
    "id": "hpzpDx-96J6Z",
    "outputId": "bca40156-0deb-4232-c80a-451d8146ecde"
   },
   "outputs": [
    {
     "data": {
      "text/html": [
       "<div>\n",
       "<style scoped>\n",
       "    .dataframe tbody tr th:only-of-type {\n",
       "        vertical-align: middle;\n",
       "    }\n",
       "\n",
       "    .dataframe tbody tr th {\n",
       "        vertical-align: top;\n",
       "    }\n",
       "\n",
       "    .dataframe thead th {\n",
       "        text-align: right;\n",
       "    }\n",
       "</style>\n",
       "<table border=\"1\" class=\"dataframe\">\n",
       "  <thead>\n",
       "    <tr style=\"text-align: right;\">\n",
       "      <th></th>\n",
       "      <th>cam1_ptr</th>\n",
       "      <th>y_true</th>\n",
       "      <th>y_pred</th>\n",
       "      <th>delta</th>\n",
       "      <th>threshold</th>\n",
       "    </tr>\n",
       "  </thead>\n",
       "  <tbody>\n",
       "    <tr>\n",
       "      <th>0</th>\n",
       "      <td>1400.0</td>\n",
       "      <td>0.397824</td>\n",
       "      <td>-0.022177</td>\n",
       "      <td>-0.420000</td>\n",
       "      <td>False</td>\n",
       "    </tr>\n",
       "    <tr>\n",
       "      <th>1</th>\n",
       "      <td>1401.0</td>\n",
       "      <td>0.197212</td>\n",
       "      <td>-0.020682</td>\n",
       "      <td>-0.217895</td>\n",
       "      <td>False</td>\n",
       "    </tr>\n",
       "    <tr>\n",
       "      <th>9</th>\n",
       "      <td>1409.0</td>\n",
       "      <td>0.099765</td>\n",
       "      <td>-0.017349</td>\n",
       "      <td>-0.117115</td>\n",
       "      <td>False</td>\n",
       "    </tr>\n",
       "    <tr>\n",
       "      <th>10</th>\n",
       "      <td>1410.0</td>\n",
       "      <td>0.604226</td>\n",
       "      <td>-0.022537</td>\n",
       "      <td>-0.626762</td>\n",
       "      <td>False</td>\n",
       "    </tr>\n",
       "    <tr>\n",
       "      <th>11</th>\n",
       "      <td>1411.0</td>\n",
       "      <td>0.797132</td>\n",
       "      <td>-0.008383</td>\n",
       "      <td>-0.805515</td>\n",
       "      <td>False</td>\n",
       "    </tr>\n",
       "    <tr>\n",
       "      <th>...</th>\n",
       "      <td>...</td>\n",
       "      <td>...</td>\n",
       "      <td>...</td>\n",
       "      <td>...</td>\n",
       "      <td>...</td>\n",
       "    </tr>\n",
       "    <tr>\n",
       "      <th>15369</th>\n",
       "      <td>16769.0</td>\n",
       "      <td>0.484483</td>\n",
       "      <td>-0.049914</td>\n",
       "      <td>-0.534397</td>\n",
       "      <td>False</td>\n",
       "    </tr>\n",
       "    <tr>\n",
       "      <th>15370</th>\n",
       "      <td>16770.0</td>\n",
       "      <td>0.597963</td>\n",
       "      <td>-0.055071</td>\n",
       "      <td>-0.653034</td>\n",
       "      <td>False</td>\n",
       "    </tr>\n",
       "    <tr>\n",
       "      <th>15371</th>\n",
       "      <td>16771.0</td>\n",
       "      <td>0.616708</td>\n",
       "      <td>-0.053195</td>\n",
       "      <td>-0.669902</td>\n",
       "      <td>False</td>\n",
       "    </tr>\n",
       "    <tr>\n",
       "      <th>15372</th>\n",
       "      <td>16772.0</td>\n",
       "      <td>0.374523</td>\n",
       "      <td>-0.049490</td>\n",
       "      <td>-0.424013</td>\n",
       "      <td>False</td>\n",
       "    </tr>\n",
       "    <tr>\n",
       "      <th>15373</th>\n",
       "      <td>16773.0</td>\n",
       "      <td>0.085759</td>\n",
       "      <td>-0.048492</td>\n",
       "      <td>-0.134250</td>\n",
       "      <td>False</td>\n",
       "    </tr>\n",
       "  </tbody>\n",
       "</table>\n",
       "<p>3843 rows × 5 columns</p>\n",
       "</div>"
      ],
      "text/plain": [
       "       cam1_ptr    y_true    y_pred     delta  threshold\n",
       "0        1400.0  0.397824 -0.022177 -0.420000      False\n",
       "1        1401.0  0.197212 -0.020682 -0.217895      False\n",
       "9        1409.0  0.099765 -0.017349 -0.117115      False\n",
       "10       1410.0  0.604226 -0.022537 -0.626762      False\n",
       "11       1411.0  0.797132 -0.008383 -0.805515      False\n",
       "...         ...       ...       ...       ...        ...\n",
       "15369   16769.0  0.484483 -0.049914 -0.534397      False\n",
       "15370   16770.0  0.597963 -0.055071 -0.653034      False\n",
       "15371   16771.0  0.616708 -0.053195 -0.669902      False\n",
       "15372   16772.0  0.374523 -0.049490 -0.424013      False\n",
       "15373   16773.0  0.085759 -0.048492 -0.134250      False\n",
       "\n",
       "[3843 rows x 5 columns]"
      ]
     },
     "execution_count": 80,
     "metadata": {
      "tags": []
     },
     "output_type": "execute_result"
    }
   ],
   "source": [
    "model1_df[model1_df.threshold == False]"
   ]
  },
  {
   "cell_type": "code",
   "execution_count": null,
   "metadata": {
    "colab": {},
    "colab_type": "code",
    "id": "Z72INFaStSXR"
   },
   "outputs": [],
   "source": [
    "################################# model 2 loading in and plot ###########################"
   ]
  },
  {
   "cell_type": "code",
   "execution_count": 6,
   "metadata": {
    "colab": {
     "base_uri": "https://localhost:8080/",
     "height": 34
    },
    "colab_type": "code",
    "executionInfo": {
     "elapsed": 3506,
     "status": "ok",
     "timestamp": 1596634909137,
     "user": {
      "displayName": "Tay Khim",
      "photoUrl": "",
      "userId": "00177423956135587504"
     },
     "user_tz": -480
    },
    "id": "6eFalGLftXu4",
    "outputId": "71114514-da6a-4505-b26f-e50a7c039316"
   },
   "outputs": [
    {
     "name": "stdout",
     "output_type": "stream",
     "text": [
      "(90, 4)\n"
     ]
    }
   ],
   "source": [
    "model_2_full = model_loading('model_2')"
   ]
  },
  {
   "cell_type": "code",
   "execution_count": 7,
   "metadata": {
    "colab": {
     "base_uri": "https://localhost:8080/",
     "height": 204
    },
    "colab_type": "code",
    "executionInfo": {
     "elapsed": 1261,
     "status": "ok",
     "timestamp": 1596634910718,
     "user": {
      "displayName": "Tay Khim",
      "photoUrl": "",
      "userId": "00177423956135587504"
     },
     "user_tz": -480
    },
    "id": "xvxD47o0t5pp",
    "outputId": "64c835b2-c266-4473-dbc5-df487a39fa7e"
   },
   "outputs": [
    {
     "data": {
      "text/html": [
       "<div>\n",
       "<style scoped>\n",
       "    .dataframe tbody tr th:only-of-type {\n",
       "        vertical-align: middle;\n",
       "    }\n",
       "\n",
       "    .dataframe tbody tr th {\n",
       "        vertical-align: top;\n",
       "    }\n",
       "\n",
       "    .dataframe thead th {\n",
       "        text-align: right;\n",
       "    }\n",
       "</style>\n",
       "<table border=\"1\" class=\"dataframe\">\n",
       "  <thead>\n",
       "    <tr style=\"text-align: right;\">\n",
       "      <th></th>\n",
       "      <th>loss</th>\n",
       "      <th>root_mean_squared_error</th>\n",
       "      <th>val_loss</th>\n",
       "      <th>val_root_mean_squared_error</th>\n",
       "    </tr>\n",
       "  </thead>\n",
       "  <tbody>\n",
       "    <tr>\n",
       "      <th>0</th>\n",
       "      <td>0.253489</td>\n",
       "      <td>0.503477</td>\n",
       "      <td>0.234719</td>\n",
       "      <td>0.484478</td>\n",
       "    </tr>\n",
       "    <tr>\n",
       "      <th>1</th>\n",
       "      <td>0.252767</td>\n",
       "      <td>0.502759</td>\n",
       "      <td>0.234562</td>\n",
       "      <td>0.484316</td>\n",
       "    </tr>\n",
       "    <tr>\n",
       "      <th>2</th>\n",
       "      <td>0.251962</td>\n",
       "      <td>0.501958</td>\n",
       "      <td>0.233252</td>\n",
       "      <td>0.482961</td>\n",
       "    </tr>\n",
       "    <tr>\n",
       "      <th>3</th>\n",
       "      <td>0.248030</td>\n",
       "      <td>0.498026</td>\n",
       "      <td>0.224306</td>\n",
       "      <td>0.473610</td>\n",
       "    </tr>\n",
       "    <tr>\n",
       "      <th>4</th>\n",
       "      <td>0.239988</td>\n",
       "      <td>0.489885</td>\n",
       "      <td>0.213575</td>\n",
       "      <td>0.462142</td>\n",
       "    </tr>\n",
       "  </tbody>\n",
       "</table>\n",
       "</div>"
      ],
      "text/plain": [
       "       loss  root_mean_squared_error  val_loss  val_root_mean_squared_error\n",
       "0  0.253489                 0.503477  0.234719                     0.484478\n",
       "1  0.252767                 0.502759  0.234562                     0.484316\n",
       "2  0.251962                 0.501958  0.233252                     0.482961\n",
       "3  0.248030                 0.498026  0.224306                     0.473610\n",
       "4  0.239988                 0.489885  0.213575                     0.462142"
      ]
     },
     "execution_count": 7,
     "metadata": {
      "tags": []
     },
     "output_type": "execute_result"
    }
   ],
   "source": [
    "model_2_full.head()"
   ]
  },
  {
   "cell_type": "code",
   "execution_count": 8,
   "metadata": {
    "colab": {},
    "colab_type": "code",
    "executionInfo": {
     "elapsed": 995,
     "status": "ok",
     "timestamp": 1596634914899,
     "user": {
      "displayName": "Tay Khim",
      "photoUrl": "",
      "userId": "00177423956135587504"
     },
     "user_tz": -480
    },
    "id": "htGTeFWAuCqE"
   },
   "outputs": [],
   "source": [
    "ticks = [i for i in range(0, 91, 5)]\n",
    "labels = [i for i in range(0, 91, 5)]"
   ]
  },
  {
   "cell_type": "code",
   "execution_count": 9,
   "metadata": {
    "colab": {},
    "colab_type": "code",
    "executionInfo": {
     "elapsed": 879,
     "status": "ok",
     "timestamp": 1596634972608,
     "user": {
      "displayName": "Tay Khim",
      "photoUrl": "",
      "userId": "00177423956135587504"
     },
     "user_tz": -480
    },
    "id": "RdVTnd8RuCqH"
   },
   "outputs": [],
   "source": [
    "train_loss = model_2_full['loss']\n",
    "test_loss = model_2_full['val_loss']\n",
    "\n",
    "train_rsme = model_2_full['root_mean_squared_error']\n",
    "test_rsme = model_2_full['val_root_mean_squared_error']"
   ]
  },
  {
   "cell_type": "code",
   "execution_count": 10,
   "metadata": {
    "colab": {
     "base_uri": "https://localhost:8080/",
     "height": 519
    },
    "colab_type": "code",
    "executionInfo": {
     "elapsed": 1651,
     "status": "ok",
     "timestamp": 1596635000352,
     "user": {
      "displayName": "Tay Khim",
      "photoUrl": "",
      "userId": "00177423956135587504"
     },
     "user_tz": -480
    },
    "id": "s2Q15pUvuCqK",
    "outputId": "51b04c30-3cb2-48e9-cab3-d85c0ff38b08"
   },
   "outputs": [
    {
     "data": {
      "image/png": "[encoded data removed]",
      "text/plain": [
       "<Figure size 1440x576 with 1 Axes>"
      ]
     },
     "metadata": {
      "needs_background": "light",
      "tags": []
     },
     "output_type": "display_data"
    }
   ],
   "source": [
    "# Set figure size.\n",
    "plt.figure(figsize=(20, 8))\n",
    "\n",
    "# Generate line plot of training, testing loss over epochs.\n",
    "plt.plot(train_loss, label='Training Loss', color='#185fad')\n",
    "plt.plot(test_loss, label='Testing Loss', color='orange')\n",
    "\n",
    "# Set title\n",
    "plt.title('Training and Testing Loss by Epoch for Model 2', fontsize = 25)\n",
    "plt.xlabel('Epoch', fontsize = 18)\n",
    "plt.ylabel('Mean Squared Error', fontsize = 18)\n",
    "plt.xticks(ticks, labels)\n",
    "\n",
    "plt.legend(fontsize = 18);\n",
    "\n",
    "#plt.savefig('/content/drive/My Drive/images/train_test_loss_model2_camera3.png');"
   ]
  },
  {
   "cell_type": "code",
   "execution_count": 11,
   "metadata": {
    "colab": {
     "base_uri": "https://localhost:8080/",
     "height": 522
    },
    "colab_type": "code",
    "executionInfo": {
     "elapsed": 1221,
     "status": "ok",
     "timestamp": 1596635028093,
     "user": {
      "displayName": "Tay Khim",
      "photoUrl": "",
      "userId": "00177423956135587504"
     },
     "user_tz": -480
    },
    "id": "Tm_sOd-43L4V",
    "outputId": "bbe601ea-bddd-47ea-f92e-227ed65e176e"
   },
   "outputs": [
    {
     "data": {
      "image/png": "[encoded data removed]",
      "text/plain": [
       "<Figure size 1440x576 with 1 Axes>"
      ]
     },
     "metadata": {
      "needs_background": "light",
      "tags": []
     },
     "output_type": "display_data"
    }
   ],
   "source": [
    "# Set figure size.\n",
    "plt.figure(figsize=(20, 8))\n",
    "\n",
    "# Generate line plot of training, testing loss over epochs.\n",
    "plt.plot(train_rsme, label='Training RSME', color='#185fad')\n",
    "plt.plot(test_rsme, label='Testing RSME', color='orange')\n",
    "\n",
    "# Set title\n",
    "plt.title('Training and Testing Loss by Epoch for Model 2', fontsize = 25)\n",
    "plt.xlabel('Epoch', fontsize = 18)\n",
    "plt.ylabel('Mean Squared Error', fontsize = 18)\n",
    "plt.xticks(ticks, labels)\n",
    "\n",
    "plt.legend(fontsize = 18);"
   ]
  },
  {
   "cell_type": "code",
   "execution_count": 10,
   "metadata": {
    "colab": {},
    "colab_type": "code",
    "executionInfo": {
     "elapsed": 3507,
     "status": "ok",
     "timestamp": 1596615960288,
     "user": {
      "displayName": "Tay Khim",
      "photoUrl": "",
      "userId": "00177423956135587504"
     },
     "user_tz": -480
    },
    "id": "WPpSiVLmubkS"
   },
   "outputs": [],
   "source": [
    "model_2 = load_model('/content/drive/My Drive/epochs/model_2_camera9.0010-0.0330.h5')"
   ]
  },
  {
   "cell_type": "code",
   "execution_count": 11,
   "metadata": {
    "colab": {},
    "colab_type": "code",
    "executionInfo": {
     "elapsed": 2036,
     "status": "ok",
     "timestamp": 1596616011741,
     "user": {
      "displayName": "Tay Khim",
      "photoUrl": "",
      "userId": "00177423956135587504"
     },
     "user_tz": -480
    },
    "id": "AXU_JzuWuq9z"
   },
   "outputs": [],
   "source": [
    "camera11_day_unseen = load('/content/drive/My Drive/datasets/camera11_cleaned.npz')"
   ]
  },
  {
   "cell_type": "code",
   "execution_count": 12,
   "metadata": {
    "colab": {},
    "colab_type": "code",
    "executionInfo": {
     "elapsed": 1027,
     "status": "ok",
     "timestamp": 1596616013495,
     "user": {
      "displayName": "Tay Khim",
      "photoUrl": "",
      "userId": "00177423956135587504"
     },
     "user_tz": -480
    },
    "id": "xRoNmpZ4uq98"
   },
   "outputs": [],
   "source": [
    "def camera_processing(camera_file, file_name):\n",
    "\n",
    "  # camera file\n",
    "  camera = camera_file.f.arr_0\n",
    "  camera = camera.astype('float32')\n",
    "  camera = camera/255\n",
    "  camera = camera.reshape(camera.shape[0], camera.shape[1], camera.shape[2], 1)\n",
    "  savez_compressed(f'/content/drive/My Drive/datasets/{file_name}_processed', camera)\n",
    "  \n",
    "  return camera"
   ]
  },
  {
   "cell_type": "code",
   "execution_count": 13,
   "metadata": {
    "colab": {},
    "colab_type": "code",
    "executionInfo": {
     "elapsed": 55493,
     "status": "ok",
     "timestamp": 1596616069709,
     "user": {
      "displayName": "Tay Khim",
      "photoUrl": "",
      "userId": "00177423956135587504"
     },
     "user_tz": -480
    },
    "id": "sJ1yo-jvuq-B"
   },
   "outputs": [],
   "source": [
    "camera11_day_unseen = camera_processing(camera11_day_unseen, 'camera11')"
   ]
  },
  {
   "cell_type": "code",
   "execution_count": 14,
   "metadata": {
    "colab": {
     "base_uri": "https://localhost:8080/",
     "height": 34
    },
    "colab_type": "code",
    "executionInfo": {
     "elapsed": 43033,
     "status": "ok",
     "timestamp": 1596616069712,
     "user": {
      "displayName": "Tay Khim",
      "photoUrl": "",
      "userId": "00177423956135587504"
     },
     "user_tz": -480
    },
    "id": "RV4y4rs_uq-E",
    "outputId": "6e68840a-3945-4ed4-9fa2-15fa9d31c73d"
   },
   "outputs": [
    {
     "data": {
      "text/plain": [
       "(15375, 80, 160, 1)"
      ]
     },
     "execution_count": 14,
     "metadata": {
      "tags": []
     },
     "output_type": "execute_result"
    }
   ],
   "source": [
    "camera11_day_unseen.shape"
   ]
  },
  {
   "cell_type": "code",
   "execution_count": 15,
   "metadata": {
    "colab": {},
    "colab_type": "code",
    "executionInfo": {
     "elapsed": 45338,
     "status": "ok",
     "timestamp": 1596616135976,
     "user": {
      "displayName": "Tay Khim",
      "photoUrl": "",
      "userId": "00177423956135587504"
     },
     "user_tz": -480
    },
    "id": "krbm60cMuq-L"
   },
   "outputs": [],
   "source": [
    "y_pred = model_2.predict(camera11_day_unseen)"
   ]
  },
  {
   "cell_type": "code",
   "execution_count": 16,
   "metadata": {
    "colab": {
     "base_uri": "https://localhost:8080/",
     "height": 136
    },
    "colab_type": "code",
    "executionInfo": {
     "elapsed": 41682,
     "status": "ok",
     "timestamp": 1596616135978,
     "user": {
      "displayName": "Tay Khim",
      "photoUrl": "",
      "userId": "00177423956135587504"
     },
     "user_tz": -480
    },
    "id": "iLUiZHkHuq-O",
    "outputId": "2ad8e4b6-6e97-40d2-8e3a-4333fa24d2fd"
   },
   "outputs": [
    {
     "data": {
      "text/plain": [
       "array([[ 4.3646055e-01],\n",
       "       [ 4.5576417e-01],\n",
       "       [ 4.5981300e-01],\n",
       "       ...,\n",
       "       [-1.0384556e-04],\n",
       "       [-1.0384556e-04],\n",
       "       [-1.0384556e-04]], dtype=float32)"
      ]
     },
     "execution_count": 16,
     "metadata": {
      "tags": []
     },
     "output_type": "execute_result"
    }
   ],
   "source": [
    "y_pred"
   ]
  },
  {
   "cell_type": "code",
   "execution_count": 17,
   "metadata": {
    "colab": {},
    "colab_type": "code",
    "executionInfo": {
     "elapsed": 37975,
     "status": "ok",
     "timestamp": 1596616135979,
     "user": {
      "displayName": "Tay Khim",
      "photoUrl": "",
      "userId": "00177423956135587504"
     },
     "user_tz": -480
    },
    "id": "e0equCFhuq-R"
   },
   "outputs": [],
   "source": [
    "def log_processing(log_file, file_name):\n",
    "  log_file['steering_avg_radian'] = log_file['steering_avg'] * np.pi / 180\n",
    "  log_file.drop(['times', 'brake_avg', 'speed_avg', 'gas_avg', 'steering_avg'], axis=1, inplace=True)\n",
    "  log_file.to_csv(f'/content/drive/My Drive/datasets/{file_name}_processed.csv', index=False)\n",
    "\n",
    "  return log_file"
   ]
  },
  {
   "cell_type": "code",
   "execution_count": null,
   "metadata": {
    "colab": {},
    "colab_type": "code",
    "id": "lx4R50Uhuq-T"
   },
   "outputs": [],
   "source": [
    "log11_day_unseen = pd.read_csv('/content/drive/My Drive/datasets/log11_cleaned.csv')"
   ]
  },
  {
   "cell_type": "code",
   "execution_count": null,
   "metadata": {
    "colab": {
     "base_uri": "https://localhost:8080/",
     "height": 204
    },
    "colab_type": "code",
    "executionInfo": {
     "elapsed": 949,
     "status": "ok",
     "timestamp": 1596600102262,
     "user": {
      "displayName": "Tay Khim",
      "photoUrl": "",
      "userId": "00177423956135587504"
     },
     "user_tz": -480
    },
    "id": "NIb837SWuq-V",
    "outputId": "1e25278a-9785-4a68-f8d9-d883e2d33f55"
   },
   "outputs": [
    {
     "data": {
      "text/html": [
       "<div>\n",
       "<style scoped>\n",
       "    .dataframe tbody tr th:only-of-type {\n",
       "        vertical-align: middle;\n",
       "    }\n",
       "\n",
       "    .dataframe tbody tr th {\n",
       "        vertical-align: top;\n",
       "    }\n",
       "\n",
       "    .dataframe thead th {\n",
       "        text-align: right;\n",
       "    }\n",
       "</style>\n",
       "<table border=\"1\" class=\"dataframe\">\n",
       "  <thead>\n",
       "    <tr style=\"text-align: right;\">\n",
       "      <th></th>\n",
       "      <th>cam1_ptr</th>\n",
       "      <th>times</th>\n",
       "      <th>steering_avg</th>\n",
       "      <th>brake_avg</th>\n",
       "      <th>speed_avg</th>\n",
       "      <th>gas_avg</th>\n",
       "    </tr>\n",
       "  </thead>\n",
       "  <tbody>\n",
       "    <tr>\n",
       "      <th>0</th>\n",
       "      <td>1400.0</td>\n",
       "      <td>70.04</td>\n",
       "      <td>22.793627</td>\n",
       "      <td>1187.746627</td>\n",
       "      <td>2.905265</td>\n",
       "      <td>0.0</td>\n",
       "    </tr>\n",
       "    <tr>\n",
       "      <th>1</th>\n",
       "      <td>1401.0</td>\n",
       "      <td>70.09</td>\n",
       "      <td>11.299438</td>\n",
       "      <td>1248.506720</td>\n",
       "      <td>2.834722</td>\n",
       "      <td>0.0</td>\n",
       "    </tr>\n",
       "    <tr>\n",
       "      <th>2</th>\n",
       "      <td>1402.0</td>\n",
       "      <td>70.14</td>\n",
       "      <td>1.773112</td>\n",
       "      <td>1322.729122</td>\n",
       "      <td>2.725543</td>\n",
       "      <td>0.0</td>\n",
       "    </tr>\n",
       "    <tr>\n",
       "      <th>3</th>\n",
       "      <td>1403.0</td>\n",
       "      <td>70.19</td>\n",
       "      <td>-0.182578</td>\n",
       "      <td>1369.657668</td>\n",
       "      <td>2.633968</td>\n",
       "      <td>0.0</td>\n",
       "    </tr>\n",
       "    <tr>\n",
       "      <th>4</th>\n",
       "      <td>1404.0</td>\n",
       "      <td>70.24</td>\n",
       "      <td>0.000000</td>\n",
       "      <td>1376.000000</td>\n",
       "      <td>2.541643</td>\n",
       "      <td>0.0</td>\n",
       "    </tr>\n",
       "  </tbody>\n",
       "</table>\n",
       "</div>"
      ],
      "text/plain": [
       "   cam1_ptr  times  steering_avg    brake_avg  speed_avg  gas_avg\n",
       "0    1400.0  70.04     22.793627  1187.746627   2.905265      0.0\n",
       "1    1401.0  70.09     11.299438  1248.506720   2.834722      0.0\n",
       "2    1402.0  70.14      1.773112  1322.729122   2.725543      0.0\n",
       "3    1403.0  70.19     -0.182578  1369.657668   2.633968      0.0\n",
       "4    1404.0  70.24      0.000000  1376.000000   2.541643      0.0"
      ]
     },
     "execution_count": 80,
     "metadata": {
      "tags": []
     },
     "output_type": "execute_result"
    }
   ],
   "source": [
    "log11_day_unseen.head()"
   ]
  },
  {
   "cell_type": "code",
   "execution_count": null,
   "metadata": {
    "colab": {},
    "colab_type": "code",
    "id": "OrWlAbfguq-X"
   },
   "outputs": [],
   "source": [
    "y_true_df = log_processing(log11_day_unseen, 'log11')"
   ]
  },
  {
   "cell_type": "code",
   "execution_count": 19,
   "metadata": {
    "colab": {},
    "colab_type": "code",
    "executionInfo": {
     "elapsed": 1420,
     "status": "ok",
     "timestamp": 1596616241562,
     "user": {
      "displayName": "Tay Khim",
      "photoUrl": "",
      "userId": "00177423956135587504"
     },
     "user_tz": -480
    },
    "id": "qQ3IsiYGvLkZ"
   },
   "outputs": [],
   "source": [
    "# ignore the 3 code blocks above \n",
    "# load in the processed csv instead\n",
    "y_true_df = pd.read_csv('/content/drive/My Drive/datasets/log11_processed.csv')"
   ]
  },
  {
   "cell_type": "code",
   "execution_count": 20,
   "metadata": {
    "colab": {
     "base_uri": "https://localhost:8080/",
     "height": 204
    },
    "colab_type": "code",
    "executionInfo": {
     "elapsed": 966,
     "status": "ok",
     "timestamp": 1596616248237,
     "user": {
      "displayName": "Tay Khim",
      "photoUrl": "",
      "userId": "00177423956135587504"
     },
     "user_tz": -480
    },
    "id": "KXnuDf9puq-b",
    "outputId": "8da9fbc3-fe8c-40c1-cf64-322d7d7b107d"
   },
   "outputs": [
    {
     "data": {
      "text/html": [
       "<div>\n",
       "<style scoped>\n",
       "    .dataframe tbody tr th:only-of-type {\n",
       "        vertical-align: middle;\n",
       "    }\n",
       "\n",
       "    .dataframe tbody tr th {\n",
       "        vertical-align: top;\n",
       "    }\n",
       "\n",
       "    .dataframe thead th {\n",
       "        text-align: right;\n",
       "    }\n",
       "</style>\n",
       "<table border=\"1\" class=\"dataframe\">\n",
       "  <thead>\n",
       "    <tr style=\"text-align: right;\">\n",
       "      <th></th>\n",
       "      <th>cam1_ptr</th>\n",
       "      <th>steering_avg_radian</th>\n",
       "    </tr>\n",
       "  </thead>\n",
       "  <tbody>\n",
       "    <tr>\n",
       "      <th>0</th>\n",
       "      <td>1400.0</td>\n",
       "      <td>0.397824</td>\n",
       "    </tr>\n",
       "    <tr>\n",
       "      <th>1</th>\n",
       "      <td>1401.0</td>\n",
       "      <td>0.197212</td>\n",
       "    </tr>\n",
       "    <tr>\n",
       "      <th>2</th>\n",
       "      <td>1402.0</td>\n",
       "      <td>0.030947</td>\n",
       "    </tr>\n",
       "    <tr>\n",
       "      <th>3</th>\n",
       "      <td>1403.0</td>\n",
       "      <td>-0.003187</td>\n",
       "    </tr>\n",
       "    <tr>\n",
       "      <th>4</th>\n",
       "      <td>1404.0</td>\n",
       "      <td>0.000000</td>\n",
       "    </tr>\n",
       "  </tbody>\n",
       "</table>\n",
       "</div>"
      ],
      "text/plain": [
       "   cam1_ptr  steering_avg_radian\n",
       "0    1400.0             0.397824\n",
       "1    1401.0             0.197212\n",
       "2    1402.0             0.030947\n",
       "3    1403.0            -0.003187\n",
       "4    1404.0             0.000000"
      ]
     },
     "execution_count": 20,
     "metadata": {
      "tags": []
     },
     "output_type": "execute_result"
    }
   ],
   "source": [
    "y_true_df.head()"
   ]
  },
  {
   "cell_type": "code",
   "execution_count": 21,
   "metadata": {
    "colab": {},
    "colab_type": "code",
    "executionInfo": {
     "elapsed": 998,
     "status": "ok",
     "timestamp": 1596616267214,
     "user": {
      "displayName": "Tay Khim",
      "photoUrl": "",
      "userId": "00177423956135587504"
     },
     "user_tz": -480
    },
    "id": "eg_wwg4duq-m"
   },
   "outputs": [],
   "source": [
    "y_pred = y_pred.reshape(y_pred.shape[0])"
   ]
  },
  {
   "cell_type": "code",
   "execution_count": 22,
   "metadata": {
    "colab": {},
    "colab_type": "code",
    "executionInfo": {
     "elapsed": 735,
     "status": "ok",
     "timestamp": 1596616268672,
     "user": {
      "displayName": "Tay Khim",
      "photoUrl": "",
      "userId": "00177423956135587504"
     },
     "user_tz": -480
    },
    "id": "tUVQieiquq-o"
   },
   "outputs": [],
   "source": [
    "y_true_df['y_pred'] = y_pred"
   ]
  },
  {
   "cell_type": "code",
   "execution_count": 23,
   "metadata": {
    "colab": {},
    "colab_type": "code",
    "executionInfo": {
     "elapsed": 1012,
     "status": "ok",
     "timestamp": 1596616271272,
     "user": {
      "displayName": "Tay Khim",
      "photoUrl": "",
      "userId": "00177423956135587504"
     },
     "user_tz": -480
    },
    "id": "W95lKpqSuq-r"
   },
   "outputs": [],
   "source": [
    "y_true_df.rename(columns={'steering_avg_radian': 'y_true'}, inplace=True)"
   ]
  },
  {
   "cell_type": "code",
   "execution_count": 24,
   "metadata": {
    "colab": {
     "base_uri": "https://localhost:8080/",
     "height": 204
    },
    "colab_type": "code",
    "executionInfo": {
     "elapsed": 980,
     "status": "ok",
     "timestamp": 1596616272932,
     "user": {
      "displayName": "Tay Khim",
      "photoUrl": "",
      "userId": "00177423956135587504"
     },
     "user_tz": -480
    },
    "id": "q0X0-XXjuq-u",
    "outputId": "d3b6c95d-4325-4545-a52d-7a7d1f0fa510"
   },
   "outputs": [
    {
     "data": {
      "text/html": [
       "<div>\n",
       "<style scoped>\n",
       "    .dataframe tbody tr th:only-of-type {\n",
       "        vertical-align: middle;\n",
       "    }\n",
       "\n",
       "    .dataframe tbody tr th {\n",
       "        vertical-align: top;\n",
       "    }\n",
       "\n",
       "    .dataframe thead th {\n",
       "        text-align: right;\n",
       "    }\n",
       "</style>\n",
       "<table border=\"1\" class=\"dataframe\">\n",
       "  <thead>\n",
       "    <tr style=\"text-align: right;\">\n",
       "      <th></th>\n",
       "      <th>cam1_ptr</th>\n",
       "      <th>y_true</th>\n",
       "      <th>y_pred</th>\n",
       "    </tr>\n",
       "  </thead>\n",
       "  <tbody>\n",
       "    <tr>\n",
       "      <th>0</th>\n",
       "      <td>1400.0</td>\n",
       "      <td>0.397824</td>\n",
       "      <td>0.436461</td>\n",
       "    </tr>\n",
       "    <tr>\n",
       "      <th>1</th>\n",
       "      <td>1401.0</td>\n",
       "      <td>0.197212</td>\n",
       "      <td>0.455764</td>\n",
       "    </tr>\n",
       "    <tr>\n",
       "      <th>2</th>\n",
       "      <td>1402.0</td>\n",
       "      <td>0.030947</td>\n",
       "      <td>0.459813</td>\n",
       "    </tr>\n",
       "    <tr>\n",
       "      <th>3</th>\n",
       "      <td>1403.0</td>\n",
       "      <td>-0.003187</td>\n",
       "      <td>0.421823</td>\n",
       "    </tr>\n",
       "    <tr>\n",
       "      <th>4</th>\n",
       "      <td>1404.0</td>\n",
       "      <td>0.000000</td>\n",
       "      <td>0.374331</td>\n",
       "    </tr>\n",
       "  </tbody>\n",
       "</table>\n",
       "</div>"
      ],
      "text/plain": [
       "   cam1_ptr    y_true    y_pred\n",
       "0    1400.0  0.397824  0.436461\n",
       "1    1401.0  0.197212  0.455764\n",
       "2    1402.0  0.030947  0.459813\n",
       "3    1403.0 -0.003187  0.421823\n",
       "4    1404.0  0.000000  0.374331"
      ]
     },
     "execution_count": 24,
     "metadata": {
      "tags": []
     },
     "output_type": "execute_result"
    }
   ],
   "source": [
    "y_true_df.head()"
   ]
  },
  {
   "cell_type": "code",
   "execution_count": 26,
   "metadata": {
    "colab": {
     "base_uri": "https://localhost:8080/",
     "height": 51
    },
    "colab_type": "code",
    "executionInfo": {
     "elapsed": 1854,
     "status": "ok",
     "timestamp": 1596616322836,
     "user": {
      "displayName": "Tay Khim",
      "photoUrl": "",
      "userId": "00177423956135587504"
     },
     "user_tz": -480
    },
    "id": "7egqVqQSuq-x",
    "outputId": "83578e89-cf09-49cf-8fdc-9d9a7d1f4af7"
   },
   "outputs": [
    {
     "name": "stdout",
     "output_type": "stream",
     "text": [
      "3179.668180557497\n",
      "model evaluated RMSE: 0.4547611312989766\n"
     ]
    }
   ],
   "source": [
    "sq = 0\n",
    "mse = 0\n",
    "for i in range(y_true_df.shape[0]):\n",
    "    sqd = ((y_true_df.y_pred[i]-y_true_df.y_true[i])**2)\n",
    "    sq = sq + sqd\n",
    "print(sq)\n",
    "mse = sq/y_true_df.shape[0]\n",
    "rmse = np.sqrt(mse)\n",
    "print(\"model evaluated RMSE:\", rmse)"
   ]
  },
  {
   "cell_type": "code",
   "execution_count": 27,
   "metadata": {
    "colab": {
     "base_uri": "https://localhost:8080/",
     "height": 34
    },
    "colab_type": "code",
    "executionInfo": {
     "elapsed": 882,
     "status": "ok",
     "timestamp": 1596616330053,
     "user": {
      "displayName": "Tay Khim",
      "photoUrl": "",
      "userId": "00177423956135587504"
     },
     "user_tz": -480
    },
    "id": "KI0R-hSNuq-z",
    "outputId": "6b64cdbe-4602-43cb-cdb7-c775e68e49ca"
   },
   "outputs": [
    {
     "data": {
      "text/plain": [
       "(5.551126397290321, -5.021468639694229)"
      ]
     },
     "execution_count": 27,
     "metadata": {
      "tags": []
     },
     "output_type": "execute_result"
    }
   ],
   "source": [
    "y_true_df.y_true.max(), y_true_df.y_true.min()"
   ]
  },
  {
   "cell_type": "code",
   "execution_count": 28,
   "metadata": {
    "colab": {
     "base_uri": "https://localhost:8080/",
     "height": 34
    },
    "colab_type": "code",
    "executionInfo": {
     "elapsed": 942,
     "status": "ok",
     "timestamp": 1596616332976,
     "user": {
      "displayName": "Tay Khim",
      "photoUrl": "",
      "userId": "00177423956135587504"
     },
     "user_tz": -480
    },
    "id": "P8oPFS9Nuq-1",
    "outputId": "5a6445b4-f057-434d-a398-89408a455682"
   },
   "outputs": [
    {
     "data": {
      "text/plain": [
       "(1.8315342664718628, -0.6044789552688599)"
      ]
     },
     "execution_count": 28,
     "metadata": {
      "tags": []
     },
     "output_type": "execute_result"
    }
   ],
   "source": [
    "y_true_df.y_pred.max(), y_true_df.y_pred.min()"
   ]
  },
  {
   "cell_type": "code",
   "execution_count": 29,
   "metadata": {
    "colab": {},
    "colab_type": "code",
    "executionInfo": {
     "elapsed": 868,
     "status": "ok",
     "timestamp": 1596616351411,
     "user": {
      "displayName": "Tay Khim",
      "photoUrl": "",
      "userId": "00177423956135587504"
     },
     "user_tz": -480
    },
    "id": "ykJAsBdsuq-2"
   },
   "outputs": [],
   "source": [
    "y_true_df.to_csv('/content/drive/My Drive/datasets/model_2_prediction_day.csv', index=False)"
   ]
  },
  {
   "cell_type": "code",
   "execution_count": 30,
   "metadata": {
    "colab": {},
    "colab_type": "code",
    "executionInfo": {
     "elapsed": 1032,
     "status": "ok",
     "timestamp": 1596616537156,
     "user": {
      "displayName": "Tay Khim",
      "photoUrl": "",
      "userId": "00177423956135587504"
     },
     "user_tz": -480
    },
    "id": "FEAvMDvlwTng"
   },
   "outputs": [],
   "source": [
    "##### trying to figure out how to do the threshold and plot good vs bad predictions\n",
    "y_true_df['delta'] = y_true_df['y_pred'] - y_true_df['y_true']"
   ]
  },
  {
   "cell_type": "code",
   "execution_count": null,
   "metadata": {
    "colab": {},
    "colab_type": "code",
    "id": "D2md9YfhxATS"
   },
   "outputs": [],
   "source": [
    "# setting a threshold level of 0.1"
   ]
  },
  {
   "cell_type": "code",
   "execution_count": 37,
   "metadata": {
    "colab": {
     "base_uri": "https://localhost:8080/",
     "height": 204
    },
    "colab_type": "code",
    "executionInfo": {
     "elapsed": 1274,
     "status": "ok",
     "timestamp": 1596617530688,
     "user": {
      "displayName": "Tay Khim",
      "photoUrl": "",
      "userId": "00177423956135587504"
     },
     "user_tz": -480
    },
    "id": "-dHCmehSwwDV",
    "outputId": "068952ce-7663-4c8d-a7a5-665b273ad037"
   },
   "outputs": [
    {
     "data": {
      "text/html": [
       "<div>\n",
       "<style scoped>\n",
       "    .dataframe tbody tr th:only-of-type {\n",
       "        vertical-align: middle;\n",
       "    }\n",
       "\n",
       "    .dataframe tbody tr th {\n",
       "        vertical-align: top;\n",
       "    }\n",
       "\n",
       "    .dataframe thead th {\n",
       "        text-align: right;\n",
       "    }\n",
       "</style>\n",
       "<table border=\"1\" class=\"dataframe\">\n",
       "  <thead>\n",
       "    <tr style=\"text-align: right;\">\n",
       "      <th></th>\n",
       "      <th>cam1_ptr</th>\n",
       "      <th>y_true</th>\n",
       "      <th>y_pred</th>\n",
       "      <th>delta</th>\n",
       "    </tr>\n",
       "  </thead>\n",
       "  <tbody>\n",
       "    <tr>\n",
       "      <th>0</th>\n",
       "      <td>1400.0</td>\n",
       "      <td>0.397824</td>\n",
       "      <td>0.436461</td>\n",
       "      <td>0.038637</td>\n",
       "    </tr>\n",
       "    <tr>\n",
       "      <th>1</th>\n",
       "      <td>1401.0</td>\n",
       "      <td>0.197212</td>\n",
       "      <td>0.455764</td>\n",
       "      <td>0.258552</td>\n",
       "    </tr>\n",
       "    <tr>\n",
       "      <th>2</th>\n",
       "      <td>1402.0</td>\n",
       "      <td>0.030947</td>\n",
       "      <td>0.459813</td>\n",
       "      <td>0.428866</td>\n",
       "    </tr>\n",
       "    <tr>\n",
       "      <th>3</th>\n",
       "      <td>1403.0</td>\n",
       "      <td>-0.003187</td>\n",
       "      <td>0.421823</td>\n",
       "      <td>0.425010</td>\n",
       "    </tr>\n",
       "    <tr>\n",
       "      <th>4</th>\n",
       "      <td>1404.0</td>\n",
       "      <td>0.000000</td>\n",
       "      <td>0.374331</td>\n",
       "      <td>0.374331</td>\n",
       "    </tr>\n",
       "  </tbody>\n",
       "</table>\n",
       "</div>"
      ],
      "text/plain": [
       "   cam1_ptr    y_true    y_pred     delta\n",
       "0    1400.0  0.397824  0.436461  0.038637\n",
       "1    1401.0  0.197212  0.455764  0.258552\n",
       "2    1402.0  0.030947  0.459813  0.428866\n",
       "3    1403.0 -0.003187  0.421823  0.425010\n",
       "4    1404.0  0.000000  0.374331  0.374331"
      ]
     },
     "execution_count": 37,
     "metadata": {
      "tags": []
     },
     "output_type": "execute_result"
    }
   ],
   "source": [
    "y_true_df.head()"
   ]
  },
  {
   "cell_type": "code",
   "execution_count": 38,
   "metadata": {
    "colab": {},
    "colab_type": "code",
    "executionInfo": {
     "elapsed": 1014,
     "status": "ok",
     "timestamp": 1596617578316,
     "user": {
      "displayName": "Tay Khim",
      "photoUrl": "",
      "userId": "00177423956135587504"
     },
     "user_tz": -480
    },
    "id": "qUivmd-pzsqd"
   },
   "outputs": [],
   "source": [
    "y_true_df['threshold'] = np.where(abs(y_true_df['delta']) < 0.1, True, False)"
   ]
  },
  {
   "cell_type": "code",
   "execution_count": 49,
   "metadata": {
    "colab": {
     "base_uri": "https://localhost:8080/",
     "height": 68
    },
    "colab_type": "code",
    "executionInfo": {
     "elapsed": 1042,
     "status": "ok",
     "timestamp": 1596617688597,
     "user": {
      "displayName": "Tay Khim",
      "photoUrl": "",
      "userId": "00177423956135587504"
     },
     "user_tz": -480
    },
    "id": "COFwLFvj0uqk",
    "outputId": "b3f7d956-6694-4c29-a314-ff720d39e981"
   },
   "outputs": [
    {
     "data": {
      "text/plain": [
       "True     11054\n",
       "False     4321\n",
       "Name: threshold, dtype: int64"
      ]
     },
     "execution_count": 49,
     "metadata": {
      "tags": []
     },
     "output_type": "execute_result"
    }
   ],
   "source": [
    "y_true_df['threshold'].value_counts()"
   ]
  },
  {
   "cell_type": "code",
   "execution_count": null,
   "metadata": {
    "colab": {},
    "colab_type": "code",
    "id": "TcvOUwDNtVmw"
   },
   "outputs": [],
   "source": [
    "################################# model 2 loading in and plot ###########################"
   ]
  },
  {
   "cell_type": "code",
   "execution_count": null,
   "metadata": {
    "colab": {},
    "colab_type": "code",
    "id": "Gt7mRAdm92b_"
   },
   "outputs": [],
   "source": [
    "################################# model 3 loading in and plot ###########################"
   ]
  },
  {
   "cell_type": "code",
   "execution_count": 5,
   "metadata": {
    "colab": {},
    "colab_type": "code",
    "executionInfo": {
     "elapsed": 941,
     "status": "ok",
     "timestamp": 1596653759826,
     "user": {
      "displayName": "Tay Khim",
      "photoUrl": "",
      "userId": "00177423956135587504"
     },
     "user_tz": -480
    },
    "id": "-dgMXMyr-SpH"
   },
   "outputs": [],
   "source": [
    "def model_loading_2(model_name):\n",
    "    model_name_camera1 = pd.read_csv(f'/content/drive/My Drive/datasets/{model_name}_1_camera8.csv')\n",
    "    model_name_camera2 = pd.read_csv(f'/content/drive/My Drive/datasets/{model_name}_2_camera1.csv')\n",
    "    model_name_camera3 = pd.read_csv(f'/content/drive/My Drive/datasets/{model_name}_3_camera9.csv')\n",
    "    model_name_camera4 = pd.read_csv(f'/content/drive/My Drive/datasets/{model_name}_4_camera2.csv')\n",
    "    model_name_camera5 = pd.read_csv(f'/content/drive/My Drive/datasets/{model_name}_5_camera3.csv')\n",
    "    model_name_camera6 = pd.read_csv(f'/content/drive/My Drive/datasets/{model_name}_6_camera4.csv')\n",
    "    model_name_camera7 = pd.read_csv(f'/content/drive/My Drive/datasets/{model_name}_7_camera5.csv')\n",
    "    model_name_camera8 = pd.read_csv(f'/content/drive/My Drive/datasets/{model_name}_8_camera6.csv')\n",
    "    model_name_camera9 = pd.read_csv(f'/content/drive/My Drive/datasets/{model_name}_9_camera7.csv')\n",
    "\n",
    "    model_full = pd.concat([model_name_camera1, model_name_camera2], ignore_index=True)\n",
    "    model_full = pd.concat([model_full, model_name_camera3], ignore_index=True)\n",
    "    model_full = pd.concat([model_full, model_name_camera4], ignore_index=True)\n",
    "    model_full = pd.concat([model_full, model_name_camera5], ignore_index=True)\n",
    "    model_full = pd.concat([model_full, model_name_camera6], ignore_index=True)\n",
    "    model_full = pd.concat([model_full, model_name_camera7], ignore_index=True)\n",
    "    model_full = pd.concat([model_full, model_name_camera8], ignore_index=True)\n",
    "    model_full = pd.concat([model_full, model_name_camera9], ignore_index=True)\n",
    "\n",
    "    print(model_full.shape)\n",
    "\n",
    "    return model_full"
   ]
  },
  {
   "cell_type": "code",
   "execution_count": 7,
   "metadata": {
    "colab": {
     "base_uri": "https://localhost:8080/",
     "height": 34
    },
    "colab_type": "code",
    "executionInfo": {
     "elapsed": 3805,
     "status": "ok",
     "timestamp": 1596653777403,
     "user": {
      "displayName": "Tay Khim",
      "photoUrl": "",
      "userId": "00177423956135587504"
     },
     "user_tz": -480
    },
    "id": "by91NFpg92cF",
    "outputId": "9f57b578-0286-46ed-f8aa-543c6865b1e2"
   },
   "outputs": [
    {
     "name": "stdout",
     "output_type": "stream",
     "text": [
      "(440, 4)\n"
     ]
    }
   ],
   "source": [
    "model_3_full = model_loading_2('model_3')"
   ]
  },
  {
   "cell_type": "code",
   "execution_count": 9,
   "metadata": {
    "colab": {
     "base_uri": "https://localhost:8080/",
     "height": 204
    },
    "colab_type": "code",
    "executionInfo": {
     "elapsed": 844,
     "status": "ok",
     "timestamp": 1596653826523,
     "user": {
      "displayName": "Tay Khim",
      "photoUrl": "",
      "userId": "00177423956135587504"
     },
     "user_tz": -480
    },
    "id": "A3UvvQuj92cI",
    "outputId": "a16f5b8f-1230-46df-c5cc-e0a29a74b2d1"
   },
   "outputs": [
    {
     "data": {
      "text/html": [
       "<div>\n",
       "<style scoped>\n",
       "    .dataframe tbody tr th:only-of-type {\n",
       "        vertical-align: middle;\n",
       "    }\n",
       "\n",
       "    .dataframe tbody tr th {\n",
       "        vertical-align: top;\n",
       "    }\n",
       "\n",
       "    .dataframe thead th {\n",
       "        text-align: right;\n",
       "    }\n",
       "</style>\n",
       "<table border=\"1\" class=\"dataframe\">\n",
       "  <thead>\n",
       "    <tr style=\"text-align: right;\">\n",
       "      <th></th>\n",
       "      <th>loss</th>\n",
       "      <th>root_mean_squared_error</th>\n",
       "      <th>val_loss</th>\n",
       "      <th>val_root_mean_squared_error</th>\n",
       "    </tr>\n",
       "  </thead>\n",
       "  <tbody>\n",
       "    <tr>\n",
       "      <th>0</th>\n",
       "      <td>0.402141</td>\n",
       "      <td>0.634146</td>\n",
       "      <td>0.374473</td>\n",
       "      <td>0.611942</td>\n",
       "    </tr>\n",
       "    <tr>\n",
       "      <th>1</th>\n",
       "      <td>0.399356</td>\n",
       "      <td>0.631947</td>\n",
       "      <td>0.374451</td>\n",
       "      <td>0.611924</td>\n",
       "    </tr>\n",
       "    <tr>\n",
       "      <th>2</th>\n",
       "      <td>0.399077</td>\n",
       "      <td>0.631725</td>\n",
       "      <td>0.374487</td>\n",
       "      <td>0.611953</td>\n",
       "    </tr>\n",
       "    <tr>\n",
       "      <th>3</th>\n",
       "      <td>0.398827</td>\n",
       "      <td>0.631528</td>\n",
       "      <td>0.374424</td>\n",
       "      <td>0.611902</td>\n",
       "    </tr>\n",
       "    <tr>\n",
       "      <th>4</th>\n",
       "      <td>0.395954</td>\n",
       "      <td>0.629249</td>\n",
       "      <td>0.371324</td>\n",
       "      <td>0.609364</td>\n",
       "    </tr>\n",
       "  </tbody>\n",
       "</table>\n",
       "</div>"
      ],
      "text/plain": [
       "       loss  root_mean_squared_error  val_loss  val_root_mean_squared_error\n",
       "0  0.402141                 0.634146  0.374473                     0.611942\n",
       "1  0.399356                 0.631947  0.374451                     0.611924\n",
       "2  0.399077                 0.631725  0.374487                     0.611953\n",
       "3  0.398827                 0.631528  0.374424                     0.611902\n",
       "4  0.395954                 0.629249  0.371324                     0.609364"
      ]
     },
     "execution_count": 9,
     "metadata": {
      "tags": []
     },
     "output_type": "execute_result"
    }
   ],
   "source": [
    "model_3_full.head()"
   ]
  },
  {
   "cell_type": "code",
   "execution_count": 13,
   "metadata": {
    "colab": {},
    "colab_type": "code",
    "executionInfo": {
     "elapsed": 813,
     "status": "ok",
     "timestamp": 1596653867561,
     "user": {
      "displayName": "Tay Khim",
      "photoUrl": "",
      "userId": "00177423956135587504"
     },
     "user_tz": -480
    },
    "id": "RhHditGW92cL"
   },
   "outputs": [],
   "source": [
    "ticks = [i for i in range(0, 441, 20)]\n",
    "labels = [i for i in range(0, 441, 20)]"
   ]
  },
  {
   "cell_type": "code",
   "execution_count": 11,
   "metadata": {
    "colab": {},
    "colab_type": "code",
    "executionInfo": {
     "elapsed": 778,
     "status": "ok",
     "timestamp": 1596653841197,
     "user": {
      "displayName": "Tay Khim",
      "photoUrl": "",
      "userId": "00177423956135587504"
     },
     "user_tz": -480
    },
    "id": "LZXdOMf992cO"
   },
   "outputs": [],
   "source": [
    "train_loss = model_3_full['loss']\n",
    "test_loss = model_3_full['val_loss']\n",
    "\n",
    "train_rsme = model_3_full['root_mean_squared_error']\n",
    "test_rsme = model_3_full['val_root_mean_squared_error']"
   ]
  },
  {
   "cell_type": "code",
   "execution_count": 14,
   "metadata": {
    "colab": {
     "base_uri": "https://localhost:8080/",
     "height": 519
    },
    "colab_type": "code",
    "executionInfo": {
     "elapsed": 1196,
     "status": "ok",
     "timestamp": 1596653871716,
     "user": {
      "displayName": "Tay Khim",
      "photoUrl": "",
      "userId": "00177423956135587504"
     },
     "user_tz": -480
    },
    "id": "DjmUuO_O92cQ",
    "outputId": "6866ba72-f7a7-4630-9362-669348d023a8"
   },
   "outputs": [
    {
     "data": {
      "image/png": "[encoded data removed]",
      "text/plain": [
       "<Figure size 1440x576 with 1 Axes>"
      ]
     },
     "metadata": {
      "needs_background": "light",
      "tags": []
     },
     "output_type": "display_data"
    }
   ],
   "source": [
    "# Set figure size.\n",
    "plt.figure(figsize=(20, 8))\n",
    "\n",
    "# Generate line plot of training, testing loss over epochs.\n",
    "plt.plot(train_loss, label='Training Loss', color='#185fad')\n",
    "plt.plot(test_loss, label='Testing Loss', color='orange')\n",
    "\n",
    "# Set title\n",
    "plt.title('Training and Testing Loss by Epoch for Model 3', fontsize = 25)\n",
    "plt.xlabel('Epoch', fontsize = 18)\n",
    "plt.ylabel('Mean Squared Error', fontsize = 18)\n",
    "plt.xticks(ticks, labels)\n",
    "\n",
    "plt.legend(fontsize = 18);\n",
    "\n",
    "#plt.savefig('/content/drive/My Drive/images/train_test_loss_model3_camera3.png');"
   ]
  },
  {
   "cell_type": "code",
   "execution_count": 15,
   "metadata": {
    "colab": {
     "base_uri": "https://localhost:8080/",
     "height": 522
    },
    "colab_type": "code",
    "executionInfo": {
     "elapsed": 1636,
     "status": "ok",
     "timestamp": 1596653887546,
     "user": {
      "displayName": "Tay Khim",
      "photoUrl": "",
      "userId": "00177423956135587504"
     },
     "user_tz": -480
    },
    "id": "Flnwv0a_92cU",
    "outputId": "5703db5e-5ef9-4289-c50f-9e7b289b60d2"
   },
   "outputs": [
    {
     "data": {
      "image/png": "[encoded data removed]",
      "text/plain": [
       "<Figure size 1440x576 with 1 Axes>"
      ]
     },
     "metadata": {
      "needs_background": "light",
      "tags": []
     },
     "output_type": "display_data"
    }
   ],
   "source": [
    "# Set figure size.\n",
    "plt.figure(figsize=(20, 8))\n",
    "\n",
    "# Generate line plot of training, testing loss over epochs.\n",
    "plt.plot(train_rsme, label='Training RSME', color='#185fad')\n",
    "plt.plot(test_rsme, label='Testing RSME', color='orange')\n",
    "\n",
    "# Set title\n",
    "plt.title('Training and Testing Loss by Epoch for Model 2', fontsize = 25)\n",
    "plt.xlabel('Epoch', fontsize = 18)\n",
    "plt.ylabel('Mean Squared Error', fontsize = 18)\n",
    "plt.xticks(ticks, labels)\n",
    "\n",
    "plt.legend(fontsize = 18);"
   ]
  },
  {
   "cell_type": "code",
   "execution_count": 16,
   "metadata": {
    "colab": {},
    "colab_type": "code",
    "executionInfo": {
     "elapsed": 3913,
     "status": "ok",
     "timestamp": 1596654028361,
     "user": {
      "displayName": "Tay Khim",
      "photoUrl": "",
      "userId": "00177423956135587504"
     },
     "user_tz": -480
    },
    "id": "zDfuKVtZ92cY"
   },
   "outputs": [],
   "source": [
    "model_3 = load_model('/content/drive/My Drive/epochs/model_3_9_camera7.0030-0.0174.h5')"
   ]
  },
  {
   "cell_type": "code",
   "execution_count": 17,
   "metadata": {
    "colab": {},
    "colab_type": "code",
    "executionInfo": {
     "elapsed": 2080,
     "status": "ok",
     "timestamp": 1596654059903,
     "user": {
      "displayName": "Tay Khim",
      "photoUrl": "",
      "userId": "00177423956135587504"
     },
     "user_tz": -480
    },
    "id": "iqfVResT92cb"
   },
   "outputs": [],
   "source": [
    "camera11_day_unseen = load('/content/drive/My Drive/datasets/camera11_processed.npz')"
   ]
  },
  {
   "cell_type": "code",
   "execution_count": 18,
   "metadata": {
    "colab": {},
    "colab_type": "code",
    "executionInfo": {
     "elapsed": 4546,
     "status": "ok",
     "timestamp": 1596654081673,
     "user": {
      "displayName": "Tay Khim",
      "photoUrl": "",
      "userId": "00177423956135587504"
     },
     "user_tz": -480
    },
    "id": "kDaVhfL-92cg"
   },
   "outputs": [],
   "source": [
    "camera11_day_unseen = camera11_day_unseen.f.arr_0"
   ]
  },
  {
   "cell_type": "code",
   "execution_count": 19,
   "metadata": {
    "colab": {
     "base_uri": "https://localhost:8080/",
     "height": 34
    },
    "colab_type": "code",
    "executionInfo": {
     "elapsed": 4514,
     "status": "ok",
     "timestamp": 1596654081676,
     "user": {
      "displayName": "Tay Khim",
      "photoUrl": "",
      "userId": "00177423956135587504"
     },
     "user_tz": -480
    },
    "id": "eMj8403592ci",
    "outputId": "5b3daef0-867e-4417-8d8e-1dcdd94b5afc"
   },
   "outputs": [
    {
     "data": {
      "text/plain": [
       "(15375, 80, 160, 1)"
      ]
     },
     "execution_count": 19,
     "metadata": {
      "tags": []
     },
     "output_type": "execute_result"
    }
   ],
   "source": [
    "camera11_day_unseen.shape"
   ]
  },
  {
   "cell_type": "code",
   "execution_count": 53,
   "metadata": {
    "colab": {},
    "colab_type": "code",
    "executionInfo": {
     "elapsed": 43586,
     "status": "ok",
     "timestamp": 1596655091326,
     "user": {
      "displayName": "Tay Khim",
      "photoUrl": "",
      "userId": "00177423956135587504"
     },
     "user_tz": -480
    },
    "id": "wtKk-qYx92cl"
   },
   "outputs": [],
   "source": [
    "y_pred = model_3.predict(camera11_day_unseen)"
   ]
  },
  {
   "cell_type": "code",
   "execution_count": 21,
   "metadata": {
    "colab": {
     "base_uri": "https://localhost:8080/",
     "height": 136
    },
    "colab_type": "code",
    "executionInfo": {
     "elapsed": 693,
     "status": "ok",
     "timestamp": 1596654134897,
     "user": {
      "displayName": "Tay Khim",
      "photoUrl": "",
      "userId": "00177423956135587504"
     },
     "user_tz": -480
    },
    "id": "DUiAW5al92co",
    "outputId": "cdda4d84-61af-4a86-dc39-f21fbef19363"
   },
   "outputs": [
    {
     "data": {
      "text/plain": [
       "array([[ 1.9169794 ],\n",
       "       [ 2.0048234 ],\n",
       "       [ 1.9785651 ],\n",
       "       ...,\n",
       "       [-0.4505384 ],\n",
       "       [-0.49409604],\n",
       "       [-0.35184506]], dtype=float32)"
      ]
     },
     "execution_count": 21,
     "metadata": {
      "tags": []
     },
     "output_type": "execute_result"
    }
   ],
   "source": [
    "y_pred"
   ]
  },
  {
   "cell_type": "code",
   "execution_count": 54,
   "metadata": {
    "colab": {},
    "colab_type": "code",
    "executionInfo": {
     "elapsed": 26679,
     "status": "ok",
     "timestamp": 1596655091330,
     "user": {
      "displayName": "Tay Khim",
      "photoUrl": "",
      "userId": "00177423956135587504"
     },
     "user_tz": -480
    },
    "id": "vxlxaTYAAJhO"
   },
   "outputs": [],
   "source": [
    "# ignore the 3 code blocks above \n",
    "# load in the processed csv instead\n",
    "y_true_df = pd.read_csv('/content/drive/My Drive/datasets/log11_processed.csv')"
   ]
  },
  {
   "cell_type": "code",
   "execution_count": 55,
   "metadata": {
    "colab": {
     "base_uri": "https://localhost:8080/",
     "height": 204
    },
    "colab_type": "code",
    "executionInfo": {
     "elapsed": 24459,
     "status": "ok",
     "timestamp": 1596655091330,
     "user": {
      "displayName": "Tay Khim",
      "photoUrl": "",
      "userId": "00177423956135587504"
     },
     "user_tz": -480
    },
    "id": "pYLKczNYAJhZ",
    "outputId": "d59040d2-74c4-4ee4-8796-82004576d3df"
   },
   "outputs": [
    {
     "data": {
      "text/html": [
       "<div>\n",
       "<style scoped>\n",
       "    .dataframe tbody tr th:only-of-type {\n",
       "        vertical-align: middle;\n",
       "    }\n",
       "\n",
       "    .dataframe tbody tr th {\n",
       "        vertical-align: top;\n",
       "    }\n",
       "\n",
       "    .dataframe thead th {\n",
       "        text-align: right;\n",
       "    }\n",
       "</style>\n",
       "<table border=\"1\" class=\"dataframe\">\n",
       "  <thead>\n",
       "    <tr style=\"text-align: right;\">\n",
       "      <th></th>\n",
       "      <th>cam1_ptr</th>\n",
       "      <th>steering_avg_radian</th>\n",
       "    </tr>\n",
       "  </thead>\n",
       "  <tbody>\n",
       "    <tr>\n",
       "      <th>0</th>\n",
       "      <td>1400.0</td>\n",
       "      <td>0.397824</td>\n",
       "    </tr>\n",
       "    <tr>\n",
       "      <th>1</th>\n",
       "      <td>1401.0</td>\n",
       "      <td>0.197212</td>\n",
       "    </tr>\n",
       "    <tr>\n",
       "      <th>2</th>\n",
       "      <td>1402.0</td>\n",
       "      <td>0.030947</td>\n",
       "    </tr>\n",
       "    <tr>\n",
       "      <th>3</th>\n",
       "      <td>1403.0</td>\n",
       "      <td>-0.003187</td>\n",
       "    </tr>\n",
       "    <tr>\n",
       "      <th>4</th>\n",
       "      <td>1404.0</td>\n",
       "      <td>0.000000</td>\n",
       "    </tr>\n",
       "  </tbody>\n",
       "</table>\n",
       "</div>"
      ],
      "text/plain": [
       "   cam1_ptr  steering_avg_radian\n",
       "0    1400.0             0.397824\n",
       "1    1401.0             0.197212\n",
       "2    1402.0             0.030947\n",
       "3    1403.0            -0.003187\n",
       "4    1404.0             0.000000"
      ]
     },
     "execution_count": 55,
     "metadata": {
      "tags": []
     },
     "output_type": "execute_result"
    }
   ],
   "source": [
    "y_true_df.head()"
   ]
  },
  {
   "cell_type": "code",
   "execution_count": 56,
   "metadata": {
    "colab": {},
    "colab_type": "code",
    "executionInfo": {
     "elapsed": 22869,
     "status": "ok",
     "timestamp": 1596655091331,
     "user": {
      "displayName": "Tay Khim",
      "photoUrl": "",
      "userId": "00177423956135587504"
     },
     "user_tz": -480
    },
    "id": "wnVmxQ5cAJhg"
   },
   "outputs": [],
   "source": [
    "y_pred = y_pred.reshape(y_pred.shape[0])"
   ]
  },
  {
   "cell_type": "code",
   "execution_count": 57,
   "metadata": {
    "colab": {},
    "colab_type": "code",
    "executionInfo": {
     "elapsed": 22369,
     "status": "ok",
     "timestamp": 1596655091332,
     "user": {
      "displayName": "Tay Khim",
      "photoUrl": "",
      "userId": "00177423956135587504"
     },
     "user_tz": -480
    },
    "id": "UR75siutAJhn"
   },
   "outputs": [],
   "source": [
    "y_true_df['y_pred'] = y_pred"
   ]
  },
  {
   "cell_type": "code",
   "execution_count": 58,
   "metadata": {
    "colab": {},
    "colab_type": "code",
    "executionInfo": {
     "elapsed": 21520,
     "status": "ok",
     "timestamp": 1596655091332,
     "user": {
      "displayName": "Tay Khim",
      "photoUrl": "",
      "userId": "00177423956135587504"
     },
     "user_tz": -480
    },
    "id": "S5Ol13DtAJhq"
   },
   "outputs": [],
   "source": [
    "y_true_df.rename(columns={'steering_avg_radian': 'y_true'}, inplace=True)"
   ]
  },
  {
   "cell_type": "code",
   "execution_count": 59,
   "metadata": {
    "colab": {
     "base_uri": "https://localhost:8080/",
     "height": 204
    },
    "colab_type": "code",
    "executionInfo": {
     "elapsed": 19065,
     "status": "ok",
     "timestamp": 1596655091333,
     "user": {
      "displayName": "Tay Khim",
      "photoUrl": "",
      "userId": "00177423956135587504"
     },
     "user_tz": -480
    },
    "id": "rKpk3WR4AJht",
    "outputId": "5b45ae4f-5318-4ee5-bd40-0433eadcebae"
   },
   "outputs": [
    {
     "data": {
      "text/html": [
       "<div>\n",
       "<style scoped>\n",
       "    .dataframe tbody tr th:only-of-type {\n",
       "        vertical-align: middle;\n",
       "    }\n",
       "\n",
       "    .dataframe tbody tr th {\n",
       "        vertical-align: top;\n",
       "    }\n",
       "\n",
       "    .dataframe thead th {\n",
       "        text-align: right;\n",
       "    }\n",
       "</style>\n",
       "<table border=\"1\" class=\"dataframe\">\n",
       "  <thead>\n",
       "    <tr style=\"text-align: right;\">\n",
       "      <th></th>\n",
       "      <th>cam1_ptr</th>\n",
       "      <th>y_true</th>\n",
       "      <th>y_pred</th>\n",
       "    </tr>\n",
       "  </thead>\n",
       "  <tbody>\n",
       "    <tr>\n",
       "      <th>0</th>\n",
       "      <td>1400.0</td>\n",
       "      <td>0.397824</td>\n",
       "      <td>1.916979</td>\n",
       "    </tr>\n",
       "    <tr>\n",
       "      <th>1</th>\n",
       "      <td>1401.0</td>\n",
       "      <td>0.197212</td>\n",
       "      <td>2.004823</td>\n",
       "    </tr>\n",
       "    <tr>\n",
       "      <th>2</th>\n",
       "      <td>1402.0</td>\n",
       "      <td>0.030947</td>\n",
       "      <td>1.978565</td>\n",
       "    </tr>\n",
       "    <tr>\n",
       "      <th>3</th>\n",
       "      <td>1403.0</td>\n",
       "      <td>-0.003187</td>\n",
       "      <td>2.028568</td>\n",
       "    </tr>\n",
       "    <tr>\n",
       "      <th>4</th>\n",
       "      <td>1404.0</td>\n",
       "      <td>0.000000</td>\n",
       "      <td>2.028652</td>\n",
       "    </tr>\n",
       "  </tbody>\n",
       "</table>\n",
       "</div>"
      ],
      "text/plain": [
       "   cam1_ptr    y_true    y_pred\n",
       "0    1400.0  0.397824  1.916979\n",
       "1    1401.0  0.197212  2.004823\n",
       "2    1402.0  0.030947  1.978565\n",
       "3    1403.0 -0.003187  2.028568\n",
       "4    1404.0  0.000000  2.028652"
      ]
     },
     "execution_count": 59,
     "metadata": {
      "tags": []
     },
     "output_type": "execute_result"
    }
   ],
   "source": [
    "y_true_df.head()"
   ]
  },
  {
   "cell_type": "code",
   "execution_count": 60,
   "metadata": {
    "colab": {
     "base_uri": "https://localhost:8080/",
     "height": 51
    },
    "colab_type": "code",
    "executionInfo": {
     "elapsed": 14642,
     "status": "ok",
     "timestamp": 1596655091760,
     "user": {
      "displayName": "Tay Khim",
      "photoUrl": "",
      "userId": "00177423956135587504"
     },
     "user_tz": -480
    },
    "id": "yyn3kwZqAJhw",
    "outputId": "27291c06-9f97-4297-c202-8b5ceb227eb8"
   },
   "outputs": [
    {
     "name": "stdout",
     "output_type": "stream",
     "text": [
      "2846.55043834201\n",
      "model evaluated RMSE: 0.4302807129359665\n"
     ]
    }
   ],
   "source": [
    "sq = 0\n",
    "mse = 0\n",
    "for i in range(y_true_df.shape[0]):\n",
    "    sqd = ((y_true_df.y_pred[i]-y_true_df.y_true[i])**2)\n",
    "    sq = sq + sqd\n",
    "print(sq)\n",
    "mse = sq/y_true_df.shape[0]\n",
    "rmse = np.sqrt(mse)\n",
    "print(\"model evaluated RMSE:\", rmse)"
   ]
  },
  {
   "cell_type": "code",
   "execution_count": null,
   "metadata": {
    "colab": {
     "base_uri": "https://localhost:8080/",
     "height": 34
    },
    "colab_type": "code",
    "executionInfo": {
     "elapsed": 882,
     "status": "ok",
     "timestamp": 1596616330053,
     "user": {
      "displayName": "Tay Khim",
      "photoUrl": "",
      "userId": "00177423956135587504"
     },
     "user_tz": -480
    },
    "id": "ZqYdiCJnAJh0",
    "outputId": "6b64cdbe-4602-43cb-cdb7-c775e68e49ca"
   },
   "outputs": [
    {
     "data": {
      "text/plain": [
       "(5.551126397290321, -5.021468639694229)"
      ]
     },
     "execution_count": 27,
     "metadata": {
      "tags": []
     },
     "output_type": "execute_result"
    }
   ],
   "source": [
    "y_true_df.y_true.max(), y_true_df.y_true.min()"
   ]
  },
  {
   "cell_type": "code",
   "execution_count": null,
   "metadata": {
    "colab": {
     "base_uri": "https://localhost:8080/",
     "height": 34
    },
    "colab_type": "code",
    "executionInfo": {
     "elapsed": 942,
     "status": "ok",
     "timestamp": 1596616332976,
     "user": {
      "displayName": "Tay Khim",
      "photoUrl": "",
      "userId": "00177423956135587504"
     },
     "user_tz": -480
    },
    "id": "Wmg49--7AJh3",
    "outputId": "5a6445b4-f057-434d-a398-89408a455682"
   },
   "outputs": [
    {
     "data": {
      "text/plain": [
       "(1.8315342664718628, -0.6044789552688599)"
      ]
     },
     "execution_count": 28,
     "metadata": {
      "tags": []
     },
     "output_type": "execute_result"
    }
   ],
   "source": [
    "y_true_df.y_pred.max(), y_true_df.y_pred.min()"
   ]
  },
  {
   "cell_type": "code",
   "execution_count": null,
   "metadata": {
    "colab": {},
    "colab_type": "code",
    "id": "-639es-LAJh5"
   },
   "outputs": [],
   "source": [
    "y_true_df.to_csv('/content/drive/My Drive/datasets/model_2_prediction_day.csv', index=False)"
   ]
  },
  {
   "cell_type": "code",
   "execution_count": 61,
   "metadata": {
    "colab": {},
    "colab_type": "code",
    "executionInfo": {
     "elapsed": 767,
     "status": "ok",
     "timestamp": 1596655091762,
     "user": {
      "displayName": "Tay Khim",
      "photoUrl": "",
      "userId": "00177423956135587504"
     },
     "user_tz": -480
    },
    "id": "HPuNQRT5AJh7"
   },
   "outputs": [],
   "source": [
    "##### trying to figure out how to do the threshold and plot good vs bad predictions\n",
    "y_true_df['delta'] = abs(y_true_df['y_pred']) - abs(y_true_df['y_true'])"
   ]
  },
  {
   "cell_type": "code",
   "execution_count": null,
   "metadata": {
    "colab": {},
    "colab_type": "code",
    "id": "WcRNUX7xAJh9"
   },
   "outputs": [],
   "source": [
    "# setting a threshold level of 0.1"
   ]
  },
  {
   "cell_type": "code",
   "execution_count": 62,
   "metadata": {
    "colab": {
     "base_uri": "https://localhost:8080/",
     "height": 204
    },
    "colab_type": "code",
    "executionInfo": {
     "elapsed": 1289,
     "status": "ok",
     "timestamp": 1596655097846,
     "user": {
      "displayName": "Tay Khim",
      "photoUrl": "",
      "userId": "00177423956135587504"
     },
     "user_tz": -480
    },
    "id": "QByuCZxOAJh_",
    "outputId": "8931e59d-1231-4d9d-ccbd-85d15e25b04d"
   },
   "outputs": [
    {
     "data": {
      "text/html": [
       "<div>\n",
       "<style scoped>\n",
       "    .dataframe tbody tr th:only-of-type {\n",
       "        vertical-align: middle;\n",
       "    }\n",
       "\n",
       "    .dataframe tbody tr th {\n",
       "        vertical-align: top;\n",
       "    }\n",
       "\n",
       "    .dataframe thead th {\n",
       "        text-align: right;\n",
       "    }\n",
       "</style>\n",
       "<table border=\"1\" class=\"dataframe\">\n",
       "  <thead>\n",
       "    <tr style=\"text-align: right;\">\n",
       "      <th></th>\n",
       "      <th>cam1_ptr</th>\n",
       "      <th>y_true</th>\n",
       "      <th>y_pred</th>\n",
       "      <th>delta</th>\n",
       "    </tr>\n",
       "  </thead>\n",
       "  <tbody>\n",
       "    <tr>\n",
       "      <th>0</th>\n",
       "      <td>1400.0</td>\n",
       "      <td>0.397824</td>\n",
       "      <td>1.916979</td>\n",
       "      <td>1.519156</td>\n",
       "    </tr>\n",
       "    <tr>\n",
       "      <th>1</th>\n",
       "      <td>1401.0</td>\n",
       "      <td>0.197212</td>\n",
       "      <td>2.004823</td>\n",
       "      <td>1.807611</td>\n",
       "    </tr>\n",
       "    <tr>\n",
       "      <th>2</th>\n",
       "      <td>1402.0</td>\n",
       "      <td>0.030947</td>\n",
       "      <td>1.978565</td>\n",
       "      <td>1.947618</td>\n",
       "    </tr>\n",
       "    <tr>\n",
       "      <th>3</th>\n",
       "      <td>1403.0</td>\n",
       "      <td>-0.003187</td>\n",
       "      <td>2.028568</td>\n",
       "      <td>2.025382</td>\n",
       "    </tr>\n",
       "    <tr>\n",
       "      <th>4</th>\n",
       "      <td>1404.0</td>\n",
       "      <td>0.000000</td>\n",
       "      <td>2.028652</td>\n",
       "      <td>2.028652</td>\n",
       "    </tr>\n",
       "  </tbody>\n",
       "</table>\n",
       "</div>"
      ],
      "text/plain": [
       "   cam1_ptr    y_true    y_pred     delta\n",
       "0    1400.0  0.397824  1.916979  1.519156\n",
       "1    1401.0  0.197212  2.004823  1.807611\n",
       "2    1402.0  0.030947  1.978565  1.947618\n",
       "3    1403.0 -0.003187  2.028568  2.025382\n",
       "4    1404.0  0.000000  2.028652  2.028652"
      ]
     },
     "execution_count": 62,
     "metadata": {
      "tags": []
     },
     "output_type": "execute_result"
    }
   ],
   "source": [
    "y_true_df.head()"
   ]
  },
  {
   "cell_type": "code",
   "execution_count": 63,
   "metadata": {
    "colab": {},
    "colab_type": "code",
    "executionInfo": {
     "elapsed": 1290,
     "status": "ok",
     "timestamp": 1596655100703,
     "user": {
      "displayName": "Tay Khim",
      "photoUrl": "",
      "userId": "00177423956135587504"
     },
     "user_tz": -480
    },
    "id": "tnCE4FKoAJiB"
   },
   "outputs": [],
   "source": [
    "y_true_df['threshold'] = np.where(abs(y_true_df['delta']) < 0.1, True, False)"
   ]
  },
  {
   "cell_type": "code",
   "execution_count": 64,
   "metadata": {
    "colab": {
     "base_uri": "https://localhost:8080/",
     "height": 68
    },
    "colab_type": "code",
    "executionInfo": {
     "elapsed": 787,
     "status": "ok",
     "timestamp": 1596655103548,
     "user": {
      "displayName": "Tay Khim",
      "photoUrl": "",
      "userId": "00177423956135587504"
     },
     "user_tz": -480
    },
    "id": "N_dS0CgXAJiD",
    "outputId": "98b47d90-6cc6-43b1-a560-7fb1bfa1bfdf"
   },
   "outputs": [
    {
     "data": {
      "text/plain": [
       "True     11757\n",
       "False     3618\n",
       "Name: threshold, dtype: int64"
      ]
     },
     "execution_count": 64,
     "metadata": {
      "tags": []
     },
     "output_type": "execute_result"
    }
   ],
   "source": [
    "y_true_df['threshold'].value_counts()"
   ]
  },
  {
   "cell_type": "code",
   "execution_count": null,
   "metadata": {
    "colab": {},
    "colab_type": "code",
    "id": "2PIVqT0RAJiG"
   },
   "outputs": [],
   "source": [
    "################################# model 3 loading in and plot ###########################"
   ]
  },
  {
   "cell_type": "code",
   "execution_count": null,
   "metadata": {
    "colab": {},
    "colab_type": "code",
    "id": "DsjhxKQdAimJ"
   },
   "outputs": [],
   "source": [
    "################################# model 3 night prediction etc ##########################"
   ]
  },
  {
   "cell_type": "code",
   "execution_count": 29,
   "metadata": {
    "colab": {},
    "colab_type": "code",
    "executionInfo": {
     "elapsed": 2499,
     "status": "ok",
     "timestamp": 1596654382209,
     "user": {
      "displayName": "Tay Khim",
      "photoUrl": "",
      "userId": "00177423956135587504"
     },
     "user_tz": -480
    },
    "id": "bhZVZcSpAimM"
   },
   "outputs": [],
   "source": [
    "camera10_night_unseen = load('/content/drive/My Drive/datasets/camera10_processed.npz')"
   ]
  },
  {
   "cell_type": "code",
   "execution_count": 30,
   "metadata": {
    "colab": {
     "base_uri": "https://localhost:8080/",
     "height": 34
    },
    "colab_type": "code",
    "executionInfo": {
     "elapsed": 21427,
     "status": "ok",
     "timestamp": 1596654421398,
     "user": {
      "displayName": "Tay Khim",
      "photoUrl": "",
      "userId": "00177423956135587504"
     },
     "user_tz": -480
    },
    "id": "LOnjGLFTAimV",
    "outputId": "29b2f1e0-94e4-445f-de2c-79c98b9d940a"
   },
   "outputs": [
    {
     "data": {
      "text/plain": [
       "(41973, 80, 160, 1)"
      ]
     },
     "execution_count": 30,
     "metadata": {
      "tags": []
     },
     "output_type": "execute_result"
    }
   ],
   "source": [
    "camera10_night_unseen = camera10_night_unseen.f.arr_0\n",
    "camera10_night_unseen.shape"
   ]
  },
  {
   "cell_type": "code",
   "execution_count": 31,
   "metadata": {
    "colab": {},
    "colab_type": "code",
    "executionInfo": {
     "elapsed": 116413,
     "status": "ok",
     "timestamp": 1596654539512,
     "user": {
      "displayName": "Tay Khim",
      "photoUrl": "",
      "userId": "00177423956135587504"
     },
     "user_tz": -480
    },
    "id": "qw3WHCU9Aimc"
   },
   "outputs": [],
   "source": [
    "y_pred = model_3.predict(camera10_night_unseen)"
   ]
  },
  {
   "cell_type": "code",
   "execution_count": 50,
   "metadata": {
    "colab": {
     "base_uri": "https://localhost:8080/",
     "height": 51
    },
    "colab_type": "code",
    "executionInfo": {
     "elapsed": 909,
     "status": "ok",
     "timestamp": 1596654997784,
     "user": {
      "displayName": "Tay Khim",
      "photoUrl": "",
      "userId": "00177423956135587504"
     },
     "user_tz": -480
    },
    "id": "Oa-0TvDXDcOo",
    "outputId": "4230c725-4880-455c-b2d4-75abeebce7fe"
   },
   "outputs": [
    {
     "data": {
      "text/plain": [
       "array([-0.00226545, -0.00226545, -0.00226545, ..., -0.00226545,\n",
       "       -0.00226545, -0.00226545], dtype=float32)"
      ]
     },
     "execution_count": 50,
     "metadata": {
      "tags": []
     },
     "output_type": "execute_result"
    }
   ],
   "source": [
    "y_pred"
   ]
  },
  {
   "cell_type": "code",
   "execution_count": 32,
   "metadata": {
    "colab": {},
    "colab_type": "code",
    "executionInfo": {
     "elapsed": 1219,
     "status": "ok",
     "timestamp": 1596654540735,
     "user": {
      "displayName": "Tay Khim",
      "photoUrl": "",
      "userId": "00177423956135587504"
     },
     "user_tz": -480
    },
    "id": "MwPJK6GnAime"
   },
   "outputs": [],
   "source": [
    "# ignore the 3 blocks on top \n",
    "model1_10night_df = pd.read_csv('/content/drive/My Drive/datasets/log10_processed.csv')"
   ]
  },
  {
   "cell_type": "code",
   "execution_count": 33,
   "metadata": {
    "colab": {
     "base_uri": "https://localhost:8080/",
     "height": 204
    },
    "colab_type": "code",
    "executionInfo": {
     "elapsed": 1176,
     "status": "ok",
     "timestamp": 1596654540737,
     "user": {
      "displayName": "Tay Khim",
      "photoUrl": "",
      "userId": "00177423956135587504"
     },
     "user_tz": -480
    },
    "id": "EGe7ynEyAimg",
    "outputId": "e22ef254-730c-4dc1-9ff3-fddd2aecba40"
   },
   "outputs": [
    {
     "data": {
      "text/html": [
       "<div>\n",
       "<style scoped>\n",
       "    .dataframe tbody tr th:only-of-type {\n",
       "        vertical-align: middle;\n",
       "    }\n",
       "\n",
       "    .dataframe tbody tr th {\n",
       "        vertical-align: top;\n",
       "    }\n",
       "\n",
       "    .dataframe thead th {\n",
       "        text-align: right;\n",
       "    }\n",
       "</style>\n",
       "<table border=\"1\" class=\"dataframe\">\n",
       "  <thead>\n",
       "    <tr style=\"text-align: right;\">\n",
       "      <th></th>\n",
       "      <th>cam1_ptr</th>\n",
       "      <th>steering_avg_radian</th>\n",
       "    </tr>\n",
       "  </thead>\n",
       "  <tbody>\n",
       "    <tr>\n",
       "      <th>0</th>\n",
       "      <td>1400.0</td>\n",
       "      <td>2.458457</td>\n",
       "    </tr>\n",
       "    <tr>\n",
       "      <th>1</th>\n",
       "      <td>1401.0</td>\n",
       "      <td>2.515180</td>\n",
       "    </tr>\n",
       "    <tr>\n",
       "      <th>2</th>\n",
       "      <td>1402.0</td>\n",
       "      <td>2.536196</td>\n",
       "    </tr>\n",
       "    <tr>\n",
       "      <th>3</th>\n",
       "      <td>1403.0</td>\n",
       "      <td>2.392565</td>\n",
       "    </tr>\n",
       "    <tr>\n",
       "      <th>4</th>\n",
       "      <td>1404.0</td>\n",
       "      <td>2.069322</td>\n",
       "    </tr>\n",
       "  </tbody>\n",
       "</table>\n",
       "</div>"
      ],
      "text/plain": [
       "   cam1_ptr  steering_avg_radian\n",
       "0    1400.0             2.458457\n",
       "1    1401.0             2.515180\n",
       "2    1402.0             2.536196\n",
       "3    1403.0             2.392565\n",
       "4    1404.0             2.069322"
      ]
     },
     "execution_count": 33,
     "metadata": {
      "tags": []
     },
     "output_type": "execute_result"
    }
   ],
   "source": [
    "model1_10night_df.head()"
   ]
  },
  {
   "cell_type": "code",
   "execution_count": 34,
   "metadata": {
    "colab": {},
    "colab_type": "code",
    "executionInfo": {
     "elapsed": 1172,
     "status": "ok",
     "timestamp": 1596654540738,
     "user": {
      "displayName": "Tay Khim",
      "photoUrl": "",
      "userId": "00177423956135587504"
     },
     "user_tz": -480
    },
    "id": "atVzccSRAimi"
   },
   "outputs": [],
   "source": [
    "y_pred = y_pred.reshape(y_pred.shape[0])"
   ]
  },
  {
   "cell_type": "code",
   "execution_count": 35,
   "metadata": {
    "colab": {},
    "colab_type": "code",
    "executionInfo": {
     "elapsed": 1164,
     "status": "ok",
     "timestamp": 1596654540739,
     "user": {
      "displayName": "Tay Khim",
      "photoUrl": "",
      "userId": "00177423956135587504"
     },
     "user_tz": -480
    },
    "id": "pg4rgZ50Aimk"
   },
   "outputs": [],
   "source": [
    "model1_10night_df['y_pred'] = y_pred"
   ]
  },
  {
   "cell_type": "code",
   "execution_count": 36,
   "metadata": {
    "colab": {},
    "colab_type": "code",
    "executionInfo": {
     "elapsed": 1162,
     "status": "ok",
     "timestamp": 1596654540740,
     "user": {
      "displayName": "Tay Khim",
      "photoUrl": "",
      "userId": "00177423956135587504"
     },
     "user_tz": -480
    },
    "id": "DMPtV653Aiml"
   },
   "outputs": [],
   "source": [
    "model1_10night_df.rename(columns={'steering_avg_radian': 'y_true'}, inplace=True)"
   ]
  },
  {
   "cell_type": "code",
   "execution_count": 37,
   "metadata": {
    "colab": {
     "base_uri": "https://localhost:8080/",
     "height": 204
    },
    "colab_type": "code",
    "executionInfo": {
     "elapsed": 1132,
     "status": "ok",
     "timestamp": 1596654540740,
     "user": {
      "displayName": "Tay Khim",
      "photoUrl": "",
      "userId": "00177423956135587504"
     },
     "user_tz": -480
    },
    "id": "Y8-98s7zAimn",
    "outputId": "97157b88-825c-46bb-9093-525c17c88fdf"
   },
   "outputs": [
    {
     "data": {
      "text/html": [
       "<div>\n",
       "<style scoped>\n",
       "    .dataframe tbody tr th:only-of-type {\n",
       "        vertical-align: middle;\n",
       "    }\n",
       "\n",
       "    .dataframe tbody tr th {\n",
       "        vertical-align: top;\n",
       "    }\n",
       "\n",
       "    .dataframe thead th {\n",
       "        text-align: right;\n",
       "    }\n",
       "</style>\n",
       "<table border=\"1\" class=\"dataframe\">\n",
       "  <thead>\n",
       "    <tr style=\"text-align: right;\">\n",
       "      <th></th>\n",
       "      <th>cam1_ptr</th>\n",
       "      <th>y_true</th>\n",
       "      <th>y_pred</th>\n",
       "    </tr>\n",
       "  </thead>\n",
       "  <tbody>\n",
       "    <tr>\n",
       "      <th>0</th>\n",
       "      <td>1400.0</td>\n",
       "      <td>2.458457</td>\n",
       "      <td>-0.002265</td>\n",
       "    </tr>\n",
       "    <tr>\n",
       "      <th>1</th>\n",
       "      <td>1401.0</td>\n",
       "      <td>2.515180</td>\n",
       "      <td>-0.002265</td>\n",
       "    </tr>\n",
       "    <tr>\n",
       "      <th>2</th>\n",
       "      <td>1402.0</td>\n",
       "      <td>2.536196</td>\n",
       "      <td>-0.002265</td>\n",
       "    </tr>\n",
       "    <tr>\n",
       "      <th>3</th>\n",
       "      <td>1403.0</td>\n",
       "      <td>2.392565</td>\n",
       "      <td>-0.002265</td>\n",
       "    </tr>\n",
       "    <tr>\n",
       "      <th>4</th>\n",
       "      <td>1404.0</td>\n",
       "      <td>2.069322</td>\n",
       "      <td>-0.002265</td>\n",
       "    </tr>\n",
       "  </tbody>\n",
       "</table>\n",
       "</div>"
      ],
      "text/plain": [
       "   cam1_ptr    y_true    y_pred\n",
       "0    1400.0  2.458457 -0.002265\n",
       "1    1401.0  2.515180 -0.002265\n",
       "2    1402.0  2.536196 -0.002265\n",
       "3    1403.0  2.392565 -0.002265\n",
       "4    1404.0  2.069322 -0.002265"
      ]
     },
     "execution_count": 37,
     "metadata": {
      "tags": []
     },
     "output_type": "execute_result"
    }
   ],
   "source": [
    "model1_10night_df.head()"
   ]
  },
  {
   "cell_type": "code",
   "execution_count": 39,
   "metadata": {
    "colab": {
     "base_uri": "https://localhost:8080/",
     "height": 51
    },
    "colab_type": "code",
    "executionInfo": {
     "elapsed": 1352,
     "status": "ok",
     "timestamp": 1596654844911,
     "user": {
      "displayName": "Tay Khim",
      "photoUrl": "",
      "userId": "00177423956135587504"
     },
     "user_tz": -480
    },
    "id": "L1tXk-apAimo",
    "outputId": "fb185be2-61af-4ce8-8326-d8e088cc0b39"
   },
   "outputs": [
    {
     "name": "stdout",
     "output_type": "stream",
     "text": [
      "10970.07160201844\n",
      "model evaluated RMSE: 0.8446896424138273\n"
     ]
    }
   ],
   "source": [
    "sq = 0\n",
    "mse = 0\n",
    "for i in range(y_true_df.shape[0]):\n",
    "    sqd = ((model1_10night_df.y_pred[i]-model1_10night_df.y_true[i])**2)\n",
    "    sq = sq + sqd\n",
    "print(sq)\n",
    "mse = sq/y_true_df.shape[0]\n",
    "rmse = np.sqrt(mse)\n",
    "print(\"model evaluated RMSE:\", rmse)"
   ]
  },
  {
   "cell_type": "code",
   "execution_count": 40,
   "metadata": {
    "colab": {
     "base_uri": "https://localhost:8080/",
     "height": 34
    },
    "colab_type": "code",
    "executionInfo": {
     "elapsed": 893,
     "status": "ok",
     "timestamp": 1596654851081,
     "user": {
      "displayName": "Tay Khim",
      "photoUrl": "",
      "userId": "00177423956135587504"
     },
     "user_tz": -480
    },
    "id": "lD6pPYGgAimq",
    "outputId": "86eac472-0b14-4ed1-9358-c88e30048824"
   },
   "outputs": [
    {
     "data": {
      "text/plain": [
       "(7.6479610966007066, -10.426874706007007)"
      ]
     },
     "execution_count": 40,
     "metadata": {
      "tags": []
     },
     "output_type": "execute_result"
    }
   ],
   "source": [
    "model1_10night_df.y_true.max(), model1_10night_df.y_true.min()"
   ]
  },
  {
   "cell_type": "code",
   "execution_count": 41,
   "metadata": {
    "colab": {
     "base_uri": "https://localhost:8080/",
     "height": 34
    },
    "colab_type": "code",
    "executionInfo": {
     "elapsed": 783,
     "status": "ok",
     "timestamp": 1596654853416,
     "user": {
      "displayName": "Tay Khim",
      "photoUrl": "",
      "userId": "00177423956135587504"
     },
     "user_tz": -480
    },
    "id": "jwyOkNG3Aims",
    "outputId": "80f2b19f-bc88-4ece-f8b9-c2267aed6b22"
   },
   "outputs": [
    {
     "data": {
      "text/plain": [
       "(1.1455187797546387, -1.5269966125488281)"
      ]
     },
     "execution_count": 41,
     "metadata": {
      "tags": []
     },
     "output_type": "execute_result"
    }
   ],
   "source": [
    "model1_10night_df.y_pred.max(), model1_10night_df.y_pred.min()"
   ]
  },
  {
   "cell_type": "code",
   "execution_count": null,
   "metadata": {
    "colab": {},
    "colab_type": "code",
    "id": "t5eZ1mEvAim0"
   },
   "outputs": [],
   "source": [
    "##### trying to figure out how to do the threshold and plot good vs bad predictions\n",
    "model1_10night_df['delta'] = model1_10night_df['y_pred'] - model1_10night_df['y_true']"
   ]
  },
  {
   "cell_type": "code",
   "execution_count": null,
   "metadata": {
    "colab": {},
    "colab_type": "code",
    "id": "vpRHaLn6Aim1"
   },
   "outputs": [],
   "source": [
    "# setting a threshold level of 0.1"
   ]
  },
  {
   "cell_type": "code",
   "execution_count": 42,
   "metadata": {
    "colab": {
     "base_uri": "https://localhost:8080/",
     "height": 204
    },
    "colab_type": "code",
    "executionInfo": {
     "elapsed": 844,
     "status": "ok",
     "timestamp": 1596654878242,
     "user": {
      "displayName": "Tay Khim",
      "photoUrl": "",
      "userId": "00177423956135587504"
     },
     "user_tz": -480
    },
    "id": "yGo_qA3OAim3",
    "outputId": "9d84c525-1e36-47b0-9e82-85033607030f"
   },
   "outputs": [
    {
     "data": {
      "text/html": [
       "<div>\n",
       "<style scoped>\n",
       "    .dataframe tbody tr th:only-of-type {\n",
       "        vertical-align: middle;\n",
       "    }\n",
       "\n",
       "    .dataframe tbody tr th {\n",
       "        vertical-align: top;\n",
       "    }\n",
       "\n",
       "    .dataframe thead th {\n",
       "        text-align: right;\n",
       "    }\n",
       "</style>\n",
       "<table border=\"1\" class=\"dataframe\">\n",
       "  <thead>\n",
       "    <tr style=\"text-align: right;\">\n",
       "      <th></th>\n",
       "      <th>cam1_ptr</th>\n",
       "      <th>y_true</th>\n",
       "      <th>y_pred</th>\n",
       "    </tr>\n",
       "  </thead>\n",
       "  <tbody>\n",
       "    <tr>\n",
       "      <th>0</th>\n",
       "      <td>1400.0</td>\n",
       "      <td>2.458457</td>\n",
       "      <td>-0.002265</td>\n",
       "    </tr>\n",
       "    <tr>\n",
       "      <th>1</th>\n",
       "      <td>1401.0</td>\n",
       "      <td>2.515180</td>\n",
       "      <td>-0.002265</td>\n",
       "    </tr>\n",
       "    <tr>\n",
       "      <th>2</th>\n",
       "      <td>1402.0</td>\n",
       "      <td>2.536196</td>\n",
       "      <td>-0.002265</td>\n",
       "    </tr>\n",
       "    <tr>\n",
       "      <th>3</th>\n",
       "      <td>1403.0</td>\n",
       "      <td>2.392565</td>\n",
       "      <td>-0.002265</td>\n",
       "    </tr>\n",
       "    <tr>\n",
       "      <th>4</th>\n",
       "      <td>1404.0</td>\n",
       "      <td>2.069322</td>\n",
       "      <td>-0.002265</td>\n",
       "    </tr>\n",
       "  </tbody>\n",
       "</table>\n",
       "</div>"
      ],
      "text/plain": [
       "   cam1_ptr    y_true    y_pred\n",
       "0    1400.0  2.458457 -0.002265\n",
       "1    1401.0  2.515180 -0.002265\n",
       "2    1402.0  2.536196 -0.002265\n",
       "3    1403.0  2.392565 -0.002265\n",
       "4    1404.0  2.069322 -0.002265"
      ]
     },
     "execution_count": 42,
     "metadata": {
      "tags": []
     },
     "output_type": "execute_result"
    }
   ],
   "source": [
    "model1_10night_df.head()"
   ]
  },
  {
   "cell_type": "code",
   "execution_count": 48,
   "metadata": {
    "colab": {},
    "colab_type": "code",
    "executionInfo": {
     "elapsed": 750,
     "status": "ok",
     "timestamp": 1596654975121,
     "user": {
      "displayName": "Tay Khim",
      "photoUrl": "",
      "userId": "00177423956135587504"
     },
     "user_tz": -480
    },
    "id": "Lk1KaZFkDC0c"
   },
   "outputs": [],
   "source": [
    "model1_10night_df['delta'] = abs(model1_10night_df['y_pred']) - abs(model1_10night_df['y_true'])"
   ]
  },
  {
   "cell_type": "code",
   "execution_count": 49,
   "metadata": {
    "colab": {
     "base_uri": "https://localhost:8080/",
     "height": 204
    },
    "colab_type": "code",
    "executionInfo": {
     "elapsed": 842,
     "status": "ok",
     "timestamp": 1596654981687,
     "user": {
      "displayName": "Tay Khim",
      "photoUrl": "",
      "userId": "00177423956135587504"
     },
     "user_tz": -480
    },
    "id": "t10Wh__6DX-V",
    "outputId": "7806b958-7ed4-4e6d-a540-a1de3094de5f"
   },
   "outputs": [
    {
     "data": {
      "text/html": [
       "<div>\n",
       "<style scoped>\n",
       "    .dataframe tbody tr th:only-of-type {\n",
       "        vertical-align: middle;\n",
       "    }\n",
       "\n",
       "    .dataframe tbody tr th {\n",
       "        vertical-align: top;\n",
       "    }\n",
       "\n",
       "    .dataframe thead th {\n",
       "        text-align: right;\n",
       "    }\n",
       "</style>\n",
       "<table border=\"1\" class=\"dataframe\">\n",
       "  <thead>\n",
       "    <tr style=\"text-align: right;\">\n",
       "      <th></th>\n",
       "      <th>cam1_ptr</th>\n",
       "      <th>y_true</th>\n",
       "      <th>y_pred</th>\n",
       "      <th>delta</th>\n",
       "      <th>threshold</th>\n",
       "    </tr>\n",
       "  </thead>\n",
       "  <tbody>\n",
       "    <tr>\n",
       "      <th>0</th>\n",
       "      <td>1400.0</td>\n",
       "      <td>2.458457</td>\n",
       "      <td>-0.002265</td>\n",
       "      <td>-2.456191</td>\n",
       "      <td>True</td>\n",
       "    </tr>\n",
       "    <tr>\n",
       "      <th>1</th>\n",
       "      <td>1401.0</td>\n",
       "      <td>2.515180</td>\n",
       "      <td>-0.002265</td>\n",
       "      <td>-2.512914</td>\n",
       "      <td>True</td>\n",
       "    </tr>\n",
       "    <tr>\n",
       "      <th>2</th>\n",
       "      <td>1402.0</td>\n",
       "      <td>2.536196</td>\n",
       "      <td>-0.002265</td>\n",
       "      <td>-2.533931</td>\n",
       "      <td>True</td>\n",
       "    </tr>\n",
       "    <tr>\n",
       "      <th>3</th>\n",
       "      <td>1403.0</td>\n",
       "      <td>2.392565</td>\n",
       "      <td>-0.002265</td>\n",
       "      <td>-2.390300</td>\n",
       "      <td>True</td>\n",
       "    </tr>\n",
       "    <tr>\n",
       "      <th>4</th>\n",
       "      <td>1404.0</td>\n",
       "      <td>2.069322</td>\n",
       "      <td>-0.002265</td>\n",
       "      <td>-2.067057</td>\n",
       "      <td>True</td>\n",
       "    </tr>\n",
       "  </tbody>\n",
       "</table>\n",
       "</div>"
      ],
      "text/plain": [
       "   cam1_ptr    y_true    y_pred     delta  threshold\n",
       "0    1400.0  2.458457 -0.002265 -2.456191       True\n",
       "1    1401.0  2.515180 -0.002265 -2.512914       True\n",
       "2    1402.0  2.536196 -0.002265 -2.533931       True\n",
       "3    1403.0  2.392565 -0.002265 -2.390300       True\n",
       "4    1404.0  2.069322 -0.002265 -2.067057       True"
      ]
     },
     "execution_count": 49,
     "metadata": {
      "tags": []
     },
     "output_type": "execute_result"
    }
   ],
   "source": [
    "model1_10night_df.head()"
   ]
  },
  {
   "cell_type": "code",
   "execution_count": 51,
   "metadata": {
    "colab": {},
    "colab_type": "code",
    "executionInfo": {
     "elapsed": 740,
     "status": "ok",
     "timestamp": 1596655015441,
     "user": {
      "displayName": "Tay Khim",
      "photoUrl": "",
      "userId": "00177423956135587504"
     },
     "user_tz": -480
    },
    "id": "wQc85nEZAim5"
   },
   "outputs": [],
   "source": [
    "model1_10night_df['threshold'] = np.where(abs(model1_10night_df['delta']) < 0.1, True, False)"
   ]
  },
  {
   "cell_type": "code",
   "execution_count": 46,
   "metadata": {
    "colab": {
     "base_uri": "https://localhost:8080/",
     "height": 697
    },
    "colab_type": "code",
    "executionInfo": {
     "elapsed": 947,
     "status": "error",
     "timestamp": 1596654944729,
     "user": {
      "displayName": "Tay Khim",
      "photoUrl": "",
      "userId": "00177423956135587504"
     },
     "user_tz": -480
    },
    "id": "j2Ty9lPzAim7",
    "outputId": "1d6781ab-aa55-4b1b-988c-69299368f26c"
   },
   "outputs": [
    {
     "ename": "KeyError",
     "evalue": "ignored",
     "output_type": "error",
     "traceback": [
      "\u001b[0;31m---------------------------------------------------------------------------\u001b[0m",
      "\u001b[0;31mKeyError\u001b[0m                                  Traceback (most recent call last)",
      "\u001b[0;32m/usr/local/lib/python3.6/dist-packages/pandas/core/indexes/base.py\u001b[0m in \u001b[0;36mget_loc\u001b[0;34m(self, key, method, tolerance)\u001b[0m\n\u001b[1;32m   2645\u001b[0m             \u001b[0;32mtry\u001b[0m\u001b[0;34m:\u001b[0m\u001b[0;34m\u001b[0m\u001b[0;34m\u001b[0m\u001b[0m\n\u001b[0;32m-> 2646\u001b[0;31m                 \u001b[0;32mreturn\u001b[0m \u001b[0mself\u001b[0m\u001b[0;34m.\u001b[0m\u001b[0m_engine\u001b[0m\u001b[0;34m.\u001b[0m\u001b[0mget_loc\u001b[0m\u001b[0;34m(\u001b[0m\u001b[0mkey\u001b[0m\u001b[0;34m)\u001b[0m\u001b[0;34m\u001b[0m\u001b[0;34m\u001b[0m\u001b[0m\n\u001b[0m\u001b[1;32m   2647\u001b[0m             \u001b[0;32mexcept\u001b[0m \u001b[0mKeyError\u001b[0m\u001b[0;34m:\u001b[0m\u001b[0;34m\u001b[0m\u001b[0;34m\u001b[0m\u001b[0m\n",
      "\u001b[0;32mpandas/_libs/index.pyx\u001b[0m in \u001b[0;36mpandas._libs.index.IndexEngine.get_loc\u001b[0;34m()\u001b[0m\n",
      "\u001b[0;32mpandas/_libs/index.pyx\u001b[0m in \u001b[0;36mpandas._libs.index.IndexEngine.get_loc\u001b[0;34m()\u001b[0m\n",
      "\u001b[0;32mpandas/_libs/hashtable_class_helper.pxi\u001b[0m in \u001b[0;36mpandas._libs.hashtable.PyObjectHashTable.get_item\u001b[0;34m()\u001b[0m\n",
      "\u001b[0;32mpandas/_libs/hashtable_class_helper.pxi\u001b[0m in \u001b[0;36mpandas._libs.hashtable.PyObjectHashTable.get_item\u001b[0;34m()\u001b[0m\n",
      "\u001b[0;31mKeyError\u001b[0m: 'threshold'",
      "\nDuring handling of the above exception, another exception occurred:\n",
      "\u001b[0;31mKeyError\u001b[0m                                  Traceback (most recent call last)",
      "\u001b[0;32m<ipython-input-46-061020ef5f78>\u001b[0m in \u001b[0;36m<module>\u001b[0;34m()\u001b[0m\n\u001b[0;32m----> 1\u001b[0;31m \u001b[0my_true_df\u001b[0m\u001b[0;34m[\u001b[0m\u001b[0;34m'threshold'\u001b[0m\u001b[0;34m]\u001b[0m\u001b[0;34m.\u001b[0m\u001b[0mvalue_counts\u001b[0m\u001b[0;34m(\u001b[0m\u001b[0;34m)\u001b[0m\u001b[0;34m\u001b[0m\u001b[0;34m\u001b[0m\u001b[0m\n\u001b[0m",
      "\u001b[0;32m/usr/local/lib/python3.6/dist-packages/pandas/core/frame.py\u001b[0m in \u001b[0;36m__getitem__\u001b[0;34m(self, key)\u001b[0m\n\u001b[1;32m   2798\u001b[0m             \u001b[0;32mif\u001b[0m \u001b[0mself\u001b[0m\u001b[0;34m.\u001b[0m\u001b[0mcolumns\u001b[0m\u001b[0;34m.\u001b[0m\u001b[0mnlevels\u001b[0m \u001b[0;34m>\u001b[0m \u001b[0;36m1\u001b[0m\u001b[0;34m:\u001b[0m\u001b[0;34m\u001b[0m\u001b[0;34m\u001b[0m\u001b[0m\n\u001b[1;32m   2799\u001b[0m                 \u001b[0;32mreturn\u001b[0m \u001b[0mself\u001b[0m\u001b[0;34m.\u001b[0m\u001b[0m_getitem_multilevel\u001b[0m\u001b[0;34m(\u001b[0m\u001b[0mkey\u001b[0m\u001b[0;34m)\u001b[0m\u001b[0;34m\u001b[0m\u001b[0;34m\u001b[0m\u001b[0m\n\u001b[0;32m-> 2800\u001b[0;31m             \u001b[0mindexer\u001b[0m \u001b[0;34m=\u001b[0m \u001b[0mself\u001b[0m\u001b[0;34m.\u001b[0m\u001b[0mcolumns\u001b[0m\u001b[0;34m.\u001b[0m\u001b[0mget_loc\u001b[0m\u001b[0;34m(\u001b[0m\u001b[0mkey\u001b[0m\u001b[0;34m)\u001b[0m\u001b[0;34m\u001b[0m\u001b[0;34m\u001b[0m\u001b[0m\n\u001b[0m\u001b[1;32m   2801\u001b[0m             \u001b[0;32mif\u001b[0m \u001b[0mis_integer\u001b[0m\u001b[0;34m(\u001b[0m\u001b[0mindexer\u001b[0m\u001b[0;34m)\u001b[0m\u001b[0;34m:\u001b[0m\u001b[0;34m\u001b[0m\u001b[0;34m\u001b[0m\u001b[0m\n\u001b[1;32m   2802\u001b[0m                 \u001b[0mindexer\u001b[0m \u001b[0;34m=\u001b[0m \u001b[0;34m[\u001b[0m\u001b[0mindexer\u001b[0m\u001b[0;34m]\u001b[0m\u001b[0;34m\u001b[0m\u001b[0;34m\u001b[0m\u001b[0m\n",
      "\u001b[0;32m/usr/local/lib/python3.6/dist-packages/pandas/core/indexes/base.py\u001b[0m in \u001b[0;36mget_loc\u001b[0;34m(self, key, method, tolerance)\u001b[0m\n\u001b[1;32m   2646\u001b[0m                 \u001b[0;32mreturn\u001b[0m \u001b[0mself\u001b[0m\u001b[0;34m.\u001b[0m\u001b[0m_engine\u001b[0m\u001b[0;34m.\u001b[0m\u001b[0mget_loc\u001b[0m\u001b[0;34m(\u001b[0m\u001b[0mkey\u001b[0m\u001b[0;34m)\u001b[0m\u001b[0;34m\u001b[0m\u001b[0;34m\u001b[0m\u001b[0m\n\u001b[1;32m   2647\u001b[0m             \u001b[0;32mexcept\u001b[0m \u001b[0mKeyError\u001b[0m\u001b[0;34m:\u001b[0m\u001b[0;34m\u001b[0m\u001b[0;34m\u001b[0m\u001b[0m\n\u001b[0;32m-> 2648\u001b[0;31m                 \u001b[0;32mreturn\u001b[0m \u001b[0mself\u001b[0m\u001b[0;34m.\u001b[0m\u001b[0m_engine\u001b[0m\u001b[0;34m.\u001b[0m\u001b[0mget_loc\u001b[0m\u001b[0;34m(\u001b[0m\u001b[0mself\u001b[0m\u001b[0;34m.\u001b[0m\u001b[0m_maybe_cast_indexer\u001b[0m\u001b[0;34m(\u001b[0m\u001b[0mkey\u001b[0m\u001b[0;34m)\u001b[0m\u001b[0;34m)\u001b[0m\u001b[0;34m\u001b[0m\u001b[0;34m\u001b[0m\u001b[0m\n\u001b[0m\u001b[1;32m   2649\u001b[0m         \u001b[0mindexer\u001b[0m \u001b[0;34m=\u001b[0m \u001b[0mself\u001b[0m\u001b[0;34m.\u001b[0m\u001b[0mget_indexer\u001b[0m\u001b[0;34m(\u001b[0m\u001b[0;34m[\u001b[0m\u001b[0mkey\u001b[0m\u001b[0;34m]\u001b[0m\u001b[0;34m,\u001b[0m \u001b[0mmethod\u001b[0m\u001b[0;34m=\u001b[0m\u001b[0mmethod\u001b[0m\u001b[0;34m,\u001b[0m \u001b[0mtolerance\u001b[0m\u001b[0;34m=\u001b[0m\u001b[0mtolerance\u001b[0m\u001b[0;34m)\u001b[0m\u001b[0;34m\u001b[0m\u001b[0;34m\u001b[0m\u001b[0m\n\u001b[1;32m   2650\u001b[0m         \u001b[0;32mif\u001b[0m \u001b[0mindexer\u001b[0m\u001b[0;34m.\u001b[0m\u001b[0mndim\u001b[0m \u001b[0;34m>\u001b[0m \u001b[0;36m1\u001b[0m \u001b[0;32mor\u001b[0m \u001b[0mindexer\u001b[0m\u001b[0;34m.\u001b[0m\u001b[0msize\u001b[0m \u001b[0;34m>\u001b[0m \u001b[0;36m1\u001b[0m\u001b[0;34m:\u001b[0m\u001b[0;34m\u001b[0m\u001b[0;34m\u001b[0m\u001b[0m\n",
      "\u001b[0;32mpandas/_libs/index.pyx\u001b[0m in \u001b[0;36mpandas._libs.index.IndexEngine.get_loc\u001b[0;34m()\u001b[0m\n",
      "\u001b[0;32mpandas/_libs/index.pyx\u001b[0m in \u001b[0;36mpandas._libs.index.IndexEngine.get_loc\u001b[0;34m()\u001b[0m\n",
      "\u001b[0;32mpandas/_libs/hashtable_class_helper.pxi\u001b[0m in \u001b[0;36mpandas._libs.hashtable.PyObjectHashTable.get_item\u001b[0;34m()\u001b[0m\n",
      "\u001b[0;32mpandas/_libs/hashtable_class_helper.pxi\u001b[0m in \u001b[0;36mpandas._libs.hashtable.PyObjectHashTable.get_item\u001b[0;34m()\u001b[0m\n",
      "\u001b[0;31mKeyError\u001b[0m: 'threshold'"
     ]
    }
   ],
   "source": [
    "y_true_df['threshold'].value_counts()"
   ]
  },
  {
   "cell_type": "code",
   "execution_count": null,
   "metadata": {
    "colab": {
     "base_uri": "https://localhost:8080/",
     "height": 68
    },
    "colab_type": "code",
    "executionInfo": {
     "elapsed": 1713,
     "status": "ok",
     "timestamp": 1596618106955,
     "user": {
      "displayName": "Tay Khim",
      "photoUrl": "",
      "userId": "00177423956135587504"
     },
     "user_tz": -480
    },
    "id": "5FWBdyG-Aim9",
    "outputId": "a4dc8f78-6adc-40db-e1c8-f9389759aa3b"
   },
   "outputs": [
    {
     "data": {
      "text/plain": [
       "True     11532\n",
       "False     3843\n",
       "Name: threshold, dtype: int64"
      ]
     },
     "execution_count": 71,
     "metadata": {
      "tags": []
     },
     "output_type": "execute_result"
    }
   ],
   "source": [
    "model1_df['threshold'].value_counts()"
   ]
  },
  {
   "cell_type": "code",
   "execution_count": 52,
   "metadata": {
    "colab": {
     "base_uri": "https://localhost:8080/",
     "height": 68
    },
    "colab_type": "code",
    "executionInfo": {
     "elapsed": 680,
     "status": "ok",
     "timestamp": 1596655019428,
     "user": {
      "displayName": "Tay Khim",
      "photoUrl": "",
      "userId": "00177423956135587504"
     },
     "user_tz": -480
    },
    "id": "ZzKvH2avAinA",
    "outputId": "fb051fa6-e372-499f-faa7-7002e561b45f"
   },
   "outputs": [
    {
     "data": {
      "text/plain": [
       "True     36004\n",
       "False     5969\n",
       "Name: threshold, dtype: int64"
      ]
     },
     "execution_count": 52,
     "metadata": {
      "tags": []
     },
     "output_type": "execute_result"
    }
   ],
   "source": [
    "model1_10night_df['threshold'].value_counts()"
   ]
  },
  {
   "cell_type": "code",
   "execution_count": null,
   "metadata": {
    "colab": {
     "base_uri": "https://localhost:8080/",
     "height": 419
    },
    "colab_type": "code",
    "executionInfo": {
     "elapsed": 896,
     "status": "ok",
     "timestamp": 1596618319299,
     "user": {
      "displayName": "Tay Khim",
      "photoUrl": "",
      "userId": "00177423956135587504"
     },
     "user_tz": -480
    },
    "id": "muPuIafLAinC",
    "outputId": "bca40156-0deb-4232-c80a-451d8146ecde"
   },
   "outputs": [
    {
     "data": {
      "text/html": [
       "<div>\n",
       "<style scoped>\n",
       "    .dataframe tbody tr th:only-of-type {\n",
       "        vertical-align: middle;\n",
       "    }\n",
       "\n",
       "    .dataframe tbody tr th {\n",
       "        vertical-align: top;\n",
       "    }\n",
       "\n",
       "    .dataframe thead th {\n",
       "        text-align: right;\n",
       "    }\n",
       "</style>\n",
       "<table border=\"1\" class=\"dataframe\">\n",
       "  <thead>\n",
       "    <tr style=\"text-align: right;\">\n",
       "      <th></th>\n",
       "      <th>cam1_ptr</th>\n",
       "      <th>y_true</th>\n",
       "      <th>y_pred</th>\n",
       "      <th>delta</th>\n",
       "      <th>threshold</th>\n",
       "    </tr>\n",
       "  </thead>\n",
       "  <tbody>\n",
       "    <tr>\n",
       "      <th>0</th>\n",
       "      <td>1400.0</td>\n",
       "      <td>0.397824</td>\n",
       "      <td>-0.022177</td>\n",
       "      <td>-0.420000</td>\n",
       "      <td>False</td>\n",
       "    </tr>\n",
       "    <tr>\n",
       "      <th>1</th>\n",
       "      <td>1401.0</td>\n",
       "      <td>0.197212</td>\n",
       "      <td>-0.020682</td>\n",
       "      <td>-0.217895</td>\n",
       "      <td>False</td>\n",
       "    </tr>\n",
       "    <tr>\n",
       "      <th>9</th>\n",
       "      <td>1409.0</td>\n",
       "      <td>0.099765</td>\n",
       "      <td>-0.017349</td>\n",
       "      <td>-0.117115</td>\n",
       "      <td>False</td>\n",
       "    </tr>\n",
       "    <tr>\n",
       "      <th>10</th>\n",
       "      <td>1410.0</td>\n",
       "      <td>0.604226</td>\n",
       "      <td>-0.022537</td>\n",
       "      <td>-0.626762</td>\n",
       "      <td>False</td>\n",
       "    </tr>\n",
       "    <tr>\n",
       "      <th>11</th>\n",
       "      <td>1411.0</td>\n",
       "      <td>0.797132</td>\n",
       "      <td>-0.008383</td>\n",
       "      <td>-0.805515</td>\n",
       "      <td>False</td>\n",
       "    </tr>\n",
       "    <tr>\n",
       "      <th>...</th>\n",
       "      <td>...</td>\n",
       "      <td>...</td>\n",
       "      <td>...</td>\n",
       "      <td>...</td>\n",
       "      <td>...</td>\n",
       "    </tr>\n",
       "    <tr>\n",
       "      <th>15369</th>\n",
       "      <td>16769.0</td>\n",
       "      <td>0.484483</td>\n",
       "      <td>-0.049914</td>\n",
       "      <td>-0.534397</td>\n",
       "      <td>False</td>\n",
       "    </tr>\n",
       "    <tr>\n",
       "      <th>15370</th>\n",
       "      <td>16770.0</td>\n",
       "      <td>0.597963</td>\n",
       "      <td>-0.055071</td>\n",
       "      <td>-0.653034</td>\n",
       "      <td>False</td>\n",
       "    </tr>\n",
       "    <tr>\n",
       "      <th>15371</th>\n",
       "      <td>16771.0</td>\n",
       "      <td>0.616708</td>\n",
       "      <td>-0.053195</td>\n",
       "      <td>-0.669902</td>\n",
       "      <td>False</td>\n",
       "    </tr>\n",
       "    <tr>\n",
       "      <th>15372</th>\n",
       "      <td>16772.0</td>\n",
       "      <td>0.374523</td>\n",
       "      <td>-0.049490</td>\n",
       "      <td>-0.424013</td>\n",
       "      <td>False</td>\n",
       "    </tr>\n",
       "    <tr>\n",
       "      <th>15373</th>\n",
       "      <td>16773.0</td>\n",
       "      <td>0.085759</td>\n",
       "      <td>-0.048492</td>\n",
       "      <td>-0.134250</td>\n",
       "      <td>False</td>\n",
       "    </tr>\n",
       "  </tbody>\n",
       "</table>\n",
       "<p>3843 rows × 5 columns</p>\n",
       "</div>"
      ],
      "text/plain": [
       "       cam1_ptr    y_true    y_pred     delta  threshold\n",
       "0        1400.0  0.397824 -0.022177 -0.420000      False\n",
       "1        1401.0  0.197212 -0.020682 -0.217895      False\n",
       "9        1409.0  0.099765 -0.017349 -0.117115      False\n",
       "10       1410.0  0.604226 -0.022537 -0.626762      False\n",
       "11       1411.0  0.797132 -0.008383 -0.805515      False\n",
       "...         ...       ...       ...       ...        ...\n",
       "15369   16769.0  0.484483 -0.049914 -0.534397      False\n",
       "15370   16770.0  0.597963 -0.055071 -0.653034      False\n",
       "15371   16771.0  0.616708 -0.053195 -0.669902      False\n",
       "15372   16772.0  0.374523 -0.049490 -0.424013      False\n",
       "15373   16773.0  0.085759 -0.048492 -0.134250      False\n",
       "\n",
       "[3843 rows x 5 columns]"
      ]
     },
     "execution_count": 80,
     "metadata": {
      "tags": []
     },
     "output_type": "execute_result"
    }
   ],
   "source": [
    "model1_df[model1_df.threshold == False]"
   ]
  },
  {
   "cell_type": "code",
   "execution_count": null,
   "metadata": {
    "colab": {},
    "colab_type": "code",
    "id": "_XDMaDrGAinD"
   },
   "outputs": [],
   "source": [
    "################################# model 2 loading in and plot ###########################"
   ]
  }
 ],
 "metadata": {
  "colab": {
   "authorship_tag": "ABX9TyMVNe7SF17Lq3MzFdXgdXcM",
   "collapsed_sections": [],
   "name": "03_conclusion_and_recommendation.ipynb",
   "provenance": []
  },
  "kernelspec": {
   "display_name": "Python 3",
   "language": "python",
   "name": "python3"
  },
  "language_info": {
   "codemirror_mode": {
    "name": "ipython",
    "version": 3
   },
   "file_extension": ".py",
   "mimetype": "text/x-python",
   "name": "python",
   "nbconvert_exporter": "python",
   "pygments_lexer": "ipython3",
   "version": "3.7.6"
  }
 },
 "nbformat": 4,
 "nbformat_minor": 1
}
