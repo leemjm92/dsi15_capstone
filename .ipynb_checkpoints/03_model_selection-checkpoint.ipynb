{
 "cells": [
  {
   "cell_type": "markdown",
   "metadata": {
    "colab_type": "text",
    "id": "fEMY2pQt4W4a"
   },
   "source": [
    "<img src=\"http://imgur.com/1ZcRyrc.png\" style=\"float: left; margin: 20px; height: 85px\">\n",
    "\n",
    "# Capstone Project \n",
    "\n",
    "# Steering Angle Prediction\n",
    "\n",
    "by: Lee Melvin DSI-15"
   ]
  },
  {
   "cell_type": "markdown",
   "metadata": {
    "colab_type": "text",
    "id": "apDALVB24W4b"
   },
   "source": [
    "## Notebook 03: Model Selection"
   ]
  },
  {
   "cell_type": "markdown",
   "metadata": {
    "colab_type": "text",
    "id": "fMGcTfDi4W4c"
   },
   "source": [
    "## Content"
   ]
  },
  {
   "cell_type": "markdown",
   "metadata": {
    "colab_type": "text",
    "id": "JAFv_cO54W4d"
   },
   "source": [
    "- [Import libraries](#Import-libraries)\n",
    "- [Model-selection](#Model-selection)\n",
    "    - [Model 1](#Model-1)\n",
    "    - [Model 2](#Model-2)\n",
    "    - [Model 3](#Model-3)\n",
    "- [Final model](#Final-model)\n",
    "- [Unseen data](#Unseen-data)\n",
    "- [Conclusion and Recommendations](#Conclusion-and-Recommendations)\n",
    "- [References](#References)"
   ]
  },
  {
   "cell_type": "markdown",
   "metadata": {
    "colab_type": "text",
    "id": "5KNl8GNC4W4d"
   },
   "source": [
    "## Import libraries"
   ]
  },
  {
   "cell_type": "code",
   "execution_count": null,
   "metadata": {
    "colab": {},
    "colab_type": "code",
    "id": "ARXOrlW3igI6"
   },
   "outputs": [],
   "source": [
    "import numpy as np\n",
    "import matplotlib.pyplot as plt\n",
    "import pandas as pd\n",
    "from numpy import load\n",
    "from numpy import savez_compressed\n",
    "\n",
    "from keras.models import load_model\n",
    "\n",
    "%matplotlib inline"
   ]
  },
  {
   "cell_type": "markdown",
   "metadata": {
    "colab_type": "text",
    "id": "KzRIpGhb4W4i"
   },
   "source": [
    "## Model selection"
   ]
  },
  {
   "cell_type": "code",
   "execution_count": null,
   "metadata": {
    "colab": {
     "base_uri": "https://localhost:8080/",
     "height": 122
    },
    "colab_type": "code",
    "id": "mst6uNI84kmn",
    "outputId": "6eb71f1e-d07b-4346-a54b-372b795ca93d"
   },
   "outputs": [
    {
     "name": "stdout",
     "output_type": "stream",
     "text": [
      "Go to this URL in a browser: https://accounts.google.com/o/oauth2/auth?client_id=947318989803-6bn6qk8qdgf4n4g3pfee6491hc0brc4i.apps.googleusercontent.com&redirect_uri=urn%3aietf%3awg%3aoauth%3a2.0%3aoob&response_type=code&scope=email%20https%3a%2f%2fwww.googleapis.com%2fauth%2fdocs.test%20https%3a%2f%2fwww.googleapis.com%2fauth%2fdrive%20https%3a%2f%2fwww.googleapis.com%2fauth%2fdrive.photos.readonly%20https%3a%2f%2fwww.googleapis.com%2fauth%2fpeopleapi.readonly\n",
      "\n",
      "Enter your authorization code:\n",
      "··········\n",
      "Mounted at /content/drive\n"
     ]
    }
   ],
   "source": [
    "\"\"\"\n",
    "\n",
    "this notebook 03 is also done via Google Colab. Below is the code to mount my Google Drive to Google Colab\n",
    "\n",
    "from google.colab import drive\n",
    "drive.mount('/content/drive')\n",
    "\n",
    "\"\"\""
   ]
  },
  {
   "cell_type": "markdown",
   "metadata": {
    "colab_type": "text",
    "id": "0m2zZrqm4W4i"
   },
   "source": [
    "### Model 1"
   ]
  },
  {
   "cell_type": "code",
   "execution_count": null,
   "metadata": {
    "colab": {},
    "colab_type": "code",
    "id": "APhudR2TsD1M"
   },
   "outputs": [],
   "source": [
    "def model_1_loading(model_name):\n",
    "    # function for loading and concatenating all the model history files to a single file \n",
    "    # this is for model 1 only as its from camera1-camera9\n",
    "    model_name_camera1 = pd.read_csv(f'/content/drive/My Drive/datasets/{model_name}_camera1.csv')\n",
    "    model_name_camera2 = pd.read_csv(f'/content/drive/My Drive/datasets/{model_name}_camera2.csv')\n",
    "    model_name_camera3 = pd.read_csv(f'/content/drive/My Drive/datasets/{model_name}_camera3.csv')\n",
    "    model_name_camera4 = pd.read_csv(f'/content/drive/My Drive/datasets/{model_name}_camera4.csv')\n",
    "    model_name_camera5 = pd.read_csv(f'/content/drive/My Drive/datasets/{model_name}_camera5.csv')\n",
    "    model_name_camera6 = pd.read_csv(f'/content/drive/My Drive/datasets/{model_name}_camera6.csv')\n",
    "    model_name_camera7 = pd.read_csv(f'/content/drive/My Drive/datasets/{model_name}_camera7.csv')\n",
    "    model_name_camera8 = pd.read_csv(f'/content/drive/My Drive/datasets/{model_name}_camera8.csv')\n",
    "    model_name_camera9 = pd.read_csv(f'/content/drive/My Drive/datasets/{model_name}_camera9.csv')\n",
    "\n",
    "    model_full = pd.concat([model_name_camera1, model_name_camera2], ignore_index=True)\n",
    "    model_full = pd.concat([model_full, model_name_camera3], ignore_index=True)\n",
    "    model_full = pd.concat([model_full, model_name_camera4], ignore_index=True)\n",
    "    model_full = pd.concat([model_full, model_name_camera5], ignore_index=True)\n",
    "    model_full = pd.concat([model_full, model_name_camera6], ignore_index=True)\n",
    "    model_full = pd.concat([model_full, model_name_camera7], ignore_index=True)\n",
    "    model_full = pd.concat([model_full, model_name_camera8], ignore_index=True)\n",
    "    model_full = pd.concat([model_full, model_name_camera9], ignore_index=True)\n",
    "\n",
    "    print(model_full.shape)\n",
    "\n",
    "    return model_full"
   ]
  },
  {
   "cell_type": "code",
   "execution_count": null,
   "metadata": {
    "colab": {},
    "colab_type": "code",
    "id": "Zqu9sxnf4W4l"
   },
   "outputs": [],
   "source": [
    "def model_2_loading(model_name):\n",
    "    # function for loading and concatenating all the model history files to a single file \n",
    "    # this is for model 2 & 3 only as its from a specific order\n",
    "    model_name_camera1 = pd.read_csv(f'/content/drive/My Drive/datasets/{model_name}_1_camera8.csv')\n",
    "    model_name_camera2 = pd.read_csv(f'/content/drive/My Drive/datasets/{model_name}_2_camera1.csv')\n",
    "    model_name_camera3 = pd.read_csv(f'/content/drive/My Drive/datasets/{model_name}_3_camera9.csv')\n",
    "    model_name_camera4 = pd.read_csv(f'/content/drive/My Drive/datasets/{model_name}_4_camera2.csv')\n",
    "    model_name_camera5 = pd.read_csv(f'/content/drive/My Drive/datasets/{model_name}_5_camera3.csv')\n",
    "    model_name_camera6 = pd.read_csv(f'/content/drive/My Drive/datasets/{model_name}_6_camera4.csv')\n",
    "    model_name_camera7 = pd.read_csv(f'/content/drive/My Drive/datasets/{model_name}_7_camera5.csv')\n",
    "    model_name_camera8 = pd.read_csv(f'/content/drive/My Drive/datasets/{model_name}_8_camera6.csv')\n",
    "    model_name_camera9 = pd.read_csv(f'/content/drive/My Drive/datasets/{model_name}_9_camera7.csv')\n",
    "\n",
    "    model_full = pd.concat([model_name_camera1, model_name_camera2], ignore_index=True)\n",
    "    model_full = pd.concat([model_full, model_name_camera3], ignore_index=True)\n",
    "    model_full = pd.concat([model_full, model_name_camera4], ignore_index=True)\n",
    "    model_full = pd.concat([model_full, model_name_camera5], ignore_index=True)\n",
    "    model_full = pd.concat([model_full, model_name_camera6], ignore_index=True)\n",
    "    model_full = pd.concat([model_full, model_name_camera7], ignore_index=True)\n",
    "    model_full = pd.concat([model_full, model_name_camera8], ignore_index=True)\n",
    "    model_full = pd.concat([model_full, model_name_camera9], ignore_index=True)\n",
    "\n",
    "    print(model_full.shape)\n",
    "\n",
    "    return model_full"
   ]
  },
  {
   "cell_type": "code",
   "execution_count": null,
   "metadata": {
    "colab": {
     "base_uri": "https://localhost:8080/",
     "height": 34
    },
    "colab_type": "code",
    "id": "aezaxm58jegI",
    "outputId": "03475d70-76ba-4c23-cb5c-710486613333",
    "scrolled": false
   },
   "outputs": [
    {
     "name": "stdout",
     "output_type": "stream",
     "text": [
      "(900, 4)\n"
     ]
    }
   ],
   "source": [
    "model_1 = model_1_loading('model_1')"
   ]
  },
  {
   "cell_type": "code",
   "execution_count": null,
   "metadata": {
    "colab": {
     "base_uri": "https://localhost:8080/",
     "height": 204
    },
    "colab_type": "code",
    "id": "3Hdb_8ed4W4t",
    "outputId": "e91857a7-1b35-4794-bb2f-b2b5f953bcb3"
   },
   "outputs": [
    {
     "data": {
      "text/html": [
       "<div>\n",
       "<style scoped>\n",
       "    .dataframe tbody tr th:only-of-type {\n",
       "        vertical-align: middle;\n",
       "    }\n",
       "\n",
       "    .dataframe tbody tr th {\n",
       "        vertical-align: top;\n",
       "    }\n",
       "\n",
       "    .dataframe thead th {\n",
       "        text-align: right;\n",
       "    }\n",
       "</style>\n",
       "<table border=\"1\" class=\"dataframe\">\n",
       "  <thead>\n",
       "    <tr style=\"text-align: right;\">\n",
       "      <th></th>\n",
       "      <th>loss</th>\n",
       "      <th>root_mean_squared_error</th>\n",
       "      <th>val_loss</th>\n",
       "      <th>val_root_mean_squared_error</th>\n",
       "    </tr>\n",
       "  </thead>\n",
       "  <tbody>\n",
       "    <tr>\n",
       "      <th>0</th>\n",
       "      <td>0.254761</td>\n",
       "      <td>0.504739</td>\n",
       "      <td>0.234737</td>\n",
       "      <td>0.484497</td>\n",
       "    </tr>\n",
       "    <tr>\n",
       "      <th>1</th>\n",
       "      <td>0.252863</td>\n",
       "      <td>0.502854</td>\n",
       "      <td>0.234743</td>\n",
       "      <td>0.484503</td>\n",
       "    </tr>\n",
       "    <tr>\n",
       "      <th>2</th>\n",
       "      <td>0.252875</td>\n",
       "      <td>0.502867</td>\n",
       "      <td>0.234755</td>\n",
       "      <td>0.484516</td>\n",
       "    </tr>\n",
       "    <tr>\n",
       "      <th>3</th>\n",
       "      <td>0.252791</td>\n",
       "      <td>0.502784</td>\n",
       "      <td>0.234745</td>\n",
       "      <td>0.484505</td>\n",
       "    </tr>\n",
       "    <tr>\n",
       "      <th>4</th>\n",
       "      <td>0.252804</td>\n",
       "      <td>0.502796</td>\n",
       "      <td>0.234711</td>\n",
       "      <td>0.484470</td>\n",
       "    </tr>\n",
       "  </tbody>\n",
       "</table>\n",
       "</div>"
      ],
      "text/plain": [
       "       loss  root_mean_squared_error  val_loss  val_root_mean_squared_error\n",
       "0  0.254761                 0.504739  0.234737                     0.484497\n",
       "1  0.252863                 0.502854  0.234743                     0.484503\n",
       "2  0.252875                 0.502867  0.234755                     0.484516\n",
       "3  0.252791                 0.502784  0.234745                     0.484505\n",
       "4  0.252804                 0.502796  0.234711                     0.484470"
      ]
     },
     "execution_count": 10,
     "metadata": {
      "tags": []
     },
     "output_type": "execute_result"
    }
   ],
   "source": [
    "model_1.head()"
   ]
  },
  {
   "cell_type": "code",
   "execution_count": null,
   "metadata": {
    "colab": {},
    "colab_type": "code",
    "id": "feRQRDiPlmKW"
   },
   "outputs": [],
   "source": [
    "ticks = [i for i in range(0, 901, 25)]\n",
    "labels = [i for i in range(0, 901, 25)]"
   ]
  },
  {
   "cell_type": "code",
   "execution_count": null,
   "metadata": {
    "colab": {},
    "colab_type": "code",
    "id": "OMWe7boYlFs6"
   },
   "outputs": [],
   "source": [
    "train_loss = model_1['loss']\n",
    "val_loss = model_1['val_loss']"
   ]
  },
  {
   "cell_type": "code",
   "execution_count": null,
   "metadata": {
    "colab": {
     "base_uri": "https://localhost:8080/",
     "height": 519
    },
    "colab_type": "code",
    "id": "ZkTKmJ59kVhL",
    "outputId": "43b085ce-b34c-41a0-ce11-8718b0a32b8e"
   },
   "outputs": [
    {
     "data": {
      "image/png": "[encoded data removed]",
      "text/plain": [
       "<Figure size 1440x576 with 1 Axes>"
      ]
     },
     "metadata": {
      "needs_background": "light",
      "tags": []
     },
     "output_type": "display_data"
    }
   ],
   "source": [
    "# Set figure size.\n",
    "plt.figure(figsize=(20, 8))\n",
    "\n",
    "# Generate line plot of training, testing loss over epochs.\n",
    "plt.plot(train_loss, label='Training Loss', color='#185fad')\n",
    "plt.plot(val_loss, label='Validation Loss', color='orange')\n",
    "\n",
    "# Set title\n",
    "plt.title('Training and Validation Loss by Epoch for Model 1', fontsize = 25)\n",
    "plt.xlabel('Epoch', fontsize = 18)\n",
    "plt.ylabel('Mean Squared Error', fontsize = 18)\n",
    "plt.xticks(ticks, labels)\n",
    "\n",
    "plt.legend(fontsize = 18);\n",
    "\n",
    "plt.savefig('/content/drive/My Drive/images/train_val_loss_model1.png');"
   ]
  },
  {
   "cell_type": "code",
   "execution_count": null,
   "metadata": {
    "colab": {},
    "colab_type": "code",
    "id": "3agAWXTMG4y9"
   },
   "outputs": [],
   "source": [
    "train_rmse = model_1['root_mean_squared_error']\n",
    "val_rmse = model_1['val_root_mean_squared_error']"
   ]
  },
  {
   "cell_type": "code",
   "execution_count": null,
   "metadata": {
    "colab": {
     "base_uri": "https://localhost:8080/",
     "height": 522
    },
    "colab_type": "code",
    "id": "IwvxfQy_HZxb",
    "outputId": "39ca720e-4612-4a34-b8b5-5b8ca12ddcb4",
    "scrolled": false
   },
   "outputs": [
    {
     "data": {
      "image/png": "[encoded data removed]",
      "text/plain": [
       "<Figure size 1440x576 with 1 Axes>"
      ]
     },
     "metadata": {
      "needs_background": "light",
      "tags": []
     },
     "output_type": "display_data"
    }
   ],
   "source": [
    "# Set figure size.\n",
    "plt.figure(figsize=(20, 8))\n",
    "\n",
    "# Generate line plot of training, testing loss over epochs.\n",
    "plt.plot(train_rmse, label='Training RMSE', color='#185fad')\n",
    "plt.plot(val_rmse, label='Validation RMSE', color='orange')\n",
    "\n",
    "# Set title\n",
    "plt.title('Training and Validation RMSE by Epoch for Model 1', fontsize = 25)\n",
    "plt.xlabel('Epoch', fontsize = 18)\n",
    "plt.ylabel('Mean Squared Error', fontsize = 18)\n",
    "plt.xticks(ticks, labels)\n",
    "\n",
    "plt.legend(fontsize = 18);\n",
    "\n",
    "plt.savefig('/content/drive/My Drive/images/train_val_RSME_model1.png');"
   ]
  },
  {
   "cell_type": "code",
   "execution_count": null,
   "metadata": {
    "colab": {},
    "colab_type": "code",
    "id": "8E3z61eS4W5E"
   },
   "outputs": [],
   "source": [
    "# I need to load all the test data and do predict to evaluate the RSME\n",
    "# then load in the final model\n"
   ]
  },
  {
   "cell_type": "code",
   "execution_count": null,
   "metadata": {
    "colab": {},
    "colab_type": "code",
    "id": "AVwjpYlW4W5G"
   },
   "outputs": [],
   "source": [
    "def x_test_processed(): \n",
    "    for i in range(1, 10):\n",
    "        camera = load(f'/content/drive/My Drive/datasets/camera{i}_X_test.npz')\n",
    "        # camera file\n",
    "        camera = camera.f.arr_0\n",
    "        # convert to float to prevent error\n",
    "        camera = camera.astype('float32')\n",
    "        # regularised pixel \n",
    "        camera = camera/255\n",
    "        # reshape to include single channel for grayscale\n",
    "        camera = camera.reshape(camera.shape[0], camera.shape[1], camera.shape[2], 1)\n",
    "        # save the numpy array as .npz file\n",
    "        savez_compressed(f'/content/drive/My Drive/datasets/camera{i}_X_test_processed', camera)\n",
    "\n",
    "    return print('Done')"
   ]
  },
  {
   "cell_type": "code",
   "execution_count": null,
   "metadata": {
    "colab": {
     "base_uri": "https://localhost:8080/",
     "height": 34
    },
    "colab_type": "code",
    "id": "cNR-nQxq4W5I",
    "outputId": "a7fe2f49-9aa6-4693-9ea2-b8652bef7474"
   },
   "outputs": [
    {
     "name": "stdout",
     "output_type": "stream",
     "text": [
      "Done\n"
     ]
    }
   ],
   "source": [
    "x_test_processed()"
   ]
  },
  {
   "cell_type": "code",
   "execution_count": 51,
   "metadata": {
    "colab": {},
    "colab_type": "code",
    "id": "nTBa37YkCCPd"
   },
   "outputs": [],
   "source": [
    "# processed y_test \n",
    "for i in range(1, 10):\n",
    "    log_file = load(f'/content/drive/My Drive/datasets/camera{i}_y_test.npz')\n",
    "    log_file = log_file.f.arr_0 \n",
    "    log_file = log_file.reshape(log_file.shape[0])\n",
    "    log_file = pd.DataFrame(log_file, columns=['y_true'])\n",
    "    log_file.to_csv(f'/content/drive/My Drive/datasets/log{i}_y_true.csv', index=False)"
   ]
  },
  {
   "cell_type": "code",
   "execution_count": null,
   "metadata": {
    "colab": {},
    "colab_type": "code",
    "id": "XHnEyAwz4W5T"
   },
   "outputs": [],
   "source": [
    "model_1 = load_model('/content/drive/My Drive/epochs/model_1_camera9.0095-0.0230.h5')"
   ]
  },
  {
   "cell_type": "code",
   "execution_count": 52,
   "metadata": {
    "colab": {},
    "colab_type": "code",
    "id": "USU_1Pmu4W5Y"
   },
   "outputs": [],
   "source": [
    "def log_file_load():\n",
    "    log1 = pd.read_csv('/content/drive/My Drive/datasets/log1_y_true.csv')\n",
    "    log2 = pd.read_csv('/content/drive/My Drive/datasets/log2_y_true.csv')\n",
    "    log3 = pd.read_csv('/content/drive/My Drive/datasets/log3_y_true.csv')\n",
    "    log4 = pd.read_csv('/content/drive/My Drive/datasets/log4_y_true.csv')\n",
    "    log5 = pd.read_csv('/content/drive/My Drive/datasets/log5_y_true.csv')\n",
    "    log6 = pd.read_csv('/content/drive/My Drive/datasets/log6_y_true.csv')\n",
    "    log7 = pd.read_csv('/content/drive/My Drive/datasets/log7_y_true.csv')\n",
    "    log8 = pd.read_csv('/content/drive/My Drive/datasets/log8_y_true.csv')\n",
    "    log9 = pd.read_csv('/content/drive/My Drive/datasets/log9_y_true.csv')\n",
    "    return log1, log2, log3, log4, log5, log6, log7, log8, log9"
   ]
  },
  {
   "cell_type": "code",
   "execution_count": 53,
   "metadata": {
    "colab": {},
    "colab_type": "code",
    "id": "TxE49Am84W5a"
   },
   "outputs": [],
   "source": [
    "model1_log1, model1_log2, model1_log3, model1_log4, model1_log5, model1_log6, model1_log7, model1_log8, model1_log9 = log_file_load() "
   ]
  },
  {
   "cell_type": "code",
   "execution_count": 54,
   "metadata": {
    "colab": {},
    "colab_type": "code",
    "id": "9zpJsFrZ4W5V"
   },
   "outputs": [],
   "source": [
    "def y_prediction(camera_name):\n",
    "    x_test = load(f'/content/drive/My Drive/datasets/{camera_name}_X_test_processed.npz')\n",
    "    x_test = x_test.f.arr_0\n",
    "    y_pred = model_1.predict(x_test)\n",
    "    y_pred = y_pred.reshape(y_pred.shape[0])\n",
    "    return y_pred"
   ]
  },
  {
   "cell_type": "code",
   "execution_count": null,
   "metadata": {
    "colab": {},
    "colab_type": "code",
    "id": "rST82KXN-g-1"
   },
   "outputs": [],
   "source": [
    "y_pred1 = y_prediction('camera1')\n",
    "y_pred2 = y_prediction('camera2')\n",
    "y_pred3 = y_prediction('camera3')\n",
    "y_pred4 = y_prediction('camera4')\n",
    "y_pred5 = y_prediction('camera5')\n",
    "y_pred6 = y_prediction('camera6')\n",
    "y_pred7 = y_prediction('camera7')\n",
    "y_pred8 = y_prediction('camera8')\n",
    "y_pred9 = y_prediction('camera9')"
   ]
  },
  {
   "cell_type": "code",
   "execution_count": null,
   "metadata": {
    "colab": {
     "base_uri": "https://localhost:8080/",
     "height": 34
    },
    "colab_type": "code",
    "id": "s78vUs00_bAn",
    "outputId": "40fb5a04-0534-4f26-86c9-f5c24d2526fe"
   },
   "outputs": [
    {
     "data": {
      "text/plain": [
       "(10251,)"
      ]
     },
     "execution_count": 33,
     "metadata": {
      "tags": []
     },
     "output_type": "execute_result"
    }
   ],
   "source": [
    "y_pred1.shape"
   ]
  },
  {
   "cell_type": "code",
   "execution_count": 55,
   "metadata": {
    "colab": {
     "base_uri": "https://localhost:8080/",
     "height": 34
    },
    "colab_type": "code",
    "id": "j2xkkGgr_d1z",
    "outputId": "03c3ca36-5fe2-4b35-9451-52ee883d665a"
   },
   "outputs": [
    {
     "data": {
      "text/plain": [
       "(10251, 1)"
      ]
     },
     "execution_count": 55,
     "metadata": {
      "tags": []
     },
     "output_type": "execute_result"
    }
   ],
   "source": [
    "model1_log1.shape"
   ]
  },
  {
   "cell_type": "code",
   "execution_count": 56,
   "metadata": {
    "colab": {},
    "colab_type": "code",
    "id": "z87ZcxUD_MoP"
   },
   "outputs": [],
   "source": [
    "model1_log1['y_pred'] = y_pred1\n",
    "model1_log2['y_pred'] = y_pred2\n",
    "model1_log3['y_pred'] = y_pred3\n",
    "model1_log4['y_pred'] = y_pred4\n",
    "model1_log5['y_pred'] = y_pred5\n",
    "model1_log6['y_pred'] = y_pred6\n",
    "model1_log7['y_pred'] = y_pred7\n",
    "model1_log8['y_pred'] = y_pred8\n",
    "model1_log9['y_pred'] = y_pred9"
   ]
  },
  {
   "cell_type": "code",
   "execution_count": 60,
   "metadata": {
    "colab": {
     "base_uri": "https://localhost:8080/",
     "height": 51
    },
    "colab_type": "code",
    "id": "EPldX_79-noL",
    "outputId": "df720c0c-b14d-4a1d-e697-f5b95403c90e"
   },
   "outputs": [
    {
     "name": "stdout",
     "output_type": "stream",
     "text": [
      "2925.1293822772636\n",
      "model evaluated RMSE: 0.5341822135125558\n"
     ]
    }
   ],
   "source": [
    "rmse_list = []\n",
    "rmse_night_list = []\n",
    "rmse_day_list = []\n",
    "sq = 0\n",
    "mse = 0\n",
    "\n",
    "for i in range(model1_log1.shape[0]):\n",
    "    sqd = ((model1_log1.y_pred[i]-model1_log1.y_true[i])**2)\n",
    "    sq = sq + sqd\n",
    "print(sq)\n",
    "mse = sq/model1_log1.shape[0]\n",
    "rmse = np.sqrt(mse)\n",
    "rmse_day_list.append(rmse)\n",
    "rmse_list.append(rmse)\n",
    "print(\"model evaluated RMSE:\", rmse)"
   ]
  },
  {
   "cell_type": "code",
   "execution_count": 61,
   "metadata": {
    "colab": {
     "base_uri": "https://localhost:8080/",
     "height": 51
    },
    "colab_type": "code",
    "id": "5wEJ_pz2D11p",
    "outputId": "5a39dd2f-3e32-4e29-f267-eadb83112f12"
   },
   "outputs": [
    {
     "name": "stdout",
     "output_type": "stream",
     "text": [
      "3949.314163527199\n",
      "model evaluated RMSE: 0.5927583572288943\n"
     ]
    }
   ],
   "source": [
    "for i in range(model1_log2.shape[0]):\n",
    "    sqd = ((model1_log2.y_pred[i]-model1_log2.y_true[i])**2)\n",
    "    sq = sq + sqd\n",
    "print(sq)\n",
    "mse = sq/model1_log2.shape[0]\n",
    "rmse = np.sqrt(mse)\n",
    "rmse_day_list.append(rmse)\n",
    "rmse_list.append(rmse)\n",
    "print(\"model evaluated RMSE:\", rmse)"
   ]
  },
  {
   "cell_type": "code",
   "execution_count": 62,
   "metadata": {
    "colab": {
     "base_uri": "https://localhost:8080/",
     "height": 51
    },
    "colab_type": "code",
    "id": "bDMdpY0oD8KW",
    "outputId": "e284375a-af62-42d5-c291-015e648b6dcb"
   },
   "outputs": [
    {
     "name": "stdout",
     "output_type": "stream",
     "text": [
      "4315.039790522325\n",
      "model evaluated RMSE: 1.1285497310405153\n"
     ]
    }
   ],
   "source": [
    "for i in range(model1_log3.shape[0]):\n",
    "    sqd = ((model1_log3.y_pred[i]-model1_log3.y_true[i])**2)\n",
    "    sq = sq + sqd\n",
    "print(sq)\n",
    "mse = sq/model1_log3.shape[0]\n",
    "rmse = np.sqrt(mse)\n",
    "rmse_night_list.append(rmse)\n",
    "rmse_list.append(rmse)\n",
    "print(\"model evaluated RMSE:\", rmse)"
   ]
  },
  {
   "cell_type": "code",
   "execution_count": 63,
   "metadata": {
    "colab": {
     "base_uri": "https://localhost:8080/",
     "height": 51
    },
    "colab_type": "code",
    "id": "zKBbWuQFED-9",
    "outputId": "5f4ad07f-6372-46b1-e34d-71341ab50b79"
   },
   "outputs": [
    {
     "name": "stdout",
     "output_type": "stream",
     "text": [
      "6338.43494167035\n",
      "model evaluated RMSE: 0.7705610925463137\n"
     ]
    }
   ],
   "source": [
    "for i in range(model1_log4.shape[0]):\n",
    "    sqd = ((model1_log4.y_pred[i]-model1_log4.y_true[i])**2)\n",
    "    sq = sq + sqd\n",
    "print(sq)\n",
    "mse = sq/model1_log4.shape[0]\n",
    "rmse = np.sqrt(mse)\n",
    "rmse_day_list.append(rmse)\n",
    "rmse_list.append(rmse)\n",
    "print(\"model evaluated RMSE:\", rmse)"
   ]
  },
  {
   "cell_type": "code",
   "execution_count": 64,
   "metadata": {
    "colab": {
     "base_uri": "https://localhost:8080/",
     "height": 51
    },
    "colab_type": "code",
    "id": "mfwSoRSnEK-y",
    "outputId": "9b1ffdd5-0fa0-4f2f-f479-34bf9e981a16"
   },
   "outputs": [
    {
     "name": "stdout",
     "output_type": "stream",
     "text": [
      "7229.224665341553\n",
      "model evaluated RMSE: 1.2517196377142268\n"
     ]
    }
   ],
   "source": [
    "for i in range(model1_log5.shape[0]):\n",
    "    sqd = ((model1_log5.y_pred[i]-model1_log5.y_true[i])**2)\n",
    "    sq = sq + sqd\n",
    "print(sq)\n",
    "mse = sq/model1_log5.shape[0]\n",
    "rmse = np.sqrt(mse)\n",
    "rmse_day_list.append(rmse)\n",
    "rmse_list.append(rmse)\n",
    "print(\"model evaluated RMSE:\", rmse)"
   ]
  },
  {
   "cell_type": "code",
   "execution_count": 65,
   "metadata": {
    "colab": {
     "base_uri": "https://localhost:8080/",
     "height": 51
    },
    "colab_type": "code",
    "id": "OduHitPsERgV",
    "outputId": "cecaca58-58be-4538-af91-74d1a3c41f2e"
   },
   "outputs": [
    {
     "name": "stdout",
     "output_type": "stream",
     "text": [
      "9333.864919142754\n",
      "model evaluated RMSE: 0.7521000604224054\n"
     ]
    }
   ],
   "source": [
    "for i in range(model1_log6.shape[0]):\n",
    "    sqd = ((model1_log6.y_pred[i]-model1_log6.y_true[i])**2)\n",
    "    sq = sq + sqd\n",
    "print(sq)\n",
    "mse = sq/model1_log6.shape[0]\n",
    "rmse = np.sqrt(mse)\n",
    "rmse_night_list.append(rmse)\n",
    "rmse_list.append(rmse)\n",
    "print(\"model evaluated RMSE:\", rmse)"
   ]
  },
  {
   "cell_type": "code",
   "execution_count": 66,
   "metadata": {
    "colab": {
     "base_uri": "https://localhost:8080/",
     "height": 51
    },
    "colab_type": "code",
    "id": "KizlgTSAEV0Q",
    "outputId": "2321b31a-9da2-4039-9521-8087f11d1ff9"
   },
   "outputs": [
    {
     "name": "stdout",
     "output_type": "stream",
     "text": [
      "10694.138460898517\n",
      "model evaluated RMSE: 0.8497008441212148\n"
     ]
    }
   ],
   "source": [
    "for i in range(model1_log7.shape[0]):\n",
    "    sqd = ((model1_log7.y_pred[i]-model1_log7.y_true[i])**2)\n",
    "    sq = sq + sqd\n",
    "print(sq)\n",
    "mse = sq/model1_log7.shape[0]\n",
    "rmse = np.sqrt(mse)\n",
    "rmse_day_list.append(rmse)\n",
    "rmse_list.append(rmse)\n",
    "print(\"model evaluated RMSE:\", rmse)"
   ]
  },
  {
   "cell_type": "code",
   "execution_count": 67,
   "metadata": {
    "colab": {
     "base_uri": "https://localhost:8080/",
     "height": 51
    },
    "colab_type": "code",
    "id": "0e5Z7lqVEWeM",
    "outputId": "f612c501-7cb3-4b84-8d43-c0c7925abd1b"
   },
   "outputs": [
    {
     "name": "stdout",
     "output_type": "stream",
     "text": [
      "13051.619801231123\n",
      "model evaluated RMSE: 1.5337832154239426\n"
     ]
    }
   ],
   "source": [
    "for i in range(model1_log8.shape[0]):\n",
    "    sqd = ((model1_log8.y_pred[i]-model1_log8.y_true[i])**2)\n",
    "    sq = sq + sqd\n",
    "print(sq)\n",
    "mse = sq/model1_log8.shape[0]\n",
    "rmse = np.sqrt(mse)\n",
    "rmse_day_list.append(rmse)\n",
    "rmse_list.append(rmse)\n",
    "print(\"model evaluated RMSE:\", rmse)"
   ]
  },
  {
   "cell_type": "code",
   "execution_count": 68,
   "metadata": {
    "colab": {
     "base_uri": "https://localhost:8080/",
     "height": 51
    },
    "colab_type": "code",
    "id": "4-uHgU8MEWrk",
    "outputId": "d996a13a-2d67-4c56-bc0b-8fcc7982d673"
   },
   "outputs": [
    {
     "name": "stdout",
     "output_type": "stream",
     "text": [
      "14049.463713909168\n",
      "model evaluated RMSE: 1.2111347277080222\n"
     ]
    }
   ],
   "source": [
    "for i in range(model1_log9.shape[0]):\n",
    "    sqd = ((model1_log9.y_pred[i]-model1_log9.y_true[i])**2)\n",
    "    sq = sq + sqd\n",
    "print(sq)\n",
    "mse = sq/model1_log9.shape[0]\n",
    "rmse = np.sqrt(mse)\n",
    "rmse_night_list.append(rmse)\n",
    "rmse_list.append(rmse)\n",
    "print(\"model evaluated RMSE:\", rmse)"
   ]
  },
  {
   "cell_type": "code",
   "execution_count": 72,
   "metadata": {
    "colab": {},
    "colab_type": "code",
    "id": "INxnEtH4Emqo"
   },
   "outputs": [],
   "source": [
    "def average(variable):\n",
    "    return sum(variable)/len(variable)"
   ]
  },
  {
   "cell_type": "code",
   "execution_count": 81,
   "metadata": {
    "colab": {
     "base_uri": "https://localhost:8080/",
     "height": 119
    },
    "colab_type": "code",
    "id": "zJA21by2F8Dz",
    "outputId": "e837cc8c-0a6e-423a-f483-1fa78b1273bd"
   },
   "outputs": [
    {
     "data": {
      "text/plain": [
       "[0.5341822135125558,\n",
       " 0.5927583572288943,\n",
       " 0.7705610925463137,\n",
       " 1.2517196377142268,\n",
       " 0.8497008441212148,\n",
       " 1.5337832154239426]"
      ]
     },
     "execution_count": 81,
     "metadata": {
      "tags": []
     },
     "output_type": "execute_result"
    }
   ],
   "source": [
    "rmse_day_list"
   ]
  },
  {
   "cell_type": "code",
   "execution_count": 78,
   "metadata": {
    "colab": {
     "base_uri": "https://localhost:8080/",
     "height": 68
    },
    "colab_type": "code",
    "id": "XLuJWKVdFA1C",
    "outputId": "f07dca97-4f25-43f7-8497-dc77af65b261"
   },
   "outputs": [
    {
     "name": "stdout",
     "output_type": "stream",
     "text": [
      "Model 1 Day RMSE Avg: 0.922\n",
      "Model 1 Night RMSE Avg: 1.031\n",
      "Model 1 Total RMSE Avg: 0.958\n"
     ]
    }
   ],
   "source": [
    "print('Model 1 Day RMSE Avg: ' + str(round(average(rmse_day_list), 3)))\n",
    "print('Model 1 Night RMSE Avg: ' + str(round(average(rmse_night_list), 3)))\n",
    "print('Model 1 Total RMSE Avg: ' + str(round(average(rmse_list), 3)))"
   ]
  },
  {
   "cell_type": "markdown",
   "metadata": {
    "colab_type": "text",
    "id": "AhWCz3le4W5c"
   },
   "source": [
    "### Model 2"
   ]
  },
  {
   "cell_type": "code",
   "execution_count": 82,
   "metadata": {
    "colab": {
     "base_uri": "https://localhost:8080/",
     "height": 34
    },
    "colab_type": "code",
    "id": "42gz82r7GZQu",
    "outputId": "588abd32-84b5-4543-9be5-0e18259088af"
   },
   "outputs": [
    {
     "name": "stdout",
     "output_type": "stream",
     "text": [
      "(270, 4)\n"
     ]
    }
   ],
   "source": [
    "model_2 = model_2_loading('model_2')"
   ]
  },
  {
   "cell_type": "code",
   "execution_count": 83,
   "metadata": {
    "colab": {
     "base_uri": "https://localhost:8080/",
     "height": 204
    },
    "colab_type": "code",
    "id": "pyQi5vhRGR-L",
    "outputId": "8ed30dd1-83cc-4398-dd76-91655834e1d8"
   },
   "outputs": [
    {
     "data": {
      "text/html": [
       "<div>\n",
       "<style scoped>\n",
       "    .dataframe tbody tr th:only-of-type {\n",
       "        vertical-align: middle;\n",
       "    }\n",
       "\n",
       "    .dataframe tbody tr th {\n",
       "        vertical-align: top;\n",
       "    }\n",
       "\n",
       "    .dataframe thead th {\n",
       "        text-align: right;\n",
       "    }\n",
       "</style>\n",
       "<table border=\"1\" class=\"dataframe\">\n",
       "  <thead>\n",
       "    <tr style=\"text-align: right;\">\n",
       "      <th></th>\n",
       "      <th>loss</th>\n",
       "      <th>root_mean_squared_error</th>\n",
       "      <th>val_loss</th>\n",
       "      <th>val_root_mean_squared_error</th>\n",
       "    </tr>\n",
       "  </thead>\n",
       "  <tbody>\n",
       "    <tr>\n",
       "      <th>0</th>\n",
       "      <td>0.388465</td>\n",
       "      <td>0.623270</td>\n",
       "      <td>0.350138</td>\n",
       "      <td>0.591725</td>\n",
       "    </tr>\n",
       "    <tr>\n",
       "      <th>1</th>\n",
       "      <td>0.353029</td>\n",
       "      <td>0.594163</td>\n",
       "      <td>0.339451</td>\n",
       "      <td>0.582625</td>\n",
       "    </tr>\n",
       "    <tr>\n",
       "      <th>2</th>\n",
       "      <td>0.325005</td>\n",
       "      <td>0.570092</td>\n",
       "      <td>0.337240</td>\n",
       "      <td>0.580724</td>\n",
       "    </tr>\n",
       "    <tr>\n",
       "      <th>3</th>\n",
       "      <td>0.310445</td>\n",
       "      <td>0.557176</td>\n",
       "      <td>0.336419</td>\n",
       "      <td>0.580017</td>\n",
       "    </tr>\n",
       "    <tr>\n",
       "      <th>4</th>\n",
       "      <td>0.296643</td>\n",
       "      <td>0.544650</td>\n",
       "      <td>0.336523</td>\n",
       "      <td>0.580106</td>\n",
       "    </tr>\n",
       "  </tbody>\n",
       "</table>\n",
       "</div>"
      ],
      "text/plain": [
       "       loss  root_mean_squared_error  val_loss  val_root_mean_squared_error\n",
       "0  0.388465                 0.623270  0.350138                     0.591725\n",
       "1  0.353029                 0.594163  0.339451                     0.582625\n",
       "2  0.325005                 0.570092  0.337240                     0.580724\n",
       "3  0.310445                 0.557176  0.336419                     0.580017\n",
       "4  0.296643                 0.544650  0.336523                     0.580106"
      ]
     },
     "execution_count": 83,
     "metadata": {
      "tags": []
     },
     "output_type": "execute_result"
    }
   ],
   "source": [
    "model_2.head()"
   ]
  },
  {
   "cell_type": "code",
   "execution_count": 84,
   "metadata": {
    "colab": {},
    "colab_type": "code",
    "id": "KirBxXovGR-V"
   },
   "outputs": [],
   "source": [
    "ticks = [i for i in range(0, 271, 10)]\n",
    "labels = [i for i in range(0, 271, 10)]"
   ]
  },
  {
   "cell_type": "code",
   "execution_count": 85,
   "metadata": {
    "colab": {},
    "colab_type": "code",
    "id": "v15Y0XjZGR-Y"
   },
   "outputs": [],
   "source": [
    "train_loss = model_2['loss']\n",
    "val_loss = model_2['val_loss']"
   ]
  },
  {
   "cell_type": "code",
   "execution_count": 86,
   "metadata": {
    "colab": {
     "base_uri": "https://localhost:8080/",
     "height": 519
    },
    "colab_type": "code",
    "id": "jpqVkvjsGR-a",
    "outputId": "c3cbd03c-f5aa-4b83-e847-d2ae4ce1c94d"
   },
   "outputs": [
    {
     "data": {
      "image/png": "[encoded data removed]",
      "text/plain": [
       "<Figure size 1440x576 with 1 Axes>"
      ]
     },
     "metadata": {
      "needs_background": "light",
      "tags": []
     },
     "output_type": "display_data"
    }
   ],
   "source": [
    "# Set figure size.\n",
    "plt.figure(figsize=(20, 8))\n",
    "\n",
    "# Generate line plot of training, testing loss over epochs.\n",
    "plt.plot(train_loss, label='Training Loss', color='#185fad')\n",
    "plt.plot(val_loss, label='Validation Loss', color='orange')\n",
    "\n",
    "# Set title\n",
    "plt.title('Training and Validation Loss by Epoch for Model 2', fontsize = 25)\n",
    "plt.xlabel('Epoch', fontsize = 18)\n",
    "plt.ylabel('Mean Squared Error', fontsize = 18)\n",
    "plt.xticks(ticks, labels)\n",
    "\n",
    "plt.legend(fontsize = 18);\n",
    "\n",
    "plt.savefig('/content/drive/My Drive/images/train_val_loss_model2.png');"
   ]
  },
  {
   "cell_type": "code",
   "execution_count": 87,
   "metadata": {
    "colab": {},
    "colab_type": "code",
    "id": "ROoBhx6AGR-c"
   },
   "outputs": [],
   "source": [
    "train_rmse = model_2['root_mean_squared_error']\n",
    "val_rmse = model_2['val_root_mean_squared_error']"
   ]
  },
  {
   "cell_type": "code",
   "execution_count": 88,
   "metadata": {
    "colab": {
     "base_uri": "https://localhost:8080/",
     "height": 522
    },
    "colab_type": "code",
    "id": "XrcVl-SBGR-e",
    "outputId": "c581f6fd-5520-4094-de0a-c73beaf3b054",
    "scrolled": false
   },
   "outputs": [
    {
     "data": {
      "image/png": "[encoded data removed]",
      "text/plain": [
       "<Figure size 1440x576 with 1 Axes>"
      ]
     },
     "metadata": {
      "needs_background": "light",
      "tags": []
     },
     "output_type": "display_data"
    }
   ],
   "source": [
    "# Set figure size.\n",
    "plt.figure(figsize=(20, 8))\n",
    "\n",
    "# Generate line plot of training, testing loss over epochs.\n",
    "plt.plot(train_rmse, label='Training RMSE', color='#185fad')\n",
    "plt.plot(val_rmse, label='Validation RMSE', color='orange')\n",
    "\n",
    "# Set title\n",
    "plt.title('Training and Validation RMSE by Epoch for Model 2', fontsize = 25)\n",
    "plt.xlabel('Epoch', fontsize = 18)\n",
    "plt.ylabel('Mean Squared Error', fontsize = 18)\n",
    "plt.xticks(ticks, labels)\n",
    "\n",
    "plt.legend(fontsize = 18);\n",
    "\n",
    "plt.savefig('/content/drive/My Drive/images/train_val_RSME_model2.png');"
   ]
  },
  {
   "cell_type": "code",
   "execution_count": 89,
   "metadata": {
    "colab": {},
    "colab_type": "code",
    "id": "NzGSOtcSGR-n"
   },
   "outputs": [],
   "source": [
    "model_2 = load_model('/content/drive/My Drive/epochs/model_2_9_camera7.0004-0.0389.h5')"
   ]
  },
  {
   "cell_type": "code",
   "execution_count": 90,
   "metadata": {
    "colab": {},
    "colab_type": "code",
    "id": "46iS64b2GR-p"
   },
   "outputs": [],
   "source": [
    "def log_file_load():\n",
    "    log1 = pd.read_csv('/content/drive/My Drive/datasets/log1_y_true.csv')\n",
    "    log2 = pd.read_csv('/content/drive/My Drive/datasets/log2_y_true.csv')\n",
    "    log3 = pd.read_csv('/content/drive/My Drive/datasets/log3_y_true.csv')\n",
    "    log4 = pd.read_csv('/content/drive/My Drive/datasets/log4_y_true.csv')\n",
    "    log5 = pd.read_csv('/content/drive/My Drive/datasets/log5_y_true.csv')\n",
    "    log6 = pd.read_csv('/content/drive/My Drive/datasets/log6_y_true.csv')\n",
    "    log7 = pd.read_csv('/content/drive/My Drive/datasets/log7_y_true.csv')\n",
    "    log8 = pd.read_csv('/content/drive/My Drive/datasets/log8_y_true.csv')\n",
    "    log9 = pd.read_csv('/content/drive/My Drive/datasets/log9_y_true.csv')\n",
    "    return log1, log2, log3, log4, log5, log6, log7, log8, log9"
   ]
  },
  {
   "cell_type": "code",
   "execution_count": 92,
   "metadata": {
    "colab": {},
    "colab_type": "code",
    "id": "4L1rG3ZZGR-q"
   },
   "outputs": [],
   "source": [
    "model2_log1, model2_log2, model2_log3, model2_log4, model2_log5, model2_log6, model2_log7, model2_log8, model2_log9 = log_file_load() "
   ]
  },
  {
   "cell_type": "code",
   "execution_count": 94,
   "metadata": {
    "colab": {},
    "colab_type": "code",
    "id": "HK6pxVayGR-t"
   },
   "outputs": [],
   "source": [
    "def y_prediction_2(camera_name):\n",
    "    x_test = load(f'/content/drive/My Drive/datasets/{camera_name}_X_test_processed.npz')\n",
    "    x_test = x_test.f.arr_0\n",
    "    y_pred = model_2.predict(x_test)\n",
    "    y_pred = y_pred.reshape(y_pred.shape[0])\n",
    "    return y_pred"
   ]
  },
  {
   "cell_type": "code",
   "execution_count": 95,
   "metadata": {
    "colab": {},
    "colab_type": "code",
    "id": "pSwDiI9vGR-u"
   },
   "outputs": [],
   "source": [
    "y_pred1 = y_prediction_2('camera1')\n",
    "y_pred2 = y_prediction_2('camera2')\n",
    "y_pred3 = y_prediction_2('camera3')\n",
    "y_pred4 = y_prediction_2('camera4')\n",
    "y_pred5 = y_prediction_2('camera5')\n",
    "y_pred6 = y_prediction_2('camera6')\n",
    "y_pred7 = y_prediction_2('camera7')\n",
    "y_pred8 = y_prediction_2('camera8')\n",
    "y_pred9 = y_prediction_2('camera9')"
   ]
  },
  {
   "cell_type": "code",
   "execution_count": 96,
   "metadata": {
    "colab": {
     "base_uri": "https://localhost:8080/",
     "height": 34
    },
    "colab_type": "code",
    "id": "PNYGQ9jTGR-w",
    "outputId": "7fd687ac-93d5-49c0-d4cb-1026d12d87e3"
   },
   "outputs": [
    {
     "data": {
      "text/plain": [
       "(10251,)"
      ]
     },
     "execution_count": 96,
     "metadata": {
      "tags": []
     },
     "output_type": "execute_result"
    }
   ],
   "source": [
    "y_pred1.shape"
   ]
  },
  {
   "cell_type": "code",
   "execution_count": 97,
   "metadata": {
    "colab": {
     "base_uri": "https://localhost:8080/",
     "height": 34
    },
    "colab_type": "code",
    "id": "GpBxL-fBGR-y",
    "outputId": "c80e2886-5433-4174-c370-b3197352f579"
   },
   "outputs": [
    {
     "data": {
      "text/plain": [
       "(10251, 1)"
      ]
     },
     "execution_count": 97,
     "metadata": {
      "tags": []
     },
     "output_type": "execute_result"
    }
   ],
   "source": [
    "model2_log1.shape"
   ]
  },
  {
   "cell_type": "code",
   "execution_count": 98,
   "metadata": {
    "colab": {},
    "colab_type": "code",
    "id": "R5jgxKt-GR-z"
   },
   "outputs": [],
   "source": [
    "model2_log1['y_pred'] = y_pred1\n",
    "model2_log2['y_pred'] = y_pred2\n",
    "model2_log3['y_pred'] = y_pred3\n",
    "model2_log4['y_pred'] = y_pred4\n",
    "model2_log5['y_pred'] = y_pred5\n",
    "model2_log6['y_pred'] = y_pred6\n",
    "model2_log7['y_pred'] = y_pred7\n",
    "model2_log8['y_pred'] = y_pred8\n",
    "model2_log9['y_pred'] = y_pred9"
   ]
  },
  {
   "cell_type": "code",
   "execution_count": 99,
   "metadata": {
    "colab": {
     "base_uri": "https://localhost:8080/",
     "height": 51
    },
    "colab_type": "code",
    "id": "HGCgAaiaGR-1",
    "outputId": "f58de31a-98e6-4a36-e5a8-4d9bce09ff8c"
   },
   "outputs": [
    {
     "name": "stdout",
     "output_type": "stream",
     "text": [
      "2500.6151431593157\n",
      "model evaluated RMSE: 0.49390146193149703\n"
     ]
    }
   ],
   "source": [
    "rmse_2_list = []\n",
    "rmse_2_night_list = []\n",
    "rmse_2_day_list = []\n",
    "sq = 0\n",
    "mse = 0\n",
    "\n",
    "for i in range(model2_log1.shape[0]):\n",
    "    sqd = ((model2_log1.y_pred[i]-model2_log1.y_true[i])**2)\n",
    "    sq = sq + sqd\n",
    "print(sq)\n",
    "mse = sq/model2_log1.shape[0]\n",
    "rmse = np.sqrt(mse)\n",
    "rmse_2_day_list.append(rmse)\n",
    "rmse_2_list.append(rmse)\n",
    "print(\"model evaluated RMSE:\", rmse)"
   ]
  },
  {
   "cell_type": "code",
   "execution_count": 100,
   "metadata": {
    "colab": {
     "base_uri": "https://localhost:8080/",
     "height": 51
    },
    "colab_type": "code",
    "id": "D5d9AvTYGR-3",
    "outputId": "2451036a-e20e-4af9-ed2a-8188fe01daf9"
   },
   "outputs": [
    {
     "name": "stdout",
     "output_type": "stream",
     "text": [
      "3047.4779694283557\n",
      "model evaluated RMSE: 0.5206994653570938\n"
     ]
    }
   ],
   "source": [
    "for i in range(model2_log2.shape[0]):\n",
    "    sqd = ((model2_log2.y_pred[i]-model2_log2.y_true[i])**2)\n",
    "    sq = sq + sqd\n",
    "print(sq)\n",
    "mse = sq/model2_log2.shape[0]\n",
    "rmse = np.sqrt(mse)\n",
    "rmse_2_day_list.append(rmse)\n",
    "rmse_2_list.append(rmse)\n",
    "print(\"model evaluated RMSE:\", rmse)"
   ]
  },
  {
   "cell_type": "code",
   "execution_count": 101,
   "metadata": {
    "colab": {
     "base_uri": "https://localhost:8080/",
     "height": 51
    },
    "colab_type": "code",
    "id": "OuRnxvIVGR-6",
    "outputId": "96d6be7a-fcdf-4096-e893-1123b62e1efe"
   },
   "outputs": [
    {
     "name": "stdout",
     "output_type": "stream",
     "text": [
      "3268.9753137533453\n",
      "model evaluated RMSE: 0.9822773267669596\n"
     ]
    }
   ],
   "source": [
    "for i in range(model2_log3.shape[0]):\n",
    "    sqd = ((model2_log3.y_pred[i]-model2_log3.y_true[i])**2)\n",
    "    sq = sq + sqd\n",
    "print(sq)\n",
    "mse = sq/model2_log3.shape[0]\n",
    "rmse = np.sqrt(mse)\n",
    "rmse_2_night_list.append(rmse)\n",
    "rmse_2_list.append(rmse)\n",
    "print(\"model evaluated RMSE:\", rmse)"
   ]
  },
  {
   "cell_type": "code",
   "execution_count": 102,
   "metadata": {
    "colab": {
     "base_uri": "https://localhost:8080/",
     "height": 51
    },
    "colab_type": "code",
    "id": "mc7WdS4kGR-7",
    "outputId": "4b54cd1a-fc4c-49a4-f30b-0d380b47c35b"
   },
   "outputs": [
    {
     "name": "stdout",
     "output_type": "stream",
     "text": [
      "4859.10874683317\n",
      "model evaluated RMSE: 0.6746746112646261\n"
     ]
    }
   ],
   "source": [
    "for i in range(model2_log4.shape[0]):\n",
    "    sqd = ((model2_log4.y_pred[i]-model2_log4.y_true[i])**2)\n",
    "    sq = sq + sqd\n",
    "print(sq)\n",
    "mse = sq/model2_log4.shape[0]\n",
    "rmse = np.sqrt(mse)\n",
    "rmse_2_day_list.append(rmse)\n",
    "rmse_2_list.append(rmse)\n",
    "print(\"model evaluated RMSE:\", rmse)"
   ]
  },
  {
   "cell_type": "code",
   "execution_count": 103,
   "metadata": {
    "colab": {
     "base_uri": "https://localhost:8080/",
     "height": 51
    },
    "colab_type": "code",
    "id": "348tl7OBGR-9",
    "outputId": "40c5ca08-b3ce-4c97-a9e8-1e6d93d5b548"
   },
   "outputs": [
    {
     "name": "stdout",
     "output_type": "stream",
     "text": [
      "5563.28657499181\n",
      "model evaluated RMSE: 1.0980621476305017\n"
     ]
    }
   ],
   "source": [
    "for i in range(model2_log5.shape[0]):\n",
    "    sqd = ((model2_log5.y_pred[i]-model2_log5.y_true[i])**2)\n",
    "    sq = sq + sqd\n",
    "print(sq)\n",
    "mse = sq/model2_log5.shape[0]\n",
    "rmse = np.sqrt(mse)\n",
    "rmse_2_day_list.append(rmse)\n",
    "rmse_2_list.append(rmse)\n",
    "print(\"model evaluated RMSE:\", rmse)"
   ]
  },
  {
   "cell_type": "code",
   "execution_count": 104,
   "metadata": {
    "colab": {
     "base_uri": "https://localhost:8080/",
     "height": 51
    },
    "colab_type": "code",
    "id": "Q1u2dIsEGR--",
    "outputId": "fd18d509-9d3c-4316-eee9-27beacb64915"
   },
   "outputs": [
    {
     "name": "stdout",
     "output_type": "stream",
     "text": [
      "6972.634803944771\n",
      "model evaluated RMSE: 0.65004485838808\n"
     ]
    }
   ],
   "source": [
    "for i in range(model2_log6.shape[0]):\n",
    "    sqd = ((model2_log6.y_pred[i]-model2_log6.y_true[i])**2)\n",
    "    sq = sq + sqd\n",
    "print(sq)\n",
    "mse = sq/model2_log6.shape[0]\n",
    "rmse = np.sqrt(mse)\n",
    "rmse_2_night_list.append(rmse)\n",
    "rmse_2_list.append(rmse)\n",
    "print(\"model evaluated RMSE:\", rmse)"
   ]
  },
  {
   "cell_type": "code",
   "execution_count": 105,
   "metadata": {
    "colab": {
     "base_uri": "https://localhost:8080/",
     "height": 51
    },
    "colab_type": "code",
    "id": "8ZLI_L8bGR_B",
    "outputId": "b85fbf58-01f7-4dad-c252-7c5d920c0142"
   },
   "outputs": [
    {
     "name": "stdout",
     "output_type": "stream",
     "text": [
      "7712.135123410481\n",
      "model evaluated RMSE: 0.7215733141956414\n"
     ]
    }
   ],
   "source": [
    "for i in range(model2_log7.shape[0]):\n",
    "    sqd = ((model2_log7.y_pred[i]-model2_log7.y_true[i])**2)\n",
    "    sq = sq + sqd\n",
    "print(sq)\n",
    "mse = sq/model2_log7.shape[0]\n",
    "rmse = np.sqrt(mse)\n",
    "rmse_2_day_list.append(rmse)\n",
    "rmse_2_list.append(rmse)\n",
    "print(\"model evaluated RMSE:\", rmse)"
   ]
  },
  {
   "cell_type": "code",
   "execution_count": 106,
   "metadata": {
    "colab": {
     "base_uri": "https://localhost:8080/",
     "height": 51
    },
    "colab_type": "code",
    "id": "pJSck82TGR_D",
    "outputId": "ed35dd30-d07b-425f-f7d0-ab3e898eadb4"
   },
   "outputs": [
    {
     "name": "stdout",
     "output_type": "stream",
     "text": [
      "9840.33652363087\n",
      "model evaluated RMSE: 1.331793065464637\n"
     ]
    }
   ],
   "source": [
    "for i in range(model2_log8.shape[0]):\n",
    "    sqd = ((model2_log8.y_pred[i]-model2_log8.y_true[i])**2)\n",
    "    sq = sq + sqd\n",
    "print(sq)\n",
    "mse = sq/model2_log8.shape[0]\n",
    "rmse = np.sqrt(mse)\n",
    "rmse_2_day_list.append(rmse)\n",
    "rmse_2_list.append(rmse)\n",
    "print(\"model evaluated RMSE:\", rmse)"
   ]
  },
  {
   "cell_type": "code",
   "execution_count": 107,
   "metadata": {
    "colab": {
     "base_uri": "https://localhost:8080/",
     "height": 51
    },
    "colab_type": "code",
    "id": "pfom0w-VGR_F",
    "outputId": "d2dcac23-e337-4bd4-f957-32be3dee763f"
   },
   "outputs": [
    {
     "name": "stdout",
     "output_type": "stream",
     "text": [
      "10443.922367602334\n",
      "model evaluated RMSE: 1.0442257563954864\n"
     ]
    }
   ],
   "source": [
    "for i in range(model2_log9.shape[0]):\n",
    "    sqd = ((model2_log9.y_pred[i]-model2_log9.y_true[i])**2)\n",
    "    sq = sq + sqd\n",
    "print(sq)\n",
    "mse = sq/model2_log9.shape[0]\n",
    "rmse = np.sqrt(mse)\n",
    "rmse_2_night_list.append(rmse)\n",
    "rmse_2_list.append(rmse)\n",
    "print(\"model evaluated RMSE:\", rmse)"
   ]
  },
  {
   "cell_type": "code",
   "execution_count": 108,
   "metadata": {
    "colab": {},
    "colab_type": "code",
    "id": "WqFDocsSGR_J"
   },
   "outputs": [],
   "source": [
    "def average(variable):\n",
    "    return sum(variable)/len(variable)"
   ]
  },
  {
   "cell_type": "code",
   "execution_count": 109,
   "metadata": {
    "colab": {
     "base_uri": "https://localhost:8080/",
     "height": 68
    },
    "colab_type": "code",
    "id": "Du2ZX32QGR_O",
    "outputId": "4fbc5648-9acf-4c5b-98ec-e769c3a6e344"
   },
   "outputs": [
    {
     "name": "stdout",
     "output_type": "stream",
     "text": [
      "Model 2 Day RMSE Avg: 0.807\n",
      "Model 2 Night RMSE Avg: 0.892\n",
      "Model 2 Total RMSE Avg: 0.835\n"
     ]
    }
   ],
   "source": [
    "print('Model 2 Day RMSE Avg: ' + str(round(average(rmse_2_day_list), 3)))\n",
    "print('Model 2 Night RMSE Avg: ' + str(round(average(rmse_2_night_list), 3)))\n",
    "print('Model 2 Total RMSE Avg: ' + str(round(average(rmse_2_list), 3)))"
   ]
  },
  {
   "cell_type": "markdown",
   "metadata": {
    "colab_type": "text",
    "id": "OiaiSbNe4W5f"
   },
   "source": [
    "### Model 3"
   ]
  },
  {
   "cell_type": "code",
   "execution_count": 110,
   "metadata": {
    "colab": {
     "base_uri": "https://localhost:8080/",
     "height": 34
    },
    "colab_type": "code",
    "id": "8MiOEXReIhj0",
    "outputId": "80d2b43e-8187-4a29-bfcf-56f673f8678f"
   },
   "outputs": [
    {
     "name": "stdout",
     "output_type": "stream",
     "text": [
      "(270, 4)\n"
     ]
    }
   ],
   "source": [
    "model_3 = model_2_loading('model_3')"
   ]
  },
  {
   "cell_type": "code",
   "execution_count": 111,
   "metadata": {
    "colab": {
     "base_uri": "https://localhost:8080/",
     "height": 204
    },
    "colab_type": "code",
    "id": "9_gB1F6ZIhj2",
    "outputId": "30ebd7ef-01db-45bd-8ddc-caf4e39f00a9"
   },
   "outputs": [
    {
     "data": {
      "text/html": [
       "<div>\n",
       "<style scoped>\n",
       "    .dataframe tbody tr th:only-of-type {\n",
       "        vertical-align: middle;\n",
       "    }\n",
       "\n",
       "    .dataframe tbody tr th {\n",
       "        vertical-align: top;\n",
       "    }\n",
       "\n",
       "    .dataframe thead th {\n",
       "        text-align: right;\n",
       "    }\n",
       "</style>\n",
       "<table border=\"1\" class=\"dataframe\">\n",
       "  <thead>\n",
       "    <tr style=\"text-align: right;\">\n",
       "      <th></th>\n",
       "      <th>loss</th>\n",
       "      <th>root_mean_squared_error</th>\n",
       "      <th>val_loss</th>\n",
       "      <th>val_root_mean_squared_error</th>\n",
       "    </tr>\n",
       "  </thead>\n",
       "  <tbody>\n",
       "    <tr>\n",
       "      <th>0</th>\n",
       "      <td>0.387882</td>\n",
       "      <td>0.622802</td>\n",
       "      <td>0.349213</td>\n",
       "      <td>0.590943</td>\n",
       "    </tr>\n",
       "    <tr>\n",
       "      <th>1</th>\n",
       "      <td>0.351539</td>\n",
       "      <td>0.592907</td>\n",
       "      <td>0.338419</td>\n",
       "      <td>0.581738</td>\n",
       "    </tr>\n",
       "    <tr>\n",
       "      <th>2</th>\n",
       "      <td>0.327403</td>\n",
       "      <td>0.572191</td>\n",
       "      <td>0.335900</td>\n",
       "      <td>0.579569</td>\n",
       "    </tr>\n",
       "    <tr>\n",
       "      <th>3</th>\n",
       "      <td>0.310981</td>\n",
       "      <td>0.557657</td>\n",
       "      <td>0.336052</td>\n",
       "      <td>0.579700</td>\n",
       "    </tr>\n",
       "    <tr>\n",
       "      <th>4</th>\n",
       "      <td>0.299482</td>\n",
       "      <td>0.547249</td>\n",
       "      <td>0.334727</td>\n",
       "      <td>0.578556</td>\n",
       "    </tr>\n",
       "  </tbody>\n",
       "</table>\n",
       "</div>"
      ],
      "text/plain": [
       "       loss  root_mean_squared_error  val_loss  val_root_mean_squared_error\n",
       "0  0.387882                 0.622802  0.349213                     0.590943\n",
       "1  0.351539                 0.592907  0.338419                     0.581738\n",
       "2  0.327403                 0.572191  0.335900                     0.579569\n",
       "3  0.310981                 0.557657  0.336052                     0.579700\n",
       "4  0.299482                 0.547249  0.334727                     0.578556"
      ]
     },
     "execution_count": 111,
     "metadata": {
      "tags": []
     },
     "output_type": "execute_result"
    }
   ],
   "source": [
    "model_3.head()"
   ]
  },
  {
   "cell_type": "code",
   "execution_count": 112,
   "metadata": {
    "colab": {},
    "colab_type": "code",
    "id": "ahwtd8n1Ihj5"
   },
   "outputs": [],
   "source": [
    "ticks = [i for i in range(0, 271, 10)]\n",
    "labels = [i for i in range(0, 271, 10)]"
   ]
  },
  {
   "cell_type": "code",
   "execution_count": 114,
   "metadata": {
    "colab": {},
    "colab_type": "code",
    "id": "7xnzkY62Ihj7"
   },
   "outputs": [],
   "source": [
    "train_loss = model_3['loss']\n",
    "val_loss = model_3['val_loss']"
   ]
  },
  {
   "cell_type": "code",
   "execution_count": 115,
   "metadata": {
    "colab": {
     "base_uri": "https://localhost:8080/",
     "height": 519
    },
    "colab_type": "code",
    "id": "zoXzwX0-Ihj9",
    "outputId": "55aa4388-0ebe-46b5-ac1b-9cb91dcb2b6a"
   },
   "outputs": [
    {
     "data": {
      "image/png": "[encoded data removed]",
      "text/plain": [
       "<Figure size 1440x576 with 1 Axes>"
      ]
     },
     "metadata": {
      "needs_background": "light",
      "tags": []
     },
     "output_type": "display_data"
    }
   ],
   "source": [
    "# Set figure size.\n",
    "plt.figure(figsize=(20, 8))\n",
    "\n",
    "# Generate line plot of training, testing loss over epochs.\n",
    "plt.plot(train_loss, label='Training Loss', color='#185fad')\n",
    "plt.plot(val_loss, label='Validation Loss', color='orange')\n",
    "\n",
    "# Set title\n",
    "plt.title('Training and Validation Loss by Epoch for Model 3', fontsize = 25)\n",
    "plt.xlabel('Epoch', fontsize = 18)\n",
    "plt.ylabel('Mean Squared Error', fontsize = 18)\n",
    "plt.xticks(ticks, labels)\n",
    "\n",
    "plt.legend(fontsize = 18);\n",
    "\n",
    "plt.savefig('/content/drive/My Drive/images/train_val_loss_model3.png');"
   ]
  },
  {
   "cell_type": "code",
   "execution_count": 116,
   "metadata": {
    "colab": {},
    "colab_type": "code",
    "id": "EOqBp0SDIhj_"
   },
   "outputs": [],
   "source": [
    "train_rmse = model_3['root_mean_squared_error']\n",
    "val_rmse = model_3['val_root_mean_squared_error']"
   ]
  },
  {
   "cell_type": "code",
   "execution_count": 117,
   "metadata": {
    "colab": {
     "base_uri": "https://localhost:8080/",
     "height": 522
    },
    "colab_type": "code",
    "id": "mSjfjm9rIhkC",
    "outputId": "e9bd303b-df0a-4fca-89ca-eb7ca51dbad0",
    "scrolled": false
   },
   "outputs": [
    {
     "data": {
      "image/png": "[encoded data removed]",
      "text/plain": [
       "<Figure size 1440x576 with 1 Axes>"
      ]
     },
     "metadata": {
      "needs_background": "light",
      "tags": []
     },
     "output_type": "display_data"
    }
   ],
   "source": [
    "# Set figure size.\n",
    "plt.figure(figsize=(20, 8))\n",
    "\n",
    "# Generate line plot of training, testing loss over epochs.\n",
    "plt.plot(train_rmse, label='Training RMSE', color='#185fad')\n",
    "plt.plot(val_rmse, label='Validation RMSE', color='orange')\n",
    "\n",
    "# Set title\n",
    "plt.title('Training and Validation RMSE by Epoch for Model 3', fontsize = 25)\n",
    "plt.xlabel('Epoch', fontsize = 18)\n",
    "plt.ylabel('Mean Squared Error', fontsize = 18)\n",
    "plt.xticks(ticks, labels)\n",
    "\n",
    "plt.legend(fontsize = 18);\n",
    "\n",
    "plt.savefig('/content/drive/My Drive/images/train_val_RSME_model3.png');"
   ]
  },
  {
   "cell_type": "code",
   "execution_count": 118,
   "metadata": {
    "colab": {},
    "colab_type": "code",
    "id": "YO5a693UIhkD"
   },
   "outputs": [],
   "source": [
    "model_3 = load_model('/content/drive/My Drive/epochs/model_3_9_camera7.0020-0.0404.h5')"
   ]
  },
  {
   "cell_type": "code",
   "execution_count": 119,
   "metadata": {
    "colab": {},
    "colab_type": "code",
    "id": "r22bxnIrIhkE"
   },
   "outputs": [],
   "source": [
    "def log_file_load():\n",
    "    log1 = pd.read_csv('/content/drive/My Drive/datasets/log1_y_true.csv')\n",
    "    log2 = pd.read_csv('/content/drive/My Drive/datasets/log2_y_true.csv')\n",
    "    log3 = pd.read_csv('/content/drive/My Drive/datasets/log3_y_true.csv')\n",
    "    log4 = pd.read_csv('/content/drive/My Drive/datasets/log4_y_true.csv')\n",
    "    log5 = pd.read_csv('/content/drive/My Drive/datasets/log5_y_true.csv')\n",
    "    log6 = pd.read_csv('/content/drive/My Drive/datasets/log6_y_true.csv')\n",
    "    log7 = pd.read_csv('/content/drive/My Drive/datasets/log7_y_true.csv')\n",
    "    log8 = pd.read_csv('/content/drive/My Drive/datasets/log8_y_true.csv')\n",
    "    log9 = pd.read_csv('/content/drive/My Drive/datasets/log9_y_true.csv')\n",
    "    return log1, log2, log3, log4, log5, log6, log7, log8, log9"
   ]
  },
  {
   "cell_type": "code",
   "execution_count": 120,
   "metadata": {
    "colab": {},
    "colab_type": "code",
    "id": "cd_aWJL6IhkG"
   },
   "outputs": [],
   "source": [
    "model3_log1, model3_log2, model3_log3, model3_log4, model3_log5, model3_log6, model3_log7, model3_log8, model3_log9 = log_file_load() "
   ]
  },
  {
   "cell_type": "code",
   "execution_count": 121,
   "metadata": {
    "colab": {},
    "colab_type": "code",
    "id": "7dEQjNk8IhkH"
   },
   "outputs": [],
   "source": [
    "def y_prediction_3(camera_name):\n",
    "    x_test = load(f'/content/drive/My Drive/datasets/{camera_name}_X_test_processed.npz')\n",
    "    x_test = x_test.f.arr_0\n",
    "    y_pred = model_3.predict(x_test)\n",
    "    y_pred = y_pred.reshape(y_pred.shape[0])\n",
    "    return y_pred"
   ]
  },
  {
   "cell_type": "code",
   "execution_count": 122,
   "metadata": {
    "colab": {},
    "colab_type": "code",
    "id": "iE58UAIZIhkJ"
   },
   "outputs": [],
   "source": [
    "y_pred1 = y_prediction_3('camera1')\n",
    "y_pred2 = y_prediction_3('camera2')\n",
    "y_pred3 = y_prediction_3('camera3')\n",
    "y_pred4 = y_prediction_3('camera4')\n",
    "y_pred5 = y_prediction_3('camera5')\n",
    "y_pred6 = y_prediction_3('camera6')\n",
    "y_pred7 = y_prediction_3('camera7')\n",
    "y_pred8 = y_prediction_3('camera8')\n",
    "y_pred9 = y_prediction_3('camera9')"
   ]
  },
  {
   "cell_type": "code",
   "execution_count": 123,
   "metadata": {
    "colab": {
     "base_uri": "https://localhost:8080/",
     "height": 34
    },
    "colab_type": "code",
    "id": "ypZ2h8GSIhkM",
    "outputId": "cd21c4f3-a848-4d31-f549-1ea0515fd7d2"
   },
   "outputs": [
    {
     "data": {
      "text/plain": [
       "(10251,)"
      ]
     },
     "execution_count": 123,
     "metadata": {
      "tags": []
     },
     "output_type": "execute_result"
    }
   ],
   "source": [
    "y_pred1.shape"
   ]
  },
  {
   "cell_type": "code",
   "execution_count": 124,
   "metadata": {
    "colab": {
     "base_uri": "https://localhost:8080/",
     "height": 34
    },
    "colab_type": "code",
    "id": "Du6HYXtKIhkO",
    "outputId": "21c0d9a1-087a-4dfa-ec8a-94de28348bf3"
   },
   "outputs": [
    {
     "data": {
      "text/plain": [
       "(10251, 1)"
      ]
     },
     "execution_count": 124,
     "metadata": {
      "tags": []
     },
     "output_type": "execute_result"
    }
   ],
   "source": [
    "model3_log1.shape"
   ]
  },
  {
   "cell_type": "code",
   "execution_count": 125,
   "metadata": {
    "colab": {},
    "colab_type": "code",
    "id": "1B2iqWaZIhkP"
   },
   "outputs": [],
   "source": [
    "model3_log1['y_pred'] = y_pred1\n",
    "model3_log2['y_pred'] = y_pred2\n",
    "model3_log3['y_pred'] = y_pred3\n",
    "model3_log4['y_pred'] = y_pred4\n",
    "model3_log5['y_pred'] = y_pred5\n",
    "model3_log6['y_pred'] = y_pred6\n",
    "model3_log7['y_pred'] = y_pred7\n",
    "model3_log8['y_pred'] = y_pred8\n",
    "model3_log9['y_pred'] = y_pred9"
   ]
  },
  {
   "cell_type": "code",
   "execution_count": 126,
   "metadata": {
    "colab": {
     "base_uri": "https://localhost:8080/",
     "height": 51
    },
    "colab_type": "code",
    "id": "wEzrOJIFIhkR",
    "outputId": "4d84295f-9d7a-45a2-f563-943dc8c941fe"
   },
   "outputs": [
    {
     "name": "stdout",
     "output_type": "stream",
     "text": [
      "2406.351554265782\n",
      "model evaluated RMSE: 0.4845029448084137\n"
     ]
    }
   ],
   "source": [
    "rmse_3_list = []\n",
    "rmse_3_night_list = []\n",
    "rmse_3_day_list = []\n",
    "sq = 0\n",
    "mse = 0\n",
    "\n",
    "for i in range(model3_log1.shape[0]):\n",
    "    sqd = ((model3_log1.y_pred[i]-model3_log1.y_true[i])**2)\n",
    "    sq = sq + sqd\n",
    "print(sq)\n",
    "mse = sq/model3_log1.shape[0]\n",
    "rmse = np.sqrt(mse)\n",
    "rmse_3_day_list.append(rmse)\n",
    "rmse_3_list.append(rmse)\n",
    "print(\"model evaluated RMSE:\", rmse)"
   ]
  },
  {
   "cell_type": "code",
   "execution_count": 127,
   "metadata": {
    "colab": {
     "base_uri": "https://localhost:8080/",
     "height": 51
    },
    "colab_type": "code",
    "id": "Iw59uL3qIhkS",
    "outputId": "60b2de31-e1f6-4f47-cafd-e7d8bd5877f8"
   },
   "outputs": [
    {
     "name": "stdout",
     "output_type": "stream",
     "text": [
      "2841.2710028242577\n",
      "model evaluated RMSE: 0.5027744202810948\n"
     ]
    }
   ],
   "source": [
    "for i in range(model3_log2.shape[0]):\n",
    "    sqd = ((model3_log2.y_pred[i]-model3_log2.y_true[i])**2)\n",
    "    sq = sq + sqd\n",
    "print(sq)\n",
    "mse = sq/model3_log2.shape[0]\n",
    "rmse = np.sqrt(mse)\n",
    "rmse_3_day_list.append(rmse)\n",
    "rmse_3_list.append(rmse)\n",
    "print(\"model evaluated RMSE:\", rmse)"
   ]
  },
  {
   "cell_type": "code",
   "execution_count": 128,
   "metadata": {
    "colab": {
     "base_uri": "https://localhost:8080/",
     "height": 51
    },
    "colab_type": "code",
    "id": "ep9TCevPIhkT",
    "outputId": "09e53452-f6bb-4acf-9201-2e08dd1b9ac2"
   },
   "outputs": [
    {
     "name": "stdout",
     "output_type": "stream",
     "text": [
      "3028.3848786471513\n",
      "model evaluated RMSE: 0.9454396974744356\n"
     ]
    }
   ],
   "source": [
    "for i in range(model3_log3.shape[0]):\n",
    "    sqd = ((model3_log3.y_pred[i]-model3_log3.y_true[i])**2)\n",
    "    sq = sq + sqd\n",
    "print(sq)\n",
    "mse = sq/model3_log3.shape[0]\n",
    "rmse = np.sqrt(mse)\n",
    "rmse_3_night_list.append(rmse)\n",
    "rmse_3_list.append(rmse)\n",
    "print(\"model evaluated RMSE:\", rmse)"
   ]
  },
  {
   "cell_type": "code",
   "execution_count": 129,
   "metadata": {
    "colab": {
     "base_uri": "https://localhost:8080/",
     "height": 51
    },
    "colab_type": "code",
    "id": "3vdEvo_bIhkW",
    "outputId": "7150b25c-d6d6-4fc2-ea39-c38f0fdd65ab"
   },
   "outputs": [
    {
     "name": "stdout",
     "output_type": "stream",
     "text": [
      "4526.884452564463\n",
      "model evaluated RMSE: 0.65120205569105\n"
     ]
    }
   ],
   "source": [
    "for i in range(model3_log4.shape[0]):\n",
    "    sqd = ((model3_log4.y_pred[i]-model3_log4.y_true[i])**2)\n",
    "    sq = sq + sqd\n",
    "print(sq)\n",
    "mse = sq/model3_log4.shape[0]\n",
    "rmse = np.sqrt(mse)\n",
    "rmse_3_day_list.append(rmse)\n",
    "rmse_3_list.append(rmse)\n",
    "print(\"model evaluated RMSE:\", rmse)"
   ]
  },
  {
   "cell_type": "code",
   "execution_count": 130,
   "metadata": {
    "colab": {
     "base_uri": "https://localhost:8080/",
     "height": 51
    },
    "colab_type": "code",
    "id": "dLX4qfIkIhkX",
    "outputId": "583a51df-b55d-4bad-d059-aa594da489d6"
   },
   "outputs": [
    {
     "name": "stdout",
     "output_type": "stream",
     "text": [
      "5192.5407314359045\n",
      "model evaluated RMSE: 1.060843111983853\n"
     ]
    }
   ],
   "source": [
    "for i in range(model3_log5.shape[0]):\n",
    "    sqd = ((model3_log5.y_pred[i]-model3_log5.y_true[i])**2)\n",
    "    sq = sq + sqd\n",
    "print(sq)\n",
    "mse = sq/model3_log5.shape[0]\n",
    "rmse = np.sqrt(mse)\n",
    "rmse_3_day_list.append(rmse)\n",
    "rmse_3_list.append(rmse)\n",
    "print(\"model evaluated RMSE:\", rmse)"
   ]
  },
  {
   "cell_type": "code",
   "execution_count": 131,
   "metadata": {
    "colab": {
     "base_uri": "https://localhost:8080/",
     "height": 51
    },
    "colab_type": "code",
    "id": "KADA9YP0IhkZ",
    "outputId": "8b1a2d2b-aaa8-4173-9194-185b0e18e356"
   },
   "outputs": [
    {
     "name": "stdout",
     "output_type": "stream",
     "text": [
      "6439.530413379089\n",
      "model evaluated RMSE: 0.6247006634676955\n"
     ]
    }
   ],
   "source": [
    "for i in range(model3_log6.shape[0]):\n",
    "    sqd = ((model3_log6.y_pred[i]-model3_log6.y_true[i])**2)\n",
    "    sq = sq + sqd\n",
    "print(sq)\n",
    "mse = sq/model3_log6.shape[0]\n",
    "rmse = np.sqrt(mse)\n",
    "rmse_3_night_list.append(rmse)\n",
    "rmse_3_list.append(rmse)\n",
    "print(\"model evaluated RMSE:\", rmse)"
   ]
  },
  {
   "cell_type": "code",
   "execution_count": 132,
   "metadata": {
    "colab": {
     "base_uri": "https://localhost:8080/",
     "height": 51
    },
    "colab_type": "code",
    "id": "7kCJ8eJdIhka",
    "outputId": "2f76eb87-a746-4412-945a-c88deff5d83e"
   },
   "outputs": [
    {
     "name": "stdout",
     "output_type": "stream",
     "text": [
      "7037.869956704596\n",
      "model evaluated RMSE: 0.6893087116180555\n"
     ]
    }
   ],
   "source": [
    "for i in range(model3_log7.shape[0]):\n",
    "    sqd = ((model3_log7.y_pred[i]-model3_log7.y_true[i])**2)\n",
    "    sq = sq + sqd\n",
    "print(sq)\n",
    "mse = sq/model3_log7.shape[0]\n",
    "rmse = np.sqrt(mse)\n",
    "rmse_3_day_list.append(rmse)\n",
    "rmse_3_list.append(rmse)\n",
    "print(\"model evaluated RMSE:\", rmse)"
   ]
  },
  {
   "cell_type": "code",
   "execution_count": 133,
   "metadata": {
    "colab": {
     "base_uri": "https://localhost:8080/",
     "height": 51
    },
    "colab_type": "code",
    "id": "2rh6v5VgIhkb",
    "outputId": "08fbc637-e21f-468f-e607-3a643662ec76"
   },
   "outputs": [
    {
     "name": "stdout",
     "output_type": "stream",
     "text": [
      "9115.556040027132\n",
      "model evaluated RMSE: 1.281809117723971\n"
     ]
    }
   ],
   "source": [
    "for i in range(model3_log8.shape[0]):\n",
    "    sqd = ((model3_log8.y_pred[i]-model3_log8.y_true[i])**2)\n",
    "    sq = sq + sqd\n",
    "print(sq)\n",
    "mse = sq/model3_log8.shape[0]\n",
    "rmse = np.sqrt(mse)\n",
    "rmse_3_day_list.append(rmse)\n",
    "rmse_3_list.append(rmse)\n",
    "print(\"model evaluated RMSE:\", rmse)"
   ]
  },
  {
   "cell_type": "code",
   "execution_count": 134,
   "metadata": {
    "colab": {
     "base_uri": "https://localhost:8080/",
     "height": 51
    },
    "colab_type": "code",
    "id": "2nFn1TgpIhkd",
    "outputId": "2de380ba-950b-4865-fe82-84c16da007b7"
   },
   "outputs": [
    {
     "name": "stdout",
     "output_type": "stream",
     "text": [
      "9632.813849827482\n",
      "model evaluated RMSE: 1.0028573632287878\n"
     ]
    }
   ],
   "source": [
    "for i in range(model3_log9.shape[0]):\n",
    "    sqd = ((model3_log9.y_pred[i]-model3_log9.y_true[i])**2)\n",
    "    sq = sq + sqd\n",
    "print(sq)\n",
    "mse = sq/model3_log9.shape[0]\n",
    "rmse = np.sqrt(mse)\n",
    "rmse_3_night_list.append(rmse)\n",
    "rmse_3_list.append(rmse)\n",
    "print(\"model evaluated RMSE:\", rmse)"
   ]
  },
  {
   "cell_type": "code",
   "execution_count": 135,
   "metadata": {
    "colab": {},
    "colab_type": "code",
    "id": "yqyAWngRIhke"
   },
   "outputs": [],
   "source": [
    "def average(variable):\n",
    "    return sum(variable)/len(variable)"
   ]
  },
  {
   "cell_type": "code",
   "execution_count": 136,
   "metadata": {
    "colab": {
     "base_uri": "https://localhost:8080/",
     "height": 68
    },
    "colab_type": "code",
    "id": "o-EAoNqQIhkg",
    "outputId": "d7be0a9f-f045-4366-910d-a0a72f574452"
   },
   "outputs": [
    {
     "name": "stdout",
     "output_type": "stream",
     "text": [
      "Model 3 Day RMSE Avg: 0.778\n",
      "Model 3 Night RMSE Avg: 0.858\n",
      "Model 3 Total RMSE Avg: 0.805\n"
     ]
    }
   ],
   "source": [
    "print('Model 3 Day RMSE Avg: ' + str(round(average(rmse_3_day_list), 3)))\n",
    "print('Model 3 Night RMSE Avg: ' + str(round(average(rmse_3_night_list), 3)))\n",
    "print('Model 3 Total RMSE Avg: ' + str(round(average(rmse_3_list), 3)))"
   ]
  },
  {
   "cell_type": "markdown",
   "metadata": {
    "colab_type": "text",
    "id": "6-YlrOl14W5h"
   },
   "source": [
    "## Final model"
   ]
  },
  {
   "cell_type": "code",
   "execution_count": 137,
   "metadata": {
    "colab": {
     "base_uri": "https://localhost:8080/",
     "height": 204
    },
    "colab_type": "code",
    "id": "kfoQA7hNKCzK",
    "outputId": "02b94ca2-fce5-4eab-ee3e-cec2c112bd4d"
   },
   "outputs": [
    {
     "name": "stdout",
     "output_type": "stream",
     "text": [
      "Model 1 Day RMSE Avg: 0.922\n",
      "Model 1 Night RMSE Avg: 1.031\n",
      "Model 1 Total RMSE Avg: 0.958\n",
      "\n",
      "Model 2 Day RMSE Avg: 0.807\n",
      "Model 2 Night RMSE Avg: 0.892\n",
      "Model 2 Total RMSE Avg: 0.835\n",
      "\n",
      "Model 3 Day RMSE Avg: 0.778\n",
      "Model 3 Night RMSE Avg: 0.858\n",
      "Model 3 Total RMSE Avg: 0.805\n"
     ]
    }
   ],
   "source": [
    "print('Model 1 Day RMSE Avg: ' + str(round(average(rmse_day_list), 3)))\n",
    "print('Model 1 Night RMSE Avg: ' + str(round(average(rmse_night_list), 3)))\n",
    "print('Model 1 Total RMSE Avg: ' + str(round(average(rmse_list), 3)) + '\\n')\n",
    "print('Model 2 Day RMSE Avg: ' + str(round(average(rmse_2_day_list), 3)))\n",
    "print('Model 2 Night RMSE Avg: ' + str(round(average(rmse_2_night_list), 3)))\n",
    "print('Model 2 Total RMSE Avg: ' + str(round(average(rmse_2_list), 3)) + '\\n')\n",
    "print('Model 3 Day RMSE Avg: ' + str(round(average(rmse_3_day_list), 3)))\n",
    "print('Model 3 Night RMSE Avg: ' + str(round(average(rmse_3_night_list), 3)))\n",
    "print('Model 3 Total RMSE Avg: ' + str(round(average(rmse_3_list), 3)))"
   ]
  },
  {
   "cell_type": "code",
   "execution_count": 169,
   "metadata": {
    "colab": {
     "base_uri": "https://localhost:8080/",
     "height": 425
    },
    "colab_type": "code",
    "id": "jN93nQ6jRo-N",
    "outputId": "a26010f6-cdb5-4adb-b35b-5d42a4f23ee5"
   },
   "outputs": [
    {
     "name": "stdout",
     "output_type": "stream",
     "text": [
      "Model: \"sequential_6\"\n",
      "_________________________________________________________________\n",
      "Layer (type)                 Output Shape              Param #   \n",
      "=================================================================\n",
      "conv2d_10 (Conv2D)           (None, 20, 40, 16)        1040      \n",
      "_________________________________________________________________\n",
      "conv2d_11 (Conv2D)           (None, 10, 20, 32)        12832     \n",
      "_________________________________________________________________\n",
      "conv2d_12 (Conv2D)           (None, 5, 10, 64)         51264     \n",
      "_________________________________________________________________\n",
      "flatten_2 (Flatten)          (None, 3200)              0         \n",
      "_________________________________________________________________\n",
      "dropout_3 (Dropout)          (None, 3200)              0         \n",
      "_________________________________________________________________\n",
      "dense_2 (Dense)              (None, 512)               1638912   \n",
      "_________________________________________________________________\n",
      "dropout_4 (Dropout)          (None, 512)               0         \n",
      "_________________________________________________________________\n",
      "dense_3 (Dense)              (None, 1)                 513       \n",
      "=================================================================\n",
      "Total params: 1,704,561\n",
      "Trainable params: 1,704,561\n",
      "Non-trainable params: 0\n",
      "_________________________________________________________________\n"
     ]
    }
   ],
   "source": [
    "# final model summary of layers\n",
    "model_3.summary()"
   ]
  },
  {
   "cell_type": "markdown",
   "metadata": {
    "colab_type": "text",
    "id": "MYfZRRwvKZdG"
   },
   "source": [
    "The evaluation metrics is RMSE looking at the breakdown of the individual model via day, night and total performance on the validation set of every batch of camera and log dataset, the final choosen model is model 3. With an overall `RMSE` of `0.805` this means the error from true steering wheel angle to prediction is `0.805 radian` on average or `46.123 degrees`."
   ]
  },
  {
   "cell_type": "markdown",
   "metadata": {
    "colab_type": "text",
    "id": "ZpCGGmA8LN_R"
   },
   "source": [
    "## Unseen data"
   ]
  },
  {
   "cell_type": "code",
   "execution_count": 138,
   "metadata": {
    "colab": {},
    "colab_type": "code",
    "id": "qZATYRpa4W5h"
   },
   "outputs": [],
   "source": [
    "camera10_night_unseen = load('/content/drive/My Drive/datasets/camera10_cleaned.npz')\n",
    "log10_night_unseen = pd.read_csv('/content/drive/My Drive/datasets/log10_cleaned.csv')"
   ]
  },
  {
   "cell_type": "code",
   "execution_count": 139,
   "metadata": {
    "colab": {},
    "colab_type": "code",
    "id": "YZfhZuWo4W5j"
   },
   "outputs": [],
   "source": [
    "def camera_processing(camera_file, file_name):\n",
    "    # camera file\n",
    "    camera = camera_file.f.arr_0\n",
    "    # convert to float to prevent error\n",
    "    camera = camera.astype('float32')\n",
    "    # regularised pixel \n",
    "    camera = camera/255\n",
    "    # reshape to include single channel for grayscale\n",
    "    camera = camera.reshape(camera.shape[0], camera.shape[1], camera.shape[2], 1)\n",
    "    # save the numpy array as .npz file\n",
    "    savez_compressed(f'/content/drive/My Drive/datasets/{file_name}_processed', camera)\n",
    "\n",
    "    return camera"
   ]
  },
  {
   "cell_type": "code",
   "execution_count": 140,
   "metadata": {
    "colab": {},
    "colab_type": "code",
    "id": "YeAh0cvI4W5l"
   },
   "outputs": [],
   "source": [
    "def log_processing(log_file, file_name):\n",
    "    # convert to radian\n",
    "    log_file['steering_avg_radian'] = log_file['steering_avg'] * np.pi / 180\n",
    "    # drop irrelevant columns\n",
    "    log_file.drop(['times', 'brake_avg', 'speed_avg', 'gas_avg', 'steering_avg'], axis=1, inplace=True)\n",
    "    # rename columns\n",
    "    log_file.rename(columns={'steering_avg_radian': 'y_true'}, inplace=True)\n",
    "    # save the csv file\n",
    "    log_file.to_csv(f'/content/drive/My Drive/datasets/{file_name}_processed.csv', index=False)\n",
    "\n",
    "    return log_file"
   ]
  },
  {
   "cell_type": "code",
   "execution_count": 141,
   "metadata": {
    "colab": {},
    "colab_type": "code",
    "id": "uoiwtXzx4W5s"
   },
   "outputs": [],
   "source": [
    "camera10_night_unseen = camera_processing(camera10_night_unseen, 'camera10')"
   ]
  },
  {
   "cell_type": "code",
   "execution_count": 142,
   "metadata": {
    "colab": {
     "base_uri": "https://localhost:8080/",
     "height": 34
    },
    "colab_type": "code",
    "id": "Ax0C5_bZLwzT",
    "outputId": "6e8dfc42-8661-4e3b-a6d0-3eff9ed13df5"
   },
   "outputs": [
    {
     "data": {
      "text/plain": [
       "(41973, 80, 160, 1)"
      ]
     },
     "execution_count": 142,
     "metadata": {
      "tags": []
     },
     "output_type": "execute_result"
    }
   ],
   "source": [
    "camera10_night_unseen.shape"
   ]
  },
  {
   "cell_type": "code",
   "execution_count": 143,
   "metadata": {
    "colab": {},
    "colab_type": "code",
    "id": "WNBJyxhV4W5x"
   },
   "outputs": [],
   "source": [
    "log10_night_unseen = log_processing(log10_night_unseen, 'log10')"
   ]
  },
  {
   "cell_type": "code",
   "execution_count": 144,
   "metadata": {
    "colab": {
     "base_uri": "https://localhost:8080/",
     "height": 204
    },
    "colab_type": "code",
    "id": "yhQhTQXR4W5z",
    "outputId": "c61c96c1-0a85-43aa-bb3e-3b5359b37cad"
   },
   "outputs": [
    {
     "data": {
      "text/html": [
       "<div>\n",
       "<style scoped>\n",
       "    .dataframe tbody tr th:only-of-type {\n",
       "        vertical-align: middle;\n",
       "    }\n",
       "\n",
       "    .dataframe tbody tr th {\n",
       "        vertical-align: top;\n",
       "    }\n",
       "\n",
       "    .dataframe thead th {\n",
       "        text-align: right;\n",
       "    }\n",
       "</style>\n",
       "<table border=\"1\" class=\"dataframe\">\n",
       "  <thead>\n",
       "    <tr style=\"text-align: right;\">\n",
       "      <th></th>\n",
       "      <th>cam1_ptr</th>\n",
       "      <th>y_true</th>\n",
       "    </tr>\n",
       "  </thead>\n",
       "  <tbody>\n",
       "    <tr>\n",
       "      <th>0</th>\n",
       "      <td>1400.0</td>\n",
       "      <td>2.458457</td>\n",
       "    </tr>\n",
       "    <tr>\n",
       "      <th>1</th>\n",
       "      <td>1401.0</td>\n",
       "      <td>2.515180</td>\n",
       "    </tr>\n",
       "    <tr>\n",
       "      <th>2</th>\n",
       "      <td>1402.0</td>\n",
       "      <td>2.536196</td>\n",
       "    </tr>\n",
       "    <tr>\n",
       "      <th>3</th>\n",
       "      <td>1403.0</td>\n",
       "      <td>2.392565</td>\n",
       "    </tr>\n",
       "    <tr>\n",
       "      <th>4</th>\n",
       "      <td>1404.0</td>\n",
       "      <td>2.069322</td>\n",
       "    </tr>\n",
       "  </tbody>\n",
       "</table>\n",
       "</div>"
      ],
      "text/plain": [
       "   cam1_ptr    y_true\n",
       "0    1400.0  2.458457\n",
       "1    1401.0  2.515180\n",
       "2    1402.0  2.536196\n",
       "3    1403.0  2.392565\n",
       "4    1404.0  2.069322"
      ]
     },
     "execution_count": 144,
     "metadata": {
      "tags": []
     },
     "output_type": "execute_result"
    }
   ],
   "source": [
    "log10_night_unseen.head()"
   ]
  },
  {
   "cell_type": "code",
   "execution_count": 145,
   "metadata": {
    "colab": {},
    "colab_type": "code",
    "id": "Pw9VCBCI4W51"
   },
   "outputs": [],
   "source": [
    "camera11_day_unseen = load('/content/drive/My Drive/datasets/camera11_cleaned.npz')\n",
    "log11_day_unseen = pd.read_csv('/content/drive/My Drive/datasets/log11_cleaned.csv')"
   ]
  },
  {
   "cell_type": "code",
   "execution_count": 146,
   "metadata": {
    "colab": {},
    "colab_type": "code",
    "id": "jgw21vHxn4XT"
   },
   "outputs": [],
   "source": [
    "camera11_day_unseen = camera_processing(camera11_day_unseen, 'camera11')"
   ]
  },
  {
   "cell_type": "code",
   "execution_count": 147,
   "metadata": {
    "colab": {
     "base_uri": "https://localhost:8080/",
     "height": 34
    },
    "colab_type": "code",
    "id": "XvJMIW-boOtW",
    "outputId": "c6896bfd-17fe-45f9-ff26-d0799c2952d6"
   },
   "outputs": [
    {
     "data": {
      "text/plain": [
       "(15375, 80, 160, 1)"
      ]
     },
     "execution_count": 147,
     "metadata": {
      "tags": []
     },
     "output_type": "execute_result"
    }
   ],
   "source": [
    "camera11_day_unseen.shape"
   ]
  },
  {
   "cell_type": "code",
   "execution_count": 148,
   "metadata": {
    "colab": {},
    "colab_type": "code",
    "id": "dfedBdhJMPd8"
   },
   "outputs": [],
   "source": [
    "log11_day_unseen = log_processing(log11_day_unseen, 'log11')"
   ]
  },
  {
   "cell_type": "code",
   "execution_count": 149,
   "metadata": {
    "colab": {
     "base_uri": "https://localhost:8080/",
     "height": 204
    },
    "colab_type": "code",
    "id": "xNmBwwINMV45",
    "outputId": "a899befa-8695-45e4-d304-01bd4e3b78d4"
   },
   "outputs": [
    {
     "data": {
      "text/html": [
       "<div>\n",
       "<style scoped>\n",
       "    .dataframe tbody tr th:only-of-type {\n",
       "        vertical-align: middle;\n",
       "    }\n",
       "\n",
       "    .dataframe tbody tr th {\n",
       "        vertical-align: top;\n",
       "    }\n",
       "\n",
       "    .dataframe thead th {\n",
       "        text-align: right;\n",
       "    }\n",
       "</style>\n",
       "<table border=\"1\" class=\"dataframe\">\n",
       "  <thead>\n",
       "    <tr style=\"text-align: right;\">\n",
       "      <th></th>\n",
       "      <th>cam1_ptr</th>\n",
       "      <th>y_true</th>\n",
       "    </tr>\n",
       "  </thead>\n",
       "  <tbody>\n",
       "    <tr>\n",
       "      <th>0</th>\n",
       "      <td>1400.0</td>\n",
       "      <td>0.397824</td>\n",
       "    </tr>\n",
       "    <tr>\n",
       "      <th>1</th>\n",
       "      <td>1401.0</td>\n",
       "      <td>0.197212</td>\n",
       "    </tr>\n",
       "    <tr>\n",
       "      <th>2</th>\n",
       "      <td>1402.0</td>\n",
       "      <td>0.030947</td>\n",
       "    </tr>\n",
       "    <tr>\n",
       "      <th>3</th>\n",
       "      <td>1403.0</td>\n",
       "      <td>-0.003187</td>\n",
       "    </tr>\n",
       "    <tr>\n",
       "      <th>4</th>\n",
       "      <td>1404.0</td>\n",
       "      <td>0.000000</td>\n",
       "    </tr>\n",
       "  </tbody>\n",
       "</table>\n",
       "</div>"
      ],
      "text/plain": [
       "   cam1_ptr    y_true\n",
       "0    1400.0  0.397824\n",
       "1    1401.0  0.197212\n",
       "2    1402.0  0.030947\n",
       "3    1403.0 -0.003187\n",
       "4    1404.0  0.000000"
      ]
     },
     "execution_count": 149,
     "metadata": {
      "tags": []
     },
     "output_type": "execute_result"
    }
   ],
   "source": [
    "log11_day_unseen.head()"
   ]
  },
  {
   "cell_type": "code",
   "execution_count": 150,
   "metadata": {
    "colab": {},
    "colab_type": "code",
    "id": "eEIK9_EmokP9"
   },
   "outputs": [],
   "source": [
    "model_final = load_model('/content/drive/My Drive/epochs/model_3_9_camera7.0020-0.0404.h5')"
   ]
  },
  {
   "cell_type": "code",
   "execution_count": 151,
   "metadata": {
    "colab": {},
    "colab_type": "code",
    "id": "2oh0iON4MhrT"
   },
   "outputs": [],
   "source": [
    "y_pred_night = model_final.predict(camera10_night_unseen)"
   ]
  },
  {
   "cell_type": "code",
   "execution_count": 153,
   "metadata": {
    "colab": {},
    "colab_type": "code",
    "id": "4694MW8yMulw"
   },
   "outputs": [],
   "source": [
    "y_pred_night = y_pred_night.reshape(y_pred_night.shape[0])"
   ]
  },
  {
   "cell_type": "code",
   "execution_count": 155,
   "metadata": {
    "colab": {},
    "colab_type": "code",
    "id": "GHNuOMnXM7ll"
   },
   "outputs": [],
   "source": [
    "log10_night_unseen['y_pred'] = y_pred_night"
   ]
  },
  {
   "cell_type": "code",
   "execution_count": 157,
   "metadata": {
    "colab": {
     "base_uri": "https://localhost:8080/",
     "height": 51
    },
    "colab_type": "code",
    "id": "HVhPR_bTNJBP",
    "outputId": "1bf83e3e-aa82-409c-9095-de52f1936502"
   },
   "outputs": [
    {
     "name": "stdout",
     "output_type": "stream",
     "text": [
      "14638.350387009103\n",
      "model evaluated RMSE: 0.5905559690529093\n"
     ]
    }
   ],
   "source": [
    "sq = 0\n",
    "mse = 0\n",
    "for i in range(log10_night_unseen.shape[0]):\n",
    "    sqd = ((log10_night_unseen.y_pred[i]-log10_night_unseen.y_true[i])**2)\n",
    "    sq = sq + sqd\n",
    "print(sq)\n",
    "mse = sq/log10_night_unseen.shape[0]\n",
    "rmse = np.sqrt(mse)\n",
    "print(\"model evaluated RMSE:\", rmse)"
   ]
  },
  {
   "cell_type": "code",
   "execution_count": 159,
   "metadata": {
    "colab": {},
    "colab_type": "code",
    "id": "JsOg_s7BNjC3"
   },
   "outputs": [],
   "source": [
    "log10_night_unseen['delta'] = log10_night_unseen['y_pred'] - log10_night_unseen['y_true']"
   ]
  },
  {
   "cell_type": "code",
   "execution_count": 160,
   "metadata": {
    "colab": {
     "base_uri": "https://localhost:8080/",
     "height": 204
    },
    "colab_type": "code",
    "id": "FIrdoq0zNyU-",
    "outputId": "4c73ee52-be6c-49ae-f338-b21d49d57f5e"
   },
   "outputs": [
    {
     "data": {
      "text/html": [
       "<div>\n",
       "<style scoped>\n",
       "    .dataframe tbody tr th:only-of-type {\n",
       "        vertical-align: middle;\n",
       "    }\n",
       "\n",
       "    .dataframe tbody tr th {\n",
       "        vertical-align: top;\n",
       "    }\n",
       "\n",
       "    .dataframe thead th {\n",
       "        text-align: right;\n",
       "    }\n",
       "</style>\n",
       "<table border=\"1\" class=\"dataframe\">\n",
       "  <thead>\n",
       "    <tr style=\"text-align: right;\">\n",
       "      <th></th>\n",
       "      <th>cam1_ptr</th>\n",
       "      <th>y_true</th>\n",
       "      <th>y_pred</th>\n",
       "      <th>delta</th>\n",
       "    </tr>\n",
       "  </thead>\n",
       "  <tbody>\n",
       "    <tr>\n",
       "      <th>0</th>\n",
       "      <td>1400.0</td>\n",
       "      <td>2.458457</td>\n",
       "      <td>-0.000299</td>\n",
       "      <td>-2.458756</td>\n",
       "    </tr>\n",
       "    <tr>\n",
       "      <th>1</th>\n",
       "      <td>1401.0</td>\n",
       "      <td>2.515180</td>\n",
       "      <td>-0.000299</td>\n",
       "      <td>-2.515479</td>\n",
       "    </tr>\n",
       "    <tr>\n",
       "      <th>2</th>\n",
       "      <td>1402.0</td>\n",
       "      <td>2.536196</td>\n",
       "      <td>-0.000299</td>\n",
       "      <td>-2.536496</td>\n",
       "    </tr>\n",
       "    <tr>\n",
       "      <th>3</th>\n",
       "      <td>1403.0</td>\n",
       "      <td>2.392565</td>\n",
       "      <td>-0.000299</td>\n",
       "      <td>-2.392865</td>\n",
       "    </tr>\n",
       "    <tr>\n",
       "      <th>4</th>\n",
       "      <td>1404.0</td>\n",
       "      <td>2.069322</td>\n",
       "      <td>-0.000299</td>\n",
       "      <td>-2.069622</td>\n",
       "    </tr>\n",
       "  </tbody>\n",
       "</table>\n",
       "</div>"
      ],
      "text/plain": [
       "   cam1_ptr    y_true    y_pred     delta\n",
       "0    1400.0  2.458457 -0.000299 -2.458756\n",
       "1    1401.0  2.515180 -0.000299 -2.515479\n",
       "2    1402.0  2.536196 -0.000299 -2.536496\n",
       "3    1403.0  2.392565 -0.000299 -2.392865\n",
       "4    1404.0  2.069322 -0.000299 -2.069622"
      ]
     },
     "execution_count": 160,
     "metadata": {
      "tags": []
     },
     "output_type": "execute_result"
    }
   ],
   "source": [
    "log10_night_unseen.head()"
   ]
  },
  {
   "cell_type": "code",
   "execution_count": 163,
   "metadata": {
    "colab": {},
    "colab_type": "code",
    "id": "yPstm55XOJYH"
   },
   "outputs": [],
   "source": [
    "log10_night_unseen['threshold'] = np.where(abs(log10_night_unseen['delta']) < 0.1, True, False)"
   ]
  },
  {
   "cell_type": "code",
   "execution_count": 164,
   "metadata": {
    "colab": {
     "base_uri": "https://localhost:8080/",
     "height": 68
    },
    "colab_type": "code",
    "id": "srI4Q7MmOJYN",
    "outputId": "70eb03e6-b139-42a2-a8e5-24188ab4c459"
   },
   "outputs": [
    {
     "data": {
      "text/plain": [
       "True     36260\n",
       "False     5713\n",
       "Name: threshold, dtype: int64"
      ]
     },
     "execution_count": 164,
     "metadata": {
      "tags": []
     },
     "output_type": "execute_result"
    }
   ],
   "source": [
    "log10_night_unseen['threshold'].value_counts()"
   ]
  },
  {
   "cell_type": "code",
   "execution_count": 152,
   "metadata": {
    "colab": {},
    "colab_type": "code",
    "id": "vGjPmELQpktg"
   },
   "outputs": [],
   "source": [
    "y_pred_day = model_final.predict(camera11_day_unseen)"
   ]
  },
  {
   "cell_type": "code",
   "execution_count": 154,
   "metadata": {
    "colab": {},
    "colab_type": "code",
    "id": "J1wQRuv8M1Un"
   },
   "outputs": [],
   "source": [
    "y_pred_day = y_pred_day.reshape(y_pred_day.shape[0])"
   ]
  },
  {
   "cell_type": "code",
   "execution_count": 156,
   "metadata": {
    "colab": {},
    "colab_type": "code",
    "id": "rO37-0AquVqh"
   },
   "outputs": [],
   "source": [
    "log11_day_unseen['y_pred'] = y_pred_day"
   ]
  },
  {
   "cell_type": "code",
   "execution_count": 158,
   "metadata": {
    "colab": {
     "base_uri": "https://localhost:8080/",
     "height": 51
    },
    "colab_type": "code",
    "id": "nXN9oPbeuJh4",
    "outputId": "01f5ea91-f2cd-46fa-b477-100b353d7b57"
   },
   "outputs": [
    {
     "name": "stdout",
     "output_type": "stream",
     "text": [
      "2317.322857170183\n",
      "model evaluated RMSE: 0.38822697720818816\n"
     ]
    }
   ],
   "source": [
    "sq = 0\n",
    "mse = 0\n",
    "for i in range(log11_day_unseen.shape[0]):\n",
    "    sqd = ((log11_day_unseen.y_pred[i]-log11_day_unseen.y_true[i])**2)\n",
    "    sq = sq + sqd\n",
    "print(sq)\n",
    "mse = sq/log11_day_unseen.shape[0]\n",
    "rmse = np.sqrt(mse)\n",
    "print(\"model evaluated RMSE:\", rmse)"
   ]
  },
  {
   "cell_type": "code",
   "execution_count": 161,
   "metadata": {
    "colab": {},
    "colab_type": "code",
    "id": "U3nsSFgcN7UT"
   },
   "outputs": [],
   "source": [
    "log11_day_unseen['delta'] = log11_day_unseen['y_pred'] - log11_day_unseen['y_true']"
   ]
  },
  {
   "cell_type": "code",
   "execution_count": 162,
   "metadata": {
    "colab": {
     "base_uri": "https://localhost:8080/",
     "height": 204
    },
    "colab_type": "code",
    "id": "NZxAfgVMOBkj",
    "outputId": "1492bc0d-084f-43af-b665-80ea5fd406ca"
   },
   "outputs": [
    {
     "data": {
      "text/html": [
       "<div>\n",
       "<style scoped>\n",
       "    .dataframe tbody tr th:only-of-type {\n",
       "        vertical-align: middle;\n",
       "    }\n",
       "\n",
       "    .dataframe tbody tr th {\n",
       "        vertical-align: top;\n",
       "    }\n",
       "\n",
       "    .dataframe thead th {\n",
       "        text-align: right;\n",
       "    }\n",
       "</style>\n",
       "<table border=\"1\" class=\"dataframe\">\n",
       "  <thead>\n",
       "    <tr style=\"text-align: right;\">\n",
       "      <th></th>\n",
       "      <th>cam1_ptr</th>\n",
       "      <th>y_true</th>\n",
       "      <th>y_pred</th>\n",
       "      <th>delta</th>\n",
       "    </tr>\n",
       "  </thead>\n",
       "  <tbody>\n",
       "    <tr>\n",
       "      <th>0</th>\n",
       "      <td>1400.0</td>\n",
       "      <td>0.397824</td>\n",
       "      <td>-0.000299</td>\n",
       "      <td>-0.398123</td>\n",
       "    </tr>\n",
       "    <tr>\n",
       "      <th>1</th>\n",
       "      <td>1401.0</td>\n",
       "      <td>0.197212</td>\n",
       "      <td>-0.000299</td>\n",
       "      <td>-0.197512</td>\n",
       "    </tr>\n",
       "    <tr>\n",
       "      <th>2</th>\n",
       "      <td>1402.0</td>\n",
       "      <td>0.030947</td>\n",
       "      <td>-0.000299</td>\n",
       "      <td>-0.031246</td>\n",
       "    </tr>\n",
       "    <tr>\n",
       "      <th>3</th>\n",
       "      <td>1403.0</td>\n",
       "      <td>-0.003187</td>\n",
       "      <td>-0.000299</td>\n",
       "      <td>0.002887</td>\n",
       "    </tr>\n",
       "    <tr>\n",
       "      <th>4</th>\n",
       "      <td>1404.0</td>\n",
       "      <td>0.000000</td>\n",
       "      <td>-0.000299</td>\n",
       "      <td>-0.000299</td>\n",
       "    </tr>\n",
       "  </tbody>\n",
       "</table>\n",
       "</div>"
      ],
      "text/plain": [
       "   cam1_ptr    y_true    y_pred     delta\n",
       "0    1400.0  0.397824 -0.000299 -0.398123\n",
       "1    1401.0  0.197212 -0.000299 -0.197512\n",
       "2    1402.0  0.030947 -0.000299 -0.031246\n",
       "3    1403.0 -0.003187 -0.000299  0.002887\n",
       "4    1404.0  0.000000 -0.000299 -0.000299"
      ]
     },
     "execution_count": 162,
     "metadata": {
      "tags": []
     },
     "output_type": "execute_result"
    }
   ],
   "source": [
    "log11_day_unseen.head()"
   ]
  },
  {
   "cell_type": "code",
   "execution_count": 165,
   "metadata": {
    "colab": {},
    "colab_type": "code",
    "id": "2wzEwAgZOTdN"
   },
   "outputs": [],
   "source": [
    "log11_day_unseen['threshold'] = np.where(abs(log11_day_unseen['delta']) < 0.1, True, False)"
   ]
  },
  {
   "cell_type": "code",
   "execution_count": 166,
   "metadata": {
    "colab": {
     "base_uri": "https://localhost:8080/",
     "height": 68
    },
    "colab_type": "code",
    "id": "91SVADstOTdP",
    "outputId": "b3ba29ca-1fbb-44c9-9646-75ee1dc02b2f"
   },
   "outputs": [
    {
     "data": {
      "text/plain": [
       "True     12108\n",
       "False     3267\n",
       "Name: threshold, dtype: int64"
      ]
     },
     "execution_count": 166,
     "metadata": {
      "tags": []
     },
     "output_type": "execute_result"
    }
   ],
   "source": [
    "log11_day_unseen['threshold'].value_counts()"
   ]
  },
  {
   "cell_type": "code",
   "execution_count": 167,
   "metadata": {
    "colab": {},
    "colab_type": "code",
    "id": "UZ7Tw7vo4UXD"
   },
   "outputs": [],
   "source": [
    "log10_night_unseen.to_csv('/content/drive/My Drive/datasets/model_final_prediction_night.csv', index=False)"
   ]
  },
  {
   "cell_type": "code",
   "execution_count": 168,
   "metadata": {
    "colab": {},
    "colab_type": "code",
    "id": "r5Eau2VNPWpo"
   },
   "outputs": [],
   "source": [
    "log11_day_unseen.to_csv('/content/drive/My Drive/datasets/model_final_prediction_day.csv', index=False)"
   ]
  },
  {
   "cell_type": "markdown",
   "metadata": {},
   "source": [
    "The final model was able to perform much better than on our overall validation `RSME: 0.805`. On the day driving `camera11` dataset, it was able to achieve a score of `RSME:0.388` and on the night driving `camera10` it was able to achieve a score of `RSME:0.591`. This means that the model is likely capable of generalising well to unseen data and that there is no overfitting. However, huge inaccuracies for large steering angle is still a concern and has to be rectified in future projects."
   ]
  },
  {
   "cell_type": "markdown",
   "metadata": {},
   "source": [
    "## Conclusion and Recommendations"
   ]
  },
  {
   "cell_type": "markdown",
   "metadata": {},
   "source": [
    "The steering prediction problem is form of regression problems. It has unique charateristics of requiring consistent, but with margin of tolerance of inaccuracy. The current regim of neural network training works but the evaluation of the performance is not straightforward and requires more in-depth knowledge on deep learning models to implement better architecture.\n",
    "\n",
    "During the course of the project, the various obstacles and problem faced has allowed me to gain a greater understanding of the difficulty in solving self-driving cars and. The detailed examinations of the predictions compared to the target steering shows alarming inaccuracy.\n",
    "\n",
    "Although, I was able to predict accurately for majority of the highway driving due to the roads turning curvature being less steep than city driving. The model failed terribly at predicting large steering angle below are some recommendations on how to further improve performance and understand/learn about the problem and obstacles faced.\n",
    "\n",
    "- Adding lane lines detection would enable the neural networks to have boundaries/safety zone, hence, when the prediction requires the vehicle to turn beyond the safety zone the hardcoded logic would step as human drive to take over.\n",
    "- Edge detection algorithm can also be utilised to further reduce the data size and to provide safety boundries at the same time.\n",
    "- Additional inputs should be applied like speed, gas throttle and braking. As the function of steering angle are inter-dependent when a human is driving apart from just vision (images).\n",
    "- Intuitively I feel that different modules of the self-driving car must work in tandem to allow the car to driving safely, an example would be a neural network that detects road surfaces, then detecting lanes and finally predicting the steering angle.\n",
    "- Maybe, an alternative network architecture to have more constraints on the output of the neural network so that it's less likely to produce opposite steering predictions, such as using multiple output nodes to vote for steering control."
   ]
  },
  {
   "cell_type": "markdown",
   "metadata": {},
   "source": [
    "## References"
   ]
  },
  {
   "cell_type": "markdown",
   "metadata": {},
   "source": [
    "- Udacity Self Driving Challenger [Link](https://github.com/udacity/self-driving-car/tree/master/challenges/challenge-2)\n",
    "- comma.ai [Link](https://github.com/commaai/research)\n",
    "- Nvidia End-to-End Deep Learning for Self-Driving Cars [Link](https://developer.nvidia.com/blog/deep-learning-self-driving-cars/)"
   ]
  }
 ],
 "metadata": {
  "accelerator": "GPU",
  "colab": {
   "collapsed_sections": [],
   "name": "03_conclusion_and_recommendation desktop.ipynb",
   "provenance": []
  },
  "kernelspec": {
   "display_name": "Python 3",
   "language": "python",
   "name": "python3"
  },
  "language_info": {
   "codemirror_mode": {
    "name": "ipython",
    "version": 3
   },
   "file_extension": ".py",
   "mimetype": "text/x-python",
   "name": "python",
   "nbconvert_exporter": "python",
   "pygments_lexer": "ipython3",
   "version": "3.7.6"
  }
 },
 "nbformat": 4,
 "nbformat_minor": 1
}
