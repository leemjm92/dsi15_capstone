{
 "cells": [
  {
   "cell_type": "code",
   "execution_count": 1,
   "metadata": {
    "colab": {
     "base_uri": "https://localhost:8080/",
     "height": 122
    },
    "colab_type": "code",
    "id": "hNJ5lbfWQiQN",
    "outputId": "79729677-49c4-48cf-aa21-e25b5b3e842c"
   },
   "outputs": [
    {
     "name": "stdout",
     "output_type": "stream",
     "text": [
      "Go to this URL in a browser: https://accounts.google.com/o/oauth2/auth?client_id=947318989803-6bn6qk8qdgf4n4g3pfee6491hc0brc4i.apps.googleusercontent.com&redirect_uri=urn%3aietf%3awg%3aoauth%3a2.0%3aoob&response_type=code&scope=email%20https%3a%2f%2fwww.googleapis.com%2fauth%2fdocs.test%20https%3a%2f%2fwww.googleapis.com%2fauth%2fdrive%20https%3a%2f%2fwww.googleapis.com%2fauth%2fdrive.photos.readonly%20https%3a%2f%2fwww.googleapis.com%2fauth%2fpeopleapi.readonly\n",
      "\n",
      "Enter your authorization code:\n",
      "··········\n",
      "Mounted at /content/drive\n"
     ]
    }
   ],
   "source": [
    "from google.colab import drive\n",
    "drive.mount('/content/drive')"
   ]
  },
  {
   "cell_type": "code",
   "execution_count": 2,
   "metadata": {
    "colab": {},
    "colab_type": "code",
    "id": "c7bjQDUMQsld"
   },
   "outputs": [],
   "source": [
    "import numpy as np\n",
    "import matplotlib.pyplot as plt\n",
    "import pandas as pd\n",
    "from numpy import load\n",
    "from numpy import asarray\n",
    "from numpy import savez_compressed\n",
    "\n",
    "from sklearn.model_selection import train_test_split\n",
    "from keras.models import Sequential\n",
    "from keras.layers import Dense, Dropout, Activation, Flatten\n",
    "from keras.layers import Conv2D, MaxPooling2D\n",
    "from keras.optimizers import Adam\n",
    "from keras.metrics import RootMeanSquaredError\n",
    "from keras.models import load_model\n",
    "from keras.callbacks import *\n",
    "\n",
    "%matplotlib inline"
   ]
  },
  {
   "cell_type": "code",
   "execution_count": null,
   "metadata": {
    "colab": {},
    "colab_type": "code",
    "id": "vvLClzk1L-RZ"
   },
   "outputs": [],
   "source": [
    "###################################### loading new data"
   ]
  },
  {
   "cell_type": "code",
   "execution_count": null,
   "metadata": {
    "colab": {},
    "colab_type": "code",
    "id": "SBeoRM7fE4Mz"
   },
   "outputs": [],
   "source": [
    "camera2 = load('/content/drive/My Drive/datasets/camera2_cleaned.npz')\n",
    "log2 = pd.read_csv('/content/drive/My Drive/datasets/nedlog2_clea.csv')"
   ]
  },
  {
   "cell_type": "code",
   "execution_count": 3,
   "metadata": {
    "colab": {},
    "colab_type": "code",
    "id": "UwFrdp3mFZOl"
   },
   "outputs": [],
   "source": [
    "def camera_processing(camera_file, file_name):\n",
    "\n",
    "  # camera file\n",
    "  camera = camera_file.f.arr_0\n",
    "  camera = camera.astype('float32')\n",
    "  camera = camera/255\n",
    "  camera = camera.reshape(camera.shape[0], camera.shape[1], camera.shape[2], 1)\n",
    "  savez_compressed(f'/content/drive/My Drive/datasets/{file_name}_train', camera)\n",
    "  \n",
    "  return print('Done')"
   ]
  },
  {
   "cell_type": "code",
   "execution_count": 4,
   "metadata": {
    "colab": {},
    "colab_type": "code",
    "id": "_9XhT7WDHcjB"
   },
   "outputs": [],
   "source": [
    "def log_processing(log_file, file_name):\n",
    "  log_file['steering_avg_radian'] = log_file['steering_avg'] * np.pi / 180\n",
    "  log_file.to_csv(f'/content/drive/My Drive/datasets/{file_name}_train.csv')\n",
    "\n",
    "  return print('Done')"
   ]
  },
  {
   "cell_type": "code",
   "execution_count": null,
   "metadata": {
    "colab": {},
    "colab_type": "code",
    "id": "RtqZ9KcL6CJP"
   },
   "outputs": [],
   "source": [
    "camera_processing(camera2, 'camera2')"
   ]
  },
  {
   "cell_type": "code",
   "execution_count": null,
   "metadata": {
    "colab": {
     "base_uri": "https://localhost:8080/",
     "height": 34
    },
    "colab_type": "code",
    "id": "xzXiazPlHvJO",
    "outputId": "2ec53c49-3ecb-46d1-926d-e0014cb758ec"
   },
   "outputs": [
    {
     "name": "stdout",
     "output_type": "stream",
     "text": [
      "Done\n"
     ]
    }
   ],
   "source": [
    "log_processing(log2, 'log2')"
   ]
  },
  {
   "cell_type": "code",
   "execution_count": 5,
   "metadata": {
    "colab": {},
    "colab_type": "code",
    "id": "5N38iUlPKRCt"
   },
   "outputs": [],
   "source": [
    "def train_split(camera_file_name, log_file_name):\n",
    "  # load camera file\n",
    "  X = load(f'/content/drive/My Drive/datasets/{camera_file_name}_train.npz')\n",
    "  X = X.f.arr_0\n",
    "  # load log file\n",
    "  log = pd.read_csv(f'/content/drive/My Drive/datasets/{log_file_name}_train.csv')\n",
    "  y = log['steering_avg_radian']\n",
    "  y = y.to_numpy()\n",
    "  y = y.reshape(y.shape[0], 1)\n",
    "  # train test split\n",
    "  X_train, X_test, y_train, y_test = train_test_split(X, y, test_size=0.2, shuffle=True)\n",
    "  # save them into individual file doing so due to ram management\n",
    "  savez_compressed(f'/content/drive/My Drive/datasets/{camera_file_name}_X_train', X_train)\n",
    "  savez_compressed(f'/content/drive/My Drive/datasets/{camera_file_name}_X_test', X_test)\n",
    "  savez_compressed(f'/content/drive/My Drive/datasets/{camera_file_name}_y_train', y_train)\n",
    "  savez_compressed(f'/content/drive/My Drive/datasets/{camera_file_name}_y_test', y_test)\n",
    "\n",
    "  return print('Done')"
   ]
  },
  {
   "cell_type": "code",
   "execution_count": null,
   "metadata": {
    "colab": {
     "base_uri": "https://localhost:8080/",
     "height": 34
    },
    "colab_type": "code",
    "id": "3GoMUo6QMGIW",
    "outputId": "eec80b8c-f779-4b4e-b2c9-a2f7d91a208a"
   },
   "outputs": [
    {
     "name": "stdout",
     "output_type": "stream",
     "text": [
      "Done\n"
     ]
    }
   ],
   "source": [
    "train_split('camera2', 'log2')"
   ]
  },
  {
   "cell_type": "code",
   "execution_count": null,
   "metadata": {
    "colab": {},
    "colab_type": "code",
    "id": "ZJwoisHPHDxX"
   },
   "outputs": [],
   "source": [
    "#  # log file\n",
    "#   log_file['steering_avg_radian'] = log_file['steering_avg'] * np.pi / 180\n",
    "#   y = log_file['steering_avg_radian']\n",
    "#   y = y.to_numpy"
   ]
  },
  {
   "cell_type": "code",
   "execution_count": null,
   "metadata": {
    "colab": {},
    "colab_type": "code",
    "id": "DLefRkhuMG2b"
   },
   "outputs": [],
   "source": [
    "############################# end of loading new data"
   ]
  },
  {
   "cell_type": "code",
   "execution_count": null,
   "metadata": {
    "colab": {},
    "colab_type": "code",
    "id": "wYHnAw98gZ7F"
   },
   "outputs": [],
   "source": [
    "X = X.f.arr_0"
   ]
  },
  {
   "cell_type": "code",
   "execution_count": null,
   "metadata": {
    "colab": {
     "base_uri": "https://localhost:8080/",
     "height": 34
    },
    "colab_type": "code",
    "id": "bqnlO2vtgheh",
    "outputId": "f82b4ef6-f5f7-4d9f-d715-3eba949476af"
   },
   "outputs": [
    {
     "data": {
      "text/plain": [
       "(51254, 80, 160, 1)"
      ]
     },
     "execution_count": 7,
     "metadata": {
      "tags": []
     },
     "output_type": "execute_result"
    }
   ],
   "source": [
    "X.shape"
   ]
  },
  {
   "cell_type": "code",
   "execution_count": null,
   "metadata": {
    "colab": {},
    "colab_type": "code",
    "id": "eCSIsZJTfH7D"
   },
   "outputs": [],
   "source": [
    "log1 = pd.read_csv('/content/drive/My Drive/log1_full.csv')"
   ]
  },
  {
   "cell_type": "code",
   "execution_count": null,
   "metadata": {
    "colab": {
     "base_uri": "https://localhost:8080/",
     "height": 204
    },
    "colab_type": "code",
    "id": "r-kv287eYLc9",
    "outputId": "3ae3e5ac-4410-4f25-eea2-d1cec70b4149"
   },
   "outputs": [
    {
     "data": {
      "text/html": [
       "<div>\n",
       "<style scoped>\n",
       "    .dataframe tbody tr th:only-of-type {\n",
       "        vertical-align: middle;\n",
       "    }\n",
       "\n",
       "    .dataframe tbody tr th {\n",
       "        vertical-align: top;\n",
       "    }\n",
       "\n",
       "    .dataframe thead th {\n",
       "        text-align: right;\n",
       "    }\n",
       "</style>\n",
       "<table border=\"1\" class=\"dataframe\">\n",
       "  <thead>\n",
       "    <tr style=\"text-align: right;\">\n",
       "      <th></th>\n",
       "      <th>cam1_ptr</th>\n",
       "      <th>times</th>\n",
       "      <th>steering_avg</th>\n",
       "      <th>brake_avg</th>\n",
       "      <th>speed_avg</th>\n",
       "      <th>gas_avg</th>\n",
       "    </tr>\n",
       "  </thead>\n",
       "  <tbody>\n",
       "    <tr>\n",
       "      <th>0</th>\n",
       "      <td>993.0</td>\n",
       "      <td>50.01</td>\n",
       "      <td>-7.115795</td>\n",
       "      <td>224.000000</td>\n",
       "      <td>7.115528</td>\n",
       "      <td>0.0</td>\n",
       "    </tr>\n",
       "    <tr>\n",
       "      <th>1</th>\n",
       "      <td>994.0</td>\n",
       "      <td>50.06</td>\n",
       "      <td>-17.286372</td>\n",
       "      <td>224.000000</td>\n",
       "      <td>7.117313</td>\n",
       "      <td>0.0</td>\n",
       "    </tr>\n",
       "    <tr>\n",
       "      <th>2</th>\n",
       "      <td>995.0</td>\n",
       "      <td>50.11</td>\n",
       "      <td>-17.658316</td>\n",
       "      <td>224.000000</td>\n",
       "      <td>7.190218</td>\n",
       "      <td>0.0</td>\n",
       "    </tr>\n",
       "    <tr>\n",
       "      <th>3</th>\n",
       "      <td>996.0</td>\n",
       "      <td>50.16</td>\n",
       "      <td>-9.442221</td>\n",
       "      <td>235.729266</td>\n",
       "      <td>7.183124</td>\n",
       "      <td>0.0</td>\n",
       "    </tr>\n",
       "    <tr>\n",
       "      <th>4</th>\n",
       "      <td>997.0</td>\n",
       "      <td>50.21</td>\n",
       "      <td>-4.526009</td>\n",
       "      <td>240.000000</td>\n",
       "      <td>7.216970</td>\n",
       "      <td>0.0</td>\n",
       "    </tr>\n",
       "  </tbody>\n",
       "</table>\n",
       "</div>"
      ],
      "text/plain": [
       "   cam1_ptr  times  steering_avg   brake_avg  speed_avg  gas_avg\n",
       "0     993.0  50.01     -7.115795  224.000000   7.115528      0.0\n",
       "1     994.0  50.06    -17.286372  224.000000   7.117313      0.0\n",
       "2     995.0  50.11    -17.658316  224.000000   7.190218      0.0\n",
       "3     996.0  50.16     -9.442221  235.729266   7.183124      0.0\n",
       "4     997.0  50.21     -4.526009  240.000000   7.216970      0.0"
      ]
     },
     "execution_count": 11,
     "metadata": {
      "tags": []
     },
     "output_type": "execute_result"
    }
   ],
   "source": [
    "log1.head()"
   ]
  },
  {
   "cell_type": "code",
   "execution_count": null,
   "metadata": {
    "colab": {},
    "colab_type": "code",
    "id": "5w_hOlGSamj-"
   },
   "outputs": [],
   "source": [
    "# convert the angle from degree to radian\n",
    "log1['steering_avg_radian'] = log1['steering_avg'] * np.pi / 180"
   ]
  },
  {
   "cell_type": "code",
   "execution_count": null,
   "metadata": {
    "colab": {
     "base_uri": "https://localhost:8080/",
     "height": 204
    },
    "colab_type": "code",
    "id": "W8rjlmTha7xG",
    "outputId": "8c378b59-f1d0-4056-8611-aeceddf65712"
   },
   "outputs": [
    {
     "data": {
      "text/html": [
       "<div>\n",
       "<style scoped>\n",
       "    .dataframe tbody tr th:only-of-type {\n",
       "        vertical-align: middle;\n",
       "    }\n",
       "\n",
       "    .dataframe tbody tr th {\n",
       "        vertical-align: top;\n",
       "    }\n",
       "\n",
       "    .dataframe thead th {\n",
       "        text-align: right;\n",
       "    }\n",
       "</style>\n",
       "<table border=\"1\" class=\"dataframe\">\n",
       "  <thead>\n",
       "    <tr style=\"text-align: right;\">\n",
       "      <th></th>\n",
       "      <th>cam1_ptr</th>\n",
       "      <th>times</th>\n",
       "      <th>steering_avg</th>\n",
       "      <th>brake_avg</th>\n",
       "      <th>speed_avg</th>\n",
       "      <th>gas_avg</th>\n",
       "      <th>steering_avg_radian</th>\n",
       "    </tr>\n",
       "  </thead>\n",
       "  <tbody>\n",
       "    <tr>\n",
       "      <th>0</th>\n",
       "      <td>993.0</td>\n",
       "      <td>50.01</td>\n",
       "      <td>-7.115795</td>\n",
       "      <td>224.000000</td>\n",
       "      <td>7.115528</td>\n",
       "      <td>0.0</td>\n",
       "      <td>-0.124194</td>\n",
       "    </tr>\n",
       "    <tr>\n",
       "      <th>1</th>\n",
       "      <td>994.0</td>\n",
       "      <td>50.06</td>\n",
       "      <td>-17.286372</td>\n",
       "      <td>224.000000</td>\n",
       "      <td>7.117313</td>\n",
       "      <td>0.0</td>\n",
       "      <td>-0.301704</td>\n",
       "    </tr>\n",
       "    <tr>\n",
       "      <th>2</th>\n",
       "      <td>995.0</td>\n",
       "      <td>50.11</td>\n",
       "      <td>-17.658316</td>\n",
       "      <td>224.000000</td>\n",
       "      <td>7.190218</td>\n",
       "      <td>0.0</td>\n",
       "      <td>-0.308196</td>\n",
       "    </tr>\n",
       "    <tr>\n",
       "      <th>3</th>\n",
       "      <td>996.0</td>\n",
       "      <td>50.16</td>\n",
       "      <td>-9.442221</td>\n",
       "      <td>235.729266</td>\n",
       "      <td>7.183124</td>\n",
       "      <td>0.0</td>\n",
       "      <td>-0.164798</td>\n",
       "    </tr>\n",
       "    <tr>\n",
       "      <th>4</th>\n",
       "      <td>997.0</td>\n",
       "      <td>50.21</td>\n",
       "      <td>-4.526009</td>\n",
       "      <td>240.000000</td>\n",
       "      <td>7.216970</td>\n",
       "      <td>0.0</td>\n",
       "      <td>-0.078994</td>\n",
       "    </tr>\n",
       "  </tbody>\n",
       "</table>\n",
       "</div>"
      ],
      "text/plain": [
       "   cam1_ptr  times  steering_avg  ...  speed_avg  gas_avg  steering_avg_radian\n",
       "0     993.0  50.01     -7.115795  ...   7.115528      0.0            -0.124194\n",
       "1     994.0  50.06    -17.286372  ...   7.117313      0.0            -0.301704\n",
       "2     995.0  50.11    -17.658316  ...   7.190218      0.0            -0.308196\n",
       "3     996.0  50.16     -9.442221  ...   7.183124      0.0            -0.164798\n",
       "4     997.0  50.21     -4.526009  ...   7.216970      0.0            -0.078994\n",
       "\n",
       "[5 rows x 7 columns]"
      ]
     },
     "execution_count": 13,
     "metadata": {
      "tags": []
     },
     "output_type": "execute_result"
    }
   ],
   "source": [
    "log1.head()"
   ]
  },
  {
   "cell_type": "code",
   "execution_count": null,
   "metadata": {
    "colab": {
     "base_uri": "https://localhost:8080/",
     "height": 163
    },
    "colab_type": "code",
    "id": "fV9lI2Dff1an",
    "outputId": "8b35d27a-77c2-4e1f-f6ff-a97bf5b4f860"
   },
   "outputs": [
    {
     "ename": "NameError",
     "evalue": "ignored",
     "output_type": "error",
     "traceback": [
      "\u001b[0;31m---------------------------------------------------------------------------\u001b[0m",
      "\u001b[0;31mNameError\u001b[0m                                 Traceback (most recent call last)",
      "\u001b[0;32m<ipython-input-4-fe727535e0aa>\u001b[0m in \u001b[0;36m<module>\u001b[0;34m()\u001b[0m\n\u001b[0;32m----> 1\u001b[0;31m \u001b[0mlog1\u001b[0m\u001b[0;34m.\u001b[0m\u001b[0mto_csv\u001b[0m\u001b[0;34m(\u001b[0m\u001b[0;34m'/content/drive/My Drive/log1_train.csv'\u001b[0m\u001b[0;34m)\u001b[0m\u001b[0;34m\u001b[0m\u001b[0;34m\u001b[0m\u001b[0m\n\u001b[0m",
      "\u001b[0;31mNameError\u001b[0m: name 'log1' is not defined"
     ]
    }
   ],
   "source": [
    "log1.to_csv('/content/drive/My Drive/log1_train.csv')"
   ]
  },
  {
   "cell_type": "code",
   "execution_count": null,
   "metadata": {
    "colab": {},
    "colab_type": "code",
    "id": "9LWLgrAFgvOz"
   },
   "outputs": [],
   "source": [
    "log1 = pd.read_csv('/content/drive/My Drive/log1_train.csv')"
   ]
  },
  {
   "cell_type": "code",
   "execution_count": null,
   "metadata": {
    "colab": {},
    "colab_type": "code",
    "id": "5jODRiUYa81W"
   },
   "outputs": [],
   "source": [
    "y = log1['steering_avg_radian']"
   ]
  },
  {
   "cell_type": "code",
   "execution_count": null,
   "metadata": {
    "colab": {},
    "colab_type": "code",
    "id": "Dq0YuXQQbCKn"
   },
   "outputs": [],
   "source": [
    "y = y.to_numpy()"
   ]
  },
  {
   "cell_type": "code",
   "execution_count": null,
   "metadata": {
    "colab": {
     "base_uri": "https://localhost:8080/",
     "height": 34
    },
    "colab_type": "code",
    "id": "OMIwvYBpbKHX",
    "outputId": "efbbd936-0c8a-43c9-b80f-61462befe369"
   },
   "outputs": [
    {
     "data": {
      "text/plain": [
       "(51254,)"
      ]
     },
     "execution_count": 8,
     "metadata": {
      "tags": []
     },
     "output_type": "execute_result"
    }
   ],
   "source": [
    "y.shape"
   ]
  },
  {
   "cell_type": "code",
   "execution_count": null,
   "metadata": {
    "colab": {},
    "colab_type": "code",
    "id": "7U2sDXzwbMaf"
   },
   "outputs": [],
   "source": [
    "y = y.reshape(y.shape[0], 1)"
   ]
  },
  {
   "cell_type": "code",
   "execution_count": null,
   "metadata": {
    "colab": {
     "base_uri": "https://localhost:8080/",
     "height": 34
    },
    "colab_type": "code",
    "id": "1fQoQCHzg2Xi",
    "outputId": "203d9d76-261d-4227-995f-6e92277eff30"
   },
   "outputs": [
    {
     "data": {
      "text/plain": [
       "(51254, 1)"
      ]
     },
     "execution_count": 10,
     "metadata": {
      "tags": []
     },
     "output_type": "execute_result"
    }
   ],
   "source": [
    "y.shape"
   ]
  },
  {
   "cell_type": "code",
   "execution_count": null,
   "metadata": {
    "colab": {},
    "colab_type": "code",
    "id": "oxDK56J3V8_G"
   },
   "outputs": [],
   "source": [
    "from sklearn.model_selection import train_test_split"
   ]
  },
  {
   "cell_type": "code",
   "execution_count": null,
   "metadata": {
    "colab": {},
    "colab_type": "code",
    "id": "A_zCHUo2dIqO"
   },
   "outputs": [],
   "source": [
    "# split it so that the validation set is the last 20% of the dataset as I want sequential data \n",
    "X_train, X_test, y_train, y_test = train_test_split(X, y, test_size=0.2, shuffle=False)"
   ]
  },
  {
   "cell_type": "code",
   "execution_count": null,
   "metadata": {
    "colab": {},
    "colab_type": "code",
    "id": "8FZ67cmTeJ00"
   },
   "outputs": [],
   "source": [
    "########################### start of train with camera8 data for model 5 epochs = 30"
   ]
  },
  {
   "cell_type": "code",
   "execution_count": null,
   "metadata": {
    "colab": {},
    "colab_type": "code",
    "id": "_sTZB97TeJ0_"
   },
   "outputs": [],
   "source": [
    "camera8 = load('/content/drive/My Drive/datasets/camera8_cleaned.npz')\n",
    "log8 = pd.read_csv('/content/drive/My Drive/datasets/log8_cleaned.csv')"
   ]
  },
  {
   "cell_type": "code",
   "execution_count": null,
   "metadata": {
    "colab": {
     "base_uri": "https://localhost:8080/",
     "height": 34
    },
    "colab_type": "code",
    "id": "bK3RatNmeJ1D",
    "outputId": "e3df33e3-f34f-40d6-d10f-bf866903007e"
   },
   "outputs": [
    {
     "name": "stdout",
     "output_type": "stream",
     "text": [
      "Done\n"
     ]
    }
   ],
   "source": [
    "camera_processing(camera8, 'camera8')"
   ]
  },
  {
   "cell_type": "code",
   "execution_count": null,
   "metadata": {
    "colab": {
     "base_uri": "https://localhost:8080/",
     "height": 34
    },
    "colab_type": "code",
    "id": "oHtW3usleJ1G",
    "outputId": "6162875d-4952-4c08-aa3c-b874aea395ed"
   },
   "outputs": [
    {
     "name": "stdout",
     "output_type": "stream",
     "text": [
      "Done\n"
     ]
    }
   ],
   "source": [
    "log_processing(log1, 'log1')"
   ]
  },
  {
   "cell_type": "code",
   "execution_count": null,
   "metadata": {
    "colab": {
     "base_uri": "https://localhost:8080/",
     "height": 34
    },
    "colab_type": "code",
    "id": "zPbJAor1eJ1J",
    "outputId": "217ea9ba-51a9-4371-c354-8b5ff9d643ff"
   },
   "outputs": [
    {
     "name": "stdout",
     "output_type": "stream",
     "text": [
      "Done\n"
     ]
    }
   ],
   "source": [
    "train_split('camera1', 'log1')"
   ]
  },
  {
   "cell_type": "code",
   "execution_count": null,
   "metadata": {
    "colab": {},
    "colab_type": "code",
    "id": "6WvRy6-9eJ1Q"
   },
   "outputs": [],
   "source": [
    "X_train, X_test, y_train, y_test = train_load('camera8')"
   ]
  },
  {
   "cell_type": "code",
   "execution_count": null,
   "metadata": {
    "colab": {
     "base_uri": "https://localhost:8080/",
     "height": 34
    },
    "colab_type": "code",
    "id": "jQXYGqoJeJ1S",
    "outputId": "23bc7c35-dd2e-4ccc-fd4f-af843162077b"
   },
   "outputs": [
    {
     "data": {
      "text/plain": [
       "((22188, 80, 160, 1), (5548, 80, 160, 1), (22188, 1), (5548, 1))"
      ]
     },
     "execution_count": 15,
     "metadata": {
      "tags": []
     },
     "output_type": "execute_result"
    }
   ],
   "source": [
    "X_train.shape, X_test.shape, y_train.shape, y_test.shape"
   ]
  },
  {
   "cell_type": "code",
   "execution_count": null,
   "metadata": {
    "colab": {},
    "colab_type": "code",
    "id": "SCoq5rBm6ztI"
   },
   "outputs": [],
   "source": [
    "model = Sequential()\n",
    "\n",
    "model.add(Conv2D(16, (8, 8), strides=(4, 4), activation='elu', padding=\"same\"))\n",
    "\n",
    "model.add(Conv2D(32, (5, 5), strides=(2, 2), activation='elu', padding=\"same\"))\n",
    "\n",
    "model.add(Conv2D(64, (5, 5), strides=(2, 2), padding=\"same\"))\n",
    "\n",
    "model.add(Flatten())\n",
    "model.add(Dropout(.2))\n",
    "\n",
    "model.add(Dense(512, activation='elu'))\n",
    "model.add(Dropout(.5))\n",
    "\n",
    "model.add(Dense(1))\n",
    "\n",
    "model.compile(loss='mse', optimizer=Adam(lr=1e-04), metrics=[RootMeanSquaredError()])"
   ]
  },
  {
   "cell_type": "code",
   "execution_count": null,
   "metadata": {
    "colab": {},
    "colab_type": "code",
    "id": "262qoFA_eJ1U"
   },
   "outputs": [],
   "source": [
    "filepath = \"/content/drive/My Drive/epochs/model_2_1_camera8.{epoch:04d}-{val_loss:.4f}.h5\"\n",
    "checkpoint = ModelCheckpoint(filepath, monitor='val_loss', verbose=1, save_best_only=True, mode='min')\n",
    "callbacks_list = [checkpoint]"
   ]
  },
  {
   "cell_type": "code",
   "execution_count": null,
   "metadata": {
    "colab": {
     "base_uri": "https://localhost:8080/",
     "height": 1000
    },
    "colab_type": "code",
    "collapsed": true,
    "id": "E1y08YqxeJ1V",
    "outputId": "50b658a3-4470-43fc-e085-511b37cc195f"
   },
   "outputs": [
    {
     "name": "stdout",
     "output_type": "stream",
     "text": [
      "Epoch 1/30\n",
      "347/347 [==============================] - ETA: 0s - loss: 0.3885 - root_mean_squared_error: 0.6233\n",
      "Epoch 00001: val_loss improved from inf to 0.35014, saving model to /content/drive/My Drive/epochs/model_5_1_camera8.0001-0.3501.h5\n",
      "347/347 [==============================] - 2s 7ms/step - loss: 0.3885 - root_mean_squared_error: 0.6233 - val_loss: 0.3501 - val_root_mean_squared_error: 0.5917\n",
      "Epoch 2/30\n",
      "344/347 [============================>.] - ETA: 0s - loss: 0.3511 - root_mean_squared_error: 0.5925\n",
      "Epoch 00002: val_loss improved from 0.35014 to 0.33945, saving model to /content/drive/My Drive/epochs/model_5_1_camera8.0002-0.3395.h5\n",
      "347/347 [==============================] - 2s 6ms/step - loss: 0.3530 - root_mean_squared_error: 0.5942 - val_loss: 0.3395 - val_root_mean_squared_error: 0.5826\n",
      "Epoch 3/30\n",
      "345/347 [============================>.] - ETA: 0s - loss: 0.3234 - root_mean_squared_error: 0.5687\n",
      "Epoch 00003: val_loss improved from 0.33945 to 0.33724, saving model to /content/drive/My Drive/epochs/model_5_1_camera8.0003-0.3372.h5\n",
      "347/347 [==============================] - 2s 6ms/step - loss: 0.3250 - root_mean_squared_error: 0.5701 - val_loss: 0.3372 - val_root_mean_squared_error: 0.5807\n",
      "Epoch 4/30\n",
      "338/347 [============================>.] - ETA: 0s - loss: 0.3078 - root_mean_squared_error: 0.5548\n",
      "Epoch 00004: val_loss improved from 0.33724 to 0.33642, saving model to /content/drive/My Drive/epochs/model_5_1_camera8.0004-0.3364.h5\n",
      "347/347 [==============================] - 2s 7ms/step - loss: 0.3104 - root_mean_squared_error: 0.5572 - val_loss: 0.3364 - val_root_mean_squared_error: 0.5800\n",
      "Epoch 5/30\n",
      "340/347 [============================>.] - ETA: 0s - loss: 0.2960 - root_mean_squared_error: 0.5440\n",
      "Epoch 00005: val_loss did not improve from 0.33642\n",
      "347/347 [==============================] - 2s 6ms/step - loss: 0.2966 - root_mean_squared_error: 0.5446 - val_loss: 0.3365 - val_root_mean_squared_error: 0.5801\n",
      "Epoch 6/30\n",
      "340/347 [============================>.] - ETA: 0s - loss: 0.2852 - root_mean_squared_error: 0.5340\n",
      "Epoch 00006: val_loss did not improve from 0.33642\n",
      "347/347 [==============================] - 2s 6ms/step - loss: 0.2837 - root_mean_squared_error: 0.5326 - val_loss: 0.3387 - val_root_mean_squared_error: 0.5820\n",
      "Epoch 7/30\n",
      "343/347 [============================>.] - ETA: 0s - loss: 0.2760 - root_mean_squared_error: 0.5254\n",
      "Epoch 00007: val_loss did not improve from 0.33642\n",
      "347/347 [==============================] - 2s 6ms/step - loss: 0.2765 - root_mean_squared_error: 0.5258 - val_loss: 0.3412 - val_root_mean_squared_error: 0.5842\n",
      "Epoch 8/30\n",
      "341/347 [============================>.] - ETA: 0s - loss: 0.2689 - root_mean_squared_error: 0.5185\n",
      "Epoch 00008: val_loss did not improve from 0.33642\n",
      "347/347 [==============================] - 2s 6ms/step - loss: 0.2699 - root_mean_squared_error: 0.5195 - val_loss: 0.3443 - val_root_mean_squared_error: 0.5868\n",
      "Epoch 9/30\n",
      "344/347 [============================>.] - ETA: 0s - loss: 0.2649 - root_mean_squared_error: 0.5147\n",
      "Epoch 00009: val_loss did not improve from 0.33642\n",
      "347/347 [==============================] - 2s 6ms/step - loss: 0.2642 - root_mean_squared_error: 0.5140 - val_loss: 0.3437 - val_root_mean_squared_error: 0.5862\n",
      "Epoch 10/30\n",
      "344/347 [============================>.] - ETA: 0s - loss: 0.2584 - root_mean_squared_error: 0.5083\n",
      "Epoch 00010: val_loss did not improve from 0.33642\n",
      "347/347 [==============================] - 2s 6ms/step - loss: 0.2577 - root_mean_squared_error: 0.5076 - val_loss: 0.3449 - val_root_mean_squared_error: 0.5872\n",
      "Epoch 11/30\n",
      "344/347 [============================>.] - ETA: 0s - loss: 0.2544 - root_mean_squared_error: 0.5043\n",
      "Epoch 00011: val_loss did not improve from 0.33642\n",
      "347/347 [==============================] - 2s 6ms/step - loss: 0.2539 - root_mean_squared_error: 0.5039 - val_loss: 0.3474 - val_root_mean_squared_error: 0.5894\n",
      "Epoch 12/30\n",
      "347/347 [==============================] - ETA: 0s - loss: 0.2496 - root_mean_squared_error: 0.4996\n",
      "Epoch 00012: val_loss did not improve from 0.33642\n",
      "347/347 [==============================] - 2s 6ms/step - loss: 0.2496 - root_mean_squared_error: 0.4996 - val_loss: 0.3487 - val_root_mean_squared_error: 0.5905\n",
      "Epoch 13/30\n",
      "343/347 [============================>.] - ETA: 0s - loss: 0.2446 - root_mean_squared_error: 0.4945\n",
      "Epoch 00013: val_loss did not improve from 0.33642\n",
      "347/347 [==============================] - 2s 6ms/step - loss: 0.2449 - root_mean_squared_error: 0.4949 - val_loss: 0.3463 - val_root_mean_squared_error: 0.5884\n",
      "Epoch 14/30\n",
      "344/347 [============================>.] - ETA: 0s - loss: 0.2423 - root_mean_squared_error: 0.4923\n",
      "Epoch 00014: val_loss did not improve from 0.33642\n",
      "347/347 [==============================] - 2s 6ms/step - loss: 0.2418 - root_mean_squared_error: 0.4917 - val_loss: 0.3542 - val_root_mean_squared_error: 0.5951\n",
      "Epoch 15/30\n",
      "340/347 [============================>.] - ETA: 0s - loss: 0.2410 - root_mean_squared_error: 0.4909\n",
      "Epoch 00015: val_loss did not improve from 0.33642\n",
      "347/347 [==============================] - 2s 6ms/step - loss: 0.2398 - root_mean_squared_error: 0.4897 - val_loss: 0.3555 - val_root_mean_squared_error: 0.5962\n",
      "Epoch 16/30\n",
      "340/347 [============================>.] - ETA: 0s - loss: 0.2349 - root_mean_squared_error: 0.4847\n",
      "Epoch 00016: val_loss did not improve from 0.33642\n",
      "347/347 [==============================] - 2s 6ms/step - loss: 0.2346 - root_mean_squared_error: 0.4843 - val_loss: 0.3555 - val_root_mean_squared_error: 0.5962\n",
      "Epoch 17/30\n",
      "346/347 [============================>.] - ETA: 0s - loss: 0.2315 - root_mean_squared_error: 0.4812\n",
      "Epoch 00017: val_loss did not improve from 0.33642\n",
      "347/347 [==============================] - 2s 6ms/step - loss: 0.2314 - root_mean_squared_error: 0.4811 - val_loss: 0.3629 - val_root_mean_squared_error: 0.6024\n",
      "Epoch 18/30\n",
      "342/347 [============================>.] - ETA: 0s - loss: 0.2290 - root_mean_squared_error: 0.4785\n",
      "Epoch 00018: val_loss did not improve from 0.33642\n",
      "347/347 [==============================] - 2s 6ms/step - loss: 0.2279 - root_mean_squared_error: 0.4773 - val_loss: 0.3644 - val_root_mean_squared_error: 0.6036\n",
      "Epoch 19/30\n",
      "342/347 [============================>.] - ETA: 0s - loss: 0.2244 - root_mean_squared_error: 0.4737\n",
      "Epoch 00019: val_loss did not improve from 0.33642\n",
      "347/347 [==============================] - 2s 6ms/step - loss: 0.2241 - root_mean_squared_error: 0.4734 - val_loss: 0.3732 - val_root_mean_squared_error: 0.6109\n",
      "Epoch 20/30\n",
      "343/347 [============================>.] - ETA: 0s - loss: 0.2229 - root_mean_squared_error: 0.4721\n",
      "Epoch 00020: val_loss did not improve from 0.33642\n",
      "347/347 [==============================] - 2s 6ms/step - loss: 0.2230 - root_mean_squared_error: 0.4723 - val_loss: 0.3757 - val_root_mean_squared_error: 0.6129\n",
      "Epoch 21/30\n",
      "346/347 [============================>.] - ETA: 0s - loss: 0.2226 - root_mean_squared_error: 0.4718\n",
      "Epoch 00021: val_loss did not improve from 0.33642\n",
      "347/347 [==============================] - 2s 6ms/step - loss: 0.2223 - root_mean_squared_error: 0.4715 - val_loss: 0.3742 - val_root_mean_squared_error: 0.6118\n",
      "Epoch 22/30\n",
      "343/347 [============================>.] - ETA: 0s - loss: 0.2182 - root_mean_squared_error: 0.4672\n",
      "Epoch 00022: val_loss did not improve from 0.33642\n",
      "347/347 [==============================] - 2s 6ms/step - loss: 0.2178 - root_mean_squared_error: 0.4666 - val_loss: 0.3794 - val_root_mean_squared_error: 0.6159\n",
      "Epoch 23/30\n",
      "343/347 [============================>.] - ETA: 0s - loss: 0.2170 - root_mean_squared_error: 0.4658\n",
      "Epoch 00023: val_loss did not improve from 0.33642\n",
      "347/347 [==============================] - 2s 6ms/step - loss: 0.2175 - root_mean_squared_error: 0.4664 - val_loss: 0.3792 - val_root_mean_squared_error: 0.6158\n",
      "Epoch 24/30\n",
      "340/347 [============================>.] - ETA: 0s - loss: 0.2145 - root_mean_squared_error: 0.4631\n",
      "Epoch 00024: val_loss did not improve from 0.33642\n",
      "347/347 [==============================] - 2s 6ms/step - loss: 0.2135 - root_mean_squared_error: 0.4620 - val_loss: 0.3804 - val_root_mean_squared_error: 0.6168\n",
      "Epoch 25/30\n",
      "341/347 [============================>.] - ETA: 0s - loss: 0.2097 - root_mean_squared_error: 0.4579\n",
      "Epoch 00025: val_loss did not improve from 0.33642\n",
      "347/347 [==============================] - 2s 6ms/step - loss: 0.2102 - root_mean_squared_error: 0.4585 - val_loss: 0.3917 - val_root_mean_squared_error: 0.6258\n",
      "Epoch 26/30\n",
      "343/347 [============================>.] - ETA: 0s - loss: 0.2090 - root_mean_squared_error: 0.4571\n",
      "Epoch 00026: val_loss did not improve from 0.33642\n",
      "347/347 [==============================] - 2s 6ms/step - loss: 0.2085 - root_mean_squared_error: 0.4567 - val_loss: 0.3987 - val_root_mean_squared_error: 0.6314\n",
      "Epoch 27/30\n",
      "338/347 [============================>.] - ETA: 0s - loss: 0.2043 - root_mean_squared_error: 0.4519\n",
      "Epoch 00027: val_loss did not improve from 0.33642\n",
      "347/347 [==============================] - 2s 7ms/step - loss: 0.2067 - root_mean_squared_error: 0.4546 - val_loss: 0.3909 - val_root_mean_squared_error: 0.6252\n",
      "Epoch 28/30\n",
      "341/347 [============================>.] - ETA: 0s - loss: 0.2044 - root_mean_squared_error: 0.4521\n",
      "Epoch 00028: val_loss did not improve from 0.33642\n",
      "347/347 [==============================] - 2s 7ms/step - loss: 0.2048 - root_mean_squared_error: 0.4525 - val_loss: 0.3991 - val_root_mean_squared_error: 0.6317\n",
      "Epoch 29/30\n",
      "342/347 [============================>.] - ETA: 0s - loss: 0.2035 - root_mean_squared_error: 0.4512\n",
      "Epoch 00029: val_loss did not improve from 0.33642\n",
      "347/347 [==============================] - 2s 7ms/step - loss: 0.2038 - root_mean_squared_error: 0.4514 - val_loss: 0.4025 - val_root_mean_squared_error: 0.6345\n",
      "Epoch 30/30\n",
      "345/347 [============================>.] - ETA: 0s - loss: 0.2001 - root_mean_squared_error: 0.4473\n",
      "Epoch 00030: val_loss did not improve from 0.33642\n",
      "347/347 [==============================] - 2s 7ms/step - loss: 0.2002 - root_mean_squared_error: 0.4474 - val_loss: 0.3944 - val_root_mean_squared_error: 0.6280\n"
     ]
    }
   ],
   "source": [
    "history = model.fit(X_train,\n",
    "                    y_train,\n",
    "                    batch_size=64,\n",
    "                    validation_data=(X_test, y_test),\n",
    "                    epochs=30,\n",
    "                    verbose=1,\n",
    "                    callbacks=callbacks_list)"
   ]
  },
  {
   "cell_type": "code",
   "execution_count": null,
   "metadata": {
    "colab": {},
    "colab_type": "code",
    "id": "J809z3EFeJ1b"
   },
   "outputs": [],
   "source": [
    "model_2_camera8 = model_history('model_2_1_camera8')"
   ]
  },
  {
   "cell_type": "code",
   "execution_count": null,
   "metadata": {
    "colab": {
     "base_uri": "https://localhost:8080/",
     "height": 204
    },
    "colab_type": "code",
    "id": "k5oE8M4FeJ1c",
    "outputId": "2b2ac4c5-98da-43e2-e3dc-72c887ea3604"
   },
   "outputs": [
    {
     "data": {
      "text/html": [
       "<div>\n",
       "<style scoped>\n",
       "    .dataframe tbody tr th:only-of-type {\n",
       "        vertical-align: middle;\n",
       "    }\n",
       "\n",
       "    .dataframe tbody tr th {\n",
       "        vertical-align: top;\n",
       "    }\n",
       "\n",
       "    .dataframe thead th {\n",
       "        text-align: right;\n",
       "    }\n",
       "</style>\n",
       "<table border=\"1\" class=\"dataframe\">\n",
       "  <thead>\n",
       "    <tr style=\"text-align: right;\">\n",
       "      <th></th>\n",
       "      <th>loss</th>\n",
       "      <th>root_mean_squared_error</th>\n",
       "      <th>val_loss</th>\n",
       "      <th>val_root_mean_squared_error</th>\n",
       "    </tr>\n",
       "  </thead>\n",
       "  <tbody>\n",
       "    <tr>\n",
       "      <th>0</th>\n",
       "      <td>0.402141</td>\n",
       "      <td>0.634146</td>\n",
       "      <td>0.374473</td>\n",
       "      <td>0.611942</td>\n",
       "    </tr>\n",
       "    <tr>\n",
       "      <th>1</th>\n",
       "      <td>0.399356</td>\n",
       "      <td>0.631947</td>\n",
       "      <td>0.374451</td>\n",
       "      <td>0.611924</td>\n",
       "    </tr>\n",
       "    <tr>\n",
       "      <th>2</th>\n",
       "      <td>0.399077</td>\n",
       "      <td>0.631725</td>\n",
       "      <td>0.374487</td>\n",
       "      <td>0.611953</td>\n",
       "    </tr>\n",
       "    <tr>\n",
       "      <th>3</th>\n",
       "      <td>0.398827</td>\n",
       "      <td>0.631528</td>\n",
       "      <td>0.374424</td>\n",
       "      <td>0.611902</td>\n",
       "    </tr>\n",
       "    <tr>\n",
       "      <th>4</th>\n",
       "      <td>0.395954</td>\n",
       "      <td>0.629249</td>\n",
       "      <td>0.371324</td>\n",
       "      <td>0.609364</td>\n",
       "    </tr>\n",
       "  </tbody>\n",
       "</table>\n",
       "</div>"
      ],
      "text/plain": [
       "       loss  root_mean_squared_error  val_loss  val_root_mean_squared_error\n",
       "0  0.402141                 0.634146  0.374473                     0.611942\n",
       "1  0.399356                 0.631947  0.374451                     0.611924\n",
       "2  0.399077                 0.631725  0.374487                     0.611953\n",
       "3  0.398827                 0.631528  0.374424                     0.611902\n",
       "4  0.395954                 0.629249  0.371324                     0.609364"
      ]
     },
     "execution_count": 13,
     "metadata": {
      "tags": []
     },
     "output_type": "execute_result"
    }
   ],
   "source": [
    "model_3_camera8.head()"
   ]
  },
  {
   "cell_type": "code",
   "execution_count": null,
   "metadata": {
    "colab": {},
    "colab_type": "code",
    "id": "oS8LkbzAeJ1d"
   },
   "outputs": [],
   "source": [
    "#################### end of training camera9 data for model 3"
   ]
  },
  {
   "cell_type": "code",
   "execution_count": null,
   "metadata": {
    "colab": {},
    "colab_type": "code",
    "id": "uXIRaiFxSapf"
   },
   "outputs": [],
   "source": [
    "########################### continue training with camera1 data for model 3"
   ]
  },
  {
   "cell_type": "code",
   "execution_count": null,
   "metadata": {
    "colab": {},
    "colab_type": "code",
    "id": "ugxVFlbCSHTT"
   },
   "outputs": [],
   "source": [
    "from keras.models import load_model"
   ]
  },
  {
   "cell_type": "code",
   "execution_count": 6,
   "metadata": {
    "colab": {},
    "colab_type": "code",
    "id": "2r7kHHOCR1co"
   },
   "outputs": [],
   "source": [
    "model = load_model('/content/drive/My Drive/epochs/model_5_1_camera8.0004-0.3364.h5')"
   ]
  },
  {
   "cell_type": "code",
   "execution_count": 7,
   "metadata": {
    "colab": {},
    "colab_type": "code",
    "id": "lxdKm9TQS-Kz"
   },
   "outputs": [],
   "source": [
    "def train_load(camera_file_name):\n",
    "  !cp -r \"/content/drive/My Drive/datasets/{camera_file_name}_X_train.npz\" ./X_train.npz\n",
    "  !cp -r \"/content/drive/My Drive/datasets/{camera_file_name}_X_test.npz\" ./X_test.npz\n",
    "  !cp -r \"/content/drive/My Drive/datasets/{camera_file_name}_y_train.npz\" ./y_train.npz\n",
    "  !cp -r \"/content/drive/My Drive/datasets/{camera_file_name}_y_test.npz\" ./y_test.npz\n",
    "  X_train = load('./X_train.npz')\n",
    "  X_train = X_train.f.arr_0\n",
    "  X_test = load('./X_test.npz')\n",
    "  X_test = X_test.f.arr_0\n",
    "  y_train = load('./y_train.npz')\n",
    "  y_train = y_train.f.arr_0\n",
    "  y_test = load('./y_test.npz')\n",
    "  y_test = y_test.f.arr_0\n",
    "\n",
    "  return X_train, X_test, y_train, y_test"
   ]
  },
  {
   "cell_type": "code",
   "execution_count": 8,
   "metadata": {
    "colab": {},
    "colab_type": "code",
    "id": "WAUy7zNGTln4"
   },
   "outputs": [],
   "source": [
    "X_train, X_test, y_train, y_test = train_load('camera1')"
   ]
  },
  {
   "cell_type": "code",
   "execution_count": 9,
   "metadata": {
    "colab": {
     "base_uri": "https://localhost:8080/",
     "height": 34
    },
    "colab_type": "code",
    "id": "wHIpb0obTvZy",
    "outputId": "50474b58-1e67-4cc9-ade5-ea527ae5fd5f"
   },
   "outputs": [
    {
     "data": {
      "text/plain": [
       "((41003, 80, 160, 1), (10251, 80, 160, 1), (41003, 1), (10251, 1))"
      ]
     },
     "execution_count": 9,
     "metadata": {
      "tags": []
     },
     "output_type": "execute_result"
    }
   ],
   "source": [
    "X_train.shape, X_test.shape, y_train.shape, y_test.shape"
   ]
  },
  {
   "cell_type": "code",
   "execution_count": 11,
   "metadata": {
    "colab": {},
    "colab_type": "code",
    "id": "YorsRxR6SkL2"
   },
   "outputs": [],
   "source": [
    "from keras.callbacks import *\n",
    "filepath = \"/content/drive/My Drive/epochs/model_5_2_camera1.{epoch:04d}-{val_loss:.4f}.h5\"\n",
    "checkpoint = ModelCheckpoint(filepath, monitor='val_loss', verbose=1, save_best_only=True, mode='min')\n",
    "callbacks_list = [checkpoint]"
   ]
  },
  {
   "cell_type": "code",
   "execution_count": 12,
   "metadata": {
    "colab": {
     "base_uri": "https://localhost:8080/",
     "height": 1000
    },
    "colab_type": "code",
    "id": "wc2lXnpYSsYh",
    "outputId": "61595505-b806-45ec-ad0f-eccf8794a1d4"
   },
   "outputs": [
    {
     "name": "stdout",
     "output_type": "stream",
     "text": [
      "Epoch 1/30\n",
      "641/641 [==============================] - ETA: 0s - loss: 0.2590 - root_mean_squared_error: 0.5089\n",
      "Epoch 00001: val_loss improved from inf to 0.22856, saving model to /content/drive/My Drive/epochs/model_5_2_camera1.0001-0.2286.h5\n",
      "641/641 [==============================] - 5s 8ms/step - loss: 0.2590 - root_mean_squared_error: 0.5089 - val_loss: 0.2286 - val_root_mean_squared_error: 0.4781\n",
      "Epoch 2/30\n",
      "640/641 [============================>.] - ETA: 0s - loss: 0.2440 - root_mean_squared_error: 0.4940\n",
      "Epoch 00002: val_loss improved from 0.22856 to 0.22818, saving model to /content/drive/My Drive/epochs/model_5_2_camera1.0002-0.2282.h5\n",
      "641/641 [==============================] - 4s 6ms/step - loss: 0.2438 - root_mean_squared_error: 0.4938 - val_loss: 0.2282 - val_root_mean_squared_error: 0.4777\n",
      "Epoch 3/30\n",
      "639/641 [============================>.] - ETA: 0s - loss: 0.2380 - root_mean_squared_error: 0.4879\n",
      "Epoch 00003: val_loss improved from 0.22818 to 0.22266, saving model to /content/drive/My Drive/epochs/model_5_2_camera1.0003-0.2227.h5\n",
      "641/641 [==============================] - 4s 6ms/step - loss: 0.2378 - root_mean_squared_error: 0.4876 - val_loss: 0.2227 - val_root_mean_squared_error: 0.4719\n",
      "Epoch 4/30\n",
      "639/641 [============================>.] - ETA: 0s - loss: 0.2328 - root_mean_squared_error: 0.4825\n",
      "Epoch 00004: val_loss improved from 0.22266 to 0.22231, saving model to /content/drive/My Drive/epochs/model_5_2_camera1.0004-0.2223.h5\n",
      "641/641 [==============================] - 4s 6ms/step - loss: 0.2323 - root_mean_squared_error: 0.4819 - val_loss: 0.2223 - val_root_mean_squared_error: 0.4715\n",
      "Epoch 5/30\n",
      "636/641 [============================>.] - ETA: 0s - loss: 0.2293 - root_mean_squared_error: 0.4789\n",
      "Epoch 00005: val_loss improved from 0.22231 to 0.22180, saving model to /content/drive/My Drive/epochs/model_5_2_camera1.0005-0.2218.h5\n",
      "641/641 [==============================] - 4s 6ms/step - loss: 0.2291 - root_mean_squared_error: 0.4787 - val_loss: 0.2218 - val_root_mean_squared_error: 0.4710\n",
      "Epoch 6/30\n",
      "640/641 [============================>.] - ETA: 0s - loss: 0.2259 - root_mean_squared_error: 0.4753\n",
      "Epoch 00006: val_loss did not improve from 0.22180\n",
      "641/641 [==============================] - 4s 6ms/step - loss: 0.2257 - root_mean_squared_error: 0.4751 - val_loss: 0.2239 - val_root_mean_squared_error: 0.4732\n",
      "Epoch 7/30\n",
      "636/641 [============================>.] - ETA: 0s - loss: 0.2243 - root_mean_squared_error: 0.4736\n",
      "Epoch 00007: val_loss did not improve from 0.22180\n",
      "641/641 [==============================] - 4s 6ms/step - loss: 0.2231 - root_mean_squared_error: 0.4723 - val_loss: 0.2221 - val_root_mean_squared_error: 0.4713\n",
      "Epoch 8/30\n",
      "639/641 [============================>.] - ETA: 0s - loss: 0.2193 - root_mean_squared_error: 0.4683\n",
      "Epoch 00008: val_loss did not improve from 0.22180\n",
      "641/641 [==============================] - 4s 6ms/step - loss: 0.2193 - root_mean_squared_error: 0.4683 - val_loss: 0.2240 - val_root_mean_squared_error: 0.4732\n",
      "Epoch 9/30\n",
      "640/641 [============================>.] - ETA: 0s - loss: 0.2181 - root_mean_squared_error: 0.4671\n",
      "Epoch 00009: val_loss did not improve from 0.22180\n",
      "641/641 [==============================] - 4s 6ms/step - loss: 0.2179 - root_mean_squared_error: 0.4668 - val_loss: 0.2257 - val_root_mean_squared_error: 0.4751\n",
      "Epoch 10/30\n",
      "634/641 [============================>.] - ETA: 0s - loss: 0.2147 - root_mean_squared_error: 0.4633\n",
      "Epoch 00010: val_loss did not improve from 0.22180\n",
      "641/641 [==============================] - 4s 6ms/step - loss: 0.2152 - root_mean_squared_error: 0.4639 - val_loss: 0.2244 - val_root_mean_squared_error: 0.4737\n",
      "Epoch 11/30\n",
      "637/641 [============================>.] - ETA: 0s - loss: 0.2133 - root_mean_squared_error: 0.4619\n",
      "Epoch 00011: val_loss did not improve from 0.22180\n",
      "641/641 [==============================] - 4s 6ms/step - loss: 0.2132 - root_mean_squared_error: 0.4617 - val_loss: 0.2264 - val_root_mean_squared_error: 0.4758\n",
      "Epoch 12/30\n",
      "635/641 [============================>.] - ETA: 0s - loss: 0.2100 - root_mean_squared_error: 0.4583\n",
      "Epoch 00012: val_loss did not improve from 0.22180\n",
      "641/641 [==============================] - 4s 6ms/step - loss: 0.2112 - root_mean_squared_error: 0.4596 - val_loss: 0.2243 - val_root_mean_squared_error: 0.4736\n",
      "Epoch 13/30\n",
      "637/641 [============================>.] - ETA: 0s - loss: 0.2086 - root_mean_squared_error: 0.4568\n",
      "Epoch 00013: val_loss did not improve from 0.22180\n",
      "641/641 [==============================] - 4s 7ms/step - loss: 0.2098 - root_mean_squared_error: 0.4580 - val_loss: 0.2318 - val_root_mean_squared_error: 0.4815\n",
      "Epoch 14/30\n",
      "641/641 [==============================] - ETA: 0s - loss: 0.2076 - root_mean_squared_error: 0.4557\n",
      "Epoch 00014: val_loss did not improve from 0.22180\n",
      "641/641 [==============================] - 4s 6ms/step - loss: 0.2076 - root_mean_squared_error: 0.4557 - val_loss: 0.2272 - val_root_mean_squared_error: 0.4766\n",
      "Epoch 15/30\n",
      "632/641 [============================>.] - ETA: 0s - loss: 0.2059 - root_mean_squared_error: 0.4537\n",
      "Epoch 00015: val_loss did not improve from 0.22180\n",
      "641/641 [==============================] - 4s 6ms/step - loss: 0.2053 - root_mean_squared_error: 0.4531 - val_loss: 0.2304 - val_root_mean_squared_error: 0.4800\n",
      "Epoch 16/30\n",
      "636/641 [============================>.] - ETA: 0s - loss: 0.2047 - root_mean_squared_error: 0.4525\n",
      "Epoch 00016: val_loss did not improve from 0.22180\n",
      "641/641 [==============================] - 4s 6ms/step - loss: 0.2046 - root_mean_squared_error: 0.4523 - val_loss: 0.2326 - val_root_mean_squared_error: 0.4823\n",
      "Epoch 17/30\n",
      "640/641 [============================>.] - ETA: 0s - loss: 0.2035 - root_mean_squared_error: 0.4511\n",
      "Epoch 00017: val_loss did not improve from 0.22180\n",
      "641/641 [==============================] - 4s 6ms/step - loss: 0.2035 - root_mean_squared_error: 0.4511 - val_loss: 0.2286 - val_root_mean_squared_error: 0.4781\n",
      "Epoch 18/30\n",
      "632/641 [============================>.] - ETA: 0s - loss: 0.2024 - root_mean_squared_error: 0.4498\n",
      "Epoch 00018: val_loss did not improve from 0.22180\n",
      "641/641 [==============================] - 4s 6ms/step - loss: 0.2023 - root_mean_squared_error: 0.4498 - val_loss: 0.2285 - val_root_mean_squared_error: 0.4780\n",
      "Epoch 19/30\n",
      "632/641 [============================>.] - ETA: 0s - loss: 0.2009 - root_mean_squared_error: 0.4482\n",
      "Epoch 00019: val_loss did not improve from 0.22180\n",
      "641/641 [==============================] - 4s 6ms/step - loss: 0.2008 - root_mean_squared_error: 0.4481 - val_loss: 0.2319 - val_root_mean_squared_error: 0.4816\n",
      "Epoch 20/30\n",
      "640/641 [============================>.] - ETA: 0s - loss: 0.1993 - root_mean_squared_error: 0.4465\n",
      "Epoch 00020: val_loss did not improve from 0.22180\n",
      "641/641 [==============================] - 4s 6ms/step - loss: 0.1995 - root_mean_squared_error: 0.4467 - val_loss: 0.2303 - val_root_mean_squared_error: 0.4799\n",
      "Epoch 21/30\n",
      "634/641 [============================>.] - ETA: 0s - loss: 0.1970 - root_mean_squared_error: 0.4438\n",
      "Epoch 00021: val_loss did not improve from 0.22180\n",
      "641/641 [==============================] - 4s 6ms/step - loss: 0.1979 - root_mean_squared_error: 0.4448 - val_loss: 0.2317 - val_root_mean_squared_error: 0.4814\n",
      "Epoch 22/30\n",
      "636/641 [============================>.] - ETA: 0s - loss: 0.1982 - root_mean_squared_error: 0.4452\n",
      "Epoch 00022: val_loss did not improve from 0.22180\n",
      "641/641 [==============================] - 4s 6ms/step - loss: 0.1974 - root_mean_squared_error: 0.4443 - val_loss: 0.2306 - val_root_mean_squared_error: 0.4803\n",
      "Epoch 23/30\n",
      "639/641 [============================>.] - ETA: 0s - loss: 0.1953 - root_mean_squared_error: 0.4420\n",
      "Epoch 00023: val_loss did not improve from 0.22180\n",
      "641/641 [==============================] - 4s 6ms/step - loss: 0.1953 - root_mean_squared_error: 0.4419 - val_loss: 0.2341 - val_root_mean_squared_error: 0.4838\n",
      "Epoch 24/30\n",
      "633/641 [============================>.] - ETA: 0s - loss: 0.1937 - root_mean_squared_error: 0.4401\n",
      "Epoch 00024: val_loss did not improve from 0.22180\n",
      "641/641 [==============================] - 4s 6ms/step - loss: 0.1944 - root_mean_squared_error: 0.4409 - val_loss: 0.2348 - val_root_mean_squared_error: 0.4845\n",
      "Epoch 25/30\n",
      "637/641 [============================>.] - ETA: 0s - loss: 0.1934 - root_mean_squared_error: 0.4398\n",
      "Epoch 00025: val_loss did not improve from 0.22180\n",
      "641/641 [==============================] - 4s 6ms/step - loss: 0.1935 - root_mean_squared_error: 0.4399 - val_loss: 0.2346 - val_root_mean_squared_error: 0.4844\n",
      "Epoch 26/30\n",
      "634/641 [============================>.] - ETA: 0s - loss: 0.1925 - root_mean_squared_error: 0.4387\n",
      "Epoch 00026: val_loss did not improve from 0.22180\n",
      "641/641 [==============================] - 4s 6ms/step - loss: 0.1920 - root_mean_squared_error: 0.4382 - val_loss: 0.2371 - val_root_mean_squared_error: 0.4869\n",
      "Epoch 27/30\n",
      "637/641 [============================>.] - ETA: 0s - loss: 0.1928 - root_mean_squared_error: 0.4391\n",
      "Epoch 00027: val_loss did not improve from 0.22180\n",
      "641/641 [==============================] - 4s 6ms/step - loss: 0.1921 - root_mean_squared_error: 0.4383 - val_loss: 0.2362 - val_root_mean_squared_error: 0.4860\n",
      "Epoch 28/30\n",
      "633/641 [============================>.] - ETA: 0s - loss: 0.1905 - root_mean_squared_error: 0.4364\n",
      "Epoch 00028: val_loss did not improve from 0.22180\n",
      "641/641 [==============================] - 4s 6ms/step - loss: 0.1904 - root_mean_squared_error: 0.4363 - val_loss: 0.2396 - val_root_mean_squared_error: 0.4895\n",
      "Epoch 29/30\n",
      "640/641 [============================>.] - ETA: 0s - loss: 0.1897 - root_mean_squared_error: 0.4355\n",
      "Epoch 00029: val_loss did not improve from 0.22180\n",
      "641/641 [==============================] - 4s 6ms/step - loss: 0.1896 - root_mean_squared_error: 0.4354 - val_loss: 0.2357 - val_root_mean_squared_error: 0.4855\n",
      "Epoch 30/30\n",
      "637/641 [============================>.] - ETA: 0s - loss: 0.1899 - root_mean_squared_error: 0.4358\n",
      "Epoch 00030: val_loss did not improve from 0.22180\n",
      "641/641 [==============================] - 4s 6ms/step - loss: 0.1893 - root_mean_squared_error: 0.4350 - val_loss: 0.2410 - val_root_mean_squared_error: 0.4909\n"
     ]
    }
   ],
   "source": [
    "history = model.fit(X_train,\n",
    "                    y_train,\n",
    "                    batch_size=64,\n",
    "                    validation_data=(X_test, y_test),\n",
    "                    epochs=30,\n",
    "                    verbose=1,\n",
    "                    callbacks=callbacks_list)"
   ]
  },
  {
   "cell_type": "code",
   "execution_count": null,
   "metadata": {
    "colab": {},
    "colab_type": "code",
    "id": "brYB9uI5VaJy"
   },
   "outputs": [],
   "source": [
    "ticks = [i for i in range(0, 31, 5)]\n",
    "labels = [i for i in range(0, 31, 5)]\n",
    "labels[0] = 1"
   ]
  },
  {
   "cell_type": "code",
   "execution_count": null,
   "metadata": {
    "colab": {
     "base_uri": "https://localhost:8080/",
     "height": 516
    },
    "colab_type": "code",
    "id": "3kAlVBvGVOqq",
    "outputId": "1ef28c22-3fcf-409c-8d50-4d007ceecc20"
   },
   "outputs": [
    {
     "data": {
      "image/png": "[encoded data removed]",
      "text/plain": [
       "<Figure size 1440x576 with 1 Axes>"
      ]
     },
     "metadata": {
      "needs_background": "light",
      "tags": []
     },
     "output_type": "display_data"
    }
   ],
   "source": [
    "train_loss = history.history['loss']\n",
    "test_loss = history.history['val_loss']\n",
    "\n",
    "# Set figure size.\n",
    "plt.figure(figsize=(20, 8))\n",
    "\n",
    "# Generate line plot of training, testing loss over epochs.\n",
    "plt.plot(train_loss, label='Training Loss', color='#185fad')\n",
    "plt.plot(test_loss, label='Testing Loss', color='orange')\n",
    "\n",
    "# Set title\n",
    "plt.title('Training and Testing Loss by Epoch for Camera1', fontsize = 25)\n",
    "plt.xlabel('Epoch', fontsize = 18)\n",
    "plt.ylabel('Mean Squared Error', fontsize = 18)\n",
    "plt.xticks(ticks, labels)\n",
    "\n",
    "plt.legend(fontsize = 18)\n",
    "\n",
    "plt.savefig('/content/drive/My Drive/images/train_test_loss_model4_2_camera1.png');"
   ]
  },
  {
   "cell_type": "code",
   "execution_count": null,
   "metadata": {
    "colab": {},
    "colab_type": "code",
    "id": "OjzIuvFkka9g"
   },
   "outputs": [],
   "source": [
    "def model_history(model_name): \n",
    "  model = pd.DataFrame({'loss': history.history['loss'],\n",
    "                        'root_mean_squared_error': history.history['root_mean_squared_error'],\n",
    "                        'val_loss': history.history['val_loss'],\n",
    "                        'val_root_mean_squared_error': history.history['val_root_mean_squared_error']},\n",
    "                        columns = ['loss', 'root_mean_squared_error', 'val_loss', 'val_root_mean_squared_error'])\n",
    "\n",
    "  model.to_csv(f'/content/drive/My Drive/datasets/{model_name}.csv', index=False)\n",
    "  return model"
   ]
  },
  {
   "cell_type": "code",
   "execution_count": null,
   "metadata": {
    "colab": {},
    "colab_type": "code",
    "id": "5iOc0O-5k-zo"
   },
   "outputs": [],
   "source": [
    "model_3_camera1 = model_history('model_4_2_camera1')"
   ]
  },
  {
   "cell_type": "code",
   "execution_count": null,
   "metadata": {
    "colab": {},
    "colab_type": "code",
    "id": "M5iEtZ6wSeK_"
   },
   "outputs": [],
   "source": [
    "########################### end of train with camera1 data for model 3"
   ]
  },
  {
   "cell_type": "code",
   "execution_count": null,
   "metadata": {
    "colab": {},
    "colab_type": "code",
    "id": "5Oi3lXAT2247"
   },
   "outputs": [],
   "source": [
    "########################### star of train with camera9 data for model 3"
   ]
  },
  {
   "cell_type": "code",
   "execution_count": null,
   "metadata": {
    "colab": {},
    "colab_type": "code",
    "id": "9s3LCj6_27U4"
   },
   "outputs": [],
   "source": [
    "camera3 = load('/content/drive/My Drive/datasets/camera3_cleaned.npz')\n",
    "log3 = pd.read_csv('/content/drive/My Drive/datasets/log3_cleaned.csv')"
   ]
  },
  {
   "cell_type": "code",
   "execution_count": null,
   "metadata": {
    "colab": {
     "base_uri": "https://localhost:8080/",
     "height": 34
    },
    "colab_type": "code",
    "id": "Du-e6s796NLP",
    "outputId": "feaf0e6f-cbcc-407e-ffb2-f0aa274653b0"
   },
   "outputs": [
    {
     "name": "stdout",
     "output_type": "stream",
     "text": [
      "Done\n"
     ]
    }
   ],
   "source": [
    "camera_processing(camera3, 'camera3')"
   ]
  },
  {
   "cell_type": "code",
   "execution_count": null,
   "metadata": {
    "colab": {
     "base_uri": "https://localhost:8080/",
     "height": 34
    },
    "colab_type": "code",
    "id": "GGt1rZCf5jlY",
    "outputId": "5e5b5ea4-c3d3-48b1-d9a8-eaf8f6196403"
   },
   "outputs": [
    {
     "name": "stdout",
     "output_type": "stream",
     "text": [
      "Done\n"
     ]
    }
   ],
   "source": [
    "log_processing(log3, 'log3')"
   ]
  },
  {
   "cell_type": "code",
   "execution_count": null,
   "metadata": {
    "colab": {},
    "colab_type": "code",
    "id": "GPbpmLV58ZFI"
   },
   "outputs": [],
   "source": [
    "def train_split(camera_file_name, log_file_name):\n",
    "  # load camera file\n",
    "  X = load(f'/content/drive/My Drive/datasets/{camera_file_name}_train.npz')\n",
    "  X = X.f.arr_0\n",
    "  # load log file\n",
    "  log = pd.read_csv(f'/content/drive/My Drive/datasets/{log_file_name}_train.csv')\n",
    "  y = log['steering_avg_radian']\n",
    "  y = y.to_numpy()\n",
    "  y = y.reshape(y.shape[0], 1)\n",
    "  # train test split\n",
    "  X_train, X_test, y_train, y_test = train_test_split(X, y, test_size=0.2, shuffle=True)\n",
    "  # save them into individual file doing so due to ram management\n",
    "  savez_compressed(f'/content/drive/My Drive/datasets/{camera_file_name}_X_train', X_train)\n",
    "  savez_compressed(f'/content/drive/My Drive/datasets/{camera_file_name}_X_test', X_test)\n",
    "  savez_compressed(f'/content/drive/My Drive/datasets/{camera_file_name}_y_train', y_train)\n",
    "  savez_compressed(f'/content/drive/My Drive/datasets/{camera_file_name}_y_test', y_test)\n",
    "\n",
    "  return print('Done')"
   ]
  },
  {
   "cell_type": "code",
   "execution_count": null,
   "metadata": {
    "colab": {
     "base_uri": "https://localhost:8080/",
     "height": 34
    },
    "colab_type": "code",
    "id": "Uv2fmI93-uMr",
    "outputId": "bba8f6d9-5f26-46e8-ce7a-5583f1d03259"
   },
   "outputs": [
    {
     "name": "stdout",
     "output_type": "stream",
     "text": [
      "Done\n"
     ]
    }
   ],
   "source": [
    "train_split('camera3', 'log3')"
   ]
  },
  {
   "cell_type": "code",
   "execution_count": null,
   "metadata": {
    "colab": {},
    "colab_type": "code",
    "id": "0fUD3I8h13VR"
   },
   "outputs": [],
   "source": [
    "\"\"\"\n",
    "new data workflow\n",
    "camera2 = load('/content/drive/My Drive/datasets/camera2_cleaned.npz')\n",
    "log2 = pd.read_csv('/content/drive/My Drive/datasets/log2_cleaned.csv')\n",
    "\n",
    "log_processing(log2, 'log2')\n",
    "\n",
    "train_split('camera2', 'log2')\n",
    "\"\"\""
   ]
  },
  {
   "cell_type": "code",
   "execution_count": null,
   "metadata": {
    "colab": {},
    "colab_type": "code",
    "id": "6YtLcCNk7Ptl"
   },
   "outputs": [],
   "source": [
    "from keras.models import load_model"
   ]
  },
  {
   "cell_type": "code",
   "execution_count": null,
   "metadata": {
    "colab": {},
    "colab_type": "code",
    "id": "kRkXNI167Ptt"
   },
   "outputs": [],
   "source": [
    "model = load_model('/content/drive/My Drive/epochs/model_5_2_camera1.0006-0.2219.h5')"
   ]
  },
  {
   "cell_type": "code",
   "execution_count": null,
   "metadata": {
    "colab": {},
    "colab_type": "code",
    "id": "HICj6VnB7Ptx"
   },
   "outputs": [],
   "source": [
    "def train_load(camera_file_name):\n",
    "  !cp -r \"/content/drive/My Drive/datasets/{camera_file_name}_X_train.npz\" ./X_train.npz\n",
    "  !cp -r \"/content/drive/My Drive/datasets/{camera_file_name}_X_test.npz\" ./X_test.npz\n",
    "  !cp -r \"/content/drive/My Drive/datasets/{camera_file_name}_y_train.npz\" ./y_train.npz\n",
    "  !cp -r \"/content/drive/My Drive/datasets/{camera_file_name}_y_test.npz\" ./y_test.npz\n",
    "  X_train = load('./X_train.npz')\n",
    "  X_train = X_train.f.arr_0\n",
    "  X_test = load('./X_test.npz')\n",
    "  X_test = X_test.f.arr_0\n",
    "  y_train = load('./y_train.npz')\n",
    "  y_train = y_train.f.arr_0\n",
    "  y_test = load('./y_test.npz')\n",
    "  y_test = y_test.f.arr_0\n",
    "\n",
    "  return X_train, X_test, y_train, y_test"
   ]
  },
  {
   "cell_type": "code",
   "execution_count": null,
   "metadata": {
    "colab": {},
    "colab_type": "code",
    "id": "CFd6a5Qv7Ptz"
   },
   "outputs": [],
   "source": [
    "X_train, X_test, y_train, y_test = train_load('camera9')"
   ]
  },
  {
   "cell_type": "code",
   "execution_count": null,
   "metadata": {
    "colab": {
     "base_uri": "https://localhost:8080/",
     "height": 34
    },
    "colab_type": "code",
    "id": "Gy1665sS7Pt1",
    "outputId": "a82d286f-b70d-425f-b19a-790bc9d8631b"
   },
   "outputs": [
    {
     "data": {
      "text/plain": [
       "((38312, 80, 160, 1), (9578, 80, 160, 1), (38312, 1), (9578, 1))"
      ]
     },
     "execution_count": 13,
     "metadata": {
      "tags": []
     },
     "output_type": "execute_result"
    }
   ],
   "source": [
    "X_train.shape, X_test.shape, y_train.shape, y_test.shape"
   ]
  },
  {
   "cell_type": "code",
   "execution_count": null,
   "metadata": {
    "colab": {},
    "colab_type": "code",
    "id": "HJCLmEfH7Pt3"
   },
   "outputs": [],
   "source": [
    "from keras.callbacks import *\n",
    "filepath = \"/content/drive/My Drive/epochs/model_5_3_camera9.{epoch:04d}-{val_loss:.4f}.h5\"\n",
    "checkpoint = ModelCheckpoint(filepath, monitor='val_loss', verbose=1, save_best_only=True, mode='min')\n",
    "callbacks_list = [checkpoint]"
   ]
  },
  {
   "cell_type": "code",
   "execution_count": null,
   "metadata": {
    "colab": {
     "base_uri": "https://localhost:8080/",
     "height": 1000
    },
    "colab_type": "code",
    "id": "ckKW_gGx7Pt5",
    "outputId": "f7df1b08-0b16-46a9-8e6f-64111247f777"
   },
   "outputs": [
    {
     "name": "stdout",
     "output_type": "stream",
     "text": [
      "Epoch 1/30\n",
      "599/599 [==============================] - ETA: 0s - loss: 0.0626 - root_mean_squared_error: 0.2503\n",
      "Epoch 00001: val_loss improved from inf to 0.05617, saving model to /content/drive/My Drive/epochs/model_5_3_camera9.0001-0.0562.h5\n",
      "599/599 [==============================] - 4s 7ms/step - loss: 0.0626 - root_mean_squared_error: 0.2503 - val_loss: 0.0562 - val_root_mean_squared_error: 0.2370\n",
      "Epoch 2/30\n",
      "598/599 [============================>.] - ETA: 0s - loss: 0.0539 - root_mean_squared_error: 0.2321\n",
      "Epoch 00002: val_loss improved from 0.05617 to 0.05341, saving model to /content/drive/My Drive/epochs/model_5_3_camera9.0002-0.0534.h5\n",
      "599/599 [==============================] - 4s 6ms/step - loss: 0.0538 - root_mean_squared_error: 0.2320 - val_loss: 0.0534 - val_root_mean_squared_error: 0.2311\n",
      "Epoch 3/30\n",
      "597/599 [============================>.] - ETA: 0s - loss: 0.0510 - root_mean_squared_error: 0.2258\n",
      "Epoch 00003: val_loss improved from 0.05341 to 0.05258, saving model to /content/drive/My Drive/epochs/model_5_3_camera9.0003-0.0526.h5\n",
      "599/599 [==============================] - 4s 7ms/step - loss: 0.0513 - root_mean_squared_error: 0.2265 - val_loss: 0.0526 - val_root_mean_squared_error: 0.2293\n",
      "Epoch 4/30\n",
      "596/599 [============================>.] - ETA: 0s - loss: 0.0497 - root_mean_squared_error: 0.2229\n",
      "Epoch 00004: val_loss did not improve from 0.05258\n",
      "599/599 [==============================] - 4s 6ms/step - loss: 0.0498 - root_mean_squared_error: 0.2231 - val_loss: 0.0528 - val_root_mean_squared_error: 0.2298\n",
      "Epoch 5/30\n",
      "591/599 [============================>.] - ETA: 0s - loss: 0.0480 - root_mean_squared_error: 0.2191\n",
      "Epoch 00005: val_loss did not improve from 0.05258\n",
      "599/599 [==============================] - 4s 6ms/step - loss: 0.0485 - root_mean_squared_error: 0.2202 - val_loss: 0.0530 - val_root_mean_squared_error: 0.2303\n",
      "Epoch 6/30\n",
      "598/599 [============================>.] - ETA: 0s - loss: 0.0475 - root_mean_squared_error: 0.2179\n",
      "Epoch 00006: val_loss did not improve from 0.05258\n",
      "599/599 [==============================] - 4s 6ms/step - loss: 0.0475 - root_mean_squared_error: 0.2178 - val_loss: 0.0534 - val_root_mean_squared_error: 0.2311\n",
      "Epoch 7/30\n",
      "593/599 [============================>.] - ETA: 0s - loss: 0.0461 - root_mean_squared_error: 0.2147\n",
      "Epoch 00007: val_loss did not improve from 0.05258\n",
      "599/599 [==============================] - 4s 6ms/step - loss: 0.0462 - root_mean_squared_error: 0.2149 - val_loss: 0.0529 - val_root_mean_squared_error: 0.2299\n",
      "Epoch 8/30\n",
      "597/599 [============================>.] - ETA: 0s - loss: 0.0456 - root_mean_squared_error: 0.2134\n",
      "Epoch 00008: val_loss did not improve from 0.05258\n",
      "599/599 [==============================] - 4s 6ms/step - loss: 0.0455 - root_mean_squared_error: 0.2133 - val_loss: 0.0531 - val_root_mean_squared_error: 0.2304\n",
      "Epoch 9/30\n",
      "594/599 [============================>.] - ETA: 0s - loss: 0.0451 - root_mean_squared_error: 0.2125\n",
      "Epoch 00009: val_loss did not improve from 0.05258\n",
      "599/599 [==============================] - 4s 6ms/step - loss: 0.0450 - root_mean_squared_error: 0.2121 - val_loss: 0.0543 - val_root_mean_squared_error: 0.2330\n",
      "Epoch 10/30\n",
      "594/599 [============================>.] - ETA: 0s - loss: 0.0446 - root_mean_squared_error: 0.2112\n",
      "Epoch 00010: val_loss did not improve from 0.05258\n",
      "599/599 [==============================] - 4s 6ms/step - loss: 0.0444 - root_mean_squared_error: 0.2106 - val_loss: 0.0538 - val_root_mean_squared_error: 0.2320\n",
      "Epoch 11/30\n",
      "594/599 [============================>.] - ETA: 0s - loss: 0.0433 - root_mean_squared_error: 0.2081\n",
      "Epoch 00011: val_loss did not improve from 0.05258\n",
      "599/599 [==============================] - 4s 6ms/step - loss: 0.0435 - root_mean_squared_error: 0.2085 - val_loss: 0.0551 - val_root_mean_squared_error: 0.2347\n",
      "Epoch 12/30\n",
      "594/599 [============================>.] - ETA: 0s - loss: 0.0428 - root_mean_squared_error: 0.2070\n",
      "Epoch 00012: val_loss did not improve from 0.05258\n",
      "599/599 [==============================] - 4s 6ms/step - loss: 0.0431 - root_mean_squared_error: 0.2076 - val_loss: 0.0546 - val_root_mean_squared_error: 0.2337\n",
      "Epoch 13/30\n",
      "596/599 [============================>.] - ETA: 0s - loss: 0.0425 - root_mean_squared_error: 0.2062\n",
      "Epoch 00013: val_loss did not improve from 0.05258\n",
      "599/599 [==============================] - 4s 6ms/step - loss: 0.0424 - root_mean_squared_error: 0.2060 - val_loss: 0.0548 - val_root_mean_squared_error: 0.2341\n",
      "Epoch 14/30\n",
      "595/599 [============================>.] - ETA: 0s - loss: 0.0413 - root_mean_squared_error: 0.2032\n",
      "Epoch 00014: val_loss did not improve from 0.05258\n",
      "599/599 [==============================] - 4s 6ms/step - loss: 0.0417 - root_mean_squared_error: 0.2042 - val_loss: 0.0558 - val_root_mean_squared_error: 0.2363\n",
      "Epoch 15/30\n",
      "596/599 [============================>.] - ETA: 0s - loss: 0.0416 - root_mean_squared_error: 0.2039\n",
      "Epoch 00015: val_loss did not improve from 0.05258\n",
      "599/599 [==============================] - 4s 6ms/step - loss: 0.0415 - root_mean_squared_error: 0.2037 - val_loss: 0.0554 - val_root_mean_squared_error: 0.2353\n",
      "Epoch 16/30\n",
      "594/599 [============================>.] - ETA: 0s - loss: 0.0408 - root_mean_squared_error: 0.2021\n",
      "Epoch 00016: val_loss did not improve from 0.05258\n",
      "599/599 [==============================] - 4s 6ms/step - loss: 0.0408 - root_mean_squared_error: 0.2019 - val_loss: 0.0560 - val_root_mean_squared_error: 0.2367\n",
      "Epoch 17/30\n",
      "594/599 [============================>.] - ETA: 0s - loss: 0.0409 - root_mean_squared_error: 0.2021\n",
      "Epoch 00017: val_loss did not improve from 0.05258\n",
      "599/599 [==============================] - 4s 6ms/step - loss: 0.0408 - root_mean_squared_error: 0.2020 - val_loss: 0.0548 - val_root_mean_squared_error: 0.2341\n",
      "Epoch 18/30\n",
      "597/599 [============================>.] - ETA: 0s - loss: 0.0398 - root_mean_squared_error: 0.1994\n",
      "Epoch 00018: val_loss did not improve from 0.05258\n",
      "599/599 [==============================] - 4s 6ms/step - loss: 0.0398 - root_mean_squared_error: 0.1994 - val_loss: 0.0561 - val_root_mean_squared_error: 0.2369\n",
      "Epoch 19/30\n",
      "593/599 [============================>.] - ETA: 0s - loss: 0.0394 - root_mean_squared_error: 0.1985\n",
      "Epoch 00019: val_loss did not improve from 0.05258\n",
      "599/599 [==============================] - 4s 6ms/step - loss: 0.0395 - root_mean_squared_error: 0.1988 - val_loss: 0.0574 - val_root_mean_squared_error: 0.2395\n",
      "Epoch 20/30\n",
      "599/599 [==============================] - ETA: 0s - loss: 0.0392 - root_mean_squared_error: 0.1980\n",
      "Epoch 00020: val_loss did not improve from 0.05258\n",
      "599/599 [==============================] - 4s 6ms/step - loss: 0.0392 - root_mean_squared_error: 0.1980 - val_loss: 0.0578 - val_root_mean_squared_error: 0.2405\n",
      "Epoch 21/30\n",
      "595/599 [============================>.] - ETA: 0s - loss: 0.0393 - root_mean_squared_error: 0.1982\n",
      "Epoch 00021: val_loss did not improve from 0.05258\n",
      "599/599 [==============================] - 4s 6ms/step - loss: 0.0393 - root_mean_squared_error: 0.1984 - val_loss: 0.0577 - val_root_mean_squared_error: 0.2403\n",
      "Epoch 22/30\n",
      "596/599 [============================>.] - ETA: 0s - loss: 0.0390 - root_mean_squared_error: 0.1974\n",
      "Epoch 00022: val_loss did not improve from 0.05258\n",
      "599/599 [==============================] - 4s 6ms/step - loss: 0.0388 - root_mean_squared_error: 0.1971 - val_loss: 0.0571 - val_root_mean_squared_error: 0.2390\n",
      "Epoch 23/30\n",
      "594/599 [============================>.] - ETA: 0s - loss: 0.0387 - root_mean_squared_error: 0.1966\n",
      "Epoch 00023: val_loss did not improve from 0.05258\n",
      "599/599 [==============================] - 4s 6ms/step - loss: 0.0385 - root_mean_squared_error: 0.1962 - val_loss: 0.0570 - val_root_mean_squared_error: 0.2388\n",
      "Epoch 24/30\n",
      "596/599 [============================>.] - ETA: 0s - loss: 0.0382 - root_mean_squared_error: 0.1954\n",
      "Epoch 00024: val_loss did not improve from 0.05258\n",
      "599/599 [==============================] - 4s 6ms/step - loss: 0.0381 - root_mean_squared_error: 0.1952 - val_loss: 0.0588 - val_root_mean_squared_error: 0.2425\n",
      "Epoch 25/30\n",
      "594/599 [============================>.] - ETA: 0s - loss: 0.0377 - root_mean_squared_error: 0.1941\n",
      "Epoch 00025: val_loss did not improve from 0.05258\n",
      "599/599 [==============================] - 4s 6ms/step - loss: 0.0377 - root_mean_squared_error: 0.1941 - val_loss: 0.0590 - val_root_mean_squared_error: 0.2430\n",
      "Epoch 26/30\n",
      "594/599 [============================>.] - ETA: 0s - loss: 0.0374 - root_mean_squared_error: 0.1935\n",
      "Epoch 00026: val_loss did not improve from 0.05258\n",
      "599/599 [==============================] - 4s 6ms/step - loss: 0.0374 - root_mean_squared_error: 0.1934 - val_loss: 0.0590 - val_root_mean_squared_error: 0.2428\n",
      "Epoch 27/30\n",
      "596/599 [============================>.] - ETA: 0s - loss: 0.0371 - root_mean_squared_error: 0.1926\n",
      "Epoch 00027: val_loss did not improve from 0.05258\n",
      "599/599 [==============================] - 4s 6ms/step - loss: 0.0372 - root_mean_squared_error: 0.1929 - val_loss: 0.0596 - val_root_mean_squared_error: 0.2442\n",
      "Epoch 28/30\n",
      "590/599 [============================>.] - ETA: 0s - loss: 0.0369 - root_mean_squared_error: 0.1920\n",
      "Epoch 00028: val_loss did not improve from 0.05258\n",
      "599/599 [==============================] - 4s 6ms/step - loss: 0.0372 - root_mean_squared_error: 0.1928 - val_loss: 0.0594 - val_root_mean_squared_error: 0.2437\n",
      "Epoch 29/30\n",
      "591/599 [============================>.] - ETA: 0s - loss: 0.0368 - root_mean_squared_error: 0.1918\n",
      "Epoch 00029: val_loss did not improve from 0.05258\n",
      "599/599 [==============================] - 4s 6ms/step - loss: 0.0366 - root_mean_squared_error: 0.1913 - val_loss: 0.0595 - val_root_mean_squared_error: 0.2439\n",
      "Epoch 30/30\n",
      "593/599 [============================>.] - ETA: 0s - loss: 0.0364 - root_mean_squared_error: 0.1908\n",
      "Epoch 00030: val_loss did not improve from 0.05258\n",
      "599/599 [==============================] - 4s 6ms/step - loss: 0.0364 - root_mean_squared_error: 0.1907 - val_loss: 0.0600 - val_root_mean_squared_error: 0.2450\n"
     ]
    }
   ],
   "source": [
    "history = model.fit(X_train,\n",
    "                    y_train,\n",
    "                    batch_size=64,\n",
    "                    validation_data=(X_test, y_test),\n",
    "                    epochs=30,\n",
    "                    verbose=1,\n",
    "                    callbacks=callbacks_list)"
   ]
  },
  {
   "cell_type": "code",
   "execution_count": null,
   "metadata": {
    "colab": {},
    "colab_type": "code",
    "id": "sOwJMb8d7Pt9"
   },
   "outputs": [],
   "source": [
    "ticks = [i for i in range(10)]\n",
    "labels = [i for i in range(1, 11)]"
   ]
  },
  {
   "cell_type": "code",
   "execution_count": null,
   "metadata": {
    "colab": {
     "base_uri": "https://localhost:8080/",
     "height": 517
    },
    "colab_type": "code",
    "id": "ADTTZKH-7Pt_",
    "outputId": "b8447185-abb2-4616-b801-e9253827e06f"
   },
   "outputs": [
    {
     "data": {
      "image/png": "[encoded data removed]",
      "text/plain": [
       "<Figure size 1440x576 with 1 Axes>"
      ]
     },
     "metadata": {
      "needs_background": "light",
      "tags": []
     },
     "output_type": "display_data"
    }
   ],
   "source": [
    "train_loss = history.history['loss']\n",
    "test_loss = history.history['val_loss']\n",
    "\n",
    "# Set figure size.\n",
    "plt.figure(figsize=(20, 8))\n",
    "\n",
    "# Generate line plot of training, testing loss over epochs.\n",
    "plt.plot(train_loss, label='Training Loss', color='#185fad')\n",
    "plt.plot(test_loss, label='Testing Loss', color='orange')\n",
    "\n",
    "# Set title\n",
    "plt.title('Training and Testing Loss by Epoch for Camera9', fontsize = 25)\n",
    "plt.xlabel('Epoch', fontsize = 18)\n",
    "plt.ylabel('Mean Squared Error', fontsize = 18)\n",
    "plt.xticks(ticks, labels)\n",
    "\n",
    "plt.legend(fontsize = 18)\n",
    "\n",
    "plt.savefig('/content/drive/My Drive/images/train_test_loss_model5_3_camera9.png');"
   ]
  },
  {
   "cell_type": "code",
   "execution_count": null,
   "metadata": {
    "colab": {},
    "colab_type": "code",
    "id": "ubKUykpt7PuB"
   },
   "outputs": [],
   "source": [
    "def model_history(model_name): \n",
    "  model = pd.DataFrame({'loss': history.history['loss'],\n",
    "                        'root_mean_squared_error': history.history['root_mean_squared_error'],\n",
    "                        'val_loss': history.history['val_loss'],\n",
    "                        'val_root_mean_squared_error': history.history['val_root_mean_squared_error']},\n",
    "                        columns = ['loss', 'root_mean_squared_error', 'val_loss', 'val_root_mean_squared_error'])\n",
    "\n",
    "  model.to_csv(f'/content/drive/My Drive/datasets/{model_name}.csv', index=False)\n",
    "  return model"
   ]
  },
  {
   "cell_type": "code",
   "execution_count": null,
   "metadata": {
    "colab": {},
    "colab_type": "code",
    "id": "zZ-WqIvi7PuC"
   },
   "outputs": [],
   "source": [
    "model_3_camera9 = model_history('model_5_3_camera9')"
   ]
  },
  {
   "cell_type": "code",
   "execution_count": null,
   "metadata": {
    "colab": {
     "base_uri": "https://localhost:8080/",
     "height": 204
    },
    "colab_type": "code",
    "id": "WectKpE9QJQd",
    "outputId": "3c9e6729-7f1f-4906-9789-3e6600cd73a6"
   },
   "outputs": [
    {
     "data": {
      "text/html": [
       "<div>\n",
       "<style scoped>\n",
       "    .dataframe tbody tr th:only-of-type {\n",
       "        vertical-align: middle;\n",
       "    }\n",
       "\n",
       "    .dataframe tbody tr th {\n",
       "        vertical-align: top;\n",
       "    }\n",
       "\n",
       "    .dataframe thead th {\n",
       "        text-align: right;\n",
       "    }\n",
       "</style>\n",
       "<table border=\"1\" class=\"dataframe\">\n",
       "  <thead>\n",
       "    <tr style=\"text-align: right;\">\n",
       "      <th></th>\n",
       "      <th>loss</th>\n",
       "      <th>root_mean_squared_error</th>\n",
       "      <th>val_loss</th>\n",
       "      <th>val_root_mean_squared_error</th>\n",
       "    </tr>\n",
       "  </thead>\n",
       "  <tbody>\n",
       "    <tr>\n",
       "      <th>0</th>\n",
       "      <td>0.056209</td>\n",
       "      <td>0.237085</td>\n",
       "      <td>0.053514</td>\n",
       "      <td>0.231331</td>\n",
       "    </tr>\n",
       "    <tr>\n",
       "      <th>1</th>\n",
       "      <td>0.053505</td>\n",
       "      <td>0.231311</td>\n",
       "      <td>0.053615</td>\n",
       "      <td>0.231550</td>\n",
       "    </tr>\n",
       "    <tr>\n",
       "      <th>2</th>\n",
       "      <td>0.052994</td>\n",
       "      <td>0.230205</td>\n",
       "      <td>0.052874</td>\n",
       "      <td>0.229944</td>\n",
       "    </tr>\n",
       "    <tr>\n",
       "      <th>3</th>\n",
       "      <td>0.051281</td>\n",
       "      <td>0.226452</td>\n",
       "      <td>0.047531</td>\n",
       "      <td>0.218015</td>\n",
       "    </tr>\n",
       "    <tr>\n",
       "      <th>4</th>\n",
       "      <td>0.048198</td>\n",
       "      <td>0.219540</td>\n",
       "      <td>0.043076</td>\n",
       "      <td>0.207548</td>\n",
       "    </tr>\n",
       "  </tbody>\n",
       "</table>\n",
       "</div>"
      ],
      "text/plain": [
       "       loss  root_mean_squared_error  val_loss  val_root_mean_squared_error\n",
       "0  0.056209                 0.237085  0.053514                     0.231331\n",
       "1  0.053505                 0.231311  0.053615                     0.231550\n",
       "2  0.052994                 0.230205  0.052874                     0.229944\n",
       "3  0.051281                 0.226452  0.047531                     0.218015\n",
       "4  0.048198                 0.219540  0.043076                     0.207548"
      ]
     },
     "execution_count": 29,
     "metadata": {
      "tags": []
     },
     "output_type": "execute_result"
    }
   ],
   "source": [
    "model_3_camera9.head()"
   ]
  },
  {
   "cell_type": "code",
   "execution_count": null,
   "metadata": {
    "colab": {},
    "colab_type": "code",
    "id": "MhQdTF457KNN"
   },
   "outputs": [],
   "source": [
    "#################### end of training camera9 data for model 3"
   ]
  },
  {
   "cell_type": "code",
   "execution_count": null,
   "metadata": {
    "colab": {},
    "colab_type": "code",
    "id": "V7y9oc85A2d-"
   },
   "outputs": [],
   "source": []
  },
  {
   "cell_type": "code",
   "execution_count": null,
   "metadata": {
    "colab": {},
    "colab_type": "code",
    "id": "gu4UJ4sjA3nH"
   },
   "outputs": [],
   "source": [
    "########################### start of train with camera2 data for model 3"
   ]
  },
  {
   "cell_type": "code",
   "execution_count": null,
   "metadata": {
    "colab": {},
    "colab_type": "code",
    "id": "hrtv4_fiA3nJ"
   },
   "outputs": [],
   "source": [
    "camera4 = load('/content/drive/My Drive/datasets/camera4_cleaned.npz')\n",
    "log4 = pd.read_csv('/content/drive/My Drive/datasets/log4_cleaned.csv')"
   ]
  },
  {
   "cell_type": "code",
   "execution_count": null,
   "metadata": {
    "colab": {
     "base_uri": "https://localhost:8080/",
     "height": 34
    },
    "colab_type": "code",
    "id": "R2YurvfOA3nL",
    "outputId": "70ad09a7-741b-41c0-d017-11baad89b4bc"
   },
   "outputs": [
    {
     "name": "stdout",
     "output_type": "stream",
     "text": [
      "Done\n"
     ]
    }
   ],
   "source": [
    "camera_processing(camera4, 'camera4')"
   ]
  },
  {
   "cell_type": "code",
   "execution_count": null,
   "metadata": {
    "colab": {
     "base_uri": "https://localhost:8080/",
     "height": 34
    },
    "colab_type": "code",
    "id": "BgylVnBIA3nO",
    "outputId": "4150ff38-26ff-4921-d094-aebe09ba42cf"
   },
   "outputs": [
    {
     "name": "stdout",
     "output_type": "stream",
     "text": [
      "Done\n"
     ]
    }
   ],
   "source": [
    "log_processing(log4, 'log4')"
   ]
  },
  {
   "cell_type": "code",
   "execution_count": null,
   "metadata": {
    "colab": {
     "base_uri": "https://localhost:8080/",
     "height": 34
    },
    "colab_type": "code",
    "id": "30dxH1E5A3nT",
    "outputId": "c4861f55-7cb7-4363-ad18-428babf3a1a5"
   },
   "outputs": [
    {
     "name": "stdout",
     "output_type": "stream",
     "text": [
      "Done\n"
     ]
    }
   ],
   "source": [
    "train_split('camera4', 'log4')"
   ]
  },
  {
   "cell_type": "code",
   "execution_count": null,
   "metadata": {
    "colab": {},
    "colab_type": "code",
    "id": "gxjloFa2A3nX"
   },
   "outputs": [],
   "source": [
    "\"\"\"\n",
    "new data workflow\n",
    "camera2 = load('/content/drive/My Drive/datasets/camera2_cleaned.npz')\n",
    "log2 = pd.read_csv('/content/drive/My Drive/datasets/log2_cleaned.csv')\n",
    "\n",
    "camera_processing(camera2, 'camera2')\n",
    "\n",
    "log_processing(log2, 'log2')\n",
    "\n",
    "train_split('camera2', 'log2')\n",
    "\"\"\""
   ]
  },
  {
   "cell_type": "code",
   "execution_count": null,
   "metadata": {
    "colab": {},
    "colab_type": "code",
    "id": "VYOg06dUA3nb"
   },
   "outputs": [],
   "source": [
    "model = load_model('/content/drive/My Drive/epochs/model_5_3_camera9.0003-0.0526.h5')"
   ]
  },
  {
   "cell_type": "code",
   "execution_count": null,
   "metadata": {
    "colab": {},
    "colab_type": "code",
    "id": "Q8Bbek_rA3nc"
   },
   "outputs": [],
   "source": [
    "def train_load(camera_file_name):\n",
    "  !cp -r \"/content/drive/My Drive/datasets/{camera_file_name}_X_train.npz\" ./X_train.npz\n",
    "  !cp -r \"/content/drive/My Drive/datasets/{camera_file_name}_X_test.npz\" ./X_test.npz\n",
    "  !cp -r \"/content/drive/My Drive/datasets/{camera_file_name}_y_train.npz\" ./y_train.npz\n",
    "  !cp -r \"/content/drive/My Drive/datasets/{camera_file_name}_y_test.npz\" ./y_test.npz\n",
    "  X_train = load('./X_train.npz')\n",
    "  X_train = X_train.f.arr_0\n",
    "  X_test = load('./X_test.npz')\n",
    "  X_test = X_test.f.arr_0\n",
    "  y_train = load('./y_train.npz')\n",
    "  y_train = y_train.f.arr_0\n",
    "  y_test = load('./y_test.npz')\n",
    "  y_test = y_test.f.arr_0\n",
    "\n",
    "  return X_train, X_test, y_train, y_test"
   ]
  },
  {
   "cell_type": "code",
   "execution_count": null,
   "metadata": {
    "colab": {},
    "colab_type": "code",
    "id": "Q-twQqN7A3ng"
   },
   "outputs": [],
   "source": [
    "X_train, X_test, y_train, y_test = train_load('camera2')"
   ]
  },
  {
   "cell_type": "code",
   "execution_count": null,
   "metadata": {
    "colab": {
     "base_uri": "https://localhost:8080/",
     "height": 34
    },
    "colab_type": "code",
    "id": "q-4dBlG_A3ni",
    "outputId": "f0024e7c-554c-4f30-fe69-8c7530dc262e"
   },
   "outputs": [
    {
     "data": {
      "text/plain": [
       "((44958, 80, 160, 1), (11240, 80, 160, 1), (44958, 1), (11240, 1))"
      ]
     },
     "execution_count": 25,
     "metadata": {
      "tags": []
     },
     "output_type": "execute_result"
    }
   ],
   "source": [
    "X_train.shape, X_test.shape, y_train.shape, y_test.shape"
   ]
  },
  {
   "cell_type": "code",
   "execution_count": null,
   "metadata": {
    "colab": {},
    "colab_type": "code",
    "id": "HShkmE5dA3nk"
   },
   "outputs": [],
   "source": [
    "filepath = \"/content/drive/My Drive/epochs/model_5_4_camera2.{epoch:04d}-{val_loss:.4f}.h5\"\n",
    "checkpoint = ModelCheckpoint(filepath, monitor='val_loss', verbose=1, save_best_only=True, mode='min')\n",
    "callbacks_list = [checkpoint]"
   ]
  },
  {
   "cell_type": "code",
   "execution_count": null,
   "metadata": {
    "colab": {
     "base_uri": "https://localhost:8080/",
     "height": 1000
    },
    "colab_type": "code",
    "id": "oboAqGvaA3nm",
    "outputId": "a04a11e5-ab6d-4406-e254-8f9dca1fe959"
   },
   "outputs": [
    {
     "name": "stdout",
     "output_type": "stream",
     "text": [
      "Epoch 1/30\n",
      "702/703 [============================>.] - ETA: 0s - loss: 0.0459 - root_mean_squared_error: 0.2142\n",
      "Epoch 00001: val_loss improved from inf to 0.03861, saving model to /content/drive/My Drive/epochs/model_5_4_camera2.0001-0.0386.h5\n",
      "703/703 [==============================] - 5s 7ms/step - loss: 0.0459 - root_mean_squared_error: 0.2143 - val_loss: 0.0386 - val_root_mean_squared_error: 0.1965\n",
      "Epoch 2/30\n",
      "694/703 [============================>.] - ETA: 0s - loss: 0.0429 - root_mean_squared_error: 0.2072\n",
      "Epoch 00002: val_loss improved from 0.03861 to 0.03833, saving model to /content/drive/My Drive/epochs/model_5_4_camera2.0002-0.0383.h5\n",
      "703/703 [==============================] - 4s 6ms/step - loss: 0.0429 - root_mean_squared_error: 0.2070 - val_loss: 0.0383 - val_root_mean_squared_error: 0.1958\n",
      "Epoch 3/30\n",
      "696/703 [============================>.] - ETA: 0s - loss: 0.0416 - root_mean_squared_error: 0.2039\n",
      "Epoch 00003: val_loss improved from 0.03833 to 0.03827, saving model to /content/drive/My Drive/epochs/model_5_4_camera2.0003-0.0383.h5\n",
      "703/703 [==============================] - 4s 6ms/step - loss: 0.0413 - root_mean_squared_error: 0.2033 - val_loss: 0.0383 - val_root_mean_squared_error: 0.1956\n",
      "Epoch 4/30\n",
      "699/703 [============================>.] - ETA: 0s - loss: 0.0405 - root_mean_squared_error: 0.2012\n",
      "Epoch 00004: val_loss improved from 0.03827 to 0.03820, saving model to /content/drive/My Drive/epochs/model_5_4_camera2.0004-0.0382.h5\n",
      "703/703 [==============================] - 5s 7ms/step - loss: 0.0405 - root_mean_squared_error: 0.2012 - val_loss: 0.0382 - val_root_mean_squared_error: 0.1955\n",
      "Epoch 5/30\n",
      "694/703 [============================>.] - ETA: 0s - loss: 0.0396 - root_mean_squared_error: 0.1990\n",
      "Epoch 00005: val_loss did not improve from 0.03820\n",
      "703/703 [==============================] - 4s 6ms/step - loss: 0.0395 - root_mean_squared_error: 0.1987 - val_loss: 0.0391 - val_root_mean_squared_error: 0.1976\n",
      "Epoch 6/30\n",
      "700/703 [============================>.] - ETA: 0s - loss: 0.0388 - root_mean_squared_error: 0.1970\n",
      "Epoch 00006: val_loss did not improve from 0.03820\n",
      "703/703 [==============================] - 4s 6ms/step - loss: 0.0387 - root_mean_squared_error: 0.1968 - val_loss: 0.0396 - val_root_mean_squared_error: 0.1991\n",
      "Epoch 7/30\n",
      "698/703 [============================>.] - ETA: 0s - loss: 0.0380 - root_mean_squared_error: 0.1951\n",
      "Epoch 00007: val_loss did not improve from 0.03820\n",
      "703/703 [==============================] - 4s 6ms/step - loss: 0.0382 - root_mean_squared_error: 0.1954 - val_loss: 0.0400 - val_root_mean_squared_error: 0.2000\n",
      "Epoch 8/30\n",
      "694/703 [============================>.] - ETA: 0s - loss: 0.0372 - root_mean_squared_error: 0.1929\n",
      "Epoch 00008: val_loss did not improve from 0.03820\n",
      "703/703 [==============================] - 4s 6ms/step - loss: 0.0377 - root_mean_squared_error: 0.1941 - val_loss: 0.0396 - val_root_mean_squared_error: 0.1990\n",
      "Epoch 9/30\n",
      "701/703 [============================>.] - ETA: 0s - loss: 0.0366 - root_mean_squared_error: 0.1913\n",
      "Epoch 00009: val_loss did not improve from 0.03820\n",
      "703/703 [==============================] - 4s 6ms/step - loss: 0.0370 - root_mean_squared_error: 0.1924 - val_loss: 0.0401 - val_root_mean_squared_error: 0.2003\n",
      "Epoch 10/30\n",
      "701/703 [============================>.] - ETA: 0s - loss: 0.0361 - root_mean_squared_error: 0.1900\n",
      "Epoch 00010: val_loss did not improve from 0.03820\n",
      "703/703 [==============================] - 4s 6ms/step - loss: 0.0363 - root_mean_squared_error: 0.1905 - val_loss: 0.0404 - val_root_mean_squared_error: 0.2009\n",
      "Epoch 11/30\n",
      "695/703 [============================>.] - ETA: 0s - loss: 0.0358 - root_mean_squared_error: 0.1891\n",
      "Epoch 00011: val_loss did not improve from 0.03820\n",
      "703/703 [==============================] - 4s 6ms/step - loss: 0.0358 - root_mean_squared_error: 0.1892 - val_loss: 0.0417 - val_root_mean_squared_error: 0.2041\n",
      "Epoch 12/30\n",
      "700/703 [============================>.] - ETA: 0s - loss: 0.0356 - root_mean_squared_error: 0.1886\n",
      "Epoch 00012: val_loss did not improve from 0.03820\n",
      "703/703 [==============================] - 4s 6ms/step - loss: 0.0355 - root_mean_squared_error: 0.1885 - val_loss: 0.0414 - val_root_mean_squared_error: 0.2034\n",
      "Epoch 13/30\n",
      "695/703 [============================>.] - ETA: 0s - loss: 0.0345 - root_mean_squared_error: 0.1858\n",
      "Epoch 00013: val_loss did not improve from 0.03820\n",
      "703/703 [==============================] - 4s 6ms/step - loss: 0.0349 - root_mean_squared_error: 0.1869 - val_loss: 0.0425 - val_root_mean_squared_error: 0.2062\n",
      "Epoch 14/30\n",
      "699/703 [============================>.] - ETA: 0s - loss: 0.0347 - root_mean_squared_error: 0.1862\n",
      "Epoch 00014: val_loss did not improve from 0.03820\n",
      "703/703 [==============================] - 4s 6ms/step - loss: 0.0346 - root_mean_squared_error: 0.1860 - val_loss: 0.0434 - val_root_mean_squared_error: 0.2084\n",
      "Epoch 15/30\n",
      "698/703 [============================>.] - ETA: 0s - loss: 0.0343 - root_mean_squared_error: 0.1853\n",
      "Epoch 00015: val_loss did not improve from 0.03820\n",
      "703/703 [==============================] - 4s 6ms/step - loss: 0.0342 - root_mean_squared_error: 0.1849 - val_loss: 0.0431 - val_root_mean_squared_error: 0.2076\n",
      "Epoch 16/30\n",
      "696/703 [============================>.] - ETA: 0s - loss: 0.0339 - root_mean_squared_error: 0.1841\n",
      "Epoch 00016: val_loss did not improve from 0.03820\n",
      "703/703 [==============================] - 4s 6ms/step - loss: 0.0338 - root_mean_squared_error: 0.1839 - val_loss: 0.0438 - val_root_mean_squared_error: 0.2092\n",
      "Epoch 17/30\n",
      "698/703 [============================>.] - ETA: 0s - loss: 0.0334 - root_mean_squared_error: 0.1827\n",
      "Epoch 00017: val_loss did not improve from 0.03820\n",
      "703/703 [==============================] - 4s 6ms/step - loss: 0.0335 - root_mean_squared_error: 0.1829 - val_loss: 0.0448 - val_root_mean_squared_error: 0.2117\n",
      "Epoch 18/30\n",
      "699/703 [============================>.] - ETA: 0s - loss: 0.0330 - root_mean_squared_error: 0.1816\n",
      "Epoch 00018: val_loss did not improve from 0.03820\n",
      "703/703 [==============================] - 4s 6ms/step - loss: 0.0330 - root_mean_squared_error: 0.1817 - val_loss: 0.0444 - val_root_mean_squared_error: 0.2106\n",
      "Epoch 19/30\n",
      "699/703 [============================>.] - ETA: 0s - loss: 0.0327 - root_mean_squared_error: 0.1809\n",
      "Epoch 00019: val_loss did not improve from 0.03820\n",
      "703/703 [==============================] - 4s 6ms/step - loss: 0.0328 - root_mean_squared_error: 0.1811 - val_loss: 0.0442 - val_root_mean_squared_error: 0.2102\n",
      "Epoch 20/30\n",
      "700/703 [============================>.] - ETA: 0s - loss: 0.0325 - root_mean_squared_error: 0.1802\n",
      "Epoch 00020: val_loss did not improve from 0.03820\n",
      "703/703 [==============================] - 4s 6ms/step - loss: 0.0324 - root_mean_squared_error: 0.1801 - val_loss: 0.0452 - val_root_mean_squared_error: 0.2126\n",
      "Epoch 21/30\n",
      "697/703 [============================>.] - ETA: 0s - loss: 0.0321 - root_mean_squared_error: 0.1790\n",
      "Epoch 00021: val_loss did not improve from 0.03820\n",
      "703/703 [==============================] - 4s 6ms/step - loss: 0.0320 - root_mean_squared_error: 0.1788 - val_loss: 0.0442 - val_root_mean_squared_error: 0.2102\n",
      "Epoch 22/30\n",
      "698/703 [============================>.] - ETA: 0s - loss: 0.0318 - root_mean_squared_error: 0.1782\n",
      "Epoch 00022: val_loss did not improve from 0.03820\n",
      "703/703 [==============================] - 4s 6ms/step - loss: 0.0318 - root_mean_squared_error: 0.1783 - val_loss: 0.0456 - val_root_mean_squared_error: 0.2134\n",
      "Epoch 23/30\n",
      "697/703 [============================>.] - ETA: 0s - loss: 0.0315 - root_mean_squared_error: 0.1773\n",
      "Epoch 00023: val_loss did not improve from 0.03820\n",
      "703/703 [==============================] - 4s 6ms/step - loss: 0.0316 - root_mean_squared_error: 0.1777 - val_loss: 0.0448 - val_root_mean_squared_error: 0.2116\n",
      "Epoch 24/30\n",
      "699/703 [============================>.] - ETA: 0s - loss: 0.0316 - root_mean_squared_error: 0.1777\n",
      "Epoch 00024: val_loss did not improve from 0.03820\n",
      "703/703 [==============================] - 4s 6ms/step - loss: 0.0315 - root_mean_squared_error: 0.1775 - val_loss: 0.0458 - val_root_mean_squared_error: 0.2141\n",
      "Epoch 25/30\n",
      "697/703 [============================>.] - ETA: 0s - loss: 0.0308 - root_mean_squared_error: 0.1756\n",
      "Epoch 00025: val_loss did not improve from 0.03820\n",
      "703/703 [==============================] - 4s 6ms/step - loss: 0.0307 - root_mean_squared_error: 0.1753 - val_loss: 0.0461 - val_root_mean_squared_error: 0.2148\n",
      "Epoch 26/30\n",
      "697/703 [============================>.] - ETA: 0s - loss: 0.0310 - root_mean_squared_error: 0.1760\n",
      "Epoch 00026: val_loss did not improve from 0.03820\n",
      "703/703 [==============================] - 4s 6ms/step - loss: 0.0308 - root_mean_squared_error: 0.1755 - val_loss: 0.0470 - val_root_mean_squared_error: 0.2168\n",
      "Epoch 27/30\n",
      "701/703 [============================>.] - ETA: 0s - loss: 0.0305 - root_mean_squared_error: 0.1747\n",
      "Epoch 00027: val_loss did not improve from 0.03820\n",
      "703/703 [==============================] - 4s 6ms/step - loss: 0.0306 - root_mean_squared_error: 0.1749 - val_loss: 0.0463 - val_root_mean_squared_error: 0.2153\n",
      "Epoch 28/30\n",
      "703/703 [==============================] - ETA: 0s - loss: 0.0302 - root_mean_squared_error: 0.1738\n",
      "Epoch 00028: val_loss did not improve from 0.03820\n",
      "703/703 [==============================] - 4s 6ms/step - loss: 0.0302 - root_mean_squared_error: 0.1738 - val_loss: 0.0465 - val_root_mean_squared_error: 0.2156\n",
      "Epoch 29/30\n",
      "695/703 [============================>.] - ETA: 0s - loss: 0.0297 - root_mean_squared_error: 0.1725\n",
      "Epoch 00029: val_loss did not improve from 0.03820\n",
      "703/703 [==============================] - 4s 6ms/step - loss: 0.0300 - root_mean_squared_error: 0.1731 - val_loss: 0.0469 - val_root_mean_squared_error: 0.2166\n",
      "Epoch 30/30\n",
      "702/703 [============================>.] - ETA: 0s - loss: 0.0296 - root_mean_squared_error: 0.1721\n",
      "Epoch 00030: val_loss did not improve from 0.03820\n",
      "703/703 [==============================] - 4s 6ms/step - loss: 0.0297 - root_mean_squared_error: 0.1722 - val_loss: 0.0467 - val_root_mean_squared_error: 0.2161\n"
     ]
    }
   ],
   "source": [
    "history = model.fit(X_train,\n",
    "                    y_train,\n",
    "                    batch_size=64,\n",
    "                    validation_data=(X_test, y_test),\n",
    "                    epochs=30,\n",
    "                    verbose=1,\n",
    "                    callbacks=callbacks_list)"
   ]
  },
  {
   "cell_type": "code",
   "execution_count": null,
   "metadata": {
    "colab": {},
    "colab_type": "code",
    "id": "01zkjwXRA3np"
   },
   "outputs": [],
   "source": [
    "ticks = [i for i in range(10)]\n",
    "labels = [i for i in range(0, 11)]"
   ]
  },
  {
   "cell_type": "code",
   "execution_count": null,
   "metadata": {
    "colab": {
     "base_uri": "https://localhost:8080/",
     "height": 514
    },
    "colab_type": "code",
    "id": "jeO2EL0UA3nr",
    "outputId": "e3b2f2b7-8826-40cb-d200-44f9f4725203"
   },
   "outputs": [
    {
     "data": {
      "image/png": "[encoded data removed]",
      "text/plain": [
       "<Figure size 1440x576 with 1 Axes>"
      ]
     },
     "metadata": {
      "needs_background": "light",
      "tags": []
     },
     "output_type": "display_data"
    }
   ],
   "source": [
    "train_loss = history.history['loss']\n",
    "test_loss = history.history['val_loss']\n",
    "\n",
    "# Set figure size.\n",
    "plt.figure(figsize=(20, 8))\n",
    "\n",
    "# Generate line plot of training, testing loss over epochs.\n",
    "plt.plot(train_loss, label='Training Loss', color='#185fad')\n",
    "plt.plot(test_loss, label='Testing Loss', color='orange')\n",
    "\n",
    "# Set title\n",
    "plt.title('Training and Testing Loss by Epoch for Camera2', fontsize = 25)\n",
    "plt.xlabel('Epoch', fontsize = 18)\n",
    "plt.ylabel('Mean Squared Error', fontsize = 18)\n",
    "plt.xticks(ticks, labels)\n",
    "\n",
    "plt.legend(fontsize = 18)\n",
    "\n",
    "plt.savefig('/content/drive/My Drive/images/train_test_loss_model5_4_camera2.png');"
   ]
  },
  {
   "cell_type": "code",
   "execution_count": null,
   "metadata": {
    "colab": {},
    "colab_type": "code",
    "id": "qyaKueb4A3nt"
   },
   "outputs": [],
   "source": [
    "def model_history(model_name): \n",
    "  model = pd.DataFrame({'loss': history.history['loss'],\n",
    "                        'root_mean_squared_error': history.history['root_mean_squared_error'],\n",
    "                        'val_loss': history.history['val_loss'],\n",
    "                        'val_root_mean_squared_error': history.history['val_root_mean_squared_error']},\n",
    "                        columns = ['loss', 'root_mean_squared_error', 'val_loss', 'val_root_mean_squared_error'])\n",
    "\n",
    "  model.to_csv(f'/content/drive/My Drive/datasets/{model_name}.csv', index=False)\n",
    "  return model"
   ]
  },
  {
   "cell_type": "code",
   "execution_count": null,
   "metadata": {
    "colab": {},
    "colab_type": "code",
    "id": "wWJmlbOyA3nv"
   },
   "outputs": [],
   "source": [
    "model_3_camera2 = model_history('model_5_4_camera2')"
   ]
  },
  {
   "cell_type": "code",
   "execution_count": null,
   "metadata": {
    "colab": {
     "base_uri": "https://localhost:8080/",
     "height": 204
    },
    "colab_type": "code",
    "id": "2KTkzeEVUP5q",
    "outputId": "7b232083-ef7e-4385-88a6-ca39a67b25f3"
   },
   "outputs": [
    {
     "data": {
      "text/html": [
       "<div>\n",
       "<style scoped>\n",
       "    .dataframe tbody tr th:only-of-type {\n",
       "        vertical-align: middle;\n",
       "    }\n",
       "\n",
       "    .dataframe tbody tr th {\n",
       "        vertical-align: top;\n",
       "    }\n",
       "\n",
       "    .dataframe thead th {\n",
       "        text-align: right;\n",
       "    }\n",
       "</style>\n",
       "<table border=\"1\" class=\"dataframe\">\n",
       "  <thead>\n",
       "    <tr style=\"text-align: right;\">\n",
       "      <th></th>\n",
       "      <th>loss</th>\n",
       "      <th>root_mean_squared_error</th>\n",
       "      <th>val_loss</th>\n",
       "      <th>val_root_mean_squared_error</th>\n",
       "    </tr>\n",
       "  </thead>\n",
       "  <tbody>\n",
       "    <tr>\n",
       "      <th>0</th>\n",
       "      <td>0.120836</td>\n",
       "      <td>0.347615</td>\n",
       "      <td>0.140316</td>\n",
       "      <td>0.374587</td>\n",
       "    </tr>\n",
       "    <tr>\n",
       "      <th>1</th>\n",
       "      <td>0.120593</td>\n",
       "      <td>0.347265</td>\n",
       "      <td>0.140028</td>\n",
       "      <td>0.374204</td>\n",
       "    </tr>\n",
       "    <tr>\n",
       "      <th>2</th>\n",
       "      <td>0.118536</td>\n",
       "      <td>0.344291</td>\n",
       "      <td>0.134147</td>\n",
       "      <td>0.366261</td>\n",
       "    </tr>\n",
       "    <tr>\n",
       "      <th>3</th>\n",
       "      <td>0.113418</td>\n",
       "      <td>0.336776</td>\n",
       "      <td>0.127791</td>\n",
       "      <td>0.357479</td>\n",
       "    </tr>\n",
       "    <tr>\n",
       "      <th>4</th>\n",
       "      <td>0.109311</td>\n",
       "      <td>0.330622</td>\n",
       "      <td>0.123098</td>\n",
       "      <td>0.350853</td>\n",
       "    </tr>\n",
       "  </tbody>\n",
       "</table>\n",
       "</div>"
      ],
      "text/plain": [
       "       loss  root_mean_squared_error  val_loss  val_root_mean_squared_error\n",
       "0  0.120836                 0.347615  0.140316                     0.374587\n",
       "1  0.120593                 0.347265  0.140028                     0.374204\n",
       "2  0.118536                 0.344291  0.134147                     0.366261\n",
       "3  0.113418                 0.336776  0.127791                     0.357479\n",
       "4  0.109311                 0.330622  0.123098                     0.350853"
      ]
     },
     "execution_count": 39,
     "metadata": {
      "tags": []
     },
     "output_type": "execute_result"
    }
   ],
   "source": [
    "model_2_camera4.head()"
   ]
  },
  {
   "cell_type": "code",
   "execution_count": null,
   "metadata": {
    "colab": {},
    "colab_type": "code",
    "id": "2NKYilKfA3ny"
   },
   "outputs": [],
   "source": [
    "#################### end of training camera2 data for model 3"
   ]
  },
  {
   "cell_type": "code",
   "execution_count": null,
   "metadata": {
    "colab": {},
    "colab_type": "code",
    "id": "808koWUvA3KU"
   },
   "outputs": [],
   "source": []
  },
  {
   "cell_type": "code",
   "execution_count": null,
   "metadata": {
    "colab": {},
    "colab_type": "code",
    "id": "ub1Wm5y7UtjN"
   },
   "outputs": [],
   "source": [
    "########################### start of train with camera3 data for model 3"
   ]
  },
  {
   "cell_type": "code",
   "execution_count": null,
   "metadata": {
    "colab": {},
    "colab_type": "code",
    "id": "P0q1QlmxUtjT"
   },
   "outputs": [],
   "source": [
    "camera5 = load('/content/drive/My Drive/datasets/camera5_cleaned.npz')\n",
    "log5 = pd.read_csv('/content/drive/My Drive/datasets/log5_cleaned.csv')"
   ]
  },
  {
   "cell_type": "code",
   "execution_count": null,
   "metadata": {
    "colab": {
     "base_uri": "https://localhost:8080/",
     "height": 34
    },
    "colab_type": "code",
    "id": "hEN75WiVUtjW",
    "outputId": "55f443c3-c76b-4d1d-a00c-293d6c829dcb"
   },
   "outputs": [
    {
     "name": "stdout",
     "output_type": "stream",
     "text": [
      "Done\n"
     ]
    }
   ],
   "source": [
    "camera_processing(camera5, 'camera5')"
   ]
  },
  {
   "cell_type": "code",
   "execution_count": null,
   "metadata": {
    "colab": {
     "base_uri": "https://localhost:8080/",
     "height": 34
    },
    "colab_type": "code",
    "id": "d2PLyRaXUtjY",
    "outputId": "680dbec0-220e-4587-b3b4-3cf09f310dfe"
   },
   "outputs": [
    {
     "name": "stdout",
     "output_type": "stream",
     "text": [
      "Done\n"
     ]
    }
   ],
   "source": [
    "log_processing(log5, 'log5')"
   ]
  },
  {
   "cell_type": "code",
   "execution_count": null,
   "metadata": {
    "colab": {
     "base_uri": "https://localhost:8080/",
     "height": 34
    },
    "colab_type": "code",
    "id": "KE0wAytpUtjb",
    "outputId": "768a412e-fce9-49cc-b0bc-edcacfdb7b7f"
   },
   "outputs": [
    {
     "name": "stdout",
     "output_type": "stream",
     "text": [
      "Done\n"
     ]
    }
   ],
   "source": [
    "train_split('camera5', 'log5')"
   ]
  },
  {
   "cell_type": "code",
   "execution_count": null,
   "metadata": {
    "colab": {},
    "colab_type": "code",
    "id": "4J9ZsU5GUtjc"
   },
   "outputs": [],
   "source": [
    "\"\"\"\n",
    "new data workflow\n",
    "camera2 = load('/content/drive/My Drive/datasets/camera2_cleaned.npz')\n",
    "log2 = pd.read_csv('/content/drive/My Drive/datasets/log2_cleaned.csv')\n",
    "\n",
    "camera_processing(camera2, 'camera2')\n",
    "\n",
    "log_processing(log2, 'log2')\n",
    "\n",
    "train_split('camera2', 'log2')\n",
    "\"\"\""
   ]
  },
  {
   "cell_type": "code",
   "execution_count": null,
   "metadata": {
    "colab": {},
    "colab_type": "code",
    "id": "Y6rNHjAQUtje"
   },
   "outputs": [],
   "source": [
    "model = load_model('/content/drive/My Drive/epochs/model_5_4_camera2.0004-0.0382.h5')"
   ]
  },
  {
   "cell_type": "code",
   "execution_count": null,
   "metadata": {
    "colab": {},
    "colab_type": "code",
    "id": "BEc3PT4pUtjg"
   },
   "outputs": [],
   "source": [
    "def train_load(camera_file_name):\n",
    "  !cp -r \"/content/drive/My Drive/datasets/{camera_file_name}_X_train.npz\" ./X_train.npz\n",
    "  !cp -r \"/content/drive/My Drive/datasets/{camera_file_name}_X_test.npz\" ./X_test.npz\n",
    "  !cp -r \"/content/drive/My Drive/datasets/{camera_file_name}_y_train.npz\" ./y_train.npz\n",
    "  !cp -r \"/content/drive/My Drive/datasets/{camera_file_name}_y_test.npz\" ./y_test.npz\n",
    "  X_train = load('./X_train.npz')\n",
    "  X_train = X_train.f.arr_0\n",
    "  X_test = load('./X_test.npz')\n",
    "  X_test = X_test.f.arr_0\n",
    "  y_train = load('./y_train.npz')\n",
    "  y_train = y_train.f.arr_0\n",
    "  y_test = load('./y_test.npz')\n",
    "  y_test = y_test.f.arr_0\n",
    "\n",
    "  return X_train, X_test, y_train, y_test"
   ]
  },
  {
   "cell_type": "code",
   "execution_count": null,
   "metadata": {
    "colab": {},
    "colab_type": "code",
    "id": "GXuvoYxRUtji"
   },
   "outputs": [],
   "source": [
    "X_train, X_test, y_train, y_test = train_load('camera3')"
   ]
  },
  {
   "cell_type": "code",
   "execution_count": null,
   "metadata": {
    "colab": {
     "base_uri": "https://localhost:8080/",
     "height": 34
    },
    "colab_type": "code",
    "id": "BJEe6ETeUtjn",
    "outputId": "532810b0-dcae-44e2-9a84-e128e790d671"
   },
   "outputs": [
    {
     "data": {
      "text/plain": [
       "((13548, 80, 160, 1), (3388, 80, 160, 1), (13548, 1), (3388, 1))"
      ]
     },
     "execution_count": 37,
     "metadata": {
      "tags": []
     },
     "output_type": "execute_result"
    }
   ],
   "source": [
    "X_train.shape, X_test.shape, y_train.shape, y_test.shape"
   ]
  },
  {
   "cell_type": "code",
   "execution_count": null,
   "metadata": {
    "colab": {},
    "colab_type": "code",
    "id": "5hWiNzmzUtjo"
   },
   "outputs": [],
   "source": [
    "filepath = \"/content/drive/My Drive/epochs/model_5_5_camera3.{epoch:04d}-{val_loss:.4f}.h5\"\n",
    "checkpoint = ModelCheckpoint(filepath, monitor='val_loss', verbose=1, save_best_only=True, mode='min')\n",
    "callbacks_list = [checkpoint]"
   ]
  },
  {
   "cell_type": "code",
   "execution_count": null,
   "metadata": {
    "colab": {
     "base_uri": "https://localhost:8080/",
     "height": 1000
    },
    "colab_type": "code",
    "id": "viLQh1eRUtjq",
    "outputId": "ab18415a-06c4-4c67-bda9-33fd2c0f60bf"
   },
   "outputs": [
    {
     "name": "stdout",
     "output_type": "stream",
     "text": [
      "Epoch 1/30\n",
      "212/212 [==============================] - ETA: 0s - loss: 0.0727 - root_mean_squared_error: 0.2696\n",
      "Epoch 00001: val_loss improved from inf to 0.05052, saving model to /content/drive/My Drive/epochs/model_5_5_camera3.0001-0.0505.h5\n",
      "212/212 [==============================] - 2s 8ms/step - loss: 0.0727 - root_mean_squared_error: 0.2696 - val_loss: 0.0505 - val_root_mean_squared_error: 0.2248\n",
      "Epoch 2/30\n",
      "207/212 [============================>.] - ETA: 0s - loss: 0.0642 - root_mean_squared_error: 0.2534\n",
      "Epoch 00002: val_loss improved from 0.05052 to 0.04959, saving model to /content/drive/My Drive/epochs/model_5_5_camera3.0002-0.0496.h5\n",
      "212/212 [==============================] - 1s 7ms/step - loss: 0.0632 - root_mean_squared_error: 0.2514 - val_loss: 0.0496 - val_root_mean_squared_error: 0.2227\n",
      "Epoch 3/30\n",
      "207/212 [============================>.] - ETA: 0s - loss: 0.0597 - root_mean_squared_error: 0.2444\n",
      "Epoch 00003: val_loss improved from 0.04959 to 0.04791, saving model to /content/drive/My Drive/epochs/model_5_5_camera3.0003-0.0479.h5\n",
      "212/212 [==============================] - 1s 7ms/step - loss: 0.0594 - root_mean_squared_error: 0.2437 - val_loss: 0.0479 - val_root_mean_squared_error: 0.2189\n",
      "Epoch 4/30\n",
      "203/212 [===========================>..] - ETA: 0s - loss: 0.0571 - root_mean_squared_error: 0.2389\n",
      "Epoch 00004: val_loss did not improve from 0.04791\n",
      "212/212 [==============================] - 1s 6ms/step - loss: 0.0573 - root_mean_squared_error: 0.2394 - val_loss: 0.0480 - val_root_mean_squared_error: 0.2191\n",
      "Epoch 5/30\n",
      "207/212 [============================>.] - ETA: 0s - loss: 0.0563 - root_mean_squared_error: 0.2373\n",
      "Epoch 00005: val_loss improved from 0.04791 to 0.04643, saving model to /content/drive/My Drive/epochs/model_5_5_camera3.0005-0.0464.h5\n",
      "212/212 [==============================] - 1s 7ms/step - loss: 0.0558 - root_mean_squared_error: 0.2363 - val_loss: 0.0464 - val_root_mean_squared_error: 0.2155\n",
      "Epoch 6/30\n",
      "209/212 [============================>.] - ETA: 0s - loss: 0.0547 - root_mean_squared_error: 0.2339\n",
      "Epoch 00006: val_loss did not improve from 0.04643\n",
      "212/212 [==============================] - 1s 6ms/step - loss: 0.0543 - root_mean_squared_error: 0.2330 - val_loss: 0.0468 - val_root_mean_squared_error: 0.2163\n",
      "Epoch 7/30\n",
      "211/212 [============================>.] - ETA: 0s - loss: 0.0533 - root_mean_squared_error: 0.2309\n",
      "Epoch 00007: val_loss did not improve from 0.04643\n",
      "212/212 [==============================] - 1s 7ms/step - loss: 0.0532 - root_mean_squared_error: 0.2306 - val_loss: 0.0466 - val_root_mean_squared_error: 0.2159\n",
      "Epoch 8/30\n",
      "208/212 [============================>.] - ETA: 0s - loss: 0.0516 - root_mean_squared_error: 0.2273\n",
      "Epoch 00008: val_loss improved from 0.04643 to 0.04639, saving model to /content/drive/My Drive/epochs/model_5_5_camera3.0008-0.0464.h5\n",
      "212/212 [==============================] - 2s 7ms/step - loss: 0.0519 - root_mean_squared_error: 0.2279 - val_loss: 0.0464 - val_root_mean_squared_error: 0.2154\n",
      "Epoch 9/30\n",
      "207/212 [============================>.] - ETA: 0s - loss: 0.0512 - root_mean_squared_error: 0.2263\n",
      "Epoch 00009: val_loss did not improve from 0.04639\n",
      "212/212 [==============================] - 1s 7ms/step - loss: 0.0509 - root_mean_squared_error: 0.2256 - val_loss: 0.0469 - val_root_mean_squared_error: 0.2165\n",
      "Epoch 10/30\n",
      "205/212 [============================>.] - ETA: 0s - loss: 0.0492 - root_mean_squared_error: 0.2219\n",
      "Epoch 00010: val_loss did not improve from 0.04639\n",
      "212/212 [==============================] - 1s 6ms/step - loss: 0.0496 - root_mean_squared_error: 0.2226 - val_loss: 0.0468 - val_root_mean_squared_error: 0.2163\n",
      "Epoch 11/30\n",
      "211/212 [============================>.] - ETA: 0s - loss: 0.0494 - root_mean_squared_error: 0.2223\n",
      "Epoch 00011: val_loss did not improve from 0.04639\n",
      "212/212 [==============================] - 1s 6ms/step - loss: 0.0493 - root_mean_squared_error: 0.2220 - val_loss: 0.0477 - val_root_mean_squared_error: 0.2185\n",
      "Epoch 12/30\n",
      "211/212 [============================>.] - ETA: 0s - loss: 0.0489 - root_mean_squared_error: 0.2212\n",
      "Epoch 00012: val_loss did not improve from 0.04639\n",
      "212/212 [==============================] - 1s 6ms/step - loss: 0.0489 - root_mean_squared_error: 0.2212 - val_loss: 0.0466 - val_root_mean_squared_error: 0.2158\n",
      "Epoch 13/30\n",
      "206/212 [============================>.] - ETA: 0s - loss: 0.0483 - root_mean_squared_error: 0.2199\n",
      "Epoch 00013: val_loss did not improve from 0.04639\n",
      "212/212 [==============================] - 1s 6ms/step - loss: 0.0486 - root_mean_squared_error: 0.2204 - val_loss: 0.0486 - val_root_mean_squared_error: 0.2204\n",
      "Epoch 14/30\n",
      "206/212 [============================>.] - ETA: 0s - loss: 0.0476 - root_mean_squared_error: 0.2182\n",
      "Epoch 00014: val_loss did not improve from 0.04639\n",
      "212/212 [==============================] - 1s 6ms/step - loss: 0.0473 - root_mean_squared_error: 0.2175 - val_loss: 0.0499 - val_root_mean_squared_error: 0.2235\n",
      "Epoch 15/30\n",
      "204/212 [===========================>..] - ETA: 0s - loss: 0.0469 - root_mean_squared_error: 0.2165\n",
      "Epoch 00015: val_loss did not improve from 0.04639\n",
      "212/212 [==============================] - 1s 6ms/step - loss: 0.0475 - root_mean_squared_error: 0.2178 - val_loss: 0.0476 - val_root_mean_squared_error: 0.2182\n",
      "Epoch 16/30\n",
      "205/212 [============================>.] - ETA: 0s - loss: 0.0469 - root_mean_squared_error: 0.2166\n",
      "Epoch 00016: val_loss did not improve from 0.04639\n",
      "212/212 [==============================] - 1s 7ms/step - loss: 0.0469 - root_mean_squared_error: 0.2166 - val_loss: 0.0496 - val_root_mean_squared_error: 0.2228\n",
      "Epoch 17/30\n",
      "212/212 [==============================] - ETA: 0s - loss: 0.0457 - root_mean_squared_error: 0.2139\n",
      "Epoch 00017: val_loss did not improve from 0.04639\n",
      "212/212 [==============================] - 1s 6ms/step - loss: 0.0457 - root_mean_squared_error: 0.2139 - val_loss: 0.0487 - val_root_mean_squared_error: 0.2207\n",
      "Epoch 18/30\n",
      "209/212 [============================>.] - ETA: 0s - loss: 0.0460 - root_mean_squared_error: 0.2145\n",
      "Epoch 00018: val_loss did not improve from 0.04639\n",
      "212/212 [==============================] - 1s 6ms/step - loss: 0.0460 - root_mean_squared_error: 0.2144 - val_loss: 0.0487 - val_root_mean_squared_error: 0.2207\n",
      "Epoch 19/30\n",
      "212/212 [==============================] - ETA: 0s - loss: 0.0453 - root_mean_squared_error: 0.2128\n",
      "Epoch 00019: val_loss did not improve from 0.04639\n",
      "212/212 [==============================] - 1s 6ms/step - loss: 0.0453 - root_mean_squared_error: 0.2128 - val_loss: 0.0480 - val_root_mean_squared_error: 0.2191\n",
      "Epoch 20/30\n",
      "212/212 [==============================] - ETA: 0s - loss: 0.0450 - root_mean_squared_error: 0.2121\n",
      "Epoch 00020: val_loss did not improve from 0.04639\n",
      "212/212 [==============================] - 1s 6ms/step - loss: 0.0450 - root_mean_squared_error: 0.2121 - val_loss: 0.0488 - val_root_mean_squared_error: 0.2210\n",
      "Epoch 21/30\n",
      "205/212 [============================>.] - ETA: 0s - loss: 0.0434 - root_mean_squared_error: 0.2082\n",
      "Epoch 00021: val_loss did not improve from 0.04639\n",
      "212/212 [==============================] - 1s 6ms/step - loss: 0.0440 - root_mean_squared_error: 0.2097 - val_loss: 0.0495 - val_root_mean_squared_error: 0.2226\n",
      "Epoch 22/30\n",
      "203/212 [===========================>..] - ETA: 0s - loss: 0.0448 - root_mean_squared_error: 0.2116\n",
      "Epoch 00022: val_loss did not improve from 0.04639\n",
      "212/212 [==============================] - 1s 6ms/step - loss: 0.0440 - root_mean_squared_error: 0.2098 - val_loss: 0.0493 - val_root_mean_squared_error: 0.2220\n",
      "Epoch 23/30\n",
      "206/212 [============================>.] - ETA: 0s - loss: 0.0447 - root_mean_squared_error: 0.2113\n",
      "Epoch 00023: val_loss did not improve from 0.04639\n",
      "212/212 [==============================] - 1s 7ms/step - loss: 0.0442 - root_mean_squared_error: 0.2102 - val_loss: 0.0486 - val_root_mean_squared_error: 0.2204\n",
      "Epoch 24/30\n",
      "204/212 [===========================>..] - ETA: 0s - loss: 0.0437 - root_mean_squared_error: 0.2090\n",
      "Epoch 00024: val_loss did not improve from 0.04639\n",
      "212/212 [==============================] - 1s 6ms/step - loss: 0.0440 - root_mean_squared_error: 0.2098 - val_loss: 0.0498 - val_root_mean_squared_error: 0.2231\n",
      "Epoch 25/30\n",
      "211/212 [============================>.] - ETA: 0s - loss: 0.0432 - root_mean_squared_error: 0.2078\n",
      "Epoch 00025: val_loss did not improve from 0.04639\n",
      "212/212 [==============================] - 1s 6ms/step - loss: 0.0431 - root_mean_squared_error: 0.2075 - val_loss: 0.0494 - val_root_mean_squared_error: 0.2222\n",
      "Epoch 26/30\n",
      "204/212 [===========================>..] - ETA: 0s - loss: 0.0421 - root_mean_squared_error: 0.2052\n",
      "Epoch 00026: val_loss did not improve from 0.04639\n",
      "212/212 [==============================] - 1s 6ms/step - loss: 0.0426 - root_mean_squared_error: 0.2063 - val_loss: 0.0497 - val_root_mean_squared_error: 0.2230\n",
      "Epoch 27/30\n",
      "206/212 [============================>.] - ETA: 0s - loss: 0.0430 - root_mean_squared_error: 0.2074\n",
      "Epoch 00027: val_loss did not improve from 0.04639\n",
      "212/212 [==============================] - 1s 6ms/step - loss: 0.0426 - root_mean_squared_error: 0.2064 - val_loss: 0.0495 - val_root_mean_squared_error: 0.2224\n",
      "Epoch 28/30\n",
      "203/212 [===========================>..] - ETA: 0s - loss: 0.0424 - root_mean_squared_error: 0.2058\n",
      "Epoch 00028: val_loss did not improve from 0.04639\n",
      "212/212 [==============================] - 1s 6ms/step - loss: 0.0422 - root_mean_squared_error: 0.2054 - val_loss: 0.0522 - val_root_mean_squared_error: 0.2284\n",
      "Epoch 29/30\n",
      "203/212 [===========================>..] - ETA: 0s - loss: 0.0400 - root_mean_squared_error: 0.2000\n",
      "Epoch 00029: val_loss did not improve from 0.04639\n",
      "212/212 [==============================] - 1s 6ms/step - loss: 0.0416 - root_mean_squared_error: 0.2041 - val_loss: 0.0507 - val_root_mean_squared_error: 0.2251\n",
      "Epoch 30/30\n",
      "204/212 [===========================>..] - ETA: 0s - loss: 0.0412 - root_mean_squared_error: 0.2030\n",
      "Epoch 00030: val_loss did not improve from 0.04639\n",
      "212/212 [==============================] - 1s 6ms/step - loss: 0.0415 - root_mean_squared_error: 0.2037 - val_loss: 0.0501 - val_root_mean_squared_error: 0.2238\n"
     ]
    }
   ],
   "source": [
    "history = model.fit(X_train,\n",
    "                    y_train,\n",
    "                    batch_size=64,\n",
    "                    validation_data=(X_test, y_test),\n",
    "                    epochs=30,\n",
    "                    verbose=1,\n",
    "                    callbacks=callbacks_list)"
   ]
  },
  {
   "cell_type": "code",
   "execution_count": null,
   "metadata": {
    "colab": {},
    "colab_type": "code",
    "id": "xDHBfJc0Utjr"
   },
   "outputs": [],
   "source": [
    "ticks = [i for i in range(0, 31, 5)]\n",
    "labels = [i for i in range(0, 31, 5)]\n",
    "labels[0] = 1"
   ]
  },
  {
   "cell_type": "code",
   "execution_count": null,
   "metadata": {
    "colab": {
     "base_uri": "https://localhost:8080/",
     "height": 517
    },
    "colab_type": "code",
    "id": "BVNfbDf5Utjs",
    "outputId": "61fcce14-8908-496e-d0ef-fedd25ca142b"
   },
   "outputs": [
    {
     "data": {
      "image/png": "[encoded data removed]",
      "text/plain": [
       "<Figure size 1440x576 with 1 Axes>"
      ]
     },
     "metadata": {
      "needs_background": "light",
      "tags": []
     },
     "output_type": "display_data"
    }
   ],
   "source": [
    "train_loss = history.history['loss']\n",
    "test_loss = history.history['val_loss']\n",
    "\n",
    "# Set figure size.\n",
    "plt.figure(figsize=(20, 8))\n",
    "\n",
    "# Generate line plot of training, testing loss over epochs.\n",
    "plt.plot(train_loss, label='Training Loss', color='#185fad')\n",
    "plt.plot(test_loss, label='Testing Loss', color='orange')\n",
    "\n",
    "# Set title\n",
    "plt.title('Training and Testing Loss by Epoch for Camera3', fontsize = 25)\n",
    "plt.xlabel('Epoch', fontsize = 18)\n",
    "plt.ylabel('Mean Squared Error', fontsize = 18)\n",
    "plt.xticks(ticks, labels)\n",
    "\n",
    "plt.legend(fontsize = 18)\n",
    "\n",
    "plt.savefig('/content/drive/My Drive/images/train_test_loss_model5_5_camera3.png');"
   ]
  },
  {
   "cell_type": "code",
   "execution_count": null,
   "metadata": {
    "colab": {},
    "colab_type": "code",
    "id": "mDw8v7ZkUtjw"
   },
   "outputs": [],
   "source": [
    "def model_history(model_name): \n",
    "  model = pd.DataFrame({'loss': history.history['loss'],\n",
    "                        'root_mean_squared_error': history.history['root_mean_squared_error'],\n",
    "                        'val_loss': history.history['val_loss'],\n",
    "                        'val_root_mean_squared_error': history.history['val_root_mean_squared_error']},\n",
    "                        columns = ['loss', 'root_mean_squared_error', 'val_loss', 'val_root_mean_squared_error'])\n",
    "\n",
    "  model.to_csv(f'/content/drive/My Drive/datasets/{model_name}.csv', index=False)\n",
    "  return model"
   ]
  },
  {
   "cell_type": "code",
   "execution_count": null,
   "metadata": {
    "colab": {},
    "colab_type": "code",
    "id": "W2Hn5sdbUtjx"
   },
   "outputs": [],
   "source": [
    "model_3_camera3 = model_history('model_5_5_camera3')"
   ]
  },
  {
   "cell_type": "code",
   "execution_count": null,
   "metadata": {
    "colab": {
     "base_uri": "https://localhost:8080/",
     "height": 204
    },
    "colab_type": "code",
    "id": "tXYkZW8OUtjz",
    "outputId": "9c848f87-621b-47e3-e02e-0fe42b69e0c4"
   },
   "outputs": [
    {
     "data": {
      "text/html": [
       "<div>\n",
       "<style scoped>\n",
       "    .dataframe tbody tr th:only-of-type {\n",
       "        vertical-align: middle;\n",
       "    }\n",
       "\n",
       "    .dataframe tbody tr th {\n",
       "        vertical-align: top;\n",
       "    }\n",
       "\n",
       "    .dataframe thead th {\n",
       "        text-align: right;\n",
       "    }\n",
       "</style>\n",
       "<table border=\"1\" class=\"dataframe\">\n",
       "  <thead>\n",
       "    <tr style=\"text-align: right;\">\n",
       "      <th></th>\n",
       "      <th>loss</th>\n",
       "      <th>root_mean_squared_error</th>\n",
       "      <th>val_loss</th>\n",
       "      <th>val_root_mean_squared_error</th>\n",
       "    </tr>\n",
       "  </thead>\n",
       "  <tbody>\n",
       "    <tr>\n",
       "      <th>0</th>\n",
       "      <td>0.106183</td>\n",
       "      <td>0.325857</td>\n",
       "      <td>0.144223</td>\n",
       "      <td>0.379767</td>\n",
       "    </tr>\n",
       "    <tr>\n",
       "      <th>1</th>\n",
       "      <td>0.103795</td>\n",
       "      <td>0.322173</td>\n",
       "      <td>0.140923</td>\n",
       "      <td>0.375397</td>\n",
       "    </tr>\n",
       "    <tr>\n",
       "      <th>2</th>\n",
       "      <td>0.098808</td>\n",
       "      <td>0.314338</td>\n",
       "      <td>0.131863</td>\n",
       "      <td>0.363129</td>\n",
       "    </tr>\n",
       "    <tr>\n",
       "      <th>3</th>\n",
       "      <td>0.094334</td>\n",
       "      <td>0.307139</td>\n",
       "      <td>0.127754</td>\n",
       "      <td>0.357427</td>\n",
       "    </tr>\n",
       "    <tr>\n",
       "      <th>4</th>\n",
       "      <td>0.090723</td>\n",
       "      <td>0.301203</td>\n",
       "      <td>0.125070</td>\n",
       "      <td>0.353652</td>\n",
       "    </tr>\n",
       "  </tbody>\n",
       "</table>\n",
       "</div>"
      ],
      "text/plain": [
       "       loss  root_mean_squared_error  val_loss  val_root_mean_squared_error\n",
       "0  0.106183                 0.325857  0.144223                     0.379767\n",
       "1  0.103795                 0.322173  0.140923                     0.375397\n",
       "2  0.098808                 0.314338  0.131863                     0.363129\n",
       "3  0.094334                 0.307139  0.127754                     0.357427\n",
       "4  0.090723                 0.301203  0.125070                     0.353652"
      ]
     },
     "execution_count": 48,
     "metadata": {
      "tags": []
     },
     "output_type": "execute_result"
    }
   ],
   "source": [
    "model_2_camera5.head()"
   ]
  },
  {
   "cell_type": "code",
   "execution_count": null,
   "metadata": {
    "colab": {},
    "colab_type": "code",
    "id": "IO8nsQszUtj0"
   },
   "outputs": [],
   "source": [
    "#################### end of training camera3 data for model 3"
   ]
  },
  {
   "cell_type": "code",
   "execution_count": null,
   "metadata": {
    "colab": {},
    "colab_type": "code",
    "id": "YbI-2JGLVAxv"
   },
   "outputs": [],
   "source": [
    "########################### start of train with camera4 data for model 3"
   ]
  },
  {
   "cell_type": "code",
   "execution_count": null,
   "metadata": {
    "colab": {},
    "colab_type": "code",
    "id": "Q-qWna5aVAx4"
   },
   "outputs": [],
   "source": [
    "camera6 = load('/content/drive/My Drive/datasets/camera6_cleaned.npz')\n",
    "log6 = pd.read_csv('/content/drive/My Drive/datasets/log6_cleaned.csv')"
   ]
  },
  {
   "cell_type": "code",
   "execution_count": null,
   "metadata": {
    "colab": {
     "base_uri": "https://localhost:8080/",
     "height": 34
    },
    "colab_type": "code",
    "id": "R3bRbwf0VAyA",
    "outputId": "eea57d5a-52a8-4919-eea9-6f506f9b63ac"
   },
   "outputs": [
    {
     "name": "stdout",
     "output_type": "stream",
     "text": [
      "Done\n"
     ]
    }
   ],
   "source": [
    "camera_processing(camera6, 'camera6')"
   ]
  },
  {
   "cell_type": "code",
   "execution_count": null,
   "metadata": {
    "colab": {
     "base_uri": "https://localhost:8080/",
     "height": 34
    },
    "colab_type": "code",
    "id": "QGUill3MVAyH",
    "outputId": "3f912bae-a242-4ff3-ae9f-d39bd582e501"
   },
   "outputs": [
    {
     "name": "stdout",
     "output_type": "stream",
     "text": [
      "Done\n"
     ]
    }
   ],
   "source": [
    "log_processing(log6, 'log6')"
   ]
  },
  {
   "cell_type": "code",
   "execution_count": null,
   "metadata": {
    "colab": {
     "base_uri": "https://localhost:8080/",
     "height": 34
    },
    "colab_type": "code",
    "id": "20WPJO3KVAyM",
    "outputId": "75055365-3a46-4015-bc6a-07093f3a48c7"
   },
   "outputs": [
    {
     "name": "stdout",
     "output_type": "stream",
     "text": [
      "Done\n"
     ]
    }
   ],
   "source": [
    "train_split('camera6', 'log6')"
   ]
  },
  {
   "cell_type": "code",
   "execution_count": null,
   "metadata": {
    "colab": {},
    "colab_type": "code",
    "id": "85eKk3MSVAyU"
   },
   "outputs": [],
   "source": [
    "\"\"\"\n",
    "new data workflow\n",
    "camera2 = load('/content/drive/My Drive/datasets/camera2_cleaned.npz')\n",
    "log2 = pd.read_csv('/content/drive/My Drive/datasets/log2_cleaned.csv')\n",
    "\n",
    "camera_processing(camera2, 'camera2')\n",
    "\n",
    "log_processing(log2, 'log2')\n",
    "\n",
    "train_split('camera2', 'log2')\n",
    "\"\"\""
   ]
  },
  {
   "cell_type": "code",
   "execution_count": null,
   "metadata": {
    "colab": {},
    "colab_type": "code",
    "id": "C46nZz9UVAyW"
   },
   "outputs": [],
   "source": [
    "model = load_model('/content/drive/My Drive/epochs/model_5_5_camera3.0008-0.0464.h5')"
   ]
  },
  {
   "cell_type": "code",
   "execution_count": null,
   "metadata": {
    "colab": {},
    "colab_type": "code",
    "id": "LN8RNPlNVAyZ"
   },
   "outputs": [],
   "source": [
    "def train_load(camera_file_name):\n",
    "  !cp -r \"/content/drive/My Drive/datasets/{camera_file_name}_X_train.npz\" ./X_train.npz\n",
    "  !cp -r \"/content/drive/My Drive/datasets/{camera_file_name}_X_test.npz\" ./X_test.npz\n",
    "  !cp -r \"/content/drive/My Drive/datasets/{camera_file_name}_y_train.npz\" ./y_train.npz\n",
    "  !cp -r \"/content/drive/My Drive/datasets/{camera_file_name}_y_test.npz\" ./y_test.npz\n",
    "  X_train = load('./X_train.npz')\n",
    "  X_train = X_train.f.arr_0\n",
    "  X_test = load('./X_test.npz')\n",
    "  X_test = X_test.f.arr_0\n",
    "  y_train = load('./y_train.npz')\n",
    "  y_train = y_train.f.arr_0\n",
    "  y_test = load('./y_test.npz')\n",
    "  y_test = y_test.f.arr_0\n",
    "\n",
    "  return X_train, X_test, y_train, y_test"
   ]
  },
  {
   "cell_type": "code",
   "execution_count": null,
   "metadata": {
    "colab": {},
    "colab_type": "code",
    "id": "2nCNpTyeVAyb"
   },
   "outputs": [],
   "source": [
    "X_train, X_test, y_train, y_test = train_load('camera4')"
   ]
  },
  {
   "cell_type": "code",
   "execution_count": null,
   "metadata": {
    "colab": {
     "base_uri": "https://localhost:8080/",
     "height": 34
    },
    "colab_type": "code",
    "id": "Eo40v-t2VAyd",
    "outputId": "955129b6-de3e-4d94-caa2-4ef927dda540"
   },
   "outputs": [
    {
     "data": {
      "text/plain": [
       "((42696, 80, 160, 1), (10675, 80, 160, 1), (42696, 1), (10675, 1))"
      ]
     },
     "execution_count": 49,
     "metadata": {
      "tags": []
     },
     "output_type": "execute_result"
    }
   ],
   "source": [
    "X_train.shape, X_test.shape, y_train.shape, y_test.shape"
   ]
  },
  {
   "cell_type": "code",
   "execution_count": null,
   "metadata": {
    "colab": {},
    "colab_type": "code",
    "id": "AeKvl1-uVAyh"
   },
   "outputs": [],
   "source": [
    "filepath = \"/content/drive/My Drive/epochs/model_5_6_camera4.{epoch:04d}-{val_loss:.4f}.h5\"\n",
    "checkpoint = ModelCheckpoint(filepath, monitor='val_loss', verbose=1, save_best_only=True, mode='min')\n",
    "callbacks_list = [checkpoint]"
   ]
  },
  {
   "cell_type": "code",
   "execution_count": null,
   "metadata": {
    "colab": {
     "base_uri": "https://localhost:8080/",
     "height": 1000
    },
    "colab_type": "code",
    "id": "5rjU5GvTVAyl",
    "outputId": "3d45eb10-5e35-4511-9626-9ecc9f39493e"
   },
   "outputs": [
    {
     "name": "stdout",
     "output_type": "stream",
     "text": [
      "Epoch 1/30\n",
      "668/668 [==============================] - ETA: 0s - loss: 0.1216 - root_mean_squared_error: 0.3487\n",
      "Epoch 00001: val_loss improved from inf to 0.13672, saving model to /content/drive/My Drive/epochs/model_5_6_camera4.0001-0.1367.h5\n",
      "668/668 [==============================] - 5s 7ms/step - loss: 0.1216 - root_mean_squared_error: 0.3487 - val_loss: 0.1367 - val_root_mean_squared_error: 0.3698\n",
      "Epoch 2/30\n",
      "667/668 [============================>.] - ETA: 0s - loss: 0.1131 - root_mean_squared_error: 0.3363\n",
      "Epoch 00002: val_loss improved from 0.13672 to 0.13305, saving model to /content/drive/My Drive/epochs/model_5_6_camera4.0002-0.1331.h5\n",
      "668/668 [==============================] - 4s 7ms/step - loss: 0.1131 - root_mean_squared_error: 0.3363 - val_loss: 0.1331 - val_root_mean_squared_error: 0.3648\n",
      "Epoch 3/30\n",
      "665/668 [============================>.] - ETA: 0s - loss: 0.1085 - root_mean_squared_error: 0.3294\n",
      "Epoch 00003: val_loss improved from 0.13305 to 0.13265, saving model to /content/drive/My Drive/epochs/model_5_6_camera4.0003-0.1327.h5\n",
      "668/668 [==============================] - 4s 7ms/step - loss: 0.1082 - root_mean_squared_error: 0.3290 - val_loss: 0.1327 - val_root_mean_squared_error: 0.3642\n",
      "Epoch 4/30\n",
      "661/668 [============================>.] - ETA: 0s - loss: 0.1023 - root_mean_squared_error: 0.3198\n",
      "Epoch 00004: val_loss improved from 0.13265 to 0.13179, saving model to /content/drive/My Drive/epochs/model_5_6_camera4.0004-0.1318.h5\n",
      "668/668 [==============================] - 5s 7ms/step - loss: 0.1044 - root_mean_squared_error: 0.3231 - val_loss: 0.1318 - val_root_mean_squared_error: 0.3630\n",
      "Epoch 5/30\n",
      "664/668 [============================>.] - ETA: 0s - loss: 0.1015 - root_mean_squared_error: 0.3187\n",
      "Epoch 00005: val_loss did not improve from 0.13179\n",
      "668/668 [==============================] - 4s 7ms/step - loss: 0.1014 - root_mean_squared_error: 0.3184 - val_loss: 0.1332 - val_root_mean_squared_error: 0.3649\n",
      "Epoch 6/30\n",
      "667/668 [============================>.] - ETA: 0s - loss: 0.0982 - root_mean_squared_error: 0.3134\n",
      "Epoch 00006: val_loss did not improve from 0.13179\n",
      "668/668 [==============================] - 4s 7ms/step - loss: 0.0982 - root_mean_squared_error: 0.3133 - val_loss: 0.1346 - val_root_mean_squared_error: 0.3669\n",
      "Epoch 7/30\n",
      "667/668 [============================>.] - ETA: 0s - loss: 0.0961 - root_mean_squared_error: 0.3100\n",
      "Epoch 00007: val_loss did not improve from 0.13179\n",
      "668/668 [==============================] - 4s 7ms/step - loss: 0.0961 - root_mean_squared_error: 0.3100 - val_loss: 0.1355 - val_root_mean_squared_error: 0.3681\n",
      "Epoch 8/30\n",
      "665/668 [============================>.] - ETA: 0s - loss: 0.0941 - root_mean_squared_error: 0.3067\n",
      "Epoch 00008: val_loss did not improve from 0.13179\n",
      "668/668 [==============================] - 4s 6ms/step - loss: 0.0939 - root_mean_squared_error: 0.3064 - val_loss: 0.1363 - val_root_mean_squared_error: 0.3692\n",
      "Epoch 9/30\n",
      "662/668 [============================>.] - ETA: 0s - loss: 0.0920 - root_mean_squared_error: 0.3033\n",
      "Epoch 00009: val_loss did not improve from 0.13179\n",
      "668/668 [==============================] - 4s 6ms/step - loss: 0.0919 - root_mean_squared_error: 0.3032 - val_loss: 0.1378 - val_root_mean_squared_error: 0.3712\n",
      "Epoch 10/30\n",
      "665/668 [============================>.] - ETA: 0s - loss: 0.0908 - root_mean_squared_error: 0.3012\n",
      "Epoch 00010: val_loss did not improve from 0.13179\n",
      "668/668 [==============================] - 4s 6ms/step - loss: 0.0906 - root_mean_squared_error: 0.3010 - val_loss: 0.1406 - val_root_mean_squared_error: 0.3750\n",
      "Epoch 11/30\n",
      "668/668 [==============================] - ETA: 0s - loss: 0.0888 - root_mean_squared_error: 0.2980\n",
      "Epoch 00011: val_loss did not improve from 0.13179\n",
      "668/668 [==============================] - 4s 6ms/step - loss: 0.0888 - root_mean_squared_error: 0.2980 - val_loss: 0.1411 - val_root_mean_squared_error: 0.3757\n",
      "Epoch 12/30\n",
      "660/668 [============================>.] - ETA: 0s - loss: 0.0879 - root_mean_squared_error: 0.2964\n",
      "Epoch 00012: val_loss did not improve from 0.13179\n",
      "668/668 [==============================] - 4s 6ms/step - loss: 0.0876 - root_mean_squared_error: 0.2960 - val_loss: 0.1413 - val_root_mean_squared_error: 0.3759\n",
      "Epoch 13/30\n",
      "660/668 [============================>.] - ETA: 0s - loss: 0.0861 - root_mean_squared_error: 0.2935\n",
      "Epoch 00013: val_loss did not improve from 0.13179\n",
      "668/668 [==============================] - 4s 7ms/step - loss: 0.0861 - root_mean_squared_error: 0.2934 - val_loss: 0.1446 - val_root_mean_squared_error: 0.3802\n",
      "Epoch 14/30\n",
      "660/668 [============================>.] - ETA: 0s - loss: 0.0848 - root_mean_squared_error: 0.2913\n",
      "Epoch 00014: val_loss did not improve from 0.13179\n",
      "668/668 [==============================] - 4s 7ms/step - loss: 0.0849 - root_mean_squared_error: 0.2914 - val_loss: 0.1449 - val_root_mean_squared_error: 0.3807\n",
      "Epoch 15/30\n",
      "668/668 [==============================] - ETA: 0s - loss: 0.0834 - root_mean_squared_error: 0.2888\n",
      "Epoch 00015: val_loss did not improve from 0.13179\n",
      "668/668 [==============================] - 4s 7ms/step - loss: 0.0834 - root_mean_squared_error: 0.2888 - val_loss: 0.1452 - val_root_mean_squared_error: 0.3811\n",
      "Epoch 16/30\n",
      "668/668 [==============================] - ETA: 0s - loss: 0.0829 - root_mean_squared_error: 0.2880\n",
      "Epoch 00016: val_loss did not improve from 0.13179\n",
      "668/668 [==============================] - 4s 6ms/step - loss: 0.0829 - root_mean_squared_error: 0.2880 - val_loss: 0.1464 - val_root_mean_squared_error: 0.3826\n",
      "Epoch 17/30\n",
      "664/668 [============================>.] - ETA: 0s - loss: 0.0820 - root_mean_squared_error: 0.2864\n",
      "Epoch 00017: val_loss did not improve from 0.13179\n",
      "668/668 [==============================] - 4s 6ms/step - loss: 0.0819 - root_mean_squared_error: 0.2861 - val_loss: 0.1481 - val_root_mean_squared_error: 0.3848\n",
      "Epoch 18/30\n",
      "666/668 [============================>.] - ETA: 0s - loss: 0.0800 - root_mean_squared_error: 0.2828\n",
      "Epoch 00018: val_loss did not improve from 0.13179\n",
      "668/668 [==============================] - 4s 6ms/step - loss: 0.0801 - root_mean_squared_error: 0.2830 - val_loss: 0.1502 - val_root_mean_squared_error: 0.3875\n",
      "Epoch 19/30\n",
      "660/668 [============================>.] - ETA: 0s - loss: 0.0798 - root_mean_squared_error: 0.2825\n",
      "Epoch 00019: val_loss did not improve from 0.13179\n",
      "668/668 [==============================] - 4s 6ms/step - loss: 0.0800 - root_mean_squared_error: 0.2829 - val_loss: 0.1497 - val_root_mean_squared_error: 0.3869\n",
      "Epoch 20/30\n",
      "666/668 [============================>.] - ETA: 0s - loss: 0.0786 - root_mean_squared_error: 0.2803\n",
      "Epoch 00020: val_loss did not improve from 0.13179\n",
      "668/668 [==============================] - 4s 6ms/step - loss: 0.0786 - root_mean_squared_error: 0.2804 - val_loss: 0.1495 - val_root_mean_squared_error: 0.3866\n",
      "Epoch 21/30\n",
      "663/668 [============================>.] - ETA: 0s - loss: 0.0768 - root_mean_squared_error: 0.2771\n",
      "Epoch 00021: val_loss did not improve from 0.13179\n",
      "668/668 [==============================] - 4s 6ms/step - loss: 0.0773 - root_mean_squared_error: 0.2780 - val_loss: 0.1508 - val_root_mean_squared_error: 0.3884\n",
      "Epoch 22/30\n",
      "660/668 [============================>.] - ETA: 0s - loss: 0.0769 - root_mean_squared_error: 0.2773\n",
      "Epoch 00022: val_loss did not improve from 0.13179\n",
      "668/668 [==============================] - 4s 7ms/step - loss: 0.0770 - root_mean_squared_error: 0.2775 - val_loss: 0.1520 - val_root_mean_squared_error: 0.3898\n",
      "Epoch 23/30\n",
      "661/668 [============================>.] - ETA: 0s - loss: 0.0762 - root_mean_squared_error: 0.2761\n",
      "Epoch 00023: val_loss did not improve from 0.13179\n",
      "668/668 [==============================] - 4s 6ms/step - loss: 0.0763 - root_mean_squared_error: 0.2761 - val_loss: 0.1524 - val_root_mean_squared_error: 0.3904\n",
      "Epoch 24/30\n",
      "668/668 [==============================] - ETA: 0s - loss: 0.0756 - root_mean_squared_error: 0.2750\n",
      "Epoch 00024: val_loss did not improve from 0.13179\n",
      "668/668 [==============================] - 4s 6ms/step - loss: 0.0756 - root_mean_squared_error: 0.2750 - val_loss: 0.1531 - val_root_mean_squared_error: 0.3913\n",
      "Epoch 25/30\n",
      "664/668 [============================>.] - ETA: 0s - loss: 0.0747 - root_mean_squared_error: 0.2733\n",
      "Epoch 00025: val_loss did not improve from 0.13179\n",
      "668/668 [==============================] - 4s 6ms/step - loss: 0.0750 - root_mean_squared_error: 0.2738 - val_loss: 0.1560 - val_root_mean_squared_error: 0.3949\n",
      "Epoch 26/30\n",
      "666/668 [============================>.] - ETA: 0s - loss: 0.0744 - root_mean_squared_error: 0.2728\n",
      "Epoch 00026: val_loss did not improve from 0.13179\n",
      "668/668 [==============================] - 4s 6ms/step - loss: 0.0744 - root_mean_squared_error: 0.2727 - val_loss: 0.1556 - val_root_mean_squared_error: 0.3944\n",
      "Epoch 27/30\n",
      "667/668 [============================>.] - ETA: 0s - loss: 0.0742 - root_mean_squared_error: 0.2725\n",
      "Epoch 00027: val_loss did not improve from 0.13179\n",
      "668/668 [==============================] - 4s 6ms/step - loss: 0.0742 - root_mean_squared_error: 0.2724 - val_loss: 0.1541 - val_root_mean_squared_error: 0.3925\n",
      "Epoch 28/30\n",
      "662/668 [============================>.] - ETA: 0s - loss: 0.0728 - root_mean_squared_error: 0.2698\n",
      "Epoch 00028: val_loss did not improve from 0.13179\n",
      "668/668 [==============================] - 4s 6ms/step - loss: 0.0727 - root_mean_squared_error: 0.2696 - val_loss: 0.1557 - val_root_mean_squared_error: 0.3946\n",
      "Epoch 29/30\n",
      "660/668 [============================>.] - ETA: 0s - loss: 0.0722 - root_mean_squared_error: 0.2687\n",
      "Epoch 00029: val_loss did not improve from 0.13179\n",
      "668/668 [==============================] - 4s 6ms/step - loss: 0.0720 - root_mean_squared_error: 0.2683 - val_loss: 0.1586 - val_root_mean_squared_error: 0.3982\n",
      "Epoch 30/30\n",
      "666/668 [============================>.] - ETA: 0s - loss: 0.0718 - root_mean_squared_error: 0.2680\n",
      "Epoch 00030: val_loss did not improve from 0.13179\n",
      "668/668 [==============================] - 4s 6ms/step - loss: 0.0718 - root_mean_squared_error: 0.2679 - val_loss: 0.1565 - val_root_mean_squared_error: 0.3956\n"
     ]
    }
   ],
   "source": [
    "history = model.fit(X_train,\n",
    "                    y_train,\n",
    "                    batch_size=64,\n",
    "                    validation_data=(X_test, y_test),\n",
    "                    epochs=30,\n",
    "                    verbose=1,\n",
    "                    callbacks=callbacks_list)"
   ]
  },
  {
   "cell_type": "code",
   "execution_count": null,
   "metadata": {
    "colab": {},
    "colab_type": "code",
    "id": "vuBfwM65VAyn"
   },
   "outputs": [],
   "source": [
    "ticks = [i for i in range(10)]\n",
    "labels = [i for i in range(0, 11)]"
   ]
  },
  {
   "cell_type": "code",
   "execution_count": null,
   "metadata": {
    "colab": {
     "base_uri": "https://localhost:8080/",
     "height": 519
    },
    "colab_type": "code",
    "id": "e0wh5jOQVAyo",
    "outputId": "f5972a4e-80da-4ea6-a4d3-d4ec6572e2de"
   },
   "outputs": [
    {
     "data": {
      "image/png": "[encoded data removed]",
      "text/plain": [
       "<Figure size 1440x576 with 1 Axes>"
      ]
     },
     "metadata": {
      "needs_background": "light",
      "tags": []
     },
     "output_type": "display_data"
    }
   ],
   "source": [
    "train_loss = history.history['loss']\n",
    "test_loss = history.history['val_loss']\n",
    "\n",
    "# Set figure size.\n",
    "plt.figure(figsize=(20, 8))\n",
    "\n",
    "# Generate line plot of training, testing loss over epochs.\n",
    "plt.plot(train_loss, label='Training Loss', color='#185fad')\n",
    "plt.plot(test_loss, label='Testing Loss', color='orange')\n",
    "\n",
    "# Set title\n",
    "plt.title('Training and Testing Loss by Epoch for Camera6', fontsize = 25)\n",
    "plt.xlabel('Epoch', fontsize = 18)\n",
    "plt.ylabel('Mean Squared Error', fontsize = 18)\n",
    "plt.xticks(ticks, labels)\n",
    "\n",
    "plt.legend(fontsize = 18)\n",
    "\n",
    "plt.savefig('/content/drive/My Drive/images/train_test_loss_model5_6_camera4.png');"
   ]
  },
  {
   "cell_type": "code",
   "execution_count": null,
   "metadata": {
    "colab": {},
    "colab_type": "code",
    "id": "vcQDpWplVAyp"
   },
   "outputs": [],
   "source": [
    "def model_history(model_name): \n",
    "  model = pd.DataFrame({'loss': history.history['loss'],\n",
    "                        'root_mean_squared_error': history.history['root_mean_squared_error'],\n",
    "                        'val_loss': history.history['val_loss'],\n",
    "                        'val_root_mean_squared_error': history.history['val_root_mean_squared_error']},\n",
    "                        columns = ['loss', 'root_mean_squared_error', 'val_loss', 'val_root_mean_squared_error'])\n",
    "\n",
    "  model.to_csv(f'/content/drive/My Drive/datasets/{model_name}.csv', index=False)\n",
    "  return model"
   ]
  },
  {
   "cell_type": "code",
   "execution_count": null,
   "metadata": {
    "colab": {},
    "colab_type": "code",
    "id": "4kLNeLN3VAyr"
   },
   "outputs": [],
   "source": [
    "model_3_camera4 = model_history('model_5_6_camera4')"
   ]
  },
  {
   "cell_type": "code",
   "execution_count": null,
   "metadata": {
    "colab": {
     "base_uri": "https://localhost:8080/",
     "height": 204
    },
    "colab_type": "code",
    "id": "FT5lM39KVAys",
    "outputId": "24837b67-589a-4581-b04e-3b36659d952c"
   },
   "outputs": [
    {
     "data": {
      "text/html": [
       "<div>\n",
       "<style scoped>\n",
       "    .dataframe tbody tr th:only-of-type {\n",
       "        vertical-align: middle;\n",
       "    }\n",
       "\n",
       "    .dataframe tbody tr th {\n",
       "        vertical-align: top;\n",
       "    }\n",
       "\n",
       "    .dataframe thead th {\n",
       "        text-align: right;\n",
       "    }\n",
       "</style>\n",
       "<table border=\"1\" class=\"dataframe\">\n",
       "  <thead>\n",
       "    <tr style=\"text-align: right;\">\n",
       "      <th></th>\n",
       "      <th>loss</th>\n",
       "      <th>root_mean_squared_error</th>\n",
       "      <th>val_loss</th>\n",
       "      <th>val_root_mean_squared_error</th>\n",
       "    </tr>\n",
       "  </thead>\n",
       "  <tbody>\n",
       "    <tr>\n",
       "      <th>0</th>\n",
       "      <td>0.075737</td>\n",
       "      <td>0.275204</td>\n",
       "      <td>0.075564</td>\n",
       "      <td>0.274888</td>\n",
       "    </tr>\n",
       "    <tr>\n",
       "      <th>1</th>\n",
       "      <td>0.075080</td>\n",
       "      <td>0.274008</td>\n",
       "      <td>0.075269</td>\n",
       "      <td>0.274353</td>\n",
       "    </tr>\n",
       "    <tr>\n",
       "      <th>2</th>\n",
       "      <td>0.074593</td>\n",
       "      <td>0.273118</td>\n",
       "      <td>0.073480</td>\n",
       "      <td>0.271071</td>\n",
       "    </tr>\n",
       "    <tr>\n",
       "      <th>3</th>\n",
       "      <td>0.072347</td>\n",
       "      <td>0.268974</td>\n",
       "      <td>0.071943</td>\n",
       "      <td>0.268222</td>\n",
       "    </tr>\n",
       "    <tr>\n",
       "      <th>4</th>\n",
       "      <td>0.069004</td>\n",
       "      <td>0.262687</td>\n",
       "      <td>0.065941</td>\n",
       "      <td>0.256791</td>\n",
       "    </tr>\n",
       "  </tbody>\n",
       "</table>\n",
       "</div>"
      ],
      "text/plain": [
       "       loss  root_mean_squared_error  val_loss  val_root_mean_squared_error\n",
       "0  0.075737                 0.275204  0.075564                     0.274888\n",
       "1  0.075080                 0.274008  0.075269                     0.274353\n",
       "2  0.074593                 0.273118  0.073480                     0.271071\n",
       "3  0.072347                 0.268974  0.071943                     0.268222\n",
       "4  0.069004                 0.262687  0.065941                     0.256791"
      ]
     },
     "execution_count": 57,
     "metadata": {
      "tags": []
     },
     "output_type": "execute_result"
    }
   ],
   "source": [
    "model_2_camera6.head()"
   ]
  },
  {
   "cell_type": "code",
   "execution_count": null,
   "metadata": {
    "colab": {},
    "colab_type": "code",
    "id": "5ZDBQ1bjVAyu"
   },
   "outputs": [],
   "source": [
    "#################### end of training camera4 data for model 3"
   ]
  },
  {
   "cell_type": "code",
   "execution_count": null,
   "metadata": {
    "colab": {},
    "colab_type": "code",
    "id": "DT0GhDc1fC46"
   },
   "outputs": [],
   "source": [
    "########################### start of train with camera5 data for model 3"
   ]
  },
  {
   "cell_type": "code",
   "execution_count": null,
   "metadata": {
    "colab": {},
    "colab_type": "code",
    "id": "706AEZWDfC49"
   },
   "outputs": [],
   "source": [
    "camera7 = load('/content/drive/My Drive/datasets/camera7_cleaned.npz')\n",
    "log7 = pd.read_csv('/content/drive/My Drive/datasets/log7_cleaned.csv')"
   ]
  },
  {
   "cell_type": "code",
   "execution_count": null,
   "metadata": {
    "colab": {
     "base_uri": "https://localhost:8080/",
     "height": 34
    },
    "colab_type": "code",
    "id": "wyEeI0zHfC5A",
    "outputId": "f4a7ecad-0d57-4ca6-82d6-f898c7e5a215"
   },
   "outputs": [
    {
     "name": "stdout",
     "output_type": "stream",
     "text": [
      "Done\n"
     ]
    }
   ],
   "source": [
    "camera_processing(camera7, 'camera7')"
   ]
  },
  {
   "cell_type": "code",
   "execution_count": null,
   "metadata": {
    "colab": {
     "base_uri": "https://localhost:8080/",
     "height": 34
    },
    "colab_type": "code",
    "id": "r9SPeQ8rfC5D",
    "outputId": "617e99bc-2506-4a0b-cbae-dd600049a73f"
   },
   "outputs": [
    {
     "name": "stdout",
     "output_type": "stream",
     "text": [
      "Done\n"
     ]
    }
   ],
   "source": [
    "log_processing(log7, 'log7')"
   ]
  },
  {
   "cell_type": "code",
   "execution_count": null,
   "metadata": {
    "colab": {
     "base_uri": "https://localhost:8080/",
     "height": 34
    },
    "colab_type": "code",
    "id": "c74BRW8CfC5I",
    "outputId": "f684da61-bfb8-47d1-bd00-29252b1fa34e"
   },
   "outputs": [
    {
     "name": "stdout",
     "output_type": "stream",
     "text": [
      "Done\n"
     ]
    }
   ],
   "source": [
    "train_split('camera7', 'log7')"
   ]
  },
  {
   "cell_type": "code",
   "execution_count": null,
   "metadata": {
    "colab": {},
    "colab_type": "code",
    "id": "3ZENUTsxfC5K"
   },
   "outputs": [],
   "source": [
    "\"\"\"\n",
    "new data workflow\n",
    "camera2 = load('/content/drive/My Drive/datasets/camera2_cleaned.npz')\n",
    "log2 = pd.read_csv('/content/drive/My Drive/datasets/log2_cleaned.csv')\n",
    "\n",
    "camera_processing(camera2, 'camera2')\n",
    "\n",
    "log_processing(log2, 'log2')\n",
    "\n",
    "train_split('camera2', 'log2')\n",
    "\"\"\""
   ]
  },
  {
   "cell_type": "code",
   "execution_count": null,
   "metadata": {
    "colab": {},
    "colab_type": "code",
    "id": "o-a0klfKfC5N"
   },
   "outputs": [],
   "source": [
    "model = load_model('/content/drive/My Drive/epochs/model_5_6_camera4.0004-0.1318.h5')"
   ]
  },
  {
   "cell_type": "code",
   "execution_count": null,
   "metadata": {
    "colab": {},
    "colab_type": "code",
    "id": "rXRV15gyfC5P"
   },
   "outputs": [],
   "source": [
    "def train_load(camera_file_name):\n",
    "  !cp -r \"/content/drive/My Drive/datasets/{camera_file_name}_X_train.npz\" ./X_train.npz\n",
    "  !cp -r \"/content/drive/My Drive/datasets/{camera_file_name}_X_test.npz\" ./X_test.npz\n",
    "  !cp -r \"/content/drive/My Drive/datasets/{camera_file_name}_y_train.npz\" ./y_train.npz\n",
    "  !cp -r \"/content/drive/My Drive/datasets/{camera_file_name}_y_test.npz\" ./y_test.npz\n",
    "  X_train = load('./X_train.npz')\n",
    "  X_train = X_train.f.arr_0\n",
    "  X_test = load('./X_test.npz')\n",
    "  X_test = X_test.f.arr_0\n",
    "  y_train = load('./y_train.npz')\n",
    "  y_train = y_train.f.arr_0\n",
    "  y_test = load('./y_test.npz')\n",
    "  y_test = y_test.f.arr_0\n",
    "\n",
    "  return X_train, X_test, y_train, y_test"
   ]
  },
  {
   "cell_type": "code",
   "execution_count": null,
   "metadata": {
    "colab": {},
    "colab_type": "code",
    "id": "rcpeDikzfC5R"
   },
   "outputs": [],
   "source": [
    "X_train, X_test, y_train, y_test = train_load('camera5')"
   ]
  },
  {
   "cell_type": "code",
   "execution_count": null,
   "metadata": {
    "colab": {
     "base_uri": "https://localhost:8080/",
     "height": 34
    },
    "colab_type": "code",
    "id": "m3muLlksfC5S",
    "outputId": "81c6b50c-8015-4ad4-8551-fb6a50f60a27"
   },
   "outputs": [
    {
     "data": {
      "text/plain": [
       "((18456, 80, 160, 1), (4614, 80, 160, 1), (18456, 1), (4614, 1))"
      ]
     },
     "execution_count": 61,
     "metadata": {
      "tags": []
     },
     "output_type": "execute_result"
    }
   ],
   "source": [
    "X_train.shape, X_test.shape, y_train.shape, y_test.shape"
   ]
  },
  {
   "cell_type": "code",
   "execution_count": null,
   "metadata": {
    "colab": {},
    "colab_type": "code",
    "id": "eoRaq2lffC5X"
   },
   "outputs": [],
   "source": [
    "filepath = \"/content/drive/My Drive/epochs/model_5_7_camera5.{epoch:04d}-{val_loss:.4f}.h5\"\n",
    "checkpoint = ModelCheckpoint(filepath, monitor='val_loss', verbose=1, save_best_only=True, mode='min')\n",
    "callbacks_list = [checkpoint]"
   ]
  },
  {
   "cell_type": "code",
   "execution_count": null,
   "metadata": {
    "colab": {
     "base_uri": "https://localhost:8080/",
     "height": 1000
    },
    "colab_type": "code",
    "id": "QF7BlRWQfC5Z",
    "outputId": "3852e44b-d638-45e6-f3ef-fd9c5a187ded"
   },
   "outputs": [
    {
     "name": "stdout",
     "output_type": "stream",
     "text": [
      "Epoch 1/30\n",
      "284/289 [============================>.] - ETA: 0s - loss: 0.1137 - root_mean_squared_error: 0.3372\n",
      "Epoch 00001: val_loss improved from inf to 0.14154, saving model to /content/drive/My Drive/epochs/model_5_7_camera5.0001-0.1415.h5\n",
      "289/289 [==============================] - 3s 9ms/step - loss: 0.1138 - root_mean_squared_error: 0.3373 - val_loss: 0.1415 - val_root_mean_squared_error: 0.3762\n",
      "Epoch 2/30\n",
      "280/289 [============================>.] - ETA: 0s - loss: 0.1007 - root_mean_squared_error: 0.3174\n",
      "Epoch 00002: val_loss improved from 0.14154 to 0.13828, saving model to /content/drive/My Drive/epochs/model_5_7_camera5.0002-0.1383.h5\n",
      "289/289 [==============================] - 2s 7ms/step - loss: 0.0989 - root_mean_squared_error: 0.3144 - val_loss: 0.1383 - val_root_mean_squared_error: 0.3719\n",
      "Epoch 3/30\n",
      "282/289 [============================>.] - ETA: 0s - loss: 0.0961 - root_mean_squared_error: 0.3100\n",
      "Epoch 00003: val_loss improved from 0.13828 to 0.13581, saving model to /content/drive/My Drive/epochs/model_5_7_camera5.0003-0.1358.h5\n",
      "289/289 [==============================] - 2s 7ms/step - loss: 0.0947 - root_mean_squared_error: 0.3078 - val_loss: 0.1358 - val_root_mean_squared_error: 0.3685\n",
      "Epoch 4/30\n",
      "286/289 [============================>.] - ETA: 0s - loss: 0.0917 - root_mean_squared_error: 0.3028\n",
      "Epoch 00004: val_loss improved from 0.13581 to 0.13488, saving model to /content/drive/My Drive/epochs/model_5_7_camera5.0004-0.1349.h5\n",
      "289/289 [==============================] - 2s 7ms/step - loss: 0.0913 - root_mean_squared_error: 0.3022 - val_loss: 0.1349 - val_root_mean_squared_error: 0.3673\n",
      "Epoch 5/30\n",
      "285/289 [============================>.] - ETA: 0s - loss: 0.0865 - root_mean_squared_error: 0.2941\n",
      "Epoch 00005: val_loss improved from 0.13488 to 0.13354, saving model to /content/drive/My Drive/epochs/model_5_7_camera5.0005-0.1335.h5\n",
      "289/289 [==============================] - 2s 7ms/step - loss: 0.0880 - root_mean_squared_error: 0.2967 - val_loss: 0.1335 - val_root_mean_squared_error: 0.3654\n",
      "Epoch 6/30\n",
      "287/289 [============================>.] - ETA: 0s - loss: 0.0855 - root_mean_squared_error: 0.2924\n",
      "Epoch 00006: val_loss improved from 0.13354 to 0.13233, saving model to /content/drive/My Drive/epochs/model_5_7_camera5.0006-0.1323.h5\n",
      "289/289 [==============================] - 2s 7ms/step - loss: 0.0852 - root_mean_squared_error: 0.2920 - val_loss: 0.1323 - val_root_mean_squared_error: 0.3638\n",
      "Epoch 7/30\n",
      "282/289 [============================>.] - ETA: 0s - loss: 0.0833 - root_mean_squared_error: 0.2887\n",
      "Epoch 00007: val_loss did not improve from 0.13233\n",
      "289/289 [==============================] - 2s 7ms/step - loss: 0.0824 - root_mean_squared_error: 0.2871 - val_loss: 0.1324 - val_root_mean_squared_error: 0.3638\n",
      "Epoch 8/30\n",
      "288/289 [============================>.] - ETA: 0s - loss: 0.0803 - root_mean_squared_error: 0.2834\n",
      "Epoch 00008: val_loss improved from 0.13233 to 0.13203, saving model to /content/drive/My Drive/epochs/model_5_7_camera5.0008-0.1320.h5\n",
      "289/289 [==============================] - 2s 7ms/step - loss: 0.0802 - root_mean_squared_error: 0.2833 - val_loss: 0.1320 - val_root_mean_squared_error: 0.3634\n",
      "Epoch 9/30\n",
      "285/289 [============================>.] - ETA: 0s - loss: 0.0789 - root_mean_squared_error: 0.2810\n",
      "Epoch 00009: val_loss did not improve from 0.13203\n",
      "289/289 [==============================] - 2s 7ms/step - loss: 0.0783 - root_mean_squared_error: 0.2798 - val_loss: 0.1333 - val_root_mean_squared_error: 0.3651\n",
      "Epoch 10/30\n",
      "282/289 [============================>.] - ETA: 0s - loss: 0.0761 - root_mean_squared_error: 0.2759\n",
      "Epoch 00010: val_loss did not improve from 0.13203\n",
      "289/289 [==============================] - 2s 7ms/step - loss: 0.0766 - root_mean_squared_error: 0.2767 - val_loss: 0.1328 - val_root_mean_squared_error: 0.3645\n",
      "Epoch 11/30\n",
      "283/289 [============================>.] - ETA: 0s - loss: 0.0749 - root_mean_squared_error: 0.2737\n",
      "Epoch 00011: val_loss did not improve from 0.13203\n",
      "289/289 [==============================] - 2s 6ms/step - loss: 0.0745 - root_mean_squared_error: 0.2730 - val_loss: 0.1334 - val_root_mean_squared_error: 0.3652\n",
      "Epoch 12/30\n",
      "281/289 [============================>.] - ETA: 0s - loss: 0.0741 - root_mean_squared_error: 0.2722\n",
      "Epoch 00012: val_loss did not improve from 0.13203\n",
      "289/289 [==============================] - 2s 7ms/step - loss: 0.0733 - root_mean_squared_error: 0.2707 - val_loss: 0.1348 - val_root_mean_squared_error: 0.3671\n",
      "Epoch 13/30\n",
      "281/289 [============================>.] - ETA: 0s - loss: 0.0726 - root_mean_squared_error: 0.2694\n",
      "Epoch 00013: val_loss did not improve from 0.13203\n",
      "289/289 [==============================] - 2s 7ms/step - loss: 0.0717 - root_mean_squared_error: 0.2678 - val_loss: 0.1362 - val_root_mean_squared_error: 0.3691\n",
      "Epoch 14/30\n",
      "289/289 [==============================] - ETA: 0s - loss: 0.0705 - root_mean_squared_error: 0.2656\n",
      "Epoch 00014: val_loss did not improve from 0.13203\n",
      "289/289 [==============================] - 2s 6ms/step - loss: 0.0705 - root_mean_squared_error: 0.2656 - val_loss: 0.1346 - val_root_mean_squared_error: 0.3669\n",
      "Epoch 15/30\n",
      "286/289 [============================>.] - ETA: 0s - loss: 0.0688 - root_mean_squared_error: 0.2624\n",
      "Epoch 00015: val_loss did not improve from 0.13203\n",
      "289/289 [==============================] - 2s 6ms/step - loss: 0.0693 - root_mean_squared_error: 0.2632 - val_loss: 0.1353 - val_root_mean_squared_error: 0.3679\n",
      "Epoch 16/30\n",
      "287/289 [============================>.] - ETA: 0s - loss: 0.0683 - root_mean_squared_error: 0.2613\n",
      "Epoch 00016: val_loss did not improve from 0.13203\n",
      "289/289 [==============================] - 2s 6ms/step - loss: 0.0681 - root_mean_squared_error: 0.2609 - val_loss: 0.1347 - val_root_mean_squared_error: 0.3670\n",
      "Epoch 17/30\n",
      "282/289 [============================>.] - ETA: 0s - loss: 0.0675 - root_mean_squared_error: 0.2597\n",
      "Epoch 00017: val_loss did not improve from 0.13203\n",
      "289/289 [==============================] - 2s 7ms/step - loss: 0.0675 - root_mean_squared_error: 0.2599 - val_loss: 0.1348 - val_root_mean_squared_error: 0.3672\n",
      "Epoch 18/30\n",
      "288/289 [============================>.] - ETA: 0s - loss: 0.0660 - root_mean_squared_error: 0.2570\n",
      "Epoch 00018: val_loss did not improve from 0.13203\n",
      "289/289 [==============================] - 2s 6ms/step - loss: 0.0660 - root_mean_squared_error: 0.2569 - val_loss: 0.1341 - val_root_mean_squared_error: 0.3661\n",
      "Epoch 19/30\n",
      "288/289 [============================>.] - ETA: 0s - loss: 0.0648 - root_mean_squared_error: 0.2546\n",
      "Epoch 00019: val_loss did not improve from 0.13203\n",
      "289/289 [==============================] - 2s 6ms/step - loss: 0.0648 - root_mean_squared_error: 0.2545 - val_loss: 0.1352 - val_root_mean_squared_error: 0.3677\n",
      "Epoch 20/30\n",
      "283/289 [============================>.] - ETA: 0s - loss: 0.0644 - root_mean_squared_error: 0.2538\n",
      "Epoch 00020: val_loss did not improve from 0.13203\n",
      "289/289 [==============================] - 2s 6ms/step - loss: 0.0642 - root_mean_squared_error: 0.2534 - val_loss: 0.1348 - val_root_mean_squared_error: 0.3671\n",
      "Epoch 21/30\n",
      "284/289 [============================>.] - ETA: 0s - loss: 0.0626 - root_mean_squared_error: 0.2501\n",
      "Epoch 00021: val_loss did not improve from 0.13203\n",
      "289/289 [==============================] - 2s 6ms/step - loss: 0.0638 - root_mean_squared_error: 0.2527 - val_loss: 0.1362 - val_root_mean_squared_error: 0.3690\n",
      "Epoch 22/30\n",
      "280/289 [============================>.] - ETA: 0s - loss: 0.0634 - root_mean_squared_error: 0.2517\n",
      "Epoch 00022: val_loss did not improve from 0.13203\n",
      "289/289 [==============================] - 2s 6ms/step - loss: 0.0630 - root_mean_squared_error: 0.2509 - val_loss: 0.1380 - val_root_mean_squared_error: 0.3715\n",
      "Epoch 23/30\n",
      "289/289 [==============================] - ETA: 0s - loss: 0.0617 - root_mean_squared_error: 0.2484\n",
      "Epoch 00023: val_loss did not improve from 0.13203\n",
      "289/289 [==============================] - 2s 6ms/step - loss: 0.0617 - root_mean_squared_error: 0.2484 - val_loss: 0.1360 - val_root_mean_squared_error: 0.3688\n",
      "Epoch 24/30\n",
      "287/289 [============================>.] - ETA: 0s - loss: 0.0619 - root_mean_squared_error: 0.2487\n",
      "Epoch 00024: val_loss did not improve from 0.13203\n",
      "289/289 [==============================] - 2s 6ms/step - loss: 0.0619 - root_mean_squared_error: 0.2489 - val_loss: 0.1379 - val_root_mean_squared_error: 0.3713\n",
      "Epoch 25/30\n",
      "282/289 [============================>.] - ETA: 0s - loss: 0.0601 - root_mean_squared_error: 0.2452\n",
      "Epoch 00025: val_loss did not improve from 0.13203\n",
      "289/289 [==============================] - 2s 7ms/step - loss: 0.0609 - root_mean_squared_error: 0.2468 - val_loss: 0.1372 - val_root_mean_squared_error: 0.3705\n",
      "Epoch 26/30\n",
      "287/289 [============================>.] - ETA: 0s - loss: 0.0600 - root_mean_squared_error: 0.2449\n",
      "Epoch 00026: val_loss did not improve from 0.13203\n",
      "289/289 [==============================] - 2s 6ms/step - loss: 0.0602 - root_mean_squared_error: 0.2453 - val_loss: 0.1382 - val_root_mean_squared_error: 0.3718\n",
      "Epoch 27/30\n",
      "282/289 [============================>.] - ETA: 0s - loss: 0.0591 - root_mean_squared_error: 0.2430\n",
      "Epoch 00027: val_loss did not improve from 0.13203\n",
      "289/289 [==============================] - 2s 7ms/step - loss: 0.0591 - root_mean_squared_error: 0.2432 - val_loss: 0.1388 - val_root_mean_squared_error: 0.3725\n",
      "Epoch 28/30\n",
      "280/289 [============================>.] - ETA: 0s - loss: 0.0599 - root_mean_squared_error: 0.2447\n",
      "Epoch 00028: val_loss did not improve from 0.13203\n",
      "289/289 [==============================] - 2s 6ms/step - loss: 0.0599 - root_mean_squared_error: 0.2448 - val_loss: 0.1400 - val_root_mean_squared_error: 0.3742\n",
      "Epoch 29/30\n",
      "285/289 [============================>.] - ETA: 0s - loss: 0.0583 - root_mean_squared_error: 0.2414\n",
      "Epoch 00029: val_loss did not improve from 0.13203\n",
      "289/289 [==============================] - 2s 6ms/step - loss: 0.0581 - root_mean_squared_error: 0.2410 - val_loss: 0.1395 - val_root_mean_squared_error: 0.3735\n",
      "Epoch 30/30\n",
      "289/289 [==============================] - ETA: 0s - loss: 0.0577 - root_mean_squared_error: 0.2402\n",
      "Epoch 00030: val_loss did not improve from 0.13203\n",
      "289/289 [==============================] - 2s 6ms/step - loss: 0.0577 - root_mean_squared_error: 0.2402 - val_loss: 0.1403 - val_root_mean_squared_error: 0.3745\n"
     ]
    }
   ],
   "source": [
    "history = model.fit(X_train,\n",
    "                    y_train,\n",
    "                    batch_size=64,\n",
    "                    validation_data=(X_test, y_test),\n",
    "                    epochs=30,\n",
    "                    verbose=1,\n",
    "                    callbacks=callbacks_list)"
   ]
  },
  {
   "cell_type": "code",
   "execution_count": null,
   "metadata": {
    "colab": {},
    "colab_type": "code",
    "id": "oGlTAhPkfC5b"
   },
   "outputs": [],
   "source": [
    "ticks = [i for i in range(10)]\n",
    "labels = [i for i in range(1, 11)]"
   ]
  },
  {
   "cell_type": "code",
   "execution_count": null,
   "metadata": {
    "colab": {
     "base_uri": "https://localhost:8080/",
     "height": 519
    },
    "colab_type": "code",
    "id": "B2rCx-2IfC5f",
    "outputId": "0d931caf-91f2-4d8d-d1da-f28ffaab0083"
   },
   "outputs": [
    {
     "data": {
      "image/png": "[encoded data removed]",
      "text/plain": [
       "<Figure size 1440x576 with 1 Axes>"
      ]
     },
     "metadata": {
      "needs_background": "light",
      "tags": []
     },
     "output_type": "display_data"
    }
   ],
   "source": [
    "train_loss = history.history['loss']\n",
    "test_loss = history.history['val_loss']\n",
    "\n",
    "# Set figure size.\n",
    "plt.figure(figsize=(20, 8))\n",
    "\n",
    "# Generate line plot of training, testing loss over epochs.\n",
    "plt.plot(train_loss, label='Training Loss', color='#185fad')\n",
    "plt.plot(test_loss, label='Testing Loss', color='orange')\n",
    "\n",
    "# Set title\n",
    "plt.title('Training and Testing Loss by Epoch for Camera5', fontsize = 25)\n",
    "plt.xlabel('Epoch', fontsize = 18)\n",
    "plt.ylabel('Mean Squared Error', fontsize = 18)\n",
    "plt.xticks(ticks, labels)\n",
    "\n",
    "plt.legend(fontsize = 18)\n",
    "\n",
    "plt.savefig('/content/drive/My Drive/images/train_test_loss_model5_7_camera5.png');"
   ]
  },
  {
   "cell_type": "code",
   "execution_count": null,
   "metadata": {
    "colab": {},
    "colab_type": "code",
    "id": "mJ9SXVDpfC5g"
   },
   "outputs": [],
   "source": [
    "def model_history(model_name): \n",
    "  model = pd.DataFrame({'loss': history.history['loss'],\n",
    "                        'root_mean_squared_error': history.history['root_mean_squared_error'],\n",
    "                        'val_loss': history.history['val_loss'],\n",
    "                        'val_root_mean_squared_error': history.history['val_root_mean_squared_error']},\n",
    "                        columns = ['loss', 'root_mean_squared_error', 'val_loss', 'val_root_mean_squared_error'])\n",
    "\n",
    "  model.to_csv(f'/content/drive/My Drive/datasets/{model_name}.csv', index=False)\n",
    "  return model"
   ]
  },
  {
   "cell_type": "code",
   "execution_count": null,
   "metadata": {
    "colab": {},
    "colab_type": "code",
    "id": "iF_wqM0MfC5i"
   },
   "outputs": [],
   "source": [
    "model_3_camera5 = model_history('model_5_7_camera5')"
   ]
  },
  {
   "cell_type": "code",
   "execution_count": null,
   "metadata": {
    "colab": {
     "base_uri": "https://localhost:8080/",
     "height": 204
    },
    "colab_type": "code",
    "id": "NBw8NqxwfC5j",
    "outputId": "abdecb14-6a27-490c-98a9-61f82ee013c8"
   },
   "outputs": [
    {
     "data": {
      "text/html": [
       "<div>\n",
       "<style scoped>\n",
       "    .dataframe tbody tr th:only-of-type {\n",
       "        vertical-align: middle;\n",
       "    }\n",
       "\n",
       "    .dataframe tbody tr th {\n",
       "        vertical-align: top;\n",
       "    }\n",
       "\n",
       "    .dataframe thead th {\n",
       "        text-align: right;\n",
       "    }\n",
       "</style>\n",
       "<table border=\"1\" class=\"dataframe\">\n",
       "  <thead>\n",
       "    <tr style=\"text-align: right;\">\n",
       "      <th></th>\n",
       "      <th>loss</th>\n",
       "      <th>root_mean_squared_error</th>\n",
       "      <th>val_loss</th>\n",
       "      <th>val_root_mean_squared_error</th>\n",
       "    </tr>\n",
       "  </thead>\n",
       "  <tbody>\n",
       "    <tr>\n",
       "      <th>0</th>\n",
       "      <td>0.036267</td>\n",
       "      <td>0.190438</td>\n",
       "      <td>0.037370</td>\n",
       "      <td>0.193313</td>\n",
       "    </tr>\n",
       "    <tr>\n",
       "      <th>1</th>\n",
       "      <td>0.033722</td>\n",
       "      <td>0.183637</td>\n",
       "      <td>0.036164</td>\n",
       "      <td>0.190169</td>\n",
       "    </tr>\n",
       "    <tr>\n",
       "      <th>2</th>\n",
       "      <td>0.032589</td>\n",
       "      <td>0.180523</td>\n",
       "      <td>0.035592</td>\n",
       "      <td>0.188660</td>\n",
       "    </tr>\n",
       "    <tr>\n",
       "      <th>3</th>\n",
       "      <td>0.031547</td>\n",
       "      <td>0.177616</td>\n",
       "      <td>0.034675</td>\n",
       "      <td>0.186213</td>\n",
       "    </tr>\n",
       "    <tr>\n",
       "      <th>4</th>\n",
       "      <td>0.030749</td>\n",
       "      <td>0.175355</td>\n",
       "      <td>0.033977</td>\n",
       "      <td>0.184327</td>\n",
       "    </tr>\n",
       "  </tbody>\n",
       "</table>\n",
       "</div>"
      ],
      "text/plain": [
       "       loss  root_mean_squared_error  val_loss  val_root_mean_squared_error\n",
       "0  0.036267                 0.190438  0.037370                     0.193313\n",
       "1  0.033722                 0.183637  0.036164                     0.190169\n",
       "2  0.032589                 0.180523  0.035592                     0.188660\n",
       "3  0.031547                 0.177616  0.034675                     0.186213\n",
       "4  0.030749                 0.175355  0.033977                     0.184327"
      ]
     },
     "execution_count": 17,
     "metadata": {
      "tags": []
     },
     "output_type": "execute_result"
    }
   ],
   "source": [
    "model_2_camera7.head()"
   ]
  },
  {
   "cell_type": "code",
   "execution_count": null,
   "metadata": {
    "colab": {},
    "colab_type": "code",
    "id": "7LWZHSQOfC5o"
   },
   "outputs": [],
   "source": [
    "#################### end of training camera5 data for model 3"
   ]
  },
  {
   "cell_type": "code",
   "execution_count": null,
   "metadata": {
    "colab": {},
    "colab_type": "code",
    "id": "KN-J8upnfYmT"
   },
   "outputs": [],
   "source": [
    "########################### start of train with camera6 data for model 3"
   ]
  },
  {
   "cell_type": "code",
   "execution_count": null,
   "metadata": {
    "colab": {},
    "colab_type": "code",
    "id": "m46gH7BxfYmU"
   },
   "outputs": [],
   "source": [
    "camera8 = load('/content/drive/My Drive/datasets/camera8_cleaned.npz')\n",
    "log8 = pd.read_csv('/content/drive/My Drive/datasets/log8_cleaned.csv')"
   ]
  },
  {
   "cell_type": "code",
   "execution_count": null,
   "metadata": {
    "colab": {
     "base_uri": "https://localhost:8080/",
     "height": 34
    },
    "colab_type": "code",
    "id": "g34B6cYgfYmW",
    "outputId": "d046c7a0-7539-4ddf-ab68-05477fe6eccd"
   },
   "outputs": [
    {
     "name": "stdout",
     "output_type": "stream",
     "text": [
      "Done\n"
     ]
    }
   ],
   "source": [
    "camera_processing(camera8, 'camera8')"
   ]
  },
  {
   "cell_type": "code",
   "execution_count": null,
   "metadata": {
    "colab": {
     "base_uri": "https://localhost:8080/",
     "height": 34
    },
    "colab_type": "code",
    "id": "A0EZWO9WfYmX",
    "outputId": "5de785c5-62db-4f0a-e50b-1feec118b513"
   },
   "outputs": [
    {
     "name": "stdout",
     "output_type": "stream",
     "text": [
      "Done\n"
     ]
    }
   ],
   "source": [
    "log_processing(log8, 'log8')"
   ]
  },
  {
   "cell_type": "code",
   "execution_count": null,
   "metadata": {
    "colab": {
     "base_uri": "https://localhost:8080/",
     "height": 34
    },
    "colab_type": "code",
    "id": "fSrpKV2efYmZ",
    "outputId": "9416ff42-2ebf-4f71-cf7a-0dc7c718832c"
   },
   "outputs": [
    {
     "name": "stdout",
     "output_type": "stream",
     "text": [
      "Done\n"
     ]
    }
   ],
   "source": [
    "train_split('camera8', 'log8')"
   ]
  },
  {
   "cell_type": "code",
   "execution_count": null,
   "metadata": {
    "colab": {},
    "colab_type": "code",
    "id": "PMdJZe1ufYma"
   },
   "outputs": [],
   "source": [
    "\"\"\"\n",
    "new data workflow\n",
    "camera2 = load('/content/drive/My Drive/datasets/camera2_cleaned.npz')\n",
    "log2 = pd.read_csv('/content/drive/My Drive/datasets/log2_cleaned.csv')\n",
    "\n",
    "camera_processing(camera2, 'camera2')\n",
    "\n",
    "log_processing(log2, 'log2')\n",
    "\n",
    "train_split('camera2', 'log2')\n",
    "\"\"\""
   ]
  },
  {
   "cell_type": "code",
   "execution_count": null,
   "metadata": {
    "colab": {},
    "colab_type": "code",
    "id": "96PnLEU1fYmd"
   },
   "outputs": [],
   "source": [
    "model = load_model('/content/drive/My Drive/epochs/model_5_7_camera5.0008-0.1320.h5')"
   ]
  },
  {
   "cell_type": "code",
   "execution_count": null,
   "metadata": {
    "colab": {},
    "colab_type": "code",
    "id": "PCee-gnefYme"
   },
   "outputs": [],
   "source": [
    "def train_load(camera_file_name):\n",
    "  !cp -r \"/content/drive/My Drive/datasets/{camera_file_name}_X_train.npz\" ./X_train.npz\n",
    "  !cp -r \"/content/drive/My Drive/datasets/{camera_file_name}_X_test.npz\" ./X_test.npz\n",
    "  !cp -r \"/content/drive/My Drive/datasets/{camera_file_name}_y_train.npz\" ./y_train.npz\n",
    "  !cp -r \"/content/drive/My Drive/datasets/{camera_file_name}_y_test.npz\" ./y_test.npz\n",
    "  X_train = load('./X_train.npz')\n",
    "  X_train = X_train.f.arr_0\n",
    "  X_test = load('./X_test.npz')\n",
    "  X_test = X_test.f.arr_0\n",
    "  y_train = load('./y_train.npz')\n",
    "  y_train = y_train.f.arr_0\n",
    "  y_test = load('./y_test.npz')\n",
    "  y_test = y_test.f.arr_0\n",
    "\n",
    "  return X_train, X_test, y_train, y_test"
   ]
  },
  {
   "cell_type": "code",
   "execution_count": null,
   "metadata": {
    "colab": {},
    "colab_type": "code",
    "id": "hUABU74QfYmh"
   },
   "outputs": [],
   "source": [
    "X_train, X_test, y_train, y_test = train_load('camera6')"
   ]
  },
  {
   "cell_type": "code",
   "execution_count": null,
   "metadata": {
    "colab": {
     "base_uri": "https://localhost:8080/",
     "height": 34
    },
    "colab_type": "code",
    "id": "Z2mXnyUFfYmj",
    "outputId": "37ad6f54-44e0-4db6-cea6-bd76de3aa90b"
   },
   "outputs": [
    {
     "data": {
      "text/plain": [
       "((66002, 80, 160, 1), (16501, 80, 160, 1), (66002, 1), (16501, 1))"
      ]
     },
     "execution_count": 73,
     "metadata": {
      "tags": []
     },
     "output_type": "execute_result"
    }
   ],
   "source": [
    "X_train.shape, X_test.shape, y_train.shape, y_test.shape"
   ]
  },
  {
   "cell_type": "code",
   "execution_count": null,
   "metadata": {
    "colab": {},
    "colab_type": "code",
    "id": "F3UXNnGcfYmk"
   },
   "outputs": [],
   "source": [
    "filepath = \"/content/drive/My Drive/epochs/model_5_8_camera6.{epoch:04d}-{val_loss:.4f}.h5\"\n",
    "checkpoint = ModelCheckpoint(filepath, monitor='val_loss', verbose=1, save_best_only=True, mode='min')\n",
    "callbacks_list = [checkpoint]"
   ]
  },
  {
   "cell_type": "code",
   "execution_count": null,
   "metadata": {
    "colab": {
     "base_uri": "https://localhost:8080/",
     "height": 1000
    },
    "colab_type": "code",
    "id": "PN0zBMsNfYmm",
    "outputId": "cea9d51d-e3ca-4e14-905a-087480c6dd55"
   },
   "outputs": [
    {
     "name": "stdout",
     "output_type": "stream",
     "text": [
      "Epoch 1/30\n",
      "1026/1032 [============================>.] - ETA: 0s - loss: 0.0761 - root_mean_squared_error: 0.2759\n",
      "Epoch 00001: val_loss improved from inf to 0.07317, saving model to /content/drive/My Drive/epochs/model_5_8_camera6.0001-0.0732.h5\n",
      "1032/1032 [==============================] - 7s 7ms/step - loss: 0.0763 - root_mean_squared_error: 0.2762 - val_loss: 0.0732 - val_root_mean_squared_error: 0.2705\n",
      "Epoch 2/30\n",
      "1030/1032 [============================>.] - ETA: 0s - loss: 0.0690 - root_mean_squared_error: 0.2626\n",
      "Epoch 00002: val_loss improved from 0.07317 to 0.07173, saving model to /content/drive/My Drive/epochs/model_5_8_camera6.0002-0.0717.h5\n",
      "1032/1032 [==============================] - 7s 7ms/step - loss: 0.0689 - root_mean_squared_error: 0.2624 - val_loss: 0.0717 - val_root_mean_squared_error: 0.2678\n",
      "Epoch 3/30\n",
      "1029/1032 [============================>.] - ETA: 0s - loss: 0.0656 - root_mean_squared_error: 0.2561\n",
      "Epoch 00003: val_loss improved from 0.07173 to 0.07048, saving model to /content/drive/My Drive/epochs/model_5_8_camera6.0003-0.0705.h5\n",
      "1032/1032 [==============================] - 7s 7ms/step - loss: 0.0656 - root_mean_squared_error: 0.2561 - val_loss: 0.0705 - val_root_mean_squared_error: 0.2655\n",
      "Epoch 4/30\n",
      "1032/1032 [==============================] - ETA: 0s - loss: 0.0640 - root_mean_squared_error: 0.2531\n",
      "Epoch 00004: val_loss improved from 0.07048 to 0.07029, saving model to /content/drive/My Drive/epochs/model_5_8_camera6.0004-0.0703.h5\n",
      "1032/1032 [==============================] - 7s 7ms/step - loss: 0.0640 - root_mean_squared_error: 0.2531 - val_loss: 0.0703 - val_root_mean_squared_error: 0.2651\n",
      "Epoch 5/30\n",
      "1030/1032 [============================>.] - ETA: 0s - loss: 0.0626 - root_mean_squared_error: 0.2502\n",
      "Epoch 00005: val_loss did not improve from 0.07029\n",
      "1032/1032 [==============================] - 7s 7ms/step - loss: 0.0627 - root_mean_squared_error: 0.2504 - val_loss: 0.0705 - val_root_mean_squared_error: 0.2655\n",
      "Epoch 6/30\n",
      "1023/1032 [============================>.] - ETA: 0s - loss: 0.0617 - root_mean_squared_error: 0.2484\n",
      "Epoch 00006: val_loss did not improve from 0.07029\n",
      "1032/1032 [==============================] - 7s 7ms/step - loss: 0.0619 - root_mean_squared_error: 0.2487 - val_loss: 0.0717 - val_root_mean_squared_error: 0.2678\n",
      "Epoch 7/30\n",
      "1025/1032 [============================>.] - ETA: 0s - loss: 0.0613 - root_mean_squared_error: 0.2475\n",
      "Epoch 00007: val_loss did not improve from 0.07029\n",
      "1032/1032 [==============================] - 7s 6ms/step - loss: 0.0611 - root_mean_squared_error: 0.2472 - val_loss: 0.0716 - val_root_mean_squared_error: 0.2675\n",
      "Epoch 8/30\n",
      "1028/1032 [============================>.] - ETA: 0s - loss: 0.0608 - root_mean_squared_error: 0.2466\n",
      "Epoch 00008: val_loss did not improve from 0.07029\n",
      "1032/1032 [==============================] - 7s 7ms/step - loss: 0.0607 - root_mean_squared_error: 0.2464 - val_loss: 0.0712 - val_root_mean_squared_error: 0.2668\n",
      "Epoch 9/30\n",
      "1027/1032 [============================>.] - ETA: 0s - loss: 0.0601 - root_mean_squared_error: 0.2451\n",
      "Epoch 00009: val_loss did not improve from 0.07029\n",
      "1032/1032 [==============================] - 7s 6ms/step - loss: 0.0600 - root_mean_squared_error: 0.2449 - val_loss: 0.0711 - val_root_mean_squared_error: 0.2666\n",
      "Epoch 10/30\n",
      "1032/1032 [==============================] - ETA: 0s - loss: 0.0597 - root_mean_squared_error: 0.2444\n",
      "Epoch 00010: val_loss did not improve from 0.07029\n",
      "1032/1032 [==============================] - 7s 6ms/step - loss: 0.0597 - root_mean_squared_error: 0.2444 - val_loss: 0.0716 - val_root_mean_squared_error: 0.2676\n",
      "Epoch 11/30\n",
      "1030/1032 [============================>.] - ETA: 0s - loss: 0.0592 - root_mean_squared_error: 0.2434\n",
      "Epoch 00011: val_loss did not improve from 0.07029\n",
      "1032/1032 [==============================] - 7s 6ms/step - loss: 0.0592 - root_mean_squared_error: 0.2433 - val_loss: 0.0736 - val_root_mean_squared_error: 0.2713\n",
      "Epoch 12/30\n",
      "1027/1032 [============================>.] - ETA: 0s - loss: 0.0592 - root_mean_squared_error: 0.2432\n",
      "Epoch 00012: val_loss did not improve from 0.07029\n",
      "1032/1032 [==============================] - 7s 6ms/step - loss: 0.0590 - root_mean_squared_error: 0.2429 - val_loss: 0.0718 - val_root_mean_squared_error: 0.2680\n",
      "Epoch 13/30\n",
      "1031/1032 [============================>.] - ETA: 0s - loss: 0.0589 - root_mean_squared_error: 0.2426\n",
      "Epoch 00013: val_loss did not improve from 0.07029\n",
      "1032/1032 [==============================] - 7s 6ms/step - loss: 0.0589 - root_mean_squared_error: 0.2426 - val_loss: 0.0727 - val_root_mean_squared_error: 0.2696\n",
      "Epoch 14/30\n",
      "1029/1032 [============================>.] - ETA: 0s - loss: 0.0587 - root_mean_squared_error: 0.2422\n",
      "Epoch 00014: val_loss did not improve from 0.07029\n",
      "1032/1032 [==============================] - 7s 6ms/step - loss: 0.0586 - root_mean_squared_error: 0.2420 - val_loss: 0.0732 - val_root_mean_squared_error: 0.2706\n",
      "Epoch 15/30\n",
      "1025/1032 [============================>.] - ETA: 0s - loss: 0.0581 - root_mean_squared_error: 0.2410\n",
      "Epoch 00015: val_loss did not improve from 0.07029\n",
      "1032/1032 [==============================] - 7s 6ms/step - loss: 0.0579 - root_mean_squared_error: 0.2407 - val_loss: 0.0736 - val_root_mean_squared_error: 0.2713\n",
      "Epoch 16/30\n",
      "1024/1032 [============================>.] - ETA: 0s - loss: 0.0580 - root_mean_squared_error: 0.2409\n",
      "Epoch 00016: val_loss did not improve from 0.07029\n",
      "1032/1032 [==============================] - 7s 6ms/step - loss: 0.0579 - root_mean_squared_error: 0.2407 - val_loss: 0.0742 - val_root_mean_squared_error: 0.2723\n",
      "Epoch 17/30\n",
      "1027/1032 [============================>.] - ETA: 0s - loss: 0.0578 - root_mean_squared_error: 0.2404\n",
      "Epoch 00017: val_loss did not improve from 0.07029\n",
      "1032/1032 [==============================] - 7s 7ms/step - loss: 0.0577 - root_mean_squared_error: 0.2403 - val_loss: 0.0730 - val_root_mean_squared_error: 0.2701\n",
      "Epoch 18/30\n",
      "1027/1032 [============================>.] - ETA: 0s - loss: 0.0578 - root_mean_squared_error: 0.2404\n",
      "Epoch 00018: val_loss did not improve from 0.07029\n",
      "1032/1032 [==============================] - 7s 6ms/step - loss: 0.0577 - root_mean_squared_error: 0.2402 - val_loss: 0.0731 - val_root_mean_squared_error: 0.2703\n",
      "Epoch 19/30\n",
      "1028/1032 [============================>.] - ETA: 0s - loss: 0.0574 - root_mean_squared_error: 0.2395\n",
      "Epoch 00019: val_loss did not improve from 0.07029\n",
      "1032/1032 [==============================] - 7s 6ms/step - loss: 0.0573 - root_mean_squared_error: 0.2393 - val_loss: 0.0734 - val_root_mean_squared_error: 0.2710\n",
      "Epoch 20/30\n",
      "1025/1032 [============================>.] - ETA: 0s - loss: 0.0572 - root_mean_squared_error: 0.2391\n",
      "Epoch 00020: val_loss did not improve from 0.07029\n",
      "1032/1032 [==============================] - 7s 6ms/step - loss: 0.0574 - root_mean_squared_error: 0.2395 - val_loss: 0.0752 - val_root_mean_squared_error: 0.2742\n",
      "Epoch 21/30\n",
      "1031/1032 [============================>.] - ETA: 0s - loss: 0.0570 - root_mean_squared_error: 0.2387\n",
      "Epoch 00021: val_loss did not improve from 0.07029\n",
      "1032/1032 [==============================] - 7s 7ms/step - loss: 0.0570 - root_mean_squared_error: 0.2387 - val_loss: 0.0740 - val_root_mean_squared_error: 0.2721\n",
      "Epoch 22/30\n",
      "1027/1032 [============================>.] - ETA: 0s - loss: 0.0569 - root_mean_squared_error: 0.2385\n",
      "Epoch 00022: val_loss did not improve from 0.07029\n",
      "1032/1032 [==============================] - 7s 7ms/step - loss: 0.0568 - root_mean_squared_error: 0.2384 - val_loss: 0.0739 - val_root_mean_squared_error: 0.2719\n",
      "Epoch 23/30\n",
      "1030/1032 [============================>.] - ETA: 0s - loss: 0.0566 - root_mean_squared_error: 0.2379\n",
      "Epoch 00023: val_loss did not improve from 0.07029\n",
      "1032/1032 [==============================] - 7s 7ms/step - loss: 0.0568 - root_mean_squared_error: 0.2384 - val_loss: 0.0745 - val_root_mean_squared_error: 0.2729\n",
      "Epoch 24/30\n",
      "1025/1032 [============================>.] - ETA: 0s - loss: 0.0562 - root_mean_squared_error: 0.2371\n",
      "Epoch 00024: val_loss did not improve from 0.07029\n",
      "1032/1032 [==============================] - 7s 7ms/step - loss: 0.0566 - root_mean_squared_error: 0.2379 - val_loss: 0.0748 - val_root_mean_squared_error: 0.2736\n",
      "Epoch 25/30\n",
      "1031/1032 [============================>.] - ETA: 0s - loss: 0.0564 - root_mean_squared_error: 0.2375\n",
      "Epoch 00025: val_loss did not improve from 0.07029\n",
      "1032/1032 [==============================] - 7s 6ms/step - loss: 0.0564 - root_mean_squared_error: 0.2374 - val_loss: 0.0766 - val_root_mean_squared_error: 0.2768\n",
      "Epoch 26/30\n",
      "1027/1032 [============================>.] - ETA: 0s - loss: 0.0558 - root_mean_squared_error: 0.2362\n",
      "Epoch 00026: val_loss did not improve from 0.07029\n",
      "1032/1032 [==============================] - 7s 6ms/step - loss: 0.0562 - root_mean_squared_error: 0.2370 - val_loss: 0.0744 - val_root_mean_squared_error: 0.2728\n",
      "Epoch 27/30\n",
      "1024/1032 [============================>.] - ETA: 0s - loss: 0.0562 - root_mean_squared_error: 0.2371\n",
      "Epoch 00027: val_loss did not improve from 0.07029\n",
      "1032/1032 [==============================] - 7s 6ms/step - loss: 0.0560 - root_mean_squared_error: 0.2367 - val_loss: 0.0758 - val_root_mean_squared_error: 0.2753\n",
      "Epoch 28/30\n",
      "1027/1032 [============================>.] - ETA: 0s - loss: 0.0561 - root_mean_squared_error: 0.2369\n",
      "Epoch 00028: val_loss did not improve from 0.07029\n",
      "1032/1032 [==============================] - 7s 6ms/step - loss: 0.0560 - root_mean_squared_error: 0.2366 - val_loss: 0.0744 - val_root_mean_squared_error: 0.2727\n",
      "Epoch 29/30\n",
      "1031/1032 [============================>.] - ETA: 0s - loss: 0.0560 - root_mean_squared_error: 0.2367\n",
      "Epoch 00029: val_loss did not improve from 0.07029\n",
      "1032/1032 [==============================] - 7s 7ms/step - loss: 0.0560 - root_mean_squared_error: 0.2367 - val_loss: 0.0747 - val_root_mean_squared_error: 0.2733\n",
      "Epoch 30/30\n",
      "1032/1032 [==============================] - ETA: 0s - loss: 0.0556 - root_mean_squared_error: 0.2359\n",
      "Epoch 00030: val_loss did not improve from 0.07029\n",
      "1032/1032 [==============================] - 7s 6ms/step - loss: 0.0556 - root_mean_squared_error: 0.2359 - val_loss: 0.0753 - val_root_mean_squared_error: 0.2744\n"
     ]
    }
   ],
   "source": [
    "history = model.fit(X_train,\n",
    "                    y_train,\n",
    "                    batch_size=64,\n",
    "                    validation_data=(X_test, y_test),\n",
    "                    epochs=30,\n",
    "                    verbose=1,\n",
    "                    callbacks=callbacks_list)"
   ]
  },
  {
   "cell_type": "code",
   "execution_count": null,
   "metadata": {
    "colab": {},
    "colab_type": "code",
    "id": "dn2DKu8PfYmo"
   },
   "outputs": [],
   "source": [
    "ticks = [i for i in range(0, 101, 10)]\n",
    "labels = [i for i in range(0, 101, 10)]\n",
    "labels[0] = 1"
   ]
  },
  {
   "cell_type": "code",
   "execution_count": null,
   "metadata": {
    "colab": {
     "base_uri": "https://localhost:8080/",
     "height": 517
    },
    "colab_type": "code",
    "id": "ZqTVloobfYmp",
    "outputId": "c3bb8065-841e-4e80-8162-8a161bb4f5bf"
   },
   "outputs": [
    {
     "data": {
      "image/png": "[encoded data removed]",
      "text/plain": [
       "<Figure size 1440x576 with 1 Axes>"
      ]
     },
     "metadata": {
      "needs_background": "light",
      "tags": []
     },
     "output_type": "display_data"
    }
   ],
   "source": [
    "train_loss = history.history['loss']\n",
    "test_loss = history.history['val_loss']\n",
    "\n",
    "# Set figure size.\n",
    "plt.figure(figsize=(20, 8))\n",
    "\n",
    "# Generate line plot of training, testing loss over epochs.\n",
    "plt.plot(train_loss, label='Training Loss', color='#185fad')\n",
    "plt.plot(test_loss, label='Testing Loss', color='orange')\n",
    "\n",
    "# Set title\n",
    "plt.title('Training and Testing Loss by Epoch for Camera6', fontsize = 25)\n",
    "plt.xlabel('Epoch', fontsize = 18)\n",
    "plt.ylabel('Mean Squared Error', fontsize = 18)\n",
    "plt.xticks(ticks, labels)\n",
    "\n",
    "plt.legend(fontsize = 18)\n",
    "\n",
    "plt.savefig('/content/drive/My Drive/images/train_test_loss_model5_8_camera6.png');"
   ]
  },
  {
   "cell_type": "code",
   "execution_count": null,
   "metadata": {
    "colab": {},
    "colab_type": "code",
    "id": "1ANFoj0ffYmr"
   },
   "outputs": [],
   "source": [
    "def model_history(model_name): \n",
    "  model = pd.DataFrame({'loss': history.history['loss'],\n",
    "                        'root_mean_squared_error': history.history['root_mean_squared_error'],\n",
    "                        'val_loss': history.history['val_loss'],\n",
    "                        'val_root_mean_squared_error': history.history['val_root_mean_squared_error']},\n",
    "                        columns = ['loss', 'root_mean_squared_error', 'val_loss', 'val_root_mean_squared_error'])\n",
    "\n",
    "  model.to_csv(f'/content/drive/My Drive/datasets/{model_name}.csv', index=False)\n",
    "  return model"
   ]
  },
  {
   "cell_type": "code",
   "execution_count": null,
   "metadata": {
    "colab": {},
    "colab_type": "code",
    "id": "k4WyYU5OfYmt"
   },
   "outputs": [],
   "source": [
    "model_3_camera6 = model_history('model_5_8_camera6')"
   ]
  },
  {
   "cell_type": "code",
   "execution_count": null,
   "metadata": {
    "colab": {
     "base_uri": "https://localhost:8080/",
     "height": 204
    },
    "colab_type": "code",
    "id": "MMx78W3QfYmv",
    "outputId": "1d1fc97e-b3be-49cb-89ec-91b9069d33a9"
   },
   "outputs": [
    {
     "data": {
      "text/html": [
       "<div>\n",
       "<style scoped>\n",
       "    .dataframe tbody tr th:only-of-type {\n",
       "        vertical-align: middle;\n",
       "    }\n",
       "\n",
       "    .dataframe tbody tr th {\n",
       "        vertical-align: top;\n",
       "    }\n",
       "\n",
       "    .dataframe thead th {\n",
       "        text-align: right;\n",
       "    }\n",
       "</style>\n",
       "<table border=\"1\" class=\"dataframe\">\n",
       "  <thead>\n",
       "    <tr style=\"text-align: right;\">\n",
       "      <th></th>\n",
       "      <th>loss</th>\n",
       "      <th>root_mean_squared_error</th>\n",
       "      <th>val_loss</th>\n",
       "      <th>val_root_mean_squared_error</th>\n",
       "    </tr>\n",
       "  </thead>\n",
       "  <tbody>\n",
       "    <tr>\n",
       "      <th>0</th>\n",
       "      <td>0.399777</td>\n",
       "      <td>0.632279</td>\n",
       "      <td>0.374494</td>\n",
       "      <td>0.611959</td>\n",
       "    </tr>\n",
       "    <tr>\n",
       "      <th>1</th>\n",
       "      <td>0.399236</td>\n",
       "      <td>0.631851</td>\n",
       "      <td>0.373918</td>\n",
       "      <td>0.611489</td>\n",
       "    </tr>\n",
       "    <tr>\n",
       "      <th>2</th>\n",
       "      <td>0.396852</td>\n",
       "      <td>0.629962</td>\n",
       "      <td>0.373423</td>\n",
       "      <td>0.611083</td>\n",
       "    </tr>\n",
       "    <tr>\n",
       "      <th>3</th>\n",
       "      <td>0.395067</td>\n",
       "      <td>0.628544</td>\n",
       "      <td>0.370702</td>\n",
       "      <td>0.608853</td>\n",
       "    </tr>\n",
       "    <tr>\n",
       "      <th>4</th>\n",
       "      <td>0.394510</td>\n",
       "      <td>0.628101</td>\n",
       "      <td>0.370582</td>\n",
       "      <td>0.608755</td>\n",
       "    </tr>\n",
       "  </tbody>\n",
       "</table>\n",
       "</div>"
      ],
      "text/plain": [
       "       loss  root_mean_squared_error  val_loss  val_root_mean_squared_error\n",
       "0  0.399777                 0.632279  0.374494                     0.611959\n",
       "1  0.399236                 0.631851  0.373918                     0.611489\n",
       "2  0.396852                 0.629962  0.373423                     0.611083\n",
       "3  0.395067                 0.628544  0.370702                     0.608853\n",
       "4  0.394510                 0.628101  0.370582                     0.608755"
      ]
     },
     "execution_count": 26,
     "metadata": {
      "tags": []
     },
     "output_type": "execute_result"
    }
   ],
   "source": [
    "model_2_camera8.head()"
   ]
  },
  {
   "cell_type": "code",
   "execution_count": null,
   "metadata": {
    "colab": {},
    "colab_type": "code",
    "id": "jI2GkSlHfYmy"
   },
   "outputs": [],
   "source": [
    "#################### end of training camera6 data for model 3"
   ]
  },
  {
   "cell_type": "code",
   "execution_count": null,
   "metadata": {
    "colab": {},
    "colab_type": "code",
    "id": "MYsiUPwwgALL"
   },
   "outputs": [],
   "source": [
    "########################### start of train with camera6 data for model 3"
   ]
  },
  {
   "cell_type": "code",
   "execution_count": null,
   "metadata": {
    "colab": {},
    "colab_type": "code",
    "id": "3qzchZ8BgALO"
   },
   "outputs": [],
   "source": [
    "camera9 = load('/content/drive/My Drive/datasets/camera9_cleaned.npz')\n",
    "log9 = pd.read_csv('/content/drive/My Drive/datasets/log9_cleaned.csv')"
   ]
  },
  {
   "cell_type": "code",
   "execution_count": null,
   "metadata": {
    "colab": {
     "base_uri": "https://localhost:8080/",
     "height": 34
    },
    "colab_type": "code",
    "id": "mt-03iKygALQ",
    "outputId": "e3df33e3-f34f-40d6-d10f-bf866903007e"
   },
   "outputs": [
    {
     "name": "stdout",
     "output_type": "stream",
     "text": [
      "Done\n"
     ]
    }
   ],
   "source": [
    "camera_processing(camera9, 'camera9')"
   ]
  },
  {
   "cell_type": "code",
   "execution_count": null,
   "metadata": {
    "colab": {
     "base_uri": "https://localhost:8080/",
     "height": 34
    },
    "colab_type": "code",
    "id": "9xNpqmqTgALS",
    "outputId": "6162875d-4952-4c08-aa3c-b874aea395ed"
   },
   "outputs": [
    {
     "name": "stdout",
     "output_type": "stream",
     "text": [
      "Done\n"
     ]
    }
   ],
   "source": [
    "log_processing(log9, 'log9')"
   ]
  },
  {
   "cell_type": "code",
   "execution_count": null,
   "metadata": {
    "colab": {
     "base_uri": "https://localhost:8080/",
     "height": 34
    },
    "colab_type": "code",
    "id": "RgG71uPVgALV",
    "outputId": "6b44c9ad-c198-47f3-8cbd-d933cf0ca793"
   },
   "outputs": [
    {
     "name": "stdout",
     "output_type": "stream",
     "text": [
      "Done\n"
     ]
    }
   ],
   "source": [
    "train_split('camera9', 'log9')"
   ]
  },
  {
   "cell_type": "code",
   "execution_count": null,
   "metadata": {
    "colab": {},
    "colab_type": "code",
    "id": "xqNAj9YagALY"
   },
   "outputs": [],
   "source": [
    "\"\"\"\n",
    "new data workflow\n",
    "camera2 = load('/content/drive/My Drive/datasets/camera2_cleaned.npz')\n",
    "log2 = pd.read_csv('/content/drive/My Drive/datasets/log2_cleaned.csv')\n",
    "\n",
    "camera_processing(camera2, 'camera2')\n",
    "\n",
    "log_processing(log2, 'log2')\n",
    "\n",
    "train_split('camera2', 'log2')\n",
    "\"\"\""
   ]
  },
  {
   "cell_type": "code",
   "execution_count": null,
   "metadata": {
    "colab": {},
    "colab_type": "code",
    "id": "LfvqwriggALb"
   },
   "outputs": [],
   "source": [
    "model = load_model('/content/drive/My Drive/epochs/model_5_8_camera6.0004-0.0703.h5')"
   ]
  },
  {
   "cell_type": "code",
   "execution_count": null,
   "metadata": {
    "colab": {},
    "colab_type": "code",
    "id": "ApmtkzscgALe"
   },
   "outputs": [],
   "source": [
    "def train_load(camera_file_name):\n",
    "  !cp -r \"/content/drive/My Drive/datasets/{camera_file_name}_X_train.npz\" ./X_train.npz\n",
    "  !cp -r \"/content/drive/My Drive/datasets/{camera_file_name}_X_test.npz\" ./X_test.npz\n",
    "  !cp -r \"/content/drive/My Drive/datasets/{camera_file_name}_y_train.npz\" ./y_train.npz\n",
    "  !cp -r \"/content/drive/My Drive/datasets/{camera_file_name}_y_test.npz\" ./y_test.npz\n",
    "  X_train = load('./X_train.npz')\n",
    "  X_train = X_train.f.arr_0\n",
    "  X_test = load('./X_test.npz')\n",
    "  X_test = X_test.f.arr_0\n",
    "  y_train = load('./y_train.npz')\n",
    "  y_train = y_train.f.arr_0\n",
    "  y_test = load('./y_test.npz')\n",
    "  y_test = y_test.f.arr_0\n",
    "\n",
    "  return X_train, X_test, y_train, y_test"
   ]
  },
  {
   "cell_type": "code",
   "execution_count": null,
   "metadata": {
    "colab": {},
    "colab_type": "code",
    "id": "eLWXRBbjgALg"
   },
   "outputs": [],
   "source": [
    "X_train, X_test, y_train, y_test = train_load('camera7')"
   ]
  },
  {
   "cell_type": "code",
   "execution_count": null,
   "metadata": {
    "colab": {
     "base_uri": "https://localhost:8080/",
     "height": 34
    },
    "colab_type": "code",
    "id": "UZlGuVkugALh",
    "outputId": "e69cf6df-f235-400a-f004-bbe511417975"
   },
   "outputs": [
    {
     "data": {
      "text/plain": [
       "((59248, 80, 160, 1), (14812, 80, 160, 1), (59248, 1), (14812, 1))"
      ]
     },
     "execution_count": 85,
     "metadata": {
      "tags": []
     },
     "output_type": "execute_result"
    }
   ],
   "source": [
    "X_train.shape, X_test.shape, y_train.shape, y_test.shape"
   ]
  },
  {
   "cell_type": "code",
   "execution_count": null,
   "metadata": {
    "colab": {},
    "colab_type": "code",
    "id": "-G2Rj2ZjgALj"
   },
   "outputs": [],
   "source": [
    "filepath = \"/content/drive/My Drive/epochs/model_5_9_camera7.{epoch:04d}-{val_loss:.4f}.h5\"\n",
    "checkpoint = ModelCheckpoint(filepath, monitor='val_loss', verbose=1, save_best_only=True, mode='min')\n",
    "callbacks_list = [checkpoint]"
   ]
  },
  {
   "cell_type": "code",
   "execution_count": null,
   "metadata": {
    "colab": {
     "base_uri": "https://localhost:8080/",
     "height": 1000
    },
    "colab_type": "code",
    "id": "ShKMN-jqgALk",
    "outputId": "0e3aedaa-8398-46de-b685-03f805bb7914"
   },
   "outputs": [
    {
     "name": "stdout",
     "output_type": "stream",
     "text": [
      "Epoch 1/30\n",
      "926/926 [==============================] - ETA: 0s - loss: 0.0390 - root_mean_squared_error: 0.1975\n",
      "Epoch 00001: val_loss improved from inf to 0.03959, saving model to /content/drive/My Drive/epochs/model_5_9_camera7.0001-0.0396.h5\n",
      "926/926 [==============================] - 6s 7ms/step - loss: 0.0390 - root_mean_squared_error: 0.1975 - val_loss: 0.0396 - val_root_mean_squared_error: 0.1990\n",
      "Epoch 2/30\n",
      "921/926 [============================>.] - ETA: 0s - loss: 0.0349 - root_mean_squared_error: 0.1869\n",
      "Epoch 00002: val_loss improved from 0.03959 to 0.03933, saving model to /content/drive/My Drive/epochs/model_5_9_camera7.0002-0.0393.h5\n",
      "926/926 [==============================] - 6s 7ms/step - loss: 0.0349 - root_mean_squared_error: 0.1869 - val_loss: 0.0393 - val_root_mean_squared_error: 0.1983\n",
      "Epoch 3/30\n",
      "920/926 [============================>.] - ETA: 0s - loss: 0.0340 - root_mean_squared_error: 0.1845\n",
      "Epoch 00003: val_loss improved from 0.03933 to 0.03911, saving model to /content/drive/My Drive/epochs/model_5_9_camera7.0003-0.0391.h5\n",
      "926/926 [==============================] - 6s 7ms/step - loss: 0.0341 - root_mean_squared_error: 0.1846 - val_loss: 0.0391 - val_root_mean_squared_error: 0.1978\n",
      "Epoch 4/30\n",
      "918/926 [============================>.] - ETA: 0s - loss: 0.0336 - root_mean_squared_error: 0.1832\n",
      "Epoch 00004: val_loss improved from 0.03911 to 0.03889, saving model to /content/drive/My Drive/epochs/model_5_9_camera7.0004-0.0389.h5\n",
      "926/926 [==============================] - 6s 7ms/step - loss: 0.0334 - root_mean_squared_error: 0.1827 - val_loss: 0.0389 - val_root_mean_squared_error: 0.1972\n",
      "Epoch 5/30\n",
      "920/926 [============================>.] - ETA: 0s - loss: 0.0326 - root_mean_squared_error: 0.1804\n",
      "Epoch 00005: val_loss did not improve from 0.03889\n",
      "926/926 [==============================] - 6s 7ms/step - loss: 0.0327 - root_mean_squared_error: 0.1808 - val_loss: 0.0391 - val_root_mean_squared_error: 0.1977\n",
      "Epoch 6/30\n",
      "923/926 [============================>.] - ETA: 0s - loss: 0.0323 - root_mean_squared_error: 0.1797\n",
      "Epoch 00006: val_loss did not improve from 0.03889\n",
      "926/926 [==============================] - 6s 7ms/step - loss: 0.0322 - root_mean_squared_error: 0.1795 - val_loss: 0.0395 - val_root_mean_squared_error: 0.1986\n",
      "Epoch 7/30\n",
      "923/926 [============================>.] - ETA: 0s - loss: 0.0319 - root_mean_squared_error: 0.1785\n",
      "Epoch 00007: val_loss did not improve from 0.03889\n",
      "926/926 [==============================] - 6s 7ms/step - loss: 0.0320 - root_mean_squared_error: 0.1788 - val_loss: 0.0392 - val_root_mean_squared_error: 0.1980\n",
      "Epoch 8/30\n",
      "924/926 [============================>.] - ETA: 0s - loss: 0.0312 - root_mean_squared_error: 0.1766\n",
      "Epoch 00008: val_loss did not improve from 0.03889\n",
      "926/926 [==============================] - 6s 7ms/step - loss: 0.0315 - root_mean_squared_error: 0.1776 - val_loss: 0.0396 - val_root_mean_squared_error: 0.1990\n",
      "Epoch 9/30\n",
      "926/926 [==============================] - ETA: 0s - loss: 0.0313 - root_mean_squared_error: 0.1769\n",
      "Epoch 00009: val_loss did not improve from 0.03889\n",
      "926/926 [==============================] - 6s 7ms/step - loss: 0.0313 - root_mean_squared_error: 0.1769 - val_loss: 0.0398 - val_root_mean_squared_error: 0.1996\n",
      "Epoch 10/30\n",
      "923/926 [============================>.] - ETA: 0s - loss: 0.0309 - root_mean_squared_error: 0.1759\n",
      "Epoch 00010: val_loss did not improve from 0.03889\n",
      "926/926 [==============================] - 6s 7ms/step - loss: 0.0309 - root_mean_squared_error: 0.1759 - val_loss: 0.0395 - val_root_mean_squared_error: 0.1988\n",
      "Epoch 11/30\n",
      "919/926 [============================>.] - ETA: 0s - loss: 0.0306 - root_mean_squared_error: 0.1749\n",
      "Epoch 00011: val_loss did not improve from 0.03889\n",
      "926/926 [==============================] - 6s 7ms/step - loss: 0.0307 - root_mean_squared_error: 0.1753 - val_loss: 0.0398 - val_root_mean_squared_error: 0.1995\n",
      "Epoch 12/30\n",
      "921/926 [============================>.] - ETA: 0s - loss: 0.0307 - root_mean_squared_error: 0.1752\n",
      "Epoch 00012: val_loss did not improve from 0.03889\n",
      "926/926 [==============================] - 6s 7ms/step - loss: 0.0306 - root_mean_squared_error: 0.1749 - val_loss: 0.0401 - val_root_mean_squared_error: 0.2002\n",
      "Epoch 13/30\n",
      "918/926 [============================>.] - ETA: 0s - loss: 0.0303 - root_mean_squared_error: 0.1741\n",
      "Epoch 00013: val_loss did not improve from 0.03889\n",
      "926/926 [==============================] - 6s 7ms/step - loss: 0.0302 - root_mean_squared_error: 0.1739 - val_loss: 0.0400 - val_root_mean_squared_error: 0.2000\n",
      "Epoch 14/30\n",
      "922/926 [============================>.] - ETA: 0s - loss: 0.0301 - root_mean_squared_error: 0.1735\n",
      "Epoch 00014: val_loss did not improve from 0.03889\n",
      "926/926 [==============================] - 6s 6ms/step - loss: 0.0301 - root_mean_squared_error: 0.1734 - val_loss: 0.0402 - val_root_mean_squared_error: 0.2005\n",
      "Epoch 15/30\n",
      "922/926 [============================>.] - ETA: 0s - loss: 0.0299 - root_mean_squared_error: 0.1728\n",
      "Epoch 00015: val_loss did not improve from 0.03889\n",
      "926/926 [==============================] - 6s 7ms/step - loss: 0.0299 - root_mean_squared_error: 0.1728 - val_loss: 0.0405 - val_root_mean_squared_error: 0.2012\n",
      "Epoch 16/30\n",
      "917/926 [============================>.] - ETA: 0s - loss: 0.0297 - root_mean_squared_error: 0.1724\n",
      "Epoch 00016: val_loss did not improve from 0.03889\n",
      "926/926 [==============================] - 6s 7ms/step - loss: 0.0297 - root_mean_squared_error: 0.1722 - val_loss: 0.0407 - val_root_mean_squared_error: 0.2018\n",
      "Epoch 17/30\n",
      "925/926 [============================>.] - ETA: 0s - loss: 0.0295 - root_mean_squared_error: 0.1718\n",
      "Epoch 00017: val_loss did not improve from 0.03889\n",
      "926/926 [==============================] - 6s 7ms/step - loss: 0.0295 - root_mean_squared_error: 0.1718 - val_loss: 0.0405 - val_root_mean_squared_error: 0.2013\n",
      "Epoch 18/30\n",
      "922/926 [============================>.] - ETA: 0s - loss: 0.0291 - root_mean_squared_error: 0.1705\n",
      "Epoch 00018: val_loss did not improve from 0.03889\n",
      "926/926 [==============================] - 6s 7ms/step - loss: 0.0292 - root_mean_squared_error: 0.1708 - val_loss: 0.0410 - val_root_mean_squared_error: 0.2026\n",
      "Epoch 19/30\n",
      "925/926 [============================>.] - ETA: 0s - loss: 0.0292 - root_mean_squared_error: 0.1708\n",
      "Epoch 00019: val_loss did not improve from 0.03889\n",
      "926/926 [==============================] - 6s 7ms/step - loss: 0.0292 - root_mean_squared_error: 0.1707 - val_loss: 0.0411 - val_root_mean_squared_error: 0.2028\n",
      "Epoch 20/30\n",
      "918/926 [============================>.] - ETA: 0s - loss: 0.0290 - root_mean_squared_error: 0.1702\n",
      "Epoch 00020: val_loss did not improve from 0.03889\n",
      "926/926 [==============================] - 6s 7ms/step - loss: 0.0289 - root_mean_squared_error: 0.1700 - val_loss: 0.0417 - val_root_mean_squared_error: 0.2043\n",
      "Epoch 21/30\n",
      "919/926 [============================>.] - ETA: 0s - loss: 0.0289 - root_mean_squared_error: 0.1701\n",
      "Epoch 00021: val_loss did not improve from 0.03889\n",
      "926/926 [==============================] - 6s 6ms/step - loss: 0.0288 - root_mean_squared_error: 0.1697 - val_loss: 0.0412 - val_root_mean_squared_error: 0.2031\n",
      "Epoch 22/30\n",
      "921/926 [============================>.] - ETA: 0s - loss: 0.0288 - root_mean_squared_error: 0.1696\n",
      "Epoch 00022: val_loss did not improve from 0.03889\n",
      "926/926 [==============================] - 6s 7ms/step - loss: 0.0288 - root_mean_squared_error: 0.1696 - val_loss: 0.0407 - val_root_mean_squared_error: 0.2018\n",
      "Epoch 23/30\n",
      "925/926 [============================>.] - ETA: 0s - loss: 0.0287 - root_mean_squared_error: 0.1693\n",
      "Epoch 00023: val_loss did not improve from 0.03889\n",
      "926/926 [==============================] - 6s 7ms/step - loss: 0.0286 - root_mean_squared_error: 0.1692 - val_loss: 0.0408 - val_root_mean_squared_error: 0.2019\n",
      "Epoch 24/30\n",
      "921/926 [============================>.] - ETA: 0s - loss: 0.0285 - root_mean_squared_error: 0.1688\n",
      "Epoch 00024: val_loss did not improve from 0.03889\n",
      "926/926 [==============================] - 6s 7ms/step - loss: 0.0285 - root_mean_squared_error: 0.1688 - val_loss: 0.0412 - val_root_mean_squared_error: 0.2030\n",
      "Epoch 25/30\n",
      "922/926 [============================>.] - ETA: 0s - loss: 0.0284 - root_mean_squared_error: 0.1684\n",
      "Epoch 00025: val_loss did not improve from 0.03889\n",
      "926/926 [==============================] - 6s 7ms/step - loss: 0.0284 - root_mean_squared_error: 0.1684 - val_loss: 0.0415 - val_root_mean_squared_error: 0.2037\n",
      "Epoch 26/30\n",
      "923/926 [============================>.] - ETA: 0s - loss: 0.0283 - root_mean_squared_error: 0.1682\n",
      "Epoch 00026: val_loss did not improve from 0.03889\n",
      "926/926 [==============================] - 6s 7ms/step - loss: 0.0283 - root_mean_squared_error: 0.1682 - val_loss: 0.0419 - val_root_mean_squared_error: 0.2046\n",
      "Epoch 27/30\n",
      "919/926 [============================>.] - ETA: 0s - loss: 0.0282 - root_mean_squared_error: 0.1680\n",
      "Epoch 00027: val_loss did not improve from 0.03889\n",
      "926/926 [==============================] - 6s 7ms/step - loss: 0.0282 - root_mean_squared_error: 0.1678 - val_loss: 0.0419 - val_root_mean_squared_error: 0.2046\n",
      "Epoch 28/30\n",
      "926/926 [==============================] - ETA: 0s - loss: 0.0280 - root_mean_squared_error: 0.1675\n",
      "Epoch 00028: val_loss did not improve from 0.03889\n",
      "926/926 [==============================] - 6s 7ms/step - loss: 0.0280 - root_mean_squared_error: 0.1675 - val_loss: 0.0423 - val_root_mean_squared_error: 0.2057\n",
      "Epoch 29/30\n",
      "921/926 [============================>.] - ETA: 0s - loss: 0.0279 - root_mean_squared_error: 0.1672\n",
      "Epoch 00029: val_loss did not improve from 0.03889\n",
      "926/926 [==============================] - 6s 7ms/step - loss: 0.0279 - root_mean_squared_error: 0.1671 - val_loss: 0.0417 - val_root_mean_squared_error: 0.2043\n",
      "Epoch 30/30\n",
      "918/926 [============================>.] - ETA: 0s - loss: 0.0278 - root_mean_squared_error: 0.1667\n",
      "Epoch 00030: val_loss did not improve from 0.03889\n",
      "926/926 [==============================] - 6s 7ms/step - loss: 0.0277 - root_mean_squared_error: 0.1666 - val_loss: 0.0432 - val_root_mean_squared_error: 0.2078\n"
     ]
    }
   ],
   "source": [
    "history = model.fit(X_train,\n",
    "                    y_train,\n",
    "                    batch_size=64,\n",
    "                    validation_data=(X_test, y_test),\n",
    "                    epochs=30,\n",
    "                    verbose=1,\n",
    "                    callbacks=callbacks_list)"
   ]
  },
  {
   "cell_type": "code",
   "execution_count": null,
   "metadata": {
    "colab": {},
    "colab_type": "code",
    "id": "68qDKlD1gALn"
   },
   "outputs": [],
   "source": [
    "ticks = [i for i in range(0, 101, 10)]\n",
    "labels = [i for i in range(0, 101, 10)]\n",
    "labels[0] = 1"
   ]
  },
  {
   "cell_type": "code",
   "execution_count": null,
   "metadata": {
    "colab": {
     "base_uri": "https://localhost:8080/",
     "height": 517
    },
    "colab_type": "code",
    "id": "5jbhfR3qgALo",
    "outputId": "2a8b8a94-87af-4722-9a66-1cbb7433094c"
   },
   "outputs": [
    {
     "data": {
      "image/png": "[encoded data removed]",
      "text/plain": [
       "<Figure size 1440x576 with 1 Axes>"
      ]
     },
     "metadata": {
      "needs_background": "light",
      "tags": []
     },
     "output_type": "display_data"
    }
   ],
   "source": [
    "train_loss = history.history['loss']\n",
    "test_loss = history.history['val_loss']\n",
    "\n",
    "# Set figure size.\n",
    "plt.figure(figsize=(20, 8))\n",
    "\n",
    "# Generate line plot of training, testing loss over epochs.\n",
    "plt.plot(train_loss, label='Training Loss', color='#185fad')\n",
    "plt.plot(test_loss, label='Testing Loss', color='orange')\n",
    "\n",
    "# Set title\n",
    "plt.title('Training and Testing Loss by Epoch for Camera7', fontsize = 25)\n",
    "plt.xlabel('Epoch', fontsize = 18)\n",
    "plt.ylabel('Mean Squared Error', fontsize = 18)\n",
    "plt.xticks(ticks, labels)\n",
    "\n",
    "plt.legend(fontsize = 18)\n",
    "\n",
    "plt.savefig('/content/drive/My Drive/images/train_test_loss_model5_9_camera7.png');"
   ]
  },
  {
   "cell_type": "code",
   "execution_count": null,
   "metadata": {
    "colab": {},
    "colab_type": "code",
    "id": "PgBitj-SgALr"
   },
   "outputs": [],
   "source": [
    "def model_history(model_name): \n",
    "  model = pd.DataFrame({'loss': history.history['loss'],\n",
    "                        'root_mean_squared_error': history.history['root_mean_squared_error'],\n",
    "                        'val_loss': history.history['val_loss'],\n",
    "                        'val_root_mean_squared_error': history.history['val_root_mean_squared_error']},\n",
    "                        columns = ['loss', 'root_mean_squared_error', 'val_loss', 'val_root_mean_squared_error'])\n",
    "\n",
    "  model.to_csv(f'/content/drive/My Drive/datasets/{model_name}.csv', index=False)\n",
    "  return model"
   ]
  },
  {
   "cell_type": "code",
   "execution_count": null,
   "metadata": {
    "colab": {},
    "colab_type": "code",
    "id": "y5EgrRHTgALt"
   },
   "outputs": [],
   "source": [
    "model_3_camera7 = model_history('model_5_9_camera7')"
   ]
  },
  {
   "cell_type": "code",
   "execution_count": null,
   "metadata": {
    "colab": {
     "base_uri": "https://localhost:8080/",
     "height": 204
    },
    "colab_type": "code",
    "id": "BfAwe9segALu",
    "outputId": "6bc4f3d2-67da-4609-b43a-4a6a712ba58d"
   },
   "outputs": [
    {
     "data": {
      "text/html": [
       "<div>\n",
       "<style scoped>\n",
       "    .dataframe tbody tr th:only-of-type {\n",
       "        vertical-align: middle;\n",
       "    }\n",
       "\n",
       "    .dataframe tbody tr th {\n",
       "        vertical-align: top;\n",
       "    }\n",
       "\n",
       "    .dataframe thead th {\n",
       "        text-align: right;\n",
       "    }\n",
       "</style>\n",
       "<table border=\"1\" class=\"dataframe\">\n",
       "  <thead>\n",
       "    <tr style=\"text-align: right;\">\n",
       "      <th></th>\n",
       "      <th>loss</th>\n",
       "      <th>root_mean_squared_error</th>\n",
       "      <th>val_loss</th>\n",
       "      <th>val_root_mean_squared_error</th>\n",
       "    </tr>\n",
       "  </thead>\n",
       "  <tbody>\n",
       "    <tr>\n",
       "      <th>0</th>\n",
       "      <td>0.055435</td>\n",
       "      <td>0.235447</td>\n",
       "      <td>0.052740</td>\n",
       "      <td>0.229652</td>\n",
       "    </tr>\n",
       "    <tr>\n",
       "      <th>1</th>\n",
       "      <td>0.052181</td>\n",
       "      <td>0.228431</td>\n",
       "      <td>0.051459</td>\n",
       "      <td>0.226846</td>\n",
       "    </tr>\n",
       "    <tr>\n",
       "      <th>2</th>\n",
       "      <td>0.047883</td>\n",
       "      <td>0.218823</td>\n",
       "      <td>0.048298</td>\n",
       "      <td>0.219768</td>\n",
       "    </tr>\n",
       "    <tr>\n",
       "      <th>3</th>\n",
       "      <td>0.045614</td>\n",
       "      <td>0.213573</td>\n",
       "      <td>0.044917</td>\n",
       "      <td>0.211937</td>\n",
       "    </tr>\n",
       "    <tr>\n",
       "      <th>4</th>\n",
       "      <td>0.040780</td>\n",
       "      <td>0.201942</td>\n",
       "      <td>0.042605</td>\n",
       "      <td>0.206411</td>\n",
       "    </tr>\n",
       "  </tbody>\n",
       "</table>\n",
       "</div>"
      ],
      "text/plain": [
       "       loss  root_mean_squared_error  val_loss  val_root_mean_squared_error\n",
       "0  0.055435                 0.235447  0.052740                     0.229652\n",
       "1  0.052181                 0.228431  0.051459                     0.226846\n",
       "2  0.047883                 0.218823  0.048298                     0.219768\n",
       "3  0.045614                 0.213573  0.044917                     0.211937\n",
       "4  0.040780                 0.201942  0.042605                     0.206411"
      ]
     },
     "execution_count": 35,
     "metadata": {
      "tags": []
     },
     "output_type": "execute_result"
    }
   ],
   "source": [
    "model_2_camera9.head()"
   ]
  },
  {
   "cell_type": "code",
   "execution_count": null,
   "metadata": {
    "colab": {},
    "colab_type": "code",
    "id": "TrTUisb_gALw"
   },
   "outputs": [],
   "source": [
    "#################### end of training camera9 data for model 1"
   ]
  },
  {
   "cell_type": "code",
   "execution_count": null,
   "metadata": {
    "colab": {},
    "colab_type": "code",
    "id": "cHSzhrsP1BND"
   },
   "outputs": [],
   "source": [
    "####################### testing new model to see if I'm actually training on the same model"
   ]
  },
  {
   "cell_type": "code",
   "execution_count": null,
   "metadata": {
    "colab": {},
    "colab_type": "code",
    "id": "mBj2FqnF01uh"
   },
   "outputs": [],
   "source": [
    "model = Sequential()\n",
    "\n",
    "model.add(Conv2D(16, (3, 3), input_shape=(80, 160, 1), activation='relu'))\n",
    "model.add(MaxPooling2D(pool_size=(2, 2)))\n",
    "model.add(Dropout(0.25))\n",
    "\n",
    "model.add(Conv2D(32, (3, 3), activation='relu'))\n",
    "model.add(MaxPooling2D(pool_size=(2, 2)))\n",
    "model.add(Dropout(0.25))\n",
    "\n",
    "model.add(Conv2D(64, (3, 3), activation='relu'))\n",
    "model.add(MaxPooling2D(pool_size=(2, 2)))\n",
    "model.add(Dropout(0.25))\n",
    "\n",
    "model.add(Flatten())\n",
    "model.add(Dense(300, activation='relu'))\n",
    "model.add(Dropout(.5))\n",
    "\n",
    "model.add(Dense(100, activation='relu'))\n",
    "model.add(Dropout(.25))\n",
    "\n",
    "model.add(Dense(20, activation='relu'))\n",
    "model.add(Dense(1))\n",
    "\n",
    "model.compile(loss='mse', optimizer=Adam(lr=1e-04), metrics=[RootMeanSquaredError()])\n",
    "\n",
    "filepath = \"/content/drive/My Drive/epochs/model_1_camera9_standalone.{epoch:04d}-{val_loss:.4f}.h5\"\n",
    "checkpoint = ModelCheckpoint(filepath, monitor='val_loss', verbose=1, save_best_only=True, mode='min')\n",
    "callbacks_list = [checkpoint]"
   ]
  },
  {
   "cell_type": "code",
   "execution_count": null,
   "metadata": {
    "colab": {},
    "colab_type": "code",
    "id": "-MPYWZe501up"
   },
   "outputs": [],
   "source": [
    "model.compile(loss='mse', optimizer=Adam(lr=1e-04), metrics=[RootMeanSquaredError()])"
   ]
  },
  {
   "cell_type": "code",
   "execution_count": null,
   "metadata": {
    "colab": {},
    "colab_type": "code",
    "id": "w1Fcx-fw1ATl"
   },
   "outputs": [],
   "source": [
    "filepath = \"/content/drive/My Drive/epochs/model_1_camera9_standalone.{epoch:04d}-{val_loss:.4f}.h5\"\n",
    "checkpoint = ModelCheckpoint(filepath, monitor='val_loss', verbose=1, save_best_only=True, mode='min')\n",
    "callbacks_list = [checkpoint]"
   ]
  },
  {
   "cell_type": "code",
   "execution_count": null,
   "metadata": {
    "colab": {
     "base_uri": "https://localhost:8080/",
     "height": 1000
    },
    "colab_type": "code",
    "id": "dn9l0eXB1ATy",
    "outputId": "db1ed4e3-781b-4577-ab43-81f074054252"
   },
   "outputs": [
    {
     "name": "stdout",
     "output_type": "stream",
     "text": [
      "Epoch 1/100\n",
      "595/599 [============================>.] - ETA: 0s - loss: 0.0560 - root_mean_squared_error: 0.2366\n",
      "Epoch 00001: val_loss improved from inf to 0.05401, saving model to /content/drive/My Drive/epochs/model_1_camera9_standalone.0001-0.0540.h5\n",
      "599/599 [==============================] - 8s 13ms/step - loss: 0.0557 - root_mean_squared_error: 0.2359 - val_loss: 0.0540 - val_root_mean_squared_error: 0.2324\n",
      "Epoch 2/100\n",
      "597/599 [============================>.] - ETA: 0s - loss: 0.0551 - root_mean_squared_error: 0.2347\n",
      "Epoch 00002: val_loss improved from 0.05401 to 0.05400, saving model to /content/drive/My Drive/epochs/model_1_camera9_standalone.0002-0.0540.h5\n",
      "599/599 [==============================] - 7s 12ms/step - loss: 0.0552 - root_mean_squared_error: 0.2349 - val_loss: 0.0540 - val_root_mean_squared_error: 0.2324\n",
      "Epoch 3/100\n",
      "594/599 [============================>.] - ETA: 0s - loss: 0.0552 - root_mean_squared_error: 0.2349\n",
      "Epoch 00003: val_loss improved from 0.05400 to 0.05400, saving model to /content/drive/My Drive/epochs/model_1_camera9_standalone.0003-0.0540.h5\n",
      "599/599 [==============================] - 7s 12ms/step - loss: 0.0551 - root_mean_squared_error: 0.2347 - val_loss: 0.0540 - val_root_mean_squared_error: 0.2324\n",
      "Epoch 4/100\n",
      "595/599 [============================>.] - ETA: 0s - loss: 0.0547 - root_mean_squared_error: 0.2339\n",
      "Epoch 00004: val_loss improved from 0.05400 to 0.05388, saving model to /content/drive/My Drive/epochs/model_1_camera9_standalone.0004-0.0539.h5\n",
      "599/599 [==============================] - 7s 12ms/step - loss: 0.0544 - root_mean_squared_error: 0.2332 - val_loss: 0.0539 - val_root_mean_squared_error: 0.2321\n",
      "Epoch 5/100\n",
      "597/599 [============================>.] - ETA: 0s - loss: 0.0506 - root_mean_squared_error: 0.2249\n",
      "Epoch 00005: val_loss improved from 0.05388 to 0.05236, saving model to /content/drive/My Drive/epochs/model_1_camera9_standalone.0005-0.0524.h5\n",
      "599/599 [==============================] - 7s 12ms/step - loss: 0.0504 - root_mean_squared_error: 0.2246 - val_loss: 0.0524 - val_root_mean_squared_error: 0.2288\n",
      "Epoch 6/100\n",
      "595/599 [============================>.] - ETA: 0s - loss: 0.0479 - root_mean_squared_error: 0.2189\n",
      "Epoch 00006: val_loss improved from 0.05236 to 0.04944, saving model to /content/drive/My Drive/epochs/model_1_camera9_standalone.0006-0.0494.h5\n",
      "599/599 [==============================] - 7s 12ms/step - loss: 0.0478 - root_mean_squared_error: 0.2185 - val_loss: 0.0494 - val_root_mean_squared_error: 0.2224\n",
      "Epoch 7/100\n",
      "598/599 [============================>.] - ETA: 0s - loss: 0.0451 - root_mean_squared_error: 0.2124\n",
      "Epoch 00007: val_loss improved from 0.04944 to 0.04866, saving model to /content/drive/My Drive/epochs/model_1_camera9_standalone.0007-0.0487.h5\n",
      "599/599 [==============================] - 7s 12ms/step - loss: 0.0451 - root_mean_squared_error: 0.2123 - val_loss: 0.0487 - val_root_mean_squared_error: 0.2206\n",
      "Epoch 8/100\n",
      "597/599 [============================>.] - ETA: 0s - loss: 0.0429 - root_mean_squared_error: 0.2072\n",
      "Epoch 00008: val_loss improved from 0.04866 to 0.04707, saving model to /content/drive/My Drive/epochs/model_1_camera9_standalone.0008-0.0471.h5\n",
      "599/599 [==============================] - 7s 12ms/step - loss: 0.0431 - root_mean_squared_error: 0.2076 - val_loss: 0.0471 - val_root_mean_squared_error: 0.2170\n",
      "Epoch 9/100\n",
      "594/599 [============================>.] - ETA: 0s - loss: 0.0422 - root_mean_squared_error: 0.2055\n",
      "Epoch 00009: val_loss did not improve from 0.04707\n",
      "599/599 [==============================] - 7s 12ms/step - loss: 0.0422 - root_mean_squared_error: 0.2054 - val_loss: 0.0484 - val_root_mean_squared_error: 0.2200\n",
      "Epoch 10/100\n",
      "598/599 [============================>.] - ETA: 0s - loss: 0.0390 - root_mean_squared_error: 0.1975\n",
      "Epoch 00010: val_loss improved from 0.04707 to 0.04410, saving model to /content/drive/My Drive/epochs/model_1_camera9_standalone.0010-0.0441.h5\n",
      "599/599 [==============================] - 7s 12ms/step - loss: 0.0390 - root_mean_squared_error: 0.1975 - val_loss: 0.0441 - val_root_mean_squared_error: 0.2100\n",
      "Epoch 11/100\n",
      "598/599 [============================>.] - ETA: 0s - loss: 0.0388 - root_mean_squared_error: 0.1970\n",
      "Epoch 00011: val_loss improved from 0.04410 to 0.04318, saving model to /content/drive/My Drive/epochs/model_1_camera9_standalone.0011-0.0432.h5\n",
      "599/599 [==============================] - 7s 12ms/step - loss: 0.0388 - root_mean_squared_error: 0.1969 - val_loss: 0.0432 - val_root_mean_squared_error: 0.2078\n",
      "Epoch 12/100\n",
      "596/599 [============================>.] - ETA: 0s - loss: 0.0351 - root_mean_squared_error: 0.1873\n",
      "Epoch 00012: val_loss improved from 0.04318 to 0.03872, saving model to /content/drive/My Drive/epochs/model_1_camera9_standalone.0012-0.0387.h5\n",
      "599/599 [==============================] - 7s 12ms/step - loss: 0.0351 - root_mean_squared_error: 0.1873 - val_loss: 0.0387 - val_root_mean_squared_error: 0.1968\n",
      "Epoch 13/100\n",
      "595/599 [============================>.] - ETA: 0s - loss: 0.0337 - root_mean_squared_error: 0.1836\n",
      "Epoch 00013: val_loss did not improve from 0.03872\n",
      "599/599 [==============================] - 7s 12ms/step - loss: 0.0344 - root_mean_squared_error: 0.1854 - val_loss: 0.0426 - val_root_mean_squared_error: 0.2064\n",
      "Epoch 14/100\n",
      "597/599 [============================>.] - ETA: 0s - loss: 0.0306 - root_mean_squared_error: 0.1749\n",
      "Epoch 00014: val_loss improved from 0.03872 to 0.03488, saving model to /content/drive/My Drive/epochs/model_1_camera9_standalone.0014-0.0349.h5\n",
      "599/599 [==============================] - 7s 12ms/step - loss: 0.0308 - root_mean_squared_error: 0.1754 - val_loss: 0.0349 - val_root_mean_squared_error: 0.1868\n",
      "Epoch 15/100\n",
      "599/599 [==============================] - ETA: 0s - loss: 0.0291 - root_mean_squared_error: 0.1707\n",
      "Epoch 00015: val_loss improved from 0.03488 to 0.02948, saving model to /content/drive/My Drive/epochs/model_1_camera9_standalone.0015-0.0295.h5\n",
      "599/599 [==============================] - 7s 12ms/step - loss: 0.0291 - root_mean_squared_error: 0.1707 - val_loss: 0.0295 - val_root_mean_squared_error: 0.1717\n",
      "Epoch 16/100\n",
      "596/599 [============================>.] - ETA: 0s - loss: 0.0264 - root_mean_squared_error: 0.1625\n",
      "Epoch 00016: val_loss improved from 0.02948 to 0.02898, saving model to /content/drive/My Drive/epochs/model_1_camera9_standalone.0016-0.0290.h5\n",
      "599/599 [==============================] - 7s 12ms/step - loss: 0.0265 - root_mean_squared_error: 0.1629 - val_loss: 0.0290 - val_root_mean_squared_error: 0.1702\n",
      "Epoch 17/100\n",
      "595/599 [============================>.] - ETA: 0s - loss: 0.0257 - root_mean_squared_error: 0.1602\n",
      "Epoch 00017: val_loss improved from 0.02898 to 0.02874, saving model to /content/drive/My Drive/epochs/model_1_camera9_standalone.0017-0.0287.h5\n",
      "599/599 [==============================] - 7s 12ms/step - loss: 0.0256 - root_mean_squared_error: 0.1600 - val_loss: 0.0287 - val_root_mean_squared_error: 0.1695\n",
      "Epoch 18/100\n",
      "598/599 [============================>.] - ETA: 0s - loss: 0.0219 - root_mean_squared_error: 0.1480\n",
      "Epoch 00018: val_loss improved from 0.02874 to 0.02825, saving model to /content/drive/My Drive/epochs/model_1_camera9_standalone.0018-0.0282.h5\n",
      "599/599 [==============================] - 7s 12ms/step - loss: 0.0219 - root_mean_squared_error: 0.1481 - val_loss: 0.0282 - val_root_mean_squared_error: 0.1681\n",
      "Epoch 19/100\n",
      "595/599 [============================>.] - ETA: 0s - loss: 0.0212 - root_mean_squared_error: 0.1455\n",
      "Epoch 00019: val_loss improved from 0.02825 to 0.02553, saving model to /content/drive/My Drive/epochs/model_1_camera9_standalone.0019-0.0255.h5\n",
      "599/599 [==============================] - 7s 12ms/step - loss: 0.0211 - root_mean_squared_error: 0.1452 - val_loss: 0.0255 - val_root_mean_squared_error: 0.1598\n",
      "Epoch 20/100\n",
      "595/599 [============================>.] - ETA: 0s - loss: 0.0213 - root_mean_squared_error: 0.1460\n",
      "Epoch 00020: val_loss did not improve from 0.02553\n",
      "599/599 [==============================] - 7s 12ms/step - loss: 0.0212 - root_mean_squared_error: 0.1457 - val_loss: 0.0260 - val_root_mean_squared_error: 0.1612\n",
      "Epoch 21/100\n",
      "597/599 [============================>.] - ETA: 0s - loss: 0.0194 - root_mean_squared_error: 0.1395\n",
      "Epoch 00021: val_loss improved from 0.02553 to 0.02488, saving model to /content/drive/My Drive/epochs/model_1_camera9_standalone.0021-0.0249.h5\n",
      "599/599 [==============================] - 7s 12ms/step - loss: 0.0194 - root_mean_squared_error: 0.1394 - val_loss: 0.0249 - val_root_mean_squared_error: 0.1577\n",
      "Epoch 22/100\n",
      "595/599 [============================>.] - ETA: 0s - loss: 0.0176 - root_mean_squared_error: 0.1326\n",
      "Epoch 00022: val_loss improved from 0.02488 to 0.02432, saving model to /content/drive/My Drive/epochs/model_1_camera9_standalone.0022-0.0243.h5\n",
      "599/599 [==============================] - 7s 12ms/step - loss: 0.0175 - root_mean_squared_error: 0.1322 - val_loss: 0.0243 - val_root_mean_squared_error: 0.1560\n",
      "Epoch 23/100\n",
      "599/599 [==============================] - ETA: 0s - loss: 0.0174 - root_mean_squared_error: 0.1320\n",
      "Epoch 00023: val_loss improved from 0.02432 to 0.02417, saving model to /content/drive/My Drive/epochs/model_1_camera9_standalone.0023-0.0242.h5\n",
      "599/599 [==============================] - 7s 12ms/step - loss: 0.0174 - root_mean_squared_error: 0.1320 - val_loss: 0.0242 - val_root_mean_squared_error: 0.1555\n",
      "Epoch 24/100\n",
      "597/599 [============================>.] - ETA: 0s - loss: 0.0174 - root_mean_squared_error: 0.1320\n",
      "Epoch 00024: val_loss improved from 0.02417 to 0.02046, saving model to /content/drive/My Drive/epochs/model_1_camera9_standalone.0024-0.0205.h5\n",
      "599/599 [==============================] - 7s 12ms/step - loss: 0.0174 - root_mean_squared_error: 0.1319 - val_loss: 0.0205 - val_root_mean_squared_error: 0.1430\n",
      "Epoch 25/100\n",
      "595/599 [============================>.] - ETA: 0s - loss: 0.0176 - root_mean_squared_error: 0.1326\n",
      "Epoch 00025: val_loss did not improve from 0.02046\n",
      "599/599 [==============================] - 7s 12ms/step - loss: 0.0175 - root_mean_squared_error: 0.1323 - val_loss: 0.0209 - val_root_mean_squared_error: 0.1444\n",
      "Epoch 26/100\n",
      "596/599 [============================>.] - ETA: 0s - loss: 0.0161 - root_mean_squared_error: 0.1267\n",
      "Epoch 00026: val_loss improved from 0.02046 to 0.01855, saving model to /content/drive/My Drive/epochs/model_1_camera9_standalone.0026-0.0185.h5\n",
      "599/599 [==============================] - 7s 12ms/step - loss: 0.0160 - root_mean_squared_error: 0.1266 - val_loss: 0.0185 - val_root_mean_squared_error: 0.1362\n",
      "Epoch 27/100\n",
      "599/599 [==============================] - ETA: 0s - loss: 0.0164 - root_mean_squared_error: 0.1279\n",
      "Epoch 00027: val_loss improved from 0.01855 to 0.01844, saving model to /content/drive/My Drive/epochs/model_1_camera9_standalone.0027-0.0184.h5\n",
      "599/599 [==============================] - 7s 12ms/step - loss: 0.0164 - root_mean_squared_error: 0.1279 - val_loss: 0.0184 - val_root_mean_squared_error: 0.1358\n",
      "Epoch 28/100\n",
      "599/599 [==============================] - ETA: 0s - loss: 0.0144 - root_mean_squared_error: 0.1200\n",
      "Epoch 00028: val_loss improved from 0.01844 to 0.01764, saving model to /content/drive/My Drive/epochs/model_1_camera9_standalone.0028-0.0176.h5\n",
      "599/599 [==============================] - 7s 12ms/step - loss: 0.0144 - root_mean_squared_error: 0.1200 - val_loss: 0.0176 - val_root_mean_squared_error: 0.1328\n",
      "Epoch 29/100\n",
      "597/599 [============================>.] - ETA: 0s - loss: 0.0138 - root_mean_squared_error: 0.1175\n",
      "Epoch 00029: val_loss did not improve from 0.01764\n",
      "599/599 [==============================] - 7s 12ms/step - loss: 0.0138 - root_mean_squared_error: 0.1174 - val_loss: 0.0180 - val_root_mean_squared_error: 0.1343\n",
      "Epoch 30/100\n",
      "596/599 [============================>.] - ETA: 0s - loss: 0.0136 - root_mean_squared_error: 0.1167\n",
      "Epoch 00030: val_loss did not improve from 0.01764\n",
      "599/599 [==============================] - 7s 12ms/step - loss: 0.0136 - root_mean_squared_error: 0.1166 - val_loss: 0.0182 - val_root_mean_squared_error: 0.1351\n",
      "Epoch 31/100\n",
      "597/599 [============================>.] - ETA: 0s - loss: 0.0130 - root_mean_squared_error: 0.1140\n",
      "Epoch 00031: val_loss did not improve from 0.01764\n",
      "599/599 [==============================] - 7s 12ms/step - loss: 0.0133 - root_mean_squared_error: 0.1152 - val_loss: 0.0184 - val_root_mean_squared_error: 0.1355\n",
      "Epoch 32/100\n",
      "596/599 [============================>.] - ETA: 0s - loss: 0.0128 - root_mean_squared_error: 0.1133\n",
      "Epoch 00032: val_loss improved from 0.01764 to 0.01658, saving model to /content/drive/My Drive/epochs/model_1_camera9_standalone.0032-0.0166.h5\n",
      "599/599 [==============================] - 7s 12ms/step - loss: 0.0129 - root_mean_squared_error: 0.1135 - val_loss: 0.0166 - val_root_mean_squared_error: 0.1288\n",
      "Epoch 33/100\n",
      "594/599 [============================>.] - ETA: 0s - loss: 0.0137 - root_mean_squared_error: 0.1171\n",
      "Epoch 00033: val_loss improved from 0.01658 to 0.01639, saving model to /content/drive/My Drive/epochs/model_1_camera9_standalone.0033-0.0164.h5\n",
      "599/599 [==============================] - 7s 12ms/step - loss: 0.0138 - root_mean_squared_error: 0.1175 - val_loss: 0.0164 - val_root_mean_squared_error: 0.1280\n",
      "Epoch 34/100\n",
      "598/599 [============================>.] - ETA: 0s - loss: 0.0130 - root_mean_squared_error: 0.1139\n",
      "Epoch 00034: val_loss improved from 0.01639 to 0.01585, saving model to /content/drive/My Drive/epochs/model_1_camera9_standalone.0034-0.0159.h5\n",
      "599/599 [==============================] - 7s 12ms/step - loss: 0.0130 - root_mean_squared_error: 0.1139 - val_loss: 0.0159 - val_root_mean_squared_error: 0.1259\n",
      "Epoch 35/100\n",
      "595/599 [============================>.] - ETA: 0s - loss: 0.0125 - root_mean_squared_error: 0.1118\n",
      "Epoch 00035: val_loss did not improve from 0.01585\n",
      "599/599 [==============================] - 7s 12ms/step - loss: 0.0125 - root_mean_squared_error: 0.1118 - val_loss: 0.0166 - val_root_mean_squared_error: 0.1290\n",
      "Epoch 36/100\n",
      "598/599 [============================>.] - ETA: 0s - loss: 0.0125 - root_mean_squared_error: 0.1116\n",
      "Epoch 00036: val_loss did not improve from 0.01585\n",
      "599/599 [==============================] - 7s 12ms/step - loss: 0.0125 - root_mean_squared_error: 0.1116 - val_loss: 0.0163 - val_root_mean_squared_error: 0.1277\n",
      "Epoch 37/100\n",
      "599/599 [==============================] - ETA: 0s - loss: 0.0127 - root_mean_squared_error: 0.1128\n",
      "Epoch 00037: val_loss did not improve from 0.01585\n",
      "599/599 [==============================] - 7s 12ms/step - loss: 0.0127 - root_mean_squared_error: 0.1128 - val_loss: 0.0163 - val_root_mean_squared_error: 0.1275\n",
      "Epoch 38/100\n",
      "598/599 [============================>.] - ETA: 0s - loss: 0.0111 - root_mean_squared_error: 0.1054\n",
      "Epoch 00038: val_loss improved from 0.01585 to 0.01574, saving model to /content/drive/My Drive/epochs/model_1_camera9_standalone.0038-0.0157.h5\n",
      "599/599 [==============================] - 7s 12ms/step - loss: 0.0111 - root_mean_squared_error: 0.1053 - val_loss: 0.0157 - val_root_mean_squared_error: 0.1254\n",
      "Epoch 39/100\n",
      "597/599 [============================>.] - ETA: 0s - loss: 0.0112 - root_mean_squared_error: 0.1058\n",
      "Epoch 00039: val_loss did not improve from 0.01574\n",
      "599/599 [==============================] - 7s 12ms/step - loss: 0.0112 - root_mean_squared_error: 0.1057 - val_loss: 0.0163 - val_root_mean_squared_error: 0.1275\n",
      "Epoch 40/100\n",
      "596/599 [============================>.] - ETA: 0s - loss: 0.0115 - root_mean_squared_error: 0.1075\n",
      "Epoch 00040: val_loss did not improve from 0.01574\n",
      "599/599 [==============================] - 7s 12ms/step - loss: 0.0115 - root_mean_squared_error: 0.1073 - val_loss: 0.0168 - val_root_mean_squared_error: 0.1295\n",
      "Epoch 41/100\n",
      "595/599 [============================>.] - ETA: 0s - loss: 0.0117 - root_mean_squared_error: 0.1081\n",
      "Epoch 00041: val_loss did not improve from 0.01574\n",
      "599/599 [==============================] - 7s 12ms/step - loss: 0.0117 - root_mean_squared_error: 0.1080 - val_loss: 0.0163 - val_root_mean_squared_error: 0.1275\n",
      "Epoch 42/100\n",
      "596/599 [============================>.] - ETA: 0s - loss: 0.0111 - root_mean_squared_error: 0.1051\n",
      "Epoch 00042: val_loss improved from 0.01574 to 0.01504, saving model to /content/drive/My Drive/epochs/model_1_camera9_standalone.0042-0.0150.h5\n",
      "599/599 [==============================] - 7s 12ms/step - loss: 0.0111 - root_mean_squared_error: 0.1056 - val_loss: 0.0150 - val_root_mean_squared_error: 0.1226\n",
      "Epoch 43/100\n",
      "597/599 [============================>.] - ETA: 0s - loss: 0.0105 - root_mean_squared_error: 0.1025\n",
      "Epoch 00043: val_loss did not improve from 0.01504\n",
      "599/599 [==============================] - 7s 12ms/step - loss: 0.0105 - root_mean_squared_error: 0.1024 - val_loss: 0.0177 - val_root_mean_squared_error: 0.1329\n",
      "Epoch 44/100\n",
      "597/599 [============================>.] - ETA: 0s - loss: 0.0104 - root_mean_squared_error: 0.1018\n",
      "Epoch 00044: val_loss improved from 0.01504 to 0.01477, saving model to /content/drive/My Drive/epochs/model_1_camera9_standalone.0044-0.0148.h5\n",
      "599/599 [==============================] - 7s 12ms/step - loss: 0.0104 - root_mean_squared_error: 0.1020 - val_loss: 0.0148 - val_root_mean_squared_error: 0.1215\n",
      "Epoch 45/100\n",
      "598/599 [============================>.] - ETA: 0s - loss: 0.0104 - root_mean_squared_error: 0.1021\n",
      "Epoch 00045: val_loss improved from 0.01477 to 0.01433, saving model to /content/drive/My Drive/epochs/model_1_camera9_standalone.0045-0.0143.h5\n",
      "599/599 [==============================] - 7s 12ms/step - loss: 0.0104 - root_mean_squared_error: 0.1021 - val_loss: 0.0143 - val_root_mean_squared_error: 0.1197\n",
      "Epoch 46/100\n",
      "596/599 [============================>.] - ETA: 0s - loss: 0.0100 - root_mean_squared_error: 0.1000\n",
      "Epoch 00046: val_loss did not improve from 0.01433\n",
      "599/599 [==============================] - 7s 12ms/step - loss: 0.0100 - root_mean_squared_error: 0.1001 - val_loss: 0.0146 - val_root_mean_squared_error: 0.1207\n",
      "Epoch 47/100\n",
      "597/599 [============================>.] - ETA: 0s - loss: 0.0103 - root_mean_squared_error: 0.1016\n",
      "Epoch 00047: val_loss did not improve from 0.01433\n",
      "599/599 [==============================] - 7s 12ms/step - loss: 0.0103 - root_mean_squared_error: 0.1016 - val_loss: 0.0160 - val_root_mean_squared_error: 0.1263\n",
      "Epoch 48/100\n",
      "598/599 [============================>.] - ETA: 0s - loss: 0.0094 - root_mean_squared_error: 0.0972\n",
      "Epoch 00048: val_loss improved from 0.01433 to 0.01258, saving model to /content/drive/My Drive/epochs/model_1_camera9_standalone.0048-0.0126.h5\n",
      "599/599 [==============================] - 7s 12ms/step - loss: 0.0095 - root_mean_squared_error: 0.0974 - val_loss: 0.0126 - val_root_mean_squared_error: 0.1122\n",
      "Epoch 49/100\n",
      "595/599 [============================>.] - ETA: 0s - loss: 0.0094 - root_mean_squared_error: 0.0972\n",
      "Epoch 00049: val_loss did not improve from 0.01258\n",
      "599/599 [==============================] - 7s 12ms/step - loss: 0.0094 - root_mean_squared_error: 0.0970 - val_loss: 0.0150 - val_root_mean_squared_error: 0.1224\n",
      "Epoch 50/100\n",
      "597/599 [============================>.] - ETA: 0s - loss: 0.0094 - root_mean_squared_error: 0.0968\n",
      "Epoch 00050: val_loss did not improve from 0.01258\n",
      "599/599 [==============================] - 7s 12ms/step - loss: 0.0094 - root_mean_squared_error: 0.0969 - val_loss: 0.0131 - val_root_mean_squared_error: 0.1145\n",
      "Epoch 51/100\n",
      "597/599 [============================>.] - ETA: 0s - loss: 0.0097 - root_mean_squared_error: 0.0983\n",
      "Epoch 00051: val_loss did not improve from 0.01258\n",
      "599/599 [==============================] - 7s 12ms/step - loss: 0.0096 - root_mean_squared_error: 0.0982 - val_loss: 0.0143 - val_root_mean_squared_error: 0.1197\n",
      "Epoch 52/100\n",
      "598/599 [============================>.] - ETA: 0s - loss: 0.0093 - root_mean_squared_error: 0.0965\n",
      "Epoch 00052: val_loss did not improve from 0.01258\n",
      "599/599 [==============================] - 7s 12ms/step - loss: 0.0093 - root_mean_squared_error: 0.0964 - val_loss: 0.0134 - val_root_mean_squared_error: 0.1158\n",
      "Epoch 53/100\n",
      "599/599 [==============================] - ETA: 0s - loss: 0.0098 - root_mean_squared_error: 0.0989\n",
      "Epoch 00053: val_loss did not improve from 0.01258\n",
      "599/599 [==============================] - 7s 12ms/step - loss: 0.0098 - root_mean_squared_error: 0.0989 - val_loss: 0.0126 - val_root_mean_squared_error: 0.1125\n",
      "Epoch 54/100\n",
      "598/599 [============================>.] - ETA: 0s - loss: 0.0087 - root_mean_squared_error: 0.0933\n",
      "Epoch 00054: val_loss did not improve from 0.01258\n",
      "599/599 [==============================] - 7s 12ms/step - loss: 0.0087 - root_mean_squared_error: 0.0933 - val_loss: 0.0143 - val_root_mean_squared_error: 0.1196\n",
      "Epoch 55/100\n",
      "598/599 [============================>.] - ETA: 0s - loss: 0.0084 - root_mean_squared_error: 0.0917\n",
      "Epoch 00055: val_loss improved from 0.01258 to 0.01195, saving model to /content/drive/My Drive/epochs/model_1_camera9_standalone.0055-0.0120.h5\n",
      "599/599 [==============================] - 7s 12ms/step - loss: 0.0084 - root_mean_squared_error: 0.0917 - val_loss: 0.0120 - val_root_mean_squared_error: 0.1093\n",
      "Epoch 56/100\n",
      "596/599 [============================>.] - ETA: 0s - loss: 0.0092 - root_mean_squared_error: 0.0961\n",
      "Epoch 00056: val_loss did not improve from 0.01195\n",
      "599/599 [==============================] - 7s 12ms/step - loss: 0.0092 - root_mean_squared_error: 0.0960 - val_loss: 0.0147 - val_root_mean_squared_error: 0.1213\n",
      "Epoch 57/100\n",
      "597/599 [============================>.] - ETA: 0s - loss: 0.0085 - root_mean_squared_error: 0.0920\n",
      "Epoch 00057: val_loss did not improve from 0.01195\n",
      "599/599 [==============================] - 7s 12ms/step - loss: 0.0084 - root_mean_squared_error: 0.0919 - val_loss: 0.0123 - val_root_mean_squared_error: 0.1111\n",
      "Epoch 58/100\n",
      "596/599 [============================>.] - ETA: 0s - loss: 0.0083 - root_mean_squared_error: 0.0911\n",
      "Epoch 00058: val_loss did not improve from 0.01195\n",
      "599/599 [==============================] - 7s 12ms/step - loss: 0.0083 - root_mean_squared_error: 0.0910 - val_loss: 0.0124 - val_root_mean_squared_error: 0.1112\n",
      "Epoch 59/100\n",
      "594/599 [============================>.] - ETA: 0s - loss: 0.0088 - root_mean_squared_error: 0.0939\n",
      "Epoch 00059: val_loss did not improve from 0.01195\n",
      "599/599 [==============================] - 7s 12ms/step - loss: 0.0088 - root_mean_squared_error: 0.0937 - val_loss: 0.0134 - val_root_mean_squared_error: 0.1157\n",
      "Epoch 60/100\n",
      "598/599 [============================>.] - ETA: 0s - loss: 0.0087 - root_mean_squared_error: 0.0930\n",
      "Epoch 00060: val_loss did not improve from 0.01195\n",
      "599/599 [==============================] - 7s 12ms/step - loss: 0.0086 - root_mean_squared_error: 0.0930 - val_loss: 0.0139 - val_root_mean_squared_error: 0.1177\n",
      "Epoch 61/100\n",
      "597/599 [============================>.] - ETA: 0s - loss: 0.0084 - root_mean_squared_error: 0.0919\n",
      "Epoch 00061: val_loss improved from 0.01195 to 0.01176, saving model to /content/drive/My Drive/epochs/model_1_camera9_standalone.0061-0.0118.h5\n",
      "599/599 [==============================] - 7s 12ms/step - loss: 0.0084 - root_mean_squared_error: 0.0918 - val_loss: 0.0118 - val_root_mean_squared_error: 0.1085\n",
      "Epoch 62/100\n",
      "597/599 [============================>.] - ETA: 0s - loss: 0.0082 - root_mean_squared_error: 0.0907\n",
      "Epoch 00062: val_loss did not improve from 0.01176\n",
      "599/599 [==============================] - 7s 12ms/step - loss: 0.0082 - root_mean_squared_error: 0.0907 - val_loss: 0.0133 - val_root_mean_squared_error: 0.1152\n",
      "Epoch 63/100\n",
      "596/599 [============================>.] - ETA: 0s - loss: 0.0081 - root_mean_squared_error: 0.0901\n",
      "Epoch 00063: val_loss improved from 0.01176 to 0.01075, saving model to /content/drive/My Drive/epochs/model_1_camera9_standalone.0063-0.0107.h5\n",
      "599/599 [==============================] - 7s 12ms/step - loss: 0.0081 - root_mean_squared_error: 0.0901 - val_loss: 0.0107 - val_root_mean_squared_error: 0.1037\n",
      "Epoch 64/100\n",
      "595/599 [============================>.] - ETA: 0s - loss: 0.0081 - root_mean_squared_error: 0.0901\n",
      "Epoch 00064: val_loss did not improve from 0.01075\n",
      "599/599 [==============================] - 7s 12ms/step - loss: 0.0081 - root_mean_squared_error: 0.0899 - val_loss: 0.0126 - val_root_mean_squared_error: 0.1123\n",
      "Epoch 65/100\n",
      "595/599 [============================>.] - ETA: 0s - loss: 0.0076 - root_mean_squared_error: 0.0871\n",
      "Epoch 00065: val_loss did not improve from 0.01075\n",
      "599/599 [==============================] - 7s 12ms/step - loss: 0.0076 - root_mean_squared_error: 0.0870 - val_loss: 0.0115 - val_root_mean_squared_error: 0.1070\n",
      "Epoch 66/100\n",
      "595/599 [============================>.] - ETA: 0s - loss: 0.0081 - root_mean_squared_error: 0.0900\n",
      "Epoch 00066: val_loss did not improve from 0.01075\n",
      "599/599 [==============================] - 7s 12ms/step - loss: 0.0081 - root_mean_squared_error: 0.0900 - val_loss: 0.0122 - val_root_mean_squared_error: 0.1104\n",
      "Epoch 67/100\n",
      "595/599 [============================>.] - ETA: 0s - loss: 0.0077 - root_mean_squared_error: 0.0877\n",
      "Epoch 00067: val_loss did not improve from 0.01075\n",
      "599/599 [==============================] - 7s 12ms/step - loss: 0.0077 - root_mean_squared_error: 0.0877 - val_loss: 0.0122 - val_root_mean_squared_error: 0.1102\n",
      "Epoch 68/100\n",
      "598/599 [============================>.] - ETA: 0s - loss: 0.0080 - root_mean_squared_error: 0.0896\n",
      "Epoch 00068: val_loss did not improve from 0.01075\n",
      "599/599 [==============================] - 7s 12ms/step - loss: 0.0080 - root_mean_squared_error: 0.0896 - val_loss: 0.0135 - val_root_mean_squared_error: 0.1162\n",
      "Epoch 69/100\n",
      "599/599 [==============================] - ETA: 0s - loss: 0.0073 - root_mean_squared_error: 0.0856\n",
      "Epoch 00069: val_loss improved from 0.01075 to 0.01010, saving model to /content/drive/My Drive/epochs/model_1_camera9_standalone.0069-0.0101.h5\n",
      "599/599 [==============================] - 7s 12ms/step - loss: 0.0073 - root_mean_squared_error: 0.0856 - val_loss: 0.0101 - val_root_mean_squared_error: 0.1005\n",
      "Epoch 70/100\n",
      "595/599 [============================>.] - ETA: 0s - loss: 0.0070 - root_mean_squared_error: 0.0839\n",
      "Epoch 00070: val_loss did not improve from 0.01010\n",
      "599/599 [==============================] - 7s 12ms/step - loss: 0.0071 - root_mean_squared_error: 0.0843 - val_loss: 0.0104 - val_root_mean_squared_error: 0.1021\n",
      "Epoch 71/100\n",
      "595/599 [============================>.] - ETA: 0s - loss: 0.0080 - root_mean_squared_error: 0.0895\n",
      "Epoch 00071: val_loss did not improve from 0.01010\n",
      "599/599 [==============================] - 7s 12ms/step - loss: 0.0080 - root_mean_squared_error: 0.0893 - val_loss: 0.0123 - val_root_mean_squared_error: 0.1110\n",
      "Epoch 72/100\n",
      "596/599 [============================>.] - ETA: 0s - loss: 0.0074 - root_mean_squared_error: 0.0863\n",
      "Epoch 00072: val_loss did not improve from 0.01010\n",
      "599/599 [==============================] - 7s 12ms/step - loss: 0.0074 - root_mean_squared_error: 0.0862 - val_loss: 0.0124 - val_root_mean_squared_error: 0.1112\n",
      "Epoch 73/100\n",
      "595/599 [============================>.] - ETA: 0s - loss: 0.0071 - root_mean_squared_error: 0.0845\n",
      "Epoch 00073: val_loss did not improve from 0.01010\n",
      "599/599 [==============================] - 7s 12ms/step - loss: 0.0072 - root_mean_squared_error: 0.0847 - val_loss: 0.0115 - val_root_mean_squared_error: 0.1075\n",
      "Epoch 74/100\n",
      "599/599 [==============================] - ETA: 0s - loss: 0.0072 - root_mean_squared_error: 0.0850\n",
      "Epoch 00074: val_loss did not improve from 0.01010\n",
      "599/599 [==============================] - 7s 12ms/step - loss: 0.0072 - root_mean_squared_error: 0.0850 - val_loss: 0.0133 - val_root_mean_squared_error: 0.1152\n",
      "Epoch 75/100\n",
      "596/599 [============================>.] - ETA: 0s - loss: 0.0069 - root_mean_squared_error: 0.0833\n",
      "Epoch 00075: val_loss did not improve from 0.01010\n",
      "599/599 [==============================] - 7s 12ms/step - loss: 0.0070 - root_mean_squared_error: 0.0834 - val_loss: 0.0116 - val_root_mean_squared_error: 0.1077\n",
      "Epoch 76/100\n",
      "599/599 [==============================] - ETA: 0s - loss: 0.0071 - root_mean_squared_error: 0.0841\n",
      "Epoch 00076: val_loss improved from 0.01010 to 0.00983, saving model to /content/drive/My Drive/epochs/model_1_camera9_standalone.0076-0.0098.h5\n",
      "599/599 [==============================] - 7s 12ms/step - loss: 0.0071 - root_mean_squared_error: 0.0841 - val_loss: 0.0098 - val_root_mean_squared_error: 0.0992\n",
      "Epoch 77/100\n",
      "596/599 [============================>.] - ETA: 0s - loss: 0.0066 - root_mean_squared_error: 0.0813\n",
      "Epoch 00077: val_loss did not improve from 0.00983\n",
      "599/599 [==============================] - 7s 12ms/step - loss: 0.0066 - root_mean_squared_error: 0.0813 - val_loss: 0.0120 - val_root_mean_squared_error: 0.1094\n",
      "Epoch 78/100\n",
      "598/599 [============================>.] - ETA: 0s - loss: 0.0072 - root_mean_squared_error: 0.0850\n",
      "Epoch 00078: val_loss did not improve from 0.00983\n",
      "599/599 [==============================] - 7s 12ms/step - loss: 0.0072 - root_mean_squared_error: 0.0850 - val_loss: 0.0105 - val_root_mean_squared_error: 0.1024\n",
      "Epoch 79/100\n",
      "595/599 [============================>.] - ETA: 0s - loss: 0.0078 - root_mean_squared_error: 0.0885\n",
      "Epoch 00079: val_loss did not improve from 0.00983\n",
      "599/599 [==============================] - 7s 12ms/step - loss: 0.0078 - root_mean_squared_error: 0.0883 - val_loss: 0.0109 - val_root_mean_squared_error: 0.1045\n",
      "Epoch 80/100\n",
      "596/599 [============================>.] - ETA: 0s - loss: 0.0064 - root_mean_squared_error: 0.0798\n",
      "Epoch 00080: val_loss did not improve from 0.00983\n",
      "599/599 [==============================] - 7s 12ms/step - loss: 0.0064 - root_mean_squared_error: 0.0803 - val_loss: 0.0109 - val_root_mean_squared_error: 0.1043\n",
      "Epoch 81/100\n",
      "598/599 [============================>.] - ETA: 0s - loss: 0.0062 - root_mean_squared_error: 0.0789\n",
      "Epoch 00081: val_loss did not improve from 0.00983\n",
      "599/599 [==============================] - 7s 12ms/step - loss: 0.0062 - root_mean_squared_error: 0.0789 - val_loss: 0.0111 - val_root_mean_squared_error: 0.1051\n",
      "Epoch 82/100\n",
      "596/599 [============================>.] - ETA: 0s - loss: 0.0067 - root_mean_squared_error: 0.0819\n",
      "Epoch 00082: val_loss did not improve from 0.00983\n",
      "599/599 [==============================] - 7s 12ms/step - loss: 0.0067 - root_mean_squared_error: 0.0817 - val_loss: 0.0110 - val_root_mean_squared_error: 0.1050\n",
      "Epoch 83/100\n",
      "594/599 [============================>.] - ETA: 0s - loss: 0.0066 - root_mean_squared_error: 0.0814\n",
      "Epoch 00083: val_loss did not improve from 0.00983\n",
      "599/599 [==============================] - 7s 11ms/step - loss: 0.0066 - root_mean_squared_error: 0.0812 - val_loss: 0.0104 - val_root_mean_squared_error: 0.1019\n",
      "Epoch 84/100\n",
      "596/599 [============================>.] - ETA: 0s - loss: 0.0070 - root_mean_squared_error: 0.0838\n",
      "Epoch 00084: val_loss did not improve from 0.00983\n",
      "599/599 [==============================] - 7s 11ms/step - loss: 0.0071 - root_mean_squared_error: 0.0840 - val_loss: 0.0116 - val_root_mean_squared_error: 0.1078\n",
      "Epoch 85/100\n",
      "595/599 [============================>.] - ETA: 0s - loss: 0.0060 - root_mean_squared_error: 0.0773\n",
      "Epoch 00085: val_loss improved from 0.00983 to 0.00980, saving model to /content/drive/My Drive/epochs/model_1_camera9_standalone.0085-0.0098.h5\n",
      "599/599 [==============================] - 7s 12ms/step - loss: 0.0060 - root_mean_squared_error: 0.0774 - val_loss: 0.0098 - val_root_mean_squared_error: 0.0990\n",
      "Epoch 86/100\n",
      "595/599 [============================>.] - ETA: 0s - loss: 0.0064 - root_mean_squared_error: 0.0797\n",
      "Epoch 00086: val_loss did not improve from 0.00980\n",
      "599/599 [==============================] - 7s 12ms/step - loss: 0.0063 - root_mean_squared_error: 0.0797 - val_loss: 0.0119 - val_root_mean_squared_error: 0.1093\n",
      "Epoch 87/100\n",
      "596/599 [============================>.] - ETA: 0s - loss: 0.0061 - root_mean_squared_error: 0.0782\n",
      "Epoch 00087: val_loss did not improve from 0.00980\n",
      "599/599 [==============================] - 7s 12ms/step - loss: 0.0061 - root_mean_squared_error: 0.0782 - val_loss: 0.0106 - val_root_mean_squared_error: 0.1029\n",
      "Epoch 88/100\n",
      "597/599 [============================>.] - ETA: 0s - loss: 0.0067 - root_mean_squared_error: 0.0816\n",
      "Epoch 00088: val_loss did not improve from 0.00980\n",
      "599/599 [==============================] - 7s 12ms/step - loss: 0.0067 - root_mean_squared_error: 0.0818 - val_loss: 0.0102 - val_root_mean_squared_error: 0.1011\n",
      "Epoch 89/100\n",
      "597/599 [============================>.] - ETA: 0s - loss: 0.0060 - root_mean_squared_error: 0.0772\n",
      "Epoch 00089: val_loss did not improve from 0.00980\n",
      "599/599 [==============================] - 7s 12ms/step - loss: 0.0060 - root_mean_squared_error: 0.0772 - val_loss: 0.0102 - val_root_mean_squared_error: 0.1012\n",
      "Epoch 90/100\n",
      "595/599 [============================>.] - ETA: 0s - loss: 0.0060 - root_mean_squared_error: 0.0772\n",
      "Epoch 00090: val_loss did not improve from 0.00980\n",
      "599/599 [==============================] - 7s 12ms/step - loss: 0.0060 - root_mean_squared_error: 0.0772 - val_loss: 0.0118 - val_root_mean_squared_error: 0.1085\n",
      "Epoch 91/100\n",
      "594/599 [============================>.] - ETA: 0s - loss: 0.0060 - root_mean_squared_error: 0.0776\n",
      "Epoch 00091: val_loss did not improve from 0.00980\n",
      "599/599 [==============================] - 7s 12ms/step - loss: 0.0060 - root_mean_squared_error: 0.0774 - val_loss: 0.0108 - val_root_mean_squared_error: 0.1037\n",
      "Epoch 92/100\n",
      "596/599 [============================>.] - ETA: 0s - loss: 0.0060 - root_mean_squared_error: 0.0773\n",
      "Epoch 00092: val_loss did not improve from 0.00980\n",
      "599/599 [==============================] - 7s 12ms/step - loss: 0.0060 - root_mean_squared_error: 0.0774 - val_loss: 0.0114 - val_root_mean_squared_error: 0.1066\n",
      "Epoch 93/100\n",
      "598/599 [============================>.] - ETA: 0s - loss: 0.0057 - root_mean_squared_error: 0.0757\n",
      "Epoch 00093: val_loss improved from 0.00980 to 0.00964, saving model to /content/drive/My Drive/epochs/model_1_camera9_standalone.0093-0.0096.h5\n",
      "599/599 [==============================] - 7s 12ms/step - loss: 0.0057 - root_mean_squared_error: 0.0757 - val_loss: 0.0096 - val_root_mean_squared_error: 0.0982\n",
      "Epoch 94/100\n",
      "597/599 [============================>.] - ETA: 0s - loss: 0.0061 - root_mean_squared_error: 0.0784\n",
      "Epoch 00094: val_loss did not improve from 0.00964\n",
      "599/599 [==============================] - 7s 12ms/step - loss: 0.0061 - root_mean_squared_error: 0.0783 - val_loss: 0.0105 - val_root_mean_squared_error: 0.1023\n",
      "Epoch 95/100\n",
      "597/599 [============================>.] - ETA: 0s - loss: 0.0061 - root_mean_squared_error: 0.0780\n",
      "Epoch 00095: val_loss did not improve from 0.00964\n",
      "599/599 [==============================] - 7s 12ms/step - loss: 0.0061 - root_mean_squared_error: 0.0781 - val_loss: 0.0102 - val_root_mean_squared_error: 0.1010\n",
      "Epoch 96/100\n",
      "595/599 [============================>.] - ETA: 0s - loss: 0.0062 - root_mean_squared_error: 0.0790\n",
      "Epoch 00096: val_loss did not improve from 0.00964\n",
      "599/599 [==============================] - 7s 12ms/step - loss: 0.0062 - root_mean_squared_error: 0.0788 - val_loss: 0.0102 - val_root_mean_squared_error: 0.1009\n",
      "Epoch 97/100\n",
      "595/599 [============================>.] - ETA: 0s - loss: 0.0057 - root_mean_squared_error: 0.0752\n",
      "Epoch 00097: val_loss did not improve from 0.00964\n",
      "599/599 [==============================] - 7s 12ms/step - loss: 0.0056 - root_mean_squared_error: 0.0751 - val_loss: 0.0101 - val_root_mean_squared_error: 0.1007\n",
      "Epoch 98/100\n",
      "596/599 [============================>.] - ETA: 0s - loss: 0.0058 - root_mean_squared_error: 0.0761\n",
      "Epoch 00098: val_loss improved from 0.00964 to 0.00963, saving model to /content/drive/My Drive/epochs/model_1_camera9_standalone.0098-0.0096.h5\n",
      "599/599 [==============================] - 7s 12ms/step - loss: 0.0059 - root_mean_squared_error: 0.0765 - val_loss: 0.0096 - val_root_mean_squared_error: 0.0981\n",
      "Epoch 99/100\n",
      "599/599 [==============================] - ETA: 0s - loss: 0.0059 - root_mean_squared_error: 0.0771\n",
      "Epoch 00099: val_loss improved from 0.00963 to 0.00910, saving model to /content/drive/My Drive/epochs/model_1_camera9_standalone.0099-0.0091.h5\n",
      "599/599 [==============================] - 7s 12ms/step - loss: 0.0059 - root_mean_squared_error: 0.0771 - val_loss: 0.0091 - val_root_mean_squared_error: 0.0954\n",
      "Epoch 100/100\n",
      "595/599 [============================>.] - ETA: 0s - loss: 0.0059 - root_mean_squared_error: 0.0766\n",
      "Epoch 00100: val_loss improved from 0.00910 to 0.00858, saving model to /content/drive/My Drive/epochs/model_1_camera9_standalone.0100-0.0086.h5\n",
      "599/599 [==============================] - 7s 12ms/step - loss: 0.0059 - root_mean_squared_error: 0.0767 - val_loss: 0.0086 - val_root_mean_squared_error: 0.0926\n"
     ]
    }
   ],
   "source": [
    "history = model.fit(X_train,\n",
    "                    y_train,\n",
    "                    batch_size=64,\n",
    "                    validation_data=(X_test, y_test),\n",
    "                    epochs=100,\n",
    "                    verbose=1,\n",
    "                    callbacks=callbacks_list)"
   ]
  },
  {
   "cell_type": "code",
   "execution_count": null,
   "metadata": {
    "colab": {},
    "colab_type": "code",
    "id": "1ZZ4vd111AT6"
   },
   "outputs": [],
   "source": [
    "ticks = [i for i in range(0, 101, 10)]\n",
    "labels = [i for i in range(0, 101, 10)]\n",
    "labels[0] = 1"
   ]
  },
  {
   "cell_type": "code",
   "execution_count": null,
   "metadata": {
    "colab": {
     "base_uri": "https://localhost:8080/",
     "height": 519
    },
    "colab_type": "code",
    "id": "sWT3Qp_01AUC",
    "outputId": "4467813b-d970-4648-a4f7-9b71f2e9a6c5"
   },
   "outputs": [
    {
     "data": {
      "image/png": "[encoded data removed]",
      "text/plain": [
       "<Figure size 1440x576 with 1 Axes>"
      ]
     },
     "metadata": {
      "needs_background": "light",
      "tags": []
     },
     "output_type": "display_data"
    }
   ],
   "source": [
    "train_loss = history.history['loss']\n",
    "test_loss = history.history['val_loss']\n",
    "\n",
    "# Set figure size.\n",
    "plt.figure(figsize=(20, 8))\n",
    "\n",
    "# Generate line plot of training, testing loss over epochs.\n",
    "plt.plot(train_loss, label='Training Loss', color='#185fad')\n",
    "plt.plot(test_loss, label='Testing Loss', color='orange')\n",
    "\n",
    "# Set title\n",
    "plt.title('Training and Testing Loss by Epoch for Camera9', fontsize = 25)\n",
    "plt.xlabel('Epoch', fontsize = 18)\n",
    "plt.ylabel('Mean Squared Error', fontsize = 18)\n",
    "plt.xticks(ticks, labels)\n",
    "\n",
    "plt.legend(fontsize = 18)\n",
    "\n",
    "plt.savefig('/content/drive/My Drive/images/train_test_loss_model1_camera9_standalone.png');"
   ]
  },
  {
   "cell_type": "code",
   "execution_count": null,
   "metadata": {
    "colab": {},
    "colab_type": "code",
    "id": "USa7FmIO1AUG"
   },
   "outputs": [],
   "source": [
    "def model_history(model_name): \n",
    "  model = pd.DataFrame({'loss': history.history['loss'],\n",
    "                        'root_mean_squared_error': history.history['root_mean_squared_error'],\n",
    "                        'val_loss': history.history['val_loss'],\n",
    "                        'val_root_mean_squared_error': history.history['val_root_mean_squared_error']},\n",
    "                        columns = ['loss', 'root_mean_squared_error', 'val_loss', 'val_root_mean_squared_error'])\n",
    "\n",
    "  model.to_csv(f'/content/drive/My Drive/datasets/{model_name}.csv', index=False)\n",
    "  return model"
   ]
  },
  {
   "cell_type": "code",
   "execution_count": null,
   "metadata": {
    "colab": {},
    "colab_type": "code",
    "id": "05x8lKti1AUI"
   },
   "outputs": [],
   "source": [
    "model_1_camera9 = model_history('model_1_camera9_standalone')"
   ]
  },
  {
   "cell_type": "code",
   "execution_count": null,
   "metadata": {
    "colab": {
     "base_uri": "https://localhost:8080/",
     "height": 204
    },
    "colab_type": "code",
    "id": "kB0Za7kz1AUL",
    "outputId": "b387bb16-101d-4571-e560-12ccbcbfcb59"
   },
   "outputs": [
    {
     "data": {
      "text/html": [
       "<div>\n",
       "<style scoped>\n",
       "    .dataframe tbody tr th:only-of-type {\n",
       "        vertical-align: middle;\n",
       "    }\n",
       "\n",
       "    .dataframe tbody tr th {\n",
       "        vertical-align: top;\n",
       "    }\n",
       "\n",
       "    .dataframe thead th {\n",
       "        text-align: right;\n",
       "    }\n",
       "</style>\n",
       "<table border=\"1\" class=\"dataframe\">\n",
       "  <thead>\n",
       "    <tr style=\"text-align: right;\">\n",
       "      <th></th>\n",
       "      <th>loss</th>\n",
       "      <th>root_mean_squared_error</th>\n",
       "      <th>val_loss</th>\n",
       "      <th>val_root_mean_squared_error</th>\n",
       "    </tr>\n",
       "  </thead>\n",
       "  <tbody>\n",
       "    <tr>\n",
       "      <th>0</th>\n",
       "      <td>0.055654</td>\n",
       "      <td>0.235911</td>\n",
       "      <td>0.054014</td>\n",
       "      <td>0.232410</td>\n",
       "    </tr>\n",
       "    <tr>\n",
       "      <th>1</th>\n",
       "      <td>0.055186</td>\n",
       "      <td>0.234917</td>\n",
       "      <td>0.054003</td>\n",
       "      <td>0.232385</td>\n",
       "    </tr>\n",
       "    <tr>\n",
       "      <th>2</th>\n",
       "      <td>0.055073</td>\n",
       "      <td>0.234675</td>\n",
       "      <td>0.053996</td>\n",
       "      <td>0.232370</td>\n",
       "    </tr>\n",
       "    <tr>\n",
       "      <th>3</th>\n",
       "      <td>0.054399</td>\n",
       "      <td>0.233236</td>\n",
       "      <td>0.053876</td>\n",
       "      <td>0.232112</td>\n",
       "    </tr>\n",
       "    <tr>\n",
       "      <th>4</th>\n",
       "      <td>0.050443</td>\n",
       "      <td>0.224595</td>\n",
       "      <td>0.052357</td>\n",
       "      <td>0.228817</td>\n",
       "    </tr>\n",
       "  </tbody>\n",
       "</table>\n",
       "</div>"
      ],
      "text/plain": [
       "       loss  root_mean_squared_error  val_loss  val_root_mean_squared_error\n",
       "0  0.055654                 0.235911  0.054014                     0.232410\n",
       "1  0.055186                 0.234917  0.054003                     0.232385\n",
       "2  0.055073                 0.234675  0.053996                     0.232370\n",
       "3  0.054399                 0.233236  0.053876                     0.232112\n",
       "4  0.050443                 0.224595  0.052357                     0.228817"
      ]
     },
     "execution_count": 47,
     "metadata": {
      "tags": []
     },
     "output_type": "execute_result"
    }
   ],
   "source": [
    "model_1_camera9.head()"
   ]
  },
  {
   "cell_type": "code",
   "execution_count": null,
   "metadata": {
    "colab": {},
    "colab_type": "code",
    "id": "me2Bejjg1AUN"
   },
   "outputs": [],
   "source": [
    "#################### end of training camera9 data for model 1"
   ]
  },
  {
   "cell_type": "code",
   "execution_count": null,
   "metadata": {
    "colab": {},
    "colab_type": "code",
    "id": "Qd2vNFB5NkjJ"
   },
   "outputs": [],
   "source": [
    "model = Sequential()\n",
    "\n",
    "model.add(Conv2D(16, (3, 3), input_shape=(80, 160, 1), activation='relu'))\n",
    "model.add(MaxPooling2D(pool_size=(2, 2)))\n",
    "\n",
    "model.add(Conv2D(32, (3, 3), activation='relu'))\n",
    "model.add(MaxPooling2D(pool_size=(2, 2)))\n",
    "\n",
    "model.add(Conv2D(64, (3, 3), activation='relu'))\n",
    "model.add(MaxPooling2D(pool_size=(2, 2)))\n",
    "\n",
    "model.add(Flatten())\n",
    "model.add(Dense(300, activation='relu'))\n",
    "model.add(Dropout(.5))\n",
    "\n",
    "model.add(Dense(100, activation='relu'))\n",
    "model.add(Dropout(.25))\n",
    "\n",
    "model.add(Dense(20, activation='relu'))\n",
    "model.add(Dense(1))\n",
    "\n",
    "model.compile(loss='mse', optimizer='adam', metrics=[RootMeanSquaredError()])\n",
    "\n",
    "from keras.callbacks import *\n",
    "filepath = \"/content/drive/My Drive/model_1_shuffled_redropout.{epoch:03d}-{val_loss:.3f}.h5\"\n",
    "checkpoint = ModelCheckpoint(filepath, monitor='val_loss', verbose=1, save_best_only=True, mode='max')\n",
    "callbacks_list = [checkpoint]\n",
    "\n",
    "history = model.fit(X_train,\n",
    "                    y_train,\n",
    "                    batch_size=64,\n",
    "                    validation_data=(X_test, y_test),\n",
    "                    epochs=15,\n",
    "                    verbose=1,\n",
    "                    callbacks=callbacks_list)"
   ]
  },
  {
   "cell_type": "code",
   "execution_count": null,
   "metadata": {
    "colab": {},
    "colab_type": "code",
    "id": "MlchIFJ1m4o5"
   },
   "outputs": [],
   "source": [
    "model = Sequential()\n",
    "\n",
    "model.add(Conv2D(16, (3, 3), input_shape=(80, 160, 1), activation='relu'))\n",
    "model.add(MaxPooling2D(pool_size=(2, 2)))\n",
    "model.add(Dropout(0.25))\n",
    "\n",
    "model.add(Conv2D(32, (3, 3), activation='relu'))\n",
    "model.add(MaxPooling2D(pool_size=(2, 2)))\n",
    "model.add(Dropout(0.25))\n",
    "\n",
    "model.add(Conv2D(64, (3, 3), activation='relu'))\n",
    "model.add(MaxPooling2D(pool_size=(2, 2)))\n",
    "model.add(Dropout(0.25))\n",
    "\n",
    "model.add(Flatten())\n",
    "model.add(Dense(300, activation='relu'))\n",
    "model.add(Dropout(.5))\n",
    "\n",
    "model.add(Dense(100, activation='relu'))\n",
    "model.add(Dropout(.25))\n",
    "\n",
    "model.add(Dense(20, activation='relu'))\n",
    "model.add(Dense(1))"
   ]
  },
  {
   "cell_type": "code",
   "execution_count": null,
   "metadata": {
    "colab": {},
    "colab_type": "code",
    "id": "IgdDiJq-sMPa"
   },
   "outputs": [],
   "source": [
    "model.compile(loss='mse', optimizer=Adam(lr=1e-04), metrics=[RootMeanSquaredError()])"
   ]
  },
  {
   "cell_type": "code",
   "execution_count": null,
   "metadata": {
    "colab": {},
    "colab_type": "code",
    "id": "4dbzmB-A0iFy"
   },
   "outputs": [],
   "source": [
    "from keras.callbacks import *\n",
    "filepath = \"/content/drive/My Drive/epochs/model_1_camera1_lr:0.0001.{epoch:04d}-{val_loss:.4f}.h5\"\n",
    "checkpoint = ModelCheckpoint(filepath, monitor='val_loss', verbose=1, save_best_only=True, mode='min')\n",
    "callbacks_list = [checkpoint]"
   ]
  },
  {
   "cell_type": "code",
   "execution_count": null,
   "metadata": {
    "colab": {
     "base_uri": "https://localhost:8080/",
     "height": 1000
    },
    "colab_type": "code",
    "id": "ISQFP4d4s058",
    "outputId": "ebb71447-9e22-486b-cb1c-9c28c19e1062"
   },
   "outputs": [
    {
     "name": "stdout",
     "output_type": "stream",
     "text": [
      "Epoch 1/100\n",
      "637/641 [============================>.] - ETA: 0s - loss: 0.2557 - root_mean_squared_error: 0.5057\n",
      "Epoch 00001: val_loss improved from inf to 0.23474, saving model to /content/drive/My Drive/epochs/model_1_camera1_lr:0.0001.0001-0.2347.h5\n",
      "641/641 [==============================] - 9s 13ms/step - loss: 0.2548 - root_mean_squared_error: 0.5047 - val_loss: 0.2347 - val_root_mean_squared_error: 0.4845\n",
      "Epoch 2/100\n",
      "640/641 [============================>.] - ETA: 0s - loss: 0.2531 - root_mean_squared_error: 0.5031\n",
      "Epoch 00002: val_loss did not improve from 0.23474\n",
      "641/641 [==============================] - 8s 12ms/step - loss: 0.2529 - root_mean_squared_error: 0.5029 - val_loss: 0.2347 - val_root_mean_squared_error: 0.4845\n",
      "Epoch 3/100\n",
      "636/641 [============================>.] - ETA: 0s - loss: 0.2505 - root_mean_squared_error: 0.5005\n",
      "Epoch 00003: val_loss did not improve from 0.23474\n",
      "641/641 [==============================] - 8s 12ms/step - loss: 0.2529 - root_mean_squared_error: 0.5029 - val_loss: 0.2348 - val_root_mean_squared_error: 0.4845\n",
      "Epoch 4/100\n",
      "637/641 [============================>.] - ETA: 0s - loss: 0.2536 - root_mean_squared_error: 0.5036\n",
      "Epoch 00004: val_loss did not improve from 0.23474\n",
      "641/641 [==============================] - 8s 12ms/step - loss: 0.2528 - root_mean_squared_error: 0.5028 - val_loss: 0.2347 - val_root_mean_squared_error: 0.4845\n",
      "Epoch 5/100\n",
      "639/641 [============================>.] - ETA: 0s - loss: 0.2524 - root_mean_squared_error: 0.5024\n",
      "Epoch 00005: val_loss improved from 0.23474 to 0.23471, saving model to /content/drive/My Drive/epochs/model_1_camera1_lr:0.0001.0005-0.2347.h5\n",
      "641/641 [==============================] - 8s 12ms/step - loss: 0.2528 - root_mean_squared_error: 0.5028 - val_loss: 0.2347 - val_root_mean_squared_error: 0.4845\n",
      "Epoch 6/100\n",
      "640/641 [============================>.] - ETA: 0s - loss: 0.2528 - root_mean_squared_error: 0.5028\n",
      "Epoch 00006: val_loss improved from 0.23471 to 0.23468, saving model to /content/drive/My Drive/epochs/model_1_camera1_lr:0.0001.0006-0.2347.h5\n",
      "641/641 [==============================] - 8s 12ms/step - loss: 0.2526 - root_mean_squared_error: 0.5026 - val_loss: 0.2347 - val_root_mean_squared_error: 0.4844\n",
      "Epoch 7/100\n",
      "638/641 [============================>.] - ETA: 0s - loss: 0.2516 - root_mean_squared_error: 0.5016\n",
      "Epoch 00007: val_loss improved from 0.23468 to 0.23409, saving model to /content/drive/My Drive/epochs/model_1_camera1_lr:0.0001.0007-0.2341.h5\n",
      "641/641 [==============================] - 8s 12ms/step - loss: 0.2518 - root_mean_squared_error: 0.5018 - val_loss: 0.2341 - val_root_mean_squared_error: 0.4838\n",
      "Epoch 8/100\n",
      "641/641 [==============================] - ETA: 0s - loss: 0.2504 - root_mean_squared_error: 0.5004\n",
      "Epoch 00008: val_loss improved from 0.23409 to 0.23267, saving model to /content/drive/My Drive/epochs/model_1_camera1_lr:0.0001.0008-0.2327.h5\n",
      "641/641 [==============================] - 8s 12ms/step - loss: 0.2504 - root_mean_squared_error: 0.5004 - val_loss: 0.2327 - val_root_mean_squared_error: 0.4824\n",
      "Epoch 9/100\n",
      "640/641 [============================>.] - ETA: 0s - loss: 0.2454 - root_mean_squared_error: 0.4954\n",
      "Epoch 00009: val_loss improved from 0.23267 to 0.22157, saving model to /content/drive/My Drive/epochs/model_1_camera1_lr:0.0001.0009-0.2216.h5\n",
      "641/641 [==============================] - 8s 12ms/step - loss: 0.2452 - root_mean_squared_error: 0.4951 - val_loss: 0.2216 - val_root_mean_squared_error: 0.4707\n",
      "Epoch 10/100\n",
      "639/641 [============================>.] - ETA: 0s - loss: 0.2307 - root_mean_squared_error: 0.4803\n",
      "Epoch 00010: val_loss improved from 0.22157 to 0.20416, saving model to /content/drive/My Drive/epochs/model_1_camera1_lr:0.0001.0010-0.2042.h5\n",
      "641/641 [==============================] - 8s 12ms/step - loss: 0.2302 - root_mean_squared_error: 0.4798 - val_loss: 0.2042 - val_root_mean_squared_error: 0.4518\n",
      "Epoch 11/100\n",
      "636/641 [============================>.] - ETA: 0s - loss: 0.2148 - root_mean_squared_error: 0.4635\n",
      "Epoch 00011: val_loss improved from 0.20416 to 0.18700, saving model to /content/drive/My Drive/epochs/model_1_camera1_lr:0.0001.0011-0.1870.h5\n",
      "641/641 [==============================] - 8s 12ms/step - loss: 0.2147 - root_mean_squared_error: 0.4634 - val_loss: 0.1870 - val_root_mean_squared_error: 0.4324\n",
      "Epoch 12/100\n",
      "640/641 [============================>.] - ETA: 0s - loss: 0.1939 - root_mean_squared_error: 0.4404\n",
      "Epoch 00012: val_loss improved from 0.18700 to 0.17739, saving model to /content/drive/My Drive/epochs/model_1_camera1_lr:0.0001.0012-0.1774.h5\n",
      "641/641 [==============================] - 8s 12ms/step - loss: 0.1939 - root_mean_squared_error: 0.4403 - val_loss: 0.1774 - val_root_mean_squared_error: 0.4212\n",
      "Epoch 13/100\n",
      "641/641 [==============================] - ETA: 0s - loss: 0.1851 - root_mean_squared_error: 0.4302\n",
      "Epoch 00013: val_loss improved from 0.17739 to 0.17037, saving model to /content/drive/My Drive/epochs/model_1_camera1_lr:0.0001.0013-0.1704.h5\n",
      "641/641 [==============================] - 8s 12ms/step - loss: 0.1851 - root_mean_squared_error: 0.4302 - val_loss: 0.1704 - val_root_mean_squared_error: 0.4128\n",
      "Epoch 14/100\n",
      "638/641 [============================>.] - ETA: 0s - loss: 0.1747 - root_mean_squared_error: 0.4180\n",
      "Epoch 00014: val_loss improved from 0.17037 to 0.15766, saving model to /content/drive/My Drive/epochs/model_1_camera1_lr:0.0001.0014-0.1577.h5\n",
      "641/641 [==============================] - 8s 12ms/step - loss: 0.1745 - root_mean_squared_error: 0.4177 - val_loss: 0.1577 - val_root_mean_squared_error: 0.3971\n",
      "Epoch 15/100\n",
      "638/641 [============================>.] - ETA: 0s - loss: 0.1619 - root_mean_squared_error: 0.4024\n",
      "Epoch 00015: val_loss improved from 0.15766 to 0.15265, saving model to /content/drive/My Drive/epochs/model_1_camera1_lr:0.0001.0015-0.1527.h5\n",
      "641/641 [==============================] - 8s 13ms/step - loss: 0.1623 - root_mean_squared_error: 0.4029 - val_loss: 0.1527 - val_root_mean_squared_error: 0.3907\n",
      "Epoch 16/100\n",
      "639/641 [============================>.] - ETA: 0s - loss: 0.1521 - root_mean_squared_error: 0.3900\n",
      "Epoch 00016: val_loss improved from 0.15265 to 0.14152, saving model to /content/drive/My Drive/epochs/model_1_camera1_lr:0.0001.0016-0.1415.h5\n",
      "641/641 [==============================] - 8s 12ms/step - loss: 0.1519 - root_mean_squared_error: 0.3898 - val_loss: 0.1415 - val_root_mean_squared_error: 0.3762\n",
      "Epoch 17/100\n",
      "637/641 [============================>.] - ETA: 0s - loss: 0.1425 - root_mean_squared_error: 0.3775\n",
      "Epoch 00017: val_loss improved from 0.14152 to 0.13354, saving model to /content/drive/My Drive/epochs/model_1_camera1_lr:0.0001.0017-0.1335.h5\n",
      "641/641 [==============================] - 8s 13ms/step - loss: 0.1419 - root_mean_squared_error: 0.3767 - val_loss: 0.1335 - val_root_mean_squared_error: 0.3654\n",
      "Epoch 18/100\n",
      "637/641 [============================>.] - ETA: 0s - loss: 0.1365 - root_mean_squared_error: 0.3695\n",
      "Epoch 00018: val_loss improved from 0.13354 to 0.12435, saving model to /content/drive/My Drive/epochs/model_1_camera1_lr:0.0001.0018-0.1243.h5\n",
      "641/641 [==============================] - 8s 13ms/step - loss: 0.1362 - root_mean_squared_error: 0.3691 - val_loss: 0.1243 - val_root_mean_squared_error: 0.3526\n",
      "Epoch 19/100\n",
      "639/641 [============================>.] - ETA: 0s - loss: 0.1246 - root_mean_squared_error: 0.3530\n",
      "Epoch 00019: val_loss improved from 0.12435 to 0.11462, saving model to /content/drive/My Drive/epochs/model_1_camera1_lr:0.0001.0019-0.1146.h5\n",
      "641/641 [==============================] - 8s 12ms/step - loss: 0.1244 - root_mean_squared_error: 0.3527 - val_loss: 0.1146 - val_root_mean_squared_error: 0.3386\n",
      "Epoch 20/100\n",
      "638/641 [============================>.] - ETA: 0s - loss: 0.1228 - root_mean_squared_error: 0.3504\n",
      "Epoch 00020: val_loss improved from 0.11462 to 0.10926, saving model to /content/drive/My Drive/epochs/model_1_camera1_lr:0.0001.0020-0.1093.h5\n",
      "641/641 [==============================] - 8s 12ms/step - loss: 0.1224 - root_mean_squared_error: 0.3498 - val_loss: 0.1093 - val_root_mean_squared_error: 0.3305\n",
      "Epoch 21/100\n",
      "638/641 [============================>.] - ETA: 0s - loss: 0.1091 - root_mean_squared_error: 0.3303\n",
      "Epoch 00021: val_loss improved from 0.10926 to 0.10532, saving model to /content/drive/My Drive/epochs/model_1_camera1_lr:0.0001.0021-0.1053.h5\n",
      "641/641 [==============================] - 8s 12ms/step - loss: 0.1089 - root_mean_squared_error: 0.3300 - val_loss: 0.1053 - val_root_mean_squared_error: 0.3245\n",
      "Epoch 22/100\n",
      "639/641 [============================>.] - ETA: 0s - loss: 0.1071 - root_mean_squared_error: 0.3272\n",
      "Epoch 00022: val_loss improved from 0.10532 to 0.10483, saving model to /content/drive/My Drive/epochs/model_1_camera1_lr:0.0001.0022-0.1048.h5\n",
      "641/641 [==============================] - 8s 12ms/step - loss: 0.1073 - root_mean_squared_error: 0.3276 - val_loss: 0.1048 - val_root_mean_squared_error: 0.3238\n",
      "Epoch 23/100\n",
      "639/641 [============================>.] - ETA: 0s - loss: 0.0982 - root_mean_squared_error: 0.3134\n",
      "Epoch 00023: val_loss did not improve from 0.10483\n",
      "641/641 [==============================] - 8s 12ms/step - loss: 0.0981 - root_mean_squared_error: 0.3133 - val_loss: 0.1128 - val_root_mean_squared_error: 0.3359\n",
      "Epoch 24/100\n",
      "638/641 [============================>.] - ETA: 0s - loss: 0.0928 - root_mean_squared_error: 0.3046\n",
      "Epoch 00024: val_loss improved from 0.10483 to 0.09814, saving model to /content/drive/My Drive/epochs/model_1_camera1_lr:0.0001.0024-0.0981.h5\n",
      "641/641 [==============================] - 8s 12ms/step - loss: 0.0928 - root_mean_squared_error: 0.3046 - val_loss: 0.0981 - val_root_mean_squared_error: 0.3133\n",
      "Epoch 25/100\n",
      "640/641 [============================>.] - ETA: 0s - loss: 0.0960 - root_mean_squared_error: 0.3098\n",
      "Epoch 00025: val_loss improved from 0.09814 to 0.09731, saving model to /content/drive/My Drive/epochs/model_1_camera1_lr:0.0001.0025-0.0973.h5\n",
      "641/641 [==============================] - 8s 12ms/step - loss: 0.0959 - root_mean_squared_error: 0.3097 - val_loss: 0.0973 - val_root_mean_squared_error: 0.3119\n",
      "Epoch 26/100\n",
      "640/641 [============================>.] - ETA: 0s - loss: 0.0899 - root_mean_squared_error: 0.2998\n",
      "Epoch 00026: val_loss improved from 0.09731 to 0.08995, saving model to /content/drive/My Drive/epochs/model_1_camera1_lr:0.0001.0026-0.0899.h5\n",
      "641/641 [==============================] - 8s 12ms/step - loss: 0.0898 - root_mean_squared_error: 0.2997 - val_loss: 0.0899 - val_root_mean_squared_error: 0.2999\n",
      "Epoch 27/100\n",
      "640/641 [============================>.] - ETA: 0s - loss: 0.0840 - root_mean_squared_error: 0.2898\n",
      "Epoch 00027: val_loss did not improve from 0.08995\n",
      "641/641 [==============================] - 8s 12ms/step - loss: 0.0843 - root_mean_squared_error: 0.2903 - val_loss: 0.0910 - val_root_mean_squared_error: 0.3016\n",
      "Epoch 28/100\n",
      "636/641 [============================>.] - ETA: 0s - loss: 0.0845 - root_mean_squared_error: 0.2907\n",
      "Epoch 00028: val_loss improved from 0.08995 to 0.07935, saving model to /content/drive/My Drive/epochs/model_1_camera1_lr:0.0001.0028-0.0794.h5\n",
      "641/641 [==============================] - 8s 12ms/step - loss: 0.0845 - root_mean_squared_error: 0.2907 - val_loss: 0.0794 - val_root_mean_squared_error: 0.2817\n",
      "Epoch 29/100\n",
      "638/641 [============================>.] - ETA: 0s - loss: 0.0809 - root_mean_squared_error: 0.2845\n",
      "Epoch 00029: val_loss did not improve from 0.07935\n",
      "641/641 [==============================] - 8s 12ms/step - loss: 0.0809 - root_mean_squared_error: 0.2844 - val_loss: 0.0886 - val_root_mean_squared_error: 0.2977\n",
      "Epoch 30/100\n",
      "639/641 [============================>.] - ETA: 0s - loss: 0.0772 - root_mean_squared_error: 0.2779\n",
      "Epoch 00030: val_loss did not improve from 0.07935\n",
      "641/641 [==============================] - 8s 12ms/step - loss: 0.0774 - root_mean_squared_error: 0.2781 - val_loss: 0.0810 - val_root_mean_squared_error: 0.2847\n",
      "Epoch 31/100\n",
      "641/641 [==============================] - ETA: 0s - loss: 0.0754 - root_mean_squared_error: 0.2746\n",
      "Epoch 00031: val_loss improved from 0.07935 to 0.07370, saving model to /content/drive/My Drive/epochs/model_1_camera1_lr:0.0001.0031-0.0737.h5\n",
      "641/641 [==============================] - 8s 12ms/step - loss: 0.0754 - root_mean_squared_error: 0.2746 - val_loss: 0.0737 - val_root_mean_squared_error: 0.2715\n",
      "Epoch 32/100\n",
      "639/641 [============================>.] - ETA: 0s - loss: 0.0749 - root_mean_squared_error: 0.2737\n",
      "Epoch 00032: val_loss did not improve from 0.07370\n",
      "641/641 [==============================] - 8s 12ms/step - loss: 0.0748 - root_mean_squared_error: 0.2735 - val_loss: 0.0888 - val_root_mean_squared_error: 0.2980\n",
      "Epoch 33/100\n",
      "640/641 [============================>.] - ETA: 0s - loss: 0.0692 - root_mean_squared_error: 0.2631\n",
      "Epoch 00033: val_loss did not improve from 0.07370\n",
      "641/641 [==============================] - 8s 12ms/step - loss: 0.0692 - root_mean_squared_error: 0.2631 - val_loss: 0.0746 - val_root_mean_squared_error: 0.2730\n",
      "Epoch 34/100\n",
      "639/641 [============================>.] - ETA: 0s - loss: 0.0700 - root_mean_squared_error: 0.2646\n",
      "Epoch 00034: val_loss did not improve from 0.07370\n",
      "641/641 [==============================] - 8s 12ms/step - loss: 0.0699 - root_mean_squared_error: 0.2643 - val_loss: 0.0749 - val_root_mean_squared_error: 0.2736\n",
      "Epoch 35/100\n",
      "637/641 [============================>.] - ETA: 0s - loss: 0.0670 - root_mean_squared_error: 0.2588\n",
      "Epoch 00035: val_loss improved from 0.07370 to 0.06660, saving model to /content/drive/My Drive/epochs/model_1_camera1_lr:0.0001.0035-0.0666.h5\n",
      "641/641 [==============================] - 8s 12ms/step - loss: 0.0676 - root_mean_squared_error: 0.2601 - val_loss: 0.0666 - val_root_mean_squared_error: 0.2581\n",
      "Epoch 36/100\n",
      "638/641 [============================>.] - ETA: 0s - loss: 0.0691 - root_mean_squared_error: 0.2628\n",
      "Epoch 00036: val_loss did not improve from 0.06660\n",
      "641/641 [==============================] - 8s 12ms/step - loss: 0.0690 - root_mean_squared_error: 0.2628 - val_loss: 0.0733 - val_root_mean_squared_error: 0.2708\n",
      "Epoch 37/100\n",
      "640/641 [============================>.] - ETA: 0s - loss: 0.0639 - root_mean_squared_error: 0.2528\n",
      "Epoch 00037: val_loss did not improve from 0.06660\n",
      "641/641 [==============================] - 8s 12ms/step - loss: 0.0639 - root_mean_squared_error: 0.2527 - val_loss: 0.0716 - val_root_mean_squared_error: 0.2676\n",
      "Epoch 38/100\n",
      "638/641 [============================>.] - ETA: 0s - loss: 0.0639 - root_mean_squared_error: 0.2527\n",
      "Epoch 00038: val_loss did not improve from 0.06660\n",
      "641/641 [==============================] - 8s 12ms/step - loss: 0.0638 - root_mean_squared_error: 0.2525 - val_loss: 0.0719 - val_root_mean_squared_error: 0.2681\n",
      "Epoch 39/100\n",
      "640/641 [============================>.] - ETA: 0s - loss: 0.0654 - root_mean_squared_error: 0.2557\n",
      "Epoch 00039: val_loss did not improve from 0.06660\n",
      "641/641 [==============================] - 8s 12ms/step - loss: 0.0653 - root_mean_squared_error: 0.2556 - val_loss: 0.0762 - val_root_mean_squared_error: 0.2761\n",
      "Epoch 40/100\n",
      "639/641 [============================>.] - ETA: 0s - loss: 0.0635 - root_mean_squared_error: 0.2519\n",
      "Epoch 00040: val_loss did not improve from 0.06660\n",
      "641/641 [==============================] - 8s 12ms/step - loss: 0.0634 - root_mean_squared_error: 0.2518 - val_loss: 0.0667 - val_root_mean_squared_error: 0.2583\n",
      "Epoch 41/100\n",
      "640/641 [============================>.] - ETA: 0s - loss: 0.0569 - root_mean_squared_error: 0.2385\n",
      "Epoch 00041: val_loss improved from 0.06660 to 0.06556, saving model to /content/drive/My Drive/epochs/model_1_camera1_lr:0.0001.0041-0.0656.h5\n",
      "641/641 [==============================] - 8s 12ms/step - loss: 0.0568 - root_mean_squared_error: 0.2384 - val_loss: 0.0656 - val_root_mean_squared_error: 0.2560\n",
      "Epoch 42/100\n",
      "640/641 [============================>.] - ETA: 0s - loss: 0.0578 - root_mean_squared_error: 0.2405\n",
      "Epoch 00042: val_loss did not improve from 0.06556\n",
      "641/641 [==============================] - 8s 12ms/step - loss: 0.0578 - root_mean_squared_error: 0.2404 - val_loss: 0.0688 - val_root_mean_squared_error: 0.2623\n",
      "Epoch 43/100\n",
      "638/641 [============================>.] - ETA: 0s - loss: 0.0561 - root_mean_squared_error: 0.2369\n",
      "Epoch 00043: val_loss did not improve from 0.06556\n",
      "641/641 [==============================] - 8s 12ms/step - loss: 0.0560 - root_mean_squared_error: 0.2366 - val_loss: 0.0728 - val_root_mean_squared_error: 0.2699\n",
      "Epoch 44/100\n",
      "640/641 [============================>.] - ETA: 0s - loss: 0.0580 - root_mean_squared_error: 0.2408\n",
      "Epoch 00044: val_loss improved from 0.06556 to 0.06468, saving model to /content/drive/My Drive/epochs/model_1_camera1_lr:0.0001.0044-0.0647.h5\n",
      "641/641 [==============================] - 8s 12ms/step - loss: 0.0580 - root_mean_squared_error: 0.2408 - val_loss: 0.0647 - val_root_mean_squared_error: 0.2543\n",
      "Epoch 45/100\n",
      "638/641 [============================>.] - ETA: 0s - loss: 0.0551 - root_mean_squared_error: 0.2348\n",
      "Epoch 00045: val_loss did not improve from 0.06468\n",
      "641/641 [==============================] - 8s 12ms/step - loss: 0.0553 - root_mean_squared_error: 0.2351 - val_loss: 0.0697 - val_root_mean_squared_error: 0.2641\n",
      "Epoch 46/100\n",
      "638/641 [============================>.] - ETA: 0s - loss: 0.0596 - root_mean_squared_error: 0.2442\n",
      "Epoch 00046: val_loss did not improve from 0.06468\n",
      "641/641 [==============================] - 8s 12ms/step - loss: 0.0598 - root_mean_squared_error: 0.2445 - val_loss: 0.0798 - val_root_mean_squared_error: 0.2825\n",
      "Epoch 47/100\n",
      "640/641 [============================>.] - ETA: 0s - loss: 0.0564 - root_mean_squared_error: 0.2375\n",
      "Epoch 00047: val_loss did not improve from 0.06468\n",
      "641/641 [==============================] - 8s 12ms/step - loss: 0.0565 - root_mean_squared_error: 0.2377 - val_loss: 0.0650 - val_root_mean_squared_error: 0.2550\n",
      "Epoch 48/100\n",
      "640/641 [============================>.] - ETA: 0s - loss: 0.0505 - root_mean_squared_error: 0.2247\n",
      "Epoch 00048: val_loss did not improve from 0.06468\n",
      "641/641 [==============================] - 8s 12ms/step - loss: 0.0506 - root_mean_squared_error: 0.2249 - val_loss: 0.0749 - val_root_mean_squared_error: 0.2736\n",
      "Epoch 49/100\n",
      "640/641 [============================>.] - ETA: 0s - loss: 0.0540 - root_mean_squared_error: 0.2323\n",
      "Epoch 00049: val_loss improved from 0.06468 to 0.06420, saving model to /content/drive/My Drive/epochs/model_1_camera1_lr:0.0001.0049-0.0642.h5\n",
      "641/641 [==============================] - 8s 12ms/step - loss: 0.0540 - root_mean_squared_error: 0.2323 - val_loss: 0.0642 - val_root_mean_squared_error: 0.2534\n",
      "Epoch 50/100\n",
      "637/641 [============================>.] - ETA: 0s - loss: 0.0538 - root_mean_squared_error: 0.2320\n",
      "Epoch 00050: val_loss improved from 0.06420 to 0.06117, saving model to /content/drive/My Drive/epochs/model_1_camera1_lr:0.0001.0050-0.0612.h5\n",
      "641/641 [==============================] - 8s 12ms/step - loss: 0.0539 - root_mean_squared_error: 0.2322 - val_loss: 0.0612 - val_root_mean_squared_error: 0.2473\n",
      "Epoch 51/100\n",
      "639/641 [============================>.] - ETA: 0s - loss: 0.0547 - root_mean_squared_error: 0.2338\n",
      "Epoch 00051: val_loss improved from 0.06117 to 0.06054, saving model to /content/drive/My Drive/epochs/model_1_camera1_lr:0.0001.0051-0.0605.h5\n",
      "641/641 [==============================] - 8s 12ms/step - loss: 0.0550 - root_mean_squared_error: 0.2345 - val_loss: 0.0605 - val_root_mean_squared_error: 0.2461\n",
      "Epoch 52/100\n",
      "639/641 [============================>.] - ETA: 0s - loss: 0.0524 - root_mean_squared_error: 0.2289\n",
      "Epoch 00052: val_loss did not improve from 0.06054\n",
      "641/641 [==============================] - 8s 12ms/step - loss: 0.0524 - root_mean_squared_error: 0.2290 - val_loss: 0.0666 - val_root_mean_squared_error: 0.2580\n",
      "Epoch 53/100\n",
      "640/641 [============================>.] - ETA: 0s - loss: 0.0497 - root_mean_squared_error: 0.2230\n",
      "Epoch 00053: val_loss improved from 0.06054 to 0.06053, saving model to /content/drive/My Drive/epochs/model_1_camera1_lr:0.0001.0053-0.0605.h5\n",
      "641/641 [==============================] - 8s 12ms/step - loss: 0.0497 - root_mean_squared_error: 0.2230 - val_loss: 0.0605 - val_root_mean_squared_error: 0.2460\n",
      "Epoch 54/100\n",
      "637/641 [============================>.] - ETA: 0s - loss: 0.0497 - root_mean_squared_error: 0.2230\n",
      "Epoch 00054: val_loss did not improve from 0.06053\n",
      "641/641 [==============================] - 8s 12ms/step - loss: 0.0497 - root_mean_squared_error: 0.2229 - val_loss: 0.0654 - val_root_mean_squared_error: 0.2558\n",
      "Epoch 55/100\n",
      "638/641 [============================>.] - ETA: 0s - loss: 0.0518 - root_mean_squared_error: 0.2276\n",
      "Epoch 00055: val_loss did not improve from 0.06053\n",
      "641/641 [==============================] - 8s 12ms/step - loss: 0.0520 - root_mean_squared_error: 0.2280 - val_loss: 0.0657 - val_root_mean_squared_error: 0.2564\n",
      "Epoch 56/100\n",
      "639/641 [============================>.] - ETA: 0s - loss: 0.0477 - root_mean_squared_error: 0.2184\n",
      "Epoch 00056: val_loss improved from 0.06053 to 0.05946, saving model to /content/drive/My Drive/epochs/model_1_camera1_lr:0.0001.0056-0.0595.h5\n",
      "641/641 [==============================] - 8s 12ms/step - loss: 0.0478 - root_mean_squared_error: 0.2186 - val_loss: 0.0595 - val_root_mean_squared_error: 0.2439\n",
      "Epoch 57/100\n",
      "638/641 [============================>.] - ETA: 0s - loss: 0.0482 - root_mean_squared_error: 0.2196\n",
      "Epoch 00057: val_loss did not improve from 0.05946\n",
      "641/641 [==============================] - 8s 12ms/step - loss: 0.0481 - root_mean_squared_error: 0.2193 - val_loss: 0.0632 - val_root_mean_squared_error: 0.2514\n",
      "Epoch 58/100\n",
      "638/641 [============================>.] - ETA: 0s - loss: 0.0457 - root_mean_squared_error: 0.2138\n",
      "Epoch 00058: val_loss improved from 0.05946 to 0.05750, saving model to /content/drive/My Drive/epochs/model_1_camera1_lr:0.0001.0058-0.0575.h5\n",
      "641/641 [==============================] - 8s 12ms/step - loss: 0.0456 - root_mean_squared_error: 0.2136 - val_loss: 0.0575 - val_root_mean_squared_error: 0.2398\n",
      "Epoch 59/100\n",
      "640/641 [============================>.] - ETA: 0s - loss: 0.0516 - root_mean_squared_error: 0.2271\n",
      "Epoch 00059: val_loss did not improve from 0.05750\n",
      "641/641 [==============================] - 8s 12ms/step - loss: 0.0516 - root_mean_squared_error: 0.2271 - val_loss: 0.0650 - val_root_mean_squared_error: 0.2550\n",
      "Epoch 60/100\n",
      "641/641 [==============================] - ETA: 0s - loss: 0.0482 - root_mean_squared_error: 0.2196\n",
      "Epoch 00060: val_loss improved from 0.05750 to 0.05612, saving model to /content/drive/My Drive/epochs/model_1_camera1_lr:0.0001.0060-0.0561.h5\n",
      "641/641 [==============================] - 8s 12ms/step - loss: 0.0482 - root_mean_squared_error: 0.2196 - val_loss: 0.0561 - val_root_mean_squared_error: 0.2369\n",
      "Epoch 61/100\n",
      "641/641 [==============================] - ETA: 0s - loss: 0.0450 - root_mean_squared_error: 0.2121\n",
      "Epoch 00061: val_loss did not improve from 0.05612\n",
      "641/641 [==============================] - 8s 12ms/step - loss: 0.0450 - root_mean_squared_error: 0.2121 - val_loss: 0.0615 - val_root_mean_squared_error: 0.2480\n",
      "Epoch 62/100\n",
      "641/641 [==============================] - ETA: 0s - loss: 0.0423 - root_mean_squared_error: 0.2056\n",
      "Epoch 00062: val_loss did not improve from 0.05612\n",
      "641/641 [==============================] - 8s 12ms/step - loss: 0.0423 - root_mean_squared_error: 0.2056 - val_loss: 0.0644 - val_root_mean_squared_error: 0.2538\n",
      "Epoch 63/100\n",
      "640/641 [============================>.] - ETA: 0s - loss: 0.0454 - root_mean_squared_error: 0.2132\n",
      "Epoch 00063: val_loss did not improve from 0.05612\n",
      "641/641 [==============================] - 8s 12ms/step - loss: 0.0454 - root_mean_squared_error: 0.2131 - val_loss: 0.0601 - val_root_mean_squared_error: 0.2452\n",
      "Epoch 64/100\n",
      "640/641 [============================>.] - ETA: 0s - loss: 0.0446 - root_mean_squared_error: 0.2112\n",
      "Epoch 00064: val_loss improved from 0.05612 to 0.05331, saving model to /content/drive/My Drive/epochs/model_1_camera1_lr:0.0001.0064-0.0533.h5\n",
      "641/641 [==============================] - 8s 12ms/step - loss: 0.0446 - root_mean_squared_error: 0.2111 - val_loss: 0.0533 - val_root_mean_squared_error: 0.2309\n",
      "Epoch 65/100\n",
      "640/641 [============================>.] - ETA: 0s - loss: 0.0434 - root_mean_squared_error: 0.2084\n",
      "Epoch 00065: val_loss did not improve from 0.05331\n",
      "641/641 [==============================] - 8s 12ms/step - loss: 0.0434 - root_mean_squared_error: 0.2083 - val_loss: 0.0687 - val_root_mean_squared_error: 0.2621\n",
      "Epoch 66/100\n",
      "640/641 [============================>.] - ETA: 0s - loss: 0.0423 - root_mean_squared_error: 0.2057\n",
      "Epoch 00066: val_loss did not improve from 0.05331\n",
      "641/641 [==============================] - 8s 12ms/step - loss: 0.0423 - root_mean_squared_error: 0.2056 - val_loss: 0.0579 - val_root_mean_squared_error: 0.2407\n",
      "Epoch 67/100\n",
      "640/641 [============================>.] - ETA: 0s - loss: 0.0413 - root_mean_squared_error: 0.2033\n",
      "Epoch 00067: val_loss did not improve from 0.05331\n",
      "641/641 [==============================] - 8s 12ms/step - loss: 0.0413 - root_mean_squared_error: 0.2033 - val_loss: 0.0553 - val_root_mean_squared_error: 0.2352\n",
      "Epoch 68/100\n",
      "638/641 [============================>.] - ETA: 0s - loss: 0.0417 - root_mean_squared_error: 0.2042\n",
      "Epoch 00068: val_loss did not improve from 0.05331\n",
      "641/641 [==============================] - 8s 12ms/step - loss: 0.0417 - root_mean_squared_error: 0.2042 - val_loss: 0.0548 - val_root_mean_squared_error: 0.2340\n",
      "Epoch 69/100\n",
      "641/641 [==============================] - ETA: 0s - loss: 0.0442 - root_mean_squared_error: 0.2102\n",
      "Epoch 00069: val_loss did not improve from 0.05331\n",
      "641/641 [==============================] - 8s 12ms/step - loss: 0.0442 - root_mean_squared_error: 0.2102 - val_loss: 0.0640 - val_root_mean_squared_error: 0.2529\n",
      "Epoch 70/100\n",
      "641/641 [==============================] - ETA: 0s - loss: 0.0432 - root_mean_squared_error: 0.2077\n",
      "Epoch 00070: val_loss did not improve from 0.05331\n",
      "641/641 [==============================] - 8s 12ms/step - loss: 0.0432 - root_mean_squared_error: 0.2077 - val_loss: 0.0573 - val_root_mean_squared_error: 0.2393\n",
      "Epoch 71/100\n",
      "636/641 [============================>.] - ETA: 0s - loss: 0.0401 - root_mean_squared_error: 0.2003\n",
      "Epoch 00071: val_loss did not improve from 0.05331\n",
      "641/641 [==============================] - 8s 12ms/step - loss: 0.0409 - root_mean_squared_error: 0.2022 - val_loss: 0.0612 - val_root_mean_squared_error: 0.2474\n",
      "Epoch 72/100\n",
      "636/641 [============================>.] - ETA: 0s - loss: 0.0401 - root_mean_squared_error: 0.2004\n",
      "Epoch 00072: val_loss did not improve from 0.05331\n",
      "641/641 [==============================] - 8s 12ms/step - loss: 0.0403 - root_mean_squared_error: 0.2007 - val_loss: 0.0539 - val_root_mean_squared_error: 0.2322\n",
      "Epoch 73/100\n",
      "641/641 [==============================] - ETA: 0s - loss: 0.0400 - root_mean_squared_error: 0.2000\n",
      "Epoch 00073: val_loss did not improve from 0.05331\n",
      "641/641 [==============================] - 8s 12ms/step - loss: 0.0400 - root_mean_squared_error: 0.2000 - val_loss: 0.0571 - val_root_mean_squared_error: 0.2389\n",
      "Epoch 74/100\n",
      "640/641 [============================>.] - ETA: 0s - loss: 0.0402 - root_mean_squared_error: 0.2005\n",
      "Epoch 00074: val_loss did not improve from 0.05331\n",
      "641/641 [==============================] - 8s 12ms/step - loss: 0.0402 - root_mean_squared_error: 0.2005 - val_loss: 0.0660 - val_root_mean_squared_error: 0.2569\n",
      "Epoch 75/100\n",
      "639/641 [============================>.] - ETA: 0s - loss: 0.0398 - root_mean_squared_error: 0.1995\n",
      "Epoch 00075: val_loss did not improve from 0.05331\n",
      "641/641 [==============================] - 8s 12ms/step - loss: 0.0397 - root_mean_squared_error: 0.1993 - val_loss: 0.0579 - val_root_mean_squared_error: 0.2405\n",
      "Epoch 76/100\n",
      "641/641 [==============================] - ETA: 0s - loss: 0.0387 - root_mean_squared_error: 0.1966\n",
      "Epoch 00076: val_loss did not improve from 0.05331\n",
      "641/641 [==============================] - 8s 12ms/step - loss: 0.0387 - root_mean_squared_error: 0.1966 - val_loss: 0.0593 - val_root_mean_squared_error: 0.2435\n",
      "Epoch 77/100\n",
      "636/641 [============================>.] - ETA: 0s - loss: 0.0350 - root_mean_squared_error: 0.1871\n",
      "Epoch 00077: val_loss did not improve from 0.05331\n",
      "641/641 [==============================] - 8s 12ms/step - loss: 0.0350 - root_mean_squared_error: 0.1870 - val_loss: 0.0540 - val_root_mean_squared_error: 0.2323\n",
      "Epoch 78/100\n",
      "639/641 [============================>.] - ETA: 0s - loss: 0.0385 - root_mean_squared_error: 0.1963\n",
      "Epoch 00078: val_loss did not improve from 0.05331\n",
      "641/641 [==============================] - 8s 12ms/step - loss: 0.0384 - root_mean_squared_error: 0.1961 - val_loss: 0.0568 - val_root_mean_squared_error: 0.2383\n",
      "Epoch 79/100\n",
      "638/641 [============================>.] - ETA: 0s - loss: 0.0431 - root_mean_squared_error: 0.2076\n",
      "Epoch 00079: val_loss did not improve from 0.05331\n",
      "641/641 [==============================] - 8s 12ms/step - loss: 0.0431 - root_mean_squared_error: 0.2075 - val_loss: 0.0575 - val_root_mean_squared_error: 0.2399\n",
      "Epoch 80/100\n",
      "640/641 [============================>.] - ETA: 0s - loss: 0.0400 - root_mean_squared_error: 0.1999\n",
      "Epoch 00080: val_loss did not improve from 0.05331\n",
      "641/641 [==============================] - 8s 12ms/step - loss: 0.0399 - root_mean_squared_error: 0.1999 - val_loss: 0.0551 - val_root_mean_squared_error: 0.2346\n",
      "Epoch 81/100\n",
      "641/641 [==============================] - ETA: 0s - loss: 0.0386 - root_mean_squared_error: 0.1964\n",
      "Epoch 00081: val_loss did not improve from 0.05331\n",
      "641/641 [==============================] - 8s 12ms/step - loss: 0.0386 - root_mean_squared_error: 0.1964 - val_loss: 0.0581 - val_root_mean_squared_error: 0.2410\n",
      "Epoch 82/100\n",
      "641/641 [==============================] - ETA: 0s - loss: 0.0377 - root_mean_squared_error: 0.1940\n",
      "Epoch 00082: val_loss did not improve from 0.05331\n",
      "641/641 [==============================] - 8s 12ms/step - loss: 0.0377 - root_mean_squared_error: 0.1940 - val_loss: 0.0563 - val_root_mean_squared_error: 0.2374\n",
      "Epoch 83/100\n",
      "641/641 [==============================] - ETA: 0s - loss: 0.0354 - root_mean_squared_error: 0.1881\n",
      "Epoch 00083: val_loss did not improve from 0.05331\n",
      "641/641 [==============================] - 8s 12ms/step - loss: 0.0354 - root_mean_squared_error: 0.1881 - val_loss: 0.0560 - val_root_mean_squared_error: 0.2367\n",
      "Epoch 84/100\n",
      "637/641 [============================>.] - ETA: 0s - loss: 0.0391 - root_mean_squared_error: 0.1977\n",
      "Epoch 00084: val_loss improved from 0.05331 to 0.05100, saving model to /content/drive/My Drive/epochs/model_1_camera1_lr:0.0001.0084-0.0510.h5\n",
      "641/641 [==============================] - 8s 12ms/step - loss: 0.0405 - root_mean_squared_error: 0.2011 - val_loss: 0.0510 - val_root_mean_squared_error: 0.2258\n",
      "Epoch 85/100\n",
      "640/641 [============================>.] - ETA: 0s - loss: 0.0371 - root_mean_squared_error: 0.1927\n",
      "Epoch 00085: val_loss did not improve from 0.05100\n",
      "641/641 [==============================] - 8s 12ms/step - loss: 0.0371 - root_mean_squared_error: 0.1926 - val_loss: 0.0533 - val_root_mean_squared_error: 0.2309\n",
      "Epoch 86/100\n",
      "637/641 [============================>.] - ETA: 0s - loss: 0.0381 - root_mean_squared_error: 0.1953\n",
      "Epoch 00086: val_loss did not improve from 0.05100\n",
      "641/641 [==============================] - 8s 12ms/step - loss: 0.0381 - root_mean_squared_error: 0.1952 - val_loss: 0.0514 - val_root_mean_squared_error: 0.2267\n",
      "Epoch 87/100\n",
      "641/641 [==============================] - ETA: 0s - loss: 0.0359 - root_mean_squared_error: 0.1893\n",
      "Epoch 00087: val_loss did not improve from 0.05100\n",
      "641/641 [==============================] - 8s 12ms/step - loss: 0.0359 - root_mean_squared_error: 0.1893 - val_loss: 0.0599 - val_root_mean_squared_error: 0.2447\n",
      "Epoch 88/100\n",
      "640/641 [============================>.] - ETA: 0s - loss: 0.0350 - root_mean_squared_error: 0.1870\n",
      "Epoch 00088: val_loss did not improve from 0.05100\n",
      "641/641 [==============================] - 8s 12ms/step - loss: 0.0349 - root_mean_squared_error: 0.1869 - val_loss: 0.0551 - val_root_mean_squared_error: 0.2347\n",
      "Epoch 89/100\n",
      "639/641 [============================>.] - ETA: 0s - loss: 0.0358 - root_mean_squared_error: 0.1893\n",
      "Epoch 00089: val_loss did not improve from 0.05100\n",
      "641/641 [==============================] - 8s 12ms/step - loss: 0.0358 - root_mean_squared_error: 0.1892 - val_loss: 0.0579 - val_root_mean_squared_error: 0.2407\n",
      "Epoch 90/100\n",
      "641/641 [==============================] - ETA: 0s - loss: 0.0333 - root_mean_squared_error: 0.1825\n",
      "Epoch 00090: val_loss did not improve from 0.05100\n",
      "641/641 [==============================] - 8s 12ms/step - loss: 0.0333 - root_mean_squared_error: 0.1825 - val_loss: 0.0565 - val_root_mean_squared_error: 0.2378\n",
      "Epoch 91/100\n",
      "636/641 [============================>.] - ETA: 0s - loss: 0.0378 - root_mean_squared_error: 0.1946\n",
      "Epoch 00091: val_loss did not improve from 0.05100\n",
      "641/641 [==============================] - 7s 12ms/step - loss: 0.0377 - root_mean_squared_error: 0.1941 - val_loss: 0.0560 - val_root_mean_squared_error: 0.2366\n",
      "Epoch 92/100\n",
      "637/641 [============================>.] - ETA: 0s - loss: 0.0347 - root_mean_squared_error: 0.1862\n",
      "Epoch 00092: val_loss did not improve from 0.05100\n",
      "641/641 [==============================] - 8s 12ms/step - loss: 0.0346 - root_mean_squared_error: 0.1859 - val_loss: 0.0552 - val_root_mean_squared_error: 0.2348\n",
      "Epoch 93/100\n",
      "640/641 [============================>.] - ETA: 0s - loss: 0.0326 - root_mean_squared_error: 0.1805\n",
      "Epoch 00093: val_loss did not improve from 0.05100\n",
      "641/641 [==============================] - 8s 12ms/step - loss: 0.0326 - root_mean_squared_error: 0.1805 - val_loss: 0.0619 - val_root_mean_squared_error: 0.2488\n",
      "Epoch 94/100\n",
      "637/641 [============================>.] - ETA: 0s - loss: 0.0364 - root_mean_squared_error: 0.1907\n",
      "Epoch 00094: val_loss did not improve from 0.05100\n",
      "641/641 [==============================] - 8s 12ms/step - loss: 0.0362 - root_mean_squared_error: 0.1904 - val_loss: 0.0516 - val_root_mean_squared_error: 0.2271\n",
      "Epoch 95/100\n",
      "640/641 [============================>.] - ETA: 0s - loss: 0.0337 - root_mean_squared_error: 0.1837\n",
      "Epoch 00095: val_loss improved from 0.05100 to 0.04950, saving model to /content/drive/My Drive/epochs/model_1_camera1_lr:0.0001.0095-0.0495.h5\n",
      "641/641 [==============================] - 8s 12ms/step - loss: 0.0338 - root_mean_squared_error: 0.1837 - val_loss: 0.0495 - val_root_mean_squared_error: 0.2225\n",
      "Epoch 96/100\n",
      "641/641 [==============================] - ETA: 0s - loss: 0.0318 - root_mean_squared_error: 0.1783\n",
      "Epoch 00096: val_loss did not improve from 0.04950\n",
      "641/641 [==============================] - 8s 12ms/step - loss: 0.0318 - root_mean_squared_error: 0.1783 - val_loss: 0.0533 - val_root_mean_squared_error: 0.2309\n",
      "Epoch 97/100\n",
      "641/641 [==============================] - ETA: 0s - loss: 0.0369 - root_mean_squared_error: 0.1920\n",
      "Epoch 00097: val_loss did not improve from 0.04950\n",
      "641/641 [==============================] - 8s 12ms/step - loss: 0.0369 - root_mean_squared_error: 0.1920 - val_loss: 0.0505 - val_root_mean_squared_error: 0.2248\n",
      "Epoch 98/100\n",
      "638/641 [============================>.] - ETA: 0s - loss: 0.0364 - root_mean_squared_error: 0.1907\n",
      "Epoch 00098: val_loss did not improve from 0.04950\n",
      "641/641 [==============================] - 8s 12ms/step - loss: 0.0363 - root_mean_squared_error: 0.1906 - val_loss: 0.0567 - val_root_mean_squared_error: 0.2382\n",
      "Epoch 99/100\n",
      "639/641 [============================>.] - ETA: 0s - loss: 0.0317 - root_mean_squared_error: 0.1781\n",
      "Epoch 00099: val_loss did not improve from 0.04950\n",
      "641/641 [==============================] - 8s 12ms/step - loss: 0.0317 - root_mean_squared_error: 0.1781 - val_loss: 0.0544 - val_root_mean_squared_error: 0.2332\n",
      "Epoch 100/100\n",
      "641/641 [==============================] - ETA: 0s - loss: 0.0331 - root_mean_squared_error: 0.1818\n",
      "Epoch 00100: val_loss did not improve from 0.04950\n",
      "641/641 [==============================] - 8s 12ms/step - loss: 0.0331 - root_mean_squared_error: 0.1818 - val_loss: 0.0560 - val_root_mean_squared_error: 0.2367\n"
     ]
    }
   ],
   "source": [
    "history = model.fit(X_train,\n",
    "                    y_train,\n",
    "                    batch_size=64,\n",
    "                    validation_data=(X_test, y_test),\n",
    "                    epochs=100,\n",
    "                    verbose=1,\n",
    "                    callbacks=callbacks_list)"
   ]
  },
  {
   "cell_type": "code",
   "execution_count": null,
   "metadata": {
    "colab": {},
    "colab_type": "code",
    "id": "n5Q7m-0V4cFQ"
   },
   "outputs": [],
   "source": [
    "ticks = [i for i in range(0, 101, 10)]\n",
    "labels = [i for i in range(0, 101, 10)]\n",
    "labels[0] = 1"
   ]
  },
  {
   "cell_type": "code",
   "execution_count": null,
   "metadata": {
    "colab": {},
    "colab_type": "code",
    "id": "j1avwJO7dkXE"
   },
   "outputs": [],
   "source": []
  },
  {
   "cell_type": "code",
   "execution_count": null,
   "metadata": {
    "colab": {
     "base_uri": "https://localhost:8080/",
     "height": 34
    },
    "colab_type": "code",
    "id": "nV6TXlSceDfU",
    "outputId": "3e1896be-6fff-48f6-d89d-fbacf2968a6d"
   },
   "outputs": [
    {
     "data": {
      "text/plain": [
       "[1, 10, 20, 30, 40, 50, 60, 70, 80, 90, 100]"
      ]
     },
     "execution_count": 94,
     "metadata": {
      "tags": []
     },
     "output_type": "execute_result"
    }
   ],
   "source": [
    "labels"
   ]
  },
  {
   "cell_type": "code",
   "execution_count": null,
   "metadata": {
    "colab": {
     "base_uri": "https://localhost:8080/",
     "height": 34
    },
    "colab_type": "code",
    "id": "O6i-EDEUdh4G",
    "outputId": "a755bdc4-1537-49f6-ca8a-ffef908db0c0"
   },
   "outputs": [
    {
     "data": {
      "text/plain": [
       "[0, 10, 20, 30, 40, 50, 60, 70, 80, 90, 100]"
      ]
     },
     "execution_count": 95,
     "metadata": {
      "tags": []
     },
     "output_type": "execute_result"
    }
   ],
   "source": [
    "ticks"
   ]
  },
  {
   "cell_type": "code",
   "execution_count": null,
   "metadata": {
    "colab": {
     "base_uri": "https://localhost:8080/",
     "height": 519
    },
    "colab_type": "code",
    "id": "0ER-ZrmL4P7x",
    "outputId": "9ce70e8f-1e8a-4340-d684-7af971ecb85e"
   },
   "outputs": [
    {
     "data": {
      "image/png": "[encoded data removed]",
      "text/plain": [
       "<Figure size 1440x576 with 1 Axes>"
      ]
     },
     "metadata": {
      "needs_background": "light",
      "tags": []
     },
     "output_type": "display_data"
    }
   ],
   "source": [
    "train_loss = history.history['loss']\n",
    "test_loss = history.history['val_loss']\n",
    "\n",
    "# Set figure size.\n",
    "plt.figure(figsize=(20, 8))\n",
    "\n",
    "# Generate line plot of training, testing loss over epochs.\n",
    "plt.plot(train_loss, label='Training Loss', color='#185fad')\n",
    "plt.plot(test_loss, label='Testing Loss', color='orange')\n",
    "\n",
    "# Set title\n",
    "plt.title('Training and Testing Loss by Epoch for Camera1', fontsize = 25)\n",
    "plt.xlabel('Epoch', fontsize = 18)\n",
    "plt.ylabel('Mean Squared Error', fontsize = 18)\n",
    "plt.xticks(ticks, labels)\n",
    "\n",
    "plt.legend(fontsize = 18);"
   ]
  },
  {
   "cell_type": "code",
   "execution_count": null,
   "metadata": {
    "colab": {
     "base_uri": "https://localhost:8080/",
     "height": 34
    },
    "colab_type": "code",
    "id": "-O3dA2R_egg7",
    "outputId": "b1f5d322-b3bb-469c-f421-9ed167e41eed"
   },
   "outputs": [
    {
     "name": "stdout",
     "output_type": "stream",
     "text": [
      "dict_keys(['loss', 'root_mean_squared_error', 'val_loss', 'val_root_mean_squared_error'])\n"
     ]
    }
   ],
   "source": [
    "print(history.history.keys())"
   ]
  },
  {
   "cell_type": "code",
   "execution_count": null,
   "metadata": {
    "colab": {},
    "colab_type": "code",
    "id": "2A9JoBjIfeHn"
   },
   "outputs": [],
   "source": [
    "model_1_camera1 = pd.DataFrame({'loss': history.history['loss'],\n",
    "                                'root_mean_squared_error': history.history['root_mean_squared_error'],\n",
    "                                'val_loss': history.history['val_loss'],\n",
    "                                'val_root_mean_squared_error': history.history['val_root_mean_squared_error']},\n",
    "                                columns = ['loss', 'root_mean_squared_error', 'val_loss', 'val_root_mean_squared_error'])"
   ]
  },
  {
   "cell_type": "code",
   "execution_count": null,
   "metadata": {
    "colab": {},
    "colab_type": "code",
    "id": "b3cuOvxigC8A"
   },
   "outputs": [],
   "source": [
    "model_1_camera1.to_csv('/content/drive/My Drive/datasets/model_1_camera1.csv', index=False)"
   ]
  },
  {
   "cell_type": "code",
   "execution_count": null,
   "metadata": {
    "colab": {
     "base_uri": "https://localhost:8080/",
     "height": 530
    },
    "colab_type": "code",
    "id": "wtkFMHzIYxNa",
    "outputId": "e0e3cb54-c50a-4885-8723-8ba849d2785f"
   },
   "outputs": [
    {
     "data": {
      "image/png": "[encoded data removed]",
      "text/plain": [
       "<Figure size 864x576 with 1 Axes>"
      ]
     },
     "metadata": {
      "needs_background": "light",
      "tags": []
     },
     "output_type": "display_data"
    }
   ],
   "source": [
    "train_loss = history.history['loss']\n",
    "test_loss = history.history['val_loss']\n",
    "\n",
    "# Set figure size.\n",
    "plt.figure(figsize=(12, 8))\n",
    "\n",
    "# Generate line plot of training, testing loss over epochs.\n",
    "plt.plot(train_loss, label='Training Loss', color='#185fad')\n",
    "plt.plot(test_loss, label='Testing Loss', color='orange')\n",
    "\n",
    "# Set title\n",
    "plt.title('Training and Testing Loss by Epoch', fontsize = 25)\n",
    "plt.xlabel('Epoch', fontsize = 18)\n",
    "plt.ylabel('Adam', fontsize = 18)\n",
    "plt.xticks(ticks, labels)\n",
    "\n",
    "plt.legend(fontsize = 18);"
   ]
  },
  {
   "cell_type": "code",
   "execution_count": null,
   "metadata": {
    "colab": {},
    "colab_type": "code",
    "id": "h5CXeSm35Qzt"
   },
   "outputs": [],
   "source": [
    "model_2 = Sequential()\n",
    "\n",
    "model_2.add(Conv2D(16, (3, 3), input_shape=(80, 160, 1), activation='relu'))\n",
    "model_2.add(MaxPooling2D(pool_size=(2, 2)))\n",
    "model_2.add(Dropout(.25))\n",
    "\n",
    "model_2.add(Conv2D(32, (3, 3), activation='relu'))\n",
    "model_2.add(MaxPooling2D(pool_size=(2, 2)))\n",
    "model_2.add(Dropout(.25))\n",
    "\n",
    "model_2.add(Conv2D(64, (3, 3), activation='relu'))\n",
    "model_2.add(MaxPooling2D(pool_size=(2, 2)))\n",
    "model_2.add(Dropout(.25))\n",
    "\n",
    "model_2.add(Flatten())\n",
    "model_2.add(Dense(4096, activation='relu'))\n",
    "model_2.add(Dropout(.5))\n",
    "\n",
    "model_2.add(Dense(2048, activation='relu'))\n",
    "model_2.add(Dropout(.5))\n",
    "\n",
    "model_2.add(Dense(1024, activation='relu'))\n",
    "model_2.add(Dropout(.5))\n",
    "\n",
    "model_2.add(Dense(512, activation='relu'))\n",
    "model_2.add(Dropout(.5))\n",
    "\n",
    "model_2.add(Dense(1))\n",
    "\n",
    "model_2.compile(loss='mse', optimizer='adam', metrics=[RootMeanSquaredError()])"
   ]
  },
  {
   "cell_type": "code",
   "execution_count": null,
   "metadata": {
    "colab": {},
    "colab_type": "code",
    "id": "er8YM00z6A9C"
   },
   "outputs": [],
   "source": [
    "from keras.callbacks import *\n",
    "filepath = \"/content/drive/My Drive/epochs/model_2_shuffled.{epoch:03d}-{val_loss:.3f}.h5\"\n",
    "checkpoint = ModelCheckpoint(filepath, monitor='val_loss', verbose=1, save_best_only=True, mode='max')\n",
    "callbacks_list = [checkpoint]"
   ]
  },
  {
   "cell_type": "code",
   "execution_count": null,
   "metadata": {
    "colab": {
     "base_uri": "https://localhost:8080/",
     "height": 1000
    },
    "colab_type": "code",
    "id": "lF3TG6Zk6HWt",
    "outputId": "08ada923-fac6-412e-d6c5-20f07f89fcdc"
   },
   "outputs": [
    {
     "name": "stdout",
     "output_type": "stream",
     "text": [
      "Train on 41003 samples, validate on 10251 samples\n",
      "Epoch 1/30\n",
      "41003/41003 [==============================] - 41s 1ms/step - loss: 0.3027 - root_mean_squared_error: 0.5502 - val_loss: 0.2351 - val_root_mean_squared_error: 0.4849\n",
      "\n",
      "Epoch 00001: val_loss improved from -inf to 0.23513, saving model to /content/drive/My Drive/epochs/model_2_shuffled.001-0.235.h5\n",
      "Epoch 2/30\n",
      "41003/41003 [==============================] - 37s 896us/step - loss: 0.2532 - root_mean_squared_error: 0.5032 - val_loss: 0.2347 - val_root_mean_squared_error: 0.4845\n",
      "\n",
      "Epoch 00002: val_loss did not improve from 0.23513\n",
      "Epoch 3/30\n",
      "41003/41003 [==============================] - 37s 902us/step - loss: 0.2531 - root_mean_squared_error: 0.5031 - val_loss: 0.2348 - val_root_mean_squared_error: 0.4846\n",
      "\n",
      "Epoch 00003: val_loss did not improve from 0.23513\n",
      "Epoch 4/30\n",
      "41003/41003 [==============================] - 37s 911us/step - loss: 0.2531 - root_mean_squared_error: 0.5031 - val_loss: 0.2348 - val_root_mean_squared_error: 0.4846\n",
      "\n",
      "Epoch 00004: val_loss did not improve from 0.23513\n",
      "Epoch 5/30\n",
      "41003/41003 [==============================] - 36s 879us/step - loss: 0.2529 - root_mean_squared_error: 0.5029 - val_loss: 0.2347 - val_root_mean_squared_error: 0.4845\n",
      "\n",
      "Epoch 00005: val_loss did not improve from 0.23513\n",
      "Epoch 6/30\n",
      "41003/41003 [==============================] - 36s 873us/step - loss: 0.2530 - root_mean_squared_error: 0.5029 - val_loss: 0.2348 - val_root_mean_squared_error: 0.4846\n",
      "\n",
      "Epoch 00006: val_loss did not improve from 0.23513\n",
      "Epoch 7/30\n",
      "41003/41003 [==============================] - 36s 872us/step - loss: 0.2529 - root_mean_squared_error: 0.5029 - val_loss: 0.2348 - val_root_mean_squared_error: 0.4846\n",
      "\n",
      "Epoch 00007: val_loss did not improve from 0.23513\n",
      "Epoch 8/30\n",
      "41003/41003 [==============================] - 36s 874us/step - loss: 0.2529 - root_mean_squared_error: 0.5029 - val_loss: 0.2349 - val_root_mean_squared_error: 0.4847\n",
      "\n",
      "Epoch 00008: val_loss did not improve from 0.23513\n",
      "Epoch 9/30\n",
      "41003/41003 [==============================] - 36s 873us/step - loss: 0.2529 - root_mean_squared_error: 0.5029 - val_loss: 0.2353 - val_root_mean_squared_error: 0.4850\n",
      "\n",
      "Epoch 00009: val_loss improved from 0.23513 to 0.23527, saving model to /content/drive/My Drive/epochs/model_2_shuffled.009-0.235.h5\n",
      "Epoch 10/30\n",
      "41003/41003 [==============================] - 36s 876us/step - loss: 0.2529 - root_mean_squared_error: 0.5029 - val_loss: 0.2347 - val_root_mean_squared_error: 0.4845\n",
      "\n",
      "Epoch 00010: val_loss did not improve from 0.23527\n",
      "Epoch 11/30\n",
      "41003/41003 [==============================] - 36s 873us/step - loss: 0.2529 - root_mean_squared_error: 0.5029 - val_loss: 0.2348 - val_root_mean_squared_error: 0.4845\n",
      "\n",
      "Epoch 00011: val_loss did not improve from 0.23527\n",
      "Epoch 12/30\n",
      "41003/41003 [==============================] - 36s 874us/step - loss: 0.2535 - root_mean_squared_error: 0.5035 - val_loss: 0.2351 - val_root_mean_squared_error: 0.4849\n",
      "\n",
      "Epoch 00012: val_loss did not improve from 0.23527\n",
      "Epoch 13/30\n",
      "41003/41003 [==============================] - 36s 872us/step - loss: 0.2529 - root_mean_squared_error: 0.5029 - val_loss: 0.2359 - val_root_mean_squared_error: 0.4857\n",
      "\n",
      "Epoch 00013: val_loss improved from 0.23527 to 0.23593, saving model to /content/drive/My Drive/epochs/model_2_shuffled.013-0.236.h5\n",
      "Epoch 14/30\n",
      "41003/41003 [==============================] - 36s 880us/step - loss: 0.2529 - root_mean_squared_error: 0.5029 - val_loss: 0.2349 - val_root_mean_squared_error: 0.4846\n",
      "\n",
      "Epoch 00014: val_loss did not improve from 0.23593\n",
      "Epoch 15/30\n",
      "41003/41003 [==============================] - 36s 875us/step - loss: 0.2530 - root_mean_squared_error: 0.5029 - val_loss: 0.2348 - val_root_mean_squared_error: 0.4845\n",
      "\n",
      "Epoch 00015: val_loss did not improve from 0.23593\n",
      "Epoch 16/30\n",
      "41003/41003 [==============================] - 36s 875us/step - loss: 0.2531 - root_mean_squared_error: 0.5031 - val_loss: 0.2347 - val_root_mean_squared_error: 0.4845\n",
      "\n",
      "Epoch 00016: val_loss did not improve from 0.23593\n",
      "Epoch 17/30\n",
      "41003/41003 [==============================] - 36s 872us/step - loss: 0.2530 - root_mean_squared_error: 0.5030 - val_loss: 0.2347 - val_root_mean_squared_error: 0.4845\n",
      "\n",
      "Epoch 00017: val_loss did not improve from 0.23593\n",
      "Epoch 18/30\n",
      "41003/41003 [==============================] - 36s 875us/step - loss: 0.2529 - root_mean_squared_error: 0.5029 - val_loss: 0.2349 - val_root_mean_squared_error: 0.4846\n",
      "\n",
      "Epoch 00018: val_loss did not improve from 0.23593\n",
      "Epoch 19/30\n",
      "41003/41003 [==============================] - 36s 877us/step - loss: 0.2529 - root_mean_squared_error: 0.5029 - val_loss: 0.2347 - val_root_mean_squared_error: 0.4845\n",
      "\n",
      "Epoch 00019: val_loss did not improve from 0.23593\n",
      "Epoch 20/30\n",
      "41003/41003 [==============================] - 36s 871us/step - loss: 0.2529 - root_mean_squared_error: 0.5029 - val_loss: 0.2347 - val_root_mean_squared_error: 0.4845\n",
      "\n",
      "Epoch 00020: val_loss did not improve from 0.23593\n",
      "Epoch 21/30\n",
      "41003/41003 [==============================] - 36s 874us/step - loss: 0.2528 - root_mean_squared_error: 0.5028 - val_loss: 0.2348 - val_root_mean_squared_error: 0.4845\n",
      "\n",
      "Epoch 00021: val_loss did not improve from 0.23593\n",
      "Epoch 22/30\n",
      "41003/41003 [==============================] - 36s 871us/step - loss: 0.2529 - root_mean_squared_error: 0.5029 - val_loss: 0.2348 - val_root_mean_squared_error: 0.4845\n",
      "\n",
      "Epoch 00022: val_loss did not improve from 0.23593\n",
      "Epoch 23/30\n",
      "41003/41003 [==============================] - 36s 868us/step - loss: 0.2529 - root_mean_squared_error: 0.5029 - val_loss: 0.2347 - val_root_mean_squared_error: 0.4845\n",
      "\n",
      "Epoch 00023: val_loss did not improve from 0.23593\n",
      "Epoch 24/30\n",
      "41003/41003 [==============================] - 36s 868us/step - loss: 0.2529 - root_mean_squared_error: 0.5029 - val_loss: 0.2347 - val_root_mean_squared_error: 0.4845\n",
      "\n",
      "Epoch 00024: val_loss did not improve from 0.23593\n",
      "Epoch 25/30\n",
      "41003/41003 [==============================] - 36s 877us/step - loss: 0.2529 - root_mean_squared_error: 0.5029 - val_loss: 0.2348 - val_root_mean_squared_error: 0.4845\n",
      "\n",
      "Epoch 00025: val_loss did not improve from 0.23593\n",
      "Epoch 26/30\n",
      "41003/41003 [==============================] - 36s 871us/step - loss: 0.2529 - root_mean_squared_error: 0.5028 - val_loss: 0.2347 - val_root_mean_squared_error: 0.4845\n",
      "\n",
      "Epoch 00026: val_loss did not improve from 0.23593\n",
      "Epoch 27/30\n",
      "41003/41003 [==============================] - 36s 867us/step - loss: 0.2528 - root_mean_squared_error: 0.5028 - val_loss: 0.2347 - val_root_mean_squared_error: 0.4845\n",
      "\n",
      "Epoch 00027: val_loss did not improve from 0.23593\n",
      "Epoch 28/30\n",
      "41003/41003 [==============================] - 36s 876us/step - loss: 0.2528 - root_mean_squared_error: 0.5028 - val_loss: 0.2347 - val_root_mean_squared_error: 0.4845\n",
      "\n",
      "Epoch 00028: val_loss did not improve from 0.23593\n",
      "Epoch 29/30\n",
      "41003/41003 [==============================] - 36s 883us/step - loss: 0.2529 - root_mean_squared_error: 0.5028 - val_loss: 0.2348 - val_root_mean_squared_error: 0.4845\n",
      "\n",
      "Epoch 00029: val_loss did not improve from 0.23593\n",
      "Epoch 30/30\n",
      "41003/41003 [==============================] - 36s 880us/step - loss: 0.2531 - root_mean_squared_error: 0.5031 - val_loss: 0.2349 - val_root_mean_squared_error: 0.4846\n",
      "\n",
      "Epoch 00030: val_loss did not improve from 0.23593\n"
     ]
    }
   ],
   "source": [
    "history = model_2.fit(X_train,\n",
    "                     y_train,\n",
    "                     batch_size=64,\n",
    "                     validation_data=(X_test, y_test),\n",
    "                     epochs=30,\n",
    "                     verbose=1,\n",
    "                     callbacks=callbacks_list)"
   ]
  },
  {
   "cell_type": "code",
   "execution_count": null,
   "metadata": {
    "colab": {},
    "colab_type": "code",
    "id": "oMyz9Dp-EhBY"
   },
   "outputs": [],
   "source": [
    "model_3 = Sequential()\n",
    "\n",
    "model_3.add(Conv2D(16, (3, 3), input_shape=(80, 160, 1), activation='relu'))\n",
    "model_3.add(MaxPooling2D(pool_size=(2, 2)))\n",
    "model_3.add(Dropout(.25))\n",
    "\n",
    "model_3.add(Conv2D(32, (3, 3), activation='relu'))\n",
    "model_3.add(MaxPooling2D(pool_size=(2, 2)))\n",
    "model_3.add(Dropout(.25))\n",
    "\n",
    "model_3.add(Conv2D(64, (3, 3), activation='relu'))\n",
    "model_3.add(MaxPooling2D(pool_size=(2, 2)))\n",
    "model_3.add(Dropout(.25))\n",
    "\n",
    "model_3.add(Conv2D(128, (3, 3), activation='relu'))\n",
    "model_3.add(MaxPooling2D(pool_size=(2, 2)))\n",
    "model_3.add(Dropout(.25))\n",
    "\n",
    "model_3.add(Flatten())\n",
    "model_3.add(Dense(4096, activation='relu'))\n",
    "model_3.add(Dropout(.5))\n",
    "\n",
    "model_3.add(Dense(2048, activation='relu'))\n",
    "model_3.add(Dropout(.5))\n",
    "\n",
    "model_3.add(Dense(1024, activation='relu'))\n",
    "model_3.add(Dropout(.5))\n",
    "\n",
    "model_3.add(Dense(512, activation='relu'))\n",
    "model_3.add(Dropout(.5))\n",
    "\n",
    "model_3.add(Dense(1))\n",
    "\n",
    "model_3.compile(loss='mse', optimizer='adam', metrics=[RootMeanSquaredError()])"
   ]
  },
  {
   "cell_type": "code",
   "execution_count": null,
   "metadata": {
    "colab": {},
    "colab_type": "code",
    "id": "zCZi_-9WFOhC"
   },
   "outputs": [],
   "source": [
    "from keras.callbacks import *\n",
    "filepath = \"/content/drive/My Drive/epochs/model_3_shuffled.{epoch:03d}-{val_loss:.3f}.h5\"\n",
    "checkpoint = ModelCheckpoint(filepath, monitor='val_loss', verbose=1, save_best_only=True, mode='max')\n",
    "callbacks_list = [checkpoint]"
   ]
  },
  {
   "cell_type": "code",
   "execution_count": null,
   "metadata": {
    "colab": {
     "base_uri": "https://localhost:8080/",
     "height": 1000
    },
    "colab_type": "code",
    "id": "G7ykfGCyFRx1",
    "outputId": "477be632-056a-4aff-bcf8-5c0e06b50090"
   },
   "outputs": [
    {
     "name": "stdout",
     "output_type": "stream",
     "text": [
      "Train on 41003 samples, validate on 10251 samples\n",
      "Epoch 1/15\n",
      "41003/41003 [==============================] - 26s 633us/step - loss: 0.2560 - root_mean_squared_error: 0.5060 - val_loss: 0.2350 - val_root_mean_squared_error: 0.4848\n",
      "\n",
      "Epoch 00001: val_loss improved from -inf to 0.23499, saving model to /content/drive/My Drive/epochs/model_3_shuffled.001-0.235.h5\n",
      "Epoch 2/15\n",
      "41003/41003 [==============================] - 25s 621us/step - loss: 0.2531 - root_mean_squared_error: 0.5031 - val_loss: 0.2348 - val_root_mean_squared_error: 0.4846\n",
      "\n",
      "Epoch 00002: val_loss did not improve from 0.23499\n",
      "Epoch 3/15\n",
      "41003/41003 [==============================] - 25s 618us/step - loss: 0.2530 - root_mean_squared_error: 0.5030 - val_loss: 0.2349 - val_root_mean_squared_error: 0.4846\n",
      "\n",
      "Epoch 00003: val_loss did not improve from 0.23499\n",
      "Epoch 4/15\n",
      "41003/41003 [==============================] - 25s 621us/step - loss: 0.2529 - root_mean_squared_error: 0.5029 - val_loss: 0.2348 - val_root_mean_squared_error: 0.4846\n",
      "\n",
      "Epoch 00004: val_loss did not improve from 0.23499\n",
      "Epoch 5/15\n",
      "41003/41003 [==============================] - 25s 622us/step - loss: 0.2529 - root_mean_squared_error: 0.5029 - val_loss: 0.2348 - val_root_mean_squared_error: 0.4846\n",
      "\n",
      "Epoch 00005: val_loss did not improve from 0.23499\n",
      "Epoch 6/15\n",
      "41003/41003 [==============================] - 26s 628us/step - loss: 0.2529 - root_mean_squared_error: 0.5029 - val_loss: 0.2348 - val_root_mean_squared_error: 0.4845\n",
      "\n",
      "Epoch 00006: val_loss did not improve from 0.23499\n",
      "Epoch 7/15\n",
      "41003/41003 [==============================] - 26s 623us/step - loss: 0.2528 - root_mean_squared_error: 0.5028 - val_loss: 0.2348 - val_root_mean_squared_error: 0.4846\n",
      "\n",
      "Epoch 00007: val_loss did not improve from 0.23499\n",
      "Epoch 8/15\n",
      "41003/41003 [==============================] - 26s 623us/step - loss: 0.2529 - root_mean_squared_error: 0.5028 - val_loss: 0.2348 - val_root_mean_squared_error: 0.4845\n",
      "\n",
      "Epoch 00008: val_loss did not improve from 0.23499\n",
      "Epoch 9/15\n",
      "41003/41003 [==============================] - 26s 624us/step - loss: 0.2529 - root_mean_squared_error: 0.5028 - val_loss: 0.2347 - val_root_mean_squared_error: 0.4845\n",
      "\n",
      "Epoch 00009: val_loss did not improve from 0.23499\n",
      "Epoch 10/15\n",
      "41003/41003 [==============================] - 26s 627us/step - loss: 0.2529 - root_mean_squared_error: 0.5029 - val_loss: 0.2348 - val_root_mean_squared_error: 0.4845\n",
      "\n",
      "Epoch 00010: val_loss did not improve from 0.23499\n",
      "Epoch 11/15\n",
      "41003/41003 [==============================] - 26s 624us/step - loss: 0.2528 - root_mean_squared_error: 0.5028 - val_loss: 0.2348 - val_root_mean_squared_error: 0.4845\n",
      "\n",
      "Epoch 00011: val_loss did not improve from 0.23499\n",
      "Epoch 12/15\n",
      "41003/41003 [==============================] - 26s 623us/step - loss: 0.2528 - root_mean_squared_error: 0.5028 - val_loss: 0.2347 - val_root_mean_squared_error: 0.4845\n",
      "\n",
      "Epoch 00012: val_loss did not improve from 0.23499\n",
      "Epoch 13/15\n",
      "41003/41003 [==============================] - 25s 621us/step - loss: 0.2528 - root_mean_squared_error: 0.5028 - val_loss: 0.2347 - val_root_mean_squared_error: 0.4845\n",
      "\n",
      "Epoch 00013: val_loss did not improve from 0.23499\n",
      "Epoch 14/15\n",
      "41003/41003 [==============================] - 25s 621us/step - loss: 0.2529 - root_mean_squared_error: 0.5028 - val_loss: 0.2348 - val_root_mean_squared_error: 0.4845\n",
      "\n",
      "Epoch 00014: val_loss did not improve from 0.23499\n",
      "Epoch 15/15\n",
      "41003/41003 [==============================] - 25s 620us/step - loss: 0.2529 - root_mean_squared_error: 0.5028 - val_loss: 0.2347 - val_root_mean_squared_error: 0.4845\n",
      "\n",
      "Epoch 00015: val_loss did not improve from 0.23499\n"
     ]
    }
   ],
   "source": [
    "history = model_3.fit(X_train,\n",
    "                     y_train,\n",
    "                     batch_size=64,\n",
    "                     validation_data=(X_test, y_test),\n",
    "                     epochs=15,\n",
    "                     verbose=1,\n",
    "                     callbacks=callbacks_list)"
   ]
  },
  {
   "cell_type": "code",
   "execution_count": null,
   "metadata": {
    "colab": {},
    "colab_type": "code",
    "id": "F7cpH_G8tWyJ"
   },
   "outputs": [],
   "source": [
    "####### loading code\n",
    "X = load('/content/drive/My Drive/camera1_train.npz')\n",
    "X = X.f.arr_0\n",
    "\n",
    "log1 = pd.read_csv('/content/drive/My Drive/log1_train.csv')\n",
    "y = log1['steering_avg_radian']\n",
    "y = y.to_numpy()\n",
    "y = y.reshape(y.shape[0], 1)\n",
    "\n",
    "from sklearn.model_selection import train_test_split\n",
    "X_train, X_test, y_train, y_test = train_test_split(X, y, test_size=0.2, shuffle=False)\n",
    "####### end of loading code"
   ]
  },
  {
   "cell_type": "code",
   "execution_count": null,
   "metadata": {
    "colab": {},
    "colab_type": "code",
    "id": "Z2yt7uzrxGIU"
   },
   "outputs": [],
   "source": [
    "!cp -r \"/content/drive/My Drive/camera1_train.npz\" ./camera1_train.npz"
   ]
  },
  {
   "cell_type": "code",
   "execution_count": null,
   "metadata": {
    "colab": {},
    "colab_type": "code",
    "id": "DBF4PUoWxLpr"
   },
   "outputs": [],
   "source": [
    "X = load('./camera1_train.npz')"
   ]
  },
  {
   "cell_type": "code",
   "execution_count": null,
   "metadata": {
    "colab": {},
    "colab_type": "code",
    "id": "xxdZHhRwxUKw"
   },
   "outputs": [],
   "source": [
    "X = X.f.arr_0"
   ]
  },
  {
   "cell_type": "code",
   "execution_count": null,
   "metadata": {
    "colab": {},
    "colab_type": "code",
    "id": "rt9i9JZlxX4C"
   },
   "outputs": [],
   "source": [
    "log1 = pd.read_csv('/content/drive/My Drive/log1_train.csv')\n",
    "y = log1['steering_avg_radian']\n",
    "y = y.to_numpy()\n",
    "y = y.reshape(y.shape[0], 1)"
   ]
  },
  {
   "cell_type": "code",
   "execution_count": null,
   "metadata": {
    "colab": {},
    "colab_type": "code",
    "id": "0_rEvMUKxeRy"
   },
   "outputs": [],
   "source": [
    "from sklearn.model_selection import train_test_split\n",
    "X_train, X_test, y_train, y_test = train_test_split(X, y, test_size=0.2, shuffle=True)"
   ]
  },
  {
   "cell_type": "code",
   "execution_count": null,
   "metadata": {
    "colab": {},
    "colab_type": "code",
    "id": "XcK2jqYExiUS"
   },
   "outputs": [],
   "source": [
    "savez_compressed('/content/drive/My Drive/X_train_shuffled', X_train)"
   ]
  },
  {
   "cell_type": "code",
   "execution_count": null,
   "metadata": {
    "colab": {},
    "colab_type": "code",
    "id": "mdOZA-E3xy86"
   },
   "outputs": [],
   "source": [
    "savez_compressed('/content/drive/My Drive/X_test_shuffled', X_test)"
   ]
  },
  {
   "cell_type": "code",
   "execution_count": null,
   "metadata": {
    "colab": {},
    "colab_type": "code",
    "id": "-l0chgpMx346"
   },
   "outputs": [],
   "source": [
    "savez_compressed('/content/drive/My Drive/y_train_shuffled', y_train)"
   ]
  },
  {
   "cell_type": "code",
   "execution_count": null,
   "metadata": {
    "colab": {},
    "colab_type": "code",
    "id": "UuwV21yZx6pq"
   },
   "outputs": [],
   "source": [
    "savez_compressed('/content/drive/My Drive/y_test_shuffled', y_test)"
   ]
  },
  {
   "cell_type": "code",
   "execution_count": null,
   "metadata": {
    "colab": {
     "base_uri": "https://localhost:8080/",
     "height": 357
    },
    "colab_type": "code",
    "id": "pRREK7JBx9si",
    "outputId": "ca857b12-2cab-4697-8e09-9334ee4ac094"
   },
   "outputs": [
    {
     "name": "stdout",
     "output_type": "stream",
     "text": [
      "Mon Aug  3 15:26:27 2020       \n",
      "+-----------------------------------------------------------------------------+\n",
      "| NVIDIA-SMI 450.57       Driver Version: 418.67       CUDA Version: 10.1     |\n",
      "|-------------------------------+----------------------+----------------------+\n",
      "| GPU  Name        Persistence-M| Bus-Id        Disp.A | Volatile Uncorr. ECC |\n",
      "| Fan  Temp  Perf  Pwr:Usage/Cap|         Memory-Usage | GPU-Util  Compute M. |\n",
      "|                               |                      |               MIG M. |\n",
      "|===============================+======================+======================|\n",
      "|   0  Tesla T4            Off  | 00000000:00:04.0 Off |                    0 |\n",
      "| N/A   72C    P0    33W /  70W |   3167MiB / 15079MiB |      0%      Default |\n",
      "|                               |                      |                 ERR! |\n",
      "+-------------------------------+----------------------+----------------------+\n",
      "                                                                               \n",
      "+-----------------------------------------------------------------------------+\n",
      "| Processes:                                                                  |\n",
      "|  GPU   GI   CI        PID   Type   Process name                  GPU Memory |\n",
      "|        ID   ID                                                   Usage      |\n",
      "|=============================================================================|\n",
      "|  No running processes found                                                 |\n",
      "+-----------------------------------------------------------------------------+\n"
     ]
    }
   ],
   "source": [
    "!nvidia-smi"
   ]
  },
  {
   "cell_type": "code",
   "execution_count": null,
   "metadata": {
    "colab": {},
    "colab_type": "code",
    "id": "8e6Dapd5zJiZ"
   },
   "outputs": [],
   "source": [
    "####### loading code from drive\n",
    "X_train = load('/content/drive/My Drive/X_train.npz')\n",
    "X_train = X_train.f.arr_0\n",
    "X_test = load('/content/drive/My Drive/X_test.npz')\n",
    "X_test = X_test.f.arr_0\n",
    "y_train = load('/content/drive/My Drive/y_train.npz')\n",
    "y_train = y_train.f.arr_0\n",
    "y_test = load('/content/drive/My Drive/y_test.npz')\n",
    "y_test = y_test.f.arr_0\n",
    "####### end of loading code"
   ]
  },
  {
   "cell_type": "code",
   "execution_count": null,
   "metadata": {
    "colab": {},
    "colab_type": "code",
    "id": "eutVqbkuzltt"
   },
   "outputs": [],
   "source": [
    "!cp -r \"/content/drive/My Drive/X_train.npz\" ./X_train.npz\n",
    "!cp -r \"/content/drive/My Drive/X_test.npz\" ./X_test.npz\n",
    "!cp -r \"/content/drive/My Drive/y_train.npz\" ./y_train.npz\n",
    "!cp -r \"/content/drive/My Drive/y_test.npz\" ./y_test.npz"
   ]
  },
  {
   "cell_type": "code",
   "execution_count": null,
   "metadata": {
    "colab": {},
    "colab_type": "code",
    "id": "e8Dn3bX1zuYz"
   },
   "outputs": [],
   "source": [
    "####### loading code from vm\n",
    "X_train = load('./X_train.npz')\n",
    "X_train = X_train.f.arr_0\n",
    "X_test = load('./X_test.npz')\n",
    "X_test = X_test.f.arr_0\n",
    "y_train = load('./y_train.npz')\n",
    "y_train = y_train.f.arr_0\n",
    "y_test = load('./y_test.npz')\n",
    "y_test = y_test.f.arr_0\n",
    "####### end of loading code"
   ]
  },
  {
   "cell_type": "code",
   "execution_count": null,
   "metadata": {
    "colab": {},
    "colab_type": "code",
    "id": "jVUIUASq0WSK"
   },
   "outputs": [],
   "source": [
    "# for shuffled data\n",
    "\n",
    "!cp -r \"/content/drive/My Drive/X_train_shuffled.npz\" ./X_train.npz\n",
    "!cp -r \"/content/drive/My Drive/X_test_shuffled.npz\" ./X_test.npz\n",
    "!cp -r \"/content/drive/My Drive/y_train_shuffled.npz\" ./y_train.npz\n",
    "!cp -r \"/content/drive/My Drive/y_test_shuffled.npz\" ./y_test.npz"
   ]
  },
  {
   "cell_type": "code",
   "execution_count": null,
   "metadata": {
    "colab": {},
    "colab_type": "code",
    "id": "dIl989ve9WKJ"
   },
   "outputs": [],
   "source": [
    "# for shuffled data\n",
    "####### loading code from vm\n",
    "X_train = load('./X_train.npz')\n",
    "X_train = X_train.f.arr_0\n",
    "X_test = load('./X_test.npz')\n",
    "X_test = X_test.f.arr_0\n",
    "y_train = load('./y_train.npz')\n",
    "y_train = y_train.f.arr_0\n",
    "y_test = load('./y_test.npz')\n",
    "y_test = y_test.f.arr_0\n",
    "####### end of loading code"
   ]
  },
  {
   "cell_type": "code",
   "execution_count": null,
   "metadata": {
    "colab": {},
    "colab_type": "code",
    "id": "3h1JH_tJXMSV"
   },
   "outputs": [],
   "source": []
  }
 ],
 "metadata": {
  "accelerator": "GPU",
  "colab": {
   "collapsed_sections": [],
   "name": "02_modeling-model_4/5 using comma.ai(4=relu, 5=elu).ipynb",
   "provenance": []
  },
  "kernelspec": {
   "display_name": "Python 3",
   "language": "python",
   "name": "python3"
  },
  "language_info": {
   "codemirror_mode": {
    "name": "ipython",
    "version": 3
   },
   "file_extension": ".py",
   "mimetype": "text/x-python",
   "name": "python",
   "nbconvert_exporter": "python",
   "pygments_lexer": "ipython3",
   "version": "3.7.6"
  }
 },
 "nbformat": 4,
 "nbformat_minor": 1
}
