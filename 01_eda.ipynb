{
 "cells": [
  {
   "cell_type": "markdown",
   "metadata": {},
   "source": [
    "<img src=\"http://imgur.com/1ZcRyrc.png\" style=\"float: left; margin: 20px; height: 85px\">\n",
    "\n",
    "# Capstone Project \n",
    "\n",
    "# Steering Angle Prediction\n",
    "\n",
    "by: Lee Melvin DSI-15"
   ]
  },
  {
   "cell_type": "markdown",
   "metadata": {},
   "source": [
    "## Notebook 01: EDA"
   ]
  },
  {
   "cell_type": "markdown",
   "metadata": {},
   "source": [
    "## Executive Summary"
   ]
  },
  {
   "cell_type": "markdown",
   "metadata": {},
   "source": [
    "The push for self-driving vehicles has increased dramatically over the last few years after the success of the DARPA\n",
    "Grand Challenge 2. An autonomous vehicle works seamlessly when multiple components come together and work in synergy. The most important parts are the various sensors and the AI software powering the vehicle. One of the most critical functions of the AI is to predict the steering angle of the vehicle for the stretch of road lying immediately in front of it and accordingly even steer the car. Increase in computational capabilities over the years allows us to train deep neural networks to become the ”brain” of these cars which then understands the surroundings of the car and makes navigation decisions in real time.   \n",
    "\n",
    "Comma.ai released 7 hours of driving footage which is available for open source usage. The data set of images was taken while a car was being manually driven, annotated with the corresponding steering angle applied by the human driver. The goal of one of the challenges was to find a model that, given an image taken while driving, will minimize for RMSE (root mean square error) between the model predictions and the actual steering angle.   \n",
    "\n",
    "In this project, we explore deep convolutional neural networks to predict steering angle values. Predicting the steering angle is one of the most important parts of creating a self-driving car. This task would allow us to explore the full power of neural networks, using only steering angle as the training signal, deep neural networks can automatically extract features from the images to help understand the position of the car with respect to the road to make the prediction.  \n",
    "\n",
    "Based on the dataset from comma.ai, my model was able to attain an overall RSME score of 0.805.  "
   ]
  },
  {
   "cell_type": "markdown",
   "metadata": {},
   "source": [
    "## Problem Statement\n",
    "\n",
    "To develop a Convolutional Neural Network-based regression model, based on Highway Driving Footage to determine if the model is capable of predicting the steering wheel angle. The evaluation metrics RMSE (root mean square error) where we try to minimise the value as much as possible."
   ]
  },
  {
   "cell_type": "markdown",
   "metadata": {},
   "source": [
    "## Content"
   ]
  },
  {
   "cell_type": "markdown",
   "metadata": {},
   "source": [
    "- [Import libraries](#Import-libraries)\n",
    "- [Dataset source information](#Dataset-source-information)\n",
    "- [Dataset summary](#Dataset-summary)\n",
    "- [Exploratory Data Analysis](#Exploratory-Data-Analysis)\n",
    "    - [Log1 Data](#Log1-Data)\n",
    "    - [Camera1 Data](#Camera1-Data)\n",
    "- [Pre-processing](#Pre-processing)   \n",
    "    - [Camera1 and log1](#Camera1-and-log1)   \n",
    "    - [Camera2 and log2](#Camera2-and-log2)   \n",
    "    - [Camera3 and log3](#Camera3-and-log3)   \n",
    "    - [Camera4 and log4](#Camera4-and-log4)   \n",
    "    - [Camera5 and log5](#Camera5-and-log5)   \n",
    "    - [Camera6 and log6](#Camera6-and-log6)   \n",
    "    - [Camera7 and log7](#Camera7-and-log7)   \n",
    "    - [Camera8 and log8](#Camera8-and-log8)   \n",
    "    - [Camera9 and log9](#Camera9-and-log9)   \n",
    "    - [Camera10 and log10](#Camera10-and-log10)   \n",
    "    - [Camera11 and log11](#Camera11-and-log11)"
   ]
  },
  {
   "cell_type": "markdown",
   "metadata": {},
   "source": [
    "## Import libraries"
   ]
  },
  {
   "cell_type": "code",
   "execution_count": 2,
   "metadata": {},
   "outputs": [],
   "source": [
    "import numpy as np\n",
    "import pandas as pd\n",
    "import matplotlib.pyplot as plt\n",
    "import h5py\n",
    "import cv2\n",
    "import imageio\n",
    "from numpy import asarray\n",
    "from numpy import savez_compressed"
   ]
  },
  {
   "cell_type": "markdown",
   "metadata": {},
   "source": [
    "## Dataset source information"
   ]
  },
  {
   "cell_type": "markdown",
   "metadata": {},
   "source": [
    "Source 1: `Udacity Self Driving Car` [Link](http://academictorrents.com/details/9b0c6c1044633d076b0f73dc312aa34433a25c56)\n",
    "- Include 3 cameras data; left, center and right in `ROSBag` format \n",
    "- Steering angles in `CSV` format\n",
    "- Size `70.19GB`\n",
    "\n",
    "Was initially facing issue with unpacking the dataset that was found from Udacity as it is in ROSBag format.  \n",
    "\n",
    "As I'm not running on UNIX OS (Linux, macOS) I was unable to find a viable solution to unpack ROSBag format using Windows. It will require me to run a virtual machine within Windows for ubuntu and then access the necessary scripts via docker container to extract the relevant dataset. I then decide to look at the alternative dataset from comma.ai which is in h5 format, this was much easier to deal with.\n",
    "\n",
    "Source 2: `comma.ai driving dataset` [Link](http://academictorrents.com/details/58c41e8bcc8eb4e2204a3b263cdf728c0a7331eb)\n",
    "- Contains only center camera data and the car's measurement data in `h5` format\n",
    "- 2016-01-30--11-24-51 (7.7G)\n",
    "- 2016-01-30--13-46-00 (8.5G)\n",
    "- 2016-01-31--19-19-25 (3.0G)\n",
    "- 2016-02-02--10-16-58 (8.1G)\n",
    "- 2016-02-08--14-56-28 (3.9G)\n",
    "- 2016-02-11--21-32-47 (13G)\n",
    "- 2016-03-29--10-50-20 (12G)\n",
    "- 2016-04-21--14-48-08 (4.4G)\n",
    "- 2016-05-12--22-20-00 (7.5G)\n",
    "- 2016-06-02--21-39-29 (6.5G)\n",
    "- 2016-06-08--11-46-01 (2.7G)\n",
    "- Size `80GB uncompressed`"
   ]
  },
  {
   "cell_type": "markdown",
   "metadata": {},
   "source": [
    "## Dataset summary"
   ]
  },
  {
   "cell_type": "markdown",
   "metadata": {},
   "source": [
    "Each individual dataset is labelled as followed throughout my notebook.\n",
    "\n",
    "- `camera1`, `log1`:   2016-01-30--11-24-51 \n",
    "- `camera2`, `log2`:   2016-01-30--13-46-00 \n",
    "- `camera3`, `log3`:   2016-01-31--19-19-25 \n",
    "- `camera4`, `log4`:   2016-02-02--10-16-58 \n",
    "- `camera5`, `log5`:   2016-02-08--14-56-28 \n",
    "- `camera6`, `log6`:   2016-02-11--21-32-47\n",
    "- `camera7`, `log7`:   2016-03-29--10-50-20 \n",
    "- `camera8`, `log8`:   2016-04-21--14-48-08 \n",
    "- `camera9`, `log9`:   2016-05-12--22-20-00\n",
    "- `camera10`, `log10`: 2016-06-02--21-39-29\n",
    "- `camera11`, `log11`: 2016-06-08--11-46-01\n",
    "\n",
    "`camera1`, `camera2`, `camera4`, `camera5`, `camera7`, `camera8`, `camera11` are day time footages.\n",
    "\n",
    "`camera3`, `camera6`, `camera9`, `camera10` are night time footages.\n",
    "\n",
    "`camera10` and `camera11` data are left untouched to use for unseen prediction (day & night) on our trained model."
   ]
  },
  {
   "cell_type": "markdown",
   "metadata": {},
   "source": [
    "## Exploratory Data Analysis "
   ]
  },
  {
   "cell_type": "markdown",
   "metadata": {},
   "source": [
    "A thorough run through of `camera1` and `log1` dataset will be explored as the sample of the entire flow. For the subsequent datasets, they are run through function for ease of analysis."
   ]
  },
  {
   "cell_type": "markdown",
   "metadata": {},
   "source": [
    "### Log1 Data"
   ]
  },
  {
   "cell_type": "markdown",
   "metadata": {},
   "source": [
    "With reference to https://github.com/commaai/research/blob/master/Logs.md for data dictionary, not much information is available apart from a few important ones that is of note\n",
    "\n",
    "- `cam1_ptr`: camera frame index at this time\n",
    "- `times`: seconds\n",
    "- `steering_torque`: deg/s, despite the name, this is the steering angle rate\n",
    "- `speed`: m/s, from encoder after transmission, negative when gear is Revese\n",
    "- `speed_abs`: m/s, from encoder after transmission\n",
    "- `gas`: 0-1\n",
    "- `brake`: brake_computer + brake_user"
   ]
  },
  {
   "cell_type": "code",
   "execution_count": 4,
   "metadata": {},
   "outputs": [],
   "source": [
    "# loading the data\n",
    "log1 = h5py.File('./datasets/log/2016-01-30--11-24-51.h5', 'r')"
   ]
  },
  {
   "cell_type": "code",
   "execution_count": 5,
   "metadata": {
    "scrolled": true
   },
   "outputs": [
    {
     "data": {
      "text/plain": [
       "<KeysViewHDF5 ['UN_D_cam1_ptr', 'UN_D_cam2_ptr', 'UN_D_camphone_ptr', 'UN_D_lidar_ptr', 'UN_D_radar_msg', 'UN_D_rawgps', 'UN_T_cam1_ptr', 'UN_T_cam2_ptr', 'UN_T_camphone_ptr', 'UN_T_lidar_ptr', 'UN_T_radar_msg', 'UN_T_rawgps', 'blinker', 'brake', 'brake_computer', 'brake_user', 'cam1_ptr', 'cam2_ptr', 'camphone_ptr', 'car_accel', 'fiber_accel', 'fiber_compass', 'fiber_compass_x', 'fiber_compass_y', 'fiber_compass_z', 'fiber_gyro', 'fiber_temperature', 'gas', 'gear_choice', 'gps_1_fix', 'gps_1_pos', 'gps_1_vel', 'gps_2_fix', 'gps_2_pos', 'gps_2_vel', 'idx', 'imu_accel', 'imu_compass', 'imu_gyro', 'rpm', 'rpm_post_torque', 'selfdrive', 'speed', 'speed_abs', 'speed_fl', 'speed_fr', 'speed_rl', 'speed_rr', 'standstill', 'steering_angle', 'steering_torque', 'times', 'velodyne_gps', 'velodyne_heading', 'velodyne_imu']>"
      ]
     },
     "execution_count": 5,
     "metadata": {},
     "output_type": "execute_result"
    }
   ],
   "source": [
    "# dataset is kept in a dictionary\n",
    "log1.keys()"
   ]
  },
  {
   "cell_type": "code",
   "execution_count": 6,
   "metadata": {},
   "outputs": [
    {
     "name": "stdout",
     "output_type": "stream",
     "text": [
      "<HDF5 dataset \"UN_D_cam1_ptr\": shape (52723,), type \"<i8\">\n",
      "<HDF5 dataset \"UN_D_cam2_ptr\": shape (52702,), type \"<i8\">\n",
      "<HDF5 dataset \"UN_D_camphone_ptr\": shape (78588,), type \"<i8\">\n",
      "<HDF5 dataset \"UN_D_lidar_ptr\": shape (4766772,), type \"<i8\">\n",
      "<HDF5 dataset \"UN_D_radar_msg\": shape (652149, 7), type \"<f8\">\n",
      "<HDF5 dataset \"UN_D_rawgps\": shape (110526,), type \"|S233\">\n",
      "<HDF5 dataset \"UN_T_cam1_ptr\": shape (52723,), type \"<f8\">\n",
      "<HDF5 dataset \"UN_T_cam2_ptr\": shape (52702,), type \"<f8\">\n",
      "<HDF5 dataset \"UN_T_camphone_ptr\": shape (78588,), type \"<f8\">\n",
      "<HDF5 dataset \"UN_T_lidar_ptr\": shape (4766772,), type \"<f8\">\n",
      "<HDF5 dataset \"UN_T_radar_msg\": shape (652149,), type \"<f8\">\n",
      "<HDF5 dataset \"UN_T_rawgps\": shape (110526,), type \"<f8\">\n",
      "<HDF5 dataset \"blinker\": shape (263583,), type \"<f8\">\n",
      "<HDF5 dataset \"brake\": shape (263583,), type \"<f8\">\n",
      "<HDF5 dataset \"brake_computer\": shape (263583,), type \"<f8\">\n",
      "<HDF5 dataset \"brake_user\": shape (263583,), type \"<f8\">\n",
      "<HDF5 dataset \"cam1_ptr\": shape (263583,), type \"<f8\">\n",
      "<HDF5 dataset \"cam2_ptr\": shape (263583,), type \"<f8\">\n",
      "<HDF5 dataset \"camphone_ptr\": shape (263583,), type \"<f8\">\n",
      "<HDF5 dataset \"car_accel\": shape (263583,), type \"<f8\">\n",
      "<HDF5 dataset \"fiber_accel\": shape (263583, 3), type \"<f8\">\n",
      "<HDF5 dataset \"fiber_compass\": shape (263583, 3), type \"<f8\">\n",
      "<HDF5 dataset \"fiber_compass_x\": shape (263583,), type \"<f8\">\n",
      "<HDF5 dataset \"fiber_compass_y\": shape (263583,), type \"<f8\">\n",
      "<HDF5 dataset \"fiber_compass_z\": shape (263583,), type \"<f8\">\n",
      "<HDF5 dataset \"fiber_gyro\": shape (263583, 3), type \"<f8\">\n",
      "<HDF5 dataset \"fiber_temperature\": shape (263583,), type \"<f8\">\n",
      "<HDF5 dataset \"gas\": shape (263583,), type \"<f8\">\n",
      "<HDF5 dataset \"gear_choice\": shape (263583,), type \"<f8\">\n",
      "<HDF5 dataset \"gps_1_fix\": shape (263583,), type \"<f8\">\n",
      "<HDF5 dataset \"gps_1_pos\": shape (263583, 3), type \"<f8\">\n",
      "<HDF5 dataset \"gps_1_vel\": shape (263583, 3), type \"<f8\">\n",
      "<HDF5 dataset \"gps_2_fix\": shape (263583,), type \"<f8\">\n",
      "<HDF5 dataset \"gps_2_pos\": shape (263583, 3), type \"<f8\">\n",
      "<HDF5 dataset \"gps_2_vel\": shape (263583, 3), type \"<f8\">\n",
      "<HDF5 dataset \"idx\": shape (263583,), type \"<i8\">\n",
      "<HDF5 dataset \"imu_accel\": shape (263583, 3), type \"<f8\">\n",
      "<HDF5 dataset \"imu_compass\": shape (263583, 3), type \"<f8\">\n",
      "<HDF5 dataset \"imu_gyro\": shape (263583, 3), type \"<f8\">\n",
      "<HDF5 dataset \"rpm\": shape (263583,), type \"<f8\">\n",
      "<HDF5 dataset \"rpm_post_torque\": shape (263583,), type \"<f8\">\n",
      "<HDF5 dataset \"selfdrive\": shape (263583,), type \"<f8\">\n",
      "<HDF5 dataset \"speed\": shape (263583,), type \"<f8\">\n",
      "<HDF5 dataset \"speed_abs\": shape (263583,), type \"<f8\">\n",
      "<HDF5 dataset \"speed_fl\": shape (263583,), type \"<f8\">\n",
      "<HDF5 dataset \"speed_fr\": shape (263583,), type \"<f8\">\n",
      "<HDF5 dataset \"speed_rl\": shape (263583,), type \"<f8\">\n",
      "<HDF5 dataset \"speed_rr\": shape (263583,), type \"<f8\">\n",
      "<HDF5 dataset \"standstill\": shape (263583,), type \"<f8\">\n",
      "<HDF5 dataset \"steering_angle\": shape (263583,), type \"<f8\">\n",
      "<HDF5 dataset \"steering_torque\": shape (263583,), type \"<f8\">\n",
      "<HDF5 dataset \"times\": shape (263583,), type \"<f8\">\n",
      "<HDF5 dataset \"velodyne_gps\": shape (263583, 3), type \"<f8\">\n",
      "<HDF5 dataset \"velodyne_heading\": shape (263583, 2), type \"<f8\">\n",
      "<HDF5 dataset \"velodyne_imu\": shape (263583, 12), type \"<f8\">\n"
     ]
    }
   ],
   "source": [
    "# print out every dictionary key and it's relevant shape and type\n",
    "for index in log1.keys():\n",
    "    print(log1[index])"
   ]
  },
  {
   "cell_type": "code",
   "execution_count": 9,
   "metadata": {},
   "outputs": [],
   "source": [
    "# convert the relevant keys and value pair that I require into a pandas dataframe\n",
    "log1 = pd.DataFrame({'cam1_ptr': log1['cam1_ptr'],\n",
    "                    'times': log1['times'],\n",
    "                    'steering_rate': log1['steering_torque'],\n",
    "                    'speed': log1['speed'],\n",
    "                    'speed_abs': log1['speed_abs'],\n",
    "                    'gas': log1['gas'],\n",
    "                    'brake': log1['brake']},\n",
    "                    columns = ['cam1_ptr', 'times', 'steering_rate', 'speed', 'speed_abs', 'gas', 'brake'])"
   ]
  },
  {
   "cell_type": "code",
   "execution_count": 10,
   "metadata": {},
   "outputs": [
    {
     "name": "stdout",
     "output_type": "stream",
     "text": [
      "<class 'pandas.core.frame.DataFrame'>\n",
      "RangeIndex: 263583 entries, 0 to 263582\n",
      "Data columns (total 7 columns):\n",
      " #   Column         Non-Null Count   Dtype  \n",
      "---  ------         --------------   -----  \n",
      " 0   cam1_ptr       263583 non-null  float64\n",
      " 1   times          263583 non-null  float64\n",
      " 2   steering_rate  263583 non-null  float64\n",
      " 3   speed          263583 non-null  float64\n",
      " 4   speed_abs      263583 non-null  float64\n",
      " 5   gas            263583 non-null  float64\n",
      " 6   brake          263583 non-null  float64\n",
      "dtypes: float64(7)\n",
      "memory usage: 14.1 MB\n"
     ]
    }
   ],
   "source": [
    "log1.info()"
   ]
  },
  {
   "cell_type": "code",
   "execution_count": 12,
   "metadata": {},
   "outputs": [
    {
     "data": {
      "text/html": [
       "<div>\n",
       "<style scoped>\n",
       "    .dataframe tbody tr th:only-of-type {\n",
       "        vertical-align: middle;\n",
       "    }\n",
       "\n",
       "    .dataframe tbody tr th {\n",
       "        vertical-align: top;\n",
       "    }\n",
       "\n",
       "    .dataframe thead th {\n",
       "        text-align: right;\n",
       "    }\n",
       "</style>\n",
       "<table border=\"1\" class=\"dataframe\">\n",
       "  <thead>\n",
       "    <tr style=\"text-align: right;\">\n",
       "      <th></th>\n",
       "      <th>cam1_ptr</th>\n",
       "      <th>times</th>\n",
       "      <th>steering_rate</th>\n",
       "      <th>speed</th>\n",
       "      <th>speed_abs</th>\n",
       "      <th>gas</th>\n",
       "      <th>brake</th>\n",
       "    </tr>\n",
       "  </thead>\n",
       "  <tbody>\n",
       "    <tr>\n",
       "      <th>263573</th>\n",
       "      <td>52720.0</td>\n",
       "      <td>2635.73</td>\n",
       "      <td>0.000000</td>\n",
       "      <td>0.0</td>\n",
       "      <td>0.0</td>\n",
       "      <td>0.0</td>\n",
       "      <td>736.0</td>\n",
       "    </tr>\n",
       "    <tr>\n",
       "      <th>263574</th>\n",
       "      <td>52720.0</td>\n",
       "      <td>2635.74</td>\n",
       "      <td>-0.136339</td>\n",
       "      <td>0.0</td>\n",
       "      <td>0.0</td>\n",
       "      <td>0.0</td>\n",
       "      <td>736.0</td>\n",
       "    </tr>\n",
       "    <tr>\n",
       "      <th>263575</th>\n",
       "      <td>52721.0</td>\n",
       "      <td>2635.75</td>\n",
       "      <td>-0.613665</td>\n",
       "      <td>0.0</td>\n",
       "      <td>0.0</td>\n",
       "      <td>0.0</td>\n",
       "      <td>736.0</td>\n",
       "    </tr>\n",
       "    <tr>\n",
       "      <th>263576</th>\n",
       "      <td>52721.0</td>\n",
       "      <td>2635.76</td>\n",
       "      <td>0.822937</td>\n",
       "      <td>0.0</td>\n",
       "      <td>0.0</td>\n",
       "      <td>0.0</td>\n",
       "      <td>736.0</td>\n",
       "    </tr>\n",
       "    <tr>\n",
       "      <th>263577</th>\n",
       "      <td>52721.0</td>\n",
       "      <td>2635.77</td>\n",
       "      <td>0.000000</td>\n",
       "      <td>0.0</td>\n",
       "      <td>0.0</td>\n",
       "      <td>0.0</td>\n",
       "      <td>736.0</td>\n",
       "    </tr>\n",
       "    <tr>\n",
       "      <th>263578</th>\n",
       "      <td>52721.0</td>\n",
       "      <td>2635.78</td>\n",
       "      <td>0.000000</td>\n",
       "      <td>0.0</td>\n",
       "      <td>0.0</td>\n",
       "      <td>0.0</td>\n",
       "      <td>736.0</td>\n",
       "    </tr>\n",
       "    <tr>\n",
       "      <th>263579</th>\n",
       "      <td>52721.0</td>\n",
       "      <td>2635.79</td>\n",
       "      <td>0.000000</td>\n",
       "      <td>0.0</td>\n",
       "      <td>0.0</td>\n",
       "      <td>0.0</td>\n",
       "      <td>736.0</td>\n",
       "    </tr>\n",
       "    <tr>\n",
       "      <th>263580</th>\n",
       "      <td>0.0</td>\n",
       "      <td>2635.80</td>\n",
       "      <td>0.000000</td>\n",
       "      <td>0.0</td>\n",
       "      <td>0.0</td>\n",
       "      <td>0.0</td>\n",
       "      <td>736.0</td>\n",
       "    </tr>\n",
       "    <tr>\n",
       "      <th>263581</th>\n",
       "      <td>0.0</td>\n",
       "      <td>2635.81</td>\n",
       "      <td>0.000000</td>\n",
       "      <td>0.0</td>\n",
       "      <td>0.0</td>\n",
       "      <td>0.0</td>\n",
       "      <td>736.0</td>\n",
       "    </tr>\n",
       "    <tr>\n",
       "      <th>263582</th>\n",
       "      <td>0.0</td>\n",
       "      <td>2635.82</td>\n",
       "      <td>0.000000</td>\n",
       "      <td>0.0</td>\n",
       "      <td>0.0</td>\n",
       "      <td>0.0</td>\n",
       "      <td>736.0</td>\n",
       "    </tr>\n",
       "  </tbody>\n",
       "</table>\n",
       "</div>"
      ],
      "text/plain": [
       "        cam1_ptr    times  steering_rate  speed  speed_abs  gas  brake\n",
       "263573   52720.0  2635.73       0.000000    0.0        0.0  0.0  736.0\n",
       "263574   52720.0  2635.74      -0.136339    0.0        0.0  0.0  736.0\n",
       "263575   52721.0  2635.75      -0.613665    0.0        0.0  0.0  736.0\n",
       "263576   52721.0  2635.76       0.822937    0.0        0.0  0.0  736.0\n",
       "263577   52721.0  2635.77       0.000000    0.0        0.0  0.0  736.0\n",
       "263578   52721.0  2635.78       0.000000    0.0        0.0  0.0  736.0\n",
       "263579   52721.0  2635.79       0.000000    0.0        0.0  0.0  736.0\n",
       "263580       0.0  2635.80       0.000000    0.0        0.0  0.0  736.0\n",
       "263581       0.0  2635.81       0.000000    0.0        0.0  0.0  736.0\n",
       "263582       0.0  2635.82       0.000000    0.0        0.0  0.0  736.0"
      ]
     },
     "execution_count": 12,
     "metadata": {},
     "output_type": "execute_result"
    }
   ],
   "source": [
    "log1.tail(10)"
   ]
  },
  {
   "cell_type": "code",
   "execution_count": 13,
   "metadata": {},
   "outputs": [],
   "source": [
    "# since the input data is at 100hz and the image data is at 20hz I took the mean value as the actual input for the \n",
    "# corresponding individual frame id (cam1_ptr)\n",
    "log1['steering_avg'] = log1.groupby('cam1_ptr')['steering_rate'].transform('mean')\n",
    "log1['brake_avg'] = log1.groupby('cam1_ptr')['brake'].transform('mean')\n",
    "log1['speed_avg'] = log1.groupby('cam1_ptr')['speed'].transform('mean')\n",
    "log1['gas_avg'] = log1.groupby('cam1_ptr')['gas'].transform('mean')"
   ]
  },
  {
   "cell_type": "code",
   "execution_count": 14,
   "metadata": {},
   "outputs": [
    {
     "data": {
      "text/html": [
       "<div>\n",
       "<style scoped>\n",
       "    .dataframe tbody tr th:only-of-type {\n",
       "        vertical-align: middle;\n",
       "    }\n",
       "\n",
       "    .dataframe tbody tr th {\n",
       "        vertical-align: top;\n",
       "    }\n",
       "\n",
       "    .dataframe thead th {\n",
       "        text-align: right;\n",
       "    }\n",
       "</style>\n",
       "<table border=\"1\" class=\"dataframe\">\n",
       "  <thead>\n",
       "    <tr style=\"text-align: right;\">\n",
       "      <th></th>\n",
       "      <th>cam1_ptr</th>\n",
       "      <th>times</th>\n",
       "      <th>steering_rate</th>\n",
       "      <th>speed</th>\n",
       "      <th>speed_abs</th>\n",
       "      <th>gas</th>\n",
       "      <th>brake</th>\n",
       "      <th>steering_avg</th>\n",
       "      <th>brake_avg</th>\n",
       "      <th>speed_avg</th>\n",
       "      <th>gas_avg</th>\n",
       "    </tr>\n",
       "  </thead>\n",
       "  <tbody>\n",
       "    <tr>\n",
       "      <th>0</th>\n",
       "      <td>0.0</td>\n",
       "      <td>0.00</td>\n",
       "      <td>0.0</td>\n",
       "      <td>0.0</td>\n",
       "      <td>0.0</td>\n",
       "      <td>0.0</td>\n",
       "      <td>63872.0</td>\n",
       "      <td>0.0</td>\n",
       "      <td>59662.933333</td>\n",
       "      <td>0.0</td>\n",
       "      <td>0.0</td>\n",
       "    </tr>\n",
       "    <tr>\n",
       "      <th>1</th>\n",
       "      <td>0.0</td>\n",
       "      <td>0.01</td>\n",
       "      <td>0.0</td>\n",
       "      <td>0.0</td>\n",
       "      <td>0.0</td>\n",
       "      <td>0.0</td>\n",
       "      <td>63872.0</td>\n",
       "      <td>0.0</td>\n",
       "      <td>59662.933333</td>\n",
       "      <td>0.0</td>\n",
       "      <td>0.0</td>\n",
       "    </tr>\n",
       "    <tr>\n",
       "      <th>2</th>\n",
       "      <td>0.0</td>\n",
       "      <td>0.02</td>\n",
       "      <td>0.0</td>\n",
       "      <td>0.0</td>\n",
       "      <td>0.0</td>\n",
       "      <td>0.0</td>\n",
       "      <td>63872.0</td>\n",
       "      <td>0.0</td>\n",
       "      <td>59662.933333</td>\n",
       "      <td>0.0</td>\n",
       "      <td>0.0</td>\n",
       "    </tr>\n",
       "    <tr>\n",
       "      <th>3</th>\n",
       "      <td>0.0</td>\n",
       "      <td>0.03</td>\n",
       "      <td>0.0</td>\n",
       "      <td>0.0</td>\n",
       "      <td>0.0</td>\n",
       "      <td>0.0</td>\n",
       "      <td>63872.0</td>\n",
       "      <td>0.0</td>\n",
       "      <td>59662.933333</td>\n",
       "      <td>0.0</td>\n",
       "      <td>0.0</td>\n",
       "    </tr>\n",
       "    <tr>\n",
       "      <th>4</th>\n",
       "      <td>0.0</td>\n",
       "      <td>0.04</td>\n",
       "      <td>0.0</td>\n",
       "      <td>0.0</td>\n",
       "      <td>0.0</td>\n",
       "      <td>0.0</td>\n",
       "      <td>63872.0</td>\n",
       "      <td>0.0</td>\n",
       "      <td>59662.933333</td>\n",
       "      <td>0.0</td>\n",
       "      <td>0.0</td>\n",
       "    </tr>\n",
       "  </tbody>\n",
       "</table>\n",
       "</div>"
      ],
      "text/plain": [
       "   cam1_ptr  times  steering_rate  speed  speed_abs  gas    brake  \\\n",
       "0       0.0   0.00            0.0    0.0        0.0  0.0  63872.0   \n",
       "1       0.0   0.01            0.0    0.0        0.0  0.0  63872.0   \n",
       "2       0.0   0.02            0.0    0.0        0.0  0.0  63872.0   \n",
       "3       0.0   0.03            0.0    0.0        0.0  0.0  63872.0   \n",
       "4       0.0   0.04            0.0    0.0        0.0  0.0  63872.0   \n",
       "\n",
       "   steering_avg     brake_avg  speed_avg  gas_avg  \n",
       "0           0.0  59662.933333        0.0      0.0  \n",
       "1           0.0  59662.933333        0.0      0.0  \n",
       "2           0.0  59662.933333        0.0      0.0  \n",
       "3           0.0  59662.933333        0.0      0.0  \n",
       "4           0.0  59662.933333        0.0      0.0  "
      ]
     },
     "execution_count": 14,
     "metadata": {},
     "output_type": "execute_result"
    }
   ],
   "source": [
    "log1.head()"
   ]
  },
  {
   "cell_type": "code",
   "execution_count": 16,
   "metadata": {},
   "outputs": [],
   "source": [
    "# the original 100hz input data is dropped for times, steering_rate, speed, speed_bas, gas, brake\n",
    "log1.drop(['steering_rate', 'speed', 'speed_abs', 'gas', 'brake'], axis=1, inplace=True)"
   ]
  },
  {
   "cell_type": "code",
   "execution_count": 17,
   "metadata": {},
   "outputs": [],
   "source": [
    "# keeping only 1 input for the relevant cam1_ptr id \n",
    "log1 = log1.drop_duplicates('cam1_ptr', keep='first', ignore_index=True)"
   ]
  },
  {
   "cell_type": "code",
   "execution_count": 19,
   "metadata": {},
   "outputs": [
    {
     "name": "stdout",
     "output_type": "stream",
     "text": [
      "<class 'pandas.core.frame.DataFrame'>\n",
      "RangeIndex: 52722 entries, 0 to 52721\n",
      "Data columns (total 6 columns):\n",
      " #   Column        Non-Null Count  Dtype  \n",
      "---  ------        --------------  -----  \n",
      " 0   cam1_ptr      52722 non-null  float64\n",
      " 1   times         52722 non-null  float64\n",
      " 2   steering_avg  52722 non-null  float64\n",
      " 3   brake_avg     52722 non-null  float64\n",
      " 4   speed_avg     52722 non-null  float64\n",
      " 5   gas_avg       52722 non-null  float64\n",
      "dtypes: float64(6)\n",
      "memory usage: 2.4 MB\n"
     ]
    }
   ],
   "source": [
    "log1.info()"
   ]
  },
  {
   "cell_type": "code",
   "execution_count": 40,
   "metadata": {},
   "outputs": [
    {
     "data": {
      "text/plain": [
       "(52722, 6)"
      ]
     },
     "execution_count": 40,
     "metadata": {},
     "output_type": "execute_result"
    }
   ],
   "source": [
    "# ensure that the log1 file has the same rows as camera1 file\n",
    "log1.shape"
   ]
  },
  {
   "cell_type": "code",
   "execution_count": 24,
   "metadata": {},
   "outputs": [
    {
     "data": {
      "image/png": "[encoded data removed]",
      "text/plain": [
       "<Figure size 1152x720 with 1 Axes>"
      ]
     },
     "metadata": {
      "needs_background": "light"
     },
     "output_type": "display_data"
    }
   ],
   "source": [
    "plt.figure(figsize = (16, 10))\n",
    "plt.title('Steering Angle of vehicle for Camera1', fontsize=20)\n",
    "plt.xlabel('Number of Image Frames', fontsize=15)\n",
    "plt.ylabel('Steering Angle (degrees)', fontsize=15)\n",
    "log1['steering_avg'].plot.line();"
   ]
  },
  {
   "cell_type": "code",
   "execution_count": 25,
   "metadata": {},
   "outputs": [
    {
     "data": {
      "image/png": "[encoded data removed]",
      "text/plain": [
       "<Figure size 1152x720 with 1 Axes>"
      ]
     },
     "metadata": {
      "needs_background": "light"
     },
     "output_type": "display_data"
    }
   ],
   "source": [
    "plt.figure(figsize = (16, 10))\n",
    "plt.title('Speed of vehicle for Camera1', fontsize=20)\n",
    "plt.xlabel('Number of Image Frames', fontsize=15)\n",
    "plt.ylabel('Speed (m/s)', fontsize=15)\n",
    "log1['speed_avg'].plot.line();"
   ]
  },
  {
   "cell_type": "code",
   "execution_count": 26,
   "metadata": {},
   "outputs": [
    {
     "data": {
      "image/png": "[encoded data removed]",
      "text/plain": [
       "<Figure size 1152x720 with 1 Axes>"
      ]
     },
     "metadata": {
      "needs_background": "light"
     },
     "output_type": "display_data"
    }
   ],
   "source": [
    "plt.figure(figsize = (16, 10))\n",
    "plt.title('Gas throttle of vehicle for Camera1', fontsize=20)\n",
    "plt.xlabel('Number of Image Frames', fontsize=15)\n",
    "plt.ylabel('Gas throttle (0-1)', fontsize=15)\n",
    "log1['gas_avg'].plot.line();"
   ]
  },
  {
   "cell_type": "code",
   "execution_count": 27,
   "metadata": {},
   "outputs": [
    {
     "data": {
      "image/png": "[encoded data removed]",
      "text/plain": [
       "<Figure size 1152x720 with 1 Axes>"
      ]
     },
     "metadata": {
      "needs_background": "light"
     },
     "output_type": "display_data"
    }
   ],
   "source": [
    "plt.figure(figsize = (16, 10))\n",
    "plt.title('Brake of vehicle for Camera1', fontsize=20)\n",
    "plt.xlabel('Number of Image Frames', fontsize=15)\n",
    "plt.ylabel('Brake', fontsize=15)\n",
    "log1['brake_avg'].plot.line();"
   ]
  },
  {
   "cell_type": "code",
   "execution_count": 30,
   "metadata": {},
   "outputs": [
    {
     "data": {
      "image/png": "[encoded data removed]",
      "text/plain": [
       "<Figure size 864x576 with 1 Axes>"
      ]
     },
     "metadata": {
      "needs_background": "light"
     },
     "output_type": "display_data"
    }
   ],
   "source": [
    "plt.figure(figsize = (12, 8))\n",
    "plt.title('Histogram of steering angle for Camera1', fontsize=20)\n",
    "plt.xlabel('Steering Angle (degrees)', fontsize=15)\n",
    "log1['steering_avg'].plot.hist();"
   ]
  },
  {
   "cell_type": "code",
   "execution_count": 31,
   "metadata": {},
   "outputs": [
    {
     "data": {
      "image/png": "[encoded data removed]",
      "text/plain": [
       "<Figure size 864x576 with 1 Axes>"
      ]
     },
     "metadata": {
      "needs_background": "light"
     },
     "output_type": "display_data"
    }
   ],
   "source": [
    "plt.figure(figsize = (12, 8))\n",
    "plt.title('Histogram of Speed for Camera1', fontsize=20)\n",
    "plt.xlabel('Speed (m/s)', fontsize=15)\n",
    "log1['speed_avg'].plot.hist();"
   ]
  },
  {
   "cell_type": "code",
   "execution_count": 33,
   "metadata": {},
   "outputs": [
    {
     "data": {
      "image/png": "[encoded data removed]",
      "text/plain": [
       "<Figure size 864x576 with 1 Axes>"
      ]
     },
     "metadata": {
      "needs_background": "light"
     },
     "output_type": "display_data"
    }
   ],
   "source": [
    "plt.figure(figsize = (12, 8))\n",
    "plt.title('Histogram of gas throttle for Camera1', fontsize=20)\n",
    "plt.xlabel('Gas throttle (0-1)', fontsize=15)\n",
    "log1['gas_avg'].plot.hist();"
   ]
  },
  {
   "cell_type": "code",
   "execution_count": 35,
   "metadata": {},
   "outputs": [
    {
     "data": {
      "image/png": "[encoded data removed]",
      "text/plain": [
       "<Figure size 1152x720 with 1 Axes>"
      ]
     },
     "metadata": {
      "needs_background": "light"
     },
     "output_type": "display_data"
    }
   ],
   "source": [
    "plt.figure(figsize = (16, 10))\n",
    "plt.title('Histogram of brake for Camera1', fontsize=20)\n",
    "plt.xlabel('Brake', fontsize=15)\n",
    "log1['brake_avg'].plot.hist();"
   ]
  },
  {
   "cell_type": "markdown",
   "metadata": {},
   "source": [
    "The parameters that is of interest for our specific case will only be the steering angle, we can see from the line plot as well as the bar plot that majority of the data is specific to minimal steering (within a range of 50 degrees clockwise and counter-clockwise) this is because majority of the dataset is of highway driving as is typically cruise speed and generally do not have steep turning curvature on the roads. The plots of the speed, gas throttle and braking also further show that majority of the dataset is of highway driving.\n",
    "\n",
    "Due to the lack of sufficient data for steering angles greater than 50 degrees, I would have to augment the data so as to ensure that the model will be capable of predicting large steering angles. However, upon research I was unable to find a decent way to augment the existing data to oversample large steering angles. I then proceeded to select for data only with larger steering angle and train a seperate model for predicting larger steering angles but even with data specific to larger steering angle I was unable to a low root mean square error (RMSE). I suspect that this is likely due to insufficient larger steering angles data for the model to generalise, another factor that might have result in poor performance is also due to the fact that the images are not labelled to show that which areas are roads/pedestrian paths, throttle, brake and speed is also not factored in. All these are areas of improvement that further projects can look into incorporating to improve the model performance."
   ]
  },
  {
   "cell_type": "markdown",
   "metadata": {},
   "source": [
    "### Camera1 Data"
   ]
  },
  {
   "cell_type": "code",
   "execution_count": 36,
   "metadata": {},
   "outputs": [],
   "source": [
    "camera1 = h5py.File('./datasets/camera/2016-01-30--11-24-51.h5', 'r')"
   ]
  },
  {
   "cell_type": "code",
   "execution_count": 37,
   "metadata": {},
   "outputs": [
    {
     "data": {
      "text/plain": [
       "<KeysViewHDF5 ['X']>"
      ]
     },
     "execution_count": 37,
     "metadata": {},
     "output_type": "execute_result"
    }
   ],
   "source": [
    "# data is in dictionary\n",
    "camera1.keys()"
   ]
  },
  {
   "cell_type": "code",
   "execution_count": 38,
   "metadata": {},
   "outputs": [],
   "source": [
    "camera1 = camera1['X']"
   ]
  },
  {
   "cell_type": "code",
   "execution_count": 39,
   "metadata": {},
   "outputs": [
    {
     "data": {
      "text/plain": [
       "(52722, 3, 160, 320)"
      ]
     },
     "execution_count": 39,
     "metadata": {},
     "output_type": "execute_result"
    }
   ],
   "source": [
    "# this are images in a numpy array\n",
    "camera1.shape"
   ]
  },
  {
   "cell_type": "code",
   "execution_count": 48,
   "metadata": {},
   "outputs": [],
   "source": [
    "\"\"\"\n",
    "opencv and matplotlib reads numpy arrays to images via rows, columns, channels so I'll have to manipulate the array to\n",
    "the correct format. I first take a single image and see if I'm manipulating the array properly\n",
    "\"\"\"\n",
    "single_image = camera1[2000]"
   ]
  },
  {
   "cell_type": "code",
   "execution_count": 49,
   "metadata": {},
   "outputs": [],
   "source": [
    "single_image = single_image.swapaxes(0, 2).swapaxes(0, 1)"
   ]
  },
  {
   "cell_type": "code",
   "execution_count": 50,
   "metadata": {},
   "outputs": [
    {
     "data": {
      "text/plain": [
       "(160, 320, 3)"
      ]
     },
     "execution_count": 50,
     "metadata": {},
     "output_type": "execute_result"
    }
   ],
   "source": [
    "single_image.shape"
   ]
  },
  {
   "cell_type": "code",
   "execution_count": 51,
   "metadata": {},
   "outputs": [
    {
     "data": {
      "image/png": "[encoded data removed]",
      "text/plain": [
       "<Figure size 432x288 with 1 Axes>"
      ]
     },
     "metadata": {
      "needs_background": "light"
     },
     "output_type": "display_data"
    }
   ],
   "source": [
    "plt.imshow(single_image);"
   ]
  },
  {
   "cell_type": "code",
   "execution_count": 94,
   "metadata": {},
   "outputs": [
    {
     "data": {
      "text/plain": [
       "(50, 3, 160, 320)"
      ]
     },
     "execution_count": 94,
     "metadata": {},
     "output_type": "execute_result"
    }
   ],
   "source": [
    "batch_image = camera1[2000:2050]\n",
    "batch_image.shape"
   ]
  },
  {
   "cell_type": "code",
   "execution_count": 95,
   "metadata": {},
   "outputs": [],
   "source": [
    "\"\"\"\n",
    "I then try a loop through a few images to see if my code works through a batch of numpy arrays\n",
    "\"\"\"\n",
    "empty_array = []\n",
    "\n",
    "for i in range(batch_image.shape[0]):\n",
    "    single_image = batch_image[i].swapaxes(0, 2).swapaxes(0, 1)\n",
    "    empty_array.append(single_image)\n",
    "    \n",
    "empty_array = np.array(empty_array)"
   ]
  },
  {
   "cell_type": "code",
   "execution_count": 96,
   "metadata": {},
   "outputs": [
    {
     "data": {
      "text/plain": [
       "(50, 160, 320, 3)"
      ]
     },
     "execution_count": 96,
     "metadata": {},
     "output_type": "execute_result"
    }
   ],
   "source": [
    "empty_array.shape"
   ]
  },
  {
   "cell_type": "code",
   "execution_count": 97,
   "metadata": {},
   "outputs": [
    {
     "data": {
      "image/png": "[encoded data removed]",
      "text/plain": [
       "<Figure size 432x288 with 1 Axes>"
      ]
     },
     "metadata": {
      "needs_background": "light"
     },
     "output_type": "display_data"
    }
   ],
   "source": [
    "plt.imshow(empty_array[0]);"
   ]
  },
  {
   "cell_type": "code",
   "execution_count": 100,
   "metadata": {},
   "outputs": [],
   "source": [
    "\"\"\"\n",
    "Now I create a function so that the entire Camera1 data can be iterate through\n",
    "I also added in a line of code to convert the 3 color channel image to grayscale to reduce the dataset size as I deem color\n",
    "to not be important in predicting the steering wheel angle\n",
    "\"\"\"\n",
    "def reshape_togray_function(variable, start, end):\n",
    "    empty_array = []   \n",
    "    \n",
    "    for i in range(start, end):\n",
    "        single_image = variable[i].swapaxes(0, 2).swapaxes(0, 1)\n",
    "        # convert the corrected image shape to grayscale\n",
    "        single_image = cv2.cvtColor(single_image, cv2.COLOR_RGB2GRAY)\n",
    "        empty_array.append(single_image)\n",
    "    \n",
    "    empty_array = np.array(empty_array)\n",
    "    return empty_array"
   ]
  },
  {
   "cell_type": "code",
   "execution_count": 101,
   "metadata": {},
   "outputs": [],
   "source": [
    "camera1 = reshape_togray_function(camera1, 0, camera1.shape[0])"
   ]
  },
  {
   "cell_type": "code",
   "execution_count": 102,
   "metadata": {},
   "outputs": [
    {
     "data": {
      "text/plain": [
       "(52722, 160, 320)"
      ]
     },
     "execution_count": 102,
     "metadata": {},
     "output_type": "execute_result"
    }
   ],
   "source": [
    "camera1.shape"
   ]
  },
  {
   "cell_type": "code",
   "execution_count": 103,
   "metadata": {},
   "outputs": [],
   "source": [
    "\"\"\"\n",
    "I also convert the camera1 numpy array into a video file to inspect the vehicle footage fps = 20 since data is 20 hz\n",
    "\"\"\"\n",
    "imageio.mimwrite('./video/camera1.mp4', camera1, fps= 20.0)"
   ]
  },
  {
   "cell_type": "code",
   "execution_count": 108,
   "metadata": {},
   "outputs": [
    {
     "data": {
      "image/png": "[encoded data removed]",
      "text/plain": [
       "<Figure size 432x288 with 1 Axes>"
      ]
     },
     "metadata": {
      "needs_background": "light"
     },
     "output_type": "display_data"
    }
   ],
   "source": [
    "plt.imshow(camera1[24746], cmap='gray');"
   ]
  },
  {
   "cell_type": "code",
   "execution_count": 109,
   "metadata": {},
   "outputs": [],
   "source": [
    "\"\"\"\n",
    "to further reduce the dataset size I reduce the image size by half to 80 x 160 and after inspecting the video I've decided\n",
    "brighten the images as there are segments in the video that are dark\n",
    "\"\"\"\n",
    "# credit https://stackoverflow.com/questions/32609098/how-to-fast-change-image-brightness-with-python-opencv\n",
    "# after some testing decided to use a value of 50\n",
    "\n",
    "def increase_brightness_resize(variable, value=50):\n",
    "    empty_array = []\n",
    "    \n",
    "    for i in range(variable.shape[0]):\n",
    "        # resizing\n",
    "        img = cv2.resize(variable[i], dsize=(160, 80), interpolation=cv2.INTER_AREA)\n",
    "        \n",
    "        # brightening\n",
    "        lim = 255 - value\n",
    "        img[img > lim] = 255\n",
    "        img[img <= lim] += value\n",
    "\n",
    "        empty_array.append(img)\n",
    "        \n",
    "    empty_array = np.array(empty_array)    \n",
    "    return empty_array"
   ]
  },
  {
   "cell_type": "code",
   "execution_count": 110,
   "metadata": {},
   "outputs": [],
   "source": [
    "camera1 = increase_brightness_resize(camera1)"
   ]
  },
  {
   "cell_type": "code",
   "execution_count": 114,
   "metadata": {},
   "outputs": [
    {
     "data": {
      "image/png": "[encoded data removed]",
      "text/plain": [
       "<Figure size 432x288 with 1 Axes>"
      ]
     },
     "metadata": {
      "needs_background": "light"
     },
     "output_type": "display_data"
    }
   ],
   "source": [
    "plt.imshow(camera1[24746], cmap='gray');"
   ]
  },
  {
   "cell_type": "code",
   "execution_count": 112,
   "metadata": {},
   "outputs": [
    {
     "data": {
      "text/plain": [
       "(52722, 80, 160)"
      ]
     },
     "execution_count": 112,
     "metadata": {},
     "output_type": "execute_result"
    }
   ],
   "source": [
    "camera1.shape"
   ]
  },
  {
   "cell_type": "markdown",
   "metadata": {},
   "source": [
    "## Pre-processing"
   ]
  },
  {
   "cell_type": "markdown",
   "metadata": {},
   "source": [
    "For `camera2` to `camera11` and `log2` to `log11` data they are run through a function and saved individual as `camera{number}_cleaned.npz` or `log{number}_cleaned.csv`."
   ]
  },
  {
   "cell_type": "markdown",
   "metadata": {},
   "source": [
    "`camera{number}` and `log{number}` steps:\n",
    "- load the h5py file for both camera and log\n",
    "- run the log file with the `log_file` function and check shape\n",
    "- run the camera file with `camera_file` function and check shape\n",
    "- convert the camera file `numpy.array` to a `.mp4` and check front and back of the video\n",
    "- comparison operator to find the relevant frame id\n",
    "- slice both the `camera` and `log` data\n",
    "- save both as `.npz` and `.csv` file respectively"
   ]
  },
  {
   "cell_type": "markdown",
   "metadata": {},
   "source": [
    "### Camera1 and log1"
   ]
  },
  {
   "cell_type": "code",
   "execution_count": 174,
   "metadata": {},
   "outputs": [
    {
     "data": {
      "text/plain": [
       "(52722, 6)"
      ]
     },
     "execution_count": 174,
     "metadata": {},
     "output_type": "execute_result"
    }
   ],
   "source": [
    "log1.shape"
   ]
  },
  {
   "cell_type": "code",
   "execution_count": 184,
   "metadata": {},
   "outputs": [
    {
     "data": {
      "text/plain": [
       "(52722, 80, 160)"
      ]
     },
     "execution_count": 184,
     "metadata": {},
     "output_type": "execute_result"
    }
   ],
   "source": [
    "camera1.shape"
   ]
  },
  {
   "cell_type": "code",
   "execution_count": 125,
   "metadata": {},
   "outputs": [
    {
     "data": {
      "text/html": [
       "<div>\n",
       "<style scoped>\n",
       "    .dataframe tbody tr th:only-of-type {\n",
       "        vertical-align: middle;\n",
       "    }\n",
       "\n",
       "    .dataframe tbody tr th {\n",
       "        vertical-align: top;\n",
       "    }\n",
       "\n",
       "    .dataframe thead th {\n",
       "        text-align: right;\n",
       "    }\n",
       "</style>\n",
       "<table border=\"1\" class=\"dataframe\">\n",
       "  <thead>\n",
       "    <tr style=\"text-align: right;\">\n",
       "      <th></th>\n",
       "      <th>cam1_ptr</th>\n",
       "      <th>times</th>\n",
       "      <th>steering_avg</th>\n",
       "      <th>brake_avg</th>\n",
       "      <th>speed_avg</th>\n",
       "      <th>gas_avg</th>\n",
       "    </tr>\n",
       "  </thead>\n",
       "  <tbody>\n",
       "    <tr>\n",
       "      <th>993</th>\n",
       "      <td>993.0</td>\n",
       "      <td>50.01</td>\n",
       "      <td>-7.115795</td>\n",
       "      <td>224.000000</td>\n",
       "      <td>7.115528</td>\n",
       "      <td>0.0</td>\n",
       "    </tr>\n",
       "    <tr>\n",
       "      <th>994</th>\n",
       "      <td>994.0</td>\n",
       "      <td>50.06</td>\n",
       "      <td>-17.286372</td>\n",
       "      <td>224.000000</td>\n",
       "      <td>7.117313</td>\n",
       "      <td>0.0</td>\n",
       "    </tr>\n",
       "    <tr>\n",
       "      <th>995</th>\n",
       "      <td>995.0</td>\n",
       "      <td>50.11</td>\n",
       "      <td>-17.658316</td>\n",
       "      <td>224.000000</td>\n",
       "      <td>7.190218</td>\n",
       "      <td>0.0</td>\n",
       "    </tr>\n",
       "    <tr>\n",
       "      <th>996</th>\n",
       "      <td>996.0</td>\n",
       "      <td>50.16</td>\n",
       "      <td>-9.442221</td>\n",
       "      <td>235.729266</td>\n",
       "      <td>7.183124</td>\n",
       "      <td>0.0</td>\n",
       "    </tr>\n",
       "    <tr>\n",
       "      <th>997</th>\n",
       "      <td>997.0</td>\n",
       "      <td>50.21</td>\n",
       "      <td>-4.526009</td>\n",
       "      <td>240.000000</td>\n",
       "      <td>7.216970</td>\n",
       "      <td>0.0</td>\n",
       "    </tr>\n",
       "  </tbody>\n",
       "</table>\n",
       "</div>"
      ],
      "text/plain": [
       "     cam1_ptr  times  steering_avg   brake_avg  speed_avg  gas_avg\n",
       "993     993.0  50.01     -7.115795  224.000000   7.115528      0.0\n",
       "994     994.0  50.06    -17.286372  224.000000   7.117313      0.0\n",
       "995     995.0  50.11    -17.658316  224.000000   7.190218      0.0\n",
       "996     996.0  50.16     -9.442221  235.729266   7.183124      0.0\n",
       "997     997.0  50.21     -4.526009  240.000000   7.216970      0.0"
      ]
     },
     "execution_count": 125,
     "metadata": {},
     "output_type": "execute_result"
    }
   ],
   "source": [
    "# after inspecting the video remove the first 50 seconds as it is not driving footage\n",
    "log1[log1.times > 50].head()"
   ]
  },
  {
   "cell_type": "code",
   "execution_count": 156,
   "metadata": {},
   "outputs": [
    {
     "data": {
      "text/plain": [
       "2612.75"
      ]
     },
     "execution_count": 156,
     "metadata": {},
     "output_type": "execute_result"
    }
   ],
   "source": [
    "# after inspecting the video remove the last 23 seconds as it is not driving footage\n",
    "log1.times.max()-23"
   ]
  },
  {
   "cell_type": "code",
   "execution_count": 157,
   "metadata": {},
   "outputs": [
    {
     "data": {
      "text/html": [
       "<div>\n",
       "<style scoped>\n",
       "    .dataframe tbody tr th:only-of-type {\n",
       "        vertical-align: middle;\n",
       "    }\n",
       "\n",
       "    .dataframe tbody tr th {\n",
       "        vertical-align: top;\n",
       "    }\n",
       "\n",
       "    .dataframe thead th {\n",
       "        text-align: right;\n",
       "    }\n",
       "</style>\n",
       "<table border=\"1\" class=\"dataframe\">\n",
       "  <thead>\n",
       "    <tr style=\"text-align: right;\">\n",
       "      <th></th>\n",
       "      <th>cam1_ptr</th>\n",
       "      <th>times</th>\n",
       "      <th>steering_avg</th>\n",
       "      <th>brake_avg</th>\n",
       "      <th>speed_avg</th>\n",
       "      <th>gas_avg</th>\n",
       "    </tr>\n",
       "  </thead>\n",
       "  <tbody>\n",
       "    <tr>\n",
       "      <th>52247</th>\n",
       "      <td>52247.0</td>\n",
       "      <td>2612.04</td>\n",
       "      <td>0.000000</td>\n",
       "      <td>421.809888</td>\n",
       "      <td>8.789809</td>\n",
       "      <td>0.0</td>\n",
       "    </tr>\n",
       "    <tr>\n",
       "      <th>52248</th>\n",
       "      <td>52248.0</td>\n",
       "      <td>2612.09</td>\n",
       "      <td>0.080956</td>\n",
       "      <td>402.808498</td>\n",
       "      <td>8.738562</td>\n",
       "      <td>0.0</td>\n",
       "    </tr>\n",
       "    <tr>\n",
       "      <th>52249</th>\n",
       "      <td>52249.0</td>\n",
       "      <td>2612.14</td>\n",
       "      <td>2.617178</td>\n",
       "      <td>400.000000</td>\n",
       "      <td>8.675009</td>\n",
       "      <td>0.0</td>\n",
       "    </tr>\n",
       "    <tr>\n",
       "      <th>52250</th>\n",
       "      <td>52250.0</td>\n",
       "      <td>2612.19</td>\n",
       "      <td>0.335280</td>\n",
       "      <td>407.082314</td>\n",
       "      <td>8.591185</td>\n",
       "      <td>0.0</td>\n",
       "    </tr>\n",
       "    <tr>\n",
       "      <th>52251</th>\n",
       "      <td>52251.0</td>\n",
       "      <td>2612.24</td>\n",
       "      <td>-0.202103</td>\n",
       "      <td>411.971299</td>\n",
       "      <td>8.524173</td>\n",
       "      <td>0.0</td>\n",
       "    </tr>\n",
       "  </tbody>\n",
       "</table>\n",
       "</div>"
      ],
      "text/plain": [
       "       cam1_ptr    times  steering_avg   brake_avg  speed_avg  gas_avg\n",
       "52247   52247.0  2612.04      0.000000  421.809888   8.789809      0.0\n",
       "52248   52248.0  2612.09      0.080956  402.808498   8.738562      0.0\n",
       "52249   52249.0  2612.14      2.617178  400.000000   8.675009      0.0\n",
       "52250   52250.0  2612.19      0.335280  407.082314   8.591185      0.0\n",
       "52251   52251.0  2612.24     -0.202103  411.971299   8.524173      0.0"
      ]
     },
     "execution_count": 157,
     "metadata": {},
     "output_type": "execute_result"
    }
   ],
   "source": [
    "log1[log1.times > 2612].head()"
   ]
  },
  {
   "cell_type": "code",
   "execution_count": 178,
   "metadata": {},
   "outputs": [],
   "source": [
    "log1 = log1.iloc[993:52247].reset_index(drop=True)"
   ]
  },
  {
   "cell_type": "code",
   "execution_count": 179,
   "metadata": {},
   "outputs": [
    {
     "data": {
      "text/plain": [
       "(51254, 6)"
      ]
     },
     "execution_count": 179,
     "metadata": {},
     "output_type": "execute_result"
    }
   ],
   "source": [
    "log1.shape"
   ]
  },
  {
   "cell_type": "code",
   "execution_count": 186,
   "metadata": {},
   "outputs": [],
   "source": [
    "camera1 = camera1[993:52247]"
   ]
  },
  {
   "cell_type": "code",
   "execution_count": 187,
   "metadata": {},
   "outputs": [
    {
     "data": {
      "text/plain": [
       "(51254, 80, 160)"
      ]
     },
     "execution_count": 187,
     "metadata": {},
     "output_type": "execute_result"
    }
   ],
   "source": [
    "camera1.shape"
   ]
  },
  {
   "cell_type": "code",
   "execution_count": 185,
   "metadata": {},
   "outputs": [],
   "source": [
    "log1.to_csv('./datasets/log1_cleaned.csv', index=False)"
   ]
  },
  {
   "cell_type": "code",
   "execution_count": 188,
   "metadata": {},
   "outputs": [],
   "source": [
    "savez_compressed('./datasets/camera1_cleaned.npz', camera1)"
   ]
  },
  {
   "cell_type": "markdown",
   "metadata": {},
   "source": [
    "### Camera2 and log2"
   ]
  },
  {
   "cell_type": "code",
   "execution_count": 117,
   "metadata": {},
   "outputs": [],
   "source": [
    "# fucntion for log\n",
    "def log_file(log):\n",
    "    \n",
    "    # convert the necessary columns of the logfile to dataframe\n",
    "    df = pd.DataFrame({'cam1_ptr': log['cam1_ptr'],\n",
    "                       'times': log['times'],\n",
    "                       'steering_rate': log['steering_torque'],\n",
    "                       'speed': log['speed'],\n",
    "                       'speed_abs': log['speed_abs'],\n",
    "                       'gas': log['gas'],\n",
    "                       'brake': log['brake']},\n",
    "                       columns = ['cam1_ptr', 'times', 'steering_rate', 'speed', 'speed_abs', 'gas', 'brake'])\n",
    "    \n",
    "    # mean transform them as from 100hz to 20hz    \n",
    "    df['steering_avg'] = df.groupby('cam1_ptr')['steering_rate'].transform('mean')\n",
    "    df['brake_avg'] = df.groupby('cam1_ptr')['brake'].transform('mean')\n",
    "    df['speed_avg'] = df.groupby('cam1_ptr')['speed'].transform('mean')\n",
    "    df['gas_avg'] = df.groupby('cam1_ptr')['gas'].transform('mean')\n",
    "    \n",
    "    # drop times, steering_rate, speed, speed_bas, gas, brake\n",
    "    df.drop(['steering_rate', 'speed', 'speed_abs', 'gas', 'brake'], axis=1, inplace=True)\n",
    "    \n",
    "    # keeping only 1 input for the relevant cam1_ptr id\n",
    "    df = df.drop_duplicates('cam1_ptr', keep='first', ignore_index=True)    \n",
    "    \n",
    "    return df"
   ]
  },
  {
   "cell_type": "code",
   "execution_count": 221,
   "metadata": {},
   "outputs": [],
   "source": [
    "# function for camera\n",
    "def camera_file(camera, start, end, value=50):    \n",
    "    empty_array = []\n",
    "    \n",
    "    for i in range(start, end):\n",
    "        # iterate through all the images and shift the image from RGB, height, width to height, width, RGB\n",
    "        img = camera[i].swapaxes(0, 2).swapaxes(0, 1)\n",
    "        \n",
    "        # convert to grayscale\n",
    "        img = cv2.cvtColor(img, cv2.COLOR_RGB2GRAY)\n",
    "        \n",
    "        # resize the image\n",
    "        img = cv2.resize(img, dsize=(160, 80), interpolation=cv2.INTER_AREA)\n",
    "        \n",
    "        # brighten the image\n",
    "        lim = 255 - value\n",
    "        img[img > lim] = 255\n",
    "        img[img <= lim] += value\n",
    "               \n",
    "        empty_array.append(img)\n",
    "        \n",
    "    empty_array = np.array(empty_array)    \n",
    "    return empty_array"
   ]
  },
  {
   "cell_type": "code",
   "execution_count": 189,
   "metadata": {},
   "outputs": [],
   "source": [
    "camera2 = h5py.File('./datasets/camera/2016-01-30--13-46-00.h5', 'r')\n",
    "log2 = h5py.File('./datasets/log/2016-01-30--13-46-00.h5', 'r')"
   ]
  },
  {
   "cell_type": "code",
   "execution_count": 195,
   "metadata": {},
   "outputs": [],
   "source": [
    "log2 = log_file(log2)"
   ]
  },
  {
   "cell_type": "code",
   "execution_count": 196,
   "metadata": {},
   "outputs": [
    {
     "data": {
      "text/plain": [
       "(58993, 6)"
      ]
     },
     "execution_count": 196,
     "metadata": {},
     "output_type": "execute_result"
    }
   ],
   "source": [
    "log2.shape"
   ]
  },
  {
   "cell_type": "code",
   "execution_count": 190,
   "metadata": {},
   "outputs": [],
   "source": [
    "camera2 = camera2['X']"
   ]
  },
  {
   "cell_type": "code",
   "execution_count": 191,
   "metadata": {},
   "outputs": [],
   "source": [
    "camera2 = camera_file(camera2, 0, camera2.shape[0])"
   ]
  },
  {
   "cell_type": "code",
   "execution_count": 192,
   "metadata": {},
   "outputs": [
    {
     "data": {
      "text/plain": [
       "(58993, 80, 160)"
      ]
     },
     "execution_count": 192,
     "metadata": {},
     "output_type": "execute_result"
    }
   ],
   "source": [
    "camera2.shape"
   ]
  },
  {
   "cell_type": "code",
   "execution_count": 115,
   "metadata": {},
   "outputs": [],
   "source": [
    "# write the array into a video to inspect\n",
    "imageio.mimwrite('./video/camera2.mp4', camera2, fps = 20.0)"
   ]
  },
  {
   "cell_type": "code",
   "execution_count": 197,
   "metadata": {},
   "outputs": [
    {
     "data": {
      "text/html": [
       "<div>\n",
       "<style scoped>\n",
       "    .dataframe tbody tr th:only-of-type {\n",
       "        vertical-align: middle;\n",
       "    }\n",
       "\n",
       "    .dataframe tbody tr th {\n",
       "        vertical-align: top;\n",
       "    }\n",
       "\n",
       "    .dataframe thead th {\n",
       "        text-align: right;\n",
       "    }\n",
       "</style>\n",
       "<table border=\"1\" class=\"dataframe\">\n",
       "  <thead>\n",
       "    <tr style=\"text-align: right;\">\n",
       "      <th></th>\n",
       "      <th>cam1_ptr</th>\n",
       "      <th>times</th>\n",
       "      <th>steering_avg</th>\n",
       "      <th>brake_avg</th>\n",
       "      <th>speed_avg</th>\n",
       "      <th>gas_avg</th>\n",
       "    </tr>\n",
       "  </thead>\n",
       "  <tbody>\n",
       "    <tr>\n",
       "      <th>0</th>\n",
       "      <td>0.0</td>\n",
       "      <td>0.00</td>\n",
       "      <td>0.0</td>\n",
       "      <td>61075.2</td>\n",
       "      <td>0.0</td>\n",
       "      <td>0.0</td>\n",
       "    </tr>\n",
       "    <tr>\n",
       "      <th>1</th>\n",
       "      <td>1.0</td>\n",
       "      <td>0.43</td>\n",
       "      <td>0.0</td>\n",
       "      <td>63872.0</td>\n",
       "      <td>0.0</td>\n",
       "      <td>0.0</td>\n",
       "    </tr>\n",
       "    <tr>\n",
       "      <th>2</th>\n",
       "      <td>2.0</td>\n",
       "      <td>0.48</td>\n",
       "      <td>0.0</td>\n",
       "      <td>63872.0</td>\n",
       "      <td>0.0</td>\n",
       "      <td>0.0</td>\n",
       "    </tr>\n",
       "    <tr>\n",
       "      <th>3</th>\n",
       "      <td>3.0</td>\n",
       "      <td>0.53</td>\n",
       "      <td>0.0</td>\n",
       "      <td>63872.0</td>\n",
       "      <td>0.0</td>\n",
       "      <td>0.0</td>\n",
       "    </tr>\n",
       "    <tr>\n",
       "      <th>4</th>\n",
       "      <td>4.0</td>\n",
       "      <td>0.58</td>\n",
       "      <td>0.0</td>\n",
       "      <td>63872.0</td>\n",
       "      <td>0.0</td>\n",
       "      <td>0.0</td>\n",
       "    </tr>\n",
       "  </tbody>\n",
       "</table>\n",
       "</div>"
      ],
      "text/plain": [
       "   cam1_ptr  times  steering_avg  brake_avg  speed_avg  gas_avg\n",
       "0       0.0   0.00           0.0    61075.2        0.0      0.0\n",
       "1       1.0   0.43           0.0    63872.0        0.0      0.0\n",
       "2       2.0   0.48           0.0    63872.0        0.0      0.0\n",
       "3       3.0   0.53           0.0    63872.0        0.0      0.0\n",
       "4       4.0   0.58           0.0    63872.0        0.0      0.0"
      ]
     },
     "execution_count": 197,
     "metadata": {},
     "output_type": "execute_result"
    }
   ],
   "source": [
    "log2.head()"
   ]
  },
  {
   "cell_type": "code",
   "execution_count": 198,
   "metadata": {
    "scrolled": true
   },
   "outputs": [
    {
     "data": {
      "text/html": [
       "<div>\n",
       "<style scoped>\n",
       "    .dataframe tbody tr th:only-of-type {\n",
       "        vertical-align: middle;\n",
       "    }\n",
       "\n",
       "    .dataframe tbody tr th {\n",
       "        vertical-align: top;\n",
       "    }\n",
       "\n",
       "    .dataframe thead th {\n",
       "        text-align: right;\n",
       "    }\n",
       "</style>\n",
       "<table border=\"1\" class=\"dataframe\">\n",
       "  <thead>\n",
       "    <tr style=\"text-align: right;\">\n",
       "      <th></th>\n",
       "      <th>cam1_ptr</th>\n",
       "      <th>times</th>\n",
       "      <th>steering_avg</th>\n",
       "      <th>brake_avg</th>\n",
       "      <th>speed_avg</th>\n",
       "      <th>gas_avg</th>\n",
       "    </tr>\n",
       "  </thead>\n",
       "  <tbody>\n",
       "    <tr>\n",
       "      <th>1393</th>\n",
       "      <td>1393.0</td>\n",
       "      <td>70.05</td>\n",
       "      <td>10.760033</td>\n",
       "      <td>0.0</td>\n",
       "      <td>6.527161</td>\n",
       "      <td>0.045226</td>\n",
       "    </tr>\n",
       "    <tr>\n",
       "      <th>1394</th>\n",
       "      <td>1394.0</td>\n",
       "      <td>70.10</td>\n",
       "      <td>2.803714</td>\n",
       "      <td>0.0</td>\n",
       "      <td>6.508989</td>\n",
       "      <td>0.069711</td>\n",
       "    </tr>\n",
       "    <tr>\n",
       "      <th>1395</th>\n",
       "      <td>1395.0</td>\n",
       "      <td>70.15</td>\n",
       "      <td>0.013955</td>\n",
       "      <td>0.0</td>\n",
       "      <td>6.485249</td>\n",
       "      <td>0.091983</td>\n",
       "    </tr>\n",
       "    <tr>\n",
       "      <th>1396</th>\n",
       "      <td>1396.0</td>\n",
       "      <td>70.20</td>\n",
       "      <td>-1.427901</td>\n",
       "      <td>0.0</td>\n",
       "      <td>6.476657</td>\n",
       "      <td>0.101571</td>\n",
       "    </tr>\n",
       "    <tr>\n",
       "      <th>1397</th>\n",
       "      <td>1397.0</td>\n",
       "      <td>70.25</td>\n",
       "      <td>-0.091623</td>\n",
       "      <td>0.0</td>\n",
       "      <td>6.495673</td>\n",
       "      <td>0.101961</td>\n",
       "    </tr>\n",
       "  </tbody>\n",
       "</table>\n",
       "</div>"
      ],
      "text/plain": [
       "      cam1_ptr  times  steering_avg  brake_avg  speed_avg   gas_avg\n",
       "1393    1393.0  70.05     10.760033        0.0   6.527161  0.045226\n",
       "1394    1394.0  70.10      2.803714        0.0   6.508989  0.069711\n",
       "1395    1395.0  70.15      0.013955        0.0   6.485249  0.091983\n",
       "1396    1396.0  70.20     -1.427901        0.0   6.476657  0.101571\n",
       "1397    1397.0  70.25     -0.091623        0.0   6.495673  0.101961"
      ]
     },
     "execution_count": 198,
     "metadata": {},
     "output_type": "execute_result"
    }
   ],
   "source": [
    "# remove the first 70 secs and last 70 seconds of the video\n",
    "log2[log2.times > 70].head()"
   ]
  },
  {
   "cell_type": "code",
   "execution_count": 200,
   "metadata": {},
   "outputs": [
    {
     "data": {
      "text/html": [
       "<div>\n",
       "<style scoped>\n",
       "    .dataframe tbody tr th:only-of-type {\n",
       "        vertical-align: middle;\n",
       "    }\n",
       "\n",
       "    .dataframe tbody tr th {\n",
       "        vertical-align: top;\n",
       "    }\n",
       "\n",
       "    .dataframe thead th {\n",
       "        text-align: right;\n",
       "    }\n",
       "</style>\n",
       "<table border=\"1\" class=\"dataframe\">\n",
       "  <thead>\n",
       "    <tr style=\"text-align: right;\">\n",
       "      <th></th>\n",
       "      <th>cam1_ptr</th>\n",
       "      <th>times</th>\n",
       "      <th>steering_avg</th>\n",
       "      <th>brake_avg</th>\n",
       "      <th>speed_avg</th>\n",
       "      <th>gas_avg</th>\n",
       "    </tr>\n",
       "  </thead>\n",
       "  <tbody>\n",
       "    <tr>\n",
       "      <th>57587</th>\n",
       "      <td>57587.0</td>\n",
       "      <td>2878.88</td>\n",
       "      <td>4.156757</td>\n",
       "      <td>0.0</td>\n",
       "      <td>13.917111</td>\n",
       "      <td>0.196078</td>\n",
       "    </tr>\n",
       "    <tr>\n",
       "      <th>57588</th>\n",
       "      <td>57588.0</td>\n",
       "      <td>2878.93</td>\n",
       "      <td>7.689037</td>\n",
       "      <td>0.0</td>\n",
       "      <td>13.941344</td>\n",
       "      <td>0.196078</td>\n",
       "    </tr>\n",
       "    <tr>\n",
       "      <th>57589</th>\n",
       "      <td>57589.0</td>\n",
       "      <td>2878.98</td>\n",
       "      <td>2.835349</td>\n",
       "      <td>0.0</td>\n",
       "      <td>13.976870</td>\n",
       "      <td>0.196078</td>\n",
       "    </tr>\n",
       "    <tr>\n",
       "      <th>57590</th>\n",
       "      <td>57590.0</td>\n",
       "      <td>2879.03</td>\n",
       "      <td>-4.163249</td>\n",
       "      <td>0.0</td>\n",
       "      <td>14.010618</td>\n",
       "      <td>0.196078</td>\n",
       "    </tr>\n",
       "    <tr>\n",
       "      <th>57591</th>\n",
       "      <td>57591.0</td>\n",
       "      <td>2879.08</td>\n",
       "      <td>0.339562</td>\n",
       "      <td>0.0</td>\n",
       "      <td>14.058012</td>\n",
       "      <td>0.196078</td>\n",
       "    </tr>\n",
       "  </tbody>\n",
       "</table>\n",
       "</div>"
      ],
      "text/plain": [
       "       cam1_ptr    times  steering_avg  brake_avg  speed_avg   gas_avg\n",
       "57587   57587.0  2878.88      4.156757        0.0  13.917111  0.196078\n",
       "57588   57588.0  2878.93      7.689037        0.0  13.941344  0.196078\n",
       "57589   57589.0  2878.98      2.835349        0.0  13.976870  0.196078\n",
       "57590   57590.0  2879.03     -4.163249        0.0  14.010618  0.196078\n",
       "57591   57591.0  2879.08      0.339562        0.0  14.058012  0.196078"
      ]
     },
     "execution_count": 200,
     "metadata": {},
     "output_type": "execute_result"
    }
   ],
   "source": [
    "log2[log2.times < log2.times.max()-70].tail()"
   ]
  },
  {
   "cell_type": "code",
   "execution_count": 201,
   "metadata": {},
   "outputs": [
    {
     "data": {
      "text/plain": [
       "(56198, 6)"
      ]
     },
     "execution_count": 201,
     "metadata": {},
     "output_type": "execute_result"
    }
   ],
   "source": [
    "log2 = log2.iloc[1393:57591].reset_index(drop=True)\n",
    "log2.shape"
   ]
  },
  {
   "cell_type": "code",
   "execution_count": 202,
   "metadata": {},
   "outputs": [
    {
     "data": {
      "text/plain": [
       "(56198, 80, 160)"
      ]
     },
     "execution_count": 202,
     "metadata": {},
     "output_type": "execute_result"
    }
   ],
   "source": [
    "camera2 = camera2[1393:57591]\n",
    "camera2.shape"
   ]
  },
  {
   "cell_type": "code",
   "execution_count": 124,
   "metadata": {},
   "outputs": [],
   "source": [
    "log2.to_csv('./datasets/log2_cleaned.csv', index=False)"
   ]
  },
  {
   "cell_type": "code",
   "execution_count": 128,
   "metadata": {},
   "outputs": [],
   "source": [
    "savez_compressed('./datasets/camera2_cleaned.npz', camera2)"
   ]
  },
  {
   "cell_type": "markdown",
   "metadata": {},
   "source": [
    "### Camera3 and log3"
   ]
  },
  {
   "cell_type": "code",
   "execution_count": 5,
   "metadata": {},
   "outputs": [],
   "source": [
    "camera3 = h5py.File('./datasets/camera/2016-01-31--19-19-25.h5', 'r')\n",
    "log3 = h5py.File('./datasets/log/2016-01-31--19-19-25.h5', 'r')"
   ]
  },
  {
   "cell_type": "code",
   "execution_count": 8,
   "metadata": {},
   "outputs": [],
   "source": [
    "log3 = log_file(log3)"
   ]
  },
  {
   "cell_type": "code",
   "execution_count": 18,
   "metadata": {},
   "outputs": [],
   "source": [
    "camera3 = camera3['X']"
   ]
  },
  {
   "cell_type": "code",
   "execution_count": 30,
   "metadata": {},
   "outputs": [],
   "source": [
    "camera3 = camera_file(camera3, 0, camera3.shape[0])"
   ]
  },
  {
   "cell_type": "code",
   "execution_count": 24,
   "metadata": {},
   "outputs": [],
   "source": [
    "imageio.mimwrite('./video/camera3.mp4', camera3, fps = 20.0)"
   ]
  },
  {
   "cell_type": "code",
   "execution_count": 25,
   "metadata": {},
   "outputs": [
    {
     "data": {
      "text/html": [
       "<div>\n",
       "<style scoped>\n",
       "    .dataframe tbody tr th:only-of-type {\n",
       "        vertical-align: middle;\n",
       "    }\n",
       "\n",
       "    .dataframe tbody tr th {\n",
       "        vertical-align: top;\n",
       "    }\n",
       "\n",
       "    .dataframe thead th {\n",
       "        text-align: right;\n",
       "    }\n",
       "</style>\n",
       "<table border=\"1\" class=\"dataframe\">\n",
       "  <thead>\n",
       "    <tr style=\"text-align: right;\">\n",
       "      <th></th>\n",
       "      <th>cam1_ptr</th>\n",
       "      <th>times</th>\n",
       "      <th>steering_avg</th>\n",
       "      <th>brake_avg</th>\n",
       "      <th>speed_avg</th>\n",
       "      <th>gas_avg</th>\n",
       "    </tr>\n",
       "  </thead>\n",
       "  <tbody>\n",
       "    <tr>\n",
       "      <th>1393</th>\n",
       "      <td>1393.0</td>\n",
       "      <td>70.02</td>\n",
       "      <td>-98.215141</td>\n",
       "      <td>0.000000</td>\n",
       "      <td>6.136454</td>\n",
       "      <td>0.0</td>\n",
       "    </tr>\n",
       "    <tr>\n",
       "      <th>1394</th>\n",
       "      <td>1394.0</td>\n",
       "      <td>70.07</td>\n",
       "      <td>-98.633551</td>\n",
       "      <td>-6.228104</td>\n",
       "      <td>6.188807</td>\n",
       "      <td>0.0</td>\n",
       "    </tr>\n",
       "    <tr>\n",
       "      <th>1395</th>\n",
       "      <td>1395.0</td>\n",
       "      <td>70.12</td>\n",
       "      <td>-82.528178</td>\n",
       "      <td>0.000000</td>\n",
       "      <td>6.238269</td>\n",
       "      <td>0.0</td>\n",
       "    </tr>\n",
       "    <tr>\n",
       "      <th>1396</th>\n",
       "      <td>1396.0</td>\n",
       "      <td>70.17</td>\n",
       "      <td>-61.396889</td>\n",
       "      <td>0.000000</td>\n",
       "      <td>6.258357</td>\n",
       "      <td>0.0</td>\n",
       "    </tr>\n",
       "    <tr>\n",
       "      <th>1397</th>\n",
       "      <td>1397.0</td>\n",
       "      <td>70.22</td>\n",
       "      <td>-37.284796</td>\n",
       "      <td>0.000000</td>\n",
       "      <td>6.278347</td>\n",
       "      <td>0.0</td>\n",
       "    </tr>\n",
       "  </tbody>\n",
       "</table>\n",
       "</div>"
      ],
      "text/plain": [
       "      cam1_ptr  times  steering_avg  brake_avg  speed_avg  gas_avg\n",
       "1393    1393.0  70.02    -98.215141   0.000000   6.136454      0.0\n",
       "1394    1394.0  70.07    -98.633551  -6.228104   6.188807      0.0\n",
       "1395    1395.0  70.12    -82.528178   0.000000   6.238269      0.0\n",
       "1396    1396.0  70.17    -61.396889   0.000000   6.258357      0.0\n",
       "1397    1397.0  70.22    -37.284796   0.000000   6.278347      0.0"
      ]
     },
     "execution_count": 25,
     "metadata": {},
     "output_type": "execute_result"
    }
   ],
   "source": [
    "log3[log3.times > 70].head()"
   ]
  },
  {
   "cell_type": "code",
   "execution_count": 26,
   "metadata": {},
   "outputs": [
    {
     "data": {
      "text/html": [
       "<div>\n",
       "<style scoped>\n",
       "    .dataframe tbody tr th:only-of-type {\n",
       "        vertical-align: middle;\n",
       "    }\n",
       "\n",
       "    .dataframe tbody tr th {\n",
       "        vertical-align: top;\n",
       "    }\n",
       "\n",
       "    .dataframe thead th {\n",
       "        text-align: right;\n",
       "    }\n",
       "</style>\n",
       "<table border=\"1\" class=\"dataframe\">\n",
       "  <thead>\n",
       "    <tr style=\"text-align: right;\">\n",
       "      <th></th>\n",
       "      <th>cam1_ptr</th>\n",
       "      <th>times</th>\n",
       "      <th>steering_avg</th>\n",
       "      <th>brake_avg</th>\n",
       "      <th>speed_avg</th>\n",
       "      <th>gas_avg</th>\n",
       "    </tr>\n",
       "  </thead>\n",
       "  <tbody>\n",
       "    <tr>\n",
       "      <th>18325</th>\n",
       "      <td>18325.0</td>\n",
       "      <td>916.68</td>\n",
       "      <td>-0.023122</td>\n",
       "      <td>0.0</td>\n",
       "      <td>14.633135</td>\n",
       "      <td>0.0</td>\n",
       "    </tr>\n",
       "    <tr>\n",
       "      <th>18326</th>\n",
       "      <td>18326.0</td>\n",
       "      <td>916.73</td>\n",
       "      <td>-0.175174</td>\n",
       "      <td>0.0</td>\n",
       "      <td>14.623865</td>\n",
       "      <td>0.0</td>\n",
       "    </tr>\n",
       "    <tr>\n",
       "      <th>18327</th>\n",
       "      <td>18327.0</td>\n",
       "      <td>916.78</td>\n",
       "      <td>0.009800</td>\n",
       "      <td>0.0</td>\n",
       "      <td>14.583540</td>\n",
       "      <td>0.0</td>\n",
       "    </tr>\n",
       "    <tr>\n",
       "      <th>18328</th>\n",
       "      <td>18328.0</td>\n",
       "      <td>916.83</td>\n",
       "      <td>-0.032937</td>\n",
       "      <td>0.0</td>\n",
       "      <td>14.579212</td>\n",
       "      <td>0.0</td>\n",
       "    </tr>\n",
       "    <tr>\n",
       "      <th>18329</th>\n",
       "      <td>18329.0</td>\n",
       "      <td>916.88</td>\n",
       "      <td>0.000000</td>\n",
       "      <td>0.0</td>\n",
       "      <td>14.549560</td>\n",
       "      <td>0.0</td>\n",
       "    </tr>\n",
       "  </tbody>\n",
       "</table>\n",
       "</div>"
      ],
      "text/plain": [
       "       cam1_ptr   times  steering_avg  brake_avg  speed_avg  gas_avg\n",
       "18325   18325.0  916.68     -0.023122        0.0  14.633135      0.0\n",
       "18326   18326.0  916.73     -0.175174        0.0  14.623865      0.0\n",
       "18327   18327.0  916.78      0.009800        0.0  14.583540      0.0\n",
       "18328   18328.0  916.83     -0.032937        0.0  14.579212      0.0\n",
       "18329   18329.0  916.88      0.000000        0.0  14.549560      0.0"
      ]
     },
     "execution_count": 26,
     "metadata": {},
     "output_type": "execute_result"
    }
   ],
   "source": [
    "log3[log3.times < log3.times.max()-70].tail()"
   ]
  },
  {
   "cell_type": "code",
   "execution_count": 27,
   "metadata": {},
   "outputs": [
    {
     "data": {
      "text/plain": [
       "(16936, 6)"
      ]
     },
     "execution_count": 27,
     "metadata": {},
     "output_type": "execute_result"
    }
   ],
   "source": [
    "log3 = log3.iloc[1393:18329].reset_index(drop=True)\n",
    "log3.to_csv('./datasets/log3_cleaned.csv', index=False)\n",
    "log3.shape"
   ]
  },
  {
   "cell_type": "code",
   "execution_count": 31,
   "metadata": {},
   "outputs": [
    {
     "data": {
      "text/plain": [
       "(16936, 80, 160)"
      ]
     },
     "execution_count": 31,
     "metadata": {},
     "output_type": "execute_result"
    }
   ],
   "source": [
    "camera3_full = camera3_full[1393:18329]\n",
    "camera3_full.shape"
   ]
  },
  {
   "cell_type": "code",
   "execution_count": 32,
   "metadata": {},
   "outputs": [],
   "source": [
    "savez_compressed('./datasets/camera3_cleaned.npz', camera3)"
   ]
  },
  {
   "cell_type": "markdown",
   "metadata": {},
   "source": [
    "### Camera4 and log4"
   ]
  },
  {
   "cell_type": "code",
   "execution_count": 33,
   "metadata": {},
   "outputs": [],
   "source": [
    "camera4 = h5py.File('./datasets/camera/2016-02-02--10-16-58.h5', 'r')\n",
    "log4 = h5py.File('./datasets/log/2016-02-02--10-16-58.h5', 'r')"
   ]
  },
  {
   "cell_type": "code",
   "execution_count": 34,
   "metadata": {},
   "outputs": [],
   "source": [
    "log4 = log_file(log4)"
   ]
  },
  {
   "cell_type": "code",
   "execution_count": 35,
   "metadata": {},
   "outputs": [],
   "source": [
    "camera4 = camera4['X']"
   ]
  },
  {
   "cell_type": "code",
   "execution_count": 36,
   "metadata": {},
   "outputs": [],
   "source": [
    "camera4 = camera_file(camera4, 0, camera4.shape[0])"
   ]
  },
  {
   "cell_type": "code",
   "execution_count": 37,
   "metadata": {},
   "outputs": [],
   "source": [
    "imageio.mimwrite('./video/camera4.mp4', camera4, fps = 20.0)"
   ]
  },
  {
   "cell_type": "code",
   "execution_count": 38,
   "metadata": {},
   "outputs": [
    {
     "data": {
      "text/html": [
       "<div>\n",
       "<style scoped>\n",
       "    .dataframe tbody tr th:only-of-type {\n",
       "        vertical-align: middle;\n",
       "    }\n",
       "\n",
       "    .dataframe tbody tr th {\n",
       "        vertical-align: top;\n",
       "    }\n",
       "\n",
       "    .dataframe thead th {\n",
       "        text-align: right;\n",
       "    }\n",
       "</style>\n",
       "<table border=\"1\" class=\"dataframe\">\n",
       "  <thead>\n",
       "    <tr style=\"text-align: right;\">\n",
       "      <th></th>\n",
       "      <th>cam1_ptr</th>\n",
       "      <th>times</th>\n",
       "      <th>steering_avg</th>\n",
       "      <th>brake_avg</th>\n",
       "      <th>speed_avg</th>\n",
       "      <th>gas_avg</th>\n",
       "    </tr>\n",
       "  </thead>\n",
       "  <tbody>\n",
       "    <tr>\n",
       "      <th>1394</th>\n",
       "      <td>1394.0</td>\n",
       "      <td>70.02</td>\n",
       "      <td>62.301337</td>\n",
       "      <td>422.266908</td>\n",
       "      <td>8.803201</td>\n",
       "      <td>0.0</td>\n",
       "    </tr>\n",
       "    <tr>\n",
       "      <th>1395</th>\n",
       "      <td>1395.0</td>\n",
       "      <td>70.07</td>\n",
       "      <td>71.007919</td>\n",
       "      <td>464.328331</td>\n",
       "      <td>8.781707</td>\n",
       "      <td>0.0</td>\n",
       "    </tr>\n",
       "    <tr>\n",
       "      <th>1396</th>\n",
       "      <td>1396.0</td>\n",
       "      <td>70.12</td>\n",
       "      <td>73.016028</td>\n",
       "      <td>503.683237</td>\n",
       "      <td>8.753239</td>\n",
       "      <td>0.0</td>\n",
       "    </tr>\n",
       "    <tr>\n",
       "      <th>1397</th>\n",
       "      <td>1397.0</td>\n",
       "      <td>70.17</td>\n",
       "      <td>67.291628</td>\n",
       "      <td>527.953115</td>\n",
       "      <td>8.721563</td>\n",
       "      <td>0.0</td>\n",
       "    </tr>\n",
       "    <tr>\n",
       "      <th>1398</th>\n",
       "      <td>1398.0</td>\n",
       "      <td>70.22</td>\n",
       "      <td>56.833939</td>\n",
       "      <td>513.568874</td>\n",
       "      <td>8.683254</td>\n",
       "      <td>0.0</td>\n",
       "    </tr>\n",
       "  </tbody>\n",
       "</table>\n",
       "</div>"
      ],
      "text/plain": [
       "      cam1_ptr  times  steering_avg   brake_avg  speed_avg  gas_avg\n",
       "1394    1394.0  70.02     62.301337  422.266908   8.803201      0.0\n",
       "1395    1395.0  70.07     71.007919  464.328331   8.781707      0.0\n",
       "1396    1396.0  70.12     73.016028  503.683237   8.753239      0.0\n",
       "1397    1397.0  70.17     67.291628  527.953115   8.721563      0.0\n",
       "1398    1398.0  70.22     56.833939  513.568874   8.683254      0.0"
      ]
     },
     "execution_count": 38,
     "metadata": {},
     "output_type": "execute_result"
    }
   ],
   "source": [
    "log4[log4.times > 70].head()"
   ]
  },
  {
   "cell_type": "code",
   "execution_count": 49,
   "metadata": {},
   "outputs": [
    {
     "data": {
      "text/html": [
       "<div>\n",
       "<style scoped>\n",
       "    .dataframe tbody tr th:only-of-type {\n",
       "        vertical-align: middle;\n",
       "    }\n",
       "\n",
       "    .dataframe tbody tr th {\n",
       "        vertical-align: top;\n",
       "    }\n",
       "\n",
       "    .dataframe thead th {\n",
       "        text-align: right;\n",
       "    }\n",
       "</style>\n",
       "<table border=\"1\" class=\"dataframe\">\n",
       "  <thead>\n",
       "    <tr style=\"text-align: right;\">\n",
       "      <th></th>\n",
       "      <th>cam1_ptr</th>\n",
       "      <th>times</th>\n",
       "      <th>steering_avg</th>\n",
       "      <th>brake_avg</th>\n",
       "      <th>speed_avg</th>\n",
       "      <th>gas_avg</th>\n",
       "    </tr>\n",
       "  </thead>\n",
       "  <tbody>\n",
       "    <tr>\n",
       "      <th>54760</th>\n",
       "      <td>54760.0</td>\n",
       "      <td>2737.54</td>\n",
       "      <td>42.003744</td>\n",
       "      <td>533.930005</td>\n",
       "      <td>1.851388</td>\n",
       "      <td>0.0</td>\n",
       "    </tr>\n",
       "    <tr>\n",
       "      <th>54761</th>\n",
       "      <td>54761.0</td>\n",
       "      <td>2737.59</td>\n",
       "      <td>52.564169</td>\n",
       "      <td>563.328780</td>\n",
       "      <td>1.804791</td>\n",
       "      <td>0.0</td>\n",
       "    </tr>\n",
       "    <tr>\n",
       "      <th>54762</th>\n",
       "      <td>54762.0</td>\n",
       "      <td>2737.64</td>\n",
       "      <td>65.054275</td>\n",
       "      <td>596.726541</td>\n",
       "      <td>1.723452</td>\n",
       "      <td>0.0</td>\n",
       "    </tr>\n",
       "    <tr>\n",
       "      <th>54763</th>\n",
       "      <td>54763.0</td>\n",
       "      <td>2737.69</td>\n",
       "      <td>84.955090</td>\n",
       "      <td>621.825916</td>\n",
       "      <td>1.643065</td>\n",
       "      <td>0.0</td>\n",
       "    </tr>\n",
       "    <tr>\n",
       "      <th>54764</th>\n",
       "      <td>54764.0</td>\n",
       "      <td>2737.74</td>\n",
       "      <td>107.745001</td>\n",
       "      <td>662.293359</td>\n",
       "      <td>1.569960</td>\n",
       "      <td>0.0</td>\n",
       "    </tr>\n",
       "  </tbody>\n",
       "</table>\n",
       "</div>"
      ],
      "text/plain": [
       "       cam1_ptr    times  steering_avg   brake_avg  speed_avg  gas_avg\n",
       "54760   54760.0  2737.54     42.003744  533.930005   1.851388      0.0\n",
       "54761   54761.0  2737.59     52.564169  563.328780   1.804791      0.0\n",
       "54762   54762.0  2737.64     65.054275  596.726541   1.723452      0.0\n",
       "54763   54763.0  2737.69     84.955090  621.825916   1.643065      0.0\n",
       "54764   54764.0  2737.74    107.745001  662.293359   1.569960      0.0"
      ]
     },
     "execution_count": 49,
     "metadata": {},
     "output_type": "execute_result"
    }
   ],
   "source": [
    "log4[log4.times < log4.times.max()-70].tail()"
   ]
  },
  {
   "cell_type": "code",
   "execution_count": 43,
   "metadata": {},
   "outputs": [
    {
     "data": {
      "text/plain": [
       "(53371, 6)"
      ]
     },
     "execution_count": 43,
     "metadata": {},
     "output_type": "execute_result"
    }
   ],
   "source": [
    "log4 = log4.iloc[1393:54764].reset_index(drop=True)\n",
    "log4.to_csv('./datasets/log4_cleaned.csv', index=False)\n",
    "log4.shape"
   ]
  },
  {
   "cell_type": "code",
   "execution_count": 44,
   "metadata": {},
   "outputs": [
    {
     "data": {
      "text/plain": [
       "(53371, 80, 160)"
      ]
     },
     "execution_count": 44,
     "metadata": {},
     "output_type": "execute_result"
    }
   ],
   "source": [
    "camera4_full = camera4_full[1393:54764]\n",
    "camera4_full.shape"
   ]
  },
  {
   "cell_type": "code",
   "execution_count": 45,
   "metadata": {},
   "outputs": [],
   "source": [
    "savez_compressed('./datasets/camera4_cleaned.npz', camera4)"
   ]
  },
  {
   "cell_type": "markdown",
   "metadata": {},
   "source": [
    "### Camera5 and log5"
   ]
  },
  {
   "cell_type": "code",
   "execution_count": 60,
   "metadata": {},
   "outputs": [],
   "source": [
    "camera5 = h5py.File('./datasets/camera/2016-02-08--14-56-28.h5', 'r')\n",
    "log5 = h5py.File('./datasets/log/2016-02-08--14-56-28.h5', 'r')"
   ]
  },
  {
   "cell_type": "code",
   "execution_count": 61,
   "metadata": {},
   "outputs": [],
   "source": [
    "log5 = log_file(log5)"
   ]
  },
  {
   "cell_type": "code",
   "execution_count": 62,
   "metadata": {},
   "outputs": [],
   "source": [
    "camera5 = camera5['X']"
   ]
  },
  {
   "cell_type": "code",
   "execution_count": 63,
   "metadata": {},
   "outputs": [],
   "source": [
    "camera5 = camera_file(camera5, 0, camera5.shape[0])\n",
    "imageio.mimwrite('./video/camera5.mp4', camera5, fps = 20.0)"
   ]
  },
  {
   "cell_type": "code",
   "execution_count": 64,
   "metadata": {},
   "outputs": [
    {
     "data": {
      "text/html": [
       "<div>\n",
       "<style scoped>\n",
       "    .dataframe tbody tr th:only-of-type {\n",
       "        vertical-align: middle;\n",
       "    }\n",
       "\n",
       "    .dataframe tbody tr th {\n",
       "        vertical-align: top;\n",
       "    }\n",
       "\n",
       "    .dataframe thead th {\n",
       "        text-align: right;\n",
       "    }\n",
       "</style>\n",
       "<table border=\"1\" class=\"dataframe\">\n",
       "  <thead>\n",
       "    <tr style=\"text-align: right;\">\n",
       "      <th></th>\n",
       "      <th>cam1_ptr</th>\n",
       "      <th>times</th>\n",
       "      <th>steering_avg</th>\n",
       "      <th>brake_avg</th>\n",
       "      <th>speed_avg</th>\n",
       "      <th>gas_avg</th>\n",
       "    </tr>\n",
       "  </thead>\n",
       "  <tbody>\n",
       "    <tr>\n",
       "      <th>1393</th>\n",
       "      <td>1393.0</td>\n",
       "      <td>70.01</td>\n",
       "      <td>-8.636638</td>\n",
       "      <td>14.825011</td>\n",
       "      <td>7.293059</td>\n",
       "      <td>0.0</td>\n",
       "    </tr>\n",
       "    <tr>\n",
       "      <th>1394</th>\n",
       "      <td>1394.0</td>\n",
       "      <td>70.06</td>\n",
       "      <td>-12.508818</td>\n",
       "      <td>66.292807</td>\n",
       "      <td>7.286059</td>\n",
       "      <td>0.0</td>\n",
       "    </tr>\n",
       "    <tr>\n",
       "      <th>1395</th>\n",
       "      <td>1395.0</td>\n",
       "      <td>70.11</td>\n",
       "      <td>-17.240353</td>\n",
       "      <td>32.990952</td>\n",
       "      <td>7.272765</td>\n",
       "      <td>0.0</td>\n",
       "    </tr>\n",
       "    <tr>\n",
       "      <th>1396</th>\n",
       "      <td>1396.0</td>\n",
       "      <td>70.16</td>\n",
       "      <td>-22.916833</td>\n",
       "      <td>32.720373</td>\n",
       "      <td>7.223831</td>\n",
       "      <td>0.0</td>\n",
       "    </tr>\n",
       "    <tr>\n",
       "      <th>1397</th>\n",
       "      <td>1397.0</td>\n",
       "      <td>70.21</td>\n",
       "      <td>-20.101494</td>\n",
       "      <td>47.021438</td>\n",
       "      <td>7.227238</td>\n",
       "      <td>0.0</td>\n",
       "    </tr>\n",
       "  </tbody>\n",
       "</table>\n",
       "</div>"
      ],
      "text/plain": [
       "      cam1_ptr  times  steering_avg  brake_avg  speed_avg  gas_avg\n",
       "1393    1393.0  70.01     -8.636638  14.825011   7.293059      0.0\n",
       "1394    1394.0  70.06    -12.508818  66.292807   7.286059      0.0\n",
       "1395    1395.0  70.11    -17.240353  32.990952   7.272765      0.0\n",
       "1396    1396.0  70.16    -22.916833  32.720373   7.223831      0.0\n",
       "1397    1397.0  70.21    -20.101494  47.021438   7.227238      0.0"
      ]
     },
     "execution_count": 64,
     "metadata": {},
     "output_type": "execute_result"
    }
   ],
   "source": [
    "log5[log5.times > 70].head()"
   ]
  },
  {
   "cell_type": "code",
   "execution_count": 65,
   "metadata": {},
   "outputs": [
    {
     "data": {
      "text/html": [
       "<div>\n",
       "<style scoped>\n",
       "    .dataframe tbody tr th:only-of-type {\n",
       "        vertical-align: middle;\n",
       "    }\n",
       "\n",
       "    .dataframe tbody tr th {\n",
       "        vertical-align: top;\n",
       "    }\n",
       "\n",
       "    .dataframe thead th {\n",
       "        text-align: right;\n",
       "    }\n",
       "</style>\n",
       "<table border=\"1\" class=\"dataframe\">\n",
       "  <thead>\n",
       "    <tr style=\"text-align: right;\">\n",
       "      <th></th>\n",
       "      <th>cam1_ptr</th>\n",
       "      <th>times</th>\n",
       "      <th>steering_avg</th>\n",
       "      <th>brake_avg</th>\n",
       "      <th>speed_avg</th>\n",
       "      <th>gas_avg</th>\n",
       "    </tr>\n",
       "  </thead>\n",
       "  <tbody>\n",
       "    <tr>\n",
       "      <th>24459</th>\n",
       "      <td>24459.0</td>\n",
       "      <td>1222.93</td>\n",
       "      <td>-0.825503</td>\n",
       "      <td>0.0</td>\n",
       "      <td>3.706873</td>\n",
       "      <td>0.0</td>\n",
       "    </tr>\n",
       "    <tr>\n",
       "      <th>24460</th>\n",
       "      <td>24460.0</td>\n",
       "      <td>1222.98</td>\n",
       "      <td>-5.847999</td>\n",
       "      <td>0.0</td>\n",
       "      <td>3.708035</td>\n",
       "      <td>0.0</td>\n",
       "    </tr>\n",
       "    <tr>\n",
       "      <th>24461</th>\n",
       "      <td>24461.0</td>\n",
       "      <td>1223.03</td>\n",
       "      <td>-7.954223</td>\n",
       "      <td>0.0</td>\n",
       "      <td>3.727094</td>\n",
       "      <td>0.0</td>\n",
       "    </tr>\n",
       "    <tr>\n",
       "      <th>24462</th>\n",
       "      <td>24462.0</td>\n",
       "      <td>1223.08</td>\n",
       "      <td>-11.303938</td>\n",
       "      <td>0.0</td>\n",
       "      <td>3.744405</td>\n",
       "      <td>0.0</td>\n",
       "    </tr>\n",
       "    <tr>\n",
       "      <th>24463</th>\n",
       "      <td>24463.0</td>\n",
       "      <td>1223.13</td>\n",
       "      <td>-6.333266</td>\n",
       "      <td>0.0</td>\n",
       "      <td>3.757353</td>\n",
       "      <td>0.0</td>\n",
       "    </tr>\n",
       "  </tbody>\n",
       "</table>\n",
       "</div>"
      ],
      "text/plain": [
       "       cam1_ptr    times  steering_avg  brake_avg  speed_avg  gas_avg\n",
       "24459   24459.0  1222.93     -0.825503        0.0   3.706873      0.0\n",
       "24460   24460.0  1222.98     -5.847999        0.0   3.708035      0.0\n",
       "24461   24461.0  1223.03     -7.954223        0.0   3.727094      0.0\n",
       "24462   24462.0  1223.08    -11.303938        0.0   3.744405      0.0\n",
       "24463   24463.0  1223.13     -6.333266        0.0   3.757353      0.0"
      ]
     },
     "execution_count": 65,
     "metadata": {},
     "output_type": "execute_result"
    }
   ],
   "source": [
    "log5[log5.times < log5.times.max()-70].tail()"
   ]
  },
  {
   "cell_type": "code",
   "execution_count": 67,
   "metadata": {},
   "outputs": [
    {
     "data": {
      "text/plain": [
       "(23070, 6)"
      ]
     },
     "execution_count": 67,
     "metadata": {},
     "output_type": "execute_result"
    }
   ],
   "source": [
    "log5 = log5.iloc[1393:24463].reset_index(drop=True)\n",
    "log5.to_csv('./datasets/log5_cleaned.csv', index=False)\n",
    "log5.shape"
   ]
  },
  {
   "cell_type": "code",
   "execution_count": 68,
   "metadata": {},
   "outputs": [
    {
     "data": {
      "text/plain": [
       "(23070, 80, 160)"
      ]
     },
     "execution_count": 68,
     "metadata": {},
     "output_type": "execute_result"
    }
   ],
   "source": [
    "camera5 = camera5[1393:24463]\n",
    "camera5.shape"
   ]
  },
  {
   "cell_type": "code",
   "execution_count": 69,
   "metadata": {},
   "outputs": [],
   "source": [
    "savez_compressed('./datasets/camera5_cleaned.npz', camera5)"
   ]
  },
  {
   "cell_type": "markdown",
   "metadata": {},
   "source": [
    "### Camera6 and log6"
   ]
  },
  {
   "cell_type": "code",
   "execution_count": 2,
   "metadata": {},
   "outputs": [],
   "source": [
    "camera6 = h5py.File('./datasets/camera/2016-02-11--21-32-47.h5', 'r')\n",
    "log6 = h5py.File('./datasets/log/2016-02-11--21-32-47.h5', 'r')"
   ]
  },
  {
   "cell_type": "code",
   "execution_count": 6,
   "metadata": {},
   "outputs": [],
   "source": [
    "log6 = log_file(log6)"
   ]
  },
  {
   "cell_type": "code",
   "execution_count": 7,
   "metadata": {},
   "outputs": [],
   "source": [
    "camera6 = camera6['X']"
   ]
  },
  {
   "cell_type": "code",
   "execution_count": 8,
   "metadata": {},
   "outputs": [],
   "source": [
    "camera6 = camera_file(camera6, 0, camera6.shape[0])\n",
    "imageio.mimwrite('./video/camera6.mp4', camera6, fps = 20.0)"
   ]
  },
  {
   "cell_type": "code",
   "execution_count": 9,
   "metadata": {},
   "outputs": [
    {
     "data": {
      "text/html": [
       "<div>\n",
       "<style scoped>\n",
       "    .dataframe tbody tr th:only-of-type {\n",
       "        vertical-align: middle;\n",
       "    }\n",
       "\n",
       "    .dataframe tbody tr th {\n",
       "        vertical-align: top;\n",
       "    }\n",
       "\n",
       "    .dataframe thead th {\n",
       "        text-align: right;\n",
       "    }\n",
       "</style>\n",
       "<table border=\"1\" class=\"dataframe\">\n",
       "  <thead>\n",
       "    <tr style=\"text-align: right;\">\n",
       "      <th></th>\n",
       "      <th>cam1_ptr</th>\n",
       "      <th>times</th>\n",
       "      <th>steering_avg</th>\n",
       "      <th>brake_avg</th>\n",
       "      <th>speed_avg</th>\n",
       "      <th>gas_avg</th>\n",
       "    </tr>\n",
       "  </thead>\n",
       "  <tbody>\n",
       "    <tr>\n",
       "      <th>1392</th>\n",
       "      <td>1392.0</td>\n",
       "      <td>70.02</td>\n",
       "      <td>-3.792857</td>\n",
       "      <td>582.638599</td>\n",
       "      <td>5.592924</td>\n",
       "      <td>0.0</td>\n",
       "    </tr>\n",
       "    <tr>\n",
       "      <th>1393</th>\n",
       "      <td>1393.0</td>\n",
       "      <td>70.07</td>\n",
       "      <td>-4.630903</td>\n",
       "      <td>592.000000</td>\n",
       "      <td>5.499412</td>\n",
       "      <td>0.0</td>\n",
       "    </tr>\n",
       "    <tr>\n",
       "      <th>1394</th>\n",
       "      <td>1394.0</td>\n",
       "      <td>70.12</td>\n",
       "      <td>-2.292748</td>\n",
       "      <td>605.003332</td>\n",
       "      <td>5.423653</td>\n",
       "      <td>0.0</td>\n",
       "    </tr>\n",
       "    <tr>\n",
       "      <th>1395</th>\n",
       "      <td>1395.0</td>\n",
       "      <td>70.17</td>\n",
       "      <td>-1.758689</td>\n",
       "      <td>608.000000</td>\n",
       "      <td>5.360296</td>\n",
       "      <td>0.0</td>\n",
       "    </tr>\n",
       "    <tr>\n",
       "      <th>1396</th>\n",
       "      <td>1396.0</td>\n",
       "      <td>70.22</td>\n",
       "      <td>-2.548027</td>\n",
       "      <td>608.000000</td>\n",
       "      <td>5.306765</td>\n",
       "      <td>0.0</td>\n",
       "    </tr>\n",
       "  </tbody>\n",
       "</table>\n",
       "</div>"
      ],
      "text/plain": [
       "      cam1_ptr  times  steering_avg   brake_avg  speed_avg  gas_avg\n",
       "1392    1392.0  70.02     -3.792857  582.638599   5.592924      0.0\n",
       "1393    1393.0  70.07     -4.630903  592.000000   5.499412      0.0\n",
       "1394    1394.0  70.12     -2.292748  605.003332   5.423653      0.0\n",
       "1395    1395.0  70.17     -1.758689  608.000000   5.360296      0.0\n",
       "1396    1396.0  70.22     -2.548027  608.000000   5.306765      0.0"
      ]
     },
     "execution_count": 9,
     "metadata": {},
     "output_type": "execute_result"
    }
   ],
   "source": [
    "log6[log6.times > 70].head()"
   ]
  },
  {
   "cell_type": "code",
   "execution_count": 10,
   "metadata": {},
   "outputs": [
    {
     "data": {
      "text/html": [
       "<div>\n",
       "<style scoped>\n",
       "    .dataframe tbody tr th:only-of-type {\n",
       "        vertical-align: middle;\n",
       "    }\n",
       "\n",
       "    .dataframe tbody tr th {\n",
       "        vertical-align: top;\n",
       "    }\n",
       "\n",
       "    .dataframe thead th {\n",
       "        text-align: right;\n",
       "    }\n",
       "</style>\n",
       "<table border=\"1\" class=\"dataframe\">\n",
       "  <thead>\n",
       "    <tr style=\"text-align: right;\">\n",
       "      <th></th>\n",
       "      <th>cam1_ptr</th>\n",
       "      <th>times</th>\n",
       "      <th>steering_avg</th>\n",
       "      <th>brake_avg</th>\n",
       "      <th>speed_avg</th>\n",
       "      <th>gas_avg</th>\n",
       "    </tr>\n",
       "  </thead>\n",
       "  <tbody>\n",
       "    <tr>\n",
       "      <th>83891</th>\n",
       "      <td>83891.0</td>\n",
       "      <td>4195.66</td>\n",
       "      <td>1.457981</td>\n",
       "      <td>29.707795</td>\n",
       "      <td>6.631122</td>\n",
       "      <td>0.0</td>\n",
       "    </tr>\n",
       "    <tr>\n",
       "      <th>83892</th>\n",
       "      <td>83892.0</td>\n",
       "      <td>4195.71</td>\n",
       "      <td>4.874661</td>\n",
       "      <td>72.968844</td>\n",
       "      <td>6.613590</td>\n",
       "      <td>0.0</td>\n",
       "    </tr>\n",
       "    <tr>\n",
       "      <th>83893</th>\n",
       "      <td>83893.0</td>\n",
       "      <td>4195.76</td>\n",
       "      <td>0.004126</td>\n",
       "      <td>39.098774</td>\n",
       "      <td>6.625825</td>\n",
       "      <td>0.0</td>\n",
       "    </tr>\n",
       "    <tr>\n",
       "      <th>83894</th>\n",
       "      <td>83894.0</td>\n",
       "      <td>4195.81</td>\n",
       "      <td>-5.973089</td>\n",
       "      <td>24.806402</td>\n",
       "      <td>6.602556</td>\n",
       "      <td>0.0</td>\n",
       "    </tr>\n",
       "    <tr>\n",
       "      <th>83895</th>\n",
       "      <td>83895.0</td>\n",
       "      <td>4195.86</td>\n",
       "      <td>-8.889174</td>\n",
       "      <td>16.000000</td>\n",
       "      <td>6.604148</td>\n",
       "      <td>0.0</td>\n",
       "    </tr>\n",
       "  </tbody>\n",
       "</table>\n",
       "</div>"
      ],
      "text/plain": [
       "       cam1_ptr    times  steering_avg  brake_avg  speed_avg  gas_avg\n",
       "83891   83891.0  4195.66      1.457981  29.707795   6.631122      0.0\n",
       "83892   83892.0  4195.71      4.874661  72.968844   6.613590      0.0\n",
       "83893   83893.0  4195.76      0.004126  39.098774   6.625825      0.0\n",
       "83894   83894.0  4195.81     -5.973089  24.806402   6.602556      0.0\n",
       "83895   83895.0  4195.86     -8.889174  16.000000   6.604148      0.0"
      ]
     },
     "execution_count": 10,
     "metadata": {},
     "output_type": "execute_result"
    }
   ],
   "source": [
    "log6[log6.times < log6.times.max()-70].tail()"
   ]
  },
  {
   "cell_type": "code",
   "execution_count": 11,
   "metadata": {},
   "outputs": [
    {
     "data": {
      "text/plain": [
       "(82503, 6)"
      ]
     },
     "execution_count": 11,
     "metadata": {},
     "output_type": "execute_result"
    }
   ],
   "source": [
    "log6 = log6.iloc[1392:83895].reset_index(drop=True)\n",
    "log6.to_csv('./datasets/log6_cleaned.csv', index=False)\n",
    "log6.shape"
   ]
  },
  {
   "cell_type": "code",
   "execution_count": 12,
   "metadata": {},
   "outputs": [
    {
     "data": {
      "text/plain": [
       "(82503, 80, 160)"
      ]
     },
     "execution_count": 12,
     "metadata": {},
     "output_type": "execute_result"
    }
   ],
   "source": [
    "camera6 = camera6[1392:83895]\n",
    "camera6.shape"
   ]
  },
  {
   "cell_type": "code",
   "execution_count": 13,
   "metadata": {},
   "outputs": [],
   "source": [
    "savez_compressed('./datasets/camera6_cleaned.npz', camera6)"
   ]
  },
  {
   "cell_type": "markdown",
   "metadata": {},
   "source": [
    "### Camera7 and log7"
   ]
  },
  {
   "cell_type": "code",
   "execution_count": 132,
   "metadata": {},
   "outputs": [],
   "source": [
    "camera7 = h5py.File('./datasets/camera/2016-03-29--10-50-20.h5', 'r')\n",
    "log7 = h5py.File('./datasets/log/2016-03-29--10-50-20.h5', 'r')"
   ]
  },
  {
   "cell_type": "code",
   "execution_count": 133,
   "metadata": {},
   "outputs": [],
   "source": [
    "log7 = log_file(log7)"
   ]
  },
  {
   "cell_type": "code",
   "execution_count": 134,
   "metadata": {},
   "outputs": [],
   "source": [
    "camera7 = camera7['X']"
   ]
  },
  {
   "cell_type": "code",
   "execution_count": 135,
   "metadata": {},
   "outputs": [],
   "source": [
    "camera7 = camera_file(camera7, 0, camera7.shape[0])"
   ]
  },
  {
   "cell_type": "code",
   "execution_count": 28,
   "metadata": {},
   "outputs": [],
   "source": [
    "imageio.mimwrite('./video/camera7.mp4', camera7, fps = 20.0)"
   ]
  },
  {
   "cell_type": "code",
   "execution_count": 136,
   "metadata": {},
   "outputs": [
    {
     "data": {
      "text/html": [
       "<div>\n",
       "<style scoped>\n",
       "    .dataframe tbody tr th:only-of-type {\n",
       "        vertical-align: middle;\n",
       "    }\n",
       "\n",
       "    .dataframe tbody tr th {\n",
       "        vertical-align: top;\n",
       "    }\n",
       "\n",
       "    .dataframe thead th {\n",
       "        text-align: right;\n",
       "    }\n",
       "</style>\n",
       "<table border=\"1\" class=\"dataframe\">\n",
       "  <thead>\n",
       "    <tr style=\"text-align: right;\">\n",
       "      <th></th>\n",
       "      <th>cam1_ptr</th>\n",
       "      <th>times</th>\n",
       "      <th>steering_avg</th>\n",
       "      <th>brake_avg</th>\n",
       "      <th>speed_avg</th>\n",
       "      <th>gas_avg</th>\n",
       "    </tr>\n",
       "  </thead>\n",
       "  <tbody>\n",
       "    <tr>\n",
       "      <th>3000</th>\n",
       "      <td>3000.0</td>\n",
       "      <td>150.05</td>\n",
       "      <td>35.868796</td>\n",
       "      <td>0.0</td>\n",
       "      <td>5.893489</td>\n",
       "      <td>0.172549</td>\n",
       "    </tr>\n",
       "    <tr>\n",
       "      <th>3001</th>\n",
       "      <td>3001.0</td>\n",
       "      <td>150.10</td>\n",
       "      <td>23.984280</td>\n",
       "      <td>0.0</td>\n",
       "      <td>5.948199</td>\n",
       "      <td>0.172549</td>\n",
       "    </tr>\n",
       "    <tr>\n",
       "      <th>3002</th>\n",
       "      <td>3002.0</td>\n",
       "      <td>150.15</td>\n",
       "      <td>11.283511</td>\n",
       "      <td>0.0</td>\n",
       "      <td>5.979009</td>\n",
       "      <td>0.172135</td>\n",
       "    </tr>\n",
       "    <tr>\n",
       "      <th>3003</th>\n",
       "      <td>3003.0</td>\n",
       "      <td>150.21</td>\n",
       "      <td>0.004924</td>\n",
       "      <td>0.0</td>\n",
       "      <td>6.056111</td>\n",
       "      <td>0.165947</td>\n",
       "    </tr>\n",
       "    <tr>\n",
       "      <th>3004</th>\n",
       "      <td>3004.0</td>\n",
       "      <td>150.25</td>\n",
       "      <td>1.515104</td>\n",
       "      <td>0.0</td>\n",
       "      <td>6.148609</td>\n",
       "      <td>0.162542</td>\n",
       "    </tr>\n",
       "  </tbody>\n",
       "</table>\n",
       "</div>"
      ],
      "text/plain": [
       "      cam1_ptr   times  steering_avg  brake_avg  speed_avg   gas_avg\n",
       "3000    3000.0  150.05     35.868796        0.0   5.893489  0.172549\n",
       "3001    3001.0  150.10     23.984280        0.0   5.948199  0.172549\n",
       "3002    3002.0  150.15     11.283511        0.0   5.979009  0.172135\n",
       "3003    3003.0  150.21      0.004924        0.0   6.056111  0.165947\n",
       "3004    3004.0  150.25      1.515104        0.0   6.148609  0.162542"
      ]
     },
     "execution_count": 136,
     "metadata": {},
     "output_type": "execute_result"
    }
   ],
   "source": [
    "log7[log7.times > 150].head()"
   ]
  },
  {
   "cell_type": "code",
   "execution_count": 137,
   "metadata": {},
   "outputs": [
    {
     "data": {
      "text/html": [
       "<div>\n",
       "<style scoped>\n",
       "    .dataframe tbody tr th:only-of-type {\n",
       "        vertical-align: middle;\n",
       "    }\n",
       "\n",
       "    .dataframe tbody tr th {\n",
       "        vertical-align: top;\n",
       "    }\n",
       "\n",
       "    .dataframe thead th {\n",
       "        text-align: right;\n",
       "    }\n",
       "</style>\n",
       "<table border=\"1\" class=\"dataframe\">\n",
       "  <thead>\n",
       "    <tr style=\"text-align: right;\">\n",
       "      <th></th>\n",
       "      <th>cam1_ptr</th>\n",
       "      <th>times</th>\n",
       "      <th>steering_avg</th>\n",
       "      <th>brake_avg</th>\n",
       "      <th>speed_avg</th>\n",
       "      <th>gas_avg</th>\n",
       "    </tr>\n",
       "  </thead>\n",
       "  <tbody>\n",
       "    <tr>\n",
       "      <th>77056</th>\n",
       "      <td>77056.0</td>\n",
       "      <td>3851.51</td>\n",
       "      <td>-1.091836</td>\n",
       "      <td>0.0</td>\n",
       "      <td>15.575829</td>\n",
       "      <td>0.258824</td>\n",
       "    </tr>\n",
       "    <tr>\n",
       "      <th>77057</th>\n",
       "      <td>77057.0</td>\n",
       "      <td>3851.56</td>\n",
       "      <td>-3.230857</td>\n",
       "      <td>0.0</td>\n",
       "      <td>15.642015</td>\n",
       "      <td>0.258824</td>\n",
       "    </tr>\n",
       "    <tr>\n",
       "      <th>77058</th>\n",
       "      <td>77058.0</td>\n",
       "      <td>3851.61</td>\n",
       "      <td>0.253091</td>\n",
       "      <td>0.0</td>\n",
       "      <td>15.710250</td>\n",
       "      <td>0.258824</td>\n",
       "    </tr>\n",
       "    <tr>\n",
       "      <th>77059</th>\n",
       "      <td>77059.0</td>\n",
       "      <td>3851.66</td>\n",
       "      <td>1.946951</td>\n",
       "      <td>0.0</td>\n",
       "      <td>15.749563</td>\n",
       "      <td>0.258824</td>\n",
       "    </tr>\n",
       "    <tr>\n",
       "      <th>77060</th>\n",
       "      <td>77060.0</td>\n",
       "      <td>3851.71</td>\n",
       "      <td>2.043574</td>\n",
       "      <td>0.0</td>\n",
       "      <td>15.808795</td>\n",
       "      <td>0.258824</td>\n",
       "    </tr>\n",
       "  </tbody>\n",
       "</table>\n",
       "</div>"
      ],
      "text/plain": [
       "       cam1_ptr    times  steering_avg  brake_avg  speed_avg   gas_avg\n",
       "77056   77056.0  3851.51     -1.091836        0.0  15.575829  0.258824\n",
       "77057   77057.0  3851.56     -3.230857        0.0  15.642015  0.258824\n",
       "77058   77058.0  3851.61      0.253091        0.0  15.710250  0.258824\n",
       "77059   77059.0  3851.66      1.946951        0.0  15.749563  0.258824\n",
       "77060   77060.0  3851.71      2.043574        0.0  15.808795  0.258824"
      ]
     },
     "execution_count": 137,
     "metadata": {},
     "output_type": "execute_result"
    }
   ],
   "source": [
    "log7[log7.times < log7.times.max()-70].tail()"
   ]
  },
  {
   "cell_type": "code",
   "execution_count": 138,
   "metadata": {},
   "outputs": [
    {
     "data": {
      "text/plain": [
       "(74060, 6)"
      ]
     },
     "execution_count": 138,
     "metadata": {},
     "output_type": "execute_result"
    }
   ],
   "source": [
    "log7 = log7.iloc[3000:77060].reset_index(drop=True)\n",
    "log7.to_csv('./datasets/log7_cleaned.csv', index=False)\n",
    "log7.shape"
   ]
  },
  {
   "cell_type": "code",
   "execution_count": 139,
   "metadata": {},
   "outputs": [
    {
     "data": {
      "text/plain": [
       "(74060, 80, 160)"
      ]
     },
     "execution_count": 139,
     "metadata": {},
     "output_type": "execute_result"
    }
   ],
   "source": [
    "camera7 = camera7[3000:77060]\n",
    "camera7.shape"
   ]
  },
  {
   "cell_type": "code",
   "execution_count": 140,
   "metadata": {},
   "outputs": [],
   "source": [
    "savez_compressed('./datasets/camera7_cleaned.npz', camera7)"
   ]
  },
  {
   "cell_type": "markdown",
   "metadata": {},
   "source": [
    "### Camera8 and log8"
   ]
  },
  {
   "cell_type": "code",
   "execution_count": 14,
   "metadata": {},
   "outputs": [],
   "source": [
    "camera8 = h5py.File('./datasets/camera/2016-04-21--14-48-08.h5', 'r')\n",
    "log8 = h5py.File('./datasets/log/2016-04-21--14-48-08.h5', 'r')"
   ]
  },
  {
   "cell_type": "code",
   "execution_count": 15,
   "metadata": {},
   "outputs": [],
   "source": [
    "log8 = log_file(log8)"
   ]
  },
  {
   "cell_type": "code",
   "execution_count": 16,
   "metadata": {},
   "outputs": [],
   "source": [
    "camera8 = camera8['X']"
   ]
  },
  {
   "cell_type": "code",
   "execution_count": 17,
   "metadata": {},
   "outputs": [],
   "source": [
    "camera8 = camera_file(camera8, 0, camera8.shape[0])\n",
    "imageio.mimwrite('./video/camera8.mp4', camera8, fps = 20.0)"
   ]
  },
  {
   "cell_type": "code",
   "execution_count": 18,
   "metadata": {},
   "outputs": [
    {
     "data": {
      "text/html": [
       "<div>\n",
       "<style scoped>\n",
       "    .dataframe tbody tr th:only-of-type {\n",
       "        vertical-align: middle;\n",
       "    }\n",
       "\n",
       "    .dataframe tbody tr th {\n",
       "        vertical-align: top;\n",
       "    }\n",
       "\n",
       "    .dataframe thead th {\n",
       "        text-align: right;\n",
       "    }\n",
       "</style>\n",
       "<table border=\"1\" class=\"dataframe\">\n",
       "  <thead>\n",
       "    <tr style=\"text-align: right;\">\n",
       "      <th></th>\n",
       "      <th>cam1_ptr</th>\n",
       "      <th>times</th>\n",
       "      <th>steering_avg</th>\n",
       "      <th>brake_avg</th>\n",
       "      <th>speed_avg</th>\n",
       "      <th>gas_avg</th>\n",
       "    </tr>\n",
       "  </thead>\n",
       "  <tbody>\n",
       "    <tr>\n",
       "      <th>1400</th>\n",
       "      <td>1400.0</td>\n",
       "      <td>70.04</td>\n",
       "      <td>0.406945</td>\n",
       "      <td>607.906215</td>\n",
       "      <td>6.204124</td>\n",
       "      <td>0.0</td>\n",
       "    </tr>\n",
       "    <tr>\n",
       "      <th>1401</th>\n",
       "      <td>1401.0</td>\n",
       "      <td>70.09</td>\n",
       "      <td>0.220322</td>\n",
       "      <td>609.986595</td>\n",
       "      <td>6.191570</td>\n",
       "      <td>0.0</td>\n",
       "    </tr>\n",
       "    <tr>\n",
       "      <th>1402</th>\n",
       "      <td>1402.0</td>\n",
       "      <td>70.14</td>\n",
       "      <td>-0.180785</td>\n",
       "      <td>616.506152</td>\n",
       "      <td>6.187164</td>\n",
       "      <td>0.0</td>\n",
       "    </tr>\n",
       "    <tr>\n",
       "      <th>1403</th>\n",
       "      <td>1403.0</td>\n",
       "      <td>70.19</td>\n",
       "      <td>0.010428</td>\n",
       "      <td>622.639021</td>\n",
       "      <td>6.180739</td>\n",
       "      <td>0.0</td>\n",
       "    </tr>\n",
       "    <tr>\n",
       "      <th>1404</th>\n",
       "      <td>1404.0</td>\n",
       "      <td>70.24</td>\n",
       "      <td>0.013387</td>\n",
       "      <td>607.037863</td>\n",
       "      <td>6.182588</td>\n",
       "      <td>0.0</td>\n",
       "    </tr>\n",
       "  </tbody>\n",
       "</table>\n",
       "</div>"
      ],
      "text/plain": [
       "      cam1_ptr  times  steering_avg   brake_avg  speed_avg  gas_avg\n",
       "1400    1400.0  70.04      0.406945  607.906215   6.204124      0.0\n",
       "1401    1401.0  70.09      0.220322  609.986595   6.191570      0.0\n",
       "1402    1402.0  70.14     -0.180785  616.506152   6.187164      0.0\n",
       "1403    1403.0  70.19      0.010428  622.639021   6.180739      0.0\n",
       "1404    1404.0  70.24      0.013387  607.037863   6.182588      0.0"
      ]
     },
     "execution_count": 18,
     "metadata": {},
     "output_type": "execute_result"
    }
   ],
   "source": [
    "log8[log8.times > 70].head()"
   ]
  },
  {
   "cell_type": "code",
   "execution_count": 19,
   "metadata": {},
   "outputs": [
    {
     "data": {
      "text/html": [
       "<div>\n",
       "<style scoped>\n",
       "    .dataframe tbody tr th:only-of-type {\n",
       "        vertical-align: middle;\n",
       "    }\n",
       "\n",
       "    .dataframe tbody tr th {\n",
       "        vertical-align: top;\n",
       "    }\n",
       "\n",
       "    .dataframe thead th {\n",
       "        text-align: right;\n",
       "    }\n",
       "</style>\n",
       "<table border=\"1\" class=\"dataframe\">\n",
       "  <thead>\n",
       "    <tr style=\"text-align: right;\">\n",
       "      <th></th>\n",
       "      <th>cam1_ptr</th>\n",
       "      <th>times</th>\n",
       "      <th>steering_avg</th>\n",
       "      <th>brake_avg</th>\n",
       "      <th>speed_avg</th>\n",
       "      <th>gas_avg</th>\n",
       "    </tr>\n",
       "  </thead>\n",
       "  <tbody>\n",
       "    <tr>\n",
       "      <th>29132</th>\n",
       "      <td>29132.0</td>\n",
       "      <td>1456.20</td>\n",
       "      <td>-0.775128</td>\n",
       "      <td>0.0</td>\n",
       "      <td>1.855999</td>\n",
       "      <td>0.098039</td>\n",
       "    </tr>\n",
       "    <tr>\n",
       "      <th>29133</th>\n",
       "      <td>29133.0</td>\n",
       "      <td>1456.25</td>\n",
       "      <td>0.773033</td>\n",
       "      <td>0.0</td>\n",
       "      <td>1.899578</td>\n",
       "      <td>0.098039</td>\n",
       "    </tr>\n",
       "    <tr>\n",
       "      <th>29134</th>\n",
       "      <td>29134.0</td>\n",
       "      <td>1456.30</td>\n",
       "      <td>-0.112215</td>\n",
       "      <td>0.0</td>\n",
       "      <td>1.955481</td>\n",
       "      <td>0.098039</td>\n",
       "    </tr>\n",
       "    <tr>\n",
       "      <th>29135</th>\n",
       "      <td>29135.0</td>\n",
       "      <td>1456.35</td>\n",
       "      <td>0.013716</td>\n",
       "      <td>0.0</td>\n",
       "      <td>1.973204</td>\n",
       "      <td>0.098039</td>\n",
       "    </tr>\n",
       "    <tr>\n",
       "      <th>29136</th>\n",
       "      <td>29136.0</td>\n",
       "      <td>1456.39</td>\n",
       "      <td>0.134344</td>\n",
       "      <td>0.0</td>\n",
       "      <td>2.034189</td>\n",
       "      <td>0.098039</td>\n",
       "    </tr>\n",
       "  </tbody>\n",
       "</table>\n",
       "</div>"
      ],
      "text/plain": [
       "       cam1_ptr    times  steering_avg  brake_avg  speed_avg   gas_avg\n",
       "29132   29132.0  1456.20     -0.775128        0.0   1.855999  0.098039\n",
       "29133   29133.0  1456.25      0.773033        0.0   1.899578  0.098039\n",
       "29134   29134.0  1456.30     -0.112215        0.0   1.955481  0.098039\n",
       "29135   29135.0  1456.35      0.013716        0.0   1.973204  0.098039\n",
       "29136   29136.0  1456.39      0.134344        0.0   2.034189  0.098039"
      ]
     },
     "execution_count": 19,
     "metadata": {},
     "output_type": "execute_result"
    }
   ],
   "source": [
    "log8[log8.times < log8.times.max()-70].tail()"
   ]
  },
  {
   "cell_type": "code",
   "execution_count": 20,
   "metadata": {},
   "outputs": [
    {
     "data": {
      "text/plain": [
       "(27736, 6)"
      ]
     },
     "execution_count": 20,
     "metadata": {},
     "output_type": "execute_result"
    }
   ],
   "source": [
    "log8 = log8.iloc[1400:29136].reset_index(drop=True)\n",
    "log8.to_csv('./datasets/log8_cleaned.csv', index=False)\n",
    "log8.shape"
   ]
  },
  {
   "cell_type": "code",
   "execution_count": 21,
   "metadata": {},
   "outputs": [
    {
     "data": {
      "text/plain": [
       "(27736, 80, 160)"
      ]
     },
     "execution_count": 21,
     "metadata": {},
     "output_type": "execute_result"
    }
   ],
   "source": [
    "camera8 = camera8[1400:29136]\n",
    "camera8.shape"
   ]
  },
  {
   "cell_type": "code",
   "execution_count": 22,
   "metadata": {},
   "outputs": [],
   "source": [
    "savez_compressed('./datasets/camera8_cleaned.npz', camera8)"
   ]
  },
  {
   "cell_type": "markdown",
   "metadata": {},
   "source": [
    "### Camera9 and log9"
   ]
  },
  {
   "cell_type": "code",
   "execution_count": 141,
   "metadata": {},
   "outputs": [],
   "source": [
    "camera9 = h5py.File('./datasets/camera/2016-05-12--22-20-00.h5', 'r')\n",
    "log9 = h5py.File('./datasets/log/2016-05-12--22-20-00.h5', 'r')"
   ]
  },
  {
   "cell_type": "code",
   "execution_count": 142,
   "metadata": {},
   "outputs": [],
   "source": [
    "log9 = log_file(log9)"
   ]
  },
  {
   "cell_type": "code",
   "execution_count": 143,
   "metadata": {},
   "outputs": [],
   "source": [
    "camera9 = camera9['X']"
   ]
  },
  {
   "cell_type": "code",
   "execution_count": 144,
   "metadata": {},
   "outputs": [],
   "source": [
    "camera9 = camera_file(camera9, 0, camera9.shape[0])\n",
    "imageio.mimwrite('./video/camera9.mp4', camera9, fps = 20.0)"
   ]
  },
  {
   "cell_type": "code",
   "execution_count": 145,
   "metadata": {},
   "outputs": [
    {
     "data": {
      "text/html": [
       "<div>\n",
       "<style scoped>\n",
       "    .dataframe tbody tr th:only-of-type {\n",
       "        vertical-align: middle;\n",
       "    }\n",
       "\n",
       "    .dataframe tbody tr th {\n",
       "        vertical-align: top;\n",
       "    }\n",
       "\n",
       "    .dataframe thead th {\n",
       "        text-align: right;\n",
       "    }\n",
       "</style>\n",
       "<table border=\"1\" class=\"dataframe\">\n",
       "  <thead>\n",
       "    <tr style=\"text-align: right;\">\n",
       "      <th></th>\n",
       "      <th>cam1_ptr</th>\n",
       "      <th>times</th>\n",
       "      <th>steering_avg</th>\n",
       "      <th>brake_avg</th>\n",
       "      <th>speed_avg</th>\n",
       "      <th>gas_avg</th>\n",
       "    </tr>\n",
       "  </thead>\n",
       "  <tbody>\n",
       "    <tr>\n",
       "      <th>2400</th>\n",
       "      <td>2400.0</td>\n",
       "      <td>120.01</td>\n",
       "      <td>-28.901395</td>\n",
       "      <td>233.592441</td>\n",
       "      <td>6.332134</td>\n",
       "      <td>0.0</td>\n",
       "    </tr>\n",
       "    <tr>\n",
       "      <th>2401</th>\n",
       "      <td>2401.0</td>\n",
       "      <td>120.06</td>\n",
       "      <td>-18.723807</td>\n",
       "      <td>257.262412</td>\n",
       "      <td>6.357617</td>\n",
       "      <td>0.0</td>\n",
       "    </tr>\n",
       "    <tr>\n",
       "      <th>2402</th>\n",
       "      <td>2402.0</td>\n",
       "      <td>120.11</td>\n",
       "      <td>-8.770911</td>\n",
       "      <td>274.869818</td>\n",
       "      <td>6.409500</td>\n",
       "      <td>0.0</td>\n",
       "    </tr>\n",
       "    <tr>\n",
       "      <th>2403</th>\n",
       "      <td>2403.0</td>\n",
       "      <td>120.16</td>\n",
       "      <td>-7.118279</td>\n",
       "      <td>294.083416</td>\n",
       "      <td>6.515465</td>\n",
       "      <td>0.0</td>\n",
       "    </tr>\n",
       "    <tr>\n",
       "      <th>2404</th>\n",
       "      <td>2404.0</td>\n",
       "      <td>120.21</td>\n",
       "      <td>-12.307175</td>\n",
       "      <td>326.280401</td>\n",
       "      <td>6.593528</td>\n",
       "      <td>0.0</td>\n",
       "    </tr>\n",
       "  </tbody>\n",
       "</table>\n",
       "</div>"
      ],
      "text/plain": [
       "      cam1_ptr   times  steering_avg   brake_avg  speed_avg  gas_avg\n",
       "2400    2400.0  120.01    -28.901395  233.592441   6.332134      0.0\n",
       "2401    2401.0  120.06    -18.723807  257.262412   6.357617      0.0\n",
       "2402    2402.0  120.11     -8.770911  274.869818   6.409500      0.0\n",
       "2403    2403.0  120.16     -7.118279  294.083416   6.515465      0.0\n",
       "2404    2404.0  120.21    -12.307175  326.280401   6.593528      0.0"
      ]
     },
     "execution_count": 145,
     "metadata": {},
     "output_type": "execute_result"
    }
   ],
   "source": [
    "log9[log9.times > 120].head()"
   ]
  },
  {
   "cell_type": "code",
   "execution_count": 146,
   "metadata": {},
   "outputs": [
    {
     "data": {
      "text/html": [
       "<div>\n",
       "<style scoped>\n",
       "    .dataframe tbody tr th:only-of-type {\n",
       "        vertical-align: middle;\n",
       "    }\n",
       "\n",
       "    .dataframe tbody tr th {\n",
       "        vertical-align: top;\n",
       "    }\n",
       "\n",
       "    .dataframe thead th {\n",
       "        text-align: right;\n",
       "    }\n",
       "</style>\n",
       "<table border=\"1\" class=\"dataframe\">\n",
       "  <thead>\n",
       "    <tr style=\"text-align: right;\">\n",
       "      <th></th>\n",
       "      <th>cam1_ptr</th>\n",
       "      <th>times</th>\n",
       "      <th>steering_avg</th>\n",
       "      <th>brake_avg</th>\n",
       "      <th>speed_avg</th>\n",
       "      <th>gas_avg</th>\n",
       "    </tr>\n",
       "  </thead>\n",
       "  <tbody>\n",
       "    <tr>\n",
       "      <th>50286</th>\n",
       "      <td>50286.0</td>\n",
       "      <td>2514.73</td>\n",
       "      <td>-0.617118</td>\n",
       "      <td>0.0</td>\n",
       "      <td>11.514057</td>\n",
       "      <td>0.093046</td>\n",
       "    </tr>\n",
       "    <tr>\n",
       "      <th>50287</th>\n",
       "      <td>50287.0</td>\n",
       "      <td>2514.78</td>\n",
       "      <td>0.003163</td>\n",
       "      <td>0.0</td>\n",
       "      <td>11.501566</td>\n",
       "      <td>0.085547</td>\n",
       "    </tr>\n",
       "    <tr>\n",
       "      <th>50288</th>\n",
       "      <td>50288.0</td>\n",
       "      <td>2514.83</td>\n",
       "      <td>-1.139109</td>\n",
       "      <td>0.0</td>\n",
       "      <td>11.502228</td>\n",
       "      <td>0.082353</td>\n",
       "    </tr>\n",
       "    <tr>\n",
       "      <th>50289</th>\n",
       "      <td>50289.0</td>\n",
       "      <td>2514.88</td>\n",
       "      <td>0.005752</td>\n",
       "      <td>0.0</td>\n",
       "      <td>11.507047</td>\n",
       "      <td>0.078867</td>\n",
       "    </tr>\n",
       "    <tr>\n",
       "      <th>50290</th>\n",
       "      <td>50290.0</td>\n",
       "      <td>2514.93</td>\n",
       "      <td>-2.081129</td>\n",
       "      <td>0.0</td>\n",
       "      <td>11.531549</td>\n",
       "      <td>0.074628</td>\n",
       "    </tr>\n",
       "  </tbody>\n",
       "</table>\n",
       "</div>"
      ],
      "text/plain": [
       "       cam1_ptr    times  steering_avg  brake_avg  speed_avg   gas_avg\n",
       "50286   50286.0  2514.73     -0.617118        0.0  11.514057  0.093046\n",
       "50287   50287.0  2514.78      0.003163        0.0  11.501566  0.085547\n",
       "50288   50288.0  2514.83     -1.139109        0.0  11.502228  0.082353\n",
       "50289   50289.0  2514.88      0.005752        0.0  11.507047  0.078867\n",
       "50290   50290.0  2514.93     -2.081129        0.0  11.531549  0.074628"
      ]
     },
     "execution_count": 146,
     "metadata": {},
     "output_type": "execute_result"
    }
   ],
   "source": [
    "log9[log9.times < log9.times.max()-70].tail()"
   ]
  },
  {
   "cell_type": "code",
   "execution_count": 147,
   "metadata": {},
   "outputs": [
    {
     "data": {
      "text/plain": [
       "(47890, 6)"
      ]
     },
     "execution_count": 147,
     "metadata": {},
     "output_type": "execute_result"
    }
   ],
   "source": [
    "log9 = log9.iloc[2400:50290].reset_index(drop=True)\n",
    "log9.to_csv('./datasets/log9_cleaned.csv', index=False)\n",
    "log9.shape"
   ]
  },
  {
   "cell_type": "code",
   "execution_count": 148,
   "metadata": {},
   "outputs": [
    {
     "data": {
      "text/plain": [
       "(47890, 80, 160)"
      ]
     },
     "execution_count": 148,
     "metadata": {},
     "output_type": "execute_result"
    }
   ],
   "source": [
    "camera9 = camera9[2400:50290]\n",
    "camera9.shape"
   ]
  },
  {
   "cell_type": "code",
   "execution_count": 149,
   "metadata": {},
   "outputs": [],
   "source": [
    "savez_compressed('./datasets/camera9_cleaned.npz', camera9)"
   ]
  },
  {
   "cell_type": "markdown",
   "metadata": {},
   "source": [
    "### Camera10 and log10"
   ]
  },
  {
   "cell_type": "code",
   "execution_count": 229,
   "metadata": {},
   "outputs": [],
   "source": [
    "camera10 = h5py.File('./datasets/camera/2016-06-02--21-39-29.h5', 'r')\n",
    "log10 = h5py.File('./datasets/log/2016-06-02--21-39-29.h5', 'r')"
   ]
  },
  {
   "cell_type": "code",
   "execution_count": 205,
   "metadata": {},
   "outputs": [],
   "source": [
    "log10 = log_file(log10)"
   ]
  },
  {
   "cell_type": "code",
   "execution_count": 230,
   "metadata": {},
   "outputs": [],
   "source": [
    "camera10 = camera10['X']"
   ]
  },
  {
   "cell_type": "code",
   "execution_count": 231,
   "metadata": {},
   "outputs": [],
   "source": [
    "camera10 = camera_file(camera10, 0, camera10.shape[0])\n",
    "imageio.mimwrite('./video/camera10.mp4', camera10, fps = 20.0)"
   ]
  },
  {
   "cell_type": "code",
   "execution_count": 208,
   "metadata": {},
   "outputs": [
    {
     "data": {
      "text/html": [
       "<div>\n",
       "<style scoped>\n",
       "    .dataframe tbody tr th:only-of-type {\n",
       "        vertical-align: middle;\n",
       "    }\n",
       "\n",
       "    .dataframe tbody tr th {\n",
       "        vertical-align: top;\n",
       "    }\n",
       "\n",
       "    .dataframe thead th {\n",
       "        text-align: right;\n",
       "    }\n",
       "</style>\n",
       "<table border=\"1\" class=\"dataframe\">\n",
       "  <thead>\n",
       "    <tr style=\"text-align: right;\">\n",
       "      <th></th>\n",
       "      <th>cam1_ptr</th>\n",
       "      <th>times</th>\n",
       "      <th>steering_avg</th>\n",
       "      <th>brake_avg</th>\n",
       "      <th>speed_avg</th>\n",
       "      <th>gas_avg</th>\n",
       "    </tr>\n",
       "  </thead>\n",
       "  <tbody>\n",
       "    <tr>\n",
       "      <th>2399</th>\n",
       "      <td>2399.0</td>\n",
       "      <td>120.01</td>\n",
       "      <td>0.201052</td>\n",
       "      <td>462.421705</td>\n",
       "      <td>7.378796</td>\n",
       "      <td>0.0</td>\n",
       "    </tr>\n",
       "    <tr>\n",
       "      <th>2400</th>\n",
       "      <td>2400.0</td>\n",
       "      <td>120.06</td>\n",
       "      <td>-1.410137</td>\n",
       "      <td>464.000000</td>\n",
       "      <td>7.460840</td>\n",
       "      <td>0.0</td>\n",
       "    </tr>\n",
       "    <tr>\n",
       "      <th>2401</th>\n",
       "      <td>2401.0</td>\n",
       "      <td>120.11</td>\n",
       "      <td>0.084105</td>\n",
       "      <td>464.000000</td>\n",
       "      <td>7.429977</td>\n",
       "      <td>0.0</td>\n",
       "    </tr>\n",
       "    <tr>\n",
       "      <th>2402</th>\n",
       "      <td>2402.0</td>\n",
       "      <td>120.16</td>\n",
       "      <td>0.180733</td>\n",
       "      <td>464.000000</td>\n",
       "      <td>7.437831</td>\n",
       "      <td>0.0</td>\n",
       "    </tr>\n",
       "    <tr>\n",
       "      <th>2403</th>\n",
       "      <td>2403.0</td>\n",
       "      <td>120.21</td>\n",
       "      <td>0.179653</td>\n",
       "      <td>464.000000</td>\n",
       "      <td>7.480218</td>\n",
       "      <td>0.0</td>\n",
       "    </tr>\n",
       "  </tbody>\n",
       "</table>\n",
       "</div>"
      ],
      "text/plain": [
       "      cam1_ptr   times  steering_avg   brake_avg  speed_avg  gas_avg\n",
       "2399    2399.0  120.01      0.201052  462.421705   7.378796      0.0\n",
       "2400    2400.0  120.06     -1.410137  464.000000   7.460840      0.0\n",
       "2401    2401.0  120.11      0.084105  464.000000   7.429977      0.0\n",
       "2402    2402.0  120.16      0.180733  464.000000   7.437831      0.0\n",
       "2403    2403.0  120.21      0.179653  464.000000   7.480218      0.0"
      ]
     },
     "execution_count": 208,
     "metadata": {},
     "output_type": "execute_result"
    }
   ],
   "source": [
    "log10[log10.times > 120].head()"
   ]
  },
  {
   "cell_type": "code",
   "execution_count": 209,
   "metadata": {},
   "outputs": [
    {
     "data": {
      "text/html": [
       "<div>\n",
       "<style scoped>\n",
       "    .dataframe tbody tr th:only-of-type {\n",
       "        vertical-align: middle;\n",
       "    }\n",
       "\n",
       "    .dataframe tbody tr th {\n",
       "        vertical-align: top;\n",
       "    }\n",
       "\n",
       "    .dataframe thead th {\n",
       "        text-align: right;\n",
       "    }\n",
       "</style>\n",
       "<table border=\"1\" class=\"dataframe\">\n",
       "  <thead>\n",
       "    <tr style=\"text-align: right;\">\n",
       "      <th></th>\n",
       "      <th>cam1_ptr</th>\n",
       "      <th>times</th>\n",
       "      <th>steering_avg</th>\n",
       "      <th>brake_avg</th>\n",
       "      <th>speed_avg</th>\n",
       "      <th>gas_avg</th>\n",
       "    </tr>\n",
       "  </thead>\n",
       "  <tbody>\n",
       "    <tr>\n",
       "      <th>43369</th>\n",
       "      <td>43369.0</td>\n",
       "      <td>2168.70</td>\n",
       "      <td>0.163732</td>\n",
       "      <td>0.0</td>\n",
       "      <td>26.755155</td>\n",
       "      <td>0.137146</td>\n",
       "    </tr>\n",
       "    <tr>\n",
       "      <th>43370</th>\n",
       "      <td>43370.0</td>\n",
       "      <td>2168.75</td>\n",
       "      <td>-0.185741</td>\n",
       "      <td>0.0</td>\n",
       "      <td>26.713901</td>\n",
       "      <td>0.126673</td>\n",
       "    </tr>\n",
       "    <tr>\n",
       "      <th>43371</th>\n",
       "      <td>43371.0</td>\n",
       "      <td>2168.80</td>\n",
       "      <td>1.384092</td>\n",
       "      <td>0.0</td>\n",
       "      <td>26.713304</td>\n",
       "      <td>0.128074</td>\n",
       "    </tr>\n",
       "    <tr>\n",
       "      <th>43372</th>\n",
       "      <td>43372.0</td>\n",
       "      <td>2168.85</td>\n",
       "      <td>0.055058</td>\n",
       "      <td>0.0</td>\n",
       "      <td>26.714593</td>\n",
       "      <td>0.129913</td>\n",
       "    </tr>\n",
       "    <tr>\n",
       "      <th>43373</th>\n",
       "      <td>43373.0</td>\n",
       "      <td>2168.90</td>\n",
       "      <td>0.715211</td>\n",
       "      <td>0.0</td>\n",
       "      <td>26.704682</td>\n",
       "      <td>0.123805</td>\n",
       "    </tr>\n",
       "  </tbody>\n",
       "</table>\n",
       "</div>"
      ],
      "text/plain": [
       "       cam1_ptr    times  steering_avg  brake_avg  speed_avg   gas_avg\n",
       "43369   43369.0  2168.70      0.163732        0.0  26.755155  0.137146\n",
       "43370   43370.0  2168.75     -0.185741        0.0  26.713901  0.126673\n",
       "43371   43371.0  2168.80      1.384092        0.0  26.713304  0.128074\n",
       "43372   43372.0  2168.85      0.055058        0.0  26.714593  0.129913\n",
       "43373   43373.0  2168.90      0.715211        0.0  26.704682  0.123805"
      ]
     },
     "execution_count": 209,
     "metadata": {},
     "output_type": "execute_result"
    }
   ],
   "source": [
    "log10[log10.times < log10.times.max()-70].tail()"
   ]
  },
  {
   "cell_type": "code",
   "execution_count": 210,
   "metadata": {},
   "outputs": [],
   "source": [
    "log10 = log10.iloc[2399:43373].reset_index(drop=True)"
   ]
  },
  {
   "cell_type": "code",
   "execution_count": 211,
   "metadata": {},
   "outputs": [
    {
     "data": {
      "text/plain": [
       "(40974, 6)"
      ]
     },
     "execution_count": 211,
     "metadata": {},
     "output_type": "execute_result"
    }
   ],
   "source": [
    "log10.shape"
   ]
  },
  {
   "cell_type": "code",
   "execution_count": 243,
   "metadata": {},
   "outputs": [],
   "source": [
    "camera10 = camera10[2399:43373]"
   ]
  },
  {
   "cell_type": "code",
   "execution_count": 213,
   "metadata": {},
   "outputs": [
    {
     "data": {
      "text/plain": [
       "(40974, 80, 160)"
      ]
     },
     "execution_count": 213,
     "metadata": {},
     "output_type": "execute_result"
    }
   ],
   "source": [
    "camera10.shape"
   ]
  },
  {
   "cell_type": "code",
   "execution_count": 214,
   "metadata": {},
   "outputs": [],
   "source": [
    "log10.to_csv('./datasets/log10_cleaned.csv', index=False)"
   ]
  },
  {
   "cell_type": "code",
   "execution_count": 245,
   "metadata": {},
   "outputs": [],
   "source": [
    "savez_compressed('./datasets/camera10_cleaned.npz', camera10)"
   ]
  },
  {
   "cell_type": "markdown",
   "metadata": {},
   "source": [
    "### Camera11 and log11"
   ]
  },
  {
   "cell_type": "code",
   "execution_count": 226,
   "metadata": {},
   "outputs": [],
   "source": [
    "camera11 = h5py.File('./datasets/camera/2016-06-08--11-46-01.h5', 'r')\n",
    "log11 = h5py.File('./datasets/log/2016-06-08--11-46-01.h5', 'r')"
   ]
  },
  {
   "cell_type": "code",
   "execution_count": 233,
   "metadata": {},
   "outputs": [],
   "source": [
    "log11 = log_file(log11)"
   ]
  },
  {
   "cell_type": "code",
   "execution_count": 227,
   "metadata": {},
   "outputs": [],
   "source": [
    "camera11 = camera11['X']"
   ]
  },
  {
   "cell_type": "code",
   "execution_count": 228,
   "metadata": {},
   "outputs": [],
   "source": [
    "camera11 = camera_file(camera11, 0, camera11.shape[0])\n",
    "imageio.mimwrite('./video/camera11.mp4', camera11, fps = 20.0)"
   ]
  },
  {
   "cell_type": "code",
   "execution_count": 234,
   "metadata": {},
   "outputs": [
    {
     "data": {
      "text/html": [
       "<div>\n",
       "<style scoped>\n",
       "    .dataframe tbody tr th:only-of-type {\n",
       "        vertical-align: middle;\n",
       "    }\n",
       "\n",
       "    .dataframe tbody tr th {\n",
       "        vertical-align: top;\n",
       "    }\n",
       "\n",
       "    .dataframe thead th {\n",
       "        text-align: right;\n",
       "    }\n",
       "</style>\n",
       "<table border=\"1\" class=\"dataframe\">\n",
       "  <thead>\n",
       "    <tr style=\"text-align: right;\">\n",
       "      <th></th>\n",
       "      <th>cam1_ptr</th>\n",
       "      <th>times</th>\n",
       "      <th>steering_avg</th>\n",
       "      <th>brake_avg</th>\n",
       "      <th>speed_avg</th>\n",
       "      <th>gas_avg</th>\n",
       "    </tr>\n",
       "  </thead>\n",
       "  <tbody>\n",
       "    <tr>\n",
       "      <th>1200</th>\n",
       "      <td>1200.0</td>\n",
       "      <td>60.04</td>\n",
       "      <td>-1.450913</td>\n",
       "      <td>608.0</td>\n",
       "      <td>6.682120</td>\n",
       "      <td>0.0</td>\n",
       "    </tr>\n",
       "    <tr>\n",
       "      <th>1201</th>\n",
       "      <td>1201.0</td>\n",
       "      <td>60.09</td>\n",
       "      <td>-0.822283</td>\n",
       "      <td>608.0</td>\n",
       "      <td>6.679723</td>\n",
       "      <td>0.0</td>\n",
       "    </tr>\n",
       "    <tr>\n",
       "      <th>1202</th>\n",
       "      <td>1202.0</td>\n",
       "      <td>60.14</td>\n",
       "      <td>-0.388715</td>\n",
       "      <td>608.0</td>\n",
       "      <td>6.695389</td>\n",
       "      <td>0.0</td>\n",
       "    </tr>\n",
       "    <tr>\n",
       "      <th>1203</th>\n",
       "      <td>1203.0</td>\n",
       "      <td>60.19</td>\n",
       "      <td>0.024130</td>\n",
       "      <td>608.0</td>\n",
       "      <td>6.687915</td>\n",
       "      <td>0.0</td>\n",
       "    </tr>\n",
       "    <tr>\n",
       "      <th>1204</th>\n",
       "      <td>1204.0</td>\n",
       "      <td>60.24</td>\n",
       "      <td>1.731728</td>\n",
       "      <td>608.0</td>\n",
       "      <td>6.714185</td>\n",
       "      <td>0.0</td>\n",
       "    </tr>\n",
       "  </tbody>\n",
       "</table>\n",
       "</div>"
      ],
      "text/plain": [
       "      cam1_ptr  times  steering_avg  brake_avg  speed_avg  gas_avg\n",
       "1200    1200.0  60.04     -1.450913      608.0   6.682120      0.0\n",
       "1201    1201.0  60.09     -0.822283      608.0   6.679723      0.0\n",
       "1202    1202.0  60.14     -0.388715      608.0   6.695389      0.0\n",
       "1203    1203.0  60.19      0.024130      608.0   6.687915      0.0\n",
       "1204    1204.0  60.24      1.731728      608.0   6.714185      0.0"
      ]
     },
     "execution_count": 234,
     "metadata": {},
     "output_type": "execute_result"
    }
   ],
   "source": [
    "log11[log11.times > 60].head()"
   ]
  },
  {
   "cell_type": "code",
   "execution_count": 235,
   "metadata": {},
   "outputs": [
    {
     "data": {
      "text/html": [
       "<div>\n",
       "<style scoped>\n",
       "    .dataframe tbody tr th:only-of-type {\n",
       "        vertical-align: middle;\n",
       "    }\n",
       "\n",
       "    .dataframe tbody tr th {\n",
       "        vertical-align: top;\n",
       "    }\n",
       "\n",
       "    .dataframe thead th {\n",
       "        text-align: right;\n",
       "    }\n",
       "</style>\n",
       "<table border=\"1\" class=\"dataframe\">\n",
       "  <thead>\n",
       "    <tr style=\"text-align: right;\">\n",
       "      <th></th>\n",
       "      <th>cam1_ptr</th>\n",
       "      <th>times</th>\n",
       "      <th>steering_avg</th>\n",
       "      <th>brake_avg</th>\n",
       "      <th>speed_avg</th>\n",
       "      <th>gas_avg</th>\n",
       "    </tr>\n",
       "  </thead>\n",
       "  <tbody>\n",
       "    <tr>\n",
       "      <th>16971</th>\n",
       "      <td>16971.0</td>\n",
       "      <td>848.39</td>\n",
       "      <td>4.275723</td>\n",
       "      <td>0.0</td>\n",
       "      <td>6.035454</td>\n",
       "      <td>0.178173</td>\n",
       "    </tr>\n",
       "    <tr>\n",
       "      <th>16972</th>\n",
       "      <td>16972.0</td>\n",
       "      <td>848.44</td>\n",
       "      <td>2.616344</td>\n",
       "      <td>0.0</td>\n",
       "      <td>5.999692</td>\n",
       "      <td>0.177968</td>\n",
       "    </tr>\n",
       "    <tr>\n",
       "      <th>16973</th>\n",
       "      <td>16973.0</td>\n",
       "      <td>848.49</td>\n",
       "      <td>8.075806</td>\n",
       "      <td>0.0</td>\n",
       "      <td>6.001179</td>\n",
       "      <td>0.179788</td>\n",
       "    </tr>\n",
       "    <tr>\n",
       "      <th>16974</th>\n",
       "      <td>16974.0</td>\n",
       "      <td>848.54</td>\n",
       "      <td>1.241898</td>\n",
       "      <td>0.0</td>\n",
       "      <td>5.984571</td>\n",
       "      <td>0.180392</td>\n",
       "    </tr>\n",
       "    <tr>\n",
       "      <th>16975</th>\n",
       "      <td>16975.0</td>\n",
       "      <td>848.59</td>\n",
       "      <td>0.140996</td>\n",
       "      <td>0.0</td>\n",
       "      <td>5.982542</td>\n",
       "      <td>0.180392</td>\n",
       "    </tr>\n",
       "  </tbody>\n",
       "</table>\n",
       "</div>"
      ],
      "text/plain": [
       "       cam1_ptr   times  steering_avg  brake_avg  speed_avg   gas_avg\n",
       "16971   16971.0  848.39      4.275723        0.0   6.035454  0.178173\n",
       "16972   16972.0  848.44      2.616344        0.0   5.999692  0.177968\n",
       "16973   16973.0  848.49      8.075806        0.0   6.001179  0.179788\n",
       "16974   16974.0  848.54      1.241898        0.0   5.984571  0.180392\n",
       "16975   16975.0  848.59      0.140996        0.0   5.982542  0.180392"
      ]
     },
     "execution_count": 235,
     "metadata": {},
     "output_type": "execute_result"
    }
   ],
   "source": [
    "log11[log11.times < log11.times.max()-60].tail()"
   ]
  },
  {
   "cell_type": "code",
   "execution_count": 236,
   "metadata": {},
   "outputs": [],
   "source": [
    "log11 = log11.iloc[1200:16975].reset_index(drop=True)"
   ]
  },
  {
   "cell_type": "code",
   "execution_count": 237,
   "metadata": {},
   "outputs": [
    {
     "data": {
      "text/plain": [
       "(15775, 6)"
      ]
     },
     "execution_count": 237,
     "metadata": {},
     "output_type": "execute_result"
    }
   ],
   "source": [
    "log11.shape"
   ]
  },
  {
   "cell_type": "code",
   "execution_count": 238,
   "metadata": {},
   "outputs": [],
   "source": [
    "camera11 = camera11[1200:16975]"
   ]
  },
  {
   "cell_type": "code",
   "execution_count": 239,
   "metadata": {},
   "outputs": [
    {
     "data": {
      "text/plain": [
       "(15775, 80, 160)"
      ]
     },
     "execution_count": 239,
     "metadata": {},
     "output_type": "execute_result"
    }
   ],
   "source": [
    "camera11.shape"
   ]
  },
  {
   "cell_type": "code",
   "execution_count": 240,
   "metadata": {},
   "outputs": [],
   "source": [
    "log11.to_csv('./datasets/log11_cleaned.csv', index=False)"
   ]
  },
  {
   "cell_type": "code",
   "execution_count": 241,
   "metadata": {},
   "outputs": [],
   "source": [
    "savez_compressed('./datasets/camera11_cleaned.npz', camera11)"
   ]
  },
  {
   "cell_type": "markdown",
   "metadata": {},
   "source": [
    "## End of Notebook 01: EDA proceed to Notebook 02: Modeling"
   ]
  }
 ],
 "metadata": {
  "kernelspec": {
   "display_name": "Python 3",
   "language": "python",
   "name": "python3"
  },
  "language_info": {
   "codemirror_mode": {
    "name": "ipython",
    "version": 3
   },
   "file_extension": ".py",
   "mimetype": "text/x-python",
   "name": "python",
   "nbconvert_exporter": "python",
   "pygments_lexer": "ipython3",
   "version": "3.7.6"
  }
 },
 "nbformat": 4,
 "nbformat_minor": 4
}
